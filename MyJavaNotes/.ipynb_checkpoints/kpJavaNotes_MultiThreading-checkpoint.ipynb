{
 "cells": [
  {
   "cell_type": "markdown",
   "metadata": {},
   "source": [
    "## Table Of Contents\n",
    "* [Concurrency in Swing](#concurrency_in_swing)\n",
    "* [Initial Threads](#initial_threads)\n",
    "* [Event Dispatch Threads](#event_dispatch_threads)\n",
    "* [Worker Threads](#worker_threads)\n",
    "* [](#)"
   ]
  },
  {
   "cell_type": "markdown",
   "metadata": {},
   "source": [
    "<a id='concurrency_in_swing'></a>\n",
    "## Lesson: Concurrency in Swing\n",
    "\n",
    "(Reference: https://docs.oracle.com/javase/tutorial/uiswing/concurrency/index.html)\n",
    "\n",
    "This lesson discusses concurrency as it applies to Swing programming. It assumes that you are already familiar with the content of the Concurrency lesson in the Essential Classes trail.\n",
    "\n",
    "Careful use of concurrency is particularly important to the Swing programmer. A well-written Swing program uses concurrency to create a user interface that never \"freezes\" — the program is always responsive to user interaction, no matter what it's doing. To create a responsive program, the programmer must learn how the Swing framework employs threads.\n",
    "\n",
    "A Swing programmer deals with the following kinds of threads:\n",
    "\n",
    "*    **Initial threads**, the threads that execute initial application code.\n",
    "*    The **event dispatch thread**, where all event-handling code is executed. Most code that interacts with the Swing framework must also execute on this thread.\n",
    "*    **Worker threads**, also known as background threads, where time-consuming background tasks are executed.\n",
    "\n",
    "The programmer does not need to provide code that explicitly creates these threads: they are provided by the runtime or the Swing framework. The programmer's job is to utilize these threads to create a responsive, maintainable Swing program.\n",
    "\n",
    "Like any other program running on the Java platform, a Swing program can create additional threads and thread pools, using the tools described in the Concurrency lesson. But for basic Swing programs the threads described here are sufficient.\n",
    "\n",
    "This lesson discusses each of the three kinds of threads in turn. Worker threads require the most discussion because tasks that run on them are created using javax.swing.SwingWorker. This class has many useful features, including communication and coordination between worker thread tasks and the tasks on other threads."
   ]
  },
  {
   "cell_type": "markdown",
   "metadata": {},
   "source": [
    "<a id='_threads'></a>\n",
    "## Initial Threads\n",
    "\n",
    "\n",
    "Every program (kp: standard program or an applet program) has a set of threads where the application logic begins. In standard (kp: meaning 'non-applet') programs, there's only one such thread: the thread that invokes the main method of the program class. In applets (kp: meaning 'non-standard programs') the initial threads are the ones that construct the applet object and invoke its init and start methods; these actions may occur on a single thread, or on two or three different threads, depending on the Java platform implementation. In this lesson, we call these threads the initial threads.\n",
    "\n",
    "======== KP Summary =====\n",
    "* Standard programs have only one initial thread (the one which invokes the main method).\n",
    "* Applets (non-standard programs) can have more than one such threads\n",
    "\n",
    "========\n",
    "\n",
    "In Swing programs, the **initial threads don't have a lot to do. Their most essential job is to create a Runnable object that initializes the GUI and schedule that object for execution on the event dispatch thread**. Once the GUI is created, the program is primarily driven by GUI events, each of which causes the execution of a short task on the event dispatch thread. Application code can schedule additionals tasks on the event dispatch thread (if they complete quickly, so as not to interfere with event processing) or a worker thread (for long-running tasks).\n",
    "\n",
    "An initial thread schedules the GUI creation task by invoking [javax.swing.SwingUtilities.invokeLater](https://docs.oracle.com/javase/8/docs/api/javax/swing/SwingUtilities.html#invokeLater-java.lang.Runnable-) or [javax.swing.SwingUtilities.invokeAndWait](https://docs.oracle.com/javase/8/docs/api/javax/swing/SwingUtilities.html#invokeAndWait-java.lang.Runnable-). Both of these methods take a single argument: the Runnable that defines the new task. Their only difference is indicated by their names: invokeLater simply schedules the task and returns; invokeAndWait waits for the task to finish before returning.\n",
    "\n",
    "You can see examples of this throughout the Swing tutorial:\n",
    "```\n",
    "SwingUtilities.invokeLater(new Runnable() {\n",
    "    public void run() {\n",
    "        createAndShowGUI();\n",
    "    }\n",
    "});\n",
    "```\n",
    "\n",
    "In an applet, the GUI-creation task must be launched from the init method using invokeAndWait; otherwise, init may return before the GUI is created, which may cause problems for a web browser launching an applet. In any other kind of program, scheduling the GUI-creation task is usually the last thing the initial thread does, so it doesn't matter whether it uses invokeLater or invokeAndWait.\n",
    "\n",
    "Why does not the initial thread simply create the GUI itself? Because almost all code that creates or interacts with Swing components must run on the event dispatch thread. This restriction is discussed further in the next section.\n",
    "\n",
    "======== KP Summary =====\n",
    "\n",
    "We read above that an initial thread essentially does the following three jobs:\n",
    "* create a Runnable object (using 'new Runnable() .. as seen above)\n",
    "* initialize the GUI (for example, using 'createAndShowGUI()' call above).\n",
    "* schedule the Runnable object for execution on the event dispatch thread (for example, using the 'invokeLater' method above which takes as argument the Runnable object that defines the new task.)\n",
    "    * This 'invokelater' method simply schedules the task and returns\n",
    "    * Alternatively, we can use 'invokeAndWait' (also takes the Runnable as input arg), but this one waits for the task to finish before returning.\n",
    "\n",
    "**Note:** Applets' GUI-creation task must be launched from the init method using 'invokeAndWait' rather than 'invokeLater'\n",
    "\n",
    "========\n"
   ]
  },
  {
   "cell_type": "markdown",
   "metadata": {},
   "source": [
    "<a id='event_dispatch_threads'></a>\n",
    "## Event Dispatch Threads\n",
    "\n",
    "Swing event handling code runs on a special thread known as the event dispatch thread. Most code that invokes Swing methods also runs on this thread. This is necessary because most Swing object methods are not \"thread safe\": invoking them from multiple threads risks [thread interference](https://docs.oracle.com/javase/tutorial/essential/concurrency/interfere.html) or [memory consistency errors](https://docs.oracle.com/javase/tutorial/essential/concurrency/memconsist.html). Some Swing component methods are labelled \"thread safe\" in the API specification; these can be safely invoked from any thread. All other Swing component methods must be invoked from the event dispatch thread. Programs that ignore this rule may function correctly most of the time, but are subject to unpredictable errors that are difficult to reproduce.\n",
    "\n",
    "> **A note on thread safety:** It may seem strange that such an important part of the Java platform is not thread safe. It turns out that any attempt to create a thread-safe GUI library faces some fundamental problems. For more on this issue, see the following entry in Graham Hamilton's blog: [MultiThreaded toolkits: A failed dream](http://weblogs.java.net/blog/kgh/archive/2004/10/multithreaded_t.html)?\n",
    " \n",
    "\n",
    "\n",
    "It's useful to think of the code running on the event dispatch thread as a series of short tasks. Most tasks are invocations of event-handling methods, such as ActionListener.actionPerformed. Other tasks can be scheduled by application code, using invokeLater or invokeAndWait. Tasks on the event dispatch thread must finish quickly; if they don't, unhandled events back up and the user interface becomes unresponsive.\n",
    "\n",
    "If you need to determine whether your code is running on the event dispatch thread, invoke [javax.swing.SwingUtilities.isEventDispatchThread](https://docs.oracle.com/javase/8/docs/api/javax/swing/SwingUtilities.html#isEventDispatchThread--).\n",
    "\n",
    "======== KP Summary =====\n",
    "* Swing event handling code and most of the other codes that invoke Swing methods run on EDTs\n",
    "  * This is because most Swing object methods are not \"thread safe\".\n",
    "  * However, some Swing component methods (which are labelled \"thread safe\" in the API documentation) can safely be invoked from any thread.\n",
    "* The code running on the EDT can be considered as a series of short tasks (which must finish quickly)\n",
    "  * Most of these tasks are invocations of event-handling methods such as ActionListener.actionPerformed\n",
    "  * Other tasks can be scheduled using invokeLater or invokeAndWait\n",
    "* One can determine whether a code is running on the EDT by invoking **isEventDispatchThread method**.\n",
    "\n",
    "========"
   ]
  },
  {
   "cell_type": "markdown",
   "metadata": {},
   "source": [
    "<a id='worker_threads'></a>\n",
    "## Worker Threads and Swing Worker\n",
    "\n",
    "When a Swing program needs to execute a long-running task, it usually uses one of the worker threads, also known as the background threads. Each task running on a worker thread is represented by an instance of [javax.swing.SwingWorker](https://docs.oracle.com/javase/8/docs/api/javax/swing/SwingWorker.html). SwingWorker itself is an abstract class; you must define a subclass in order to create a SwingWorker object; anonymous inner classes are often useful for creating very simple SwingWorker objects.\n",
    "\n",
    "SwingWorker provides a number of communication and control features:\n",
    "\n",
    "* The SwingWorker subclass can define a method, done, which is automatically invoked on the event dispatch thread when the background task is finished.\n",
    "* SwingWorker implements [java.util.concurrent.Future](https://docs.oracle.com/javase/8/docs/api/java/util/concurrent/Future.html). This interface allows the background task to provide a return value to the other thread. Other methods in this interface allow cancellation of the background task and discovering whether the background task has finished or been cancelled.\n",
    "* The background task can provide intermediate results by invoking SwingWorker.publish, causing SwingWorker.process to be invoked from the event dispatch thread.\n",
    "* The background task can define bound properties. Changes to these properties trigger events, causing event-handling methods to be invoked on the event dispatch thread.\n",
    "\n",
    "These features are discussed in the following subsections.\n",
    "> **Note:**\n",
    "\n",
    "> The javax.swing.SwingWorker class was added to the Java platform in Java SE 6. Prior to this, another class, also called SwingWorker, was widely used for some of the same purposes. The old SwingWorker was not part of the Java platform specification, and was not provided as part of the JDK.\n",
    "\n",
    "> The new javax.swing.SwingWorker is a completely new class. Its functionality is not a strict superset of the old SwingWorker. Methods in the two classes that have the same function do not have the same names. Also, instances of the old SwingWorker class were reusable, while a new instance of javax.swing.SwingWorker is needed for each new background task.\n",
    "\n",
    "> Throughout the Java Tutorials, any mention of SwingWorker now refers to javax.swing.SwingWorker.\n",
    "\n",
    "======== KP Summary =====\n",
    "* Long running-tasks are usually executed using **worker threads** - also known as **background threads**.\n",
    "* Each such task is represented by an instance of SwingWorker class\n",
    "  * which itself is an abstract class, therefore, we must define a subclass to create a SwingWorker object\n",
    "  * anonymous inner classes are often useful for creating very simple SwingWorker objects.\n",
    "* \n",
    "\n",
    "========"
   ]
  },
  {
   "cell_type": "code",
   "execution_count": null,
   "metadata": {
    "collapsed": true
   },
   "outputs": [],
   "source": []
  }
 ],
 "metadata": {
  "kernelspec": {
   "display_name": "Python 3",
   "language": "python",
   "name": "python3"
  },
  "language_info": {
   "codemirror_mode": {
    "name": "ipython",
    "version": 3
   },
   "file_extension": ".py",
   "mimetype": "text/x-python",
   "name": "python",
   "nbconvert_exporter": "python",
   "pygments_lexer": "ipython3",
   "version": "3.6.1"
  }
 },
 "nbformat": 4,
 "nbformat_minor": 2
}
