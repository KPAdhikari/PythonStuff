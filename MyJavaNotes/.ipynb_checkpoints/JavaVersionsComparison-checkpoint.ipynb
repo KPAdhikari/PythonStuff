{
 "cells": [
  {
   "cell_type": "markdown",
   "metadata": {},
   "source": [
    "# Java Versions Comparison\n",
    "Refs:\n",
    "* https://en.wikipedia.org/wiki/Java_version_history\n",
    "* https://javapapers.com/core-java/java-features-and-history/\n",
    "* https://www.youtube.com/watch?v=cttPGA0PISM All JAVA version differences (Java10 vs Java9 vs Java8 vs 7 vs 6 vs 5 vs 1.4 vs 1.3 vs 1.2 vs 1.1)  by JK leo\n",
    "* https://softwareengineering.stackexchange.com/questions/193630/summary-of-differences-between-java-versions\n",
    "* http://www.codejava.net/java-se/java-se-versions-history"
   ]
  },
  {
   "cell_type": "markdown",
   "metadata": {},
   "source": [
    "## Quick Comparison\n",
    "From Refs 1, 2, 5: \n",
    "\n",
    "Version |  Release Date | Code Name | Notable features/updates\n",
    "---- | ----- | ---- | ----\n",
    "JDK 1.0 | January 23, 1996 | Oak | Alpha & Beta version\n",
    "JDK 1.1 | February 19, 1997 | (none) | JDBC, Inner Classes, Java Beans, RMI (Remote Method Invocation), Reflection (introspection only)\n",
    "J2SE 1.2 | December 8, 1998 | Playground | Java Collections Framework (FCF), JIT Compiler, Audio support in Applets\n",
    "J2SE 1.3 | May 8, 2000 | Kestrel | Java Sound, Jar Indexing & a list of enhancements\n",
    "J2SE 1.4 | February 6, 2002 (first release under JCP) | Merlin | XML Processing, Java Print Service, Logging API, Java Web Start, JDBC 3.0 API, Assertions, Preferences API, Chained Exception, IPv6 Support, Regular Expressions, Image I/O API\n",
    "J2SE 1.5 | September 30, 2004 | Tiger | Generics, Enhanced for-loop, Autoboxing/Unboxing, Typesafe Enums, Varargs, Static Import, Metadata (Annotations), Instrumentation\n",
    "Java SE 1.6 | December 11, 2006 | Mustang | Scripting Language Support, JDBC 4.0 API, Pluggable Annotations, \"Native PKI, Java GSS, Kerberos& LDAP support\", Integrated Web Services, More enhancements.\n",
    "Java SE 1.7 | July 28, 2011 | Dolphin | Strings in switch statements, Type Inference for Generic Instance Creation, Multiple Exception Handling, Support for Dynamic Languages, Try with Resources, Java nio Package, Binary Liters, underscore in literals, Diamond Syntax, Automatic null Handling\n",
    "Java SE 1.8 | March 18, 2014 | (none) The code name culture is dropped with Java 8 and so no official code name going forward from Java 8. | Lambda Expressions (Functional programming), Pipelines and Streams, Function References, Date & Time API, Default Methods (kp: in interfaces), Type Annotations, Nashorn JavaScript Engine, Concurrent Accumulatiors, Parallel operations, PermGen Error Removed, TLS SNI\n",
    "Java SE 1.9 | September 21, 2017 |  (none) | JSR 376: of the JDK under Project Jigsaw (Java Platform Module System), JEP 222: jshell: The Java Shell (a Java REPL),  JEP 295: Ahead-of-Time Compilation, JEP 268: XML Catalogs, JEP 266: More Concurrency Updates, JEP 193: Variable Handles, JEP 282: jlink: The Java Linker\n"
   ]
  },
  {
   "cell_type": "markdown",
   "metadata": {},
   "source": [
    "Ref 5: <br />\n",
    "From the table above we can see that the naming and the version number have been changing over times:\n",
    "* Versions 1.0 and 1.0 are named as JDK (Java Development Kit).\n",
    "* From versions 1.2 to 1.4, the platform is named as J2SE (Java 2 Standard Edition).\n",
    "* From versions 1.5, Sun introduces internal and external versions. Internal version is continuous from previous ones (1.5 after 1.4), but the external version has a big jump (5.0 for 1.5). This could make confusion for someone, so keep in mind that version 1.5 and version 5.0 are just two different version names for only one thing.\n",
    "\n",
    "Major versions were released after every 2 years, however the Java SE 7 took 5 years to be available after its predecessor Java SE 6, and 3 years for Java SE 8 to be available to public afterward.\n",
    "\n"
   ]
  },
  {
   "cell_type": "markdown",
   "metadata": {},
   "source": [
    "## Java 1.0\n",
    "Initial release, everything is new ;-)"
   ]
  },
  {
   "cell_type": "markdown",
   "metadata": {},
   "source": [
    "## Java 1.1\n",
    "\n",
    "Language changes:\n",
    "* inner classes\n",
    "\n",
    "Library changes:\n",
    "* AWT event changes\n",
    "* JDBC, RMI\n",
    "* reflection"
   ]
  },
  {
   "cell_type": "markdown",
   "metadata": {},
   "source": [
    "## Java 1.2\n",
    "\n",
    "Language changes:\n",
    "* the [strictfp](https://en.wikipedia.org/wiki/Strictfp) keyword\n",
    "\n",
    "Library changes:\n",
    "* a unified [collections](http://docs.oracle.com/javase/tutorial/collections/intro/index.html) system\n",
    "* [Swing](https://en.wikipedia.org/wiki/Swing_%28Java%29) as a new UI-System on top of AWT\n",
    "\n",
    "Platform changes\n",
    "* a real JIT, greatly improving speed\n"
   ]
  },
  {
   "cell_type": "markdown",
   "metadata": {},
   "source": [
    "## Java 1.3\n",
    "\n",
    "Mostly minor improvements, really.\n",
    "\n",
    "Platform changes:\n",
    "\n",
    "    HotSpot JVM: improvement over the original JIT"
   ]
  },
  {
   "cell_type": "markdown",
   "metadata": {},
   "source": [
    "## Java 1.4\n",
    "\n",
    "[JSR 59](http://www.jcp.org/en/jsr/detail?id=59)\n",
    "\n",
    "Language changes:\n",
    "* the [assert](http://docs.oracle.com/javase/7/docs/technotes/guides/language/assert.html) keyword\n",
    "\n",
    "Library changes:\n",
    "* [regular expressions](https://en.wikipedia.org/wiki/Regular_expression) support\n",
    "* [NIO](https://en.wikipedia.org/wiki/New_I/O)\n",
    "* integrated XML handling"
   ]
  },
  {
   "cell_type": "markdown",
   "metadata": {},
   "source": [
    "## Java 5 (a.k.a 1.5)\n",
    "\n",
    "[JSR 176](http://jcp.org/en/jsr/detail?id=176), [features and enhancements](http://docs.oracle.com/javase/1.5.0/docs/relnotes/features.html)\n",
    "\n",
    "Language Changes:\n",
    "* [generics](https://en.wikipedia.org/wiki/Generics_in_Java) (that's the big one)\n",
    "* [annotations](https://en.wikipedia.org/wiki/Java_annotation)\n",
    "* enum types\n",
    "* varargs, enhanced for loops (for-each)\n",
    "\n",
    "Library changes:\n",
    "* concurrency utilities in java.util.concurrent"
   ]
  },
  {
   "cell_type": "markdown",
   "metadata": {},
   "source": [
    "## Java 6 (a.k.a 1.6)\n",
    "\n",
    "[JSR 270](http://www.jcp.org/en/jsr/detail?id=270). [features and enhancements](http://www.oracle.com/technetwork/java/javase/features-141434.html)\n",
    "\n",
    "Mostly incremental improvements to existing libraries, no new language features (except for the [@Override](https://blogs.oracle.com/ahe/entry/override_snafu) snafu)."
   ]
  },
  {
   "cell_type": "markdown",
   "metadata": {},
   "source": [
    "## Java 7 (a.k.a 1.7)\n",
    "\n",
    "[JSR 336](http://www.jcp.org/en/jsr/detail?id=336), [features and enhancements](http://www.oracle.com/technetwork/java/javase/jdk7-relnotes-418459.html)\n",
    "\n",
    "Language changes:\n",
    "* Project Coin (small changes)\n",
    "    * switch on Strings\n",
    "    * [try-with-resources](http://docs.oracle.com/javase/7/docs/technotes/guides/language/try-with-resources.html)\n",
    "    * [diamond operator](http://docs.oracle.com/javase/7/docs/technotes/guides/language/type-inference-generic-instance-creation.html)\n",
    "\n",
    "Library changes:\n",
    "* [new abstracted file-system API (NIO.2)](http://docs.oracle.com/javase/tutorial/essential/io/fileio.html) (with support for virtual filesystems)\n",
    "* improved concurrency libraries\n",
    "* elliptic curve encryption\n",
    "* more incremental upgrades\n",
    "\n",
    "Platform changes:\n",
    "* support for [dynamic languages](http://docs.oracle.com/javase/7/docs/technotes/guides/vm/multiple-language-support.html)"
   ]
  },
  {
   "cell_type": "markdown",
   "metadata": {},
   "source": [
    "## Java 8 (a.k.a 1.8)\n",
    "From Ref2: <br />\n",
    "Java 8 was released on 18 March 2014. The code name culture is dropped with Java 8 and so no official code name going forward from Java 8.\n",
    "\n",
    "From Ref4: <br />\n",
    "[JSR 337](http://www.jcp.org/en/jsr/detail?id=337), [what's new](http://www.oracle.com/technetwork/java/javase/8-whats-new-2157071.html)\n",
    "\n",
    "Language changes:\n",
    "* [lambda expressions](https://en.wikipedia.org/wiki/Lambda_%28programming%29) ([JSR 335](http://www.jcp.org/en/jsr/detail?id=335), includes method handles)\n",
    "    continuation of Project Coin (small language improvements)\n",
    "    annotations on Java types\n",
    "\n",
    "Library changes:\n",
    "* Improved [Date and Time API](http://threeten.sourceforge.net/)\n"
   ]
  },
  {
   "cell_type": "code",
   "execution_count": null,
   "metadata": {
    "collapsed": true
   },
   "outputs": [],
   "source": []
  }
 ],
 "metadata": {
  "kernelspec": {
   "display_name": "Python 2",
   "language": "python",
   "name": "python2"
  },
  "language_info": {
   "codemirror_mode": {
    "name": "ipython",
    "version": 2
   },
   "file_extension": ".py",
   "mimetype": "text/x-python",
   "name": "python",
   "nbconvert_exporter": "python",
   "pygments_lexer": "ipython2",
   "version": "2.7.13"
  }
 },
 "nbformat": 4,
 "nbformat_minor": 2
}
