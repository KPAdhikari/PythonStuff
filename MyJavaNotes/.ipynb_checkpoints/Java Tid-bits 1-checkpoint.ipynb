{
 "cells": [
  {
   "cell_type": "markdown",
   "metadata": {},
   "source": [
    "# Some Java Tidbits\n",
    "\n",
    "\n",
    "## Table of contents\n",
    "* Use of [button.setActionCommand(\"command\");](#action_command)\n",
    "* Two more cents - [on getActionCommand and getSource](#getActionCommentSource)"
   ]
  },
  {
   "cell_type": "markdown",
   "metadata": {},
   "source": [
    "<a id='action_command'></a>\n",
    "## Use of button.setActionCommand(\"command\");\n",
    "\n",
    "Lines such as this is very useful to add listeners to multiple elements and use the same **actionPerformed(ev)** method for all of them, which will make it better organized. For example, the [Flipper.java](http://docs.oracle.com/javase/tutorial/uiswing/examples/concurrency/FlipperProject/src/concurrency/Flipper.java) program from http://docs.oracle.com/javase/tutorial/uiswing/concurrency/interim.html is making a such an use of it as is obvious from the following excerpt of the code. Previously, I hadn't seen (or paid attention to) the **actionPerformed** used for multiple elements and so, it wasn't obvious what was the point/advantage of the command.\n",
    "```\n",
    "    private JButton makeButton(String caption) {\n",
    "        JButton b = new JButton(caption);\n",
    "        b.setActionCommand(caption);\n",
    "        b.addActionListener(this);\n",
    "        getContentPane().add(b, constraints);\n",
    "        return b;\n",
    "    }\n",
    "\n",
    "    public void actionPerformed(ActionEvent e) {\n",
    "        if (\"Start\" == e.getActionCommand()) {\n",
    "            startButton.setEnabled(false);\n",
    "            stopButton.setEnabled(true);\n",
    "            (flipTask = new FlipTask()).execute();\n",
    "        } else if (\"Stop\" == e.getActionCommand()) {\n",
    "            startButton.setEnabled(true);\n",
    "            stopButton.setEnabled(false);\n",
    "            flipTask.cancel(true);\n",
    "            flipTask = null;\n",
    "        }\n",
    "    }\n",
    "    \n",
    "    \n",
    "    //kp: Following constructor is also used to create a GUI\n",
    "    \n",
    "    public Flipper() {\n",
    "        super(\"Flipper\");\n",
    "        setDefaultCloseOperation(JFrame.EXIT_ON_CLOSE);\n",
    "\n",
    "        ....\n",
    "        ....\n",
    "        ....\n",
    "\n",
    "        //Make buttons\n",
    "        startButton = makeButton(\"Start\");\n",
    "        stopButton = makeButton(\"Stop\");\n",
    "        stopButton.setEnabled(false);\n",
    "\n",
    "        //Display the window.\n",
    "        pack();\n",
    "        setVisible(true);\n",
    "    }    \n",
    "```"
   ]
  },
  {
   "cell_type": "markdown",
   "metadata": {},
   "source": [
    "<a id='getActionCommentSource'></a>\n",
    "## Two more cents - on getActionComment and getSource\n",
    "**Reference:** [stackoverflow](https://stackoverflow.com/questions/8214958/the-getsource-and-getactioncommand).\n",
    "\n",
    "Assuming you are talking about the [ActionEvent](http://download.oracle.com/javase/6/docs/api/java/awt/event/ActionEvent.html) class, then there is a big difference between the two methods.\n",
    "\n",
    "getActionCommand() gives you a String representing the action command. The value is component specific; for a JButton you have the option to set the value with setActionCommand(String command) but for a JTextField if you don't set this, it will automatically give you the value of the text field. According to the javadoc this is for compatability with java.awt.TextField.\n",
    "\n",
    "getSource() is specified by the EventObject class that ActionEvent is a child of (via java.awt.AWTEvent). This gives you a reference to the object that the event came from.\n",
    "\n",
    "Edit:\n",
    "\n",
    "Here is a example. There are two fields, one has an action command explicitly set, the other doesn't. Type some text into each then press enter.\n",
    "```\n",
    "public class Events implements ActionListener {\n",
    "\n",
    "  private static JFrame frame; \n",
    "\n",
    "  public static void main(String[] args) {\n",
    "\n",
    "    frame = new JFrame(\"JTextField events\");\n",
    "    frame.getContentPane().setLayout(new FlowLayout());\n",
    "\n",
    "    JTextField field1 = new JTextField(10);\n",
    "    field1.addActionListener(new Events());\n",
    "    frame.getContentPane().add(new JLabel(\"Field with no action command set\"));\n",
    "    frame.getContentPane().add(field1);\n",
    "\n",
    "    JTextField field2 = new JTextField(10);\n",
    "    field2.addActionListener(new Events());\n",
    "    field2.setActionCommand(\"my action command\");\n",
    "    frame.getContentPane().add(new JLabel(\"Field with an action command set\"));\n",
    "    frame.getContentPane().add(field2);\n",
    "\n",
    "\n",
    "    frame.setDefaultCloseOperation(JFrame.EXIT_ON_CLOSE);\n",
    "    frame.setSize(220, 150);\n",
    "    frame.setResizable(false);\n",
    "    frame.setVisible(true);\n",
    "  }\n",
    "\n",
    "  @Override\n",
    "  public void actionPerformed(ActionEvent evt) {\n",
    "    String cmd = evt.getActionCommand();\n",
    "    JOptionPane.showMessageDialog(frame, \"Command: \" + cmd);\n",
    "  }\n",
    "}\n",
    "```\n"
   ]
  },
  {
   "cell_type": "markdown",
   "metadata": {
    "collapsed": true
   },
   "source": [
    "### Add components directly to JFrame, or put them inside a JPanel?\n",
    "\n",
    "Reference: https://stackoverflow.com/questions/29604302/add-components-directly-to-jframe-or-put-them-inside-a-jpanel\n",
    "\n",
    "When you add components to the frame you add the components to the content pane of the frame. The content pane is a JPanel. The default layout for the content pane is a BorderLayout.\n",
    "\n",
    "When you add components directly to frame you actually are adding the components to a panel. So you have all the layout features of the panel. So in reality there is no difference for adding components to the frame or be using your own panel as the content pane of the frame.\n",
    "\n",
    "What you really need to decide is do you really need to access the content pane for any reason? Take a look at the section from the Swing tutorial on [Using Top Level Containers](http://docs.oracle.com/javase/tutorial/uiswing/components/toplevel.html#contentpane) for more information. The tutorial gives some thought on this subject.\n",
    "\n",
    "I'm not sure why you would need to replace components of the content pane. If you read the posting on this forum the suggestion is to always use a CardLayout to swap panels, so you would never deal directly with the content pane.\n"
   ]
  },
  {
   "cell_type": "markdown",
   "metadata": {},
   "source": [
    "### What is the relation between ContentPane and JPanel?\n",
    "https://stackoverflow.com/questions/2432839/what-is-the-relation-between-contentpane-and-jpanel\n",
    "Q:\n",
    "\n",
    "Maybe essence of my question can be put into one line of code:\n",
    "```\n",
    "frame.getContentPane().add(panel);\n",
    "```\n",
    "What for we put getContentPane() in between? I tried just frame.add(panel); and it works fine.\n",
    "\n",
    "A:\n",
    "It's not two competing mechanisms - a JPanel is a Container (just look at the class hierarchy at the top of the [JPanel javadocs](http://java.sun.com/javase/6/docs/api/javax/swing/JPanel.html)). JFrame.getContentPane() just returns a Container to place the Components that you want to display in the JFrame. Internally, it's using a JPanel (by default - you can change this by calling setContentPane()) As for why it's returning a Container instead of a JPanel - it's because you should [program to an interface, not an implementation](https://stackoverflow.com/questions/383947/what-does-it-mean-to-program-to-an-interface) - at that level, all that you need to care about is that you can add Components to something - and even though Container is a class rather than an interface - it provides the interface needed to do exactly that.\n",
    "\n",
    "As for why both JFrame.add() and JFrame.getContentPane().add() both do the same thing - JFrame.add() is overridden to call JFrame.getContentPane().add(). This wasn't always the case - pre-JDK 1.5 you always had to specify JFrame.getContentPane().add() explicitly and JFrame.add() threw a RuntimeException if you called it, but due to many complaints, this was changed in JDK 1.5 to do what you'd expect.\n"
   ]
  },
  {
   "cell_type": "markdown",
   "metadata": {},
   "source": [
    "### Size of the JPanel\n",
    "To set the size of a JPanel object, I found that setPreferredSize(Dimension dim) works as follows. setSize(dim) didn't complain, but it didn't really have any effect. If it had, I didn't notice at all."
   ]
  },
  {
   "cell_type": "code",
   "execution_count": null,
   "metadata": {
    "collapsed": true
   },
   "outputs": [],
   "source": [
    "Dimension dim = new Dimension(600, 300);        \n",
    "panel.setPreferredSize(dim);//.setSize(dim);"
   ]
  }
 ],
 "metadata": {
  "kernelspec": {
   "display_name": "Python 2",
   "language": "python",
   "name": "python2"
  },
  "language_info": {
   "codemirror_mode": {
    "name": "ipython",
    "version": 2
   },
   "file_extension": ".py",
   "mimetype": "text/x-python",
   "name": "python",
   "nbconvert_exporter": "python",
   "pygments_lexer": "ipython2",
   "version": "2.7.13"
  }
 },
 "nbformat": 4,
 "nbformat_minor": 2
}
