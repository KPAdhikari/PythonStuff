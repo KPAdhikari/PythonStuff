{
 "cells": [
  {
   "cell_type": "code",
   "execution_count": 1,
   "metadata": {},
   "outputs": [
    {
     "name": "stdout",
     "output_type": "stream",
     "text": [
      "/Users/kpadhikari/Desktop/BigFls/CLAS12/GitProj/KPAdhikari/PythonStuff/Courses_edX\n"
     ]
    }
   ],
   "source": [
    "!pwd"
   ]
  },
  {
   "cell_type": "markdown",
   "metadata": {},
   "source": [
    "https://courses.edx.org/courses/course-v1:IBM+PY0101EN+3T2020/course/ (tharkp ra ChakkitNow) odu-echitthi."
   ]
  },
  {
   "cell_type": "markdown",
   "metadata": {},
   "source": [
    "<a id='GoTop'></a>\n",
    "### Note: [SQL/Database Stuff](#SQL_Database)\n",
    "In this notebook, for convenience, I have temporarily put things from my edX course on SQL/Database too. I plan to move them to a separate notebook later. That sections starts [here](#SQL_Database).\n",
    "\n",
    "### [Stuff from course IBM DV0101EN: Visualizing Data with Python](#DataVisualization)"
   ]
  },
  {
   "cell_type": "markdown",
   "metadata": {},
   "source": [
    "### Thinks to be reviewed before taking the timed test\n",
    "1) Differences between Tuples, Lists and Sets. \n",
    "  * Tuples: immutable (elements cannot be reassigned); defined with parentheses `()`.\n",
    "  * Lists: mutable (values can be changed); initiated/defined with square brackets `[]`.\n",
    "  * Sets: collections of non-repeating objects; defined with curly brackets `{}`\n",
    "\n",
    "2) Dictionaries have 'keys' instead of 'indices' and are mutable.\n",
    "\n",
    "3) Difference between 'extend' and 'append' methods. If we have two lists `a=[2,3,5]` and `b=[7,3]`, then we `a.extend(b)` will result in `a` modified with two more elements `7, and 3` added as 4th and 5th elements. On the other hand, if we use `append' instead, it will add only one more element to 'a'` but that last element will itself be a list of two elements. So, in the first case, to excess 7 and 3, we'll have to do `a[3]` and `a[4]` but in the second case we have to access those as `a[3][0]` and `a[3][1]`.\n",
    "\n",
    "### It seems 'enumerate()' method serves somewhat similar purpose as 'range()' in Loops.\n",
    "4) Look at https://courses.edx.org/courses/course-v1:IBM+PY0101EN+3T2020/courseware/89227024130b43f684d95376901b65c8/11a3b100fcc84035b6244997e362cde3/?child=last for the use of 'enumerate()' to iterate on both the index and element of a list (and key, values in a dict?).\n"
   ]
  },
  {
   "cell_type": "code",
   "execution_count": 1,
   "metadata": {},
   "outputs": [
    {
     "name": "stdout",
     "output_type": "stream",
     "text": [
      "0 red\n",
      "1 yellow\n",
      "2 green\n",
      "3 purple\n",
      "4 blue\n"
     ]
    }
   ],
   "source": [
    "# Loop through the list and iterate on both index and element value\n",
    "\n",
    "squares=['red', 'yellow', 'green', 'purple', 'blue']\n",
    "\n",
    "for i, square in enumerate(squares):\n",
    "    print(i, square)"
   ]
  },
  {
   "cell_type": "code",
   "execution_count": 10,
   "metadata": {},
   "outputs": [
    {
     "name": "stdout",
     "output_type": "stream",
     "text": [
      "{'ab': 3, 'kp': 'string', 'bp': 5.3}\n",
      "<class 'dict'>\n",
      "0 ab 3\n",
      "1 kp string\n",
      "2 bp 5.3\n"
     ]
    }
   ],
   "source": [
    "aDict = {\"ab\":3, \"kp\":\"string\", \"bp\": 5.3}\n",
    "print(aDict)\n",
    "print(type(aDict))\n",
    "\n",
    "#Actually, it seems enumerate treats everything as a list\n",
    "#    or perhaps, it first type casts an object into a list\n",
    "#    so the what goes inside 'enumerate' is a list whose \n",
    "#    values are the keys of aDict.\n",
    "# Thus, 'key', and 'value' actually  are 'index' and 'key'\n",
    "for key, value in enumerate(aDict):\n",
    "    print(key,value, aDict[value])"
   ]
  },
  {
   "cell_type": "markdown",
   "metadata": {},
   "source": [
    "## Loops\n",
    "### Range Object\n",
    "Before we discuss loops lets discuss the range object. It is helpful to think of the range object as an ordered list. For now, let's look at the simplest case. If we would like to generate a sequence that contains three elements ordered from 0 to 2 we simply use range as follows:"
   ]
  },
  {
   "cell_type": "code",
   "execution_count": 11,
   "metadata": {},
   "outputs": [
    {
     "data": {
      "text/plain": [
       "range(0, 2)"
      ]
     },
     "execution_count": 11,
     "metadata": {},
     "output_type": "execute_result"
    }
   ],
   "source": [
    "range(2)"
   ]
  },
  {
   "cell_type": "code",
   "execution_count": 12,
   "metadata": {},
   "outputs": [
    {
     "data": {
      "text/plain": [
       "range"
      ]
     },
     "execution_count": 12,
     "metadata": {},
     "output_type": "execute_result"
    }
   ],
   "source": [
    "type(range(2))"
   ]
  },
  {
   "cell_type": "code",
   "execution_count": 17,
   "metadata": {},
   "outputs": [
    {
     "name": "stdout",
     "output_type": "stream",
     "text": [
      "range(0, 2)\n"
     ]
    }
   ],
   "source": [
    "ab = range(2)\n",
    "type(ab)\n",
    "print(ab)"
   ]
  },
  {
   "cell_type": "code",
   "execution_count": 15,
   "metadata": {},
   "outputs": [
    {
     "data": {
      "text/plain": [
       "range(4, 9)"
      ]
     },
     "execution_count": 15,
     "metadata": {},
     "output_type": "execute_result"
    }
   ],
   "source": [
    "range(4,9)"
   ]
  },
  {
   "cell_type": "code",
   "execution_count": 21,
   "metadata": {},
   "outputs": [
    {
     "data": {
      "text/plain": [
       "[range(0, 2)]"
      ]
     },
     "execution_count": 21,
     "metadata": {},
     "output_type": "execute_result"
    }
   ],
   "source": [
    "aa = [range(2)]\n",
    "aa"
   ]
  },
  {
   "cell_type": "markdown",
   "metadata": {},
   "source": [
    "https://www.geeksforgeeks.org/range-to-a-list-in-python/ \n",
    "\n",
    "### range() to a list in Python\n",
    "Often times we want to create a list containing a continuous value like, in a range of 100-200. Let’s discuss how to create a list using the range() function.\n",
    "\n",
    "#### Will this work ?"
   ]
  },
  {
   "cell_type": "code",
   "execution_count": 22,
   "metadata": {},
   "outputs": [
    {
     "name": "stdout",
     "output_type": "stream",
     "text": [
      "[range(10, 20)]\n"
     ]
    }
   ],
   "source": [
    "\n",
    "# Create a list in a range of 10-20 \n",
    "My_list = [range(10, 20, 1)] \n",
    "  \n",
    "# Print the list \n",
    "print(My_list) \n"
   ]
  },
  {
   "cell_type": "markdown",
   "metadata": {},
   "source": [
    "As we can see in the output, the result is not exactly what we were expecting because Python does not unpack the result of the range() function.\n",
    "\n",
    "**`Code #1:`** We can use argument-unpacking operator i.e. `*`."
   ]
  },
  {
   "cell_type": "code",
   "execution_count": 23,
   "metadata": {},
   "outputs": [
    {
     "name": "stdout",
     "output_type": "stream",
     "text": [
      "[10, 11, 12, 13, 14, 15, 16, 17, 18, 19, 20]\n"
     ]
    }
   ],
   "source": [
    "# Create a list in a range of 10-20 \n",
    "My_list = [*range(10, 21, 1)] \n",
    "  \n",
    "# Print the list \n",
    "print(My_list) "
   ]
  },
  {
   "cell_type": "markdown",
   "metadata": {},
   "source": [
    "As we can see in the output, the argument-unpacking operator has successfully unpacked the result of the range function.\n",
    " \n",
    "**`Code #2:`** We can use the **extend()** function to unpack the result of range function."
   ]
  },
  {
   "cell_type": "code",
   "execution_count": 24,
   "metadata": {},
   "outputs": [
    {
     "name": "stdout",
     "output_type": "stream",
     "text": [
      "[10, 11, 12, 13, 14, 15, 16, 17, 18, 19, 20]\n"
     ]
    }
   ],
   "source": [
    "\n",
    "# Create an empty list \n",
    "My_list = [] \n",
    "  \n",
    "# Value to begin and end with \n",
    "start, end = 10, 20\n",
    "  \n",
    "# Check if start value is smaller than end value \n",
    "if start < end: \n",
    "    # unpack the result \n",
    "    My_list.extend(range(start, end)) \n",
    "    # Append the last value \n",
    "    My_list.append(end) \n",
    "  \n",
    "# Print the list \n",
    "print(My_list) \n"
   ]
  },
  {
   "cell_type": "markdown",
   "metadata": {},
   "source": [
    "https://www.geeksforgeeks.org/difference-between-list-comprehension-and-lambda-in-python/\n",
    "\n",
    "**`Code #3:`** We can use **List comprehension**\n",
    "\n",
    "List comprehension is an elegant way to define and create a list in python. We can create lists just like mathematical statements and in one line only. The syntax of list comprehension is easier to grasp. A list comprehension generally consists of these parts :\n",
    "* Output expression,\n",
    "* Input sequence,\n",
    "* A variable representing a member of the input sequence and\n",
    "* An optional predicate part. \n",
    "\n",
    "`List = [expression(i) for i in another_list if filter(i)]`"
   ]
  },
  {
   "cell_type": "code",
   "execution_count": 26,
   "metadata": {},
   "outputs": [
    {
     "name": "stdout",
     "output_type": "stream",
     "text": [
      "[1, 9, 25, 49, 81]\n"
     ]
    }
   ],
   "source": [
    "lst  =  [x ** 2  for x in range (1, 11)   if  x % 2 == 1] #kp: Square of Odd integers\n",
    "print(lst) "
   ]
  },
  {
   "cell_type": "markdown",
   "metadata": {},
   "source": [
    "In the above example,\n",
    "\n",
    "    x ** 2 is the expression.\n",
    "    range (1, 11) is input sequence or another list.\n",
    "    x is the variable.\n",
    "    if x % 2 == 1 is predicate part. \n",
    "\n",
    "**`Code #4:`** We can use **Lambda** or **Anonymous** function.\n",
    "\n",
    "In Python, anonymous function means that a function is without a name. As we already know the def keyword is used to define the normal functions and the lambda keyword is used to create anonymous functions. It has the following syntax:\n",
    "\n",
    "Syntax:\n",
    "\n",
    "    lambda arguments : expression"
   ]
  },
  {
   "cell_type": "code",
   "execution_count": 27,
   "metadata": {},
   "outputs": [
    {
     "name": "stdout",
     "output_type": "stream",
     "text": [
      "[1, 4, 9, 16]\n"
     ]
    }
   ],
   "source": [
    "lst = list(map(lambda x: x**2, range(1, 5))) \n",
    "print(lst) "
   ]
  },
  {
   "cell_type": "markdown",
   "metadata": {},
   "source": [
    "#### The difference between Lambdas and List Comprehension\n",
    "\n",
    "List Comprehension is used to create lists, Lambdas are functions that can process like other functions and thus return values or list."
   ]
  },
  {
   "cell_type": "code",
   "execution_count": 28,
   "metadata": {},
   "outputs": [
    {
     "name": "stdout",
     "output_type": "stream",
     "text": [
      "[0, 1, 2, 3, 4, 5, 6, 7, 8, 9]\n",
      "[0, 2, 4, 6, 8, 10, 12, 14, 16, 18]\n",
      "[0, 2, 4, 6, 8, 10, 12, 14, 16, 18]\n"
     ]
    }
   ],
   "source": [
    "# list from range 0 to 10 \n",
    "list_ = [0, 1, 2, 3, 4, 5, 6, 7, 8, 9] \n",
    "print(list_) \n",
    "   \n",
    "# lambda function \n",
    "lambda_list = list(map(lambda x: x * 2, list_)) \n",
    "  \n",
    "# Map basically iterates every element \n",
    "# in the list_ and returns the lambda  \n",
    "# function result \n",
    "print(lambda_list) \n",
    "   \n",
    "# list comprehension \n",
    "list_comp = [x * 2 for x in list_] \n",
    "print(list_comp) "
   ]
  },
  {
   "cell_type": "markdown",
   "metadata": {},
   "source": [
    "https://dev.to/suvhotta/python-lambda-and-list-comprehension-5128\n",
    "### map():\n",
    "Syntax:\n",
    "\n",
    "    map(func,iterables)\n",
    "    \n",
    "map() passes each element in the iterable through a function and returns the result of all elements having passed through the function.\n",
    "\n",
    "func is the function which would be applied on each element present in iterables.\n",
    "\n",
    "The return type of map() function is a list in python 2. However in python 3 it is a map object. To get a list, built-in list() function can be used : list(map(func,iterables))\n",
    "\n",
    "------\n",
    "\n",
    "You might have known by now that there are stuffs which can be achieved by combining map() and Lambda Expressions and also by List Comprehensions.\n",
    "### When to use What?\n",
    "\n",
    "If we are calling an already defined function then map() is a bit faster than the corresponding List Comprehension.\n",
    "\n",
    "But when evaluating any other expression,List Comprehension is faster and clearer than map(), because the map incurs an extra function call for each element.\n",
    "\n",
    "Some people prefer List Comprehension as they say it is a more pythonic and systematic way of coding.\n",
    "\n",
    "**But then people are free to have their Opinions aren't they ?**"
   ]
  },
  {
   "cell_type": "markdown",
   "metadata": {},
   "source": [
    "## Difference between 'sorted()' and 'sort()' methods\n",
    "If we have a list 'L' of some unsorted elements (in random order), then passing 'L' to the sorted() method will return a new list 'Ln' with sorted elements, keeping the list 'L' unmodified. On the other hand, passing 'L' to 'sort()' will sort the elements and save it the same list 'L', thus modifying it.\n",
    "\n",
    "* `nL = sorted(L)`: L remains as it was before, but a new list 'nL' is created\n",
    "* `L.sort()`: L is modified, no new list is created."
   ]
  },
  {
   "cell_type": "markdown",
   "metadata": {},
   "source": [
    "## Documentation String (Doc-string) in a function\n",
    "The comment enclosed in a pair of triple quotes is called documentation string because it can be viewed with the `__doc__` or `help` method as follows:"
   ]
  },
  {
   "cell_type": "code",
   "execution_count": 33,
   "metadata": {},
   "outputs": [
    {
     "name": "stdout",
     "output_type": "stream",
     "text": [
      "4\n"
     ]
    }
   ],
   "source": [
    "def add1(a):\n",
    "    \"\"\"\n",
    "    This function adds 1 to the argument 'a' that is passed to it.\n",
    "    \"\"\"\n",
    "    return a+1\n",
    "\n",
    "print(add1(3))"
   ]
  },
  {
   "cell_type": "code",
   "execution_count": 34,
   "metadata": {},
   "outputs": [
    {
     "name": "stdout",
     "output_type": "stream",
     "text": [
      "Help on function add1 in module __main__:\n",
      "\n",
      "add1(a)\n",
      "    This function adds 1 to the argument 'a' that is passed to it.\n",
      "\n"
     ]
    }
   ],
   "source": [
    "help(add1)"
   ]
  },
  {
   "cell_type": "code",
   "execution_count": 32,
   "metadata": {},
   "outputs": [
    {
     "name": "stdout",
     "output_type": "stream",
     "text": [
      "\n",
      "    This function adds 1 to the argument 'a' that is passed to it.\n",
      "    \n"
     ]
    }
   ],
   "source": [
    "print(add1.__doc__)"
   ]
  },
  {
   "cell_type": "markdown",
   "metadata": {},
   "source": [
    "https://www.geeksforgeeks.org/python-docstrings/\n",
    "\n",
    "Python documentation strings (or docstrings) provide a convenient way of associating documentation with Python modules, functions, classes, and methods.\n",
    "\n",
    "It’s specified in source code that is used, like a comment, to document a specific segment of code. Unlike conventional source code comments, the docstring should describe what the function does, not how.\n",
    "\n",
    "**What should a docstring look like?**\n",
    "\n",
    "    The doc string line should begin with a capital letter and end with a period.\n",
    "    The first line should be a short description.\n",
    "    If there are more lines in the documentation string, the second line should be blank, visually separating the summary from the rest of the description.\n",
    "    The following lines should be one or more paragraphs describing the object’s calling conventions, its side effects, etc.\n",
    "\n",
    "**Declaring Docstrings:** The docstrings are declared using ”’triple single quotes”’ or “””triple double quotes””” just below the class, method or function declaration. All functions should have a docstring.\n",
    "\n",
    "**Accessing Docstrings:** The docstrings can be accessed using the __doc__ method of the object or using the help function.\n"
   ]
  },
  {
   "cell_type": "markdown",
   "metadata": {},
   "source": [
    "### Testing \n",
    "#### if we can have multiple doc-strings \n",
    "#### and also whether we can have the doc-string placed anywhere in a method/module/class ..\n",
    "It seems the second set of comments inside the tripple quotes, doesn't work as the doc-strings as reflected by the following example.\n",
    "\n",
    "Likewise, it seems, we can have doc-strings only at the very beginning of the body of the function, or class etc.\n"
   ]
  },
  {
   "cell_type": "code",
   "execution_count": 40,
   "metadata": {},
   "outputs": [
    {
     "name": "stdout",
     "output_type": "stream",
     "text": [
      "5\n",
      "6\n"
     ]
    }
   ],
   "source": [
    "def add2(a):\n",
    "    \"\"\"\n",
    "    Docstring1: This function adds 2 to the argument 'a' that is passed to it.\n",
    "    \"\"\"\n",
    "    b = a + 2\n",
    "    \"\"\"\n",
    "    Docstring2: Just for test\n",
    "    \"\"\"\n",
    "    return b\n",
    "\n",
    "def add3(a):\n",
    "    b = a + 3\n",
    "    \"\"\"\n",
    "    Docstring1: This function adds 3 to the argument 'a' that is passed to it.\n",
    "    \"\"\"\n",
    "    return b\n",
    "\n",
    "print(add2(3))\n",
    "print(add3(3))"
   ]
  },
  {
   "cell_type": "code",
   "execution_count": 37,
   "metadata": {},
   "outputs": [
    {
     "name": "stdout",
     "output_type": "stream",
     "text": [
      "Help on function add2 in module __main__:\n",
      "\n",
      "add2(a)\n",
      "    Docstring1: This function adds 1 to the argument 'a' that is passed to it.\n",
      "\n"
     ]
    }
   ],
   "source": [
    "help(add2)"
   ]
  },
  {
   "cell_type": "code",
   "execution_count": 39,
   "metadata": {},
   "outputs": [
    {
     "name": "stdout",
     "output_type": "stream",
     "text": [
      "\n",
      "    Docstring1: This function adds 1 to the argument 'a' that is passed to it.\n",
      "    \n"
     ]
    }
   ],
   "source": [
    "print(add2.__doc__)"
   ]
  },
  {
   "cell_type": "code",
   "execution_count": 41,
   "metadata": {},
   "outputs": [
    {
     "name": "stdout",
     "output_type": "stream",
     "text": [
      "Help on function add3 in module __main__:\n",
      "\n",
      "add3(a)\n",
      "\n"
     ]
    }
   ],
   "source": [
    "help(add3)"
   ]
  },
  {
   "cell_type": "markdown",
   "metadata": {},
   "source": [
    "## Variadic parameters and Variadic functions\n",
    "https://en.wikipedia.org/wiki/Variadic_function\n",
    "\n",
    "In mathematics and in computer programming, a variadic function is a function of indefinite arity, i.e., one which accepts a variable number of arguments. Support for variadic functions differs widely among programming languages.\n",
    "\n",
    "The term variadic is a neologism, dating back to 1936-1937.[1] The term was not widely used until the 1970s.\n",
    "\n",
    "---\n",
    "\n",
    "In python, Variadic functions take in (as an argument) a variadic parameter that is represented by a `esterisk+parName` i.e., `*parName`."
   ]
  },
  {
   "cell_type": "code",
   "execution_count": 45,
   "metadata": {},
   "outputs": [
    {
     "name": "stdout",
     "output_type": "stream",
     "text": [
      "Printing the args directly:\n",
      "()\n",
      "Now printing the args using a for loop:\n",
      "\n",
      "\n",
      "Printing the args directly:\n",
      "(3,)\n",
      "Now printing the args using a for loop:\n",
      "3\n",
      "\n",
      "\n",
      "Printing the args directly:\n",
      "(3, 'hello')\n",
      "Now printing the args using a for loop:\n",
      "3\n",
      "hello\n",
      "\n",
      "\n"
     ]
    }
   ],
   "source": [
    "def foo(a, b, *args):\n",
    "    print('Printing the args directly:')\n",
    "    print(args)  # args is a tuple (immutable sequence).\n",
    "    \n",
    "    print('Now printing the args using a for loop:')\n",
    "    for arg in args:\n",
    "        print(arg)\n",
    "    print('\\n')\n",
    "\n",
    "foo(1, 2) # ()\n",
    "foo(1, 2, 3) # (3,)\n",
    "foo(1, 2, 3, \"hello\") # (3, \"hello\")\n"
   ]
  },
  {
   "cell_type": "markdown",
   "metadata": {},
   "source": [
    "### 'None' type\n",
    "If there is no return statement, the function returns None. The following two functions are equivalent:"
   ]
  },
  {
   "cell_type": "code",
   "execution_count": 47,
   "metadata": {},
   "outputs": [],
   "source": [
    "# Define functions, one with return value None and other without return value\n",
    "def MJ():\n",
    "\n",
    "    print('Michael Jackson')\n",
    "\n",
    "def MJ1():\n",
    "\n",
    "    print('Michael Jackson')\n",
    "\n",
    "    return(None)"
   ]
  },
  {
   "cell_type": "markdown",
   "metadata": {},
   "source": [
    "### See the output"
   ]
  },
  {
   "cell_type": "code",
   "execution_count": 48,
   "metadata": {},
   "outputs": [
    {
     "name": "stdout",
     "output_type": "stream",
     "text": [
      "Michael Jackson\n",
      "Michael Jackson\n"
     ]
    }
   ],
   "source": [
    "MJ()\n",
    "\n",
    "MJ1()"
   ]
  },
  {
   "cell_type": "markdown",
   "metadata": {},
   "source": [
    "Printing the function after a call reveals a None is the default return statement:\n",
    "\n",
    "# See what functions returns are"
   ]
  },
  {
   "cell_type": "code",
   "execution_count": 49,
   "metadata": {},
   "outputs": [
    {
     "name": "stdout",
     "output_type": "stream",
     "text": [
      "Michael Jackson\n",
      "None\n",
      "Michael Jackson\n",
      "None\n"
     ]
    }
   ],
   "source": [
    "print(MJ())\n",
    "\n",
    "print(MJ1())"
   ]
  },
  {
   "cell_type": "markdown",
   "metadata": {},
   "source": [
    "## 'global' keyword: Defining global variable from a local scope"
   ]
  },
  {
   "cell_type": "code",
   "execution_count": 50,
   "metadata": {},
   "outputs": [
    {
     "name": "stdout",
     "output_type": "stream",
     "text": [
      "Michael Jackson is an artist\n",
      "Whitney Houston is an artist\n"
     ]
    }
   ],
   "source": [
    "artist = \"Michael Jackson\"\n",
    "\n",
    "def printer(artist):\n",
    "    global internal_var \n",
    "    internal_var= \"Whitney Houston\"\n",
    "    print(artist,\"is an artist\")\n",
    "\n",
    "printer(artist) \n",
    "printer(internal_var)"
   ]
  },
  {
   "cell_type": "markdown",
   "metadata": {},
   "source": [
    "### Objects and Classes\n",
    "```py\n",
    "class Circle (object):                 #Class definition\n",
    "\n",
    "    \n",
    "    def __init__(self,radius,color):   #Constructor\n",
    "        self.radius = radius\n",
    "        self.color  = color\n",
    "\n",
    "    #Getters and Setters or attribute modifiers\n",
    "    def add_radius(self,r):\n",
    "        self.radius = self.radius + r\n",
    "\n",
    "\n",
    "\n",
    "# Object creation after the class is defined\n",
    "RedCircle = Circle(5, \"Red\")\n",
    "```"
   ]
  },
  {
   "cell_type": "markdown",
   "metadata": {},
   "source": [
    "The “dir()” function is useful for obtaining the list of data attributes and methods associated with a class. The object you’re interested in is passed\n",
    "as an argument. The return value is a list of that object’s\n",
    "data attributes. (The attributes surrounded by underscores\n",
    "are for Internal Use and you shouldn’t have to worry about them.)"
   ]
  },
  {
   "cell_type": "code",
   "execution_count": 1,
   "metadata": {},
   "outputs": [],
   "source": [
    "class Circle (object):                 #Class definition\n",
    "\n",
    "    \n",
    "    def __init__(self,radius,color):   #Constructor\n",
    "        self.radius = radius\n",
    "        self.color  = color\n",
    "\n",
    "    #Getters and Setters or attribute modifiers\n",
    "    def add_radius(self,r):\n",
    "        self.radius = self.radius + r\n",
    "\n",
    "\n",
    "\n",
    "# Object creation after the class is defined\n",
    "RedCircle = Circle(5, \"Red\")"
   ]
  },
  {
   "cell_type": "code",
   "execution_count": 2,
   "metadata": {},
   "outputs": [
    {
     "data": {
      "text/plain": [
       "['__class__',\n",
       " '__delattr__',\n",
       " '__dict__',\n",
       " '__dir__',\n",
       " '__doc__',\n",
       " '__eq__',\n",
       " '__format__',\n",
       " '__ge__',\n",
       " '__getattribute__',\n",
       " '__gt__',\n",
       " '__hash__',\n",
       " '__init__',\n",
       " '__init_subclass__',\n",
       " '__le__',\n",
       " '__lt__',\n",
       " '__module__',\n",
       " '__ne__',\n",
       " '__new__',\n",
       " '__reduce__',\n",
       " '__reduce_ex__',\n",
       " '__repr__',\n",
       " '__setattr__',\n",
       " '__sizeof__',\n",
       " '__str__',\n",
       " '__subclasshook__',\n",
       " '__weakref__',\n",
       " 'add_radius',\n",
       " 'color',\n",
       " 'radius']"
      ]
     },
     "execution_count": 2,
     "metadata": {},
     "output_type": "execute_result"
    }
   ],
   "source": [
    "dir(RedCircle)"
   ]
  },
  {
   "cell_type": "markdown",
   "metadata": {},
   "source": [
    "### Drawing Circles and Rectangles Using matplotlib.pyplot"
   ]
  },
  {
   "cell_type": "code",
   "execution_count": 4,
   "metadata": {},
   "outputs": [
    {
     "data": {
      "image/png": "[encoded data removed]",
      "text/plain": [
       "<Figure size 432x288 with 1 Axes>"
      ]
     },
     "metadata": {
      "needs_background": "light"
     },
     "output_type": "display_data"
    }
   ],
   "source": [
    "# Import the library\n",
    "\n",
    "import matplotlib.pyplot as plt\n",
    "%matplotlib inline  \n",
    "plt.gca().add_patch(plt.Circle((0, 0), radius=2, fc='blue'))\n",
    "plt.axis('scaled')\n",
    "plt.show()"
   ]
  },
  {
   "cell_type": "code",
   "execution_count": 5,
   "metadata": {},
   "outputs": [
    {
     "data": {
      "image/png": "[encoded data removed]",
      "text/plain": [
       "<Figure size 432x288 with 1 Axes>"
      ]
     },
     "metadata": {
      "needs_background": "light"
     },
     "output_type": "display_data"
    }
   ],
   "source": [
    "plt.gca().add_patch(plt.Rectangle((0, 0), 4, 2 ,fc=\"red\"))\n",
    "plt.axis('scaled')\n",
    "plt.show()"
   ]
  },
  {
   "cell_type": "code",
   "execution_count": null,
   "metadata": {},
   "outputs": [],
   "source": [
    "lst = [2,3.5,1.7]\n",
    "lst."
   ]
  },
  {
   "cell_type": "markdown",
   "metadata": {},
   "source": [
    "[GoTop](#GoTop) <a id='SQL_Database'></a>\n",
    "# Stuff related to the edX course on SQL/Database\n",
    "\n",
    "**The main purpose of a database management system is not just to store the data, but also facilitate retrieval of the data.**\n",
    "\n",
    "SQL is usually said/pronounced like 'SiQuel' because SQL in the past used to be \"SEQUEL\" for **Structured English QUErry Language\".\n",
    "\n",
    "However, if SQL is part of other composite words such as MySQL etc, then it is usually pronounced with the names of the three letters i.e. S. Q. L. (or Es-Que-El)."
   ]
  },
  {
   "cell_type": "markdown",
   "metadata": {},
   "source": [
    "Source: https://courses.edx.org/courses/course-v1:IBM+DB0201EN+3T2020/courseware/c84c4873118d4e78a7bb11c2a1706c70/f8753f2d5c9142348822021e496168fc/?child=first (edX \"Video: How to Create a Database Instance on Cloud (5:51))\")\n",
    "### Examples of Cloud databases\n",
    "* IBM Db2\n",
    "* Databases for PostgreSQL\n",
    "* Oracle Database Cloud Service\n",
    "* Microsoft Azure SQL Database\n",
    "* Amazon Relational Database Services (RDS)\n",
    "\n",
    "Available as:\n",
    "* VMs (Virtual Machines) or Managed Service\n",
    "* Single- or Multi-tenant\n",
    "\n",
    "Advantages of Cloud Databases\n",
    "* Ease of Use & Access \n",
    "    - from virtually anywhere through vendor's API or Web interface, or your own applications (whether on cloud or remote).\n",
    "* Scalability\n",
    "    - Can expand or shrink storage and computing resources to accommodate changing needs (so pay only for what is actually used.)\n",
    "* Disaster recovery (due to backups in geographically distributed remote servers)\n",
    "\n",
    "To run a database in cloud, you must first provision an instance of the database service on the cloud platform of your choice. \n",
    "\n",
    "An instance of a **database as a service (DBAAS)** _(Memory help: Nepali name/word Divas or Dibas)_ provides users with access to database resources in cloud without the need for **setting up of the underlying hardware, installing the database software and administering the database**. \n",
    "\n",
    "The DBAAS instance will hold your data in related tables. Once your data is loaded into the database instance, you can connect to the instance using a web interface or API in your applications. Once connected, your application can send SQL queries across to the database instance. The instance then resolves the SQL statements into operations against the data and objects in the database. Any data retrieved is returned to the application as a result set.\n",
    "\n",
    "#### Now, let's see how a service instance is created for Db2 on Cloud\n",
    "\n",
    "Note: there are several variations of the Db2 service including **Db2 hosted and Db2 warehouse**. For our purposes, we will choose the \"Db2 Service\" which comes with a free light plan."
   ]
  },
  {
   "cell_type": "markdown",
   "metadata": {},
   "source": [
    "## From **Course / Module 2 - Basic SQL /Video: CREATE Table Statement (3m)**\n",
    "\n",
    "SQL statements are used for interacting with entities (i.e. tables), attributes (i.e. columns) and their tuples (or rows with data values) in relational databases.\n",
    "\n",
    "**SQL statements fall into two categories:**\n",
    "* **Data Definition Language (DDL)** statements \n",
    "    - used to define, change, or drop data\n",
    "    - Common DDL statement types include: CREATE, ALTER, TRUNCATE, DROP\n",
    "        * CREATE: which is used for creating tables and defining its columns;\n",
    "        * ALTER: is used for altering tables including adding and dropping columns and modifying their datatypes;\n",
    "        * TRUNCATE: is used for deleting data in a table but not the table itself;\n",
    "        * DROP: is used for deleting tables.\n",
    "* **Data Manipulation Language (DML)** statements\n",
    "    - used to read and modify **rows** i.e., **data** in tables.\n",
    "    - These are also sometimes referred to as **CRUD operations, i.e., Create, Read, Update and Delete** rows in a table.\n",
    "        * It seems CREATE is not DDL but it's mentioned here and in CRUD. Don't know why.\n",
    "        * Actually, when I selected CREATE as only DDL, I failed a edX Quiz question, thus losing some points.\n",
    "    - Common DML statement types include: INSERT, SELECT, UPDATE and DELETE. Therefore, These are also sometimes referred to as **CRUD operations**.\n",
    "        * INSERT: is used for inserting a row or several rows of data into a table;\n",
    "        * SELECT: reads or selects row or rows from a table;\n",
    "        * UPDATE: edits row or rows in a table;\n",
    "        * DELETE: removes a row or rows of data from a table.\n",
    "        \n",
    "For more languages in SQL see the following image from this obtained from a web forum on SQL.\n",
    "\n",
    "![SQL, DDL, DML, DCL, TCL chart](Images/SQL_DDL_DML_DCL_TCL_chart.png)"
   ]
  },
  {
   "cell_type": "code",
   "execution_count": 1,
   "metadata": {},
   "outputs": [
    {
     "name": "stdout",
     "output_type": "stream",
     "text": [
      "\u001b[34mImages\u001b[m\u001b[m\n",
      "edX Course - Python Basics for Data Science - some notes and codes.ipynb\n"
     ]
    }
   ],
   "source": [
    "!ls"
   ]
  },
  {
   "cell_type": "markdown",
   "metadata": {},
   "source": [
    "### From edX \"Course /Module 3 - String Patterns, Ranges, Sorting, and Grouping/Video: Using String Patterns, Ranges (4m)\"\n",
    "\n",
    "`%` symbol is used as wild card in SQL. Let's say we have a 'Books' table (as part of a library database) contains a book in each row and one of the columns is the first name of the author. Now, if we want a particular book by an author whose name we forgot but we know the first letter of his/her name is 'F' (for example), then, we would select all the rows that has author's first name starting with 'F' using the following line of Querry:\n",
    "\n",
    "`SELECT firstname from Books WHERE firstname LIKE 'M%';`\n",
    "\n",
    "Following selects books whose number of pages is between 290 and 300:\n",
    "\n",
    "`select title, pages from Books WHERE pages >= 290 AND pages <= 300`\n",
    "\n",
    "We can also use a range of numbers to specify the same condition. Instead of using the comparison operators `>=` i.e. 'greater than or equal to', we use the comparison operator **between and**. 'Between and' compares two values. The values in the range are inclusive. Thus, the equivalent alternative statement would be as follows:\n",
    "\n",
    "`select title, pages from Books WHERE pages between 290 AND 300`\n",
    "\n",
    "The result set is the same but the SELECT statement is easier and quicker to write.\n",
    "\n",
    "Also, we can use `IN` for non-numerical values.\n",
    "\n",
    "`select firstname, lastname, country from Author WHERE country IN ('AU', 'BR')`"
   ]
  },
  {
   "cell_type": "markdown",
   "metadata": {},
   "source": [
    "### Video: Sorting Result Sets (2:49)\n",
    "**ORDER BY** clause can be used to sort the result sets. For example:\n",
    "\n",
    "`SELECT title from Books ORDER BY title;`\n",
    "\n",
    "By default, the result set is sorted in ascending order.\n",
    "To sort in descending order, use the key word\" desc.\"\n",
    "\n",
    "`SELECT title from Books ORDER BY title DESC;`\n",
    "\n",
    "Another way of specifying the sort column is to indicate the column sequence number.\n",
    "\n",
    "`SELECT firstname, pages from Books ORDER BY 2;`\n",
    "\n",
    "Result Set example:\n",
    "\n",
    "    Firstname              Pages\n",
    "    ----------------------------\n",
    "    Krishna                 278\n",
    "    Bishnu                  280\n",
    "    Bharat                  350\n",
    "    ....                    ...\n",
    "    \n",
    "In this example, 2 indicates the column sequence number.\n",
    "Instead of specifying the column name `pages`, the number two is used.\n",
    "In the select statement, the second column specified in the column list is `pages`, so the sort order is based on the values in the pages (or 2nd) column. In this case, the pages column indicates the number of pages in the book. The result set is in ascending order by number of pages.\n",
    "\n",
    "#### To order by multiple columns\n",
    "(Ref: https://www.sqlservertutorial.net/sql-server-basics/sql-server-order-by/)\n",
    "\n",
    "Let's say we have a table of employees that has several columns such as firstname, lastname, dept_ID etc and we want to **retrieve a list of employees ordered in descending order by department ID and within each department ordered alphabetically in descending order by last name**, then we would use the following statement:\n",
    "\n",
    "```\n",
    "SELECT\n",
    "    first_name,\n",
    "    last_name\n",
    "    dept_id\n",
    "FROM\n",
    "    employees\n",
    "ORDER BY\n",
    "    dept_ID DESC,\n",
    "    last_name ASC;\n",
    "```\n",
    " If you specify multiple columns, the result set is sorted by the first column and then that sorted result set is sorted by the second column, and so on.\n",
    "\n",
    "The columns that appear in the ORDER BY clause must correspond to either column in the select list or to columns defined in the table specified in the FROM clause."
   ]
  },
  {
   "cell_type": "markdown",
   "metadata": {},
   "source": [
    "### Video: Grouping Result Sets (3:37)\n",
    "### **Eliminating Duplicates - DISTINCT clause**\n",
    "\n",
    "The statement `select country from Author ORDER BY 1` will list the countries of all the authors. Sometimes, there may be several authors from the same country, so, we may see same country names several times. But, if we want to see a country name only once no matter whether there are more than one authors from a country, we'll have to use 'DISTINCT' clause.\n",
    "\n",
    "`SELECT distinct(country) from Author`\n",
    "\n",
    "#### Counting frequencies - GROUP BY clause\n",
    "`select country, count(country) from Author GROUP BY country`\n",
    "\n",
    "Above statement will display a result set something like as follows with a new column for frequency with a title '2' (indicating the second column):\n",
    "    \n",
    "    Country      2\n",
    "    -----------------\n",
    "    AU          1\n",
    "    BR          3\n",
    "    CA          2\n",
    "    US          10\n",
    "         4 records(s) selected\n",
    "         \n",
    "The second column in the result set was calculated by the count function. Instead of using the column named \"2,\" we can assign a column name to the result set. We do this using the \"**as**\" keyword. \n",
    "\n",
    "`select country, count(country) AS Count from Author GROUP BY country`\n",
    "\n",
    "#### Restricting the Result Set - HAVING clause\n",
    "Now that we have the count of authors from different countries,\n",
    "we can further restrict the number of rows by passing some conditions.\n",
    "For example, we can check if there are more than four authors from the same country.\n",
    "To set a condition to a \"group by\" clause, we use the keyword \"having\".\n",
    "\n",
    "`select country, count(country) \n",
    "AS Count from Author \n",
    "GROUP BY country\n",
    "having count(country) > 4`\n",
    "\n",
    "\n",
    "The \"having\" clause is used in combination with the \"group by\" clause.\n",
    "It is very important to note that the \"where\" clause is for the entire result set,\n",
    "but the \"having\" clause works only with the \"group by\" clause.\n",
    "To check if there are more than four authors from the same country,"
   ]
  },
  {
   "cell_type": "markdown",
   "metadata": {},
   "source": [
    "### Video: Built-in Database Functions (6:16)\n",
    "(https://learning.edx.org/course/course-v1:IBM+DB0201EN+3T2020/block-v1:IBM+DB0201EN+3T2020+type@sequential+block@d77fa5542e054c7089e019bedd004e8d/block-v1:IBM+DB0201EN+3T2020+type@vertical+block@9091db1a44664f64ae1807af63535ce0)\n",
    "\n",
    "While it is **very much possible to first fetch data from a database and\n",
    "then perform operations** on it from your applications and notebooks,\n",
    "**most databases come with Built-in Functions.**\n",
    "These functions **can be included in SQL statements, allowing you to perform operations on\n",
    "data right within the database itself.\n",
    "Using database functions can significantly reduce\n",
    "the amount of data that needs to be retrieved from the database.\n",
    "That is, reduces network traffic and use of bandwidth.**\n",
    "\n",
    "When working with large data sets, **it may be faster to use built in functions,\n",
    "rather than first retrieving the data into your application and then\n",
    "executing functions on the retrieved data.**\n",
    "\n",
    "Note that it is also possible to create your own functions,\n",
    "that is User-Defined Functions in the database; but that is a more advanced topic."
   ]
  },
  {
   "cell_type": "markdown",
   "metadata": {},
   "source": [
    "### Course/Module 4 - Functions, Sub-Queries, Multiple Tables/Video: Working with Multiple Tables (6m)\n",
    "Ways to access multiple tables in the same querry:\n",
    "   * Sub-queries\n",
    "   * Implicit JOIN\n",
    "   * JOIN operators (INNER JOIN, OUTER JOIN, etc.)\n",
    "\n",
    "#### Column Expression\n",
    "... Revisit the video ...\n",
    "\n",
    "Following querry fails (perhaps because Avg(salary) is a single number associated with the wole set of data in the salary column),\n",
    "\n",
    "    select EMP_ID, SALARY, AVG(SALARY) AS AVG_SALARY from employees ; -- Failing statement\n",
    "\n",
    "But following uses the Column Expression (sub-querry or sub-select) that retrieves all employees records and average salary in every row\n",
    "\n",
    "    select EMP_ID, SALARY, ( select AVG(SALARY) from employees ) AS AVG_SALARY from employees ;\n",
    "\n",
    "\n",
    "#### Table JOIN:\n",
    "Consider the following: \n",
    "\n",
    "    select * from employees, departments;\n",
    "    \n",
    "Here we specify two tables in the FROM clause.\n",
    "**This results in a table join**, but note **we are not explicitly using the join operator.** (Therefore, this is an **IMPLICIT JOIN** I guess).\n",
    "\n",
    "**The resulting join** in this example is **called a full join or Cartesian join**, because every row in the first table is joined with every row in the second table. If you examine the results set, you will see more rows than in both tables individually.\n",
    "\n",
    "We can use additional operands to limit the result set.\n",
    "\n",
    "    select * from employees, departments\n",
    "            where employees.DEP_ID = departments.DEPT_ID_DEP;\n",
    "    \n",
    "Or, equivalently, using shorter aliases for table names:\n",
    "\n",
    "    select * from employees E, departments D\n",
    "            where E.DEP_ID = D.DEPT_ID_DEP;\n",
    "    \n",
    "If we wanted to see the department name for each employee, we would enter the code as follows: \n",
    "\n",
    "    select EMP_ID, DEP_NAME from employees E, departments D\n",
    "            where E.DEP_ID = D.DEPT_ID_DEP; \n",
    "            \n",
    "Similar to before, the column names in the select clause can also be prefixed by aliases as shown in the query.\n",
    "\n",
    "    select E.EMP_ID, D.DEP_NAME from employees E, departments D\n",
    "            where E.DEP_ID = D.DEPT_ID_DEP; \n"
   ]
  },
  {
   "cell_type": "markdown",
   "metadata": {},
   "source": [
    "### Module 5 - Accessing Databases Using Python/Video: Writing Code Using DB-API (5m)\n",
    "As we saw in the beginning of this module,\n",
    "the user writes Python programs using a Jupyter notebook.\n",
    "There is a mechanism by which the Python code communicates with the DBMS.\n",
    "The Python code connects to the database using DB-API calls.\n",
    "DB-API is Python's standard API for accessing relational databases.\n",
    "It is a standard that allows you to write a single program that works with multiple kinds\n",
    "of relational databases instead of writing a separate program for each one.\n",
    "So, if you learn the DB-API functions,\n",
    "then you can apply that knowledge to use any database with Python.\n",
    "Here are some advantages of using the DB-API.\n",
    "It's easy to implement and understand.\n",
    "This API has been defined to encourage similarity between\n",
    "the Python modules that are used to access databases.\n",
    "It achieves consistency which leads to more easily understood modules.\n",
    "The code is generally more portable across databases,\n",
    "and it has a broader reach of database connectivity from Python.\n",
    "As we know, each database system has its own library.\n",
    "As you can see, the table shows a list of a few databases and\n",
    "corresponding DB-APIs to connect to Python applications.\n",
    "The IBM_db library is used to connect to an IBM DB2 database.\n",
    "The MySQL Connector/Python library is used to connect to a Compose for MySQL database.\n",
    "The psycopg2 library is used to connect to a Compose from PostgreSQL database.\n",
    "And finally, the PyMongo library is used to connect to a Compose for MongoDB database.\n",
    "The two main concepts in the Python DB-API are connection objects and query objects.\n",
    "You use connection objects to connect to a database and manage your transactions.\n",
    "Cursor objects are used to run queries.\n",
    "You open a cursor object and then run queries.\n",
    "The cursor works similar to a cursor in a text processing system where\n",
    "you scroll down in your result set and get your data into the application.\n",
    "Cursors are used to scan through the results of a database.\n",
    "The DB_API includes a connect constructor for creating a connection to the database.\n",
    "It returns a Connection Object, which is then used by the various connection methods.\n",
    "These connection methods are:\n",
    "The cursor() method, which returns a new cursor object using the connection.\n",
    "The commit() method, which is used to commit any pending transaction to the database.\n",
    "The rollback() method, which causes the database to roll back to the start of any pending transaction.\n",
    "The close() method, which is used to close a database connection.\n",
    "These objects represent a database cursor, which is used to manage the content of a fetch operation.\n",
    "Cursors created from the same connection are not isolated\n",
    "that is, any changes done to the database by\n",
    "a cursor are immediately visible by the other cursors.\n",
    "Cursors created from different connections can or cannot be\n",
    "isolated depending on how the transaction support is implemented.\n",
    "A database cursor is a control structure that\n",
    "enables traversal over the records in a database.\n",
    "It behaves like a file name or file handle in a programming language.\n",
    "Just as a program opens a file to access its contents,\n",
    "it opens a cursor to gain access to the query results.\n",
    "Similarly, the program closes a file to end\n",
    "its access and closes a cursor to end access to the query results.\n",
    "Another similarity is that just as file handle keeps\n",
    "track of the program's current position within an open file,\n",
    "a cursor keeps track of the program's current position within the query results.\n",
    "Let's walk through a Python application that uses the DB-API to query a database.\n",
    "First, you import your database module by using the connect API from that module.\n",
    "To open a connection to the database,\n",
    "you use the connect constructor and pass in the parameters, that is,\n",
    "the database name, username, and password.\n",
    "The connect function returns connection object.\n",
    "After this, you create a cursor object on the connection object.\n",
    "The cursor is used to run queries and fetch results.\n",
    "After running the queries, using the cursor,\n",
    "we also use the cursor to fetch the results of the query.\n",
    "Finally, when the system is done running the queries,\n",
    "it frees all resources by closing the connection.\n",
    "Remember that it is always important to close\n",
    "connections to avoid unused connections taking up resources."
   ]
  },
  {
   "cell_type": "markdown",
   "metadata": {},
   "source": [
    "https://martinfowler.com/eaaCatalog/queryObject.html\n",
    "**A Query Object** is an interpreter `[Gang of Four]`, that is, a structure of objects that can form itself into a SQL query. You can create this query by refer-ring to classes and fields rather than tables and columns. In this way those who write the queries can do so independently of the database schema and changes to the schema can be localized in a single place.\n",
    "\n",
    "https://www.c-sharpcorner.com/article/cursors-in-sql-server/ A SQL cursor is a database object that is used to retrieve data from a result set one row at a time. A SQL cursor is used when the data needs to be updated row by row. "
   ]
  },
  {
   "cell_type": "markdown",
   "metadata": {},
   "source": [
    "### ODBC\n",
    "https://en.wikipedia.org/wiki/Open_Database_Connectivity\n",
    "\n",
    "In computing, Open Database Connectivity (ODBC) is a standard application programming interface (API) for accessing database management systems (DBMS) . The designers of ODBC aimed to make it independent of database systems and operating systems.[citation needed] An application written using ODBC can be ported to other platforms, both on the client and server side, with few changes to the data access code.\n",
    "\n",
    "ODBC accomplishes DBMS independence by using an ODBC driver as a translation layer between the application and the DBMS. The application uses ODBC functions through an ODBC driver manager with which it is linked, and the driver passes the query to the DBMS. An ODBC driver can be thought of as analogous to a printer driver or other driver, providing a standard set of functions for the application to use, and implementing DBMS-specific functionality. An application that can use ODBC is referred to as \"ODBC-compliant\". Any ODBC-compliant application can access any DBMS for which a driver is installed. Drivers exist for all major DBMSs, many other data sources like address book systems and Microsoft Excel, and even for text or comma-separated values (CSV) files.\n",
    "\n",
    "ODBC was originally developed by Microsoft and Simba Technologies during the early 1990s, and became the basis for the Call Level Interface (CLI) standardized by SQL Access Group in the Unix and mainframe field. ODBC retained several features that were removed as part of the CLI effort. Full ODBC was later ported back to those platforms, and became a de facto standard considerably better known than CLI. The CLI remains similar to ODBC, and applications can be ported from one platform to the other with few changes. "
   ]
  },
  {
   "cell_type": "markdown",
   "metadata": {},
   "source": [
    "### SQL Magic \n",
    "Source: edX **Hands-on Tutorial: Accessing Databases with SQL Magic (20m)**\n",
    "\n",
    "To communicate with SQL Databases from within a JupyterLab notebook, we can use the SQL \"magic\" provided by the ipython-sql extension. \"Magic\" is JupyterLab's term for special commands that start with \"%\". Below, we'll use the load___ext magic to load the ipython-sql extension. In the lab environemnt provided in the course the ipython-sql extension is already installed and so is the ibm_db_sa driver."
   ]
  },
  {
   "cell_type": "markdown",
   "metadata": {},
   "source": [
    "## Module 6 Video: Getting Table and Column Details (4:09)\n",
    "In this video, we'll look at how to get information about\n",
    "tables and their columns in a database.\n",
    "Now how would you get a list of tables in the database?\n",
    "Sometimes your database may contain several tables,\n",
    "and you may not remember the correct name.\n",
    "\n",
    "**Database systems typically contain system or catalog tables**,from where you can query the list of tables and get their properties.\n",
    "\n",
    "* In DB2 this catalog is called **SYSCAT.TABLES**.\n",
    "* In SQL Server, it's **INFORMATION_SCHEMA.TABLES**.\n",
    "* And in Oracle it's **ALL_TABLES** or **USER_TABLES**.\n",
    "\n",
    "To Querry system catalog to get a list of tables and their properties:\n",
    "\n",
    "    SELECT * from SYSCAT.TABLES;\n",
    "    \n",
    "This select statement will return too many tables including system tables, so it's better to filter the result as shown here.\n",
    "\n",
    "    SELECT tabschema, tabname, create_time \n",
    "          FROM  SYSCAT.TABLES\n",
    "          WHERE tabschema = 'ABC12345';\n",
    "          \n",
    "Please ensure that you replace ABC12345 with your own DB2 username. When you do a select star from syscat tables,\n",
    "you get all the properties of the tables.\n",
    "\n",
    "If there is a table named 'DOGS', we can obtain its column names as follows:\n",
    "\n",
    "    SELECT * FROM SYSCAT.TABLES WHERE tabname = 'DOGS';"
   ]
  },
  {
   "cell_type": "markdown",
   "metadata": {},
   "source": [
    "### From the Hands-on Lab: Hands-on Lab: Practice Querying Real World Data Sets (45m) (DB0201EN-Week4-1-1-RealDataPractice)\n",
    "\n",
    "In many cases the dataset to be analyzed is available as a .CSV (comma separated values) file, perhaps on the internet. To analyze the data using SQL, it first needs to be stored in the database.\n",
    "\n",
    "While it is **easier to read the dataset into a Pandas dataframe and then PERSIST it into the database** as we saw in the previous lab, it results in mapping to default datatypes which may not be optimal for SQL querying. For example a long textual field may map to a **CLOB** instead of a VARCHAR.\n",
    "\n",
    "Therefore, it is highly recommended to manually load the table using the database console LOAD tool, as indicated in Week 2 Lab 1 Part II. The only difference with that lab is that in Step 5 of the instructions you will need to click on create \"(+) New Table\" and specify the name of the table you want to create and then click \"Next\". \n",
    "\n",
    "#### CLOB\n",
    "https://techterms.com/definition/clob : **CLOB** Stands for **\"Character Large Object.\"** A CLOB is a data type used by various database management systems, including Oracle and DB2. It stores large amounts of character data, up to 4 GB in size. The CLOB data type is similar to a BLOB, but includes character encoding, which defines a character set and the way each character is represented. BLOB data, on the other hand, consists of unformatted binary data.\n",
    "\n",
    "Common data types used for storing character data include char, varchar, and text. Some database management systems also support additional text data types such as tinytext, mediumtext, and longtext. If the standard character data types are not large enough for a certain database field, the CLOB data type may be used. Since CLOB data may be very large, some database management systems do not store the text directly in the table. Instead, the CLOB field serves as an address, which references the location of the data.\n",
    "\n",
    "CLOBs provide a way to store unusually large amounts of text, such as an entire book or publication. However, some database programs cannot run certain text operations on CLOB fields, such SQL commands with the \"LIKE\" condition. Therefore, it is often better to use other character data types for smaller text values.\n",
    "\n",
    "### BLOB\n",
    "If you're like me, you picture a blob as a enigmatic green object that lacks a defined shape or size. In the computer world, however, blobs are a bit easier to define. The term **\"blob\" actually stands for \"Binary Large Object\"** and is used for storing information in databases.\n",
    "\n",
    "A blob is a data type that can store binary data. This is different than most other data types used in databases, such as integers, floating point numbers, characters, and strings, which store letters and numbers. Since blobs can store binary data, they can be used to store images or other multimedia files. For example, a photo album could be stored in a database using a blob data type for the images, and a string data type for the captions.\n",
    "\n",
    "Because blobs are used to store objects such as images, audio files, and video clips, they often require significantly more space than other data types. The amount of data a blob can store varies depending on the database type, but some databases allow blob sizes of several gigabytes. Now that is a big blob!"
   ]
  },
  {
   "cell_type": "markdown",
   "metadata": {},
   "source": [
    "## Displaying first few (N) rows from a database table\n",
    "\n",
    "Ref: https://use-the-index-luke.com/sql/partial-results/top-n-queries\n",
    "\n",
    "Top-N queries are queries that limit the result to a specific number of rows. These are often queries for the most recent or the “best” entries of a result set. For efficient execution, the ranking must be done with a [pipelined order by](https://use-the-index-luke.com/sql/sorting-grouping/indexed-order-by).\n",
    "\n",
    "The simplest way to fetch only the first rows of a query is fetching the required rows and then closing the statement. Unfortunately, the optimizer cannot foresee that when preparing the execution plan. To select the best execution plan, the optimizer has to know if the application will ultimately fetch all rows. In that case, a full table scan with explicit sort operation might perform best, although a pipelined `order by` could be better when fetching only ten rows—even if the database has to fetch each row individually. That means that the optimizer has to know if you are going to abort the statement before fetching all rows so it can select the best execution plan.\n",
    "\n",
    "    Tip\n",
    "\n",
    "        Inform the database whenever you don’t need all rows.\n",
    "\n",
    "The SQL standard excluded this requirement for a long time. The corresponding extension (`fetch first`) was finally introduced with SQL:2008 and is currently available in IBM DB2, PostgreSQL, SQL Server 2012 and Oracle 12c. On the one hand, this is because the feature is a non-core extension, and on the other hand it’s because each database has been offering its own proprietary solution for many years.\n",
    "\n",
    "The following examples show the use of these well-known extensions by querying the ten most recent sales. The basis is always the same: fetching all sales, beginning with the most recent one. The respective top-N syntax just aborts the execution after fetching ten rows."
   ]
  },
  {
   "cell_type": "markdown",
   "metadata": {},
   "source": [
    "* **DB2:** `SELECT * FROM sales ORDER BY sale_date DESC FETCH FIRST 10 ROWS ONLY`\n",
    "    * DB2 supports the standard’s `fetch first` syntax since version 9 at least (LUW and zOS).\n",
    "    * The proprietary `limit` keyword is supported since DB2 LUW 9.7 (requires db2set DB2_COMPATIBILITY_VECTOR=MYS).\n",
    "* **MySQL:** `SELECT * FROM sales ORDER BY sale_date DESC LIMIT 10`\n",
    "    * MySQL and PostgreSQL use the limit clause to restrict the number of rows to be fetched.\n",
    "* **Oracle:** `SELECT * FROM (SELECT * FROM sales ORDER BY sale_date DESC) WHERE rownum <= 10`\n",
    "    * The Oracle database introduced the fetch first extension with release 12c. With earlier releases you have to use the pseudo column ROWNUM that numbers the rows in the result set automatically. To use this column in a filter, we have to wrap the query.\n",
    "* **PostgreSQL:** `SELECT * FROM sales ORDER BY sale_date DESC FETCH FIRST 10 ROWS ONLY`  (same as in DB2)\n",
    "    * PostgreSQL supports the `fetch first` extension since version 8.4. The previously used `limit` clause still works as shown in the MySQL example.\n",
    "* **SQL Server:** `SELECT TOP 10 * FROM sales ORDER BY sale_date DESC`\n",
    "    * SQL Server provides the top clause to restrict the number of rows to be fetched.\n",
    "    * Starting with release 2012, SQL Server supports the fetch first extension as well.\n",
    "\n",
    "All of the above shown SQL queries are special because the databases recognize them as top-N queries.\n",
    "\n",
    "    Important\n",
    "\n",
    "        The database can only optimize a query for a partial result if it knows this from the beginning.\n",
    "\n",
    "If the optimizer is aware of the fact that we only need ten rows, it will prefer to use a pipelined `order by` if applicable:"
   ]
  },
  {
   "cell_type": "markdown",
   "metadata": {},
   "source": [
    "[GoTop](#GoTop) <a id='DataVisualization'></a>\n",
    "## Stuff from course IBM DV0101EN: Visualizing Data with Python"
   ]
  },
  {
   "cell_type": "markdown",
   "metadata": {},
   "source": [
    "### Matplotlib (Scripting Interface)\n",
    "\n",
    " you will appreciate the power of this interface when you find out that\n",
    " \n",
    "one can  literally create **almost all of the conventional visualization tools** such as histograms, bar charts, box plots and many others **using one function only: the plot function**.\n",
    "\n"
   ]
  },
  {
   "cell_type": "code",
   "execution_count": 6,
   "metadata": {},
   "outputs": [
    {
     "data": {
      "text/plain": [
       "[<matplotlib.lines.Line2D at 0x114b88c90>]"
      ]
     },
     "execution_count": 6,
     "metadata": {},
     "output_type": "execute_result"
    },
    {
     "data": {
      "image/png": "[encoded data removed]",
      "text/plain": [
       "<Figure size 432x288 with 1 Axes>"
      ]
     },
     "metadata": {
      "needs_background": "light"
     },
     "output_type": "display_data"
    }
   ],
   "source": [
    "%matplotlib inline\n",
    "import matplotlib.pyplot as plt\n",
    "plt.plot(5,5,'o')\n",
    "#plt.show()"
   ]
  },
  {
   "cell_type": "markdown",
   "metadata": {},
   "source": [
    "Notice how the plot was generated within the browser and not in a separate window for example. If the plot gets generated in a new window then you can enforce generating plots within the browser using what's called a magic function. A magic function starts with `%matplotlib`, and to enforce plots to be rendered within the browser, you pass in `inline` as the backend.\n",
    "Matplotlib has a number of different backends available. One limitation of this backend is that you cannot modify a figure once\n",
    "it's rendered. So after rendering the above figure, there is no way for us to\n",
    "add, for example, a figure title or label its axes. You will need to generate a\n",
    "new plot and add a title and the axes labels before calling the show\n",
    "function. A backend that overcomes this limitation is the `notebook` backend.\n",
    "With the notebook backend in place (i.e. with `%matplotlib notebook`), if a plt function is called, it checks if an\n",
    "active figure exists, and any functions you call will be applied to this active\n",
    "figure. If a figure does not exist, it renders a new figure. \n",
    "\n",
    "### Interactive Plot with 'notebook' backend i.e. `%matplotlib notebook`"
   ]
  },
  {
   "cell_type": "code",
   "execution_count": 1,
   "metadata": {},
   "outputs": [
    {
     "data": {
      "application/javascript": [
       "/* Put everything inside the global mpl namespace */\n",
       "window.mpl = {};\n",
       "\n",
       "\n",
       "mpl.get_websocket_type = function() {\n",
       "    if (typeof(WebSocket) !== 'undefined') {\n",
       "        return WebSocket;\n",
       "    } else if (typeof(MozWebSocket) !== 'undefined') {\n",
       "        return MozWebSocket;\n",
       "    } else {\n",
       "        alert('Your browser does not have WebSocket support. ' +\n",
       "              'Please try Chrome, Safari or Firefox ≥ 6. ' +\n",
       "              'Firefox 4 and 5 are also supported but you ' +\n",
       "              'have to enable WebSockets in about:config.');\n",
       "    };\n",
       "}\n",
       "\n",
       "mpl.figure = function(figure_id, websocket, ondownload, parent_element) {\n",
       "    this.id = figure_id;\n",
       "\n",
       "    this.ws = websocket;\n",
       "\n",
       "    this.supports_binary = (this.ws.binaryType != undefined);\n",
       "\n",
       "    if (!this.supports_binary) {\n",
       "        var warnings = document.getElementById(\"mpl-warnings\");\n",
       "        if (warnings) {\n",
       "            warnings.style.display = 'block';\n",
       "            warnings.textContent = (\n",
       "                \"This browser does not support binary websocket messages. \" +\n",
       "                    \"Performance may be slow.\");\n",
       "        }\n",
       "    }\n",
       "\n",
       "    this.imageObj = new Image();\n",
       "\n",
       "    this.context = undefined;\n",
       "    this.message = undefined;\n",
       "    this.canvas = undefined;\n",
       "    this.rubberband_canvas = undefined;\n",
       "    this.rubberband_context = undefined;\n",
       "    this.format_dropdown = undefined;\n",
       "\n",
       "    this.image_mode = 'full';\n",
       "\n",
       "    this.root = $('<div/>');\n",
       "    this._root_extra_style(this.root)\n",
       "    this.root.attr('style', 'display: inline-block');\n",
       "\n",
       "    $(parent_element).append(this.root);\n",
       "\n",
       "    this._init_header(this);\n",
       "    this._init_canvas(this);\n",
       "    this._init_toolbar(this);\n",
       "\n",
       "    var fig = this;\n",
       "\n",
       "    this.waiting = false;\n",
       "\n",
       "    this.ws.onopen =  function () {\n",
       "            fig.send_message(\"supports_binary\", {value: fig.supports_binary});\n",
       "            fig.send_message(\"send_image_mode\", {});\n",
       "            if (mpl.ratio != 1) {\n",
       "                fig.send_message(\"set_dpi_ratio\", {'dpi_ratio': mpl.ratio});\n",
       "            }\n",
       "            fig.send_message(\"refresh\", {});\n",
       "        }\n",
       "\n",
       "    this.imageObj.onload = function() {\n",
       "            if (fig.image_mode == 'full') {\n",
       "                // Full images could contain transparency (where diff images\n",
       "                // almost always do), so we need to clear the canvas so that\n",
       "                // there is no ghosting.\n",
       "                fig.context.clearRect(0, 0, fig.canvas.width, fig.canvas.height);\n",
       "            }\n",
       "            fig.context.drawImage(fig.imageObj, 0, 0);\n",
       "        };\n",
       "\n",
       "    this.imageObj.onunload = function() {\n",
       "        fig.ws.close();\n",
       "    }\n",
       "\n",
       "    this.ws.onmessage = this._make_on_message_function(this);\n",
       "\n",
       "    this.ondownload = ondownload;\n",
       "}\n",
       "\n",
       "mpl.figure.prototype._init_header = function() {\n",
       "    var titlebar = $(\n",
       "        '<div class=\"ui-dialog-titlebar ui-widget-header ui-corner-all ' +\n",
       "        'ui-helper-clearfix\"/>');\n",
       "    var titletext = $(\n",
       "        '<div class=\"ui-dialog-title\" style=\"width: 100%; ' +\n",
       "        'text-align: center; padding: 3px;\"/>');\n",
       "    titlebar.append(titletext)\n",
       "    this.root.append(titlebar);\n",
       "    this.header = titletext[0];\n",
       "}\n",
       "\n",
       "\n",
       "\n",
       "mpl.figure.prototype._canvas_extra_style = function(canvas_div) {\n",
       "\n",
       "}\n",
       "\n",
       "\n",
       "mpl.figure.prototype._root_extra_style = function(canvas_div) {\n",
       "\n",
       "}\n",
       "\n",
       "mpl.figure.prototype._init_canvas = function() {\n",
       "    var fig = this;\n",
       "\n",
       "    var canvas_div = $('<div/>');\n",
       "\n",
       "    canvas_div.attr('style', 'position: relative; clear: both; outline: 0');\n",
       "\n",
       "    function canvas_keyboard_event(event) {\n",
       "        return fig.key_event(event, event['data']);\n",
       "    }\n",
       "\n",
       "    canvas_div.keydown('key_press', canvas_keyboard_event);\n",
       "    canvas_div.keyup('key_release', canvas_keyboard_event);\n",
       "    this.canvas_div = canvas_div\n",
       "    this._canvas_extra_style(canvas_div)\n",
       "    this.root.append(canvas_div);\n",
       "\n",
       "    var canvas = $('<canvas/>');\n",
       "    canvas.addClass('mpl-canvas');\n",
       "    canvas.attr('style', \"left: 0; top: 0; z-index: 0; outline: 0\")\n",
       "\n",
       "    this.canvas = canvas[0];\n",
       "    this.context = canvas[0].getContext(\"2d\");\n",
       "\n",
       "    var backingStore = this.context.backingStorePixelRatio ||\n",
       "\tthis.context.webkitBackingStorePixelRatio ||\n",
       "\tthis.context.mozBackingStorePixelRatio ||\n",
       "\tthis.context.msBackingStorePixelRatio ||\n",
       "\tthis.context.oBackingStorePixelRatio ||\n",
       "\tthis.context.backingStorePixelRatio || 1;\n",
       "\n",
       "    mpl.ratio = (window.devicePixelRatio || 1) / backingStore;\n",
       "\n",
       "    var rubberband = $('<canvas/>');\n",
       "    rubberband.attr('style', \"position: absolute; left: 0; top: 0; z-index: 1;\")\n",
       "\n",
       "    var pass_mouse_events = true;\n",
       "\n",
       "    canvas_div.resizable({\n",
       "        start: function(event, ui) {\n",
       "            pass_mouse_events = false;\n",
       "        },\n",
       "        resize: function(event, ui) {\n",
       "            fig.request_resize(ui.size.width, ui.size.height);\n",
       "        },\n",
       "        stop: function(event, ui) {\n",
       "            pass_mouse_events = true;\n",
       "            fig.request_resize(ui.size.width, ui.size.height);\n",
       "        },\n",
       "    });\n",
       "\n",
       "    function mouse_event_fn(event) {\n",
       "        if (pass_mouse_events)\n",
       "            return fig.mouse_event(event, event['data']);\n",
       "    }\n",
       "\n",
       "    rubberband.mousedown('button_press', mouse_event_fn);\n",
       "    rubberband.mouseup('button_release', mouse_event_fn);\n",
       "    // Throttle sequential mouse events to 1 every 20ms.\n",
       "    rubberband.mousemove('motion_notify', mouse_event_fn);\n",
       "\n",
       "    rubberband.mouseenter('figure_enter', mouse_event_fn);\n",
       "    rubberband.mouseleave('figure_leave', mouse_event_fn);\n",
       "\n",
       "    canvas_div.on(\"wheel\", function (event) {\n",
       "        event = event.originalEvent;\n",
       "        event['data'] = 'scroll'\n",
       "        if (event.deltaY < 0) {\n",
       "            event.step = 1;\n",
       "        } else {\n",
       "            event.step = -1;\n",
       "        }\n",
       "        mouse_event_fn(event);\n",
       "    });\n",
       "\n",
       "    canvas_div.append(canvas);\n",
       "    canvas_div.append(rubberband);\n",
       "\n",
       "    this.rubberband = rubberband;\n",
       "    this.rubberband_canvas = rubberband[0];\n",
       "    this.rubberband_context = rubberband[0].getContext(\"2d\");\n",
       "    this.rubberband_context.strokeStyle = \"#000000\";\n",
       "\n",
       "    this._resize_canvas = function(width, height) {\n",
       "        // Keep the size of the canvas, canvas container, and rubber band\n",
       "        // canvas in synch.\n",
       "        canvas_div.css('width', width)\n",
       "        canvas_div.css('height', height)\n",
       "\n",
       "        canvas.attr('width', width * mpl.ratio);\n",
       "        canvas.attr('height', height * mpl.ratio);\n",
       "        canvas.attr('style', 'width: ' + width + 'px; height: ' + height + 'px;');\n",
       "\n",
       "        rubberband.attr('width', width);\n",
       "        rubberband.attr('height', height);\n",
       "    }\n",
       "\n",
       "    // Set the figure to an initial 600x600px, this will subsequently be updated\n",
       "    // upon first draw.\n",
       "    this._resize_canvas(600, 600);\n",
       "\n",
       "    // Disable right mouse context menu.\n",
       "    $(this.rubberband_canvas).bind(\"contextmenu\",function(e){\n",
       "        return false;\n",
       "    });\n",
       "\n",
       "    function set_focus () {\n",
       "        canvas.focus();\n",
       "        canvas_div.focus();\n",
       "    }\n",
       "\n",
       "    window.setTimeout(set_focus, 100);\n",
       "}\n",
       "\n",
       "mpl.figure.prototype._init_toolbar = function() {\n",
       "    var fig = this;\n",
       "\n",
       "    var nav_element = $('<div/>');\n",
       "    nav_element.attr('style', 'width: 100%');\n",
       "    this.root.append(nav_element);\n",
       "\n",
       "    // Define a callback function for later on.\n",
       "    function toolbar_event(event) {\n",
       "        return fig.toolbar_button_onclick(event['data']);\n",
       "    }\n",
       "    function toolbar_mouse_event(event) {\n",
       "        return fig.toolbar_button_onmouseover(event['data']);\n",
       "    }\n",
       "\n",
       "    for(var toolbar_ind in mpl.toolbar_items) {\n",
       "        var name = mpl.toolbar_items[toolbar_ind][0];\n",
       "        var tooltip = mpl.toolbar_items[toolbar_ind][1];\n",
       "        var image = mpl.toolbar_items[toolbar_ind][2];\n",
       "        var method_name = mpl.toolbar_items[toolbar_ind][3];\n",
       "\n",
       "        if (!name) {\n",
       "            // put a spacer in here.\n",
       "            continue;\n",
       "        }\n",
       "        var button = $('<button/>');\n",
       "        button.addClass('ui-button ui-widget ui-state-default ui-corner-all ' +\n",
       "                        'ui-button-icon-only');\n",
       "        button.attr('role', 'button');\n",
       "        button.attr('aria-disabled', 'false');\n",
       "        button.click(method_name, toolbar_event);\n",
       "        button.mouseover(tooltip, toolbar_mouse_event);\n",
       "\n",
       "        var icon_img = $('<span/>');\n",
       "        icon_img.addClass('ui-button-icon-primary ui-icon');\n",
       "        icon_img.addClass(image);\n",
       "        icon_img.addClass('ui-corner-all');\n",
       "\n",
       "        var tooltip_span = $('<span/>');\n",
       "        tooltip_span.addClass('ui-button-text');\n",
       "        tooltip_span.html(tooltip);\n",
       "\n",
       "        button.append(icon_img);\n",
       "        button.append(tooltip_span);\n",
       "\n",
       "        nav_element.append(button);\n",
       "    }\n",
       "\n",
       "    var fmt_picker_span = $('<span/>');\n",
       "\n",
       "    var fmt_picker = $('<select/>');\n",
       "    fmt_picker.addClass('mpl-toolbar-option ui-widget ui-widget-content');\n",
       "    fmt_picker_span.append(fmt_picker);\n",
       "    nav_element.append(fmt_picker_span);\n",
       "    this.format_dropdown = fmt_picker[0];\n",
       "\n",
       "    for (var ind in mpl.extensions) {\n",
       "        var fmt = mpl.extensions[ind];\n",
       "        var option = $(\n",
       "            '<option/>', {selected: fmt === mpl.default_extension}).html(fmt);\n",
       "        fmt_picker.append(option);\n",
       "    }\n",
       "\n",
       "    // Add hover states to the ui-buttons\n",
       "    $( \".ui-button\" ).hover(\n",
       "        function() { $(this).addClass(\"ui-state-hover\");},\n",
       "        function() { $(this).removeClass(\"ui-state-hover\");}\n",
       "    );\n",
       "\n",
       "    var status_bar = $('<span class=\"mpl-message\"/>');\n",
       "    nav_element.append(status_bar);\n",
       "    this.message = status_bar[0];\n",
       "}\n",
       "\n",
       "mpl.figure.prototype.request_resize = function(x_pixels, y_pixels) {\n",
       "    // Request matplotlib to resize the figure. Matplotlib will then trigger a resize in the client,\n",
       "    // which will in turn request a refresh of the image.\n",
       "    this.send_message('resize', {'width': x_pixels, 'height': y_pixels});\n",
       "}\n",
       "\n",
       "mpl.figure.prototype.send_message = function(type, properties) {\n",
       "    properties['type'] = type;\n",
       "    properties['figure_id'] = this.id;\n",
       "    this.ws.send(JSON.stringify(properties));\n",
       "}\n",
       "\n",
       "mpl.figure.prototype.send_draw_message = function() {\n",
       "    if (!this.waiting) {\n",
       "        this.waiting = true;\n",
       "        this.ws.send(JSON.stringify({type: \"draw\", figure_id: this.id}));\n",
       "    }\n",
       "}\n",
       "\n",
       "\n",
       "mpl.figure.prototype.handle_save = function(fig, msg) {\n",
       "    var format_dropdown = fig.format_dropdown;\n",
       "    var format = format_dropdown.options[format_dropdown.selectedIndex].value;\n",
       "    fig.ondownload(fig, format);\n",
       "}\n",
       "\n",
       "\n",
       "mpl.figure.prototype.handle_resize = function(fig, msg) {\n",
       "    var size = msg['size'];\n",
       "    if (size[0] != fig.canvas.width || size[1] != fig.canvas.height) {\n",
       "        fig._resize_canvas(size[0], size[1]);\n",
       "        fig.send_message(\"refresh\", {});\n",
       "    };\n",
       "}\n",
       "\n",
       "mpl.figure.prototype.handle_rubberband = function(fig, msg) {\n",
       "    var x0 = msg['x0'] / mpl.ratio;\n",
       "    var y0 = (fig.canvas.height - msg['y0']) / mpl.ratio;\n",
       "    var x1 = msg['x1'] / mpl.ratio;\n",
       "    var y1 = (fig.canvas.height - msg['y1']) / mpl.ratio;\n",
       "    x0 = Math.floor(x0) + 0.5;\n",
       "    y0 = Math.floor(y0) + 0.5;\n",
       "    x1 = Math.floor(x1) + 0.5;\n",
       "    y1 = Math.floor(y1) + 0.5;\n",
       "    var min_x = Math.min(x0, x1);\n",
       "    var min_y = Math.min(y0, y1);\n",
       "    var width = Math.abs(x1 - x0);\n",
       "    var height = Math.abs(y1 - y0);\n",
       "\n",
       "    fig.rubberband_context.clearRect(\n",
       "        0, 0, fig.canvas.width / mpl.ratio, fig.canvas.height / mpl.ratio);\n",
       "\n",
       "    fig.rubberband_context.strokeRect(min_x, min_y, width, height);\n",
       "}\n",
       "\n",
       "mpl.figure.prototype.handle_figure_label = function(fig, msg) {\n",
       "    // Updates the figure title.\n",
       "    fig.header.textContent = msg['label'];\n",
       "}\n",
       "\n",
       "mpl.figure.prototype.handle_cursor = function(fig, msg) {\n",
       "    var cursor = msg['cursor'];\n",
       "    switch(cursor)\n",
       "    {\n",
       "    case 0:\n",
       "        cursor = 'pointer';\n",
       "        break;\n",
       "    case 1:\n",
       "        cursor = 'default';\n",
       "        break;\n",
       "    case 2:\n",
       "        cursor = 'crosshair';\n",
       "        break;\n",
       "    case 3:\n",
       "        cursor = 'move';\n",
       "        break;\n",
       "    }\n",
       "    fig.rubberband_canvas.style.cursor = cursor;\n",
       "}\n",
       "\n",
       "mpl.figure.prototype.handle_message = function(fig, msg) {\n",
       "    fig.message.textContent = msg['message'];\n",
       "}\n",
       "\n",
       "mpl.figure.prototype.handle_draw = function(fig, msg) {\n",
       "    // Request the server to send over a new figure.\n",
       "    fig.send_draw_message();\n",
       "}\n",
       "\n",
       "mpl.figure.prototype.handle_image_mode = function(fig, msg) {\n",
       "    fig.image_mode = msg['mode'];\n",
       "}\n",
       "\n",
       "mpl.figure.prototype.updated_canvas_event = function() {\n",
       "    // Called whenever the canvas gets updated.\n",
       "    this.send_message(\"ack\", {});\n",
       "}\n",
       "\n",
       "// A function to construct a web socket function for onmessage handling.\n",
       "// Called in the figure constructor.\n",
       "mpl.figure.prototype._make_on_message_function = function(fig) {\n",
       "    return function socket_on_message(evt) {\n",
       "        if (evt.data instanceof Blob) {\n",
       "            /* FIXME: We get \"Resource interpreted as Image but\n",
       "             * transferred with MIME type text/plain:\" errors on\n",
       "             * Chrome.  But how to set the MIME type?  It doesn't seem\n",
       "             * to be part of the websocket stream */\n",
       "            evt.data.type = \"image/png\";\n",
       "\n",
       "            /* Free the memory for the previous frames */\n",
       "            if (fig.imageObj.src) {\n",
       "                (window.URL || window.webkitURL).revokeObjectURL(\n",
       "                    fig.imageObj.src);\n",
       "            }\n",
       "\n",
       "            fig.imageObj.src = (window.URL || window.webkitURL).createObjectURL(\n",
       "                evt.data);\n",
       "            fig.updated_canvas_event();\n",
       "            fig.waiting = false;\n",
       "            return;\n",
       "        }\n",
       "        else if (typeof evt.data === 'string' && evt.data.slice(0, 21) == \"data:image/png;base64\") {\n",
       "            fig.imageObj.src = evt.data;\n",
       "            fig.updated_canvas_event();\n",
       "            fig.waiting = false;\n",
       "            return;\n",
       "        }\n",
       "\n",
       "        var msg = JSON.parse(evt.data);\n",
       "        var msg_type = msg['type'];\n",
       "\n",
       "        // Call the  \"handle_{type}\" callback, which takes\n",
       "        // the figure and JSON message as its only arguments.\n",
       "        try {\n",
       "            var callback = fig[\"handle_\" + msg_type];\n",
       "        } catch (e) {\n",
       "            console.log(\"No handler for the '\" + msg_type + \"' message type: \", msg);\n",
       "            return;\n",
       "        }\n",
       "\n",
       "        if (callback) {\n",
       "            try {\n",
       "                // console.log(\"Handling '\" + msg_type + \"' message: \", msg);\n",
       "                callback(fig, msg);\n",
       "            } catch (e) {\n",
       "                console.log(\"Exception inside the 'handler_\" + msg_type + \"' callback:\", e, e.stack, msg);\n",
       "            }\n",
       "        }\n",
       "    };\n",
       "}\n",
       "\n",
       "// from http://stackoverflow.com/questions/1114465/getting-mouse-location-in-canvas\n",
       "mpl.findpos = function(e) {\n",
       "    //this section is from http://www.quirksmode.org/js/events_properties.html\n",
       "    var targ;\n",
       "    if (!e)\n",
       "        e = window.event;\n",
       "    if (e.target)\n",
       "        targ = e.target;\n",
       "    else if (e.srcElement)\n",
       "        targ = e.srcElement;\n",
       "    if (targ.nodeType == 3) // defeat Safari bug\n",
       "        targ = targ.parentNode;\n",
       "\n",
       "    // jQuery normalizes the pageX and pageY\n",
       "    // pageX,Y are the mouse positions relative to the document\n",
       "    // offset() returns the position of the element relative to the document\n",
       "    var x = e.pageX - $(targ).offset().left;\n",
       "    var y = e.pageY - $(targ).offset().top;\n",
       "\n",
       "    return {\"x\": x, \"y\": y};\n",
       "};\n",
       "\n",
       "/*\n",
       " * return a copy of an object with only non-object keys\n",
       " * we need this to avoid circular references\n",
       " * http://stackoverflow.com/a/24161582/3208463\n",
       " */\n",
       "function simpleKeys (original) {\n",
       "  return Object.keys(original).reduce(function (obj, key) {\n",
       "    if (typeof original[key] !== 'object')\n",
       "        obj[key] = original[key]\n",
       "    return obj;\n",
       "  }, {});\n",
       "}\n",
       "\n",
       "mpl.figure.prototype.mouse_event = function(event, name) {\n",
       "    var canvas_pos = mpl.findpos(event)\n",
       "\n",
       "    if (name === 'button_press')\n",
       "    {\n",
       "        this.canvas.focus();\n",
       "        this.canvas_div.focus();\n",
       "    }\n",
       "\n",
       "    var x = canvas_pos.x * mpl.ratio;\n",
       "    var y = canvas_pos.y * mpl.ratio;\n",
       "\n",
       "    this.send_message(name, {x: x, y: y, button: event.button,\n",
       "                             step: event.step,\n",
       "                             guiEvent: simpleKeys(event)});\n",
       "\n",
       "    /* This prevents the web browser from automatically changing to\n",
       "     * the text insertion cursor when the button is pressed.  We want\n",
       "     * to control all of the cursor setting manually through the\n",
       "     * 'cursor' event from matplotlib */\n",
       "    event.preventDefault();\n",
       "    return false;\n",
       "}\n",
       "\n",
       "mpl.figure.prototype._key_event_extra = function(event, name) {\n",
       "    // Handle any extra behaviour associated with a key event\n",
       "}\n",
       "\n",
       "mpl.figure.prototype.key_event = function(event, name) {\n",
       "\n",
       "    // Prevent repeat events\n",
       "    if (name == 'key_press')\n",
       "    {\n",
       "        if (event.which === this._key)\n",
       "            return;\n",
       "        else\n",
       "            this._key = event.which;\n",
       "    }\n",
       "    if (name == 'key_release')\n",
       "        this._key = null;\n",
       "\n",
       "    var value = '';\n",
       "    if (event.ctrlKey && event.which != 17)\n",
       "        value += \"ctrl+\";\n",
       "    if (event.altKey && event.which != 18)\n",
       "        value += \"alt+\";\n",
       "    if (event.shiftKey && event.which != 16)\n",
       "        value += \"shift+\";\n",
       "\n",
       "    value += 'k';\n",
       "    value += event.which.toString();\n",
       "\n",
       "    this._key_event_extra(event, name);\n",
       "\n",
       "    this.send_message(name, {key: value,\n",
       "                             guiEvent: simpleKeys(event)});\n",
       "    return false;\n",
       "}\n",
       "\n",
       "mpl.figure.prototype.toolbar_button_onclick = function(name) {\n",
       "    if (name == 'download') {\n",
       "        this.handle_save(this, null);\n",
       "    } else {\n",
       "        this.send_message(\"toolbar_button\", {name: name});\n",
       "    }\n",
       "};\n",
       "\n",
       "mpl.figure.prototype.toolbar_button_onmouseover = function(tooltip) {\n",
       "    this.message.textContent = tooltip;\n",
       "};\n",
       "mpl.toolbar_items = [[\"Home\", \"Reset original view\", \"fa fa-home icon-home\", \"home\"], [\"Back\", \"Back to previous view\", \"fa fa-arrow-left icon-arrow-left\", \"back\"], [\"Forward\", \"Forward to next view\", \"fa fa-arrow-right icon-arrow-right\", \"forward\"], [\"\", \"\", \"\", \"\"], [\"Pan\", \"Pan axes with left mouse, zoom with right\", \"fa fa-arrows icon-move\", \"pan\"], [\"Zoom\", \"Zoom to rectangle\", \"fa fa-square-o icon-check-empty\", \"zoom\"], [\"\", \"\", \"\", \"\"], [\"Download\", \"Download plot\", \"fa fa-floppy-o icon-save\", \"download\"]];\n",
       "\n",
       "mpl.extensions = [\"eps\", \"pdf\", \"png\", \"ps\", \"raw\", \"svg\"];\n",
       "\n",
       "mpl.default_extension = \"png\";var comm_websocket_adapter = function(comm) {\n",
       "    // Create a \"websocket\"-like object which calls the given IPython comm\n",
       "    // object with the appropriate methods. Currently this is a non binary\n",
       "    // socket, so there is still some room for performance tuning.\n",
       "    var ws = {};\n",
       "\n",
       "    ws.close = function() {\n",
       "        comm.close()\n",
       "    };\n",
       "    ws.send = function(m) {\n",
       "        //console.log('sending', m);\n",
       "        comm.send(m);\n",
       "    };\n",
       "    // Register the callback with on_msg.\n",
       "    comm.on_msg(function(msg) {\n",
       "        //console.log('receiving', msg['content']['data'], msg);\n",
       "        // Pass the mpl event to the overridden (by mpl) onmessage function.\n",
       "        ws.onmessage(msg['content']['data'])\n",
       "    });\n",
       "    return ws;\n",
       "}\n",
       "\n",
       "mpl.mpl_figure_comm = function(comm, msg) {\n",
       "    // This is the function which gets called when the mpl process\n",
       "    // starts-up an IPython Comm through the \"matplotlib\" channel.\n",
       "\n",
       "    var id = msg.content.data.id;\n",
       "    // Get hold of the div created by the display call when the Comm\n",
       "    // socket was opened in Python.\n",
       "    var element = $(\"#\" + id);\n",
       "    var ws_proxy = comm_websocket_adapter(comm)\n",
       "\n",
       "    function ondownload(figure, format) {\n",
       "        window.open(figure.imageObj.src);\n",
       "    }\n",
       "\n",
       "    var fig = new mpl.figure(id, ws_proxy,\n",
       "                           ondownload,\n",
       "                           element.get(0));\n",
       "\n",
       "    // Call onopen now - mpl needs it, as it is assuming we've passed it a real\n",
       "    // web socket which is closed, not our websocket->open comm proxy.\n",
       "    ws_proxy.onopen();\n",
       "\n",
       "    fig.parent_element = element.get(0);\n",
       "    fig.cell_info = mpl.find_output_cell(\"<div id='\" + id + \"'></div>\");\n",
       "    if (!fig.cell_info) {\n",
       "        console.error(\"Failed to find cell for figure\", id, fig);\n",
       "        return;\n",
       "    }\n",
       "\n",
       "    var output_index = fig.cell_info[2]\n",
       "    var cell = fig.cell_info[0];\n",
       "\n",
       "};\n",
       "\n",
       "mpl.figure.prototype.handle_close = function(fig, msg) {\n",
       "    var width = fig.canvas.width/mpl.ratio\n",
       "    fig.root.unbind('remove')\n",
       "\n",
       "    // Update the output cell to use the data from the current canvas.\n",
       "    fig.push_to_output();\n",
       "    var dataURL = fig.canvas.toDataURL();\n",
       "    // Re-enable the keyboard manager in IPython - without this line, in FF,\n",
       "    // the notebook keyboard shortcuts fail.\n",
       "    IPython.keyboard_manager.enable()\n",
       "    $(fig.parent_element).html('<img src=\"' + dataURL + '\" width=\"' + width + '\">');\n",
       "    fig.close_ws(fig, msg);\n",
       "}\n",
       "\n",
       "mpl.figure.prototype.close_ws = function(fig, msg){\n",
       "    fig.send_message('closing', msg);\n",
       "    // fig.ws.close()\n",
       "}\n",
       "\n",
       "mpl.figure.prototype.push_to_output = function(remove_interactive) {\n",
       "    // Turn the data on the canvas into data in the output cell.\n",
       "    var width = this.canvas.width/mpl.ratio\n",
       "    var dataURL = this.canvas.toDataURL();\n",
       "    this.cell_info[1]['text/html'] = '<img src=\"' + dataURL + '\" width=\"' + width + '\">';\n",
       "}\n",
       "\n",
       "mpl.figure.prototype.updated_canvas_event = function() {\n",
       "    // Tell IPython that the notebook contents must change.\n",
       "    IPython.notebook.set_dirty(true);\n",
       "    this.send_message(\"ack\", {});\n",
       "    var fig = this;\n",
       "    // Wait a second, then push the new image to the DOM so\n",
       "    // that it is saved nicely (might be nice to debounce this).\n",
       "    setTimeout(function () { fig.push_to_output() }, 1000);\n",
       "}\n",
       "\n",
       "mpl.figure.prototype._init_toolbar = function() {\n",
       "    var fig = this;\n",
       "\n",
       "    var nav_element = $('<div/>');\n",
       "    nav_element.attr('style', 'width: 100%');\n",
       "    this.root.append(nav_element);\n",
       "\n",
       "    // Define a callback function for later on.\n",
       "    function toolbar_event(event) {\n",
       "        return fig.toolbar_button_onclick(event['data']);\n",
       "    }\n",
       "    function toolbar_mouse_event(event) {\n",
       "        return fig.toolbar_button_onmouseover(event['data']);\n",
       "    }\n",
       "\n",
       "    for(var toolbar_ind in mpl.toolbar_items){\n",
       "        var name = mpl.toolbar_items[toolbar_ind][0];\n",
       "        var tooltip = mpl.toolbar_items[toolbar_ind][1];\n",
       "        var image = mpl.toolbar_items[toolbar_ind][2];\n",
       "        var method_name = mpl.toolbar_items[toolbar_ind][3];\n",
       "\n",
       "        if (!name) { continue; };\n",
       "\n",
       "        var button = $('<button class=\"btn btn-default\" href=\"#\" title=\"' + name + '\"><i class=\"fa ' + image + ' fa-lg\"></i></button>');\n",
       "        button.click(method_name, toolbar_event);\n",
       "        button.mouseover(tooltip, toolbar_mouse_event);\n",
       "        nav_element.append(button);\n",
       "    }\n",
       "\n",
       "    // Add the status bar.\n",
       "    var status_bar = $('<span class=\"mpl-message\" style=\"text-align:right; float: right;\"/>');\n",
       "    nav_element.append(status_bar);\n",
       "    this.message = status_bar[0];\n",
       "\n",
       "    // Add the close button to the window.\n",
       "    var buttongrp = $('<div class=\"btn-group inline pull-right\"></div>');\n",
       "    var button = $('<button class=\"btn btn-mini btn-primary\" href=\"#\" title=\"Stop Interaction\"><i class=\"fa fa-power-off icon-remove icon-large\"></i></button>');\n",
       "    button.click(function (evt) { fig.handle_close(fig, {}); } );\n",
       "    button.mouseover('Stop Interaction', toolbar_mouse_event);\n",
       "    buttongrp.append(button);\n",
       "    var titlebar = this.root.find($('.ui-dialog-titlebar'));\n",
       "    titlebar.prepend(buttongrp);\n",
       "}\n",
       "\n",
       "mpl.figure.prototype._root_extra_style = function(el){\n",
       "    var fig = this\n",
       "    el.on(\"remove\", function(){\n",
       "\tfig.close_ws(fig, {});\n",
       "    });\n",
       "}\n",
       "\n",
       "mpl.figure.prototype._canvas_extra_style = function(el){\n",
       "    // this is important to make the div 'focusable\n",
       "    el.attr('tabindex', 0)\n",
       "    // reach out to IPython and tell the keyboard manager to turn it's self\n",
       "    // off when our div gets focus\n",
       "\n",
       "    // location in version 3\n",
       "    if (IPython.notebook.keyboard_manager) {\n",
       "        IPython.notebook.keyboard_manager.register_events(el);\n",
       "    }\n",
       "    else {\n",
       "        // location in version 2\n",
       "        IPython.keyboard_manager.register_events(el);\n",
       "    }\n",
       "\n",
       "}\n",
       "\n",
       "mpl.figure.prototype._key_event_extra = function(event, name) {\n",
       "    var manager = IPython.notebook.keyboard_manager;\n",
       "    if (!manager)\n",
       "        manager = IPython.keyboard_manager;\n",
       "\n",
       "    // Check for shift+enter\n",
       "    if (event.shiftKey && event.which == 13) {\n",
       "        this.canvas_div.blur();\n",
       "        event.shiftKey = false;\n",
       "        // Send a \"J\" for go to next cell\n",
       "        event.which = 74;\n",
       "        event.keyCode = 74;\n",
       "        manager.command_mode();\n",
       "        manager.handle_keydown(event);\n",
       "    }\n",
       "}\n",
       "\n",
       "mpl.figure.prototype.handle_save = function(fig, msg) {\n",
       "    fig.ondownload(fig, null);\n",
       "}\n",
       "\n",
       "\n",
       "mpl.find_output_cell = function(html_output) {\n",
       "    // Return the cell and output element which can be found *uniquely* in the notebook.\n",
       "    // Note - this is a bit hacky, but it is done because the \"notebook_saving.Notebook\"\n",
       "    // IPython event is triggered only after the cells have been serialised, which for\n",
       "    // our purposes (turning an active figure into a static one), is too late.\n",
       "    var cells = IPython.notebook.get_cells();\n",
       "    var ncells = cells.length;\n",
       "    for (var i=0; i<ncells; i++) {\n",
       "        var cell = cells[i];\n",
       "        if (cell.cell_type === 'code'){\n",
       "            for (var j=0; j<cell.output_area.outputs.length; j++) {\n",
       "                var data = cell.output_area.outputs[j];\n",
       "                if (data.data) {\n",
       "                    // IPython >= 3 moved mimebundle to data attribute of output\n",
       "                    data = data.data;\n",
       "                }\n",
       "                if (data['text/html'] == html_output) {\n",
       "                    return [cell, data, j];\n",
       "                }\n",
       "            }\n",
       "        }\n",
       "    }\n",
       "}\n",
       "\n",
       "// Register the function which deals with the matplotlib target/channel.\n",
       "// The kernel may be null if the page has been refreshed.\n",
       "if (IPython.notebook.kernel != null) {\n",
       "    IPython.notebook.kernel.comm_manager.register_target('matplotlib', mpl.mpl_figure_comm);\n",
       "}\n"
      ],
      "text/plain": [
       "<IPython.core.display.Javascript object>"
      ]
     },
     "metadata": {},
     "output_type": "display_data"
    },
    {
     "data": {
      "text/html": [
       "<div id='83a7684f-bace-470e-bd51-c82b106fcc42'></div>"
      ],
      "text/plain": [
       "<IPython.core.display.HTML object>"
      ]
     },
     "metadata": {},
     "output_type": "display_data"
    }
   ],
   "source": [
    "#%matplotlib inline \n",
    "%matplotlib notebook \n",
    "#%matplotlib widget \n",
    "#Initially got \"Javascript Error: IPython is not defined\" for 'notebook'\n",
    "# https://www.thetopsites.net/article/51922480.shtml\n",
    "import matplotlib.pyplot as plt\n",
    "plt.plot(5,5,'o')\n",
    "plt.show()"
   ]
  },
  {
   "cell_type": "code",
   "execution_count": 18,
   "metadata": {},
   "outputs": [],
   "source": [
    "## https://www.thetopsites.net/article/51922480.shtml\n",
    "#!pip install ipympl #Disabled after installing 'ipympl'"
   ]
  },
  {
   "cell_type": "markdown",
   "metadata": {},
   "source": [
    "When I tried to use `%matplotlib notebook` to have an interactive plot, it didn't work intially. It rather gave me \"Javascript Error: IPython is not defined\". So, I googled about the solution and landed at https://stackoverflow.com/questions/50149562/jupyterlab-interactive-plot which has one of the answers as follows:\n",
    "\n",
    "```\n",
    "Complete steps\n",
    "\n",
    "    Install nodejs, e.g. conda install nodejs.\n",
    "    Install ipympl, e.g. pip install ipympl.\n",
    "    [Optional, but recommended; update JupyterLab, e.g.\n",
    "    pip install --upgrade jupyterlab.]\n",
    "    [Optional, but recommended; for a local user installation, run:\n",
    "    export JUPYTERLAB_DIR=\"$HOME/.local/share/jupyter/lab\".]\n",
    "\n",
    "    Install extensions:\n",
    "\n",
    "    jupyter labextension install @jupyter-widgets/jupyterlab-manager\n",
    "    jupyter labextension install jupyter-matplotlib\n",
    "\n",
    "    Enable widgets: jupyter nbextension enable --py widgetsnbextension.\n",
    "    Restart JupyterLab.\n",
    "    Decorate with %matplotlib widget.\n",
    "\n",
    "Not recommended, but to blindly get the widget extension working in Anaconda, you can run the following in a terminal window:\n",
    "\n",
    "conda install -y nodejs\n",
    "pip install ipympl\n",
    "pip install --upgrade jupyterlab\n",
    "jupyter labextension install @jupyter-widgets/jupyterlab-manager\n",
    "jupyter labextension install jupyter-matplotlib\n",
    "jupyter nbextension enable --py widgetsnbextension\n",
    "```\n",
    "\n"
   ]
  },
  {
   "cell_type": "code",
   "execution_count": 20,
   "metadata": {},
   "outputs": [
    {
     "name": "stdout",
     "output_type": "stream",
     "text": [
      "Collecting nodejs\n",
      "  Downloading nodejs-0.1.1.tar.gz (2.3 kB)\n",
      "Collecting optional-django==0.1.0\n",
      "  Downloading optional-django-0.1.0.tar.gz (9.5 kB)\n",
      "Building wheels for collected packages: nodejs, optional-django\n",
      "  Building wheel for nodejs (setup.py) ... \u001b[?25ldone\n",
      "\u001b[?25h  Created wheel for nodejs: filename=nodejs-0.1.1-py3-none-any.whl size=3492 sha256=a4ebf2ebcc470c0c7ce94278d3f108580a7d40688033d4e1544de848accab9a0\n",
      "  Stored in directory: /Users/kpadhikari/Library/Caches/pip/wheels/80/3a/93/83f57d8cf66261736b920c942905c46e75378805a7af9c5e8d\n",
      "  Building wheel for optional-django (setup.py) ... \u001b[?25ldone\n",
      "\u001b[?25h  Created wheel for optional-django: filename=optional_django-0.1.0-py3-none-any.whl size=9980 sha256=6fd12982b9d60d8f78872ce87b48165e29c4b5ed9d23b2aae5594150fc7742db\n",
      "  Stored in directory: /Users/kpadhikari/Library/Caches/pip/wheels/1c/e9/a3/5e7d589f0ee51e0631361966ac9eb7f063d46f68669ced53b5\n",
      "Successfully built nodejs optional-django\n",
      "Installing collected packages: optional-django, nodejs\n",
      "Successfully installed nodejs-0.1.1 optional-django-0.1.0\n"
     ]
    }
   ],
   "source": [
    "!pip install nodejs"
   ]
  },
  {
   "cell_type": "code",
   "execution_count": 21,
   "metadata": {},
   "outputs": [
    {
     "name": "stdout",
     "output_type": "stream",
     "text": [
      "Collecting jupyterlab\n",
      "  Downloading jupyterlab-2.2.8-py3-none-any.whl (7.8 MB)\n",
      "\u001b[K     |████████████████████████████████| 7.8 MB 6.7 MB/s eta 0:00:01     |█▍                              | 327 kB 639 kB/s eta 0:00:12     |██████▋                         | 1.6 MB 639 kB/s eta 0:00:10     |██████████████████████▌         | 5.5 MB 6.7 MB/s eta 0:00:01\n",
      "\u001b[?25hRequirement already satisfied, skipping upgrade: notebook>=4.3.1 in /usr/local/lib/python3.7/site-packages (from jupyterlab) (6.0.0)\n",
      "Collecting jupyterlab-server<2.0,>=1.1.5\n",
      "  Downloading jupyterlab_server-1.2.0-py3-none-any.whl (29 kB)\n",
      "Requirement already satisfied, skipping upgrade: tornado!=6.0.0,!=6.0.1,!=6.0.2 in /usr/local/lib/python3.7/site-packages (from jupyterlab) (6.0.3)\n",
      "Requirement already satisfied, skipping upgrade: jinja2>=2.10 in /usr/local/lib/python3.7/site-packages (from jupyterlab) (2.10.1)\n",
      "Requirement already satisfied, skipping upgrade: traitlets>=4.2.1 in /usr/local/lib/python3.7/site-packages (from notebook>=4.3.1->jupyterlab) (4.3.2)\n",
      "Requirement already satisfied, skipping upgrade: pyzmq>=17 in /usr/local/lib/python3.7/site-packages (from notebook>=4.3.1->jupyterlab) (18.1.0)\n",
      "Requirement already satisfied, skipping upgrade: nbconvert in /usr/local/lib/python3.7/site-packages (from notebook>=4.3.1->jupyterlab) (5.6.0)\n",
      "Requirement already satisfied, skipping upgrade: ipykernel in /usr/local/lib/python3.7/site-packages (from notebook>=4.3.1->jupyterlab) (5.1.2)\n",
      "Requirement already satisfied, skipping upgrade: jupyter-core>=4.4.0 in /usr/local/lib/python3.7/site-packages (from notebook>=4.3.1->jupyterlab) (4.5.0)\n",
      "Requirement already satisfied, skipping upgrade: ipython-genutils in /usr/local/lib/python3.7/site-packages (from notebook>=4.3.1->jupyterlab) (0.2.0)\n",
      "Requirement already satisfied, skipping upgrade: Send2Trash in /usr/local/lib/python3.7/site-packages (from notebook>=4.3.1->jupyterlab) (1.5.0)\n",
      "Requirement already satisfied, skipping upgrade: prometheus-client in /usr/local/lib/python3.7/site-packages (from notebook>=4.3.1->jupyterlab) (0.7.1)\n",
      "Requirement already satisfied, skipping upgrade: nbformat in /usr/local/lib/python3.7/site-packages (from notebook>=4.3.1->jupyterlab) (4.4.0)\n",
      "Requirement already satisfied, skipping upgrade: terminado>=0.8.1 in /usr/local/lib/python3.7/site-packages (from notebook>=4.3.1->jupyterlab) (0.8.2)\n",
      "Requirement already satisfied, skipping upgrade: jupyter-client>=5.3.1 in /usr/local/lib/python3.7/site-packages (from notebook>=4.3.1->jupyterlab) (5.3.1)\n",
      "Requirement already satisfied, skipping upgrade: requests in /usr/local/lib/python3.7/site-packages (from jupyterlab-server<2.0,>=1.1.5->jupyterlab) (2.22.0)\n",
      "Requirement already satisfied, skipping upgrade: json5 in /usr/local/lib/python3.7/site-packages (from jupyterlab-server<2.0,>=1.1.5->jupyterlab) (0.8.5)\n",
      "Requirement already satisfied, skipping upgrade: jsonschema>=3.0.1 in /usr/local/lib/python3.7/site-packages (from jupyterlab-server<2.0,>=1.1.5->jupyterlab) (3.0.2)\n",
      "Requirement already satisfied, skipping upgrade: MarkupSafe>=0.23 in /usr/local/lib/python3.7/site-packages (from jinja2>=2.10->jupyterlab) (1.1.1)\n",
      "Requirement already satisfied, skipping upgrade: decorator in /usr/local/lib/python3.7/site-packages (from traitlets>=4.2.1->notebook>=4.3.1->jupyterlab) (4.4.0)\n",
      "Requirement already satisfied, skipping upgrade: six in /usr/local/lib/python3.7/site-packages (from traitlets>=4.2.1->notebook>=4.3.1->jupyterlab) (1.12.0)\n",
      "Requirement already satisfied, skipping upgrade: pygments in /usr/local/lib/python3.7/site-packages (from nbconvert->notebook>=4.3.1->jupyterlab) (2.4.2)\n",
      "Requirement already satisfied, skipping upgrade: pandocfilters>=1.4.1 in /usr/local/lib/python3.7/site-packages (from nbconvert->notebook>=4.3.1->jupyterlab) (1.4.2)\n",
      "Requirement already satisfied, skipping upgrade: mistune<2,>=0.8.1 in /usr/local/lib/python3.7/site-packages (from nbconvert->notebook>=4.3.1->jupyterlab) (0.8.4)\n",
      "Requirement already satisfied, skipping upgrade: defusedxml in /usr/local/lib/python3.7/site-packages (from nbconvert->notebook>=4.3.1->jupyterlab) (0.6.0)\n",
      "Requirement already satisfied, skipping upgrade: testpath in /usr/local/lib/python3.7/site-packages (from nbconvert->notebook>=4.3.1->jupyterlab) (0.4.2)\n",
      "Requirement already satisfied, skipping upgrade: bleach in /usr/local/lib/python3.7/site-packages (from nbconvert->notebook>=4.3.1->jupyterlab) (3.1.0)\n",
      "Requirement already satisfied, skipping upgrade: entrypoints>=0.2.2 in /usr/local/lib/python3.7/site-packages (from nbconvert->notebook>=4.3.1->jupyterlab) (0.3)\n",
      "Requirement already satisfied, skipping upgrade: ipython>=5.0.0 in /usr/local/lib/python3.7/site-packages (from ipykernel->notebook>=4.3.1->jupyterlab) (7.7.0)\n",
      "Requirement already satisfied, skipping upgrade: ptyprocess; os_name != \"nt\" in /usr/local/lib/python3.7/site-packages (from terminado>=0.8.1->notebook>=4.3.1->jupyterlab) (0.6.0)\n",
      "Requirement already satisfied, skipping upgrade: python-dateutil>=2.1 in /usr/local/lib/python3.7/site-packages (from jupyter-client>=5.3.1->notebook>=4.3.1->jupyterlab) (2.8.0)\n",
      "Requirement already satisfied, skipping upgrade: idna<2.9,>=2.5 in /usr/local/lib/python3.7/site-packages (from requests->jupyterlab-server<2.0,>=1.1.5->jupyterlab) (2.8)\n",
      "Requirement already satisfied, skipping upgrade: chardet<3.1.0,>=3.0.2 in /usr/local/lib/python3.7/site-packages (from requests->jupyterlab-server<2.0,>=1.1.5->jupyterlab) (3.0.4)\n",
      "Requirement already satisfied, skipping upgrade: certifi>=2017.4.17 in /usr/local/lib/python3.7/site-packages (from requests->jupyterlab-server<2.0,>=1.1.5->jupyterlab) (2019.6.16)\n",
      "Requirement already satisfied, skipping upgrade: urllib3!=1.25.0,!=1.25.1,<1.26,>=1.21.1 in /usr/local/lib/python3.7/site-packages (from requests->jupyterlab-server<2.0,>=1.1.5->jupyterlab) (1.25.3)\n",
      "Requirement already satisfied, skipping upgrade: attrs>=17.4.0 in /usr/local/lib/python3.7/site-packages (from jsonschema>=3.0.1->jupyterlab-server<2.0,>=1.1.5->jupyterlab) (19.1.0)\n",
      "Requirement already satisfied, skipping upgrade: pyrsistent>=0.14.0 in /usr/local/lib/python3.7/site-packages (from jsonschema>=3.0.1->jupyterlab-server<2.0,>=1.1.5->jupyterlab) (0.15.4)\n",
      "Requirement already satisfied, skipping upgrade: setuptools in /usr/local/lib/python3.7/site-packages (from jsonschema>=3.0.1->jupyterlab-server<2.0,>=1.1.5->jupyterlab) (49.2.0)\n",
      "Requirement already satisfied, skipping upgrade: webencodings in /usr/local/lib/python3.7/site-packages (from bleach->nbconvert->notebook>=4.3.1->jupyterlab) (0.5.1)\n",
      "Requirement already satisfied, skipping upgrade: pickleshare in /usr/local/lib/python3.7/site-packages (from ipython>=5.0.0->ipykernel->notebook>=4.3.1->jupyterlab) (0.7.5)\n",
      "Requirement already satisfied, skipping upgrade: jedi>=0.10 in /usr/local/lib/python3.7/site-packages (from ipython>=5.0.0->ipykernel->notebook>=4.3.1->jupyterlab) (0.15.1)\n",
      "Requirement already satisfied, skipping upgrade: backcall in /usr/local/lib/python3.7/site-packages (from ipython>=5.0.0->ipykernel->notebook>=4.3.1->jupyterlab) (0.1.0)\n",
      "Requirement already satisfied, skipping upgrade: appnope; sys_platform == \"darwin\" in /usr/local/lib/python3.7/site-packages (from ipython>=5.0.0->ipykernel->notebook>=4.3.1->jupyterlab) (0.1.0)\n",
      "Requirement already satisfied, skipping upgrade: prompt-toolkit<2.1.0,>=2.0.0 in /usr/local/lib/python3.7/site-packages (from ipython>=5.0.0->ipykernel->notebook>=4.3.1->jupyterlab) (2.0.9)\n",
      "Requirement already satisfied, skipping upgrade: pexpect; sys_platform != \"win32\" in /usr/local/lib/python3.7/site-packages (from ipython>=5.0.0->ipykernel->notebook>=4.3.1->jupyterlab) (4.7.0)\n",
      "Requirement already satisfied, skipping upgrade: parso>=0.5.0 in /usr/local/lib/python3.7/site-packages (from jedi>=0.10->ipython>=5.0.0->ipykernel->notebook>=4.3.1->jupyterlab) (0.5.1)\n",
      "Requirement already satisfied, skipping upgrade: wcwidth in /usr/local/lib/python3.7/site-packages (from prompt-toolkit<2.1.0,>=2.0.0->ipython>=5.0.0->ipykernel->notebook>=4.3.1->jupyterlab) (0.1.7)\n",
      "Installing collected packages: jupyterlab-server, jupyterlab\n",
      "  Attempting uninstall: jupyterlab-server\n",
      "    Found existing installation: jupyterlab-server 1.0.6\n",
      "    Uninstalling jupyterlab-server-1.0.6:\n",
      "      Successfully uninstalled jupyterlab-server-1.0.6\n",
      "  Attempting uninstall: jupyterlab\n",
      "    Found existing installation: jupyterlab 1.2.3\n",
      "    Uninstalling jupyterlab-1.2.3:\n",
      "      Successfully uninstalled jupyterlab-1.2.3\n",
      "Successfully installed jupyterlab-2.2.8 jupyterlab-server-1.2.0\n"
     ]
    }
   ],
   "source": [
    "!pip install --upgrade jupyterlab"
   ]
  },
  {
   "cell_type": "code",
   "execution_count": 24,
   "metadata": {},
   "outputs": [
    {
     "name": "stdout",
     "output_type": "stream",
     "text": [
      "An error occured.\n",
      "ValueError: Please install nodejs >=10.0.0 before continuing. nodejs may be installed using conda or directly from the nodejs website.\n",
      "See the log file for details:  /var/folders/xx/3nmz3j457b99xd1r8kfj0j6r0000gn/T/jupyterlab-debug-x2gtpry6.log\n",
      "An error occured.\n",
      "ValueError: Please install nodejs >=10.0.0 before continuing. nodejs may be installed using conda or directly from the nodejs website.\n",
      "See the log file for details:  /var/folders/xx/3nmz3j457b99xd1r8kfj0j6r0000gn/T/jupyterlab-debug-l9t_dh6f.log\n"
     ]
    }
   ],
   "source": [
    "!jupyter labextension install @jupyter-widgets/jupyterlab-manager\n",
    "!jupyter labextension install jupyter-matplotlib"
   ]
  },
  {
   "cell_type": "code",
   "execution_count": 23,
   "metadata": {},
   "outputs": [
    {
     "name": "stdout",
     "output_type": "stream",
     "text": [
      "Enabling notebook extension jupyter-js-widgets/extension...\n",
      "      - Validating: \u001b[32mOK\u001b[0m\n"
     ]
    }
   ],
   "source": [
    "!jupyter nbextension enable --py widgetsnbextension"
   ]
  },
  {
   "cell_type": "markdown",
   "metadata": {},
   "source": [
    "**Many of these commands were later executed from the terminal rather than frome these cells (with ! preceding).**\n",
    "\n",
    "From **Course/Module 1 - Introduction to Visualization Tools/Review Questions**\n",
    "\n",
    "Q1: What are the layers that make up the Matplotlib architecture?\n",
    "\n",
    "A: Backend Layer, Artist Layer, and Scripting Layer. "
   ]
  },
  {
   "cell_type": "markdown",
   "metadata": {},
   "source": [
    "## From Lab: DV0101EN-Exercise-Introduction-to-Matplotlib-and-Line-Plots-py.ipynb\n",
    "\n",
    "#### Matplotlib.Pyplot\n",
    "\n",
    "One of the core aspects of Matplotlib is matplotlib.pyplot. It is Matplotlib's scripting layer which we studied in details in the videos about Matplotlib. Recall that it is a collection of command style functions that make Matplotlib work like MATLAB. Each pyplot function makes some change to a figure: e.g., creates a figure, creates a plotting area in a figure, plots some lines in a plotting area, decorates the plot with labels, etc. In this lab, we will work with the scripting layer to learn how to generate line plots. In future labs, we will get to work with the Artist layer as well to experiment first hand how it differs from the scripting layer.\n",
    "\n",
    "\n",
    "#### Plotting in pandas\n",
    "\n",
    "Fortunately, pandas has a built-in implementation of Matplotlib that we can use. Plotting in pandas is as simple as appending a .plot() method to a series or dataframe.\n",
    "\n",
    "#### kp: Clearing up my confusion about sum() method\n",
    "\n",
    "I want to define a simple test dataframe with some numerical and non-numerical columns and see how the sum() works."
   ]
  },
  {
   "cell_type": "code",
   "execution_count": 2,
   "metadata": {},
   "outputs": [],
   "source": [
    "import numpy as np  # useful for many scientific computing in Python\n",
    "import pandas as pd # primary data structure library"
   ]
  },
  {
   "cell_type": "code",
   "execution_count": 3,
   "metadata": {},
   "outputs": [
    {
     "name": "stdout",
     "output_type": "stream",
     "text": [
      "<class 'dict'>\n"
     ]
    }
   ],
   "source": [
    "kpDict = {\"text1\":[\"ap\",\"bp\",\"cp\",\"kp\"], \"text2\":[\"aq\",\"bq\",\"cq\",\"kq\"],\n",
    "         \"text3\":[5,4,3,2], \"text4\":[5,\"br\",\"cr\",\"kr\"],\n",
    "          \"num1\":[1,2,3,4], \"num2\":[7,8,9,10]}\n",
    "print(type(kpDict))"
   ]
  },
  {
   "cell_type": "code",
   "execution_count": 4,
   "metadata": {},
   "outputs": [
    {
     "name": "stdout",
     "output_type": "stream",
     "text": [
      "<class 'pandas.core.frame.DataFrame'>\n"
     ]
    },
    {
     "data": {
      "text/html": [
       "<div>\n",
       "<style scoped>\n",
       "    .dataframe tbody tr th:only-of-type {\n",
       "        vertical-align: middle;\n",
       "    }\n",
       "\n",
       "    .dataframe tbody tr th {\n",
       "        vertical-align: top;\n",
       "    }\n",
       "\n",
       "    .dataframe thead th {\n",
       "        text-align: right;\n",
       "    }\n",
       "</style>\n",
       "<table border=\"1\" class=\"dataframe\">\n",
       "  <thead>\n",
       "    <tr style=\"text-align: right;\">\n",
       "      <th></th>\n",
       "      <th>text1</th>\n",
       "      <th>text2</th>\n",
       "      <th>text3</th>\n",
       "      <th>text4</th>\n",
       "      <th>num1</th>\n",
       "      <th>num2</th>\n",
       "    </tr>\n",
       "  </thead>\n",
       "  <tbody>\n",
       "    <tr>\n",
       "      <th>0</th>\n",
       "      <td>ap</td>\n",
       "      <td>aq</td>\n",
       "      <td>5</td>\n",
       "      <td>5</td>\n",
       "      <td>1</td>\n",
       "      <td>7</td>\n",
       "    </tr>\n",
       "    <tr>\n",
       "      <th>1</th>\n",
       "      <td>bp</td>\n",
       "      <td>bq</td>\n",
       "      <td>4</td>\n",
       "      <td>br</td>\n",
       "      <td>2</td>\n",
       "      <td>8</td>\n",
       "    </tr>\n",
       "    <tr>\n",
       "      <th>2</th>\n",
       "      <td>cp</td>\n",
       "      <td>cq</td>\n",
       "      <td>3</td>\n",
       "      <td>cr</td>\n",
       "      <td>3</td>\n",
       "      <td>9</td>\n",
       "    </tr>\n",
       "    <tr>\n",
       "      <th>3</th>\n",
       "      <td>kp</td>\n",
       "      <td>kq</td>\n",
       "      <td>2</td>\n",
       "      <td>kr</td>\n",
       "      <td>4</td>\n",
       "      <td>10</td>\n",
       "    </tr>\n",
       "  </tbody>\n",
       "</table>\n",
       "</div>"
      ],
      "text/plain": [
       "  text1 text2  text3 text4  num1  num2\n",
       "0    ap    aq      5     5     1     7\n",
       "1    bp    bq      4    br     2     8\n",
       "2    cp    cq      3    cr     3     9\n",
       "3    kp    kq      2    kr     4    10"
      ]
     },
     "execution_count": 4,
     "metadata": {},
     "output_type": "execute_result"
    }
   ],
   "source": [
    "dfkp = pd.DataFrame(kpDict)\n",
    "print(type(dfkp))\n",
    "dfkp.head()"
   ]
  },
  {
   "cell_type": "markdown",
   "metadata": {},
   "source": [
    "We see from below that **sum()** adds up values from columns which has only numerical values. If a column has anything else (could be a mix of numerical values and numbers), it will skip that column."
   ]
  },
  {
   "cell_type": "code",
   "execution_count": 5,
   "metadata": {},
   "outputs": [
    {
     "name": "stdout",
     "output_type": "stream",
     "text": [
      "<class 'int'>\n",
      "<class 'str'>\n"
     ]
    },
    {
     "data": {
      "text/html": [
       "<div>\n",
       "<style scoped>\n",
       "    .dataframe tbody tr th:only-of-type {\n",
       "        vertical-align: middle;\n",
       "    }\n",
       "\n",
       "    .dataframe tbody tr th {\n",
       "        vertical-align: top;\n",
       "    }\n",
       "\n",
       "    .dataframe thead th {\n",
       "        text-align: right;\n",
       "    }\n",
       "</style>\n",
       "<table border=\"1\" class=\"dataframe\">\n",
       "  <thead>\n",
       "    <tr style=\"text-align: right;\">\n",
       "      <th></th>\n",
       "      <th>text1</th>\n",
       "      <th>text2</th>\n",
       "      <th>text3</th>\n",
       "      <th>text4</th>\n",
       "      <th>num1</th>\n",
       "      <th>num2</th>\n",
       "      <th>Total</th>\n",
       "    </tr>\n",
       "  </thead>\n",
       "  <tbody>\n",
       "    <tr>\n",
       "      <th>0</th>\n",
       "      <td>ap</td>\n",
       "      <td>aq</td>\n",
       "      <td>5</td>\n",
       "      <td>5</td>\n",
       "      <td>1</td>\n",
       "      <td>7</td>\n",
       "      <td>13</td>\n",
       "    </tr>\n",
       "    <tr>\n",
       "      <th>1</th>\n",
       "      <td>bp</td>\n",
       "      <td>bq</td>\n",
       "      <td>4</td>\n",
       "      <td>br</td>\n",
       "      <td>2</td>\n",
       "      <td>8</td>\n",
       "      <td>14</td>\n",
       "    </tr>\n",
       "    <tr>\n",
       "      <th>2</th>\n",
       "      <td>cp</td>\n",
       "      <td>cq</td>\n",
       "      <td>3</td>\n",
       "      <td>cr</td>\n",
       "      <td>3</td>\n",
       "      <td>9</td>\n",
       "      <td>15</td>\n",
       "    </tr>\n",
       "    <tr>\n",
       "      <th>3</th>\n",
       "      <td>kp</td>\n",
       "      <td>kq</td>\n",
       "      <td>2</td>\n",
       "      <td>kr</td>\n",
       "      <td>4</td>\n",
       "      <td>10</td>\n",
       "      <td>16</td>\n",
       "    </tr>\n",
       "  </tbody>\n",
       "</table>\n",
       "</div>"
      ],
      "text/plain": [
       "  text1 text2  text3 text4  num1  num2  Total\n",
       "0    ap    aq      5     5     1     7     13\n",
       "1    bp    bq      4    br     2     8     14\n",
       "2    cp    cq      3    cr     3     9     15\n",
       "3    kp    kq      2    kr     4    10     16"
      ]
     },
     "execution_count": 5,
     "metadata": {},
     "output_type": "execute_result"
    }
   ],
   "source": [
    "# in pandas axis=0 represents rows (default) and axis=1 represents columns.\n",
    "#df_can.drop(['AREA','REG','DEV','Type','Coverage'], axis=1, inplace=True)\n",
    "print(type(dfkp['text4'][0]))\n",
    "print(type(dfkp['text4'][1]))\n",
    "dfkp['Total'] = dfkp.sum(axis=1)\n",
    "dfkp.head()"
   ]
  },
  {
   "cell_type": "code",
   "execution_count": 7,
   "metadata": {},
   "outputs": [
    {
     "name": "stdout",
     "output_type": "stream",
     "text": [
      "/Users/kpadhikari/Desktop/BigFls/CLAS12/GitProj/KPAdhikari/PythonStuff/Courses_edX\n"
     ]
    }
   ],
   "source": [
    "!pwd"
   ]
  },
  {
   "cell_type": "markdown",
   "metadata": {},
   "source": [
    "### Subplots\n",
    "\n",
    "Often times we might want to plot multiple plots within the same figure. For example, we might want to perform a side by side comparison of the box plot with the line plot of China and India's immigration.\n",
    "\n",
    "To visualize multiple plots together, we can create a **`figure`** (overall canvas) and divide it into **`subplots`**, each containing a plot. With **subplots**, we usually work with the **artist layer** instead of the **scripting layer**. \n",
    "\n",
    "Typical syntax is : <br>\n",
    "\n",
    "```python\n",
    "    fig = plt.figure() # create figure\n",
    "    ax = fig.add_subplot(nrows, ncols, plot_number) # create subplots\n",
    "```\n",
    "\n",
    "Where\n",
    "\n",
    "-   `nrows` and `ncols` are used to notionally split the figure into (`nrows` \\* `ncols`) sub-axes,  \n",
    "-   `plot_number` is used to identify the particular subplot that this function is to create within the notional grid. `plot_number` starts at 1, increments across rows first and has a maximum of `nrows` \\* `ncols` as shown below.\n",
    "\n",
    "<img src=\"https://s3-api.us-geo.objectstorage.softlayer.net/cf-courses-data/CognitiveClass/DV0101EN/labs/Images/Mod3Fig5Subplots_V2.png\" width=500 align=\"center\">\n",
    "<!--<img src=\"file:///Users/kpadhikari/Box%20Sync/KpDocuments/BigData_DataScience_ML/DS_ML/edX_CoursesRelated/VisualizationRelated/Mod3Fig5Subplots_V2.png\" width=500 align=\"center\">-->\n",
    "\n",
    "We can then specify which subplot to place each plot by passing in the `ax` paramemter in `plot()` method as follows:\n"
   ]
  },
  {
   "cell_type": "code",
   "execution_count": 6,
   "metadata": {},
   "outputs": [
    {
     "ename": "NameError",
     "evalue": "name 'plt' is not defined",
     "output_type": "error",
     "traceback": [
      "\u001b[0;31m---------------------------------------------------------------------------\u001b[0m",
      "\u001b[0;31mNameError\u001b[0m                                 Traceback (most recent call last)",
      "\u001b[0;32m<ipython-input-6-e451994d5950>\u001b[0m in \u001b[0;36m<module>\u001b[0;34m\u001b[0m\n\u001b[0;32m----> 1\u001b[0;31m \u001b[0mfig\u001b[0m \u001b[0;34m=\u001b[0m \u001b[0mplt\u001b[0m\u001b[0;34m.\u001b[0m\u001b[0mfigure\u001b[0m\u001b[0;34m(\u001b[0m\u001b[0;34m)\u001b[0m \u001b[0;31m# create figure\u001b[0m\u001b[0;34m\u001b[0m\u001b[0;34m\u001b[0m\u001b[0m\n\u001b[0m\u001b[1;32m      2\u001b[0m \u001b[0;34m\u001b[0m\u001b[0m\n\u001b[1;32m      3\u001b[0m \u001b[0max0\u001b[0m \u001b[0;34m=\u001b[0m \u001b[0mfig\u001b[0m\u001b[0;34m.\u001b[0m\u001b[0madd_subplot\u001b[0m\u001b[0;34m(\u001b[0m\u001b[0;36m1\u001b[0m\u001b[0;34m,\u001b[0m \u001b[0;36m2\u001b[0m\u001b[0;34m,\u001b[0m \u001b[0;36m1\u001b[0m\u001b[0;34m)\u001b[0m \u001b[0;31m# add subplot 1 (1 row, 2 columns, first plot)\u001b[0m\u001b[0;34m\u001b[0m\u001b[0;34m\u001b[0m\u001b[0m\n\u001b[1;32m      4\u001b[0m \u001b[0max1\u001b[0m \u001b[0;34m=\u001b[0m \u001b[0mfig\u001b[0m\u001b[0;34m.\u001b[0m\u001b[0madd_subplot\u001b[0m\u001b[0;34m(\u001b[0m\u001b[0;36m1\u001b[0m\u001b[0;34m,\u001b[0m \u001b[0;36m2\u001b[0m\u001b[0;34m,\u001b[0m \u001b[0;36m2\u001b[0m\u001b[0;34m)\u001b[0m \u001b[0;31m# add subplot 2 (1 row, 2 columns, second plot). See tip below**\u001b[0m\u001b[0;34m\u001b[0m\u001b[0;34m\u001b[0m\u001b[0m\n\u001b[1;32m      5\u001b[0m \u001b[0;34m\u001b[0m\u001b[0m\n",
      "\u001b[0;31mNameError\u001b[0m: name 'plt' is not defined"
     ]
    }
   ],
   "source": [
    "fig = plt.figure() # create figure\n",
    "\n",
    "ax0 = fig.add_subplot(1, 2, 1) # add subplot 1 (1 row, 2 columns, first plot)\n",
    "ax1 = fig.add_subplot(1, 2, 2) # add subplot 2 (1 row, 2 columns, second plot). See tip below**\n",
    "\n",
    "# Subplot 1: Box plot\n",
    "df_CI.plot(kind='box', color='blue', vert=False, figsize=(20, 6), ax=ax0) # add to subplot 1\n",
    "ax0.set_title('Box Plots of Immigrants from China and India (1980 - 2013)')\n",
    "ax0.set_xlabel('Number of Immigrants')\n",
    "ax0.set_ylabel('Countries')\n",
    "\n",
    "# Subplot 2: Line plot\n",
    "df_CI.plot(kind='line', figsize=(20, 6), ax=ax1) # add to subplot 2\n",
    "ax1.set_title ('Line Plots of Immigrants from China and India (1980 - 2013)')\n",
    "ax1.set_ylabel('Number of Immigrants')\n",
    "ax1.set_xlabel('Years')\n",
    "\n",
    "plt.show()"
   ]
  },
  {
   "cell_type": "markdown",
   "metadata": {},
   "source": [
    "### \\* Tip regarding subplot convention **\n",
    "\n",
    "In the case when `nrows`, `ncols`, and `plot_number` are all less than 10, a convenience exists such that the a 3 digit number can be given instead, where the hundreds represent `nrows`, the tens represent `ncols` and the units represent `plot_number`. For instance,\n",
    "\n",
    "```python\n",
    "   subplot(211) == subplot(2, 1, 1) \n",
    "```\n",
    "\n",
    "produces a subaxes in a figure which represents the top plot (i.e. the first) in a 2 rows by 1 column notional grid (no grid actually exists, but conceptually this is how the returned subplot has been positioned).\n"
   ]
  },
  {
   "cell_type": "code",
   "execution_count": null,
   "metadata": {},
   "outputs": [],
   "source": []
  }
 ],
 "metadata": {
  "kernelspec": {
   "display_name": "Python 3",
   "language": "python",
   "name": "python3"
  },
  "language_info": {
   "codemirror_mode": {
    "name": "ipython",
    "version": 3
   },
   "file_extension": ".py",
   "mimetype": "text/x-python",
   "name": "python",
   "nbconvert_exporter": "python",
   "pygments_lexer": "ipython3",
   "version": "3.7.4"
  }
 },
 "nbformat": 4,
 "nbformat_minor": 4
}
