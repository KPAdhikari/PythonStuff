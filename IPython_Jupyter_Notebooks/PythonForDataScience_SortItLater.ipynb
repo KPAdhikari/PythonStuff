{
 "cells": [
  {
   "cell_type": "markdown",
   "metadata": {},
   "source": [
    "Refs:\n",
    "* Master Ref: https://www.youtube.com/watch?v=Prrc6K1f3Lw Python For Data Science (2018 Intro Course)"
   ]
  },
  {
   "cell_type": "markdown",
   "metadata": {},
   "source": [
    "Coding Tech\n",
    "Published on May 14, 2018\n",
    "This tutorial introduces users to Python for data science. From data cleaning to model building, we will work through a series of short examples together using some real-world health inspection data. Attendees will have their hands on the keyboard, using the Python standard library and pandas to clean data and scikit-learn to build some models.\n",
    "\n",
    "GItHub: https://github.com/jseabold/pycon-ds-2018\n",
    "\n",
    "EVENT:\n",
    "\n",
    "PyCon 2018\n",
    "\n",
    "SPEAKER:\n",
    "\n",
    "Skipper Seabold\n",
    "\n",
    "PERMISSIONS:\n",
    "\n",
    "PyCon Organizer provided Coding Tech with the permission to republish this video."
   ]
  },
  {
   "cell_type": "markdown",
   "metadata": {},
   "source": [
    "## Review intro part (has important info worth remembering)\n",
    "Helps in the lingo as well."
   ]
  },
  {
   "cell_type": "markdown",
   "metadata": {},
   "source": [
    "Python is an interpreted language (no linking or compiling needed) and one can execute a python code directly using REPL (Read-Eval-Print-Loop) i.e., the Python Shell, and get the result back immediately."
   ]
  },
  {
   "cell_type": "markdown",
   "metadata": {},
   "source": [
    "In python, whitespace matters. There is no braces or brackets like in other languages. You can just indent your code."
   ]
  },
  {
   "cell_type": "markdown",
   "metadata": {},
   "source": [
    "Variable and agrument declarations are not needed.\n",
    "\n",
    "In Python, a for loop is simply\n",
    "```\n",
    "for i in range(10):\n",
    "    ...\n",
    "```\n",
    "The same code in C would be as follows:\n",
    "```\n",
    "int i;\n",
    "for (i=0; i < 10; i++) {\n",
    "    ...\n",
    "}\n",
    "```"
   ]
  },
  {
   "cell_type": "markdown",
   "metadata": {},
   "source": [
    "Python is designed to be more readable. Code is generally read more than written so readability counts. Python should read like English."
   ]
  },
  {
   "cell_type": "code",
   "execution_count": null,
   "metadata": {
    "collapsed": true
   },
   "outputs": [],
   "source": []
  }
 ],
 "metadata": {
  "kernelspec": {
   "display_name": "Python 3",
   "language": "python",
   "name": "python3"
  },
  "language_info": {
   "codemirror_mode": {
    "name": "ipython",
    "version": 2
   },
   "file_extension": ".py",
   "mimetype": "text/x-python",
   "name": "python",
   "nbconvert_exporter": "python",
   "pygments_lexer": "ipython2",
   "version": "2.7.13"
  }
 },
 "nbformat": 4,
 "nbformat_minor": 2
}
