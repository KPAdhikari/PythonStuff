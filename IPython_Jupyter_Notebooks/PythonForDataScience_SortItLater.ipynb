{
 "cells": [
  {
   "cell_type": "markdown",
   "metadata": {},
   "source": [
    "Refs:\n",
    "* Master Ref: https://www.youtube.com/watch?v=Prrc6K1f3Lw Python For Data Science (2018 Intro Course)"
   ]
  },
  {
   "cell_type": "markdown",
   "metadata": {},
   "source": [
    "Coding Tech\n",
    "Published on May 14, 2018\n",
    "This tutorial introduces users to Python for data science. From data cleaning to model building, we will work through a series of short examples together using some real-world health inspection data. Attendees will have their hands on the keyboard, using the Python standard library and pandas to clean data and scikit-learn to build some models.\n",
    "\n",
    "GItHub: https://github.com/jseabold/pycon-ds-2018\n",
    "\n",
    "EVENT:\n",
    "\n",
    "PyCon 2018\n",
    "\n",
    "SPEAKER:\n",
    "\n",
    "Skipper Seabold\n",
    "\n",
    "PERMISSIONS:\n",
    "\n",
    "PyCon Organizer provided Coding Tech with the permission to republish this video."
   ]
  },
  {
   "cell_type": "markdown",
   "metadata": {},
   "source": [
    "## Review intro part (has important info worth remembering)\n",
    "Helps in the lingo as well."
   ]
  },
  {
   "cell_type": "markdown",
   "metadata": {},
   "source": [
    "Python is an interpreted language (no linking or compiling needed) and one can execute a python code directly using REPL (Read-Eval-Print-Loop) i.e., the Python Shell, and get the result back immediately."
   ]
  },
  {
   "cell_type": "markdown",
   "metadata": {},
   "source": [
    "In python, whitespace matters. There is no braces or brackets like in other languages. You can just indent your code."
   ]
  },
  {
   "cell_type": "markdown",
   "metadata": {},
   "source": [
    "Variable and agrument declarations are not needed.\n",
    "\n",
    "In Python, a for loop is simply\n",
    "```\n",
    "for i in range(10):\n",
    "    ...\n",
    "```\n",
    "The same code in C would be as follows:\n",
    "```\n",
    "int i;\n",
    "for (i=0; i < 10; i++) {\n",
    "    ...\n",
    "}\n",
    "```"
   ]
  },
  {
   "cell_type": "markdown",
   "metadata": {},
   "source": [
    "Python is designed to be more readable. Code is generally read more than written so readability counts. Python should read like English."
   ]
  },
  {
   "cell_type": "markdown",
   "metadata": {
    "jupyter": {
     "outputs_hidden": true
    }
   },
   "source": [
    "## Python String Format\n",
    "### Definition and Usage\n",
    "\n",
    "The format() method formats the specified value(s) and insert them inside the string's placeholder.\n",
    "\n",
    "The placeholder is defined using curly brackets: {}. Read more about the placeholders in the Placeholder section below.\n",
    "\n",
    "The format() method returns the formatted string.\n",
    "### Syntax\n",
    "string.format(value1, value2...)\n",
    "\n",
    "### The Placeholders\n",
    "\n",
    "The placeholders can be identified using named indexes {price}, numbered indexes {0}, or even empty placeholders {}.\n",
    "Example\n",
    "\n",
    "Using different placeholder values:"
   ]
  },
  {
   "cell_type": "code",
   "execution_count": 2,
   "metadata": {},
   "outputs": [
    {
     "name": "stdout",
     "output_type": "stream",
     "text": [
      "My name is John, I'am 36\n",
      "My name is John, I'am 36\n",
      "My name is John, I'am 36\n"
     ]
    }
   ],
   "source": [
    "txt1 = \"My name is {fname}, I'am {age}\".format(fname = \"John\", age = 36)\n",
    "txt2 = \"My name is {0}, I'am {1}\".format(\"John\",36)\n",
    "txt3 = \"My name is {}, I'am {}\".format(\"John\",36) \n",
    "\n",
    "print(txt1)\n",
    "print(txt2)\n",
    "print(txt3)"
   ]
  },
  {
   "cell_type": "code",
   "execution_count": 8,
   "metadata": {},
   "outputs": [
    {
     "name": "stdout",
     "output_type": "stream",
     "text": [
      "My name is John, I'am 36\n"
     ]
    }
   ],
   "source": [
    "# I found that we must have the matching named indices for the placeholder i.e., the words in the parentheses must\n",
    "#    match with the names of the parameters passed to format() method, else we'll get KeyError\n",
    "txt4 = \"My name is {whatever}, I'am {whatever2}\".format(whatever = \"John\", whatever2 = 36)\n",
    "print(txt4)"
   ]
  },
  {
   "cell_type": "code",
   "execution_count": 9,
   "metadata": {},
   "outputs": [
    {
     "ename": "KeyError",
     "evalue": "'whatever'",
     "output_type": "error",
     "traceback": [
      "\u001b[0;31m---------------------------------------------------------------------------\u001b[0m",
      "\u001b[0;31mKeyError\u001b[0m                                  Traceback (most recent call last)",
      "\u001b[0;32m<ipython-input-9-643c80e1f5cd>\u001b[0m in \u001b[0;36m<module>\u001b[0;34m\u001b[0m\n\u001b[0;32m----> 1\u001b[0;31m \u001b[0mtxt5\u001b[0m \u001b[0;34m=\u001b[0m \u001b[0;34m\"My name is {whatever}, I'am {whatever2}\"\u001b[0m\u001b[0;34m.\u001b[0m\u001b[0mformat\u001b[0m\u001b[0;34m(\u001b[0m\u001b[0maa\u001b[0m \u001b[0;34m=\u001b[0m \u001b[0;34m\"John\"\u001b[0m\u001b[0;34m,\u001b[0m \u001b[0mbb\u001b[0m \u001b[0;34m=\u001b[0m \u001b[0;36m36\u001b[0m\u001b[0;34m)\u001b[0m\u001b[0;34m\u001b[0m\u001b[0;34m\u001b[0m\u001b[0m\n\u001b[0m\u001b[1;32m      2\u001b[0m \u001b[0mprint\u001b[0m\u001b[0;34m(\u001b[0m\u001b[0mtxt5\u001b[0m\u001b[0;34m)\u001b[0m\u001b[0;34m\u001b[0m\u001b[0;34m\u001b[0m\u001b[0m\n",
      "\u001b[0;31mKeyError\u001b[0m: 'whatever'"
     ]
    }
   ],
   "source": [
    "txt5 = \"My name is {whatever}, I'am {whatever2}\".format(aa = \"John\", bb = 36)\n",
    "print(txt5)"
   ]
  },
  {
   "cell_type": "code",
   "execution_count": 11,
   "metadata": {},
   "outputs": [
    {
     "name": "stdout",
     "output_type": "stream",
     "text": [
      "My name is John, I'am 36\n"
     ]
    }
   ],
   "source": [
    "txt6 = \"My name is {aa}, I'am {bb}\".format(aa = \"John\", bb = 36)\n",
    "print(txt6)"
   ]
  },
  {
   "cell_type": "code",
   "execution_count": 13,
   "metadata": {},
   "outputs": [
    {
     "ename": "IndexError",
     "evalue": "tuple index out of range",
     "output_type": "error",
     "traceback": [
      "\u001b[0;31m---------------------------------------------------------------------------\u001b[0m",
      "\u001b[0;31mIndexError\u001b[0m                                Traceback (most recent call last)",
      "\u001b[0;32m<ipython-input-13-d6db39be4a38>\u001b[0m in \u001b[0;36m<module>\u001b[0;34m\u001b[0m\n\u001b[1;32m      1\u001b[0m \u001b[0;31m# We also must place the parameter names in the placeholders if they have been given any name.\u001b[0m\u001b[0;34m\u001b[0m\u001b[0;34m\u001b[0m\u001b[0;34m\u001b[0m\u001b[0m\n\u001b[0;32m----> 2\u001b[0;31m \u001b[0mtxt7\u001b[0m \u001b[0;34m=\u001b[0m \u001b[0;34m\"My name is {}, I'am {}\"\u001b[0m\u001b[0;34m.\u001b[0m\u001b[0mformat\u001b[0m\u001b[0;34m(\u001b[0m\u001b[0maa\u001b[0m \u001b[0;34m=\u001b[0m \u001b[0;34m\"John\"\u001b[0m\u001b[0;34m,\u001b[0m \u001b[0mbb\u001b[0m \u001b[0;34m=\u001b[0m \u001b[0;36m36\u001b[0m\u001b[0;34m)\u001b[0m\u001b[0;34m\u001b[0m\u001b[0;34m\u001b[0m\u001b[0m\n\u001b[0m\u001b[1;32m      3\u001b[0m \u001b[0mprint\u001b[0m\u001b[0;34m(\u001b[0m\u001b[0mtxt7\u001b[0m\u001b[0;34m)\u001b[0m\u001b[0;34m\u001b[0m\u001b[0;34m\u001b[0m\u001b[0m\n",
      "\u001b[0;31mIndexError\u001b[0m: tuple index out of range"
     ]
    }
   ],
   "source": [
    "# We also must place the parameter names in the placeholders if they have been given any name.\n",
    "# Otherwise we'll get IndexError: tuple index out of range\n",
    "txt7 = \"My name is {}, I'am {}\".format(aa = \"John\", bb = 36)\n",
    "print(txt7)"
   ]
  },
  {
   "cell_type": "code",
   "execution_count": null,
   "metadata": {},
   "outputs": [],
   "source": []
  }
 ],
 "metadata": {
  "kernelspec": {
   "display_name": "Python 3",
   "language": "python",
   "name": "python3"
  },
  "language_info": {
   "codemirror_mode": {
    "name": "ipython",
    "version": 3
   },
   "file_extension": ".py",
   "mimetype": "text/x-python",
   "name": "python",
   "nbconvert_exporter": "python",
   "pygments_lexer": "ipython3",
   "version": "3.7.4"
  }
 },
 "nbformat": 4,
 "nbformat_minor": 4
}
