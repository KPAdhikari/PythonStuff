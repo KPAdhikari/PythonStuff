{
 "cells": [
  {
   "cell_type": "code",
   "execution_count": 1,
   "id": "07bbbefc-06dc-4fe1-b9bd-99005bfb3d75",
   "metadata": {},
   "outputs": [
    {
     "name": "stdout",
     "output_type": "stream",
     "text": [
      "/Users/kpadhikari/GitStuff/KPAdhikari/PythonStuff/IPython_Jupyter_Notebooks/ML_Stuff\n"
     ]
    }
   ],
   "source": [
    "!pwd"
   ]
  },
  {
   "cell_type": "markdown",
   "id": "d7e5d9b5-2238-49c2-9dd5-0e6f5fa6cf48",
   "metadata": {},
   "source": [
    "# Introduction to the Lifecycle of Data Science project\n",
    "\n",
    "This notebook was started as I planned to go step-by-step through this article https://www.analyticsvidhya.com/blog/2021/10/introduction-to-the-lifecycle-of-data-science-project/ (by Yash Khandelwal — October 6, 2021) which, in turn, was first published part of the [Data Science Blogathon](https://datahack.analyticsvidhya.com/contest/data-science-blogathon-12/).\n",
    "\n",
    "## Overview of Lifecycle of Data Science Project\n",
    "With the increasing demand for Data Scientists, more people are willing to enter into this field. It has become very important to showcase the right skills for Data Science to stand out from the crowd to get placed in the top companies. This is where the projects come into play. Moreover, end-to-end projects give you exposure to a real-time work environment. **In this guide, I’ll be explaining the complete life-cycle of a Data Science project with a hands-on demo.** We’ll be taking a Machine Learning problem statement and build a web application as its solution using Flask and deploy it on Heroku, a cloud application platform. Let’s get started!\n",
    "\n",
    "## Understanding the Lifecycle of Data Science project using a Problem\n",
    "The life cycle of a project begins the understanding the problem [statement](https://www.hackerearth.com/challenges/competitive/hackerearth-machine-learning-challenge-predict-burnout-rate/). The problem statement (source) for the project is: To build a web-based application with a machine learning model at the backend that predicts the burnout rate of company employees based on various work-life factors such as – working hours, work-from-home availability, mental fatigue score, and the like. \n",
    "\n",
    "### Case Study: \n",
    "Happy and healthy employees are undoubtedly more efficient at work. They assist the company to thrive. However, the scenario in most of the companies has changed with the pandemic. Since work from home, over 69% of the employees have been showing burnout symptoms (survey source: [Monster](https://learnmore.monster.com/poll-results-from-work-in-the-time-of-coronavirus)). The burnout rate is indeed alarming. Many companies are taking steps to ensure their employees stay mentally healthy. As a solution to this, we’ll build a web app that can be used by companies to monitor the burnout of their employees. Also, the employees themselves can use it to keep a check on their burnout rate (no time to assess the mental health in the fast work-life 😔).\n",
    "\n",
    "## Gathering Relevant Data\n",
    "There are many libraries in python – Beautiful Soap, Selenium for scraping data. Besides, there are also web scraping APIs like ParseHub, Scrappy, Octoparse that make this less time-consuming. Web scrapping is a crucial part of a Data Science project because the lifecycle depends on the quality and relevance of the Data. \n",
    "\n",
    "In this project, the dataset has been taken from Kaggle(https://www.kaggle.com/blurredmachine/are-your-employees-burning-out). Have a look at the data before reading further.\n",
    "\n",
    "### Dataset\n",
    "\n",
    "The following are the data attributes and their description – \n",
    "\n",
    "* Employee ID: The unique ID allocated by the company to each employee.\n",
    "* Date of Joining: The date when the employee had joined the company.\n",
    "* Gender: The gender of the employee.\n",
    "* Company Type: The type of company where the employee is working in (Service/Product).\n",
    "* WFH Setup Available: If the work from the home facility is available for the employee (Yes/No).\n",
    "* Designation: The designation of the employee in his/her organization. In range – [0.0, 5.0], 0.0 is the lowest designation and 5.0 is the highest.\n",
    "* Resource Allocation: The number of resources allocated to the employee to work, to be interpreted as the number of working hours. In range – [1.0, 10.0] (higher means more resources).\n",
    "* Mental Fatigue Score: How much mentally tired is the employee in the working hours in the range – [0.0, 10.0] where 0.0 means no fatigue and 10.0 means completely fatigue.\n",
    "* Burn Rate: The target value in the data of each employee telling the rate of burnout during working hours in the range – [0.0, 1.0] where the higher the value is more is the burnout.\n",
    "\n",
    "Few important notes about the data: \n",
    "\n",
    "1. Difference between Stress and Burnout is that burnout is a different state of mind. Under stress, you still manage to cope with pressures. But once burnout takes hold, you’re out of gas and you’ve given up all hope of surmounting your deterrents.\n",
    "2. When you’re suffering from burnout, you feel more than just being mentally fatigued.\n",
    "\n",
    "## Data Preparation and EDA (Exploratory Data Analysis)\n",
    "\n",
    "After collecting the data, data preparation comes into play. It involves cleaning and organizing the data, which is known to take up more than 80% of data scientists’ work. The real-world data is raw and can be full of duplicates, missing values, and wrong information. Hence the data needs to be cleaned.\n",
    "\n",
    "Once the data has been organized, we extract the information enfolded in the data and summarize its main characteristics through **exploratory data analysis**. EDA is an important stage for a well-defined data science project. It is performed before the statistical or machine learning modeling phase. \n",
    "\n",
    "Enough of theory let’s begin the hands-on part!"
   ]
  },
  {
   "cell_type": "code",
   "execution_count": 2,
   "id": "16e6297e-698f-49f9-a73a-11d7376f4308",
   "metadata": {},
   "outputs": [
    {
     "name": "stdout",
     "output_type": "stream",
     "text": [
      "(5, 2) (22750, 9) (12250, 8)\n",
      "                Employee ID  Burn Rate\n",
      "0  fffe32003000360033003200       0.16\n",
      "1      fffe3700360033003500       0.36\n",
      "2  fffe31003300320037003900       0.49\n",
      "3  fffe32003400380032003900       0.20\n",
      "4  fffe31003900340031003600       0.52\n",
      "\n",
      "We have one extra column because it's for training and thus is a labelled data (the labels/expected values make that column\n",
      "\n"
     ]
    },
    {
     "data": {
      "text/html": [
       "<div>\n",
       "<style scoped>\n",
       "    .dataframe tbody tr th:only-of-type {\n",
       "        vertical-align: middle;\n",
       "    }\n",
       "\n",
       "    .dataframe tbody tr th {\n",
       "        vertical-align: top;\n",
       "    }\n",
       "\n",
       "    .dataframe thead th {\n",
       "        text-align: right;\n",
       "    }\n",
       "</style>\n",
       "<table border=\"1\" class=\"dataframe\">\n",
       "  <thead>\n",
       "    <tr style=\"text-align: right;\">\n",
       "      <th></th>\n",
       "      <th>Employee ID</th>\n",
       "      <th>Date of Joining</th>\n",
       "      <th>Gender</th>\n",
       "      <th>Company Type</th>\n",
       "      <th>WFH Setup Available</th>\n",
       "      <th>Designation</th>\n",
       "      <th>Resource Allocation</th>\n",
       "      <th>Mental Fatigue Score</th>\n",
       "      <th>Burn Rate</th>\n",
       "    </tr>\n",
       "  </thead>\n",
       "  <tbody>\n",
       "    <tr>\n",
       "      <th>0</th>\n",
       "      <td>fffe32003000360033003200</td>\n",
       "      <td>2008-09-30</td>\n",
       "      <td>Female</td>\n",
       "      <td>Service</td>\n",
       "      <td>No</td>\n",
       "      <td>2.0</td>\n",
       "      <td>3.0</td>\n",
       "      <td>3.8</td>\n",
       "      <td>0.16</td>\n",
       "    </tr>\n",
       "    <tr>\n",
       "      <th>1</th>\n",
       "      <td>fffe3700360033003500</td>\n",
       "      <td>2008-11-30</td>\n",
       "      <td>Male</td>\n",
       "      <td>Service</td>\n",
       "      <td>Yes</td>\n",
       "      <td>1.0</td>\n",
       "      <td>2.0</td>\n",
       "      <td>5.0</td>\n",
       "      <td>0.36</td>\n",
       "    </tr>\n",
       "  </tbody>\n",
       "</table>\n",
       "</div>"
      ],
      "text/plain": [
       "                Employee ID Date of Joining  Gender Company Type  \\\n",
       "0  fffe32003000360033003200      2008-09-30  Female      Service   \n",
       "1      fffe3700360033003500      2008-11-30    Male      Service   \n",
       "\n",
       "  WFH Setup Available  Designation  Resource Allocation  Mental Fatigue Score  \\\n",
       "0                  No          2.0                  3.0                   3.8   \n",
       "1                 Yes          1.0                  2.0                   5.0   \n",
       "\n",
       "   Burn Rate  \n",
       "0       0.16  \n",
       "1       0.36  "
      ]
     },
     "metadata": {},
     "output_type": "display_data"
    },
    {
     "data": {
      "text/html": [
       "<div>\n",
       "<style scoped>\n",
       "    .dataframe tbody tr th:only-of-type {\n",
       "        vertical-align: middle;\n",
       "    }\n",
       "\n",
       "    .dataframe tbody tr th {\n",
       "        vertical-align: top;\n",
       "    }\n",
       "\n",
       "    .dataframe thead th {\n",
       "        text-align: right;\n",
       "    }\n",
       "</style>\n",
       "<table border=\"1\" class=\"dataframe\">\n",
       "  <thead>\n",
       "    <tr style=\"text-align: right;\">\n",
       "      <th></th>\n",
       "      <th>Employee ID</th>\n",
       "      <th>Date of Joining</th>\n",
       "      <th>Gender</th>\n",
       "      <th>Company Type</th>\n",
       "      <th>WFH Setup Available</th>\n",
       "      <th>Designation</th>\n",
       "      <th>Resource Allocation</th>\n",
       "      <th>Mental Fatigue Score</th>\n",
       "    </tr>\n",
       "  </thead>\n",
       "  <tbody>\n",
       "    <tr>\n",
       "      <th>0</th>\n",
       "      <td>fffe31003300390039003000</td>\n",
       "      <td>2008-12-10</td>\n",
       "      <td>Female</td>\n",
       "      <td>Service</td>\n",
       "      <td>No</td>\n",
       "      <td>2.0</td>\n",
       "      <td>5.0</td>\n",
       "      <td>7.7</td>\n",
       "    </tr>\n",
       "    <tr>\n",
       "      <th>1</th>\n",
       "      <td>fffe31003300310037003800</td>\n",
       "      <td>2008-08-14</td>\n",
       "      <td>Female</td>\n",
       "      <td>Product</td>\n",
       "      <td>Yes</td>\n",
       "      <td>1.0</td>\n",
       "      <td>2.0</td>\n",
       "      <td>5.2</td>\n",
       "    </tr>\n",
       "  </tbody>\n",
       "</table>\n",
       "</div>"
      ],
      "text/plain": [
       "                Employee ID Date of Joining  Gender Company Type  \\\n",
       "0  fffe31003300390039003000      2008-12-10  Female      Service   \n",
       "1  fffe31003300310037003800      2008-08-14  Female      Product   \n",
       "\n",
       "  WFH Setup Available  Designation  Resource Allocation  Mental Fatigue Score  \n",
       "0                  No          2.0                  5.0                   7.7  \n",
       "1                 Yes          1.0                  2.0                   5.2  "
      ]
     },
     "metadata": {},
     "output_type": "display_data"
    }
   ],
   "source": [
    "import pandas as pd\n",
    "\n",
    "#I dowonloaded these three files from https://www.kaggle.com/blurredmachine/are-your-employees-burning-out?select=train.csv\n",
    "dftr = pd.read_csv(\"./data/train.csv\")\n",
    "dftt = pd.read_csv(\"./data/test.csv\")\n",
    "dfss = pd.read_csv(\"./data/sample_submission.csv\") #I think this is the result submitted\n",
    "print(dfss.shape, dftr.shape, dftt.shape)\n",
    "#display(df.head())\n",
    "print(dfss)\n",
    "print(\"\\nWe have one extra column because it's for training and thus is a labelled data (the labels/expected values make that column\\n\")\n",
    "display(dftr.head(2)) \n",
    "display(dftt.head(2))"
   ]
  },
  {
   "cell_type": "code",
   "execution_count": 3,
   "id": "db851051-f622-435e-96bf-0b4d51e122e4",
   "metadata": {},
   "outputs": [
    {
     "name": "stdout",
     "output_type": "stream",
     "text": [
      "<class 'pandas.core.frame.DataFrame'>\n",
      "RangeIndex: 22750 entries, 0 to 22749\n",
      "Data columns (total 9 columns):\n",
      " #   Column                Non-Null Count  Dtype  \n",
      "---  ------                --------------  -----  \n",
      " 0   Employee ID           22750 non-null  object \n",
      " 1   Date of Joining       22750 non-null  object \n",
      " 2   Gender                22750 non-null  object \n",
      " 3   Company Type          22750 non-null  object \n",
      " 4   WFH Setup Available   22750 non-null  object \n",
      " 5   Designation           22750 non-null  float64\n",
      " 6   Resource Allocation   21369 non-null  float64\n",
      " 7   Mental Fatigue Score  20633 non-null  float64\n",
      " 8   Burn Rate             21626 non-null  float64\n",
      "dtypes: float64(4), object(5)\n",
      "memory usage: 1.6+ MB\n"
     ]
    }
   ],
   "source": [
    "dftr.info()"
   ]
  },
  {
   "cell_type": "markdown",
   "id": "95659c79-b5e3-48c8-96dc-7d3a5ed65b5a",
   "metadata": {},
   "source": [
    "\n",
    "There are 5 categorical features and 4 numerical features. Out of the 5, all the features are useful except the employee id as it has nothing to do with the target i.e – Burn Rate. Let us first perform exploratory data analysis and alongside we’ll transform the categorical features into a form that can be understood by the model.\n",
    "\n",
    "`#Date` and month might not be a useful feature. But the year of joining is. It has some significant information that the model can use."
   ]
  },
  {
   "cell_type": "code",
   "execution_count": 4,
   "id": "ad839b28-454e-4288-9507-4f7918278f9e",
   "metadata": {},
   "outputs": [
    {
     "name": "stdout",
     "output_type": "stream",
     "text": [
      "kp: [0], [1] & [2] after split gives year, month, day from a date such as '2008-09-30'\n"
     ]
    },
    {
     "data": {
      "text/html": [
       "<div>\n",
       "<style scoped>\n",
       "    .dataframe tbody tr th:only-of-type {\n",
       "        vertical-align: middle;\n",
       "    }\n",
       "\n",
       "    .dataframe tbody tr th {\n",
       "        vertical-align: top;\n",
       "    }\n",
       "\n",
       "    .dataframe thead th {\n",
       "        text-align: right;\n",
       "    }\n",
       "</style>\n",
       "<table border=\"1\" class=\"dataframe\">\n",
       "  <thead>\n",
       "    <tr style=\"text-align: right;\">\n",
       "      <th></th>\n",
       "      <th>Employee ID</th>\n",
       "      <th>Date of Joining</th>\n",
       "      <th>Gender</th>\n",
       "      <th>Company Type</th>\n",
       "      <th>WFH Setup Available</th>\n",
       "      <th>Designation</th>\n",
       "      <th>Resource Allocation</th>\n",
       "      <th>Mental Fatigue Score</th>\n",
       "      <th>Burn Rate</th>\n",
       "      <th>Year of Joining</th>\n",
       "    </tr>\n",
       "  </thead>\n",
       "  <tbody>\n",
       "    <tr>\n",
       "      <th>0</th>\n",
       "      <td>fffe32003000360033003200</td>\n",
       "      <td>2008-09-30</td>\n",
       "      <td>Female</td>\n",
       "      <td>Service</td>\n",
       "      <td>No</td>\n",
       "      <td>2.0</td>\n",
       "      <td>3.0</td>\n",
       "      <td>3.8</td>\n",
       "      <td>0.16</td>\n",
       "      <td>2008</td>\n",
       "    </tr>\n",
       "    <tr>\n",
       "      <th>1</th>\n",
       "      <td>fffe3700360033003500</td>\n",
       "      <td>2008-11-30</td>\n",
       "      <td>Male</td>\n",
       "      <td>Service</td>\n",
       "      <td>Yes</td>\n",
       "      <td>1.0</td>\n",
       "      <td>2.0</td>\n",
       "      <td>5.0</td>\n",
       "      <td>0.36</td>\n",
       "      <td>2008</td>\n",
       "    </tr>\n",
       "  </tbody>\n",
       "</table>\n",
       "</div>"
      ],
      "text/plain": [
       "                Employee ID Date of Joining  Gender Company Type  \\\n",
       "0  fffe32003000360033003200      2008-09-30  Female      Service   \n",
       "1      fffe3700360033003500      2008-11-30    Male      Service   \n",
       "\n",
       "  WFH Setup Available  Designation  Resource Allocation  Mental Fatigue Score  \\\n",
       "0                  No          2.0                  3.0                   3.8   \n",
       "1                 Yes          1.0                  2.0                   5.0   \n",
       "\n",
       "   Burn Rate Year of Joining  \n",
       "0       0.16            2008  \n",
       "1       0.36            2008  "
      ]
     },
     "execution_count": 4,
     "metadata": {},
     "output_type": "execute_result"
    }
   ],
   "source": [
    "dftr['Year of Joining'] = dftr['Date of Joining'].apply(lambda x : x.split('-')[0]) \n",
    "print(\"kp: [0], [1] & [2] after split gives year, month, day from a date such as '2008-09-30'\")\n",
    "dftr.head(2)"
   ]
  },
  {
   "cell_type": "code",
   "execution_count": 5,
   "id": "dd1e68a8-4301-4ffd-a305-4c2fc1430cea",
   "metadata": {},
   "outputs": [
    {
     "data": {
      "text/plain": [
       "count     22750\n",
       "unique        1\n",
       "top        2008\n",
       "freq      22750\n",
       "Name: Year of Joining, dtype: object"
      ]
     },
     "execution_count": 5,
     "metadata": {},
     "output_type": "execute_result"
    }
   ],
   "source": [
    "#dftr[\"Year of Joining\"].info() #doesn't work\n",
    "dftr[\"Year of Joining\"].describe()"
   ]
  },
  {
   "cell_type": "markdown",
   "id": "58ca7d64-53c6-4a77-bede-237a36fea374",
   "metadata": {},
   "source": [
    "**Output** – The feature has only one unique value i.e 2008. This may not be a useful feature. So we drop it."
   ]
  },
  {
   "cell_type": "code",
   "execution_count": 6,
   "id": "7fbb6d19-7bf2-4301-8e1a-bc094bc20d8d",
   "metadata": {},
   "outputs": [
    {
     "data": {
      "text/html": [
       "<div>\n",
       "<style scoped>\n",
       "    .dataframe tbody tr th:only-of-type {\n",
       "        vertical-align: middle;\n",
       "    }\n",
       "\n",
       "    .dataframe tbody tr th {\n",
       "        vertical-align: top;\n",
       "    }\n",
       "\n",
       "    .dataframe thead th {\n",
       "        text-align: right;\n",
       "    }\n",
       "</style>\n",
       "<table border=\"1\" class=\"dataframe\">\n",
       "  <thead>\n",
       "    <tr style=\"text-align: right;\">\n",
       "      <th></th>\n",
       "      <th>Employee ID</th>\n",
       "      <th>Date of Joining</th>\n",
       "      <th>Gender</th>\n",
       "      <th>Company Type</th>\n",
       "      <th>WFH Setup Available</th>\n",
       "      <th>Designation</th>\n",
       "      <th>Resource Allocation</th>\n",
       "      <th>Mental Fatigue Score</th>\n",
       "      <th>Burn Rate</th>\n",
       "    </tr>\n",
       "  </thead>\n",
       "  <tbody>\n",
       "    <tr>\n",
       "      <th>0</th>\n",
       "      <td>fffe32003000360033003200</td>\n",
       "      <td>2008-09-30</td>\n",
       "      <td>Female</td>\n",
       "      <td>Service</td>\n",
       "      <td>No</td>\n",
       "      <td>2.0</td>\n",
       "      <td>3.0</td>\n",
       "      <td>3.8</td>\n",
       "      <td>0.16</td>\n",
       "    </tr>\n",
       "    <tr>\n",
       "      <th>1</th>\n",
       "      <td>fffe3700360033003500</td>\n",
       "      <td>2008-11-30</td>\n",
       "      <td>Male</td>\n",
       "      <td>Service</td>\n",
       "      <td>Yes</td>\n",
       "      <td>1.0</td>\n",
       "      <td>2.0</td>\n",
       "      <td>5.0</td>\n",
       "      <td>0.36</td>\n",
       "    </tr>\n",
       "  </tbody>\n",
       "</table>\n",
       "</div>"
      ],
      "text/plain": [
       "                Employee ID Date of Joining  Gender Company Type  \\\n",
       "0  fffe32003000360033003200      2008-09-30  Female      Service   \n",
       "1      fffe3700360033003500      2008-11-30    Male      Service   \n",
       "\n",
       "  WFH Setup Available  Designation  Resource Allocation  Mental Fatigue Score  \\\n",
       "0                  No          2.0                  3.0                   3.8   \n",
       "1                 Yes          1.0                  2.0                   5.0   \n",
       "\n",
       "   Burn Rate  \n",
       "0       0.16  \n",
       "1       0.36  "
      ]
     },
     "execution_count": 6,
     "metadata": {},
     "output_type": "execute_result"
    }
   ],
   "source": [
    "dftr.drop('Year of Joining', axis=1, inplace=True)\n",
    "dftr.head(2)"
   ]
  },
  {
   "cell_type": "markdown",
   "id": "903d9744-7f4f-427f-a35e-9b73050f7bd9",
   "metadata": {},
   "source": [
    "## An aside/digression: About axes in Series and Dataframes\n",
    "([Ref](https://railsware.com/blog/python-for-machine-learning-pandas-axis-explained/#:~:text=A%20DataFrame%20object%20has%20two,it%20goes%20along%20rows%20direction.))\n",
    "\n",
    "Series is a one-dimensional array of values. Under the hood, it uses NumPy ndarray. That is where the term “axis” came from. NumPy uses it quite frequently because ndarray can have a lot of dimensions.\n",
    "\n",
    "Series object has only “axis 0” because it has only one dimension.\n",
    "\n",
    "![pandas-series-axis](./Images/pandas-series-axis.png)"
   ]
  },
  {
   "cell_type": "code",
   "execution_count": 7,
   "id": "c4fa1dff-1fcf-4e68-9cd1-1e1eaa0faf10",
   "metadata": {},
   "outputs": [
    {
     "data": {
      "text/plain": [
       "0      red\n",
       "1    green\n",
       "2     blue\n",
       "3    white\n",
       "4    black\n",
       "dtype: object"
      ]
     },
     "execution_count": 7,
     "metadata": {},
     "output_type": "execute_result"
    }
   ],
   "source": [
    "import pandas as pd\n",
    "list = ['red','green','blue','white','black']\n",
    "series = pd.Series(list)\n",
    "series"
   ]
  },
  {
   "cell_type": "markdown",
   "id": "79a81495-fde0-46e1-8a59-692f746f2807",
   "metadata": {},
   "source": [
    "The arrow on the image displays “axis 0” and its direction for the Series object.\n",
    "\n",
    "Usually, in Python, one-dimensional structures are displayed as a row of values. On the contrary, here we see that Series is displayed as a column of values.\n",
    "\n",
    "Each cell in Series is accessible via index value along the “axis 0”. For our Series object indexes are: 0, 1, 2, 3, 4."
   ]
  },
  {
   "cell_type": "code",
   "execution_count": 8,
   "id": "5026d2d4-4766-4f58-b7cd-08dc021eb6a2",
   "metadata": {},
   "outputs": [
    {
     "data": {
      "text/plain": [
       "'blue'"
      ]
     },
     "execution_count": 8,
     "metadata": {},
     "output_type": "execute_result"
    }
   ],
   "source": [
    "series[2]"
   ]
  },
  {
   "cell_type": "markdown",
   "id": "4632e14a-23d3-4217-a562-6db5dc4e56ed",
   "metadata": {},
   "source": [
    "![dataframe axes](./Images/data-frame-axes.png)\n",
    "\n",
    "A DataFrame object has two axes: “axis 0” and “axis 1”. “axis 0” represents rows and “axis 1” represents columns. Now it’s clear that Series and DataFrame share the same direction for “axis 0” – it goes along rows direction.\n",
    "\n",
    "Our DataFrame object has 0, 1, 2, 3, 4 indexes along the “axis 0”, and additionally, it has “axis 1” indexes which are: ‘a’ and ‘b’.\n",
    "\n",
    "To access an element within DataFrame we need to provide two indexes (one per each axis). Also, instead of bare brackets, we need to use .loc method:\n",
    "\n",
    "```python\n",
    " import pandas as pd\n",
    " srs_a = pd.Series([1,3,6,8,9])\n",
    " srs_b = pd.Series(['red', 'green', 'blue', 'white', 'black'])\n",
    " df = pd.DataFrame({'a': srs_a, 'b': srs_b})\n",
    " df.loc[2, 'b']\n",
    "```\n",
    "'blue'\n",
    "```python\n",
    "df.loc[3, 'a']\n",
    "```\n",
    "8\n",
    "\n",
    "<font color=\"magenta\">kp: Please note that we pass a `python list` to `pandas.Series()` to make a series, and a 'python dictionary' (with a `Series` as a value for each key) to create a dataframe such that the keys become the indices along the axis=1 (or the labels of the columns, with each Series creating a corresponding column).</font>\n",
    "\n",
    "### Using “axis” parameter in API calls\n",
    "There are a lot of different API calls for Series and DataFrame objects which accept “axis” parameter. Series object has only one axis, so this parameter always equals 0 for it. Thus, you can omit it, because it does not affect the result.\n",
    "\n",
    "On the contrary, DataFrame has two axes, and “axis” parameter determines along which axis an operation should be performed. For example, .sum can be applied along “axis 0”. That means, .sum operation calculates a sum for each column:"
   ]
  },
  {
   "cell_type": "code",
   "execution_count": 9,
   "id": "12c685ad-b5e7-4fd1-99f1-f1db17733ebc",
   "metadata": {},
   "outputs": [
    {
     "name": "stderr",
     "output_type": "stream",
     "text": [
      "/var/folders/bs/v93xlq0d24n2x1clkyc1lk840000gp/T/ipykernel_53347/1543565621.py:2: FutureWarning: The pandas.np module is deprecated and will be removed from pandas in a future version. Import numpy directly instead\n",
      "  srs = pd.Series([1, 3, pd.np.nan, 4, pd.np.nan])\n"
     ]
    },
    {
     "data": {
      "text/plain": [
       "0    1.0\n",
       "1    3.0\n",
       "2    NaN\n",
       "3    4.0\n",
       "4    NaN\n",
       "dtype: float64"
      ]
     },
     "metadata": {},
     "output_type": "display_data"
    },
    {
     "data": {
      "text/plain": [
       "0    1.0\n",
       "1    3.0\n",
       "3    4.0\n",
       "dtype: float64"
      ]
     },
     "execution_count": 9,
     "metadata": {},
     "output_type": "execute_result"
    }
   ],
   "source": [
    "import pandas as pd\n",
    "srs = pd.Series([1, 3, pd.np.nan, 4, pd.np.nan])\n",
    "display(srs.head())\n",
    "srs.dropna()"
   ]
  },
  {
   "cell_type": "code",
   "execution_count": 10,
   "id": "e0bc434b-c533-48c1-91ef-d8d19b3cad42",
   "metadata": {},
   "outputs": [
    {
     "data": {
      "text/plain": [
       "0    1.0\n",
       "1    3.0\n",
       "3    4.0\n",
       "dtype: float64"
      ]
     },
     "execution_count": 10,
     "metadata": {},
     "output_type": "execute_result"
    }
   ],
   "source": [
    "srs.dropna(axis=0)"
   ]
  },
  {
   "cell_type": "code",
   "execution_count": 11,
   "id": "2a651307-238a-41e8-a8af-7322a3ae95b6",
   "metadata": {},
   "outputs": [
    {
     "data": {
      "text/html": [
       "<div>\n",
       "<style scoped>\n",
       "    .dataframe tbody tr th:only-of-type {\n",
       "        vertical-align: middle;\n",
       "    }\n",
       "\n",
       "    .dataframe tbody tr th {\n",
       "        vertical-align: top;\n",
       "    }\n",
       "\n",
       "    .dataframe thead th {\n",
       "        text-align: right;\n",
       "    }\n",
       "</style>\n",
       "<table border=\"1\" class=\"dataframe\">\n",
       "  <thead>\n",
       "    <tr style=\"text-align: right;\">\n",
       "      <th></th>\n",
       "      <th>a</th>\n",
       "      <th>b</th>\n",
       "    </tr>\n",
       "  </thead>\n",
       "  <tbody>\n",
       "    <tr>\n",
       "      <th>0</th>\n",
       "      <td>10</td>\n",
       "      <td>22</td>\n",
       "    </tr>\n",
       "    <tr>\n",
       "      <th>1</th>\n",
       "      <td>30</td>\n",
       "      <td>44</td>\n",
       "    </tr>\n",
       "    <tr>\n",
       "      <th>2</th>\n",
       "      <td>60</td>\n",
       "      <td>55</td>\n",
       "    </tr>\n",
       "    <tr>\n",
       "      <th>3</th>\n",
       "      <td>80</td>\n",
       "      <td>77</td>\n",
       "    </tr>\n",
       "    <tr>\n",
       "      <th>4</th>\n",
       "      <td>90</td>\n",
       "      <td>101</td>\n",
       "    </tr>\n",
       "  </tbody>\n",
       "</table>\n",
       "</div>"
      ],
      "text/plain": [
       "    a    b\n",
       "0  10   22\n",
       "1  30   44\n",
       "2  60   55\n",
       "3  80   77\n",
       "4  90  101"
      ]
     },
     "metadata": {},
     "output_type": "display_data"
    },
    {
     "name": "stdout",
     "output_type": "stream",
     "text": [
      "\n",
      " ====== Result of df.sum(axis=0) \n",
      "\n"
     ]
    },
    {
     "data": {
      "text/plain": [
       "a    270\n",
       "b    299\n",
       "dtype: int64"
      ]
     },
     "metadata": {},
     "output_type": "display_data"
    },
    {
     "name": "stdout",
     "output_type": "stream",
     "text": [
      "\n",
      " ====== Result of df.sum(axis=1) \n",
      "\n"
     ]
    },
    {
     "data": {
      "text/plain": [
       "0     32\n",
       "1     74\n",
       "2    115\n",
       "3    157\n",
       "4    191\n",
       "dtype: int64"
      ]
     },
     "execution_count": 11,
     "metadata": {},
     "output_type": "execute_result"
    }
   ],
   "source": [
    "import pandas as pd\n",
    "srs_a = pd.Series([10,30,60,80,90])\n",
    "srs_b = pd.Series([22, 44, 55, 77, 101])\n",
    "df = pd.DataFrame({'a': srs_a, 'b': srs_b})\n",
    "display(df)\n",
    "print(\"\\n ====== Result of df.sum(axis=0) \\n\")\n",
    "display(df.sum(axis=0))\n",
    "print(\"\\n ====== Result of df.sum(axis=1) \\n\")\n",
    "df.sum(axis=1)"
   ]
  },
  {
   "cell_type": "markdown",
   "id": "16c2d33b-89d8-4c73-9b52-2d4f3eaf0b92",
   "metadata": {},
   "source": [
    "**<font color=\"magenta\">============ End of the aside/digression: About axes in Series and Dataframes ============= </font>** \n",
    "\n",
    "---------\n",
    "\n",
    "Let’s do some EDA on other categorical features. Alongside we’ll also do the Data Preparation part –\n",
    "\n",
    "## Exploratory Data Analysis (EDA)"
   ]
  },
  {
   "cell_type": "code",
   "execution_count": 12,
   "id": "2de9a5c7-8e9c-4304-959b-3ff4f51ffc6f",
   "metadata": {},
   "outputs": [
    {
     "data": {
      "text/plain": [
       "<AxesSubplot:xlabel='Gender', ylabel='Burn Rate'>"
      ]
     },
     "execution_count": 12,
     "metadata": {},
     "output_type": "execute_result"
    },
    {
     "data": {
      "image/png": "[encoded data removed]",
      "text/plain": [
       "<Figure size 432x288 with 1 Axes>"
      ]
     },
     "metadata": {
      "needs_background": "light"
     },
     "output_type": "display_data"
    }
   ],
   "source": [
    "import seaborn as sns\n",
    "\n",
    "sns.boxplot(x = 'Gender', y = 'Burn Rate', data = dftr)"
   ]
  },
  {
   "cell_type": "markdown",
   "id": "11e4d6f1-6abb-4e03-8e7f-2cdeb3369a6e",
   "metadata": {},
   "source": [
    "The average (median) Burnout Rate among the male employees is higher than that in female employees. Let’s find the possible reasons by comparing other factors like –  designation, working hours, etc. among the two genders in the company.\n",
    "\n",
    "**Note** – The boxplot shows that there are outliers in the Burn Rate records of female employees. We’ll have to take care of it."
   ]
  },
  {
   "cell_type": "code",
   "execution_count": 13,
   "id": "10dc9769-a13a-4b6b-9a8a-6f06acde4c2b",
   "metadata": {},
   "outputs": [
    {
     "data": {
      "text/plain": [
       "<AxesSubplot:xlabel='Gender', ylabel='count'>"
      ]
     },
     "execution_count": 13,
     "metadata": {},
     "output_type": "execute_result"
    },
    {
     "data": {
      "image/png": "[encoded data removed]",
      "text/plain": [
       "<Figure size 432x288 with 1 Axes>"
      ]
     },
     "metadata": {
      "needs_background": "light"
     },
     "output_type": "display_data"
    }
   ],
   "source": [
    "sns.countplot(x = 'Gender', palette=sns.color_palette(\"hls\"), data = dftr)"
   ]
  },
  {
   "cell_type": "code",
   "execution_count": 14,
   "id": "a664038a-09fc-425a-b738-40ff35ad2941",
   "metadata": {},
   "outputs": [
    {
     "data": {
      "text/plain": [
       "<AxesSubplot:xlabel='Gender', ylabel='count'>"
      ]
     },
     "execution_count": 14,
     "metadata": {},
     "output_type": "execute_result"
    },
    {
     "data": {
      "image/png": "[encoded data removed]",
      "text/plain": [
       "<Figure size 432x288 with 1 Axes>"
      ]
     },
     "metadata": {
      "needs_background": "light"
     },
     "output_type": "display_data"
    }
   ],
   "source": [
    "sns.countplot(x = 'Gender', palette=sns.color_palette(\"hls\",2), data = dftr) #Looks like (\"hls\", 7) is closer to the default"
   ]
  },
  {
   "cell_type": "code",
   "execution_count": 15,
   "id": "8960e0de-e18e-4b90-a705-64d6513b9914",
   "metadata": {},
   "outputs": [
    {
     "data": {
      "text/plain": [
       "<AxesSubplot:xlabel='Gender', ylabel='count'>"
      ]
     },
     "execution_count": 15,
     "metadata": {},
     "output_type": "execute_result"
    },
    {
     "data": {
      "image/png": "[encoded data removed]",
      "text/plain": [
       "<Figure size 432x288 with 1 Axes>"
      ]
     },
     "metadata": {
      "needs_background": "light"
     },
     "output_type": "display_data"
    }
   ],
   "source": [
    "sns.countplot(x = 'Gender', palette=sns.color_palette(\"husl\",8), data = dftr) #Looks like (\"hls\", 7) is closer to the default"
   ]
  },
  {
   "cell_type": "markdown",
   "id": "b369cdb4-4f07-411a-a25a-1641e351342e",
   "metadata": {},
   "source": [
    "The data has more records of female employees."
   ]
  },
  {
   "cell_type": "code",
   "execution_count": 16,
   "id": "f2dbd62a-0cd1-419c-83db-36b3d6ab03aa",
   "metadata": {},
   "outputs": [
    {
     "name": "stdout",
     "output_type": "stream",
     "text": [
      "Index(['Employee ID', 'Date of Joining', 'Gender', 'Company Type',\n",
      "       'WFH Setup Available', 'Designation', 'Resource Allocation',\n",
      "       'Mental Fatigue Score', 'Burn Rate'],\n",
      "      dtype='object')\n"
     ]
    },
    {
     "data": {
      "text/html": [
       "<div>\n",
       "<style scoped>\n",
       "    .dataframe tbody tr th:only-of-type {\n",
       "        vertical-align: middle;\n",
       "    }\n",
       "\n",
       "    .dataframe tbody tr th {\n",
       "        vertical-align: top;\n",
       "    }\n",
       "\n",
       "    .dataframe thead th {\n",
       "        text-align: right;\n",
       "    }\n",
       "</style>\n",
       "<table border=\"1\" class=\"dataframe\">\n",
       "  <thead>\n",
       "    <tr style=\"text-align: right;\">\n",
       "      <th></th>\n",
       "      <th>Employee ID</th>\n",
       "      <th>Date of Joining</th>\n",
       "      <th>Gender</th>\n",
       "      <th>Company Type</th>\n",
       "      <th>WFH Setup Available</th>\n",
       "      <th>Designation</th>\n",
       "      <th>Resource Allocation</th>\n",
       "      <th>Mental Fatigue Score</th>\n",
       "      <th>Burn Rate</th>\n",
       "    </tr>\n",
       "  </thead>\n",
       "  <tbody>\n",
       "    <tr>\n",
       "      <th>0</th>\n",
       "      <td>fffe32003000360033003200</td>\n",
       "      <td>2008-09-30</td>\n",
       "      <td>Female</td>\n",
       "      <td>Service</td>\n",
       "      <td>No</td>\n",
       "      <td>2.0</td>\n",
       "      <td>3.0</td>\n",
       "      <td>3.8</td>\n",
       "      <td>0.16</td>\n",
       "    </tr>\n",
       "    <tr>\n",
       "      <th>1</th>\n",
       "      <td>fffe3700360033003500</td>\n",
       "      <td>2008-11-30</td>\n",
       "      <td>Male</td>\n",
       "      <td>Service</td>\n",
       "      <td>Yes</td>\n",
       "      <td>1.0</td>\n",
       "      <td>2.0</td>\n",
       "      <td>5.0</td>\n",
       "      <td>0.36</td>\n",
       "    </tr>\n",
       "    <tr>\n",
       "      <th>2</th>\n",
       "      <td>fffe31003300320037003900</td>\n",
       "      <td>2008-03-10</td>\n",
       "      <td>Female</td>\n",
       "      <td>Product</td>\n",
       "      <td>Yes</td>\n",
       "      <td>2.0</td>\n",
       "      <td>NaN</td>\n",
       "      <td>5.8</td>\n",
       "      <td>0.49</td>\n",
       "    </tr>\n",
       "    <tr>\n",
       "      <th>3</th>\n",
       "      <td>fffe32003400380032003900</td>\n",
       "      <td>2008-11-03</td>\n",
       "      <td>Male</td>\n",
       "      <td>Service</td>\n",
       "      <td>Yes</td>\n",
       "      <td>1.0</td>\n",
       "      <td>1.0</td>\n",
       "      <td>2.6</td>\n",
       "      <td>0.20</td>\n",
       "    </tr>\n",
       "    <tr>\n",
       "      <th>4</th>\n",
       "      <td>fffe31003900340031003600</td>\n",
       "      <td>2008-07-24</td>\n",
       "      <td>Female</td>\n",
       "      <td>Service</td>\n",
       "      <td>No</td>\n",
       "      <td>3.0</td>\n",
       "      <td>7.0</td>\n",
       "      <td>6.9</td>\n",
       "      <td>0.52</td>\n",
       "    </tr>\n",
       "  </tbody>\n",
       "</table>\n",
       "</div>"
      ],
      "text/plain": [
       "                Employee ID Date of Joining  Gender Company Type  \\\n",
       "0  fffe32003000360033003200      2008-09-30  Female      Service   \n",
       "1      fffe3700360033003500      2008-11-30    Male      Service   \n",
       "2  fffe31003300320037003900      2008-03-10  Female      Product   \n",
       "3  fffe32003400380032003900      2008-11-03    Male      Service   \n",
       "4  fffe31003900340031003600      2008-07-24  Female      Service   \n",
       "\n",
       "  WFH Setup Available  Designation  Resource Allocation  Mental Fatigue Score  \\\n",
       "0                  No          2.0                  3.0                   3.8   \n",
       "1                 Yes          1.0                  2.0                   5.0   \n",
       "2                 Yes          2.0                  NaN                   5.8   \n",
       "3                 Yes          1.0                  1.0                   2.6   \n",
       "4                  No          3.0                  7.0                   6.9   \n",
       "\n",
       "   Burn Rate  \n",
       "0       0.16  \n",
       "1       0.36  \n",
       "2       0.49  \n",
       "3       0.20  \n",
       "4       0.52  "
      ]
     },
     "metadata": {},
     "output_type": "display_data"
    },
    {
     "data": {
      "text/plain": [
       "count    22750.000000\n",
       "mean         2.178725\n",
       "std          1.135145\n",
       "min          0.000000\n",
       "25%          1.000000\n",
       "50%          2.000000\n",
       "75%          3.000000\n",
       "max          5.000000\n",
       "Name: Designation, dtype: float64"
      ]
     },
     "execution_count": 16,
     "metadata": {},
     "output_type": "execute_result"
    }
   ],
   "source": [
    "print(dftr.columns)\n",
    "display(dftr.head())\n",
    "dftr['Designation'].describe()"
   ]
  },
  {
   "cell_type": "code",
   "execution_count": 17,
   "id": "9e4975e3-4231-431e-9b39-e5d6d6d37809",
   "metadata": {},
   "outputs": [
    {
     "data": {
      "text/plain": [
       "<AxesSubplot:xlabel='Designation', ylabel='count'>"
      ]
     },
     "execution_count": 17,
     "metadata": {},
     "output_type": "execute_result"
    },
    {
     "data": {
      "image/png": "[encoded data removed]",
      "text/plain": [
       "<Figure size 432x288 with 1 Axes>"
      ]
     },
     "metadata": {
      "needs_background": "light"
     },
     "output_type": "display_data"
    }
   ],
   "source": [
    "sns.countplot(x = 'Designation', hue = 'Gender', palette = 'Blues_d', data = dftr)"
   ]
  },
  {
   "cell_type": "markdown",
   "id": "ef16af2a-404d-452c-a704-2fef91398292",
   "metadata": {},
   "source": [
    "There are more male working at higher designation."
   ]
  },
  {
   "cell_type": "markdown",
   "id": "77dcbb83-37f3-4010-90f0-5dceec91ecbc",
   "metadata": {},
   "source": [
    "### Another Aside/Digression: HSL Colors\n",
    "Ref: https://www.w3schools.com/colors/colors_hsl.asp\n",
    "\n",
    "HSL color values are supported in IE9+, Firefox, Chrome, Safari, and in Opera 10+.\n",
    "\n",
    "**<font color=\"red\">HSL stands for hue, saturation, and lightness.</font>**\n",
    "\n",
    "HSL color values are specified with: hsl(hue, saturation, lightness).\n",
    "\n",
    "#### Hue\n",
    "Hue is a degree on the color wheel from 0 to 360. 0 is red, 120 is green, 240 is blue.\n",
    "\n",
    "#### Saturation\n",
    "Saturation is a percentage value; 0% means a shade of gray and 100% is the full color.\n",
    "\n",
    "#### Lightness\n",
    "Lightness is also a percentage; 0% is black, 100% is white.\n",
    "\n",
    "#### Try it Yourself\n",
    "HSL color values are supported in all major browsers.\n",
    "\n",
    "```html\n",
    "<style>\n",
    "div {\n",
    "    background-color: hsl(180, 50%, 50%);\n",
    "    color: hsl(0, 0%, 100%);\n",
    "}\n",
    "</style>\n",
    "```\n",
    "<font color=\"magenta\">======== kp: End of the Aside/Digression on 'HLS' colors =======</font>\n",
    "\n",
    "-----------"
   ]
  },
  {
   "cell_type": "code",
   "execution_count": 18,
   "id": "e577502b-c3f9-4688-bc06-d0e9c0202a21",
   "metadata": {},
   "outputs": [
    {
     "data": {
      "text/plain": [
       "<AxesSubplot:xlabel='Gender', ylabel='Resource Allocation'>"
      ]
     },
     "execution_count": 18,
     "metadata": {},
     "output_type": "execute_result"
    },
    {
     "data": {
      "image/png": "[encoded data removed]",
      "text/plain": [
       "<Figure size 432x288 with 1 Axes>"
      ]
     },
     "metadata": {
      "needs_background": "light"
     },
     "output_type": "display_data"
    }
   ],
   "source": [
    "sns.boxplot(x = 'Gender', y = 'Resource Allocation', palette=sns.color_palette(\"Paired\"), data = dftr)"
   ]
  },
  {
   "cell_type": "markdown",
   "id": "0cf75d25-e827-47ad-95d1-34d29f6e339c",
   "metadata": {},
   "source": [
    "While most of the female employees work up to 8 hours, the male employees work up to 10 hours. Average working (median) hours between both genders differ by 1 hour.\n",
    "\n",
    "**Note** – Again we observe outliers in the feature – Resource Allocation in the female records."
   ]
  },
  {
   "cell_type": "code",
   "execution_count": 19,
   "id": "58fd28ef-04d8-4664-8d2c-21251ae89fc8",
   "metadata": {},
   "outputs": [
    {
     "data": {
      "image/png": "[encoded data removed]",
      "text/plain": [
       "<Figure size 432x288 with 1 Axes>"
      ]
     },
     "metadata": {
      "needs_background": "light"
     },
     "output_type": "display_data"
    }
   ],
   "source": [
    "sns.boxplot(x = 'Company Type', y = 'Mental Fatigue Score',palette=sns.color_palette(\"hls\"),data = dftr);"
   ]
  },
  {
   "cell_type": "markdown",
   "id": "f024be3b-ac41-44ed-bfb3-226403eff275",
   "metadata": {},
   "source": [
    "The fatigue scores remain equal for the two types of companies. Note – Outliers"
   ]
  },
  {
   "cell_type": "code",
   "execution_count": 20,
   "id": "afaef8a9-d9ba-476e-aaf5-1879a28ca1b6",
   "metadata": {},
   "outputs": [
    {
     "data": {
      "text/plain": [
       "<AxesSubplot:xlabel='Mental Fatigue Score', ylabel='Burn Rate'>"
      ]
     },
     "execution_count": 20,
     "metadata": {},
     "output_type": "execute_result"
    },
    {
     "data": {
      "image/png": "[encoded data removed]",
      "text/plain": [
       "<Figure size 432x288 with 1 Axes>"
      ]
     },
     "metadata": {
      "needs_background": "light"
     },
     "output_type": "display_data"
    }
   ],
   "source": [
    "sns.scatterplot(x = 'Mental Fatigue Score', y = 'Burn Rate', hue = 'Designation', palette = sns.color_palette(\"rocket\"), data = dftr)"
   ]
  },
  {
   "cell_type": "markdown",
   "id": "e3d30dd6-435d-4e5d-b8a8-0c80d59a770a",
   "metadata": {},
   "source": [
    "This indicates a very strong linear relationship between the Fatigue Score and Burn rate."
   ]
  },
  {
   "cell_type": "code",
   "execution_count": 21,
   "id": "6b0f9414-a23c-4cef-866e-0ddd1e9dcf23",
   "metadata": {},
   "outputs": [
    {
     "name": "stdout",
     "output_type": "stream",
     "text": [
      "It seems 'heatmap' shows the correlations/map for all the numerical variables (obviously skipping the categorical ones.\n"
     ]
    },
    {
     "data": {
      "image/png": "[encoded data removed]",
      "text/plain": [
       "<Figure size 432x288 with 2 Axes>"
      ]
     },
     "metadata": {
      "needs_background": "light"
     },
     "output_type": "display_data"
    }
   ],
   "source": [
    "sns.heatmap(dftr.corr(), annot = True) \n",
    "print(\"It seems 'heatmap' shows the correlations/map for all the numerical variables (obviously skipping the categorical ones.\")"
   ]
  },
  {
   "cell_type": "markdown",
   "id": "fa52dc34-d985-4bbb-a44b-3e8daced5112",
   "metadata": {},
   "source": [
    "Apart from Mental Fatigue Score, Burn Rate shows a strong positive linear relationship with Resource Allocation."
   ]
  },
  {
   "cell_type": "code",
   "execution_count": 22,
   "id": "cd3b8798-3770-4f5e-8cec-546aa2593d7f",
   "metadata": {},
   "outputs": [
    {
     "data": {
      "text/plain": [
       "<AxesSubplot:xlabel='Resource Allocation', ylabel='Burn Rate'>"
      ]
     },
     "execution_count": 22,
     "metadata": {},
     "output_type": "execute_result"
    },
    {
     "data": {
      "image/png": "[encoded data removed]",
      "text/plain": [
       "<Figure size 432x288 with 1 Axes>"
      ]
     },
     "metadata": {
      "needs_background": "light"
     },
     "output_type": "display_data"
    }
   ],
   "source": [
    "sns.scatterplot(x = 'Resource Allocation', y = 'Burn Rate', hue = 'Designation', palette = sns.color_palette(\"rocket\"), data = dftr)"
   ]
  },
  {
   "cell_type": "code",
   "execution_count": 23,
   "id": "4f8461e5-fb4f-4b12-a2ca-2eff109ed4eb",
   "metadata": {},
   "outputs": [
    {
     "data": {
      "text/plain": [
       "<AxesSubplot:xlabel='Designation', ylabel='Burn Rate'>"
      ]
     },
     "execution_count": 23,
     "metadata": {},
     "output_type": "execute_result"
    },
    {
     "data": {
      "image/png": "[encoded data removed]",
      "text/plain": [
       "<Figure size 432x288 with 1 Axes>"
      ]
     },
     "metadata": {
      "needs_background": "light"
     },
     "output_type": "display_data"
    }
   ],
   "source": [
    "sns.scatterplot(x = 'Designation', y = 'Burn Rate', hue = 'Designation', palette = sns.color_palette(\"rocket\"), data = dftr)"
   ]
  },
  {
   "cell_type": "code",
   "execution_count": 24,
   "id": "e24b5b74-f95d-48fd-a013-1d0d353c4175",
   "metadata": {},
   "outputs": [
    {
     "data": {
      "text/plain": [
       "<AxesSubplot:xlabel='Resource Allocation', ylabel='Designation'>"
      ]
     },
     "execution_count": 24,
     "metadata": {},
     "output_type": "execute_result"
    },
    {
     "data": {
      "image/png": "[encoded data removed]",
      "text/plain": [
       "<Figure size 432x288 with 1 Axes>"
      ]
     },
     "metadata": {
      "needs_background": "light"
     },
     "output_type": "display_data"
    }
   ],
   "source": [
    "sns.scatterplot(x = 'Resource Allocation', y = 'Designation', hue = 'Designation', palette = sns.color_palette(\"rocket\"), data = dftr)"
   ]
  },
  {
   "cell_type": "markdown",
   "id": "8ef4ee08-22c1-423f-a981-56a2679cc700",
   "metadata": {},
   "source": [
    "We can see that the scatter plot gets wider (despite an upward trend - thus some degree of correlation) for the variables whose 'heat-map' score is smaller (thus heat-map score reflects the degree of correlation).\n",
    "\n",
    "### Categorical Encoding\n",
    "\n",
    "This is the process of transforming the text data (data under categorical variable) into numbers so that the model is able to understand and extract valuable information from it. These are some powerful techniques of categorical encoding –\n",
    "\n",
    "* **Ordinal Encoding** –  Involves the mapping of each unique label to an integral value. This type of encoding is advisable only if there is a known order/relationship between the categories. For example – Take an example of a variable Product Quality which has values – ‘Excellent’, ‘Very Good’, ‘Good’, ‘Average’, and ‘Poor’. Since this data has an order i.e ‘Excellent ‘>’Very Good’>’Good’>’Average’>’Poor’, we can use Ordinal Encoding to map  – ‘Poor’: 0, ‘Average’: 1, ‘Good’: 2, ‘Very Good’: 3, ‘Excellent’: 4.\n",
    "* **One Hot Encoding** – This is the transformation of data into binary values based on the occurrence of categories. This is used only when there is no order/relationship between the categories. For example – In our data, we have a variable called Gender which consists of values –  Male and Female. Since there is no order, we use One Hot Encoding.\n",
    "\n",
    "Let’s continue the hands-on part –"
   ]
  },
  {
   "cell_type": "code",
   "execution_count": 25,
   "id": "3d04a6ff-abcb-45e7-9aa6-a0ae20fddd1d",
   "metadata": {},
   "outputs": [
    {
     "data": {
      "text/plain": [
       "count      22750\n",
       "unique         2\n",
       "top       Female\n",
       "freq       11908\n",
       "Name: Gender, dtype: object"
      ]
     },
     "execution_count": 25,
     "metadata": {},
     "output_type": "execute_result"
    }
   ],
   "source": [
    "dftr[\"Gender\"].describe()"
   ]
  },
  {
   "cell_type": "code",
   "execution_count": 26,
   "id": "39057132-ebd3-4214-93e8-096ac2c4987e",
   "metadata": {},
   "outputs": [
    {
     "data": {
      "text/plain": [
       "count       22750\n",
       "unique          2\n",
       "top       Service\n",
       "freq        14833\n",
       "Name: Company Type, dtype: object"
      ]
     },
     "execution_count": 26,
     "metadata": {},
     "output_type": "execute_result"
    }
   ],
   "source": [
    "dftr[\"Company Type\"].describe()"
   ]
  },
  {
   "cell_type": "code",
   "execution_count": 27,
   "id": "4c120a2d-66ef-45e1-8ecd-a84a476cbef5",
   "metadata": {},
   "outputs": [
    {
     "data": {
      "text/plain": [
       "count     22750\n",
       "unique        2\n",
       "top         Yes\n",
       "freq      12290\n",
       "Name: WFH Setup Available, dtype: object"
      ]
     },
     "execution_count": 27,
     "metadata": {},
     "output_type": "execute_result"
    }
   ],
   "source": [
    "dftr[\"WFH Setup Available\"].describe()"
   ]
  },
  {
   "cell_type": "code",
   "execution_count": 28,
   "id": "af52f7c1-37d2-4f28-aa04-37fc1f7e628d",
   "metadata": {},
   "outputs": [],
   "source": [
    "dftr.drop('Employee ID', axis=1, inplace=True)"
   ]
  },
  {
   "cell_type": "code",
   "execution_count": 29,
   "id": "7f83d2cc-40ee-42ab-8def-5a63428063d0",
   "metadata": {},
   "outputs": [
    {
     "data": {
      "text/html": [
       "<div>\n",
       "<style scoped>\n",
       "    .dataframe tbody tr th:only-of-type {\n",
       "        vertical-align: middle;\n",
       "    }\n",
       "\n",
       "    .dataframe tbody tr th {\n",
       "        vertical-align: top;\n",
       "    }\n",
       "\n",
       "    .dataframe thead th {\n",
       "        text-align: right;\n",
       "    }\n",
       "</style>\n",
       "<table border=\"1\" class=\"dataframe\">\n",
       "  <thead>\n",
       "    <tr style=\"text-align: right;\">\n",
       "      <th></th>\n",
       "      <th>Date of Joining</th>\n",
       "      <th>Gender</th>\n",
       "      <th>Company Type</th>\n",
       "      <th>WFH Setup Available</th>\n",
       "      <th>Designation</th>\n",
       "      <th>Resource Allocation</th>\n",
       "      <th>Mental Fatigue Score</th>\n",
       "      <th>Burn Rate</th>\n",
       "    </tr>\n",
       "  </thead>\n",
       "  <tbody>\n",
       "    <tr>\n",
       "      <th>0</th>\n",
       "      <td>2008-09-30</td>\n",
       "      <td>Female</td>\n",
       "      <td>Service</td>\n",
       "      <td>No</td>\n",
       "      <td>2.0</td>\n",
       "      <td>3.0</td>\n",
       "      <td>3.8</td>\n",
       "      <td>0.16</td>\n",
       "    </tr>\n",
       "    <tr>\n",
       "      <th>1</th>\n",
       "      <td>2008-11-30</td>\n",
       "      <td>Male</td>\n",
       "      <td>Service</td>\n",
       "      <td>Yes</td>\n",
       "      <td>1.0</td>\n",
       "      <td>2.0</td>\n",
       "      <td>5.0</td>\n",
       "      <td>0.36</td>\n",
       "    </tr>\n",
       "  </tbody>\n",
       "</table>\n",
       "</div>"
      ],
      "text/plain": [
       "  Date of Joining  Gender Company Type WFH Setup Available  Designation  \\\n",
       "0      2008-09-30  Female      Service                  No          2.0   \n",
       "1      2008-11-30    Male      Service                 Yes          1.0   \n",
       "\n",
       "   Resource Allocation  Mental Fatigue Score  Burn Rate  \n",
       "0                  3.0                   3.8       0.16  \n",
       "1                  2.0                   5.0       0.36  "
      ]
     },
     "execution_count": 29,
     "metadata": {},
     "output_type": "execute_result"
    }
   ],
   "source": [
    "dftr.head(2)"
   ]
  },
  {
   "cell_type": "markdown",
   "id": "d42b7e3b-960e-4f61-a226-cefc74375732",
   "metadata": {},
   "source": [
    "We will be using ‘Date of Joining’ in the feature engineering part."
   ]
  },
  {
   "cell_type": "code",
   "execution_count": 30,
   "id": "955e05f6-c26f-4033-beed-7b12fe8253c3",
   "metadata": {},
   "outputs": [],
   "source": [
    "dat = pd.Series(dftr['Date of Joining'])"
   ]
  },
  {
   "cell_type": "code",
   "execution_count": 31,
   "id": "39bd2911-2f7b-4cdc-8245-5e213ce280cc",
   "metadata": {},
   "outputs": [],
   "source": [
    "#dftr.drop('Date of Joining', axis=1, inplace=True)"
   ]
  },
  {
   "cell_type": "markdown",
   "id": "e770e910-0b2c-4f1f-a048-e7f550accbad",
   "metadata": {},
   "source": [
    "Applying One hot encoding –"
   ]
  },
  {
   "cell_type": "code",
   "execution_count": 32,
   "id": "6aef873d-957b-4d30-b25d-876549230481",
   "metadata": {},
   "outputs": [],
   "source": [
    "cat = [] #kp: List to carry the names of Categorical features\n",
    "num = [] #kp: List to carry the names of Numerical features\n",
    "\n",
    "for feat in dftr.columns:\n",
    "    if(dftr[feat].dtype=='object'):\n",
    "        cat.append(feat)\n",
    "    else:\n",
    "        num.append(feat)"
   ]
  },
  {
   "cell_type": "code",
   "execution_count": 33,
   "id": "bf82cf4a-57f5-4fa8-b60e-53bf38172513",
   "metadata": {},
   "outputs": [
    {
     "name": "stdout",
     "output_type": "stream",
     "text": [
      "['Date of Joining', 'Gender', 'Company Type', 'WFH Setup Available'] \n",
      " ['Designation', 'Resource Allocation', 'Mental Fatigue Score', 'Burn Rate']\n"
     ]
    }
   ],
   "source": [
    "print(cat, \"\\n\", num)"
   ]
  },
  {
   "cell_type": "code",
   "execution_count": 34,
   "id": "0f0e8346-9a80-4dde-8d1f-ef9f2cfdf1e7",
   "metadata": {},
   "outputs": [],
   "source": [
    "from sklearn.preprocessing import OneHotEncoder\n",
    "encoder = OneHotEncoder(handle_unknown = 'ignore', sparse=False)\n",
    "dummy_df = pd.DataFrame(encoder.fit_transform((dftr[cat])))\n",
    "dummy_df.index = dftr.index\n",
    "dummy_df.columns = encoder.get_feature_names(cat)"
   ]
  },
  {
   "cell_type": "code",
   "execution_count": 35,
   "id": "aa8ca1d2-ad33-4721-ac3c-c2fcbf9c8e53",
   "metadata": {},
   "outputs": [
    {
     "data": {
      "text/html": [
       "<div>\n",
       "<style scoped>\n",
       "    .dataframe tbody tr th:only-of-type {\n",
       "        vertical-align: middle;\n",
       "    }\n",
       "\n",
       "    .dataframe tbody tr th {\n",
       "        vertical-align: top;\n",
       "    }\n",
       "\n",
       "    .dataframe thead th {\n",
       "        text-align: right;\n",
       "    }\n",
       "</style>\n",
       "<table border=\"1\" class=\"dataframe\">\n",
       "  <thead>\n",
       "    <tr style=\"text-align: right;\">\n",
       "      <th></th>\n",
       "      <th>Date of Joining_2008-01-01</th>\n",
       "      <th>Date of Joining_2008-01-02</th>\n",
       "      <th>Date of Joining_2008-01-03</th>\n",
       "      <th>Date of Joining_2008-01-04</th>\n",
       "      <th>Date of Joining_2008-01-05</th>\n",
       "      <th>Date of Joining_2008-01-06</th>\n",
       "      <th>Date of Joining_2008-01-07</th>\n",
       "      <th>Date of Joining_2008-01-08</th>\n",
       "      <th>Date of Joining_2008-01-09</th>\n",
       "      <th>Date of Joining_2008-01-10</th>\n",
       "      <th>...</th>\n",
       "      <th>Date of Joining_2008-12-28</th>\n",
       "      <th>Date of Joining_2008-12-29</th>\n",
       "      <th>Date of Joining_2008-12-30</th>\n",
       "      <th>Date of Joining_2008-12-31</th>\n",
       "      <th>Gender_Female</th>\n",
       "      <th>Gender_Male</th>\n",
       "      <th>Company Type_Product</th>\n",
       "      <th>Company Type_Service</th>\n",
       "      <th>WFH Setup Available_No</th>\n",
       "      <th>WFH Setup Available_Yes</th>\n",
       "    </tr>\n",
       "  </thead>\n",
       "  <tbody>\n",
       "    <tr>\n",
       "      <th>0</th>\n",
       "      <td>0.0</td>\n",
       "      <td>0.0</td>\n",
       "      <td>0.0</td>\n",
       "      <td>0.0</td>\n",
       "      <td>0.0</td>\n",
       "      <td>0.0</td>\n",
       "      <td>0.0</td>\n",
       "      <td>0.0</td>\n",
       "      <td>0.0</td>\n",
       "      <td>0.0</td>\n",
       "      <td>...</td>\n",
       "      <td>0.0</td>\n",
       "      <td>0.0</td>\n",
       "      <td>0.0</td>\n",
       "      <td>0.0</td>\n",
       "      <td>1.0</td>\n",
       "      <td>0.0</td>\n",
       "      <td>0.0</td>\n",
       "      <td>1.0</td>\n",
       "      <td>1.0</td>\n",
       "      <td>0.0</td>\n",
       "    </tr>\n",
       "    <tr>\n",
       "      <th>1</th>\n",
       "      <td>0.0</td>\n",
       "      <td>0.0</td>\n",
       "      <td>0.0</td>\n",
       "      <td>0.0</td>\n",
       "      <td>0.0</td>\n",
       "      <td>0.0</td>\n",
       "      <td>0.0</td>\n",
       "      <td>0.0</td>\n",
       "      <td>0.0</td>\n",
       "      <td>0.0</td>\n",
       "      <td>...</td>\n",
       "      <td>0.0</td>\n",
       "      <td>0.0</td>\n",
       "      <td>0.0</td>\n",
       "      <td>0.0</td>\n",
       "      <td>0.0</td>\n",
       "      <td>1.0</td>\n",
       "      <td>0.0</td>\n",
       "      <td>1.0</td>\n",
       "      <td>0.0</td>\n",
       "      <td>1.0</td>\n",
       "    </tr>\n",
       "    <tr>\n",
       "      <th>2</th>\n",
       "      <td>0.0</td>\n",
       "      <td>0.0</td>\n",
       "      <td>0.0</td>\n",
       "      <td>0.0</td>\n",
       "      <td>0.0</td>\n",
       "      <td>0.0</td>\n",
       "      <td>0.0</td>\n",
       "      <td>0.0</td>\n",
       "      <td>0.0</td>\n",
       "      <td>0.0</td>\n",
       "      <td>...</td>\n",
       "      <td>0.0</td>\n",
       "      <td>0.0</td>\n",
       "      <td>0.0</td>\n",
       "      <td>0.0</td>\n",
       "      <td>1.0</td>\n",
       "      <td>0.0</td>\n",
       "      <td>1.0</td>\n",
       "      <td>0.0</td>\n",
       "      <td>0.0</td>\n",
       "      <td>1.0</td>\n",
       "    </tr>\n",
       "    <tr>\n",
       "      <th>3</th>\n",
       "      <td>0.0</td>\n",
       "      <td>0.0</td>\n",
       "      <td>0.0</td>\n",
       "      <td>0.0</td>\n",
       "      <td>0.0</td>\n",
       "      <td>0.0</td>\n",
       "      <td>0.0</td>\n",
       "      <td>0.0</td>\n",
       "      <td>0.0</td>\n",
       "      <td>0.0</td>\n",
       "      <td>...</td>\n",
       "      <td>0.0</td>\n",
       "      <td>0.0</td>\n",
       "      <td>0.0</td>\n",
       "      <td>0.0</td>\n",
       "      <td>0.0</td>\n",
       "      <td>1.0</td>\n",
       "      <td>0.0</td>\n",
       "      <td>1.0</td>\n",
       "      <td>0.0</td>\n",
       "      <td>1.0</td>\n",
       "    </tr>\n",
       "    <tr>\n",
       "      <th>4</th>\n",
       "      <td>0.0</td>\n",
       "      <td>0.0</td>\n",
       "      <td>0.0</td>\n",
       "      <td>0.0</td>\n",
       "      <td>0.0</td>\n",
       "      <td>0.0</td>\n",
       "      <td>0.0</td>\n",
       "      <td>0.0</td>\n",
       "      <td>0.0</td>\n",
       "      <td>0.0</td>\n",
       "      <td>...</td>\n",
       "      <td>0.0</td>\n",
       "      <td>0.0</td>\n",
       "      <td>0.0</td>\n",
       "      <td>0.0</td>\n",
       "      <td>1.0</td>\n",
       "      <td>0.0</td>\n",
       "      <td>0.0</td>\n",
       "      <td>1.0</td>\n",
       "      <td>1.0</td>\n",
       "      <td>0.0</td>\n",
       "    </tr>\n",
       "  </tbody>\n",
       "</table>\n",
       "<p>5 rows × 372 columns</p>\n",
       "</div>"
      ],
      "text/plain": [
       "   Date of Joining_2008-01-01  Date of Joining_2008-01-02  \\\n",
       "0                         0.0                         0.0   \n",
       "1                         0.0                         0.0   \n",
       "2                         0.0                         0.0   \n",
       "3                         0.0                         0.0   \n",
       "4                         0.0                         0.0   \n",
       "\n",
       "   Date of Joining_2008-01-03  Date of Joining_2008-01-04  \\\n",
       "0                         0.0                         0.0   \n",
       "1                         0.0                         0.0   \n",
       "2                         0.0                         0.0   \n",
       "3                         0.0                         0.0   \n",
       "4                         0.0                         0.0   \n",
       "\n",
       "   Date of Joining_2008-01-05  Date of Joining_2008-01-06  \\\n",
       "0                         0.0                         0.0   \n",
       "1                         0.0                         0.0   \n",
       "2                         0.0                         0.0   \n",
       "3                         0.0                         0.0   \n",
       "4                         0.0                         0.0   \n",
       "\n",
       "   Date of Joining_2008-01-07  Date of Joining_2008-01-08  \\\n",
       "0                         0.0                         0.0   \n",
       "1                         0.0                         0.0   \n",
       "2                         0.0                         0.0   \n",
       "3                         0.0                         0.0   \n",
       "4                         0.0                         0.0   \n",
       "\n",
       "   Date of Joining_2008-01-09  Date of Joining_2008-01-10  ...  \\\n",
       "0                         0.0                         0.0  ...   \n",
       "1                         0.0                         0.0  ...   \n",
       "2                         0.0                         0.0  ...   \n",
       "3                         0.0                         0.0  ...   \n",
       "4                         0.0                         0.0  ...   \n",
       "\n",
       "   Date of Joining_2008-12-28  Date of Joining_2008-12-29  \\\n",
       "0                         0.0                         0.0   \n",
       "1                         0.0                         0.0   \n",
       "2                         0.0                         0.0   \n",
       "3                         0.0                         0.0   \n",
       "4                         0.0                         0.0   \n",
       "\n",
       "   Date of Joining_2008-12-30  Date of Joining_2008-12-31  Gender_Female  \\\n",
       "0                         0.0                         0.0            1.0   \n",
       "1                         0.0                         0.0            0.0   \n",
       "2                         0.0                         0.0            1.0   \n",
       "3                         0.0                         0.0            0.0   \n",
       "4                         0.0                         0.0            1.0   \n",
       "\n",
       "   Gender_Male  Company Type_Product  Company Type_Service  \\\n",
       "0          0.0                   0.0                   1.0   \n",
       "1          1.0                   0.0                   1.0   \n",
       "2          0.0                   1.0                   0.0   \n",
       "3          1.0                   0.0                   1.0   \n",
       "4          0.0                   0.0                   1.0   \n",
       "\n",
       "   WFH Setup Available_No  WFH Setup Available_Yes  \n",
       "0                     1.0                      0.0  \n",
       "1                     0.0                      1.0  \n",
       "2                     0.0                      1.0  \n",
       "3                     0.0                      1.0  \n",
       "4                     1.0                      0.0  \n",
       "\n",
       "[5 rows x 372 columns]"
      ]
     },
     "execution_count": 35,
     "metadata": {},
     "output_type": "execute_result"
    }
   ],
   "source": [
    "dummy_df.head()"
   ]
  },
  {
   "cell_type": "code",
   "execution_count": 36,
   "id": "0ba6070d-a5f5-4956-9941-042695fab93c",
   "metadata": {},
   "outputs": [],
   "source": [
    "dftr.drop(cat, axis=1, inplace = True)\n",
    "dftr = pd.concat([dftr, dummy_df], axis=1)"
   ]
  },
  {
   "cell_type": "code",
   "execution_count": 37,
   "id": "2801e829-c331-46ca-bb2d-b8ec46b76359",
   "metadata": {},
   "outputs": [
    {
     "data": {
      "text/html": [
       "<div>\n",
       "<style scoped>\n",
       "    .dataframe tbody tr th:only-of-type {\n",
       "        vertical-align: middle;\n",
       "    }\n",
       "\n",
       "    .dataframe tbody tr th {\n",
       "        vertical-align: top;\n",
       "    }\n",
       "\n",
       "    .dataframe thead th {\n",
       "        text-align: right;\n",
       "    }\n",
       "</style>\n",
       "<table border=\"1\" class=\"dataframe\">\n",
       "  <thead>\n",
       "    <tr style=\"text-align: right;\">\n",
       "      <th></th>\n",
       "      <th>Designation</th>\n",
       "      <th>Resource Allocation</th>\n",
       "      <th>Mental Fatigue Score</th>\n",
       "      <th>Burn Rate</th>\n",
       "      <th>Date of Joining_2008-01-01</th>\n",
       "      <th>Date of Joining_2008-01-02</th>\n",
       "      <th>Date of Joining_2008-01-03</th>\n",
       "      <th>Date of Joining_2008-01-04</th>\n",
       "      <th>Date of Joining_2008-01-05</th>\n",
       "      <th>Date of Joining_2008-01-06</th>\n",
       "      <th>...</th>\n",
       "      <th>Date of Joining_2008-12-28</th>\n",
       "      <th>Date of Joining_2008-12-29</th>\n",
       "      <th>Date of Joining_2008-12-30</th>\n",
       "      <th>Date of Joining_2008-12-31</th>\n",
       "      <th>Gender_Female</th>\n",
       "      <th>Gender_Male</th>\n",
       "      <th>Company Type_Product</th>\n",
       "      <th>Company Type_Service</th>\n",
       "      <th>WFH Setup Available_No</th>\n",
       "      <th>WFH Setup Available_Yes</th>\n",
       "    </tr>\n",
       "  </thead>\n",
       "  <tbody>\n",
       "    <tr>\n",
       "      <th>0</th>\n",
       "      <td>2.0</td>\n",
       "      <td>3.0</td>\n",
       "      <td>3.8</td>\n",
       "      <td>0.16</td>\n",
       "      <td>0.0</td>\n",
       "      <td>0.0</td>\n",
       "      <td>0.0</td>\n",
       "      <td>0.0</td>\n",
       "      <td>0.0</td>\n",
       "      <td>0.0</td>\n",
       "      <td>...</td>\n",
       "      <td>0.0</td>\n",
       "      <td>0.0</td>\n",
       "      <td>0.0</td>\n",
       "      <td>0.0</td>\n",
       "      <td>1.0</td>\n",
       "      <td>0.0</td>\n",
       "      <td>0.0</td>\n",
       "      <td>1.0</td>\n",
       "      <td>1.0</td>\n",
       "      <td>0.0</td>\n",
       "    </tr>\n",
       "    <tr>\n",
       "      <th>1</th>\n",
       "      <td>1.0</td>\n",
       "      <td>2.0</td>\n",
       "      <td>5.0</td>\n",
       "      <td>0.36</td>\n",
       "      <td>0.0</td>\n",
       "      <td>0.0</td>\n",
       "      <td>0.0</td>\n",
       "      <td>0.0</td>\n",
       "      <td>0.0</td>\n",
       "      <td>0.0</td>\n",
       "      <td>...</td>\n",
       "      <td>0.0</td>\n",
       "      <td>0.0</td>\n",
       "      <td>0.0</td>\n",
       "      <td>0.0</td>\n",
       "      <td>0.0</td>\n",
       "      <td>1.0</td>\n",
       "      <td>0.0</td>\n",
       "      <td>1.0</td>\n",
       "      <td>0.0</td>\n",
       "      <td>1.0</td>\n",
       "    </tr>\n",
       "    <tr>\n",
       "      <th>2</th>\n",
       "      <td>2.0</td>\n",
       "      <td>NaN</td>\n",
       "      <td>5.8</td>\n",
       "      <td>0.49</td>\n",
       "      <td>0.0</td>\n",
       "      <td>0.0</td>\n",
       "      <td>0.0</td>\n",
       "      <td>0.0</td>\n",
       "      <td>0.0</td>\n",
       "      <td>0.0</td>\n",
       "      <td>...</td>\n",
       "      <td>0.0</td>\n",
       "      <td>0.0</td>\n",
       "      <td>0.0</td>\n",
       "      <td>0.0</td>\n",
       "      <td>1.0</td>\n",
       "      <td>0.0</td>\n",
       "      <td>1.0</td>\n",
       "      <td>0.0</td>\n",
       "      <td>0.0</td>\n",
       "      <td>1.0</td>\n",
       "    </tr>\n",
       "    <tr>\n",
       "      <th>3</th>\n",
       "      <td>1.0</td>\n",
       "      <td>1.0</td>\n",
       "      <td>2.6</td>\n",
       "      <td>0.20</td>\n",
       "      <td>0.0</td>\n",
       "      <td>0.0</td>\n",
       "      <td>0.0</td>\n",
       "      <td>0.0</td>\n",
       "      <td>0.0</td>\n",
       "      <td>0.0</td>\n",
       "      <td>...</td>\n",
       "      <td>0.0</td>\n",
       "      <td>0.0</td>\n",
       "      <td>0.0</td>\n",
       "      <td>0.0</td>\n",
       "      <td>0.0</td>\n",
       "      <td>1.0</td>\n",
       "      <td>0.0</td>\n",
       "      <td>1.0</td>\n",
       "      <td>0.0</td>\n",
       "      <td>1.0</td>\n",
       "    </tr>\n",
       "    <tr>\n",
       "      <th>4</th>\n",
       "      <td>3.0</td>\n",
       "      <td>7.0</td>\n",
       "      <td>6.9</td>\n",
       "      <td>0.52</td>\n",
       "      <td>0.0</td>\n",
       "      <td>0.0</td>\n",
       "      <td>0.0</td>\n",
       "      <td>0.0</td>\n",
       "      <td>0.0</td>\n",
       "      <td>0.0</td>\n",
       "      <td>...</td>\n",
       "      <td>0.0</td>\n",
       "      <td>0.0</td>\n",
       "      <td>0.0</td>\n",
       "      <td>0.0</td>\n",
       "      <td>1.0</td>\n",
       "      <td>0.0</td>\n",
       "      <td>0.0</td>\n",
       "      <td>1.0</td>\n",
       "      <td>1.0</td>\n",
       "      <td>0.0</td>\n",
       "    </tr>\n",
       "  </tbody>\n",
       "</table>\n",
       "<p>5 rows × 376 columns</p>\n",
       "</div>"
      ],
      "text/plain": [
       "   Designation  Resource Allocation  Mental Fatigue Score  Burn Rate  \\\n",
       "0          2.0                  3.0                   3.8       0.16   \n",
       "1          1.0                  2.0                   5.0       0.36   \n",
       "2          2.0                  NaN                   5.8       0.49   \n",
       "3          1.0                  1.0                   2.6       0.20   \n",
       "4          3.0                  7.0                   6.9       0.52   \n",
       "\n",
       "   Date of Joining_2008-01-01  Date of Joining_2008-01-02  \\\n",
       "0                         0.0                         0.0   \n",
       "1                         0.0                         0.0   \n",
       "2                         0.0                         0.0   \n",
       "3                         0.0                         0.0   \n",
       "4                         0.0                         0.0   \n",
       "\n",
       "   Date of Joining_2008-01-03  Date of Joining_2008-01-04  \\\n",
       "0                         0.0                         0.0   \n",
       "1                         0.0                         0.0   \n",
       "2                         0.0                         0.0   \n",
       "3                         0.0                         0.0   \n",
       "4                         0.0                         0.0   \n",
       "\n",
       "   Date of Joining_2008-01-05  Date of Joining_2008-01-06  ...  \\\n",
       "0                         0.0                         0.0  ...   \n",
       "1                         0.0                         0.0  ...   \n",
       "2                         0.0                         0.0  ...   \n",
       "3                         0.0                         0.0  ...   \n",
       "4                         0.0                         0.0  ...   \n",
       "\n",
       "   Date of Joining_2008-12-28  Date of Joining_2008-12-29  \\\n",
       "0                         0.0                         0.0   \n",
       "1                         0.0                         0.0   \n",
       "2                         0.0                         0.0   \n",
       "3                         0.0                         0.0   \n",
       "4                         0.0                         0.0   \n",
       "\n",
       "   Date of Joining_2008-12-30  Date of Joining_2008-12-31  Gender_Female  \\\n",
       "0                         0.0                         0.0            1.0   \n",
       "1                         0.0                         0.0            0.0   \n",
       "2                         0.0                         0.0            1.0   \n",
       "3                         0.0                         0.0            0.0   \n",
       "4                         0.0                         0.0            1.0   \n",
       "\n",
       "   Gender_Male  Company Type_Product  Company Type_Service  \\\n",
       "0          0.0                   0.0                   1.0   \n",
       "1          1.0                   0.0                   1.0   \n",
       "2          0.0                   1.0                   0.0   \n",
       "3          1.0                   0.0                   1.0   \n",
       "4          0.0                   0.0                   1.0   \n",
       "\n",
       "   WFH Setup Available_No  WFH Setup Available_Yes  \n",
       "0                     1.0                      0.0  \n",
       "1                     0.0                      1.0  \n",
       "2                     0.0                      1.0  \n",
       "3                     0.0                      1.0  \n",
       "4                     1.0                      0.0  \n",
       "\n",
       "[5 rows x 376 columns]"
      ]
     },
     "execution_count": 37,
     "metadata": {},
     "output_type": "execute_result"
    }
   ],
   "source": [
    "dftr.head()"
   ]
  },
  {
   "cell_type": "markdown",
   "id": "a99317be-37bf-4599-a47b-bc5cd3bc909e",
   "metadata": {},
   "source": [
    "---------\n",
    "## <font color=\"magenta\">Another Aside/Digression: Note on using OneHotEncoder in scikit-learn to work on categorical features</font>\n",
    "\n",
    "### One-hot Encoding Concepts & Python Code Examples\n",
    "July 26, 2020 by Ajitesh Kumar (Ref0: https://vitalflux.com/one-hot-encoding-concepts-python-code-examples/)\n",
    "\n",
    "In this post, you will learn about One-hot Encoding concepts and code examples using Python programming language. One-hot encoding is also called as dummy encoding. In this post, OneHotEncoder class of sklearn.preprocessing will be used in the code examples. As a data scientist or machine learning engineer, you must learn the one-hot encoding techniques as it comes very handy while training machine learning models. Some of the following topics will be covered in this post:\n",
    "    \n",
    "#### Table of Contents\t\n",
    "\n",
    "    One-Hot Encoding Concepts\n",
    "    Disadvantages of One-hot Encoding\n",
    "    OneHotEncoder for Single Categorical Feature\n",
    "    ColumnTransformer & OneHotEncoder for Multiple Categorical Features\n",
    "    Pandas get_dummies API for one-hot encoding\n",
    "    Conclusion\n",
    "\n",
    "#### One-Hot Encoding Concepts\n",
    "Simply speaking, **one-hot encoding** is a technique which is used to **convert or transform a categorical feature** having string labels into **K numerical features** in such a manner that the value of one out of K (one-of-K) features is 1 and the **value of rest (K-1) features is 0**. It is also called as **dummy encoding** as the features created as part of these techniques are dummy features which don’t represent any real world features. Rather they are created for encoding the different values of categorical feature using dummy numerical features. The primary need for using one-hot encoding technique is to transform or convert the categorical features into numerical features such that machine learning libraries can use the values to train the model. Although, many machine learning library internally converts them, but it is recommended to convert these categorical features explicitly into numerical features (dummy features). Let’s understand the concept using an example given below.\n",
    "\n",
    "Here is a Pandas data frame which consists of three features such as gender, weight and degree. You may note that two of the features, gender and degree have non-numerical values. They are categorical features. They need to be converted into numerical features."
   ]
  },
  {
   "cell_type": "code",
   "execution_count": 38,
   "id": "28caacf9-2611-44bf-a6d8-a5a4bfe58f39",
   "metadata": {},
   "outputs": [
    {
     "data": {
      "text/html": [
       "<div>\n",
       "<style scoped>\n",
       "    .dataframe tbody tr th:only-of-type {\n",
       "        vertical-align: middle;\n",
       "    }\n",
       "\n",
       "    .dataframe tbody tr th {\n",
       "        vertical-align: top;\n",
       "    }\n",
       "\n",
       "    .dataframe thead th {\n",
       "        text-align: right;\n",
       "    }\n",
       "</style>\n",
       "<table border=\"1\" class=\"dataframe\">\n",
       "  <thead>\n",
       "    <tr style=\"text-align: right;\">\n",
       "      <th></th>\n",
       "      <th>0</th>\n",
       "      <th>1</th>\n",
       "      <th>2</th>\n",
       "    </tr>\n",
       "  </thead>\n",
       "  <tbody>\n",
       "    <tr>\n",
       "      <th>0</th>\n",
       "      <td>male</td>\n",
       "      <td>82</td>\n",
       "      <td>graduate</td>\n",
       "    </tr>\n",
       "    <tr>\n",
       "      <th>1</th>\n",
       "      <td>female</td>\n",
       "      <td>54</td>\n",
       "      <td>postgraduate</td>\n",
       "    </tr>\n",
       "    <tr>\n",
       "      <th>2</th>\n",
       "      <td>female</td>\n",
       "      <td>42</td>\n",
       "      <td>highschool</td>\n",
       "    </tr>\n",
       "    <tr>\n",
       "      <th>3</th>\n",
       "      <td>female</td>\n",
       "      <td>28</td>\n",
       "      <td>highschool</td>\n",
       "    </tr>\n",
       "  </tbody>\n",
       "</table>\n",
       "</div>"
      ],
      "text/plain": [
       "        0   1             2\n",
       "0    male  82      graduate\n",
       "1  female  54  postgraduate\n",
       "2  female  42    highschool\n",
       "3  female  28    highschool"
      ]
     },
     "execution_count": 38,
     "metadata": {},
     "output_type": "execute_result"
    }
   ],
   "source": [
    "listOfLists = [ ['male', 82, 'graduate'],\n",
    "               ['female', 54, 'postgraduate'],\n",
    "               ['female', 42, 'highschool'],\n",
    "               ['female', 28, 'highschool']]\n",
    "df = pd.DataFrame(listOfLists)\n",
    "df.head()"
   ]
  },
  {
   "cell_type": "code",
   "execution_count": 39,
   "id": "69337562-7ba2-4eba-af61-4df96bfa9a57",
   "metadata": {},
   "outputs": [
    {
     "data": {
      "text/html": [
       "<div>\n",
       "<style scoped>\n",
       "    .dataframe tbody tr th:only-of-type {\n",
       "        vertical-align: middle;\n",
       "    }\n",
       "\n",
       "    .dataframe tbody tr th {\n",
       "        vertical-align: top;\n",
       "    }\n",
       "\n",
       "    .dataframe thead th {\n",
       "        text-align: right;\n",
       "    }\n",
       "</style>\n",
       "<table border=\"1\" class=\"dataframe\">\n",
       "  <thead>\n",
       "    <tr style=\"text-align: right;\">\n",
       "      <th></th>\n",
       "      <th>gender</th>\n",
       "      <th>weight</th>\n",
       "      <th>degree</th>\n",
       "    </tr>\n",
       "  </thead>\n",
       "  <tbody>\n",
       "    <tr>\n",
       "      <th>0</th>\n",
       "      <td>male</td>\n",
       "      <td>82</td>\n",
       "      <td>graduate</td>\n",
       "    </tr>\n",
       "    <tr>\n",
       "      <th>1</th>\n",
       "      <td>female</td>\n",
       "      <td>54</td>\n",
       "      <td>postgraduate</td>\n",
       "    </tr>\n",
       "    <tr>\n",
       "      <th>2</th>\n",
       "      <td>female</td>\n",
       "      <td>42</td>\n",
       "      <td>highschool</td>\n",
       "    </tr>\n",
       "    <tr>\n",
       "      <th>3</th>\n",
       "      <td>female</td>\n",
       "      <td>28</td>\n",
       "      <td>highschool</td>\n",
       "    </tr>\n",
       "  </tbody>\n",
       "</table>\n",
       "</div>"
      ],
      "text/plain": [
       "   gender  weight        degree\n",
       "0    male      82      graduate\n",
       "1  female      54  postgraduate\n",
       "2  female      42    highschool\n",
       "3  female      28    highschool"
      ]
     },
     "execution_count": 39,
     "metadata": {},
     "output_type": "execute_result"
    }
   ],
   "source": [
    "df.columns = ['gender', 'weight', 'degree']\n",
    "df.head()"
   ]
  },
  {
   "cell_type": "markdown",
   "id": "181b9d4c-ec4a-4a97-a0d9-774c98ebef6f",
   "metadata": {},
   "source": [
    "The above data frame when transformed into one-hot encoding technique will look like the following. Note that the categorical feature, gender, got transformed into two dummy features such as gender_male and gender_female. In the same manner, the categorical feature, degree, got transformed into two dummy features such as degree_graduate and degree_highschool. Note that in every row, only one of the dummy feature belonging to a specific feature will have value 1. The other feature will have value as 0. For example, when degree_graduate takes value as 1, other two related features such as degree_highschool and degree_postgraduate will have value as 0.\n",
    "\n",
    "![Categorical features transformed into dummy features having numerical values](./Images/dummyFeaturesExample0.png)"
   ]
  },
  {
   "cell_type": "markdown",
   "id": "31c07fd3-54ec-4ca0-8fca-49afebac9a4b",
   "metadata": {},
   "source": [
    "In the following sections, you will learn about how to use class OneHotEncoder of sklearn.preprocessing to do one-hot encoding of the categorical features.\n",
    "\n",
    "### Disadvantages of One-hot Encoding\n",
    "Here are few disadvantages of one-hot encoding:\n",
    "\n",
    "* For smaller cardinality, one-hot encoding works best. For example, if we want to represent categorical variables such as week (7 days) using one-hot encoding, this will be a matrix such as `[1,0,0,0,0,0,0]` for Sunday. However, for higher cardinality such as representing millions of customer_id, converting the feature to one-hot encoding and providing inputs to a machine learning model leads to a **sparse matrix**  that isn’t well suited for a number of machine learning algorithms. <font color=\"green\">(From this [Ref](https://machinelearningmastery.com/sparse-matrices-for-machine-learning/#:~:text=A%20sparse%20matrix%20is%20a,of%20its%20coefficients%20are%20zero.): A sparse matrix is a matrix that is comprised of mostly zero values. Sparse matrices are distinct from matrices with mostly non-zero values, which are referred to as dense matrices. <i>A matrix is sparse if many of its coefficients are zero. The interest in sparsity arises because its exploitation can lead to enormous computational savings and because many large matrix problems that occur in practice are sparse.</i> — Page 1, Direct Methods for Sparse Matrices, Second Edition, 2017. The sparsity of a matrix can be quantified with a score, which is the number of zero values in the matrix divided by the total number of elements in the matrix.)</font>\n",
    "\n",
    "* Another disadvantage of one-hot encoding is that it treats the categorical variables as being independent. If there is some relationship between categorical values, the same can not be represented using one-hot encoding.\n",
    "\n",
    "#### OneHotEncoder for Single Categorical Feature\n",
    "One-hot encoding for single categorical feature can be achieved using OneHotEncoder. The following code example illustrates the transformation of categorical feature such as gender that has two values. Note some of the following:\n",
    "\n",
    "* When OneHotEncoder is instantiated with empty constructor function, the gender value gets converted into two feature columns.\n",
    "* When OneHotEncoder is instantiated with drop=’first’, one of the dummy feature is dropped. This is because the value of remaining features when all 0’s will represent the dummy feature which got dropped. This is used to avoid multi-collinearity which can be an issue for certain methods (for instance, methods that require matrix inversion).\n",
    "\n",
    "Here is the code sample for OneHotEncoder"
   ]
  },
  {
   "cell_type": "code",
   "execution_count": 40,
   "id": "7a2c4cc6-3a9e-45d5-9734-85f829022633",
   "metadata": {},
   "outputs": [
    {
     "data": {
      "text/plain": [
       "array([[1., 0., 0.],\n",
       "       [0., 0., 1.],\n",
       "       [0., 1., 0.],\n",
       "       [0., 1., 0.]])"
      ]
     },
     "execution_count": 40,
     "metadata": {},
     "output_type": "execute_result"
    }
   ],
   "source": [
    "from sklearn.preprocessing import OneHotEncoder\n",
    "#\n",
    "# Instantiate OneHotEncoder\n",
    "#\n",
    "ohe = OneHotEncoder()\n",
    "#\n",
    "# One-hot encoding degree column\n",
    "#\n",
    "ohe.fit_transform(df.degree.values.reshape(-1, 1)).toarray()"
   ]
  },
  {
   "cell_type": "code",
   "execution_count": 41,
   "id": "78613245-8f6e-46fa-a7aa-53bbb6d3623b",
   "metadata": {},
   "outputs": [
    {
     "data": {
      "text/plain": [
       "array([[0., 0.],\n",
       "       [0., 1.],\n",
       "       [1., 0.],\n",
       "       [1., 0.]])"
      ]
     },
     "execution_count": 41,
     "metadata": {},
     "output_type": "execute_result"
    }
   ],
   "source": [
    "#\n",
    "# OneHotEncoder with drop assigned to first\n",
    "#\n",
    "ohe = OneHotEncoder(drop='first')\n",
    "#\n",
    "# One-hot encoding degree column\n",
    "#\n",
    "ohe.fit_transform(df.degree.values.reshape(-1, 1)).toarray()"
   ]
  },
  {
   "cell_type": "code",
   "execution_count": 42,
   "id": "7b3f8519-19c4-43c0-b1ae-105ebd315632",
   "metadata": {},
   "outputs": [
    {
     "data": {
      "text/plain": [
       "array([[1.],\n",
       "       [0.],\n",
       "       [0.],\n",
       "       [0.]])"
      ]
     },
     "execution_count": 42,
     "metadata": {},
     "output_type": "execute_result"
    }
   ],
   "source": [
    "ohe.fit_transform(df.gender.values.reshape(-1, 1)).toarray()"
   ]
  },
  {
   "cell_type": "markdown",
   "id": "10474f76-a46e-45bb-b3ec-60a1043c5b46",
   "metadata": {},
   "source": [
    "### ColumnTransformer & OneHotEncoder for Multiple Categorical Features\n",
    "When there is a need for encoding multiple categorical features, [OneHotEncoder](https://scikit-learn.org/stable/modules/generated/sklearn.preprocessing.OneHotEncoder.html) can be used with [ColumnTransformer](https://scikit-learn.org/stable/modules/generated/sklearn.compose.ColumnTransformer.html). ColumnTransformer applies transformers to columns of an array or pandas DataFrame. The ColumnTransformer estimator allows different columns or column subsets of the input to be transformed separately and the features generated by each transformer will be concatenated to form a single feature space. \n",
    "\n",
    "Here is the code sample which represents the usage of ColumnTransformer class from sklearn.compose module for transforming one or more categorical features using OneHotEncoder."
   ]
  },
  {
   "cell_type": "code",
   "execution_count": 43,
   "id": "d0911473-00ae-402e-bf0d-4898399843cd",
   "metadata": {},
   "outputs": [
    {
     "data": {
      "text/plain": [
       "array([[ 0.,  1.,  1.,  0.,  0., 82.],\n",
       "       [ 1.,  0.,  0.,  0.,  1., 54.],\n",
       "       [ 1.,  0.,  0.,  1.,  0., 42.],\n",
       "       [ 1.,  0.,  0.,  1.,  0., 28.]])"
      ]
     },
     "execution_count": 43,
     "metadata": {},
     "output_type": "execute_result"
    }
   ],
   "source": [
    "from sklearn.compose import ColumnTransformer\n",
    " \n",
    "ct = ColumnTransformer([('one-hot-encoder', OneHotEncoder(), ['gender', 'degree'])], remainder='passthrough')\n",
    "#\n",
    "# For OneHotEncoder with drop='first', the code would look like the following\n",
    "#\n",
    "ct2 = ColumnTransformer([('one-hot-encoder', OneHotEncoder(drop='first'), ['gender', 'degree'])], remainder='passthrough')\n",
    "#\n",
    "# Execute Fit_Transform\n",
    "#\n",
    "ct.fit_transform(df)"
   ]
  },
  {
   "cell_type": "markdown",
   "id": "c9d1be0c-c5a6-4e6d-9922-d935df929ba4",
   "metadata": {},
   "source": [
    "### Pandas get_dummies API for one-hot encoding\n",
    "[Pandas get_dummies API](https://pandas.pydata.org/pandas-docs/stable/reference/api/pandas.get_dummies.html) can also be used for transforming one or more categorical features into dummy numerical features. This is one of the most preferred way of one-hot-encoding due to simplicity of the method / API usage. Here is the code sample:"
   ]
  },
  {
   "cell_type": "code",
   "execution_count": 44,
   "id": "ff7eaa8a-1148-4408-a272-59bb18adedc8",
   "metadata": {},
   "outputs": [
    {
     "data": {
      "text/html": [
       "<div>\n",
       "<style scoped>\n",
       "    .dataframe tbody tr th:only-of-type {\n",
       "        vertical-align: middle;\n",
       "    }\n",
       "\n",
       "    .dataframe tbody tr th {\n",
       "        vertical-align: top;\n",
       "    }\n",
       "\n",
       "    .dataframe thead th {\n",
       "        text-align: right;\n",
       "    }\n",
       "</style>\n",
       "<table border=\"1\" class=\"dataframe\">\n",
       "  <thead>\n",
       "    <tr style=\"text-align: right;\">\n",
       "      <th></th>\n",
       "      <th>weight</th>\n",
       "      <th>gender_female</th>\n",
       "      <th>gender_male</th>\n",
       "      <th>degree_graduate</th>\n",
       "      <th>degree_highschool</th>\n",
       "      <th>degree_postgraduate</th>\n",
       "    </tr>\n",
       "  </thead>\n",
       "  <tbody>\n",
       "    <tr>\n",
       "      <th>0</th>\n",
       "      <td>82</td>\n",
       "      <td>0</td>\n",
       "      <td>1</td>\n",
       "      <td>1</td>\n",
       "      <td>0</td>\n",
       "      <td>0</td>\n",
       "    </tr>\n",
       "    <tr>\n",
       "      <th>1</th>\n",
       "      <td>54</td>\n",
       "      <td>1</td>\n",
       "      <td>0</td>\n",
       "      <td>0</td>\n",
       "      <td>0</td>\n",
       "      <td>1</td>\n",
       "    </tr>\n",
       "    <tr>\n",
       "      <th>2</th>\n",
       "      <td>42</td>\n",
       "      <td>1</td>\n",
       "      <td>0</td>\n",
       "      <td>0</td>\n",
       "      <td>1</td>\n",
       "      <td>0</td>\n",
       "    </tr>\n",
       "    <tr>\n",
       "      <th>3</th>\n",
       "      <td>28</td>\n",
       "      <td>1</td>\n",
       "      <td>0</td>\n",
       "      <td>0</td>\n",
       "      <td>1</td>\n",
       "      <td>0</td>\n",
       "    </tr>\n",
       "  </tbody>\n",
       "</table>\n",
       "</div>"
      ],
      "text/plain": [
       "   weight  gender_female  gender_male  degree_graduate  degree_highschool  \\\n",
       "0      82              0            1                1                  0   \n",
       "1      54              1            0                0                  0   \n",
       "2      42              1            0                0                  1   \n",
       "3      28              1            0                0                  1   \n",
       "\n",
       "   degree_postgraduate  \n",
       "0                    0  \n",
       "1                    1  \n",
       "2                    0  \n",
       "3                    0  "
      ]
     },
     "execution_count": 44,
     "metadata": {},
     "output_type": "execute_result"
    }
   ],
   "source": [
    "#\n",
    "# Transform feature gender and degree using one-hot-encoding\n",
    "#\n",
    "pd.get_dummies(df, columns=['gender', 'degree'])\n",
    "#\n",
    "# Transform feature gender and degree using one-hot-encoding; Drop the first dummy feature\n",
    "#\n",
    "pd.get_dummies(df, columns=['gender', 'degree'])"
   ]
  },
  {
   "cell_type": "code",
   "execution_count": 45,
   "id": "fc8071ed-09eb-4745-b229-b620554403a9",
   "metadata": {},
   "outputs": [
    {
     "data": {
      "text/html": [
       "<div>\n",
       "<style scoped>\n",
       "    .dataframe tbody tr th:only-of-type {\n",
       "        vertical-align: middle;\n",
       "    }\n",
       "\n",
       "    .dataframe tbody tr th {\n",
       "        vertical-align: top;\n",
       "    }\n",
       "\n",
       "    .dataframe thead th {\n",
       "        text-align: right;\n",
       "    }\n",
       "</style>\n",
       "<table border=\"1\" class=\"dataframe\">\n",
       "  <thead>\n",
       "    <tr style=\"text-align: right;\">\n",
       "      <th></th>\n",
       "      <th>weight</th>\n",
       "      <th>gender_male</th>\n",
       "      <th>degree_highschool</th>\n",
       "      <th>degree_postgraduate</th>\n",
       "    </tr>\n",
       "  </thead>\n",
       "  <tbody>\n",
       "    <tr>\n",
       "      <th>0</th>\n",
       "      <td>82</td>\n",
       "      <td>1</td>\n",
       "      <td>0</td>\n",
       "      <td>0</td>\n",
       "    </tr>\n",
       "    <tr>\n",
       "      <th>1</th>\n",
       "      <td>54</td>\n",
       "      <td>0</td>\n",
       "      <td>0</td>\n",
       "      <td>1</td>\n",
       "    </tr>\n",
       "    <tr>\n",
       "      <th>2</th>\n",
       "      <td>42</td>\n",
       "      <td>0</td>\n",
       "      <td>1</td>\n",
       "      <td>0</td>\n",
       "    </tr>\n",
       "    <tr>\n",
       "      <th>3</th>\n",
       "      <td>28</td>\n",
       "      <td>0</td>\n",
       "      <td>1</td>\n",
       "      <td>0</td>\n",
       "    </tr>\n",
       "  </tbody>\n",
       "</table>\n",
       "</div>"
      ],
      "text/plain": [
       "   weight  gender_male  degree_highschool  degree_postgraduate\n",
       "0      82            1                  0                    0\n",
       "1      54            0                  0                    1\n",
       "2      42            0                  1                    0\n",
       "3      28            0                  1                    0"
      ]
     },
     "execution_count": 45,
     "metadata": {},
     "output_type": "execute_result"
    }
   ],
   "source": [
    "pd.get_dummies(df, columns=['gender', 'degree'], drop_first=True)"
   ]
  },
  {
   "cell_type": "markdown",
   "id": "240b1670-cc9d-4ff2-9a6a-123c02b5fb6a",
   "metadata": {},
   "source": [
    "<font color=\"magenta\">kp: Now I feel like I understand why we do `drop_first`. Looking at the above two tables we can understand that one of the new/encoded columns for each category is redundant. For example if we look at the two gender columns, if we remove the first one (i.e. the gender_female), and take the 0 values as 'females', then it would still carry the same information with no ambiguity or loss of information. Similarly, if we throw away the first of the 'degree' columns (i.e. the 'degree_graduate' one, then we can consider (0,0) for other two degrees as equivalent to '1' for the 'degree_graduate', so there would be no ambiguity or loss of information. Thus, in essence we will still have the same thing as the previous dataframe that had two extra columns. If we need to we can revive those columns out of the remaining ones. </font>"
   ]
  },
  {
   "cell_type": "markdown",
   "id": "f1687904-e8ab-4fcd-81bc-7d940b76c3e0",
   "metadata": {},
   "source": [
    "### Conclusion\n",
    "Here is the summary of this post:\n",
    "\n",
    "* One-hot encoding can be used to transform one or more categorical features into numerical dummy features useful for training machine learning model.\n",
    "* One-hot encoding is also called dummy encoding due to the fact that the transformation of categorical features results into dummy features.\n",
    "* OneHotEncoder class of sklearn.preprocessing module is used for one-hot encoding.\n",
    "* ColumnTransformer class of sklearn.compose can be used for transforming multiple categorical features.\n",
    "* Pandas get_dummies can be used for one-hot encoding."
   ]
  },
  {
   "cell_type": "markdown",
   "id": "2f2a5871-6f31-4b42-be69-a8fcddfdb238",
   "metadata": {},
   "source": [
    "### Following is the code I wrote to recreate the dataframe after encoding as shown in the image above."
   ]
  },
  {
   "cell_type": "code",
   "execution_count": 46,
   "id": "f27fd719-68f6-4118-8894-08e2364e4e6a",
   "metadata": {},
   "outputs": [
    {
     "data": {
      "text/html": [
       "<div>\n",
       "<style scoped>\n",
       "    .dataframe tbody tr th:only-of-type {\n",
       "        vertical-align: middle;\n",
       "    }\n",
       "\n",
       "    .dataframe tbody tr th {\n",
       "        vertical-align: top;\n",
       "    }\n",
       "\n",
       "    .dataframe thead th {\n",
       "        text-align: right;\n",
       "    }\n",
       "</style>\n",
       "<table border=\"1\" class=\"dataframe\">\n",
       "  <thead>\n",
       "    <tr style=\"text-align: right;\">\n",
       "      <th></th>\n",
       "      <th>gender</th>\n",
       "      <th>weight</th>\n",
       "      <th>degree</th>\n",
       "    </tr>\n",
       "  </thead>\n",
       "  <tbody>\n",
       "    <tr>\n",
       "      <th>0</th>\n",
       "      <td>male</td>\n",
       "      <td>82</td>\n",
       "      <td>graduate</td>\n",
       "    </tr>\n",
       "    <tr>\n",
       "      <th>1</th>\n",
       "      <td>female</td>\n",
       "      <td>54</td>\n",
       "      <td>postgraduate</td>\n",
       "    </tr>\n",
       "    <tr>\n",
       "      <th>2</th>\n",
       "      <td>female</td>\n",
       "      <td>42</td>\n",
       "      <td>highschool</td>\n",
       "    </tr>\n",
       "    <tr>\n",
       "      <th>3</th>\n",
       "      <td>female</td>\n",
       "      <td>28</td>\n",
       "      <td>highschool</td>\n",
       "    </tr>\n",
       "  </tbody>\n",
       "</table>\n",
       "</div>"
      ],
      "text/plain": [
       "   gender  weight        degree\n",
       "0    male      82      graduate\n",
       "1  female      54  postgraduate\n",
       "2  female      42    highschool\n",
       "3  female      28    highschool"
      ]
     },
     "execution_count": 46,
     "metadata": {},
     "output_type": "execute_result"
    }
   ],
   "source": [
    "#This df was created above as well \n",
    "listOfLists = [ ['male', 82, 'graduate'],\n",
    "               ['female', 54, 'postgraduate'],\n",
    "               ['female', 42, 'highschool'],\n",
    "               ['female', 28, 'highschool']]\n",
    "df = pd.DataFrame(listOfLists)\n",
    "df.columns = ['gender', 'weight', 'degree']\n",
    "df.head()"
   ]
  },
  {
   "cell_type": "code",
   "execution_count": 47,
   "id": "3b4bd755-c5bb-4867-a003-d5e8d6d4790d",
   "metadata": {},
   "outputs": [
    {
     "name": "stdout",
     "output_type": "stream",
     "text": [
      "0        graduate\n",
      "1    postgraduate\n",
      "2      highschool\n",
      "3      highschool\n",
      "Name: degree, dtype: object\n",
      "['graduate' 'postgraduate' 'highschool' 'highschool']\n",
      "[['graduate']\n",
      " ['postgraduate']\n",
      " ['highschool']\n",
      " ['highschool']]\n"
     ]
    }
   ],
   "source": [
    "print(df.degree)\n",
    "print(df.degree.values)\n",
    "print(df.degree.values.reshape(-1,1))"
   ]
  },
  {
   "cell_type": "code",
   "execution_count": 48,
   "id": "4b35d6c1-4a82-452a-b8ff-79f40189e735",
   "metadata": {},
   "outputs": [
    {
     "name": "stdout",
     "output_type": "stream",
     "text": [
      "['gender', 'degree'] \n",
      " ['weight']\n"
     ]
    }
   ],
   "source": [
    "catEx = [] #kp: List to carry the names of Categorical features\n",
    "numEx = [] #kp: List to carry the names of Numerical features\n",
    "\n",
    "for feat in df.columns:\n",
    "    if(df[feat].dtype=='object'):\n",
    "        catEx.append(feat)\n",
    "    else:\n",
    "        numEx.append(feat)\n",
    "        \n",
    "print(catEx, \"\\n\", numEx)"
   ]
  },
  {
   "cell_type": "code",
   "execution_count": 49,
   "id": "e04a8899-5248-4212-9c55-689bc9c7c33d",
   "metadata": {},
   "outputs": [
    {
     "data": {
      "text/plain": [
       "OneHotEncoder(handle_unknown='ignore', sparse=False)"
      ]
     },
     "execution_count": 49,
     "metadata": {},
     "output_type": "execute_result"
    }
   ],
   "source": [
    "from sklearn.preprocessing import OneHotEncoder\n",
    "encoderEx = OneHotEncoder(handle_unknown = 'ignore', sparse=False)\n",
    "encoderEx"
   ]
  },
  {
   "cell_type": "code",
   "execution_count": 50,
   "id": "3509579a-61a0-4c24-bd8d-46f00ea092ec",
   "metadata": {},
   "outputs": [
    {
     "data": {
      "text/html": [
       "<div>\n",
       "<style scoped>\n",
       "    .dataframe tbody tr th:only-of-type {\n",
       "        vertical-align: middle;\n",
       "    }\n",
       "\n",
       "    .dataframe tbody tr th {\n",
       "        vertical-align: top;\n",
       "    }\n",
       "\n",
       "    .dataframe thead th {\n",
       "        text-align: right;\n",
       "    }\n",
       "</style>\n",
       "<table border=\"1\" class=\"dataframe\">\n",
       "  <thead>\n",
       "    <tr style=\"text-align: right;\">\n",
       "      <th></th>\n",
       "      <th>0</th>\n",
       "      <th>1</th>\n",
       "      <th>2</th>\n",
       "      <th>3</th>\n",
       "      <th>4</th>\n",
       "    </tr>\n",
       "  </thead>\n",
       "  <tbody>\n",
       "    <tr>\n",
       "      <th>0</th>\n",
       "      <td>0.0</td>\n",
       "      <td>1.0</td>\n",
       "      <td>1.0</td>\n",
       "      <td>0.0</td>\n",
       "      <td>0.0</td>\n",
       "    </tr>\n",
       "    <tr>\n",
       "      <th>1</th>\n",
       "      <td>1.0</td>\n",
       "      <td>0.0</td>\n",
       "      <td>0.0</td>\n",
       "      <td>0.0</td>\n",
       "      <td>1.0</td>\n",
       "    </tr>\n",
       "    <tr>\n",
       "      <th>2</th>\n",
       "      <td>1.0</td>\n",
       "      <td>0.0</td>\n",
       "      <td>0.0</td>\n",
       "      <td>1.0</td>\n",
       "      <td>0.0</td>\n",
       "    </tr>\n",
       "    <tr>\n",
       "      <th>3</th>\n",
       "      <td>1.0</td>\n",
       "      <td>0.0</td>\n",
       "      <td>0.0</td>\n",
       "      <td>1.0</td>\n",
       "      <td>0.0</td>\n",
       "    </tr>\n",
       "  </tbody>\n",
       "</table>\n",
       "</div>"
      ],
      "text/plain": [
       "     0    1    2    3    4\n",
       "0  0.0  1.0  1.0  0.0  0.0\n",
       "1  1.0  0.0  0.0  0.0  1.0\n",
       "2  1.0  0.0  0.0  1.0  0.0\n",
       "3  1.0  0.0  0.0  1.0  0.0"
      ]
     },
     "metadata": {},
     "output_type": "display_data"
    },
    {
     "name": "stdout",
     "output_type": "stream",
     "text": [
      "RangeIndex(start=0, stop=5, step=1)\n",
      "RangeIndex(start=0, stop=4, step=1)\n",
      "Index(['gender', 'weight', 'degree'], dtype='object')\n",
      "RangeIndex(start=0, stop=4, step=1)\n"
     ]
    }
   ],
   "source": [
    "dummy_df2 = pd.DataFrame(encoderEx.fit_transform((df[catEx])))\n",
    "display(dummy_df2)\n",
    "print(dummy_df2.columns)\n",
    "print(dummy_df2.index)\n",
    "print(df.columns)\n",
    "print(df.index)"
   ]
  },
  {
   "cell_type": "code",
   "execution_count": 51,
   "id": "7302e7a6-ac8e-402d-91b8-51f3ceb21db6",
   "metadata": {},
   "outputs": [
    {
     "name": "stdout",
     "output_type": "stream",
     "text": [
      "RangeIndex(start=0, stop=4, step=1)\n"
     ]
    }
   ],
   "source": [
    "dummy_df2.index = df.index\n",
    "print(dummy_df2.index)"
   ]
  },
  {
   "cell_type": "code",
   "execution_count": 52,
   "id": "35b1fac8-00cb-402d-b7b6-8523fed0026d",
   "metadata": {},
   "outputs": [
    {
     "name": "stdout",
     "output_type": "stream",
     "text": [
      "Index(['gender_female', 'gender_male', 'degree_graduate', 'degree_highschool',\n",
      "       'degree_postgraduate'],\n",
      "      dtype='object')\n"
     ]
    }
   ],
   "source": [
    "dummy_df2.columns = encoderEx.get_feature_names(catEx)\n",
    "print(dummy_df2.columns)"
   ]
  },
  {
   "cell_type": "code",
   "execution_count": 53,
   "id": "b5bb61a4-97c1-49d3-bfa6-e431a31c43a0",
   "metadata": {},
   "outputs": [
    {
     "data": {
      "text/html": [
       "<div>\n",
       "<style scoped>\n",
       "    .dataframe tbody tr th:only-of-type {\n",
       "        vertical-align: middle;\n",
       "    }\n",
       "\n",
       "    .dataframe tbody tr th {\n",
       "        vertical-align: top;\n",
       "    }\n",
       "\n",
       "    .dataframe thead th {\n",
       "        text-align: right;\n",
       "    }\n",
       "</style>\n",
       "<table border=\"1\" class=\"dataframe\">\n",
       "  <thead>\n",
       "    <tr style=\"text-align: right;\">\n",
       "      <th></th>\n",
       "      <th>weight</th>\n",
       "    </tr>\n",
       "  </thead>\n",
       "  <tbody>\n",
       "    <tr>\n",
       "      <th>0</th>\n",
       "      <td>82</td>\n",
       "    </tr>\n",
       "    <tr>\n",
       "      <th>1</th>\n",
       "      <td>54</td>\n",
       "    </tr>\n",
       "    <tr>\n",
       "      <th>2</th>\n",
       "      <td>42</td>\n",
       "    </tr>\n",
       "    <tr>\n",
       "      <th>3</th>\n",
       "      <td>28</td>\n",
       "    </tr>\n",
       "  </tbody>\n",
       "</table>\n",
       "</div>"
      ],
      "text/plain": [
       "   weight\n",
       "0      82\n",
       "1      54\n",
       "2      42\n",
       "3      28"
      ]
     },
     "metadata": {},
     "output_type": "display_data"
    }
   ],
   "source": [
    "df.drop(catEx, axis=1, inplace = True) #kp: Drops the  columns with categorical/string/object values so that we\n",
    "#.     because we'll instead have new columns with the corresponding encoded (thus numerical) values.\n",
    "display(df) #For now the two columns with categorical data is gone."
   ]
  },
  {
   "cell_type": "code",
   "execution_count": 54,
   "id": "85bbcda8-a9fd-4ec4-9298-526342bc780b",
   "metadata": {},
   "outputs": [
    {
     "data": {
      "text/html": [
       "<div>\n",
       "<style scoped>\n",
       "    .dataframe tbody tr th:only-of-type {\n",
       "        vertical-align: middle;\n",
       "    }\n",
       "\n",
       "    .dataframe tbody tr th {\n",
       "        vertical-align: top;\n",
       "    }\n",
       "\n",
       "    .dataframe thead th {\n",
       "        text-align: right;\n",
       "    }\n",
       "</style>\n",
       "<table border=\"1\" class=\"dataframe\">\n",
       "  <thead>\n",
       "    <tr style=\"text-align: right;\">\n",
       "      <th></th>\n",
       "      <th>weight</th>\n",
       "      <th>gender_female</th>\n",
       "      <th>gender_male</th>\n",
       "      <th>degree_graduate</th>\n",
       "      <th>degree_highschool</th>\n",
       "      <th>degree_postgraduate</th>\n",
       "    </tr>\n",
       "  </thead>\n",
       "  <tbody>\n",
       "    <tr>\n",
       "      <th>0</th>\n",
       "      <td>82</td>\n",
       "      <td>0.0</td>\n",
       "      <td>1.0</td>\n",
       "      <td>1.0</td>\n",
       "      <td>0.0</td>\n",
       "      <td>0.0</td>\n",
       "    </tr>\n",
       "    <tr>\n",
       "      <th>1</th>\n",
       "      <td>54</td>\n",
       "      <td>1.0</td>\n",
       "      <td>0.0</td>\n",
       "      <td>0.0</td>\n",
       "      <td>0.0</td>\n",
       "      <td>1.0</td>\n",
       "    </tr>\n",
       "    <tr>\n",
       "      <th>2</th>\n",
       "      <td>42</td>\n",
       "      <td>1.0</td>\n",
       "      <td>0.0</td>\n",
       "      <td>0.0</td>\n",
       "      <td>1.0</td>\n",
       "      <td>0.0</td>\n",
       "    </tr>\n",
       "    <tr>\n",
       "      <th>3</th>\n",
       "      <td>28</td>\n",
       "      <td>1.0</td>\n",
       "      <td>0.0</td>\n",
       "      <td>0.0</td>\n",
       "      <td>1.0</td>\n",
       "      <td>0.0</td>\n",
       "    </tr>\n",
       "  </tbody>\n",
       "</table>\n",
       "</div>"
      ],
      "text/plain": [
       "   weight  gender_female  gender_male  degree_graduate  degree_highschool  \\\n",
       "0      82            0.0          1.0              1.0                0.0   \n",
       "1      54            1.0          0.0              0.0                0.0   \n",
       "2      42            1.0          0.0              0.0                1.0   \n",
       "3      28            1.0          0.0              0.0                1.0   \n",
       "\n",
       "   degree_postgraduate  \n",
       "0                  0.0  \n",
       "1                  1.0  \n",
       "2                  0.0  \n",
       "3                  0.0  "
      ]
     },
     "metadata": {},
     "output_type": "display_data"
    }
   ],
   "source": [
    "df = pd.concat([df, dummy_df2], axis=1) #Now add new columns with the corresponding encoded values\n",
    "#kp:  Basically here we bring and stack/slap togeter two data frames of identical # of rows to make a\n",
    "#.      new one i.e. old df (with only 1 column for weight) and and dummy_df2 with 5 columns \n",
    "display(df)"
   ]
  },
  {
   "cell_type": "markdown",
   "id": "7286efcb-f6cf-4486-9fc6-d86b14167215",
   "metadata": {},
   "source": [
    "### Some related stuff from web-forums\n",
    "\n",
    "Ref1 (https://stackoverflow.com/questions/36631163/what-are-the-pros-and-cons-between-get-dummies-pandas-and-onehotencoder-sciki) \n",
    "\n",
    "#### Q:\n",
    "I found a tutorial on how to use OneHotEncoder() on https://xgdgsc.wordpress.com/2015/03/20/note-on-using-onehotencoder-in-scikit-learn-to-work-on-categorical-features/ (kp: See the copy of this content from Ref2 below - it's very short, not really a tutorial, but just a note) since the sklearn documentation wasn't too helpful on this feature. I have a feeling I'm not doing it correctly...but\n",
    "\n",
    "Can some explain the pros and cons of using pd.dummies over sklearn.preprocessing.OneHotEncoder() and vice versa? I know that OneHotEncoder() gives you a sparse matrix but other than that I'm not sure how it is used and what the benefits are over the pandas method. Am I using it inefficiently?\n",
    "#### A1:\n",
    "For machine learning, you almost definitely want to use sklearn.OneHotEncoder. For other tasks like simple analyses, you might be able to use pd.get_dummies, which is a bit more convenient.\n",
    "\n",
    "Note that sklearn.OneHotEncoder has been updated in the latest version so that it does accept strings for categorical variables, as well as integers.\n",
    "\n",
    "The crux of it is that the sklearn encoder creates a function which persists and can then be applied to new data sets which use the same categorical variables, with consistent results.\n",
    "```python\n",
    "from sklearn.preprocessing import OneHotEncoder\n",
    "\n",
    "# Create the encoder.\n",
    "encoder = OneHotEncoder(handle_unknown=\"ignore\")\n",
    "encoder.fit(X_train)    # Assume for simplicity all features are categorical.\n",
    "\n",
    "# Apply the encoder.\n",
    "X_train = encoder.transform(X_train)\n",
    "X_test = encoder.transform(X_test)\n",
    "```\n",
    "Note how we apply the same encoder we created via X_train to the new data set X_test.\n",
    "\n",
    "Consider what happens if X_test contains different levels than X_train for one of its variables. For example, let's say X_train[\"color\"] contains only \"red\" and \"green\", but in addition to those, X_test[\"color\"] sometimes contains \"blue\".\n",
    "\n",
    "If we use pd.get_dummies, X_test will end up with an additional \"color_blue\" column which X_train doesn't have, and the inconsistency will probably break our code later on, especially if we are feeding X_test to an sklearn model which we trained on X_train.\n",
    "\n",
    "And if we want to process the data like this in production, where we're receiving a single example at a time, pd.get_dummies won't be of use.\n",
    "\n",
    "With sklearn.OneHotEncoder on the other hand, once we've created the encoder, we can reuse it to produce the same output every time, with columns only for \"red\" and \"green\". And we can explicitly control what happens when it encounters the new level \"blue\": if we think that's impossible, then we can tell it to throw an error with handle_unknown=\"error\"; otherwise we can tell it to continue and simply set the red and green columns to 0, with handle_unknown=\"ignore\".\n",
    "#### A2:\n",
    "OneHotEncoder cannot process string values directly. If your nominal features are strings, then you need to first map them into integers.\n",
    "\n",
    "pandas.get_dummies is kind of the opposite. By default, it only converts string columns into one-hot representation, unless columns are specified.\n",
    "\n",
    "#### A3:\n",
    "answered Oct 21, 2019 at 19:44   Carl\n",
    "\n",
    "why wouldn't you just cache or save the columns as variable col_list from the resulting get_dummies then use pd.reindex to align the train vs test datasets.... example:\n",
    "```python\n",
    "df = pd.get_dummies(data)\n",
    "col_list = df.columns.tolist()\n",
    "\n",
    "new_df = pd.get_dummies(new_data)\n",
    "new_df = new_df.reindex(columns=col_list).fillna(0.00) \n",
    "```\n",
    "* C1: How does this answer the question? – jorijnsmit Nov 30, 2019 at 8:43\n",
    "* C2: more to refute the previous comment that Sklearn OHE is supperior because of handle_unknown. The same can be accomplished using pandas reindex. – Carl Dec 18, 2019 at 17:49\n",
    "* There can be a sneaky problem with using get_dummies except as a one off run. What happens if you have drop_first=True and the next sample doesn't include the dropped value? – Mint Jan 2, 2020 at 16:32\n",
    "\n",
    "---------\n",
    "\n",
    "Ref2 (https://xgdgsc.wordpress.com/2015/03/20/note-on-using-onehotencoder-in-scikit-learn-to-work-on-categorical-features/) Posted on March 20, 2015 by xgdgsc \n",
    "\n",
    "OneHotEncoder is used to transform categorical feature to a lot of binary features. The fit method takes an argument of array of int. But one thing not clearly stated in the document is that the np.max(int_array) + 1 should be equal to the number of  categories. Otherwise, if you have discrete integers, some very large, you will have a huge memory leak. And get Memory Error.\n",
    "\n",
    "So the best way is to use LabelEncoder() first to convert discrete integers to a continuous integer set with a smaller max value:\n",
    "\n",
    "```python\n",
    "encoder = sklearn.preprocessing.OneHotEncoder()\n",
    "label_encoder = sklearn.preprocessing.LabelEncoder()\n",
    "data_label_encoded = label_encoder.fit_transform(data['category_feature'])\n",
    "data['category_feature'] = data_label_encoded\n",
    "data_feature_one_hot_encoded = encoder.fit_transform(data[['category_feature']].as_matrix())\n",
    "```\n",
    "Then a sparse matrix containing one hot encoded categorical feature is generated.\n",
    "\n",
    "--------\n",
    "<font color=\"magenta\">The end of the aside/digression on OneHotEncoder</font>\n",
    "\n",
    "--------"
   ]
  },
  {
   "cell_type": "markdown",
   "id": "8a5c6eac-7bbc-4c17-a5c4-c58487497232",
   "metadata": {},
   "source": [
    "### Dealing with missing values\n",
    "\n",
    "Some of the methods that are used to handle null values in the data are –\n",
    "\n",
    "* **Random Sample Imputation** – It involves taking random observations from the dataset and using it to replace null values. It is appropriate when the data are missing completely at random (MCAR).\n",
    "* **Imputing Mean/Median** – This is the method of filling the missing data with the mean/median of their respective attribute. It is appropriate when the data are **missing at random (MAR)**.\n",
    "* **Predicting the null values** – When there is high collinearity between the attribute with null values and the one free of null values, it is suitable to use Linear Regression to predict and fill the missing values."
   ]
  },
  {
   "cell_type": "code",
   "execution_count": 55,
   "id": "fda456f3-fa28-4afe-b27a-a4ee33943e8d",
   "metadata": {},
   "outputs": [
    {
     "data": {
      "text/plain": [
       "Designation                      0\n",
       "Resource Allocation           1381\n",
       "Mental Fatigue Score          2117\n",
       "Burn Rate                     1124\n",
       "Date of Joining_2008-01-01       0\n",
       "                              ... \n",
       "Gender_Male                      0\n",
       "Company Type_Product             0\n",
       "Company Type_Service             0\n",
       "WFH Setup Available_No           0\n",
       "WFH Setup Available_Yes          0\n",
       "Length: 376, dtype: int64"
      ]
     },
     "execution_count": 55,
     "metadata": {},
     "output_type": "execute_result"
    }
   ],
   "source": [
    "dftr.isnull().sum()"
   ]
  },
  {
   "cell_type": "markdown",
   "id": "c51acfc6-feb0-44fb-be6a-535df9dcbb38",
   "metadata": {},
   "source": [
    "* The null values in all the columns are missing at random. Probably the employees didn’t want to share/ hesitated to share the information like stress score, burn rate, and the working hours.\n",
    "* There are missing values in Burn Rate and Mental Fatigue score. Let’s visualize their distribution."
   ]
  },
  {
   "cell_type": "code",
   "execution_count": 56,
   "id": "357937dd-829a-4dc6-a3e2-2c9a069d67f8",
   "metadata": {},
   "outputs": [
    {
     "data": {
      "text/plain": [
       "<AxesSubplot:>"
      ]
     },
     "execution_count": 56,
     "metadata": {},
     "output_type": "execute_result"
    },
    {
     "data": {
      "image/png": "[encoded data removed]",
      "text/plain": [
       "<Figure size 432x288 with 2 Axes>"
      ]
     },
     "metadata": {
      "needs_background": "light"
     },
     "output_type": "display_data"
    }
   ],
   "source": [
    "sns.heatmap(dftr.isnull())"
   ]
  },
  {
   "cell_type": "code",
   "execution_count": 57,
   "id": "fd96a303-0bfd-4ca1-8c47-087d017936f8",
   "metadata": {},
   "outputs": [
    {
     "data": {
      "text/plain": [
       "1124"
      ]
     },
     "execution_count": 57,
     "metadata": {},
     "output_type": "execute_result"
    }
   ],
   "source": [
    "dftr['Burn Rate'].isnull().sum()"
   ]
  },
  {
   "cell_type": "code",
   "execution_count": 58,
   "id": "e14011ba-eb61-4296-9d38-ee530f1bcb8c",
   "metadata": {},
   "outputs": [
    {
     "data": {
      "text/plain": [
       "1381"
      ]
     },
     "execution_count": 58,
     "metadata": {},
     "output_type": "execute_result"
    }
   ],
   "source": [
    "dftr['Resource Allocation'].isnull().sum()"
   ]
  },
  {
   "cell_type": "code",
   "execution_count": 59,
   "id": "acf26e3b-263d-4f7b-a6fd-863749a2b9a5",
   "metadata": {},
   "outputs": [
    {
     "data": {
      "text/plain": [
       "2117"
      ]
     },
     "execution_count": 59,
     "metadata": {},
     "output_type": "execute_result"
    }
   ],
   "source": [
    "dftr['Mental Fatigue Score'].isnull().sum()"
   ]
  },
  {
   "cell_type": "code",
   "execution_count": 60,
   "id": "1f44bebc-dff2-4822-9c41-7fb3a01497bb",
   "metadata": {},
   "outputs": [
    {
     "data": {
      "text/plain": [
       "Designation                      0\n",
       "Resource Allocation            103\n",
       "Mental Fatigue Score           172\n",
       "Burn Rate                     1124\n",
       "Date of Joining_2008-01-01       0\n",
       "                              ... \n",
       "Gender_Male                      0\n",
       "Company Type_Product             0\n",
       "Company Type_Service             0\n",
       "WFH Setup Available_No           0\n",
       "WFH Setup Available_Yes          0\n",
       "Length: 376, dtype: int64"
      ]
     },
     "execution_count": 60,
     "metadata": {},
     "output_type": "execute_result"
    }
   ],
   "source": [
    "dftr[dftr['Burn Rate'].isnull()].isnull().sum()"
   ]
  },
  {
   "cell_type": "code",
   "execution_count": 61,
   "id": "33ea4041-7d71-459b-a3b8-2c0db4311aaa",
   "metadata": {},
   "outputs": [
    {
     "data": {
      "text/plain": [
       "103"
      ]
     },
     "execution_count": 61,
     "metadata": {},
     "output_type": "execute_result"
    }
   ],
   "source": [
    "dftr[dftr['Burn Rate'].isnull()]['Resource Allocation'].isnull().sum()"
   ]
  },
  {
   "cell_type": "code",
   "execution_count": 62,
   "id": "5659847a-7328-4c64-865b-5f818095d291",
   "metadata": {},
   "outputs": [
    {
     "data": {
      "text/plain": [
       "172"
      ]
     },
     "execution_count": 62,
     "metadata": {},
     "output_type": "execute_result"
    }
   ],
   "source": [
    "dftr[dftr['Burn Rate'].isnull()]['Mental Fatigue Score'].isnull().sum()"
   ]
  },
  {
   "cell_type": "markdown",
   "id": "ca9cab04-056d-4cf9-abc7-16abbe676b65",
   "metadata": {},
   "source": [
    "We observe that the null values in the two features –  do not occur simultaneously (only 172 values occur simultaneously) for a given sample. So we impute the missing value of target (kp: i.e. 'Burn Rate') through Mental Fatigue Score and vice versa using Linear Regression due to their strong collinearity. We will use median/mean imputation for the rest of the missing values (Where null values occur simultaneously)."
   ]
  },
  {
   "cell_type": "code",
   "execution_count": 63,
   "id": "1f1fbbc2-7797-496f-b60c-0a6d1b941b31",
   "metadata": {},
   "outputs": [
    {
     "data": {
      "text/html": [
       "<div>\n",
       "<style scoped>\n",
       "    .dataframe tbody tr th:only-of-type {\n",
       "        vertical-align: middle;\n",
       "    }\n",
       "\n",
       "    .dataframe tbody tr th {\n",
       "        vertical-align: top;\n",
       "    }\n",
       "\n",
       "    .dataframe thead th {\n",
       "        text-align: right;\n",
       "    }\n",
       "</style>\n",
       "<table border=\"1\" class=\"dataframe\">\n",
       "  <thead>\n",
       "    <tr style=\"text-align: right;\">\n",
       "      <th></th>\n",
       "      <th>Mental Fatigue Score</th>\n",
       "    </tr>\n",
       "  </thead>\n",
       "  <tbody>\n",
       "    <tr>\n",
       "      <th>45</th>\n",
       "      <td>NaN</td>\n",
       "    </tr>\n",
       "    <tr>\n",
       "      <th>47</th>\n",
       "      <td>NaN</td>\n",
       "    </tr>\n",
       "  </tbody>\n",
       "</table>\n",
       "</div>"
      ],
      "text/plain": [
       "    Mental Fatigue Score\n",
       "45                   NaN\n",
       "47                   NaN"
      ]
     },
     "execution_count": 63,
     "metadata": {},
     "output_type": "execute_result"
    }
   ],
   "source": [
    "x1 = pd.DataFrame(dftr[dftr['Burn Rate'].isnull()]['Mental Fatigue Score'])\n",
    "x1.head(2)"
   ]
  },
  {
   "cell_type": "code",
   "execution_count": 64,
   "id": "28e76e3d-4785-4570-942f-21b0158240cf",
   "metadata": {},
   "outputs": [],
   "source": [
    "x1[\"Mental Fatigue Score\"].fillna(x1[\"Mental Fatigue Score\"].median(),inplace=True) #Filling \n",
    "#     the simultaneously occuring null values for Mental Fatigue Score with median imputation."
   ]
  },
  {
   "cell_type": "code",
   "execution_count": 65,
   "id": "a96668d0-c107-4338-bddd-e395e5c82cec",
   "metadata": {},
   "outputs": [
    {
     "data": {
      "text/html": [
       "<div>\n",
       "<style scoped>\n",
       "    .dataframe tbody tr th:only-of-type {\n",
       "        vertical-align: middle;\n",
       "    }\n",
       "\n",
       "    .dataframe tbody tr th {\n",
       "        vertical-align: top;\n",
       "    }\n",
       "\n",
       "    .dataframe thead th {\n",
       "        text-align: right;\n",
       "    }\n",
       "</style>\n",
       "<table border=\"1\" class=\"dataframe\">\n",
       "  <thead>\n",
       "    <tr style=\"text-align: right;\">\n",
       "      <th></th>\n",
       "      <th>Mental Fatigue Score</th>\n",
       "    </tr>\n",
       "  </thead>\n",
       "  <tbody>\n",
       "    <tr>\n",
       "      <th>45</th>\n",
       "      <td>5.8</td>\n",
       "    </tr>\n",
       "    <tr>\n",
       "      <th>47</th>\n",
       "      <td>5.8</td>\n",
       "    </tr>\n",
       "  </tbody>\n",
       "</table>\n",
       "</div>"
      ],
      "text/plain": [
       "    Mental Fatigue Score\n",
       "45                   5.8\n",
       "47                   5.8"
      ]
     },
     "execution_count": 65,
     "metadata": {},
     "output_type": "execute_result"
    }
   ],
   "source": [
    "x1.head(2)"
   ]
  },
  {
   "cell_type": "markdown",
   "id": "ace6074e-fd4e-4a53-bdb3-8529396a6232",
   "metadata": {},
   "source": [
    "### Imputation using Linear Regression\n",
    "Using Mental Fatigue Score as the independent feature and Burn Rate as the dependent feature in the linear regression model."
   ]
  },
  {
   "cell_type": "code",
   "execution_count": 66,
   "id": "005fe2c0-671d-47e9-8f3c-f4c0806957bf",
   "metadata": {},
   "outputs": [
    {
     "name": "stderr",
     "output_type": "stream",
     "text": [
      "/Users/kpadhikari/opt/anaconda3/lib/python3.9/site-packages/pandas/util/_decorators.py:311: SettingWithCopyWarning: \n",
      "A value is trying to be set on a copy of a slice from a DataFrame\n",
      "\n",
      "See the caveats in the documentation: https://pandas.pydata.org/pandas-docs/stable/user_guide/indexing.html#returning-a-view-versus-a-copy\n",
      "  return func(*args, **kwargs)\n"
     ]
    }
   ],
   "source": [
    "df_new = dftr[['Mental Fatigue Score','Burn Rate']] #the training data with no null values\n",
    "df_new.dropna(inplace=True)"
   ]
  },
  {
   "cell_type": "code",
   "execution_count": 67,
   "id": "5d4dd266-bf5e-4073-9cd0-702c840b6ca8",
   "metadata": {},
   "outputs": [
    {
     "name": "stdout",
     "output_type": "stream",
     "text": [
      "(19681, 1) (19681, 1)\n"
     ]
    },
    {
     "data": {
      "text/plain": [
       "LinearRegression()"
      ]
     },
     "execution_count": 67,
     "metadata": {},
     "output_type": "execute_result"
    }
   ],
   "source": [
    "from sklearn.linear_model import LinearRegression\n",
    "X = df_new[['Mental Fatigue Score']] # X.shape should be (N, M) where M >= 1\n",
    "y = df_new[['Burn Rate']]\n",
    "print(X.shape, y.shape)\n",
    "model = LinearRegression()\n",
    "model.fit(X,y)\n"
   ]
  },
  {
   "cell_type": "code",
   "execution_count": 68,
   "id": "6acfa621-0cc0-4b13-96c4-ecb9d4cc5f3e",
   "metadata": {},
   "outputs": [
    {
     "data": {
      "text/plain": [
       "array([[0.45880462],\n",
       "       [0.45880462],\n",
       "       [0.39070912],\n",
       "       ...,\n",
       "       [0.4198929 ],\n",
       "       [0.33234154],\n",
       "       [0.47826048]])"
      ]
     },
     "execution_count": 68,
     "metadata": {},
     "output_type": "execute_result"
    }
   ],
   "source": [
    "pred = model.predict(x1) #the values to be filled in nan values of burn rate\n",
    "pred"
   ]
  },
  {
   "cell_type": "code",
   "execution_count": 69,
   "id": "3befab77-6f39-45f2-94ce-f7951216d18e",
   "metadata": {},
   "outputs": [
    {
     "data": {
      "text/plain": [
       "Int64Index([   45,    47,    52,    91,   122,   127,   135,   141,   147,\n",
       "              166,\n",
       "            ...\n",
       "            22536, 22553, 22580, 22603, 22687, 22699, 22706, 22711, 22733,\n",
       "            22741],\n",
       "           dtype='int64', length=1124)"
      ]
     },
     "execution_count": 69,
     "metadata": {},
     "output_type": "execute_result"
    }
   ],
   "source": [
    "ind = dftr[dftr['Burn Rate'].isnull()].index #Getting the indices where the values are null for Burn Rate\n",
    "ind"
   ]
  },
  {
   "cell_type": "code",
   "execution_count": 70,
   "id": "9ddd64e3-1675-4c1f-a1ee-27fc6189aa3e",
   "metadata": {},
   "outputs": [],
   "source": [
    "for j,i in enumerate(ind):\n",
    "    dftr['Burn Rate'].iloc[i] = pred[j] #Filling the missing values with the predicted values"
   ]
  },
  {
   "cell_type": "markdown",
   "id": "bd8c2742-a111-4538-97ed-bfb70edd5662",
   "metadata": {},
   "source": [
    "### <font color=\"magenta\">An Aside on 'Looping using enumerate()'</font>\n",
    "Ref: https://www.analyticsvidhya.com/blog/2021/02/iteration-in-python-enumerate-item-np-nditer-iterrows/\n",
    "\n",
    "Using a for loop to iterate over a list only gives us access to every list element in each run, one after the other. If one also wants to access the index information, so where the list element we are iterating over is located, we can use enumerate()."
   ]
  },
  {
   "cell_type": "code",
   "execution_count": 71,
   "id": "5c68eb17-99b2-4e6f-b4fb-dad5c95ffb53",
   "metadata": {},
   "outputs": [
    {
     "name": "stdout",
     "output_type": "stream",
     "text": [
      "5.0\n",
      "2.0\n",
      "3.0\n",
      "4.0\n",
      "0 5.0\n",
      "1 2.0\n",
      "2 3.0\n",
      "3 4.0\n"
     ]
    }
   ],
   "source": [
    "import numpy as np\n",
    "testAr = np.array([5.0, 2.0, 3.0, 4.0])\n",
    "\n",
    "for x in testAr:\n",
    "    print(x)\n",
    "\n",
    "for j,i in enumerate(testAr):\n",
    "    print(j, i)"
   ]
  },
  {
   "cell_type": "markdown",
   "id": "83a57c22-e190-4b0a-8bba-65c93ffea62a",
   "metadata": {},
   "source": [
    "<font color=\"magenta\"> End of the Aside on 'enumerate()' of ndarray</font>\n",
    "\n",
    "-----\n",
    "\n",
    "Apply the same steps to fill the missing values in Mental Fatigue Score. This time we use Burn Rate as the independent feature and Mental Fatigue Score as the dependent feature for the linear regression model.\n",
    "\n"
   ]
  },
  {
   "cell_type": "code",
   "execution_count": 72,
   "id": "805e7763-0759-4e9b-98e1-c0f22461922e",
   "metadata": {},
   "outputs": [
    {
     "data": {
      "text/plain": [
       "LinearRegression()"
      ]
     },
     "execution_count": 72,
     "metadata": {},
     "output_type": "execute_result"
    }
   ],
   "source": [
    "X = df_new[['Burn Rate']] # X.shape should be (N, M) where M >= 1\n",
    "y = df_new['Mental Fatigue Score']\n",
    "model = LinearRegression()\n",
    "model.fit(X,y)"
   ]
  },
  {
   "cell_type": "code",
   "execution_count": 73,
   "id": "ab05363d-06ee-4192-bd35-fcaf4ad9d2af",
   "metadata": {},
   "outputs": [],
   "source": [
    "x2 = pd.DataFrame(dftr[dftr['Mental Fatigue Score'].isnull()]['Burn Rate'])\n",
    "pred = model.predict(x2)\n",
    "ind = dftr[dftr['Mental Fatigue Score'].isnull()].index\n",
    "for j,i in enumerate(ind):\n",
    "  dftr['Mental Fatigue Score'].iloc[i] = pred[j]\n"
   ]
  },
  {
   "cell_type": "markdown",
   "id": "17e6bb5a-6e64-4159-b120-ddfb826cca30",
   "metadata": {},
   "source": [
    "We are left with missing values in Resource Allocation. We will use the same technique i.e Linear Regression to impute the null values of Resource Allocation since it has a high correlation with Designation. The independent feature will be Designation and the target feature will be Resource Allocation."
   ]
  },
  {
   "cell_type": "code",
   "execution_count": 74,
   "id": "9175662d-f646-47ac-a4bf-c9c34ac02e9a",
   "metadata": {},
   "outputs": [
    {
     "name": "stderr",
     "output_type": "stream",
     "text": [
      "/Users/kpadhikari/opt/anaconda3/lib/python3.9/site-packages/pandas/util/_decorators.py:311: SettingWithCopyWarning: \n",
      "A value is trying to be set on a copy of a slice from a DataFrame\n",
      "\n",
      "See the caveats in the documentation: https://pandas.pydata.org/pandas-docs/stable/user_guide/indexing.html#returning-a-view-versus-a-copy\n",
      "  return func(*args, **kwargs)\n"
     ]
    }
   ],
   "source": [
    "df_new = dftr[['Designation','Resource Allocation']]\n",
    "df_new.dropna(inplace=True)"
   ]
  },
  {
   "cell_type": "code",
   "execution_count": 75,
   "id": "76bb24b4-fafc-4747-92ce-6456a4c6f776",
   "metadata": {},
   "outputs": [
    {
     "data": {
      "text/plain": [
       "LinearRegression()"
      ]
     },
     "execution_count": 75,
     "metadata": {},
     "output_type": "execute_result"
    }
   ],
   "source": [
    "X = df_new[['Designation']]\n",
    "y = df_new['Resource Allocation']\n",
    "\n",
    "model = LinearRegression()\n",
    "model.fit(X,y)"
   ]
  },
  {
   "cell_type": "code",
   "execution_count": 76,
   "id": "a64378ba-aa85-4d2a-9a9c-3311629f63e6",
   "metadata": {},
   "outputs": [],
   "source": [
    "des = pd.DataFrame(dftr[dftr['Resource Allocation'].isnull()]['Designation'])\n",
    "\n",
    "pred2 = model.predict(des)\n",
    "ind = dftr[dftr['Resource Allocation'].isnull()].index\n",
    "for j,i in enumerate(ind):\n",
    "    dftr['Resource Allocation'].iloc[i] = pred2[j]"
   ]
  },
  {
   "cell_type": "markdown",
   "id": "363b5e90-7199-4aa7-969a-be8c9f2f1fa2",
   "metadata": {},
   "source": [
    "### Outliers\n",
    "\n",
    "It’s time to remove the outliers that we detected in few features during EDA using boxplot visualization.\n",
    "\n",
    "Outliers are points in the data that fall far away from the other observation. The presence of outliers can spoil and mislead the training process of the model. Hence it is important to handle them.\n",
    "\n",
    "Here we’ll use log transformation on data to get rid of the outliers. We’ll use this method on the features with the modulus of their [skewness](https://www.investopedia.com/terms/s/skewness.asp) >0.5 since data with skewness less than 0.5 follows a fairly symmetrical distribution."
   ]
  },
  {
   "cell_type": "code",
   "execution_count": 77,
   "id": "5898659f-e459-45f6-a697-8ddce0a24661",
   "metadata": {},
   "outputs": [],
   "source": [
    "for feat in num:\n",
    "    if((np.abs(dftr[feat].skew())>0.5)):\n",
    "        print(feat)\n",
    "        dftr[feat] =np.log1p(dftr[feat])[0]"
   ]
  },
  {
   "cell_type": "markdown",
   "id": "7f6fe90b-ca3a-442e-87b1-1742a51abbf8",
   "metadata": {},
   "source": [
    "### Output \n",
    "– There are no such features that have skewness greater than 0.5.\n",
    "\n",
    "We have completed data preparation and EDA!\n",
    "\n",
    "## Feature Engineering\n",
    "The process of Feature Engineering involves the extraction of features from the raw data based on its insights. Moreover, feature engineering also involves feature selection, feature transformation, and feature construction to prepare input data that best fits the machine learning algorithms. Feature Engineering influences the results of the model directly and hence it’s a crucial part of data science.\n",
    "\n",
    "Let’s use Date of Joining to create a new feature – Days Spent that would contain the information about how many days has the employee worked in the company till date. Burn Rate for an employee who has worked for years will be perhaps much higher than a newly joined employee."
   ]
  },
  {
   "cell_type": "code",
   "execution_count": 78,
   "id": "8c3f2921-063d-445c-93e9-70ab9a5ff598",
   "metadata": {},
   "outputs": [
    {
     "data": {
      "text/plain": [
       "datetime.date(2022, 2, 27)"
      ]
     },
     "execution_count": 78,
     "metadata": {},
     "output_type": "execute_result"
    }
   ],
   "source": [
    "from datetime import date\n",
    "present = date.today()\n",
    "present"
   ]
  },
  {
   "cell_type": "code",
   "execution_count": 79,
   "id": "ed3e0f0b-c60d-4abc-b17a-d2a523aba135",
   "metadata": {},
   "outputs": [
    {
     "data": {
      "text/html": [
       "<div>\n",
       "<style scoped>\n",
       "    .dataframe tbody tr th:only-of-type {\n",
       "        vertical-align: middle;\n",
       "    }\n",
       "\n",
       "    .dataframe tbody tr th {\n",
       "        vertical-align: top;\n",
       "    }\n",
       "\n",
       "    .dataframe thead th {\n",
       "        text-align: right;\n",
       "    }\n",
       "</style>\n",
       "<table border=\"1\" class=\"dataframe\">\n",
       "  <thead>\n",
       "    <tr style=\"text-align: right;\">\n",
       "      <th></th>\n",
       "      <th>Date of Joining</th>\n",
       "    </tr>\n",
       "  </thead>\n",
       "  <tbody>\n",
       "    <tr>\n",
       "      <th>0</th>\n",
       "      <td>2008-09-30</td>\n",
       "    </tr>\n",
       "    <tr>\n",
       "      <th>1</th>\n",
       "      <td>2008-11-30</td>\n",
       "    </tr>\n",
       "  </tbody>\n",
       "</table>\n",
       "</div>"
      ],
      "text/plain": [
       "  Date of Joining\n",
       "0      2008-09-30\n",
       "1      2008-11-30"
      ]
     },
     "execution_count": 79,
     "metadata": {},
     "output_type": "execute_result"
    }
   ],
   "source": [
    "date_df = pd.DataFrame(dat) #See above 'dat = pd.Series(df['Date of Joining'])'\n",
    "date_df.head(2)"
   ]
  },
  {
   "cell_type": "code",
   "execution_count": 80,
   "id": "ebcb0460-7125-41db-9849-0d5f75a2ba87",
   "metadata": {},
   "outputs": [
    {
     "data": {
      "text/html": [
       "<div>\n",
       "<style scoped>\n",
       "    .dataframe tbody tr th:only-of-type {\n",
       "        vertical-align: middle;\n",
       "    }\n",
       "\n",
       "    .dataframe tbody tr th {\n",
       "        vertical-align: top;\n",
       "    }\n",
       "\n",
       "    .dataframe thead th {\n",
       "        text-align: right;\n",
       "    }\n",
       "</style>\n",
       "<table border=\"1\" class=\"dataframe\">\n",
       "  <thead>\n",
       "    <tr style=\"text-align: right;\">\n",
       "      <th></th>\n",
       "      <th>Date of Joining</th>\n",
       "    </tr>\n",
       "  </thead>\n",
       "  <tbody>\n",
       "    <tr>\n",
       "      <th>0</th>\n",
       "      <td>2008-09-30</td>\n",
       "    </tr>\n",
       "    <tr>\n",
       "      <th>1</th>\n",
       "      <td>2008-11-30</td>\n",
       "    </tr>\n",
       "  </tbody>\n",
       "</table>\n",
       "</div>"
      ],
      "text/plain": [
       "  Date of Joining\n",
       "0      2008-09-30\n",
       "1      2008-11-30"
      ]
     },
     "execution_count": 80,
     "metadata": {},
     "output_type": "execute_result"
    }
   ],
   "source": [
    "from datetime import datetime\n",
    "date_df['Date of Joining'] = date_df['Date of Joining'].apply(lambda x : datetime.strptime(x,\"%Y-%m-%d\").date())\n",
    "date_df.head(2)"
   ]
  },
  {
   "cell_type": "code",
   "execution_count": 81,
   "id": "7c121dfa-9b95-4328-9e7e-3662be7a52d1",
   "metadata": {},
   "outputs": [
    {
     "data": {
      "text/plain": [
       "(22750, 377)"
      ]
     },
     "metadata": {},
     "output_type": "display_data"
    },
    {
     "data": {
      "text/html": [
       "<div>\n",
       "<style scoped>\n",
       "    .dataframe tbody tr th:only-of-type {\n",
       "        vertical-align: middle;\n",
       "    }\n",
       "\n",
       "    .dataframe tbody tr th {\n",
       "        vertical-align: top;\n",
       "    }\n",
       "\n",
       "    .dataframe thead th {\n",
       "        text-align: right;\n",
       "    }\n",
       "</style>\n",
       "<table border=\"1\" class=\"dataframe\">\n",
       "  <thead>\n",
       "    <tr style=\"text-align: right;\">\n",
       "      <th></th>\n",
       "      <th>Designation</th>\n",
       "      <th>Resource Allocation</th>\n",
       "      <th>Mental Fatigue Score</th>\n",
       "      <th>Burn Rate</th>\n",
       "      <th>Date of Joining_2008-01-01</th>\n",
       "      <th>Date of Joining_2008-01-02</th>\n",
       "      <th>Date of Joining_2008-01-03</th>\n",
       "      <th>Date of Joining_2008-01-04</th>\n",
       "      <th>Date of Joining_2008-01-05</th>\n",
       "      <th>Date of Joining_2008-01-06</th>\n",
       "      <th>...</th>\n",
       "      <th>Date of Joining_2008-12-29</th>\n",
       "      <th>Date of Joining_2008-12-30</th>\n",
       "      <th>Date of Joining_2008-12-31</th>\n",
       "      <th>Gender_Female</th>\n",
       "      <th>Gender_Male</th>\n",
       "      <th>Company Type_Product</th>\n",
       "      <th>Company Type_Service</th>\n",
       "      <th>WFH Setup Available_No</th>\n",
       "      <th>WFH Setup Available_Yes</th>\n",
       "      <th>Days Spent</th>\n",
       "    </tr>\n",
       "  </thead>\n",
       "  <tbody>\n",
       "    <tr>\n",
       "      <th>0</th>\n",
       "      <td>2.0</td>\n",
       "      <td>3.0</td>\n",
       "      <td>3.8</td>\n",
       "      <td>0.16</td>\n",
       "      <td>0.0</td>\n",
       "      <td>0.0</td>\n",
       "      <td>0.0</td>\n",
       "      <td>0.0</td>\n",
       "      <td>0.0</td>\n",
       "      <td>0.0</td>\n",
       "      <td>...</td>\n",
       "      <td>0.0</td>\n",
       "      <td>0.0</td>\n",
       "      <td>0.0</td>\n",
       "      <td>1.0</td>\n",
       "      <td>0.0</td>\n",
       "      <td>0.0</td>\n",
       "      <td>1.0</td>\n",
       "      <td>1.0</td>\n",
       "      <td>0.0</td>\n",
       "      <td>4898</td>\n",
       "    </tr>\n",
       "    <tr>\n",
       "      <th>1</th>\n",
       "      <td>1.0</td>\n",
       "      <td>2.0</td>\n",
       "      <td>5.0</td>\n",
       "      <td>0.36</td>\n",
       "      <td>0.0</td>\n",
       "      <td>0.0</td>\n",
       "      <td>0.0</td>\n",
       "      <td>0.0</td>\n",
       "      <td>0.0</td>\n",
       "      <td>0.0</td>\n",
       "      <td>...</td>\n",
       "      <td>0.0</td>\n",
       "      <td>0.0</td>\n",
       "      <td>0.0</td>\n",
       "      <td>0.0</td>\n",
       "      <td>1.0</td>\n",
       "      <td>0.0</td>\n",
       "      <td>1.0</td>\n",
       "      <td>0.0</td>\n",
       "      <td>1.0</td>\n",
       "      <td>4837</td>\n",
       "    </tr>\n",
       "  </tbody>\n",
       "</table>\n",
       "<p>2 rows × 377 columns</p>\n",
       "</div>"
      ],
      "text/plain": [
       "   Designation  Resource Allocation  Mental Fatigue Score  Burn Rate  \\\n",
       "0          2.0                  3.0                   3.8       0.16   \n",
       "1          1.0                  2.0                   5.0       0.36   \n",
       "\n",
       "   Date of Joining_2008-01-01  Date of Joining_2008-01-02  \\\n",
       "0                         0.0                         0.0   \n",
       "1                         0.0                         0.0   \n",
       "\n",
       "   Date of Joining_2008-01-03  Date of Joining_2008-01-04  \\\n",
       "0                         0.0                         0.0   \n",
       "1                         0.0                         0.0   \n",
       "\n",
       "   Date of Joining_2008-01-05  Date of Joining_2008-01-06  ...  \\\n",
       "0                         0.0                         0.0  ...   \n",
       "1                         0.0                         0.0  ...   \n",
       "\n",
       "   Date of Joining_2008-12-29  Date of Joining_2008-12-30  \\\n",
       "0                         0.0                         0.0   \n",
       "1                         0.0                         0.0   \n",
       "\n",
       "   Date of Joining_2008-12-31  Gender_Female  Gender_Male  \\\n",
       "0                         0.0            1.0          0.0   \n",
       "1                         0.0            0.0          1.0   \n",
       "\n",
       "   Company Type_Product  Company Type_Service  WFH Setup Available_No  \\\n",
       "0                   0.0                   1.0                     1.0   \n",
       "1                   0.0                   1.0                     0.0   \n",
       "\n",
       "   WFH Setup Available_Yes  Days Spent  \n",
       "0                      0.0        4898  \n",
       "1                      1.0        4837  \n",
       "\n",
       "[2 rows x 377 columns]"
      ]
     },
     "execution_count": 81,
     "metadata": {},
     "output_type": "execute_result"
    }
   ],
   "source": [
    "dftr['Days Spent'] = present - date_df['Date of Joining'] #Get the total number of days spent in the company\n",
    "dftr['Days Spent'] = dftr['Days Spent'].apply(lambda x : int(str(x).split(\" \")[0]))\n",
    "display(dftr.shape)\n",
    "dftr.head(2)"
   ]
  },
  {
   "cell_type": "markdown",
   "id": "1cd8ffe7-eb36-4231-9f72-2518d249ef81",
   "metadata": {},
   "source": [
    "Let’s check if the new feature has any effect on the target –"
   ]
  },
  {
   "cell_type": "code",
   "execution_count": 82,
   "id": "b1f681a2-a4ac-45f3-94fd-9e68ef8d598e",
   "metadata": {},
   "outputs": [
    {
     "data": {
      "image/png": "[encoded data removed]",
      "text/plain": [
       "<Figure size 432x288 with 1 Axes>"
      ]
     },
     "metadata": {
      "needs_background": "light"
     },
     "output_type": "display_data"
    }
   ],
   "source": [
    "sns.scatterplot(x = dftr['Days Spent'],y = dftr['Burn Rate']);"
   ]
  },
  {
   "cell_type": "markdown",
   "id": "a914c026-f9e4-4c24-bddb-c6f853b7e747",
   "metadata": {},
   "source": [
    "The scatterplot shows that there are no trends in the data of Burn Rate vs Days Spent. So we drop Days Spent as it has no importance in the data."
   ]
  },
  {
   "cell_type": "code",
   "execution_count": 83,
   "id": "cd1c3868-bf75-41a6-a7e4-742ae8fd70a0",
   "metadata": {},
   "outputs": [
    {
     "data": {
      "text/plain": [
       "(22750, 376)"
      ]
     },
     "metadata": {},
     "output_type": "display_data"
    }
   ],
   "source": [
    "dftr.drop('Days Spent',axis=1,inplace=True)\n",
    "display(dftr.shape)"
   ]
  },
  {
   "cell_type": "markdown",
   "id": "a86dbb91-d5dd-435d-b0db-577847f7c160",
   "metadata": {},
   "source": [
    "## Model Building and Evaluation\n",
    "Let’s find the performance of different ensemble techniques on the data \n",
    "1. XGBoost \n",
    "2. AdaBoost \n",
    "3. RandomForest. \n",
    "\n",
    "Please read this [blog](https://www.analyticsvidhya.com/blog/2021/08/ensemble-stacking-for-machine-learning-and-deep-learning/) for an understanding of ensemble techniques and their different types. We’ll use the [‘R-squared‘](https://www.geeksforgeeks.org/ml-r-squared-in-regression-analysis/#:~:text=R%2Dsquared%20is%20a%20statistical,for%20r%2Dsquare%20is%201.&text=The%20more%20the%20value%20of,than%20the%20average%20fitted%20model.) as the metric since we are training a regression model."
   ]
  },
  {
   "cell_type": "code",
   "execution_count": 84,
   "id": "1a8f70db-c8eb-4945-b6cf-d804303e31b2",
   "metadata": {},
   "outputs": [
    {
     "name": "stdout",
     "output_type": "stream",
     "text": [
      "Requirement already satisfied: xgboost in /Users/kpadhikari/opt/anaconda3/lib/python3.9/site-packages (1.5.2)\n",
      "Requirement already satisfied: numpy in /Users/kpadhikari/opt/anaconda3/lib/python3.9/site-packages (from xgboost) (1.20.3)\n",
      "Requirement already satisfied: scipy in /Users/kpadhikari/opt/anaconda3/lib/python3.9/site-packages (from xgboost) (1.7.1)\n"
     ]
    }
   ],
   "source": [
    "!pip install xgboost  #installed xgboost-1.5.2 with this (on 2/26/2022)"
   ]
  },
  {
   "cell_type": "code",
   "execution_count": 85,
   "id": "32ec45fb-1e81-4e33-9312-8e36d9f3572f",
   "metadata": {},
   "outputs": [],
   "source": [
    "#!conda install xgboost"
   ]
  },
  {
   "cell_type": "code",
   "execution_count": 86,
   "id": "e967f39f-fe00-4216-9ff3-ddc0e14c10a0",
   "metadata": {},
   "outputs": [
    {
     "name": "stdout",
     "output_type": "stream",
     "text": [
      "The code  cross_val_score(model1,X,y,cv = 5,scoring = 'r2')  is working ..... \n",
      "XGBRegressor took 179.9597659111023 seconds to complete\n",
      "The work is done!!!\n"
     ]
    }
   ],
   "source": [
    "import time\n",
    "#https://www.kaggle.com/stuarthallows/using-xgboost-with-scikit-learn\n",
    "#from sklearn.linear_model import XGBRegressor\n",
    "#import xgboost as xgb\n",
    "#https://scikit-learn.org/stable/modules/generated/sklearn.ensemble.AdaBoostRegressor.html\n",
    "#from sklearn.ensemble import GradientBoostingRegressor\n",
    "from xgboost import XGBRegressor #without installing it with 'conda install xgboost', this line didn't work \n",
    "#.  i.e., the 'pip' installed one didn't work.\n",
    "from sklearn.model_selection import cross_val_score\n",
    "\n",
    "model1 = XGBRegressor()\n",
    "X = dftr.drop('Burn Rate',axis=1)\n",
    "y = dftr['Burn Rate']\n",
    "print(\"The code  cross_val_score(model1,X,y,cv = 5,scoring = 'r2')  is working ..... \")\n",
    "start = time.time()\n",
    "score = cross_val_score(model1,X,y,cv = 5,scoring = 'r2') #K fold cross validation\n",
    "end = time.time()\n",
    "print(f'XGBRegressor took {end-start} seconds to complete')\n",
    "print(\"The work is done!!!\")\n",
    "#This cell took quite a while to complete the run (on my Macbook Air 13-inch, Early 2014, macOS Big Sur Version 11.6.2\n",
    "#.      with 1.7 Ggz Dual-Core Intel Core i7 processor, 8 GB 1600 MHz DDR3 and Intel HD Graphics 5000 1536 MB."
   ]
  },
  {
   "cell_type": "code",
   "execution_count": 87,
   "id": "4b76938d-c7ec-4ef0-a61f-92bd3a405ffe",
   "metadata": {},
   "outputs": [
    {
     "data": {
      "text/plain": [
       "0.9310547543457236"
      ]
     },
     "execution_count": 87,
     "metadata": {},
     "output_type": "execute_result"
    }
   ],
   "source": [
    "score.mean() #The tutorial was listing 0.9323 as the output"
   ]
  },
  {
   "cell_type": "code",
   "execution_count": 88,
   "id": "c4694a51-afe0-4019-92b1-238ed85709a1",
   "metadata": {},
   "outputs": [
    {
     "name": "stdout",
     "output_type": "stream",
     "text": [
      "check\n"
     ]
    }
   ],
   "source": [
    "print(\"check\")"
   ]
  },
  {
   "cell_type": "code",
   "execution_count": 89,
   "id": "e02c0682-a8e2-4d89-abfe-df9489272e1c",
   "metadata": {},
   "outputs": [
    {
     "name": "stdout",
     "output_type": "stream",
     "text": [
      "AdaBoostRegressor took 73.18245100975037 seconds to complete\n"
     ]
    }
   ],
   "source": [
    "#https://scikit-learn.org/stable/modules/generated/sklearn.ensemble.AdaBoostRegressor.html\n",
    "from sklearn.ensemble import AdaBoostRegressor\n",
    "from sklearn.model_selection import cross_val_score\n",
    "model2 = AdaBoostRegressor()\n",
    "start = time.time()\n",
    "score2 = cross_val_score(model2,X,y,cv = 5, scoring = 'r2')\n",
    "end = time.time()\n",
    "print(f'AdaBoostRegressor took {end-start} seconds to complete')"
   ]
  },
  {
   "cell_type": "code",
   "execution_count": 90,
   "id": "cb414dac-2850-42dc-8003-4713c8a68396",
   "metadata": {},
   "outputs": [
    {
     "data": {
      "text/plain": [
       "0.9128843887684235"
      ]
     },
     "execution_count": 90,
     "metadata": {},
     "output_type": "execute_result"
    }
   ],
   "source": [
    "score2.mean()"
   ]
  },
  {
   "cell_type": "code",
   "execution_count": 91,
   "id": "a27564d4-e458-4382-ab3b-c184d0176d2e",
   "metadata": {},
   "outputs": [
    {
     "name": "stdout",
     "output_type": "stream",
     "text": [
      "RandomForestRegressor took 281.4338307380676 seconds to complete\n"
     ]
    },
    {
     "data": {
      "text/plain": [
       "0.9257681523767134"
      ]
     },
     "execution_count": 91,
     "metadata": {},
     "output_type": "execute_result"
    }
   ],
   "source": [
    "import time\n",
    "from sklearn.ensemble import RandomForestRegressor\n",
    "#from sklearn.model_selection import cross_val_score\n",
    "model3 = RandomForestRegressor()\n",
    "start = time.time()\n",
    "score3 = cross_val_score(model3,X,y,cv = 5, scoring = 'r2')\n",
    "end = time.time()\n",
    "print(f'RandomForestRegressor took {end-start} seconds to complete')\n",
    "score3.mean()"
   ]
  },
  {
   "cell_type": "markdown",
   "id": "e2fc882c-c1bf-47fd-8404-88f6011d4a82",
   "metadata": {},
   "source": [
    "All the 3 algorithms have given pretty good results. We can further improve the results by improvising the preceding stages of the lifecycle like scaling the data, changing the technique of null value imputation and categorical encoding, performing feature selection to get rid of unimportant features, hyperparameter optimization, etc.\n",
    "\n",
    "\n",
    "### <font color=\"magenta\">An Aside/Digression: On time modules</font>\n",
    "Ref: https://www.geeksforgeeks.org/how-to-check-the-execution-time-of-python-script/\n",
    "\n",
    "There are many python modules like time, timeit, and datetime in Python which can store the time at which the particular section of the program is being executed. By manipulating or getting the difference between times of beginning and ending at which a particular section is being executed we can calculate the time it took to execute the section. \n",
    "\n",
    " \n",
    "\n",
    "The following methods can be used to compute time difference:\n",
    "* Time module in Python provides various time-related functions. This module comes under Python’s standard utility modules. `time.time()` method of Time module is used to get the time in seconds since epoch. The handling of leap seconds is platform-dependent.\n",
    "* Python `datetime` library defines a function that can be primarily used to get the current time and date. `now()` function Return the current local date and time, which is defined under datetime module.\n",
    "* `timeit` runs your snippet of code millions of times (default value is 1000000) so that you get the statistically most relevant measurement of code execution time.\n",
    "\n",
    " <font color=\"magenta\">End of the Aside/Digression on Time modules</font>\n",
    " \n",
    "--------\n",
    "\n"
   ]
  },
  {
   "cell_type": "markdown",
   "id": "969971a6-7447-4d5f-884c-400ef97e5706",
   "metadata": {},
   "source": [
    "\n",
    "### Hyperparameter optimization\n",
    "\n",
    "It is the technique of selecting the optimal set of hyperparameters for the ML algorithm that gives the best results on the chosen metric. Random Search, Grid Search, Optuna, etc. are some of the methods to tune the hyperparameters of a learning algorithm.\n",
    "\n",
    "Let’s optimize the hyperparameters of XGBoost –"
   ]
  },
  {
   "cell_type": "code",
   "execution_count": 92,
   "id": "eba3552e-be16-4464-95fe-ea6744f38b63",
   "metadata": {},
   "outputs": [
    {
     "name": "stdout",
     "output_type": "stream",
     "text": [
      "Fitting 5 folds for each of 20 candidates, totalling 100 fits\n",
      "[12:17:38] WARNING: ../src/learner.cc:576: \n",
      "Parameters: { \"silent\" } might not be used.\n",
      "\n",
      "  This could be a false alarm, with some parameters getting used by language bindings but\n",
      "  then being mistakenly passed down to XGBoost core, or some parameter actually being used\n",
      "  but getting flagged wrongly here. Please open an issue if you find any such cases.\n",
      "\n",
      "\n",
      "[CV 1/5] END colsample_bytree=0.6, gamma=0.03, learning_rate=0.02, max_depth=4, n_estimators=2100, nthread=-1, reg_alpha=0.7000000000000001, reg_lambda=0.0, silent=1, subsample=0.8;, score=0.933 total time= 4.4min\n",
      "[12:22:03] WARNING: ../src/learner.cc:576: \n",
      "Parameters: { \"silent\" } might not be used.\n",
      "\n",
      "  This could be a false alarm, with some parameters getting used by language bindings but\n",
      "  then being mistakenly passed down to XGBoost core, or some parameter actually being used\n",
      "  but getting flagged wrongly here. Please open an issue if you find any such cases.\n",
      "\n",
      "\n",
      "[CV 2/5] END colsample_bytree=0.6, gamma=0.03, learning_rate=0.02, max_depth=4, n_estimators=2100, nthread=-1, reg_alpha=0.7000000000000001, reg_lambda=0.0, silent=1, subsample=0.8;, score=0.932 total time= 4.8min\n",
      "[12:26:50] WARNING: ../src/learner.cc:576: \n",
      "Parameters: { \"silent\" } might not be used.\n",
      "\n",
      "  This could be a false alarm, with some parameters getting used by language bindings but\n",
      "  then being mistakenly passed down to XGBoost core, or some parameter actually being used\n",
      "  but getting flagged wrongly here. Please open an issue if you find any such cases.\n",
      "\n",
      "\n",
      "[CV 3/5] END colsample_bytree=0.6, gamma=0.03, learning_rate=0.02, max_depth=4, n_estimators=2100, nthread=-1, reg_alpha=0.7000000000000001, reg_lambda=0.0, silent=1, subsample=0.8;, score=0.932 total time= 4.4min\n",
      "[12:31:14] WARNING: ../src/learner.cc:576: \n",
      "Parameters: { \"silent\" } might not be used.\n",
      "\n",
      "  This could be a false alarm, with some parameters getting used by language bindings but\n",
      "  then being mistakenly passed down to XGBoost core, or some parameter actually being used\n",
      "  but getting flagged wrongly here. Please open an issue if you find any such cases.\n",
      "\n",
      "\n",
      "[CV 4/5] END colsample_bytree=0.6, gamma=0.03, learning_rate=0.02, max_depth=4, n_estimators=2100, nthread=-1, reg_alpha=0.7000000000000001, reg_lambda=0.0, silent=1, subsample=0.8;, score=0.933 total time= 3.9min\n",
      "[12:35:11] WARNING: ../src/learner.cc:576: \n",
      "Parameters: { \"silent\" } might not be used.\n",
      "\n",
      "  This could be a false alarm, with some parameters getting used by language bindings but\n",
      "  then being mistakenly passed down to XGBoost core, or some parameter actually being used\n",
      "  but getting flagged wrongly here. Please open an issue if you find any such cases.\n",
      "\n",
      "\n",
      "[CV 5/5] END colsample_bytree=0.6, gamma=0.03, learning_rate=0.02, max_depth=4, n_estimators=2100, nthread=-1, reg_alpha=0.7000000000000001, reg_lambda=0.0, silent=1, subsample=0.8;, score=0.930 total time= 4.3min\n",
      "[12:39:29] WARNING: ../src/learner.cc:576: \n",
      "Parameters: { \"silent\" } might not be used.\n",
      "\n",
      "  This could be a false alarm, with some parameters getting used by language bindings but\n",
      "  then being mistakenly passed down to XGBoost core, or some parameter actually being used\n",
      "  but getting flagged wrongly here. Please open an issue if you find any such cases.\n",
      "\n",
      "\n",
      "[CV 1/5] END colsample_bytree=0.4, gamma=0.03, learning_rate=0.06999999999999999, max_depth=8, n_estimators=1800, nthread=-1, reg_alpha=0.2, reg_lambda=0.2, silent=1, subsample=0.6;, score=0.934 total time= 4.5min\n",
      "[12:43:59] WARNING: ../src/learner.cc:576: \n",
      "Parameters: { \"silent\" } might not be used.\n",
      "\n",
      "  This could be a false alarm, with some parameters getting used by language bindings but\n",
      "  then being mistakenly passed down to XGBoost core, or some parameter actually being used\n",
      "  but getting flagged wrongly here. Please open an issue if you find any such cases.\n",
      "\n",
      "\n",
      "[CV 2/5] END colsample_bytree=0.4, gamma=0.03, learning_rate=0.06999999999999999, max_depth=8, n_estimators=1800, nthread=-1, reg_alpha=0.2, reg_lambda=0.2, silent=1, subsample=0.6;, score=0.933 total time= 4.5min\n",
      "[12:48:30] WARNING: ../src/learner.cc:576: \n",
      "Parameters: { \"silent\" } might not be used.\n",
      "\n",
      "  This could be a false alarm, with some parameters getting used by language bindings but\n",
      "  then being mistakenly passed down to XGBoost core, or some parameter actually being used\n",
      "  but getting flagged wrongly here. Please open an issue if you find any such cases.\n",
      "\n",
      "\n",
      "[CV 3/5] END colsample_bytree=0.4, gamma=0.03, learning_rate=0.06999999999999999, max_depth=8, n_estimators=1800, nthread=-1, reg_alpha=0.2, reg_lambda=0.2, silent=1, subsample=0.6;, score=0.933 total time= 4.6min\n",
      "[12:53:06] WARNING: ../src/learner.cc:576: \n",
      "Parameters: { \"silent\" } might not be used.\n",
      "\n",
      "  This could be a false alarm, with some parameters getting used by language bindings but\n",
      "  then being mistakenly passed down to XGBoost core, or some parameter actually being used\n",
      "  but getting flagged wrongly here. Please open an issue if you find any such cases.\n",
      "\n",
      "\n",
      "[CV 4/5] END colsample_bytree=0.4, gamma=0.03, learning_rate=0.06999999999999999, max_depth=8, n_estimators=1800, nthread=-1, reg_alpha=0.2, reg_lambda=0.2, silent=1, subsample=0.6;, score=0.934 total time= 4.5min\n",
      "[12:57:39] WARNING: ../src/learner.cc:576: \n",
      "Parameters: { \"silent\" } might not be used.\n",
      "\n",
      "  This could be a false alarm, with some parameters getting used by language bindings but\n",
      "  then being mistakenly passed down to XGBoost core, or some parameter actually being used\n",
      "  but getting flagged wrongly here. Please open an issue if you find any such cases.\n",
      "\n",
      "\n",
      "[CV 5/5] END colsample_bytree=0.4, gamma=0.03, learning_rate=0.06999999999999999, max_depth=8, n_estimators=1800, nthread=-1, reg_alpha=0.2, reg_lambda=0.2, silent=1, subsample=0.6;, score=0.931 total time= 4.3min\n",
      "[13:01:58] WARNING: ../src/learner.cc:576: \n",
      "Parameters: { \"silent\" } might not be used.\n",
      "\n",
      "  This could be a false alarm, with some parameters getting used by language bindings but\n",
      "  then being mistakenly passed down to XGBoost core, or some parameter actually being used\n",
      "  but getting flagged wrongly here. Please open an issue if you find any such cases.\n",
      "\n",
      "\n",
      "[CV 1/5] END colsample_bytree=0.5, gamma=0.05, learning_rate=0.01, max_depth=4, n_estimators=1900, nthread=-1, reg_alpha=0.9, reg_lambda=0.5, silent=1, subsample=0.4;, score=0.931 total time= 2.5min\n",
      "[13:04:29] WARNING: ../src/learner.cc:576: \n",
      "Parameters: { \"silent\" } might not be used.\n",
      "\n",
      "  This could be a false alarm, with some parameters getting used by language bindings but\n",
      "  then being mistakenly passed down to XGBoost core, or some parameter actually being used\n",
      "  but getting flagged wrongly here. Please open an issue if you find any such cases.\n",
      "\n",
      "\n",
      "[CV 2/5] END colsample_bytree=0.5, gamma=0.05, learning_rate=0.01, max_depth=4, n_estimators=1900, nthread=-1, reg_alpha=0.9, reg_lambda=0.5, silent=1, subsample=0.4;, score=0.930 total time= 2.5min\n",
      "[13:07:02] WARNING: ../src/learner.cc:576: \n",
      "Parameters: { \"silent\" } might not be used.\n",
      "\n",
      "  This could be a false alarm, with some parameters getting used by language bindings but\n",
      "  then being mistakenly passed down to XGBoost core, or some parameter actually being used\n",
      "  but getting flagged wrongly here. Please open an issue if you find any such cases.\n",
      "\n",
      "\n",
      "[CV 3/5] END colsample_bytree=0.5, gamma=0.05, learning_rate=0.01, max_depth=4, n_estimators=1900, nthread=-1, reg_alpha=0.9, reg_lambda=0.5, silent=1, subsample=0.4;, score=0.930 total time= 2.5min\n",
      "[13:09:34] WARNING: ../src/learner.cc:576: \n",
      "Parameters: { \"silent\" } might not be used.\n",
      "\n",
      "  This could be a false alarm, with some parameters getting used by language bindings but\n",
      "  then being mistakenly passed down to XGBoost core, or some parameter actually being used\n",
      "  but getting flagged wrongly here. Please open an issue if you find any such cases.\n",
      "\n",
      "\n",
      "[CV 4/5] END colsample_bytree=0.5, gamma=0.05, learning_rate=0.01, max_depth=4, n_estimators=1900, nthread=-1, reg_alpha=0.9, reg_lambda=0.5, silent=1, subsample=0.4;, score=0.932 total time= 2.5min\n",
      "[13:12:07] WARNING: ../src/learner.cc:576: \n",
      "Parameters: { \"silent\" } might not be used.\n",
      "\n",
      "  This could be a false alarm, with some parameters getting used by language bindings but\n",
      "  then being mistakenly passed down to XGBoost core, or some parameter actually being used\n",
      "  but getting flagged wrongly here. Please open an issue if you find any such cases.\n",
      "\n",
      "\n",
      "[CV 5/5] END colsample_bytree=0.5, gamma=0.05, learning_rate=0.01, max_depth=4, n_estimators=1900, nthread=-1, reg_alpha=0.9, reg_lambda=0.5, silent=1, subsample=0.4;, score=0.928 total time= 2.6min\n",
      "[13:14:45] WARNING: ../src/learner.cc:576: \n",
      "Parameters: { \"silent\" } might not be used.\n",
      "\n",
      "  This could be a false alarm, with some parameters getting used by language bindings but\n",
      "  then being mistakenly passed down to XGBoost core, or some parameter actually being used\n",
      "  but getting flagged wrongly here. Please open an issue if you find any such cases.\n",
      "\n",
      "\n",
      "[CV 1/5] END colsample_bytree=0.8, gamma=0.060000000000000005, learning_rate=0.05, max_depth=3, n_estimators=2000, nthread=-1, reg_alpha=0.9, reg_lambda=0.5, silent=1, subsample=0.6;, score=0.931 total time= 4.4min\n",
      "[13:19:11] WARNING: ../src/learner.cc:576: \n",
      "Parameters: { \"silent\" } might not be used.\n",
      "\n",
      "  This could be a false alarm, with some parameters getting used by language bindings but\n",
      "  then being mistakenly passed down to XGBoost core, or some parameter actually being used\n",
      "  but getting flagged wrongly here. Please open an issue if you find any such cases.\n",
      "\n",
      "\n",
      "[CV 2/5] END colsample_bytree=0.8, gamma=0.060000000000000005, learning_rate=0.05, max_depth=3, n_estimators=2000, nthread=-1, reg_alpha=0.9, reg_lambda=0.5, silent=1, subsample=0.6;, score=0.931 total time= 4.4min\n",
      "[13:23:33] WARNING: ../src/learner.cc:576: \n",
      "Parameters: { \"silent\" } might not be used.\n",
      "\n",
      "  This could be a false alarm, with some parameters getting used by language bindings but\n",
      "  then being mistakenly passed down to XGBoost core, or some parameter actually being used\n",
      "  but getting flagged wrongly here. Please open an issue if you find any such cases.\n",
      "\n",
      "\n",
      "[CV 3/5] END colsample_bytree=0.8, gamma=0.060000000000000005, learning_rate=0.05, max_depth=3, n_estimators=2000, nthread=-1, reg_alpha=0.9, reg_lambda=0.5, silent=1, subsample=0.6;, score=0.930 total time= 4.5min\n",
      "[13:28:04] WARNING: ../src/learner.cc:576: \n",
      "Parameters: { \"silent\" } might not be used.\n",
      "\n",
      "  This could be a false alarm, with some parameters getting used by language bindings but\n",
      "  then being mistakenly passed down to XGBoost core, or some parameter actually being used\n",
      "  but getting flagged wrongly here. Please open an issue if you find any such cases.\n",
      "\n",
      "\n",
      "[CV 4/5] END colsample_bytree=0.8, gamma=0.060000000000000005, learning_rate=0.05, max_depth=3, n_estimators=2000, nthread=-1, reg_alpha=0.9, reg_lambda=0.5, silent=1, subsample=0.6;, score=0.932 total time= 3.8min\n",
      "[13:31:53] WARNING: ../src/learner.cc:576: \n",
      "Parameters: { \"silent\" } might not be used.\n",
      "\n",
      "  This could be a false alarm, with some parameters getting used by language bindings but\n",
      "  then being mistakenly passed down to XGBoost core, or some parameter actually being used\n",
      "  but getting flagged wrongly here. Please open an issue if you find any such cases.\n",
      "\n",
      "\n",
      "[CV 5/5] END colsample_bytree=0.8, gamma=0.060000000000000005, learning_rate=0.05, max_depth=3, n_estimators=2000, nthread=-1, reg_alpha=0.9, reg_lambda=0.5, silent=1, subsample=0.6;, score=0.928 total time= 3.8min\n",
      "[13:35:41] WARNING: ../src/learner.cc:576: \n",
      "Parameters: { \"silent\" } might not be used.\n",
      "\n",
      "  This could be a false alarm, with some parameters getting used by language bindings but\n",
      "  then being mistakenly passed down to XGBoost core, or some parameter actually being used\n",
      "  but getting flagged wrongly here. Please open an issue if you find any such cases.\n",
      "\n",
      "\n",
      "[CV 1/5] END colsample_bytree=0.8, gamma=0.02, learning_rate=0.01, max_depth=7, n_estimators=2100, nthread=-1, reg_alpha=0.8, reg_lambda=0.0, silent=1, subsample=0.1;, score=0.930 total time= 4.0min\n",
      "[13:39:41] WARNING: ../src/learner.cc:576: \n",
      "Parameters: { \"silent\" } might not be used.\n",
      "\n",
      "  This could be a false alarm, with some parameters getting used by language bindings but\n",
      "  then being mistakenly passed down to XGBoost core, or some parameter actually being used\n",
      "  but getting flagged wrongly here. Please open an issue if you find any such cases.\n",
      "\n",
      "\n",
      "[CV 2/5] END colsample_bytree=0.8, gamma=0.02, learning_rate=0.01, max_depth=7, n_estimators=2100, nthread=-1, reg_alpha=0.8, reg_lambda=0.0, silent=1, subsample=0.1;, score=0.930 total time= 4.0min\n",
      "[13:43:40] WARNING: ../src/learner.cc:576: \n",
      "Parameters: { \"silent\" } might not be used.\n",
      "\n",
      "  This could be a false alarm, with some parameters getting used by language bindings but\n",
      "  then being mistakenly passed down to XGBoost core, or some parameter actually being used\n",
      "  but getting flagged wrongly here. Please open an issue if you find any such cases.\n",
      "\n",
      "\n",
      "[CV 3/5] END colsample_bytree=0.8, gamma=0.02, learning_rate=0.01, max_depth=7, n_estimators=2100, nthread=-1, reg_alpha=0.8, reg_lambda=0.0, silent=1, subsample=0.1;, score=0.930 total time= 4.5min\n",
      "[13:48:09] WARNING: ../src/learner.cc:576: \n",
      "Parameters: { \"silent\" } might not be used.\n",
      "\n",
      "  This could be a false alarm, with some parameters getting used by language bindings but\n",
      "  then being mistakenly passed down to XGBoost core, or some parameter actually being used\n",
      "  but getting flagged wrongly here. Please open an issue if you find any such cases.\n",
      "\n",
      "\n",
      "[CV 4/5] END colsample_bytree=0.8, gamma=0.02, learning_rate=0.01, max_depth=7, n_estimators=2100, nthread=-1, reg_alpha=0.8, reg_lambda=0.0, silent=1, subsample=0.1;, score=0.931 total time= 4.0min\n",
      "[13:52:11] WARNING: ../src/learner.cc:576: \n",
      "Parameters: { \"silent\" } might not be used.\n",
      "\n",
      "  This could be a false alarm, with some parameters getting used by language bindings but\n",
      "  then being mistakenly passed down to XGBoost core, or some parameter actually being used\n",
      "  but getting flagged wrongly here. Please open an issue if you find any such cases.\n",
      "\n",
      "\n",
      "[CV 5/5] END colsample_bytree=0.8, gamma=0.02, learning_rate=0.01, max_depth=7, n_estimators=2100, nthread=-1, reg_alpha=0.8, reg_lambda=0.0, silent=1, subsample=0.1;, score=0.927 total time= 4.4min\n",
      "[13:56:34] WARNING: ../src/learner.cc:576: \n",
      "Parameters: { \"silent\" } might not be used.\n",
      "\n",
      "  This could be a false alarm, with some parameters getting used by language bindings but\n",
      "  then being mistakenly passed down to XGBoost core, or some parameter actually being used\n",
      "  but getting flagged wrongly here. Please open an issue if you find any such cases.\n",
      "\n",
      "\n",
      "[CV 1/5] END colsample_bytree=0.5, gamma=0.03, learning_rate=0.060000000000000005, max_depth=7, n_estimators=1500, nthread=-1, reg_alpha=0.4, reg_lambda=0.9, silent=1, subsample=0.2;, score=0.932 total time= 4.5min\n",
      "[14:01:06] WARNING: ../src/learner.cc:576: \n",
      "Parameters: { \"silent\" } might not be used.\n",
      "\n",
      "  This could be a false alarm, with some parameters getting used by language bindings but\n",
      "  then being mistakenly passed down to XGBoost core, or some parameter actually being used\n",
      "  but getting flagged wrongly here. Please open an issue if you find any such cases.\n",
      "\n",
      "\n",
      "[CV 2/5] END colsample_bytree=0.5, gamma=0.03, learning_rate=0.060000000000000005, max_depth=7, n_estimators=1500, nthread=-1, reg_alpha=0.4, reg_lambda=0.9, silent=1, subsample=0.2;, score=0.931 total time= 2.9min\n",
      "[14:04:00] WARNING: ../src/learner.cc:576: \n",
      "Parameters: { \"silent\" } might not be used.\n",
      "\n",
      "  This could be a false alarm, with some parameters getting used by language bindings but\n",
      "  then being mistakenly passed down to XGBoost core, or some parameter actually being used\n",
      "  but getting flagged wrongly here. Please open an issue if you find any such cases.\n",
      "\n",
      "\n",
      "[CV 3/5] END colsample_bytree=0.5, gamma=0.03, learning_rate=0.060000000000000005, max_depth=7, n_estimators=1500, nthread=-1, reg_alpha=0.4, reg_lambda=0.9, silent=1, subsample=0.2;, score=0.931 total time= 2.6min\n",
      "[14:06:38] WARNING: ../src/learner.cc:576: \n",
      "Parameters: { \"silent\" } might not be used.\n",
      "\n",
      "  This could be a false alarm, with some parameters getting used by language bindings but\n",
      "  then being mistakenly passed down to XGBoost core, or some parameter actually being used\n",
      "  but getting flagged wrongly here. Please open an issue if you find any such cases.\n",
      "\n",
      "\n",
      "[CV 4/5] END colsample_bytree=0.5, gamma=0.03, learning_rate=0.060000000000000005, max_depth=7, n_estimators=1500, nthread=-1, reg_alpha=0.4, reg_lambda=0.9, silent=1, subsample=0.2;, score=0.933 total time= 2.9min\n",
      "[14:09:35] WARNING: ../src/learner.cc:576: \n",
      "Parameters: { \"silent\" } might not be used.\n",
      "\n",
      "  This could be a false alarm, with some parameters getting used by language bindings but\n",
      "  then being mistakenly passed down to XGBoost core, or some parameter actually being used\n",
      "  but getting flagged wrongly here. Please open an issue if you find any such cases.\n",
      "\n",
      "\n",
      "[CV 5/5] END colsample_bytree=0.5, gamma=0.03, learning_rate=0.060000000000000005, max_depth=7, n_estimators=1500, nthread=-1, reg_alpha=0.4, reg_lambda=0.9, silent=1, subsample=0.2;, score=0.930 total time= 3.1min\n",
      "[14:12:41] WARNING: ../src/learner.cc:576: \n",
      "Parameters: { \"silent\" } might not be used.\n",
      "\n",
      "  This could be a false alarm, with some parameters getting used by language bindings but\n",
      "  then being mistakenly passed down to XGBoost core, or some parameter actually being used\n",
      "  but getting flagged wrongly here. Please open an issue if you find any such cases.\n",
      "\n",
      "\n",
      "[CV 1/5] END colsample_bytree=0.7000000000000001, gamma=0.09, learning_rate=0.02, max_depth=7, n_estimators=2200, nthread=-1, reg_alpha=0.6000000000000001, reg_lambda=0.2, silent=1, subsample=0.7000000000000001;, score=0.931 total time=10.5min\n",
      "[14:23:11] WARNING: ../src/learner.cc:576: \n",
      "Parameters: { \"silent\" } might not be used.\n",
      "\n",
      "  This could be a false alarm, with some parameters getting used by language bindings but\n",
      "  then being mistakenly passed down to XGBoost core, or some parameter actually being used\n",
      "  but getting flagged wrongly here. Please open an issue if you find any such cases.\n",
      "\n",
      "\n",
      "[CV 2/5] END colsample_bytree=0.7000000000000001, gamma=0.09, learning_rate=0.02, max_depth=7, n_estimators=2200, nthread=-1, reg_alpha=0.6000000000000001, reg_lambda=0.2, silent=1, subsample=0.7000000000000001;, score=0.931 total time=10.2min\n",
      "[14:33:24] WARNING: ../src/learner.cc:576: \n",
      "Parameters: { \"silent\" } might not be used.\n",
      "\n",
      "  This could be a false alarm, with some parameters getting used by language bindings but\n",
      "  then being mistakenly passed down to XGBoost core, or some parameter actually being used\n",
      "  but getting flagged wrongly here. Please open an issue if you find any such cases.\n",
      "\n",
      "\n",
      "[CV 3/5] END colsample_bytree=0.7000000000000001, gamma=0.09, learning_rate=0.02, max_depth=7, n_estimators=2200, nthread=-1, reg_alpha=0.6000000000000001, reg_lambda=0.2, silent=1, subsample=0.7000000000000001;, score=0.931 total time= 8.3min\n",
      "[14:41:41] WARNING: ../src/learner.cc:576: \n",
      "Parameters: { \"silent\" } might not be used.\n",
      "\n",
      "  This could be a false alarm, with some parameters getting used by language bindings but\n",
      "  then being mistakenly passed down to XGBoost core, or some parameter actually being used\n",
      "  but getting flagged wrongly here. Please open an issue if you find any such cases.\n",
      "\n",
      "\n",
      "[CV 4/5] END colsample_bytree=0.7000000000000001, gamma=0.09, learning_rate=0.02, max_depth=7, n_estimators=2200, nthread=-1, reg_alpha=0.6000000000000001, reg_lambda=0.2, silent=1, subsample=0.7000000000000001;, score=0.932 total time= 9.1min\n",
      "[14:50:45] WARNING: ../src/learner.cc:576: \n",
      "Parameters: { \"silent\" } might not be used.\n",
      "\n",
      "  This could be a false alarm, with some parameters getting used by language bindings but\n",
      "  then being mistakenly passed down to XGBoost core, or some parameter actually being used\n",
      "  but getting flagged wrongly here. Please open an issue if you find any such cases.\n",
      "\n",
      "\n",
      "[CV 5/5] END colsample_bytree=0.7000000000000001, gamma=0.09, learning_rate=0.02, max_depth=7, n_estimators=2200, nthread=-1, reg_alpha=0.6000000000000001, reg_lambda=0.2, silent=1, subsample=0.7000000000000001;, score=0.929 total time= 8.3min\n",
      "[14:59:01] WARNING: ../src/learner.cc:576: \n",
      "Parameters: { \"silent\" } might not be used.\n",
      "\n",
      "  This could be a false alarm, with some parameters getting used by language bindings but\n",
      "  then being mistakenly passed down to XGBoost core, or some parameter actually being used\n",
      "  but getting flagged wrongly here. Please open an issue if you find any such cases.\n",
      "\n",
      "\n",
      "[CV 1/5] END colsample_bytree=0.5, gamma=0.02, learning_rate=0.04, max_depth=5, n_estimators=1500, nthread=-1, reg_alpha=0.5, reg_lambda=0.7000000000000001, silent=1, subsample=0.30000000000000004;, score=0.933 total time= 2.2min\n",
      "[15:01:10] WARNING: ../src/learner.cc:576: \n",
      "Parameters: { \"silent\" } might not be used.\n",
      "\n",
      "  This could be a false alarm, with some parameters getting used by language bindings but\n",
      "  then being mistakenly passed down to XGBoost core, or some parameter actually being used\n",
      "  but getting flagged wrongly here. Please open an issue if you find any such cases.\n",
      "\n",
      "\n",
      "[CV 2/5] END colsample_bytree=0.5, gamma=0.02, learning_rate=0.04, max_depth=5, n_estimators=1500, nthread=-1, reg_alpha=0.5, reg_lambda=0.7000000000000001, silent=1, subsample=0.30000000000000004;, score=0.932 total time= 2.1min\n",
      "[15:03:19] WARNING: ../src/learner.cc:576: \n",
      "Parameters: { \"silent\" } might not be used.\n",
      "\n",
      "  This could be a false alarm, with some parameters getting used by language bindings but\n",
      "  then being mistakenly passed down to XGBoost core, or some parameter actually being used\n",
      "  but getting flagged wrongly here. Please open an issue if you find any such cases.\n",
      "\n",
      "\n",
      "[CV 3/5] END colsample_bytree=0.5, gamma=0.02, learning_rate=0.04, max_depth=5, n_estimators=1500, nthread=-1, reg_alpha=0.5, reg_lambda=0.7000000000000001, silent=1, subsample=0.30000000000000004;, score=0.932 total time= 2.1min\n",
      "[15:05:24] WARNING: ../src/learner.cc:576: \n",
      "Parameters: { \"silent\" } might not be used.\n",
      "\n",
      "  This could be a false alarm, with some parameters getting used by language bindings but\n",
      "  then being mistakenly passed down to XGBoost core, or some parameter actually being used\n",
      "  but getting flagged wrongly here. Please open an issue if you find any such cases.\n",
      "\n",
      "\n",
      "[CV 4/5] END colsample_bytree=0.5, gamma=0.02, learning_rate=0.04, max_depth=5, n_estimators=1500, nthread=-1, reg_alpha=0.5, reg_lambda=0.7000000000000001, silent=1, subsample=0.30000000000000004;, score=0.933 total time= 2.1min\n",
      "[15:07:28] WARNING: ../src/learner.cc:576: \n",
      "Parameters: { \"silent\" } might not be used.\n",
      "\n",
      "  This could be a false alarm, with some parameters getting used by language bindings but\n",
      "  then being mistakenly passed down to XGBoost core, or some parameter actually being used\n",
      "  but getting flagged wrongly here. Please open an issue if you find any such cases.\n",
      "\n",
      "\n",
      "[CV 5/5] END colsample_bytree=0.5, gamma=0.02, learning_rate=0.04, max_depth=5, n_estimators=1500, nthread=-1, reg_alpha=0.5, reg_lambda=0.7000000000000001, silent=1, subsample=0.30000000000000004;, score=0.930 total time= 2.1min\n",
      "[15:09:32] WARNING: ../src/learner.cc:576: \n",
      "Parameters: { \"silent\" } might not be used.\n",
      "\n",
      "  This could be a false alarm, with some parameters getting used by language bindings but\n",
      "  then being mistakenly passed down to XGBoost core, or some parameter actually being used\n",
      "  but getting flagged wrongly here. Please open an issue if you find any such cases.\n",
      "\n",
      "\n",
      "[CV 1/5] END colsample_bytree=0.6, gamma=0.02, learning_rate=0.06999999999999999, max_depth=8, n_estimators=1800, nthread=-1, reg_alpha=0.8, reg_lambda=0.30000000000000004, silent=1, subsample=0.9;, score=0.933 total time= 6.4min\n",
      "[15:15:58] WARNING: ../src/learner.cc:576: \n",
      "Parameters: { \"silent\" } might not be used.\n",
      "\n",
      "  This could be a false alarm, with some parameters getting used by language bindings but\n",
      "  then being mistakenly passed down to XGBoost core, or some parameter actually being used\n",
      "  but getting flagged wrongly here. Please open an issue if you find any such cases.\n",
      "\n",
      "\n",
      "[CV 2/5] END colsample_bytree=0.6, gamma=0.02, learning_rate=0.06999999999999999, max_depth=8, n_estimators=1800, nthread=-1, reg_alpha=0.8, reg_lambda=0.30000000000000004, silent=1, subsample=0.9;, score=0.933 total time= 6.7min\n",
      "[15:22:41] WARNING: ../src/learner.cc:576: \n",
      "Parameters: { \"silent\" } might not be used.\n",
      "\n",
      "  This could be a false alarm, with some parameters getting used by language bindings but\n",
      "  then being mistakenly passed down to XGBoost core, or some parameter actually being used\n",
      "  but getting flagged wrongly here. Please open an issue if you find any such cases.\n",
      "\n",
      "\n",
      "[CV 3/5] END colsample_bytree=0.6, gamma=0.02, learning_rate=0.06999999999999999, max_depth=8, n_estimators=1800, nthread=-1, reg_alpha=0.8, reg_lambda=0.30000000000000004, silent=1, subsample=0.9;, score=0.932 total time= 6.5min\n",
      "[15:29:09] WARNING: ../src/learner.cc:576: \n",
      "Parameters: { \"silent\" } might not be used.\n",
      "\n",
      "  This could be a false alarm, with some parameters getting used by language bindings but\n",
      "  then being mistakenly passed down to XGBoost core, or some parameter actually being used\n",
      "  but getting flagged wrongly here. Please open an issue if you find any such cases.\n",
      "\n",
      "\n",
      "[CV 4/5] END colsample_bytree=0.6, gamma=0.02, learning_rate=0.06999999999999999, max_depth=8, n_estimators=1800, nthread=-1, reg_alpha=0.8, reg_lambda=0.30000000000000004, silent=1, subsample=0.9;, score=0.934 total time= 6.4min\n",
      "[15:35:32] WARNING: ../src/learner.cc:576: \n",
      "Parameters: { \"silent\" } might not be used.\n",
      "\n",
      "  This could be a false alarm, with some parameters getting used by language bindings but\n",
      "  then being mistakenly passed down to XGBoost core, or some parameter actually being used\n",
      "  but getting flagged wrongly here. Please open an issue if you find any such cases.\n",
      "\n",
      "\n",
      "[CV 5/5] END colsample_bytree=0.6, gamma=0.02, learning_rate=0.06999999999999999, max_depth=8, n_estimators=1800, nthread=-1, reg_alpha=0.8, reg_lambda=0.30000000000000004, silent=1, subsample=0.9;, score=0.931 total time= 6.4min\n",
      "[15:41:55] WARNING: ../src/learner.cc:576: \n",
      "Parameters: { \"silent\" } might not be used.\n",
      "\n",
      "  This could be a false alarm, with some parameters getting used by language bindings but\n",
      "  then being mistakenly passed down to XGBoost core, or some parameter actually being used\n",
      "  but getting flagged wrongly here. Please open an issue if you find any such cases.\n",
      "\n",
      "\n",
      "[CV 1/5] END colsample_bytree=0.30000000000000004, gamma=0.01, learning_rate=0.03, max_depth=4, n_estimators=1500, nthread=-1, reg_alpha=0.9, reg_lambda=0.4, silent=1, subsample=0.4;, score=0.932 total time= 1.4min\n",
      "[15:43:19] WARNING: ../src/learner.cc:576: \n",
      "Parameters: { \"silent\" } might not be used.\n",
      "\n",
      "  This could be a false alarm, with some parameters getting used by language bindings but\n",
      "  then being mistakenly passed down to XGBoost core, or some parameter actually being used\n",
      "  but getting flagged wrongly here. Please open an issue if you find any such cases.\n",
      "\n",
      "\n",
      "[CV 2/5] END colsample_bytree=0.30000000000000004, gamma=0.01, learning_rate=0.03, max_depth=4, n_estimators=1500, nthread=-1, reg_alpha=0.9, reg_lambda=0.4, silent=1, subsample=0.4;, score=0.932 total time= 1.4min\n",
      "[15:44:41] WARNING: ../src/learner.cc:576: \n",
      "Parameters: { \"silent\" } might not be used.\n",
      "\n",
      "  This could be a false alarm, with some parameters getting used by language bindings but\n",
      "  then being mistakenly passed down to XGBoost core, or some parameter actually being used\n",
      "  but getting flagged wrongly here. Please open an issue if you find any such cases.\n",
      "\n",
      "\n",
      "[CV 3/5] END colsample_bytree=0.30000000000000004, gamma=0.01, learning_rate=0.03, max_depth=4, n_estimators=1500, nthread=-1, reg_alpha=0.9, reg_lambda=0.4, silent=1, subsample=0.4;, score=0.932 total time= 1.4min\n",
      "[15:46:04] WARNING: ../src/learner.cc:576: \n",
      "Parameters: { \"silent\" } might not be used.\n",
      "\n",
      "  This could be a false alarm, with some parameters getting used by language bindings but\n",
      "  then being mistakenly passed down to XGBoost core, or some parameter actually being used\n",
      "  but getting flagged wrongly here. Please open an issue if you find any such cases.\n",
      "\n",
      "\n",
      "[CV 4/5] END colsample_bytree=0.30000000000000004, gamma=0.01, learning_rate=0.03, max_depth=4, n_estimators=1500, nthread=-1, reg_alpha=0.9, reg_lambda=0.4, silent=1, subsample=0.4;, score=0.933 total time= 1.4min\n",
      "[15:47:27] WARNING: ../src/learner.cc:576: \n",
      "Parameters: { \"silent\" } might not be used.\n",
      "\n",
      "  This could be a false alarm, with some parameters getting used by language bindings but\n",
      "  then being mistakenly passed down to XGBoost core, or some parameter actually being used\n",
      "  but getting flagged wrongly here. Please open an issue if you find any such cases.\n",
      "\n",
      "\n",
      "[CV 5/5] END colsample_bytree=0.30000000000000004, gamma=0.01, learning_rate=0.03, max_depth=4, n_estimators=1500, nthread=-1, reg_alpha=0.9, reg_lambda=0.4, silent=1, subsample=0.4;, score=0.930 total time= 1.4min\n",
      "[15:48:48] WARNING: ../src/learner.cc:576: \n",
      "Parameters: { \"silent\" } might not be used.\n",
      "\n",
      "  This could be a false alarm, with some parameters getting used by language bindings but\n",
      "  then being mistakenly passed down to XGBoost core, or some parameter actually being used\n",
      "  but getting flagged wrongly here. Please open an issue if you find any such cases.\n",
      "\n",
      "\n",
      "[CV 1/5] END colsample_bytree=0.30000000000000004, gamma=0.09, learning_rate=0.05, max_depth=9, n_estimators=1900, nthread=-1, reg_alpha=0.7000000000000001, reg_lambda=0.6000000000000001, silent=1, subsample=0.2;, score=0.928 total time= 2.4min\n",
      "[15:51:11] WARNING: ../src/learner.cc:576: \n",
      "Parameters: { \"silent\" } might not be used.\n",
      "\n",
      "  This could be a false alarm, with some parameters getting used by language bindings but\n",
      "  then being mistakenly passed down to XGBoost core, or some parameter actually being used\n",
      "  but getting flagged wrongly here. Please open an issue if you find any such cases.\n",
      "\n",
      "\n",
      "[CV 2/5] END colsample_bytree=0.30000000000000004, gamma=0.09, learning_rate=0.05, max_depth=9, n_estimators=1900, nthread=-1, reg_alpha=0.7000000000000001, reg_lambda=0.6000000000000001, silent=1, subsample=0.2;, score=0.927 total time= 2.4min\n",
      "[15:53:34] WARNING: ../src/learner.cc:576: \n",
      "Parameters: { \"silent\" } might not be used.\n",
      "\n",
      "  This could be a false alarm, with some parameters getting used by language bindings but\n",
      "  then being mistakenly passed down to XGBoost core, or some parameter actually being used\n",
      "  but getting flagged wrongly here. Please open an issue if you find any such cases.\n",
      "\n",
      "\n",
      "[CV 3/5] END colsample_bytree=0.30000000000000004, gamma=0.09, learning_rate=0.05, max_depth=9, n_estimators=1900, nthread=-1, reg_alpha=0.7000000000000001, reg_lambda=0.6000000000000001, silent=1, subsample=0.2;, score=0.927 total time= 2.4min\n",
      "[15:55:58] WARNING: ../src/learner.cc:576: \n",
      "Parameters: { \"silent\" } might not be used.\n",
      "\n",
      "  This could be a false alarm, with some parameters getting used by language bindings but\n",
      "  then being mistakenly passed down to XGBoost core, or some parameter actually being used\n",
      "  but getting flagged wrongly here. Please open an issue if you find any such cases.\n",
      "\n",
      "\n",
      "[CV 4/5] END colsample_bytree=0.30000000000000004, gamma=0.09, learning_rate=0.05, max_depth=9, n_estimators=1900, nthread=-1, reg_alpha=0.7000000000000001, reg_lambda=0.6000000000000001, silent=1, subsample=0.2;, score=0.928 total time= 2.4min\n",
      "[15:58:21] WARNING: ../src/learner.cc:576: \n",
      "Parameters: { \"silent\" } might not be used.\n",
      "\n",
      "  This could be a false alarm, with some parameters getting used by language bindings but\n",
      "  then being mistakenly passed down to XGBoost core, or some parameter actually being used\n",
      "  but getting flagged wrongly here. Please open an issue if you find any such cases.\n",
      "\n",
      "\n",
      "[CV 5/5] END colsample_bytree=0.30000000000000004, gamma=0.09, learning_rate=0.05, max_depth=9, n_estimators=1900, nthread=-1, reg_alpha=0.7000000000000001, reg_lambda=0.6000000000000001, silent=1, subsample=0.2;, score=0.925 total time= 2.4min\n",
      "[16:00:44] WARNING: ../src/learner.cc:576: \n",
      "Parameters: { \"silent\" } might not be used.\n",
      "\n",
      "  This could be a false alarm, with some parameters getting used by language bindings but\n",
      "  then being mistakenly passed down to XGBoost core, or some parameter actually being used\n",
      "  but getting flagged wrongly here. Please open an issue if you find any such cases.\n",
      "\n",
      "\n",
      "[CV 1/5] END colsample_bytree=0.30000000000000004, gamma=0.08, learning_rate=0.08, max_depth=8, n_estimators=2000, nthread=-1, reg_alpha=0.7000000000000001, reg_lambda=0.7000000000000001, silent=1, subsample=0.9;, score=0.932 total time= 3.9min\n",
      "[16:04:41] WARNING: ../src/learner.cc:576: \n",
      "Parameters: { \"silent\" } might not be used.\n",
      "\n",
      "  This could be a false alarm, with some parameters getting used by language bindings but\n",
      "  then being mistakenly passed down to XGBoost core, or some parameter actually being used\n",
      "  but getting flagged wrongly here. Please open an issue if you find any such cases.\n",
      "\n",
      "\n",
      "[CV 2/5] END colsample_bytree=0.30000000000000004, gamma=0.08, learning_rate=0.08, max_depth=8, n_estimators=2000, nthread=-1, reg_alpha=0.7000000000000001, reg_lambda=0.7000000000000001, silent=1, subsample=0.9;, score=0.931 total time= 3.9min\n",
      "[16:08:37] WARNING: ../src/learner.cc:576: \n",
      "Parameters: { \"silent\" } might not be used.\n",
      "\n",
      "  This could be a false alarm, with some parameters getting used by language bindings but\n",
      "  then being mistakenly passed down to XGBoost core, or some parameter actually being used\n",
      "  but getting flagged wrongly here. Please open an issue if you find any such cases.\n",
      "\n",
      "\n",
      "[CV 3/5] END colsample_bytree=0.30000000000000004, gamma=0.08, learning_rate=0.08, max_depth=8, n_estimators=2000, nthread=-1, reg_alpha=0.7000000000000001, reg_lambda=0.7000000000000001, silent=1, subsample=0.9;, score=0.931 total time= 4.0min\n",
      "[16:12:35] WARNING: ../src/learner.cc:576: \n",
      "Parameters: { \"silent\" } might not be used.\n",
      "\n",
      "  This could be a false alarm, with some parameters getting used by language bindings but\n",
      "  then being mistakenly passed down to XGBoost core, or some parameter actually being used\n",
      "  but getting flagged wrongly here. Please open an issue if you find any such cases.\n",
      "\n",
      "\n",
      "[CV 4/5] END colsample_bytree=0.30000000000000004, gamma=0.08, learning_rate=0.08, max_depth=8, n_estimators=2000, nthread=-1, reg_alpha=0.7000000000000001, reg_lambda=0.7000000000000001, silent=1, subsample=0.9;, score=0.933 total time= 4.0min\n",
      "[16:16:33] WARNING: ../src/learner.cc:576: \n",
      "Parameters: { \"silent\" } might not be used.\n",
      "\n",
      "  This could be a false alarm, with some parameters getting used by language bindings but\n",
      "  then being mistakenly passed down to XGBoost core, or some parameter actually being used\n",
      "  but getting flagged wrongly here. Please open an issue if you find any such cases.\n",
      "\n",
      "\n",
      "[CV 5/5] END colsample_bytree=0.30000000000000004, gamma=0.08, learning_rate=0.08, max_depth=8, n_estimators=2000, nthread=-1, reg_alpha=0.7000000000000001, reg_lambda=0.7000000000000001, silent=1, subsample=0.9;, score=0.929 total time= 4.0min\n",
      "[16:20:31] WARNING: ../src/learner.cc:576: \n",
      "Parameters: { \"silent\" } might not be used.\n",
      "\n",
      "  This could be a false alarm, with some parameters getting used by language bindings but\n",
      "  then being mistakenly passed down to XGBoost core, or some parameter actually being used\n",
      "  but getting flagged wrongly here. Please open an issue if you find any such cases.\n",
      "\n",
      "\n",
      "[CV 1/5] END colsample_bytree=0.6, gamma=0.05, learning_rate=0.04, max_depth=7, n_estimators=2400, nthread=-1, reg_alpha=0.0, reg_lambda=0.4, silent=1, subsample=0.8;, score=0.933 total time= 7.7min\n",
      "[16:28:15] WARNING: ../src/learner.cc:576: \n",
      "Parameters: { \"silent\" } might not be used.\n",
      "\n",
      "  This could be a false alarm, with some parameters getting used by language bindings but\n",
      "  then being mistakenly passed down to XGBoost core, or some parameter actually being used\n",
      "  but getting flagged wrongly here. Please open an issue if you find any such cases.\n",
      "\n",
      "\n",
      "[CV 2/5] END colsample_bytree=0.6, gamma=0.05, learning_rate=0.04, max_depth=7, n_estimators=2400, nthread=-1, reg_alpha=0.0, reg_lambda=0.4, silent=1, subsample=0.8;, score=0.932 total time= 7.4min\n",
      "[16:35:42] WARNING: ../src/learner.cc:576: \n",
      "Parameters: { \"silent\" } might not be used.\n",
      "\n",
      "  This could be a false alarm, with some parameters getting used by language bindings but\n",
      "  then being mistakenly passed down to XGBoost core, or some parameter actually being used\n",
      "  but getting flagged wrongly here. Please open an issue if you find any such cases.\n",
      "\n",
      "\n",
      "[CV 3/5] END colsample_bytree=0.6, gamma=0.05, learning_rate=0.04, max_depth=7, n_estimators=2400, nthread=-1, reg_alpha=0.0, reg_lambda=0.4, silent=1, subsample=0.8;, score=0.932 total time= 7.4min\n",
      "[16:43:08] WARNING: ../src/learner.cc:576: \n",
      "Parameters: { \"silent\" } might not be used.\n",
      "\n",
      "  This could be a false alarm, with some parameters getting used by language bindings but\n",
      "  then being mistakenly passed down to XGBoost core, or some parameter actually being used\n",
      "  but getting flagged wrongly here. Please open an issue if you find any such cases.\n",
      "\n",
      "\n",
      "[CV 4/5] END colsample_bytree=0.6, gamma=0.05, learning_rate=0.04, max_depth=7, n_estimators=2400, nthread=-1, reg_alpha=0.0, reg_lambda=0.4, silent=1, subsample=0.8;, score=0.934 total time= 7.4min\n",
      "[16:50:33] WARNING: ../src/learner.cc:576: \n",
      "Parameters: { \"silent\" } might not be used.\n",
      "\n",
      "  This could be a false alarm, with some parameters getting used by language bindings but\n",
      "  then being mistakenly passed down to XGBoost core, or some parameter actually being used\n",
      "  but getting flagged wrongly here. Please open an issue if you find any such cases.\n",
      "\n",
      "\n",
      "[CV 5/5] END colsample_bytree=0.6, gamma=0.05, learning_rate=0.04, max_depth=7, n_estimators=2400, nthread=-1, reg_alpha=0.0, reg_lambda=0.4, silent=1, subsample=0.8;, score=0.931 total time= 7.4min\n",
      "[16:57:55] WARNING: ../src/learner.cc:576: \n",
      "Parameters: { \"silent\" } might not be used.\n",
      "\n",
      "  This could be a false alarm, with some parameters getting used by language bindings but\n",
      "  then being mistakenly passed down to XGBoost core, or some parameter actually being used\n",
      "  but getting flagged wrongly here. Please open an issue if you find any such cases.\n",
      "\n",
      "\n",
      "[CV 1/5] END colsample_bytree=0.4, gamma=0.060000000000000005, learning_rate=0.02, max_depth=4, n_estimators=1500, nthread=-1, reg_alpha=0.5, reg_lambda=0.9, silent=1, subsample=0.9;, score=0.932 total time= 2.0min\n",
      "[16:59:57] WARNING: ../src/learner.cc:576: \n",
      "Parameters: { \"silent\" } might not be used.\n",
      "\n",
      "  This could be a false alarm, with some parameters getting used by language bindings but\n",
      "  then being mistakenly passed down to XGBoost core, or some parameter actually being used\n",
      "  but getting flagged wrongly here. Please open an issue if you find any such cases.\n",
      "\n",
      "\n",
      "[CV 2/5] END colsample_bytree=0.4, gamma=0.060000000000000005, learning_rate=0.02, max_depth=4, n_estimators=1500, nthread=-1, reg_alpha=0.5, reg_lambda=0.9, silent=1, subsample=0.9;, score=0.931 total time= 2.0min\n",
      "[17:01:59] WARNING: ../src/learner.cc:576: \n",
      "Parameters: { \"silent\" } might not be used.\n",
      "\n",
      "  This could be a false alarm, with some parameters getting used by language bindings but\n",
      "  then being mistakenly passed down to XGBoost core, or some parameter actually being used\n",
      "  but getting flagged wrongly here. Please open an issue if you find any such cases.\n",
      "\n",
      "\n",
      "[CV 3/5] END colsample_bytree=0.4, gamma=0.060000000000000005, learning_rate=0.02, max_depth=4, n_estimators=1500, nthread=-1, reg_alpha=0.5, reg_lambda=0.9, silent=1, subsample=0.9;, score=0.931 total time= 2.0min\n",
      "[17:04:00] WARNING: ../src/learner.cc:576: \n",
      "Parameters: { \"silent\" } might not be used.\n",
      "\n",
      "  This could be a false alarm, with some parameters getting used by language bindings but\n",
      "  then being mistakenly passed down to XGBoost core, or some parameter actually being used\n",
      "  but getting flagged wrongly here. Please open an issue if you find any such cases.\n",
      "\n",
      "\n",
      "[CV 4/5] END colsample_bytree=0.4, gamma=0.060000000000000005, learning_rate=0.02, max_depth=4, n_estimators=1500, nthread=-1, reg_alpha=0.5, reg_lambda=0.9, silent=1, subsample=0.9;, score=0.933 total time= 2.1min\n",
      "[17:06:05] WARNING: ../src/learner.cc:576: \n",
      "Parameters: { \"silent\" } might not be used.\n",
      "\n",
      "  This could be a false alarm, with some parameters getting used by language bindings but\n",
      "  then being mistakenly passed down to XGBoost core, or some parameter actually being used\n",
      "  but getting flagged wrongly here. Please open an issue if you find any such cases.\n",
      "\n",
      "\n",
      "[CV 5/5] END colsample_bytree=0.4, gamma=0.060000000000000005, learning_rate=0.02, max_depth=4, n_estimators=1500, nthread=-1, reg_alpha=0.5, reg_lambda=0.9, silent=1, subsample=0.9;, score=0.930 total time= 2.1min\n",
      "[17:08:10] WARNING: ../src/learner.cc:576: \n",
      "Parameters: { \"silent\" } might not be used.\n",
      "\n",
      "  This could be a false alarm, with some parameters getting used by language bindings but\n",
      "  then being mistakenly passed down to XGBoost core, or some parameter actually being used\n",
      "  but getting flagged wrongly here. Please open an issue if you find any such cases.\n",
      "\n",
      "\n",
      "[CV 1/5] END colsample_bytree=0.7000000000000001, gamma=0.09, learning_rate=0.01, max_depth=2, n_estimators=1700, nthread=-1, reg_alpha=0.5, reg_lambda=0.2, silent=1, subsample=0.5;, score=0.929 total time= 1.8min\n",
      "[17:10:01] WARNING: ../src/learner.cc:576: \n",
      "Parameters: { \"silent\" } might not be used.\n",
      "\n",
      "  This could be a false alarm, with some parameters getting used by language bindings but\n",
      "  then being mistakenly passed down to XGBoost core, or some parameter actually being used\n",
      "  but getting flagged wrongly here. Please open an issue if you find any such cases.\n",
      "\n",
      "\n",
      "[CV 2/5] END colsample_bytree=0.7000000000000001, gamma=0.09, learning_rate=0.01, max_depth=2, n_estimators=1700, nthread=-1, reg_alpha=0.5, reg_lambda=0.2, silent=1, subsample=0.5;, score=0.929 total time= 1.8min\n",
      "[17:11:51] WARNING: ../src/learner.cc:576: \n",
      "Parameters: { \"silent\" } might not be used.\n",
      "\n",
      "  This could be a false alarm, with some parameters getting used by language bindings but\n",
      "  then being mistakenly passed down to XGBoost core, or some parameter actually being used\n",
      "  but getting flagged wrongly here. Please open an issue if you find any such cases.\n",
      "\n",
      "\n",
      "[CV 3/5] END colsample_bytree=0.7000000000000001, gamma=0.09, learning_rate=0.01, max_depth=2, n_estimators=1700, nthread=-1, reg_alpha=0.5, reg_lambda=0.2, silent=1, subsample=0.5;, score=0.929 total time= 1.9min\n",
      "[17:13:43] WARNING: ../src/learner.cc:576: \n",
      "Parameters: { \"silent\" } might not be used.\n",
      "\n",
      "  This could be a false alarm, with some parameters getting used by language bindings but\n",
      "  then being mistakenly passed down to XGBoost core, or some parameter actually being used\n",
      "  but getting flagged wrongly here. Please open an issue if you find any such cases.\n",
      "\n",
      "\n",
      "[CV 4/5] END colsample_bytree=0.7000000000000001, gamma=0.09, learning_rate=0.01, max_depth=2, n_estimators=1700, nthread=-1, reg_alpha=0.5, reg_lambda=0.2, silent=1, subsample=0.5;, score=0.930 total time= 1.9min\n",
      "[17:15:34] WARNING: ../src/learner.cc:576: \n",
      "Parameters: { \"silent\" } might not be used.\n",
      "\n",
      "  This could be a false alarm, with some parameters getting used by language bindings but\n",
      "  then being mistakenly passed down to XGBoost core, or some parameter actually being used\n",
      "  but getting flagged wrongly here. Please open an issue if you find any such cases.\n",
      "\n",
      "\n",
      "[CV 5/5] END colsample_bytree=0.7000000000000001, gamma=0.09, learning_rate=0.01, max_depth=2, n_estimators=1700, nthread=-1, reg_alpha=0.5, reg_lambda=0.2, silent=1, subsample=0.5;, score=0.926 total time= 1.9min\n",
      "[17:17:26] WARNING: ../src/learner.cc:576: \n",
      "Parameters: { \"silent\" } might not be used.\n",
      "\n",
      "  This could be a false alarm, with some parameters getting used by language bindings but\n",
      "  then being mistakenly passed down to XGBoost core, or some parameter actually being used\n",
      "  but getting flagged wrongly here. Please open an issue if you find any such cases.\n",
      "\n",
      "\n",
      "[CV 1/5] END colsample_bytree=0.4, gamma=0.06999999999999999, learning_rate=0.09, max_depth=2, n_estimators=1700, nthread=-1, reg_alpha=0.2, reg_lambda=0.0, silent=1, subsample=0.4;, score=0.931 total time= 1.2min\n",
      "[17:18:36] WARNING: ../src/learner.cc:576: \n",
      "Parameters: { \"silent\" } might not be used.\n",
      "\n",
      "  This could be a false alarm, with some parameters getting used by language bindings but\n",
      "  then being mistakenly passed down to XGBoost core, or some parameter actually being used\n",
      "  but getting flagged wrongly here. Please open an issue if you find any such cases.\n",
      "\n",
      "\n",
      "[CV 2/5] END colsample_bytree=0.4, gamma=0.06999999999999999, learning_rate=0.09, max_depth=2, n_estimators=1700, nthread=-1, reg_alpha=0.2, reg_lambda=0.0, silent=1, subsample=0.4;, score=0.930 total time= 1.2min\n",
      "[17:19:46] WARNING: ../src/learner.cc:576: \n",
      "Parameters: { \"silent\" } might not be used.\n",
      "\n",
      "  This could be a false alarm, with some parameters getting used by language bindings but\n",
      "  then being mistakenly passed down to XGBoost core, or some parameter actually being used\n",
      "  but getting flagged wrongly here. Please open an issue if you find any such cases.\n",
      "\n",
      "\n",
      "[CV 3/5] END colsample_bytree=0.4, gamma=0.06999999999999999, learning_rate=0.09, max_depth=2, n_estimators=1700, nthread=-1, reg_alpha=0.2, reg_lambda=0.0, silent=1, subsample=0.4;, score=0.930 total time= 1.2min\n",
      "[17:20:58] WARNING: ../src/learner.cc:576: \n",
      "Parameters: { \"silent\" } might not be used.\n",
      "\n",
      "  This could be a false alarm, with some parameters getting used by language bindings but\n",
      "  then being mistakenly passed down to XGBoost core, or some parameter actually being used\n",
      "  but getting flagged wrongly here. Please open an issue if you find any such cases.\n",
      "\n",
      "\n",
      "[CV 4/5] END colsample_bytree=0.4, gamma=0.06999999999999999, learning_rate=0.09, max_depth=2, n_estimators=1700, nthread=-1, reg_alpha=0.2, reg_lambda=0.0, silent=1, subsample=0.4;, score=0.931 total time= 1.4min\n",
      "[17:22:19] WARNING: ../src/learner.cc:576: \n",
      "Parameters: { \"silent\" } might not be used.\n",
      "\n",
      "  This could be a false alarm, with some parameters getting used by language bindings but\n",
      "  then being mistakenly passed down to XGBoost core, or some parameter actually being used\n",
      "  but getting flagged wrongly here. Please open an issue if you find any such cases.\n",
      "\n",
      "\n",
      "[CV 5/5] END colsample_bytree=0.4, gamma=0.06999999999999999, learning_rate=0.09, max_depth=2, n_estimators=1700, nthread=-1, reg_alpha=0.2, reg_lambda=0.0, silent=1, subsample=0.4;, score=0.928 total time= 1.3min\n",
      "[17:23:37] WARNING: ../src/learner.cc:576: \n",
      "Parameters: { \"silent\" } might not be used.\n",
      "\n",
      "  This could be a false alarm, with some parameters getting used by language bindings but\n",
      "  then being mistakenly passed down to XGBoost core, or some parameter actually being used\n",
      "  but getting flagged wrongly here. Please open an issue if you find any such cases.\n",
      "\n",
      "\n",
      "[CV 1/5] END colsample_bytree=0.9, gamma=0.04, learning_rate=0.05, max_depth=2, n_estimators=2000, nthread=-1, reg_alpha=0.4, reg_lambda=0.0, silent=1, subsample=0.4;, score=0.931 total time= 2.4min\n",
      "[17:26:00] WARNING: ../src/learner.cc:576: \n",
      "Parameters: { \"silent\" } might not be used.\n",
      "\n",
      "  This could be a false alarm, with some parameters getting used by language bindings but\n",
      "  then being mistakenly passed down to XGBoost core, or some parameter actually being used\n",
      "  but getting flagged wrongly here. Please open an issue if you find any such cases.\n",
      "\n",
      "\n",
      "[CV 2/5] END colsample_bytree=0.9, gamma=0.04, learning_rate=0.05, max_depth=2, n_estimators=2000, nthread=-1, reg_alpha=0.4, reg_lambda=0.0, silent=1, subsample=0.4;, score=0.930 total time= 2.4min\n",
      "[17:28:23] WARNING: ../src/learner.cc:576: \n",
      "Parameters: { \"silent\" } might not be used.\n",
      "\n",
      "  This could be a false alarm, with some parameters getting used by language bindings but\n",
      "  then being mistakenly passed down to XGBoost core, or some parameter actually being used\n",
      "  but getting flagged wrongly here. Please open an issue if you find any such cases.\n",
      "\n",
      "\n",
      "[CV 3/5] END colsample_bytree=0.9, gamma=0.04, learning_rate=0.05, max_depth=2, n_estimators=2000, nthread=-1, reg_alpha=0.4, reg_lambda=0.0, silent=1, subsample=0.4;, score=0.930 total time= 2.4min\n",
      "[17:30:44] WARNING: ../src/learner.cc:576: \n",
      "Parameters: { \"silent\" } might not be used.\n",
      "\n",
      "  This could be a false alarm, with some parameters getting used by language bindings but\n",
      "  then being mistakenly passed down to XGBoost core, or some parameter actually being used\n",
      "  but getting flagged wrongly here. Please open an issue if you find any such cases.\n",
      "\n",
      "\n",
      "[CV 4/5] END colsample_bytree=0.9, gamma=0.04, learning_rate=0.05, max_depth=2, n_estimators=2000, nthread=-1, reg_alpha=0.4, reg_lambda=0.0, silent=1, subsample=0.4;, score=0.932 total time= 2.4min\n",
      "[17:33:08] WARNING: ../src/learner.cc:576: \n",
      "Parameters: { \"silent\" } might not be used.\n",
      "\n",
      "  This could be a false alarm, with some parameters getting used by language bindings but\n",
      "  then being mistakenly passed down to XGBoost core, or some parameter actually being used\n",
      "  but getting flagged wrongly here. Please open an issue if you find any such cases.\n",
      "\n",
      "\n",
      "[CV 5/5] END colsample_bytree=0.9, gamma=0.04, learning_rate=0.05, max_depth=2, n_estimators=2000, nthread=-1, reg_alpha=0.4, reg_lambda=0.0, silent=1, subsample=0.4;, score=0.928 total time= 2.4min\n",
      "[17:35:32] WARNING: ../src/learner.cc:576: \n",
      "Parameters: { \"silent\" } might not be used.\n",
      "\n",
      "  This could be a false alarm, with some parameters getting used by language bindings but\n",
      "  then being mistakenly passed down to XGBoost core, or some parameter actually being used\n",
      "  but getting flagged wrongly here. Please open an issue if you find any such cases.\n",
      "\n",
      "\n",
      "[CV 1/5] END colsample_bytree=0.5, gamma=0.09, learning_rate=0.04, max_depth=4, n_estimators=1600, nthread=-1, reg_alpha=0.30000000000000004, reg_lambda=0.30000000000000004, silent=1, subsample=0.7000000000000001;, score=0.931 total time= 2.5min\n",
      "[17:38:01] WARNING: ../src/learner.cc:576: \n",
      "Parameters: { \"silent\" } might not be used.\n",
      "\n",
      "  This could be a false alarm, with some parameters getting used by language bindings but\n",
      "  then being mistakenly passed down to XGBoost core, or some parameter actually being used\n",
      "  but getting flagged wrongly here. Please open an issue if you find any such cases.\n",
      "\n",
      "\n",
      "[CV 2/5] END colsample_bytree=0.5, gamma=0.09, learning_rate=0.04, max_depth=4, n_estimators=1600, nthread=-1, reg_alpha=0.30000000000000004, reg_lambda=0.30000000000000004, silent=1, subsample=0.7000000000000001;, score=0.931 total time= 2.5min\n",
      "[17:40:30] WARNING: ../src/learner.cc:576: \n",
      "Parameters: { \"silent\" } might not be used.\n",
      "\n",
      "  This could be a false alarm, with some parameters getting used by language bindings but\n",
      "  then being mistakenly passed down to XGBoost core, or some parameter actually being used\n",
      "  but getting flagged wrongly here. Please open an issue if you find any such cases.\n",
      "\n",
      "\n",
      "[CV 3/5] END colsample_bytree=0.5, gamma=0.09, learning_rate=0.04, max_depth=4, n_estimators=1600, nthread=-1, reg_alpha=0.30000000000000004, reg_lambda=0.30000000000000004, silent=1, subsample=0.7000000000000001;, score=0.931 total time= 2.6min\n",
      "[17:43:04] WARNING: ../src/learner.cc:576: \n",
      "Parameters: { \"silent\" } might not be used.\n",
      "\n",
      "  This could be a false alarm, with some parameters getting used by language bindings but\n",
      "  then being mistakenly passed down to XGBoost core, or some parameter actually being used\n",
      "  but getting flagged wrongly here. Please open an issue if you find any such cases.\n",
      "\n",
      "\n",
      "[CV 4/5] END colsample_bytree=0.5, gamma=0.09, learning_rate=0.04, max_depth=4, n_estimators=1600, nthread=-1, reg_alpha=0.30000000000000004, reg_lambda=0.30000000000000004, silent=1, subsample=0.7000000000000001;, score=0.932 total time= 2.5min\n",
      "[17:45:34] WARNING: ../src/learner.cc:576: \n",
      "Parameters: { \"silent\" } might not be used.\n",
      "\n",
      "  This could be a false alarm, with some parameters getting used by language bindings but\n",
      "  then being mistakenly passed down to XGBoost core, or some parameter actually being used\n",
      "  but getting flagged wrongly here. Please open an issue if you find any such cases.\n",
      "\n",
      "\n",
      "[CV 5/5] END colsample_bytree=0.5, gamma=0.09, learning_rate=0.04, max_depth=4, n_estimators=1600, nthread=-1, reg_alpha=0.30000000000000004, reg_lambda=0.30000000000000004, silent=1, subsample=0.7000000000000001;, score=0.929 total time= 2.5min\n",
      "[17:48:03] WARNING: ../src/learner.cc:576: \n",
      "Parameters: { \"silent\" } might not be used.\n",
      "\n",
      "  This could be a false alarm, with some parameters getting used by language bindings but\n",
      "  then being mistakenly passed down to XGBoost core, or some parameter actually being used\n",
      "  but getting flagged wrongly here. Please open an issue if you find any such cases.\n",
      "\n",
      "\n",
      "[CV 1/5] END colsample_bytree=0.9, gamma=0.060000000000000005, learning_rate=0.01, max_depth=2, n_estimators=1700, nthread=-1, reg_alpha=0.6000000000000001, reg_lambda=0.4, silent=1, subsample=0.6;, score=0.930 total time= 2.3min\n",
      "[17:50:24] WARNING: ../src/learner.cc:576: \n",
      "Parameters: { \"silent\" } might not be used.\n",
      "\n",
      "  This could be a false alarm, with some parameters getting used by language bindings but\n",
      "  then being mistakenly passed down to XGBoost core, or some parameter actually being used\n",
      "  but getting flagged wrongly here. Please open an issue if you find any such cases.\n",
      "\n",
      "\n",
      "[CV 2/5] END colsample_bytree=0.9, gamma=0.060000000000000005, learning_rate=0.01, max_depth=2, n_estimators=1700, nthread=-1, reg_alpha=0.6000000000000001, reg_lambda=0.4, silent=1, subsample=0.6;, score=0.930 total time= 2.4min\n",
      "[17:52:46] WARNING: ../src/learner.cc:576: \n",
      "Parameters: { \"silent\" } might not be used.\n",
      "\n",
      "  This could be a false alarm, with some parameters getting used by language bindings but\n",
      "  then being mistakenly passed down to XGBoost core, or some parameter actually being used\n",
      "  but getting flagged wrongly here. Please open an issue if you find any such cases.\n",
      "\n",
      "\n",
      "[CV 3/5] END colsample_bytree=0.9, gamma=0.060000000000000005, learning_rate=0.01, max_depth=2, n_estimators=1700, nthread=-1, reg_alpha=0.6000000000000001, reg_lambda=0.4, silent=1, subsample=0.6;, score=0.930 total time= 2.3min\n",
      "[17:55:06] WARNING: ../src/learner.cc:576: \n",
      "Parameters: { \"silent\" } might not be used.\n",
      "\n",
      "  This could be a false alarm, with some parameters getting used by language bindings but\n",
      "  then being mistakenly passed down to XGBoost core, or some parameter actually being used\n",
      "  but getting flagged wrongly here. Please open an issue if you find any such cases.\n",
      "\n",
      "\n",
      "[CV 4/5] END colsample_bytree=0.9, gamma=0.060000000000000005, learning_rate=0.01, max_depth=2, n_estimators=1700, nthread=-1, reg_alpha=0.6000000000000001, reg_lambda=0.4, silent=1, subsample=0.6;, score=0.931 total time= 2.4min\n",
      "[17:57:29] WARNING: ../src/learner.cc:576: \n",
      "Parameters: { \"silent\" } might not be used.\n",
      "\n",
      "  This could be a false alarm, with some parameters getting used by language bindings but\n",
      "  then being mistakenly passed down to XGBoost core, or some parameter actually being used\n",
      "  but getting flagged wrongly here. Please open an issue if you find any such cases.\n",
      "\n",
      "\n",
      "[CV 5/5] END colsample_bytree=0.9, gamma=0.060000000000000005, learning_rate=0.01, max_depth=2, n_estimators=1700, nthread=-1, reg_alpha=0.6000000000000001, reg_lambda=0.4, silent=1, subsample=0.6;, score=0.928 total time= 2.3min\n",
      "[17:59:47] WARNING: ../src/learner.cc:576: \n",
      "Parameters: { \"silent\" } might not be used.\n",
      "\n",
      "  This could be a false alarm, with some parameters getting used by language bindings but\n",
      "  then being mistakenly passed down to XGBoost core, or some parameter actually being used\n",
      "  but getting flagged wrongly here. Please open an issue if you find any such cases.\n",
      "\n",
      "\n",
      "[CV 1/5] END colsample_bytree=0.1, gamma=0.08, learning_rate=0.060000000000000005, max_depth=3, n_estimators=1500, nthread=-1, reg_alpha=0.7000000000000001, reg_lambda=0.2, silent=1, subsample=0.6;, score=0.929 total time=  42.2s\n",
      "[18:00:30] WARNING: ../src/learner.cc:576: \n",
      "Parameters: { \"silent\" } might not be used.\n",
      "\n",
      "  This could be a false alarm, with some parameters getting used by language bindings but\n",
      "  then being mistakenly passed down to XGBoost core, or some parameter actually being used\n",
      "  but getting flagged wrongly here. Please open an issue if you find any such cases.\n",
      "\n",
      "\n",
      "[CV 2/5] END colsample_bytree=0.1, gamma=0.08, learning_rate=0.060000000000000005, max_depth=3, n_estimators=1500, nthread=-1, reg_alpha=0.7000000000000001, reg_lambda=0.2, silent=1, subsample=0.6;, score=0.928 total time=  41.9s\n",
      "[18:01:11] WARNING: ../src/learner.cc:576: \n",
      "Parameters: { \"silent\" } might not be used.\n",
      "\n",
      "  This could be a false alarm, with some parameters getting used by language bindings but\n",
      "  then being mistakenly passed down to XGBoost core, or some parameter actually being used\n",
      "  but getting flagged wrongly here. Please open an issue if you find any such cases.\n",
      "\n",
      "\n",
      "[CV 3/5] END colsample_bytree=0.1, gamma=0.08, learning_rate=0.060000000000000005, max_depth=3, n_estimators=1500, nthread=-1, reg_alpha=0.7000000000000001, reg_lambda=0.2, silent=1, subsample=0.6;, score=0.929 total time=  42.5s\n",
      "[18:01:54] WARNING: ../src/learner.cc:576: \n",
      "Parameters: { \"silent\" } might not be used.\n",
      "\n",
      "  This could be a false alarm, with some parameters getting used by language bindings but\n",
      "  then being mistakenly passed down to XGBoost core, or some parameter actually being used\n",
      "  but getting flagged wrongly here. Please open an issue if you find any such cases.\n",
      "\n",
      "\n",
      "[CV 4/5] END colsample_bytree=0.1, gamma=0.08, learning_rate=0.060000000000000005, max_depth=3, n_estimators=1500, nthread=-1, reg_alpha=0.7000000000000001, reg_lambda=0.2, silent=1, subsample=0.6;, score=0.930 total time=  42.6s\n",
      "[18:02:37] WARNING: ../src/learner.cc:576: \n",
      "Parameters: { \"silent\" } might not be used.\n",
      "\n",
      "  This could be a false alarm, with some parameters getting used by language bindings but\n",
      "  then being mistakenly passed down to XGBoost core, or some parameter actually being used\n",
      "  but getting flagged wrongly here. Please open an issue if you find any such cases.\n",
      "\n",
      "\n",
      "[CV 5/5] END colsample_bytree=0.1, gamma=0.08, learning_rate=0.060000000000000005, max_depth=3, n_estimators=1500, nthread=-1, reg_alpha=0.7000000000000001, reg_lambda=0.2, silent=1, subsample=0.6;, score=0.927 total time=  43.2s\n",
      "[18:03:20] WARNING: ../src/learner.cc:576: \n",
      "Parameters: { \"silent\" } might not be used.\n",
      "\n",
      "  This could be a false alarm, with some parameters getting used by language bindings but\n",
      "  then being mistakenly passed down to XGBoost core, or some parameter actually being used\n",
      "  but getting flagged wrongly here. Please open an issue if you find any such cases.\n",
      "\n",
      "\n"
     ]
    },
    {
     "data": {
      "text/plain": [
       "'\\n[CV 1/5] END colsample_bytree=0.30000000000000004, gamma=0.04, learning_rate=0.03, max_depth=2, n_estimators=1700, nthread=-1, reg_alpha=0.9, reg_lambda=0.9, silent=1, subsample=0.1;, score=0.927 total time= 3.5min\\n[23:50:18] WARNING: ../src/learner.cc:576: \\nParameters: { \"silent\" } might not be used.\\n\\n  This could be a false alarm, with some parameters getting used by language bindings but\\n  then being mistakenly passed down to XGBoost core, or some parameter actually being used\\n  but getting flagged wrongly here. Please open an issue if you find any such cases.\\n'"
      ]
     },
     "execution_count": 92,
     "metadata": {},
     "output_type": "execute_result"
    }
   ],
   "source": [
    "from sklearn.model_selection import RandomizedSearchCV\n",
    "#import xgb\n",
    "#xgb.set_config(verbosity=0)\n",
    "\n",
    "regressor = XGBRegressor()\n",
    "\n",
    "param_grid = {\n",
    "    \"colsample_bytree\" : np.arange(0.1,1,0.1),\n",
    "    \"gamma\" : np.arange(0.01,0.1,0.01),\n",
    "    \"learning_rate\" : np.arange(0.01,0.1,0.01),\n",
    "    \"max_depth\" : np.arange(2,10),\n",
    "    \"n_estimators\" : np.arange(1500,2500,100),\n",
    "    \"reg_alpha\" : np.arange(0,1,0.1),\n",
    "    \"reg_lambda\" : np.arange(0,1,0.1),\n",
    "    \"subsample\" : np.arange(0.1,1,0.1),\n",
    "    \"silent\" : [1],\n",
    "    \"nthread\" : [-1],\n",
    "    }\n",
    "\n",
    "model = RandomizedSearchCV(\n",
    "    estimator= regressor,\n",
    "    param_distributions= param_grid,\n",
    "    n_iter=20,\n",
    "    scoring = 'r2',\n",
    "    verbose= 3,\n",
    "    n_jobs=1,\n",
    "    cv = 5\n",
    ")\n",
    "\n",
    "model.fit(X,y)  \n",
    "\n",
    "#I disabled above 'fit' line because the run went on forever without giving any result, rather\n",
    "#.  just constantly giving messages such as follows :\n",
    "\"\"\"\n",
    "[CV 1/5] END colsample_bytree=0.30000000000000004, gamma=0.04, learning_rate=0.03, max_depth=2, n_estimators=1700, nthread=-1, reg_alpha=0.9, reg_lambda=0.9, silent=1, subsample=0.1;, score=0.927 total time= 3.5min\n",
    "[23:50:18] WARNING: ../src/learner.cc:576: \n",
    "Parameters: { \"silent\" } might not be used.\n",
    "\n",
    "  This could be a false alarm, with some parameters getting used by language bindings but\n",
    "  then being mistakenly passed down to XGBoost core, or some parameter actually being used\n",
    "  but getting flagged wrongly here. Please open an issue if you find any such cases.\n",
    "\"\"\""
   ]
  },
  {
   "cell_type": "code",
   "execution_count": 93,
   "id": "0a27c657-55c4-4b54-a546-274b9b174e25",
   "metadata": {},
   "outputs": [
    {
     "data": {
      "text/plain": [
       "0.9327991639026697"
      ]
     },
     "execution_count": 93,
     "metadata": {},
     "output_type": "execute_result"
    }
   ],
   "source": [
    "model.best_score_"
   ]
  },
  {
   "cell_type": "markdown",
   "id": "5154bd93-e698-4997-8f2a-46ed375f1a01",
   "metadata": {},
   "source": [
    "Output – 0.9327     <font color=\"magenta\">###### (kp: This is the copied output)</font>\n",
    "\n",
    "The hyperparameter tuning has given a slight increase in the model’s score. So we go with this tuned model. Now, let’s save the model-"
   ]
  },
  {
   "cell_type": "code",
   "execution_count": 96,
   "id": "0de0288a-761b-4fc1-ab90-04745c6514bb",
   "metadata": {},
   "outputs": [
    {
     "name": "stdout",
     "output_type": "stream",
     "text": [
      "/Users/kpadhikari/GitStuff/KPAdhikari/PythonStuff/IPython_Jupyter_Notebooks/ML_Stuff\n"
     ]
    }
   ],
   "source": [
    "!pwd"
   ]
  },
  {
   "cell_type": "code",
   "execution_count": 98,
   "id": "6380d577-4706-4511-a419-d2d108572292",
   "metadata": {},
   "outputs": [],
   "source": [
    "import pickle\n",
    "filename = 'bunrout_model_xgb.pkl'\n",
    "\n",
    "pickle.dump(model, open(filename, 'wb'))"
   ]
  },
  {
   "cell_type": "code",
   "execution_count": 99,
   "id": "a0f552bf-8e32-406c-89d3-f30cd8037ab3",
   "metadata": {},
   "outputs": [
    {
     "name": "stdout",
     "output_type": "stream",
     "text": [
      "total 25184\n",
      "-rw-r--r--  1 kpadhikari  staff   192K Feb  6 00:02 CapstoneProjectOnDSandML_EdX_IBM_DS0720EN.ipynb\n",
      "-rw-r--r--  1 kpadhikari  staff   192K Feb  6 03:27 Capstone_Project_On_Data_Science_&_Machine_Learning_EdX_IBM_DS0720EN_fv2.ipynb\n",
      "-rw-r--r--  1 kpadhikari  staff   191K Feb  6 03:28 Capstone_Project_On_Data_Science_&_Machine_Learning_EdX_IBM_DS0720EN_fv3.ipynb\n",
      "drwxr-xr-x  8 kpadhikari  staff   256B Feb 27 00:33 \u001b[1m\u001b[34mImages\u001b[m\u001b[m\n",
      "-rw-r--r--  1 kpadhikari  staff   620K Feb 27 22:18 IntroToLifecycleOfDataScienceProject.ipynb\n",
      "-rw-r--r--  1 kpadhikari  staff   226K Dec 29 01:34 Machine_Learning_Tid_Bits_1.ipynb\n",
      "-rw-r--r--  1 kpadhikari  staff   9.9M Feb 27 22:19 bunrout_model_xgb.pkl\n",
      "drwxr-xr-x  6 kpadhikari  staff   192B Feb 24 13:43 \u001b[1m\u001b[34mdata\u001b[m\u001b[m\n",
      "drwxr-xr-x  3 kpadhikari  staff    96B Feb 27 01:50 \u001b[1m\u001b[34mdownloadedNotebook\u001b[m\u001b[m\n"
     ]
    }
   ],
   "source": [
    "!ls -lh"
   ]
  },
  {
   "cell_type": "markdown",
   "id": "d4ca477c-7c62-4454-bf88-e7b7d758734a",
   "metadata": {},
   "source": [
    "It’s time for model deployment!\n",
    "\n",
    "Complete [code](https://github.com/YashK07/Burnout-Rate-Prediction-Heroku/blob/main/Burn_out_rate_Model_Building.ipynb) for the previous stages of the project.\n",
    "\n",
    "## Model Deployment using Heroku\n",
    "\n",
    "Now our aim is to build a web app that takes input information from the user and gives the prediction of Burn Rate for the user. To build it, we’ll use Flask, an API of Python that allows us to build up applications. After building the app, we’ll deploy it on Heroku.\n",
    "\n",
    "**Note** – Other platforms where we can deploy the ML models are – Amazon AWS, Microsoft Azure, Google Cloud, etc.\n",
    "\n",
    "The input information that we would collect from the user will be the features on which our Burn Rate predictive model has been trained –\n",
    "\n",
    "* Designation of work of the user in the company in the range – [0 – 5]: 5 is the highest designation and 0 is the lowest.\n",
    "* The number of working hours\n",
    "* Mental Fatigue Score in the range – [0-10]: How much fatigue/tired does the user usually feels during working hours.\n",
    "* Gender: Male/Female\n",
    "* Type of the company: Service/Product\n",
    "* Do you work from home: Yes/No\n",
    "\n",
    "### Building app on Flask\n",
    "\n",
    "Create a .py file for the app.\n",
    "\n",
    "Import all the important libraries –\n",
    "\n"
   ]
  },
  {
   "cell_type": "code",
   "execution_count": null,
   "id": "ecc10058-01f3-4013-a9cf-687b126e1b02",
   "metadata": {},
   "outputs": [],
   "source": [
    "from flask import Flask,render_template\n",
    "import os\n",
    "from flask import request\n",
    "import pickle\n",
    "import pandas as pd\n",
    "import numpy as np\n",
    "from xgboost import XGBRegressor"
   ]
  },
  {
   "cell_type": "markdown",
   "id": "5708f841-4817-45f9-8bb9-bf2c2d7c9a86",
   "metadata": {},
   "source": [
    "Initiate the Flask app and load the save model –"
   ]
  },
  {
   "cell_type": "code",
   "execution_count": null,
   "id": "85879f40-8647-40f9-a6bd-5308b42eec04",
   "metadata": {},
   "outputs": [],
   "source": [
    "app = Flask(__name__) #Initialize the flask app\n",
    "model = pickle.load(open(\"model\\bunrout_model_xgb.pkl\", 'rb'))"
   ]
  },
  {
   "cell_type": "markdown",
   "id": "cc9c3c33-1eb8-42a6-95ca-7894813486c1",
   "metadata": {},
   "source": [
    "Do the app routing for the home function that will render HTML page –\n"
   ]
  },
  {
   "cell_type": "code",
   "execution_count": null,
   "id": "aeef657b-e323-47b2-9282-eff26dc09652",
   "metadata": {},
   "outputs": [],
   "source": [
    "@app.route('/')\n",
    "def home():\n",
    "    return render_template('index.html')"
   ]
  },
  {
   "cell_type": "markdown",
   "id": "6fa64304-0038-4201-9eba-29118e4ba560",
   "metadata": {},
   "source": [
    "Create a function 'predict' that will be the most important backend work i.e to give back predictions based on the user input -\n"
   ]
  },
  {
   "cell_type": "code",
   "execution_count": null,
   "id": "fc32f2e5-7e7e-4a59-9ef7-11c6e4c98789",
   "metadata": {},
   "outputs": [],
   "source": [
    "@app.route('/predict',methods=['POST'])\n",
    "def predict():\n",
    "    if(request.method==\"POST\"):\n",
    "        int_feat = ['Designation', 'Resource Allocation', 'Mental Fatigue Score', 'Gender', 'Company Type', 'WFH Setup Available']\n",
    "        l = []\n",
    "        for i in int_feat:\n",
    "            val = int(request.form[i])\n",
    "            l.append(val)\n",
    "        #convert into array of shape -> (1,6)\n",
    "    feat_arr = np.array(l).reshape(-1,1).reshape(1,6)\n",
    "    input = pd.DataFrame(feat_arr,columns = ['Designation', 'Resource Allocation', 'Mental Fatigue Score', 'Gender_Female', 'Company Type_Service', 'WFH Setup Available_Yes'])\n",
    "    prediction = float(model.predict(input)[0])\n",
    "    prediction = round(prediction, 2)\n",
    "    stat = 0\n",
    "    #top 25 percentile\n",
    "    if(prediction<=0.3):\n",
    "        feedback1 = \"Fantastic! You have a low burnout of {} .\".format(prediction)\n",
    "        return render_template(\"index_1.html\",color = \"color:#33CC00;\",feedback = feedback1)\n",
    "    #top 25 percentile to 75 percentile\n",
    "    elif((prediction>0.3) & (prediction<=0.59)):\n",
    "        feedback2 = \"Not bad...You have a moderate burnout of {} .\".format(prediction)\n",
    "        return render_template(\"index_1.html\",color = \"color:#339900;\",feedback = feedback2)\n",
    "    #top 75 percentile to 90 percentile\n",
    "    elif((prediction>0.59) & (prediction<=0.80)):\n",
    "        feedback3 = \"Oops!! You have a high burnout of {} .\".format(prediction)\n",
    "        return render_template(\"index_1.html\",color = \"color:#FF0000;\",feedback = feedback3)\n",
    "    #top 90 percentile to 99 percentile\n",
    "    elif((prediction>0.8) & (prediction<=0.9)):\n",
    "        feedback4 = \"Ouch!!! You have a very high burnout of {} .\".format(prediction)\n",
    "        return render_template(\"index_1.html\",color =\"color:#CC0000;\",feedback = feedback4)\n",
    "    #top 99 percentile\n",
    "    else:\n",
    "        feedback5 = \"Sorry! You have an extremly high burnout of {} .\".format(prediction)\n",
    "        return render_template(\"index_1.html\",color =\"color:#990000;\",feedback = feedback5)"
   ]
  },
  {
   "cell_type": "markdown",
   "id": "19afd6bd-1699-48d2-8489-79aa960eed14",
   "metadata": {},
   "source": [
    "You can display some messages along with the prediction as in the above code to describe the degree of their burnout rate.\n",
    "\n",
    "Let’s define the main function –"
   ]
  },
  {
   "cell_type": "code",
   "execution_count": null,
   "id": "e77bb7e4-c47c-4cf4-b6b9-aa883a750180",
   "metadata": {},
   "outputs": [],
   "source": [
    "if __name__ == \"__main__\":\n",
    "    app.run('debug'==True)"
   ]
  },
  {
   "cell_type": "markdown",
   "id": "0a54ebd6-94d9-460f-aab3-4d3633321851",
   "metadata": {},
   "source": [
    "Your Flask app is ready! Go through [index.html](https://github.com/YashK07/Burnout-Rate-Prediction-Heroku/blob/main/templates/index_1.html) for the frontend part of the web app.\n",
    "\n",
    "Note – Create the index.html and save it in a directory called – templates.\n",
    "\n",
    "### Deploying app on Heroku\n",
    "\n",
    "Deployment on Heroku requires a reuirement.txt file. The requirements for this project  –\n",
    "\n",
    "    Flask==1.1.1\n",
    "    pandas==1.0.1\n",
    "    numpy==1.18.1\n",
    "    xgboost==0.90\n",
    "    gunicorn==20.1.0\n",
    "    scikit-learn>=0.18\n",
    "    \n",
    "Now create a Procfile which is a text file without a .txt extension. It defines the commands that are implemented by the app on startup. Procfile for this project –"
   ]
  },
  {
   "cell_type": "markdown",
   "id": "398b850d-c72a-4bec-883a-6bcdc1910a4c",
   "metadata": {},
   "source": [
    "    web: gunicorn app:app\n",
    "    \n",
    "Now push the project into your Github and connect the repo to Heroku for deployment –"
   ]
  },
  {
   "cell_type": "markdown",
   "id": "c1fe362e-b6c0-483f-9ab3-6db217723849",
   "metadata": {},
   "source": [
    "![Heroku deployment](./Images/heroku_21534deploy.jpeg)\n",
    "Deploying the Github repo of the project on Heroku\n",
    "\n",
    "Congratulations! We have successfully created and deployed our web application ✌️\n",
    "\n",
    "![Heroku app](./Images/heroku-api_app_burnout-rate-prediction.png)\n",
    "Burnout Rate Prediction web app\n",
    "\n",
    "Link of the web app: https://burnout-rate-prediction-api.herokuapp.com\n",
    "\n",
    "It can be accessed from anywhere and be used to keep a check on the mental health of the employees."
   ]
  },
  {
   "cell_type": "markdown",
   "id": "d0fd978d-4de3-4f77-abdb-593bc39d7049",
   "metadata": {},
   "source": [
    "### Improvisation\n",
    "\n",
    "After the deployment, improvising the lifecycle stages of the project for delivering the best solution is yet another important stage.\n",
    "\n",
    "So we have come to the end of the guide. From understanding the problem statement to delivering an end-to-end solution, we have all covered this in a single blog!\n",
    "\n",
    "Do check the whole project code from – https://github.com/YashK07/Burnout-Rate-Prediction-Heroku. Please do start it 🌟 if you feel the app is worth it. Happy Learning !!\n",
    "\n",
    "## About the author\n",
    "I am Yash Khandelwal, a 3rd-year undergrad at Birla Institute of Technology, Mesra. Have a look at my other Machine Learning & Deep Learning [blogs](https://docs.google.com/document/d/16mT9iHdc06CR-9CAMGvCngmOv07hC9CM9Sl5oYfwcKs/edit?usp=sharing). Feedbacks are most welcomed 😁\n",
    "\n",
    "I am looking forward to covering – end-to-end Deep Learning, sports analytics, and computer vision applications in my next blogs.\n",
    "\n",
    "**Connect with me –**\n",
    "\n",
    "Linkedin – https://www.linkedin.com/in/yash-khandelwal-a40484bb/\n",
    "\n",
    "Github – https://github.com/YashK07\n",
    "\n",
    "The media shown in this article are not owned by Analytics Vidhya and are used at the Author’s discretion."
   ]
  },
  {
   "cell_type": "code",
   "execution_count": null,
   "id": "c778d73f-2276-43ac-8527-399c909f5a87",
   "metadata": {},
   "outputs": [],
   "source": []
  }
 ],
 "metadata": {
  "kernelspec": {
   "display_name": "Python 3 (ipykernel)",
   "language": "python",
   "name": "python3"
  },
  "language_info": {
   "codemirror_mode": {
    "name": "ipython",
    "version": 3
   },
   "file_extension": ".py",
   "mimetype": "text/x-python",
   "name": "python",
   "nbconvert_exporter": "python",
   "pygments_lexer": "ipython3",
   "version": "3.9.7"
  }
 },
 "nbformat": 4,
 "nbformat_minor": 5
}
