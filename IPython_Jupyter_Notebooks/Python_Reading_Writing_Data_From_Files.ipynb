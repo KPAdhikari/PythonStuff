{
 "cells": [
  {
   "cell_type": "markdown",
   "metadata": {},
   "source": [
    "<a id='GoTop'></a>\n",
    "# Contents \n",
    "* [File Operations using Python’s File Object](#FileOperationsUsingFileObject)\n",
    "* [JSON encoding and decoding with Python](#JSONencodingAndDecodingWithPython)\n",
    "* [Reading And Processing Excel Data With Pandas](#ReadingAndProcessingExcelDataWithPandas)"
   ]
  },
  {
   "cell_type": "markdown",
   "metadata": {},
   "source": [
    "# Python — Reading and Writing data from Files\n",
    "Exploring how to read the data from different files like csv, excel, JSON, html and xml.\n",
    "\n",
    "We will first start with Python’s built-in file object and then dive deeper into how to read different types of files using pandas library\n",
    "\n",
    "References:\n",
    "* https://medium.com/datadriveninvestor/python-reading-and-writing-data-from-files-d3b70441416e Written by Renu Khandelwal (Loves learning, sharing and discovering myself. Retail SME and passionate about Machine Learning)\n",
    "* "
   ]
  },
  {
   "cell_type": "markdown",
   "metadata": {},
   "source": [
    "[GoTop](#GoTop) <a id='FileOperationsUsingFileObject'></a>\n",
    "## File Operations using Python’s File Object\n",
    "We will use a file object to which we will pass two arguments — filename and the mode (read, write, append etc) in which we want to operate on the file.\n",
    "\n",
    "    open(Filename,Mode)\n",
    "\n",
    "Different modes are\n",
    "* r : file will be opened in read only mode. This is the default mode\n",
    "* w : file will be opened in write only mode.  If the file does not exists then it will create one and if a file is opened in “w” mode and a file already exists then the existing files content will be overwritten.\n",
    "* a : file will be opened in append mode and the data will be written at the end of the file\n",
    "* r+ : file will be opened in read and write mode\n",
    "\n",
    "Always make sure to close the file after the reading or writing is done.\n",
    "\n",
    "### File Types — Text and Binary\n",
    "\n",
    "Files are opened in text mode by default that allows you to read and write data as strings of text.\n",
    "\n",
    "If you want to open the file in the binary mode then append “b” to the mode.\n",
    "\n",
    "### Opening file in write only mode"
   ]
  },
  {
   "cell_type": "code",
   "execution_count": 41,
   "metadata": {},
   "outputs": [
    {
     "name": "stdout",
     "output_type": "stream",
     "text": [
      "Just opened and wrote 'This is a test file created by open() method (in 'w' mode) of 'file' object.\n",
      " to the 'file_1.txt' file.\n"
     ]
    }
   ],
   "source": [
    "filename = 'file_1.txt'\n",
    "file = open(filename, \"w\") #Creates new one if the file doesn't exist already\n",
    "text2write = \"This is a test file created by open() method (in 'w' mode) of 'file' object.\\n\"\n",
    "file.write(text2write)\n",
    "print(\"Just opened and wrote '\" + text2write + \" to the '\" + filename + \"' file.\")\n",
    "file.close()"
   ]
  },
  {
   "cell_type": "markdown",
   "metadata": {},
   "source": [
    "Now that we have written the data, we will read the contents of the file\n",
    "\n",
    "### Reading the file in read only mode\n",
    "\n",
    "**readline()** reads a single line from the file"
   ]
  },
  {
   "cell_type": "code",
   "execution_count": 42,
   "metadata": {},
   "outputs": [
    {
     "name": "stdout",
     "output_type": "stream",
     "text": [
      "This is a test file created by open() method (in 'w' mode) of 'file' object.\n",
      "\n"
     ]
    }
   ],
   "source": [
    "file = open(\"file_1.txt\", \"r\")\n",
    "str1 = file.readline()\n",
    "print(str1)\n",
    "file.close()"
   ]
  },
  {
   "cell_type": "markdown",
   "metadata": {},
   "source": [
    "### Writing to the file in append mode"
   ]
  },
  {
   "cell_type": "code",
   "execution_count": 43,
   "metadata": {},
   "outputs": [],
   "source": [
    "file = open(\"file_1.txt\", \"a\")\n",
    "file.write(\"This should be written at the end of the file\\n\")\n",
    "file.close()"
   ]
  },
  {
   "cell_type": "markdown",
   "metadata": {},
   "source": [
    "### Opening the file in “r+” mode and reading all its content\n",
    "kp: **readlines()** seems to read all lines from the file and return an array of strings, with each element of the array containing a line of the file."
   ]
  },
  {
   "cell_type": "code",
   "execution_count": 44,
   "metadata": {},
   "outputs": [
    {
     "name": "stdout",
     "output_type": "stream",
     "text": [
      "This is a test file created by open() method (in 'w' mode) of 'file' object.\n",
      "\n",
      "This should be written at the end of the file\n",
      "\n"
     ]
    }
   ],
   "source": [
    "file = open(\"file_1.txt\", \"r+\")\n",
    "for str1 in file.readlines():\n",
    "    print(str1)\n",
    "file.close()"
   ]
  },
  {
   "cell_type": "markdown",
   "metadata": {},
   "source": [
    "### Reading the file with 'with statement'\n",
    "\n",
    "**With is a cleaner way** to work with file objects as **it does exception handling**. With statement **does automatic opening and closing of files so that you do not need to remember to close the file**."
   ]
  },
  {
   "cell_type": "code",
   "execution_count": 45,
   "metadata": {},
   "outputs": [
    {
     "name": "stdout",
     "output_type": "stream",
     "text": [
      "[\"This is a test file created by open() method (in 'w' mode) of 'file' object.\\n\", 'This should be written at the end of the file\\n']\n"
     ]
    }
   ],
   "source": [
    "with open(\"file_1.txt\") as file:\n",
    "    print(file.readlines())"
   ]
  },
  {
   "cell_type": "markdown",
   "metadata": {},
   "source": [
    "**We can also write the data to a file using with statement.** Since we have used “w” mode the existing files content will be overwritten"
   ]
  },
  {
   "cell_type": "code",
   "execution_count": 46,
   "metadata": {},
   "outputs": [
    {
     "name": "stdout",
     "output_type": "stream",
     "text": [
      "[\"This is a test file created by open() method (in 'w' mode) of 'file' object.\\n\", 'This should be written at the end of the file\\n', 'This line was appended using a with statement.\\n']\n"
     ]
    }
   ],
   "source": [
    "#with open(\"file_1.txt\", \"w\") as file:\n",
    "with open(\"file_1.txt\", \"a\") as file:\n",
    "    file.write(\"This line was appended using a with statement.\\n\")\n",
    "    \n",
    "with open(\"file_1.txt\", \"r\") as file:    \n",
    "    print(file.readlines())"
   ]
  },
  {
   "cell_type": "markdown",
   "metadata": {},
   "source": [
    "## We will now use pandas library to read a comma separated value(csv) file\n",
    "## Some notes about Dictionary\n",
    "References: https://www.geeksforgeeks.org/add-a-keyvalue-pair-to-dictionary-in-python/, https://www.geeksforgeeks.org/python-dictionary/\n",
    "\n",
    "(\n",
    "\n",
    "kp: [**Dictionary**](https://www.geeksforgeeks.org/python-dictionary/) is a data structure consisting of **key-value** pairs. In a Python dictionary, each key-value pair is separated by a colon ':', whereas each key is separated by a 'comma'.\n",
    "In Python, a Dictionary can be created by placing sequence of elements within curly {} braces, separated by ‘comma’. Dictionary holds a pair of values, one being the Key and the other corresponding pair element being its Key:value. Values in a dictionary can be of any datatype and can be duplicated, whereas keys can’t be repeated and must be immutable.\n",
    "\n",
    "Dictionary can also be created by the built-in function dict(). An empty dictionary can be created by just placing to curly braces{}.\n",
    "\n",
    "**Note** – Dictionary keys are case sensitive, same name but different cases of Key will be treated distinctly.\n",
    "\n",
    "A Dictionary in Python works similar to the Dictionary in a real world. Keys of a Dictionary must be unique and of immutable data type such as Strings, Integers and tuples, but the key-values can be repeated and be of any type.\n",
    "\n",
    "**Note** – Keys in a dictionary doesn’t allows Polymorphism.\n",
    "\n",
    ")\n"
   ]
  },
  {
   "cell_type": "code",
   "execution_count": 47,
   "metadata": {},
   "outputs": [
    {
     "name": "stdout",
     "output_type": "stream",
     "text": [
      "Empty Dictionary: \n",
      "{}\n",
      "\n",
      "Dictionary with the use of Integer Keys: \n",
      "{1: 'Geeks', 2: 'For', 3: 'Geeks'}\n",
      "\n",
      "Dictionary with the use of Mixed Keys: \n",
      "{'Name': 'Geeks', 1: [1, 2, 3, 4]}\n",
      "\n",
      "Dictionary with the use of dict(): \n",
      "{1: 'Geeks', 2: 'For', 3: 'Geeks'}\n",
      "\n",
      "Dictionary with each item as a pair: \n",
      "{1: 'Geeks', 2: 'For'}\n"
     ]
    }
   ],
   "source": [
    "# Creating an empty Dictionary \n",
    "Dict = {} \n",
    "print(\"Empty Dictionary: \") \n",
    "print(Dict) \n",
    "  \n",
    "# Creating a Dictionary  \n",
    "# with Integer Keys \n",
    "Dict = {1: 'Geeks', 2: 'For', 3: 'Geeks'} \n",
    "print(\"\\nDictionary with the use of Integer Keys: \") \n",
    "print(Dict) \n",
    "  \n",
    "# Creating a Dictionary  \n",
    "# with Mixed keys \n",
    "Dict = {'Name': 'Geeks', 1: [1, 2, 3, 4]} \n",
    "print(\"\\nDictionary with the use of Mixed Keys: \") \n",
    "print(Dict) \n",
    "  \n",
    "# Creating a Dictionary \n",
    "# with dict() method \n",
    "Dict = dict({1: 'Geeks', 2: 'For', 3:'Geeks'}) \n",
    "print(\"\\nDictionary with the use of dict() method: \") \n",
    "print(Dict) \n",
    "  \n",
    "# Creating a Dictionary \n",
    "# with each item as a Pair \n",
    "Dict = dict([(1, 'Geeks'), (2, 'For')]) \n",
    "print(\"\\nDictionary with each item as a pair: \") \n",
    "print(Dict) "
   ]
  },
  {
   "cell_type": "markdown",
   "metadata": {},
   "source": [
    "## Writing to a csv file and reading from a csv file\n",
    "\n",
    "We will first create some data in a dictionary called data.\n"
   ]
  },
  {
   "cell_type": "code",
   "execution_count": 48,
   "metadata": {},
   "outputs": [
    {
     "data": {
      "text/plain": [
       "{'Name': ['Jack', 'Jill', 'Em', 'David'],\n",
       " 'Profession': ['Manager', 'Analyst', 'Data scientist', 'VP'],\n",
       " 'Experience': [10, 5, 2, 20],\n",
       " 'Education': ['MBA', 'BS', 'MS', 'MBA']}"
      ]
     },
     "execution_count": 48,
     "metadata": {},
     "output_type": "execute_result"
    }
   ],
   "source": [
    "data ={\"Name\":['Jack', 'Jill', 'Em', 'David'],\n",
    "           \"Profession\":['Manager', 'Analyst', 'Data scientist', 'VP'],\n",
    "           \"Experience\":[10,5,2,20],\n",
    "           \"Education\":['MBA', 'BS', 'MS','MBA']}\n",
    "data"
   ]
  },
  {
   "cell_type": "markdown",
   "metadata": {},
   "source": [
    "We will create a dataframe “df” from the dictionary and then write the data from dataframe to a csv file — “emp.csv”.\n",
    "\n",
    "For creating a dataframe we need to import pandas library first."
   ]
  },
  {
   "cell_type": "code",
   "execution_count": 52,
   "metadata": {},
   "outputs": [
    {
     "name": "stdout",
     "output_type": "stream",
     "text": [
      "/Users/kpadhikari/Desktop/BigFls/CLAS12/GitProj/KPAdhikari/PythonStuff/IPython_Jupyter_Notebooks\r\n"
     ]
    }
   ],
   "source": [
    "import pandas as pd\n",
    "df = pd.DataFrame(data)\n",
    "df.to_csv(\"pandas_employees.csv\")\n",
    "!pwd"
   ]
  },
  {
   "cell_type": "markdown",
   "metadata": {},
   "source": [
    "The csv file will be created in your default Jupyter directory. To know the default directory, use **!pwd** which prints working directory and you can find the new file “pandas_employees.csv”.\n",
    "\n",
    "kp: When I checked the file, I saw the following in it:\n",
    "```\n",
    ",Name,Profession,Experience,Education\n",
    "0,Jack,Manager,10,MBA\n",
    "1,Jill,Analyst,5,BS\n",
    "2,Em,Data scientist,2,MS\n",
    "3,David,VP,20,MBA\n",
    "```\n",
    "Now that we have written the data to a csv file, let’s read the data from csv file."
   ]
  },
  {
   "cell_type": "code",
   "execution_count": 54,
   "metadata": {},
   "outputs": [
    {
     "data": {
      "text/html": [
       "<div>\n",
       "<style scoped>\n",
       "    .dataframe tbody tr th:only-of-type {\n",
       "        vertical-align: middle;\n",
       "    }\n",
       "\n",
       "    .dataframe tbody tr th {\n",
       "        vertical-align: top;\n",
       "    }\n",
       "\n",
       "    .dataframe thead th {\n",
       "        text-align: right;\n",
       "    }\n",
       "</style>\n",
       "<table border=\"1\" class=\"dataframe\">\n",
       "  <thead>\n",
       "    <tr style=\"text-align: right;\">\n",
       "      <th></th>\n",
       "      <th>Unnamed: 0</th>\n",
       "      <th>Name</th>\n",
       "      <th>Profession</th>\n",
       "      <th>Experience</th>\n",
       "      <th>Education</th>\n",
       "    </tr>\n",
       "  </thead>\n",
       "  <tbody>\n",
       "    <tr>\n",
       "      <th>0</th>\n",
       "      <td>0</td>\n",
       "      <td>Jack</td>\n",
       "      <td>Manager</td>\n",
       "      <td>10</td>\n",
       "      <td>MBA</td>\n",
       "    </tr>\n",
       "    <tr>\n",
       "      <th>1</th>\n",
       "      <td>1</td>\n",
       "      <td>Jill</td>\n",
       "      <td>Analyst</td>\n",
       "      <td>5</td>\n",
       "      <td>BS</td>\n",
       "    </tr>\n",
       "    <tr>\n",
       "      <th>2</th>\n",
       "      <td>2</td>\n",
       "      <td>Em</td>\n",
       "      <td>Data scientist</td>\n",
       "      <td>2</td>\n",
       "      <td>MS</td>\n",
       "    </tr>\n",
       "    <tr>\n",
       "      <th>3</th>\n",
       "      <td>3</td>\n",
       "      <td>David</td>\n",
       "      <td>VP</td>\n",
       "      <td>20</td>\n",
       "      <td>MBA</td>\n",
       "    </tr>\n",
       "  </tbody>\n",
       "</table>\n",
       "</div>"
      ],
      "text/plain": [
       "   Unnamed: 0   Name      Profession  Experience Education\n",
       "0           0   Jack         Manager          10       MBA\n",
       "1           1   Jill         Analyst           5        BS\n",
       "2           2     Em  Data scientist           2        MS\n",
       "3           3  David              VP          20       MBA"
      ]
     },
     "execution_count": 54,
     "metadata": {},
     "output_type": "execute_result"
    }
   ],
   "source": [
    "csv_data = pd.read_csv(\"pandas_employees.csv\")\n",
    "csv_data"
   ]
  },
  {
   "cell_type": "markdown",
   "metadata": {},
   "source": [
    "The data type for csv_data is a dataframe. so we can use all of the dataframe operations. (To know more about [dataframe](https://medium.com/@arshren/python-data-structures-dataframe-888fef6872bf) and [dictionary](https://medium.com/@arshren/python-data-structures-dictionary-9b746b94b421).)"
   ]
  },
  {
   "cell_type": "code",
   "execution_count": 55,
   "metadata": {},
   "outputs": [
    {
     "data": {
      "text/plain": [
       "pandas.core.frame.DataFrame"
      ]
     },
     "execution_count": 55,
     "metadata": {},
     "output_type": "execute_result"
    }
   ],
   "source": [
    "type(csv_data)"
   ]
  },
  {
   "cell_type": "code",
   "execution_count": 56,
   "metadata": {},
   "outputs": [
    {
     "data": {
      "text/plain": [
       "pandas.core.frame.DataFrame"
      ]
     },
     "execution_count": 56,
     "metadata": {},
     "output_type": "execute_result"
    }
   ],
   "source": [
    "type(df)"
   ]
  },
  {
   "cell_type": "markdown",
   "metadata": {},
   "source": [
    "## Writing to an excel file and reading from an excel file\n",
    "\n",
    "Here we will use the same df dataframe to write the data to an excel file in a sheet name “employee_name”"
   ]
  },
  {
   "cell_type": "code",
   "execution_count": 58,
   "metadata": {},
   "outputs": [],
   "source": [
    "df.to_excel(\"pandas_employees.xls\",sheet_name =\"employee_data\")"
   ]
  },
  {
   "cell_type": "markdown",
   "metadata": {},
   "source": [
    "Initially, above line didn't work giving me \"ImportError: No Module named xlwt\". So, I googled about it and [this](https://stackoverflow.com/questions/9848299/importerror-no-module-named-xlwt) forum guided me to do the following, after which it seemed to work.\n",
    "```\n",
    "KPAd's FunPrompt $ pip3 install xlwt\n",
    "Collecting xlwt\n",
    "  Downloading https://files.pythonhosted.org/packages/44/48/def306413b25c3d01753603b1a222a011b8621aed27cd7f89cbc27e6b0f4/xlwt-1.3.0-py2.py3-none-any.whl (99kB)\n",
    "     |████████████████████████████████| 102kB 1.3MB/s \n",
    "Installing collected packages: xlwt\n",
    "Successfully installed xlwt-1.3.0\n",
    "KPAd's FunPrompt $\n",
    "```\n",
    "Finally, it worked and it did produce above .xls file, which I was able to open with the MS-Excel that showed the following in 5 rows and 5 columns:\n",
    "```\n",
    "\tName\tProfession\t    Experience\tEducation\n",
    "0\tJack\tManager\t        10\t        MBA\n",
    "1\tJill\tAnalyst\t        5\t        BS\n",
    "2\tEm\t    Data scientist\t2\t        MS\n",
    "3\tDavid\tVP\t            20\t        MBA\n",
    "```\n",
    "But, when I tried to open it in the browser (within the notebook server) by simply clicking the file name, it open a new tab with the following message (which is okay, because, I think it can only open **txt, csv, json** files that way (means in the human readable way).):\n",
    "```\n",
    "Error! /Users/kpadhikari/Desktop/BigFls/CLAS12/GitProj/KPAdhikari/PythonStuff/IPython_Jupyter_Notebooks/pandas_employees.xls is not UTF-8 encoded\n",
    "Saving disabled.\n",
    "See Console for more details.\n",
    "```"
   ]
  },
  {
   "cell_type": "markdown",
   "metadata": {},
   "source": [
    "**Now let’s read the data from the excel file** pandas_employees.xls, with sheet name **“employee_data”** into a dataframe xls_data."
   ]
  },
  {
   "cell_type": "code",
   "execution_count": 66,
   "metadata": {},
   "outputs": [
    {
     "data": {
      "text/html": [
       "<div>\n",
       "<style scoped>\n",
       "    .dataframe tbody tr th:only-of-type {\n",
       "        vertical-align: middle;\n",
       "    }\n",
       "\n",
       "    .dataframe tbody tr th {\n",
       "        vertical-align: top;\n",
       "    }\n",
       "\n",
       "    .dataframe thead th {\n",
       "        text-align: right;\n",
       "    }\n",
       "</style>\n",
       "<table border=\"1\" class=\"dataframe\">\n",
       "  <thead>\n",
       "    <tr style=\"text-align: right;\">\n",
       "      <th></th>\n",
       "      <th>Unnamed: 0</th>\n",
       "      <th>Name</th>\n",
       "      <th>Profession</th>\n",
       "      <th>Experience</th>\n",
       "      <th>Education</th>\n",
       "    </tr>\n",
       "  </thead>\n",
       "  <tbody>\n",
       "    <tr>\n",
       "      <th>0</th>\n",
       "      <td>0</td>\n",
       "      <td>Jack</td>\n",
       "      <td>Manager</td>\n",
       "      <td>10</td>\n",
       "      <td>MBA</td>\n",
       "    </tr>\n",
       "    <tr>\n",
       "      <th>1</th>\n",
       "      <td>1</td>\n",
       "      <td>Jill</td>\n",
       "      <td>Analyst</td>\n",
       "      <td>5</td>\n",
       "      <td>BS</td>\n",
       "    </tr>\n",
       "    <tr>\n",
       "      <th>2</th>\n",
       "      <td>2</td>\n",
       "      <td>Em</td>\n",
       "      <td>Data scientist</td>\n",
       "      <td>2</td>\n",
       "      <td>MS</td>\n",
       "    </tr>\n",
       "    <tr>\n",
       "      <th>3</th>\n",
       "      <td>3</td>\n",
       "      <td>David</td>\n",
       "      <td>VP</td>\n",
       "      <td>20</td>\n",
       "      <td>MBA</td>\n",
       "    </tr>\n",
       "  </tbody>\n",
       "</table>\n",
       "</div>"
      ],
      "text/plain": [
       "   Unnamed: 0   Name      Profession  Experience Education\n",
       "0           0   Jack         Manager          10       MBA\n",
       "1           1   Jill         Analyst           5        BS\n",
       "2           2     Em  Data scientist           2        MS\n",
       "3           3  David              VP          20       MBA"
      ]
     },
     "execution_count": 66,
     "metadata": {},
     "output_type": "execute_result"
    }
   ],
   "source": [
    "#xls_data = pd.read_excel(\"pandas_employees.xls\", sheetname =\"employee_data\")\n",
    "#kp: TypeError: read_excel() got an unexpected keyword argument `sheetname`\n",
    "#\n",
    "#xls_data = pd.read_excel(\"pandas_employees.xls\")\n",
    "#kp: ImportError: Missing optional dependency 'xlrd'. Install xlrd >= 1.0.0 for Excel support Use pip or conda to install xlrd.\n",
    "#\n",
    "xls_data = pd.read_excel(\"pandas_employees.xls\", sheet_name =\"employee_data\")\n",
    "#kp: Without the \"xlrd\" installed, I kept on getting following error.\n",
    "#kp: ImportError: Missing optional dependency 'xlrd'. Install xlrd >= 1.0.0 for Excel support Use pip or conda to install xlrd.\n",
    "#\n",
    "xls_data"
   ]
  },
  {
   "cell_type": "markdown",
   "metadata": {},
   "source": [
    "I kept on getting `ImportError: Missing optional dependency 'xlrd'. Install xlrd >= 1.0.0 for Excel support Use pip or conda to install xlrd.` so, I did the following to get above code working.\n",
    "```\n",
    "KPAd's FunPrompt $ pip3 install xlrd\n",
    "Collecting xlrd\n",
    "  Downloading https://files.pythonhosted.org/packages/b0/16/63576a1a001752e34bf8ea62e367997530dc553b689356b9879339cf45a4/xlrd-1.2.0-py2.py3-none-any.whl (103kB)\n",
    "     |████████████████████████████████| 112kB 2.0MB/s \n",
    "Installing collected packages: xlrd\n",
    "Successfully installed xlrd-1.2.0\n",
    "KPAd's FunPrompt $ \n",
    "```"
   ]
  },
  {
   "cell_type": "markdown",
   "metadata": {},
   "source": [
    "## Writing data to a JSON file\n",
    "\n",
    "Here we will use the same dataframe df to write to a json file"
   ]
  },
  {
   "cell_type": "code",
   "execution_count": 69,
   "metadata": {},
   "outputs": [],
   "source": [
    "df.to_json('pandas_employees.json')"
   ]
  },
  {
   "cell_type": "markdown",
   "metadata": {},
   "source": [
    "#### Contents of the emp.json file\n",
    "\n",
    "{“Education”:{“0”:”MBA”,”1\":”BS”,”2\":”MS”,”3\":”MBA”},”Experience”:{“0”:10,”1\":5,”2\":2,”3\":20},”Name”:{“0”:”Jack”,”1\":”Jill”,”2\":”Em”,”3\":”David”},”Profession”:{“0”:”Manager”,”1\":”Analyst”,”2\":”Data scientist”,”3\":”VP”}}\n",
    "\n",
    "Now that we have written the data to a json file, let’s read the data"
   ]
  },
  {
   "cell_type": "code",
   "execution_count": 70,
   "metadata": {},
   "outputs": [
    {
     "data": {
      "text/html": [
       "<div>\n",
       "<style scoped>\n",
       "    .dataframe tbody tr th:only-of-type {\n",
       "        vertical-align: middle;\n",
       "    }\n",
       "\n",
       "    .dataframe tbody tr th {\n",
       "        vertical-align: top;\n",
       "    }\n",
       "\n",
       "    .dataframe thead th {\n",
       "        text-align: right;\n",
       "    }\n",
       "</style>\n",
       "<table border=\"1\" class=\"dataframe\">\n",
       "  <thead>\n",
       "    <tr style=\"text-align: right;\">\n",
       "      <th></th>\n",
       "      <th>Name</th>\n",
       "      <th>Profession</th>\n",
       "      <th>Experience</th>\n",
       "      <th>Education</th>\n",
       "    </tr>\n",
       "  </thead>\n",
       "  <tbody>\n",
       "    <tr>\n",
       "      <th>0</th>\n",
       "      <td>Jack</td>\n",
       "      <td>Manager</td>\n",
       "      <td>10</td>\n",
       "      <td>MBA</td>\n",
       "    </tr>\n",
       "    <tr>\n",
       "      <th>1</th>\n",
       "      <td>Jill</td>\n",
       "      <td>Analyst</td>\n",
       "      <td>5</td>\n",
       "      <td>BS</td>\n",
       "    </tr>\n",
       "    <tr>\n",
       "      <th>2</th>\n",
       "      <td>Em</td>\n",
       "      <td>Data scientist</td>\n",
       "      <td>2</td>\n",
       "      <td>MS</td>\n",
       "    </tr>\n",
       "    <tr>\n",
       "      <th>3</th>\n",
       "      <td>David</td>\n",
       "      <td>VP</td>\n",
       "      <td>20</td>\n",
       "      <td>MBA</td>\n",
       "    </tr>\n",
       "  </tbody>\n",
       "</table>\n",
       "</div>"
      ],
      "text/plain": [
       "    Name      Profession  Experience Education\n",
       "0   Jack         Manager          10       MBA\n",
       "1   Jill         Analyst           5        BS\n",
       "2     Em  Data scientist           2        MS\n",
       "3  David              VP          20       MBA"
      ]
     },
     "execution_count": 70,
     "metadata": {},
     "output_type": "execute_result"
    }
   ],
   "source": [
    "emp= pd.read_json(\"pandas_employees.json\")\n",
    "emp"
   ]
  },
  {
   "cell_type": "markdown",
   "metadata": {},
   "source": [
    "If you have a json object then we can put the contents to a List using **json.loads()** and then use all operation of a list for data manipulation.\n",
    "\n",
    "Read here for operation of a [List](https://medium.com/@arshren/python-data-structures-list-9131e7386c8d)"
   ]
  },
  {
   "cell_type": "code",
   "execution_count": 74,
   "metadata": {},
   "outputs": [
    {
     "data": {
      "text/plain": [
       "{'office': {'medical': [{'room-number': 100,\n",
       "    'use': 'reception',\n",
       "    'sq-ft': 50,\n",
       "    'price': 75},\n",
       "   {'room-number': 101, 'use': 'waiting', 'sq-ft': 250, 'price': 75},\n",
       "   {'room-number': 102, 'use': 'examination', 'sq-ft': 125, 'price': 150},\n",
       "   {'room-number': 103, 'use': 'examination', 'sq-ft': 125, 'price': 150},\n",
       "   {'room-number': 104, 'use': 'office', 'sq-ft': 150, 'price': 100}]},\n",
       " 'parking': {'location': 'premium', 'style': 'covered', 'price': 750}}"
      ]
     },
     "execution_count": 74,
     "metadata": {},
     "output_type": "execute_result"
    }
   ],
   "source": [
    "import json\n",
    "\n",
    "area_json =\"\"\"\n",
    "{ \"office\": \n",
    "    {\"medical\": [\n",
    "      { \"room-number\": 100,\n",
    "        \"use\": \"reception\",\n",
    "        \"sq-ft\": 50,\n",
    "        \"price\": 75\n",
    "      },\n",
    "      { \"room-number\": 101,\n",
    "        \"use\": \"waiting\",\n",
    "        \"sq-ft\": 250,\n",
    "        \"price\": 75\n",
    "      },\n",
    "      { \"room-number\": 102,\n",
    "        \"use\": \"examination\",\n",
    "        \"sq-ft\": 125,\n",
    "        \"price\": 150\n",
    "      },\n",
    "      { \"room-number\": 103,\n",
    "        \"use\": \"examination\",\n",
    "        \"sq-ft\": 125,\n",
    "        \"price\": 150\n",
    "      },\n",
    "      { \"room-number\": 104,\n",
    "        \"use\": \"office\",\n",
    "        \"sq-ft\": 150,\n",
    "        \"price\": 100\n",
    "      }\n",
    "    ]},\n",
    "    \n",
    "    \"parking\": {\n",
    "      \"location\": \"premium\",\n",
    "      \"style\": \"covered\",\n",
    "      \"price\": 750\n",
    "    }\n",
    "} \n",
    "\"\"\"\n",
    "home_data = json.loads(area_json)\n",
    "home_data"
   ]
  },
  {
   "cell_type": "markdown",
   "metadata": {},
   "source": [
    "**Kp Note:** Initially, I didn't have 'import json' in above code. I got that idea from [this](https://stackoverflow.com/questions/42987068/global-name-json-is-not-defined/42987108) forum, because, initially, I was getting the error: **name 'json' is not defined**, so I had to google about it. Before this site, I went to [another forum](https://stackoverflow.com/questions/41001973/python-3-5-1-nameerror-name-json-is-not-defined) which was saying the following:\n",
    "```\n",
    "You should at first install simplejson to your system to be able to import it:\n",
    "\n",
    "   sudo pip3 install simplejson\n",
    "\n",
    "Then in your code you are now able to import it:\n",
    "\n",
    "   import simplejson as json\n",
    "\n",
    "From now on you will be able to access simplejson package using json.\n",
    "```\n",
    "But, I got the feeling that json may already be a part of pandas and so I googled further about it and it seems I was right. I already had the 'json' in my thing but "
   ]
  },
  {
   "cell_type": "markdown",
   "metadata": {},
   "source": [
    "#### We can also use a python data and dump into a json object.\n",
    "\n",
    "Here we will use the data dictionary that we created earlier and dump as json data."
   ]
  },
  {
   "cell_type": "code",
   "execution_count": 76,
   "metadata": {},
   "outputs": [
    {
     "data": {
      "text/plain": [
       "'{\"Name\": [\"Jack\", \"Jill\", \"Em\", \"David\"], \"Profession\": [\"Manager\", \"Analyst\", \"Data scientist\", \"VP\"], \"Experience\": [10, 5, 2, 20], \"Education\": [\"MBA\", \"BS\", \"MS\", \"MBA\"]}'"
      ]
     },
     "execution_count": 76,
     "metadata": {},
     "output_type": "execute_result"
    }
   ],
   "source": [
    "json_data = json.dumps(data)\n",
    "json_data"
   ]
  },
  {
   "cell_type": "markdown",
   "metadata": {},
   "source": [
    "## Retrieve data from a URL\n",
    "\n",
    "we will use two libraries for retrieving data from a URL — **request and beautifulsoup**. we will also use **re** to use **regular expression**."
   ]
  },
  {
   "cell_type": "markdown",
   "metadata": {},
   "source": [
    "**kp:** Initially, I got `ModuleNotFoundError: No module named 'bs4'` error below. But, it worked once I installed 'bs4' as follows:\n",
    "```\n",
    "KPAd's FunPrompt $ pip3 install bs4\n",
    "Collecting bs4\n",
    "  Downloading https://files.pythonhosted.org/packages/10/ed/7e8b97591f6f456174139ec089c769f89a94a1a4025fe967691de971f314/bs4-0.0.1.tar.gz\n",
    "Collecting beautifulsoup4 (from bs4)\n",
    "  Downloading https://files.pythonhosted.org/packages/1a/b7/34eec2fe5a49718944e215fde81288eec1fa04638aa3fb57c1c6cd0f98c3/beautifulsoup4-4.8.0-py3-none-any.whl (97kB)\n",
    "     |████████████████████████████████| 102kB 1.9MB/s \n",
    "Collecting soupsieve>=1.2 (from beautifulsoup4->bs4)\n",
    "  Downloading https://files.pythonhosted.org/packages/0b/44/0474f2207fdd601bb25787671c81076333d2c80e6f97e92790f8887cf682/soupsieve-1.9.3-py2.py3-none-any.whl\n",
    "Building wheels for collected packages: bs4\n",
    "  Building wheel for bs4 (setup.py) ... done\n",
    "  Stored in directory: /Users/kpadhikari/Library/Caches/pip/wheels/a0/b0/b2/4f80b9456b87abedbc0bf2d52235414c3467d8889be38dd472\n",
    "Successfully built bs4\n",
    "Installing collected packages: soupsieve, beautifulsoup4, bs4\n",
    "Successfully installed beautifulsoup4-4.8.0 bs4-0.0.1 soupsieve-1.9.3\n",
    "KPAd's FunPrompt $ \n",
    "```\n",
    "    "
   ]
  },
  {
   "cell_type": "code",
   "execution_count": 78,
   "metadata": {},
   "outputs": [],
   "source": [
    "import requests\n",
    "import re\n",
    "from bs4 import BeautifulSoup"
   ]
  },
  {
   "cell_type": "markdown",
   "metadata": {},
   "source": [
    "We will use the url from [one of my posts](https://medium.com/@arshren/power-of-habit-how-to-accomplishing-big-goals-by-making-small-changes-5872a788fcb8) on medium and retrieve the text. we use the get method of request library to download the page. response will now have the content of the web page."
   ]
  },
  {
   "cell_type": "code",
   "execution_count": 80,
   "metadata": {},
   "outputs": [],
   "source": [
    "# kp: 'url' below is just the string object variable.\n",
    "url = \"https://medium.com/@arshren/power-of-habit-how-to-accomplishing-big-goals-by-making-small-changes-5872a788fcb8\"\n",
    "response = requests.get(url)"
   ]
  },
  {
   "cell_type": "markdown",
   "metadata": {},
   "source": [
    "**response.content** will contain the contents of the html page."
   ]
  },
  {
   "cell_type": "code",
   "execution_count": 122,
   "metadata": {},
   "outputs": [],
   "source": [
    "#kp: I disabled the following line to reduce the size of the saved file (from about 144 kB to 34 kB)\n",
    "#response.content"
   ]
  },
  {
   "cell_type": "markdown",
   "metadata": {},
   "source": [
    "we will use Beautifulsoup constructor and pass the html content that we have in response.content"
   ]
  },
  {
   "cell_type": "code",
   "execution_count": 123,
   "metadata": {},
   "outputs": [],
   "source": [
    "soup = BeautifulSoup(response.content,'html.parser')\n",
    "#kp: Running this code didn't increase the file size, \n",
    "#    so the content of the URL is not really loaded yet (perhaps just some reference or pointer)"
   ]
  },
  {
   "cell_type": "markdown",
   "metadata": {},
   "source": [
    "we will now extract the Title by using the find method and then use get_text to extract the title.\n",
    "\n",
    "we then find all the “p” tags in the html page with class property containing text like “graf graf — p”. Here we use regular expression as we want to find class property for the p tag with values like “graf graf — p”"
   ]
  },
  {
   "cell_type": "code",
   "execution_count": 124,
   "metadata": {},
   "outputs": [],
   "source": [
    "title  = soup.find('title').get_text()\n",
    "\n",
    "#any_data = soup.find_all('p', class_=re.compile(\"graf graf--p\")) #kp: didn't give anything\n",
    "any_data = soup.find_all('div', class_=re.compile(\"ar\"))          #kp: this one worked (see print-loop result below)\n",
    "#any_data2 = soup.find_all('section', class_=re.compile(\"ar\"))    #kp: didn't work\n",
    "any_data3 = soup.find_all('style', type_=re.compile(\"text/css\"))  #kp: didn't work\n",
    "any_data4 = soup.find_all('meta', property_=re.compile(\"og\"))     #kp: this too didn't work"
   ]
  },
  {
   "cell_type": "markdown",
   "metadata": {},
   "source": [
    "we will now iterate through any_data, which is a Resultset of bs4"
   ]
  },
  {
   "cell_type": "code",
   "execution_count": 125,
   "metadata": {},
   "outputs": [
    {
     "name": "stdout",
     "output_type": "stream",
     "text": [
      "Power of Habit — How to accomplish big goals by making small changes\n"
     ]
    }
   ],
   "source": [
    "print(title)"
   ]
  },
  {
   "cell_type": "code",
   "execution_count": 126,
   "metadata": {},
   "outputs": [],
   "source": [
    "for p in any_data4:\n",
    "   print(p.get_text())"
   ]
  },
  {
   "cell_type": "code",
   "execution_count": 127,
   "metadata": {},
   "outputs": [
    {
     "name": "stdout",
     "output_type": "stream",
     "text": [
      "Become a memberSign inGet started\n",
      "\n",
      "Become a memberSign inGet started\n",
      "Become a memberSign in\n",
      "Renu KhandelwalFollowAug 13, 2018 · 4 min read\n",
      "Renu KhandelwalFollow\n",
      "Renu KhandelwalFollow\n",
      "59 \n",
      "59 \n",
      "59 \n",
      "Self ImprovementHabitsReadingMotivationInspirational59 clapsWritten byRenu KhandelwalFollowLoves learning, sharing and discovering myself. Retail SME and passionate about Machine LearningFollowWrite the first response\n",
      "Self ImprovementHabitsReadingMotivationInspirational59 clapsWritten byRenu KhandelwalFollowLoves learning, sharing and discovering myself. Retail SME and passionate about Machine LearningFollowWrite the first response\n",
      "\n",
      "\n",
      "59 claps\n",
      "59 claps\n",
      "\n",
      "\n",
      "\n",
      "Renu KhandelwalFollow\n",
      "Renu KhandelwalFollow\n",
      "\n",
      "Discover MediumWelcome to a place where words matter. On Medium, smart voices and original ideas take center stage - with no ads in sight. WatchMake Medium yoursFollow all the topics you care about, and we’ll deliver the best stories for you to your homepage and inbox. ExploreBecome a memberGet unlimited access to the best stories on Medium — and support writers while you’re at it. Just $5/month. Upgrade\n",
      "Discover MediumWelcome to a place where words matter. On Medium, smart voices and original ideas take center stage - with no ads in sight. WatchMake Medium yoursFollow all the topics you care about, and we’ll deliver the best stories for you to your homepage and inbox. ExploreBecome a memberGet unlimited access to the best stories on Medium — and support writers while you’re at it. Just $5/month. Upgrade\n",
      "AboutHelpLegal\n",
      "AboutHelpLegal\n"
     ]
    }
   ],
   "source": [
    "for p in any_data:\n",
    "   print(p.get_text())"
   ]
  },
  {
   "cell_type": "markdown",
   "metadata": {},
   "source": [
    "Reference: https://stackoverflow.com/questions/26435689/how-to-use-re-compile-with-class-in-beautifulsoup\n",
    "\n",
    "According to ([Beautiful Soup documentation - Search by CSS class](http://www.crummy.com/software/BeautifulSoup/bs4/doc/#searching-by-css-class)), if you want to search for tags that match two or more CSS classes, you should use a CSS selector.\n",
    "\n",
    "soup.select('.mod.result')\n",
    "\n"
   ]
  },
  {
   "cell_type": "markdown",
   "metadata": {},
   "source": [
    "## Loop through directories looking for TXT files\n",
    "Reference: https://stackoverflow.com/questions/13299731/python-need-to-loop-through-directories-looking-for-txt-files\n",
    "Q: I need to loop through a directory looking for .txt files, and then read and process them individually. I would like to set this up so that whatever directory the script is in is treated as the root of this action. For example if the script is in /bsepath/workDir, then it would loop over all of the files in workDir and its children.\n",
    "\n",
    "Other references:\n",
    "* https://stackoverflow.com/questions/10377998/how-can-i-iterate-over-files-in-a-given-directory \n",
    "* https://stackoverflow.com/questions/11726349/python-looping-through-input-file\n",
    "* https://stackoverflow.com/questions/16129652/accessing-json-elements\n",
    "* https://stackoverflow.com/questions/10986065/looping-over-filenames-in-python"
   ]
  },
  {
   "cell_type": "code",
   "execution_count": 128,
   "metadata": {},
   "outputs": [],
   "source": [
    "import os, fnmatch\n",
    "\n",
    "def findFiles (path, filter):\n",
    "    for root, dirs, files in os.walk(path):\n",
    "        for file in fnmatch.filter(files, filter):\n",
    "            yield os.path.join(root, file)"
   ]
  },
  {
   "cell_type": "markdown",
   "metadata": {},
   "source": [
    "Use it like this, and it will find all text files somewhere within the given path (recursively):"
   ]
  },
  {
   "cell_type": "code",
   "execution_count": 135,
   "metadata": {},
   "outputs": [],
   "source": [
    "#for textFile in findFiles(r'C:\\Users\\poke\\Documents', '*.txt'):\n",
    "for textFile in findFiles(r'/Users/kpadhikari/Box Sync/KpDocuments/EVMSpostdocRelated/RBE-Data', '*.json'):  \n",
    "    print(textFile)"
   ]
  },
  {
   "cell_type": "code",
   "execution_count": 134,
   "metadata": {},
   "outputs": [
    {
     "name": "stdout",
     "output_type": "stream",
     "text": [
      "/Users/kpadhikari/Box Sync/KpDocuments/EVMSpostdocRelated/RBE-Data/Wouters-2015/Wouters-2015-residuals.txt\n",
      "/Users/kpadhikari/Box Sync/KpDocuments/EVMSpostdocRelated/RBE-Data/Gueulette-1996/Gueulette-1996-residuals.txt\n",
      "/Users/kpadhikari/Box Sync/KpDocuments/EVMSpostdocRelated/RBE-Data/Folkard-1996/Folkard-residuals.txt\n",
      "/Users/kpadhikari/Box Sync/KpDocuments/EVMSpostdocRelated/RBE-Data/Folkard-1996/Folkard-1996-residuals.txt\n",
      "/Users/kpadhikari/Box Sync/KpDocuments/EVMSpostdocRelated/RBE-Data/Belli-2000/Belli-2000-residuals.txt\n",
      "/Users/kpadhikari/Box Sync/KpDocuments/EVMSpostdocRelated/RBE-Data/Butterworth-2012/Butterworth-2012.txt\n",
      "/Users/kpadhikari/Box Sync/KpDocuments/EVMSpostdocRelated/RBE-Data/Britten-2013/Britten-2013-residuals.txt\n",
      "/Users/kpadhikari/Box Sync/KpDocuments/EVMSpostdocRelated/RBE-Data/Chaudhary-2014/Chaudhary-2014.txt\n",
      "/Users/kpadhikari/Box Sync/KpDocuments/EVMSpostdocRelated/RBE-Data/Tang-1997/Tang-1997-residuals.txt\n",
      "/Users/kpadhikari/Box Sync/KpDocuments/EVMSpostdocRelated/RBE-Data/Schuff-2002/Schuff-2002-residuals.txt\n",
      "/Users/kpadhikari/Box Sync/KpDocuments/EVMSpostdocRelated/RBE-Data/Ando-2001/Ando-2001-residuals.txt\n",
      "/Users/kpadhikari/Box Sync/KpDocuments/EVMSpostdocRelated/RBE-Data/Calugaru-2011/Calugaru-2011-residuals.txt\n",
      "/Users/kpadhikari/Box Sync/KpDocuments/EVMSpostdocRelated/RBE-Data/Belli-1998/Belli-1998-residuals.txt\n",
      "/Users/kpadhikari/Box Sync/KpDocuments/EVMSpostdocRelated/RBE-Data/Matsumoto-2014/Matsumoto-2014-residuals.txt\n",
      "/Users/kpadhikari/Box Sync/KpDocuments/EVMSpostdocRelated/RBE-Data/Hei-1988/Hei-1988-residuals.txt\n",
      "/Users/kpadhikari/Box Sync/KpDocuments/EVMSpostdocRelated/RBE-Data/Howard-2017/Howard-2017-residuals.txt\n",
      "/Users/kpadhikari/Box Sync/KpDocuments/EVMSpostdocRelated/RBE-Data/Howard-2018/ijpt-04-03-06_s02.txt\n",
      "/Users/kpadhikari/Box Sync/KpDocuments/EVMSpostdocRelated/RBE-Data/Howard-2018/Howard-2018-residuals.txt\n",
      "/Users/kpadhikari/Box Sync/KpDocuments/EVMSpostdocRelated/RBE-Data/Wouters-1996/Wouters-1996-Fig5a-photons-Co60-V79-WNRE-Win8.1.txt\n",
      "/Users/kpadhikari/Box Sync/KpDocuments/EVMSpostdocRelated/RBE-Data/Folkard-1989/Folkard-1989-residuals.txt\n",
      "/Users/kpadhikari/Box Sync/KpDocuments/EVMSpostdocRelated/RBE-Data/Grosse-2014/Grosse-2014.txt\n",
      "/Users/kpadhikari/Box Sync/KpDocuments/EVMSpostdocRelated/RBE-Data/Bettega-1998/Bettega-1998-residuals.txt\n"
     ]
    }
   ],
   "source": [
    "for textFile in findFiles(r'/Users/kpadhikari/Box Sync/KpDocuments/EVMSpostdocRelated/RBE-Data', '*.txt'):  \n",
    "    print(textFile)"
   ]
  },
  {
   "cell_type": "code",
   "execution_count": 132,
   "metadata": {},
   "outputs": [
    {
     "name": "stdout",
     "output_type": "stream",
     "text": [
      "/Users/kpadhikari/Box Sync/KpDocuments/EVMSpostdocRelated/RBE-Data/Aoki-Nakano-2014/kpProducedFile.csv\n",
      "/Users/kpadhikari/Box Sync/KpDocuments/EVMSpostdocRelated/RBE-Data/Aoki-Nakano-2014/tryingAgain.json.csv\n"
     ]
    }
   ],
   "source": [
    "for textFile in findFiles(r'/Users/kpadhikari/Box Sync/KpDocuments/EVMSpostdocRelated/RBE-Data', '*.csv'):  \n",
    "    print(textFile)"
   ]
  },
  {
   "cell_type": "code",
   "execution_count": 133,
   "metadata": {},
   "outputs": [],
   "source": [
    "# kp: Following also works but I am disabling it because I want to minimize the size of this file because it\n",
    "#    prints a lot of file names as there are a lot of them with .dat extension.\n",
    "#\n",
    "# for textFile in findFiles(r'/Users/kpadhikari/Box Sync/KpDocuments/EVMSpostdocRelated/RBE-Data', '*.dat'):  \n",
    " #   print(textFile)"
   ]
  },
  {
   "cell_type": "code",
   "execution_count": 146,
   "metadata": {},
   "outputs": [
    {
     "name": "stdout",
     "output_type": "stream",
     "text": [
      "/Users/kpadhikari/Box Sync/KpDocuments/EVMSpostdocRelated/RBE-Data/Coutrakon-1997/Coutrakon-1997.pdf\n",
      "/Users/kpadhikari/Box Sync/KpDocuments/EVMSpostdocRelated/RBE-Data/Gueulette-1997/Gueulette-1997.pdf\n",
      "/Users/kpadhikari/Box Sync/KpDocuments/EVMSpostdocRelated/RBE-Data/Slonina-2014/Slonina-2014.pdf\n",
      "/Users/kpadhikari/Box Sync/KpDocuments/EVMSpostdocRelated/RBE-Data/Robertson-1994/Robertson-1994.pdf\n",
      "/Users/kpadhikari/Box Sync/KpDocuments/EVMSpostdocRelated/RBE-Data/Hering-1986/Hering-1986.pdf\n",
      "/Users/kpadhikari/Box Sync/KpDocuments/EVMSpostdocRelated/RBE-Data/Marshall-2016/Marshall-2016.pdf\n",
      "/Users/kpadhikari/Box Sync/KpDocuments/EVMSpostdocRelated/RBE-Data/Wouters-2015/Wouters-2015.pdf\n",
      "/Users/kpadhikari/Box Sync/KpDocuments/EVMSpostdocRelated/RBE-Data/Gueulette-1996/Gueulette-1996.pdf\n",
      "/Users/kpadhikari/Box Sync/KpDocuments/EVMSpostdocRelated/RBE-Data/Aoki-Nakano-2014/Aoki-Nakano-2014.pdf\n",
      "/Users/kpadhikari/Box Sync/KpDocuments/EVMSpostdocRelated/RBE-Data/Ibanez-2009/Ibanez-2009.pdf\n"
     ]
    }
   ],
   "source": [
    "i = 0\n",
    "for textFile in findFiles(r'/Users/kpadhikari/Box Sync/KpDocuments/EVMSpostdocRelated/RBE-Data', '*.pdf'):  \n",
    "    if i < 10:\n",
    "        print(textFile)\n",
    "    i+=1  #Equivalent to i++ or i = i+1 in C/C++/Java"
   ]
  },
  {
   "cell_type": "code",
   "execution_count": 155,
   "metadata": {},
   "outputs": [
    {
     "name": "stdout",
     "output_type": "stream",
     "text": [
      "/Users/kpadhikari/GitProj/KPAdhikari/EVMS_stuff/ArticlesWdSSFsAndJson/Slonina-2014/Slonina-2014-Fig3A-photons-6MV-HFIB2.json\n",
      "/Users/kpadhikari/GitProj/KPAdhikari/EVMS_stuff/ArticlesWdSSFsAndJson/Slonina-2014/Slonina-2014-Fig3B-protons-60MeV-HFIB15.json\n",
      "/Users/kpadhikari/GitProj/KPAdhikari/EVMS_stuff/ArticlesWdSSFsAndJson/Slonina-2014/Slonina-2014-Fig3B-photons-6MV-HFIB15.json\n",
      "/Users/kpadhikari/GitProj/KPAdhikari/EVMS_stuff/ArticlesWdSSFsAndJson/Slonina-2014/Slonina-2014-Fig3A-protons-60MeV-HFIB2.json\n",
      "/Users/kpadhikari/GitProj/KPAdhikari/EVMS_stuff/ArticlesWdSSFsAndJson/Robertson-1994/Robertson-1994-Fig3B-protons-200MeV-line-5.json\n",
      "/Users/kpadhikari/GitProj/KPAdhikari/EVMS_stuff/ArticlesWdSSFsAndJson/Robertson-1994/Robertson-1994-Fig3A-photons-C060-line-C.json\n",
      "/Users/kpadhikari/GitProj/KPAdhikari/EVMS_stuff/ArticlesWdSSFsAndJson/Robertson-1994/Robertson-1994-Fig3A-protons-155MeV-line-2-sff.json\n",
      "/Users/kpadhikari/GitProj/KPAdhikari/EVMS_stuff/ArticlesWdSSFsAndJson/Robertson-1994/Robertson-1994-Fig3B-protons-200MeV-line-8.json\n",
      "/Users/kpadhikari/GitProj/KPAdhikari/EVMS_stuff/ArticlesWdSSFsAndJson/Robertson-1994/Robertson-1994-Fig3B-protons-200MeV-line-4.json\n",
      "/Users/kpadhikari/GitProj/KPAdhikari/EVMS_stuff/ArticlesWdSSFsAndJson/Robertson-1994/Robertson-1994-Fig3B-protons-200MeV-line-4-sff.json\n"
     ]
    }
   ],
   "source": [
    "j = 0\n",
    "for textFile in findFiles(r'/Users/kpadhikari/GitProj/KPAdhikari/EVMS_stuff', '*.json'):  \n",
    "    if j < 10:\n",
    "        print(textFile)\n",
    "    j+=1  #Equivalent to i++ or i = i+1 in C/C++/Java"
   ]
  },
  {
   "cell_type": "code",
   "execution_count": 163,
   "metadata": {},
   "outputs": [],
   "source": [
    "# https://linuxconfig.org/how-to-parse-data-from-json-into-python\n",
    "import json\n",
    "json_data = '{\"a\": 1, \"d\": 4, \"e\": 5, \"b\": 2, \"c\": 3 }'"
   ]
  },
  {
   "cell_type": "markdown",
   "metadata": {},
   "source": [
    "Python uses the **loads** method from the **json** to load JSON from a string. Did you notice the quotes around that dictionary that you created for the JSON? That's because Python treats JSON as a string unless it's coming from a file. You don't really need to worry about it too much. Just know that this form handles data while **load** handles files. Try to load and print the JSON data: "
   ]
  },
  {
   "cell_type": "code",
   "execution_count": 164,
   "metadata": {},
   "outputs": [
    {
     "name": "stdout",
     "output_type": "stream",
     "text": [
      "{\n",
      "    \"a\": 1,\n",
      "    \"b\": 2,\n",
      "    \"c\": 3,\n",
      "    \"d\": 4,\n",
      "    \"e\": 5\n",
      "}\n"
     ]
    }
   ],
   "source": [
    "parsed_json = (json.loads(json_data))\n",
    "print(json.dumps(parsed_json, indent=4, sort_keys=True))"
   ]
  },
  {
   "cell_type": "markdown",
   "metadata": {},
   "source": [
    "It won't look much different, but Python sees it in a usable form now. You can save it to a variable and iterate over it to see. "
   ]
  },
  {
   "cell_type": "code",
   "execution_count": 165,
   "metadata": {},
   "outputs": [
    {
     "name": "stdout",
     "output_type": "stream",
     "text": [
      "a: 1\n",
      "d: 4\n",
      "e: 5\n",
      "b: 2\n",
      "c: 3\n"
     ]
    }
   ],
   "source": [
    "loaded_json = json.loads(json_data)\n",
    "for x in loaded_json:\n",
    "\tprint(\"%s: %d\" % (x, loaded_json[x]))"
   ]
  },
  {
   "cell_type": "markdown",
   "metadata": {},
   "source": [
    "As you can see, loaded_json contains a dictionary, not a string that looks like one. \n",
    "### Parse To An Object\n",
    "JSON is actually an object in JavaScript, so it would make sense to want to import it as an object in Python. There are a few ways to do this, but most involve creating a class that you instantiate by populating it with data from the JSON. There really isn't a direct conversion.\n",
    "\n",
    "There is a fairly direct way to do it by loading the JSON into an object's **`__`dict`__`** property."
   ]
  },
  {
   "cell_type": "code",
   "execution_count": 166,
   "metadata": {},
   "outputs": [
    {
     "name": "stdout",
     "output_type": "stream",
     "text": [
      "1\n"
     ]
    }
   ],
   "source": [
    "class Test(object):\n",
    "    def __init__(self, data):\n",
    "\t    self.__dict__ = json.loads(data)\n",
    "\n",
    "test1 = Test(json_data)\n",
    "print(test1.a)"
   ]
  },
  {
   "cell_type": "markdown",
   "metadata": {},
   "source": [
    "### Parse a JSON File\n",
    "You're really not going to need to parse JSON from within a Python program. That doesn't make much sense in practicality. You will need to read and parse it from files, though, and that's why you set up that [distros.json](distros.json) file.\n",
    "\n",
    "A **with** can simplify the process of reading and closing the file, so that's the structure to use here. The other thing to note is the **load** method replaces **loads** because this is a file. Otherwise, the process is mostly the same. "
   ]
  },
  {
   "cell_type": "code",
   "execution_count": 167,
   "metadata": {},
   "outputs": [
    {
     "name": "stdout",
     "output_type": "stream",
     "text": [
      "Debian\n",
      "Ubuntu\n",
      "Fedora\n",
      "CentOS\n",
      "OpenSUSE\n",
      "Arch Linux\n",
      "Gentoo\n"
     ]
    }
   ],
   "source": [
    "with open('distros.json', 'r') as f:\n",
    "    distros_dict = json.load(f)\n",
    "\n",
    "for distro in distros_dict:\n",
    "    print(distro['Name'])"
   ]
  },
  {
   "cell_type": "markdown",
   "metadata": {},
   "source": [
    "## Parsing one of the files provided by Dr. Pawel Ambrozewicz\n",
    "The file looks as follows:\n",
    "```\n",
    "{\n",
    "    \"Data\": {\n",
    "        \"dose_data\": \"0.975 0.975 1.95 1.95 1.95 2.95 2.95 3.925 3.925 3.925 5.9 5.9 5.9 5.9 7.86\",\n",
    "        \"error_data\": \"0.0406 0.0259 0.0234 0.0114 0.0274 0.0133 0.0052 0.0069 0.0050 0.0020 0.0008 0.0003 0.0009 0.0004 0.0001\",\n",
    "        \"survival_data\": \"0.561245 0.391369 0.256977 0.189925 0.138746 0.145901 0.057546 0.087797 0.038226 0.024148 0.008795 0.004251 0.003369 0.002031 0.000471\"\n",
    "    },\n",
    "    \"Experiment\": {\n",
    "        \"Biophysical_info\": {\n",
    "            \"cell_line\": \"HFIB2\",\n",
    "            \"energy\": \"6MV\",\n",
    "            \"let\": \"-keV/$\\\\mu$m\",\n",
    "            \"modality\": \"photons\"\n",
    "        },\n",
    "        \"Original_values\": {\n",
    "            \"alpha\": \"0.689\",\n",
    "            \"alpha_X\": \"0.689\",\n",
    "            \"alpha_X_err\": \"0.164\",\n",
    "            \"alpha_err\": \"0.164\",\n",
    "            \"beta\": \"0.041\",\n",
    "            \"beta_X\": \"0.041\",\n",
    "            \"beta_X_err\": \"0.015\",\n",
    "            \"beta_err\": \"0.015\"\n",
    "        },\n",
    "        \"Publication\": {\n",
    "            \"author\": \"Slonina\",\n",
    "            \"year\": \"2014\"\n",
    "        }\n",
    "    },\n",
    "    \"Header\": {\n",
    "        \"created_by\": \"Plot Digitizer     2.6.8\",\n",
    "        \"date\": \"Date: 3/10/18     7:52:58 AM\",\n",
    "        \"dependence\": \"SF(Dose (Gy))\",\n",
    "        \"user\": \"pawel\"\n",
    "    }\n",
    "}\n",
    "```"
   ]
  },
  {
   "cell_type": "markdown",
   "metadata": {},
   "source": [
    "Ref: https://stackoverflow.com/questions/33984903/json-decoder-jsondecodeerror-expecting-value-line-1-column-1-char-0\n",
    "\n",
    "json.loads() takes a JSON encoded string, not a filename. You want to use json.load() (no s) instead and pass in an open file object:\n",
    "\n",
    "with open('/Users/JoshuaHawley/clean1.txt') as jsonfile:\n",
    "    data = json.load(jsonfile)\n",
    "\n",
    "The open() command produces a file object that json.load() can then read from, to produce the decoded Python object for you. The with statement ensures that the file is closed again when done.\n",
    "\n",
    "The alternative is to read the data yourself and then pass it into json.loads().\n",
    "\n"
   ]
  },
  {
   "cell_type": "code",
   "execution_count": 326,
   "metadata": {},
   "outputs": [
    {
     "name": "stdout",
     "output_type": "stream",
     "text": [
      "Input file:  /Users/kpadhikari/GitProj/KPAdhikari/EVMS_stuff/ArticlesWdSSFsAndJson/Slonina-2014/Slonina-2014-Fig3B-photons-6MV-HFIB15.json  has a size of  1291 \n",
      "\n",
      "Data : {'dose_data': '0.9371 0.9317 0.9373 1.9201 1.9165 1.9203 2.9232 2.8958 2.9106 3.9063 3.8953 3.8937 4.8786 5.8836 5.8837 5.8784 5.8767 7.8647 7.8633 7.8672', 'error_data': '0.0443 0.0586 0.0616 0.0337 0.0268 0.0284 0.0130 0.0309 0.0116 0.0043 0.0095 0.0017 0.0030 0.0015 0.0009 0.0008 0.0010 0.0001 0.0001 0.0001', 'survival_data': '0.6168 0.5441 0.4614 0.2673 0.2327 0.1916 0.1455 0.1039 0.0816 0.052 0.0425 0.0331 0.0117 0.0058 0.0045 0.0033 0.0026 0.0005 0.0002 0.0001'}\n",
      "\n",
      "\n",
      "dose_data : 0.9371 0.9317 0.9373 1.9201 1.9165 1.9203 2.9232 2.8958 2.9106 3.9063 3.8953 3.8937 4.8786 5.8836 5.8837 5.8784 5.8767 7.8647 7.8633 7.8672\n",
      "error_data : 0.0443 0.0586 0.0616 0.0337 0.0268 0.0284 0.0130 0.0309 0.0116 0.0043 0.0095 0.0017 0.0030 0.0015 0.0009 0.0008 0.0010 0.0001 0.0001 0.0001\n",
      "survival_data : 0.6168 0.5441 0.4614 0.2673 0.2327 0.1916 0.1455 0.1039 0.0816 0.052 0.0425 0.0331 0.0117 0.0058 0.0045 0.0033 0.0026 0.0005 0.0002 0.0001\n",
      "Experiment : {'Biophysical_info': {'cell_line': 'HFIB15', 'energy': '6MV', 'let': '-keV/$\\\\mu$m', 'modality': 'photons'}, 'Original_values': {'alpha': '0.627', 'alpha_X': '0.627', 'alpha_X_err': '0.028', 'alpha_err': '0.028', 'beta': '0.048', 'beta_X': '0.048', 'beta_X_err': '0.014', 'beta_err': '0.014'}, 'Publication': {'author': 'Slonina', 'year': '2014'}}\n",
      "\n",
      "\n",
      "Biophysical_info : {'cell_line': 'HFIB15', 'energy': '6MV', 'let': '-keV/$\\\\mu$m', 'modality': 'photons'}\n",
      "key:  Biophysical_info\n",
      "\n",
      "All values of an Inner Dictionary:    HFIB15  6MV  -keV/$\\mu$m  photons \n",
      "\n",
      "Original_values : {'alpha': '0.627', 'alpha_X': '0.627', 'alpha_X_err': '0.028', 'alpha_err': '0.028', 'beta': '0.048', 'beta_X': '0.048', 'beta_X_err': '0.014', 'beta_err': '0.014'}\n",
      "Publication : {'author': 'Slonina', 'year': '2014'}\n",
      "Header : {'created_by': 'Plot Digitizer 2.6.8', 'date': 'Date: 11/23/18 9:29:45 PM', 'dependence': 'SF(Dose (Gy))', 'user': 'pawel'}\n",
      "\n",
      "\n",
      "created_by : Plot Digitizer 2.6.8\n",
      "date : Date: 11/23/18 9:29:45 PM\n",
      "dependence : SF(Dose (Gy))\n",
      "user : pawel\n"
     ]
    }
   ],
   "source": [
    "# https://stackabuse.com/reading-and-writing-json-to-a-file-in-python/\n",
    "# https://stackoverflow.com/questions/16573332/jsondecodeerror-expecting-value-line-1-column-1-char-0?rq=1\n",
    "# https://stackoverflow.com/questions/16573332/jsondecodeerror-expecting-value-line-1-column-1-char-0?rq=1\n",
    "import json\n",
    "import os\n",
    "\n",
    "# This code worked for some of the files and didn't for some others\n",
    "# It kept on reporting \"JSONDecodeError: Expecting value: line 1 column 1 (char 0)\"\n",
    "# etc (for example when trying Slonina-2014/Slonina-2014-Fig3B-protons-60MeV-HFIB15.json)\n",
    "# Therefore, I am trying to find out if pandas would help.\n",
    "#\n",
    "Dir = \"/Users/kpadhikari/GitProj/KPAdhikari/EVMS_stuff/ArticlesWdSSFsAndJson/{}\"\n",
    "myJson = Dir.format(\"Slonina-2014/Slonina-2014-Fig3A-photons-6MV-HFIB2.json\")\n",
    "myJson = Dir.format(\"Slonina-2014/Slonina-2014-Fig3A-protons-60MeV-HFIB2.json\")\n",
    "myJson = Dir.format(\"Slonina-2014/Slonina-2014-Fig3B-photons-6MV-HFIB15.json\")\n",
    "#myJson = Dir.format(\"Slonina-2014/Slonina-2014-Fig3B-protons-6MeV-HFIB15.json\")\n",
    "#myJson = Dir.format(\"Slonina-2014/Slonina-2014-Fig3B-protons-60MeV-HFIB15.json\")\n",
    "print(\"Input file: \", myJson, \" has a size of \", os.path.getsize(myJson),\"\\n\")\n",
    "printStr = \"\"\n",
    "#with open('data.txt') as json_file:\n",
    "with open(myJson, 'r') as json_file:\n",
    "#with open(myJson,encoding='utf-16', errors='ignore') as json_file:    \n",
    "#with open(myJson,encoding='utf-8', errors='ignore') as json_file:  \n",
    "    data = json.load(json_file)\n",
    "    #if len(json_file.readlines()) != 0:\n",
    "    #    json_file.seek(0)\n",
    "#    if json_file:  #checking whether json_string is empty beforehand:\n",
    "#        data = json.load(json_file)\n",
    "#    else:\n",
    "#        print(myJoson, \"not readable.\")\n",
    "#        #return\n",
    "    \n",
    "# https://stackoverflow.com/questions/6077675/why-am-i-seeing-typeerror-string-indices-must-be-integers\n",
    "# In the given file: we have dictionaries as part of elements in a bigger dictionary.\n",
    "for key, value in data.items():  #works\n",
    "    print(key,\":\", value) #works   \n",
    "    print(\"\\n\")\n",
    "    for k, v in value.items():\n",
    "        #printStr = printStr + \" \" + v #TypeError: can only concatenate str (not \"dict\") to str\n",
    "        print(k,\":\", v)\n",
    "        if k == 'Biophysical_info':\n",
    "            print(\"key: \", k)\n",
    "            for kk, vv in v.items():\n",
    "                printStr = printStr + \"  \" + vv\n",
    "            print(\"\\nAll values of an Inner Dictionary: \", printStr, \"\\n\")\n",
    "\n"
   ]
  },
  {
   "cell_type": "code",
   "execution_count": 315,
   "metadata": {},
   "outputs": [
    {
     "name": "stdout",
     "output_type": "stream",
     "text": [
      "[]\n",
      "0\n"
     ]
    }
   ],
   "source": [
    "List = []\n",
    "print(List)\n",
    "print(len(List))"
   ]
  },
  {
   "cell_type": "code",
   "execution_count": 224,
   "metadata": {},
   "outputs": [
    {
     "name": "stdout",
     "output_type": "stream",
     "text": [
      "['str1', 'str2', 'str3', 'str4', 'str5']\n"
     ]
    }
   ],
   "source": [
    "List.clear()\n",
    "for i in [1, 2, 3, 4, 5]:\n",
    "    List.append(\"str\" + str(i))\n",
    "print(List)"
   ]
  },
  {
   "cell_type": "code",
   "execution_count": 225,
   "metadata": {},
   "outputs": [
    {
     "name": "stdout",
     "output_type": "stream",
     "text": [
      "0\n",
      "1\n",
      "2\n",
      "3\n",
      "4\n",
      "['str0', 'str3', 'str6', 'str9', 'str12']\n"
     ]
    }
   ],
   "source": [
    "for i in range(5):\n",
    "    #List.insert(i,\"str\" + str(3*i))\n",
    "    print(i)\n",
    "    List[i] = \"str\" + str(3*i)\n",
    "   # List[i]\n",
    "print(List)"
   ]
  },
  {
   "cell_type": "code",
   "execution_count": 229,
   "metadata": {},
   "outputs": [
    {
     "name": "stdout",
     "output_type": "stream",
     "text": [
      "{'Data': {'dose_data': '0.975 0.975 1.95 1.95 1.95 2.95 2.95 3.925 3.925 3.925 5.9 5.9 5.9 5.9 7.86', 'error_data': '0.0406 0.0259 0.0234 0.0114 0.0274 0.0133 0.0052 0.0069 0.0050 0.0020 0.0008 0.0003 0.0009 0.0004 0.0001', 'survival_data': '0.561245 0.391369 0.256977 0.189925 0.138746 0.145901 0.057546 0.087797 0.038226 0.024148 0.008795 0.004251 0.003369 0.002031 0.000471'}, 'Experiment': {'Biophysical_info': {'cell_line': 'HFIB2', 'energy': '6MV', 'let': '-keV/$\\\\mu$m', 'modality': 'photons'}, 'Original_values': {'alpha': '0.689', 'alpha_X': '0.689', 'alpha_X_err': '0.164', 'alpha_err': '0.164', 'beta': '0.041', 'beta_X': '0.041', 'beta_X_err': '0.015', 'beta_err': '0.015'}, 'Publication': {'author': 'Slonina', 'year': '2014'}}, 'Header': {'created_by': 'Plot Digitizer     2.6.8', 'date': 'Date: 3/10/18     7:52:58 AM', 'dependence': 'SF(Dose (Gy))', 'user': 'pawel'}}\n"
     ]
    }
   ],
   "source": [
    "# 'data' from above 'data = json.load(json_file)' is a dictionary\n",
    "print(data)"
   ]
  },
  {
   "cell_type": "code",
   "execution_count": 241,
   "metadata": {},
   "outputs": [
    {
     "name": "stdout",
     "output_type": "stream",
     "text": [
      "dose_data : 0.975 0.975 1.95 1.95 1.95 2.95 2.95 3.925 3.925 3.925 5.9 5.9 5.9 5.9 7.86\n",
      "error_data : 0.0406 0.0259 0.0234 0.0114 0.0274 0.0133 0.0052 0.0069 0.0050 0.0020 0.0008 0.0003 0.0009 0.0004 0.0001\n",
      "survival_data : 0.561245 0.391369 0.256977 0.189925 0.138746 0.145901 0.057546 0.087797 0.038226 0.024148 0.008795 0.004251 0.003369 0.002031 0.000471\n",
      "\n",
      "\n",
      "\n",
      "\n",
      "Biophysical_info : {'cell_line': 'HFIB2', 'energy': '6MV', 'let': '-keV/$\\\\mu$m', 'modality': 'photons'}\n",
      "Original_values : {'alpha': '0.689', 'alpha_X': '0.689', 'alpha_X_err': '0.164', 'alpha_err': '0.164', 'beta': '0.041', 'beta_X': '0.041', 'beta_X_err': '0.015', 'beta_err': '0.015'}\n",
      "Publication : {'author': 'Slonina', 'year': '2014'}\n",
      "\n",
      "\n",
      "\n",
      "\n",
      "created_by : Plot Digitizer     2.6.8\n",
      "date : Date: 3/10/18     7:52:58 AM\n",
      "dependence : SF(Dose (Gy))\n",
      "user : pawel\n",
      "\n",
      "\n",
      "\n",
      "\n",
      "\n",
      "This is my List of size:  21\n",
      "['0.975 0.975 1.95 1.95 1.95 2.95 2.95 3.925 3.925 3.925 5.9 5.9 5.9 5.9 7.86', '0.0406 0.0259 0.0234 0.0114 0.0274 0.0133 0.0052 0.0069 0.0050 0.0020 0.0008 0.0003 0.0009 0.0004 0.0001', '0.561245 0.391369 0.256977 0.189925 0.138746 0.145901 0.057546 0.087797 0.038226 0.024148 0.008795 0.004251 0.003369 0.002031 0.000471', 'HFIB2', '6MV', '-keV/$\\\\mu$m', 'photons', '0.689', '0.689', '0.164', '0.164', '0.041', '0.041', '0.015', '0.015', 'Slonina', '2014', 'Plot Digitizer     2.6.8', 'Date: 3/10/18     7:52:58 AM', 'SF(Dose (Gy))', 'pawel']\n",
      "\n",
      "And this is my Dictionary of size:  21\n",
      "{'dose_data': '0.975 0.975 1.95 1.95 1.95 2.95 2.95 3.925 3.925 3.925 5.9 5.9 5.9 5.9 7.86', 'error_data': '0.0406 0.0259 0.0234 0.0114 0.0274 0.0133 0.0052 0.0069 0.0050 0.0020 0.0008 0.0003 0.0009 0.0004 0.0001', 'survival_data': '0.561245 0.391369 0.256977 0.189925 0.138746 0.145901 0.057546 0.087797 0.038226 0.024148 0.008795 0.004251 0.003369 0.002031 0.000471', 'cell_line': 'HFIB2', 'energy': '6MV', 'let': '-keV/$\\\\mu$m', 'modality': 'photons', 'alpha': '0.689', 'alpha_X': '0.689', 'alpha_X_err': '0.164', 'alpha_err': '0.164', 'beta': '0.041', 'beta_X': '0.041', 'beta_X_err': '0.015', 'beta_err': '0.015', 'author': 'Slonina', 'year': '2014', 'created_by': 'Plot Digitizer     2.6.8', 'date': 'Date: 3/10/18     7:52:58 AM', 'dependence': 'SF(Dose (Gy))', 'user': 'pawel'}\n"
     ]
    }
   ],
   "source": [
    "# https://stackabuse.com/reading-and-writing-json-to-a-file-in-python/\n",
    "# https://www.geeksforgeeks.org/python-set-4-dictionary-keywords-python/\n",
    "import json\n",
    "myJson = \"/Users/kpadhikari/GitProj/KPAdhikari/EVMS_stuff/ArticlesWdSSFsAndJson/Slonina-2014/Slonina-2014-Fig3A-photons-6MV-HFIB2.json\"\n",
    "printStr = \"\"\n",
    "valuesList = [] # new list\n",
    "dic = dict()    # new dictionary\n",
    "#valueList.clear() #not necessary\n",
    "with open(myJson, 'r') as json_file:\n",
    "    data = json.load(json_file)\n",
    "\n",
    "for key, value in data.items():  \n",
    "    #print(key,\":\", value, \"\\n\\n\")  \n",
    "    #json.dumps(key)\n",
    "        \n",
    "    for k, v in value.items(): \n",
    "        if key == 'Data' or key == 'Header':\n",
    "            valuesList.append(v)\n",
    "            dic[k] = v #This is equivalent to append (it adds a key-value pair to the dictionary)\n",
    "            \n",
    "        #printStr = printStr + \" \" + v #TypeError: can only concatenate str (not \"dict\") to str\n",
    "        print(k,\":\", v)\n",
    "        if key == 'Experiment':\n",
    "            #print(\"key: \", k)\n",
    "            for kk, vv in v.items():\n",
    "                valuesList.append(vv)\n",
    "                dic[kk] = vv\n",
    "    print(\"\\n\\n\\n\")\n",
    "\n",
    "print(\"\\nThis is my List of size: \", len(valuesList))    \n",
    "print(valuesList)\n",
    "\n",
    "print(\"\\nAnd this is my Dictionary of size: \", len(dic))\n",
    "print(dic)"
   ]
  },
  {
   "cell_type": "markdown",
   "metadata": {},
   "source": [
    "### Next ready for creating and writing on an excel file\n",
    "References:\n",
    "* https://www.geeksforgeeks.org/python-create-and-write-on-excel-file-using-xlsxwriter-module/\n",
    "* https://www.geeksforgeeks.org/writing-excel-sheet-using-python/\n",
    "* https://stackoverflow.com/questions/53224690/how-to-write-json-text-to-excel-file\n",
    "\n",
    "#### Installing 'xlsxwriter' and 'xlwt'\n",
    "```\n",
    "KPAd's FunPrompt $ pip3 install xlsxwriter\n",
    "Collecting xlsxwriter\n",
    "  Downloading https://files.pythonhosted.org/packages/82/50/780122e4790328c195475d6e49a07fb69593508355dfee98bfb22686d9e8/XlsxWriter-1.2.1-py2.py3-none-any.whl (140kB)\n",
    "     |████████████████████████████████| 143kB 1.7MB/s \n",
    "Installing collected packages: xlsxwriter\n",
    "Successfully installed xlsxwriter-1.2.1\n",
    "[1]+  Done                    open -a Emacs distros.json\n",
    "KPAd's FunPrompt $\n",
    "KPAd's FunPrompt $ pip3 install xlwt\n",
    "Requirement already satisfied: xlwt in /usr/local/lib/python3.7/site-packages (1.3.0)\n",
    "KPAd's FunPrompt $\n",
    "```\n",
    "\n"
   ]
  },
  {
   "cell_type": "code",
   "execution_count": 255,
   "metadata": {},
   "outputs": [
    {
     "name": "stdout",
     "output_type": "stream",
     "text": [
      "kp: These lines are mine:\n",
      "[OrderedDict([('Source ID', 123), ('WordCount', 50), ('Key Words', ['Blah blah blah', 'Foo']), ('Frequency', [9, 12, 1, 2, 3]), ('Proper Nouns', ['UN', 'USA']), ('Location', 'Mordor')]), OrderedDict([('Source ID', 124), ('WordCount', 50), ('Key Words', ['Blah blah blah', 'Foo']), ('Frequency', [9, 12, 1, 2, 3]), ('Proper Nouns', ['UN', 'USA']), ('Location', 'Mordor')])]\n"
     ]
    }
   ],
   "source": [
    "# https://stackoverflow.com/questions/35583963/writing-heirarchical-json-data-to-excel-xls-from-python\n",
    "from collections import OrderedDict\n",
    "import xlsxwriter\n",
    "import json\n",
    "\n",
    "def json_to_excel(ws, data, row=0, col=0):\n",
    "    if isinstance(data, list):\n",
    "        row -= 1\n",
    "        for value in data:\n",
    "            row = json_to_excel(ws, value, row+1, col)\n",
    "    elif isinstance(data, dict):\n",
    "        max_row = row\n",
    "        start_row = row\n",
    "        \n",
    "        # https://stackoverflow.com/questions/30418481/error-dict-object-has-no-attribute-iteritems\n",
    "        # Python 3 renamed dict.iteritems -> dict.items. – Blender May 23 '15 at 23:16\n",
    "        #for key, value in data.iteritems(): #AttributeError: 'collections.OrderedDict' object has no attribute 'iteritems'\n",
    "        for key, value in data.items():\n",
    "            row = start_row\n",
    "            ws.write(row, col, key)\n",
    "            row = json_to_excel(ws, value, row+1, col)\n",
    "            max_row = max(max_row, row)\n",
    "            col += 1\n",
    "        row = max_row\n",
    "    else:\n",
    "        ws.write(row, col, data)\n",
    "\n",
    "    return row\n",
    "\n",
    "text = \"\"\"\n",
    "[\n",
    "    {\n",
    "        \"Source ID\": 123,\n",
    "        \"WordCount\": 50,\n",
    "        \"Key Words\": [\"Blah blah blah\", \"Foo\"],\n",
    "        \"Frequency\": [9, 12, 1, 2, 3],\n",
    "        \"Proper Nouns\": [\"UN\", \"USA\"],\n",
    "        \"Location\": \"Mordor\"\n",
    "    },\n",
    "    {\n",
    "        \"Source ID\": 124,\n",
    "        \"WordCount\": 50,\n",
    "        \"Key Words\": [\"Blah blah blah\", \"Foo\"],\n",
    "        \"Frequency\": [9, 12, 1, 2, 3],\n",
    "        \"Proper Nouns\": [\"UN\", \"USA\"],\n",
    "        \"Location\": \"Mordor\"\n",
    "    }\n",
    "]\n",
    "\"\"\"\n",
    "\n",
    "data = json.loads(text, object_pairs_hook=OrderedDict)\n",
    "wb = xlsxwriter.Workbook(\"testExcelOutput1.xlsx\")\n",
    "ws = wb.add_worksheet()\n",
    "json_to_excel(ws, data)\n",
    "wb.close()  \n",
    "\n",
    "print(\"kp: These lines are mine:\")\n",
    "print(data)"
   ]
  },
  {
   "cell_type": "code",
   "execution_count": 254,
   "metadata": {},
   "outputs": [
    {
     "name": "stdout",
     "output_type": "stream",
     "text": [
      "kp: regular dictionary ...??? \n",
      "\n",
      "{'Data': {'dose_data': '0.975 0.975 1.95 1.95 1.95 2.95 2.95 3.925 3.925 3.925 5.9 5.9 5.9 5.9 7.86', 'error_data': '0.0406 0.0259 0.0234 0.0114 0.0274 0.0133 0.0052 0.0069 0.0050 0.0020 0.0008 0.0003 0.0009 0.0004 0.0001', 'survival_data': '0.561245 0.391369 0.256977 0.189925 0.138746 0.145901 0.057546 0.087797 0.038226 0.024148 0.008795 0.004251 0.003369 0.002031 0.000471'}, 'Experiment': {'Biophysical_info': {'cell_line': 'HFIB2', 'energy': '6MV', 'let': '-keV/$\\\\mu$m', 'modality': 'photons'}, 'Original_values': {'alpha': '0.689', 'alpha_X': '0.689', 'alpha_X_err': '0.164', 'alpha_err': '0.164', 'beta': '0.041', 'beta_X': '0.041', 'beta_X_err': '0.015', 'beta_err': '0.015'}, 'Publication': {'author': 'Slonina', 'year': '2014'}}, 'Header': {'created_by': 'Plot Digitizer     2.6.8', 'date': 'Date: 3/10/18     7:52:58 AM', 'dependence': 'SF(Dose (Gy))', 'user': 'pawel'}}\n"
     ]
    }
   ],
   "source": [
    "#kp: This cell here to test if I can also get the OrderedDict\n",
    "import json\n",
    "myJson = \"/Users/kpadhikari/GitProj/KPAdhikari/EVMS_stuff/ArticlesWdSSFsAndJson/Slonina-2014/Slonina-2014-Fig3A-photons-6MV-HFIB2.json\"\n",
    "with open(myJson, 'r') as json_file:\n",
    "    Dict = json.load(json_file)  #regular dict\n",
    "\n",
    "print(\"kp: regular dictionary ...??? \\n\")\n",
    "print(Dict)\n",
    "\n",
    "#print(\"k\\n\\nkp: OrderedDict ...??? \\n\")\n",
    "#with open(myJson, 'r') as json_file:\n",
    "#    OD = json.loads(json_file, object_pairs_hook=OrderedDict) #TypeError: the JSON object must be str, bytes or bytearray, not TextIOWrapper\n",
    "#print(OD)"
   ]
  },
  {
   "cell_type": "code",
   "execution_count": 272,
   "metadata": {},
   "outputs": [],
   "source": [
    "# https://stackoverflow.com/questions/55154707/how-to-write-to-excel-in-python\n",
    "import xlsxwriter\n",
    "\n",
    "\n",
    "# Create an new Excel file and add a worksheet.\n",
    "#workbook = xlsxwriter.Workbook('C:/your_path/test.xlsx')\n",
    "workbook = xlsxwriter.Workbook('testExcel2.xlsx')\n",
    "worksheet = workbook.add_worksheet()\n",
    "\n",
    "# Widen the first column to make the text clearer.\n",
    "worksheet.set_column('A:A', 20)\n",
    "\n",
    "# Add a bold format to use to highlight cells.\n",
    "bold = workbook.add_format({'bold': True})\n",
    "\n",
    "# Write some simple text.\n",
    "worksheet.write('A1', 'Hello')\n",
    "\n",
    "# Text with formatting.\n",
    "worksheet.write('A2', 'World', bold)\n",
    "\n",
    "# Write some numbers, with row/column notation.\n",
    "worksheet.write(2, 0, 123)\n",
    "worksheet.write(3, 0, 123.456)\n",
    "\n",
    "\n",
    "workbook.close()\n"
   ]
  },
  {
   "cell_type": "code",
   "execution_count": 342,
   "metadata": {},
   "outputs": [
    {
     "name": "stdout",
     "output_type": "stream",
     "text": [
      "\n",
      "And this is my Dictionary of size:  21\n",
      "{'dose_data': '0.975 0.975 1.95 1.95 1.95 2.95 2.95 3.925 3.925 3.925 5.9 5.9 5.9 5.9 7.86', 'error_data': '0.0406 0.0259 0.0234 0.0114 0.0274 0.0133 0.0052 0.0069 0.0050 0.0020 0.0008 0.0003 0.0009 0.0004 0.0001', 'survival_data': '0.561245 0.391369 0.256977 0.189925 0.138746 0.145901 0.057546 0.087797 0.038226 0.024148 0.008795 0.004251 0.003369 0.002031 0.000471', 'cell_line': 'HFIB2', 'energy': '6MV', 'let': '-keV/$\\\\mu$m', 'modality': 'photons', 'alpha': '0.689', 'alpha_X': '0.689', 'alpha_X_err': '0.164', 'alpha_err': '0.164', 'beta': '0.041', 'beta_X': '0.041', 'beta_X_err': '0.015', 'beta_err': '0.015', 'author': 'Slonina', 'year': '2014', 'created_by': 'Plot Digitizer     2.6.8', 'date': 'Date: 3/10/18     7:52:58 AM', 'dependence': 'SF(Dose (Gy))', 'user': 'pawel'}\n"
     ]
    }
   ],
   "source": [
    "# Function that takes a json file and returns a dictionary of innermost elements\n",
    "import json\n",
    "myJson = \"/Users/kpadhikari/GitProj/KPAdhikari/EVMS_stuff/ArticlesWdSSFsAndJson/Slonina-2014/Slonina-2014-Fig3A-photons-6MV-HFIB2.json\"\n",
    "\n",
    "def return_inner_dict(jsonFile):\n",
    "    dic = dict()    # new dictionary\n",
    "    #valueList.clear() #This will make the list an empty one without any cells/elements\n",
    "    with open(jsonFile, 'r') as json_file:\n",
    "        data = json.load(json_file)\n",
    "        \n",
    "        for key, value in data.items():  \n",
    "            #print(key,\":\", value, \"\\n\\n\")  \n",
    "            for k, v in value.items(): \n",
    "                if key == 'Data' or key == 'Header':\n",
    "                    dic[k] = v #This is equivalent to list.append(..) (it adds a key-value pair to the dictionary)\n",
    "            \n",
    "            #print(k,\":\", v)\n",
    "                if key == 'Experiment':\n",
    "                    for kk, vv in v.items():\n",
    "                        dic[kk] = vv\n",
    "        #print(\"\\n\\n\\n\")\n",
    "    return dic\n",
    "\n",
    "retDict = return_inner_dict(myJson)\n",
    "print(\"\\nAnd this is my Dictionary of size: \", len(retDict))\n",
    "print(retDict)"
   ]
  },
  {
   "cell_type": "code",
   "execution_count": 361,
   "metadata": {},
   "outputs": [
    {
     "name": "stdout",
     "output_type": "stream",
     "text": [
      "keysList: \n",
      " ['dose_data', 'error_data', 'survival_data', 'cell_line', 'energy', 'let', 'modality', 'alpha', 'alpha_X', 'alpha_X_err', 'alpha_err', 'beta', 'beta_X', 'beta_X_err', 'beta_err', 'author', 'year', 'created_by', 'date', 'dependence', 'user']\n",
      "keysDict: \n",
      " {'dose_data': 1, 'error_data': 2, 'survival_data': 3, 'cell_line': 4, 'energy': 5, 'let': 6, 'modality': 7, 'alpha': 8, 'alpha_X': 9, 'alpha_X_err': 10, 'alpha_err': 11, 'beta': 12, 'beta_X': 13, 'beta_X_err': 14, 'beta_err': 15, 'author': 16, 'year': 17, 'created_by': 18, 'date': 19, 'dependence': 20, 'user': 21}\n",
      "\n",
      " valuesList: \n",
      " ['0.975 0.975 1.95 1.95 1.95 2.95 2.95 3.925 3.925 3.925 5.9 5.9 5.9 5.9 7.86', '0.0406 0.0259 0.0234 0.0114 0.0274 0.0133 0.0052 0.0069 0.0050 0.0020 0.0008 0.0003 0.0009 0.0004 0.0001', '0.561245 0.391369 0.256977 0.189925 0.138746 0.145901 0.057546 0.087797 0.038226 0.024148 0.008795 0.004251 0.003369 0.002031 0.000471', 'HFIB2', '6MV', '-keV/$\\\\mu$m', 'photons', '0.689', '0.689', '0.164', '0.164', '0.041', '0.041', '0.015', '0.015', 'Slonina', '2014', 'Plot Digitizer     2.6.8', 'Date: 3/10/18     7:52:58 AM', 'SF(Dose (Gy))', 'pawel'] \n",
      "\n",
      "Total # of processed files:  540\n",
      "1 ^th file:  /Users/kpadhikari/GitProj/KPAdhikari/EVMS_stuff/ArticlesWdSSFsAndJson/Slonina-2014/Slonina-2014-Fig3B-protons-60MeV-HFIB15.json is Empty, byte-size =  0 \n",
      "\n",
      "10 ^th file:  /Users/kpadhikari/GitProj/KPAdhikari/EVMS_stuff/ArticlesWdSSFsAndJson/Robertson-1994/Robertson-1994-Fig3A-protons-155MeV-line-1.json is Empty, byte-size =  0 \n",
      "\n",
      "12 ^th file:  /Users/kpadhikari/GitProj/KPAdhikari/EVMS_stuff/ArticlesWdSSFsAndJson/Robertson-1994/Robertson-1994-Fig3A-protons-155MeV-line-2a.json is Empty, byte-size =  0 \n",
      "\n",
      "15 ^th file:  /Users/kpadhikari/GitProj/KPAdhikari/EVMS_stuff/ArticlesWdSSFsAndJson/Robertson-1994/Robertson-1994-Fig3A-protons-155MeV-line-3.json is Empty, byte-size =  0 \n",
      "\n",
      "51 ^th file:  /Users/kpadhikari/GitProj/KPAdhikari/EVMS_stuff/ArticlesWdSSFsAndJson/Gueulette-1996/Gueulette-1996-Fig1-protons-85MeV-distal-30mmSOBP.json is Empty, byte-size =  0 \n",
      "\n",
      "308 ^th file:  /Users/kpadhikari/GitProj/KPAdhikari/EVMS_stuff/ArticlesWdSSFsAndJson/Schuff-2002/Schuff-2002-Fig7-photons-Cs137-PDVC57.json is Empty, byte-size =  0 \n",
      "\n",
      "Invalid key:  E\n",
      "Invalid key:  mod\n",
      "Invalid key:  E\n",
      "Invalid key:  mod\n",
      "Invalid key:  E\n",
      "Invalid key:  mod\n",
      "Invalid key:  E\n",
      "Invalid key:  mod\n",
      "Invalid key:  E\n",
      "Invalid key:  mod\n",
      "Invalid key:  E\n",
      "Invalid key:  mod\n",
      "366 ^th file:  /Users/kpadhikari/GitProj/KPAdhikari/EVMS_stuff/ArticlesWdSSFsAndJson/Belli-1998/Belli-1998-Fig1-30.5keVum.json is Empty, byte-size =  0 \n",
      "\n",
      "Invalid key:  E\n",
      "Invalid key:  mod\n",
      "Invalid key:  E\n",
      "Invalid key:  mod\n",
      "Invalid key:  E\n",
      "Invalid key:  mod\n",
      "Invalid key:  E\n",
      "Invalid key:  mod\n",
      "Invalid key:  E\n",
      "Invalid key:  mod\n",
      "Invalid key:  E\n",
      "Invalid key:  mod\n",
      "Invalid key:  E\n",
      "Invalid key:  mod\n",
      "Invalid key:  E\n",
      "Invalid key:  mod\n",
      "Invalid key:  E\n",
      "Invalid key:  mod\n",
      "Invalid key:  E\n",
      "Invalid key:  mod\n",
      "Invalid key:  E\n",
      "Invalid key:  mod\n",
      "Invalid key:  E\n",
      "Invalid key:  mod\n",
      "Invalid key:  E\n",
      "Invalid key:  mod\n",
      "515 ^th file:  /Users/kpadhikari/GitProj/KPAdhikari/EVMS_stuff/ArticlesWdSSFsAndJson/Miller-1995/Miller-1995-Fig1C-protons-15keVum.json is Empty, byte-size =  0 \n",
      "\n",
      "515 ^th file:  /Users/kpadhikari/GitProj/KPAdhikari/EVMS_stuff/ArticlesWdSSFsAndJson/Perris-1986/Perris-1986-Fig3a-photons-Co60-V79.json is Empty, byte-size =  0 \n",
      "\n",
      "517 ^th file:  /Users/kpadhikari/GitProj/KPAdhikari/EVMS_stuff/ArticlesWdSSFsAndJson/Perris-1986/Perris-1986-Fig3a-photons-Co60.json is Empty, byte-size =  0 \n",
      "\n",
      "Total # of processed files:  530\n"
     ]
    }
   ],
   "source": [
    "# https://stackoverflow.com/questions/53224690/how-to-write-json-text-to-excel-file\n",
    "# https://www.digitalocean.com/community/tutorials/how-to-use-break-continue-and-pass-statements-when-working-with-loops-in-python-3\n",
    "# https://stackoverflow.com/questions/2104080/how-to-check-file-size-in-python\n",
    "\n",
    "\n",
    "import xlsxwriter\n",
    "import os\n",
    "\n",
    "keysList = ['dose_data', 'error_data', 'survival_data', 'cell_line', 'energy', 'let', 'modality', \n",
    "             'alpha', 'alpha_X', 'alpha_X_err', 'alpha_err', 'beta', 'beta_X', 'beta_X_err','beta_err',\n",
    "             'author', 'year', 'created_by', 'date', 'dependence', 'user']\n",
    "# Started from 1 because I had to use \"col = keysDict.get(key)\", which is supposed to return 0, when \n",
    "#    the 'key' is not found. But, if I start it by 0, it would return 0 even when the key 'dose_data' \n",
    "#    is found. Initially, I had started the values from 0.\n",
    "keysDict = {'dose_data': 1, 'error_data': 2, 'survival_data': 3, 'cell_line': 4, 'energy': 5, 'let': 6, 'modality': 7, \n",
    "            'alpha': 8, 'alpha_X': 9, 'alpha_X_err': 10, 'alpha_err': 11, 'beta': 12, 'beta_X': 13, 'beta_X_err': 14, \n",
    "            'beta_err': 15, 'author': 16, 'year': 17, 'created_by': 18, 'date': 19, 'dependence': 20, 'user': 21}\n",
    "\n",
    "#type(keysList)\n",
    "print(\"keysList: \\n\", keysList)\n",
    "print(\"keysDict: \\n\", keysDict)\n",
    "print(\"\\n valuesList: \\n\", valuesList, \"\\n\")\n",
    "             \n",
    "# Workbook() takes one, non-optional, argument  \n",
    "# which is the filename that we want to create. \n",
    "workbook = xlsxwriter.Workbook('testRBE.xlsx')\n",
    "\n",
    "# The workbook object is then used to add new  \n",
    "# worksheet via the add_worksheet() method. \n",
    "worksheet = workbook.add_worksheet()\n",
    "\n",
    "# Widen the first column to make the text clearer.\n",
    "worksheet.set_column('A:A', 20)\n",
    "worksheet.set_column(0,1, 20)\n",
    "worksheet.set_column(0,2, 20)\n",
    "\n",
    "# Add a bold format to use to highlight cells.\n",
    "bold = workbook.add_format({'bold': True})\n",
    "\n",
    "col = 0\n",
    "for aKey in keysList:\n",
    "    worksheet.write(0, col, aKey, bold)\n",
    "    col = col + 1\n",
    "\n",
    "#col = 0  # We need it (writing starts from col=0 on each row)\n",
    "#for aValue in valuesList: #works\n",
    "#for key, aValue in dic.items():    \n",
    "#    worksheet.write(1, col, aValue)\n",
    "#    col = col + 1\n",
    "\n",
    "#Just to count the total # of files to be processed\n",
    "k = 0\n",
    "for jsonFile in findFiles(r'/Users/kpadhikari/GitProj/KPAdhikari/EVMS_stuff', '*.json'):  \n",
    "    k+=1  #Equivalent to i++ or i = i+1 in C/C++/Java    \n",
    "    \n",
    "print(\"Total # of processed files: \", k) \n",
    "\n",
    "\n",
    "####### Now iterating over several json files and writing their values in different rows.\n",
    "j = 0\n",
    "nFileMax =  1000 #10 #100000\n",
    "for jsonFile in findFiles(r'/Users/kpadhikari/GitProj/KPAdhikari/EVMS_stuff', '*.json'):  \n",
    "    if j < nFileMax:\n",
    "        #print(jsonFile)\n",
    "        b = os.path.getsize(jsonFile)\n",
    "        #print(\"Input file: \", jsonFile, \" has a size of \", b,\"\\n\")\n",
    "        if b==0:\n",
    "            print(j,\"^th file: \", jsonFile, \"is Empty, byte-size = \", b,\"\\n\")\n",
    "            continue\n",
    "\n",
    "        retDict = return_inner_dict(jsonFile)\n",
    "        #print(retDict,\"\\n\\n\")\n",
    "\n",
    "        #col = 0  # We need it (writing starts from col=0 on each row)\n",
    "        for key, aValue in retDict.items():  \n",
    "            #col = keysDict[key] # Mostly worked but sometimes got \"KeyError: 'E'\"\n",
    "            # https://realpython.com/python-keyerror/\n",
    "            col = keysDict.get(key) #Returns 0 if key not found in the Dict\n",
    "            if col:\n",
    "                worksheet.write(j+1, col-1, aValue)\n",
    "            else:\n",
    "                print(\"Invalid key: \", key)\n",
    "                #continue\n",
    "            #col = col + 1\n",
    "        \n",
    "        j+=1  #Equivalent to i++ or i = i+1 in C/C++/Java    \n",
    "    \n",
    "print(\"Total # of processed files: \", j)    \n",
    "    \n",
    "# Now make a function that takes in file name, and return dictionary and use that in above block instead.\n",
    "workbook.close()"
   ]
  },
  {
   "cell_type": "code",
   "execution_count": 54,
   "metadata": {},
   "outputs": [
    {
     "name": "stdout",
     "output_type": "stream",
     "text": [
      "keysDict: \n",
      " {'dose_data': 1, 'error_data': 2, 'survival_data': 3, 'cell_line': 4, 'energy': 5, 'let': 6, 'modality': 7, 'alpha': 8, 'alpha_X': 9, 'alpha_X_err': 10, 'alpha_err': 11, 'beta': 12, 'beta_X': 13, 'beta_X_err': 14, 'beta_err': 15, 'author': 16, 'year': 17, 'created_by': 18, 'date': 19, 'dependence': 20, 'user': 21}\n",
      "1 ^th file:  /Users/kpadhikari/GitProj/KPAdhikari/EVMS_stuff/ArticlesWdSSFsAndJson/Slonina-2014/Slonina-2014-Fig3B-protons-60MeV-HFIB15.json is Empty, byte-size =  0 \n",
      "\n",
      "10 ^th file:  /Users/kpadhikari/GitProj/KPAdhikari/EVMS_stuff/ArticlesWdSSFsAndJson/Robertson-1994/Robertson-1994-Fig3A-protons-155MeV-line-1.json is Empty, byte-size =  0 \n",
      "\n",
      "12 ^th file:  /Users/kpadhikari/GitProj/KPAdhikari/EVMS_stuff/ArticlesWdSSFsAndJson/Robertson-1994/Robertson-1994-Fig3A-protons-155MeV-line-2a.json is Empty, byte-size =  0 \n",
      "\n",
      "15 ^th file:  /Users/kpadhikari/GitProj/KPAdhikari/EVMS_stuff/ArticlesWdSSFsAndJson/Robertson-1994/Robertson-1994-Fig3A-protons-155MeV-line-3.json is Empty, byte-size =  0 \n",
      "\n",
      "51 ^th file:  /Users/kpadhikari/GitProj/KPAdhikari/EVMS_stuff/ArticlesWdSSFsAndJson/Gueulette-1996/Gueulette-1996-Fig1-protons-85MeV-distal-30mmSOBP.json is Empty, byte-size =  0 \n",
      "\n",
      "Dictionary has empty values?\n",
      "55 ^th file:  /Users/kpadhikari/GitProj/KPAdhikari/EVMS_stuff/ArticlesWdSSFsAndJson/Folkard-1996/Folkard-1996-Fig3a-protons-10keVum-Win8.1.json gives empty-valued Dictionary \n",
      "\n",
      "Dictionary has empty values?\n",
      "98 ^th file:  /Users/kpadhikari/GitProj/KPAdhikari/EVMS_stuff/ArticlesWdSSFsAndJson/Britten-2013/Britten-2013-Fig2-protons-87MeV-20.5keVum-V79-Win8.1.json gives empty-valued Dictionary \n",
      "\n",
      "Dictionary has empty values?\n",
      "109 ^th file:  /Users/kpadhikari/GitProj/KPAdhikari/EVMS_stuff/ArticlesWdSSFsAndJson/Britten-2013/Britten-2013-Fig2-protons-87MeV-20.5keVum-V79-Win8.1-sff.json gives empty-valued Dictionary \n",
      "\n",
      "Dictionary has empty values?\n",
      "252 ^th file:  /Users/kpadhikari/GitProj/KPAdhikari/EVMS_stuff/ArticlesWdSSFsAndJson/Tang-1997/Tang-1997-Fig2D-photons-Cs137-Win8.1.json gives empty-valued Dictionary \n",
      "\n",
      "Dictionary has empty values?\n",
      "273 ^th file:  /Users/kpadhikari/GitProj/KPAdhikari/EVMS_stuff/ArticlesWdSSFsAndJson/Guan-2015/Guan-2015-LQM-params-LET-dep-sff.json gives empty-valued Dictionary \n",
      "\n",
      "Dictionary has empty values?\n",
      "282 ^th file:  /Users/kpadhikari/GitProj/KPAdhikari/EVMS_stuff/ArticlesWdSSFsAndJson/Guan-2015/Guan-2015-LQM-params-LET-dep.json gives empty-valued Dictionary \n",
      "\n",
      "302 ^th file:  /Users/kpadhikari/GitProj/KPAdhikari/EVMS_stuff/ArticlesWdSSFsAndJson/Schuff-2002/Schuff-2002-Fig7-photons-Cs137-PDVC57.json is Empty, byte-size =  0 \n",
      "\n",
      "Dictionary has empty values?\n",
      "358 ^th file:  /Users/kpadhikari/GitProj/KPAdhikari/EVMS_stuff/ArticlesWdSSFsAndJson/Belli-1998/Belli-1998-Fig1b-protons-7.7keVum-Win8.1-sff.json gives empty-valued Dictionary \n",
      "\n",
      "359 ^th file:  /Users/kpadhikari/GitProj/KPAdhikari/EVMS_stuff/ArticlesWdSSFsAndJson/Belli-1998/Belli-1998-Fig1-30.5keVum.json is Empty, byte-size =  0 \n",
      "\n",
      "Dictionary has empty values?\n",
      "368 ^th file:  /Users/kpadhikari/GitProj/KPAdhikari/EVMS_stuff/ArticlesWdSSFsAndJson/Matsumoto-2014/Matsumoto-2014-Fig2H-protons-190MeV-HSG-Win8.1.json gives empty-valued Dictionary \n",
      "\n",
      "Dictionary has empty values?\n",
      "371 ^th file:  /Users/kpadhikari/GitProj/KPAdhikari/EVMS_stuff/ArticlesWdSSFsAndJson/Matsumoto-2014/Matsumoto-2014-Fig2F-protons-190MeV-HSG-Win8.1-sff.json gives empty-valued Dictionary \n",
      "\n",
      "Dictionary has empty values?\n",
      "372 ^th file:  /Users/kpadhikari/GitProj/KPAdhikari/EVMS_stuff/ArticlesWdSSFsAndJson/Matsumoto-2014/Matsumoto-2014-Fig2F-protons-190MeV-HSG-Win8.1.json gives empty-valued Dictionary \n",
      "\n",
      "Dictionary has empty values?\n",
      "418 ^th file:  /Users/kpadhikari/GitProj/KPAdhikari/EVMS_stuff/ArticlesWdSSFsAndJson/Howard-2018/Howard-2018-Fig3A-protons-71MeV-CHO-positionD1-Win8.1-sff.json gives empty-valued Dictionary \n",
      "\n",
      "Dictionary has empty values?\n",
      "473 ^th file:  /Users/kpadhikari/GitProj/KPAdhikari/EVMS_stuff/ArticlesWdSSFsAndJson/Howard-2018/Howard-2018-Fig3A-protons-71MeV-CHO-positionD1-Win8.1.json gives empty-valued Dictionary \n",
      "\n",
      "503 ^th file:  /Users/kpadhikari/GitProj/KPAdhikari/EVMS_stuff/ArticlesWdSSFsAndJson/Miller-1995/Miller-1995-Fig1C-protons-15keVum.json is Empty, byte-size =  0 \n",
      "\n",
      "503 ^th file:  /Users/kpadhikari/GitProj/KPAdhikari/EVMS_stuff/ArticlesWdSSFsAndJson/Perris-1986/Perris-1986-Fig3a-photons-Co60-V79.json is Empty, byte-size =  0 \n",
      "\n",
      "505 ^th file:  /Users/kpadhikari/GitProj/KPAdhikari/EVMS_stuff/ArticlesWdSSFsAndJson/Perris-1986/Perris-1986-Fig3a-photons-Co60.json is Empty, byte-size =  0 \n",
      "\n"
     ]
    },
    {
     "ename": "AttributeError",
     "evalue": "'str' object has no attribute 'items'",
     "output_type": "error",
     "traceback": [
      "\u001b[0;31m---------------------------------------------------------------------------\u001b[0m",
      "\u001b[0;31mAttributeError\u001b[0m                            Traceback (most recent call last)",
      "\u001b[0;32m<ipython-input-54-38c1ce683203>\u001b[0m in \u001b[0;36m<module>\u001b[0;34m\u001b[0m\n\u001b[1;32m     45\u001b[0m         \u001b[0;32mcontinue\u001b[0m\u001b[0;34m\u001b[0m\u001b[0;34m\u001b[0m\u001b[0m\n\u001b[1;32m     46\u001b[0m \u001b[0;34m\u001b[0m\u001b[0m\n\u001b[0;32m---> 47\u001b[0;31m     \u001b[0mretDict\u001b[0m \u001b[0;34m=\u001b[0m \u001b[0mreturn_inner_dict\u001b[0m\u001b[0;34m(\u001b[0m\u001b[0mjsonFile\u001b[0m\u001b[0;34m)\u001b[0m\u001b[0;34m\u001b[0m\u001b[0;34m\u001b[0m\u001b[0m\n\u001b[0m\u001b[1;32m     48\u001b[0m     \u001b[0;31m#print(retDict,\"\\n\\n\")\u001b[0m\u001b[0;34m\u001b[0m\u001b[0;34m\u001b[0m\u001b[0;34m\u001b[0m\u001b[0m\n\u001b[1;32m     49\u001b[0m     \u001b[0;32mif\u001b[0m \u001b[0mcheck_if_values_empty\u001b[0m\u001b[0;34m(\u001b[0m\u001b[0mretDict\u001b[0m\u001b[0;34m)\u001b[0m\u001b[0;34m:\u001b[0m\u001b[0;34m\u001b[0m\u001b[0;34m\u001b[0m\u001b[0m\n",
      "\u001b[0;32m<ipython-input-54-38c1ce683203>\u001b[0m in \u001b[0;36mreturn_inner_dict\u001b[0;34m(jsonFile)\u001b[0m\n\u001b[1;32m     25\u001b[0m \u001b[0;34m\u001b[0m\u001b[0m\n\u001b[1;32m     26\u001b[0m         \u001b[0;32mfor\u001b[0m \u001b[0mkey\u001b[0m\u001b[0;34m,\u001b[0m \u001b[0mvalue\u001b[0m \u001b[0;32min\u001b[0m \u001b[0mdata\u001b[0m\u001b[0;34m.\u001b[0m\u001b[0mitems\u001b[0m\u001b[0;34m(\u001b[0m\u001b[0;34m)\u001b[0m\u001b[0;34m:\u001b[0m\u001b[0;34m\u001b[0m\u001b[0;34m\u001b[0m\u001b[0m\n\u001b[0;32m---> 27\u001b[0;31m             \u001b[0;32mfor\u001b[0m \u001b[0mk\u001b[0m\u001b[0;34m,\u001b[0m \u001b[0mv\u001b[0m \u001b[0;32min\u001b[0m \u001b[0mvalue\u001b[0m\u001b[0;34m.\u001b[0m\u001b[0mitems\u001b[0m\u001b[0;34m(\u001b[0m\u001b[0;34m)\u001b[0m\u001b[0;34m:\u001b[0m\u001b[0;34m\u001b[0m\u001b[0;34m\u001b[0m\u001b[0m\n\u001b[0m\u001b[1;32m     28\u001b[0m                 \u001b[0;32mif\u001b[0m \u001b[0mkey\u001b[0m \u001b[0;34m==\u001b[0m \u001b[0;34m'Data'\u001b[0m \u001b[0;32mor\u001b[0m \u001b[0mkey\u001b[0m \u001b[0;34m==\u001b[0m \u001b[0;34m'Header'\u001b[0m\u001b[0;34m:\u001b[0m\u001b[0;34m\u001b[0m\u001b[0;34m\u001b[0m\u001b[0m\n\u001b[1;32m     29\u001b[0m                     \u001b[0mdic\u001b[0m\u001b[0;34m[\u001b[0m\u001b[0mk\u001b[0m\u001b[0;34m]\u001b[0m \u001b[0;34m=\u001b[0m \u001b[0mv\u001b[0m \u001b[0;31m#This is equivalent to list.append(..) (it adds a key-value pair to the dictionary)\u001b[0m\u001b[0;34m\u001b[0m\u001b[0;34m\u001b[0m\u001b[0m\n",
      "\u001b[0;31mAttributeError\u001b[0m: 'str' object has no attribute 'items'"
     ]
    }
   ],
   "source": [
    "import xlsxwriter\n",
    "import json\n",
    "import os, fnmatch\n",
    "import math #For log() method to evaluate natural log (Ln)\n",
    "\n",
    "def findFiles (path, filter):\n",
    "    for root, dirs, files in os.walk(path):\n",
    "        for file in fnmatch.filter(files, filter):\n",
    "            yield os.path.join(root, file)\n",
    "            \n",
    "#\"\"\"          \n",
    "keysDict = {'dose_data': 1, 'error_data': 2, 'survival_data': 3, 'cell_line': 4, 'energy': 5, \n",
    "            'let': 6, 'modality': 7, 'alpha': 8, 'alpha_X': 9, 'alpha_X_err': 10, 'alpha_err': 11, \n",
    "            'beta': 12, 'beta_X': 13, 'beta_X_err': 14, 'beta_err': 15, 'author': 16, 'year': 17, \n",
    "            'created_by': 18, 'date': 19, 'dependence': 20, 'user': 21}\n",
    "print(\"keysDict: \\n\", keysDict)\n",
    "#\"\"\"  \n",
    "    \n",
    "# Function that takes a json file and returns a dictionary of innermost elements\n",
    "def return_inner_dict(jsonFile):\n",
    "    dic = dict()    # new dictionary\n",
    "    #valueList.clear() #This will make the list an empty one without any cells/elements\n",
    "    with open(jsonFile, 'r') as json_file: #This way file is auto-closed\n",
    "        data = json.load(json_file)\n",
    "        \n",
    "        for key, value in data.items():  \n",
    "            for k, v in value.items(): \n",
    "                if key == 'Data' or key == 'Header':\n",
    "                    dic[k] = v #This is equivalent to list.append(..) (it adds a key-value pair to the dictionary)\n",
    "            \n",
    "                if key == 'Experiment':\n",
    "                    for kk, vv in v.items():\n",
    "                        dic[kk] = vv\n",
    "    return dic\n",
    " \n",
    "\n",
    "\n",
    "####### Now iterating over several json files and writing their values in different rows.\n",
    "j = 0\n",
    "for jsonFile in findFiles(r'/Users/kpadhikari/GitProj/KPAdhikari/EVMS_stuff', '*.json'):  \n",
    "    #print(jsonFile)\n",
    "    b = os.path.getsize(jsonFile)\n",
    "    if b==0:\n",
    "        print(j,\"^th file: \", jsonFile, \"is Empty, byte-size = \", b,\"\\n\")\n",
    "        continue\n",
    "\n",
    "    retDict = return_inner_dict(jsonFile)\n",
    "    #print(retDict,\"\\n\\n\")\n",
    "    if check_if_values_empty(retDict):\n",
    "        print (j,\"^th file: \", jsonFile, \"gives empty-valued Dictionary \\n\")\n",
    "        continue\n",
    "    \n",
    "\n",
    "    for key, aValue in retDict.items():  \n",
    "        #col = keysDict[key] # Mostly worked but sometimes got \"KeyError: 'E'\"\n",
    "        col = keysDict.get(key) #Returns 0 if key not found in the Dict\n",
    "        row = j+1\n",
    "        #print(\"row, col: \", row, col)\n",
    "    j+=1  #Equivalent to i++ or i = i+1 in C/C++/Java    \n",
    "    \n",
    "print(\"Total # of processed files: \", j)    \n"
   ]
  },
  {
   "cell_type": "markdown",
   "metadata": {},
   "source": [
    "### Now putting things together in the same place.\n",
    "\n",
    "Here, I collect all the essential chunks of the code that exist in different cells above (after cleaning up un-necessary parts)."
   ]
  },
  {
   "cell_type": "code",
   "execution_count": 17,
   "metadata": {},
   "outputs": [
    {
     "name": "stdout",
     "output_type": "stream",
     "text": [
      "keysDict: \n",
      " {'dose_data': 1, 'error_data': 2, 'survival_data': 3, 'cell_line': 4, 'energy': 5, 'let': 6, 'modality': 7, 'alpha': 8, 'alpha_X': 9, 'alpha_X_err': 10, 'alpha_err': 11, 'beta': 12, 'beta_X': 13, 'beta_X_err': 14, 'beta_err': 15, 'author': 16, 'year': 17, 'created_by': 18, 'date': 19, 'dependence': 20, 'user': 21}\n",
      "1 ^th file:  /Users/kpadhikari/GitProj/KPAdhikari/EVMS_stuff/ArticlesWdSSFsAndJson/Slonina-2014/Slonina-2014-Fig3B-protons-60MeV-HFIB15.json is Empty, byte-size =  0 \n",
      "\n",
      "10 ^th file:  /Users/kpadhikari/GitProj/KPAdhikari/EVMS_stuff/ArticlesWdSSFsAndJson/Robertson-1994/Robertson-1994-Fig3A-protons-155MeV-line-1.json is Empty, byte-size =  0 \n",
      "\n",
      "12 ^th file:  /Users/kpadhikari/GitProj/KPAdhikari/EVMS_stuff/ArticlesWdSSFsAndJson/Robertson-1994/Robertson-1994-Fig3A-protons-155MeV-line-2a.json is Empty, byte-size =  0 \n",
      "\n",
      "15 ^th file:  /Users/kpadhikari/GitProj/KPAdhikari/EVMS_stuff/ArticlesWdSSFsAndJson/Robertson-1994/Robertson-1994-Fig3A-protons-155MeV-line-3.json is Empty, byte-size =  0 \n",
      "\n",
      "51 ^th file:  /Users/kpadhikari/GitProj/KPAdhikari/EVMS_stuff/ArticlesWdSSFsAndJson/Gueulette-1996/Gueulette-1996-Fig1-protons-85MeV-distal-30mmSOBP.json is Empty, byte-size =  0 \n",
      "\n",
      "Dictionary has empty values?\n",
      "55 ^th file:  /Users/kpadhikari/GitProj/KPAdhikari/EVMS_stuff/ArticlesWdSSFsAndJson/Folkard-1996/Folkard-1996-Fig3a-protons-10keVum-Win8.1.json gives empty-valued Dictionary \n",
      "\n",
      "Dictionary has empty values?\n",
      "98 ^th file:  /Users/kpadhikari/GitProj/KPAdhikari/EVMS_stuff/ArticlesWdSSFsAndJson/Britten-2013/Britten-2013-Fig2-protons-87MeV-20.5keVum-V79-Win8.1.json gives empty-valued Dictionary \n",
      "\n",
      "Dictionary has empty values?\n",
      "109 ^th file:  /Users/kpadhikari/GitProj/KPAdhikari/EVMS_stuff/ArticlesWdSSFsAndJson/Britten-2013/Britten-2013-Fig2-protons-87MeV-20.5keVum-V79-Win8.1-sff.json gives empty-valued Dictionary \n",
      "\n",
      "Dictionary has empty values?\n",
      "252 ^th file:  /Users/kpadhikari/GitProj/KPAdhikari/EVMS_stuff/ArticlesWdSSFsAndJson/Tang-1997/Tang-1997-Fig2D-photons-Cs137-Win8.1.json gives empty-valued Dictionary \n",
      "\n",
      "Dictionary has empty values?\n",
      "273 ^th file:  /Users/kpadhikari/GitProj/KPAdhikari/EVMS_stuff/ArticlesWdSSFsAndJson/Guan-2015/Guan-2015-LQM-params-LET-dep-sff.json gives empty-valued Dictionary \n",
      "\n",
      "Dictionary has empty values?\n",
      "282 ^th file:  /Users/kpadhikari/GitProj/KPAdhikari/EVMS_stuff/ArticlesWdSSFsAndJson/Guan-2015/Guan-2015-LQM-params-LET-dep.json gives empty-valued Dictionary \n",
      "\n",
      "302 ^th file:  /Users/kpadhikari/GitProj/KPAdhikari/EVMS_stuff/ArticlesWdSSFsAndJson/Schuff-2002/Schuff-2002-Fig7-photons-Cs137-PDVC57.json is Empty, byte-size =  0 \n",
      "\n",
      "Invalid key:  E\n",
      "Invalid key:  mod\n",
      "Invalid key:  E\n",
      "Invalid key:  mod\n",
      "Invalid key:  E\n",
      "Invalid key:  mod\n",
      "Invalid key:  E\n",
      "Invalid key:  mod\n",
      "Invalid key:  E\n",
      "Invalid key:  mod\n",
      "Invalid key:  E\n",
      "Invalid key:  mod\n",
      "Dictionary has empty values?\n",
      "358 ^th file:  /Users/kpadhikari/GitProj/KPAdhikari/EVMS_stuff/ArticlesWdSSFsAndJson/Belli-1998/Belli-1998-Fig1b-protons-7.7keVum-Win8.1-sff.json gives empty-valued Dictionary \n",
      "\n",
      "359 ^th file:  /Users/kpadhikari/GitProj/KPAdhikari/EVMS_stuff/ArticlesWdSSFsAndJson/Belli-1998/Belli-1998-Fig1-30.5keVum.json is Empty, byte-size =  0 \n",
      "\n",
      "Dictionary has empty values?\n",
      "368 ^th file:  /Users/kpadhikari/GitProj/KPAdhikari/EVMS_stuff/ArticlesWdSSFsAndJson/Matsumoto-2014/Matsumoto-2014-Fig2H-protons-190MeV-HSG-Win8.1.json gives empty-valued Dictionary \n",
      "\n",
      "Dictionary has empty values?\n",
      "371 ^th file:  /Users/kpadhikari/GitProj/KPAdhikari/EVMS_stuff/ArticlesWdSSFsAndJson/Matsumoto-2014/Matsumoto-2014-Fig2F-protons-190MeV-HSG-Win8.1-sff.json gives empty-valued Dictionary \n",
      "\n",
      "Dictionary has empty values?\n",
      "372 ^th file:  /Users/kpadhikari/GitProj/KPAdhikari/EVMS_stuff/ArticlesWdSSFsAndJson/Matsumoto-2014/Matsumoto-2014-Fig2F-protons-190MeV-HSG-Win8.1.json gives empty-valued Dictionary \n",
      "\n",
      "Invalid key:  E\n",
      "Invalid key:  mod\n",
      "Invalid key:  E\n",
      "Invalid key:  mod\n",
      "Invalid key:  E\n",
      "Invalid key:  mod\n",
      "Invalid key:  E\n",
      "Invalid key:  mod\n",
      "Invalid key:  E\n",
      "Invalid key:  mod\n",
      "Invalid key:  E\n",
      "Invalid key:  mod\n",
      "Invalid key:  E\n",
      "Invalid key:  mod\n",
      "Invalid key:  E\n",
      "Invalid key:  mod\n",
      "Invalid key:  E\n",
      "Invalid key:  mod\n",
      "Invalid key:  E\n",
      "Invalid key:  mod\n",
      "Invalid key:  E\n",
      "Invalid key:  mod\n",
      "Invalid key:  E\n",
      "Invalid key:  mod\n",
      "Dictionary has empty values?\n",
      "418 ^th file:  /Users/kpadhikari/GitProj/KPAdhikari/EVMS_stuff/ArticlesWdSSFsAndJson/Howard-2018/Howard-2018-Fig3A-protons-71MeV-CHO-positionD1-Win8.1-sff.json gives empty-valued Dictionary \n",
      "\n",
      "Invalid key:  E\n",
      "Invalid key:  mod\n",
      "Dictionary has empty values?\n",
      "473 ^th file:  /Users/kpadhikari/GitProj/KPAdhikari/EVMS_stuff/ArticlesWdSSFsAndJson/Howard-2018/Howard-2018-Fig3A-protons-71MeV-CHO-positionD1-Win8.1.json gives empty-valued Dictionary \n",
      "\n",
      "503 ^th file:  /Users/kpadhikari/GitProj/KPAdhikari/EVMS_stuff/ArticlesWdSSFsAndJson/Miller-1995/Miller-1995-Fig1C-protons-15keVum.json is Empty, byte-size =  0 \n",
      "\n",
      "503 ^th file:  /Users/kpadhikari/GitProj/KPAdhikari/EVMS_stuff/ArticlesWdSSFsAndJson/Perris-1986/Perris-1986-Fig3a-photons-Co60-V79.json is Empty, byte-size =  0 \n",
      "\n",
      "505 ^th file:  /Users/kpadhikari/GitProj/KPAdhikari/EVMS_stuff/ArticlesWdSSFsAndJson/Perris-1986/Perris-1986-Fig3a-photons-Co60.json is Empty, byte-size =  0 \n",
      "\n"
     ]
    },
    {
     "ename": "AttributeError",
     "evalue": "'str' object has no attribute 'items'",
     "output_type": "error",
     "traceback": [
      "\u001b[0;31m---------------------------------------------------------------------------\u001b[0m",
      "\u001b[0;31mAttributeError\u001b[0m                            Traceback (most recent call last)",
      "\u001b[0;32m<ipython-input-17-b6dac93bb3c0>\u001b[0m in \u001b[0;36m<module>\u001b[0;34m\u001b[0m\n\u001b[1;32m    180\u001b[0m         \u001b[0;32mcontinue\u001b[0m\u001b[0;34m\u001b[0m\u001b[0;34m\u001b[0m\u001b[0m\n\u001b[1;32m    181\u001b[0m \u001b[0;34m\u001b[0m\u001b[0m\n\u001b[0;32m--> 182\u001b[0;31m     \u001b[0mretDict\u001b[0m \u001b[0;34m=\u001b[0m \u001b[0mreturn_inner_dict\u001b[0m\u001b[0;34m(\u001b[0m\u001b[0mjsonFile\u001b[0m\u001b[0;34m)\u001b[0m\u001b[0;34m\u001b[0m\u001b[0;34m\u001b[0m\u001b[0m\n\u001b[0m\u001b[1;32m    183\u001b[0m     \u001b[0;31m#print(retDict,\"\\n\\n\")\u001b[0m\u001b[0;34m\u001b[0m\u001b[0;34m\u001b[0m\u001b[0;34m\u001b[0m\u001b[0m\n\u001b[1;32m    184\u001b[0m     \u001b[0;32mif\u001b[0m \u001b[0mcheck_if_values_empty\u001b[0m\u001b[0;34m(\u001b[0m\u001b[0mretDict\u001b[0m\u001b[0;34m)\u001b[0m\u001b[0;34m:\u001b[0m\u001b[0;34m\u001b[0m\u001b[0;34m\u001b[0m\u001b[0m\n",
      "\u001b[0;32m<ipython-input-17-b6dac93bb3c0>\u001b[0m in \u001b[0;36mreturn_inner_dict\u001b[0;34m(jsonFile)\u001b[0m\n\u001b[1;32m     25\u001b[0m \u001b[0;34m\u001b[0m\u001b[0m\n\u001b[1;32m     26\u001b[0m         \u001b[0;32mfor\u001b[0m \u001b[0mkey\u001b[0m\u001b[0;34m,\u001b[0m \u001b[0mvalue\u001b[0m \u001b[0;32min\u001b[0m \u001b[0mdata\u001b[0m\u001b[0;34m.\u001b[0m\u001b[0mitems\u001b[0m\u001b[0;34m(\u001b[0m\u001b[0;34m)\u001b[0m\u001b[0;34m:\u001b[0m\u001b[0;34m\u001b[0m\u001b[0;34m\u001b[0m\u001b[0m\n\u001b[0;32m---> 27\u001b[0;31m             \u001b[0;32mfor\u001b[0m \u001b[0mk\u001b[0m\u001b[0;34m,\u001b[0m \u001b[0mv\u001b[0m \u001b[0;32min\u001b[0m \u001b[0mvalue\u001b[0m\u001b[0;34m.\u001b[0m\u001b[0mitems\u001b[0m\u001b[0;34m(\u001b[0m\u001b[0;34m)\u001b[0m\u001b[0;34m:\u001b[0m\u001b[0;34m\u001b[0m\u001b[0;34m\u001b[0m\u001b[0m\n\u001b[0m\u001b[1;32m     28\u001b[0m                 \u001b[0;32mif\u001b[0m \u001b[0mkey\u001b[0m \u001b[0;34m==\u001b[0m \u001b[0;34m'Data'\u001b[0m \u001b[0;32mor\u001b[0m \u001b[0mkey\u001b[0m \u001b[0;34m==\u001b[0m \u001b[0;34m'Header'\u001b[0m\u001b[0;34m:\u001b[0m\u001b[0;34m\u001b[0m\u001b[0;34m\u001b[0m\u001b[0m\n\u001b[1;32m     29\u001b[0m                     \u001b[0mdic\u001b[0m\u001b[0;34m[\u001b[0m\u001b[0mk\u001b[0m\u001b[0;34m]\u001b[0m \u001b[0;34m=\u001b[0m \u001b[0mv\u001b[0m \u001b[0;31m#This is equivalent to list.append(..) (it adds a key-value pair to the dictionary)\u001b[0m\u001b[0;34m\u001b[0m\u001b[0;34m\u001b[0m\u001b[0m\n",
      "\u001b[0;31mAttributeError\u001b[0m: 'str' object has no attribute 'items'"
     ]
    }
   ],
   "source": [
    "import xlsxwriter\n",
    "import json\n",
    "import os, fnmatch\n",
    "import math #For log() method to evaluate natural log (Ln)\n",
    "\n",
    "def findFiles (path, filter):\n",
    "    for root, dirs, files in os.walk(path):\n",
    "        for file in fnmatch.filter(files, filter):\n",
    "            yield os.path.join(root, file)\n",
    "            \n",
    "            \n",
    "keysDict = {'dose_data': 1, 'error_data': 2, 'survival_data': 3, 'cell_line': 4, 'energy': 5, \n",
    "            'let': 6, 'modality': 7, 'alpha': 8, 'alpha_X': 9, 'alpha_X_err': 10, 'alpha_err': 11, \n",
    "            'beta': 12, 'beta_X': 13, 'beta_X_err': 14, 'beta_err': 15, 'author': 16, 'year': 17, \n",
    "            'created_by': 18, 'date': 19, 'dependence': 20, 'user': 21}\n",
    "print(\"keysDict: \\n\", keysDict)\n",
    " \n",
    "    \n",
    "# Function that takes a json file and returns a dictionary of innermost elements\n",
    "def return_inner_dict(jsonFile):\n",
    "    dic = dict()    # new dictionary\n",
    "    #valueList.clear() #This will make the list an empty one without any cells/elements\n",
    "    with open(jsonFile, 'r') as json_file: #This way file is auto-closed\n",
    "        data = json.load(json_file)\n",
    "        \n",
    "        for key, value in data.items():  \n",
    "            for k, v in value.items(): \n",
    "                if key == 'Data' or key == 'Header':\n",
    "                    dic[k] = v #This is equivalent to list.append(..) (it adds a key-value pair to the dictionary)\n",
    "            \n",
    "                if key == 'Experiment':\n",
    "                    for kk, vv in v.items():\n",
    "                        dic[kk] = vv\n",
    "    return dic\n",
    "\n",
    "\n",
    "def check_if_values_empty(Dict):\n",
    "    allValues = ''\n",
    "    for key, aValue in Dict.items():  \n",
    "        allValues = allValues + aValue\n",
    "    \n",
    "    #if allValues == None:\n",
    "    if len(allValues) == 0:\n",
    "        print(\"Dictionary has empty values?\")\n",
    "        return True\n",
    "    else:\n",
    "        #print(\"Dictionary has non-empty values:\\n\", allValues)\n",
    "        return False\n",
    "    \n",
    "\n",
    "\n",
    "def return_RBE(Dict):\n",
    "    taP = Dict.get('alpha')\n",
    "    tbP  = Dict.get('beta')\n",
    "    taX = Dict.get('alpha_X')\n",
    "    tbX  = Dict.get('beta_X')\n",
    "    \"\"\"\n",
    "    print('Dict: ', type(Dict), 'len(Dict)=', len(Dict), \n",
    "         taP, tbP, taX, tbX, type(taP), type(tbP), type(taX), type(tbX) )\n",
    "    \"\"\"\n",
    "    if taP == None or tbP == None or taX == None or tbX == None:\n",
    "        return -1.0\n",
    "    else:\n",
    "        if taP and tbP and taX and tbX:\n",
    "            alphaP = float(Dict.get('alpha')) \n",
    "            betaP  = float(Dict.get('beta'))\n",
    "            alphaX = float(Dict.get('alpha_X'))\n",
    "            betaX  = float(Dict.get('beta_X'))\n",
    "            lnSF = math.log(0.1) #natural log of SF = 0.1 (SF = 10%)\n",
    "\n",
    "            #sqrtNumer = math.sqrt(math.pow(alphaX, 2) - 4 * betaX * lnSF)\n",
    "            #sqrtDenom = math.sqrt(math.pow(alphaP, 2) - 4 * betaP * lnSF)\n",
    "            #sqrtNumer = math.sqrt(alpha_X**2 - 4*beta_X*lnSF)\n",
    "            #sqrtDenom = math.sqrt(alpha_P**2 - 4*beta_P*lnSF)\n",
    "\n",
    "            sqrtNumer = math.sqrt(alphaX * alphaX - 4*betaX*lnSF)\n",
    "            sqrtDenom = math.sqrt(alphaP * alphaP - 4*betaP*lnSF)\n",
    "            RBEnumer = (sqrtNumer - alphaX) * betaP\n",
    "            RBEdenom = (sqrtDenom - alphaP) * betaX\n",
    "            if RBEdenom == 0:\n",
    "                return -2.0\n",
    "            else:\n",
    "                RBE = RBEnumer/RBEdenom\n",
    "                return RBE\n",
    "        else:\n",
    "            return -3.0\n",
    "\n",
    "\n",
    "        \n",
    "def return_RBE_Err(Dict):\n",
    "    taP  = Dict.get('alpha')\n",
    "    tbP  = Dict.get('beta')\n",
    "    taX  = Dict.get('alpha_X')\n",
    "    tbX  = Dict.get('beta_X')\n",
    "    taPe  = Dict.get('alpha_err')\n",
    "    tbPe  = Dict.get('beta_err')\n",
    "    taXe  = Dict.get('alpha_X_err')\n",
    "    tbXe  = Dict.get('beta_X_err')\n",
    "\n",
    "    print(type(taP), type(tbP), type(taX), type(tbX), type(taPe), \\\n",
    "                  type(tbPe), type(taXe), type(tbXe), \\\n",
    "                  taP, tbP, taX, tbX, taPe, tbPe, taXe, tbXe)\n",
    "\n",
    "    \n",
    "    if taP == None or tbP == None or taX == None or tbX == None or \\\n",
    "    taPe == None or tbPe == None or taXe == None or tbXe == None:\n",
    "        return -1.0\n",
    "    else:\n",
    "        # you can just use strip() instead of strip('\\n') - it stripes all whitespaces automatically – yedpodtrzitko Feb 5 '17 at 19:08\n",
    "        # https://stackoverflow.com/questions/42013867/valueerror-could-not-convert-string-to-float-0-274697-n\n",
    "        u  = float(taP)   #For P\n",
    "        v  = float(tbP)   #For P\n",
    "        x  = float(taX)   #For X\n",
    "        y  = float(tbX)   #For X\n",
    "        # https://stackoverflow.com/questions/48075861/valueerror-could-not-convert-string-to-float\n",
    "        du = float(taPe.strip()) # str.strip(\"x\") removes x from str etc.\n",
    "        dv = float(tbPe.strip())\n",
    "        dx = float(taXe.strip())\n",
    "        dy = float(tbXe.strip())\n",
    "        lnSF = math.log(0.1) #natural log of SF = 0.1 (SF = 10%)\n",
    " \n",
    "\n",
    "        #if taP and tbP and taX and tbX and taPe and tbPe and taXe and tbXe:\n",
    "        if int(u) and int(v) and int(x) and int(y) and \\\n",
    "            int(du) and int(dv) and int(dx) and int(dy):\n",
    "\n",
    "\n",
    "            sqrtXU = math.sqrt(x - 4*u*lnSF)\n",
    "            sqrtYV = math.sqrt(y - 4*v*lnSF)\n",
    "            # Now the partial derivatives (df_dx means df/dx & so on)\n",
    "            # Derived by myself but also Verified @ https://www.derivative-calculator.net/#\n",
    "            # https://en.wikipedia.org/wiki/Propagation_of_uncertainty\n",
    "            # f = RBE = [(sqrt(x - 4 u lnSF) - x) / (sqrt(y - 4 v lnSF) - y)] * v/u\n",
    "            df_dx = ( v/(u*(sqrtYV - y))) * ( 1/(2*sqrtXU) - 1) \n",
    "            df_dy = - (v/u)*((sqrtXU - x)/math.pow((sqrtYV - y),2))*(1/(2*sqrtYV) - 1)\n",
    "            df_du = - (v/(u*u))*(sqrtXU - x)/(sqrtYV - y)  - 2*v*lnSF/(u*sqrtXU*(sqrtYV - y))\n",
    "            df_dv = (sqrtXU - x)/((sqrtYV - y)*u) \\\n",
    "                    + 2*v*lnSF*(sqrtXU - x)/(u*sqrtYV*math.pow((sqrtYV - y),2))\n",
    "            \n",
    "            RBEerr = math.sqrt(df_dx*df_dx * dx + df_dy*df_dy * dy \\\n",
    "                              + df_du*df_du * dy  + df_dv*df_dv * dv)\n",
    "            return RBEerr\n",
    "        else:\n",
    "            return -3.0\n",
    "        \n",
    "        \n",
    "# Creating an Excel file. \n",
    "workbook = xlsxwriter.Workbook('testRBE.xlsx')\n",
    "\n",
    "# workbook object used to add new worksheet via add_worksheet() method. \n",
    "worksheet = workbook.add_worksheet()\n",
    "\n",
    "# Widen the first 3-columns a little bit (contents are large strings).\n",
    "worksheet.set_column('A:A', 20)\n",
    "worksheet.set_column(0,1, 20)\n",
    "worksheet.set_column(0,2, 20)\n",
    "\n",
    "# Add a bold format to use to highlight cells.\n",
    "bold = workbook.add_format({'bold': True})\n",
    "\n",
    "#Writing Headers in the first row \n",
    "for hKeys, hValues in keysDict.items():\n",
    "    worksheet.write(0, hValues-1, hKeys, bold) #kp: row, col, values, style\n",
    "\n",
    "#Next to Last column is for RBE (which is calculated using eq 7 of Chen-Ahmad-2012.pdf)\n",
    "worksheet.write(0, len(keysDict), \"RBE\", bold) #kp: row, col, values, style\n",
    "\n",
    "#Last column is for RBEerr (which is calculated using eq 7 of Chen-Ahmad-2012.pdf\n",
    "#  for RBE and then error propagation formula (through partial derivatives)\n",
    "worksheet.write(0, len(keysDict) + 1, \"RBE_err\", bold) #kp: row, col, values, style\n",
    "\n",
    "    \n",
    "####### Now iterating over several json files and writing their values in different rows.\n",
    "j = 0\n",
    "for jsonFile in findFiles(r'/Users/kpadhikari/GitProj/KPAdhikari/EVMS_stuff', '*.json'):  \n",
    "    #print(jsonFile)\n",
    "    b = os.path.getsize(jsonFile)\n",
    "    if b==0:\n",
    "        print(j,\"^th file: \", jsonFile, \"is Empty, byte-size = \", b,\"\\n\")\n",
    "        continue\n",
    "\n",
    "    retDict = return_inner_dict(jsonFile)\n",
    "    #print(retDict,\"\\n\\n\")\n",
    "    if check_if_values_empty(retDict):\n",
    "        print (j,\"^th file: \", jsonFile, \"gives empty-valued Dictionary \\n\")\n",
    "        continue\n",
    "    \n",
    "    if len(retDict) > 0:\n",
    "        RBE = return_RBE(retDict)\n",
    "        #RBE_Err = return_RBE_Err(retDict) # showed some intractable error (so abandoned 10/9/19)\n",
    "        \n",
    "    # First writing the RBE value in the last column\n",
    "    if RBE:\n",
    "        worksheet.write(j+1, len(keysDict), RBE)\n",
    "        #print('RBE=', RBE)\n",
    "    if RBE_Err:\n",
    "        worksheet.write(j+1, len(keysDict)+1, RBE_Err)\n",
    "\n",
    "    for key, aValue in retDict.items():  \n",
    "        #col = keysDict[key] # Mostly worked but sometimes got \"KeyError: 'E'\"\n",
    "        col = keysDict.get(key) #Returns 0 if key not found in the Dict\n",
    "        if col:\n",
    "            worksheet.write(j+1, col-1, aValue)\n",
    "        else:\n",
    "            print(\"Invalid key: \", key)\n",
    "            #continue\n",
    "        \n",
    "    j+=1  #Equivalent to i++ or i = i+1 in C/C++/Java    \n",
    "    \n",
    "print(\"Total # of processed files: \", j)    \n",
    "    \n",
    "workbook.close()"
   ]
  },
  {
   "cell_type": "markdown",
   "metadata": {},
   "source": [
    "More to read on:\n",
    "\n",
    "https://stackoverflow.com/questions/25605380/passing-directory-to-python-script-as-command-line-argument\n",
    "\n",
    "http://www.tutorialspoint.com/python/python_command_line_arguments.htm\n",
    "\n",
    "```py\n",
    "#!/usr/bin/python\n",
    "\n",
    "import sys, getopt\n",
    "\n",
    "def main(argv):\n",
    "   inputfile = ''\n",
    "   outputfile = ''\n",
    "   try:\n",
    "      opts, args = getopt.getopt(argv,\"hi:o:\",[\"ifile=\",\"ofile=\"])\n",
    "   except getopt.GetoptError:\n",
    "      print 'test.py -i <inputfile> -o <outputfile>'\n",
    "      sys.exit(2)\n",
    "   for opt, arg in opts:\n",
    "      if opt == '-h':\n",
    "         print 'test.py -i <inputfile> -o <outputfile>'\n",
    "         sys.exit()\n",
    "      elif opt in (\"-i\", \"--ifile\"):\n",
    "         inputfile = arg\n",
    "      elif opt in (\"-o\", \"--ofile\"):\n",
    "         outputfile = arg\n",
    "   print 'Input file is \"', inputfile\n",
    "   print 'Output file is \"', outputfile\n",
    "\n",
    "if __name__ == \"__main__\":\n",
    "   main(sys.argv[1:])\n",
    "```\n",
    "\n",
    "* https://docs.aspose.com/display/cellsjava/Inserting+and+Deleting+Rows+and+Columns+in+Python\n",
    "* https://openpyxl.readthedocs.io/en/stable/editing_worksheets.html\n",
    "\n",
    "* https://stackoverflow.com/questions/17299364/insert-row-into-excel-spreadsheet-using-openpyxl-in-python\n",
    "Insert row into Excel spreadsheet using openpyxl in Python\n",
    "\n",
    "Unfortunately there isn't really a better way to do in that read in the file, and use a library like xlwt to write out a new excel file (with your new row inserted at the top). Excel doesn't work like a database that you can read and and append to. You unfortunately just have to read in the information and manipulate in memory and write out to what is essentially a new file."
   ]
  },
  {
   "cell_type": "markdown",
   "metadata": {},
   "source": [
    "[GoTop](#GoTop)<a id='JSONencodingAndDecodingWithPython'></a>\n",
    "## JSON encoding and decoding with Python\n",
    "Refs:\n",
    "* https://pythonspot.com/json-encoding-and-decoding-with-python/ \n",
    "\n",
    "#### Introduction\n",
    "JSON (JavaScript Object Notation) is frequently used between a server and a web application. An example of JSON data:\n",
    "```json\n",
    "{\n",
    "    \"persons\": [\n",
    "        {\n",
    "            \"city\": \"Seattle\", \n",
    "            \"name\": \"Brian\"\n",
    "        }, \n",
    "        {\n",
    "            \"city\": \"Amsterdam\", \n",
    "            \"name\": \"David\"\n",
    "        }\n",
    "    ]\n",
    "}\n",
    "```\n",
    "The json module enables you to convert between JSON and Python Objects.\n",
    "\n",
    "### JSON conversion examples\n",
    "### Convert JSON to Python Object (Dict)\n",
    "To convert JSON to a Python [dict](https://pythonspot.com/python-dictionaries/) use this:"
   ]
  },
  {
   "cell_type": "code",
   "execution_count": null,
   "metadata": {},
   "outputs": [],
   "source": []
  },
  {
   "cell_type": "code",
   "execution_count": 55,
   "metadata": {},
   "outputs": [
    {
     "name": "stdout",
     "output_type": "stream",
     "text": [
      "Brian  , ----- ,  Seattle\n"
     ]
    }
   ],
   "source": [
    "import json\n",
    "\n",
    "json_data = '{\"name\": \"Brian\", \"city\": \"Seattle\"}'\n",
    "python_obj = json.loads(json_data)\n",
    "print(python_obj[\"name\"], \" , ----- , \", python_obj[\"city\"])\n"
   ]
  },
  {
   "cell_type": "markdown",
   "metadata": {},
   "source": [
    "### Convert JSON to Python Object (List)\n",
    "JSON data can be directly mapped to a Python list."
   ]
  },
  {
   "cell_type": "code",
   "execution_count": 57,
   "metadata": {},
   "outputs": [
    {
     "name": "stdout",
     "output_type": "stream",
     "text": [
      "coffee\n",
      "tea\n",
      "water\n"
     ]
    }
   ],
   "source": [
    "import json\n",
    "\n",
    "array = '{\"drinks\": [\"coffee\", \"tea\", \"water\"]}'\n",
    "data = json.loads(array)\n",
    "\n",
    "for element in data['drinks']:\n",
    "    print(element)"
   ]
  },
  {
   "cell_type": "markdown",
   "metadata": {},
   "source": [
    "### Convert JSON to Python Object (float)\n",
    "Floating points can be mapped using the decimal library."
   ]
  },
  {
   "cell_type": "code",
   "execution_count": 59,
   "metadata": {},
   "outputs": [
    {
     "name": "stdout",
     "output_type": "stream",
     "text": [
      "1.573937639\n"
     ]
    }
   ],
   "source": [
    "import json\n",
    "from decimal import Decimal\n",
    "\n",
    "jsondata = '{\"number\": 1.573937639}'\n",
    "\n",
    "x = json.loads(jsondata, parse_float=Decimal)\n",
    "print(x['number'])"
   ]
  },
  {
   "cell_type": "markdown",
   "metadata": {},
   "source": [
    "### Convert JSON to Python Object (Example)\n",
    "JSON data often holds multiple objects, an example of how to use that below:"
   ]
  },
  {
   "cell_type": "code",
   "execution_count": 62,
   "metadata": {},
   "outputs": [
    {
     "name": "stdout",
     "output_type": "stream",
     "text": [
      "Brian\n",
      "David\n"
     ]
    }
   ],
   "source": [
    "import json\n",
    " \n",
    "json_input = '{\"persons\": [{\"name\": \"Brian\", \"city\": \"Seattle\"}, {\"name\": \"David\", \"city\": \"Amsterdam\"} ] }'\n",
    "\n",
    "try:\n",
    "    decoded = json.loads(json_input)\n",
    " \n",
    "    # Access data\n",
    "    for x in decoded['persons']:\n",
    "        print (x['name'])\n",
    " \n",
    "except (ValueError, KeyError, TypeError):\n",
    "    print (\"JSON format error\")"
   ]
  },
  {
   "cell_type": "markdown",
   "metadata": {},
   "source": [
    "### Convert Python Object (Dict) to JSON\n",
    "If you want to convert a Python Object to JSON use the json.dumps() method."
   ]
  },
  {
   "cell_type": "code",
   "execution_count": 63,
   "metadata": {},
   "outputs": [
    {
     "name": "stdout",
     "output_type": "stream",
     "text": [
      "{\"Name\": \"Luke\", \"Country\": \"Canada\"}\n"
     ]
    }
   ],
   "source": [
    "import json\n",
    "from decimal import Decimal\n",
    "\n",
    "d = {}\n",
    "d[\"Name\"] = \"Luke\"\n",
    "d[\"Country\"] = \"Canada\"\n",
    "\n",
    "print (json.dumps(d, ensure_ascii=False))\n",
    "# result {\"Country\": \"Canada\", \"Name\": \"Luke\"}"
   ]
  },
  {
   "cell_type": "markdown",
   "metadata": {},
   "source": [
    "### Converting JSON data to Python objects\n",
    "JSON data can be converted (deserialized) to Pyhon objects using the json.loads() function. A table of the mapping:\n",
    "```\n",
    "JSON \tPython\n",
    "===============\n",
    "object \t        dict\n",
    "array \t        list\n",
    "string \t        str\n",
    "number (int) \tint\n",
    "number (real) \tfloat\n",
    "true \t        True\n",
    "false \t        False\n",
    "null \t        None\n",
    "```\n",
    "### Pretty printing\n",
    "\n",
    "\n",
    "If you want to display JSON data you can use the json.dumps() function."
   ]
  },
  {
   "cell_type": "code",
   "execution_count": 64,
   "metadata": {},
   "outputs": [
    {
     "name": "stdout",
     "output_type": "stream",
     "text": [
      "{\n",
      "    \"city\": \"Seattle\",\n",
      "    \"name\": \"Brian\"\n",
      "}\n"
     ]
    }
   ],
   "source": [
    "import json\n",
    "\n",
    "json_data = '{\"name\": \"Brian\", \"city\": \"Seattle\"}'\n",
    "python_obj = json.loads(json_data)\n",
    "print (json.dumps(python_obj, sort_keys=True, indent=4))"
   ]
  },
  {
   "cell_type": "code",
   "execution_count": 19,
   "metadata": {},
   "outputs": [
    {
     "name": "stdout",
     "output_type": "stream",
     "text": [
      "\n",
      "And this is my Dictionary of size:  21\n",
      "{'dose_data': '0.975 0.975 1.95 1.95 1.95 2.95 2.95 3.925 3.925 3.925 5.9 5.9 5.9 5.9 7.86', 'error_data': '0.0406 0.0259 0.0234 0.0114 0.0274 0.0133 0.0052 0.0069 0.0050 0.0020 0.0008 0.0003 0.0009 0.0004 0.0001', 'survival_data': '0.561245 0.391369 0.256977 0.189925 0.138746 0.145901 0.057546 0.087797 0.038226 0.024148 0.008795 0.004251 0.003369 0.002031 0.000471', 'cell_line': 'HFIB2', 'energy': '6MV', 'let': '-keV/$\\\\mu$m', 'modality': 'photons', 'alpha': '0.689', 'alpha_X': '0.689', 'alpha_X_err': '0.164', 'alpha_err': '0.164', 'beta': '0.041', 'beta_X': '0.041', 'beta_X_err': '0.015', 'beta_err': '0.015', 'author': 'Slonina', 'year': '2014', 'created_by': 'Plot Digitizer     2.6.8', 'date': 'Date: 3/10/18     7:52:58 AM', 'dependence': 'SF(Dose (Gy))', 'user': 'pawel'}\n"
     ]
    }
   ],
   "source": [
    "# Function that takes a json file and returns a dictionary of innermost elements\n",
    "import json\n",
    "path = \"/Users/kpadhikari/GitProj/KPAdhikari/EVMS_stuff/ArticlesWdSSFsAndJson/\"\n",
    "file = \"Slonina-2014/Slonina-2014-Fig3A-photons-6MV-HFIB2.json\"\n",
    "myJson = path + file\n",
    "\n",
    "def return_inner_dict(jsonFile):\n",
    "    dic = dict()    # new dictionary\n",
    "    #valueList.clear() #This will make the list an empty one without any cells/elements\n",
    "    with open(jsonFile, 'r') as json_file:\n",
    "        data = json.load(json_file)\n",
    "        \n",
    "        for key, value in data.items():  \n",
    "            #print(key,\":\", value, \"\\n\\n\")  \n",
    "            for k, v in value.items(): \n",
    "                if key == 'Data' or key == 'Header':\n",
    "                    dic[k] = v #This is equivalent to list.append(..) (it adds a key-value pair to the dictionary)\n",
    "            \n",
    "            #print(k,\":\", v)\n",
    "                if key == 'Experiment':\n",
    "                    for kk, vv in v.items():\n",
    "                        dic[kk] = vv\n",
    "        #print(\"\\n\\n\\n\")\n",
    "    return dic\n",
    "\n",
    "retDict = return_inner_dict(myJson)\n",
    "print(\"\\nAnd this is my Dictionary of size: \", len(retDict))\n",
    "print(retDict)"
   ]
  },
  {
   "cell_type": "markdown",
   "metadata": {},
   "source": [
    "You can use the `dumps()` function to create a JSON formatted string from a dictionary.\n",
    "    \n",
    "    print(json.dumps(my_dictionary))\n",
    "\n",
    "The output from this dumps command is quite complicated, because it won’t use any kind of indentation by default. To create a more readable output, you can add the `indent` parameter to the function call, which will add some hierarchy and indention to the output.\n",
    "\n",
    "    print(json.dumps(my_dictionary, indent=4))\n",
    "\n",
    "By default, the keys within a python dictionary are unsorted and the output of the `json.dumps()` function may be different when executing multiple times. I ran into this issue while writing some test cases, but setting the `sort_keys` parameter to true will solve the problem. This will sort the key values of the dictionary and will produce always the same output when using the same data.\n",
    "\n",
    "    print(json.dumps(my_dictionary, indent=4, sort_keys=True))"
   ]
  },
  {
   "cell_type": "code",
   "execution_count": 74,
   "metadata": {},
   "outputs": [
    {
     "name": "stdout",
     "output_type": "stream",
     "text": [
      "/Users/kpadhikari/GitProj/KPAdhikari/EVMS_stuff/ArticlesWdSSFsAndJson/Slonina-2014/Slonina-2014-Fig3A-photons-6MV-HFIB2.json\n",
      "\n",
      " Keys:  dict_keys(['Data', 'Experiment', 'Header']) \n",
      "\n",
      "{\"Data\": {\"dose_data\": \"0.975 0.975 1.95 1.95 1.95 2.95 2.95 3.925 3.925 3.925 5.9 5.9 5.9 5.9 7.86\", \"error_data\": \"0.0406 0.0259 0.0234 0.0114 0.0274 0.0133 0.0052 0.0069 0.0050 0.0020 0.0008 0.0003 0.0009 0.0004 0.0001\", \"survival_data\": \"0.561245 0.391369 0.256977 0.189925 0.138746 0.145901 0.057546 0.087797 0.038226 0.024148 0.008795 0.004251 0.003369 0.002031 0.000471\"}, \"Experiment\": {\"Biophysical_info\": {\"cell_line\": \"HFIB2\", \"energy\": \"6MV\", \"let\": \"-keV/$\\\\mu$m\", \"modality\": \"photons\"}, \"Original_values\": {\"alpha\": \"0.689\", \"alpha_X\": \"0.689\", \"alpha_X_err\": \"0.164\", \"alpha_err\": \"0.164\", \"beta\": \"0.041\", \"beta_X\": \"0.041\", \"beta_X_err\": \"0.015\", \"beta_err\": \"0.015\"}, \"Publication\": {\"author\": \"Slonina\", \"year\": \"2014\"}}, \"Header\": {\"created_by\": \"Plot Digitizer     2.6.8\", \"date\": \"Date: 3/10/18     7:52:58 AM\", \"dependence\": \"SF(Dose (Gy))\", \"user\": \"pawel\"}} \n",
      "\n",
      "{\n",
      "    \"Data\": {\n",
      "        \"dose_data\": \"0.975 0.975 1.95 1.95 1.95 2.95 2.95 3.925 3.925 3.925 5.9 5.9 5.9 5.9 7.86\",\n",
      "        \"error_data\": \"0.0406 0.0259 0.0234 0.0114 0.0274 0.0133 0.0052 0.0069 0.0050 0.0020 0.0008 0.0003 0.0009 0.0004 0.0001\",\n",
      "        \"survival_data\": \"0.561245 0.391369 0.256977 0.189925 0.138746 0.145901 0.057546 0.087797 0.038226 0.024148 0.008795 0.004251 0.003369 0.002031 0.000471\"\n",
      "    },\n",
      "    \"Experiment\": {\n",
      "        \"Biophysical_info\": {\n",
      "            \"cell_line\": \"HFIB2\",\n",
      "            \"energy\": \"6MV\",\n",
      "            \"let\": \"-keV/$\\\\mu$m\",\n",
      "            \"modality\": \"photons\"\n",
      "        },\n",
      "        \"Original_values\": {\n",
      "            \"alpha\": \"0.689\",\n",
      "            \"alpha_X\": \"0.689\",\n",
      "            \"alpha_X_err\": \"0.164\",\n",
      "            \"alpha_err\": \"0.164\",\n",
      "            \"beta\": \"0.041\",\n",
      "            \"beta_X\": \"0.041\",\n",
      "            \"beta_X_err\": \"0.015\",\n",
      "            \"beta_err\": \"0.015\"\n",
      "        },\n",
      "        \"Publication\": {\n",
      "            \"author\": \"Slonina\",\n",
      "            \"year\": \"2014\"\n",
      "        }\n",
      "    },\n",
      "    \"Header\": {\n",
      "        \"created_by\": \"Plot Digitizer     2.6.8\",\n",
      "        \"date\": \"Date: 3/10/18     7:52:58 AM\",\n",
      "        \"dependence\": \"SF(Dose (Gy))\",\n",
      "        \"user\": \"pawel\"\n",
      "    }\n",
      "} \n",
      "\n",
      "{\n",
      "    \"Data\": {\n",
      "        \"dose_data\": \"0.975 0.975 1.95 1.95 1.95 2.95 2.95 3.925 3.925 3.925 5.9 5.9 5.9 5.9 7.86\",\n",
      "        \"error_data\": \"0.0406 0.0259 0.0234 0.0114 0.0274 0.0133 0.0052 0.0069 0.0050 0.0020 0.0008 0.0003 0.0009 0.0004 0.0001\",\n",
      "        \"survival_data\": \"0.561245 0.391369 0.256977 0.189925 0.138746 0.145901 0.057546 0.087797 0.038226 0.024148 0.008795 0.004251 0.003369 0.002031 0.000471\"\n",
      "    },\n",
      "    \"Experiment\": {\n",
      "        \"Biophysical_info\": {\n",
      "            \"cell_line\": \"HFIB2\",\n",
      "            \"energy\": \"6MV\",\n",
      "            \"let\": \"-keV/$\\\\mu$m\",\n",
      "            \"modality\": \"photons\"\n",
      "        },\n",
      "        \"Original_values\": {\n",
      "            \"alpha\": \"0.689\",\n",
      "            \"alpha_X\": \"0.689\",\n",
      "            \"alpha_X_err\": \"0.164\",\n",
      "            \"alpha_err\": \"0.164\",\n",
      "            \"beta\": \"0.041\",\n",
      "            \"beta_X\": \"0.041\",\n",
      "            \"beta_X_err\": \"0.015\",\n",
      "            \"beta_err\": \"0.015\"\n",
      "        },\n",
      "        \"Publication\": {\n",
      "            \"author\": \"Slonina\",\n",
      "            \"year\": \"2014\"\n",
      "        }\n",
      "    },\n",
      "    \"Header\": {\n",
      "        \"created_by\": \"Plot Digitizer     2.6.8\",\n",
      "        \"date\": \"Date: 3/10/18     7:52:58 AM\",\n",
      "        \"dependence\": \"SF(Dose (Gy))\",\n",
      "        \"user\": \"pawel\"\n",
      "    }\n",
      "} \n",
      "\n"
     ]
    }
   ],
   "source": [
    "# Function that takes a json file and returns a dictionary of innermost elements\n",
    "import json\n",
    "\n",
    "print(myJson)\n",
    "\n",
    "with open(myJson, 'r') as json_file:\n",
    "    python_obj = json.load(json_file)\n",
    "    print(\"\\n Keys: \", python_obj.keys(), \"\\n\")\n",
    "    print (json.dumps(python_obj), \"\\n\")    \n",
    "    print (json.dumps(python_obj,indent=4), \"\\n\")    \n",
    "    print (json.dumps(python_obj, sort_keys=True, indent=4), \"\\n\")"
   ]
  },
  {
   "cell_type": "code",
   "execution_count": 78,
   "metadata": {},
   "outputs": [
    {
     "name": "stdout",
     "output_type": "stream",
     "text": [
      "key 1 : type(value) <class 'str'>\n",
      "key 2 : type(value) <class 'str'>\n"
     ]
    }
   ],
   "source": [
    "my_dict = {\n",
    "    \"key 1\": \"value 1\",\n",
    "    \"key 2\": \"value 2\"\n",
    "}\n",
    "\n",
    "for key, value in my_dict.items():\n",
    "    print(key, \": type(value)\", type(value))"
   ]
  },
  {
   "cell_type": "code",
   "execution_count": 83,
   "metadata": {},
   "outputs": [
    {
     "name": "stdout",
     "output_type": "stream",
     "text": [
      "/Users/kpadhikari/GitProj/KPAdhikari/EVMS_stuff/ArticlesWdSSFsAndJson/Slonina-2014/Slonina-2014-Fig3A-photons-6MV-HFIB2.json\n",
      "\n",
      " Keys:  dict_keys(['Data', 'Experiment', 'Header']) \n",
      "\n",
      "Data : type(value):  <class 'dict'> : len(value):  3\n",
      "Now, looking at each subdictionaries:\n",
      "\t Data dose_data : type(v):  <class 'str'> : len(v):  75\n",
      "\t Data error_data : type(v):  <class 'str'> : len(v):  104\n",
      "\t Data survival_data : type(v):  <class 'str'> : len(v):  134\n",
      "Experiment : type(value):  <class 'dict'> : len(value):  3\n",
      "Now, looking at each subdictionaries:\n",
      "\t Experiment Biophysical_info : type(v):  <class 'dict'> : len(v):  4\n",
      "\t Experiment Original_values : type(v):  <class 'dict'> : len(v):  8\n",
      "\t Experiment Publication : type(v):  <class 'dict'> : len(v):  2\n",
      "Header : type(value):  <class 'dict'> : len(value):  4\n",
      "Now, looking at each subdictionaries:\n",
      "\t Header created_by : type(v):  <class 'str'> : len(v):  24\n",
      "\t Header date : type(v):  <class 'str'> : len(v):  28\n",
      "\t Header dependence : type(v):  <class 'str'> : len(v):  13\n",
      "\t Header user : type(v):  <class 'str'> : len(v):  5\n"
     ]
    }
   ],
   "source": [
    "# Function that takes a json file and returns a dictionary of innermost elements\n",
    "import json\n",
    "\n",
    "print(myJson)\n",
    "\n",
    "with open(myJson, 'r') as json_file:\n",
    "    python_obj = json.load(json_file)\n",
    "    print(\"\\n Keys: \", python_obj.keys(), \"\\n\")\n",
    "    #print (json.dumps(python_obj, sort_keys=True, indent=4), \"\\n\") #works\n",
    "    for key, value in python_obj.items():\n",
    "        print(key, \": type(value): \", type(value),  \": len(value): \", len(value))\n",
    "        print(\"Now, looking at each subdictionaries:\")\n",
    "        for k, v in value.items():\n",
    "            print(\"\\t\", key, k, \": type(v): \", type(v),  \": len(v): \", len(v))\n"
   ]
  },
  {
   "cell_type": "code",
   "execution_count": 88,
   "metadata": {},
   "outputs": [
    {
     "name": "stdout",
     "output_type": "stream",
     "text": [
      "Data\n",
      "dose_data\n",
      "error_data\n",
      "survival_data\n",
      "Experiment\n",
      "Biophysical_info\n",
      "cell_line\n",
      "energy\n",
      "let\n",
      "modality\n",
      "Original_values\n",
      "alpha\n",
      "alpha_X\n",
      "alpha_X_err\n",
      "alpha_err\n",
      "beta\n",
      "beta_X\n",
      "beta_X_err\n",
      "beta_err\n",
      "Publication\n",
      "author\n",
      "year\n",
      "Header\n",
      "created_by\n",
      "date\n",
      "dependence\n",
      "user\n"
     ]
    }
   ],
   "source": [
    "# I got 'isinstance(obj, MyClass)' idea from\n",
    "# https://stackoverflow.com/questions/707674/how-to-compare-type-of-an-object-in-python\n",
    "def returnDictKeysRecursive(obj):\n",
    "    if isinstance(obj, dict):\n",
    "        for key, value in obj.items():\n",
    "            print(key)\n",
    "            if isinstance(value, dict):\n",
    "                returnDictKeysRecursive(value)\n",
    "\n",
    "with open(myJson, 'r') as json_file:\n",
    "    python_obj = json.load(json_file)\n",
    "    returnDictKeysRecursive(python_obj)"
   ]
  },
  {
   "cell_type": "code",
   "execution_count": 71,
   "metadata": {},
   "outputs": [
    {
     "name": "stdout",
     "output_type": "stream",
     "text": [
      "Len:  27 ['Data', 'dose_data', 'error_data', 'survival_data', 'Experiment', 'Biophysical_info', 'cell_line', 'energy', 'let', 'modality', 'Original_values', 'alpha', 'alpha_X', 'alpha_X_err', 'alpha_err', 'beta', 'beta_X', 'beta_X_err', 'beta_err', 'Publication', 'author', 'year', 'Header', 'created_by', 'date', 'dependence', 'user'] \n",
      "\n",
      "Len:  21 ['dose_data', 'error_data', 'survival_data', 'cell_line', 'energy', 'let', 'modality', 'alpha', 'alpha_X', 'alpha_X_err', 'alpha_err', 'beta', 'beta_X', 'beta_X_err', 'beta_err', 'author', 'year', 'created_by', 'date', 'dependence', 'user'] \n",
      "\n",
      "{'dose_data': 1, 'error_data': 2, 'survival_data': 3, 'cell_line': 4, 'energy': 5, 'let': 6, 'modality': 7, 'alpha': 8, 'alpha_X': 9, 'alpha_X_err': 10, 'alpha_err': 11, 'beta': 12, 'beta_X': 13, 'beta_X_err': 14, 'beta_err': 15, 'author': 16, 'year': 17, 'created_by': 18, 'date': 19, 'dependence': 20, 'user': 21} \n",
      "\n",
      "{'dose_data': '0.975 0.975 1.95 1.95 1.95 2.95 2.95 3.925 3.925 3.925 5.9 5.9 5.9 5.9 7.86', 'error_data': '0.0406 0.0259 0.0234 0.0114 0.0274 0.0133 0.0052 0.0069 0.0050 0.0020 0.0008 0.0003 0.0009 0.0004 0.0001', 'survival_data': '0.561245 0.391369 0.256977 0.189925 0.138746 0.145901 0.057546 0.087797 0.038226 0.024148 0.008795 0.004251 0.003369 0.002031 0.000471', 'cell_line': 'HFIB2', 'energy': '6MV', 'let': '-keV/$\\\\mu$m', 'modality': 'photons', 'alpha': '0.689', 'alpha_X': '0.689', 'alpha_X_err': '0.164', 'alpha_err': '0.164', 'beta': '0.041', 'beta_X': '0.041', 'beta_X_err': '0.015', 'beta_err': '0.015', 'author': 'Slonina', 'year': '2014', 'created_by': 'Plot Digitizer     2.6.8', 'date': 'Date: 3/10/18     7:52:58 AM', 'dependence': 'SF(Dose (Gy))', 'user': 'pawel'} \n",
      "\n"
     ]
    }
   ],
   "source": [
    "# Function that takes a json file and returns a dictionary of innermost elements\n",
    "import json\n",
    "path = \"/Users/kpadhikari/GitProj/KPAdhikari/EVMS_stuff/ArticlesWdSSFsAndJson/\"\n",
    "file = \"Slonina-2014/Slonina-2014-Fig3A-photons-6MV-HFIB2.json\"\n",
    "myJson = path + file\n",
    "\n",
    "# I got 'isinstance(obj, MyClass)' idea from\n",
    "# https://stackoverflow.com/questions/707674/how-to-compare-type-of-an-object-in-python\n",
    "def returnAllKeysList(obj):\n",
    "    allKeys = []\n",
    "    def returnDictKeysRecursiveN(obj):\n",
    "        if isinstance(obj, dict):\n",
    "            for key, value in obj.items():\n",
    "                #print(key)\n",
    "                allKeys.append(key)\n",
    "                if isinstance(value, dict):\n",
    "                    returnDictKeysRecursiveN(value)\n",
    "    #The recursive function has to be called, otherwise, it will be skipped\n",
    "    #   and the list will stay unappended and therefore, zero-sized.\n",
    "    returnDictKeysRecursiveN(obj)\n",
    "    return allKeys\n",
    "\n",
    "\n",
    "def returnDeepKeysList(obj):\n",
    "    deepKeys = []\n",
    "    def returnDictKeysRecursiveN(obj):\n",
    "        if isinstance(obj, dict):\n",
    "            for key, value in obj.items():\n",
    "                if isinstance(value, dict):\n",
    "                    returnDictKeysRecursiveN(value)\n",
    "                else:\n",
    "                    #print(key)\n",
    "                    deepKeys.append(key)\n",
    "   \n",
    "    #The recursive function has to be called, otherwise, it will be skipped\n",
    "    #   and the list will stay unappended and therefore, zero-sized.\n",
    "    returnDictKeysRecursiveN(obj)\n",
    "    return deepKeys\n",
    "\n",
    "\n",
    "def returnDeepKeysDict(obj):\n",
    "    deepDict = dict()\n",
    "    val = 0\n",
    "    dVal = {'y' : 0} #https://technotroph.wordpress.com/2012/10/01/python-closures-and-the-python-2-7-nonlocal-solution/\n",
    "    def returnDictKeysRecursive(obj):\n",
    "        #https://stackoverflow.com/questions/11987358/why-nested-functions-can-access-variables-from-outer-functions-but-are-not-allo\n",
    "        nonlocal val #Valid only for Python 3.x ()\n",
    "\n",
    "        if isinstance(obj, dict):\n",
    "            for key, value in obj.items():\n",
    "                if isinstance(value, dict):\n",
    "                    returnDictKeysRecursive(value)\n",
    "                else:\n",
    "                    #print(key)\n",
    "                    #deepKeys.append(key)\n",
    "                    #val = val + 1\n",
    "                    dVal['y'] += 1   # Valid for both Python 2.x and 3.x\n",
    "                    #return dVal['y']\n",
    "\n",
    "                    #deepDict[key] = val #This is equivalent to append (it adds a key-value pair to the dictionary)\n",
    "                    deepDict[key] = dVal['y'] #This is equivalent to append (it adds a key-value pair to the dictionary)\n",
    "                    \n",
    "\n",
    "   \n",
    "    #The recursive function has to be called, otherwise, it will be skipped\n",
    "    #   and the list will stay unappended and therefore, zero-sized.\n",
    "    returnDictKeysRecursive(obj)\n",
    "    return deepDict\n",
    "\n",
    "def returnDeepDict(obj):\n",
    "    deepDict = dict()\n",
    "    val = 0\n",
    "    dVal = {'y' : \" \"} #https://technotroph.wordpress.com/2012/10/01/python-closures-and-the-python-2-7-nonlocal-solution/\n",
    "    def returnDictKeysRecursive(obj):\n",
    "        #https://stackoverflow.com/questions/11987358/why-nested-functions-can-access-variables-from-outer-functions-but-are-not-allo\n",
    "        nonlocal val #Valid only for Python 3.x (), so not used here.\n",
    "\n",
    "        if isinstance(obj, dict):\n",
    "            for key, value in obj.items():\n",
    "                if isinstance(value, dict):\n",
    "                    returnDictKeysRecursive(value)\n",
    "                else:\n",
    "                    #print(key)\n",
    "                    #deepKeys.append(key)\n",
    "                    #val = val + 1\n",
    "                    #dVal['y'] += 1   # Valid for both Python 2.x and 3.x\n",
    "                    dVal['y'] = value   # Valid for both Python 2.x and 3.x\n",
    "                    #return dVal['y']\n",
    "\n",
    "                    #deepDict[key] = val #This is equivalent to append (it adds a key-value pair to the dictionary)\n",
    "                    deepDict[key] = dVal['y'] #This is equivalent to append (it adds a key-value pair to the dictionary)\n",
    "                    \n",
    "\n",
    "   \n",
    "    #The recursive function has to be called, otherwise, it will be skipped\n",
    "    #   and the list will stay unappended and therefore, zero-sized.\n",
    "    returnDictKeysRecursive(obj)\n",
    "    return deepDict\n",
    "\n",
    "with open(myJson, 'r') as json_file:\n",
    "    python_obj = json.load(json_file)\n",
    "    #returnDictKeysRecursiveNN(python_obj)\n",
    "    AllKeys = returnAllKeysList(python_obj)\n",
    "    print(\"Len: \", len(AllKeys), AllKeys, \"\\n\")    \n",
    "    DeepKeys = returnDeepKeysList(python_obj)\n",
    "    print(\"Len: \", len(DeepKeys), DeepKeys, \"\\n\")\n",
    "    DeepKeysDict = returnDeepKeysDict(python_obj)\n",
    "    print(DeepKeysDict,\"\\n\")    \n",
    "    DeepDict = returnDeepDict(python_obj)\n",
    "    print(DeepDict, \"\\n\")"
   ]
  },
  {
   "cell_type": "markdown",
   "metadata": {},
   "source": [
    "### Some notes on unphysical values of RBE and RBE_Err\n",
    "\n",
    "I assigned arbitrary negative values of -1, -2, -3, and -4 etc when evaluating these quantities.\n",
    "#### RBE\n",
    "* -1.0: when **if taP == None or tbP == None or taX == None or tbX == None:** condition is satisfied i.e. either of the strings for the four numbers are of None type.\n",
    "* -2.0: If the quantity at the denominator for RBE evaluation turs out to be zero, leading to undefined or infinite as the value for RBE.\n",
    "* -3.0: If **if taP and tbP and taX and tbX:** is not satisfied.\n",
    "\n",
    "#### RBE_Err\n",
    "* -1: when either of the 8 variables (such as taP  = Dict.get('alpha')) comes out to be of **None** or **None type**\n",
    "* -2: I realized, I haven't used it yet\n",
    "* -3: I give this value when **if int(u) and int(v) and int(x) and int(y) and int(du) and int(dv) and int(dx) and int(dy)** condition fails.\n",
    "* -4: Sometimes, despite all seeming to be fine, I got in tractable error such as **Python: ValueError: could not convert string to float: '0.012'** when I was trying to evaluate **dx = float(Dict.get('alpha_X_err'))** etc. Spent quite sometime to figure out the reason, but to no avail. So, I decided to put all eight such lines within the try block and assigned a value of -4.0 to the RBE_Err when the try block throws an **ValueError** exception.\n",
    "* **Zero division:** While calculating the partial derivatives, if Zero division occurred, I used exception to set it's value to zero. Sometimes, all four partial derivatives had such situation."
   ]
  },
  {
   "cell_type": "code",
   "execution_count": 72,
   "metadata": {},
   "outputs": [
    {
     "name": "stdout",
     "output_type": "stream",
     "text": [
      "keysDict: \n",
      " {'dose_data': 1, 'error_data': 2, 'survival_data': 3, 'cell_line': 4, 'energy': 5, 'let': 6, 'modality': 7, 'alpha': 8, 'alpha_X': 9, 'alpha_X_err': 10, 'alpha_err': 11, 'beta': 12, 'beta_X': 13, 'beta_X_err': 14, 'beta_err': 15, 'author': 16, 'year': 17, 'created_by': 18, 'date': 19, 'dependence': 20, 'user': 21}\n",
      "1 ^th file:  /Users/kpadhikari/GitProj/KPAdhikari/EVMS_stuff/ArticlesWdSSFsAndJson/Slonina-2014/Slonina-2014-Fig3B-protons-60MeV-HFIB15.json is Empty, byte-size =  0 \n",
      "\n",
      "10 ^th file:  /Users/kpadhikari/GitProj/KPAdhikari/EVMS_stuff/ArticlesWdSSFsAndJson/Robertson-1994/Robertson-1994-Fig3A-protons-155MeV-line-1.json is Empty, byte-size =  0 \n",
      "\n",
      "12 ^th file:  /Users/kpadhikari/GitProj/KPAdhikari/EVMS_stuff/ArticlesWdSSFsAndJson/Robertson-1994/Robertson-1994-Fig3A-protons-155MeV-line-2a.json is Empty, byte-size =  0 \n",
      "\n",
      "15 ^th file:  /Users/kpadhikari/GitProj/KPAdhikari/EVMS_stuff/ArticlesWdSSFsAndJson/Robertson-1994/Robertson-1994-Fig3A-protons-155MeV-line-3.json is Empty, byte-size =  0 \n",
      "\n",
      "51 ^th file:  /Users/kpadhikari/GitProj/KPAdhikari/EVMS_stuff/ArticlesWdSSFsAndJson/Gueulette-1996/Gueulette-1996-Fig1-protons-85MeV-distal-30mmSOBP.json is Empty, byte-size =  0 \n",
      "\n",
      "Dictionary has empty values?\n",
      "55 ^th file:  /Users/kpadhikari/GitProj/KPAdhikari/EVMS_stuff/ArticlesWdSSFsAndJson/Folkard-1996/Folkard-1996-Fig3a-protons-10keVum-Win8.1.json gives empty-valued Dictionary \n",
      "\n",
      "df_dx: Caught ZeroDivisionError Exception\n",
      "df_dy: Caught ZeroDivisionError Exception\n",
      "df_du: Caught ZeroDivisionError Exception\n",
      "df_dv: Caught ZeroDivisionError Exception\n",
      "df_dx: Caught ZeroDivisionError Exception\n",
      "df_dy: Caught ZeroDivisionError Exception\n",
      "df_du: Caught ZeroDivisionError Exception\n",
      "df_dv: Caught ZeroDivisionError Exception\n",
      "df_dx: Caught ZeroDivisionError Exception\n",
      "df_dy: Caught ZeroDivisionError Exception\n",
      "df_du: Caught ZeroDivisionError Exception\n",
      "df_dv: Caught ZeroDivisionError Exception\n",
      "df_dx: Caught ZeroDivisionError Exception\n",
      "df_dy: Caught ZeroDivisionError Exception\n",
      "df_du: Caught ZeroDivisionError Exception\n",
      "df_dv: Caught ZeroDivisionError Exception\n",
      "df_dx: Caught ZeroDivisionError Exception\n",
      "df_dy: Caught ZeroDivisionError Exception\n",
      "df_du: Caught ZeroDivisionError Exception\n",
      "df_dv: Caught ZeroDivisionError Exception\n",
      "df_dx: Caught ZeroDivisionError Exception\n",
      "df_dy: Caught ZeroDivisionError Exception\n",
      "df_du: Caught ZeroDivisionError Exception\n",
      "df_dv: Caught ZeroDivisionError Exception\n",
      "df_dx: Caught ZeroDivisionError Exception\n",
      "df_dy: Caught ZeroDivisionError Exception\n",
      "df_du: Caught ZeroDivisionError Exception\n",
      "df_dv: Caught ZeroDivisionError Exception\n",
      "df_dx: Caught ZeroDivisionError Exception\n",
      "df_dy: Caught ZeroDivisionError Exception\n",
      "df_du: Caught ZeroDivisionError Exception\n",
      "df_dv: Caught ZeroDivisionError Exception\n",
      "df_dx: Caught ZeroDivisionError Exception\n",
      "df_dy: Caught ZeroDivisionError Exception\n",
      "df_du: Caught ZeroDivisionError Exception\n",
      "df_dv: Caught ZeroDivisionError Exception\n",
      "Dictionary has empty values?\n",
      "98 ^th file:  /Users/kpadhikari/GitProj/KPAdhikari/EVMS_stuff/ArticlesWdSSFsAndJson/Britten-2013/Britten-2013-Fig2-protons-87MeV-20.5keVum-V79-Win8.1.json gives empty-valued Dictionary \n",
      "\n",
      "Dictionary has empty values?\n",
      "109 ^th file:  /Users/kpadhikari/GitProj/KPAdhikari/EVMS_stuff/ArticlesWdSSFsAndJson/Britten-2013/Britten-2013-Fig2-protons-87MeV-20.5keVum-V79-Win8.1-sff.json gives empty-valued Dictionary \n",
      "\n",
      "df_dx: Caught ZeroDivisionError Exception\n",
      "df_dy: Caught ZeroDivisionError Exception\n",
      "df_du: Caught ZeroDivisionError Exception\n",
      "df_dv: Caught ZeroDivisionError Exception\n",
      "Dictionary has empty values?\n",
      "252 ^th file:  /Users/kpadhikari/GitProj/KPAdhikari/EVMS_stuff/ArticlesWdSSFsAndJson/Tang-1997/Tang-1997-Fig2D-photons-Cs137-Win8.1.json gives empty-valued Dictionary \n",
      "\n",
      "Dictionary has empty values?\n",
      "273 ^th file:  /Users/kpadhikari/GitProj/KPAdhikari/EVMS_stuff/ArticlesWdSSFsAndJson/Guan-2015/Guan-2015-LQM-params-LET-dep-sff.json gives empty-valued Dictionary \n",
      "\n",
      "Dictionary has empty values?\n",
      "282 ^th file:  /Users/kpadhikari/GitProj/KPAdhikari/EVMS_stuff/ArticlesWdSSFsAndJson/Guan-2015/Guan-2015-LQM-params-LET-dep.json gives empty-valued Dictionary \n",
      "\n",
      "302 ^th file:  /Users/kpadhikari/GitProj/KPAdhikari/EVMS_stuff/ArticlesWdSSFsAndJson/Schuff-2002/Schuff-2002-Fig7-photons-Cs137-PDVC57.json is Empty, byte-size =  0 \n",
      "\n",
      "Invalid key:  E\n",
      "Invalid key:  mod\n",
      "Invalid key:  E\n",
      "Invalid key:  mod\n",
      "Invalid key:  E\n",
      "Invalid key:  mod\n",
      "Invalid key:  E\n",
      "Invalid key:  mod\n",
      "Invalid key:  E\n",
      "Invalid key:  mod\n",
      "Invalid key:  E\n",
      "Invalid key:  mod\n",
      "Caught ValueError Exception\n",
      "Dictionary has empty values?\n",
      "358 ^th file:  /Users/kpadhikari/GitProj/KPAdhikari/EVMS_stuff/ArticlesWdSSFsAndJson/Belli-1998/Belli-1998-Fig1b-protons-7.7keVum-Win8.1-sff.json gives empty-valued Dictionary \n",
      "\n",
      "Caught ValueError Exception\n",
      "359 ^th file:  /Users/kpadhikari/GitProj/KPAdhikari/EVMS_stuff/ArticlesWdSSFsAndJson/Belli-1998/Belli-1998-Fig1-30.5keVum.json is Empty, byte-size =  0 \n",
      "\n",
      "Dictionary has empty values?\n",
      "368 ^th file:  /Users/kpadhikari/GitProj/KPAdhikari/EVMS_stuff/ArticlesWdSSFsAndJson/Matsumoto-2014/Matsumoto-2014-Fig2H-protons-190MeV-HSG-Win8.1.json gives empty-valued Dictionary \n",
      "\n",
      "Dictionary has empty values?\n",
      "371 ^th file:  /Users/kpadhikari/GitProj/KPAdhikari/EVMS_stuff/ArticlesWdSSFsAndJson/Matsumoto-2014/Matsumoto-2014-Fig2F-protons-190MeV-HSG-Win8.1-sff.json gives empty-valued Dictionary \n",
      "\n",
      "Dictionary has empty values?\n",
      "372 ^th file:  /Users/kpadhikari/GitProj/KPAdhikari/EVMS_stuff/ArticlesWdSSFsAndJson/Matsumoto-2014/Matsumoto-2014-Fig2F-protons-190MeV-HSG-Win8.1.json gives empty-valued Dictionary \n",
      "\n",
      "Invalid key:  E\n",
      "Invalid key:  mod\n",
      "Invalid key:  E\n",
      "Invalid key:  mod\n",
      "Invalid key:  E\n",
      "Invalid key:  mod\n",
      "Invalid key:  E\n",
      "Invalid key:  mod\n",
      "Invalid key:  E\n",
      "Invalid key:  mod\n",
      "Invalid key:  E\n",
      "Invalid key:  mod\n",
      "Invalid key:  E\n",
      "Invalid key:  mod\n",
      "Invalid key:  E\n",
      "Invalid key:  mod\n",
      "Invalid key:  E\n",
      "Invalid key:  mod\n",
      "Invalid key:  E\n",
      "Invalid key:  mod\n",
      "Invalid key:  E\n",
      "Invalid key:  mod\n",
      "Invalid key:  E\n",
      "Invalid key:  mod\n",
      "Dictionary has empty values?\n",
      "418 ^th file:  /Users/kpadhikari/GitProj/KPAdhikari/EVMS_stuff/ArticlesWdSSFsAndJson/Howard-2018/Howard-2018-Fig3A-protons-71MeV-CHO-positionD1-Win8.1-sff.json gives empty-valued Dictionary \n",
      "\n",
      "Invalid key:  E\n",
      "Invalid key:  mod\n",
      "Dictionary has empty values?\n",
      "473 ^th file:  /Users/kpadhikari/GitProj/KPAdhikari/EVMS_stuff/ArticlesWdSSFsAndJson/Howard-2018/Howard-2018-Fig3A-protons-71MeV-CHO-positionD1-Win8.1.json gives empty-valued Dictionary \n",
      "\n",
      "df_dx: Caught ZeroDivisionError Exception\n",
      "df_dy: Caught ZeroDivisionError Exception\n",
      "df_du: Caught ZeroDivisionError Exception\n",
      "df_dv: Caught ZeroDivisionError Exception\n",
      "df_dx: Caught ZeroDivisionError Exception\n",
      "df_dy: Caught ZeroDivisionError Exception\n",
      "df_du: Caught ZeroDivisionError Exception\n",
      "df_dv: Caught ZeroDivisionError Exception\n",
      "df_dx: Caught ZeroDivisionError Exception\n",
      "df_dy: Caught ZeroDivisionError Exception\n",
      "df_du: Caught ZeroDivisionError Exception\n",
      "df_dv: Caught ZeroDivisionError Exception\n",
      "df_dx: Caught ZeroDivisionError Exception\n",
      "df_dy: Caught ZeroDivisionError Exception\n",
      "df_du: Caught ZeroDivisionError Exception\n",
      "df_dv: Caught ZeroDivisionError Exception\n",
      "df_dx: Caught ZeroDivisionError Exception\n",
      "df_dy: Caught ZeroDivisionError Exception\n",
      "df_du: Caught ZeroDivisionError Exception\n",
      "df_dv: Caught ZeroDivisionError Exception\n",
      "df_dx: Caught ZeroDivisionError Exception\n",
      "df_dy: Caught ZeroDivisionError Exception\n",
      "df_du: Caught ZeroDivisionError Exception\n",
      "df_dv: Caught ZeroDivisionError Exception\n",
      "df_dx: Caught ZeroDivisionError Exception\n",
      "df_dy: Caught ZeroDivisionError Exception\n",
      "df_du: Caught ZeroDivisionError Exception\n",
      "df_dv: Caught ZeroDivisionError Exception\n",
      "df_dx: Caught ZeroDivisionError Exception\n",
      "df_dy: Caught ZeroDivisionError Exception\n",
      "df_du: Caught ZeroDivisionError Exception\n",
      "df_dv: Caught ZeroDivisionError Exception\n",
      "503 ^th file:  /Users/kpadhikari/GitProj/KPAdhikari/EVMS_stuff/ArticlesWdSSFsAndJson/Miller-1995/Miller-1995-Fig1C-protons-15keVum.json is Empty, byte-size =  0 \n",
      "\n",
      "503 ^th file:  /Users/kpadhikari/GitProj/KPAdhikari/EVMS_stuff/ArticlesWdSSFsAndJson/Perris-1986/Perris-1986-Fig3a-photons-Co60-V79.json is Empty, byte-size =  0 \n",
      "\n",
      "505 ^th file:  /Users/kpadhikari/GitProj/KPAdhikari/EVMS_stuff/ArticlesWdSSFsAndJson/Perris-1986/Perris-1986-Fig3a-photons-Co60.json is Empty, byte-size =  0 \n",
      "\n",
      "Total # of processed files:  518\n"
     ]
    }
   ],
   "source": [
    "import xlsxwriter\n",
    "import json\n",
    "import os, fnmatch\n",
    "import math #For log() method to evaluate natural log (Ln)\n",
    "\n",
    "def findFiles (path, filter):\n",
    "    for root, dirs, files in os.walk(path):\n",
    "        for file in fnmatch.filter(files, filter):\n",
    "            yield os.path.join(root, file)\n",
    "            \n",
    "\"\"\"            \n",
    "keysDict = {'dose_data': 1, 'error_data': 2, 'survival_data': 3, 'cell_line': 4, 'energy': 5, \n",
    "            'let': 6, 'modality': 7, 'alpha': 8, 'alpha_X': 9, 'alpha_X_err': 10, 'alpha_err': 11, \n",
    "            'beta': 12, 'beta_X': 13, 'beta_X_err': 14, 'beta_err': 15, 'author': 16, 'year': 17, \n",
    "            'created_by': 18, 'date': 19, 'dependence': 20, 'user': 21}\n",
    "\"\"\"\n",
    "keysDict = returnDeepKeysDict(python_obj)\n",
    "print(\"keysDict: \\n\", keysDict)\n",
    " \n",
    "    \n",
    "# Function that takes a json file and returns a dictionary of innermost elements\n",
    "def return_inner_dict(jsonFile):\n",
    "    dic = dict()    # new dictionary\n",
    "    #valueList.clear() #This will make the list an empty one without any cells/elements\n",
    "    with open(jsonFile, 'r') as json_file: #This way file is auto-closed\n",
    "        data = json.load(json_file)\n",
    "\n",
    "        dic = returnDeepDict(data) #(python_obj)\n",
    "    return dic\n",
    "\n",
    "\n",
    "def check_if_values_empty(Dict):\n",
    "    allValues = ''\n",
    "    for key, aValue in Dict.items():  \n",
    "        #print(type(aValue), key, aValue)\n",
    "        allValues = allValues + aValue\n",
    "    \n",
    "    #if allValues == None:\n",
    "    if len(allValues) == 0:\n",
    "        print(\"Dictionary has empty values?\")\n",
    "        return True\n",
    "    else:\n",
    "        #print(\"Dictionary has non-empty values:\\n\", allValues)\n",
    "        return False\n",
    "    \n",
    "\n",
    "\n",
    "def return_RBE(Dict):\n",
    "    taP = Dict.get('alpha')\n",
    "    tbP  = Dict.get('beta')\n",
    "    taX = Dict.get('alpha_X')\n",
    "    tbX  = Dict.get('beta_X')\n",
    "    \"\"\"\n",
    "    print('Dict: ', type(Dict), 'len(Dict)=', len(Dict), \n",
    "         taP, tbP, taX, tbX, type(taP), type(tbP), type(taX), type(tbX) )\n",
    "    \"\"\"\n",
    "    if taP == None or tbP == None or taX == None or tbX == None:\n",
    "        return -1.0\n",
    "    else:\n",
    "        if taP and tbP and taX and tbX:\n",
    "            alphaP = float(Dict.get('alpha')) \n",
    "            betaP  = float(Dict.get('beta'))\n",
    "            alphaX = float(Dict.get('alpha_X'))\n",
    "            betaX  = float(Dict.get('beta_X'))\n",
    "            lnSF = math.log(0.1) #natural log of SF = 0.1 (SF = 10%)\n",
    "\n",
    "            #sqrtNumer = math.sqrt(math.pow(alphaX, 2) - 4 * betaX * lnSF)\n",
    "            #sqrtDenom = math.sqrt(math.pow(alphaP, 2) - 4 * betaP * lnSF)\n",
    "            #sqrtNumer = math.sqrt(alpha_X**2 - 4*beta_X*lnSF)\n",
    "            #sqrtDenom = math.sqrt(alpha_P**2 - 4*beta_P*lnSF)\n",
    "\n",
    "            sqrtNumer = math.sqrt(alphaX * alphaX - 4*betaX*lnSF)\n",
    "            sqrtDenom = math.sqrt(alphaP * alphaP - 4*betaP*lnSF)\n",
    "            RBEnumer = (sqrtNumer - alphaX) * betaP\n",
    "            RBEdenom = (sqrtDenom - alphaP) * betaX\n",
    "            if RBEdenom == 0:\n",
    "                return -2.0\n",
    "            else:\n",
    "                RBE = RBEnumer/RBEdenom\n",
    "                return RBE\n",
    "        else:\n",
    "            return -3.0\n",
    "\n",
    "\n",
    "        \n",
    "def return_RBE_Err(Dict):\n",
    "    #print(Dict)\n",
    "    taP  = Dict.get('alpha')\n",
    "    tbP  = Dict.get('beta')\n",
    "    taX  = Dict.get('alpha_X')\n",
    "    tbX  = Dict.get('beta_X')\n",
    "    taPe  = Dict.get('alpha_err')\n",
    "    tbPe  = Dict.get('beta_err')\n",
    "    taXe  = Dict.get('alpha_X_err')\n",
    "    tbXe  = Dict.get('beta_X_err')\n",
    "    \"\"\"\n",
    "    print(type(taP), type(tbP), type(taX), type(tbX), type(taPe), \\\n",
    "                  type(tbPe), type(taXe), type(tbXe), \\\n",
    "                  taP, tbP, taX, tbX, taPe, tbPe, taXe, tbXe)\n",
    "    \"\"\"\n",
    "    \n",
    "    if taP == None or tbP == None or taX == None or tbX == None or \\\n",
    "    taPe == None or tbPe == None or taXe == None or tbXe == None:\n",
    "        return -1.0\n",
    "    else:\n",
    "        lnSF = math.log(0.1) #natural log of SF = 0.1 (SF = 10%)\n",
    " \n",
    "        try:\n",
    "            #print(int('a'))\n",
    "            # you can just use strip() instead of strip('\\n') - it stripes all whitespaces automatically – yedpodtrzitko Feb 5 '17 at 19:08\n",
    "            # https://stackoverflow.com/questions/42013867/valueerror-could-not-convert-string-to-float-0-274697-n\n",
    "            u  = float(taP)   #For P\n",
    "            v  = float(tbP)   #For P\n",
    "            x  = float(taX)   #For X\n",
    "            y  = float(tbX)   #For X\n",
    "            # https://stackoverflow.com/questions/48075861/valueerror-could-not-convert-string-to-float\n",
    "            du = float(taPe.strip()) # str.strip(\"x\") removes x from str etc.\n",
    "            dv = float(tbPe.strip())\n",
    "            dx = float(Dict.get('alpha_X_err')) #float(taXe.strip())\n",
    "            dy = float(tbXe.strip())\n",
    "\n",
    "        except ValueError:\n",
    "            print ('Caught ValueError Exception')\n",
    "            return -4.0\n",
    "\n",
    "        if taP and tbP and taX and tbX and taPe and tbPe and taXe and tbXe:\n",
    "        #if int(u) and int(v) and int(x) and int(y) and \\\n",
    "        #    int(du) and int(dv) and int(dx) and int(dy):\n",
    "        #if u and v and x and y and du and dv and dx and dy:\n",
    "\n",
    "\n",
    "            sqrtXU = math.sqrt(x - 4*u*lnSF)\n",
    "            sqrtYV = math.sqrt(y - 4*v*lnSF)\n",
    "            # Now the partial derivatives (df_dx means df/dx & so on)\n",
    "            # Derived by myself but also Verified @ https://www.derivative-calculator.net/#\n",
    "            # https://en.wikipedia.org/wiki/Propagation_of_uncertainty\n",
    "            # f = RBE = [(sqrt(x - 4 u lnSF) - x) / (sqrt(y - 4 v lnSF) - y)] * v/u\n",
    "            try:\n",
    "                df_dx = ( v/(u*(sqrtYV - y))) * ( 1/(2*sqrtXU) - 1) \n",
    "            except ZeroDivisionError:\n",
    "                print('df_dx: Caught ZeroDivisionError Exception')\n",
    "                df_dx = 0\n",
    "\n",
    "            try:\n",
    "                df_dy = - (v/u)*((sqrtXU - x)/math.pow((sqrtYV - y),2))*(1/(2*sqrtYV) - 1)\n",
    "            except ZeroDivisionError:\n",
    "                print('df_dy: Caught ZeroDivisionError Exception')\n",
    "                df_dy = 0\n",
    "            try:\n",
    "                df_du = - (v/(u*u))*(sqrtXU - x)/(sqrtYV - y)  - 2*v*lnSF/(u*sqrtXU*(sqrtYV - y))\n",
    "            except ZeroDivisionError:\n",
    "                print('df_du: Caught ZeroDivisionError Exception')\n",
    "                df_du = 0\n",
    "            try:\n",
    "                df_dv = (sqrtXU - x)/((sqrtYV - y)*u) \\\n",
    "                    + 2*v*lnSF*(sqrtXU - x)/(u*sqrtYV*math.pow((sqrtYV - y),2))\n",
    "            except ZeroDivisionError:\n",
    "                print('df_dv: Caught ZeroDivisionError Exception')\n",
    "                df_dv = 0\n",
    "            \"\"\"   \n",
    "            RBEerr = math.sqrt(df_dx*df_dx * dx + df_dy*df_dy * dy \\\n",
    "                              + df_du*df_du * dy  + df_dv*df_dv * dv)\n",
    "                              \"\"\"\n",
    "            RBEerr = math.sqrt(df_dx*df_dx * dx*dx + df_dy*df_dy * dy*dy \\\n",
    "                              + df_du*df_du * du*du  + df_dv*df_dv * dv*dv)\n",
    "            return RBEerr\n",
    "        else:\n",
    "            return -3.0\n",
    "        \n",
    "        \n",
    "# Creating an Excel file. \n",
    "workbook = xlsxwriter.Workbook('testRBE.xlsx')\n",
    "\n",
    "# workbook object used to add new worksheet via add_worksheet() method. \n",
    "worksheet = workbook.add_worksheet()\n",
    "\n",
    "# Widen the first 3-columns a little bit (contents are large strings).\n",
    "worksheet.set_column('A:A', 20)\n",
    "worksheet.set_column(0,1, 20)\n",
    "worksheet.set_column(0,2, 20)\n",
    "\n",
    "# Add a bold format to use to highlight cells.\n",
    "bold = workbook.add_format({'bold': True})\n",
    "\n",
    "#Writing Headers in the first row \n",
    "for hKeys, hValues in keysDict.items():\n",
    "    worksheet.write(0, hValues-1, hKeys, bold) #kp: row, col, values, style\n",
    "\n",
    "#Next to Last column is for RBE (which is calculated using eq 7 of Chen-Ahmad-2012.pdf)\n",
    "worksheet.write(0, len(keysDict), \"RBE\", bold) #kp: row, col, values, style\n",
    "\n",
    "#Last column is for RBEerr (which is calculated using eq 7 of Chen-Ahmad-2012.pdf\n",
    "#  for RBE and then error propagation formula (through partial derivatives)\n",
    "worksheet.write(0, len(keysDict) + 1, \"RBE_err\", bold) #kp: row, col, values, style\n",
    "\n",
    "    \n",
    "####### Now iterating over several json files and writing their values in different rows.\n",
    "j = 0\n",
    "#for jsonFile in findFiles(r'/Users/kpadhikari/GitProj/KPAdhikari/EVMS_stuff', '*.json'):  \n",
    "for jsonFile in findFiles(r'/Users/kpadhikari/GitProj/KPAdhikari/EVMS_stuff/ArticlesWdSSFsAndJson', \\\n",
    "                          '*.json'):  \n",
    "    #print(jsonFile)\n",
    "    b = os.path.getsize(jsonFile)\n",
    "    if b==0:\n",
    "        print(j,\"^th file: \", jsonFile, \"is Empty, byte-size = \", b,\"\\n\")\n",
    "        continue\n",
    "\n",
    "    retDict = return_inner_dict(jsonFile)\n",
    "    #print(jsonFile, b, \" len(retDict): \", len(retDict))\n",
    "    #print(retDict,\"\\n\\n\")\n",
    "    if check_if_values_empty(retDict):\n",
    "        print (j,\"^th file: \", jsonFile, \"gives empty-valued Dictionary \\n\")\n",
    "        continue\n",
    "    \n",
    "    if len(retDict) > 0:\n",
    "        RBE = return_RBE(retDict)\n",
    "        RBE_Err = return_RBE_Err(retDict) # showed some intractable error (so abandoned 10/9/19)\n",
    "        \n",
    "    # First writing the RBE value in the last column\n",
    "    if RBE:\n",
    "        worksheet.write(j+1, len(keysDict), RBE)\n",
    "        #print('RBE=', RBE)\n",
    "        \n",
    "    if RBE_Err:\n",
    "        worksheet.write(j+1, len(keysDict)+1, RBE_Err)\n",
    "        \n",
    "\n",
    "    for key, aValue in retDict.items():  \n",
    "        #col = keysDict[key] # Mostly worked but sometimes got \"KeyError: 'E'\"\n",
    "        col = keysDict.get(key) #Returns 0 if key not found in the Dict\n",
    "        if col:\n",
    "            worksheet.write(j+1, col-1, aValue)\n",
    "        else:\n",
    "            print(\"Invalid key: \", key)\n",
    "            #continue\n",
    "        \n",
    "    j+=1  #Equivalent to i++ or i = i+1 in C/C++/Java    \n",
    "    \n",
    "print(\"Total # of processed files: \", j)    \n",
    "    \n",
    "workbook.close()"
   ]
  },
  {
   "cell_type": "markdown",
   "metadata": {},
   "source": [
    "[GoTop](#GoTop) <a id='ReadingAndProcessingExcelDataWithPandas'></a>\n",
    "## Reading And Processing Excel Data With [Pandas](https://pythonspot.com/read-excel-with-pandas/)\n",
    "Here, I am going to use the Excel file 'testRBE.xlsx' generated by above cell (requires running the previous cell first)."
   ]
  },
  {
   "cell_type": "code",
   "execution_count": 73,
   "metadata": {},
   "outputs": [
    {
     "name": "stdout",
     "output_type": "stream",
     "text": [
      "Column headings:\n",
      "Index(['dose_data', 'error_data', 'survival_data', 'cell_line', 'energy',\n",
      "       'let', 'modality', 'alpha', 'alpha_X', 'alpha_X_err', 'alpha_err',\n",
      "       'beta', 'beta_X', 'beta_X_err', 'beta_err', 'author', 'year',\n",
      "       'created_by', 'date', 'dependence', 'user', 'RBE', 'RBE_err'],\n",
      "      dtype='object')\n"
     ]
    }
   ],
   "source": [
    "import pandas as pd\n",
    "from pandas import ExcelWriter\n",
    "from pandas import ExcelFile\n",
    "\n",
    "#The method read_excel() reads the data into a Pandas Data Frame\n",
    "#df = pd.read_excel('testRBE.xlsx', sheetname='Sheet1') #TypeError: read_excel() got an unexpected keyword argument `sheetname`\n",
    "df = pd.read_excel('testRBE.xlsx')\n",
    "\n",
    "print(\"Column headings:\")\n",
    "print(df.columns)"
   ]
  },
  {
   "cell_type": "code",
   "execution_count": 36,
   "metadata": {},
   "outputs": [
    {
     "data": {
      "text/plain": [
       "0      0.975 0.975 1.95 1.95 1.95 2.95 2.95 3.925 3.9...\n",
       "1      0.9371 0.9317 0.9373 1.9201 1.9165 1.9203 2.92...\n",
       "2      1.1 1.1 1.1 2.1 2.1 2.1 2.1 3.08 3.08 3.08 4.0...\n",
       "3      2.4614 2.99502 3.52933 4.07486 4.57265 5.05268...\n",
       "4      2.98916 3.65812 4.32923 4.95304 5.73888 6.5380...\n",
       "                             ...                        \n",
       "513              0.51308 1.04227 2.07162 3.10034 4.14437\n",
       "514              0.36658 0.74813 1.51122 2.25187 3.00748\n",
       "515              0.46903 0.96961 1.95428 2.96388 3.96447\n",
       "516              0.50563 0.98524 1.96363 2.98491 4.98347\n",
       "517               0.47691 0.99366 2.03569 3.07822 4.1207\n",
       "Name: dose_data, Length: 518, dtype: object"
      ]
     },
     "execution_count": 36,
     "metadata": {},
     "output_type": "execute_result"
    }
   ],
   "source": [
    "#print(df['dose_data'])# works\n",
    "df['dose_data'] #Same result as above one"
   ]
  },
  {
   "cell_type": "code",
   "execution_count": 75,
   "metadata": {},
   "outputs": [],
   "source": [
    "#To iterate over all the rows/values of a particular column.\n",
    "#for i in df.index:\n",
    "#    print(df['RBE'][i])  #Works"
   ]
  },
  {
   "cell_type": "code",
   "execution_count": 37,
   "metadata": {},
   "outputs": [
    {
     "name": "stdout",
     "output_type": "stream",
     "text": [
      "0.13520097966132488\n"
     ]
    }
   ],
   "source": [
    "print(df['RBE'].mean())"
   ]
  },
  {
   "cell_type": "code",
   "execution_count": 76,
   "metadata": {},
   "outputs": [
    {
     "name": "stdout",
     "output_type": "stream",
     "text": [
      "   set_of_numbers equal_or_lower_than_4?\n",
      "0               1                   True\n",
      "1               2                   True\n",
      "2               3                   True\n",
      "3               4                   True\n",
      "4               5                  False\n",
      "5               6                  False\n",
      "6               7                  False\n",
      "7               8                  False\n",
      "8               9                  False\n",
      "9              10                  False\n"
     ]
    }
   ],
   "source": [
    "from pandas import DataFrame\n",
    "\n",
    "Numbers = {'set_of_numbers': [1,2,3,4,5,6,7,8,9,10]}\n",
    "dft = DataFrame(Numbers,columns=['set_of_numbers'])\n",
    "\n",
    "dft['equal_or_lower_than_4?'] = dft['set_of_numbers'].apply(lambda x: 'True' if x <= 4 else 'False')\n",
    "\n",
    "print (dft)"
   ]
  },
  {
   "cell_type": "code",
   "execution_count": 77,
   "metadata": {},
   "outputs": [
    {
     "name": "stdout",
     "output_type": "stream",
     "text": [
      "5.5\n"
     ]
    }
   ],
   "source": [
    "print(dft['set_of_numbers'].mean()) #kp: imagine pairing up 1,10; 2,9 etc to make five elevens."
   ]
  },
  {
   "cell_type": "code",
   "execution_count": 42,
   "metadata": {},
   "outputs": [
    {
     "name": "stdout",
     "output_type": "stream",
     "text": [
      "1.0\n"
     ]
    }
   ],
   "source": [
    "print(dft['set_of_numbers'].apply(lambda x: x if x <= 4 else 0 ).mean()) "
   ]
  },
  {
   "cell_type": "code",
   "execution_count": 44,
   "metadata": {},
   "outputs": [
    {
     "name": "stdout",
     "output_type": "stream",
     "text": [
      "0    1\n",
      "1    2\n",
      "2    3\n",
      "3    4\n",
      "4    0\n",
      "5    0\n",
      "6    0\n",
      "7    0\n",
      "8    0\n",
      "9    0\n",
      "Name: set_of_numbers, dtype: int64\n"
     ]
    }
   ],
   "source": [
    "print(dft['set_of_numbers'].apply(lambda x: x if x <= 4 else 0 ))"
   ]
  },
  {
   "cell_type": "markdown",
   "metadata": {},
   "source": [
    "### Selecting rows in pandas DataFrame based on conditions\n",
    "Refs: \n",
    "* https://www.geeksforgeeks.org/selecting-rows-in-pandas-dataframe-based-on-conditions/\n",
    "* https://www.geeksforgeeks.org/python-pandas-extracting-rows-using-loc/\n",
    "\n",
    "Python is a great language for doing data analysis, primarily because of the fantastic ecosystem of data-centric Python packages. Pandas is one of those packages and makes importing and analyzing data much easier.\n",
    "\n",
    "Pandas provide a unique method to retrieve rows from a Data frame. **`DataFrame.loc[]`** method is a method that takes only index labels and returns row or dataframe if the index label exists in the caller data frame."
   ]
  },
  {
   "cell_type": "code",
   "execution_count": 45,
   "metadata": {},
   "outputs": [
    {
     "name": "stdout",
     "output_type": "stream",
     "text": [
      "\n",
      "Result dataframe :\n",
      "    set_of_numbers equal_or_lower_than_4?\n",
      "4               5                  False\n",
      "5               6                  False\n",
      "6               7                  False\n",
      "7               8                  False\n",
      "8               9                  False\n",
      "9              10                  False\n"
     ]
    }
   ],
   "source": [
    "# selecting rows based on condition \n",
    "#rslt_df = dataframe.loc[(dataframe['Age'] == 21) & dataframe['Stream'].isin(options)] \n",
    "rslt_df = dft.loc[dft['set_of_numbers'] > 4]\n",
    "print('\\nResult dataframe :\\n', rslt_df) "
   ]
  },
  {
   "cell_type": "code",
   "execution_count": 78,
   "metadata": {},
   "outputs": [
    {
     "data": {
      "text/plain": [
       "7.5"
      ]
     },
     "execution_count": 78,
     "metadata": {},
     "output_type": "execute_result"
    }
   ],
   "source": [
    "dft.loc[dft['set_of_numbers'] > 4]['set_of_numbers'].mean()"
   ]
  },
  {
   "cell_type": "code",
   "execution_count": 79,
   "metadata": {},
   "outputs": [
    {
     "data": {
      "text/plain": [
       "1.8708286933869707"
      ]
     },
     "execution_count": 79,
     "metadata": {},
     "output_type": "execute_result"
    }
   ],
   "source": [
    "dft.loc[dft['set_of_numbers'] > 4]['set_of_numbers'].std()"
   ]
  },
  {
   "cell_type": "code",
   "execution_count": 80,
   "metadata": {},
   "outputs": [
    {
     "data": {
      "text/plain": [
       "0.7637626158259734"
      ]
     },
     "execution_count": 80,
     "metadata": {},
     "output_type": "execute_result"
    }
   ],
   "source": [
    "dft.loc[dft['set_of_numbers'] > 4]['set_of_numbers'].sem()"
   ]
  },
  {
   "cell_type": "markdown",
   "metadata": {},
   "source": [
    "### Standard error of mean versus standard deviation\n",
    "(From https://en.wikipedia.org/wiki/Standard_error)\n",
    "\n",
    "In scientific and technical literature, experimental data are often summarized either using the mean and standard deviation of the sample data or the mean with the standard error. This often leads to confusion about their interchangeability. However, the mean and standard deviation are descriptive statistics, whereas the standard error of the mean is descriptive of the random sampling process. The standard deviation of the sample data is a description of the variation in measurements, while the standard error of the mean is a probabilistic statement about how the sample size will provide a better bound on estimates of the population mean, in light of the central limit theorem.[6]\n",
    "\n",
    "Put simply, the standard error of the sample mean is an estimate of how far the sample mean is likely to be from the population mean, whereas the standard deviation of the sample is the degree to which individuals within the sample differ from the sample mean.[7] If the population standard deviation is finite, the standard error of the mean of the sample will tend to zero with increasing sample size, because the estimate of the population mean will improve, while the standard deviation of the sample will tend to approximate the population standard deviation as the sample size increases. "
   ]
  },
  {
   "cell_type": "markdown",
   "metadata": {},
   "source": [
    "### Mean, Standard Deviation (Std), and Standard Error of the Mean (SEM) of RBE"
   ]
  },
  {
   "cell_type": "code",
   "execution_count": 81,
   "metadata": {},
   "outputs": [
    {
     "data": {
      "text/plain": [
       "1.3015959833256114"
      ]
     },
     "execution_count": 81,
     "metadata": {},
     "output_type": "execute_result"
    }
   ],
   "source": [
    "## Using only those rows which have RBE > 0\n",
    "## kp: Doesn't exclude the values of 1.0 which are mostly from photon measurements.\n",
    "df.loc[df['RBE'] > 0]['RBE'].mean()"
   ]
  },
  {
   "cell_type": "code",
   "execution_count": 82,
   "metadata": {},
   "outputs": [
    {
     "data": {
      "text/plain": [
       "0.6096575044330234"
      ]
     },
     "execution_count": 82,
     "metadata": {},
     "output_type": "execute_result"
    }
   ],
   "source": [
    "df.loc[df['RBE'] > 0]['RBE'].std()"
   ]
  },
  {
   "cell_type": "code",
   "execution_count": 83,
   "metadata": {},
   "outputs": [
    {
     "data": {
      "text/plain": [
       "0.036965915973938564"
      ]
     },
     "execution_count": 83,
     "metadata": {},
     "output_type": "execute_result"
    }
   ],
   "source": [
    "df.loc[df['RBE'] > 0]['RBE'].sem()"
   ]
  },
  {
   "cell_type": "code",
   "execution_count": 84,
   "metadata": {},
   "outputs": [
    {
     "data": {
      "text/plain": [
       "array([[<matplotlib.axes._subplots.AxesSubplot object at 0x10e15bbd0>]],\n",
       "      dtype=object)"
      ]
     },
     "execution_count": 84,
     "metadata": {},
     "output_type": "execute_result"
    },
    {
     "data": {
      "image/png": "[encoded data removed]",
      "text/plain": [
       "<Figure size 432x288 with 1 Axes>"
      ]
     },
     "metadata": {
      "needs_background": "light"
     },
     "output_type": "display_data"
    }
   ],
   "source": [
    "#df.hist(column='RBE') # didn't show the plot\n",
    "df.hist(column='RBE', bins=20)"
   ]
  },
  {
   "cell_type": "code",
   "execution_count": 85,
   "metadata": {},
   "outputs": [
    {
     "data": {
      "text/plain": [
       "array([[<matplotlib.axes._subplots.AxesSubplot object at 0x11ab40e90>]],\n",
       "      dtype=object)"
      ]
     },
     "execution_count": 85,
     "metadata": {},
     "output_type": "execute_result"
    },
    {
     "data": {
      "image/png": "[encoded data removed]",
      "text/plain": [
       "<Figure size 432x288 with 1 Axes>"
      ]
     },
     "metadata": {
      "needs_background": "light"
     },
     "output_type": "display_data"
    }
   ],
   "source": [
    "df.loc[df['RBE'] > 0].hist(column='RBE', bins=50)"
   ]
  },
  {
   "cell_type": "code",
   "execution_count": 86,
   "metadata": {
    "scrolled": true
   },
   "outputs": [
    {
     "data": {
      "text/plain": [
       "array([[<matplotlib.axes._subplots.AxesSubplot object at 0x11ab59fd0>]],\n",
       "      dtype=object)"
      ]
     },
     "execution_count": 86,
     "metadata": {},
     "output_type": "execute_result"
    },
    {
     "data": {
      "image/png": "[encoded data removed]",
      "text/plain": [
       "<Figure size 432x288 with 1 Axes>"
      ]
     },
     "metadata": {
      "needs_background": "light"
     },
     "output_type": "display_data"
    }
   ],
   "source": [
    "df.loc[(df['RBE'] > 0) & (df['RBE'] < 4 )].hist(column='RBE', bins=50)"
   ]
  },
  {
   "cell_type": "code",
   "execution_count": 87,
   "metadata": {},
   "outputs": [
    {
     "data": {
      "text/plain": [
       "dose_data        270\n",
       "error_data       270\n",
       "survival_data    270\n",
       "cell_line        270\n",
       "energy           256\n",
       "let              256\n",
       "modality         256\n",
       "alpha            270\n",
       "alpha_X          270\n",
       "alpha_X_err      256\n",
       "alpha_err        270\n",
       "beta             270\n",
       "beta_X           270\n",
       "beta_X_err       256\n",
       "beta_err         270\n",
       "author           256\n",
       "year             256\n",
       "created_by       269\n",
       "date             258\n",
       "dependence       269\n",
       "user             269\n",
       "RBE              270\n",
       "RBE_err          236\n",
       "dtype: int64"
      ]
     },
     "execution_count": 87,
     "metadata": {},
     "output_type": "execute_result"
    }
   ],
   "source": [
    "# Counting # of rows or values for each column.\n",
    "df.loc[(df['RBE'] > 0) & (df['RBE'] < 4 )].count()"
   ]
  },
  {
   "cell_type": "code",
   "execution_count": 88,
   "metadata": {},
   "outputs": [
    {
     "data": {
      "text/plain": [
       "<bound method DataFrame.count of                                              dose_data  \\\n",
       "0    0.975 0.975 1.95 1.95 1.95 2.95 2.95 3.925 3.9...   \n",
       "1    0.9371 0.9317 0.9373 1.9201 1.9165 1.9203 2.92...   \n",
       "2    1.1 1.1 1.1 2.1 2.1 2.1 2.1 3.08 3.08 3.08 4.0...   \n",
       "4    2.98916 3.65812 4.32923 4.95304 5.73888 6.5380...   \n",
       "14   2.77 3.72782 4.6139 5.49766 5.99775 6.4888 6.9...   \n",
       "..                                                 ...   \n",
       "510          0.8672 2.1824 3.3746 4.3794 5.4758 6.9867   \n",
       "511    0.45813 0.96001 1.94598 2.96899 3.94777 4.97858   \n",
       "512       0.50192 1.0169 2.05496 3.0858 4.1166 5.15486   \n",
       "516            0.50563 0.98524 1.96363 2.98491 4.98347   \n",
       "517             0.47691 0.99366 2.03569 3.07822 4.1207   \n",
       "\n",
       "                                            error_data  \\\n",
       "0    0.0406 0.0259 0.0234 0.0114 0.0274 0.0133 0.00...   \n",
       "1    0.0443 0.0586 0.0616 0.0337 0.0268 0.0284 0.01...   \n",
       "2    0.0437 0.0592 0.0614 0.0234 0.0125 0.0234 0.02...   \n",
       "4    0.0935 0.1033 0.0919 0.0885 0.0716 0.0524 0.03...   \n",
       "14   0.0453 0.0574 0.0568 0.0497 0.0468 0.0425 0.03...   \n",
       "..                                                 ...   \n",
       "510          0.0775 0.0466 0.0299 0.0166 0.0112 0.0045   \n",
       "511          0.0887 0.0652 0.0415 0.0164 0.0135 0.0078   \n",
       "512          0.0796 0.0763 0.0399 0.0202 0.0090 0.0044   \n",
       "516                 0.0960 0.0818 0.0651 0.0439 0.0310   \n",
       "517                 0.1054 0.0931 0.0698 0.0112 0.0040   \n",
       "\n",
       "                                         survival_data  cell_line   energy  \\\n",
       "0    0.561245 0.391369 0.256977 0.189925 0.138746 0...      HFIB2      6MV   \n",
       "1    0.6168 0.5441 0.4614 0.2673 0.2327 0.1916 0.14...     HFIB15      6MV   \n",
       "2    0.476535 0.308691 0.26827 0.242528 0.152355 0....      HFIB2    60MeV   \n",
       "4    0.648753 0.552893 0.461019 0.380798 0.29142 0....   V79-WNRE   155MeV   \n",
       "14   0.653716 0.522288 0.410044 0.308874 0.261367 0...   V79-WNRE     Co60   \n",
       "..                                                 ...        ...      ...   \n",
       "510          0.7851 0.5279 0.3029 0.1881 0.0877 0.0271       C320      4MV   \n",
       "511  0.732582 0.576396 0.426509 0.183467 0.119379 0...  C3H10T1/2  3.18MeV   \n",
       "512  0.705601 0.676471 0.380198 0.1788 0.085904 0.0...  C3H10T1/2  1.46MeV   \n",
       "516        0.914074 0.84156 0.575654 0.388259 0.200621  C3H10T1/2     Co60   \n",
       "517       0.692239 0.552152 0.284028 0.106974 0.041448  C3H10T1/2  0.87MeV   \n",
       "\n",
       "             let modality  alpha  alpha_X alpha_X_err  ...  beta_X_err  \\\n",
       "0    -keV/$\\mu$m  photons  0.689    0.689       0.164  ...       0.015   \n",
       "1    -keV/$\\mu$m  photons  0.627    0.627       0.028  ...       0.014   \n",
       "2    -keV/$\\mu$m  protons  0.855    0.689       0.164  ...       0.015   \n",
       "4              -  protons  0.060    0.087       0.000  ...       0.000   \n",
       "14             -  photons  0.087    0.087       0.000  ...       0.000   \n",
       "..           ...      ...    ...      ...         ...  ...         ...   \n",
       "510      -$\\mu$m  photons  0.160    0.110       0.028  ...       0.010   \n",
       "511            -  protons  0.470    0.240       0.060  ...       0.013   \n",
       "512            -  protons  0.430    0.240       0.060  ...       0.013   \n",
       "516            -  photons  0.240    0.240       0.060  ...       0.013   \n",
       "517            -  protons  0.550    0.240       0.060  ...       0.013   \n",
       "\n",
       "     beta_err     author  year                created_by  \\\n",
       "0       0.015    Slonina  2014  Plot Digitizer     2.6.8   \n",
       "1       0.014    Slonina  2014      Plot Digitizer 2.6.8   \n",
       "2       0.047    Slonina  2014      Plot Digitizer 2.6.8   \n",
       "4       0.000  Robertson  1994      Plot Digitizer 2.6.8   \n",
       "14      0.000  Robertson  1994      Plot Digitizer 2.6.8   \n",
       "..        ...        ...   ...                       ...   \n",
       "510     0.015     Kagawa  2002      Plot Digitizer 2.6.8   \n",
       "511     0.014    Bettega  1998      Plot Digitizer 2.6.8   \n",
       "512     0.013    Bettega  1998      Plot Digitizer 2.6.8   \n",
       "516     0.013    Bettega  1998      Plot Digitizer 2.6.8   \n",
       "517     0.031    Bettega  1998  Plot Digitizer     2.6.8   \n",
       "\n",
       "                             date     dependence   user       RBE   RBE_err  \n",
       "0    Date: 3/10/18     7:52:58 AM  SF(Dose (Gy))  pawel  1.000000  0.042785  \n",
       "1       Date: 11/23/18 9:29:45 PM  SF(Dose (Gy))  pawel  1.000000  0.033980  \n",
       "2        Date: 3/10/18 6:13:14 PM  SF(Dose (Gy))  pawel  1.180692  0.109128  \n",
       "4       Date: 4/18/19 11:26:28 AM  SF(Dose (Gy))  pawel  1.053528       NaN  \n",
       "14       Date: 4/25/19 1:44:42 PM  SF(Dose (Gy))  pawel  1.000000       NaN  \n",
       "..                            ...            ...    ...       ...       ...  \n",
       "510      Date: 11/1/18 9:03:57 PM  SF(Dose (Gy))  pawel  1.039822  0.106351  \n",
       "511     Date: 1/30/18 12:54:53 PM  SF(Dose (Gy))  pawel  1.586767  0.071380  \n",
       "512      Date: 1/30/18 1:04:02 PM  SF(Dose (Gy))  pawel  1.676500  0.050923  \n",
       "516     Date: 1/30/18 12:50:41 PM  SF(Dose (Gy))  pawel  1.000000  0.101889  \n",
       "517  Date: 1/30/18     1:18:40 PM  SF(Dose (Gy))  pawel  2.077551  0.084891  \n",
       "\n",
       "[270 rows x 23 columns]>"
      ]
     },
     "execution_count": 88,
     "metadata": {},
     "output_type": "execute_result"
    }
   ],
   "source": [
    "# Counting # of rows or values for each column.\n",
    "df.loc[(df['RBE'] > 0) & (df['RBE'] < 4 )].count"
   ]
  },
  {
   "cell_type": "markdown",
   "metadata": {},
   "source": [
    "### Mean, Standard Deviation (Std), and Standard Error of the Mean (SEM) of RBE_err"
   ]
  },
  {
   "cell_type": "code",
   "execution_count": 89,
   "metadata": {},
   "outputs": [
    {
     "data": {
      "text/plain": [
       "0.1310867142672295"
      ]
     },
     "execution_count": 89,
     "metadata": {},
     "output_type": "execute_result"
    }
   ],
   "source": [
    "## Using only those rows which have RBE > 0\n",
    "df.loc[df['RBE_err'] > 0]['RBE_err'].mean()"
   ]
  },
  {
   "cell_type": "code",
   "execution_count": 90,
   "metadata": {},
   "outputs": [
    {
     "data": {
      "text/plain": [
       "0.26147489578456967"
      ]
     },
     "execution_count": 90,
     "metadata": {},
     "output_type": "execute_result"
    }
   ],
   "source": [
    "## Using only those rows which have RBE > 0\n",
    "df.loc[df['RBE_err'] > 0]['RBE_err'].std()"
   ]
  },
  {
   "cell_type": "code",
   "execution_count": 91,
   "metadata": {},
   "outputs": [
    {
     "data": {
      "text/plain": [
       "0.01758870487073011"
      ]
     },
     "execution_count": 91,
     "metadata": {},
     "output_type": "execute_result"
    }
   ],
   "source": [
    "## Using only those rows which have RBE > 0\n",
    "df.loc[df['RBE_err'] > 0]['RBE_err'].sem()"
   ]
  },
  {
   "cell_type": "code",
   "execution_count": 93,
   "metadata": {},
   "outputs": [
    {
     "data": {
      "text/plain": [
       "array([[<matplotlib.axes._subplots.AxesSubplot object at 0x11af54250>]],\n",
       "      dtype=object)"
      ]
     },
     "execution_count": 93,
     "metadata": {},
     "output_type": "execute_result"
    },
    {
     "data": {
      "image/png": "[encoded data removed]",
      "text/plain": [
       "<Figure size 432x288 with 1 Axes>"
      ]
     },
     "metadata": {
      "needs_background": "light"
     },
     "output_type": "display_data"
    }
   ],
   "source": [
    "#df.hist(column='RBE')\n",
    "df.hist(column='RBE_err', bins=20)"
   ]
  },
  {
   "cell_type": "code",
   "execution_count": 94,
   "metadata": {},
   "outputs": [
    {
     "data": {
      "text/plain": [
       "array([[<matplotlib.axes._subplots.AxesSubplot object at 0x11b05edd0>]],\n",
       "      dtype=object)"
      ]
     },
     "execution_count": 94,
     "metadata": {},
     "output_type": "execute_result"
    },
    {
     "data": {
      "image/png": "[encoded data removed]",
      "text/plain": [
       "<Figure size 432x288 with 1 Axes>"
      ]
     },
     "metadata": {
      "needs_background": "light"
     },
     "output_type": "display_data"
    }
   ],
   "source": [
    "df.loc[df['RBE_err'] > 0].hist(column='RBE_err', bins=50)"
   ]
  },
  {
   "cell_type": "code",
   "execution_count": 96,
   "metadata": {},
   "outputs": [
    {
     "data": {
      "text/plain": [
       "array([[<matplotlib.axes._subplots.AxesSubplot object at 0x11b303450>]],\n",
       "      dtype=object)"
      ]
     },
     "execution_count": 96,
     "metadata": {},
     "output_type": "execute_result"
    },
    {
     "data": {
      "image/png": "[encoded data removed]",
      "text/plain": [
       "<Figure size 432x288 with 1 Axes>"
      ]
     },
     "metadata": {
      "needs_background": "light"
     },
     "output_type": "display_data"
    }
   ],
   "source": [
    "df.loc[(df['RBE_err'] > 0) & (df['RBE_err'] < 0.4 )].hist(column='RBE_err', bins=50)"
   ]
  },
  {
   "cell_type": "markdown",
   "metadata": {},
   "source": [
    "### Observation and Comment after I came home from the meeting with PA/CK.\n",
    "When I went to the routine for RBE_err calculation to change the formula, I also found a typo of 'dy' in the third term where it was supposed to be 'du'. Similarly, when I squared each of those four factors after the typo correction, the SEM on errors came out to be about 0.017 (as close as Paganetti's value, which was 0.02).\n",
    "```py\n",
    "    \"\"\"\n",
    "            RBEerr = math.sqrt(df_dx*df_dx * dx + df_dy*df_dy * dy \\\n",
    "                              + df_du*df_du * dy  + df_dv*df_dv * dv)\n",
    "                              \"\"\"\n",
    "            RBEerr = math.sqrt(df_dx*df_dx * dx*dx + df_dy*df_dy * dy*dy \\\n",
    "                              + df_du*df_du * du*du  + df_dv*df_dv * dv*dv)\n",
    "``` "
   ]
  },
  {
   "cell_type": "code",
   "execution_count": null,
   "metadata": {},
   "outputs": [],
   "source": []
  }
 ],
 "metadata": {
  "kernelspec": {
   "display_name": "Python 3",
   "language": "python",
   "name": "python3"
  },
  "language_info": {
   "codemirror_mode": {
    "name": "ipython",
    "version": 3
   },
   "file_extension": ".py",
   "mimetype": "text/x-python",
   "name": "python",
   "nbconvert_exporter": "python",
   "pygments_lexer": "ipython3",
   "version": "3.7.4"
  }
 },
 "nbformat": 4,
 "nbformat_minor": 2
}
