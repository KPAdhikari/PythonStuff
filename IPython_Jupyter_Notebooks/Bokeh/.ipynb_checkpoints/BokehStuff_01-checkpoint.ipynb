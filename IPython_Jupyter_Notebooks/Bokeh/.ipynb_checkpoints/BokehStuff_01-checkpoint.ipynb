{
 "cells": [
  {
   "cell_type": "code",
   "execution_count": 1,
   "id": "c48a764c-3a1a-4182-8f40-65a4a2c28355",
   "metadata": {},
   "outputs": [
    {
     "name": "stdout",
     "output_type": "stream",
     "text": [
      "/Users/kpadhikari/GitStuff/KPAdhikari/PythonStuff/IPython_Jupyter_Notebooks/Bokeh\n"
     ]
    }
   ],
   "source": [
    "!pwd"
   ]
  },
  {
   "cell_type": "markdown",
   "id": "69de5742-dd85-4e67-86fd-f3e1c062ff38",
   "metadata": {},
   "source": [
    "I started this notebook on 2/13/2022 after one of the TDI (The Data Incubator) [pages](https://www.thedataincubator.com/blog/2015/09/22/painlessly-deploying-data-apps-with-bokeh-flask-and-heroku/) led me to  [this series](https://nbviewer.org/github/bokeh/bokeh-notebooks/blob/master/index.ipynb#Tutorial) of step-by-step IPython notebooks. This page had the following stuff:\n",
    "\n",
    "------------\n",
    "When I reopened this notebook nextday after I had closed the browser (without shutting down the jupyter notebook server on the terminal), I had expected that all the bokeh plots that I saw the previous day would automatically show up, just like I used to see with `%matplotlib inline`, but it didn't, so I googled about \"bokeh plot not cached in the notebook when reopened?\" and came to the following thread:\n",
    "\n",
    "https://github.com/bokeh/bokeh/issues/6232 bryevdv commented on May 2, 2017\n",
    "\n",
    "    Bokeh does not cache images. It always runs real JavaScript code to generate the plot on an HTML canvas. Because of this, it is absolutely necessary that BokehJS be loaded using output_notebook before any calls to show, etc. I don't see that there will ever be any way around this.\n",
    "\n",
    "------------\n",
    "#### <font color=\"magenta\">kp: First page - Welcome page</font>\n",
    "Welcome to [Bokeh](https://bokeh.org/) in the Jupyter Notebook!\n",
    "\n",
    "Bokeh is a Python interactive visualization library that targets modern web browsers for presentation. Its goal is to provide elegant, concise construction of novel graphics in the style of D3.js, and to extend this capability with high-performance interactivity over very large or streaming datasets. Bokeh can help anyone who would like to quickly and easily create interactive plots, dashboards, and data applications.\n",
    "\n",
    "### Quickstart\n",
    "Get started with a [5-min introduction](https://nbviewer.org/github/bokeh/bokeh-notebooks/blob/master/quickstart/quickstart.ipynb) to Bokeh.\n",
    "\n",
    "### Tutorial\n",
    "Start with the [Introduction and Setup](https://nbviewer.org/github/bokeh/bokeh-notebooks/blob/master/tutorial/00%20-%20Introduction%20and%20Setup.ipynb) notebook and jump to any of the specific topic sections from there.\n",
    "\n",
    "### More information\n",
    "Find more details and contact information at https://bokeh.org.\n",
    "\n",
    "### Thanks\n",
    "Bokeh was originally developed with financial support from [Anaconda, Inc](https://anaconda.com/). and the Darpa XDATA initiative, and continues due to support from NumFOCUS and individual community contributions. Many thanks to [all of the Bokeh Github contributors](https://github.com/bokeh/bokeh/graphs/contributors).\n",
    "\n",
    "----------\n",
    "#### <font color=\"magenta\">kp: Second page -  Bokeh 5-minute Overview</font>\n",
    "\n",
    "## [Bokeh Quick Start](https://nbviewer.org/github/bokeh/bokeh-notebooks/blob/master/quickstart/quickstart.ipynb) - Bokeh 5-minute Overview\n",
    "Bokeh is a Python interactive visualization library that targets modern web browsers for presentation. Its goal is to provide elegant, concise construction of novel graphics in the style of D3.js, and to extend this capability with high-performance interactivity over very large or streaming datasets. Bokeh can help anyone who would like to quickly and easily create interactive plots, dashboards, and data applications.\n",
    "\n",
    "### Simple Example\n",
    "Here is a simple first example. First we'll import the figure function from bokeh.plotting, which will let us create all sorts of interesting plots easily. We also import the show and ouptut_notebook functions from bokeh.io — these let us display our results inline in the notebook."
   ]
  },
  {
   "cell_type": "code",
   "execution_count": 38,
   "id": "6fd05418-7891-48e0-992f-5d1fdd321ef1",
   "metadata": {},
   "outputs": [],
   "source": [
    "from bokeh.resources import INLINE #kp: https://stackoverflow.com/questions/43745142/python-bokeh-plotting-package-does-not-cache-plots-in-jupyter-notebook\n",
    "from bokeh.plotting import figure\n",
    "from bokeh.io import show, output_notebook\n",
    "#Didn't show any error means, Anaconda already had it installed (coz I don't remember installing it myself)"
   ]
  },
  {
   "cell_type": "markdown",
   "id": "412a31bd-93f9-49f8-b7ce-09969636b3f8",
   "metadata": {},
   "source": [
    "Next, we'll tell Bokeh to display its plots directly into the notebook. This will cause all of the Javascript and data to be embedded directly into the HTML of the notebook itself. (Bokeh can output straight to HTML files, or use a server, which we'll look at later.)\n",
    "\n",
    "<font color=\"red\">(kp: Please remember that normally the interactive Bokeh graphics shows up webpages that's not a jupyter/ipython notebook. This is the reason why to make the interactive graphics show up in the notebook, we have to explicitly have the following line of code.)</font>"
   ]
  },
  {
   "cell_type": "code",
   "execution_count": 39,
   "id": "fdd30643-146b-4338-ba22-202e86b2b851",
   "metadata": {},
   "outputs": [
    {
     "data": {
      "text/html": [
       "\n",
       "    <div class=\"bk-root\">\n",
       "        <a href=\"https://bokeh.org\" target=\"_blank\" class=\"bk-logo bk-logo-small bk-logo-notebook\"></a>\n",
       "        <span id=\"2584\">Loading BokehJS ...</span>\n",
       "    </div>"
      ]
     },
     "metadata": {},
     "output_type": "display_data"
    },
    {
     "data": {
      "application/javascript": [
       "\n",
       "(function(root) {\n",
       "  function now() {\n",
       "    return new Date();\n",
       "  }\n",
       "\n",
       "  const force = true;\n",
       "\n",
       "  if (typeof root._bokeh_onload_callbacks === \"undefined\" || force === true) {\n",
       "    root._bokeh_onload_callbacks = [];\n",
       "    root._bokeh_is_loading = undefined;\n",
       "  }\n",
       "\n",
       "  const JS_MIME_TYPE = 'application/javascript';\n",
       "  const HTML_MIME_TYPE = 'text/html';\n",
       "  const EXEC_MIME_TYPE = 'application/vnd.bokehjs_exec.v0+json';\n",
       "  const CLASS_NAME = 'output_bokeh rendered_html';\n",
       "\n",
       "  /**\n",
       "   * Render data to the DOM node\n",
       "   */\n",
       "  function render(props, node) {\n",
       "    const script = document.createElement(\"script\");\n",
       "    node.appendChild(script);\n",
       "  }\n",
       "\n",
       "  /**\n",
       "   * Handle when an output is cleared or removed\n",
       "   */\n",
       "  function handleClearOutput(event, handle) {\n",
       "    const cell = handle.cell;\n",
       "\n",
       "    const id = cell.output_area._bokeh_element_id;\n",
       "    const server_id = cell.output_area._bokeh_server_id;\n",
       "    // Clean up Bokeh references\n",
       "    if (id != null && id in Bokeh.index) {\n",
       "      Bokeh.index[id].model.document.clear();\n",
       "      delete Bokeh.index[id];\n",
       "    }\n",
       "\n",
       "    if (server_id !== undefined) {\n",
       "      // Clean up Bokeh references\n",
       "      const cmd_clean = \"from bokeh.io.state import curstate; print(curstate().uuid_to_server['\" + server_id + \"'].get_sessions()[0].document.roots[0]._id)\";\n",
       "      cell.notebook.kernel.execute(cmd_clean, {\n",
       "        iopub: {\n",
       "          output: function(msg) {\n",
       "            const id = msg.content.text.trim();\n",
       "            if (id in Bokeh.index) {\n",
       "              Bokeh.index[id].model.document.clear();\n",
       "              delete Bokeh.index[id];\n",
       "            }\n",
       "          }\n",
       "        }\n",
       "      });\n",
       "      // Destroy server and session\n",
       "      const cmd_destroy = \"import bokeh.io.notebook as ion; ion.destroy_server('\" + server_id + \"')\";\n",
       "      cell.notebook.kernel.execute(cmd_destroy);\n",
       "    }\n",
       "  }\n",
       "\n",
       "  /**\n",
       "   * Handle when a new output is added\n",
       "   */\n",
       "  function handleAddOutput(event, handle) {\n",
       "    const output_area = handle.output_area;\n",
       "    const output = handle.output;\n",
       "\n",
       "    // limit handleAddOutput to display_data with EXEC_MIME_TYPE content only\n",
       "    if ((output.output_type != \"display_data\") || (!Object.prototype.hasOwnProperty.call(output.data, EXEC_MIME_TYPE))) {\n",
       "      return\n",
       "    }\n",
       "\n",
       "    const toinsert = output_area.element.find(\".\" + CLASS_NAME.split(' ')[0]);\n",
       "\n",
       "    if (output.metadata[EXEC_MIME_TYPE][\"id\"] !== undefined) {\n",
       "      toinsert[toinsert.length - 1].firstChild.textContent = output.data[JS_MIME_TYPE];\n",
       "      // store reference to embed id on output_area\n",
       "      output_area._bokeh_element_id = output.metadata[EXEC_MIME_TYPE][\"id\"];\n",
       "    }\n",
       "    if (output.metadata[EXEC_MIME_TYPE][\"server_id\"] !== undefined) {\n",
       "      const bk_div = document.createElement(\"div\");\n",
       "      bk_div.innerHTML = output.data[HTML_MIME_TYPE];\n",
       "      const script_attrs = bk_div.children[0].attributes;\n",
       "      for (let i = 0; i < script_attrs.length; i++) {\n",
       "        toinsert[toinsert.length - 1].firstChild.setAttribute(script_attrs[i].name, script_attrs[i].value);\n",
       "        toinsert[toinsert.length - 1].firstChild.textContent = bk_div.children[0].textContent\n",
       "      }\n",
       "      // store reference to server id on output_area\n",
       "      output_area._bokeh_server_id = output.metadata[EXEC_MIME_TYPE][\"server_id\"];\n",
       "    }\n",
       "  }\n",
       "\n",
       "  function register_renderer(events, OutputArea) {\n",
       "\n",
       "    function append_mime(data, metadata, element) {\n",
       "      // create a DOM node to render to\n",
       "      const toinsert = this.create_output_subarea(\n",
       "        metadata,\n",
       "        CLASS_NAME,\n",
       "        EXEC_MIME_TYPE\n",
       "      );\n",
       "      this.keyboard_manager.register_events(toinsert);\n",
       "      // Render to node\n",
       "      const props = {data: data, metadata: metadata[EXEC_MIME_TYPE]};\n",
       "      render(props, toinsert[toinsert.length - 1]);\n",
       "      element.append(toinsert);\n",
       "      return toinsert\n",
       "    }\n",
       "\n",
       "    /* Handle when an output is cleared or removed */\n",
       "    events.on('clear_output.CodeCell', handleClearOutput);\n",
       "    events.on('delete.Cell', handleClearOutput);\n",
       "\n",
       "    /* Handle when a new output is added */\n",
       "    events.on('output_added.OutputArea', handleAddOutput);\n",
       "\n",
       "    /**\n",
       "     * Register the mime type and append_mime function with output_area\n",
       "     */\n",
       "    OutputArea.prototype.register_mime_type(EXEC_MIME_TYPE, append_mime, {\n",
       "      /* Is output safe? */\n",
       "      safe: true,\n",
       "      /* Index of renderer in `output_area.display_order` */\n",
       "      index: 0\n",
       "    });\n",
       "  }\n",
       "\n",
       "  // register the mime type if in Jupyter Notebook environment and previously unregistered\n",
       "  if (root.Jupyter !== undefined) {\n",
       "    const events = require('base/js/events');\n",
       "    const OutputArea = require('notebook/js/outputarea').OutputArea;\n",
       "\n",
       "    if (OutputArea.prototype.mime_types().indexOf(EXEC_MIME_TYPE) == -1) {\n",
       "      register_renderer(events, OutputArea);\n",
       "    }\n",
       "  }\n",
       "\n",
       "  \n",
       "  if (typeof (root._bokeh_timeout) === \"undefined\" || force === true) {\n",
       "    root._bokeh_timeout = Date.now() + 5000;\n",
       "    root._bokeh_failed_load = false;\n",
       "  }\n",
       "\n",
       "  const NB_LOAD_WARNING = {'data': {'text/html':\n",
       "     \"<div style='background-color: #fdd'>\\n\"+\n",
       "     \"<p>\\n\"+\n",
       "     \"BokehJS does not appear to have successfully loaded. If loading BokehJS from CDN, this \\n\"+\n",
       "     \"may be due to a slow or bad network connection. Possible fixes:\\n\"+\n",
       "     \"</p>\\n\"+\n",
       "     \"<ul>\\n\"+\n",
       "     \"<li>re-rerun `output_notebook()` to attempt to load from CDN again, or</li>\\n\"+\n",
       "     \"<li>use INLINE resources instead, as so:</li>\\n\"+\n",
       "     \"</ul>\\n\"+\n",
       "     \"<code>\\n\"+\n",
       "     \"from bokeh.resources import INLINE\\n\"+\n",
       "     \"output_notebook(resources=INLINE)\\n\"+\n",
       "     \"</code>\\n\"+\n",
       "     \"</div>\"}};\n",
       "\n",
       "  function display_loaded() {\n",
       "    const el = document.getElementById(\"2584\");\n",
       "    if (el != null) {\n",
       "      el.textContent = \"BokehJS is loading...\";\n",
       "    }\n",
       "    if (root.Bokeh !== undefined) {\n",
       "      if (el != null) {\n",
       "        el.textContent = \"BokehJS \" + root.Bokeh.version + \" successfully loaded.\";\n",
       "      }\n",
       "    } else if (Date.now() < root._bokeh_timeout) {\n",
       "      setTimeout(display_loaded, 100)\n",
       "    }\n",
       "  }\n",
       "\n",
       "\n",
       "  function run_callbacks() {\n",
       "    try {\n",
       "      root._bokeh_onload_callbacks.forEach(function(callback) {\n",
       "        if (callback != null)\n",
       "          callback();\n",
       "      });\n",
       "    } finally {\n",
       "      delete root._bokeh_onload_callbacks\n",
       "    }\n",
       "    console.debug(\"Bokeh: all callbacks have finished\");\n",
       "  }\n",
       "\n",
       "  function load_libs(css_urls, js_urls, callback) {\n",
       "    if (css_urls == null) css_urls = [];\n",
       "    if (js_urls == null) js_urls = [];\n",
       "\n",
       "    root._bokeh_onload_callbacks.push(callback);\n",
       "    if (root._bokeh_is_loading > 0) {\n",
       "      console.debug(\"Bokeh: BokehJS is being loaded, scheduling callback at\", now());\n",
       "      return null;\n",
       "    }\n",
       "    if (js_urls == null || js_urls.length === 0) {\n",
       "      run_callbacks();\n",
       "      return null;\n",
       "    }\n",
       "    console.debug(\"Bokeh: BokehJS not loaded, scheduling load and callback at\", now());\n",
       "    root._bokeh_is_loading = css_urls.length + js_urls.length;\n",
       "\n",
       "    function on_load() {\n",
       "      root._bokeh_is_loading--;\n",
       "      if (root._bokeh_is_loading === 0) {\n",
       "        console.debug(\"Bokeh: all BokehJS libraries/stylesheets loaded\");\n",
       "        run_callbacks()\n",
       "      }\n",
       "    }\n",
       "\n",
       "    function on_error(url) {\n",
       "      console.error(\"failed to load \" + url);\n",
       "    }\n",
       "\n",
       "    for (let i = 0; i < css_urls.length; i++) {\n",
       "      const url = css_urls[i];\n",
       "      const element = document.createElement(\"link\");\n",
       "      element.onload = on_load;\n",
       "      element.onerror = on_error.bind(null, url);\n",
       "      element.rel = \"stylesheet\";\n",
       "      element.type = \"text/css\";\n",
       "      element.href = url;\n",
       "      console.debug(\"Bokeh: injecting link tag for BokehJS stylesheet: \", url);\n",
       "      document.body.appendChild(element);\n",
       "    }\n",
       "\n",
       "    for (let i = 0; i < js_urls.length; i++) {\n",
       "      const url = js_urls[i];\n",
       "      const element = document.createElement('script');\n",
       "      element.onload = on_load;\n",
       "      element.onerror = on_error.bind(null, url);\n",
       "      element.async = false;\n",
       "      element.src = url;\n",
       "      console.debug(\"Bokeh: injecting script tag for BokehJS library: \", url);\n",
       "      document.head.appendChild(element);\n",
       "    }\n",
       "  };\n",
       "\n",
       "  function inject_raw_css(css) {\n",
       "    const element = document.createElement(\"style\");\n",
       "    element.appendChild(document.createTextNode(css));\n",
       "    document.body.appendChild(element);\n",
       "  }\n",
       "\n",
       "  \n",
       "  const js_urls = [\"https://cdn.bokeh.org/bokeh/release/bokeh-2.4.1.min.js\", \"https://cdn.bokeh.org/bokeh/release/bokeh-gl-2.4.1.min.js\", \"https://cdn.bokeh.org/bokeh/release/bokeh-widgets-2.4.1.min.js\", \"https://cdn.bokeh.org/bokeh/release/bokeh-tables-2.4.1.min.js\", \"https://cdn.bokeh.org/bokeh/release/bokeh-mathjax-2.4.1.min.js\"];\n",
       "  const css_urls = [];\n",
       "  \n",
       "\n",
       "  const inline_js = [\n",
       "    function(Bokeh) {\n",
       "      Bokeh.set_log_level(\"info\");\n",
       "    },\n",
       "    function(Bokeh) {\n",
       "    \n",
       "    \n",
       "    }\n",
       "  ];\n",
       "\n",
       "  function run_inline_js() {\n",
       "    \n",
       "    if (root.Bokeh !== undefined || force === true) {\n",
       "      \n",
       "    for (let i = 0; i < inline_js.length; i++) {\n",
       "      inline_js[i].call(root, root.Bokeh);\n",
       "    }\n",
       "    if (force === true) {\n",
       "        display_loaded();\n",
       "      }} else if (Date.now() < root._bokeh_timeout) {\n",
       "      setTimeout(run_inline_js, 100);\n",
       "    } else if (!root._bokeh_failed_load) {\n",
       "      console.log(\"Bokeh: BokehJS failed to load within specified timeout.\");\n",
       "      root._bokeh_failed_load = true;\n",
       "    } else if (force !== true) {\n",
       "      const cell = $(document.getElementById(\"2584\")).parents('.cell').data().cell;\n",
       "      cell.output_area.append_execute_result(NB_LOAD_WARNING)\n",
       "    }\n",
       "\n",
       "  }\n",
       "\n",
       "  if (root._bokeh_is_loading === 0) {\n",
       "    console.debug(\"Bokeh: BokehJS loaded, going straight to plotting\");\n",
       "    run_inline_js();\n",
       "  } else {\n",
       "    load_libs(css_urls, js_urls, function() {\n",
       "      console.debug(\"Bokeh: BokehJS plotting callback run at\", now());\n",
       "      run_inline_js();\n",
       "    });\n",
       "  }\n",
       "}(window));"
      ],
      "application/vnd.bokehjs_load.v0+json": "\n(function(root) {\n  function now() {\n    return new Date();\n  }\n\n  const force = true;\n\n  if (typeof root._bokeh_onload_callbacks === \"undefined\" || force === true) {\n    root._bokeh_onload_callbacks = [];\n    root._bokeh_is_loading = undefined;\n  }\n\n  \n\n  \n  if (typeof (root._bokeh_timeout) === \"undefined\" || force === true) {\n    root._bokeh_timeout = Date.now() + 5000;\n    root._bokeh_failed_load = false;\n  }\n\n  const NB_LOAD_WARNING = {'data': {'text/html':\n     \"<div style='background-color: #fdd'>\\n\"+\n     \"<p>\\n\"+\n     \"BokehJS does not appear to have successfully loaded. If loading BokehJS from CDN, this \\n\"+\n     \"may be due to a slow or bad network connection. Possible fixes:\\n\"+\n     \"</p>\\n\"+\n     \"<ul>\\n\"+\n     \"<li>re-rerun `output_notebook()` to attempt to load from CDN again, or</li>\\n\"+\n     \"<li>use INLINE resources instead, as so:</li>\\n\"+\n     \"</ul>\\n\"+\n     \"<code>\\n\"+\n     \"from bokeh.resources import INLINE\\n\"+\n     \"output_notebook(resources=INLINE)\\n\"+\n     \"</code>\\n\"+\n     \"</div>\"}};\n\n  function display_loaded() {\n    const el = document.getElementById(\"2584\");\n    if (el != null) {\n      el.textContent = \"BokehJS is loading...\";\n    }\n    if (root.Bokeh !== undefined) {\n      if (el != null) {\n        el.textContent = \"BokehJS \" + root.Bokeh.version + \" successfully loaded.\";\n      }\n    } else if (Date.now() < root._bokeh_timeout) {\n      setTimeout(display_loaded, 100)\n    }\n  }\n\n\n  function run_callbacks() {\n    try {\n      root._bokeh_onload_callbacks.forEach(function(callback) {\n        if (callback != null)\n          callback();\n      });\n    } finally {\n      delete root._bokeh_onload_callbacks\n    }\n    console.debug(\"Bokeh: all callbacks have finished\");\n  }\n\n  function load_libs(css_urls, js_urls, callback) {\n    if (css_urls == null) css_urls = [];\n    if (js_urls == null) js_urls = [];\n\n    root._bokeh_onload_callbacks.push(callback);\n    if (root._bokeh_is_loading > 0) {\n      console.debug(\"Bokeh: BokehJS is being loaded, scheduling callback at\", now());\n      return null;\n    }\n    if (js_urls == null || js_urls.length === 0) {\n      run_callbacks();\n      return null;\n    }\n    console.debug(\"Bokeh: BokehJS not loaded, scheduling load and callback at\", now());\n    root._bokeh_is_loading = css_urls.length + js_urls.length;\n\n    function on_load() {\n      root._bokeh_is_loading--;\n      if (root._bokeh_is_loading === 0) {\n        console.debug(\"Bokeh: all BokehJS libraries/stylesheets loaded\");\n        run_callbacks()\n      }\n    }\n\n    function on_error(url) {\n      console.error(\"failed to load \" + url);\n    }\n\n    for (let i = 0; i < css_urls.length; i++) {\n      const url = css_urls[i];\n      const element = document.createElement(\"link\");\n      element.onload = on_load;\n      element.onerror = on_error.bind(null, url);\n      element.rel = \"stylesheet\";\n      element.type = \"text/css\";\n      element.href = url;\n      console.debug(\"Bokeh: injecting link tag for BokehJS stylesheet: \", url);\n      document.body.appendChild(element);\n    }\n\n    for (let i = 0; i < js_urls.length; i++) {\n      const url = js_urls[i];\n      const element = document.createElement('script');\n      element.onload = on_load;\n      element.onerror = on_error.bind(null, url);\n      element.async = false;\n      element.src = url;\n      console.debug(\"Bokeh: injecting script tag for BokehJS library: \", url);\n      document.head.appendChild(element);\n    }\n  };\n\n  function inject_raw_css(css) {\n    const element = document.createElement(\"style\");\n    element.appendChild(document.createTextNode(css));\n    document.body.appendChild(element);\n  }\n\n  \n  const js_urls = [\"https://cdn.bokeh.org/bokeh/release/bokeh-2.4.1.min.js\", \"https://cdn.bokeh.org/bokeh/release/bokeh-gl-2.4.1.min.js\", \"https://cdn.bokeh.org/bokeh/release/bokeh-widgets-2.4.1.min.js\", \"https://cdn.bokeh.org/bokeh/release/bokeh-tables-2.4.1.min.js\", \"https://cdn.bokeh.org/bokeh/release/bokeh-mathjax-2.4.1.min.js\"];\n  const css_urls = [];\n  \n\n  const inline_js = [\n    function(Bokeh) {\n      Bokeh.set_log_level(\"info\");\n    },\n    function(Bokeh) {\n    \n    \n    }\n  ];\n\n  function run_inline_js() {\n    \n    if (root.Bokeh !== undefined || force === true) {\n      \n    for (let i = 0; i < inline_js.length; i++) {\n      inline_js[i].call(root, root.Bokeh);\n    }\n    if (force === true) {\n        display_loaded();\n      }} else if (Date.now() < root._bokeh_timeout) {\n      setTimeout(run_inline_js, 100);\n    } else if (!root._bokeh_failed_load) {\n      console.log(\"Bokeh: BokehJS failed to load within specified timeout.\");\n      root._bokeh_failed_load = true;\n    } else if (force !== true) {\n      const cell = $(document.getElementById(\"2584\")).parents('.cell').data().cell;\n      cell.output_area.append_execute_result(NB_LOAD_WARNING)\n    }\n\n  }\n\n  if (root._bokeh_is_loading === 0) {\n    console.debug(\"Bokeh: BokehJS loaded, going straight to plotting\");\n    run_inline_js();\n  } else {\n    load_libs(css_urls, js_urls, function() {\n      console.debug(\"Bokeh: BokehJS plotting callback run at\", now());\n      run_inline_js();\n    });\n  }\n}(window));"
     },
     "metadata": {},
     "output_type": "display_data"
    }
   ],
   "source": [
    "output_notebook()"
   ]
  },
  {
   "cell_type": "markdown",
   "id": "90cd11bf-f6b2-43af-a36a-43cff687e404",
   "metadata": {},
   "source": [
    "-----------\n",
    "### kp: A Quick refresher on `%matplotlib online`\n",
    "\n",
    "`%matplotlib` is a [magic function](http://ipython.readthedocs.io/en/stable/interactive/tutorial.html#magics-explained) in IPython. I'll quote the relevant documentation here for you to read for convenience:\n",
    "\n",
    "        IPython has a set of predefined ‘magic functions’ that you can call with a command line style syntax. There are **two kinds of magics, line-oriented and cell-oriented**. Line magics are prefixed with the % character and work much like OS command-line calls: they get as an argument the rest of the line, where arguments are passed without parentheses or quotes. Lines magics can return results and can be used in the right hand side of an assignment. Cell magics are prefixed with a double %%, and they are functions that get as an argument not only the rest of the line, but also the lines below it in a separate argument.\n",
    "\n",
    "%matplotlib inline [sets the backend of matplotlib to the 'inline' backend](http://ipython.readthedocs.io/en/stable/interactive/plotting.html):\n",
    "\n",
    "    With this backend, the output of plotting commands is displayed inline within frontends like the Jupyter notebook, directly below the code cell that produced it. The resulting plots will then also be stored in the notebook document.\n",
    "\n",
    "When using the 'inline' backend, your matplotlib graphs will be included in your notebook, next to the code. It may be worth also reading [How to make IPython notebook matplotlib plot inline](http://ipython.readthedocs.io/en/stable/interactive/plotting.html) for reference on how to use it in your code.\n",
    "\n",
    "If you want interactivity as well, you can use the [nbagg backend](https://stackoverflow.com/questions/19410042/how-to-make-ipython-notebook-matplotlib-plot-inline) with `%matplotlib notebook` (in IPython 3.x), as described [here](https://stackoverflow.com/questions/19410042/how-to-make-ipython-notebook-matplotlib-plot-inline).\n",
    "\n",
    "------\n",
    "#### Just trying easy coloring methods\n",
    "https://stackoverflow.com/questions/35465557/how-to-apply-color-in-markdown#:~:text=Markdown%20doesn't%20support%20color,*%20text.\n",
    "\n",
    "Short story: links. Make use of something like:\n",
    "\n",
    "\n",
    "```html\n",
    "a[href='red'] {\n",
    "    color: red;\n",
    "    pointer-events: none;\n",
    "    cursor: default;\n",
    "    text-decoration: none;\n",
    "}\n",
    "<a href=\"red\">Look, ma! Red!</a>\n",
    "```\n",
    "(HTML above for demonstration purposes)\n",
    "\n",
    "And in your md source:\n",
    "\n",
    "    [Look, ma! Red!](red)\n",
    "-----\n",
    "#### Just trying some Emojis here:\n",
    "But didn't work as expected - I think they are part of some extended syntax which will need some extra software or some extra setup.\n",
    ":warning:, :important:, :new:\n",
    "\n",
    "H~2~O"
   ]
  },
  {
   "cell_type": "code",
   "execution_count": 7,
   "id": "60f368a9-aae4-4a6f-8b18-4a1602a37607",
   "metadata": {},
   "outputs": [
    {
     "data": {
      "text/plain": [
       "numpy.ndarray"
      ]
     },
     "execution_count": 7,
     "metadata": {},
     "output_type": "execute_result"
    }
   ],
   "source": [
    "from numpy import cos, linspace\n",
    "x = linspace(-6, 6, 100)\n",
    "y = cos(x)\n",
    "type(x)"
   ]
  },
  {
   "cell_type": "markdown",
   "id": "01a5f25a-763d-4b8d-8bd9-12a3d6aedc1a",
   "metadata": {},
   "source": [
    "Now we'll call Bokeh's figure function to create a plot p _(kp: no data yet)_ and then call the circle() method of the plot to render a red circle at each of the points in x and y. \n",
    "\n",
    "We can immediately interact with the plot:\n",
    "* click-drag will pan the plot around.\n",
    "* mousewheel will zoom in and out (after enabling in the toolbar).\n",
    "\n",
    "The toolbar below is the default one that is available for all plots. It can be configured further via the tools keyword argument (kp: see 'tools' argument used in the example on [Linked Brushing](#LinkedBrushing) below)."
   ]
  },
  {
   "cell_type": "code",
   "execution_count": 40,
   "id": "a77d87ef-0311-4b57-bb9e-503ccfdebac2",
   "metadata": {},
   "outputs": [
    {
     "data": {
      "text/html": [
       "\n",
       "\n",
       "\n",
       "\n",
       "\n",
       "\n",
       "  <div class=\"bk-root\" id=\"de7d5d5e-b87f-4584-a81c-1687a475a4f0\" data-root-id=\"2585\"></div>\n"
      ]
     },
     "metadata": {},
     "output_type": "display_data"
    },
    {
     "data": {
      "application/javascript": [
       "(function(root) {\n",
       "  function embed_document(root) {\n",
       "    \n",
       "  const docs_json = {\"d77f5d61-9ce5-4c0b-8ad1-a9febb68fc30\":{\"defs\":[],\"roots\":{\"references\":[{\"attributes\":{\"below\":[{\"id\":\"2594\"}],\"center\":[{\"id\":\"2597\"},{\"id\":\"2601\"}],\"height\":500,\"left\":[{\"id\":\"2598\"}],\"renderers\":[{\"id\":\"2620\"}],\"title\":{\"id\":\"2724\"},\"toolbar\":{\"id\":\"2609\"},\"width\":500,\"x_range\":{\"id\":\"2586\"},\"x_scale\":{\"id\":\"2590\"},\"y_range\":{\"id\":\"2588\"},\"y_scale\":{\"id\":\"2592\"}},\"id\":\"2585\",\"subtype\":\"Figure\",\"type\":\"Plot\"},{\"attributes\":{},\"id\":\"2603\",\"type\":\"WheelZoomTool\"},{\"attributes\":{\"overlay\":{\"id\":\"2608\"}},\"id\":\"2604\",\"type\":\"BoxZoomTool\"},{\"attributes\":{\"fill_alpha\":{\"value\":0.1},\"fill_color\":{\"value\":\"firebrick\"},\"hatch_alpha\":{\"value\":0.1},\"hatch_color\":{\"value\":\"firebrick\"},\"line_alpha\":{\"value\":0.1},\"line_color\":{\"value\":\"firebrick\"},\"size\":{\"value\":7},\"x\":{\"field\":\"x\"},\"y\":{\"field\":\"y\"}},\"id\":\"2618\",\"type\":\"Circle\"},{\"attributes\":{\"fill_alpha\":{\"value\":0.2},\"fill_color\":{\"value\":\"firebrick\"},\"hatch_alpha\":{\"value\":0.2},\"hatch_color\":{\"value\":\"firebrick\"},\"line_alpha\":{\"value\":0.2},\"line_color\":{\"value\":\"firebrick\"},\"size\":{\"value\":7},\"x\":{\"field\":\"x\"},\"y\":{\"field\":\"y\"}},\"id\":\"2619\",\"type\":\"Circle\"},{\"attributes\":{\"fill_alpha\":{\"value\":0.5},\"fill_color\":{\"value\":\"firebrick\"},\"hatch_alpha\":{\"value\":0.5},\"hatch_color\":{\"value\":\"firebrick\"},\"line_alpha\":{\"value\":0.5},\"line_color\":{\"value\":\"firebrick\"},\"size\":{\"value\":7},\"x\":{\"field\":\"x\"},\"y\":{\"field\":\"y\"}},\"id\":\"2617\",\"type\":\"Circle\"},{\"attributes\":{\"coordinates\":null,\"formatter\":{\"id\":\"2727\"},\"group\":null,\"major_label_policy\":{\"id\":\"2728\"},\"ticker\":{\"id\":\"2599\"}},\"id\":\"2598\",\"type\":\"LinearAxis\"},{\"attributes\":{},\"id\":\"2599\",\"type\":\"BasicTicker\"},{\"attributes\":{},\"id\":\"2588\",\"type\":\"DataRange1d\"},{\"attributes\":{\"axis\":{\"id\":\"2594\"},\"coordinates\":null,\"group\":null,\"ticker\":null},\"id\":\"2597\",\"type\":\"Grid\"},{\"attributes\":{},\"id\":\"2732\",\"type\":\"UnionRenderers\"},{\"attributes\":{},\"id\":\"2605\",\"type\":\"SaveTool\"},{\"attributes\":{},\"id\":\"2590\",\"type\":\"LinearScale\"},{\"attributes\":{},\"id\":\"2607\",\"type\":\"HelpTool\"},{\"attributes\":{\"bottom_units\":\"screen\",\"coordinates\":null,\"fill_alpha\":0.5,\"fill_color\":\"lightgrey\",\"group\":null,\"left_units\":\"screen\",\"level\":\"overlay\",\"line_alpha\":1.0,\"line_color\":\"black\",\"line_dash\":[4,4],\"line_width\":2,\"right_units\":\"screen\",\"syncable\":false,\"top_units\":\"screen\"},\"id\":\"2608\",\"type\":\"BoxAnnotation\"},{\"attributes\":{},\"id\":\"2602\",\"type\":\"PanTool\"},{\"attributes\":{\"coordinates\":null,\"group\":null},\"id\":\"2724\",\"type\":\"Title\"},{\"attributes\":{},\"id\":\"2592\",\"type\":\"LinearScale\"},{\"attributes\":{\"data\":{\"x\":{\"__ndarray__\":\"AAAAAAAAGMCEDz744IMXwAgffPDBBxfAjC666KKLFsAQPvjggw8WwJNNNtlkkxXAF1100UUXFcCbbLLJJpsUwB988MEHHxTAo4suuuiiE8Anm2yyySYTwKqqqqqqqhLALrrooosuEsCyySabbLIRwDbZZJNNNhHAuuiiiy66EMA++OCDDz4QwIQPPvjggw/AjC666KKLDsCTTTbZZJMNwJtssskmmwzAo4suuuiiC8CqqqqqqqoKwLLJJptssgnAuuiiiy66CMDCBx988MEHwMomm2yyyQbA0UUXXXTRBcDZZJNNNtkEwOGDDz744APA6KKLLrroAsDwwQcffPABwPjggw8++ADAAAAAAAAAAMAQPvjggw/+vyB88MEHH/y/MLrooosu+r88+OCDDz74v0w22WSTTfa/XHTRRRdd9L9ssskmm2zyv3zwwQcffPC/GF100UUX7b842WSTTTbpv1BVVVVVVeW/cNFFF1104b8gm2yyySbbv2CTTTbZZNO/QBdddNFFx78AH3zwwQevvwAffPDBB68/QBdddNFFxz9gk0022WTTPzCbbLLJJts/eNFFF1104T9YVVVVVVXlPzjZZJNNNuk/GF100UUX7T988MEHH3zwP2yyySabbPI/YHTRRRdd9D9QNtlkk032P0D44IMPPvg/MLrooosu+j8gfPDBBx/8PxA++OCDD/4/AAAAAAAAAED44IMPPvgAQPDBBx988AFA6KKLLrroAkDggw8++OADQNhkk0022QRA0EUXXXTRBUDMJptssskGQMQHH3zwwQdAvOiiiy66CEC0ySabbLIJQKyqqqqqqgpApIsuuuiiC0CcbLLJJpsMQJRNNtlkkw1AjC666KKLDkCEDz744IMPQD744IMPPhBAuuiiiy66EEA22WSTTTYRQLLJJptsshFALrrooosuEkCsqqqqqqoSQCibbLLJJhNApIsuuuiiE0AgfPDBBx8UQJxssskmmxRAGF100UUXFUCUTTbZZJMVQBA++OCDDxZAjC666KKLFkAIH3zwwQcXQIQPPvjggxdAAAAAAAAAGEA=\",\"dtype\":\"float64\",\"order\":\"little\",\"shape\":[100]},\"y\":{\"__ndarray__\":\"9iJ4Cbe57j8JY+r+OmvtP60Tvck6rus/WLzTHz6J6T/y0bJaUwTnP6E1+zPxKOQ/oCcYONMB4T8ZPFzpojXbP8LygfRnAdQ/fGjcYAsEyT8z6888mk6zP+5YV8fTZqe/pYFip7xExb9PFf407y/Svy3Wz2Mtedm/GSzA6Fwx4L8zrWZ2Tmnjv1uZMxdUWOa/yEpIeGjz6L+AKUaewTDrv4rmZKv1B+2/pq/Cehpy7r9tKDKa32nvv7My8UCi6++/lWFJ+Hr1779ggMrCRIfvv13mP6edou6//JJWneBK7b/O+cbyGIXrv36TXFjvV+m/wpQK3pDL5r8GDQc8kOnjv6uITtzBvOC/BXJTVyai2r/ACBWWu2bTv4h0TibdxMe/siQZ5fDFsL8tuK+mtnmsP79vCY4VhcY//tyFCJLL0j9AaSfs/Q3aPzsevIFEd+A/HRvGyK6p4z+ZiDpMO5LmPxkpbAr9Jek/+alUikVb6z85RlM6ySntP8jZq5m+iu4/fMS1t/d47z+hS/Ko9fDvP6FL8qj18O8/fMS1t/d47z/I2auZvoruPzZGUzrJKe0/9KlUikVb6z8UKWwK/SXpP5mIOkw7kuY/HRvGyK6p4z87HryBRHfgP0BpJ+z9Ddo/79yFCJLL0j+fbwmOFYXGP623r6a2eaw/siQZ5fDFsL+IdE4m3cTHv8AIFZa7ZtO/BXJTVyai2r+riE7cwbzgvwYNBzyQ6eO/wpQK3pDL5r98k1xY71fpv8z5xvIYheu/+pJWneBK7b9g5j+nnaLuv2KAysJEh++/lWFJ+Hr177+zMvFAouvvv2soMprfae+/pK/Cehpy7r+I5mSr9Qftv38pRp7BMOu/yEpIeGjz6L9bmTMXVFjmvzOtZnZOaeO/GSzA6Fwx4L8t1s9jLXnZv08V/jTvL9K/pYFip7xExb/uV1fH02anv3PrzzyaTrM/m2jcYAsEyT/R8oH0ZwHUPyc8XOmiNds/pycYONMB4T+oNfsz8SjkP/LRslpTBOc/WLzTHz6J6T+tE73JOq7rPwlj6v46a+0/9iJ4Cbe57j8=\",\"dtype\":\"float64\",\"order\":\"little\",\"shape\":[100]}},\"selected\":{\"id\":\"2733\"},\"selection_policy\":{\"id\":\"2732\"}},\"id\":\"2616\",\"type\":\"ColumnDataSource\"},{\"attributes\":{\"tools\":[{\"id\":\"2602\"},{\"id\":\"2603\"},{\"id\":\"2604\"},{\"id\":\"2605\"},{\"id\":\"2606\"},{\"id\":\"2607\"}]},\"id\":\"2609\",\"type\":\"Toolbar\"},{\"attributes\":{},\"id\":\"2731\",\"type\":\"AllLabels\"},{\"attributes\":{},\"id\":\"2606\",\"type\":\"ResetTool\"},{\"attributes\":{\"coordinates\":null,\"data_source\":{\"id\":\"2616\"},\"glyph\":{\"id\":\"2617\"},\"group\":null,\"hover_glyph\":null,\"muted_glyph\":{\"id\":\"2619\"},\"nonselection_glyph\":{\"id\":\"2618\"},\"view\":{\"id\":\"2621\"}},\"id\":\"2620\",\"type\":\"GlyphRenderer\"},{\"attributes\":{\"source\":{\"id\":\"2616\"}},\"id\":\"2621\",\"type\":\"CDSView\"},{\"attributes\":{},\"id\":\"2733\",\"type\":\"Selection\"},{\"attributes\":{\"coordinates\":null,\"formatter\":{\"id\":\"2730\"},\"group\":null,\"major_label_policy\":{\"id\":\"2731\"},\"ticker\":{\"id\":\"2595\"}},\"id\":\"2594\",\"type\":\"LinearAxis\"},{\"attributes\":{},\"id\":\"2728\",\"type\":\"AllLabels\"},{\"attributes\":{\"axis\":{\"id\":\"2598\"},\"coordinates\":null,\"dimension\":1,\"group\":null,\"ticker\":null},\"id\":\"2601\",\"type\":\"Grid\"},{\"attributes\":{},\"id\":\"2586\",\"type\":\"DataRange1d\"},{\"attributes\":{},\"id\":\"2595\",\"type\":\"BasicTicker\"},{\"attributes\":{},\"id\":\"2730\",\"type\":\"BasicTickFormatter\"},{\"attributes\":{},\"id\":\"2727\",\"type\":\"BasicTickFormatter\"}],\"root_ids\":[\"2585\"]},\"title\":\"Bokeh Application\",\"version\":\"2.4.1\"}};\n",
       "  const render_items = [{\"docid\":\"d77f5d61-9ce5-4c0b-8ad1-a9febb68fc30\",\"root_ids\":[\"2585\"],\"roots\":{\"2585\":\"de7d5d5e-b87f-4584-a81c-1687a475a4f0\"}}];\n",
       "  root.Bokeh.embed.embed_items_notebook(docs_json, render_items);\n",
       "\n",
       "  }\n",
       "  if (root.Bokeh !== undefined) {\n",
       "    embed_document(root);\n",
       "  } else {\n",
       "    let attempts = 0;\n",
       "    const timer = setInterval(function(root) {\n",
       "      if (root.Bokeh !== undefined) {\n",
       "        clearInterval(timer);\n",
       "        embed_document(root);\n",
       "      } else {\n",
       "        attempts++;\n",
       "        if (attempts > 100) {\n",
       "          clearInterval(timer);\n",
       "          console.log(\"Bokeh: ERROR: Unable to run BokehJS code because BokehJS library is missing\");\n",
       "        }\n",
       "      }\n",
       "    }, 10, root)\n",
       "  }\n",
       "})(window);"
      ],
      "application/vnd.bokehjs_exec.v0+json": ""
     },
     "metadata": {
      "application/vnd.bokehjs_exec.v0+json": {
       "id": "2585"
      }
     },
     "output_type": "display_data"
    }
   ],
   "source": [
    "p = figure(width=500, height=500)\n",
    "p.circle(x, y, size=7, color=\"firebrick\", alpha=0.5) \n",
    "show(p)"
   ]
  },
  {
   "cell_type": "markdown",
   "id": "7b0ad514-8e76-4f1e-a6e4-b15dbd9c840b",
   "metadata": {},
   "source": [
    "## Bar Plot Example\n",
    "Bokeh's core display model relies on _composing graphical primitives_ which are bound to data series. This is similar in spirit to D3, and different than most other Python plotting libraries.\n",
    "\n",
    "A slightly sophisticated example demonstrates this idea.\n",
    "\n",
    "Bokeh ships with a small set of interesting \"sample data\" in the `bokeh.samledata` package. We'll load up some historical automobile mileage data, which is returned as a Pandas `DataFrame`."
   ]
  },
  {
   "cell_type": "code",
   "execution_count": 41,
   "id": "6d516d3a-533c-4955-aa3a-35c6ba5c0437",
   "metadata": {},
   "outputs": [
    {
     "name": "stdout",
     "output_type": "stream",
     "text": [
      "<class 'pandas.core.frame.DataFrame'>\n"
     ]
    },
    {
     "data": {
      "text/html": [
       "<div>\n",
       "<style scoped>\n",
       "    .dataframe tbody tr th:only-of-type {\n",
       "        vertical-align: middle;\n",
       "    }\n",
       "\n",
       "    .dataframe tbody tr th {\n",
       "        vertical-align: top;\n",
       "    }\n",
       "\n",
       "    .dataframe thead th {\n",
       "        text-align: right;\n",
       "    }\n",
       "</style>\n",
       "<table border=\"1\" class=\"dataframe\">\n",
       "  <thead>\n",
       "    <tr style=\"text-align: right;\">\n",
       "      <th></th>\n",
       "      <th>mpg</th>\n",
       "      <th>cyl</th>\n",
       "      <th>displ</th>\n",
       "      <th>hp</th>\n",
       "      <th>weight</th>\n",
       "      <th>accel</th>\n",
       "      <th>yr</th>\n",
       "      <th>origin</th>\n",
       "      <th>name</th>\n",
       "    </tr>\n",
       "  </thead>\n",
       "  <tbody>\n",
       "    <tr>\n",
       "      <th>0</th>\n",
       "      <td>18.0</td>\n",
       "      <td>8</td>\n",
       "      <td>307.0</td>\n",
       "      <td>130</td>\n",
       "      <td>3504</td>\n",
       "      <td>12.0</td>\n",
       "      <td>70</td>\n",
       "      <td>1</td>\n",
       "      <td>chevrolet chevelle malibu</td>\n",
       "    </tr>\n",
       "    <tr>\n",
       "      <th>1</th>\n",
       "      <td>15.0</td>\n",
       "      <td>8</td>\n",
       "      <td>350.0</td>\n",
       "      <td>165</td>\n",
       "      <td>3693</td>\n",
       "      <td>11.5</td>\n",
       "      <td>70</td>\n",
       "      <td>1</td>\n",
       "      <td>buick skylark 320</td>\n",
       "    </tr>\n",
       "  </tbody>\n",
       "</table>\n",
       "</div>"
      ],
      "text/plain": [
       "    mpg  cyl  displ   hp  weight  accel  yr  origin                       name\n",
       "0  18.0    8  307.0  130    3504   12.0  70       1  chevrolet chevelle malibu\n",
       "1  15.0    8  350.0  165    3693   11.5  70       1          buick skylark 320"
      ]
     },
     "metadata": {},
     "output_type": "display_data"
    },
    {
     "name": "stdout",
     "output_type": "stream",
     "text": [
      "<class 'pandas.core.groupby.generic.DataFrameGroupBy'>\n",
      "<class 'pandas.core.frame.DataFrame'>\n",
      "<class 'pandas.core.series.Series'>\n",
      "yr\n",
      "70    17.689655\n",
      "71    21.111111\n",
      "72    18.714286\n",
      "73    17.100000\n",
      "74    22.769231\n",
      "75    20.266667\n",
      "76    21.573529\n",
      "77    23.375000\n",
      "78    24.061111\n",
      "79    25.093103\n",
      "80    33.803704\n",
      "81    30.185714\n",
      "82    32.000000\n",
      "Name: mpg, dtype: float64 yr\n",
      "70    5.339231\n",
      "71    6.675635\n",
      "72    5.435529\n",
      "73    4.700245\n",
      "74    6.537937\n",
      "75    4.940566\n",
      "76    5.889297\n",
      "77    6.675862\n",
      "78    6.898044\n",
      "79    6.794217\n",
      "80    6.885854\n",
      "81    5.635319\n",
      "82    5.232524\n",
      "Name: mpg, dtype: float64\n",
      "[70, 71, 72, 73, 74, 75, 76, 77, 78, 79, 80, 81, 82]\n",
      "<class 'pandas.core.frame.DataFrame'>\n",
      "<class 'pandas.core.frame.DataFrame'>\n"
     ]
    }
   ],
   "source": [
    "from bokeh.sampledata.autompg import autompg   #kp: Here autompg is a dataframe object\n",
    "print(type(autompg))\n",
    "display(autompg.head(2)) #kp: This is my line\n",
    "grouped = autompg.groupby(\"yr\") #kp: this is another dataframe\n",
    "print(type(grouped))\n",
    "#display(grouped.head(2))\n",
    "countGrouped = grouped.count() #kp: this is still a dataframe object\n",
    "print(type(countGrouped))\n",
    "countGroupedYr = grouped[\"yr\"].count() #kp: Now this is a Series object\n",
    "print(type(countGroupedYr))\n",
    "\n",
    "mpg = grouped.mpg\n",
    "avg, std = mpg.mean(), mpg.std()\n",
    "print(avg, std)\n",
    "years = list(grouped.groups)\n",
    "print(years)\n",
    "american = autompg[autompg[\"origin\"]==1]\n",
    "japanese = autompg[autompg[\"origin\"]==3]\n",
    "print(type(american))\n",
    "print(type(japanese))\n",
    "#print(american, japanese)"
   ]
  },
  {
   "cell_type": "markdown",
   "id": "e5ec34ba-5b41-4974-9be1-4b0f9fbcfcae",
   "metadata": {},
   "source": [
    "For each year, we want to plot the distribution of mpg within that year."
   ]
  },
  {
   "cell_type": "code",
   "execution_count": 42,
   "id": "97c4f1e5-4ed1-431d-86eb-9c57eda47625",
   "metadata": {},
   "outputs": [
    {
     "data": {
      "text/html": [
       "\n",
       "\n",
       "\n",
       "\n",
       "\n",
       "\n",
       "  <div class=\"bk-root\" id=\"e9d11447-e4b7-4504-9e3c-edbb73125a12\" data-root-id=\"2790\"></div>\n"
      ]
     },
     "metadata": {},
     "output_type": "display_data"
    },
    {
     "data": {
      "application/javascript": [
       "(function(root) {\n",
       "  function embed_document(root) {\n",
       "    \n",
       "  const docs_json = {\"ba277aa2-fcf1-4115-bb6b-9eccc3c01b3f\":{\"defs\":[],\"roots\":{\"references\":[{\"attributes\":{\"below\":[{\"id\":\"2801\"}],\"center\":[{\"id\":\"2804\"},{\"id\":\"2808\"},{\"id\":\"2839\"}],\"left\":[{\"id\":\"2805\"}],\"renderers\":[{\"id\":\"2827\"},{\"id\":\"2845\"},{\"id\":\"2864\"}],\"title\":{\"id\":\"2791\"},\"toolbar\":{\"id\":\"2816\"},\"x_range\":{\"id\":\"2793\"},\"x_scale\":{\"id\":\"2797\"},\"y_range\":{\"id\":\"2795\"},\"y_scale\":{\"id\":\"2799\"}},\"id\":\"2790\",\"subtype\":\"Figure\",\"type\":\"Plot\"},{\"attributes\":{\"tools\":[{\"id\":\"2809\"},{\"id\":\"2810\"},{\"id\":\"2811\"},{\"id\":\"2812\"},{\"id\":\"2813\"},{\"id\":\"2814\"}]},\"id\":\"2816\",\"type\":\"Toolbar\"},{\"attributes\":{},\"id\":\"2813\",\"type\":\"ResetTool\"},{\"attributes\":{},\"id\":\"2806\",\"type\":\"BasicTicker\"},{\"attributes\":{\"overlay\":{\"id\":\"2815\"}},\"id\":\"2811\",\"type\":\"BoxZoomTool\"},{\"attributes\":{},\"id\":\"2814\",\"type\":\"HelpTool\"},{\"attributes\":{},\"id\":\"2877\",\"type\":\"UnionRenderers\"},{\"attributes\":{},\"id\":\"2810\",\"type\":\"WheelZoomTool\"},{\"attributes\":{},\"id\":\"2812\",\"type\":\"SaveTool\"},{\"attributes\":{},\"id\":\"2878\",\"type\":\"Selection\"},{\"attributes\":{\"bottom\":{\"field\":\"bottom\"},\"fill_alpha\":{\"value\":0.1},\"fill_color\":{\"value\":\"#1f77b4\"},\"hatch_alpha\":{\"value\":0.1},\"line_alpha\":{\"value\":0.1},\"line_color\":{\"value\":null},\"top\":{\"field\":\"top\"},\"width\":{\"value\":0.8},\"x\":{\"field\":\"x\"}},\"id\":\"2825\",\"type\":\"VBar\"},{\"attributes\":{\"axis\":{\"id\":\"2801\"},\"coordinates\":null,\"group\":null,\"ticker\":null},\"id\":\"2804\",\"type\":\"Grid\"},{\"attributes\":{},\"id\":\"2802\",\"type\":\"BasicTicker\"},{\"attributes\":{\"coordinates\":null,\"formatter\":{\"id\":\"2831\"},\"group\":null,\"major_label_policy\":{\"id\":\"2832\"},\"ticker\":{\"id\":\"2806\"}},\"id\":\"2805\",\"type\":\"LinearAxis\"},{\"attributes\":{\"bottom\":{\"field\":\"bottom\"},\"fill_alpha\":{\"value\":0.2},\"fill_color\":{\"value\":\"#1f77b4\"},\"hatch_alpha\":{\"value\":0.2},\"line_alpha\":{\"value\":0.2},\"line_color\":{\"value\":null},\"top\":{\"field\":\"top\"},\"width\":{\"value\":0.8},\"x\":{\"field\":\"x\"}},\"id\":\"2826\",\"type\":\"VBar\"},{\"attributes\":{\"label\":{\"value\":\"American\"},\"renderers\":[{\"id\":\"2864\"}]},\"id\":\"2880\",\"type\":\"LegendItem\"},{\"attributes\":{\"coordinates\":null,\"group\":null,\"text\":\"MPG by Year (Japan and US)\"},\"id\":\"2791\",\"type\":\"Title\"},{\"attributes\":{},\"id\":\"2837\",\"type\":\"Selection\"},{\"attributes\":{},\"id\":\"2799\",\"type\":\"LinearScale\"},{\"attributes\":{},\"id\":\"2795\",\"type\":\"DataRange1d\"},{\"attributes\":{},\"id\":\"2836\",\"type\":\"UnionRenderers\"},{\"attributes\":{\"fill_alpha\":{\"value\":0.1},\"fill_color\":{\"value\":\"blue\"},\"hatch_alpha\":{\"value\":0.1},\"hatch_color\":{\"value\":\"blue\"},\"line_alpha\":{\"value\":0.1},\"line_color\":{\"value\":\"blue\"},\"marker\":{\"value\":\"triangle\"},\"size\":{\"value\":10},\"x\":{\"field\":\"x\"},\"y\":{\"field\":\"y\"}},\"id\":\"2862\",\"type\":\"Scatter\"},{\"attributes\":{},\"id\":\"2857\",\"type\":\"Selection\"},{\"attributes\":{\"source\":{\"id\":\"2823\"}},\"id\":\"2828\",\"type\":\"CDSView\"},{\"attributes\":{},\"id\":\"2832\",\"type\":\"AllLabels\"},{\"attributes\":{\"fill_alpha\":{\"value\":0.5},\"fill_color\":{\"value\":\"red\"},\"hatch_alpha\":{\"value\":0.5},\"hatch_color\":{\"value\":\"red\"},\"line_alpha\":{\"value\":0.5},\"line_color\":{\"value\":\"red\"},\"size\":{\"value\":10},\"x\":{\"field\":\"x\"},\"y\":{\"field\":\"y\"}},\"id\":\"2842\",\"type\":\"Circle\"},{\"attributes\":{\"data\":{\"x\":[70,70,71,71,71,71,72,72,72,72,72,73,73,73,73,74,74,74,74,74,74,75,75,75,75,76,76,76,76,77,77,77,77,77,77,78,78,78,78,78,78,78,78,79,79,80,80,80,80,80,80,80,80,80,80,80,80,80,81,81,81,81,81,81,81,81,81,81,81,81,82,82,82,82,82,82,82,82,82],\"y\":{\"__ndarray__\":\"AAAAAAAAOEAAAAAAAAA7QAAAAAAAADtAAAAAAAAAOUAAAAAAAAA/QAAAAAAAgEFAAAAAAAAAOEAAAAAAAAAzQAAAAAAAADxAAAAAAAAAN0AAAAAAAAA7QAAAAAAAADRAAAAAAAAANkAAAAAAAAAyQAAAAAAAADRAAAAAAAAAP0AAAAAAAABAQAAAAAAAAD9AAAAAAAAAQEAAAAAAAAA4QAAAAAAAADpAAAAAAAAAPUAAAAAAAAA4QAAAAAAAADhAAAAAAACAQEAAAAAAAIBAQAAAAAAAAEBAAAAAAAAAPEAAAAAAAAAzQAAAAAAAgD9AAAAAAADAQEAAAAAAAAA6QAAAAAAAAD5AAAAAAAAANkAAAAAAAIA1QGZmZmZmZkBAMzMzMzOzQ0DNzMzMzAxCQAAAAAAAgDtAMzMzMzMzO0CamZmZmRk1QGZmZmZm5jdAAAAAAACAPUDNzMzMzAxBQM3MzMzMzD9AzczMzMwMQ0CamZmZmZlCQM3MzMzMzD1AzczMzMxMP0AAAAAAAIBCQJqZmZmZGUBAzczMzMxMR0BmZmZmZmZEQM3MzMzMTEZAZmZmZmbmQECamZmZmVlAQDMzMzMzszdAMzMzMzMzQEDNzMzMzIxDQM3MzMzMjEFAZmZmZmYmQEAAAAAAAIBCQJqZmZmZ2UJAzczMzMwMQUCamZmZmdlAQDMzMzMzM0BAMzMzMzNzQECamZmZmZk/QGZmZmZmZjlAMzMzMzMzOEAAAAAAAIBCQAAAAAAAAD9AAAAAAAAAQkAAAAAAAABCQAAAAAAAAEFAAAAAAAAAQ0AAAAAAAABAQAAAAAAAAENAAAAAAAAAQEA=\",\"dtype\":\"float64\",\"order\":\"little\",\"shape\":[79]}},\"selected\":{\"id\":\"2857\"},\"selection_policy\":{\"id\":\"2856\"}},\"id\":\"2841\",\"type\":\"ColumnDataSource\"},{\"attributes\":{},\"id\":\"2834\",\"type\":\"BasicTickFormatter\"},{\"attributes\":{},\"id\":\"2809\",\"type\":\"PanTool\"},{\"attributes\":{\"fill_alpha\":{\"value\":0.2},\"fill_color\":{\"value\":\"red\"},\"hatch_alpha\":{\"value\":0.2},\"hatch_color\":{\"value\":\"red\"},\"line_alpha\":{\"value\":0.2},\"line_color\":{\"value\":\"red\"},\"size\":{\"value\":10},\"x\":{\"field\":\"x\"},\"y\":{\"field\":\"y\"}},\"id\":\"2844\",\"type\":\"Circle\"},{\"attributes\":{},\"id\":\"2835\",\"type\":\"AllLabels\"},{\"attributes\":{\"coordinates\":null,\"formatter\":{\"id\":\"2834\"},\"group\":null,\"major_label_policy\":{\"id\":\"2835\"},\"ticker\":{\"id\":\"2802\"}},\"id\":\"2801\",\"type\":\"LinearAxis\"},{\"attributes\":{},\"id\":\"2793\",\"type\":\"DataRange1d\"},{\"attributes\":{\"label\":{\"value\":\"Japanese\"},\"renderers\":[{\"id\":\"2845\"}]},\"id\":\"2859\",\"type\":\"LegendItem\"},{\"attributes\":{\"coordinates\":null,\"data_source\":{\"id\":\"2841\"},\"glyph\":{\"id\":\"2842\"},\"group\":null,\"hover_glyph\":null,\"muted_glyph\":{\"id\":\"2844\"},\"nonselection_glyph\":{\"id\":\"2843\"},\"view\":{\"id\":\"2846\"}},\"id\":\"2845\",\"type\":\"GlyphRenderer\"},{\"attributes\":{},\"id\":\"2831\",\"type\":\"BasicTickFormatter\"},{\"attributes\":{\"fill_alpha\":{\"value\":0.1},\"fill_color\":{\"value\":\"red\"},\"hatch_alpha\":{\"value\":0.1},\"hatch_color\":{\"value\":\"red\"},\"line_alpha\":{\"value\":0.1},\"line_color\":{\"value\":\"red\"},\"size\":{\"value\":10},\"x\":{\"field\":\"x\"},\"y\":{\"field\":\"y\"}},\"id\":\"2843\",\"type\":\"Circle\"},{\"attributes\":{\"coordinates\":null,\"group\":null,\"items\":[{\"id\":\"2840\"},{\"id\":\"2859\"},{\"id\":\"2880\"}],\"location\":\"top_left\"},\"id\":\"2839\",\"type\":\"Legend\"},{\"attributes\":{\"coordinates\":null,\"data_source\":{\"id\":\"2823\"},\"glyph\":{\"id\":\"2824\"},\"group\":null,\"hover_glyph\":null,\"muted_glyph\":{\"id\":\"2826\"},\"nonselection_glyph\":{\"id\":\"2825\"},\"view\":{\"id\":\"2828\"}},\"id\":\"2827\",\"type\":\"GlyphRenderer\"},{\"attributes\":{\"source\":{\"id\":\"2841\"}},\"id\":\"2846\",\"type\":\"CDSView\"},{\"attributes\":{},\"id\":\"2797\",\"type\":\"LinearScale\"},{\"attributes\":{\"fill_alpha\":{\"value\":0.3},\"fill_color\":{\"value\":\"blue\"},\"hatch_alpha\":{\"value\":0.3},\"hatch_color\":{\"value\":\"blue\"},\"line_alpha\":{\"value\":0.3},\"line_color\":{\"value\":\"blue\"},\"marker\":{\"value\":\"triangle\"},\"size\":{\"value\":10},\"x\":{\"field\":\"x\"},\"y\":{\"field\":\"y\"}},\"id\":\"2861\",\"type\":\"Scatter\"},{\"attributes\":{\"data\":{\"x\":[70,70,70,70,70,70,70,70,70,70,70,70,70,70,70,70,70,70,70,70,70,70,71,71,71,71,71,71,71,71,71,71,71,71,71,71,71,71,71,71,71,72,72,72,72,72,72,72,72,72,72,72,72,72,72,72,72,72,72,73,73,73,73,73,73,73,73,73,73,73,73,73,73,73,73,73,73,73,73,73,73,73,73,73,73,73,73,73,74,74,74,74,74,74,74,74,74,74,74,74,74,74,75,75,75,75,75,75,75,75,75,75,75,75,75,75,75,75,75,75,75,75,76,76,76,76,76,76,76,76,76,76,76,76,76,76,76,76,76,76,76,76,76,76,77,77,77,77,77,77,77,77,77,77,77,77,77,77,77,77,77,77,78,78,78,78,78,78,78,78,78,78,78,78,78,78,78,78,78,78,78,78,78,78,79,79,79,79,79,79,79,79,79,79,79,79,79,79,79,79,79,79,79,79,79,79,79,80,80,80,80,80,80,81,81,81,81,81,81,81,81,81,81,81,81,81,82,82,82,82,82,82,82,82,82,82,82,82,82,82,82,82,82,82,82],\"y\":{\"__ndarray__\":\"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\",\"dtype\":\"float64\",\"order\":\"little\",\"shape\":[245]}},\"selected\":{\"id\":\"2878\"},\"selection_policy\":{\"id\":\"2877\"}},\"id\":\"2860\",\"type\":\"ColumnDataSource\"},{\"attributes\":{\"label\":{\"value\":\"MPG 1 stddev\"},\"renderers\":[{\"id\":\"2827\"}]},\"id\":\"2840\",\"type\":\"LegendItem\"},{\"attributes\":{\"fill_alpha\":{\"value\":0.2},\"fill_color\":{\"value\":\"blue\"},\"hatch_alpha\":{\"value\":0.2},\"hatch_color\":{\"value\":\"blue\"},\"line_alpha\":{\"value\":0.2},\"line_color\":{\"value\":\"blue\"},\"marker\":{\"value\":\"triangle\"},\"size\":{\"value\":10},\"x\":{\"field\":\"x\"},\"y\":{\"field\":\"y\"}},\"id\":\"2863\",\"type\":\"Scatter\"},{\"attributes\":{},\"id\":\"2856\",\"type\":\"UnionRenderers\"},{\"attributes\":{\"bottom_units\":\"screen\",\"coordinates\":null,\"fill_alpha\":0.5,\"fill_color\":\"lightgrey\",\"group\":null,\"left_units\":\"screen\",\"level\":\"overlay\",\"line_alpha\":1.0,\"line_color\":\"black\",\"line_dash\":[4,4],\"line_width\":2,\"right_units\":\"screen\",\"syncable\":false,\"top_units\":\"screen\"},\"id\":\"2815\",\"type\":\"BoxAnnotation\"},{\"attributes\":{\"axis\":{\"id\":\"2805\"},\"coordinates\":null,\"dimension\":1,\"group\":null,\"ticker\":null},\"id\":\"2808\",\"type\":\"Grid\"},{\"attributes\":{\"data\":{\"bottom\":{\"__ndarray__\":\"gvFgx2qzKECcKci59t4sQJZdRzm5jipAzvVtn6zMKECki7kXNjswQIpnc6D2pi5ApAV4qVNeL0DtFQi6+rIwQBxLQL6+KTFAWxwW2YNMMkBnDzEy+Oo6QAq856zmjDhAfzfsSXnEOkA=\",\"dtype\":\"float64\",\"order\":\"little\",\"shape\":[13]},\"top\":{\"__ndarray__\":\"55jlF2UHN0DAzlQxaMk7QBEIyj5aJjhATTh849zMNUD6TNCFok49QMPUTjgNNTlA1KLp0Ht2O0AT6vdFBQ0+QNr+XjaL9T5AWd48aCfjP0AojYptQ1hEQPSsO6IX6UFAQOQJW8OdQkA=\",\"dtype\":\"float64\",\"order\":\"little\",\"shape\":[13]},\"x\":[70,71,72,73,74,75,76,77,78,79,80,81,82]},\"selected\":{\"id\":\"2837\"},\"selection_policy\":{\"id\":\"2836\"}},\"id\":\"2823\",\"type\":\"ColumnDataSource\"},{\"attributes\":{\"source\":{\"id\":\"2860\"}},\"id\":\"2865\",\"type\":\"CDSView\"},{\"attributes\":{\"coordinates\":null,\"data_source\":{\"id\":\"2860\"},\"glyph\":{\"id\":\"2861\"},\"group\":null,\"hover_glyph\":null,\"muted_glyph\":{\"id\":\"2863\"},\"nonselection_glyph\":{\"id\":\"2862\"},\"view\":{\"id\":\"2865\"}},\"id\":\"2864\",\"type\":\"GlyphRenderer\"},{\"attributes\":{\"bottom\":{\"field\":\"bottom\"},\"fill_alpha\":{\"value\":0.2},\"fill_color\":{\"value\":\"#1f77b4\"},\"line_color\":{\"value\":null},\"top\":{\"field\":\"top\"},\"width\":{\"value\":0.8},\"x\":{\"field\":\"x\"}},\"id\":\"2824\",\"type\":\"VBar\"}],\"root_ids\":[\"2790\"]},\"title\":\"Bokeh Application\",\"version\":\"2.4.1\"}};\n",
       "  const render_items = [{\"docid\":\"ba277aa2-fcf1-4115-bb6b-9eccc3c01b3f\",\"root_ids\":[\"2790\"],\"roots\":{\"2790\":\"e9d11447-e4b7-4504-9e3c-edbb73125a12\"}}];\n",
       "  root.Bokeh.embed.embed_items_notebook(docs_json, render_items);\n",
       "\n",
       "  }\n",
       "  if (root.Bokeh !== undefined) {\n",
       "    embed_document(root);\n",
       "  } else {\n",
       "    let attempts = 0;\n",
       "    const timer = setInterval(function(root) {\n",
       "      if (root.Bokeh !== undefined) {\n",
       "        clearInterval(timer);\n",
       "        embed_document(root);\n",
       "      } else {\n",
       "        attempts++;\n",
       "        if (attempts > 100) {\n",
       "          clearInterval(timer);\n",
       "          console.log(\"Bokeh: ERROR: Unable to run BokehJS code because BokehJS library is missing\");\n",
       "        }\n",
       "      }\n",
       "    }, 10, root)\n",
       "  }\n",
       "})(window);"
      ],
      "application/vnd.bokehjs_exec.v0+json": ""
     },
     "metadata": {
      "application/vnd.bokehjs_exec.v0+json": {
       "id": "2790"
      }
     },
     "output_type": "display_data"
    }
   ],
   "source": [
    "p = figure(title=\"MPG by Year (Japan and US)\")\n",
    "\n",
    "p.vbar(x=years, bottom=avg-std, top=avg+std, width=0.8, \n",
    "      fill_alpha=0.2, line_color=None, legend_label=\"MPG 1 stddev\")\n",
    "\n",
    "p.circle(x=japanese[\"yr\"], y=japanese[\"mpg\"], size=10, alpha=0.5,\n",
    "         color=\"red\", legend_label=\"Japanese\")\n",
    "\n",
    "p.triangle(x=american[\"yr\"], y=american[\"mpg\"], size=10, alpha=0.3,\n",
    "           color=\"blue\", legend_label=\"American\")\n",
    "\n",
    "p.legend.location = \"top_left\"\n",
    "show(p)"
   ]
  },
  {
   "cell_type": "markdown",
   "id": "4ed6a51a-c577-42a4-95a5-052a871d2aed",
   "metadata": {},
   "source": [
    "**This kind of approach can be used to generate other kinds of interesting plots.** See many more examples in the [Bokeh Documentation Gallery](https://docs.bokeh.org/en/latest/docs/gallery.html).\n",
    "\n",
    "-----\n",
    "### KP's Aside: About Alpha attribute of an image and Alpha compositing\n",
    "\n",
    "Ref: [The ‘alpha’ attribute of a picture](https://sites.uci.edu/iap2015/2015/01/14/the-alpha-attribute-of-a-picture/#:~:text=In%20digital%20images%2C%20each%20pixel,of%200%20means%20totally%20transparent.)\n",
    "\n",
    "In digital images, each pixel contains color information (such as values describing intensity of red, green, and blue) and also contains a value for its opacity known as its ‘alpha’ value. An alpha value of 1 means totally opaque, and an alpha value of 0 means totally transparent. This value can be used for blending images, or for making all or part of an image totally transparent.\n",
    "\n",
    "Ref: https://en.wikipedia.org/wiki/Alpha_compositing\n",
    "\n",
    "In computer graphics, alpha compositing or alpha blending is the process of combining one image with a background to create the appearance of partial or full transparency.[1] It is often useful to render picture elements (pixels) in separate passes or layers and then combine the resulting 2D images into a single, final image called the composite. Compositing is used extensively in film when combining computer-rendered image elements with live footage. Alpha blending is also used in 2D computer graphics to put rasterized foreground elements over a background.\n",
    "\n",
    "In order to combine the picture elements of the images correctly, it is necessary to keep an associated matte for each element in addition to its color. This matte layer contains the coverage information—the shape of the geometry being drawn—making it possible to distinguish between parts of the image where something was drawn and parts that are empty.\n",
    "\n",
    "Although the most basic operation of combining two images is to put one over the other, there are many operations, or blend modes, that are used.\n",
    "\n",
    "-----\n",
    "\n",
    "<a id=\"LinkedBrushing\"></a>\n",
    "## Linked Brushing\n",
    "\n",
    "To link plots together at a data level, we can explicitly wrap the data in a `ColumnDataSource`. This shows us to reference columns by name. We can use a \"select\" tool to select points on one plot, and the linked points on the other plots will highlight."
   ]
  },
  {
   "cell_type": "code",
   "execution_count": 49,
   "id": "7ec9118b-b5a6-4106-89b3-03e1c1c12a83",
   "metadata": {},
   "outputs": [
    {
     "name": "stdout",
     "output_type": "stream",
     "text": [
      "<class 'bokeh.models.sources.ColumnDataSource'>\n",
      "<class 'dict'> :\n",
      " {'plot_width': 300, 'plot_height': 300, 'tools': 'pan, wheel_zoom, box_zoom, box_select, lasso_select'}\n",
      "<class 'bokeh.plotting.figure.Figure'>\n"
     ]
    },
    {
     "data": {
      "text/html": [
       "\n",
       "\n",
       "\n",
       "\n",
       "\n",
       "\n",
       "  <div class=\"bk-root\" id=\"89cbddf0-845e-489c-b0d1-306e98683edc\" data-root-id=\"3865\"></div>\n"
      ]
     },
     "metadata": {},
     "output_type": "display_data"
    },
    {
     "data": {
      "application/javascript": [
       "(function(root) {\n",
       "  function embed_document(root) {\n",
       "    \n",
       "  const docs_json = {\"e3d5796d-4712-4f30-8762-757e0f046425\":{\"defs\":[],\"roots\":{\"references\":[{\"attributes\":{\"children\":[{\"id\":\"3862\"},{\"id\":\"3864\"}]},\"id\":\"3865\",\"type\":\"Row\"},{\"attributes\":{\"coordinates\":null,\"formatter\":{\"id\":\"3854\"},\"group\":null,\"major_label_policy\":{\"id\":\"3855\"},\"ticker\":{\"id\":\"3796\"}},\"id\":\"3795\",\"type\":\"LinearAxis\"},{\"attributes\":{},\"id\":\"3796\",\"type\":\"BasicTicker\"},{\"attributes\":{\"overlay\":{\"id\":\"3809\"}},\"id\":\"3805\",\"type\":\"BoxZoomTool\"},{\"attributes\":{},\"id\":\"3750\",\"type\":\"DataRange1d\"},{\"attributes\":{\"overlay\":{\"id\":\"3808\"}},\"id\":\"3806\",\"type\":\"BoxSelectTool\"},{\"attributes\":{\"coordinates\":null,\"data_source\":{\"id\":\"3705\"},\"glyph\":{\"id\":\"3779\"},\"group\":null,\"hover_glyph\":null,\"muted_glyph\":{\"id\":\"3781\"},\"nonselection_glyph\":{\"id\":\"3780\"},\"view\":{\"id\":\"3783\"}},\"id\":\"3782\",\"type\":\"GlyphRenderer\"},{\"attributes\":{\"coordinates\":null,\"data_source\":{\"id\":\"3705\"},\"glyph\":{\"id\":\"3818\"},\"group\":null,\"hover_glyph\":null,\"muted_glyph\":{\"id\":\"3820\"},\"nonselection_glyph\":{\"id\":\"3819\"},\"view\":{\"id\":\"3822\"}},\"id\":\"3821\",\"type\":\"GlyphRenderer\"},{\"attributes\":{\"below\":[{\"id\":\"3717\"}],\"center\":[{\"id\":\"3720\"},{\"id\":\"3724\"}],\"height\":300,\"left\":[{\"id\":\"3721\"}],\"renderers\":[{\"id\":\"3743\"}],\"title\":{\"id\":\"3707\"},\"toolbar\":{\"id\":\"3733\"},\"toolbar_location\":null,\"width\":300,\"x_range\":{\"id\":\"3709\"},\"x_scale\":{\"id\":\"3713\"},\"y_range\":{\"id\":\"3711\"},\"y_scale\":{\"id\":\"3715\"}},\"id\":\"3706\",\"subtype\":\"Figure\",\"type\":\"Plot\"},{\"attributes\":{\"axis\":{\"id\":\"3799\"},\"coordinates\":null,\"dimension\":1,\"group\":null,\"ticker\":null},\"id\":\"3802\",\"type\":\"Grid\"},{\"attributes\":{\"fill_alpha\":{\"value\":0.1},\"fill_color\":{\"value\":\"blue\"},\"hatch_alpha\":{\"value\":0.1},\"hatch_color\":{\"value\":\"blue\"},\"line_alpha\":{\"value\":0.1},\"line_color\":{\"value\":\"blue\"},\"x\":{\"field\":\"yr\"},\"y\":{\"field\":\"mpg\"}},\"id\":\"3741\",\"type\":\"Circle\"},{\"attributes\":{\"fill_color\":{\"value\":null},\"line_color\":{\"value\":\"red\"},\"size\":{\"field\":\"cyl\"},\"x\":{\"field\":\"displ\"},\"y\":{\"field\":\"mpg\"}},\"id\":\"3818\",\"type\":\"Circle\"},{\"attributes\":{\"coordinates\":null,\"formatter\":{\"id\":\"3841\"},\"group\":null,\"major_label_policy\":{\"id\":\"3842\"},\"ticker\":{\"id\":\"3757\"}},\"id\":\"3756\",\"type\":\"LinearAxis\"},{\"attributes\":{\"source\":{\"id\":\"3705\"}},\"id\":\"3744\",\"type\":\"CDSView\"},{\"attributes\":{\"overlay\":{\"id\":\"3810\"}},\"id\":\"3807\",\"type\":\"LassoSelectTool\"},{\"attributes\":{},\"id\":\"3715\",\"type\":\"LinearScale\"},{\"attributes\":{},\"id\":\"3752\",\"type\":\"LinearScale\"},{\"attributes\":{\"axis\":{\"id\":\"3795\"},\"coordinates\":null,\"group\":null,\"ticker\":null},\"id\":\"3798\",\"type\":\"Grid\"},{\"attributes\":{\"bottom_units\":\"screen\",\"coordinates\":null,\"fill_alpha\":0.5,\"fill_color\":\"lightgrey\",\"group\":null,\"left_units\":\"screen\",\"level\":\"overlay\",\"line_alpha\":1.0,\"line_color\":\"black\",\"line_dash\":[4,4],\"line_width\":2,\"right_units\":\"screen\",\"syncable\":false,\"top_units\":\"screen\"},\"id\":\"3731\",\"type\":\"BoxAnnotation\"},{\"attributes\":{},\"id\":\"3725\",\"type\":\"PanTool\"},{\"attributes\":{\"axis\":{\"id\":\"3717\"},\"coordinates\":null,\"group\":null,\"ticker\":null},\"id\":\"3720\",\"type\":\"Grid\"},{\"attributes\":{},\"id\":\"3828\",\"type\":\"BasicTickFormatter\"},{\"attributes\":{\"coordinates\":null,\"group\":null,\"text\":\"MPG by Year\"},\"id\":\"3707\",\"type\":\"Title\"},{\"attributes\":{},\"id\":\"3826\",\"type\":\"AllLabels\"},{\"attributes\":{},\"id\":\"3787\",\"type\":\"DataRange1d\"},{\"attributes\":{},\"id\":\"3711\",\"type\":\"DataRange1d\"},{\"attributes\":{\"below\":[{\"id\":\"3795\"}],\"center\":[{\"id\":\"3798\"},{\"id\":\"3802\"}],\"height\":300,\"left\":[{\"id\":\"3799\"}],\"renderers\":[{\"id\":\"3821\"}],\"title\":{\"id\":\"3785\"},\"toolbar\":{\"id\":\"3811\"},\"toolbar_location\":null,\"width\":300,\"x_range\":{\"id\":\"3787\"},\"x_scale\":{\"id\":\"3791\"},\"y_range\":{\"id\":\"3789\"},\"y_scale\":{\"id\":\"3793\"}},\"id\":\"3784\",\"subtype\":\"Figure\",\"type\":\"Plot\"},{\"attributes\":{},\"id\":\"3830\",\"type\":\"UnionRenderers\"},{\"attributes\":{\"toolbar\":{\"id\":\"3863\"}},\"id\":\"3864\",\"type\":\"ToolbarBox\"},{\"attributes\":{},\"id\":\"3793\",\"type\":\"LinearScale\"},{\"attributes\":{\"coordinates\":null,\"formatter\":{\"id\":\"3851\"},\"group\":null,\"major_label_policy\":{\"id\":\"3852\"},\"ticker\":{\"id\":\"3800\"}},\"id\":\"3799\",\"type\":\"LinearAxis\"},{\"attributes\":{\"coordinates\":null,\"fill_alpha\":0.5,\"fill_color\":\"lightgrey\",\"group\":null,\"level\":\"overlay\",\"line_alpha\":1.0,\"line_color\":\"black\",\"line_dash\":[4,4],\"line_width\":2,\"syncable\":false,\"xs_units\":\"screen\",\"ys_units\":\"screen\"},\"id\":\"3810\",\"type\":\"PolyAnnotation\"},{\"attributes\":{\"source\":{\"id\":\"3705\"}},\"id\":\"3783\",\"type\":\"CDSView\"},{\"attributes\":{},\"id\":\"3718\",\"type\":\"BasicTicker\"},{\"attributes\":{\"coordinates\":null,\"formatter\":{\"id\":\"3828\"},\"group\":null,\"major_label_policy\":{\"id\":\"3829\"},\"ticker\":{\"id\":\"3718\"}},\"id\":\"3717\",\"type\":\"LinearAxis\"},{\"attributes\":{\"axis\":{\"id\":\"3721\"},\"coordinates\":null,\"dimension\":1,\"group\":null,\"ticker\":null},\"id\":\"3724\",\"type\":\"Grid\"},{\"attributes\":{},\"id\":\"3754\",\"type\":\"LinearScale\"},{\"attributes\":{},\"id\":\"3713\",\"type\":\"LinearScale\"},{\"attributes\":{},\"id\":\"3825\",\"type\":\"BasicTickFormatter\"},{\"attributes\":{\"bottom_units\":\"screen\",\"coordinates\":null,\"fill_alpha\":0.5,\"fill_color\":\"lightgrey\",\"group\":null,\"left_units\":\"screen\",\"level\":\"overlay\",\"line_alpha\":1.0,\"line_color\":\"black\",\"line_dash\":[4,4],\"line_width\":2,\"right_units\":\"screen\",\"syncable\":false,\"top_units\":\"screen\"},\"id\":\"3730\",\"type\":\"BoxAnnotation\"},{\"attributes\":{\"coordinates\":null,\"group\":null,\"text\":\"MPG vs Displacement\"},\"id\":\"3785\",\"type\":\"Title\"},{\"attributes\":{\"coordinates\":null,\"fill_alpha\":0.5,\"fill_color\":\"lightgrey\",\"group\":null,\"level\":\"overlay\",\"line_alpha\":1.0,\"line_color\":\"black\",\"line_dash\":[4,4],\"line_width\":2,\"syncable\":false,\"xs_units\":\"screen\",\"ys_units\":\"screen\"},\"id\":\"3732\",\"type\":\"PolyAnnotation\"},{\"attributes\":{},\"id\":\"3803\",\"type\":\"PanTool\"},{\"attributes\":{},\"id\":\"3829\",\"type\":\"AllLabels\"},{\"attributes\":{},\"id\":\"3800\",\"type\":\"BasicTicker\"},{\"attributes\":{},\"id\":\"3838\",\"type\":\"BasicTickFormatter\"},{\"attributes\":{},\"id\":\"3709\",\"type\":\"DataRange1d\"},{\"attributes\":{},\"id\":\"3839\",\"type\":\"AllLabels\"},{\"attributes\":{},\"id\":\"3831\",\"type\":\"Selection\"},{\"attributes\":{\"coordinates\":null,\"formatter\":{\"id\":\"3825\"},\"group\":null,\"major_label_policy\":{\"id\":\"3826\"},\"ticker\":{\"id\":\"3722\"}},\"id\":\"3721\",\"type\":\"LinearAxis\"},{\"attributes\":{},\"id\":\"3841\",\"type\":\"BasicTickFormatter\"},{\"attributes\":{\"tools\":[{\"id\":\"3725\"},{\"id\":\"3726\"},{\"id\":\"3727\"},{\"id\":\"3728\"},{\"id\":\"3729\"}]},\"id\":\"3733\",\"type\":\"Toolbar\"},{\"attributes\":{},\"id\":\"3789\",\"type\":\"DataRange1d\"},{\"attributes\":{},\"id\":\"3722\",\"type\":\"BasicTicker\"},{\"attributes\":{},\"id\":\"3842\",\"type\":\"AllLabels\"},{\"attributes\":{\"fill_alpha\":{\"value\":0.1},\"fill_color\":{\"value\":null},\"hatch_alpha\":{\"value\":0.1},\"line_alpha\":{\"value\":0.1},\"line_color\":{\"value\":\"red\"},\"size\":{\"field\":\"cyl\"},\"x\":{\"field\":\"displ\"},\"y\":{\"field\":\"mpg\"}},\"id\":\"3819\",\"type\":\"Circle\"},{\"attributes\":{},\"id\":\"3804\",\"type\":\"WheelZoomTool\"},{\"attributes\":{\"coordinates\":null,\"data_source\":{\"id\":\"3705\"},\"glyph\":{\"id\":\"3740\"},\"group\":null,\"hover_glyph\":null,\"muted_glyph\":{\"id\":\"3742\"},\"nonselection_glyph\":{\"id\":\"3741\"},\"view\":{\"id\":\"3744\"}},\"id\":\"3743\",\"type\":\"GlyphRenderer\"},{\"attributes\":{},\"id\":\"3726\",\"type\":\"WheelZoomTool\"},{\"attributes\":{\"fill_alpha\":{\"value\":0.2},\"fill_color\":{\"value\":\"green\"},\"hatch_alpha\":{\"value\":0.2},\"hatch_color\":{\"value\":\"green\"},\"line_alpha\":{\"value\":0.2},\"line_color\":{\"value\":\"green\"},\"x\":{\"field\":\"hp\"},\"y\":{\"field\":\"displ\"}},\"id\":\"3781\",\"type\":\"Circle\"},{\"attributes\":{},\"id\":\"3791\",\"type\":\"LinearScale\"},{\"attributes\":{\"fill_color\":{\"value\":\"blue\"},\"hatch_color\":{\"value\":\"blue\"},\"line_color\":{\"value\":\"blue\"},\"x\":{\"field\":\"yr\"},\"y\":{\"field\":\"mpg\"}},\"id\":\"3740\",\"type\":\"Circle\"},{\"attributes\":{\"overlay\":{\"id\":\"3771\"}},\"id\":\"3768\",\"type\":\"LassoSelectTool\"},{\"attributes\":{\"fill_alpha\":{\"value\":0.2},\"fill_color\":{\"value\":\"blue\"},\"hatch_alpha\":{\"value\":0.2},\"hatch_color\":{\"value\":\"blue\"},\"line_alpha\":{\"value\":0.2},\"line_color\":{\"value\":\"blue\"},\"x\":{\"field\":\"yr\"},\"y\":{\"field\":\"mpg\"}},\"id\":\"3742\",\"type\":\"Circle\"},{\"attributes\":{\"coordinates\":null,\"group\":null,\"text\":\"HP vs Displacement\"},\"id\":\"3746\",\"type\":\"Title\"},{\"attributes\":{},\"id\":\"3761\",\"type\":\"BasicTicker\"},{\"attributes\":{\"bottom_units\":\"screen\",\"coordinates\":null,\"fill_alpha\":0.5,\"fill_color\":\"lightgrey\",\"group\":null,\"left_units\":\"screen\",\"level\":\"overlay\",\"line_alpha\":1.0,\"line_color\":\"black\",\"line_dash\":[4,4],\"line_width\":2,\"right_units\":\"screen\",\"syncable\":false,\"top_units\":\"screen\"},\"id\":\"3809\",\"type\":\"BoxAnnotation\"},{\"attributes\":{\"overlay\":{\"id\":\"3769\"}},\"id\":\"3767\",\"type\":\"BoxSelectTool\"},{\"attributes\":{\"tools\":[{\"id\":\"3803\"},{\"id\":\"3804\"},{\"id\":\"3805\"},{\"id\":\"3806\"},{\"id\":\"3807\"}]},\"id\":\"3811\",\"type\":\"Toolbar\"},{\"attributes\":{},\"id\":\"3764\",\"type\":\"PanTool\"},{\"attributes\":{\"fill_alpha\":{\"value\":0.2},\"fill_color\":{\"value\":null},\"hatch_alpha\":{\"value\":0.2},\"line_alpha\":{\"value\":0.2},\"line_color\":{\"value\":\"red\"},\"size\":{\"field\":\"cyl\"},\"x\":{\"field\":\"displ\"},\"y\":{\"field\":\"mpg\"}},\"id\":\"3820\",\"type\":\"Circle\"},{\"attributes\":{\"fill_alpha\":{\"value\":0.1},\"fill_color\":{\"value\":\"green\"},\"hatch_alpha\":{\"value\":0.1},\"hatch_color\":{\"value\":\"green\"},\"line_alpha\":{\"value\":0.1},\"line_color\":{\"value\":\"green\"},\"x\":{\"field\":\"hp\"},\"y\":{\"field\":\"displ\"}},\"id\":\"3780\",\"type\":\"Circle\"},{\"attributes\":{},\"id\":\"3748\",\"type\":\"DataRange1d\"},{\"attributes\":{\"source\":{\"id\":\"3705\"}},\"id\":\"3822\",\"type\":\"CDSView\"},{\"attributes\":{},\"id\":\"3765\",\"type\":\"WheelZoomTool\"},{\"attributes\":{},\"id\":\"3757\",\"type\":\"BasicTicker\"},{\"attributes\":{\"axis\":{\"id\":\"3760\"},\"coordinates\":null,\"dimension\":1,\"group\":null,\"ticker\":null},\"id\":\"3763\",\"type\":\"Grid\"},{\"attributes\":{\"overlay\":{\"id\":\"3731\"}},\"id\":\"3727\",\"type\":\"BoxZoomTool\"},{\"attributes\":{\"overlay\":{\"id\":\"3730\"}},\"id\":\"3728\",\"type\":\"BoxSelectTool\"},{\"attributes\":{\"overlay\":{\"id\":\"3732\"}},\"id\":\"3729\",\"type\":\"LassoSelectTool\"},{\"attributes\":{\"coordinates\":null,\"formatter\":{\"id\":\"3838\"},\"group\":null,\"major_label_policy\":{\"id\":\"3839\"},\"ticker\":{\"id\":\"3761\"}},\"id\":\"3760\",\"type\":\"LinearAxis\"},{\"attributes\":{\"below\":[{\"id\":\"3756\"}],\"center\":[{\"id\":\"3759\"},{\"id\":\"3763\"}],\"height\":300,\"left\":[{\"id\":\"3760\"}],\"renderers\":[{\"id\":\"3782\"}],\"title\":{\"id\":\"3746\"},\"toolbar\":{\"id\":\"3772\"},\"toolbar_location\":null,\"width\":300,\"x_range\":{\"id\":\"3748\"},\"x_scale\":{\"id\":\"3752\"},\"y_range\":{\"id\":\"3750\"},\"y_scale\":{\"id\":\"3754\"}},\"id\":\"3745\",\"subtype\":\"Figure\",\"type\":\"Plot\"},{\"attributes\":{\"tools\":[{\"id\":\"3764\"},{\"id\":\"3765\"},{\"id\":\"3766\"},{\"id\":\"3767\"},{\"id\":\"3768\"}]},\"id\":\"3772\",\"type\":\"Toolbar\"},{\"attributes\":{\"overlay\":{\"id\":\"3770\"}},\"id\":\"3766\",\"type\":\"BoxZoomTool\"},{\"attributes\":{\"bottom_units\":\"screen\",\"coordinates\":null,\"fill_alpha\":0.5,\"fill_color\":\"lightgrey\",\"group\":null,\"left_units\":\"screen\",\"level\":\"overlay\",\"line_alpha\":1.0,\"line_color\":\"black\",\"line_dash\":[4,4],\"line_width\":2,\"right_units\":\"screen\",\"syncable\":false,\"top_units\":\"screen\"},\"id\":\"3769\",\"type\":\"BoxAnnotation\"},{\"attributes\":{\"fill_color\":{\"value\":\"green\"},\"hatch_color\":{\"value\":\"green\"},\"line_color\":{\"value\":\"green\"},\"x\":{\"field\":\"hp\"},\"y\":{\"field\":\"displ\"}},\"id\":\"3779\",\"type\":\"Circle\"},{\"attributes\":{\"coordinates\":null,\"fill_alpha\":0.5,\"fill_color\":\"lightgrey\",\"group\":null,\"level\":\"overlay\",\"line_alpha\":1.0,\"line_color\":\"black\",\"line_dash\":[4,4],\"line_width\":2,\"syncable\":false,\"xs_units\":\"screen\",\"ys_units\":\"screen\"},\"id\":\"3771\",\"type\":\"PolyAnnotation\"},{\"attributes\":{\"toolbars\":[{\"id\":\"3733\"},{\"id\":\"3772\"},{\"id\":\"3811\"}],\"tools\":[{\"id\":\"3725\"},{\"id\":\"3726\"},{\"id\":\"3727\"},{\"id\":\"3728\"},{\"id\":\"3729\"},{\"id\":\"3764\"},{\"id\":\"3765\"},{\"id\":\"3766\"},{\"id\":\"3767\"},{\"id\":\"3768\"},{\"id\":\"3803\"},{\"id\":\"3804\"},{\"id\":\"3805\"},{\"id\":\"3806\"},{\"id\":\"3807\"}]},\"id\":\"3863\",\"type\":\"ProxyToolbar\"},{\"attributes\":{\"children\":[[{\"id\":\"3706\"},0,0],[{\"id\":\"3745\"},0,1],[{\"id\":\"3784\"},0,2]]},\"id\":\"3862\",\"type\":\"GridBox\"},{\"attributes\":{\"axis\":{\"id\":\"3756\"},\"coordinates\":null,\"group\":null,\"ticker\":null},\"id\":\"3759\",\"type\":\"Grid\"},{\"attributes\":{},\"id\":\"3851\",\"type\":\"BasicTickFormatter\"},{\"attributes\":{},\"id\":\"3852\",\"type\":\"AllLabels\"},{\"attributes\":{\"bottom_units\":\"screen\",\"coordinates\":null,\"fill_alpha\":0.5,\"fill_color\":\"lightgrey\",\"group\":null,\"left_units\":\"screen\",\"level\":\"overlay\",\"line_alpha\":1.0,\"line_color\":\"black\",\"line_dash\":[4,4],\"line_width\":2,\"right_units\":\"screen\",\"syncable\":false,\"top_units\":\"screen\"},\"id\":\"3808\",\"type\":\"BoxAnnotation\"},{\"attributes\":{},\"id\":\"3854\",\"type\":\"BasicTickFormatter\"},{\"attributes\":{\"bottom_units\":\"screen\",\"coordinates\":null,\"fill_alpha\":0.5,\"fill_color\":\"lightgrey\",\"group\":null,\"left_units\":\"screen\",\"level\":\"overlay\",\"line_alpha\":1.0,\"line_color\":\"black\",\"line_dash\":[4,4],\"line_width\":2,\"right_units\":\"screen\",\"syncable\":false,\"top_units\":\"screen\"},\"id\":\"3770\",\"type\":\"BoxAnnotation\"},{\"attributes\":{},\"id\":\"3855\",\"type\":\"AllLabels\"},{\"attributes\":{\"data\":{\"accel\":{\"__ndarray__\":\"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\",\"dtype\":\"float64\",\"order\":\"little\",\"shape\":[392]},\"cyl\":[8,8,8,8,8,8,8,8,8,8,8,8,8,8,4,6,6,6,4,4,4,4,4,4,6,8,8,8,8,4,4,4,6,6,6,6,6,8,8,8,8,8,8,8,6,4,6,6,4,4,4,4,4,4,4,4,4,4,4,4,4,8,8,8,8,8,8,8,8,8,3,8,8,8,8,4,4,4,4,4,4,4,4,4,8,8,8,8,8,8,8,8,8,8,8,8,6,6,6,6,6,4,8,8,8,8,6,4,4,4,3,4,6,4,8,8,4,4,4,4,8,4,6,8,6,6,6,4,4,4,4,6,6,6,8,8,8,8,8,4,4,4,4,4,4,4,4,4,4,4,6,6,6,6,8,8,8,8,6,6,6,6,6,8,8,4,4,6,4,4,4,4,6,4,6,4,4,4,4,4,4,4,4,4,4,8,8,8,8,6,6,6,6,4,4,4,4,6,6,6,6,4,4,4,4,4,8,4,6,6,8,8,8,8,4,4,4,4,4,8,8,8,8,6,6,6,6,8,8,8,8,4,4,4,4,4,4,4,4,6,4,3,4,4,4,4,4,8,8,8,6,6,6,4,6,6,6,6,6,6,8,6,8,8,4,4,4,4,4,4,4,4,5,6,4,6,4,4,6,6,4,6,6,8,8,8,8,8,8,8,8,4,4,4,4,5,8,4,8,4,4,4,4,4,6,6,4,4,4,4,4,4,4,4,6,4,4,4,4,4,4,4,4,4,4,5,4,4,4,4,6,3,4,4,4,4,4,6,4,4,4,4,4,4,4,4,4,4,4,4,4,4,4,4,4,6,6,6,6,8,6,6,4,4,4,4,4,4,4,4,4,4,4,4,4,4,4,4,4,4,6,6,4,6,4,4,4,4,4,4,4,4],\"displ\":{\"__ndarray__\":\"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\",\"dtype\":\"float64\",\"order\":\"little\",\"shape\":[392]},\"hp\":[130,165,150,150,140,198,220,215,225,190,170,160,150,225,95,95,97,85,88,46,87,90,95,113,90,215,200,210,193,88,90,95,100,105,100,88,100,165,175,153,150,180,170,175,110,72,100,88,86,90,70,76,65,69,60,70,95,80,54,90,86,165,175,150,153,150,208,155,160,190,97,150,130,140,150,112,76,87,69,86,92,97,80,88,175,150,145,137,150,198,150,158,150,215,225,175,105,100,100,88,95,46,150,167,170,180,100,88,72,94,90,85,107,90,145,230,49,75,91,112,150,110,122,180,95,100,100,67,80,65,75,100,110,105,140,150,150,140,150,83,67,78,52,61,75,75,75,97,93,67,95,105,72,72,170,145,150,148,110,105,110,95,110,110,129,75,83,100,78,96,71,97,97,70,90,95,88,98,115,53,86,81,92,79,83,140,150,120,152,100,105,81,90,52,60,70,53,100,78,110,95,71,70,75,72,102,150,88,108,120,180,145,130,150,68,80,58,96,70,145,110,145,130,110,105,100,98,180,170,190,149,78,88,75,89,63,83,67,78,97,110,110,48,66,52,70,60,110,140,139,105,95,85,88,100,90,105,85,110,120,145,165,139,140,68,95,97,75,95,105,85,97,103,125,115,133,71,68,115,85,88,90,110,130,129,138,135,155,142,125,150,71,65,80,80,77,125,71,90,70,70,65,69,90,115,115,90,76,60,70,65,90,88,90,90,78,90,75,92,75,65,105,65,48,48,67,67,67,67,62,132,100,88,72,84,84,92,110,84,58,64,60,67,65,62,68,63,65,65,74,75,75,100,74,80,76,116,120,110,105,88,85,88,88,88,85,84,90,92,74,68,68,63,70,88,75,70,67,67,67,110,85,92,112,96,84,90,86,52,84,79,82],\"index\":[0,1,2,3,4,5,6,7,8,9,10,11,12,13,14,15,16,17,18,19,20,21,22,23,24,25,26,27,28,29,30,31,32,33,34,35,36,37,38,39,40,41,42,43,44,45,46,47,48,49,50,51,52,53,54,55,56,57,58,59,60,61,62,63,64,65,66,67,68,69,70,71,72,73,74,75,76,77,78,79,80,81,82,83,84,85,86,87,88,89,90,91,92,93,94,95,96,97,98,99,100,101,102,103,104,105,106,107,108,109,110,111,112,113,114,115,116,117,118,119,120,121,122,123,124,125,126,127,128,129,130,131,132,133,134,135,136,137,138,139,140,141,142,143,144,145,146,147,148,149,150,151,152,153,154,155,156,157,158,159,160,161,162,163,164,165,166,167,168,169,170,171,172,173,174,175,176,177,178,179,180,181,182,183,184,185,186,187,188,189,190,191,192,193,194,195,196,197,198,199,200,201,202,203,204,205,206,207,208,209,210,211,212,213,214,215,216,217,218,219,220,221,222,223,224,225,226,227,228,229,230,231,232,233,234,235,236,237,238,239,240,241,242,243,244,245,246,247,248,249,250,251,252,253,254,255,256,257,258,259,260,261,262,263,264,265,266,267,268,269,270,271,272,273,274,275,276,277,278,279,280,281,282,283,284,285,286,287,288,289,290,291,292,293,294,295,296,297,298,299,300,301,302,303,304,305,306,307,308,309,310,311,312,313,314,315,316,317,318,319,320,321,322,323,324,325,326,327,328,329,330,331,332,333,334,335,336,337,338,339,340,341,342,343,344,345,346,347,348,349,350,351,352,353,354,355,356,357,358,359,360,361,362,363,364,365,366,367,368,369,370,371,372,373,374,375,376,377,378,379,380,381,382,383,384,385,386,387,388,389,390,391],\"mpg\":{\"__ndarray__\":\"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\",\"dtype\":\"float64\",\"order\":\"little\",\"shape\":[392]},\"name\":[\"chevrolet chevelle malibu\",\"buick skylark 320\",\"plymouth satellite\",\"amc rebel sst\",\"ford torino\",\"ford galaxie 500\",\"chevrolet impala\",\"plymouth fury iii\",\"pontiac catalina\",\"amc ambassador dpl\",\"dodge challenger se\",\"plymouth 'cuda 340\",\"chevrolet monte carlo\",\"buick estate wagon (sw)\",\"toyota corona mark ii\",\"plymouth duster\",\"amc hornet\",\"ford maverick\",\"datsun pl510\",\"volkswagen 1131 deluxe sedan\",\"peugeot 504\",\"audi 100 ls\",\"saab 99e\",\"bmw 2002\",\"amc gremlin\",\"ford f250\",\"chevy c20\",\"dodge d200\",\"hi 1200d\",\"datsun pl510\",\"chevrolet vega 2300\",\"toyota corona\",\"amc gremlin\",\"plymouth satellite custom\",\"chevrolet chevelle malibu\",\"ford torino 500\",\"amc matador\",\"chevrolet impala\",\"pontiac catalina brougham\",\"ford galaxie 500\",\"plymouth fury iii\",\"dodge monaco (sw)\",\"ford country squire (sw)\",\"pontiac safari (sw)\",\"amc hornet sportabout (sw)\",\"chevrolet vega (sw)\",\"pontiac firebird\",\"ford mustang\",\"mercury capri 2000\",\"opel 1900\",\"peugeot 304\",\"fiat 124b\",\"toyota corolla 1200\",\"datsun 1200\",\"volkswagen model 111\",\"plymouth cricket\",\"toyota corona hardtop\",\"dodge colt hardtop\",\"volkswagen type 3\",\"chevrolet vega\",\"ford pinto runabout\",\"chevrolet impala\",\"pontiac catalina\",\"plymouth fury iii\",\"ford galaxie 500\",\"amc ambassador sst\",\"mercury marquis\",\"buick lesabre custom\",\"oldsmobile delta 88 royale\",\"chrysler newport royal\",\"mazda rx2 coupe\",\"amc matador (sw)\",\"chevrolet chevelle concours (sw)\",\"ford gran torino (sw)\",\"plymouth satellite custom (sw)\",\"volvo 145e (sw)\",\"volkswagen 411 (sw)\",\"peugeot 504 (sw)\",\"renault 12 (sw)\",\"ford pinto (sw)\",\"datsun 510 (sw)\",\"toyouta corona mark ii (sw)\",\"dodge colt (sw)\",\"toyota corolla 1600 (sw)\",\"buick century 350\",\"amc matador\",\"chevrolet malibu\",\"ford gran torino\",\"dodge coronet custom\",\"mercury marquis brougham\",\"chevrolet caprice classic\",\"ford ltd\",\"plymouth fury gran sedan\",\"chrysler new yorker brougham\",\"buick electra 225 custom\",\"amc ambassador brougham\",\"plymouth valiant\",\"chevrolet nova custom\",\"amc hornet\",\"ford maverick\",\"plymouth duster\",\"volkswagen super beetle\",\"chevrolet impala\",\"ford country\",\"plymouth custom suburb\",\"oldsmobile vista cruiser\",\"amc gremlin\",\"toyota carina\",\"chevrolet vega\",\"datsun 610\",\"maxda rx3\",\"ford pinto\",\"mercury capri v6\",\"fiat 124 sport coupe\",\"chevrolet monte carlo s\",\"pontiac grand prix\",\"fiat 128\",\"opel manta\",\"audi 100ls\",\"volvo 144ea\",\"dodge dart custom\",\"saab 99le\",\"toyota mark ii\",\"oldsmobile omega\",\"plymouth duster\",\"amc hornet\",\"chevrolet nova\",\"datsun b210\",\"ford pinto\",\"toyota corolla 1200\",\"chevrolet vega\",\"chevrolet chevelle malibu classic\",\"amc matador\",\"plymouth satellite sebring\",\"ford gran torino\",\"buick century luxus (sw)\",\"dodge coronet custom (sw)\",\"ford gran torino (sw)\",\"amc matador (sw)\",\"audi fox\",\"volkswagen dasher\",\"opel manta\",\"toyota corona\",\"datsun 710\",\"dodge colt\",\"fiat 128\",\"fiat 124 tc\",\"honda civic\",\"subaru\",\"fiat x1.9\",\"plymouth valiant custom\",\"chevrolet nova\",\"mercury monarch\",\"ford maverick\",\"pontiac catalina\",\"chevrolet bel air\",\"plymouth grand fury\",\"ford ltd\",\"buick century\",\"chevroelt chevelle malibu\",\"amc matador\",\"plymouth fury\",\"buick skyhawk\",\"chevrolet monza 2+2\",\"ford mustang ii\",\"toyota corolla\",\"ford pinto\",\"amc gremlin\",\"pontiac astro\",\"toyota corona\",\"volkswagen dasher\",\"datsun 710\",\"ford pinto\",\"volkswagen rabbit\",\"amc pacer\",\"audi 100ls\",\"peugeot 504\",\"volvo 244dl\",\"saab 99le\",\"honda civic cvcc\",\"fiat 131\",\"opel 1900\",\"capri ii\",\"dodge colt\",\"renault 12tl\",\"chevrolet chevelle malibu classic\",\"dodge coronet brougham\",\"amc matador\",\"ford gran torino\",\"plymouth valiant\",\"chevrolet nova\",\"ford maverick\",\"amc hornet\",\"chevrolet chevette\",\"chevrolet woody\",\"vw rabbit\",\"honda civic\",\"dodge aspen se\",\"ford granada ghia\",\"pontiac ventura sj\",\"amc pacer d/l\",\"volkswagen rabbit\",\"datsun b-210\",\"toyota corolla\",\"ford pinto\",\"volvo 245\",\"plymouth volare premier v8\",\"peugeot 504\",\"toyota mark ii\",\"mercedes-benz 280s\",\"cadillac seville\",\"chevy c10\",\"ford f108\",\"dodge d100\",\"honda accord cvcc\",\"buick opel isuzu deluxe\",\"renault 5 gtl\",\"plymouth arrow gs\",\"datsun f-10 hatchback\",\"chevrolet caprice classic\",\"oldsmobile cutlass supreme\",\"dodge monaco brougham\",\"mercury cougar brougham\",\"chevrolet concours\",\"buick skylark\",\"plymouth volare custom\",\"ford granada\",\"pontiac grand prix lj\",\"chevrolet monte carlo landau\",\"chrysler cordoba\",\"ford thunderbird\",\"volkswagen rabbit custom\",\"pontiac sunbird coupe\",\"toyota corolla liftback\",\"ford mustang ii 2+2\",\"chevrolet chevette\",\"dodge colt m/m\",\"subaru dl\",\"volkswagen dasher\",\"datsun 810\",\"bmw 320i\",\"mazda rx-4\",\"volkswagen rabbit custom diesel\",\"ford fiesta\",\"mazda glc deluxe\",\"datsun b210 gx\",\"honda civic cvcc\",\"oldsmobile cutlass salon brougham\",\"dodge diplomat\",\"mercury monarch ghia\",\"pontiac phoenix lj\",\"chevrolet malibu\",\"ford fairmont (auto)\",\"ford fairmont (man)\",\"plymouth volare\",\"amc concord\",\"buick century special\",\"mercury zephyr\",\"dodge aspen\",\"amc concord d/l\",\"chevrolet monte carlo landau\",\"buick regal sport coupe (turbo)\",\"ford futura\",\"dodge magnum xe\",\"chevrolet chevette\",\"toyota corona\",\"datsun 510\",\"dodge omni\",\"toyota celica gt liftback\",\"plymouth sapporo\",\"oldsmobile starfire sx\",\"datsun 200-sx\",\"audi 5000\",\"volvo 264gl\",\"saab 99gle\",\"peugeot 604sl\",\"volkswagen scirocco\",\"honda accord lx\",\"pontiac lemans v6\",\"mercury zephyr 6\",\"ford fairmont 4\",\"amc concord dl 6\",\"dodge aspen 6\",\"chevrolet caprice classic\",\"ford ltd landau\",\"mercury grand marquis\",\"dodge st. regis\",\"buick estate wagon (sw)\",\"ford country squire (sw)\",\"chevrolet malibu classic (sw)\",\"chrysler lebaron town @ country (sw)\",\"vw rabbit custom\",\"maxda glc deluxe\",\"dodge colt hatchback custom\",\"amc spirit dl\",\"mercedes benz 300d\",\"cadillac eldorado\",\"peugeot 504\",\"oldsmobile cutlass salon brougham\",\"plymouth horizon\",\"plymouth horizon tc3\",\"datsun 210\",\"fiat strada custom\",\"buick skylark limited\",\"chevrolet citation\",\"oldsmobile omega brougham\",\"pontiac phoenix\",\"vw rabbit\",\"toyota corolla tercel\",\"chevrolet chevette\",\"datsun 310\",\"chevrolet citation\",\"ford fairmont\",\"amc concord\",\"dodge aspen\",\"audi 4000\",\"toyota corona liftback\",\"mazda 626\",\"datsun 510 hatchback\",\"toyota corolla\",\"mazda glc\",\"dodge colt\",\"datsun 210\",\"vw rabbit c (diesel)\",\"vw dasher (diesel)\",\"audi 5000s (diesel)\",\"mercedes-benz 240d\",\"honda civic 1500 gl\",\"subaru dl\",\"vokswagen rabbit\",\"datsun 280-zx\",\"mazda rx-7 gs\",\"triumph tr7 coupe\",\"honda accord\",\"plymouth reliant\",\"buick skylark\",\"dodge aries wagon (sw)\",\"chevrolet citation\",\"plymouth reliant\",\"toyota starlet\",\"plymouth champ\",\"honda civic 1300\",\"subaru\",\"datsun 210 mpg\",\"toyota tercel\",\"mazda glc 4\",\"plymouth horizon 4\",\"ford escort 4w\",\"ford escort 2h\",\"volkswagen jetta\",\"honda prelude\",\"toyota corolla\",\"datsun 200sx\",\"mazda 626\",\"peugeot 505s turbo diesel\",\"volvo diesel\",\"toyota cressida\",\"datsun 810 maxima\",\"buick century\",\"oldsmobile cutlass ls\",\"ford granada gl\",\"chrysler lebaron salon\",\"chevrolet cavalier\",\"chevrolet cavalier wagon\",\"chevrolet cavalier 2-door\",\"pontiac j2000 se hatchback\",\"dodge aries se\",\"pontiac phoenix\",\"ford fairmont futura\",\"volkswagen rabbit l\",\"mazda glc custom l\",\"mazda glc custom\",\"plymouth horizon miser\",\"mercury lynx l\",\"nissan stanza xe\",\"honda accord\",\"toyota corolla\",\"honda civic\",\"honda civic (auto)\",\"datsun 310 gx\",\"buick century limited\",\"oldsmobile cutlass ciera (diesel)\",\"chrysler lebaron medallion\",\"ford granada l\",\"toyota celica gt\",\"dodge charger 2.2\",\"chevrolet camaro\",\"ford mustang gl\",\"vw pickup\",\"dodge rampage\",\"ford ranger\",\"chevy s-10\"],\"origin\":[1,1,1,1,1,1,1,1,1,1,1,1,1,1,3,1,1,1,3,2,2,2,2,2,1,1,1,1,1,3,1,3,1,1,1,1,1,1,1,1,1,1,1,1,1,1,1,1,1,2,2,2,3,3,2,1,3,1,2,1,1,1,1,1,1,1,1,1,1,1,3,1,1,1,1,2,2,2,2,1,3,3,1,3,1,1,1,1,1,1,1,1,1,1,1,1,1,1,1,1,1,2,1,1,1,1,1,3,1,3,3,1,1,2,1,1,2,2,2,2,1,2,3,1,1,1,1,3,1,3,1,1,1,1,1,1,1,1,1,2,2,2,3,3,1,2,2,3,3,2,1,1,1,1,1,1,1,1,1,1,1,1,1,1,1,3,1,1,1,3,2,3,1,2,1,2,2,2,2,3,2,2,1,1,2,1,1,1,1,1,1,1,1,1,1,2,3,1,1,1,1,2,3,3,1,2,1,2,3,2,1,1,1,1,3,1,2,1,3,1,1,1,1,1,1,1,1,1,1,1,1,2,1,3,1,1,1,3,2,3,2,3,2,1,3,3,3,1,1,1,1,1,1,1,1,1,1,1,1,1,1,1,1,1,1,3,3,1,3,1,1,3,2,2,2,2,2,3,1,1,1,1,1,1,1,1,1,1,1,1,1,2,3,1,1,2,1,2,1,1,1,3,2,1,1,1,1,2,3,1,3,1,1,1,1,2,3,3,3,3,3,1,3,2,2,2,2,3,3,2,3,3,2,3,1,1,1,1,1,3,1,3,3,3,3,3,1,1,1,2,3,3,3,3,2,2,3,3,1,1,1,1,1,1,1,1,1,1,1,2,3,3,1,1,3,3,3,3,3,3,1,1,1,1,3,1,1,1,2,1,1,1],\"weight\":[3504,3693,3436,3433,3449,4341,4354,4312,4425,3850,3563,3609,3761,3086,2372,2833,2774,2587,2130,1835,2672,2430,2375,2234,2648,4615,4376,4382,4732,2130,2264,2228,2634,3439,3329,3302,3288,4209,4464,4154,4096,4955,4746,5140,2962,2408,3282,3139,2220,2123,2074,2065,1773,1613,1834,1955,2278,2126,2254,2408,2226,4274,4385,4135,4129,3672,4633,4502,4456,4422,2330,3892,4098,4294,4077,2933,2511,2979,2189,2395,2288,2506,2164,2100,4100,3672,3988,4042,3777,4952,4464,4363,4237,4735,4951,3821,3121,3278,2945,3021,2904,1950,4997,4906,4654,4499,2789,2279,2401,2379,2124,2310,2472,2265,4082,4278,1867,2158,2582,2868,3399,2660,2807,3664,3102,2901,3336,1950,2451,1836,2542,3781,3632,3613,4141,4699,4457,4638,4257,2219,1963,2300,1649,2003,2125,2108,2246,2489,2391,2000,3264,3459,3432,3158,4668,4440,4498,4657,3907,3897,3730,3785,3039,3221,3169,2171,2639,2914,2592,2702,2223,2545,2984,1937,3211,2694,2957,2945,2671,1795,2464,2220,2572,2255,2202,4215,4190,3962,4215,3233,3353,3012,3085,2035,2164,1937,1795,3651,3574,3645,3193,1825,1990,2155,2565,3150,3940,3270,2930,3820,4380,4055,3870,3755,2045,2155,1825,2300,1945,3880,4060,4140,4295,3520,3425,3630,3525,4220,4165,4325,4335,1940,2740,2265,2755,2051,2075,1985,2190,2815,2600,2720,1985,1800,1985,2070,1800,3365,3735,3570,3535,3155,2965,2720,3430,3210,3380,3070,3620,3410,3425,3445,3205,4080,2155,2560,2300,2230,2515,2745,2855,2405,2830,3140,2795,3410,1990,2135,3245,2990,2890,3265,3360,3840,3725,3955,3830,4360,4054,3605,3940,1925,1975,1915,2670,3530,3900,3190,3420,2200,2150,2020,2130,2670,2595,2700,2556,2144,1968,2120,2019,2678,2870,3003,3381,2188,2711,2542,2434,2265,2110,2800,2110,2085,2335,2950,3250,1850,2145,1845,2910,2420,2500,2290,2490,2635,2620,2725,2385,1755,1875,1760,2065,1975,2050,1985,2215,2045,2380,2190,2210,2350,2615,2635,3230,3160,2900,2930,3415,3725,3060,3465,2605,2640,2395,2575,2525,2735,2865,1980,2025,1970,2125,2125,2160,2205,2245,1965,1965,1995,2945,3015,2585,2835,2665,2370,2950,2790,2130,2295,2625,2720],\"yr\":[70,70,70,70,70,70,70,70,70,70,70,70,70,70,70,70,70,70,70,70,70,70,70,70,70,70,70,70,70,71,71,71,71,71,71,71,71,71,71,71,71,71,71,71,71,71,71,71,71,71,71,71,71,71,71,71,72,72,72,72,72,72,72,72,72,72,72,72,72,72,72,72,72,72,72,72,72,72,72,72,72,72,72,72,73,73,73,73,73,73,73,73,73,73,73,73,73,73,73,73,73,73,73,73,73,73,73,73,73,73,73,73,73,73,73,73,73,73,73,73,73,73,73,73,74,74,74,74,74,74,74,74,74,74,74,74,74,74,74,74,74,74,74,74,74,74,74,74,74,74,75,75,75,75,75,75,75,75,75,75,75,75,75,75,75,75,75,75,75,75,75,75,75,75,75,75,75,75,75,75,76,76,76,76,76,76,76,76,76,76,76,76,76,76,76,76,76,76,76,76,76,76,76,76,76,76,76,76,76,76,76,76,76,76,77,77,77,77,77,77,77,77,77,77,77,77,77,77,77,77,77,77,77,77,77,77,77,77,77,77,77,77,78,78,78,78,78,78,78,78,78,78,78,78,78,78,78,78,78,78,78,78,78,78,78,78,78,78,78,78,78,78,78,78,78,78,78,78,79,79,79,79,79,79,79,79,79,79,79,79,79,79,79,79,79,79,79,79,79,79,79,79,79,79,79,79,79,80,80,80,80,80,80,80,80,80,80,80,80,80,80,80,80,80,80,80,80,80,80,80,80,80,80,80,81,81,81,81,81,81,81,81,81,81,81,81,81,81,81,81,81,81,81,81,81,81,81,81,81,81,81,81,82,82,82,82,82,82,82,82,82,82,82,82,82,82,82,82,82,82,82,82,82,82,82,82,82,82,82,82,82,82]},\"selected\":{\"id\":\"3831\"},\"selection_policy\":{\"id\":\"3830\"}},\"id\":\"3705\",\"type\":\"ColumnDataSource\"}],\"root_ids\":[\"3865\"]},\"title\":\"Bokeh Application\",\"version\":\"2.4.1\"}};\n",
       "  const render_items = [{\"docid\":\"e3d5796d-4712-4f30-8762-757e0f046425\",\"root_ids\":[\"3865\"],\"roots\":{\"3865\":\"89cbddf0-845e-489c-b0d1-306e98683edc\"}}];\n",
       "  root.Bokeh.embed.embed_items_notebook(docs_json, render_items);\n",
       "\n",
       "  }\n",
       "  if (root.Bokeh !== undefined) {\n",
       "    embed_document(root);\n",
       "  } else {\n",
       "    let attempts = 0;\n",
       "    const timer = setInterval(function(root) {\n",
       "      if (root.Bokeh !== undefined) {\n",
       "        clearInterval(timer);\n",
       "        embed_document(root);\n",
       "      } else {\n",
       "        attempts++;\n",
       "        if (attempts > 100) {\n",
       "          clearInterval(timer);\n",
       "          console.log(\"Bokeh: ERROR: Unable to run BokehJS code because BokehJS library is missing\");\n",
       "        }\n",
       "      }\n",
       "    }, 10, root)\n",
       "  }\n",
       "})(window);"
      ],
      "application/vnd.bokehjs_exec.v0+json": ""
     },
     "metadata": {
      "application/vnd.bokehjs_exec.v0+json": {
       "id": "3865"
      }
     },
     "output_type": "display_data"
    }
   ],
   "source": [
    "from bokeh.models import ColumnDataSource\n",
    "from bokeh.layouts import gridplot\n",
    "\n",
    "source = ColumnDataSource(autompg)\n",
    "print(type(source))\n",
    "options = dict(plot_width=300, plot_height=300, \n",
    "               tools = \"pan, wheel_zoom, box_zoom, box_select, lasso_select\")\n",
    "print(type(options), \":\\n\", options)\n",
    "\n",
    "p1 = figure(title = \"MPG by Year\", **options)\n",
    "print(type(p1))\n",
    "p1.circle(\"yr\", \"mpg\", color=\"blue\", source=source)\n",
    "\n",
    "p2 = figure(title=\"HP vs Displacement\", **options)\n",
    "p2.circle(\"hp\", \"displ\", color=\"green\", source=source)\n",
    "\n",
    "p3 = figure(title=\"MPG vs Displacement\", **options)\n",
    "p3.circle(\"displ\", \"mpg\", size=\"cyl\", line_color=\"red\", fill_color=None, source=source)\n",
    "\n",
    "p = gridplot([[p1, p2, p3]], toolbar_location=\"right\")\n",
    "\n",
    "show(p)"
   ]
  },
  {
   "cell_type": "markdown",
   "id": "db70fc5a-89ac-4851-859d-1310d793b378",
   "metadata": {},
   "source": [
    "You can read more about the ColumnDataSource and other Bokeh data structures in [Providing Data for Plots and Tables](https://docs.bokeh.org/en/latest/docs/user_guide/data.html).\n",
    "\n",
    "<a id=\"Standalone_HTML\"></a>\n",
    "## Standalone HTML\n",
    "In addition to working well with the Notebook, Bokeh can also save plots out into their own HTML files. Here is the bar plot example from above, but saving into it's own standalone file.\n",
    "\n",
    "Now when we call `show()`, a new browser tab is also opened with the plot. If we just wanted to save the file, we would use `save()` instead."
   ]
  },
  {
   "cell_type": "code",
   "execution_count": 51,
   "id": "83b85290-3d15-44d6-a71b-c474e9cea817",
   "metadata": {},
   "outputs": [
    {
     "data": {
      "text/html": [
       "\n",
       "\n",
       "\n",
       "\n",
       "\n",
       "\n",
       "  <div class=\"bk-root\" id=\"106287df-4357-4ab0-9e95-e6d7e59b443a\" data-root-id=\"4780\"></div>\n"
      ]
     },
     "metadata": {},
     "output_type": "display_data"
    },
    {
     "data": {
      "application/javascript": [
       "(function(root) {\n",
       "  function embed_document(root) {\n",
       "    \n",
       "  const docs_json = {\"38575d15-22a0-47d7-b283-f73ab9e2327d\":{\"defs\":[],\"roots\":{\"references\":[{\"attributes\":{\"below\":[{\"id\":\"4791\"}],\"center\":[{\"id\":\"4794\"},{\"id\":\"4798\"},{\"id\":\"4829\"}],\"left\":[{\"id\":\"4795\"}],\"renderers\":[{\"id\":\"4817\"},{\"id\":\"4835\"},{\"id\":\"4854\"}],\"title\":{\"id\":\"4781\"},\"toolbar\":{\"id\":\"4806\"},\"x_range\":{\"id\":\"4783\"},\"x_scale\":{\"id\":\"4787\"},\"y_range\":{\"id\":\"4785\"},\"y_scale\":{\"id\":\"4789\"}},\"id\":\"4780\",\"subtype\":\"Figure\",\"type\":\"Plot\"},{\"attributes\":{\"coordinates\":null,\"data_source\":{\"id\":\"4813\"},\"glyph\":{\"id\":\"4814\"},\"group\":null,\"hover_glyph\":null,\"muted_glyph\":{\"id\":\"4816\"},\"nonselection_glyph\":{\"id\":\"4815\"},\"view\":{\"id\":\"4818\"}},\"id\":\"4817\",\"type\":\"GlyphRenderer\"},{\"attributes\":{\"tools\":[{\"id\":\"4799\"},{\"id\":\"4800\"},{\"id\":\"4801\"},{\"id\":\"4802\"},{\"id\":\"4803\"},{\"id\":\"4804\"}]},\"id\":\"4806\",\"type\":\"Toolbar\"},{\"attributes\":{},\"id\":\"4821\",\"type\":\"BasicTickFormatter\"},{\"attributes\":{\"coordinates\":null,\"group\":null,\"items\":[{\"id\":\"4830\"},{\"id\":\"4849\"},{\"id\":\"4870\"}],\"location\":\"top_left\"},\"id\":\"4829\",\"type\":\"Legend\"},{\"attributes\":{},\"id\":\"4822\",\"type\":\"AllLabels\"},{\"attributes\":{\"bottom\":{\"field\":\"bottom\"},\"fill_alpha\":{\"value\":0.2},\"fill_color\":{\"value\":\"#1f77b4\"},\"line_color\":{\"value\":null},\"top\":{\"field\":\"top\"},\"width\":{\"value\":0.8},\"x\":{\"field\":\"x\"}},\"id\":\"4814\",\"type\":\"VBar\"},{\"attributes\":{\"label\":{\"value\":\"MPG 1 stddev\"},\"renderers\":[{\"id\":\"4817\"}]},\"id\":\"4830\",\"type\":\"LegendItem\"},{\"attributes\":{},\"id\":\"4824\",\"type\":\"BasicTickFormatter\"},{\"attributes\":{},\"id\":\"4783\",\"type\":\"DataRange1d\"},{\"attributes\":{},\"id\":\"4803\",\"type\":\"ResetTool\"},{\"attributes\":{\"bottom\":{\"field\":\"bottom\"},\"fill_alpha\":{\"value\":0.2},\"fill_color\":{\"value\":\"#1f77b4\"},\"hatch_alpha\":{\"value\":0.2},\"line_alpha\":{\"value\":0.2},\"line_color\":{\"value\":null},\"top\":{\"field\":\"top\"},\"width\":{\"value\":0.8},\"x\":{\"field\":\"x\"}},\"id\":\"4816\",\"type\":\"VBar\"},{\"attributes\":{},\"id\":\"4847\",\"type\":\"Selection\"},{\"attributes\":{},\"id\":\"4825\",\"type\":\"AllLabels\"},{\"attributes\":{\"bottom\":{\"field\":\"bottom\"},\"fill_alpha\":{\"value\":0.1},\"fill_color\":{\"value\":\"#1f77b4\"},\"hatch_alpha\":{\"value\":0.1},\"line_alpha\":{\"value\":0.1},\"line_color\":{\"value\":null},\"top\":{\"field\":\"top\"},\"width\":{\"value\":0.8},\"x\":{\"field\":\"x\"}},\"id\":\"4815\",\"type\":\"VBar\"},{\"attributes\":{\"fill_alpha\":{\"value\":0.3},\"fill_color\":{\"value\":\"red\"},\"hatch_alpha\":{\"value\":0.3},\"hatch_color\":{\"value\":\"red\"},\"line_alpha\":{\"value\":0.3},\"line_color\":{\"value\":\"red\"},\"size\":{\"value\":10},\"x\":{\"field\":\"x\"},\"y\":{\"field\":\"y\"}},\"id\":\"4832\",\"type\":\"Circle\"},{\"attributes\":{},\"id\":\"4799\",\"type\":\"PanTool\"},{\"attributes\":{},\"id\":\"4800\",\"type\":\"WheelZoomTool\"},{\"attributes\":{},\"id\":\"4846\",\"type\":\"UnionRenderers\"},{\"attributes\":{},\"id\":\"4802\",\"type\":\"SaveTool\"},{\"attributes\":{},\"id\":\"4796\",\"type\":\"BasicTicker\"},{\"attributes\":{\"bottom_units\":\"screen\",\"coordinates\":null,\"fill_alpha\":0.5,\"fill_color\":\"lightgrey\",\"group\":null,\"left_units\":\"screen\",\"level\":\"overlay\",\"line_alpha\":1.0,\"line_color\":\"black\",\"line_dash\":[4,4],\"line_width\":2,\"right_units\":\"screen\",\"syncable\":false,\"top_units\":\"screen\"},\"id\":\"4805\",\"type\":\"BoxAnnotation\"},{\"attributes\":{\"axis\":{\"id\":\"4795\"},\"coordinates\":null,\"dimension\":1,\"group\":null,\"ticker\":null},\"id\":\"4798\",\"type\":\"Grid\"},{\"attributes\":{},\"id\":\"4826\",\"type\":\"UnionRenderers\"},{\"attributes\":{},\"id\":\"4867\",\"type\":\"UnionRenderers\"},{\"attributes\":{\"axis\":{\"id\":\"4791\"},\"coordinates\":null,\"group\":null,\"ticker\":null},\"id\":\"4794\",\"type\":\"Grid\"},{\"attributes\":{\"coordinates\":null,\"formatter\":{\"id\":\"4824\"},\"group\":null,\"major_label_policy\":{\"id\":\"4825\"},\"ticker\":{\"id\":\"4792\"}},\"id\":\"4791\",\"type\":\"LinearAxis\"},{\"attributes\":{\"label\":{\"value\":\"Japanese\"},\"renderers\":[{\"id\":\"4835\"}]},\"id\":\"4849\",\"type\":\"LegendItem\"},{\"attributes\":{},\"id\":\"4827\",\"type\":\"Selection\"},{\"attributes\":{\"fill_alpha\":{\"value\":0.2},\"fill_color\":{\"value\":\"blue\"},\"hatch_alpha\":{\"value\":0.2},\"hatch_color\":{\"value\":\"blue\"},\"line_alpha\":{\"value\":0.2},\"line_color\":{\"value\":\"blue\"},\"marker\":{\"value\":\"triangle\"},\"size\":{\"value\":10},\"x\":{\"field\":\"x\"},\"y\":{\"field\":\"y\"}},\"id\":\"4853\",\"type\":\"Scatter\"},{\"attributes\":{\"data\":{\"x\":[70,70,70,70,70,70,70,70,70,70,70,70,70,70,70,70,70,70,70,70,70,70,71,71,71,71,71,71,71,71,71,71,71,71,71,71,71,71,71,71,71,72,72,72,72,72,72,72,72,72,72,72,72,72,72,72,72,72,72,73,73,73,73,73,73,73,73,73,73,73,73,73,73,73,73,73,73,73,73,73,73,73,73,73,73,73,73,73,74,74,74,74,74,74,74,74,74,74,74,74,74,74,75,75,75,75,75,75,75,75,75,75,75,75,75,75,75,75,75,75,75,75,76,76,76,76,76,76,76,76,76,76,76,76,76,76,76,76,76,76,76,76,76,76,77,77,77,77,77,77,77,77,77,77,77,77,77,77,77,77,77,77,78,78,78,78,78,78,78,78,78,78,78,78,78,78,78,78,78,78,78,78,78,78,79,79,79,79,79,79,79,79,79,79,79,79,79,79,79,79,79,79,79,79,79,79,79,80,80,80,80,80,80,81,81,81,81,81,81,81,81,81,81,81,81,81,82,82,82,82,82,82,82,82,82,82,82,82,82,82,82,82,82,82,82],\"y\":{\"__ndarray__\":\"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\",\"dtype\":\"float64\",\"order\":\"little\",\"shape\":[245]}},\"selected\":{\"id\":\"4868\"},\"selection_policy\":{\"id\":\"4867\"}},\"id\":\"4850\",\"type\":\"ColumnDataSource\"},{\"attributes\":{},\"id\":\"4792\",\"type\":\"BasicTicker\"},{\"attributes\":{\"source\":{\"id\":\"4813\"}},\"id\":\"4818\",\"type\":\"CDSView\"},{\"attributes\":{\"fill_alpha\":{\"value\":0.3},\"fill_color\":{\"value\":\"blue\"},\"hatch_alpha\":{\"value\":0.3},\"hatch_color\":{\"value\":\"blue\"},\"line_alpha\":{\"value\":0.3},\"line_color\":{\"value\":\"blue\"},\"marker\":{\"value\":\"triangle\"},\"size\":{\"value\":10},\"x\":{\"field\":\"x\"},\"y\":{\"field\":\"y\"}},\"id\":\"4851\",\"type\":\"Scatter\"},{\"attributes\":{\"coordinates\":null,\"formatter\":{\"id\":\"4821\"},\"group\":null,\"major_label_policy\":{\"id\":\"4822\"},\"ticker\":{\"id\":\"4796\"}},\"id\":\"4795\",\"type\":\"LinearAxis\"},{\"attributes\":{\"label\":{\"value\":\"American\"},\"renderers\":[{\"id\":\"4854\"}]},\"id\":\"4870\",\"type\":\"LegendItem\"},{\"attributes\":{\"fill_alpha\":{\"value\":0.2},\"fill_color\":{\"value\":\"red\"},\"hatch_alpha\":{\"value\":0.2},\"hatch_color\":{\"value\":\"red\"},\"line_alpha\":{\"value\":0.2},\"line_color\":{\"value\":\"red\"},\"size\":{\"value\":10},\"x\":{\"field\":\"x\"},\"y\":{\"field\":\"y\"}},\"id\":\"4834\",\"type\":\"Circle\"},{\"attributes\":{},\"id\":\"4789\",\"type\":\"LinearScale\"},{\"attributes\":{\"coordinates\":null,\"data_source\":{\"id\":\"4850\"},\"glyph\":{\"id\":\"4851\"},\"group\":null,\"hover_glyph\":null,\"muted_glyph\":{\"id\":\"4853\"},\"nonselection_glyph\":{\"id\":\"4852\"},\"view\":{\"id\":\"4855\"}},\"id\":\"4854\",\"type\":\"GlyphRenderer\"},{\"attributes\":{\"data\":{\"bottom\":{\"__ndarray__\":\"gvFgx2qzKECcKci59t4sQJZdRzm5jipAzvVtn6zMKECki7kXNjswQIpnc6D2pi5ApAV4qVNeL0DtFQi6+rIwQBxLQL6+KTFAWxwW2YNMMkBnDzEy+Oo6QAq856zmjDhAfzfsSXnEOkA=\",\"dtype\":\"float64\",\"order\":\"little\",\"shape\":[13]},\"top\":{\"__ndarray__\":\"55jlF2UHN0DAzlQxaMk7QBEIyj5aJjhATTh849zMNUD6TNCFok49QMPUTjgNNTlA1KLp0Ht2O0AT6vdFBQ0+QNr+XjaL9T5AWd48aCfjP0AojYptQ1hEQPSsO6IX6UFAQOQJW8OdQkA=\",\"dtype\":\"float64\",\"order\":\"little\",\"shape\":[13]},\"x\":[70,71,72,73,74,75,76,77,78,79,80,81,82]},\"selected\":{\"id\":\"4827\"},\"selection_policy\":{\"id\":\"4826\"}},\"id\":\"4813\",\"type\":\"ColumnDataSource\"},{\"attributes\":{\"coordinates\":null,\"data_source\":{\"id\":\"4831\"},\"glyph\":{\"id\":\"4832\"},\"group\":null,\"hover_glyph\":null,\"muted_glyph\":{\"id\":\"4834\"},\"nonselection_glyph\":{\"id\":\"4833\"},\"view\":{\"id\":\"4836\"}},\"id\":\"4835\",\"type\":\"GlyphRenderer\"},{\"attributes\":{\"fill_alpha\":{\"value\":0.1},\"fill_color\":{\"value\":\"blue\"},\"hatch_alpha\":{\"value\":0.1},\"hatch_color\":{\"value\":\"blue\"},\"line_alpha\":{\"value\":0.1},\"line_color\":{\"value\":\"blue\"},\"marker\":{\"value\":\"triangle\"},\"size\":{\"value\":10},\"x\":{\"field\":\"x\"},\"y\":{\"field\":\"y\"}},\"id\":\"4852\",\"type\":\"Scatter\"},{\"attributes\":{\"coordinates\":null,\"group\":null,\"text\":\"MPG by Year (Japan & US)\"},\"id\":\"4781\",\"type\":\"Title\"},{\"attributes\":{\"source\":{\"id\":\"4850\"}},\"id\":\"4855\",\"type\":\"CDSView\"},{\"attributes\":{\"data\":{\"x\":[70,70,71,71,71,71,72,72,72,72,72,73,73,73,73,74,74,74,74,74,74,75,75,75,75,76,76,76,76,77,77,77,77,77,77,78,78,78,78,78,78,78,78,79,79,80,80,80,80,80,80,80,80,80,80,80,80,80,81,81,81,81,81,81,81,81,81,81,81,81,82,82,82,82,82,82,82,82,82],\"y\":{\"__ndarray__\":\"AAAAAAAAOEAAAAAAAAA7QAAAAAAAADtAAAAAAAAAOUAAAAAAAAA/QAAAAAAAgEFAAAAAAAAAOEAAAAAAAAAzQAAAAAAAADxAAAAAAAAAN0AAAAAAAAA7QAAAAAAAADRAAAAAAAAANkAAAAAAAAAyQAAAAAAAADRAAAAAAAAAP0AAAAAAAABAQAAAAAAAAD9AAAAAAAAAQEAAAAAAAAA4QAAAAAAAADpAAAAAAAAAPUAAAAAAAAA4QAAAAAAAADhAAAAAAACAQEAAAAAAAIBAQAAAAAAAAEBAAAAAAAAAPEAAAAAAAAAzQAAAAAAAgD9AAAAAAADAQEAAAAAAAAA6QAAAAAAAAD5AAAAAAAAANkAAAAAAAIA1QGZmZmZmZkBAMzMzMzOzQ0DNzMzMzAxCQAAAAAAAgDtAMzMzMzMzO0CamZmZmRk1QGZmZmZm5jdAAAAAAACAPUDNzMzMzAxBQM3MzMzMzD9AzczMzMwMQ0CamZmZmZlCQM3MzMzMzD1AzczMzMxMP0AAAAAAAIBCQJqZmZmZGUBAzczMzMxMR0BmZmZmZmZEQM3MzMzMTEZAZmZmZmbmQECamZmZmVlAQDMzMzMzszdAMzMzMzMzQEDNzMzMzIxDQM3MzMzMjEFAZmZmZmYmQEAAAAAAAIBCQJqZmZmZ2UJAzczMzMwMQUCamZmZmdlAQDMzMzMzM0BAMzMzMzNzQECamZmZmZk/QGZmZmZmZjlAMzMzMzMzOEAAAAAAAIBCQAAAAAAAAD9AAAAAAAAAQkAAAAAAAABCQAAAAAAAAEFAAAAAAAAAQ0AAAAAAAABAQAAAAAAAAENAAAAAAAAAQEA=\",\"dtype\":\"float64\",\"order\":\"little\",\"shape\":[79]}},\"selected\":{\"id\":\"4847\"},\"selection_policy\":{\"id\":\"4846\"}},\"id\":\"4831\",\"type\":\"ColumnDataSource\"},{\"attributes\":{\"fill_alpha\":{\"value\":0.1},\"fill_color\":{\"value\":\"red\"},\"hatch_alpha\":{\"value\":0.1},\"hatch_color\":{\"value\":\"red\"},\"line_alpha\":{\"value\":0.1},\"line_color\":{\"value\":\"red\"},\"size\":{\"value\":10},\"x\":{\"field\":\"x\"},\"y\":{\"field\":\"y\"}},\"id\":\"4833\",\"type\":\"Circle\"},{\"attributes\":{},\"id\":\"4785\",\"type\":\"DataRange1d\"},{\"attributes\":{\"source\":{\"id\":\"4831\"}},\"id\":\"4836\",\"type\":\"CDSView\"},{\"attributes\":{\"overlay\":{\"id\":\"4805\"}},\"id\":\"4801\",\"type\":\"BoxZoomTool\"},{\"attributes\":{},\"id\":\"4868\",\"type\":\"Selection\"},{\"attributes\":{},\"id\":\"4787\",\"type\":\"LinearScale\"},{\"attributes\":{},\"id\":\"4804\",\"type\":\"HelpTool\"}],\"root_ids\":[\"4780\"]},\"title\":\"Bokeh Application\",\"version\":\"2.4.1\"}};\n",
       "  const render_items = [{\"docid\":\"38575d15-22a0-47d7-b283-f73ab9e2327d\",\"root_ids\":[\"4780\"],\"roots\":{\"4780\":\"106287df-4357-4ab0-9e95-e6d7e59b443a\"}}];\n",
       "  root.Bokeh.embed.embed_items_notebook(docs_json, render_items);\n",
       "\n",
       "  }\n",
       "  if (root.Bokeh !== undefined) {\n",
       "    embed_document(root);\n",
       "  } else {\n",
       "    let attempts = 0;\n",
       "    const timer = setInterval(function(root) {\n",
       "      if (root.Bokeh !== undefined) {\n",
       "        clearInterval(timer);\n",
       "        embed_document(root);\n",
       "      } else {\n",
       "        attempts++;\n",
       "        if (attempts > 100) {\n",
       "          clearInterval(timer);\n",
       "          console.log(\"Bokeh: ERROR: Unable to run BokehJS code because BokehJS library is missing\");\n",
       "        }\n",
       "      }\n",
       "    }, 10, root)\n",
       "  }\n",
       "})(window);"
      ],
      "application/vnd.bokehjs_exec.v0+json": ""
     },
     "metadata": {
      "application/vnd.bokehjs_exec.v0+json": {
       "id": "4780"
      }
     },
     "output_type": "display_data"
    }
   ],
   "source": [
    "from bokeh.plotting import output_file #kp: instead of output_notebook\n",
    "\n",
    "output_file(\"barplot.html\")\n",
    "\n",
    "p = figure(title = \"MPG by Year (Japan & US)\")\n",
    "\n",
    "p.vbar(x=years, bottom=avg-std, top=avg+std, width=0.8, \n",
    "       fill_alpha=0.2, line_color=None, legend_label=\"MPG 1 stddev\")\n",
    "\n",
    "p.circle(x=japanese[\"yr\"], y=japanese[\"mpg\"], size=10, alpha=0.3,\n",
    "         color=\"red\", legend_label=\"Japanese\")\n",
    "\n",
    "p.triangle(x=american[\"yr\"], y=american[\"mpg\"], size=10, alpha=0.3,\n",
    "           color=\"blue\", legend_label=\"American\")\n",
    "\n",
    "p.legend.location = \"top_left\"\n",
    "show(p)\n",
    "\n",
    "#kp: When we run this cell, we see the plot drawn here on the notebook and also opened the barplot.html file\n",
    "#.   in a new tab of the default browser (which I can change as I wish, if I have multiple web browsers installed)\n",
    "#.   I also noticed that the same html file is created in the current directory in which this notebook resides and\n",
    "#.   I am working from."
   ]
  },
  {
   "cell_type": "markdown",
   "id": "d9f34ad6-0f58-4f5d-a9c1-50834e0b2f56",
   "metadata": {},
   "source": [
    "## Bokeh Applications\n",
    "Bokeh also has a server component that can be used to build interactive web applications that easily connect the powerful constellation of PyData tools to sophisticated Bokeh visualizations. The Bokeh server can be used to:\n",
    "* respond to UI and tool events generated in a browser with computations or queries using the full power of python\n",
    "* automatically push the server side updates to the UI (i.e. widgets or plots in a browser)\n",
    "* use periodic, timeout, and asynchronous callbacks to drive streaming updates\n",
    "\n",
    "The cell below shows a simple deployed Bokeh application from  https://demo.bokeh.org embedded in an IFrame. Srcrub the sliders or change the title to see the plot update."
   ]
  },
  {
   "cell_type": "code",
   "execution_count": 52,
   "id": "d067d9c0-82be-4af5-8c57-fbc9126ebecd",
   "metadata": {},
   "outputs": [
    {
     "data": {
      "text/html": [
       "\n",
       "        <iframe\n",
       "            width=\"900\"\n",
       "            height=\"410\"\n",
       "            src=\"https://demo.bokeh.org/sliders\"\n",
       "            frameborder=\"0\"\n",
       "            allowfullscreen\n",
       "            \n",
       "        ></iframe>\n",
       "        "
      ],
      "text/plain": [
       "<IPython.lib.display.IFrame at 0x7fba0571ac70>"
      ]
     },
     "execution_count": 52,
     "metadata": {},
     "output_type": "execute_result"
    }
   ],
   "source": [
    "from IPython.display import IFrame\n",
    "IFrame('https://demo.bokeh.org/sliders', width=900, height=410)"
   ]
  },
  {
   "cell_type": "markdown",
   "id": "74921ae9-90c3-4787-b4dc-c3ed202b7247",
   "metadata": {},
   "source": [
    "Click on any of the thumbnails below (kp: in the original website of this tutorial, not on this notebook itself) to launch other live Bokeh applications. (I am replacing the thumbnails with the corresponding links as follows):\n",
    "\n",
    "[Application 1 - Crossfilter](https://demo.bokeh.org/crossfilter), 2 [Movies](https://demo.bokeh.org/movies), and 3 [Gapminder](https://demo.bokeh.org/gapminder).\n",
    "\n",
    "  \n",
    "Find more details and information about developing and deploying Bokeh server applications in the User's Guide chapter [Running a Bokeh Server](https://docs.bokeh.org/en/latest/docs/user_guide/server.html).\n",
    "\n",
    "<a id=\"BokehJS\"></a>\n",
    "## BokehJS\n",
    "At its core, Bokeh consists of a Javascript library, BokehJS, and a Python binding which provides classes and objects that ultimately generate a JSON representation of the plot structure.\n",
    "\n",
    "You can read more about design and usage in the [Developing with JavaScript](https://docs.bokeh.org/en/latest/docs/user_guide/bokehjs.html) section of the Bokeh User's Guide.\n",
    "\n",
    "### More Information\n",
    "Find more details and information at https://bokeh.org."
   ]
  },
  {
   "cell_type": "markdown",
   "id": "6d427d3c-8439-482e-aece-c8a13c948750",
   "metadata": {},
   "source": [
    "#### <font color=\"magenta\">Page 3: 00. Introduction and Setup </font>\n",
    "## [00. Introduction and Setup](https://nbviewer.org/github/bokeh/bokeh-notebooks/blob/master/tutorial/00%20-%20Introduction%20and%20Setup.ipynb)\n"
   ]
  },
  {
   "cell_type": "code",
   "execution_count": null,
   "id": "5bbacf20-c66f-401a-821d-aa1f4b81dfa8",
   "metadata": {},
   "outputs": [],
   "source": []
  }
 ],
 "metadata": {
  "kernelspec": {
   "display_name": "Python 3 (ipykernel)",
   "language": "python",
   "name": "python3"
  },
  "language_info": {
   "codemirror_mode": {
    "name": "ipython",
    "version": 3
   },
   "file_extension": ".py",
   "mimetype": "text/x-python",
   "name": "python",
   "nbconvert_exporter": "python",
   "pygments_lexer": "ipython3",
   "version": "3.9.7"
  }
 },
 "nbformat": 4,
 "nbformat_minor": 5
}
