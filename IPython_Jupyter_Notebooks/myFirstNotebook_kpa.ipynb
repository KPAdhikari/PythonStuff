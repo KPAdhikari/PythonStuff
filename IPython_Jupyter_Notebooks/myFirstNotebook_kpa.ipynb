{
 "cells": [
  {
   "cell_type": "markdown",
   "metadata": {},
   "source": [
    "# Krishna P. Adhikari's first IPython/Jupyter Notebook"
   ]
  },
  {
   "cell_type": "markdown",
   "metadata": {},
   "source": [
    "Created on 7/24/17.\n",
    "Here I plan to put stuff that I learn (usages and aspects/features) or play with while trying the Jupyter Notebook.\n",
    "I am starting with the this youtube video tutorial https://www.youtube.com/watch?v=EEEZX_0FMEc\n",
    "And, I also started seeing this short video https://www.youtube.com/watch?v=jZ952vChhuI but haven't finished it yet because I felt sleepy (2:18 am). Will continue later."
   ]
  },
  {
   "cell_type": "markdown",
   "metadata": {},
   "source": [
    "## Now I am able to run ROOT Notebook too\n",
    "I wasn't able to setup and run ROOT notebook before now (7/26/17) I am able to do so.\n",
    "\n",
    "Before, I was able to have only the Python 3 notebooks by running either 'jupyter notebook' or 'ipython notebook' on the terminal (I think, it relied on my earlier Anaconda installation).\n",
    "\n",
    "Then it gave me a link (for the notebook server) that started with http://localhost:8888/ (such as http://localhost:8888/tree/GitProj/KPAdhikari/PythonStuff/IPython_Jupyter_Notebooks#notebooks) and when pasted on the browser, I could see the web interface for the folders and files for the notebooks. \n",
    "The web interface It gave me the Jupyter logo at the top left corner. And, on the Files tab, when clicked on New (on the right, next to Upload), it showed the following list of uptions:  \n",
    "\n",
    "  Text File, Folder, Terminal, Notebooks, Python3\n",
    "  \n",
    "  \n",
    "But, today (7/26/17), I landed on this page: https://github.com/jupyter/jupyter/wiki/Jupyter-kernels (I was lead to this from https://stackoverflow.com/questions/40917409/using-jupyter-notebook-for-java, while trying to find how I could use Java in a notebook) with the list of links to available Jupyter kernels that enables notebooks for other languages. \n",
    "\n",
    "Then, I clicked on the [ROOT](https://github.com/root-project/root/tree/master/bindings/pyroot/JupyROOT) link which asked me to do the following:\n",
    "\n",
    "### Installation\n",
    "* [Install ROOT6](https://root.cern.ch/building-root) (> 6.05)\n",
    "\n",
    " * Since I had already installed it and used it before for some other regular ROOT uses, I simply made sure I had it's environments enabled properly. For this I opened the **~/.bashrc** file and enabled the following aliases: \n",
    " \n",
    "   * **alias root6env=\"source /opt/local/libexec/root6/bin/thisroot.sh\"**\n",
    "   * **alias root6=\"root6load; root6env\"**\n",
    "   \n",
    "   And, Finally, executed 'root6' from the terminal to ensure it is active for the current terminal and checked if ROOTSYS variable was showing the proper value\n",
    "   \n",
    "* Install dependencies: **pip install jupyter metakernel**\n",
    "\n",
    "### Start using ROOTbooks\n",
    "\n",
    "Set up the ROOT environment (. $ROOTSYS/bin/thisroot.[c]sh) and type in your shell:\n",
    "```\n",
    "root --notebook\n",
    "```\n",
    "This started a ROOT-flavoured notebook server in your computer. The server had the URL that started with http://localhost:8889/ such as http://localhost:8889/?token=43053e76521ea6d1381ce4581075940a77669f2282822b60 (8889 was because 8888 was already in use because I was also running 'jupyter notebook' on another terminal. When I tried killing both and rerunning only 'root --notebook', it now opened with the the port number 8888 instead of 8889) which when copied/pasted into the broswer, I could see folders similar to what was seen before but now with a ROOT logo instead of the Jupyter logo and when the 'New' button was clicked, it showed an additional option of 'ROOT C++' below 'Python 3'."
   ]
  },
  {
   "cell_type": "markdown",
   "metadata": {},
   "source": [
    "## Table of Contents (TOC)\n",
    "* [About Markdown](#about_markdown)\n",
    "* [Keyboard Shortcuts](#keyboard_shortcuts)\n",
    "* [Colored Text Using HTML `<span>`](#colored_text)\n",
    "* [Appendix](#appendix)\n",
    "* [Links](#links)\n",
    "* [Lists](#lists)\n",
    "* [Images](#images)\n",
    "* [Videos](#videos)\n",
    "* [Markdown Paragraphs](#markdown_paragraphs)\n",
    "* [Markdown Tables](#markdown_tables)\n",
    "* [Equations with LaTeX](#equations_with_latex)\n",
    "* [Magics](#magics)\n",
    "* [Executing Shell Commands](#executing_shell_commands)\n",
    "* [Trying Pandas](#trying_pandas)\n",
    "* [Some References](#references)\n",
    "* [The End](#the_end)"
   ]
  },
  {
   "cell_type": "markdown",
   "metadata": {},
   "source": [
    "## Jupyter Architecture\n",
    "![Jupyter Architecture](jupyter_architecture.png)"
   ]
  },
  {
   "cell_type": "markdown",
   "metadata": {},
   "source": [
    "Notebook server runs (or is started) on the terminal <br />\n",
    "The notebook that we see here (in the browser tab) is the Graphical User Interface of the IPython/Jupyter (Notebook). <br />\n",
    "See above youtube video for more information."
   ]
  },
  {
   "cell_type": "markdown",
   "metadata": {},
   "source": [
    "<a id='about_markdown'></a>\n",
    "## About Markdown\n",
    "Didn't know much about Markdown and so I googled about it. Here is what I found (http://jupyter-notebook.readthedocs.io/en/latest/examples/Notebook/Working%20With%20Markdown%20Cells.html) which says the following as a quick intro:"
   ]
  },
  {
   "cell_type": "markdown",
   "metadata": {},
   "source": [
    "Text can be added to Jupyter Notebooks using Markdown cells. Markdown is a popular markup language that is a superset of HTML. (For more on Markdown, please go below to [Appendix](#appendix)).\n",
    "\n",
    "[Markedown cheat-sheet](https://beegit.com/markdown-cheat-sheet)\n",
    "\n",
    "<a id='trying_pandas'></a>\n",
    "## Trying pandas"
   ]
  },
  {
   "cell_type": "markdown",
   "metadata": {},
   "source": [
    "KP: ########\n",
    "I got the following import error when I tried 'import pandas.io.data' below:\n",
    "ImportError: The pandas.io.data module is moved to a separate package (pandas-datareader). After installing the pandas-datareader package (https://github.com/pandas-dev/pandas-datareader), you can change the import ``from pandas.io import data, wb`` to ``from pandas_datareader import data, wb``.\n",
    "\n",
    "So, I googled about it and landed on http://toro-quant.blogspot.com/2016/01/the-pandasiodata-module-is-moved-to.html, which said the following:\n",
    "\n",
    "OK for those of you who encounter above warning, it means you use the old way calling Pandas library and this is the right way to do:\n",
    "\n",
    "https://github.com/pydata/pandas-datareader\n",
    "\n",
    "$ pip install pandas-datareader\n",
    "\n",
    "from pandas.io import data, wb # becomes\n",
    "from pandas_datareader import data, wb\n",
    "###########\n",
    "So, I tried 'pip3' instead of 'pip' install pandas-datareader (because I knew I was using python3 and we need pip3 for it).\n",
    "That alone didn't work.\n",
    "I also installed the same using 'pip', restarted the jupyter server and refreshed the page and it worked with \"import pandas_datareader.data as web\".\n",
    "In the end it gave me the table"
   ]
  },
  {
   "cell_type": "code",
   "execution_count": 1,
   "metadata": {},
   "outputs": [
    {
     "data": {
      "text/plain": [
       "5"
      ]
     },
     "execution_count": 1,
     "metadata": {},
     "output_type": "execute_result"
    }
   ],
   "source": [
    "import datetime\n",
    "2+ 3"
   ]
  },
  {
   "cell_type": "code",
   "execution_count": null,
   "metadata": {
    "collapsed": true,
    "scrolled": true
   },
   "outputs": [],
   "source": [
    "import pandas as pd\n",
    "import pandas.io\n",
    "#import pandas.io.data\n",
    "#import pandas.io.data as web\n",
    "#from pandas_datareader import data, web\n",
    "import pandas_datareader.data as web\n",
    "import datetime\n",
    "import matplotlib\n",
    "#matplotlib.style.use('ggplot')\n",
    "\n",
    "#df is for data-frame\n",
    "df = web.DataReader('AAPL', 'google', '2015/1/1', '2017/1/1')\n",
    "df.head()"
   ]
  },
  {
   "cell_type": "code",
   "execution_count": 2,
   "metadata": {},
   "outputs": [
    {
     "ename": "ModuleNotFoundError",
     "evalue": "No module named 'matplotlib'",
     "output_type": "error",
     "traceback": [
      "\u001b[0;31m---------------------------------------------------------------------------\u001b[0m",
      "\u001b[0;31mModuleNotFoundError\u001b[0m                       Traceback (most recent call last)",
      "\u001b[0;32m<ipython-input-2-bf24f091e516>\u001b[0m in \u001b[0;36m<module>\u001b[0;34m()\u001b[0m\n\u001b[0;32m----> 1\u001b[0;31m \u001b[0mget_ipython\u001b[0m\u001b[0;34m(\u001b[0m\u001b[0;34m)\u001b[0m\u001b[0;34m.\u001b[0m\u001b[0mmagic\u001b[0m\u001b[0;34m(\u001b[0m\u001b[0;34m'matplotlib inline'\u001b[0m\u001b[0;34m)\u001b[0m\u001b[0;34m\u001b[0m\u001b[0m\n\u001b[0m\u001b[1;32m      2\u001b[0m \u001b[0;31m#kp: Above line is called \"Line magic\" and is used to make the plot show up\u001b[0m\u001b[0;34m\u001b[0m\u001b[0;34m\u001b[0m\u001b[0m\n\u001b[1;32m      3\u001b[0m \u001b[0;31m#kp: It seems we cannot have a comment at the end of the line-magic.\u001b[0m\u001b[0;34m\u001b[0m\u001b[0;34m\u001b[0m\u001b[0m\n\u001b[1;32m      4\u001b[0m \u001b[0mdf\u001b[0m\u001b[0;34m.\u001b[0m\u001b[0mplot\u001b[0m\u001b[0;34m(\u001b[0m\u001b[0my\u001b[0m\u001b[0;34m=\u001b[0m\u001b[0;34m\"Close\"\u001b[0m\u001b[0;34m,\u001b[0m \u001b[0mcolor\u001b[0m\u001b[0;34m=\u001b[0m\u001b[0;34m\"Green\"\u001b[0m\u001b[0;34m)\u001b[0m\u001b[0;34m\u001b[0m\u001b[0m\n",
      "\u001b[0;32m/usr/local/lib/python3.6/site-packages/IPython/core/interactiveshell.py\u001b[0m in \u001b[0;36mmagic\u001b[0;34m(self, arg_s)\u001b[0m\n\u001b[1;32m   2144\u001b[0m         \u001b[0mmagic_name\u001b[0m\u001b[0;34m,\u001b[0m \u001b[0m_\u001b[0m\u001b[0;34m,\u001b[0m \u001b[0mmagic_arg_s\u001b[0m \u001b[0;34m=\u001b[0m \u001b[0marg_s\u001b[0m\u001b[0;34m.\u001b[0m\u001b[0mpartition\u001b[0m\u001b[0;34m(\u001b[0m\u001b[0;34m' '\u001b[0m\u001b[0;34m)\u001b[0m\u001b[0;34m\u001b[0m\u001b[0m\n\u001b[1;32m   2145\u001b[0m         \u001b[0mmagic_name\u001b[0m \u001b[0;34m=\u001b[0m \u001b[0mmagic_name\u001b[0m\u001b[0;34m.\u001b[0m\u001b[0mlstrip\u001b[0m\u001b[0;34m(\u001b[0m\u001b[0mprefilter\u001b[0m\u001b[0;34m.\u001b[0m\u001b[0mESC_MAGIC\u001b[0m\u001b[0;34m)\u001b[0m\u001b[0;34m\u001b[0m\u001b[0m\n\u001b[0;32m-> 2146\u001b[0;31m         \u001b[0;32mreturn\u001b[0m \u001b[0mself\u001b[0m\u001b[0;34m.\u001b[0m\u001b[0mrun_line_magic\u001b[0m\u001b[0;34m(\u001b[0m\u001b[0mmagic_name\u001b[0m\u001b[0;34m,\u001b[0m \u001b[0mmagic_arg_s\u001b[0m\u001b[0;34m)\u001b[0m\u001b[0;34m\u001b[0m\u001b[0m\n\u001b[0m\u001b[1;32m   2147\u001b[0m \u001b[0;34m\u001b[0m\u001b[0m\n\u001b[1;32m   2148\u001b[0m     \u001b[0;31m#-------------------------------------------------------------------------\u001b[0m\u001b[0;34m\u001b[0m\u001b[0;34m\u001b[0m\u001b[0m\n",
      "\u001b[0;32m/usr/local/lib/python3.6/site-packages/IPython/core/interactiveshell.py\u001b[0m in \u001b[0;36mrun_line_magic\u001b[0;34m(self, magic_name, line)\u001b[0m\n\u001b[1;32m   2065\u001b[0m                 \u001b[0mkwargs\u001b[0m\u001b[0;34m[\u001b[0m\u001b[0;34m'local_ns'\u001b[0m\u001b[0;34m]\u001b[0m \u001b[0;34m=\u001b[0m \u001b[0msys\u001b[0m\u001b[0;34m.\u001b[0m\u001b[0m_getframe\u001b[0m\u001b[0;34m(\u001b[0m\u001b[0mstack_depth\u001b[0m\u001b[0;34m)\u001b[0m\u001b[0;34m.\u001b[0m\u001b[0mf_locals\u001b[0m\u001b[0;34m\u001b[0m\u001b[0m\n\u001b[1;32m   2066\u001b[0m             \u001b[0;32mwith\u001b[0m \u001b[0mself\u001b[0m\u001b[0;34m.\u001b[0m\u001b[0mbuiltin_trap\u001b[0m\u001b[0;34m:\u001b[0m\u001b[0;34m\u001b[0m\u001b[0m\n\u001b[0;32m-> 2067\u001b[0;31m                 \u001b[0mresult\u001b[0m \u001b[0;34m=\u001b[0m \u001b[0mfn\u001b[0m\u001b[0;34m(\u001b[0m\u001b[0;34m*\u001b[0m\u001b[0margs\u001b[0m\u001b[0;34m,\u001b[0m\u001b[0;34m**\u001b[0m\u001b[0mkwargs\u001b[0m\u001b[0;34m)\u001b[0m\u001b[0;34m\u001b[0m\u001b[0m\n\u001b[0m\u001b[1;32m   2068\u001b[0m             \u001b[0;32mreturn\u001b[0m \u001b[0mresult\u001b[0m\u001b[0;34m\u001b[0m\u001b[0m\n\u001b[1;32m   2069\u001b[0m \u001b[0;34m\u001b[0m\u001b[0m\n",
      "\u001b[0;32m<decorator-gen-107>\u001b[0m in \u001b[0;36mmatplotlib\u001b[0;34m(self, line)\u001b[0m\n",
      "\u001b[0;32m/usr/local/lib/python3.6/site-packages/IPython/core/magic.py\u001b[0m in \u001b[0;36m<lambda>\u001b[0;34m(f, *a, **k)\u001b[0m\n\u001b[1;32m    185\u001b[0m     \u001b[0;31m# but it's overkill for just that one bit of state.\u001b[0m\u001b[0;34m\u001b[0m\u001b[0;34m\u001b[0m\u001b[0m\n\u001b[1;32m    186\u001b[0m     \u001b[0;32mdef\u001b[0m \u001b[0mmagic_deco\u001b[0m\u001b[0;34m(\u001b[0m\u001b[0marg\u001b[0m\u001b[0;34m)\u001b[0m\u001b[0;34m:\u001b[0m\u001b[0;34m\u001b[0m\u001b[0m\n\u001b[0;32m--> 187\u001b[0;31m         \u001b[0mcall\u001b[0m \u001b[0;34m=\u001b[0m \u001b[0;32mlambda\u001b[0m \u001b[0mf\u001b[0m\u001b[0;34m,\u001b[0m \u001b[0;34m*\u001b[0m\u001b[0ma\u001b[0m\u001b[0;34m,\u001b[0m \u001b[0;34m**\u001b[0m\u001b[0mk\u001b[0m\u001b[0;34m:\u001b[0m \u001b[0mf\u001b[0m\u001b[0;34m(\u001b[0m\u001b[0;34m*\u001b[0m\u001b[0ma\u001b[0m\u001b[0;34m,\u001b[0m \u001b[0;34m**\u001b[0m\u001b[0mk\u001b[0m\u001b[0;34m)\u001b[0m\u001b[0;34m\u001b[0m\u001b[0m\n\u001b[0m\u001b[1;32m    188\u001b[0m \u001b[0;34m\u001b[0m\u001b[0m\n\u001b[1;32m    189\u001b[0m         \u001b[0;32mif\u001b[0m \u001b[0mcallable\u001b[0m\u001b[0;34m(\u001b[0m\u001b[0marg\u001b[0m\u001b[0;34m)\u001b[0m\u001b[0;34m:\u001b[0m\u001b[0;34m\u001b[0m\u001b[0m\n",
      "\u001b[0;32m/usr/local/lib/python3.6/site-packages/IPython/core/magics/pylab.py\u001b[0m in \u001b[0;36mmatplotlib\u001b[0;34m(self, line)\u001b[0m\n\u001b[1;32m     97\u001b[0m             \u001b[0mprint\u001b[0m\u001b[0;34m(\u001b[0m\u001b[0;34m\"Available matplotlib backends: %s\"\u001b[0m \u001b[0;34m%\u001b[0m \u001b[0mbackends_list\u001b[0m\u001b[0;34m)\u001b[0m\u001b[0;34m\u001b[0m\u001b[0m\n\u001b[1;32m     98\u001b[0m         \u001b[0;32melse\u001b[0m\u001b[0;34m:\u001b[0m\u001b[0;34m\u001b[0m\u001b[0m\n\u001b[0;32m---> 99\u001b[0;31m             \u001b[0mgui\u001b[0m\u001b[0;34m,\u001b[0m \u001b[0mbackend\u001b[0m \u001b[0;34m=\u001b[0m \u001b[0mself\u001b[0m\u001b[0;34m.\u001b[0m\u001b[0mshell\u001b[0m\u001b[0;34m.\u001b[0m\u001b[0menable_matplotlib\u001b[0m\u001b[0;34m(\u001b[0m\u001b[0margs\u001b[0m\u001b[0;34m.\u001b[0m\u001b[0mgui\u001b[0m\u001b[0;34m)\u001b[0m\u001b[0;34m\u001b[0m\u001b[0m\n\u001b[0m\u001b[1;32m    100\u001b[0m             \u001b[0mself\u001b[0m\u001b[0;34m.\u001b[0m\u001b[0m_show_matplotlib_backend\u001b[0m\u001b[0;34m(\u001b[0m\u001b[0margs\u001b[0m\u001b[0;34m.\u001b[0m\u001b[0mgui\u001b[0m\u001b[0;34m,\u001b[0m \u001b[0mbackend\u001b[0m\u001b[0;34m)\u001b[0m\u001b[0;34m\u001b[0m\u001b[0m\n\u001b[1;32m    101\u001b[0m \u001b[0;34m\u001b[0m\u001b[0m\n",
      "\u001b[0;32m/usr/local/lib/python3.6/site-packages/IPython/core/interactiveshell.py\u001b[0m in \u001b[0;36menable_matplotlib\u001b[0;34m(self, gui)\u001b[0m\n\u001b[1;32m   2916\u001b[0m         \"\"\"\n\u001b[1;32m   2917\u001b[0m         \u001b[0;32mfrom\u001b[0m \u001b[0mIPython\u001b[0m\u001b[0;34m.\u001b[0m\u001b[0mcore\u001b[0m \u001b[0;32mimport\u001b[0m \u001b[0mpylabtools\u001b[0m \u001b[0;32mas\u001b[0m \u001b[0mpt\u001b[0m\u001b[0;34m\u001b[0m\u001b[0m\n\u001b[0;32m-> 2918\u001b[0;31m         \u001b[0mgui\u001b[0m\u001b[0;34m,\u001b[0m \u001b[0mbackend\u001b[0m \u001b[0;34m=\u001b[0m \u001b[0mpt\u001b[0m\u001b[0;34m.\u001b[0m\u001b[0mfind_gui_and_backend\u001b[0m\u001b[0;34m(\u001b[0m\u001b[0mgui\u001b[0m\u001b[0;34m,\u001b[0m \u001b[0mself\u001b[0m\u001b[0;34m.\u001b[0m\u001b[0mpylab_gui_select\u001b[0m\u001b[0;34m)\u001b[0m\u001b[0;34m\u001b[0m\u001b[0m\n\u001b[0m\u001b[1;32m   2919\u001b[0m \u001b[0;34m\u001b[0m\u001b[0m\n\u001b[1;32m   2920\u001b[0m         \u001b[0;32mif\u001b[0m \u001b[0mgui\u001b[0m \u001b[0;34m!=\u001b[0m \u001b[0;34m'inline'\u001b[0m\u001b[0;34m:\u001b[0m\u001b[0;34m\u001b[0m\u001b[0m\n",
      "\u001b[0;32m/usr/local/lib/python3.6/site-packages/IPython/core/pylabtools.py\u001b[0m in \u001b[0;36mfind_gui_and_backend\u001b[0;34m(gui, gui_select)\u001b[0m\n\u001b[1;32m    267\u001b[0m     \"\"\"\n\u001b[1;32m    268\u001b[0m \u001b[0;34m\u001b[0m\u001b[0m\n\u001b[0;32m--> 269\u001b[0;31m     \u001b[0;32mimport\u001b[0m \u001b[0mmatplotlib\u001b[0m\u001b[0;34m\u001b[0m\u001b[0m\n\u001b[0m\u001b[1;32m    270\u001b[0m \u001b[0;34m\u001b[0m\u001b[0m\n\u001b[1;32m    271\u001b[0m     \u001b[0;32mif\u001b[0m \u001b[0mgui\u001b[0m \u001b[0;32mand\u001b[0m \u001b[0mgui\u001b[0m \u001b[0;34m!=\u001b[0m \u001b[0;34m'auto'\u001b[0m\u001b[0;34m:\u001b[0m\u001b[0;34m\u001b[0m\u001b[0m\n",
      "\u001b[0;31mModuleNotFoundError\u001b[0m: No module named 'matplotlib'"
     ]
    }
   ],
   "source": [
    "%matplotlib inline  \n",
    "#kp: Above line is called \"Line magic\" and is used to make the plot show up\n",
    "#kp: It seems we cannot have a comment at the end of the line-magic.\n",
    "df.plot(y=\"Close\", color=\"Green\")"
   ]
  },
  {
   "cell_type": "markdown",
   "metadata": {
    "collapsed": true
   },
   "source": [
    "<a id='appendix'></a>\n",
    "# Appendix"
   ]
  },
  {
   "cell_type": "markdown",
   "metadata": {
    "collapsed": true
   },
   "source": [
    "## Markdown"
   ]
  },
  {
   "cell_type": "markdown",
   "metadata": {},
   "source": [
    "**Some quick tips gathered from http://www.markdowntutorial.com/ **"
   ]
  },
  {
   "cell_type": "markdown",
   "metadata": {
    "collapsed": true
   },
   "source": [
    "### Italic & Bold\n",
    "To make a phrase italic in Markdown, you can surround words with an underscore (``_``). For example, ``_this_`` word would become _italic_.\n",
    "Similarly, to make phrases bold in Markdown, you can surround words with two asterisks ( ``**`` ). This will ``**really**`` get your point across.\n",
    "Of course, you can use `_both italics and bold_` in the same line. You can also span them ``**across multiple words**``. \n",
    "In general, it doesn't matter which order you place the asterisks or underscores."
   ]
  },
  {
   "cell_type": "markdown",
   "metadata": {},
   "source": [
    "**Note:** _ To disable Markdown such as to show double asterisks above, I used the **back-quote** or **back-tick** sybobl i.e. **\"\\`\"** (the one on the key that also has the tilda symbol **\"~\"**. Likewise, below under Colored Texts, to show the triple-back-ticks, I used the triple-ticks in between a pair of double-ticks._ "
   ]
  },
  {
   "cell_type": "markdown",
   "metadata": {},
   "source": [
    "**Note:** _ And to escape the **back-tick** itself i.e. to make it show up in the Markdown rendered page, I had to (figured out myself by trial and error based on my experience with other markup languages) put a back-slash in front of it. _\n",
    "\n",
    "<a id=\"colored_text\"></a>\n",
    "### Colored Texts\n",
    "We can use `<span style=\"color:red\"> Text-to-be-colored</span>` to make a text colored. For example, I used the same trick to make the following text red. <br />\n",
    "**<span style=\"color:red\">Ta da! You've learned to make a text colored!</span>**\n",
    "\n",
    "**Note:** <span style=\"color:green\">Please remember that the Markdown doesn't work in between the &lt;<b>span</b>&gt; element. This is the reason why the first word <b>\"Note:\"</b> didn't get the color. I would have to use the &lt; span &gt; element one more time if I were to give it some other color than the default <b>black</b></span>\n",
    "\n",
    "#### Only Green and Red Colored Text Using 'Diff Language'\n",
    "```diff\n",
    "+ this text is highlighted in green\n",
    "- this text is highlighted in red\n",
    "```\n",
    "For which the syntax is \n",
    "\n",
    "`` ```diff ``\n",
    "```\n",
    "+ this text is highlighted in green\n",
    "- this text is highlighted in red\n",
    "```\n",
    "`` ``` ``\n",
    "\n"
   ]
  },
  {
   "cell_type": "markdown",
   "metadata": {},
   "source": [
    "### Headers\n",
    "Headers are frequently used on websites, magazine articles, and notices, to draw attention to a section. As their name implies, they act like titles or subtitles above sections.\n",
    "There are six types of headers, in decreasing sizes."
   ]
  },
  {
   "cell_type": "markdown",
   "metadata": {},
   "source": [
    "To make headers in Markdown, you preface the phrase with a hash mark (`#`). You place the same number of hash marks as the size of the header you want. For example, for a header one, you'd use one hash mark (`# Header One`), while for a header three, you'd use three (`### Header Three`)."
   ]
  },
  {
   "cell_type": "markdown",
   "metadata": {},
   "source": [
    "**Note:** _My own experience tells me that you should leave a space between the hash mark(s) and the text of the header. If you don't, it will still work (as can be seen from File->Print Preview, but the notebook itself wont show that._"
   ]
  },
  {
   "cell_type": "markdown",
   "metadata": {},
   "source": [
    "<a id='links'></a>\n",
    "### Links\n",
    "There are two different link types in Markdown, but both of them render the exact same way. \n",
    "#### Inline Link\n",
    "The first link style is called an inline link. To create an inline link, you wrap the link text in brackets ( [ ] ), and then you wrap the link in parenthesis ( ( ) ). For example, to create a hyperlink to www.github.com, with a link text that says, Visit GitHub!, you'd write this in Markdown: `[Visit GitHub!](www.github.com)`.\n",
    "#### Reference Link\n",
    "The other link type is called a reference link. As the name implies, the link is actually a reference to another place in the document. Here's an example of what we mean:"
   ]
  },
  {
   "cell_type": "markdown",
   "metadata": {},
   "source": [
    "     Here's [a link to something else][another place].\n",
    "     Here's [yet another link][another-link].\n",
    "     And now back to [the first link][another place].\n",
    "\n",
    "     [another place]: www.github.com\n",
    "     [another-link]: www.google.com\n",
    "     \n",
    "And, this is what looks upon rendering it.     "
   ]
  },
  {
   "cell_type": "markdown",
   "metadata": {},
   "source": [
    "Here's [a link to something else][another place].\n",
    "Here's [yet another link][another-link].\n",
    "And now back to [the first link][another place].\n",
    "\n",
    "[another place]: www.github.com\n",
    "[another-link]: www.google.com"
   ]
  },
  {
   "cell_type": "markdown",
   "metadata": {},
   "source": [
    "The \"references\" above are the second set of brackets: [another place] and [another-link]. At the bottom of a Markdown document, these brackets are defined as proper links to outside websites. An advantage of the reference link style is that multiple links to the same place only need to be updated once. For example, if we decide to make all of the [another place] links go somewhere else, we only have to change the single reference link.\n",
    "\n",
    "Reference links don't appear in the rendered Markdown. You define them by providing the same tag name wrapped in brackets, followed by a colon, followed by the link."
   ]
  },
  {
   "cell_type": "markdown",
   "metadata": {},
   "source": [
    "**Note:** <span style=\"color:green\">See how I created local links/references between the sections</span> **[Appendix](#appendix)** and **[About Markdown](#about_markdown)**. Please remember that we do it in nearly the same way in HTML and [this forum][https://stackoverflow.com/questions/28080066/how-to-reference-a-ipython-notebook-cell-in-markdown] says this is basically **a html anchor tag with an Id given to it**."
   ]
  },
  {
   "cell_type": "markdown",
   "metadata": {},
   "source": [
    "<a id='images'></a>\n",
    "### Images\n",
    "\n",
    "If you know how to create links in Markdown, you can create images, too. The syntax is nearly the same.\n",
    "\n",
    "Images also have two styles, just like links, and both of them render the exact same way. The difference between links and images is that images are prefaced with an exclamation point ( `!` ).\n",
    "\n",
    "The first image style is called an inline image link. To create an inline image link, enter an exclamation point ( `!` ), wrap the alt text in brackets ( [ ] ), and then wrap the link in parenthesis ( ( ) ). (Alt text is a phrase or sentence that describes the image for the visually impaired.)\n",
    "\n",
    "For example, to create an inline image link to https://octodex.github.com/images/bannekat.png, with an alt text that says, Benjamin Bannekat, you'd write this in Markdown: `![Benjamin Bannekat](https://octodex.github.com/images/bannekat.png)`. And below, you'll see the effect of it:"
   ]
  },
  {
   "cell_type": "markdown",
   "metadata": {},
   "source": [
    "![Benjamin Bannekat](https://octodex.github.com/images/bannekat.png)\n",
    "\n",
    "<a id='videos'></a>\n",
    "### Videos\n",
    "Reference: https://gist.github.com/christopherlovell/e3e70880c0b0ad666e7b5fe311320a62#file-display-py"
   ]
  },
  {
   "cell_type": "code",
   "execution_count": 1,
   "metadata": {},
   "outputs": [
    {
     "data": {
      "text/html": [
       "<iframe src=\"https://player.vimeo.com/video/26763844?title=0&byline=0&portrait=0\" width=\"700\" height=\"394\" frameborder=\"0\" webkitallowfullscreen mozallowfullscreen allowfullscreen></iframe><p><a href=\"https://vimeo.com/26763844\">BAXTER DURY - CLAIRE (Dir Cut)</a> from <a href=\"https://vimeo.com/dannysangra\">Danny Sangra</a> on <a href=\"https://vimeo.com\">Vimeo</a>.</p>"
      ],
      "text/plain": [
       "<IPython.core.display.HTML object>"
      ]
     },
     "execution_count": 1,
     "metadata": {},
     "output_type": "execute_result"
    }
   ],
   "source": [
    "from IPython.display import HTML\n",
    "\n",
    "# Youtube\n",
    "HTML('<iframe width=\"560\" height=\"315\" src=\"https://www.youtube.com/embed/S_f2qV2_U00?rel=0&amp;controls=0&amp;showinfo=0\" frameborder=\"0\" allowfullscreen></iframe>')\n",
    "\n",
    "# Vimeo\n",
    "HTML('<iframe src=\"https://player.vimeo.com/video/26763844?title=0&byline=0&portrait=0\" width=\"700\" height=\"394\" frameborder=\"0\" webkitallowfullscreen mozallowfullscreen allowfullscreen></iframe><p><a href=\"https://vimeo.com/26763844\">BAXTER DURY - CLAIRE (Dir Cut)</a> from <a href=\"https://vimeo.com/dannysangra\">Danny Sangra</a> on <a href=\"https://vimeo.com\">Vimeo</a>.</p>')"
   ]
  },
  {
   "cell_type": "markdown",
   "metadata": {},
   "source": [
    "#### How to embed a youtube video\n",
    "Reference: goggle\n",
    "* On a computer, go to the YouTube video you want to embed.\n",
    "* Under the video, click Share .\n",
    "* Click Embed.\n",
    "* From the box that appears, copy the HTML code.\n",
    "* Paste the code into your blog or website HTML.\n",
    "\n",
    "For example, for the following youtube video on \"Setting up Python for machine learning: scikit-learn\", I did the same and copied the following HTML code: \n",
    "```\n",
    "<iframe width=\"560\" height=\"315\" src=\"https://www.youtube.com/embed/IsXXlYVBt1M?list=PL0jQ8OgRoVEVrgo7VtYUZvhwJSccjWD1G\" frameborder=\"0\" allowfullscreen></iframe>\n",
    "```\n",
    "which was then pasted in between the single quotes in HTML('')."
   ]
  },
  {
   "cell_type": "code",
   "execution_count": 3,
   "metadata": {},
   "outputs": [
    {
     "data": {
      "text/html": [
       "<iframe width=\"560\" height=\"315\" src=\"https://www.youtube.com/embed/IsXXlYVBt1M?list=PL0jQ8OgRoVEVrgo7VtYUZvhwJSccjWD1G\" frameborder=\"0\" allowfullscreen></iframe>"
      ],
      "text/plain": [
       "<IPython.core.display.HTML object>"
      ]
     },
     "execution_count": 3,
     "metadata": {},
     "output_type": "execute_result"
    }
   ],
   "source": [
    "from IPython.display import HTML\n",
    "\n",
    "# Youtube\n",
    "HTML('<iframe width=\"560\" height=\"315\" src=\"https://www.youtube.com/embed/IsXXlYVBt1M?list=PL0jQ8OgRoVEVrgo7VtYUZvhwJSccjWD1G\" frameborder=\"0\" allowfullscreen></iframe>')\n"
   ]
  },
  {
   "cell_type": "markdown",
   "metadata": {},
   "source": [
    "<a id='blockquotes'></a>\n",
    "### Blockquotes\n",
    "f you need to call special attention to a quote from another source, or design a pull quote for a magazine article, then Markdown's blockquote syntax will be useful. A blockquote is a sentence or paragraph that's been specially formatted to draw attention to the reader. For example: \n",
    "\n",
    ">    \"The sin of doing nothing is the deadliest of all the seven sins. It has been said that for evil men to accomplish their purpose it is only necessary that good men should do nothing.\" \n",
    "\n",
    "To create a block quote, all you have to do is preface a line with the \"greater than\" caret (>). For example:\n",
    "\n",
    "> \"In a few moments he was barefoot, his stockings folded in his pockets and his\n",
    "  canvas shoes dangling by their knotted laces over his shoulders and, picking a\n",
    "  pointed salt-eaten stick out of the jetsam among the rocks, he clambered down\n",
    "  the slope of the breakwater.\"\n",
    "\n",
    "You can also place a caret character on each line of the quote. This is particularly useful if your quote spans multiple paragraphs. For example:\n",
    "\n",
    "> His words seemed to have struck some deep chord in his own nature. Had he spoken\n",
    "of himself, of himself as he was or wished to be? Stephen watched his face for some\n",
    "moments in silence. A cold sadness was there. He had spoken of himself, of his own\n",
    "loneliness which he feared.\n",
    ">\n",
    "> —Of whom are you speaking? Stephen asked at length.\n",
    ">\n",
    "> Cranly did not answer.\n",
    "\n",
    "Notice that even blank lines must contain the caret character. This ensures that the entire blockquote is grouped together. <br />\n",
    "**Block quotes can contain other Markdown elements, such as italics, images, or links.**"
   ]
  },
  {
   "cell_type": "markdown",
   "metadata": {},
   "source": [
    "<a id='lists'></a>\n",
    "### Lists\n",
    "There are two types of lists in the known universe: unordered and ordered. That's a fancy way of saying that there are lists with bullet points, and lists with numbers.\n",
    "\n",
    "To create an unordered list, you'll want to preface each item in the list with an asterisk ( * ). Each list item also gets its own line. For example, a grocery list in Markdown might look like this:\n",
    "```\n",
    "* Milk\n",
    "* Eggs\n",
    "* Salmon\n",
    "* Butter\n",
    "```\n",
    "This Markdown list would render into the following bullet points:\n",
    "* Milk\n",
    "* Eggs\n",
    "* Salmon\n",
    "* Butter"
   ]
  },
  {
   "cell_type": "markdown",
   "metadata": {},
   "source": [
    "All right! That's how you write an unordered list. Now, let's talk about ordered ones.\n",
    "\n",
    "An ordered list is prefaced with numbers, instead of asterisks. Take a look at this recipe:\n",
    "\n",
    "1. Crack three eggs over a bowl\n",
    "2. Pour a gallon of milk into the bowl\n",
    "3. Rub the salmon vigorously with butter\n",
    "4. Drop the salmon into the egg-milk bowl\n",
    "\n",
    "To write that in Markdown, you'd do this:\n",
    "```\n",
    "1. Crack three eggs over a bowl\n",
    "2. Pour a gallon of milk into the bowl\n",
    "3. Rub the salmon vigorously with butter\n",
    "4. Drop the salmon into the egg-milk bowl\n",
    "```\n",
    "Easy, right? It's just like you'd expect a list to look."
   ]
  },
  {
   "cell_type": "markdown",
   "metadata": {},
   "source": [
    "You can choose to add italics, bold, or links within lists, as you might expect. In the box below, turn the latin names for the plants into italics."
   ]
  },
  {
   "cell_type": "markdown",
   "metadata": {},
   "source": [
    "Occasionally, you might find the need to make a list with more depth, or, to nest one list within another. Have no fear, because the Markdown syntax is exactly the same. All you have to do is to remember to indent each asterisk one space more than the preceding item.\n",
    "\n",
    "For example, in the following list, we're going to add some sub-lists to each \"main\" list item, describing the people in detail:\n",
    "```\n",
    "* Tintin\n",
    " * A reporter\n",
    " * Has poofy orange hair\n",
    " * Friends with the world's most awesome dog\n",
    "* Haddock\n",
    " * A sea captain\n",
    " * Has a fantastic beard\n",
    " * Loves whiskey\n",
    "   * Possibly also scotch?\n",
    "```\n",
    "When rendered, this list turns into the following grouping:\n",
    "* Tintin\n",
    " * A reporter\n",
    " * Has poofy orange hair\n",
    " * Friends with the world's most awesome dog\n",
    "* Haddock\n",
    " * A sea captain\n",
    " * Has a fantastic beard\n",
    " * Loves whiskey\n",
    "   * Possibly also scotch?"
   ]
  },
  {
   "cell_type": "markdown",
   "metadata": {},
   "source": [
    "While you could continue to indent and add sub-lists indefinitely, it's usually a good idea to stop after three levels; otherwise, your text becomes a mess.\n",
    "<br />\n",
    "There's one more trick to lists and indentation that we'll explore, and that deals with the case of paragraphs. Suppose you want to create a bullet list that requires some additional context (but not another list). For example, it might look like this: \n",
    "\n",
    "1. Crack three eggs over a bowl.\n",
    "\n",
    " Now, you're going to want to crack the eggs in such a way that you don't make a mess.\n",
    "\n",
    " If you _do_ make a mess, use a towel to clean it up!\n",
    "\n",
    "2. Pour a gallon of milk into the bowl.\n",
    "\n",
    " Basically, take the same guidance as above: don't be messy, but if you are, clean it up!\n",
    "\n",
    "3. Rub the salmon vigorously with butter.\n",
    "\n",
    "   By \"vigorous,\" we mean a strictly vertical motion. Julia Child once quipped:\n",
    "   > Up and down and all around, that's how butter on salmon goes.\n",
    "4. Drop the salmon into the egg-milk bowl.\n",
    "\n",
    "   Here are some techniques on salmon-dropping:\n",
    "\n",
    "   * Make sure no trout or children are present\n",
    "   * Use both hands\n",
    "   * Always have a towel nearby in case of messes"
   ]
  },
  {
   "cell_type": "markdown",
   "metadata": {},
   "source": [
    "To create this sort of text, your paragraph must start on a line all by itself underneath the bullet point, and it must be indented by at least one space. For example, the list above looks like this in Markdown:\n",
    "```\n",
    "1. Crack three eggs over a bowl.\n",
    "\n",
    " Now, you're going to want to crack the eggs in such a way that you don't make a mess.\n",
    "\n",
    " If you _do_ make a mess, use a towel to clean it up!\n",
    "\n",
    "2. Pour a gallon of milk into the bowl.\n",
    "\n",
    " Basically, take the same guidance as above: don't be messy, but if you are, clean it up!\n",
    "\n",
    "3. Rub the salmon vigorously with butter.\n",
    "\n",
    "   By \"vigorous,\" we mean a strictly vertical motion. Julia Child once quipped:\n",
    "   > Up and down and all around, that's how butter on salmon goes.\n",
    "4. Drop the salmon into the egg-milk bowl.\n",
    "\n",
    "   Here are some techniques on salmon-dropping:\n",
    "\n",
    "   * Make sure no trout or children are present\n",
    "   * Use both hands\n",
    "   * Always have a towel nearby in case of messes\n",
    "```  \n",
    "\n",
    "Notice that the first two items have a single space. This looks a bit odd, so you might want to indent properly to match the characters up (like items three and four). In these paragraphs, you can include all sorts of other Markdown elements, like blockquotes, or even other lists!"
   ]
  },
  {
   "cell_type": "markdown",
   "metadata": {},
   "source": [
    "<a id='markdown_paragraphs'></a>\n",
    "## Markdown Paragraphs\n",
    "Markdown has several ways of formatting paragraphs.\n",
    "\n",
    "Let's take a few lines of poetry as an example. Suppose you want to write text that looks like this:\n",
    "\n",
    "Do I contradict myself?<br />\n",
    "Very well then I contradict myself,<br />\n",
    "(I am large, I contain multitudes.)<br />\n",
    "\n",
    "Now, you might think that simply typing each verse onto its own line would be enough to solve the problem:\n",
    "```\n",
    "Do I contradict myself?\n",
    "Very well then I contradict myself,\n",
    "(I am large, I contain multitudes.)\n",
    "```\n",
    "Unfortunately, you'd be wrong! This Markdown would render simply as a single straight line: Do I contradict myself? Very well then I contradict myself, (I am large, I contain multitudes.).\n",
    "\n",
    "If you forcefully insert a new line, you end up breaking the togetherness:\n",
    "```\n",
    "Do I contradict myself?\n",
    "\n",
    "Very well then I contradict myself,\n",
    "\n",
    "(I am large, I contain multitudes.)\n",
    "```\n",
    "This is what's known as a hard break; what our poetry asks for is a soft break. You can accomplish this by inserting two spaces after each new line. This is not possible to see, since spaces are invisible, but it'd look something like this:\n",
    "```\n",
    "Do I contradict myself?··\n",
    "Very well then I contradict myself,··\n",
    "(I am large, I contain multitudes.)\n",
    "```\n",
    "Each dot ( · ) represents a space on the keyboard. Replacing the dots in the above text, the rendering would give us the following:\n",
    "\n",
    "Do I contradict myself?  \n",
    "Very well then I contradict myself,  \n",
    "(I am large, I contain multitudes.)\n",
    "\n",
    "Aside from formatting poetry, one of the common uses for these soft breaks is in formatting paragraphs in lists. Recall in the previous lesson that we inserted a new line for multiple paragraphs within a list."
   ]
  },
  {
   "cell_type": "markdown",
   "metadata": {},
   "source": [
    "<a id='markdown_tables'></a>\n",
    "## Markdown Table\n",
    "[GFM Markdown](http://www.tablesgenerator.com/markdown_tables) table syntax is quite simple. It does not allow row or cell spanning as well as putting multi-line text in a cell. The first row is always the header followed by an extra line with dashes \"-\" and optional colons \":\" for forcing column alignment. \n",
    "\n",
    "| Tables   |      Are      |  Cool |\n",
    "|----------|--------------:|:-----:|\n",
    "| col 1 is |  left-aligned | $1600 |\n",
    "| col 2 is |    centered   |   $12 |\n",
    "| col 3 is | right-aligned |    $1 |"
   ]
  },
  {
   "cell_type": "markdown",
   "metadata": {},
   "source": [
    "<a id='keyboard_shortcuts'></a>\n",
    "## Keyboard Shortcuts\n",
    "|Shortcut  | Action   |\n",
    "|----------|:--------:|\n",
    "|Shift-Enter |\trun cell | \n",
    "|Ctrl-Enter  |\trun cell in-place| \n",
    "|Alt-Enter \t |  run cell, insert below| \n",
    "|Ctrl-m x \t| cut cell| \n",
    "|Ctrl-m c \t|copy cell| \n",
    "|Ctrl-m v \t| paste cell| \n",
    "|Ctrl-m d \t| delete cell| \n",
    "|Ctrl-m z \t| undo last cell deletion| \n",
    "|Ctrl-m - \t| split cell| \n",
    "|Ctrl-m a \t| insert cell above| \n",
    "|Ctrl-m b \t| insert cell below| \n",
    "|Ctrl-m o \t| toggle output| \n",
    "|Ctrl-m O \t| toggle output scroll| \n",
    "|Ctrl-m l \t| toggle line numbers| \n",
    "|Ctrl-m s \t| save notebook| \n",
    "|Ctrl-m j \t| move cell down| \n",
    "|Ctrl-m k \t| move cell up| \n",
    "|Ctrl-m y \t| code cell| \n",
    "|Ctrl-m m \t| markdown cell| \n",
    "|Ctrl-m t \t| raw cell| \n",
    "|Ctrl-m 1-6 | \theading 1-6 cell| \n",
    "|Ctrl-m p \t| select previous| \n",
    "|Ctrl-m n \t| select next| \n",
    "|Ctrl-m i \t| interrupt kernel| \n",
    "|Ctrl-m . \t| restart kernel| \n",
    "|Ctrl-m h \t| show keyboard shortcuts| \n"
   ]
  },
  {
   "cell_type": "markdown",
   "metadata": {},
   "source": [
    "<a id='equations_with_latex'></a>\n",
    "## Equations with LaTeX\n",
    "One can make equations using LaTeX fomulas/syntax inside a pair of dollar signs `'$'`. For example, here are some equations that I could see in a [Chiral Perturbation Theory ($\\chi PT$)](http://localhost:8888/notebooks/GitProj/KPAdhikari/PythonStuff/Physics/Reading_a_intro_doc_on_Chiral_Perturbation_Theory.ipynb) document that I was reading on 9/24/17. Please note that we should leave an empty line if we want two formulas showing up in two different lines.\n",
    "\n",
    "Another idea to put an expression or an equation in a separate line by default/automatically is to put the expression or equation inside a pair of double dollar signs, such that even if we have the equation/expression written in the same line as other text in the raw markdown code, the rendering would show the expression or equation in a separate line. For example, the markdown code of the following expression is writtine in this same line (without an empty line in between): $$ a = Just\\_To\\_Demonstrate\\_the\\_Effect\\_of\\_double\\_dollar\\_pair $$\n",
    "\n",
    "#### Equation 4:\n",
    "\n",
    "$\\mathcal{L}_{QCD} = \\mathcal{L}^0_{QCD} - \\mathcal{L}^m_{QCD} + ..., $\n",
    "\n",
    "$\\mathcal{L}^0_{QCD} = - \\frac{1}{2} Tr G^{\\alpha}_{\\mu\\nu}G^{\\mu\\nu,\\alpha} + i \\bar{q_L} \\slashed{D} q_L + i \\bar{q_R} \\slashed{D} q_R.$\n",
    "\n",
    "$\\mathcal{L}^m_{QCD} = \\bar{q_L} \\mathcal{M} q_R + \\bar{q_R} \\mathcal{M}^{\\dagger} q_L, \\quad$     .................. (4)\n",
    "\n",
    "#### Equation 5:\n",
    "$(q_L,q_R) \\longrightarrow (L_{q_L}, R_{q_R}), \\quad\\quad  L, R \\in U(3)_{L,R}.$\n",
    "\n",
    "As the masses of the three light quarks are small on the typical hadronic scale,\n",
    "\n",
    "$m_{u,d,s} \\ll 1 GeV  \\approx \\Lambda_{hadr}, $\n",
    "\n",
    "The $U(1)_A$ current $A^{\\mu,0} = \\bar{q}\\gamma_{\\mu}\\gamma_5 q$ is broken by quantum effects - the $U(1)_A$ anomaly (kp: [Axial Anomaly](http://www.ecm.ub.es/~espriu/teaching/doctorat/standard_model/SM_lect5.pdf)?) - and is not conserved current of the quantum theory.\n",
    "\n",
    "**References:** \n",
    "* https://tex.stackexchange.com/questions/225523/how-to-write-partial-differential-equation-ex-dq-dt-ds-dt-with-real-partial-d curly (\\delta - $\\delta$) and partial (\\partial - $\\partial$) deltas.\n",
    "* $\\mathscr{H}$ \\mathscr{H}: https://tex.stackexchange.com/questions/212050/looking-for-stylized-h-symbol\n",
    "\n",
    "**Spaces in mathematical mode.**\n",
    "```\n",
    "$\n",
    "\\begin{align*}\n",
    "f(x) =& x^2\\! +3x\\! +2 \\\\\n",
    "f(x) =& x^2+3x+2 \\\\\n",
    "f(x) =& x^2\\, +3x\\, +2 \\\\\n",
    "f(x) =& x^2\\: +3x\\: +2 \\\\\n",
    "f(x) =& x^2\\; +3x\\; +2 \\\\\n",
    "f(x) =& x^2\\ +3x\\ +2 \\\\\n",
    "f(x) =& x^2\\quad +3x\\quad +2 \\\\\n",
    "f(x) =& x^2\\qquad +3x\\qquad +2\n",
    "\\end{align*}\n",
    "$\n",
    "```\n",
    "which will result in the following:\n",
    "\n",
    "$\n",
    "\\begin{align*}\n",
    "f(x) =& x^2\\! +3x\\! +2 \\\\\n",
    "f(x) =& x^2+3x+2 \\\\\n",
    "f(x) =& x^2\\, +3x\\, +2 \\\\\n",
    "f(x) =& x^2\\: +3x\\: +2 \\\\\n",
    "f(x) =& x^2\\; +3x\\; +2 \\\\\n",
    "f(x) =& x^2\\ +3x\\ +2 \\\\\n",
    "f(x) =& x^2\\quad +3x\\quad +2 \\\\\n",
    "f(x) =& x^2\\qquad +3x\\qquad +2\n",
    "\\end{align*}\n",
    "$"
   ]
  },
  {
   "cell_type": "markdown",
   "metadata": {},
   "source": [
    "### Matrices\n",
    "\n",
    "References: \n",
    "* https://tex.stackexchange.com/questions/69997/how-to-write-an-m%E2%A8%89n-matrix-in-latex\n",
    "* https://math-linux.com/latex-26/faq/latex-faq/article/how-to-write-matrices-in-latex-matrix-pmatrix-bmatrix-vmatrix-vmatrix\n",
    "\n",
    "\n",
    "\n",
    "\\begin{equation}\n",
    "R^2 = \n",
    "\\begin{pmatrix} c & s \\end{pmatrix} \n",
    "\\begin{pmatrix} 1 & 0\\\\ 0 & 1 \\end{pmatrix}\n",
    "\\begin{pmatrix} c \\\\ s \\end{pmatrix} \n",
    "= c^2 + s^2\n",
    "\\end{equation}\n",
    "\n",
    "You must use the following package:\n",
    "\\usepackage{amsmath}\n",
    "\n",
    "Exemple:\n",
    "$$\n",
    "\\begin{matrix}\n",
    "a & b \\\\\n",
    "c & d\n",
    "\\end{matrix}\n",
    "\\quad\n",
    "\\begin{pmatrix}\n",
    "a & b \\\\\n",
    "c & d\n",
    "\\end{pmatrix}\n",
    "\\quad\n",
    "\\begin{bmatrix}\n",
    "a & b \\\\\n",
    "c & d\n",
    "\\end{bmatrix}\n",
    "\\quad\n",
    "\\begin{vmatrix}\n",
    "a & b \\\\\n",
    "c & d\n",
    "\\end{vmatrix}\n",
    "\\quad\n",
    "\\begin{Vmatrix}\n",
    "a & b \\\\\n",
    "c & d\n",
    "\\end{Vmatrix}\n",
    "$$\n",
    "\n"
   ]
  },
  {
   "cell_type": "markdown",
   "metadata": {},
   "source": [
    "### Arrow Symbols in Standard $\\LaTeX$\n",
    "Reference : http://garsia.math.yorku.ca/MPWP/LATEXmath/node9.html\n",
    "\n",
    "|                  |                       |                           |\n",
    "|------------------|----------------------:|:-------------------------:| \n",
    "|$\\leftarrow$ \\leftarrow, |  $\\rightarrow$ \\rightarrow  |   $\\uparrow$ \\uparrow |\n",
    "|$\\longleftarrow$ \\longleftarrow, |  $\\longrightarrow$ \\longrightarrow  |   $\\downarrow$ \\downarrow|\n",
    "|$\\Leftarrow$ \\Leftarrow, |  $\\Rightarrow$ \\Rightarrow  |   $\\Uparrow$ \\Uparrow |\n",
    "|$\\Longleftarrow$ \\Longleftarrow, |  $\\Longrightarrow$ \\Longrightarrow  |   $\\Downarrow$ \\Downarrow |\n",
    "|$\\leftrightarrow$ \\leftrightarrow, |  $\\longleftrightarrow$ \\longleftrightarrow  |   $\\updownarrow$ \\updownarrow |\n",
    "|$\\Leftrightarrow$ \\Leftrightarrow, |  $\\Longleftrightarrow$ \\Longleftrightarrow  |   $\\Updownarrow$ \\Updownarrow |\n",
    "|$\\mapsto$ \\mapsto | $\\longmapsto$   \\longmapsto  |  $\\nearrow$ \\nearrow|\n",
    "|$\\hookleftarrow$ \\hookelftarrow | $\\hookrightarrow$ \\hookrightarrow | $\\searrow$ \\searrow |\n",
    "|$\\leftharpoonup$ \\leftharpoonup | $\\rightharpoonup$ \\rightharpoonup | $\\swarrow$ \\swarrow |\n",
    "|$\\leftharpoondown$ \\leftharpoondown | $\\rightharpoondown$ \\rightharpoondown | $\\nwarrow$ \\nwarrow |"
   ]
  },
  {
   "cell_type": "markdown",
   "metadata": {},
   "source": [
    "<a id='magics'></a>\n",
    "## Magics\n",
    "**Reference:** \n",
    "* https://medium.com/towards-data-science/jupyter-notebook-hints-1f26b08429ad\n",
    "* http://www.dummies.com/programming/python/common-ipython-magic-functions/ \n",
    "\n",
    "Magics are turning simple python into magical python. Magics are the key to power of ipython.\n",
    "\n",
    "It’s kind of amazing to think that IPython provides you with magic, but that’s precisely what you get with the magic functions. A magic function begins with either a % or %% sign. Those with a % sign work within the environment, and those with a %% sign work at the cell level.\n",
    "\n",
    "To obtain a full listing, type **%quickref** and press Enter in the IPython console or check out the [full listing](https://damontallen.github.io/IPython-quick-ref-sheets/)."
   ]
  },
  {
   "cell_type": "code",
   "execution_count": 1,
   "metadata": {},
   "outputs": [
    {
     "data": {
      "application/json": {
       "cell": {
        "!": "OSMagics",
        "HTML": "Other",
        "SVG": "Other",
        "bash": "Other",
        "capture": "ExecutionMagics",
        "debug": "ExecutionMagics",
        "file": "Other",
        "html": "DisplayMagics",
        "javascript": "DisplayMagics",
        "js": "DisplayMagics",
        "latex": "DisplayMagics",
        "perl": "Other",
        "prun": "ExecutionMagics",
        "pypy": "Other",
        "python": "Other",
        "python2": "Other",
        "python3": "Other",
        "ruby": "Other",
        "script": "ScriptMagics",
        "sh": "Other",
        "svg": "DisplayMagics",
        "sx": "OSMagics",
        "system": "OSMagics",
        "time": "ExecutionMagics",
        "timeit": "ExecutionMagics",
        "writefile": "OSMagics"
       },
       "line": {
        "alias": "OSMagics",
        "alias_magic": "BasicMagics",
        "autocall": "AutoMagics",
        "automagic": "AutoMagics",
        "autosave": "KernelMagics",
        "bookmark": "OSMagics",
        "cat": "Other",
        "cd": "OSMagics",
        "clear": "KernelMagics",
        "colors": "BasicMagics",
        "config": "ConfigMagics",
        "connect_info": "KernelMagics",
        "cp": "Other",
        "debug": "ExecutionMagics",
        "dhist": "OSMagics",
        "dirs": "OSMagics",
        "doctest_mode": "BasicMagics",
        "ed": "Other",
        "edit": "KernelMagics",
        "env": "OSMagics",
        "gui": "BasicMagics",
        "hist": "Other",
        "history": "HistoryMagics",
        "killbgscripts": "ScriptMagics",
        "ldir": "Other",
        "less": "KernelMagics",
        "lf": "Other",
        "lk": "Other",
        "ll": "Other",
        "load": "CodeMagics",
        "load_ext": "ExtensionMagics",
        "loadpy": "CodeMagics",
        "logoff": "LoggingMagics",
        "logon": "LoggingMagics",
        "logstart": "LoggingMagics",
        "logstate": "LoggingMagics",
        "logstop": "LoggingMagics",
        "ls": "Other",
        "lsmagic": "BasicMagics",
        "lx": "Other",
        "macro": "ExecutionMagics",
        "magic": "BasicMagics",
        "man": "KernelMagics",
        "matplotlib": "PylabMagics",
        "mkdir": "Other",
        "more": "KernelMagics",
        "mv": "Other",
        "notebook": "BasicMagics",
        "page": "BasicMagics",
        "pastebin": "CodeMagics",
        "pdb": "ExecutionMagics",
        "pdef": "NamespaceMagics",
        "pdoc": "NamespaceMagics",
        "pfile": "NamespaceMagics",
        "pinfo": "NamespaceMagics",
        "pinfo2": "NamespaceMagics",
        "popd": "OSMagics",
        "pprint": "BasicMagics",
        "precision": "BasicMagics",
        "profile": "BasicMagics",
        "prun": "ExecutionMagics",
        "psearch": "NamespaceMagics",
        "psource": "NamespaceMagics",
        "pushd": "OSMagics",
        "pwd": "OSMagics",
        "pycat": "OSMagics",
        "pylab": "PylabMagics",
        "qtconsole": "KernelMagics",
        "quickref": "BasicMagics",
        "recall": "HistoryMagics",
        "rehashx": "OSMagics",
        "reload_ext": "ExtensionMagics",
        "rep": "Other",
        "rerun": "HistoryMagics",
        "reset": "NamespaceMagics",
        "reset_selective": "NamespaceMagics",
        "rm": "Other",
        "rmdir": "Other",
        "run": "ExecutionMagics",
        "save": "CodeMagics",
        "sc": "OSMagics",
        "set_env": "OSMagics",
        "store": "StoreMagics",
        "sx": "OSMagics",
        "system": "OSMagics",
        "tb": "ExecutionMagics",
        "time": "ExecutionMagics",
        "timeit": "ExecutionMagics",
        "unalias": "OSMagics",
        "unload_ext": "ExtensionMagics",
        "who": "NamespaceMagics",
        "who_ls": "NamespaceMagics",
        "whos": "NamespaceMagics",
        "xdel": "NamespaceMagics",
        "xmode": "BasicMagics"
       }
      },
      "text/plain": [
       "Available line magics:\n",
       "%alias  %alias_magic  %autocall  %automagic  %autosave  %bookmark  %cat  %cd  %clear  %colors  %config  %connect_info  %cp  %debug  %dhist  %dirs  %doctest_mode  %ed  %edit  %env  %gui  %hist  %history  %killbgscripts  %ldir  %less  %lf  %lk  %ll  %load  %load_ext  %loadpy  %logoff  %logon  %logstart  %logstate  %logstop  %ls  %lsmagic  %lx  %macro  %magic  %man  %matplotlib  %mkdir  %more  %mv  %notebook  %page  %pastebin  %pdb  %pdef  %pdoc  %pfile  %pinfo  %pinfo2  %popd  %pprint  %precision  %profile  %prun  %psearch  %psource  %pushd  %pwd  %pycat  %pylab  %qtconsole  %quickref  %recall  %rehashx  %reload_ext  %rep  %rerun  %reset  %reset_selective  %rm  %rmdir  %run  %save  %sc  %set_env  %store  %sx  %system  %tb  %time  %timeit  %unalias  %unload_ext  %who  %who_ls  %whos  %xdel  %xmode\n",
       "\n",
       "Available cell magics:\n",
       "%%!  %%HTML  %%SVG  %%bash  %%capture  %%debug  %%file  %%html  %%javascript  %%js  %%latex  %%perl  %%prun  %%pypy  %%python  %%python2  %%python3  %%ruby  %%script  %%sh  %%svg  %%sx  %%system  %%time  %%timeit  %%writefile\n",
       "\n",
       "Automagic is ON, % prefix IS NOT needed for line magics."
      ]
     },
     "execution_count": 1,
     "metadata": {},
     "output_type": "execute_result"
    }
   ],
   "source": [
    "# list available python magics\n",
    "%lsmagic"
   ]
  },
  {
   "cell_type": "code",
   "execution_count": 15,
   "metadata": {
    "collapsed": true
   },
   "outputs": [],
   "source": [
    "%quickref"
   ]
  },
  {
   "cell_type": "markdown",
   "metadata": {},
   "source": [
    "```\n",
    "Magic Function \tType Alone Provides Status? \tDescription\n",
    "%%timeit \t     No \t  Calculates the best time performance for all the instructions\n",
    "                          in a cell, apart from the one placed on the same cell line as the\n",
    "                          cell magic (which could therefore be an initializationinstruction).\n",
    "%%writefile \tNo \tWrites the contents of a cell to the specified file.\n",
    "%alias \tYes \tAssigns or displays an alias for a system command.\n",
    "%autocall \tYes \tMakes it possible to call functions without including the\n",
    "parentheses. The settings are Off, Smart (default), and Full. The\n",
    "Smart setting applies the parentheses only if you include an\n",
    "argument with the call.\n",
    "%automagic \tYes \tMakes it possible to call the line magic functions without\n",
    "including the % sign. The settings are False (default) and\n",
    "True.\n",
    "%cd \tYes \tChanges directory to a new storage location. You can also use\n",
    "this command to move through the directory history or to change\n",
    "directories to a bookmark.\n",
    "%cls \tNo \tClears the screen.\n",
    "%colors \tNo \tSpecifies the colors used to display text associated with\n",
    "prompts, the information system, and exception handlers. You can\n",
    "choose between NoColor (black and white), Linux (default), and\n",
    "LightBG.\n",
    "%config \tYes \tMakes it possible to configure IPython.\n",
    "%dhist \tYes \tDisplays a list of directories visited during the current\n",
    "session.\n",
    "%file \tNo \tOutputs the name of the file that contains the source code for\n",
    "the object.\n",
    "%hist \tYes \tDisplays a list of magic function commands issued during the\n",
    "current session.\n",
    "%install_ext \tNo \tInstalls the specified extension.\n",
    "%load \tNo \tLoads application code from another source, such as an online\n",
    "example.\n",
    "%load_ext \tNo \tLoads a Python extension using its module name.\n",
    "%lsmagic \tYes \tDisplays a list of the currently available magic\n",
    "functions.\n",
    "%matplotlib \tYes \tSets the backend processor used for plots. Using the inline\n",
    "value displays the plot within the cell for an IPython Notebook\n",
    "file. The possible values are: gtk’, ‘gtk3’,\n",
    "‘inline’, ‘nbagg’, ‘osx’,\n",
    "‘qt’, ‘qt4’, ‘qt5’,\n",
    "‘tk’, and ‘wx’.\n",
    "%paste \tNo \tPastes the content of the clipboard into the IPython\n",
    "environment.\n",
    "%pdef \tNo \tShows how to call the object (assuming that the object is\n",
    "callable).\n",
    "%pdoc \tNo \tDisplays the docstring for an object.\n",
    "%pinfo \tNo \tDisplays detailed information about the object (often more than\n",
    "provided by help alone).\n",
    "%pinfo2 \tNo \tDisplays extra detailed information about the object (when\n",
    "available).\n",
    "%reload_ext \tNo \tReloads a previously installed extension.\n",
    "%source \tNo \tDisplays the source code for the object (assuming that the\n",
    "source is available).\n",
    "%timeit \tNo \tCalculates the best performance time for an instruction.\n",
    "%unalias \tNo \tRemoves a previously created alias from the list.\n",
    "%unload_ext \tNo \tUnloads the specified extension.\n",
    "```"
   ]
  },
  {
   "cell_type": "markdown",
   "metadata": {},
   "source": [
    "### %env\n",
    "\n",
    "You can manage environment variables of your notebook without restarting the jupyter server process. Some libraries (like theano) use environment variables to control behavior, %env is the most convenient way."
   ]
  },
  {
   "cell_type": "code",
   "execution_count": 3,
   "metadata": {},
   "outputs": [
    {
     "name": "stdout",
     "output_type": "stream",
     "text": [
      "env: OMP_NUM_THREADS=4\n"
     ]
    }
   ],
   "source": [
    "# %env - without arguments lists environmental variables\n",
    "%env OMP_NUM_THREADS=4"
   ]
  },
  {
   "cell_type": "markdown",
   "metadata": {},
   "source": [
    "<a id='executing_shell_commands'></a>\n",
    "## Executing shell commands\n",
    "\n",
    "You can **call any shell command (kp: using the exclamation mark '!' in the front?)**. This in particular useful to manage your virtual environment."
   ]
  },
  {
   "cell_type": "code",
   "execution_count": 4,
   "metadata": {},
   "outputs": [
    {
     "name": "stdout",
     "output_type": "stream",
     "text": [
      "Pandas Tutorial walkthrough 3.ipynb  myPandasTutorialWalkthrough1.ipynb\r\n",
      "\u001b[34mScikitLearn\u001b[m\u001b[m                          pandas_tutorial_on_stock_price.ipynb\r\n",
      "foo.csv                              pandas_tutorial_on_stock_price.py\r\n",
      "jupyter_architecture.png             python_pandas_notebook.ipynb\r\n",
      "jupyter_stocks.ipynb                 readme.txt\r\n",
      "myFirstNotebook_kpa.ipynb\r\n"
     ]
    }
   ],
   "source": [
    "!ls"
   ]
  },
  {
   "cell_type": "code",
   "execution_count": 5,
   "metadata": {},
   "outputs": [
    {
     "name": "stdout",
     "output_type": "stream",
     "text": [
      "/bin/sh: pip: command not found\n",
      "/bin/sh: pip: command not found\n"
     ]
    }
   ],
   "source": [
    "!pip install numpy\n",
    "!pip list | grep Theano"
   ]
  },
  {
   "cell_type": "code",
   "execution_count": 6,
   "metadata": {},
   "outputs": [
    {
     "name": "stdout",
     "output_type": "stream",
     "text": [
      "Requirement already satisfied: numpy in /usr/local/lib/python2.7/site-packages\n",
      "\u001b[31mDEPRECATION: The default format will switch to columns in the future. You can use --format=(legacy|columns) (or define a format=(legacy|columns) in your pip.conf under the [list] section) to disable this warning.\u001b[0m\n"
     ]
    }
   ],
   "source": [
    "!pip2 install numpy\n",
    "!pip2 list | grep Theano"
   ]
  },
  {
   "cell_type": "code",
   "execution_count": 7,
   "metadata": {},
   "outputs": [
    {
     "name": "stdout",
     "output_type": "stream",
     "text": [
      "Requirement already satisfied: numpy in /usr/local/lib/python3.6/site-packages\n",
      "\u001b[31mDEPRECATION: The default format will switch to columns in the future. You can use --format=(legacy|columns) (or define a format=(legacy|columns) in your pip.conf under the [list] section) to disable this warning.\u001b[0m\n"
     ]
    }
   ],
   "source": [
    "!pip3 install numpy\n",
    "!pip3 list | grep Theano"
   ]
  },
  {
   "cell_type": "markdown",
   "metadata": {},
   "source": [
    "## Suppress output of last line\n",
    "\n",
    "Sometimes output isn’t needed, so we can either use pass instruction on new line or semicolon at the end."
   ]
  },
  {
   "cell_type": "code",
   "execution_count": 8,
   "metadata": {
    "collapsed": true
   },
   "outputs": [],
   "source": [
    "%matplotlib inline\n",
    "from matplotlib import pyplot as plt\n",
    "import numpy"
   ]
  },
  {
   "cell_type": "code",
   "execution_count": 9,
   "metadata": {},
   "outputs": [
    {
     "data": {
      "image/png": "[encoded data removed]",
      "text/plain": [
       "<matplotlib.figure.Figure at 0x10f923bd0>"
      ]
     },
     "metadata": {},
     "output_type": "display_data"
    }
   ],
   "source": [
    "# if you don't put semicolon at the end, you'll have output of function printed\n",
    "plt.hist(numpy.linspace(0, 1, 1000)**1.5);"
   ]
  },
  {
   "cell_type": "markdown",
   "metadata": {},
   "source": [
    "## See the source of python functions / classes / whatever with question mark (?, ??)\n"
   ]
  },
  {
   "cell_type": "code",
   "execution_count": 10,
   "metadata": {},
   "outputs": [
    {
     "name": "stderr",
     "output_type": "stream",
     "text": [
      "/usr/local/lib/python2.7/site-packages/sklearn/cross_validation.py:44: DeprecationWarning: This module was deprecated in version 0.18 in favor of the model_selection module into which all the refactored classes and functions are moved. Also note that the interface of the new CV iterators are different from that of this module. This module will be removed in 0.20.\n",
      "  \"This module will be removed in 0.20.\", DeprecationWarning)\n"
     ]
    }
   ],
   "source": [
    "from sklearn.cross_validation import train_test_split\n",
    "# show the sources of train_test_split function in the pop-up window\n",
    "train_test_split??"
   ]
  },
  {
   "cell_type": "markdown",
   "metadata": {},
   "source": [
    "The following will output in the pop-up window:"
   ]
  },
  {
   "cell_type": "code",
   "execution_count": 12,
   "metadata": {
    "collapsed": true
   },
   "outputs": [],
   "source": [
    "# you can use ? to get details about magics, for instance:\n",
    "%pycat?"
   ]
  },
  {
   "cell_type": "markdown",
   "metadata": {},
   "source": [
    "## Congratulations!\n",
    "\n",
    "You’ve completed all the lessons!\n",
    "\n",
    "Believe it or not, we’ve only just begun exploring what can be accomplished with Markdown. There are many “extended” implementations of Markdown that support formats like tables, definition lists, footnotes, and more. Because they’re non-standard, they’re not essential to learning the basics, as we’ve introduced here.\n",
    "\n",
    "If you’d like to know more about these Markdown implementations, you’re welcome to explore any number of other Markdown apps and tutorials. Here are just a few:\n",
    "\n",
    "   [Wikipedia](http://en.wikipedia.org/wiki/Markdown#Example)\n",
    "   [Commonmark](http://spec.commonmark.org/dingus/)\n",
    "   [John MacFarlane](http://johnmacfarlane.net/babelmark2/faq.html)\n",
    "   [I Would Rather Be Writing](http://idratherbewriting.com/2013/06/04/exploring-markdown-in-collaborative-authoring-to-publishing-workflows/)"
   ]
  },
  {
   "cell_type": "markdown",
   "metadata": {
    "collapsed": true
   },
   "source": [
    "<a id='references'></a>\n",
    "## Some References\n",
    "* https://medium.com/towards-data-science/jupyter-notebook-hints-1f26b08429ad Boost Your Jupyter Notebook Productivity (Jupyter (IPython) notebooks features)\n",
    "\n",
    "\n",
    "<a id='the_end'></a>\n",
    "## The End\n",
    "**<span style=\"color:red\">Ta da! You've learned all there is to creating blockquotes in Markdown!</span>**"
   ]
  },
  {
   "cell_type": "code",
   "execution_count": null,
   "metadata": {
    "collapsed": true
   },
   "outputs": [],
   "source": []
  }
 ],
 "metadata": {
  "kernelspec": {
   "display_name": "Python 3",
   "language": "python",
   "name": "python3"
  },
  "language_info": {
   "codemirror_mode": {
    "name": "ipython",
    "version": 2
   },
   "file_extension": ".py",
   "mimetype": "text/x-python",
   "name": "python",
   "nbconvert_exporter": "python",
   "pygments_lexer": "ipython2",
   "version": "2.7.13"
  }
 },
 "nbformat": 4,
 "nbformat_minor": 2
}
