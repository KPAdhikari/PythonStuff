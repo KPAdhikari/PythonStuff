{
 "cells": [
  {
   "cell_type": "markdown",
   "metadata": {},
   "source": [
    "# Krishna P. Adhikari's first IPython/Jupyter Notebook"
   ]
  },
  {
   "cell_type": "markdown",
   "metadata": {},
   "source": [
    "Created on 7/24/17.\n",
    "Here I plan to put stuff that I learn (usages and aspects/features) or play with while trying the Jupyter Notebook.\n",
    "I am starting with the this youtube video tutorial https://www.youtube.com/watch?v=EEEZX_0FMEc\n",
    "And, I also started seeing this short video https://www.youtube.com/watch?v=jZ952vChhuI but haven't finished it yet because I felt sleepy (2:18 am). Will continue later."
   ]
  },
  {
   "cell_type": "markdown",
   "metadata": {},
   "source": [
    "## Now I am able to run ROOT Notebook too\n",
    "I wasn't able to setup and run ROOT notebook before now (7/26/17) I am able to do so.\n",
    "\n",
    "Before, I was able to have only the Python 3 notebooks by running either 'jupyter notebook' or 'ipython notebook' on the terminal (I think, it relied on my earlier Anaconda installation).\n",
    "\n",
    "Then it gave me a link (for the notebook server) that started with http://localhost:8888/ (such as http://localhost:8888/tree/GitProj/KPAdhikari/PythonStuff/IPython_Jupyter_Notebooks#notebooks) and when pasted on the browser, I could see the web interface for the folders and files for the notebooks. \n",
    "The web interface It gave me the Jupyter logo at the top left corner. And, on the Files tab, when clicked on New (on the right, next to Upload), it showed the following list of uptions:  \n",
    "\n",
    "  Text File, Folder, Terminal, Notebooks, Python3\n",
    "  \n",
    "  \n",
    "But, today (7/26/17), I landed on this page: https://github.com/jupyter/jupyter/wiki/Jupyter-kernels (I was lead to this from https://stackoverflow.com/questions/40917409/using-jupyter-notebook-for-java, while trying to find how I could use Java in a notebook) with the list of links to available Jupyter kernels that enables notebooks for other languages. \n",
    "\n",
    "Then, I clicked on the [ROOT](https://github.com/root-project/root/tree/master/bindings/pyroot/JupyROOT) link which asked me to do the following:\n",
    "\n",
    "### Installation\n",
    "* [Install ROOT6](https://root.cern.ch/building-root) (> 6.05)\n",
    "\n",
    " * Since I had already installed it and used it before for some other regular ROOT uses, I simply made sure I had it's environments enabled properly. For this I opened the **~/.bashrc** file and enabled the following aliases: \n",
    " \n",
    "   * **alias root6env=\"source /opt/local/libexec/root6/bin/thisroot.sh\"**\n",
    "   * **alias root6=\"root6load; root6env\"**\n",
    "   \n",
    "   And, Finally, executed 'root6' from the terminal to ensure it is active for the current terminal and checked if ROOTSYS variable was showing the proper value\n",
    "   \n",
    "* Install dependencies: **pip install jupyter metakernel**\n",
    "\n",
    "### Start using ROOTbooks\n",
    "\n",
    "Set up the ROOT environment (. $ROOTSYS/bin/thisroot.[c]sh) and type in your shell:\n",
    "```\n",
    "root --notebook\n",
    "```\n",
    "This started a ROOT-flavoured notebook server in your computer. The server had the URL that started with http://localhost:8889/ such as http://localhost:8889/?token=43053e76521ea6d1381ce4581075940a77669f2282822b60 (8889 was because 8888 was already in use because I was also running 'jupyter notebook' on another terminal. When I tried killing both and rerunning only 'root --notebook', it now opened with the the port number 8888 instead of 8889) which when copied/pasted into the broswer, I could see folders similar to what was seen before but now with a ROOT logo instead of the Jupyter logo and when the 'New' button was clicked, it showed an additional option of 'ROOT C++' below 'Python 3'."
   ]
  },
  {
   "cell_type": "markdown",
   "metadata": {},
   "source": [
    "## Table of Contents (TOC)\n",
    "* [About Markdown](#about_markdown)\n",
    "* [Keyboard Shortcuts](#keyboard_shortcuts)\n",
    "* [Colored Text Using HTML `<span>`](#colored_text)\n",
    "* [Appendix](#appendix)\n",
    "* [Links](#links)\n",
    "* [Lists](#lists)\n",
    "* [Images](#images)\n",
    "* [Markdown Paragraphs](#markdown_paragraphs)\n",
    "* [Markdown Tables](#markdown_tables)\n",
    "* [Trying Pandas](#trying_pandas)\n",
    "* [The End](#the_end)"
   ]
  },
  {
   "cell_type": "markdown",
   "metadata": {},
   "source": [
    "## Jupyter Architecture\n",
    "![Jupyter Architecture](jupyter_architecture.png)"
   ]
  },
  {
   "cell_type": "markdown",
   "metadata": {},
   "source": [
    "Notebook server runs (or is started) on the terminal <br />\n",
    "The notebook that we see here (in the browser tab) is the Graphical User Interface of the IPython/Jupyter (Notebook). <br />\n",
    "See above youtube video for more information."
   ]
  },
  {
   "cell_type": "markdown",
   "metadata": {},
   "source": [
    "<a id='about_markdown'></a>\n",
    "## About Markdown\n",
    "Didn't know much about Markdown and so I googled about it. Here is what I found (http://jupyter-notebook.readthedocs.io/en/latest/examples/Notebook/Working%20With%20Markdown%20Cells.html) which says the following as a quick intro:"
   ]
  },
  {
   "cell_type": "markdown",
   "metadata": {},
   "source": [
    "Text can be added to Jupyter Notebooks using Markdown cells. Markdown is a popular markup language that is a superset of HTML. (For more on Markdown, please go below to [Appendix](#appendix)).\n",
    "\n",
    "[Markedown cheat-sheet](https://beegit.com/markdown-cheat-sheet)\n",
    "\n",
    "<a id='trying_pandas'></a>\n",
    "## Trying pandas"
   ]
  },
  {
   "cell_type": "markdown",
   "metadata": {},
   "source": [
    "KP: ########\n",
    "I got the following import error when I tried 'import pandas.io.data' below:\n",
    "ImportError: The pandas.io.data module is moved to a separate package (pandas-datareader). After installing the pandas-datareader package (https://github.com/pandas-dev/pandas-datareader), you can change the import ``from pandas.io import data, wb`` to ``from pandas_datareader import data, wb``.\n",
    "\n",
    "So, I googled about it and landed on http://toro-quant.blogspot.com/2016/01/the-pandasiodata-module-is-moved-to.html, which said the following:\n",
    "\n",
    "OK for those of you who encounter above warning, it means you use the old way calling Pandas library and this is the right way to do:\n",
    "\n",
    "https://github.com/pydata/pandas-datareader\n",
    "\n",
    "$ pip install pandas-datareader\n",
    "\n",
    "from pandas.io import data, wb # becomes\n",
    "from pandas_datareader import data, wb\n",
    "###########\n",
    "So, I tried 'pip3' instead of 'pip' install pandas-datareader (because I knew I was using python3 and we need pip3 for it).\n",
    "That alone didn't work.\n",
    "I also installed the same using 'pip', restarted the jupyter server and refreshed the page and it worked with \"import pandas_datareader.data as web\".\n",
    "In the end it gave me the table"
   ]
  },
  {
   "cell_type": "code",
   "execution_count": 1,
   "metadata": {
    "scrolled": true
   },
   "outputs": [
    {
     "data": {
      "text/html": [
       "<div>\n",
       "<style>\n",
       "    .dataframe thead tr:only-child th {\n",
       "        text-align: right;\n",
       "    }\n",
       "\n",
       "    .dataframe thead th {\n",
       "        text-align: left;\n",
       "    }\n",
       "\n",
       "    .dataframe tbody tr th {\n",
       "        vertical-align: top;\n",
       "    }\n",
       "</style>\n",
       "<table border=\"1\" class=\"dataframe\">\n",
       "  <thead>\n",
       "    <tr style=\"text-align: right;\">\n",
       "      <th></th>\n",
       "      <th>Open</th>\n",
       "      <th>High</th>\n",
       "      <th>Low</th>\n",
       "      <th>Close</th>\n",
       "      <th>Volume</th>\n",
       "    </tr>\n",
       "    <tr>\n",
       "      <th>Date</th>\n",
       "      <th></th>\n",
       "      <th></th>\n",
       "      <th></th>\n",
       "      <th></th>\n",
       "      <th></th>\n",
       "    </tr>\n",
       "  </thead>\n",
       "  <tbody>\n",
       "    <tr>\n",
       "      <th>2015-01-02</th>\n",
       "      <td>111.39</td>\n",
       "      <td>111.44</td>\n",
       "      <td>107.35</td>\n",
       "      <td>109.33</td>\n",
       "      <td>53204626</td>\n",
       "    </tr>\n",
       "    <tr>\n",
       "      <th>2015-01-05</th>\n",
       "      <td>108.29</td>\n",
       "      <td>108.65</td>\n",
       "      <td>105.41</td>\n",
       "      <td>106.25</td>\n",
       "      <td>64285491</td>\n",
       "    </tr>\n",
       "    <tr>\n",
       "      <th>2015-01-06</th>\n",
       "      <td>106.54</td>\n",
       "      <td>107.43</td>\n",
       "      <td>104.63</td>\n",
       "      <td>106.26</td>\n",
       "      <td>65797116</td>\n",
       "    </tr>\n",
       "    <tr>\n",
       "      <th>2015-01-07</th>\n",
       "      <td>107.20</td>\n",
       "      <td>108.20</td>\n",
       "      <td>106.70</td>\n",
       "      <td>107.75</td>\n",
       "      <td>40105934</td>\n",
       "    </tr>\n",
       "    <tr>\n",
       "      <th>2015-01-08</th>\n",
       "      <td>109.23</td>\n",
       "      <td>112.15</td>\n",
       "      <td>108.70</td>\n",
       "      <td>111.89</td>\n",
       "      <td>59364547</td>\n",
       "    </tr>\n",
       "  </tbody>\n",
       "</table>\n",
       "</div>"
      ],
      "text/plain": [
       "              Open    High     Low   Close    Volume\n",
       "Date                                                \n",
       "2015-01-02  111.39  111.44  107.35  109.33  53204626\n",
       "2015-01-05  108.29  108.65  105.41  106.25  64285491\n",
       "2015-01-06  106.54  107.43  104.63  106.26  65797116\n",
       "2015-01-07  107.20  108.20  106.70  107.75  40105934\n",
       "2015-01-08  109.23  112.15  108.70  111.89  59364547"
      ]
     },
     "execution_count": 1,
     "metadata": {},
     "output_type": "execute_result"
    }
   ],
   "source": [
    "import pandas as pd\n",
    "import pandas.io\n",
    "#import pandas.io.data\n",
    "#import pandas.io.data as web\n",
    "#from pandas_datareader import data, web\n",
    "import pandas_datareader.data as web\n",
    "import datetime\n",
    "import matplotlib\n",
    "#matplotlib.style.use('ggplot')\n",
    "\n",
    "#df is for data-frame\n",
    "df = web.DataReader('AAPL', 'google', '2015/1/1', '2017/1/1')\n",
    "df.head()"
   ]
  },
  {
   "cell_type": "code",
   "execution_count": 12,
   "metadata": {},
   "outputs": [
    {
     "data": {
      "text/plain": [
       "<matplotlib.axes._subplots.AxesSubplot at 0x11b4df9b0>"
      ]
     },
     "execution_count": 12,
     "metadata": {},
     "output_type": "execute_result"
    },
    {
     "data": {
      "image/png": "[encoded data removed]",
      "text/plain": [
       "<matplotlib.figure.Figure at 0x117e25a58>"
      ]
     },
     "metadata": {},
     "output_type": "display_data"
    }
   ],
   "source": [
    "%matplotlib inline  \n",
    "#kp: Above line is called \"Line magic\" and is used to make the plot show up\n",
    "#kp: It seems we cannot have a comment at the end of the line-magic.\n",
    "df.plot(y=\"Close\", color=\"Green\")"
   ]
  },
  {
   "cell_type": "markdown",
   "metadata": {
    "collapsed": true
   },
   "source": [
    "<a id='appendix'></a>\n",
    "# Appendix"
   ]
  },
  {
   "cell_type": "markdown",
   "metadata": {
    "collapsed": true
   },
   "source": [
    "## Markdown"
   ]
  },
  {
   "cell_type": "markdown",
   "metadata": {},
   "source": [
    "**Some quick tips gathered from http://www.markdowntutorial.com/ **"
   ]
  },
  {
   "cell_type": "markdown",
   "metadata": {
    "collapsed": true
   },
   "source": [
    "### Italic & Bold\n",
    "To make a phrase italic in Markdown, you can surround words with an underscore (``_``). For example, ``_this_`` word would become _italic_.\n",
    "Similarly, to make phrases bold in Markdown, you can surround words with two asterisks ( ``**`` ). This will ``**really**`` get your point across.\n",
    "Of course, you can use `_both italics and bold_` in the same line. You can also span them ``**across multiple words**``. \n",
    "In general, it doesn't matter which order you place the asterisks or underscores."
   ]
  },
  {
   "cell_type": "markdown",
   "metadata": {},
   "source": [
    "**Note:** _ To disable Markdown such as two show double asterisks above, I used the **back-quote** or **back-tick** sybobl i.e. **\"\\`\"** (the one on the key that also has the tilda symbol **\"~\"**. _"
   ]
  },
  {
   "cell_type": "markdown",
   "metadata": {},
   "source": [
    "**Note:** _ And to escape the **back-tick** itself i.e. to make it show up in the Markdown rendered page, I had to (figured out myself by trial and error based on my experience with other markup languages) put a back-slash in front of it. _\n",
    "\n",
    "<a id=\"colored_text\"></a>\n",
    "### Colored Texts\n",
    "We can use `<span style=\"color:red\"> Text-to-be-colored</span>` to make a text colored. For example, I used the same trick to make the following text red. <br />\n",
    "**<span style=\"color:red\">Ta da! You've learned to make a text colored!</span>**\n",
    "\n",
    "**Note:** <span style=\"color:green\">Please remember that the Markdown doesn't work in between the &lt;<b>span</b>&gt; element. This is the reason why the first word <b>\"Note:\"</b> didn't get the color. I would have to use the &lt; span &gt; element one more time if I were to give it some other color than the default <b>black</b></span>"
   ]
  },
  {
   "cell_type": "markdown",
   "metadata": {},
   "source": [
    "### Headers\n",
    "Headers are frequently used on websites, magazine articles, and notices, to draw attention to a section. As their name implies, they act like titles or subtitles above sections.\n",
    "There are six types of headers, in decreasing sizes."
   ]
  },
  {
   "cell_type": "markdown",
   "metadata": {},
   "source": [
    "To make headers in Markdown, you preface the phrase with a hash mark (`#`). You place the same number of hash marks as the size of the header you want. For example, for a header one, you'd use one hash mark (`# Header One`), while for a header three, you'd use three (`### Header Three`)."
   ]
  },
  {
   "cell_type": "markdown",
   "metadata": {},
   "source": [
    "**Note:** _My own experience tells me that you should leave a space between the hash mark(s) and the text of the header. If you don't, it will still work (as can be seen from File->Print Preview, but the notebook itself wont show that._"
   ]
  },
  {
   "cell_type": "markdown",
   "metadata": {},
   "source": [
    "<a id='links'></a>\n",
    "### Links\n",
    "There are two different link types in Markdown, but both of them render the exact same way. \n",
    "#### Inline Link\n",
    "The first link style is called an inline link. To create an inline link, you wrap the link text in brackets ( [ ] ), and then you wrap the link in parenthesis ( ( ) ). For example, to create a hyperlink to www.github.com, with a link text that says, Visit GitHub!, you'd write this in Markdown: `[Visit GitHub!](www.github.com)`.\n",
    "#### Reference Link\n",
    "The other link type is called a reference link. As the name implies, the link is actually a reference to another place in the document. Here's an example of what we mean:"
   ]
  },
  {
   "cell_type": "markdown",
   "metadata": {},
   "source": [
    "     Here's [a link to something else][another place].\n",
    "     Here's [yet another link][another-link].\n",
    "     And now back to [the first link][another place].\n",
    "\n",
    "     [another place]: www.github.com\n",
    "     [another-link]: www.google.com\n",
    "     \n",
    "And, this is what looks upon rendering it.     "
   ]
  },
  {
   "cell_type": "markdown",
   "metadata": {},
   "source": [
    "Here's [a link to something else][another place].\n",
    "Here's [yet another link][another-link].\n",
    "And now back to [the first link][another place].\n",
    "\n",
    "[another place]: www.github.com\n",
    "[another-link]: www.google.com"
   ]
  },
  {
   "cell_type": "markdown",
   "metadata": {},
   "source": [
    "The \"references\" above are the second set of brackets: [another place] and [another-link]. At the bottom of a Markdown document, these brackets are defined as proper links to outside websites. An advantage of the reference link style is that multiple links to the same place only need to be updated once. For example, if we decide to make all of the [another place] links go somewhere else, we only have to change the single reference link.\n",
    "\n",
    "Reference links don't appear in the rendered Markdown. You define them by providing the same tag name wrapped in brackets, followed by a colon, followed by the link."
   ]
  },
  {
   "cell_type": "markdown",
   "metadata": {},
   "source": [
    "**Note:** <span style=\"color:green\">See how I created local links/references between the sections</span> **[Appendix](#appendix)** and **[About Markdown](#about_markdown)**. Please remember that we do it in nearly the same way in HTML and [this forum][https://stackoverflow.com/questions/28080066/how-to-reference-a-ipython-notebook-cell-in-markdown] says this is basically **a html anchor tag with an Id given to it**."
   ]
  },
  {
   "cell_type": "markdown",
   "metadata": {},
   "source": [
    "<a id='images'></a>\n",
    "### Images\n",
    "\n",
    "If you know how to create links in Markdown, you can create images, too. The syntax is nearly the same.\n",
    "\n",
    "Images also have two styles, just like links, and both of them render the exact same way. The difference between links and images is that images are prefaced with an exclamation point ( `!` ).\n",
    "\n",
    "The first image style is called an inline image link. To create an inline image link, enter an exclamation point ( `!` ), wrap the alt text in brackets ( [ ] ), and then wrap the link in parenthesis ( ( ) ). (Alt text is a phrase or sentence that describes the image for the visually impaired.)\n",
    "\n",
    "For example, to create an inline image link to https://octodex.github.com/images/bannekat.png, with an alt text that says, Benjamin Bannekat, you'd write this in Markdown: `![Benjamin Bannekat](https://octodex.github.com/images/bannekat.png)`. And below, you'll see the effect of it:"
   ]
  },
  {
   "cell_type": "markdown",
   "metadata": {},
   "source": [
    "![Benjamin Bannekat](https://octodex.github.com/images/bannekat.png)"
   ]
  },
  {
   "cell_type": "markdown",
   "metadata": {},
   "source": [
    "<a id='blockquotes'></a>\n",
    "### Blockquotes\n",
    "If you need to call special attention to a quote from another source, or design a pull quote for a magazine article, then Markdown's blockquote syntax will be useful. A blockquote is a sentence or paragraph that's been specially formatted to draw attention to the reader. For example: \n",
    "\n",
    ">    \"The sin of doing nothing is the deadliest of all the seven sins. It has been said that for evil men to accomplish their purpose it is only necessary that good men should do nothing.\" \n",
    "\n",
    "To create a block quote, all you have to do is preface a line with the \"greater than\" caret (>). For example:\n",
    "\n",
    "> \"In a few moments he was barefoot, his stockings folded in his pockets and his\n",
    "  canvas shoes dangling by their knotted laces over his shoulders and, picking a\n",
    "  pointed salt-eaten stick out of the jetsam among the rocks, he clambered down\n",
    "  the slope of the breakwater.\"\n",
    "\n",
    "You can also place a caret character on each line of the quote. This is particularly useful if your quote spans multiple paragraphs. For example:\n",
    "\n",
    "> His words seemed to have struck some deep chord in his own nature. Had he spoken\n",
    "of himself, of himself as he was or wished to be? Stephen watched his face for some\n",
    "moments in silence. A cold sadness was there. He had spoken of himself, of his own\n",
    "loneliness which he feared.\n",
    ">\n",
    "> —Of whom are you speaking? Stephen asked at length.\n",
    ">\n",
    "> Cranly did not answer.\n",
    "\n",
    "Notice that even blank lines must contain the caret character. This ensures that the entire blockquote is grouped together. <br />\n",
    "**Block quotes can contain other Markdown elements, such as italics, images, or links.**"
   ]
  },
  {
   "cell_type": "markdown",
   "metadata": {},
   "source": [
    "<a id='lists'></a>\n",
    "### Lists\n",
    "There are two types of lists in the known universe: unordered and ordered. That's a fancy way of saying that there are lists with bullet points, and lists with numbers.\n",
    "\n",
    "To create an unordered list, you'll want to preface each item in the list with an asterisk ( * ). Each list item also gets its own line. For example, a grocery list in Markdown might look like this:\n",
    "```\n",
    "* Milk\n",
    "* Eggs\n",
    "* Salmon\n",
    "* Butter\n",
    "```\n",
    "This Markdown list would render into the following bullet points:\n",
    "* Milk\n",
    "* Eggs\n",
    "* Salmon\n",
    "* Butter"
   ]
  },
  {
   "cell_type": "markdown",
   "metadata": {},
   "source": [
    "All right! That's how you write an unordered list. Now, let's talk about ordered ones.\n",
    "\n",
    "An ordered list is prefaced with numbers, instead of asterisks. Take a look at this recipe:\n",
    "\n",
    "1. Crack three eggs over a bowl\n",
    "2. Pour a gallon of milk into the bowl\n",
    "3. Rub the salmon vigorously with butter\n",
    "4. Drop the salmon into the egg-milk bowl\n",
    "\n",
    "To write that in Markdown, you'd do this:\n",
    "```\n",
    "1. Crack three eggs over a bowl\n",
    "2. Pour a gallon of milk into the bowl\n",
    "3. Rub the salmon vigorously with butter\n",
    "4. Drop the salmon into the egg-milk bowl\n",
    "```\n",
    "Easy, right? It's just like you'd expect a list to look."
   ]
  },
  {
   "cell_type": "markdown",
   "metadata": {},
   "source": [
    "You can choose to add italics, bold, or links within lists, as you might expect. In the box below, turn the latin names for the plants into italics."
   ]
  },
  {
   "cell_type": "markdown",
   "metadata": {},
   "source": [
    "Occasionally, you might find the need to make a list with more depth, or, to nest one list within another. Have no fear, because the Markdown syntax is exactly the same. All you have to do is to remember to indent each asterisk one space more than the preceding item.\n",
    "\n",
    "For example, in the following list, we're going to add some sub-lists to each \"main\" list item, describing the people in detail:\n",
    "```\n",
    "* Tintin\n",
    " * A reporter\n",
    " * Has poofy orange hair\n",
    " * Friends with the world's most awesome dog\n",
    "* Haddock\n",
    " * A sea captain\n",
    " * Has a fantastic beard\n",
    " * Loves whiskey\n",
    "   * Possibly also scotch?\n",
    "```\n",
    "When rendered, this list turns into the following grouping:\n",
    "* Tintin\n",
    " * A reporter\n",
    " * Has poofy orange hair\n",
    " * Friends with the world's most awesome dog\n",
    "* Haddock\n",
    " * A sea captain\n",
    " * Has a fantastic beard\n",
    " * Loves whiskey\n",
    "   * Possibly also scotch?"
   ]
  },
  {
   "cell_type": "markdown",
   "metadata": {},
   "source": [
    "While you could continue to indent and add sub-lists indefinitely, it's usually a good idea to stop after three levels; otherwise, your text becomes a mess.\n",
    "<br />\n",
    "There's one more trick to lists and indentation that we'll explore, and that deals with the case of paragraphs. Suppose you want to create a bullet list that requires some additional context (but not another list). For example, it might look like this: \n",
    "\n",
    "1. Crack three eggs over a bowl.\n",
    "\n",
    " Now, you're going to want to crack the eggs in such a way that you don't make a mess.\n",
    "\n",
    " If you _do_ make a mess, use a towel to clean it up!\n",
    "\n",
    "2. Pour a gallon of milk into the bowl.\n",
    "\n",
    " Basically, take the same guidance as above: don't be messy, but if you are, clean it up!\n",
    "\n",
    "3. Rub the salmon vigorously with butter.\n",
    "\n",
    "   By \"vigorous,\" we mean a strictly vertical motion. Julia Child once quipped:\n",
    "   > Up and down and all around, that's how butter on salmon goes.\n",
    "4. Drop the salmon into the egg-milk bowl.\n",
    "\n",
    "   Here are some techniques on salmon-dropping:\n",
    "\n",
    "   * Make sure no trout or children are present\n",
    "   * Use both hands\n",
    "   * Always have a towel nearby in case of messes"
   ]
  },
  {
   "cell_type": "markdown",
   "metadata": {},
   "source": [
    "To create this sort of text, your paragraph must start on a line all by itself underneath the bullet point, and it must be indented by at least one space. For example, the list above looks like this in Markdown:\n",
    "```\n",
    "1. Crack three eggs over a bowl.\n",
    "\n",
    " Now, you're going to want to crack the eggs in such a way that you don't make a mess.\n",
    "\n",
    " If you _do_ make a mess, use a towel to clean it up!\n",
    "\n",
    "2. Pour a gallon of milk into the bowl.\n",
    "\n",
    " Basically, take the same guidance as above: don't be messy, but if you are, clean it up!\n",
    "\n",
    "3. Rub the salmon vigorously with butter.\n",
    "\n",
    "   By \"vigorous,\" we mean a strictly vertical motion. Julia Child once quipped:\n",
    "   > Up and down and all around, that's how butter on salmon goes.\n",
    "4. Drop the salmon into the egg-milk bowl.\n",
    "\n",
    "   Here are some techniques on salmon-dropping:\n",
    "\n",
    "   * Make sure no trout or children are present\n",
    "   * Use both hands\n",
    "   * Always have a towel nearby in case of messes\n",
    "```  \n",
    "\n",
    "Notice that the first two items have a single space. This looks a bit odd, so you might want to indent properly to match the characters up (like items three and four). In these paragraphs, you can include all sorts of other Markdown elements, like blockquotes, or even other lists!"
   ]
  },
  {
   "cell_type": "markdown",
   "metadata": {},
   "source": [
    "<a id='markdown_paragraphs'></a>\n",
    "## Markdown Paragraphs\n",
    "Markdown has several ways of formatting paragraphs.\n",
    "\n",
    "Let's take a few lines of poetry as an example. Suppose you want to write text that looks like this:\n",
    "\n",
    "Do I contradict myself?<br />\n",
    "Very well then I contradict myself,<br />\n",
    "(I am large, I contain multitudes.)<br />\n",
    "\n",
    "Now, you might think that simply typing each verse onto its own line would be enough to solve the problem:\n",
    "```\n",
    "Do I contradict myself?\n",
    "Very well then I contradict myself,\n",
    "(I am large, I contain multitudes.)\n",
    "```\n",
    "Unfortunately, you'd be wrong! This Markdown would render simply as a single straight line: Do I contradict myself? Very well then I contradict myself, (I am large, I contain multitudes.).\n",
    "\n",
    "If you forcefully insert a new line, you end up breaking the togetherness:\n",
    "```\n",
    "Do I contradict myself?\n",
    "\n",
    "Very well then I contradict myself,\n",
    "\n",
    "(I am large, I contain multitudes.)\n",
    "```\n",
    "This is what's known as a hard break; what our poetry asks for is a soft break. You can accomplish this by inserting two spaces after each new line. This is not possible to see, since spaces are invisible, but it'd look something like this:\n",
    "```\n",
    "Do I contradict myself?··\n",
    "Very well then I contradict myself,··\n",
    "(I am large, I contain multitudes.)\n",
    "```\n",
    "Each dot ( · ) represents a space on the keyboard. Replacing the dots in the above text, the rendering would give us the following:\n",
    "\n",
    "Do I contradict myself?  \n",
    "Very well then I contradict myself,  \n",
    "(I am large, I contain multitudes.)\n",
    "\n",
    "Aside from formatting poetry, one of the common uses for these soft breaks is in formatting paragraphs in lists. Recall in the previous lesson that we inserted a new line for multiple paragraphs within a list."
   ]
  },
  {
   "cell_type": "markdown",
   "metadata": {},
   "source": [
    "<a id='markdown_tables'></a>\n",
    "## Markdown Table\n",
    "| Tables   |      Are      |  Cool |\n",
    "|----------|:-------------:|------:|\n",
    "| col 1 is |  left-aligned | $1600 |\n",
    "| col 2 is |    centered   |   $12 |\n",
    "| col 3 is | right-aligned |    $1 |"
   ]
  },
  {
   "cell_type": "markdown",
   "metadata": {},
   "source": [
    "<a id='keyboard_shortcuts'></a>\n",
    "## Keyboard Shortcuts\n",
    "|Shortcut  | Action   |\n",
    "|----------|:--------:|\n",
    "|Shift-Enter |\trun cell | \n",
    "|Ctrl-Enter  |\trun cell in-place| \n",
    "|Alt-Enter \t |  run cell, insert below| \n",
    "|Ctrl-m x \t| cut cell| \n",
    "|Ctrl-m c \t|copy cell| \n",
    "|Ctrl-m v \t| paste cell| \n",
    "|Ctrl-m d \t| delete cell| \n",
    "|Ctrl-m z \t| undo last cell deletion| \n",
    "|Ctrl-m - \t| split cell| \n",
    "|Ctrl-m a \t| insert cell above| \n",
    "|Ctrl-m b \t| insert cell below| \n",
    "|Ctrl-m o \t| toggle output| \n",
    "|Ctrl-m O \t| toggle output scroll| \n",
    "|Ctrl-m l \t| toggle line numbers| \n",
    "|Ctrl-m s \t| save notebook| \n",
    "|Ctrl-m j \t| move cell down| \n",
    "|Ctrl-m k \t| move cell up| \n",
    "|Ctrl-m y \t| code cell| \n",
    "|Ctrl-m m \t| markdown cell| \n",
    "|Ctrl-m t \t| raw cell| \n",
    "|Ctrl-m 1-6 | \theading 1-6 cell| \n",
    "|Ctrl-m p \t| select previous| \n",
    "|Ctrl-m n \t| select next| \n",
    "|Ctrl-m i \t| interrupt kernel| \n",
    "|Ctrl-m . \t| restart kernel| \n",
    "|Ctrl-m h \t| show keyboard shortcuts| \n"
   ]
  },
  {
   "cell_type": "markdown",
   "metadata": {},
   "source": [
    "## Congratulations!\n",
    "\n",
    "You’ve completed all the lessons!\n",
    "\n",
    "Believe it or not, we’ve only just begun exploring what can be accomplished with Markdown. There are many “extended” implementations of Markdown that support formats like tables, definition lists, footnotes, and more. Because they’re non-standard, they’re not essential to learning the basics, as we’ve introduced here.\n",
    "\n",
    "If you’d like to know more about these Markdown implementations, you’re welcome to explore any number of other Markdown apps and tutorials. Here are just a few:\n",
    "\n",
    "   [Wikipedia](http://en.wikipedia.org/wiki/Markdown#Example)\n",
    "   [Commonmark](http://spec.commonmark.org/dingus/)\n",
    "   [John MacFarlane](http://johnmacfarlane.net/babelmark2/faq.html)\n",
    "   [I Would Rather Be Writing](http://idratherbewriting.com/2013/06/04/exploring-markdown-in-collaborative-authoring-to-publishing-workflows/)\n",
    "\n",
    "<a id='the_end'></a>\n",
    "## The End\n",
    "**<span style=\"color:red\">Ta da! You've learned all there is to creating blockquotes in Markdown!</span>**"
   ]
  }
 ],
 "metadata": {
  "kernelspec": {
   "display_name": "Python 3",
   "language": "python",
   "name": "python3"
  },
  "language_info": {
   "codemirror_mode": {
    "name": "ipython",
    "version": 3
   },
   "file_extension": ".py",
   "mimetype": "text/x-python",
   "name": "python",
   "nbconvert_exporter": "python",
   "pygments_lexer": "ipython3",
   "version": "3.6.1"
  }
 },
 "nbformat": 4,
 "nbformat_minor": 2
}
