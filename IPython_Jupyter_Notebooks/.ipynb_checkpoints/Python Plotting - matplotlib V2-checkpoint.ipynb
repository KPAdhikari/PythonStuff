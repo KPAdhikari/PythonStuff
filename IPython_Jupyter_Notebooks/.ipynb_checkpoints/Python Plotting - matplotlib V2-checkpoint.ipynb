{
 "cells": [
  {
   "cell_type": "code",
   "execution_count": 1,
   "metadata": {},
   "outputs": [
    {
     "name": "stdout",
     "output_type": "stream",
     "text": [
      "/Users/kpadhikari/Desktop/BigFls/CLAS12/GitProj/KPAdhikari/PythonStuff/IPython_Jupyter_Notebooks\r\n"
     ]
    }
   ],
   "source": [
    "!pwd"
   ]
  },
  {
   "cell_type": "markdown",
   "metadata": {},
   "source": [
    "This is second notebook that I intend to carry stuff related to plotting using matplotlib. The first notebook is http://localhost:8888/notebooks/GitProj/KPAdhikari/PythonStuff/IPython_Jupyter_Notebooks/Python%20Plotting%20-%20matplotlib%2C%20(numpy%20too)%20etc.ipynb#PassingPlotsToFunctionsEtc"
   ]
  },
  {
   "cell_type": "markdown",
   "metadata": {},
   "source": [
    "<a id='GoTop'></a>\n",
    "## Contents\n",
    "* [Plot_Organization_in_matplotlib](#Plot_Organization_in_matplotlib)"
   ]
  },
  {
   "cell_type": "markdown",
   "metadata": {},
   "source": [
    "[GoTop](#GoTop) <a id='Plot_Organization_in_matplotlib'></a>\n",
    "### [Plot Organization in matplotlib — Your One-stop Guide](https://towardsdatascience.com/plot-organization-in-matplotlib-your-one-stop-guide-if-you-are-reading-this-it-is-probably-f79c2dcbc801)\n",
    "Matias Calderini Oct 27, 2019·9 min read\n",
    "\n",
    "If you are reading this, it is probably because you agree with me that most matplotlib tutorials out there are missing a crucial aspect of plotting and data visualization.\n",
    "\n",
    "While there might be thousands of tutorials on how to change line thickness or the size of your titles, they all seem to forget that organization of subplots plays a huge role in conveying the story your data is telling. Sometimes you might want to emphasize the importance of a plot by making it bigger, or complement a plot by adding another one as an inset on top of it.\n",
    "\n",
    "To do those edits, I have seen (too) many people save individual plots done with Python and later re-arrange it all together on some other image editing software. Not only is this inefficient, it is not scalable to high volume plotting or to plots that you need to tweak and/or redo multiple times.\n",
    "\n",
    "For all those friends and for all of you out there still struggling with such problems, here is your one-stop guide on how to organize your plots and subplots using only matplotlib on Python.\n",
    "\n",
    "A picture is worth a thousand words, so for those that want a quick preview, those that are re-reading this, or those whith TLDR syndrome, here is a sample code for what we will accomplish in this tutorial:\n",
    "\n",
    "Note: *(**TLDR ==Too long; didn't read (abbreviated TL;DR and tl;dr)** is a shorthand notation added by an editor indicating that a passage appears too long to invest the time to digest it.)*"
   ]
  },
  {
   "cell_type": "code",
   "execution_count": null,
   "metadata": {},
   "outputs": [],
   "source": []
  }
 ],
 "metadata": {
  "kernelspec": {
   "display_name": "Python 3",
   "language": "python",
   "name": "python3"
  },
  "language_info": {
   "codemirror_mode": {
    "name": "ipython",
    "version": 3
   },
   "file_extension": ".py",
   "mimetype": "text/x-python",
   "name": "python",
   "nbconvert_exporter": "python",
   "pygments_lexer": "ipython3",
   "version": "3.7.4"
  }
 },
 "nbformat": 4,
 "nbformat_minor": 2
}
