{
 "cells": [
  {
   "cell_type": "markdown",
   "metadata": {},
   "source": [
    "### Referencens:\n",
    "* https://pypi.org/project/iminuit/\n",
    "* https://github.com/scikit-hep/iminuit\n",
    "* https://iminuit.readthedocs.io/en/latest/\n",
    "* https://iminuit.readthedocs.io/en/latest/tutorials.html\n",
    "* https://nbviewer.jupyter.org/github/scikit-hep/iminuit/blob/master/tutorial/basic_tutorial.ipynb\n",
    "* "
   ]
  },
  {
   "cell_type": "markdown",
   "metadata": {},
   "source": [
    "<a id='GoTop'></a>\n",
    "## Table of Contents\n",
    "* [Documentation on IMINUIT](#DocsOnIMINUIT)\n",
    "    * Examples: \n",
    "        * [Straight Line Fit](#StraightLineFit)\n",
    "        * [Five parameter function Fit](#FiveParameterFunctionFit) (Here, for comparison, I also try the LMFIT after I see the IMFIT results).\n",
    "            * [Now setting limits on parameters](#SettingParameterLimits)\n",
    "* [Study more about probfit](#MoreAboutProbfit)\n",
    "* [Documentation on LMFIT](#DocsOnLMFIT)\n"
   ]
  },
  {
   "cell_type": "markdown",
   "metadata": {},
   "source": [
    "[GoTop](#GoTop) <a id='DocsOnIMINUIT'></a>\n",
    "### Documentation @ https://iminuit.readthedocs.io/en/latest/tutorials.html\n",
    "\n",
    "Tutorials\n",
    "\n",
    "All the tutorials are in tutorial directory. You can view them online too:\n",
    "\n",
    "#### [Basic tutorial](http://nbviewer.ipython.org/urls/raw.github.com/scikit-hep/iminuit/master/tutorial/basic_tutorial.ipynb), (My corresponding section below is [here](#BasicTutorial))\n",
    "\n",
    "Covers the basics of using iminuit.\n",
    "#### [iminuit and automatic differentiation with JAX](http://nbviewer.ipython.org/urls/raw.github.com/scikit-hep/iminuit/master/tutorial/automatic_differentiation.ipynb)\n",
    "\n",
    "How to compute function gradients for iminuit with [jax](https://jax.readthedocs.io/) and accelerate Python code with JAX’s JIT compiler. Spoiler: a 32x speed up over plain numpy is achieved. Also discusses how to do a least-squares fit with data that has uncertainties in x and y."
   ]
  },
  {
   "cell_type": "markdown",
   "metadata": {},
   "source": [
    "#### [iminuit and an external minimizer](http://nbviewer.ipython.org/urls/raw.github.com/scikit-hep/iminuit/master/tutorial/iminuit_and_external_minimizer.ipynb)\n",
    "\n",
    "iminuit can run the HESSE algorithm on any point of the cost function. This means one can effectively combine iminuit with other minimizers: let the other minimizer find the minimum and only run iminuit to compute the parameter uncertainties. This does not work with MINOS, which requires that MIGRAD is run first.\n",
    "#### Outdated Cython tutorials\n",
    "\n",
    "The following two tutorials are outdated. Users who want to speed up their fits should try the just-in-time compilers provided by [numba](https://numba.pydata.org/) or [jax](https://jax.readthedocs.io/) in CPython or use iminuit in PyPy to accelerate the computation. This is much simpler than using Cython and may achieve even better performance.\n",
    "\n",
    "* [Advanced tutorial](http://nbviewer.ipython.org/urls/raw.github.com/scikit-hep/iminuit/master/tutorial/advanced_tutorial.ipynb). Shows how to speed up the computation of the cost function with Cython.\n",
    "* [Hard Core Cython tutorial](http://nbviewer.ipython.org/urls/raw.github.com/scikit-hep/iminuit/master/tutorial/hard_core_tutorial.ipynb). Goes into more detail on how to use Cython."
   ]
  },
  {
   "cell_type": "markdown",
   "metadata": {},
   "source": [
    "[GoTop](#GoTop) <a id='BasicTutorial'></a>\n",
    "## IMINUIT Basic Tutorial\n",
    "Welcome to the **iminuit tutorial**. You will learn basic usage of iminuit and how to approach standard fitting problems with iminuit. **iminuit is a numerical (kp: NOT Analytical, which is usually exact, where as numerical methods are essentially approximate in nature) minimizer and error calculator**. You provide it an analytical function, which accepts one or several parameters, and an initial guess of the parameter values. It will then find a local minimum of this function starting from the initial guess. **In that regard, iminuit is similar to other minimizers**, like those in **scipy.optimize**.\n",
    "\n",
    "In addition, iminuit has the ability to compute uncertainty estimates for model parameters. iminuit was designed to solve **statistics problems, where uncertainty estimates are an essential part of the result**. Two ways of computing uncertainty estimates are provided with different strengths, the **Hesse and the Minos algorithm**.\n",
    "\n",
    "**iminuit is the successor of pyminuit**. If you used pyminuit before, you will find iminuit very familiar. **An important feature of iminuit (and pyminuit) is that it uses introspection to detect the parameter names of your function**. This is very convenient, especially when you work interactively in a Jupyter notebook. It **also provides special output routines for Jupyter notebooks to pretty print** the fit results, as you will see below."
   ]
  },
  {
   "cell_type": "code",
   "execution_count": 6,
   "metadata": {},
   "outputs": [],
   "source": [
    "# basic setup of the notebook\n",
    "from matplotlib import pyplot as plt\n",
    "import numpy as np\n",
    "from pprint import pprint # we use this to pretty print some stuff later\n",
    "\n",
    "# everything in iminuit is done through the Minuit object, so we import it\n",
    "from iminuit import Minuit"
   ]
  },
  {
   "cell_type": "markdown",
   "metadata": {},
   "source": [
    "### Fit examples\n",
    "\n",
    "[GoTop](#GoTop) <a id='StraightLineFit'></a>\n",
    "### Straight Line Fit\n",
    "\n",
    "For this tutorial, we look at a simple case where line should be fitted to scattered (x,y)\n",
    "data. A line has two parameters (a,b)."
   ]
  },
  {
   "cell_type": "code",
   "execution_count": 7,
   "metadata": {},
   "outputs": [
    {
     "data": {
      "image/png": "[encoded data removed]",
      "text/plain": [
       "<Figure size 432x288 with 1 Axes>"
      ]
     },
     "metadata": {
      "needs_background": "light"
     },
     "output_type": "display_data"
    }
   ],
   "source": [
    "#kp: This represents the linear equation:   y = a + bx    (b = m, a = c in y = mx + c  form)\n",
    "#    In other words, a is the y-intercept and b is the slope of the line.\n",
    "def line(x, a, b):\n",
    "    return a + x * b\n",
    "\n",
    "#kp: create an ndarray of size 10 generating equally spaced numbers in [0,1]\n",
    "data_x = np.linspace(0, 1, 10)\n",
    "# precomputed random numbers from a normal distribution\n",
    "offsets = np.array([-0.49783783, -0.33041722, -1.71800806,  1.60229399,  1.36682387,\n",
    "                    -1.15424221, -0.91425267, -0.03395604, -1.27611719, -0.7004073 ])\n",
    "data_y = line(data_x, 1, 2) + 0.1 * offsets # generate some data points with random offsets\n",
    "plt.plot(data_x, data_y, \"o\")\n",
    "plt.xlim(-0.1, 1.1);"
   ]
  },
  {
   "cell_type": "markdown",
   "metadata": {},
   "source": [
    "<span style=\"color:brown\">\n",
    "\n",
    "### Digression: np.linspace, ndarray\n",
    "#### np.linspace\n",
    " Ref: https://www.geeksforgeeks.org/numpy-linspace-python/\n",
    " \n",
    "**numpy.linspace(start, stop, num = 50, endpoint = True, retstep = False, dtype = None)** : Returns number spaces evenly w.r.t interval. Similar to arange but instead of step it uses sample number.\n",
    "\n",
    "Parameters :\n",
    "* start  : [optional] start of interval range. By default start = 0\n",
    "* stop   : end of interval range\n",
    "* restep : If True, return (samples, step). By deflut restep = False\n",
    "* num    : [int, optional] No. of samples to generate\n",
    "* dtype  : type of output array\n",
    "Return :\n",
    "* ndarray\n",
    "* step : [float, optional], if restep = True\n",
    "#### ndarray\n",
    "Ref: https://www.geeksforgeeks.org/numpy-ndarray/\n",
    "\n",
    "**N-Dimensional array(ndarray) in Numpy**\n",
    "\n",
    "Array in Numpy is a table of elements (usually numbers), all of the same type, indexed by a tuple of positive integers. In Numpy, number of dimensions of the array is called rank of the array.A tuple of integers giving the size of the array along each dimension is known as shape of the array. An array class in Numpy is called as ndarray. Elements in Numpy arrays are accessed by using square brackets and can be initialized by using nested Python Lists.\n",
    "\n",
    "Example :\n",
    "\n",
    "    [[ 1, 2, 3],\n",
    "          [ 4, 2, 5]]\n",
    "\n",
    "Here, rank = 2 (as it is 2-dimensional or it has 2 axes)\n",
    "First dimension(axis) length = 2, second dimension has length = 3\n",
    "overall shape can be expressed as: (2, 3)\n",
    "\n",
    "</span>"
   ]
  },
  {
   "cell_type": "markdown",
   "metadata": {},
   "source": [
    "To recover the parameters of the line, we fit the line to the scattered data using the method of least-squares. We compute the sum of squared residuals of the y values around the line for a given pair of line parameters (a,b)"
   ]
  },
  {
   "cell_type": "code",
   "execution_count": 8,
   "metadata": {},
   "outputs": [],
   "source": [
    "def least_squares(a, b):\n",
    "    yvar = 0.01  #kp: variance?\n",
    "    return sum((data_y - line(data_x, a, b)) ** 2 / yvar)"
   ]
  },
  {
   "cell_type": "markdown",
   "metadata": {},
   "source": [
    "With iminuit we can find the values of a and b which minimize this sum. Let's do it:"
   ]
  },
  {
   "cell_type": "code",
   "execution_count": 9,
   "metadata": {},
   "outputs": [
    {
     "name": "stdout",
     "output_type": "stream",
     "text": [
      "a = 0.9909664415272811 +/- 0.05877538146463435\n",
      "b = 1.9449447037454664 +/- 0.09908673900884825\n"
     ]
    },
    {
     "data": {
      "image/png": "[encoded data removed]",
      "text/plain": [
       "<Figure size 432x288 with 1 Axes>"
      ]
     },
     "metadata": {
      "needs_background": "light"
     },
     "output_type": "display_data"
    }
   ],
   "source": [
    "m = Minuit(least_squares, pedantic=False)\n",
    "m.migrad() # finds minimum of least_squares function\n",
    "m.hesse()  # computes errors \n",
    "\n",
    "# draw data and fitted line\n",
    "plt.plot(data_x, data_y, \"o\")\n",
    "plt.plot(data_x, line(data_x, *m.values.values()))\n",
    "\n",
    "# print parameter values and uncertainty estimates\n",
    "for p in m.parameters:\n",
    "    print(\"{} = {} +/- {}\".format(p, m.values[p], m.errors[p]))"
   ]
  },
  {
   "cell_type": "markdown",
   "metadata": {},
   "source": [
    "<span style='color:brown'>\n",
    "    \n",
    "**kp note:** I think **m.values[i]** returns fit-value of the 'ith' individual parameter, whereas **`*m.values.values()'`** returns the whole parameter set (as an array). Let's check if that's true.\n",
    "\n",
    "Interestingly, **`type(*m.values.values())`** gave me an error, while **type(m.values.values())** returned a **list**.\n",
    "</span>"
   ]
  },
  {
   "cell_type": "code",
   "execution_count": 10,
   "metadata": {},
   "outputs": [
    {
     "name": "stdout",
     "output_type": "stream",
     "text": [
      "0.9909664415272811 1.9449447037454664\n",
      "[0.9909664415272811, 1.9449447037454664]\n",
      "0.9909664415272811\n",
      "<class 'list'>\n",
      "<class 'float'>\n"
     ]
    }
   ],
   "source": [
    "print(*m.values.values())\n",
    "print(m.values.values())\n",
    "print(m.values[0])\n",
    "#print(type(*m.values.values()))#TypeError: type() takes 1 or 3 arguments\n",
    "print(type(m.values.values()))\n",
    "print(type(m.values[0]))"
   ]
  },
  {
   "cell_type": "markdown",
   "metadata": {},
   "source": [
    "[GoTop](#GoTop) <a id='FiveParameterFunctionFit'></a>\n",
    "### Five parameter function Fit\n",
    "\n",
    "<span style='color:brown'>\n",
    "    \n",
    "**kp note:** Here I am trying another function of my choice to have some more confidence in using the method/tool. I want to try a 4 parameter function (or a polynomial of degree 4).\n",
    "</span>"
   ]
  },
  {
   "cell_type": "code",
   "execution_count": 11,
   "metadata": {},
   "outputs": [
    {
     "name": "stdout",
     "output_type": "stream",
     "text": [
      "[ 0.69318933 -2.317406    0.14519143 -1.69214947  1.87583048  0.31647183\n",
      " -0.10023306 -0.04301168 -3.8657758   0.93229064  1.46572338 -1.07343279\n",
      "  0.84878137 -1.31825859  0.04502701 -2.58699062 -0.42026208 -1.46694462\n",
      " -2.4766857  -1.7680178  -2.05260641  0.89656312  0.07102164  0.89773127\n",
      "  0.18749244 -0.32884124 -0.80920619  0.76585444  1.34820292 -1.0267092\n",
      " -1.34421785  0.14205027 -0.50654245 -1.80963018  1.0927088   1.42736495\n",
      "  0.26781352  1.08559307  0.39524356  2.54929018  0.09310011  0.99261544\n",
      "  1.81755818 -0.78102932 -1.76436273 -1.38393938  1.80346096 -0.70285495\n",
      " -0.60252927  0.07704456]\n"
     ]
    },
    {
     "data": {
      "text/plain": [
       "<matplotlib.legend.Legend at 0x102dd38d0>"
      ]
     },
     "execution_count": 11,
     "metadata": {},
     "output_type": "execute_result"
    },
    {
     "data": {
      "image/png": "[encoded data removed]",
      "text/plain": [
       "<Figure size 432x288 with 1 Axes>"
      ]
     },
     "metadata": {
      "needs_background": "light"
     },
     "output_type": "display_data"
    }
   ],
   "source": [
    "#kp: This represents the Quartic equation:   y = a + bx + cx^2 + dx^3 + ex^4   .\n",
    "def funcQuart(x, par):\n",
    "    return par[0] + par[1]*x + par[2] * x**2 + par[3] * x**3 + par[4]* x**4\n",
    "\n",
    "nP = 50 # No. of (data) points to be used for plotting and fitting\n",
    "xMin, xMax = 0.0, 2.0\n",
    "#kp: create an ndarray of size 50 generating equally spaced numbers in [0,1]\n",
    "data_x = np.linspace(xMin, xMax, nP)\n",
    "# precomputed random numbers from a normal distribution\n",
    "#offsets = np.array([-0.49783783, -0.33041722, -1.71800806,  1.60229399,  1.36682387])\n",
    "errorFactor = 1.5#0.01#0.5# 1.5\n",
    "offsets = errorFactor*np.random.normal(size=nP) #generate nP random #s from normal distribution & multiply by 1.5\n",
    "\"\"\"\n",
    "#https://chrisalbon.com/python/basics/generating_random_numbers_with_numpy/\n",
    "Generate A Random Number From The Normal Distribution\n",
    "np.random.normal()\n",
    "Generate Four Random Numbers From The Normal Distribution\n",
    "np.random.normal(size=4)\n",
    "Generate Four Random Numbers From The Uniform Distribution\n",
    "np.random.uniform(size=4)\n",
    "Generate Four Random Integers Between 1 and 100\n",
    "np.random.randint(low=1, high=100, size=4)\n",
    "\"\"\"\n",
    "print(offsets)\n",
    "#data_y = line(data_x, 1, 2) + 0.1 * offsets # generate some data points with random offsets\n",
    "parC = np.array([2.0, -3.0, 1.5, -5.0, 4.0])\n",
    "data_y = funcQuart(data_x, parC)\n",
    "data_ySmeared = data_y + offsets\n",
    "\n",
    "plt.plot(data_x, data_y, \"-\", label='Unsmeared data')\n",
    "plt.plot(data_x, data_ySmeared, \"o\", label='Smeared data')\n",
    "plt.xlim(xMin-0.1, xMax+0.1);\n",
    "plt.legend(numpoints=1,             #Set the number of markers in label\n",
    "           loc='upper left', borderpad=2, labelspacing=2, handlelength=5, \n",
    "           prop={'size':10}) #control legend-box size with 'prop'\n"
   ]
  },
  {
   "cell_type": "markdown",
   "metadata": {},
   "source": [
    "Please note how I set a limit of (-5,5) for all parameters using `limit=(-5.0,5.0)` inside Minuit.from_array_func(..). For more on how to set the limits for individual parameters, see below or see this or this site."
   ]
  },
  {
   "cell_type": "code",
   "execution_count": 16,
   "metadata": {},
   "outputs": [
    {
     "name": "stdout",
     "output_type": "stream",
     "text": [
      "x0 = 1.7561278701593714 +/- 0.0806807951270323\n",
      "x1 = -2.7020840689961445 +/- 0.6603568792702583\n",
      "x2 = -3.487423004287713 +/- 1.3395403665296637\n",
      "x3 = 1.6062353858714706 +/- 1.0425556168047825\n",
      "x4 = 1.8719885202213922 +/- 0.25443965010305014\n"
     ]
    },
    {
     "data": {
      "image/png": "[encoded data removed]",
      "text/plain": [
       "<Figure size 432x288 with 1 Axes>"
      ]
     },
     "metadata": {
      "needs_background": "light"
     },
     "output_type": "display_data"
    }
   ],
   "source": [
    "import math\n",
    "\n",
    "def least_squares(par):\n",
    "    yvar = 0.01  #kp: variance?\n",
    "    return sum((data_ySmeared - funcQuart(data_x, par)) ** 2 / yvar)\n",
    "\n",
    "par1 = np.array([0.6, 0.91, 0.126, 0.79, 0.1353])\n",
    "errors = np.array([0.1*x for x in par1])\n",
    "\n",
    "#https://www.geeksforgeeks.org/python-infinity/\n",
    "inf = math.inf #float(“infinity”) #https://readthedocs.org/projects/iminuit/downloads/pdf/latest/\n",
    "minf = -math.inf\n",
    "\n",
    "#m = Minuit(least_squares, pedantic=False)\n",
    "#m = Minuit(chiSq4Wts, par, pedantic=False)  # silence warnings, use default values\n",
    "#m = Minuit.from_array_func(chiSq4Wts, par, pedantic=False)  # silence warnings, use default values\n",
    "m = Minuit.from_array_func(least_squares, par1, limit=(-5.0,inf), #limit=(-5.0,5.0),\n",
    "                           error=errors, errordef=1)  # silence warnings, use default values\n",
    "\n",
    "\n",
    "\n",
    "m.migrad() # finds minimum of least_squares function\n",
    "m.hesse()  # computes errors \n",
    "\n",
    "# draw data and fitted line\n",
    "plt.plot(data_x, data_ySmeared, \"o\", label='data')\n",
    "#plt.plot(data_x, funcQuart(data_x, *m.values.values()))\n",
    "plt.plot(data_x, funcQuart(data_x, m.values.values()), label='fit')\n",
    "plt.legend(numpoints=1,             #Set the number of markers in label\n",
    "           loc='upper left', borderpad=2, labelspacing=2, handlelength=5, \n",
    "           prop={'size':10}) #control legend-box size with 'prop'\n",
    "\n",
    "# print parameter values and uncertainty estimates\n",
    "for p in m.parameters:\n",
    "    print(\"{} = {} +/- {}\".format(p, m.values[p], m.errors[p]))\n",
    "    \n",
    "#Initial values of the parameters from which the data was generated: \n",
    "#     parC = np.array([2.0, -3.0, 1.5, -5.0, 4.0])\n",
    "# The fit values differ more from original values if the errors are big (change errorFactor\n",
    "#     above and see how the fit pars change.)"
   ]
  },
  {
   "cell_type": "code",
   "execution_count": null,
   "metadata": {},
   "outputs": [],
   "source": [
    "#https://www.geeksforgeeks.org/python-infinity/\n",
    "import math \n",
    "  \n",
    "# Defining a positive infinite integer \n",
    "positive_infnity = math.inf \n",
    "print('Positive Infinity: ', positive_infnity) \n",
    "  \n",
    "# Defining a negative infinite integer \n",
    "negative_infinity = -math.inf \n",
    "print('Negative Infinity: ', negative_infinity) "
   ]
  },
  {
   "cell_type": "markdown",
   "metadata": {},
   "source": [
    "#### Now, let me try LMFIT to fit the same data\n",
    "Interestingly, both give me about the same values of the parameters.\n",
    "\n",
    "Ref: https://mike.depalatis.net/blog/lmfit.html (see the contents copied below)"
   ]
  },
  {
   "cell_type": "code",
   "execution_count": 11,
   "metadata": {},
   "outputs": [],
   "source": [
    "import lmfit\n",
    "\n",
    "#model = lmfit.models.ExpressionModel(\"ampl * sin((x - x0)*freq) * exp(-x/tau) + offset\")\n",
    "model = lmfit.models.ExpressionModel(\"p0 + p1*x + p2*x**2 + p3*x**3 + p4*x**4\")\n",
    "\n",
    "#Let's make our initial guess for performing the fit #under the constraint that the offset is fixed at 0:\n",
    "#params = model.make_params(ampl=1, x0=0, freq=10, tau=1, offset=0)\n",
    "#params[\"offset\"].set(vary=False)\n",
    "#kp: I am trying with a value of 1.0 for all parameters\n",
    "params = model.make_params(p0=1.0, p1=1.0, p2= 1.0, p3=1.0, p4=1.0)\n",
    "\n",
    "#To fit, we pass the data and the parameters as arguments and the independent variable as a keyword argument:\n",
    "#fit = model.fit(y, params, x=x)\n",
    "fit = model.fit(data_ySmeared, params, x=data_x)"
   ]
  },
  {
   "cell_type": "markdown",
   "metadata": {},
   "source": [
    "To visually check if the fit is good, lmfit provides both `plot_fit` and `plot_residuals` methods for model instances. The former shows the data, the initial guess, and its found best fit:"
   ]
  },
  {
   "cell_type": "code",
   "execution_count": 12,
   "metadata": {},
   "outputs": [
    {
     "data": {
      "text/plain": [
       "<matplotlib.axes._subplots.AxesSubplot at 0x11df1b3d0>"
      ]
     },
     "execution_count": 12,
     "metadata": {},
     "output_type": "execute_result"
    },
    {
     "data": {
      "image/png": "[encoded data removed]",
      "text/plain": [
       "<Figure size 432x288 with 1 Axes>"
      ]
     },
     "metadata": {
      "needs_background": "light"
     },
     "output_type": "display_data"
    }
   ],
   "source": [
    "fit.plot_fit()"
   ]
  },
  {
   "cell_type": "code",
   "execution_count": 13,
   "metadata": {},
   "outputs": [
    {
     "data": {
      "text/plain": [
       "<matplotlib.axes._subplots.AxesSubplot at 0x11e69ebd0>"
      ]
     },
     "execution_count": 13,
     "metadata": {},
     "output_type": "execute_result"
    },
    {
     "data": {
      "image/png": "[encoded data removed]",
      "text/plain": [
       "<Figure size 432x288 with 1 Axes>"
      ]
     },
     "metadata": {
      "needs_background": "light"
     },
     "output_type": "display_data"
    }
   ],
   "source": [
    "fit.plot_residuals()"
   ]
  },
  {
   "cell_type": "markdown",
   "metadata": {},
   "source": [
    "We can also see the found parameters with standard errors and goodness of fit data with a fit report (`print(model.fit_report())`):"
   ]
  },
  {
   "cell_type": "code",
   "execution_count": 17,
   "metadata": {},
   "outputs": [
    {
     "name": "stdout",
     "output_type": "stream",
     "text": [
      "[[Model]]\n",
      "    Model(_eval)\n",
      "[[Fit Statistics]]\n",
      "    # fitting method   = leastsq\n",
      "    # function evals   = 13\n",
      "    # data points      = 50\n",
      "    # variables        = 5\n",
      "    chi-square         = 92.0752382\n",
      "    reduced chi-square = 2.04611640\n",
      "    Akaike info crit   = 40.5291522\n",
      "    Bayesian info crit = 50.0892672\n",
      "[[Variables]]\n",
      "    p0:  3.42375267 +/- 0.90132073 (26.33%) (init = 1)\n",
      "    p1: -8.01201952 +/- 6.37867359 (79.61%) (init = 1)\n",
      "    p2:  9.82322304 +/- 13.1614094 (133.98%) (init = 1)\n",
      "    p3: -10.5908702 +/- 9.93556631 (93.81%) (init = 1)\n",
      "    p4:  5.23372242 +/- 2.46374441 (47.07%) (init = 1)\n",
      "[[Correlations]] (unreported correlations are < 0.100)\n",
      "    C(p3, p4) = -0.992\n",
      "    C(p2, p3) = -0.985\n",
      "    C(p1, p2) = -0.965\n",
      "    C(p2, p4) =  0.956\n",
      "    C(p1, p3) =  0.910\n",
      "    C(p1, p4) = -0.857\n",
      "    C(p0, p1) = -0.837\n",
      "    C(p0, p2) =  0.702\n",
      "    C(p0, p3) = -0.614\n",
      "    C(p0, p4) =  0.551\n"
     ]
    }
   ],
   "source": [
    "print(fit.fit_report())"
   ]
  },
  {
   "cell_type": "markdown",
   "metadata": {},
   "source": [
    "Delete it Later (It's temporary cell, which is actually in DataAnalysisOf_thisSimulation_HadrontherapyKp2n_V3)\n",
    "\n",
    "To Do:\n",
    "* Make a function that takes in dir, (R,M,N), x-bin size (bw) etc and loads the sim. data onto a df-list\n",
    "* Write a function or code that takes the df-list and returns the following python-lists/ndarrays of \n",
    "    * A: 1D arrays of x-bins where the pristine Bragg-curves have their peaks (or maxima).\n",
    "    * B: 1D arrays/lists of dose maximas (i.e. peak doses of each of the Bragg curves)\n",
    "        * Actually, this is redundant because we can get it from the diagonal elements of the 2D array below. For example, if C is the 2D ndarray, then we can get B as follows:\n",
    "            `B = np.diagonal(C)`, which will give us a 1D numpy array or ndarray made up of the diagonal elements.\n",
    "    * C: 2D arrays of doses with each row giving the doses from a particular Bragg-curve at the positions/bins given by the first 1D array above i.e the one in A. (So the array in B is actually the 1D array made of the diagonal elements of this 2D array).\n",
    "* Make a function or part of a function that plots these curves together in the same panel/canvas\n",
    "* Choose a SOBP level (arbitrary) and make chi-square Minimization (or optimization) program (using either IMINUIT, LMFIT or something like that), that does the following:\n",
    "    * For each peak-position, evaluates the weighted-dose sum (with the thrown/trial values of the weight-parameters)\n",
    "    * Then make out a chi-square to be minimized by adding up the differences/offsets/residuals of these  weighted sums w.r.t the chosen SOBP level.\n",
    "    * Initialize the pars either with some arbitrary values or with the Bortfeld ones or something like that.\n",
    "    * Then use it to do the optimization to determine the proper value of the weights.\n",
    "    * Make it such that we can try variable no. of peaks starting from the last 3, then last 4, then last 5 and so on. \n",
    "* Make test plots immediately (with the variable no. of Bragg peaks as used for optimization)"
   ]
  },
  {
   "cell_type": "markdown",
   "metadata": {},
   "source": [
    "In the following, we dive into the details step by step; how the Minuit object is initialized, how to run the algorithms, and how to get the results.\n",
    "\n",
    "iminuit was designed to make it easy to fit functions like `least_squares(a, b)`, where the parameters are individual arguments of the function. There is an alternative function signature that Minuit supports, which is more convenient when you work a lot with numpy. Here, the parameters are passed as a numpy array. The two kinds of function definitions have each pros and cons. We will first dive (kp: dive into?) how to work with functions of the first kind and come back to the second kind later. If you are interested only in the second kind, skip to the section **Alternative: Numpy functions**\n",
    "\n",
    "### Initialize Minuit\n",
    "\n",
    "To minimize a function, you create an instance of the Minuit class and pass the function to it. This does not start the minimization yet, this will come later. **iminuit uses introspection to get the number and names of the function parameters automatically**.\n"
   ]
  },
  {
   "cell_type": "code",
   "execution_count": 17,
   "metadata": {},
   "outputs": [
    {
     "name": "stderr",
     "output_type": "stream",
     "text": [
      "/usr/local/lib/python3.7/site-packages/ipykernel_launcher.py:1: InitialParamWarning: Parameter a does not have initial value. Assume 0.\n",
      "  \"\"\"Entry point for launching an IPython kernel.\n",
      "/usr/local/lib/python3.7/site-packages/ipykernel_launcher.py:1: InitialParamWarning: Parameter a is floating but does not have initial step size. Assume 1.\n",
      "  \"\"\"Entry point for launching an IPython kernel.\n",
      "/usr/local/lib/python3.7/site-packages/ipykernel_launcher.py:1: InitialParamWarning: Parameter b does not have initial value. Assume 0.\n",
      "  \"\"\"Entry point for launching an IPython kernel.\n",
      "/usr/local/lib/python3.7/site-packages/ipykernel_launcher.py:1: InitialParamWarning: Parameter b is floating but does not have initial step size. Assume 1.\n",
      "  \"\"\"Entry point for launching an IPython kernel.\n",
      "/usr/local/lib/python3.7/site-packages/ipykernel_launcher.py:1: InitialParamWarning: errordef is not given. Default to 1.\n",
      "  \"\"\"Entry point for launching an IPython kernel.\n",
      "/usr/local/lib/python3.7/site-packages/ipykernel_launcher.py:1: InitialParamWarning: Parameter a does not have initial value. Assume 0.\n",
      "  \"\"\"Entry point for launching an IPython kernel.\n",
      "/usr/local/lib/python3.7/site-packages/ipykernel_launcher.py:1: InitialParamWarning: Parameter a is floating but does not have initial step size. Assume 1.\n",
      "  \"\"\"Entry point for launching an IPython kernel.\n",
      "/usr/local/lib/python3.7/site-packages/ipykernel_launcher.py:1: InitialParamWarning: Parameter b does not have initial value. Assume 0.\n",
      "  \"\"\"Entry point for launching an IPython kernel.\n",
      "/usr/local/lib/python3.7/site-packages/ipykernel_launcher.py:1: InitialParamWarning: Parameter b is floating but does not have initial step size. Assume 1.\n",
      "  \"\"\"Entry point for launching an IPython kernel.\n",
      "/usr/local/lib/python3.7/site-packages/ipykernel_launcher.py:1: InitialParamWarning: errordef is not given. Default to 1.\n",
      "  \"\"\"Entry point for launching an IPython kernel.\n"
     ]
    }
   ],
   "source": [
    "m = Minuit(least_squares) # we create an instance of Minuit and pass the function to minimize"
   ]
  },
  {
   "cell_type": "markdown",
   "metadata": {},
   "source": [
    "Woah, lots of warnings, we will go through them step-by-step. Note how iminuit refers to your parameters by correct names in the warnings. **The filename and line numbers shown in the warnings are bogus in Jupyter notebooks, but refer to the correct file and line when you use iminuit in a script or in the terminal shell**.\n",
    "### Initial parameter values\n",
    "\n",
    "**iminuit is a local minimizer.** It **searches for a local minimum by gradient-descent method from a starting point**. If your function has several minima, the minimum found will depend on the starting point. Even if it has only one minimum, iminuit will converge to it faster if you start in the proximity of the minimum. If you don't provide a starting value for a parameter, it uses 0. You almost always want to specify a starting point.\n",
    "\n",
    "You can set the starting point using the parameter names as keywords, `<name> = <value>`.\n"
   ]
  },
  {
   "cell_type": "code",
   "execution_count": 18,
   "metadata": {},
   "outputs": [
    {
     "name": "stderr",
     "output_type": "stream",
     "text": [
      "/usr/local/lib/python3.7/site-packages/ipykernel_launcher.py:1: InitialParamWarning: Parameter a is floating but does not have initial step size. Assume 1.\n",
      "  \"\"\"Entry point for launching an IPython kernel.\n",
      "/usr/local/lib/python3.7/site-packages/ipykernel_launcher.py:1: InitialParamWarning: Parameter b is floating but does not have initial step size. Assume 1.\n",
      "  \"\"\"Entry point for launching an IPython kernel.\n",
      "/usr/local/lib/python3.7/site-packages/ipykernel_launcher.py:1: InitialParamWarning: errordef is not given. Default to 1.\n",
      "  \"\"\"Entry point for launching an IPython kernel.\n",
      "/usr/local/lib/python3.7/site-packages/ipykernel_launcher.py:1: InitialParamWarning: Parameter a is floating but does not have initial step size. Assume 1.\n",
      "  \"\"\"Entry point for launching an IPython kernel.\n",
      "/usr/local/lib/python3.7/site-packages/ipykernel_launcher.py:1: InitialParamWarning: Parameter b is floating but does not have initial step size. Assume 1.\n",
      "  \"\"\"Entry point for launching an IPython kernel.\n",
      "/usr/local/lib/python3.7/site-packages/ipykernel_launcher.py:1: InitialParamWarning: errordef is not given. Default to 1.\n",
      "  \"\"\"Entry point for launching an IPython kernel.\n"
     ]
    }
   ],
   "source": [
    "m = Minuit(least_squares, a=5, b=5) # pass starting values for a and b"
   ]
  },
  {
   "cell_type": "markdown",
   "metadata": {},
   "source": [
    "### Initial step sizes\n",
    "\n",
    "iminuit further wants initial step sizes. **iminuit uses a gradient-descent method to find the minimum and the gradient is computed numerically using finite differences.** The initial step size is used to compute the first gradient. If you don't provide a value, it uses 1. **A good step size is small compared to the curvature of the function, but large compared to numerical resolution.**\n",
    "\n",
    "You can set initital step sizes with keywords, `error_<name> = <step size>`. **If you don't know what to pick, don't worry too much. Usually, the choice is not important. In the worst case, iminuit will use a few more function evaluations to find the minimum. A good guess is a fraction of the initial fit parameter value, e.g. 10 % (be careful when applying this rule-of-thumb when your the initial parameter value is zero).** \n",
    "\n",
    "Using an appropriate step size is important when you have you a parameter which has physical bounds. Varying the initial parameter value by the step size may not create a situation where the parameter goes outside of its bounds. For example, a parameter x with x>0 and initital value 0.1 may not have a step size of 0.2. \n",
    "\n",
    "**If you follow the recommendation of using 10 % of the initial value, you never run into this problem.**\n",
    "\n",
    "In our example, we use an initital step size of **Δa=Δb=0.1**."
   ]
  },
  {
   "cell_type": "code",
   "execution_count": 19,
   "metadata": {},
   "outputs": [
    {
     "name": "stderr",
     "output_type": "stream",
     "text": [
      "/usr/local/lib/python3.7/site-packages/ipykernel_launcher.py:1: InitialParamWarning: errordef is not given. Default to 1.\n",
      "  \"\"\"Entry point for launching an IPython kernel.\n",
      "/usr/local/lib/python3.7/site-packages/ipykernel_launcher.py:1: InitialParamWarning: errordef is not given. Default to 1.\n",
      "  \"\"\"Entry point for launching an IPython kernel.\n"
     ]
    }
   ],
   "source": [
    "m = Minuit(least_squares, a=5, b=5, error_a=0.1, error_b=0.1)"
   ]
  },
  {
   "cell_type": "markdown",
   "metadata": {},
   "source": [
    "### Error definition\n",
    "\n",
    "Only one warning left. Minuit asks you to explicitly provide a value for the error definition with the errordef keyword. This is **needed to get correct uncertainty estimates for your parameters.** In **statistical problems, there are two kinds of functions to minimize, the negative log-likelihood and the least-squares function**. Each has a corresponding value for errordef:\n",
    "\n",
    "* errordef = 0.5 for negative log-likelihood functions\n",
    "* errordef = 1 for least-squares functions\n",
    "\n",
    "The origin of these numbers cannot be explained briefly, so if you are curious, we suggest a statistics book for physicists, e.g. G. Cowan, \"Statistical Data Analysis\", Oxford Science Publications.\n",
    "\n",
    "If you don't care about uncertainty estimates, pass errordef=1 (although you are probably here exactly because iminuit computes uncertainty estimates).\n",
    "\n",
    "For our example, we need to pass errordef=1, because we are minimizing a least-squares function.\n"
   ]
  },
  {
   "cell_type": "code",
   "execution_count": 20,
   "metadata": {},
   "outputs": [],
   "source": [
    "m = Minuit(least_squares, a=5, b=5, error_a=0.1, error_b=0.1, errordef=1)"
   ]
  },
  {
   "cell_type": "markdown",
   "metadata": {},
   "source": [
    "Now iminuit is happy, all optional information is provided. If you want to quickly minimize a function and you know that the defaults are ok, you can also explicitly silence all warnings, like so:"
   ]
  },
  {
   "cell_type": "code",
   "execution_count": 21,
   "metadata": {},
   "outputs": [],
   "source": [
    "m = Minuit(least_squares, pedantic=False)  # silence warnings, use default values"
   ]
  },
  {
   "cell_type": "markdown",
   "metadata": {},
   "source": [
    "You can always check the current parameter settings with the method **Minuit.get_param_states()**."
   ]
  },
  {
   "cell_type": "code",
   "execution_count": 22,
   "metadata": {},
   "outputs": [
    {
     "data": {
      "text/html": [
       "<table>\n",
       "<tr style=\"background-color:#F4F4F4;\">\n",
       "<td/>\n",
       "<th title=\"Variable name\">\n",
       "Name\n",
       "</th>\n",
       "<th title=\"Value of parameter\">\n",
       "Value\n",
       "</th>\n",
       "<th title=\"Hesse error\">\n",
       "Hesse Error\n",
       "</th>\n",
       "<th title=\"Minos lower error\">\n",
       "Minos Error-\n",
       "</th>\n",
       "<th title=\"Minos upper error\">\n",
       "Minos Error+\n",
       "</th>\n",
       "<th title=\"Lower limit of the parameter\">\n",
       "Limit-\n",
       "</th>\n",
       "<th title=\"Upper limit of the parameter\">\n",
       "Limit+\n",
       "</th>\n",
       "<th title=\"Is the parameter fixed in the fit\">\n",
       "Fixed\n",
       "</th>\n",
       "</tr>\n",
       "<tr style=\"background-color:#FFFFFF;\">\n",
       "<td>\n",
       "0\n",
       "</td>\n",
       "<td>\n",
       "a\n",
       "</td>\n",
       "<td>\n",
       "0.0\n",
       "</td>\n",
       "<td>\n",
       "1.0\n",
       "</td>\n",
       "<td>\n",
       "\n",
       "</td>\n",
       "<td>\n",
       "\n",
       "</td>\n",
       "<td>\n",
       "\n",
       "</td>\n",
       "<td>\n",
       "\n",
       "</td>\n",
       "<td>\n",
       "\n",
       "</td>\n",
       "</tr>\n",
       "<tr style=\"background-color:#F4F4F4;\">\n",
       "<td>\n",
       "1\n",
       "</td>\n",
       "<td>\n",
       "b\n",
       "</td>\n",
       "<td>\n",
       "0.0\n",
       "</td>\n",
       "<td>\n",
       "1.0\n",
       "</td>\n",
       "<td>\n",
       "\n",
       "</td>\n",
       "<td>\n",
       "\n",
       "</td>\n",
       "<td>\n",
       "\n",
       "</td>\n",
       "<td>\n",
       "\n",
       "</td>\n",
       "<td>\n",
       "\n",
       "</td>\n",
       "</tr>\n",
       "</table>\n"
      ],
      "text/plain": [
       "------------------------------------------------------------------------------------------\n",
       "|   | Name |   Value   | Hesse Err | Minos Err- | Minos Err+ | Limit-  | Limit+  | Fixed |\n",
       "------------------------------------------------------------------------------------------\n",
       "| 0 | a    |    0.0    |    1.0    |            |            |         |         |       |\n",
       "| 1 | b    |    0.0    |    1.0    |            |            |         |         |       |\n",
       "------------------------------------------------------------------------------------------"
      ]
     },
     "execution_count": 22,
     "metadata": {},
     "output_type": "execute_result"
    }
   ],
   "source": [
    "m.get_param_states()"
   ]
  },
  {
   "cell_type": "markdown",
   "metadata": {},
   "source": [
    "As you can see, this produces a nice table. The table will be updated once you run the actual minimization. To look at the initital conditions later, use Minuit.get_initial_param_states(). We will come back to the meaning of Hesse Error and Minos Error, when we discuss the actual minimization.\n",
    "\n",
    "Before we do that, let's see what else we can specify in the initialization.\n",
    "### Parameters with limits\n",
    "\n",
    "iminuit allows you to set parameter limits. Often a parameter is limited mathematically or physically to a certain range. For example, if your function contains `sqrt(x)`, then x\n",
    "must be non-negative, `x≥0`. You can set upper-, lower-, or two-sided limits for each parameter individually with keywords `limit_<name>`:\n",
    "\n",
    "* lower limit: use `limit_<name> = (<value>, None) or (<value>, float(\"infinity\"))`\n",
    "* upper limit: use `limit_<name> = (None, <value>) or (-float(\"infinity\"), <value>)`\n",
    "* two-sided limit: `use limit_<name> = (<min_value>, <max_value>)`\n",
    "\n",
    "To impose the limits `a≥0` and `0≤b≤10` in our example, you do:"
   ]
  },
  {
   "cell_type": "code",
   "execution_count": 23,
   "metadata": {},
   "outputs": [
    {
     "data": {
      "text/html": [
       "<table>\n",
       "<tr style=\"background-color:#F4F4F4;\">\n",
       "<td/>\n",
       "<th title=\"Variable name\">\n",
       "Name\n",
       "</th>\n",
       "<th title=\"Value of parameter\">\n",
       "Value\n",
       "</th>\n",
       "<th title=\"Hesse error\">\n",
       "Hesse Error\n",
       "</th>\n",
       "<th title=\"Minos lower error\">\n",
       "Minos Error-\n",
       "</th>\n",
       "<th title=\"Minos upper error\">\n",
       "Minos Error+\n",
       "</th>\n",
       "<th title=\"Lower limit of the parameter\">\n",
       "Limit-\n",
       "</th>\n",
       "<th title=\"Upper limit of the parameter\">\n",
       "Limit+\n",
       "</th>\n",
       "<th title=\"Is the parameter fixed in the fit\">\n",
       "Fixed\n",
       "</th>\n",
       "</tr>\n",
       "<tr style=\"background-color:#FFFFFF;\">\n",
       "<td>\n",
       "0\n",
       "</td>\n",
       "<td>\n",
       "a\n",
       "</td>\n",
       "<td>\n",
       "5.00\n",
       "</td>\n",
       "<td>\n",
       "0.10\n",
       "</td>\n",
       "<td>\n",
       "\n",
       "</td>\n",
       "<td>\n",
       "\n",
       "</td>\n",
       "<td>\n",
       "0\n",
       "</td>\n",
       "<td>\n",
       "\n",
       "</td>\n",
       "<td>\n",
       "\n",
       "</td>\n",
       "</tr>\n",
       "<tr style=\"background-color:#F4F4F4;\">\n",
       "<td>\n",
       "1\n",
       "</td>\n",
       "<td>\n",
       "b\n",
       "</td>\n",
       "<td>\n",
       "5.00\n",
       "</td>\n",
       "<td>\n",
       "0.10\n",
       "</td>\n",
       "<td>\n",
       "\n",
       "</td>\n",
       "<td>\n",
       "\n",
       "</td>\n",
       "<td>\n",
       "0\n",
       "</td>\n",
       "<td>\n",
       "10\n",
       "</td>\n",
       "<td>\n",
       "\n",
       "</td>\n",
       "</tr>\n",
       "</table>\n"
      ],
      "text/plain": [
       "------------------------------------------------------------------------------------------\n",
       "|   | Name |   Value   | Hesse Err | Minos Err- | Minos Err+ | Limit-  | Limit+  | Fixed |\n",
       "------------------------------------------------------------------------------------------\n",
       "| 0 | a    |   5.00    |   0.10    |            |            |    0    |         |       |\n",
       "| 1 | b    |   5.00    |   0.10    |            |            |    0    |   10    |       |\n",
       "------------------------------------------------------------------------------------------"
      ]
     },
     "execution_count": 23,
     "metadata": {},
     "output_type": "execute_result"
    }
   ],
   "source": [
    "m = Minuit(least_squares, a=5, b=5,\n",
    "           error_a=0.1, error_b=0.1,\n",
    "           limit_a=(0, None), limit_b=(0, 10),\n",
    "           errordef=1)\n",
    "m.get_param_states()"
   ]
  },
  {
   "cell_type": "markdown",
   "metadata": {},
   "source": [
    "### (Initially) Fixed parameters\n",
    "\n",
    "Sometimes you have a parameter which you want to set to a fixed value temporarily. Perhaps you have a guess for its value, and you want to see how the other parameters adapt when this parameter is fixed to that value.\n",
    "\n",
    "Or you have a complex function with many parameters that do not all affect the function at the same scale. Then you can manually help the minimizer to find the minimum faster by first fixing the less important parameters to initial guesses and fit only the important parameters. Once the minimum is found under these conditions, you can release the fixed parameters and optimize all parameters together. Minuit remembers the last state of the minimization and starts from there. The minimization time roughly scales with the square of the number of parameters. Iterated minimization over subspaces of the parameters can reduce that time.\n",
    "\n",
    "To fix an individual parameter, you use the keyword `fix_<name> = True`. In our example, we fix x, like so:"
   ]
  },
  {
   "cell_type": "code",
   "execution_count": 24,
   "metadata": {},
   "outputs": [
    {
     "data": {
      "text/html": [
       "<table>\n",
       "<tr style=\"background-color:#F4F4F4;\">\n",
       "<td/>\n",
       "<th title=\"Variable name\">\n",
       "Name\n",
       "</th>\n",
       "<th title=\"Value of parameter\">\n",
       "Value\n",
       "</th>\n",
       "<th title=\"Hesse error\">\n",
       "Hesse Error\n",
       "</th>\n",
       "<th title=\"Minos lower error\">\n",
       "Minos Error-\n",
       "</th>\n",
       "<th title=\"Minos upper error\">\n",
       "Minos Error+\n",
       "</th>\n",
       "<th title=\"Lower limit of the parameter\">\n",
       "Limit-\n",
       "</th>\n",
       "<th title=\"Upper limit of the parameter\">\n",
       "Limit+\n",
       "</th>\n",
       "<th title=\"Is the parameter fixed in the fit\">\n",
       "Fixed\n",
       "</th>\n",
       "</tr>\n",
       "<tr style=\"background-color:#FFFFFF;\">\n",
       "<td>\n",
       "0\n",
       "</td>\n",
       "<td>\n",
       "a\n",
       "</td>\n",
       "<td>\n",
       "5.00\n",
       "</td>\n",
       "<td>\n",
       "0.10\n",
       "</td>\n",
       "<td>\n",
       "\n",
       "</td>\n",
       "<td>\n",
       "\n",
       "</td>\n",
       "<td>\n",
       "\n",
       "</td>\n",
       "<td>\n",
       "\n",
       "</td>\n",
       "<td>\n",
       "yes\n",
       "</td>\n",
       "</tr>\n",
       "<tr style=\"background-color:#F4F4F4;\">\n",
       "<td>\n",
       "1\n",
       "</td>\n",
       "<td>\n",
       "b\n",
       "</td>\n",
       "<td>\n",
       "5.00\n",
       "</td>\n",
       "<td>\n",
       "0.10\n",
       "</td>\n",
       "<td>\n",
       "\n",
       "</td>\n",
       "<td>\n",
       "\n",
       "</td>\n",
       "<td>\n",
       "\n",
       "</td>\n",
       "<td>\n",
       "\n",
       "</td>\n",
       "<td>\n",
       "\n",
       "</td>\n",
       "</tr>\n",
       "</table>\n"
      ],
      "text/plain": [
       "------------------------------------------------------------------------------------------\n",
       "|   | Name |   Value   | Hesse Err | Minos Err- | Minos Err+ | Limit-  | Limit+  | Fixed |\n",
       "------------------------------------------------------------------------------------------\n",
       "| 0 | a    |   5.00    |   0.10    |            |            |         |         |  yes  |\n",
       "| 1 | b    |   5.00    |   0.10    |            |            |         |         |       |\n",
       "------------------------------------------------------------------------------------------"
      ]
     },
     "execution_count": 24,
     "metadata": {},
     "output_type": "execute_result"
    }
   ],
   "source": [
    "m = Minuit(least_squares, a=5, b=5, fix_a=True,\n",
    "           error_a=0.1, error_b=0.1,\n",
    "           errordef=1)\n",
    "m.get_param_states()"
   ]
  },
  {
   "cell_type": "markdown",
   "metadata": {},
   "source": [
    "<span style='color:brown'>\n",
    "    \n",
    "#### kp: There is more to be tried and added here .... please comeback and reveiw the tutorial  and add here\n",
    "\n",
    "I am jumping to what I immediately needed, but I should come back to cover what I skipped here ...\n",
    "</span>"
   ]
  },
  {
   "cell_type": "code",
   "execution_count": null,
   "metadata": {},
   "outputs": [],
   "source": []
  },
  {
   "cell_type": "code",
   "execution_count": null,
   "metadata": {},
   "outputs": [],
   "source": []
  },
  {
   "cell_type": "markdown",
   "metadata": {},
   "source": [
    "### Alternative: Vectorized functions\n",
    "\n",
    "You can also use iminuit with functions that accept numpy arrays. This has pros and cons.\n",
    "\n",
    "**Pros**\n",
    "* Easy to change number of fitted parameters\n",
    "* Sometimes simpler function body that's easier to read\n",
    "* Technically more efficient, although this is probably not noticable unless you have >100 parameters\n",
    "\n",
    "**Cons**\n",
    "* iminuit cannot figure out names for each parameter\n",
    "\n",
    "Let's take the original least_squares function and write a vectorized version:"
   ]
  },
  {
   "cell_type": "code",
   "execution_count": 26,
   "metadata": {},
   "outputs": [],
   "source": [
    "import numpy as np\n",
    "\n",
    "def least_squares_np(par):  # par is a numpy array here \n",
    "    mu = np.polyval(par, data_x)  # for par = (a, b) this is a line\n",
    "    yvar = 0.01\n",
    "    return np.sum((data_y - mu) ** 2 / yvar)"
   ]
  },
  {
   "cell_type": "markdown",
   "metadata": {},
   "source": [
    "`least_square(a, b)` and `least_squares_np(par)` are alternative implementations of the same mathematical function, if the latter is called with two arguments. In contrast to `least_squares, least_squares_np` can also be called with fewer or more arguments, using a polynomial of the corresponding order predict the behavior of the data. This will come in handy.\n",
    "\n",
    "To pass a numpy function, create a Minuit object with the method `Minuit.from_array_func`. Using the function `least_squares_np(par)` described above as an example, the call looks like this:"
   ]
  },
  {
   "cell_type": "code",
   "execution_count": 27,
   "metadata": {},
   "outputs": [
    {
     "data": {
      "text/html": [
       "<table>\n",
       "<tr style=\"background-color:#F4F4F4;\">\n",
       "<td/>\n",
       "<th title=\"Variable name\">\n",
       "Name\n",
       "</th>\n",
       "<th title=\"Value of parameter\">\n",
       "Value\n",
       "</th>\n",
       "<th title=\"Hesse error\">\n",
       "Hesse Error\n",
       "</th>\n",
       "<th title=\"Minos lower error\">\n",
       "Minos Error-\n",
       "</th>\n",
       "<th title=\"Minos upper error\">\n",
       "Minos Error+\n",
       "</th>\n",
       "<th title=\"Lower limit of the parameter\">\n",
       "Limit-\n",
       "</th>\n",
       "<th title=\"Upper limit of the parameter\">\n",
       "Limit+\n",
       "</th>\n",
       "<th title=\"Is the parameter fixed in the fit\">\n",
       "Fixed\n",
       "</th>\n",
       "</tr>\n",
       "<tr style=\"background-color:#FFFFFF;\">\n",
       "<td>\n",
       "0\n",
       "</td>\n",
       "<td>\n",
       "x0\n",
       "</td>\n",
       "<td>\n",
       "5.00\n",
       "</td>\n",
       "<td>\n",
       "0.10\n",
       "</td>\n",
       "<td>\n",
       "\n",
       "</td>\n",
       "<td>\n",
       "\n",
       "</td>\n",
       "<td>\n",
       "\n",
       "</td>\n",
       "<td>\n",
       "\n",
       "</td>\n",
       "<td>\n",
       "\n",
       "</td>\n",
       "</tr>\n",
       "<tr style=\"background-color:#F4F4F4;\">\n",
       "<td>\n",
       "1\n",
       "</td>\n",
       "<td>\n",
       "x1\n",
       "</td>\n",
       "<td>\n",
       "5.00\n",
       "</td>\n",
       "<td>\n",
       "0.10\n",
       "</td>\n",
       "<td>\n",
       "\n",
       "</td>\n",
       "<td>\n",
       "\n",
       "</td>\n",
       "<td>\n",
       "\n",
       "</td>\n",
       "<td>\n",
       "\n",
       "</td>\n",
       "<td>\n",
       "\n",
       "</td>\n",
       "</tr>\n",
       "</table>\n"
      ],
      "text/plain": [
       "------------------------------------------------------------------------------------------\n",
       "|   | Name |   Value   | Hesse Err | Minos Err- | Minos Err+ | Limit-  | Limit+  | Fixed |\n",
       "------------------------------------------------------------------------------------------\n",
       "| 0 | x0   |   5.00    |   0.10    |            |            |         |         |       |\n",
       "| 1 | x1   |   5.00    |   0.10    |            |            |         |         |       |\n",
       "------------------------------------------------------------------------------------------"
      ]
     },
     "execution_count": 27,
     "metadata": {},
     "output_type": "execute_result"
    }
   ],
   "source": [
    "m = Minuit.from_array_func(least_squares_np, (5, 5), error=(0.1, 0.1), errordef=1)\n",
    "m.get_param_states()"
   ]
  },
  {
   "cell_type": "markdown",
   "metadata": {},
   "source": [
    "The first argument after the function is the starting point, which you provide as a sequence here. iminuit uses the length of this sequence to detect how many parameters your function has. As before you can use the keywords `error, limit`, and `fix`, to set initial step sizes, parameter limits, and fix parameters. These must be sequences with the same length as the starting point. For `error` and `limit`, it is also allowed to give a single step size or a single limit, which is then used for all parameters.\n",
    "\n",
    "By default, the parameters are named automatically `x0` to `xN`. You can override this with the keyword name, passing a sequence of parameter names, like so:\n"
   ]
  },
  {
   "cell_type": "code",
   "execution_count": 28,
   "metadata": {},
   "outputs": [
    {
     "data": {
      "text/html": [
       "<table>\n",
       "<tr style=\"background-color:#F4F4F4;\">\n",
       "<td/>\n",
       "<th title=\"Variable name\">\n",
       "Name\n",
       "</th>\n",
       "<th title=\"Value of parameter\">\n",
       "Value\n",
       "</th>\n",
       "<th title=\"Hesse error\">\n",
       "Hesse Error\n",
       "</th>\n",
       "<th title=\"Minos lower error\">\n",
       "Minos Error-\n",
       "</th>\n",
       "<th title=\"Minos upper error\">\n",
       "Minos Error+\n",
       "</th>\n",
       "<th title=\"Lower limit of the parameter\">\n",
       "Limit-\n",
       "</th>\n",
       "<th title=\"Upper limit of the parameter\">\n",
       "Limit+\n",
       "</th>\n",
       "<th title=\"Is the parameter fixed in the fit\">\n",
       "Fixed\n",
       "</th>\n",
       "</tr>\n",
       "<tr style=\"background-color:#FFFFFF;\">\n",
       "<td>\n",
       "0\n",
       "</td>\n",
       "<td>\n",
       "a\n",
       "</td>\n",
       "<td>\n",
       "5.00\n",
       "</td>\n",
       "<td>\n",
       "0.10\n",
       "</td>\n",
       "<td>\n",
       "\n",
       "</td>\n",
       "<td>\n",
       "\n",
       "</td>\n",
       "<td>\n",
       "0\n",
       "</td>\n",
       "<td>\n",
       "\n",
       "</td>\n",
       "<td>\n",
       "yes\n",
       "</td>\n",
       "</tr>\n",
       "<tr style=\"background-color:#F4F4F4;\">\n",
       "<td>\n",
       "1\n",
       "</td>\n",
       "<td>\n",
       "b\n",
       "</td>\n",
       "<td>\n",
       "5.00\n",
       "</td>\n",
       "<td>\n",
       "0.10\n",
       "</td>\n",
       "<td>\n",
       "\n",
       "</td>\n",
       "<td>\n",
       "\n",
       "</td>\n",
       "<td>\n",
       "0\n",
       "</td>\n",
       "<td>\n",
       "10\n",
       "</td>\n",
       "<td>\n",
       "\n",
       "</td>\n",
       "</tr>\n",
       "</table>\n"
      ],
      "text/plain": [
       "------------------------------------------------------------------------------------------\n",
       "|   | Name |   Value   | Hesse Err | Minos Err- | Minos Err+ | Limit-  | Limit+  | Fixed |\n",
       "------------------------------------------------------------------------------------------\n",
       "| 0 | a    |   5.00    |   0.10    |            |            |    0    |         |  yes  |\n",
       "| 1 | b    |   5.00    |   0.10    |            |            |    0    |   10    |       |\n",
       "------------------------------------------------------------------------------------------"
      ]
     },
     "execution_count": 28,
     "metadata": {},
     "output_type": "execute_result"
    }
   ],
   "source": [
    "m = Minuit.from_array_func(least_squares_np, (5, 5), error=(0.1, 0.1), fix=(True, False),\n",
    "                           limit=((0, None), (0, 10)),\n",
    "                           name = (\"a\", \"b\"), errordef=1)\n",
    "m.get_param_states()"
   ]
  },
  {
   "cell_type": "markdown",
   "metadata": {},
   "source": [
    "Since `least_squares_np(par)` works for numpy arrays of any length, you can easily change the number of fitted parameters by changing the length of the starting array, like so:"
   ]
  },
  {
   "cell_type": "code",
   "execution_count": 29,
   "metadata": {},
   "outputs": [
    {
     "data": {
      "text/html": [
       "<table>\n",
       "<tr style=\"background-color:#F4F4F4;\">\n",
       "<td/>\n",
       "<th title=\"Variable name\">\n",
       "Name\n",
       "</th>\n",
       "<th title=\"Value of parameter\">\n",
       "Value\n",
       "</th>\n",
       "<th title=\"Hesse error\">\n",
       "Hesse Error\n",
       "</th>\n",
       "<th title=\"Minos lower error\">\n",
       "Minos Error-\n",
       "</th>\n",
       "<th title=\"Minos upper error\">\n",
       "Minos Error+\n",
       "</th>\n",
       "<th title=\"Lower limit of the parameter\">\n",
       "Limit-\n",
       "</th>\n",
       "<th title=\"Upper limit of the parameter\">\n",
       "Limit+\n",
       "</th>\n",
       "<th title=\"Is the parameter fixed in the fit\">\n",
       "Fixed\n",
       "</th>\n",
       "</tr>\n",
       "<tr style=\"background-color:#FFFFFF;\">\n",
       "<td>\n",
       "0\n",
       "</td>\n",
       "<td>\n",
       "x0\n",
       "</td>\n",
       "<td>\n",
       "5.00\n",
       "</td>\n",
       "<td>\n",
       "0.10\n",
       "</td>\n",
       "<td>\n",
       "\n",
       "</td>\n",
       "<td>\n",
       "\n",
       "</td>\n",
       "<td>\n",
       "\n",
       "</td>\n",
       "<td>\n",
       "\n",
       "</td>\n",
       "<td>\n",
       "\n",
       "</td>\n",
       "</tr>\n",
       "<tr style=\"background-color:#F4F4F4;\">\n",
       "<td>\n",
       "1\n",
       "</td>\n",
       "<td>\n",
       "x1\n",
       "</td>\n",
       "<td>\n",
       "5.00\n",
       "</td>\n",
       "<td>\n",
       "0.10\n",
       "</td>\n",
       "<td>\n",
       "\n",
       "</td>\n",
       "<td>\n",
       "\n",
       "</td>\n",
       "<td>\n",
       "\n",
       "</td>\n",
       "<td>\n",
       "\n",
       "</td>\n",
       "<td>\n",
       "\n",
       "</td>\n",
       "</tr>\n",
       "<tr style=\"background-color:#FFFFFF;\">\n",
       "<td>\n",
       "2\n",
       "</td>\n",
       "<td>\n",
       "x2\n",
       "</td>\n",
       "<td>\n",
       "5.00\n",
       "</td>\n",
       "<td>\n",
       "0.10\n",
       "</td>\n",
       "<td>\n",
       "\n",
       "</td>\n",
       "<td>\n",
       "\n",
       "</td>\n",
       "<td>\n",
       "\n",
       "</td>\n",
       "<td>\n",
       "\n",
       "</td>\n",
       "<td>\n",
       "\n",
       "</td>\n",
       "</tr>\n",
       "<tr style=\"background-color:#F4F4F4;\">\n",
       "<td>\n",
       "3\n",
       "</td>\n",
       "<td>\n",
       "x3\n",
       "</td>\n",
       "<td>\n",
       "5.00\n",
       "</td>\n",
       "<td>\n",
       "0.10\n",
       "</td>\n",
       "<td>\n",
       "\n",
       "</td>\n",
       "<td>\n",
       "\n",
       "</td>\n",
       "<td>\n",
       "\n",
       "</td>\n",
       "<td>\n",
       "\n",
       "</td>\n",
       "<td>\n",
       "\n",
       "</td>\n",
       "</tr>\n",
       "</table>\n"
      ],
      "text/plain": [
       "------------------------------------------------------------------------------------------\n",
       "|   | Name |   Value   | Hesse Err | Minos Err- | Minos Err+ | Limit-  | Limit+  | Fixed |\n",
       "------------------------------------------------------------------------------------------\n",
       "| 0 | x0   |   5.00    |   0.10    |            |            |         |         |       |\n",
       "| 1 | x1   |   5.00    |   0.10    |            |            |         |         |       |\n",
       "| 2 | x2   |   5.00    |   0.10    |            |            |         |         |       |\n",
       "| 3 | x3   |   5.00    |   0.10    |            |            |         |         |       |\n",
       "------------------------------------------------------------------------------------------"
      ]
     },
     "execution_count": 29,
     "metadata": {},
     "output_type": "execute_result"
    }
   ],
   "source": [
    "m = Minuit.from_array_func(least_squares_np, (5, 5, 5, 5), error=0.1, errordef=1)\n",
    "m.get_param_states()"
   ]
  },
  {
   "cell_type": "markdown",
   "metadata": {},
   "source": [
    "This is useful when you fit a polynomial to parametrize some data and you want to try different orders of the polynomial. If the order is too small, the polynomial will not follow the data. If it is too large, you will overfit the data and polynomial will pick up random fluctuations and not the underlying trend. You can figure out the right order by experimenting or using an algorithm like cross-validation.\n",
    "\n",
    "If you are very familiar with numpy and scipy, you may find the minimize function useful. It exactly mimics the function interface of `scipy.optimize.minimize`, but uses `Minuit` for the actual minimization. You need to have `scipy` installed to use it.\n"
   ]
  },
  {
   "cell_type": "code",
   "execution_count": 30,
   "metadata": {},
   "outputs": [
    {
     "data": {
      "text/plain": [
       "      fun: 10.387011251394036\n",
       " hess_inv: array([[ 0.00981818, -0.00490909],\n",
       "       [-0.00490909,  0.00345455]])\n",
       "  message: 'Optimization terminated successfully.'\n",
       "   minuit: <iminuit._libiminuit.Minuit object at 0x7fc75fb8e350>\n",
       "     nfev: 36\n",
       "     njev: 0\n",
       "  success: True\n",
       "        x: array([1.9449447 , 0.99096644])"
      ]
     },
     "execution_count": 30,
     "metadata": {},
     "output_type": "execute_result"
    }
   ],
   "source": [
    "from iminuit import minimize  # has same interface as scipy.optimize.minimize\n",
    "minimize(least_squares_np, (5, 5))"
   ]
  },
  {
   "cell_type": "markdown",
   "metadata": {},
   "source": [
    "### Minimize the function\n",
    "\n",
    "To run the actual minimization, you call the `Minuit.migrad()` method. Migrad performs Variable-Metric Minimization. It combines a steepest-descends algorithm along with line search strategy. Migrad is very popular in high energy physics field because of its robustness.\n"
   ]
  },
  {
   "cell_type": "code",
   "execution_count": 31,
   "metadata": {},
   "outputs": [
    {
     "data": {
      "text/html": [
       "<table>\n",
       "<tr>\n",
       "<td colspan=\"2\" title=\"Minimum value of function\">\n",
       "FCN = 10.39\n",
       "</td>\n",
       "<td align=\"center\" colspan=\"3\" title=\"No. of calls in last algorithm and total number of calls\">\n",
       "Ncalls = 32 (32 total)\n",
       "</td>\n",
       "</tr>\n",
       "<tr>\n",
       "<td colspan=\"2\" title=\"Estimated distance to minimum and target threshold\">\n",
       "EDM = 7.24E-23 (Goal: 0.0002)\n",
       "</td>\n",
       "<td align=\"center\" colspan=\"3\" title=\"Increase in FCN which corresponds to 1 standard deviation\">\n",
       "up = 1.0\n",
       "</td>\n",
       "</tr>\n",
       "<tr>\n",
       "<td align=\"center\" title=\"Validity of the migrad call\">\n",
       "Valid Min.\n",
       "</td>\n",
       "<td align=\"center\" title=\"Validity of parameters\">\n",
       "Valid Param.\n",
       "</td>\n",
       "<td align=\"center\" title=\"Is EDM above goal EDM?\">\n",
       "Above EDM\n",
       "</td>\n",
       "<td align=\"center\" colspan=\"2\" title=\"Did last migrad call reach max call limit?\">\n",
       "Reached call limit\n",
       "</td>\n",
       "</tr>\n",
       "<tr>\n",
       "<td align=\"center\" style=\"background-color:#92CCA6;\">\n",
       "True\n",
       "</td>\n",
       "<td align=\"center\" style=\"background-color:#92CCA6;\">\n",
       "True\n",
       "</td>\n",
       "<td align=\"center\" style=\"background-color:#92CCA6;\">\n",
       "False\n",
       "</td>\n",
       "<td align=\"center\" colspan=\"2\" style=\"background-color:#92CCA6;\">\n",
       "False\n",
       "</td>\n",
       "</tr>\n",
       "<tr>\n",
       "<td align=\"center\" title=\"Did Hesse fail?\">\n",
       "Hesse failed\n",
       "</td>\n",
       "<td align=\"center\" title=\"Has covariance matrix\">\n",
       "Has cov.\n",
       "</td>\n",
       "<td align=\"center\" title=\"Is covariance matrix accurate?\">\n",
       "Accurate\n",
       "</td>\n",
       "<td align=\"center\" title=\"Is covariance matrix positive definite?\">\n",
       "Pos. def.\n",
       "</td>\n",
       "<td align=\"center\" title=\"Was positive definiteness enforced by Minuit?\">\n",
       "Forced\n",
       "</td>\n",
       "</tr>\n",
       "<tr>\n",
       "<td align=\"center\" style=\"background-color:#92CCA6;\">\n",
       "False\n",
       "</td>\n",
       "<td align=\"center\" style=\"background-color:#92CCA6;\">\n",
       "True\n",
       "</td>\n",
       "<td align=\"center\" style=\"background-color:#92CCA6;\">\n",
       "True\n",
       "</td>\n",
       "<td align=\"center\" style=\"background-color:#92CCA6;\">\n",
       "True\n",
       "</td>\n",
       "<td align=\"center\" style=\"background-color:#92CCA6;\">\n",
       "False\n",
       "</td>\n",
       "</tr>\n",
       "</table>\n",
       "<table>\n",
       "<tr style=\"background-color:#F4F4F4;\">\n",
       "<td/>\n",
       "<th title=\"Variable name\">\n",
       "Name\n",
       "</th>\n",
       "<th title=\"Value of parameter\">\n",
       "Value\n",
       "</th>\n",
       "<th title=\"Hesse error\">\n",
       "Hesse Error\n",
       "</th>\n",
       "<th title=\"Minos lower error\">\n",
       "Minos Error-\n",
       "</th>\n",
       "<th title=\"Minos upper error\">\n",
       "Minos Error+\n",
       "</th>\n",
       "<th title=\"Lower limit of the parameter\">\n",
       "Limit-\n",
       "</th>\n",
       "<th title=\"Upper limit of the parameter\">\n",
       "Limit+\n",
       "</th>\n",
       "<th title=\"Is the parameter fixed in the fit\">\n",
       "Fixed\n",
       "</th>\n",
       "</tr>\n",
       "<tr style=\"background-color:#FFFFFF;\">\n",
       "<td>\n",
       "0\n",
       "</td>\n",
       "<td>\n",
       "a\n",
       "</td>\n",
       "<td>\n",
       "0.99\n",
       "</td>\n",
       "<td>\n",
       "0.06\n",
       "</td>\n",
       "<td>\n",
       "\n",
       "</td>\n",
       "<td>\n",
       "\n",
       "</td>\n",
       "<td>\n",
       "\n",
       "</td>\n",
       "<td>\n",
       "\n",
       "</td>\n",
       "<td>\n",
       "\n",
       "</td>\n",
       "</tr>\n",
       "<tr style=\"background-color:#F4F4F4;\">\n",
       "<td>\n",
       "1\n",
       "</td>\n",
       "<td>\n",
       "b\n",
       "</td>\n",
       "<td>\n",
       "1.94\n",
       "</td>\n",
       "<td>\n",
       "0.10\n",
       "</td>\n",
       "<td>\n",
       "\n",
       "</td>\n",
       "<td>\n",
       "\n",
       "</td>\n",
       "<td>\n",
       "\n",
       "</td>\n",
       "<td>\n",
       "\n",
       "</td>\n",
       "<td>\n",
       "\n",
       "</td>\n",
       "</tr>\n",
       "</table>\n"
      ],
      "text/plain": [
       "------------------------------------------------------------------\n",
       "| FCN = 10.39                   |      Ncalls=32 (32 total)      |\n",
       "| EDM = 7.24E-23 (Goal: 0.0002) |            up = 1.0            |\n",
       "------------------------------------------------------------------\n",
       "|  Valid Min.   | Valid Param.  | Above EDM | Reached call limit |\n",
       "------------------------------------------------------------------\n",
       "|     True      |     True      |   False   |       False        |\n",
       "------------------------------------------------------------------\n",
       "| Hesse failed  |   Has cov.    | Accurate  | Pos. def. | Forced |\n",
       "------------------------------------------------------------------\n",
       "|     False     |     True      |   True    |   True    | False  |\n",
       "------------------------------------------------------------------\n",
       "------------------------------------------------------------------------------------------\n",
       "|   | Name |   Value   | Hesse Err | Minos Err- | Minos Err+ | Limit-  | Limit+  | Fixed |\n",
       "------------------------------------------------------------------------------------------\n",
       "| 0 | a    |   0.99    |   0.06    |            |            |         |         |       |\n",
       "| 1 | b    |   1.94    |   0.10    |            |            |         |         |       |\n",
       "------------------------------------------------------------------------------------------"
      ]
     },
     "execution_count": 31,
     "metadata": {},
     "output_type": "execute_result"
    }
   ],
   "source": [
    "m = Minuit(least_squares, a=5, b=5, error_a=0.1, error_b=0.1, errordef=1)\n",
    "m.migrad()"
   ]
  },
  {
   "cell_type": "markdown",
   "metadata": {},
   "source": [
    "The method returns two dict-like objects, which contain information about the function minimum and the parameter state. In a notebook, these objects are nicely rendered as tables. This is good for a quick check:\n",
    "* All blocks should be green.\n",
    "* Red means something bad.\n",
    "* Yellow is a caution (fit is good but you ran over call limit)\n",
    "\n",
    "Let's look at the actual object. The first is the function minimum `fmin`:\n"
   ]
  },
  {
   "cell_type": "code",
   "execution_count": 32,
   "metadata": {},
   "outputs": [
    {
     "name": "stdout",
     "output_type": "stream",
     "text": [
      "FMin(fval=10.387011251394041, edm=7.239494620985003e-23, tolerance=0.1, nfcn=32, ncalls=32, up=1.0, is_valid=True, has_valid_parameters=True, has_accurate_covar=True, has_posdef_covar=True, has_made_posdef_covar=False, hesse_failed=False, has_covariance=True, is_above_max_edm=False, has_reached_call_limit=False)\n"
     ]
    }
   ],
   "source": [
    "pprint(m.get_fmin())"
   ]
  },
  {
   "cell_type": "markdown",
   "metadata": {},
   "source": [
    "The most important one here is `is_valid`. If this is false, the fit did not converge and the result is useless. If that happens, there can be many reasons.\n",
    "\n",
    "* The fit function is not analytical everywhere in the parameter space or does not have a local minimum (the minimum may be at infinity, the extremum may be a saddle point or maximum). Indicators for this are `is_above_max_edm=True, hesse_failed=True, has_posdef_covar=False, or has_made_posdef_covar=True`.\n",
    "* Migrad reached the call limit before the convergence so that `has_reached_call_limit=True`. The used number of function calls is nfcn, and the call limit can be changed with the keyword argument ncall in the method `Minuit.migrad`. Note that `nfcn` can be slightly larger than `ncall`, because Migrad internally only checks this condition after a full iteration step, in which several function calls can happen.\n",
    "\n",
    "Migrad detects converge by a small `edm` value, the estimated distance to `minimum`. This is the difference between the current minimum value of the minimized function and the next prediction based on a local quadratic approximation of the function (something that Migrad computes as part of its algorithm). If the fit did not converge, `is_above_max_edm` is true.\n",
    "\n",
    "If you are interested in parameter uncertainties, you should make sure that:\n",
    "\n",
    "* `has_covariance, has_accurate_covar`, and `has_posdef_covar` are true.\n",
    "* `has_made_posdef_covar` and `hesse_failed` are false.\n",
    "\n",
    "Beware: Migrad sometimes reports `is_valid=True` even when the result is wrong. There are some known and perhaps some hidden bugs in the Migrad code which cause this. When you find such a case, please report it, so that we can forward it to the maintainers of C++ Minuit. We advice to carefully check the fit result in any case for consistency, for example, by plotting the fitted function on top of the data to see that they match.\n",
    "\n",
    "The second object of interest after the fit is the parameter list:\n"
   ]
  },
  {
   "cell_type": "code",
   "execution_count": 33,
   "metadata": {},
   "outputs": [
    {
     "name": "stdout",
     "output_type": "stream",
     "text": [
      "[Param(number=0, name='a', value=0.9909664415272599, error=0.058775380904206566, is_const=False, is_fixed=False, has_limits=False, has_lower_limit=False, has_upper_limit=False, lower_limit=None, upper_limit=None),\n",
      " Param(number=1, name='b', value=1.9449447037454373, error=0.09908673816096732, is_const=False, is_fixed=False, has_limits=False, has_lower_limit=False, has_upper_limit=False, lower_limit=None, upper_limit=None)]\n"
     ]
    }
   ],
   "source": [
    "pprint(m.get_param_states())"
   ]
  },
  {
   "cell_type": "markdown",
   "metadata": {},
   "source": [
    "This is a list of dict-like objects which contain information about the fitted parameters. Important fields are:\n",
    "\n",
    "    index: parameter index.\n",
    "    name: parameter name.\n",
    "    value: value of the parameter at the minimum.\n",
    "    error: uncertainty estimate for the parameter value.\n",
    "\n",
    "Whether the uncertainty estimate is accurate depends on the correct mathematical modeling of your fitting problem and using the right errordef value for Minuit (which one to use was already explained earlier).\n",
    "\n",
    "What do we mean by correct mathematical modelling? If you look into the function least_squares(a, b), you see that each squared residuals is divided by the expected stochastic variance of the residual. This is necessary to get accurate uncertainty estimates for the parameters.\n",
    "\n",
    "Often the expected variance of the residual is not exactly known, but it usually can be approximated. If the function to minimize is a least-squares function, there is a simple test to check whether the residual variances are accurate. You look at the function value at the minimum, here given by fmin.fval, and divide it by the difference of the number of residuals and the number of fitted parameters. This is so-called reduced chi2.\n"
   ]
  },
  {
   "cell_type": "code",
   "execution_count": 34,
   "metadata": {},
   "outputs": [
    {
     "data": {
      "text/plain": [
       "1.2983764064242551"
      ]
     },
     "execution_count": 34,
     "metadata": {},
     "output_type": "execute_result"
    }
   ],
   "source": [
    "m.fval / (len(data_y) - 2)  # reduced chi2"
   ]
  },
  {
   "cell_type": "code",
   "execution_count": null,
   "metadata": {},
   "outputs": [],
   "source": []
  },
  {
   "cell_type": "code",
   "execution_count": null,
   "metadata": {},
   "outputs": [],
   "source": []
  },
  {
   "cell_type": "code",
   "execution_count": null,
   "metadata": {},
   "outputs": [],
   "source": []
  },
  {
   "cell_type": "markdown",
   "metadata": {},
   "source": [
    "<span style='color:brown'>\n",
    "    \n",
    "#### kp: Just like I said above, here also I am leaving at this point but I should come back.\n",
    "\n",
    "I am jumping to what I immediately needed, but I should come back to cover what I skipped here ...\n",
    "</span>"
   ]
  },
  {
   "cell_type": "code",
   "execution_count": null,
   "metadata": {},
   "outputs": [],
   "source": []
  },
  {
   "cell_type": "code",
   "execution_count": null,
   "metadata": {},
   "outputs": [],
   "source": []
  },
  {
   "cell_type": "markdown",
   "metadata": {},
   "source": [
    "[Go Top](#GoTop) <a id='SettingParameterLimits'></a>\n",
    "### Now setting limits on parameters\n",
    "(More useful references:\n",
    "\n",
    "https://indico.cern.ch/event/833895/contributions/3577808/attachments/1927550/3191336/iminuit_intro.html)\n",
    "\n",
    "https://iminuit.readthedocs.io/en/latest/reference.html\n",
    "\n",
    "https://stackoverflow.com/questions/55398949/constraints-on-fitting-parameters-in-iminuit\n",
    "```\n",
    "Parameter Keyword Arguments:\n",
    "\n",
    "    iminuit allows user to set initial value, initial stepsize/error, limits of parameters and whether the parameter should be fixed by passing keyword arguments to Minuit.\n",
    "\n",
    "    This is best explained through examples:\n",
    "\n",
    "    def f(x, y):\n",
    "        return (x-2)**2 + (y-3)**2\n",
    "\n",
    "        Initial value (varname):\n",
    "\n",
    "        #initial value for x and y\n",
    "        m = Minuit(f, x=1, y=2)\n",
    "\n",
    "        Initial step size (fix_varname):\n",
    "\n",
    "        #initial step size for x and y\n",
    "        m = Minuit(f, error_x=0.5, error_y=0.5)\n",
    "\n",
    "        Limits (limit_varname=tuple):\n",
    "\n",
    "        #limits x and y\n",
    "        m = Minuit(f, limit_x=(-10,10), limit_y=(-20,20))\n",
    "\n",
    "        Fixing parameters:\n",
    "\n",
    "        #fix x but vary y\n",
    "        m = Minuit(f, fix_x=True)\n",
    "\n",
    "    Note\n",
    "\n",
    "    You can use dictionary expansion to programmatically change parameters.:\n",
    "\n",
    "    kwargs = dict(x=1., error_x=0.5)\n",
    "    m = Minuit(f, **kwargs)\n",
    "\n",
    "    You can also obtain fit arguments from Minuit object for later reuse. fitarg will be automatically updated to the minimum value and the corresponding error when you ran migrad/hesse.:\n",
    "\n",
    "    m = Minuit(f, x=1, error_x=0.5)\n",
    "    my_fitarg = m.fitarg\n",
    "    another_fit = Minuit(f, **my_fitarg)\n",
    "\n",
    "from_array_func(type cls, fcn, start, error=None, limit=None, fix=None, name=None, **kwds)\n",
    "\n",
    "    Construct Minuit object from given fcn and start sequence.\n",
    "\n",
    "    This is an alternative named constructor for the minuit object. It is more convenient to use for functions that accept a numpy array.\n",
    "\n",
    "    Arguments:\n",
    "\n",
    "        fcn: The function to be optimized. Must accept a single parameter that is a numpy array.\n",
    "\n",
    "            def func(x): …\n",
    "\n",
    "        start: Sequence of numbers. Starting point for the minimization.\n",
    "\n",
    "    Keyword arguments:\n",
    "\n",
    "        error: Optional sequence of numbers. Initial step sizes. Scalars are automatically broadcasted to the length of the start sequence.\n",
    "\n",
    "        limit: Optional sequence of limits that restrict the range in which a parameter is varied by minuit. Limits can be set in several ways. With inf = float(“infinity”) we get:\n",
    "\n",
    "            No limit: None, (-inf, inf), (None, None)\n",
    "            Lower limit: (x, None), (x, inf) [replace x with a number]\n",
    "            Upper limit: (None, x), (-inf, x) [replace x with a number]\n",
    "\n",
    "        A single limit is automatically broadcasted to the length of the start sequence.\n",
    "\n",
    "        fix: Optional sequence of boolean values. Whether to fix a parameter to the starting value.\n",
    "\n",
    "        name: Optional sequence of parameter names. If names are not specified, the parameters are called x0, …, xN.\n",
    "\n",
    "        All other keywords are forwarded to Minuit, see its documentation.\n",
    "\n",
    "    Example:\n",
    "\n",
    "        A simple example function is passed to Minuit. It accept a numpy array of the parameters. Initial starting values and error estimates are given:\n",
    "```\n",
    "\n",
    "```py\n",
    "        import numpy as np\n",
    "\n",
    "        def f(x):\n",
    "            mu = (2, 3)\n",
    "            return np.sum((x-mu)**2)\n",
    "\n",
    "        # error is automatically broadcasted to (0.5, 0.5)\n",
    "        m = Minuit.from_array_func(f, (2, 3),\n",
    "                                   error=0.5)\n",
    "```\n",
    "\n",
    "#### Can I have parameter limits that depend on each other (e.g. x^2 + y^2 < 3)?\n",
    "https://iminuit.readthedocs.io/en/latest/faq.html\n",
    "\n",
    "\n",
    "MINUIT was only designed to handle box constrains, meaning that the limits on the parameters are independent of each other and constant during the minimization. If you want limits that depend on each other, you have three options (all with caveats), which are listed in increasing order of difficulty:\n",
    "\n",
    "    Change the variables so that the limits become independent, such as going from x,y to r, phi for a circle. This is not always possible or desirable, of course.\n",
    "    Use another minimizer to locate the minimum which supports complex boundaries. The nlopt library and scipy.optimize have such minimizers. Once the minimum is found and if it is not near the boundary, place box constraints around the minimum and run iminuit to get the uncertainties (make sure that the box constraints are not too tight around the minimum). Neither nlopt nor scipy can give you the uncertainties.\n",
    "    Artificially increase the negative log-likelihood in the forbidden region. This is not as easy as it sounds.\n",
    "\n",
    "The third method done properly is known as the interior point or barrier method. A glance at the Wikipedia article shows that one has to either run a series of minimizations with iminuit (and find a clever way of knowing when to stop) or implement this properly at the level of a Newton step, which would require changes to the complex and convoluted internals of MINUIT2.\n",
    "\n",
    "Warning: you cannot just add a large value to the likelihood when the parameter boundary is violated. MIGRAD expects the likelihood function to be differential everywhere, because it uses the gradient of the likelihood to go downhill. The derivative at a discrete step is infinity and zero in the forbidden region. MIGRAD does not like this at all.\n",
    "\n",
    "https://stackoverflow.com/questions/55398949/constraints-on-fitting-parameters-in-iminuit\n",
    "\n",
    "Q:\n",
    "#### Constraints on fitting parameters in iminuit?\n",
    "\n",
    "I’ve been trying to fit some parameters to a curve but I need to put a constraint on one of the constants and I don’t know how to make my code acknowledge the constraints and fit a value with the correct value. I’ll try to write a simple example code just to show my problem:\n",
    "```py\n",
    "def chi(paras):\n",
    "    mpi=paras[0:32]\n",
    "    cf=paras[32]\n",
    "    chif=0\n",
    "    for i in range(32):\n",
    "        chif+=((fpi-f(mpi,cf))/error)**2\n",
    "    return chif\n",
    "m=Minuit.from_array_func(chi,parin,parstep,name=parname,errordef=1)\n",
    "\n",
    "fmin,param=m.migrad(ncall=10000)\n",
    "\n",
    "print(m.values)\n",
    "```\n",
    "I want for example `cf<=np.log(mpi**2)`. I’ve tried for example:\n",
    "```py\n",
    "if cf<=np.log(mpi**2):\n",
    "    chif+=((fpi-f(mpi,cf))/error)**2\n",
    "\n",
    "else:\n",
    "    pass\n",
    "```\n",
    "but it hasn’t worked. Is there anyway to put this constraint in the code?\n",
    "\n",
    "A0:\n",
    "\n",
    "\n",
    "    Well, for a very simple (but probably not best) solution, you could add `chif += np.inf` instead of the pass statement. That way, the result will be infinite, which is always larger than any valid attempt, and minuit should exclude that direction of its search. – 0 0 Mar 28 '19 at 13:37\n",
    "    What are you trying to loop over. You do not make use of i, so are you sure about this loop? – mikuszefski Apr 1 '19 at 9:08\n",
    "\n",
    "\n",
    "A:\n",
    "\n",
    "To this type of constrains there are always simple parameter transform solution. In this case you may define:\n",
    "```py\n",
    "def chi( paras ):\n",
    "    mpi = paras[ 0 : 32 ]\n",
    "    s = paras[ 32 ]\n",
    "    a = np.log( np.sum( np.array( mpi )**2 ) )\n",
    "    cf = a - np.exp( -s )\n",
    "    chif = 0\n",
    "    for i in range( 32 ):\n",
    "        chif += ( ( fpi - f( mpi, cf ) ) / error )**2\n",
    "    return chif\n",
    "```\n",
    "The parameter s is allowed to vary from-np.inf to np.inf while the internal cf can vary from-np.inf to a = np.log( sum ( mpi**2 ) ). To get cf and its error you make standard error propagation.\n",
    "\n",
    "AA:\n",
    "\n",
    "Alternatively, one could use `log( 1/ ( exp( -s ) + 1 ) )`, which behaves as s for for small s – mikuszefski Apr 1 '19 at 11:32\n"
   ]
  },
  {
   "cell_type": "code",
   "execution_count": null,
   "metadata": {},
   "outputs": [],
   "source": []
  },
  {
   "cell_type": "markdown",
   "metadata": {},
   "source": [
    "[GoTop](#GoTop) <a id='MoreAboutProbfit'></a>\n",
    "## Study more about probfit\n",
    "\n",
    "Excerpt from: https://stackoverflow.com/questions/17748600/solve-an-n-dimensional-optimisation-problem-using-iminuit \n",
    "\n",
    "For your example I recommend you using [iminuit](https://github.com/iminuit/iminuit) and [probfit](https://github.com/iminuit/probfit). Having an argument as a list of parameter is not exactly what you want to do since you will get confused which parameter is what very soon.\n",
    "\n",
    "Here is an example taken straight from [probfit tutorial](http://nbviewer.ipython.org/urls/raw.github.com/iminuit/probfit/master/tutorial/tutorial.ipynb). Also see the [documentation](http://iminuit.github.io/probfit/api.html#probfit.costfunc.Chi2Regression)\n",
    "\n"
   ]
  },
  {
   "cell_type": "code",
   "execution_count": 35,
   "metadata": {},
   "outputs": [
    {
     "name": "stdout",
     "output_type": "stream",
     "text": [
      "<ValueView of Minuit at 7fc75fa47810>\n",
      "  m: 3.0319020191746073\n",
      "  c: 14.44031579566721\n"
     ]
    },
    {
     "name": "stderr",
     "output_type": "stream",
     "text": [
      "/usr/local/lib/python3.7/site-packages/ipykernel_launcher.py:9: InitialParamWarning: Parameter m does not have initial value. Assume 0.\n",
      "  if __name__ == '__main__':\n",
      "/usr/local/lib/python3.7/site-packages/ipykernel_launcher.py:9: InitialParamWarning: Parameter m is floating but does not have initial step size. Assume 1.\n",
      "  if __name__ == '__main__':\n",
      "/usr/local/lib/python3.7/site-packages/ipykernel_launcher.py:9: InitialParamWarning: Parameter c does not have initial value. Assume 0.\n",
      "  if __name__ == '__main__':\n",
      "/usr/local/lib/python3.7/site-packages/ipykernel_launcher.py:9: InitialParamWarning: Parameter c is floating but does not have initial step size. Assume 1.\n",
      "  if __name__ == '__main__':\n",
      "/usr/local/lib/python3.7/site-packages/ipykernel_launcher.py:9: InitialParamWarning: errordef is not given. Default to 1.\n",
      "  if __name__ == '__main__':\n",
      "/usr/local/lib/python3.7/site-packages/ipykernel_launcher.py:9: InitialParamWarning: Parameter m does not have initial value. Assume 0.\n",
      "  if __name__ == '__main__':\n",
      "/usr/local/lib/python3.7/site-packages/ipykernel_launcher.py:9: InitialParamWarning: Parameter m is floating but does not have initial step size. Assume 1.\n",
      "  if __name__ == '__main__':\n",
      "/usr/local/lib/python3.7/site-packages/ipykernel_launcher.py:9: InitialParamWarning: Parameter c does not have initial value. Assume 0.\n",
      "  if __name__ == '__main__':\n",
      "/usr/local/lib/python3.7/site-packages/ipykernel_launcher.py:9: InitialParamWarning: Parameter c is floating but does not have initial step size. Assume 1.\n",
      "  if __name__ == '__main__':\n"
     ]
    }
   ],
   "source": [
    "import iminuit\n",
    "import probfit\n",
    "x = np.linspace(0, 10, 20) \n",
    "y = 3 * x + 15 + np.random.randn(len(x))\n",
    "err = np.ones(len(x))\n",
    "def line(x, m, c): # define it to be parabolic or whatever you like\n",
    "    return m * x + c\n",
    "chi2 = probfit.Chi2Regression(line, x, y, err)\n",
    "minuit = iminuit.Minuit(chi2)\n",
    "minuit.migrad();\n",
    "print(minuit.values) #{'c': 16.137947520534624, 'm': 2.8862774144823855}"
   ]
  },
  {
   "cell_type": "markdown",
   "metadata": {},
   "source": [
    "[GoTop](#GoTop) <a id='DocsOnLMFIT'></a>\n",
    "## Documentation on LMFIT\n",
    "\n",
    "Excerpts from: https://mike.depalatis.net/blog/lmfit.html\n",
    "\n",
    "### Fitting with lmfit\n",
    "\n",
    "General-purpose fitting in Python can sometimes be a bit more challenging than one might at first suspect given the robust nature of tools like Numpy and Scipy. First we had `leastsq`. It works, although often requires a bit of manual tuning of initial guesses and always requires manual calculation of standard error from a covariance matrix (which isn't even one of the return values by default). Later we got `curve_fit` which is a bit more user friendly and even estimates and returns standard error for us by default! Alas, `curve_fit` is just a convenience wrapper on top of `leastsq` and suffers from some of the same general headaches.\n",
    "\n",
    "These days, we have the wonderful [lmfit](https://github.com/lmfit/lmfit-py/) package. Not only can lmfit make fitting more user friendly, but it also is quite a bit more robust than using scipy directly. The documentation is thorough and rigorous, but that can also mean that it can be a bit overwhelming to get started with it. Here I work through a basic example in two slightly different ways in order to demonstrate how to use it.\n",
    "#### Generating the data\n",
    "\n",
    "Let's assume we have data that resembles a decaying sine wave (e.g., a damped oscillator). lmfit has quite a few pre-defined models, but this is not one of them. We can simulate the data with the following code:"
   ]
  },
  {
   "cell_type": "code",
   "execution_count": 58,
   "metadata": {},
   "outputs": [],
   "source": [
    "import numpy as np\n",
    "\n",
    "xx = np.linspace(0, 10, 100)\n",
    "yy = np.sin(5*xx)*np.exp(-xx/2.5)"
   ]
  },
  {
   "cell_type": "code",
   "execution_count": 59,
   "metadata": {},
   "outputs": [
    {
     "data": {
      "image/png": "[encoded data removed]",
      "text/plain": [
       "<Figure size 432x288 with 1 Axes>"
      ]
     },
     "metadata": {
      "needs_background": "light"
     },
     "output_type": "display_data"
    }
   ],
   "source": [
    "import matplotlib.pyplot as plt\n",
    "import numpy as np\n",
    "\n",
    "#plt.plot([1,2,3,4], [1,4,9, 16])\n",
    "plt.plot(xx,yy)\n",
    "plt.show()"
   ]
  },
  {
   "cell_type": "code",
   "execution_count": 60,
   "metadata": {},
   "outputs": [
    {
     "data": {
      "image/png": "[encoded data removed]",
      "text/plain": [
       "<Figure size 432x288 with 1 Axes>"
      ]
     },
     "metadata": {
      "needs_background": "light"
     },
     "output_type": "display_data"
    }
   ],
   "source": [
    "plt.plot(xx,yy,'go')\n",
    "plt.show()"
   ]
  },
  {
   "cell_type": "markdown",
   "metadata": {},
   "source": [
    "Real data is noisy, so let's add some noise:"
   ]
  },
  {
   "cell_type": "code",
   "execution_count": 61,
   "metadata": {},
   "outputs": [],
   "source": [
    "import numpy.random as npr\n",
    "x = xx\n",
    "y = yy\n",
    "y += npr.choice([-1, 1], size=y.shape)*npr.random(size=y.shape)/5"
   ]
  },
  {
   "cell_type": "markdown",
   "metadata": {},
   "source": [
    "The resulting data:"
   ]
  },
  {
   "cell_type": "code",
   "execution_count": 62,
   "metadata": {},
   "outputs": [
    {
     "data": {
      "image/png": "[encoded data removed]",
      "text/plain": [
       "<Figure size 432x288 with 1 Axes>"
      ]
     },
     "metadata": {
      "needs_background": "light"
     },
     "output_type": "display_data"
    }
   ],
   "source": [
    "plt.plot(x,y, 'go')\n",
    "plt.show()"
   ]
  },
  {
   "cell_type": "code",
   "execution_count": 88,
   "metadata": {},
   "outputs": [
    {
     "data": {
      "image/png": "[encoded data removed]",
      "text/plain": [
       "<Figure size 432x288 with 1 Axes>"
      ]
     },
     "metadata": {
      "needs_background": "light"
     },
     "output_type": "display_data"
    }
   ],
   "source": [
    "plt.plot(x,y)\n",
    "plt.show()"
   ]
  },
  {
   "cell_type": "markdown",
   "metadata": {},
   "source": [
    "### Using models\n",
    "\n",
    "The easiest way to work with lmfit is to ignore the `lmfit.minimize` function shown in the \"Getting Started\" section of the documentation and instead jump straight to the higher-level (and more useful) `Model` class. For one-time fitting, the `lmfit.models.ExpressionModel` class is provided. When creating a new `ExpressionModel`, you simply pass a string that is interpreted as a Python expression. For our decaying sine example, we might do this:"
   ]
  },
  {
   "cell_type": "code",
   "execution_count": 65,
   "metadata": {},
   "outputs": [],
   "source": [
    "import lmfit\n",
    "\n",
    "model = lmfit.models.ExpressionModel(\"ampl * sin((x - x0)*freq) * exp(-x/tau) + offset\")"
   ]
  },
  {
   "cell_type": "markdown",
   "metadata": {},
   "source": [
    "Let's make our initial guess for performing the fit under the constraint that the offset is fixed at 0:"
   ]
  },
  {
   "cell_type": "code",
   "execution_count": 66,
   "metadata": {},
   "outputs": [],
   "source": [
    "params = model.make_params(ampl=1, x0=0, freq=10, tau=1, offset=0)\n",
    "params[\"offset\"].set(vary=False)"
   ]
  },
  {
   "cell_type": "markdown",
   "metadata": {},
   "source": [
    "To fit, we pass the data and the parameters as arguments and the independent variable as a keyword argument:\n",
    "\n"
   ]
  },
  {
   "cell_type": "code",
   "execution_count": 79,
   "metadata": {},
   "outputs": [],
   "source": [
    "fit = model.fit(y, params, x=x)"
   ]
  },
  {
   "cell_type": "markdown",
   "metadata": {},
   "source": [
    "To visually check if the fit is good, lmfit provides both `plot_fit` and `plot_residuals` methods for model instances. The former shows the data, the initial guess, and its found best fit:"
   ]
  },
  {
   "cell_type": "code",
   "execution_count": 74,
   "metadata": {},
   "outputs": [
    {
     "data": {
      "text/plain": [
       "<matplotlib.axes._subplots.AxesSubplot at 0x1189699d0>"
      ]
     },
     "execution_count": 74,
     "metadata": {},
     "output_type": "execute_result"
    },
    {
     "data": {
      "image/png": "[encoded data removed]",
      "text/plain": [
       "<Figure size 432x288 with 1 Axes>"
      ]
     },
     "metadata": {
      "needs_background": "light"
     },
     "output_type": "display_data"
    }
   ],
   "source": [
    "#https://lmfit.github.io/lmfit-py/model.html\n",
    "#ModelResult.plot_fit(ax=None, datafmt='o', fitfmt='-', initfmt='--', xlabel=None, ylabel=None, yerr=None, numpoints=None, data_kws=None, fit_kws=None, init_kws=None, ax_kws=None, show_init=False, parse_complex='abs')\n",
    "fit.plot_fit(ax=None, datafmt='o', fitfmt='-', initfmt='--', xlabel=None, ylabel=None, yerr=None, numpoints=None, data_kws=None, fit_kws=None, init_kws=None, ax_kws=None, show_init=False, parse_complex='abs')"
   ]
  },
  {
   "cell_type": "code",
   "execution_count": 75,
   "metadata": {},
   "outputs": [
    {
     "data": {
      "text/plain": [
       "<matplotlib.axes._subplots.AxesSubplot at 0x118accc90>"
      ]
     },
     "execution_count": 75,
     "metadata": {},
     "output_type": "execute_result"
    },
    {
     "data": {
      "image/png": "[encoded data removed]",
      "text/plain": [
       "<Figure size 432x288 with 1 Axes>"
      ]
     },
     "metadata": {
      "needs_background": "light"
     },
     "output_type": "display_data"
    }
   ],
   "source": [
    "#ModelResult.plot_residuals(ax=None, datafmt='o', yerr=None, data_kws=None, fit_kws=None, ax_kws=None, parse_complex='abs')\n",
    "fit.plot_residuals(ax=None, datafmt='o', yerr=None, data_kws=None, fit_kws=None, ax_kws=None, parse_complex='abs')"
   ]
  },
  {
   "cell_type": "markdown",
   "metadata": {},
   "source": [
    "We can also see the found parameters with standard errors and goodness of fit data with a fit report (`print(model.fit_report())`):"
   ]
  },
  {
   "cell_type": "code",
   "execution_count": 80,
   "metadata": {},
   "outputs": [
    {
     "name": "stdout",
     "output_type": "stream",
     "text": [
      "[[Model]]\n",
      "    Model(_eval)\n",
      "[[Fit Statistics]]\n",
      "    # fitting method   = leastsq\n",
      "    # function evals   = 84\n",
      "    # data points      = 100\n",
      "    # variables        = 4\n",
      "    chi-square         = 0.93560621\n",
      "    reduced chi-square = 0.00974590\n",
      "    Akaike info crit   = -459.173079\n",
      "    Bayesian info crit = -448.752398\n",
      "[[Variables]]\n",
      "    ampl:    1.13621988 +/- 0.06696481 (5.89%) (init = 1)\n",
      "    x0:      0.01122787 +/- 0.00991538 (88.31%) (init = 0)\n",
      "    freq:    5.06106659 +/- 0.03936015 (0.78%) (init = 10)\n",
      "    tau:     1.91557130 +/- 0.15722882 (8.21%) (init = 1)\n",
      "    offset:  0 (fixed)\n",
      "[[Correlations]] (unreported correlations are < 0.100)\n",
      "    C(ampl, tau) = -0.726\n",
      "    C(x0, freq)  =  0.657\n",
      "    C(ampl, x0)  =  0.148\n",
      "    C(x0, tau)   = -0.105\n"
     ]
    }
   ],
   "source": [
    "print(fit.fit_report())"
   ]
  },
  {
   "cell_type": "markdown",
   "metadata": {},
   "source": [
    "### Reusable models\n",
    "\n",
    "For improved reusability of models, a better approach is to subclass `lmfit.models.Model` directly. This allows us to implement a `guess` method to automate creating initial guesses. Following the pattern used in defining the models in the `lmfit.models` module, we can define our decaying sine model like so:"
   ]
  },
  {
   "cell_type": "code",
   "execution_count": 84,
   "metadata": {},
   "outputs": [],
   "source": [
    "class DecayingSineModel(lmfit.Model):\n",
    "    def __init__(self, *args, **kwargs):\n",
    "        def decaying_sine(x, ampl, offset, freq, x0, tau):\n",
    "            return ampl * np.sin((x - x0)*freq) * np.exp(-x/tau) + offset\n",
    "        super(DecayingSineModel, self).__init__(decaying_sine, *args, **kwargs)\n",
    "\n",
    "    def guess(self, data, **kwargs):\n",
    "        params = self.make_params()\n",
    "        def pset(param, value):\n",
    "            params[\"%s%s\" % (self.prefix, param)].set(value=value)\n",
    "        pset(\"ampl\", np.max(data) - np.min(data))\n",
    "        pset(\"offset\", np.mean(data))\n",
    "        pset(\"freq\", 1)\n",
    "        pset(\"x0\", 0)\n",
    "        pset(\"tau\", 1)\n",
    "        return lmfit.models.update_param_vals(params, self.prefix, **kwargs)\n"
   ]
  },
  {
   "cell_type": "markdown",
   "metadata": {},
   "source": [
    "Note that the point of the prefix is so that composite models can be constructed (the prefix prevents namespace clashes). Now we can fit as before but guess the starting parameters without thinking about it:"
   ]
  },
  {
   "cell_type": "code",
   "execution_count": 85,
   "metadata": {},
   "outputs": [],
   "source": [
    "model = DecayingSineModel()\n",
    "params = model.guess(y, x=x)\n",
    "fit = model.fit(y, params, x=x)"
   ]
  },
  {
   "cell_type": "markdown",
   "metadata": {},
   "source": [
    "which results in a similar fit as before:"
   ]
  },
  {
   "cell_type": "code",
   "execution_count": 86,
   "metadata": {},
   "outputs": [
    {
     "data": {
      "text/plain": [
       "<matplotlib.axes._subplots.AxesSubplot at 0x118ca4110>"
      ]
     },
     "execution_count": 86,
     "metadata": {},
     "output_type": "execute_result"
    },
    {
     "data": {
      "image/png": "[encoded data removed]",
      "text/plain": [
       "<Figure size 432x288 with 1 Axes>"
      ]
     },
     "metadata": {
      "needs_background": "light"
     },
     "output_type": "display_data"
    }
   ],
   "source": [
    "#https://lmfit.github.io/lmfit-py/model.html\n",
    "#ModelResult.plot_fit(ax=None, datafmt='o', fitfmt='-', initfmt='--', xlabel=None, ylabel=None, yerr=None, numpoints=None, data_kws=None, fit_kws=None, init_kws=None, ax_kws=None, show_init=False, parse_complex='abs')\n",
    "fit.plot_fit(ax=None, datafmt='o', fitfmt='-', initfmt='--', xlabel=None, ylabel=None, yerr=None, numpoints=None, data_kws=None, fit_kws=None, init_kws=None, ax_kws=None, show_init=False, parse_complex='abs')"
   ]
  },
  {
   "cell_type": "markdown",
   "metadata": {},
   "source": [
    "#### Extracting data from the fit\n",
    "\n",
    "In many cases we might want to extract parameters and standard error estimates programatically rather than by reading the fit report (e.g., if the fit will be used to produce a data point on another plot, then the standard error can be used for computing error bars). This is all included in the `fit` result via its params attribute. We can print the parameter values and errors like this:\n",
    "\n"
   ]
  },
  {
   "cell_type": "code",
   "execution_count": 87,
   "metadata": {},
   "outputs": [
    {
     "name": "stdout",
     "output_type": "stream",
     "text": [
      "ampl = 1.1456542347902725 +/- 0.0675684853598417\n",
      "offset = -0.01195615861238322 +/- 0.00993375087754023\n",
      "freq = 5.0596849505293156 +/- 0.03943991091716707\n",
      "x0 = 0.010808062526904756 +/- 0.00985763167946279\n",
      "tau = 1.89974231849819 +/- 0.15551232858710454\n"
     ]
    }
   ],
   "source": [
    "for key in fit.params:\n",
    "    print(key, \"=\", fit.params[key].value, \"+/-\", fit.params[key].stderr)"
   ]
  },
  {
   "cell_type": "markdown",
   "metadata": {},
   "source": [
    "### Final thoughts\n",
    "\n",
    "I've only scratched the surface of `lmfit`'s features, but the examples here demonstrate a good portion of the daily requirements of working with data from an experiment. As alluded to earlier, `lmfit` comes with many [built-in models](https://lmfit.github.io/lmfit-py/builtin_models.html#builtin-models-chapter) which makes it a pleasure to use for peak fitting (something that is often particularly difficult when using scipy directly).\n",
    "\n",
    "Finally, although `lmfit` can handle linear models just fine, I would instead recommend the [statsmodels](http://statsmodels.sourceforge.net/) package. Using the power of [pandas](http://pandas.pydata.org/) `DataFrame`s, models can be defined in a similar manner as with `lmfit`'s `ExpressionModel`s.\n",
    "\n",
    "A Jupyter notebook containing the above examples can be found [here](https://mike.depalatis.net/notebooks/lmfit_20160703.ipynb)."
   ]
  },
  {
   "cell_type": "markdown",
   "metadata": {},
   "source": [
    "## More on LMFIT from other sites/resources:\n",
    "Ref: https://lmfit.github.io/lmfit-py/examples/example_use_pandas.html\n",
    "\n",
    "#### Fit with Data in a pandas DataFrame\n",
    "\n",
    "Simple example demonstrating how to read in the data using pandas and supply the elements of the DataFrame from lmfit."
   ]
  },
  {
   "cell_type": "code",
   "execution_count": 91,
   "metadata": {},
   "outputs": [],
   "source": [
    "import matplotlib.pyplot as plt\n",
    "import pandas as pd\n",
    "\n",
    "from lmfit.models import LorentzianModel"
   ]
  },
  {
   "cell_type": "markdown",
   "metadata": {},
   "source": [
    "read the data into a pandas DataFrame, and use the ‘x’ and ‘y’ columns:"
   ]
  },
  {
   "cell_type": "code",
   "execution_count": 92,
   "metadata": {},
   "outputs": [
    {
     "name": "stderr",
     "output_type": "stream",
     "text": [
      "/usr/local/lib/python3.7/site-packages/lmfit/models.py:34: FutureWarning: \n",
      "The current behaviour of 'Series.argmin' is deprecated, use 'idxmin'\n",
      "instead.\n",
      "The behavior of 'argmin' will be corrected to return the positional\n",
      "minimum in the future. For now, use 'series.values.argmin' or\n",
      "'np.argmin(np.array(values))' to get the position of the minimum\n",
      "row.\n",
      "  return np.abs(arr-val).argmin()\n"
     ]
    }
   ],
   "source": [
    "dframe = pd.read_csv('data/peak.csv')\n",
    "\n",
    "model = LorentzianModel()\n",
    "params = model.guess(dframe['y'], x=dframe['x'])\n",
    "\n",
    "result = model.fit(dframe['y'], params, x=dframe['x'])"
   ]
  },
  {
   "cell_type": "markdown",
   "metadata": {},
   "source": [
    "and gives the plot and fitting results below:"
   ]
  },
  {
   "cell_type": "code",
   "execution_count": 93,
   "metadata": {},
   "outputs": [
    {
     "data": {
      "image/png": "[encoded data removed]",
      "text/plain": [
       "<Figure size 432x288 with 1 Axes>"
      ]
     },
     "metadata": {
      "needs_background": "light"
     },
     "output_type": "display_data"
    },
    {
     "name": "stdout",
     "output_type": "stream",
     "text": [
      "[[Model]]\n",
      "    Model(lorentzian)\n",
      "[[Fit Statistics]]\n",
      "    # fitting method   = leastsq\n",
      "    # function evals   = 21\n",
      "    # data points      = 101\n",
      "    # variables        = 3\n",
      "    chi-square         = 13.0737250\n",
      "    reduced chi-square = 0.13340536\n",
      "    Akaike info crit   = -200.496119\n",
      "    Bayesian info crit = -192.650757\n",
      "[[Variables]]\n",
      "    amplitude:  39.1530829 +/- 0.62389698 (1.59%) (init = 50.7825)\n",
      "    center:     9.22379520 +/- 0.01835869 (0.20%) (init = 9.3)\n",
      "    sigma:      1.15503893 +/- 0.02603688 (2.25%) (init = 1.3)\n",
      "    fwhm:       2.31007785 +/- 0.05207377 (2.25%) == '2.0000000*sigma'\n",
      "    height:     10.7899514 +/- 0.17160472 (1.59%) == '0.3183099*amplitude/max(2.220446049250313e-16, sigma)'\n",
      "[[Correlations]] (unreported correlations are < 0.100)\n",
      "    C(amplitude, sigma) =  0.709\n"
     ]
    }
   ],
   "source": [
    "result.plot_fit()\n",
    "plt.show()\n",
    "\n",
    "print(result.fit_report())"
   ]
  },
  {
   "cell_type": "code",
   "execution_count": null,
   "metadata": {},
   "outputs": [],
   "source": []
  }
 ],
 "metadata": {
  "kernelspec": {
   "display_name": "Python 3",
   "language": "python",
   "name": "python3"
  },
  "language_info": {
   "codemirror_mode": {
    "name": "ipython",
    "version": 3
   },
   "file_extension": ".py",
   "mimetype": "text/x-python",
   "name": "python",
   "nbconvert_exporter": "python",
   "pygments_lexer": "ipython3",
   "version": "3.7.4"
  }
 },
 "nbformat": 4,
 "nbformat_minor": 2
}
