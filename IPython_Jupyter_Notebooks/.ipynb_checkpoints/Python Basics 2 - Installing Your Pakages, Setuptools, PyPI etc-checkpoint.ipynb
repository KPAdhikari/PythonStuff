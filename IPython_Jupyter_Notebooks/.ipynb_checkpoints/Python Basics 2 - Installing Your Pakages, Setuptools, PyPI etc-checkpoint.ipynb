{
 "cells": [
  {
   "cell_type": "code",
   "execution_count": 1,
   "metadata": {},
   "outputs": [
    {
     "name": "stdout",
     "output_type": "stream",
     "text": [
      "/Users/kpadhikari/Desktop/BigFls/CLAS12/GitProj/KPAdhikari/PythonStuff/IPython_Jupyter_Notebooks\r\n"
     ]
    }
   ],
   "source": [
    "!pwd"
   ]
  },
  {
   "cell_type": "markdown",
   "metadata": {},
   "source": [
    "Ref: https://packaging.python.org/tutorials/installing-packages/\n",
    "\n",
    "### Installing Packages\n",
    "\n",
    "This section covers the basics of how to install Python [packages](https://packaging.python.org/glossary/#term-distribution-package).\n",
    "\n",
    "It’s important to note that the term “package” in this context is being used as a synonym for a [distribution](https://packaging.python.org/glossary/#term-distribution-package) (i.e. a bundle of software to be installed), not to refer to the kind of [package](https://packaging.python.org/glossary/#term-import-package) that you import in your Python source code (i.e. a container of modules). It is common in the Python community to refer to a [distribution](https://packaging.python.org/glossary/#term-distribution-package) using the term “package”. Using the term “distribution” is often not preferred, because it can easily be confused with a Linux distribution, or another larger software distribution like Python itself.\n",
    "\n",
    "\n",
    "\n",
    "Contents\n",
    "\n",
    "    Requirements for Installing Packages\n",
    "\n",
    "        Ensure you can run Python from the command line\n",
    "\n",
    "        Ensure you can run pip from the command line\n",
    "\n",
    "        Ensure pip, setuptools, and wheel are up to date\n",
    "\n",
    "        Optionally, create a virtual environment\n",
    "\n",
    "    Creating Virtual Environments\n",
    "\n",
    "    Use pip for Installing\n",
    "\n",
    "    Installing from PyPI\n",
    "\n",
    "    Source Distributions vs Wheels\n",
    "\n",
    "    Upgrading packages\n",
    "\n",
    "    Installing to the User Site\n",
    "\n",
    "    Requirements files\n",
    "\n",
    "    Installing from VCS\n",
    "\n",
    "    Installing from other Indexes\n",
    "\n",
    "    Installing from a local src tree\n",
    "\n",
    "    Installing from local archives\n",
    "\n",
    "    Installing from other sources\n",
    "\n",
    "    Installing Prereleases\n",
    "\n",
    "    Installing Setuptools “Extras”\n",
    "\n"
   ]
  },
  {
   "cell_type": "markdown",
   "metadata": {},
   "source": [
    "### Requirements for Installing Packages\n",
    "\n",
    "This section describes the steps to follow before installing other Python packages.\n",
    "### Ensure you can run Python from the command line\n",
    "\n",
    "Before you go any further, make sure you have Python and that the expected version is available from your command line. You can check this by running:\n",
    "```sh\n",
    "    python --version\n",
    "```\n",
    "You should get some output like Python 3.6.3. If you do not have Python, please install the latest 3.x version from python.org or refer to the Installing Python section of the Hitchhiker’s Guide to Python.\n",
    "\n",
    "**Note:** If you’re a newcomer and you get an error like this:\n",
    "```sh\n",
    ">>> python --version\n",
    "Traceback (most recent call last):\n",
    "  File \"<stdin>\", line 1, in <module>\n",
    "NameError: name 'python' is not defined\n",
    "```\n",
    "It’s because this command and other suggested commands in this tutorial are intended to be run in a shell (also called a terminal or console). See the Python for Beginners [getting started tutorial](https://opentechschool.github.io/python-beginners/en/getting_started.html#what-is-python-exactly) for an introduction to using your operating system’s shell and interacting with Python.\n",
    "\n",
    "**Note:** If you’re using an enhanced shell like IPython or the Jupyter notebook, you can run system commands like those in this tutorial by prefacing them with a ! character:\n",
    "```sh\n",
    "    In [1]: import sys\n",
    "            !{sys.executable} --version\n",
    "    Python 3.6.3\n",
    "```\n",
    "It’s recommended to write {sys.executable} rather than plain python in order to ensure that commands are run in the Python installation matching the currently running notebook (which may not be the same Python installation that the python command refers to).\n",
    "\n",
    "**Note:** Due to the way most Linux distributions are handling the Python 3 migration, Linux users using the system Python without creating a virtual environment first should replace the python command in this tutorial with python3 and the pip command with `pip3 --user`. Do not run any of the commands in this tutorial with `sudo`: if you get a permissions error, come back to the section on creating virtual environments, set one up, and then continue with the tutorial as written.\n"
   ]
  },
  {
   "cell_type": "code",
   "execution_count": 2,
   "metadata": {},
   "outputs": [
    {
     "name": "stdout",
     "output_type": "stream",
     "text": [
      "Python 2.7.16\r\n"
     ]
    }
   ],
   "source": [
    "!python --version"
   ]
  },
  {
   "cell_type": "code",
   "execution_count": 6,
   "metadata": {},
   "outputs": [
    {
     "name": "stdout",
     "output_type": "stream",
     "text": [
      "/usr/local/opt/python/bin/python3.7\n",
      "['/usr/local/lib/python3.7/site-packages/ipykernel_launcher.py', '-f', '/Users/kpadhikari/Library/Jupyter/runtime/kernel-73351161-ddd6-40e5-8883-b90e8fc9b848.json']\n",
      "m\n",
      "1013\n",
      "Python 3.7.4\r\n"
     ]
    }
   ],
   "source": [
    "import sys\n",
    "#kp: to see various options after 'sys.', type 'sys.' and press tab.\n",
    "print(sys.executable)\n",
    "print(sys.argv)\n",
    "print(sys.abiflags)\n",
    "print(sys.api_version)\n",
    "!{sys.executable} --version"
   ]
  },
  {
   "cell_type": "markdown",
   "metadata": {},
   "source": [
    "### Ensure you can run pip from the command line\n",
    "\n",
    "Additionally, you’ll need to make sure you have [pip](https://packaging.python.org/key_projects/#pip) available. You can check this by running:\n",
    "```sh\n",
    "pip --version\n",
    "```\n",
    "If you installed Python from source, with an installer from [python.org](https://python.org/), or via [Homebrew](https://brew.sh/) you should already have pip. If you’re on Linux and installed using your OS package manager, you may have to install pip separately, see [Installing pip/setuptools/wheel with Linux Package Managers](https://packaging.python.org/guides/installing-using-linux-tools/).\n",
    "\n",
    "If pip isn’t already installed, then first try to bootstrap it from the standard library:\n",
    "```sh\n",
    "python -m ensurepip --default-pip\n",
    "```\n",
    "If that still doesn’t allow you to run pip:\n",
    "\n",
    "* Securely Download [get-pip.py](https://bootstrap.pypa.io/get-pip.py) [[1]](https://packaging.python.org/tutorials/installing-packages/#id7)\n",
    "* Run python `get-pip.py`. [[2](https://packaging.python.org/tutorials/installing-packages/#id8)] This will install or upgrade pip. Additionally, it will install [setuptools](https://packaging.python.org/key_projects/#setuptools) and [wheel](https://packaging.python.org/key_projects/#wheel) if they’re not installed already.\n",
    "\n",
    "    **Warning:** Be cautious if you’re using a Python install that’s managed by your operating system or another package manager. get-pip.py does not coordinate with those tools, and may leave your system in an inconsistent state. You can use `python get-pip.py --prefix=/usr/local/` to install in `/usr/local` which is designed for locally-installed software.\n",
    "\n"
   ]
  },
  {
   "cell_type": "code",
   "execution_count": 7,
   "metadata": {},
   "outputs": [
    {
     "name": "stdout",
     "output_type": "stream",
     "text": [
      "/bin/sh: pip: command not found\r\n"
     ]
    }
   ],
   "source": [
    "!pip --version"
   ]
  },
  {
   "cell_type": "code",
   "execution_count": 8,
   "metadata": {},
   "outputs": [
    {
     "name": "stdout",
     "output_type": "stream",
     "text": [
      "pip 19.1.1 from /usr/local/lib/python3.7/site-packages/pip (python 3.7)\r\n"
     ]
    }
   ],
   "source": [
    "!pip3 --version"
   ]
  },
  {
   "cell_type": "code",
   "execution_count": 9,
   "metadata": {},
   "outputs": [
    {
     "name": "stdout",
     "output_type": "stream",
     "text": [
      "Looking in links: /var/folders/xx/3nmz3j457b99xd1r8kfj0j6r0000gn/T/tmpw8szjj\n",
      "Requirement already satisfied: setuptools in /System/Library/Frameworks/Python.framework/Versions/2.7/Extras/lib/python (18.5)\n",
      "Collecting pip\n",
      "Installing collected packages: pip\n",
      "\u001b[31mCould not install packages due to an EnvironmentError: [Errno 13] Permission denied: '/Library/Python/2.7/site-packages/pip'\n",
      "Consider using the `--user` option or check the permissions.\n",
      "\u001b[0m\n"
     ]
    }
   ],
   "source": [
    "!python -m ensurepip --default-pip"
   ]
  },
  {
   "cell_type": "markdown",
   "metadata": {},
   "source": [
    "### Ensure pip, setuptools, and wheel are up to date\n",
    "\n",
    "While pip alone is sufficient to install from pre-built binary archives, up to date copies of the `setuptools` and `wheel` projects are useful to ensure you can also install from source archives:\n",
    "```sh\n",
    "python -m pip install --upgrade pip setuptools wheel\n",
    "```\n",
    "### Optionally, create a virtual environment\n",
    "\n",
    "See section below for details, but here’s the basic venv 3 command to use on a typical Linux system:\n",
    "```sh\n",
    "python3 -m venv tutorial_env\n",
    "source tutorial_env/bin/activate\n",
    "```\n",
    "This will create a new virtual environment in the `tutorial_env `subdirectory, and configure the current shell to use it as the default `python` environment.\n"
   ]
  },
  {
   "cell_type": "code",
   "execution_count": 11,
   "metadata": {},
   "outputs": [
    {
     "name": "stdout",
     "output_type": "stream",
     "text": [
      "Requirement already up-to-date: pip in /usr/local/lib/python3.7/site-packages (20.1.1)\n",
      "Requirement already up-to-date: setuptools in /usr/local/lib/python3.7/site-packages (49.2.0)\n",
      "Requirement already up-to-date: wheel in /usr/local/lib/python3.7/site-packages (0.34.2)\n"
     ]
    }
   ],
   "source": [
    "!python3 -m pip install --upgrade pip setuptools wheel"
   ]
  },
  {
   "cell_type": "markdown",
   "metadata": {},
   "source": [
    "### Creating Virtual Environments\n",
    "\n",
    "Python “Virtual Environments” allow Python [packages](https://packaging.python.org/glossary/#term-distribution-package) to be installed in an isolated location for a particular application, rather than being installed globally. If you are looking to safely install global command line tools, see [Installing stand alone command line tools](https://packaging.python.org/guides/installing-stand-alone-command-line-tools/).\n",
    "\n",
    "Imagine you have an application that needs version 1 of LibFoo, but another application requires version 2. How can you use both these applications? If you install everything into /usr/lib/python3.6/site-packages (or whatever your platform’s standard location is), it’s easy to end up in a situation where you unintentionally upgrade an application that shouldn’t be upgraded.\n",
    "\n",
    "Or more generally, what if you want to install an application and leave it be? If an application works, any change in its libraries or the versions of those libraries can break the application.\n",
    "\n",
    "Also, what if you can’t install packages into the global site-packages directory? For instance, on a shared host.\n",
    "\n",
    "In all these cases, virtual environments can help you. They have their own installation directories and they don’t share libraries with other virtual environments.\n",
    "\n",
    "Currently, there are two common tools for creating Python virtual environments:\n",
    "\n",
    "* [venv](https://docs.python.org/3/library/venv.html) is available by default in Python 3.3 and later, and installs [pip](https://packaging.python.org/key_projects/#pip) and [setuptools](https://packaging.python.org/key_projects/#setuptools) into created virtual environments in Python 3.4 and later.\n",
    "* [virtualenv](https://packaging.python.org/key_projects/#virtualenv) needs to be installed separately, but supports Python 2.7+ and Python 3.3+, and **pip, setuptools** and [wheel](https://packaging.python.org/key_projects/#wheel) are always installed into created virtual environments by default (regardless of Python version).\n",
    "\n",
    "The basic usage is like so:\n",
    "\n",
    "Using venv:\n",
    "```sh\n",
    "python3 -m venv <DIR>\n",
    "source <DIR>/bin/activate\n",
    "```\n",
    "Using virtualenv:\n",
    "```sh\n",
    "virtualenv <DIR>\n",
    "source <DIR>/bin/activate\n",
    "```\n",
    "For more information, see the [venv](https://docs.python.org/3/library/venv.html) docs or the [virtualenv](http://virtualenv.pypa.io/) docs.\n",
    "\n",
    "The use of `source` under Unix shells ensures that the virtual environment’s variables are set within the current shell, and not in a subprocess (which then disappears, having no useful effect).\n",
    "\n",
    "In both of the above cases, Windows users **should _not_ use** the `source` command, but should rather run the activate script directly from the command shell like so:\n",
    "```sh\n",
    "<DIR>\\Scripts\\activate\n",
    "```\n",
    "Managing multiple virtual environments directly can become tedious, so the [dependency management tutorial](https://packaging.python.org/tutorials/managing-dependencies/#managing-dependencies) introduces a higher level tool, [Pipenv](https://packaging.python.org/key_projects/#pipenv), that automatically manages a separate virtual environment for each project and application that you work on.\n"
   ]
  },
  {
   "cell_type": "code",
   "execution_count": null,
   "metadata": {},
   "outputs": [],
   "source": []
  }
 ],
 "metadata": {
  "kernelspec": {
   "display_name": "Python 3",
   "language": "python",
   "name": "python3"
  },
  "language_info": {
   "codemirror_mode": {
    "name": "ipython",
    "version": 3
   },
   "file_extension": ".py",
   "mimetype": "text/x-python",
   "name": "python",
   "nbconvert_exporter": "python",
   "pygments_lexer": "ipython3",
   "version": "3.7.4"
  }
 },
 "nbformat": 4,
 "nbformat_minor": 2
}
