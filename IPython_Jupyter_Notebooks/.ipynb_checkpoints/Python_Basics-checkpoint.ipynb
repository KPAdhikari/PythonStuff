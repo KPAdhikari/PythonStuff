{
 "cells": [
  {
   "cell_type": "markdown",
   "metadata": {},
   "source": [
    "## Contents\n",
    "* [Vocabulary / Glossary](#VocabularyGlossary)\n",
    "* [Quick Facts From Ref2](#QuickFactsFromRef2)\n",
    "* [Quick Facts From Ref3](#QuickFactsFromRef3)\n",
    "* [Quick Facts From Ref4](#QuickFactsFromRef4) - Memory allocation & management\n",
    "* [Primitive/Native Datatypes in Python2 & Python3](#PrimitiveDatatypes)\n",
    "* [List Comprehensions](#ListComparisons)\n",
    "* [Python2 vs Python3](#Python2vsPython3)\n",
    "* Comments - '#' for single-line and a pair if three single quotes ```'''``` for multi-line comments."
   ]
  },
  {
   "cell_type": "markdown",
   "metadata": {},
   "source": [
    "## References:\n",
    "* Ref1 - http://www.diveintopython3.net/native-datatypes.html#divingin\n",
    "* Ref2 - https://www.youtube.com/watch?v=N4mEzFDjqtA Python Programming in One Video by Derek Banas.\n",
    "* Ref3 - https://www.ntu.edu.sg/home/ehchua/programming/webprogramming/Python1_Basics.html Python - Getting Started and Basics\n",
    "* Ref4 - https://www.youtube.com/watch?v=arxWaw-E8QQ Memory Allocation and Management in Python - simplified tutorial for beginners\n",
    "* Ref5 - https://www.youtube.com/watch?v=F6u5rhUQ6dU Nina Zakharenko - Memory Management in Python - The Basics - PyCon 2016\n",
    "* Ref6 - https://dbader.org/blog/python-dunder-methods  Enriching Your Python Classes With Dunder (Magic, Special) Methods"
   ]
  },
  {
   "cell_type": "markdown",
   "metadata": {},
   "source": [
    "<a id='VocabularyGlossary'></a>\n",
    "## Vocabulary / Glossary\n",
    "* **Dunder something** (Ref5: 18:30): **`__`something`__`** i.e. something enclosed with a pair of **Double underscores** (kp: also see Ref6 i.e.  [Enriching Your Python Classes With Dunder (Magic, Special) Methods](https://dbader.org/blog/python-dunder-methods))\n",
    "    * In Python, special methods are a set of predefined methods you can use to enrich your classes. They are easy to recognize because they start and end with double underscores, for example __init__ or __str__.\n",
    "    \n",
    "    As it quickly became tiresome to say under-under-method-under-under Pythonistas adopted the term “dunder methods”, a short form of “double under.”\n",
    "    \n",
    "    These “dunders” or “special methods” in Python are also sometimes called “magic methods.” But using this terminology can make them seem more complicated than they really are—at the end of the day there’s nothing “magical” about them. You should treat these methods like a normal language feature.\n",
    "\n",
    "    Dunder methods let you emulate the behavior of built-in types.\n"
   ]
  },
  {
   "cell_type": "markdown",
   "metadata": {},
   "source": [
    "<a id='QuickFactsFromRef2'></a>\n",
    "## Quick facts From Ref2: \n",
    "* **Comments** - '#' for single-line and a pair if three single quotes ''' for multi-line comments.\n",
    "* **Datatypes** - There are **five main datatypes** in python - Numbers, Strings, Lists, Tuples, & Dictionaries.\n",
    "* **Arithmetic Operators** - There are seven operators:  +, - , `*`, /, % (modulus - for remainder of a division), `**` (for power or exponential calculations), // (floor division - perform the division and discard the remainder altogether)\n",
    "    * Order of operation in a multi-operation expression: use parentheses/braces to enforce the order whenever possible.\n",
    "* **Put Quotes inside a string** - use backslash to escape (see the code cell below)\n",
    "* **Multi-line strings** - use a pair of single quotes. (see the code cell below)\n",
    "* **Print multiple strings or newlines** - print(string * N)\n",
    "* **Collections:** (kp: my own term)\n",
    "    * **Lists:** - listName = [\"kp\", \"bp\", \"cp\"]\n",
    "    * **Tuples:** - tupleName = (\"kp\", \"bp\", \"cp\")  \n",
    "        * Tuples or elements of tuples cannot be changed.\n",
    "    * **Dictionaries or Maps:** - key-value pairs -  dictName = {\"kp\":\"ma\", \"bp\":\"dai\", \"cp\":\"neta\"}\n",
    "* "
   ]
  },
  {
   "cell_type": "code",
   "execution_count": 2,
   "metadata": {},
   "outputs": [
    {
     "name": "stdout",
     "output_type": "stream",
     "text": [
      "My \"special\" string with a pair of quotes. \n"
     ]
    }
   ],
   "source": [
    "quote = \"My \\\"special\\\" string with a pair of quotes. \" \n",
    "print(quote)"
   ]
  },
  {
   "cell_type": "code",
   "execution_count": 3,
   "metadata": {},
   "outputs": [
    {
     "name": "stdout",
     "output_type": "stream",
     "text": [
      "My \"special\" string with a pair of quotes. Just like \n",
      "    everyone else\n"
     ]
    }
   ],
   "source": [
    "multi_line_quote = '''Just like \n",
    "    everyone else'''\n",
    "new_string = quote + multi_line_quote\n",
    "print(new_string)"
   ]
  },
  {
   "cell_type": "markdown",
   "metadata": {},
   "source": [
    "* **String formatting:** - use %s inside quote and then one more % after that as a separator as follows. (Without the % in the middle will give us an error as follow)."
   ]
  },
  {
   "cell_type": "code",
   "execution_count": 4,
   "metadata": {},
   "outputs": [
    {
     "name": "stdout",
     "output_type": "stream",
     "text": [
      "I like it. My \"special\" string with a pair of quotes.  Just like \n",
      "    everyone else\n"
     ]
    }
   ],
   "source": [
    "print(\"%s %s %s\" % (\"I like it.\", quote, multi_line_quote))"
   ]
  },
  {
   "cell_type": "code",
   "execution_count": 5,
   "metadata": {},
   "outputs": [
    {
     "ename": "TypeError",
     "evalue": "'str' object is not callable",
     "output_type": "error",
     "traceback": [
      "\u001b[0;31m---------------------------------------------------------------------------\u001b[0m",
      "\u001b[0;31mTypeError\u001b[0m                                 Traceback (most recent call last)",
      "\u001b[0;32m<ipython-input-5-6d4450fcd38a>\u001b[0m in \u001b[0;36m<module>\u001b[0;34m()\u001b[0m\n\u001b[0;32m----> 1\u001b[0;31m \u001b[0;32mprint\u001b[0m\u001b[0;34m(\u001b[0m\u001b[0;34m\"%s %s %s\"\u001b[0m \u001b[0;34m(\u001b[0m\u001b[0;34m\"I like it.\"\u001b[0m\u001b[0;34m,\u001b[0m \u001b[0mquote\u001b[0m\u001b[0;34m,\u001b[0m \u001b[0mmulti_line_quote\u001b[0m\u001b[0;34m)\u001b[0m\u001b[0;34m)\u001b[0m\u001b[0;34m\u001b[0m\u001b[0m\n\u001b[0m",
      "\u001b[0;31mTypeError\u001b[0m: 'str' object is not callable"
     ]
    }
   ],
   "source": [
    "print(\"%s %s %s\" (\"I like it.\", quote, multi_line_quote))"
   ]
  },
  {
   "cell_type": "markdown",
   "metadata": {},
   "source": [
    "* **Printing without the 'newline'** at the end of each print statement - use 'end=\"some-string\"'"
   ]
  },
  {
   "cell_type": "code",
   "execution_count": 2,
   "metadata": {},
   "outputs": [
    {
     "name": "stdout",
     "output_type": "stream",
     "text": [
      "I don't like \n",
      "newlines.\n"
     ]
    }
   ],
   "source": [
    "print(\"I don't like \")\n",
    "print(\"newlines.\")"
   ]
  },
  {
   "cell_type": "code",
   "execution_count": 1,
   "metadata": {},
   "outputs": [
    {
     "ename": "SyntaxError",
     "evalue": "invalid syntax (<ipython-input-1-3ec5302a6d71>, line 1)",
     "output_type": "error",
     "traceback": [
      "\u001b[0;36m  File \u001b[0;32m\"<ipython-input-1-3ec5302a6d71>\"\u001b[0;36m, line \u001b[0;32m1\u001b[0m\n\u001b[0;31m    print(\"Hello World\", end=\"\")\u001b[0m\n\u001b[0m                            ^\u001b[0m\n\u001b[0;31mSyntaxError\u001b[0m\u001b[0;31m:\u001b[0m invalid syntax\n"
     ]
    }
   ],
   "source": [
    "print(\"Hello World\", end=\"\")"
   ]
  },
  {
   "cell_type": "code",
   "execution_count": 32,
   "metadata": {},
   "outputs": [
    {
     "name": "stdout",
     "output_type": "stream",
     "text": [
      "kpkpkp\n",
      "\n",
      "\n",
      "\n",
      "\n",
      "bpbpbp\n",
      "========================================\n",
      "========================================kpbp========================================\n"
     ]
    },
    {
     "ename": "TypeError",
     "evalue": "unsupported operand type(s) for -: 'str' and 'str'",
     "output_type": "error",
     "traceback": [
      "\u001b[0;31m---------------------------------------------------------------------------\u001b[0m",
      "\u001b[0;31mTypeError\u001b[0m                                 Traceback (most recent call last)",
      "\u001b[0;32m<ipython-input-32-330573cd9afc>\u001b[0m in \u001b[0;36m<module>\u001b[0;34m()\u001b[0m\n\u001b[1;32m      8\u001b[0m \u001b[0;32mprint\u001b[0m\u001b[0;34m(\u001b[0m\u001b[0mline2\u001b[0m\u001b[0;34m)\u001b[0m\u001b[0;34m\u001b[0m\u001b[0m\n\u001b[1;32m      9\u001b[0m \u001b[0;31m# Subtraction didn't seem to work\u001b[0m\u001b[0;34m\u001b[0m\u001b[0;34m\u001b[0m\u001b[0m\n\u001b[0;32m---> 10\u001b[0;31m \u001b[0;32mprint\u001b[0m\u001b[0;34m(\u001b[0m\u001b[0mline2\u001b[0m \u001b[0;34m-\u001b[0m \u001b[0mline\u001b[0m\u001b[0;34m)\u001b[0m\u001b[0;34m\u001b[0m\u001b[0m\n\u001b[0m",
      "\u001b[0;31mTypeError\u001b[0m: unsupported operand type(s) for -: 'str' and 'str'"
     ]
    }
   ],
   "source": [
    "# Demonstrating string multiplication and addition.\n",
    "print(\"kp\" * 3)\n",
    "print(\"\\n\" * 3)\n",
    "print(\"bp\" * 3)\n",
    "line = \"==\" * 20\n",
    "print(line)\n",
    "line2 = line + \"kp\" + \"bp\" + line\n",
    "print(line2)\n",
    "# Subtraction didn't seem to work\n",
    "print(line2 - line)"
   ]
  },
  {
   "cell_type": "markdown",
   "metadata": {},
   "source": [
    "<a id='QuickFactsFromRef3'></a>\n",
    "## Quick Facts From Ref3 \n",
    "* Command-line arguments are kept in a list 'sys.argv'\n",
    "* sys.exit(1)   # Return a non-zero value to indicate abnormal termination\n",
    "* Python uses indentation instead of {} for body block\n",
    "* Python's variable has no type. No prior declaration needed. Variables are created via the initial assignments.\n",
    "    * num_words = num_lines = num_chars = 0  # chain assignment\n",
    "* **with open(sys.argv[1]) as infile:** # 'with-as' closes the file automatically\n",
    "    * for line in infile:  # for-in loop: Process each line (including newline) in a for-loop\n",
    "        * num_lines += 1      # No ++ operator in Python?!\n",
    "        * line = line.strip()       # Remove leading and trailing whitespaces\n",
    "        * words = line.split()      # Split into a list using whitespace as delimiter\n",
    "* print('Number of Lines is %d' % num_lines)  # C-like printf()  \n",
    "    * We format the output via the '%' operator, in the form of _'formatting-str' % args_. The formatting-string could contain C's printf-like format-specifiers such as %d (for integer), %6.2f (for float), %s (for string).\n",
    "* Python's integer is unlimited in size \n",
    "* Python supports complex numbers and other high-level data types.\n",
    "    * print((1+2j) `*` (3`*`4j))        # Python supports complex numbers!\n",
    "* By convention, Python script (module) filenames are in all-lowercase.\n",
    "* Running Python Scripts inside Python Command-Line Shell\n",
    "    * Python 3 and Python 2:  _exec(open('/path/to/hello.py').read())_\n",
    "    * Python 2 : _execfile('/path/to/hello.py')_ or _exec(open('/path/to/hello.py'))_\n",
    "        * You can use either absolute or relative path for the filename. But, '~' (for home directory) does not work?!\n",
    "        * The open() function open the file, in default read-only mode.\n",
    "        * The read() function reads the entire file.\n",
    "* **In Python, functions are objects** (like instances of a class). Like any object, \n",
    "    * assigned to a variable;\n",
    "    * a function can be passed into a function as an argument; and\n",
    "    * a function can be the return value of a function.\n",
    "* **Lambda functions** are anonymous function or un-named function. They are used to inline a function definition, or to defer execution of certain codes. The syntax is:\n",
    "     * Syntax:    lambda arg1, arg2, ...: return-expression"
   ]
  },
  {
   "cell_type": "code",
   "execution_count": 8,
   "metadata": {},
   "outputs": [
    {
     "data": {
      "text/plain": [
       "6"
      ]
     },
     "execution_count": 8,
     "metadata": {},
     "output_type": "execute_result"
    }
   ],
   "source": [
    "# Define an ordinary function\n",
    "def f1(a,b,c): return a+b+c\n",
    "# calling the function\n",
    "f1(1,2,3) "
   ]
  },
  {
   "cell_type": "code",
   "execution_count": 7,
   "metadata": {},
   "outputs": [
    {
     "data": {
      "text/plain": [
       "function"
      ]
     },
     "execution_count": 7,
     "metadata": {},
     "output_type": "execute_result"
    }
   ],
   "source": [
    "type(f1)"
   ]
  },
  {
   "cell_type": "code",
   "execution_count": 12,
   "metadata": {
    "collapsed": true
   },
   "outputs": [],
   "source": [
    "# Define a Lambda function and assign to a variable\n",
    "f2 = lambda a, b, c: a + b + c\n",
    "\n",
    "# Note that Lambda functions don't need 'return' keyword\n",
    "#  and, like ordinary function, can have default values for its parameters\n",
    "f3 = lambda a, b = 5, c = 9 : a*b + c"
   ]
  },
  {
   "cell_type": "code",
   "execution_count": 10,
   "metadata": {},
   "outputs": [
    {
     "data": {
      "text/plain": [
       "6"
      ]
     },
     "execution_count": 10,
     "metadata": {},
     "output_type": "execute_result"
    }
   ],
   "source": [
    "f2(1,2,3) #invoking the function"
   ]
  },
  {
   "cell_type": "code",
   "execution_count": null,
   "metadata": {
    "collapsed": true
   },
   "outputs": [],
   "source": [
    "type(f2)"
   ]
  },
  {
   "cell_type": "code",
   "execution_count": 13,
   "metadata": {},
   "outputs": [
    {
     "data": {
      "text/plain": [
       "12"
      ]
     },
     "execution_count": 13,
     "metadata": {},
     "output_type": "execute_result"
    }
   ],
   "source": [
    "f3(2,3,6)"
   ]
  },
  {
   "cell_type": "code",
   "execution_count": 14,
   "metadata": {},
   "outputs": [
    {
     "data": {
      "text/plain": [
       "44"
      ]
     },
     "execution_count": 14,
     "metadata": {},
     "output_type": "execute_result"
    }
   ],
   "source": [
    "f3(7)"
   ]
  },
  {
   "cell_type": "code",
   "execution_count": 17,
   "metadata": {},
   "outputs": [
    {
     "name": "stdout",
     "output_type": "stream",
     "text": [
      "(-68+34j)\n"
     ]
    }
   ],
   "source": [
    "#kp: I verified that the following code worked when I put it in a .py file \n",
    "#    and executed from command line as \"python filename.py\".\n",
    "print((1+2j)*(34j)) "
   ]
  },
  {
   "cell_type": "code",
   "execution_count": 23,
   "metadata": {},
   "outputs": [
    {
     "ename": "SyntaxError",
     "evalue": "invalid syntax (<string>, line 19)",
     "output_type": "error",
     "traceback": [
      "\u001b[0;36m  File \u001b[0;32m\"<string>\"\u001b[0;36m, line \u001b[0;32m19\u001b[0m\n\u001b[0;31m    print(\"I don't like \", end='')\u001b[0m\n\u001b[0m                              ^\u001b[0m\n\u001b[0;31mSyntaxError\u001b[0m\u001b[0;31m:\u001b[0m invalid syntax\n"
     ]
    }
   ],
   "source": [
    "exec(open('/Users/kpadhikari/GitProj/KPAdhikari/PythonStuff/IPython_Jupyter_Notebooks/Tuts/someQuickTests.py').read())"
   ]
  },
  {
   "cell_type": "markdown",
   "metadata": {},
   "source": [
    "#### Environment Variables PATH/PYTHONPATH and Python System Variable sys.path\n",
    "\n",
    "The environment variable PATH shall include the path to Python Interpreter \"python\".\n",
    "\n",
    "Python system variable sys.path is a list of directories for searching Python modules. It is initialized from the environment variable PYTHONPATH, plus an installation-dependent default. The environment variable PYTHONPATH, by default, is empty."
   ]
  },
  {
   "cell_type": "code",
   "execution_count": 24,
   "metadata": {},
   "outputs": [
    {
     "data": {
      "text/plain": [
       "['',\n",
       " '/usr/local/Cellar/root6/6.10.04/lib/root',\n",
       " '/usr/local/Cellar/root6/6.10.04/lib',\n",
       " '/Users/kpadhikari/GitProj/KPAdhikari/PythonStuff/KpModules',\n",
       " '/usr/local/Cellar/python/2.7.13_1/Frameworks/Python.framework/Versions/2.7/lib/python27.zip',\n",
       " '/usr/local/Cellar/python/2.7.13_1/Frameworks/Python.framework/Versions/2.7/lib/python2.7',\n",
       " '/usr/local/Cellar/python/2.7.13_1/Frameworks/Python.framework/Versions/2.7/lib/python2.7/plat-darwin',\n",
       " '/usr/local/Cellar/python/2.7.13_1/Frameworks/Python.framework/Versions/2.7/lib/python2.7/plat-mac',\n",
       " '/usr/local/Cellar/python/2.7.13_1/Frameworks/Python.framework/Versions/2.7/lib/python2.7/plat-mac/lib-scriptpackages',\n",
       " '/usr/local/Cellar/python/2.7.13_1/Frameworks/Python.framework/Versions/2.7/lib/python2.7/lib-tk',\n",
       " '/usr/local/Cellar/python/2.7.13_1/Frameworks/Python.framework/Versions/2.7/lib/python2.7/lib-old',\n",
       " '/usr/local/Cellar/python/2.7.13_1/Frameworks/Python.framework/Versions/2.7/lib/python2.7/lib-dynload',\n",
       " '/usr/local/lib/python2.7/site-packages',\n",
       " '/usr/local/lib/python2.7/site-packages/IPython/extensions',\n",
       " '/Users/kpadhikari/.ipython']"
      ]
     },
     "execution_count": 24,
     "metadata": {},
     "output_type": "execute_result"
    }
   ],
   "source": [
    "import sys\n",
    "sys.path"
   ]
  },
  {
   "cell_type": "markdown",
   "metadata": {},
   "source": [
    "<a id='QuickFactsFromRef4'></a>\n",
    "## Quick Facts From Ref4 - Memory allocation & management\n",
    "\n",
    "* All variables in Python are objects\n",
    "* Objects sit in heap, whereas their references and function/method calls sit in stack (stack-frames)\n",
    "* Python's Garbage Collection (GC) uses **Reference Counting** algorithm, in which the interpreter keeps tab (kp: a table) of the # of references of an object and as soon as the number reaches zero, the object is swept out of memory by the GC. <font color='magenta'>(Ref4 says Python GC uses both **Reference Counting** and **Tracing**. Tracing generally uses **Mark and Sweep (MARK)** algorithm. Python uses something called **Generational** tracing.)</font>\n",
    "    * <font color='magenta'>Generational GC is based on the theory that **most objects die young.**</font>\n",
    "    * <font color='magenta'>Python maintains a list of every object created as a program is run. Actually, three lists - Generation 0, Generation 1 and Generation 2. Each object is stored in only one generation. Newest objects are stored in **Generation 0**</font>\n",
    "    * Different languages use different algorithms for GC with their unique advantages and disadvantages. For example, the Java GC uses a different algorithm known as **Mark-and-Sweep (MARK)** in which it marks the unreferenced object but sweeping (garbage collection) is done periodically rather than instantly or immediately. (watch at about 6:00)\n",
    "        * Ref5: MARK algorithm gets run when the # of objects in the memory is greater than a certain threshold. The next step is Sweep which will remove the dead objects.\n",
    "    * Advantages of **Reference Counting** - optimal memory utilization (beneficial for limited memory situation).\n",
    "    * Disadvantages - slows down the program execution.\n",
    "        * From Ref4 - (1) space overhead (needs storage space to store ref-count); (2) execution overhead (slows down execution); (3) not generally thread safe. (4) doesn't detect cyclical references."
   ]
  },
  {
   "cell_type": "markdown",
   "metadata": {
    "collapsed": true
   },
   "source": [
    "<a id='PrimitiveDatatypes'></a>\n",
    "# Primitive/Native Datatypes in Python2 & Python3"
   ]
  },
  {
   "cell_type": "markdown",
   "metadata": {},
   "source": [
    "From Ref1: <br />\n",
    "Python has many native datatypes. Here are the important ones:\n",
    "* __Booleans__ are either True or False.\n",
    "* __Numbers__ can be integers (1 and 2), floats (1.1 and 1.2), fractions (1/2 and 2/3), or even complex numbers.\n",
    "* __Strings__ are sequences of Unicode characters, e.g. an HTML document.\n",
    "* __Bytes and byte arrays__, e.g. a JPEG image file.\n",
    "* __Lists__ are ordered sequences of values.\n",
    "* __Tuples__ are ordered, immutable sequences of values.\n",
    "* __Sets__ are unordered bags of values.\n",
    "* __Dictionaries__ are unordered bags of key-value pairs. \n",
    "\n",
    "Of course, there are more types than these. Everything is an object in Python, so there are types like module, function, class, method, file, and even compiled code. You’ve already seen some of these: modules have names, functions have docstrings, &c. You’ll learn about classes in Classes & Iterators, and about files in Files.\n",
    "\n",
    "Strings and bytes are important enough — and complicated enough — that they get their own chapter. Let’s look at the others first. "
   ]
  },
  {
   "cell_type": "markdown",
   "metadata": {},
   "source": [
    "### Lists, Tuples, Dictionaries (Declarations)\n",
    "```\n",
    ">>>         entries = {}\n",
    "  File \"<stdin>\", line 1\n",
    "    entries = {}\n",
    "    ^\n",
    "IndentationError: unexpected indent\n",
    ">>> entries = {}\n",
    ">>> type(entries)\n",
    "<class 'dict'>\n",
    ">>> ents = []\n",
    ">>> type(ents)\n",
    "<class 'list'>\n",
    ">>> ent = ()\n",
    ">>> type(ent)\n",
    "<class 'tuple'>\n",
    ">>> \n",
    "```"
   ]
  },
  {
   "cell_type": "code",
   "execution_count": 2,
   "metadata": {},
   "outputs": [
    {
     "ename": "IndentationError",
     "evalue": "unexpected indent (<ipython-input-2-43cf7d399d06>, line 2)",
     "output_type": "error",
     "traceback": [
      "\u001b[0;36m  File \u001b[0;32m\"<ipython-input-2-43cf7d399d06>\"\u001b[0;36m, line \u001b[0;32m2\u001b[0m\n\u001b[0;31m    type(entries)\u001b[0m\n\u001b[0m    ^\u001b[0m\n\u001b[0;31mIndentationError\u001b[0m\u001b[0;31m:\u001b[0m unexpected indent\n"
     ]
    }
   ],
   "source": [
    "         entries = {}\n",
    "    type(entries)"
   ]
  },
  {
   "cell_type": "code",
   "execution_count": 4,
   "metadata": {},
   "outputs": [
    {
     "data": {
      "text/plain": [
       "dict"
      ]
     },
     "execution_count": 4,
     "metadata": {},
     "output_type": "execute_result"
    }
   ],
   "source": [
    "entries1 = {}\n",
    "type(entries1)"
   ]
  },
  {
   "cell_type": "code",
   "execution_count": 5,
   "metadata": {},
   "outputs": [
    {
     "data": {
      "text/plain": [
       "tuple"
      ]
     },
     "execution_count": 5,
     "metadata": {},
     "output_type": "execute_result"
    }
   ],
   "source": [
    "entries2 = ()\n",
    "type (entries2)"
   ]
  },
  {
   "cell_type": "code",
   "execution_count": 7,
   "metadata": {},
   "outputs": [
    {
     "data": {
      "text/plain": [
       "list"
      ]
     },
     "execution_count": 7,
     "metadata": {},
     "output_type": "execute_result"
    }
   ],
   "source": [
    "entries3 = []\n",
    "type (entries3)"
   ]
  },
  {
   "cell_type": "code",
   "execution_count": 9,
   "metadata": {},
   "outputs": [
    {
     "data": {
      "text/plain": [
       "set"
      ]
     },
     "execution_count": 9,
     "metadata": {},
     "output_type": "execute_result"
    }
   ],
   "source": [
    "a_set = {1} \n",
    "type(a_set)"
   ]
  },
  {
   "cell_type": "code",
   "execution_count": 12,
   "metadata": {},
   "outputs": [
    {
     "data": {
      "text/plain": [
       "dict"
      ]
     },
     "execution_count": 12,
     "metadata": {},
     "output_type": "execute_result"
    }
   ],
   "source": [
    "# A dictionary is an unordered set of key-value pairs\n",
    "a_dict = {1:2} \n",
    "type(a_dict)"
   ]
  },
  {
   "cell_type": "markdown",
   "metadata": {},
   "source": [
    "<a id='Python2vsPython3'></a>\n",
    "# Python2 vs Python3"
   ]
  },
  {
   "cell_type": "markdown",
   "metadata": {},
   "source": [
    "References: \n",
    "* https://blog.appdynamics.com/engineering/the-key-differences-between-python-2-and-python-3/\n",
    "\n",
    "\n",
    "If you are new to Python, you might be confused about the different versions that are available. Although Python 3 is the latest generation of the language, many programmers still use Python 2.7, the final update to Python 2, which was released in 2010.\n",
    "\n",
    "There is currently no clear-cut answer to the question of which version of Python you should use; the decision depends on what you want to achieve. While Python 3 is clearly the future of the language, some programmers choose to remain with Python 2.7 because some older libraries and packages only work in Python 2.\n",
    "## Why Are There Different Versions of Python?\n",
    "\n",
    "Programming languages constantly evolve as developers extend the functionality of the language and iron out quirks that cause problems for developers. Python 3 was introduced in 2008 with the aim of making Python easier to use and change the way it handles strings to match the demands placed on the language today. Programmers who first learned to program in Python 2 sometimes find the new changes difficult to adjust to, but newcomers often find that the new version of the language makes more sense.\n",
    "\n",
    "Python 3.0 is fundamentally different to previous Python releases because it is the first Python release that is not compatible with older versions. Programmers usually don’t need to worry about minor updates (e.g. from 2.6 to 2.7) as they usually only change the internal workings of Python and don’t require programmers to change their syntax. The change between Python 2.7 (the final version of Python 2) and Python 3.0 is much more significant — code that worked in Python 2.7 may need to be written in a different way to work in Python 3.0.\n",
    "\n",
    "## Key Differences Between Python 2 and Python 3\n",
    "\n",
    "Here are some key differences between Python 2 and Python 3 that can make the new version of the language less confusing for new programmers to learn:\n",
    "\n",
    "__Print:__ In Python 2, “print” is treated as a statement rather than a function. There is no need to wrap the text you want to print in parentheses, although you can if you want. This can be confusing, as most other actions in Python use functions that require the arguments to be placed inside parentheses. It can also lead to unexpected outcomes if you put parentheses around a comma-separated list of items that you want to print. In contrast, Python 3 explicitly treats “print” as a function, which means you have to pass the items you need to print to the function in parentheses in the standard way, or you will get a syntax error. Some Python 2 programmers find this change annoying, but it can help to prevent mistakes.\n",
    "\n",
    "__Integer Division:__ Python 2 treats numbers that you type without any digits after the decimal point as integers, which can lead to some unexpected results during division. For example, if you type the expression 3 / 2 in Python 2 code, the result of the evaluation will be 1, not 1.5 as you might expect. This is because Python 2 assumes that you want the result of your division to be an integer, so it rounds the calculation down to the nearest whole number. In order to get the result 1.5, you would have to write 3.0 / 2.0 to tell Python that you want it to return a float, that is, to include digits after the decimal point in the result. Python 3 evaluates 3 / 2 as 1.5 by default, which is more intuitive for new programmers.\n",
    "\n",
    "__List Comprehension Loop Variables:__ In previous versions of Python, giving the variable that is iterated over in a list comprehension the same name as a global variable could lead to the value of the global variable being changed — something you usually don’t want. This irritating bug has been fixed in Python 3, so you can use a variable name you already used for the control variable in your list comprehension without worrying about it leaking out and messing with the values of the variables in the rest of your code.\n",
    "\n",
    "__Unicode Strings:__ Python 3 stores strings as Unicode by default, whereas Python 2 requires you to mark a string with a “u” if you want to store it as Unicode. Unicode strings are more versatile than ASCII strings, which are the Python 2 default, as they can store letters from foreign languages as well as emoji and the standard Roman letters and numerals. You can still label your Unicode strings with a “u” if you want to make sure your Python 3 code is compatible with Python 2.\n",
    "\n",
    "__Raising Exceptions:__ Python 3 requires different syntax for raising exceptions. If you want to output an error message to the user, you need to use the syntax:   (kp: _It seems this change is similar to that of **print**_)\n",
    "\n",
    "raise IOError(“your error message”)\n",
    "\n",
    "This syntax works in Python 2 as well. The following code works only in Python 2, not Python 3:\n",
    "\n",
    "raise IOError, “your error message”\n",
    "\n",
    "There are many other examples of slight differences in syntax between Python 2 and Python 3. A cheat sheet of key syntax differences is available from Python-Future to help you write code that is compatible with both versions of Python. In addition to syntax differences, there are other key differences, such as how the two versions of Python handle strings, as described above. Python 3.3 performs at approximately the same speed as Python 2.7, although some benchmarks measure the new language as being much faster."
   ]
  },
  {
   "cell_type": "markdown",
   "metadata": {},
   "source": [
    "#### Python3 allows Optional underscores in numeric literals for better readability\n",
    "Ref: http://www.developintelligence.com/blog/2017/07/python-2-vs-python-3-explained-simple-terms/\n",
    "\n",
    "Python 3.6 adds to these changes by allowing optional underscores in numeric literals for better readability (e.g., 1_000_000 vs. 1000000), and in addition extends Python’s functionality for multitasking. (Note that the new features which appear in each successive version of Python 3 are not “backported” to Python 2.7, and as a result, Python 3 will continue to diverge from Python 2 in terms of functionality.)\n",
    "\n",
    "Let's first see the use of underscores in python3"
   ]
  },
  {
   "cell_type": "code",
   "execution_count": 5,
   "metadata": {},
   "outputs": [
    {
     "name": "stdout",
     "output_type": "stream",
     "text": [
      "10000000.0\n",
      "3405705229\n",
      "16206\n",
      "240\n"
     ]
    }
   ],
   "source": [
    "%%python3\n",
    "# https://www.python.org/dev/peps/pep-0515/\n",
    "# grouping decimal numbers by thousands\n",
    "amount = 10_000_000.0\n",
    "print(amount)\n",
    "# grouping hexadecimal addresses by words\n",
    "addr = 0xCAFE_F00D\n",
    "print(addr)\n",
    "# grouping bits into nibbles in a binary literal\n",
    "flags = 0b_0011_1111_0100_1110\n",
    "print(flags)\n",
    "# same, for string conversions\n",
    "flags = int('0b_1111_0000', 2)\n",
    "print(flags)"
   ]
  },
  {
   "cell_type": "markdown",
   "metadata": {},
   "source": [
    "Next let's try the same code in python2 (default language of the cell)"
   ]
  },
  {
   "cell_type": "code",
   "execution_count": 6,
   "metadata": {},
   "outputs": [
    {
     "ename": "SyntaxError",
     "evalue": "invalid syntax (<ipython-input-6-7b1b4b97b0c9>, line 3)",
     "output_type": "error",
     "traceback": [
      "\u001b[0;36m  File \u001b[0;32m\"<ipython-input-6-7b1b4b97b0c9>\"\u001b[0;36m, line \u001b[0;32m3\u001b[0m\n\u001b[0;31m    amount = 10_000_000.0\u001b[0m\n\u001b[0m                      ^\u001b[0m\n\u001b[0;31mSyntaxError\u001b[0m\u001b[0;31m:\u001b[0m invalid syntax\n"
     ]
    }
   ],
   "source": [
    "# https://www.python.org/dev/peps/pep-0515/\n",
    "# grouping decimal numbers by thousands\n",
    "amount = 10_000_000.0\n",
    "print(amount)\n",
    "# grouping hexadecimal addresses by words\n",
    "addr = 0xCAFE_F00D\n",
    "print(addr)\n",
    "# grouping bits into nibbles in a binary literal\n",
    "flags = 0b_0011_1111_0100_1110\n",
    "print(flags)\n",
    "# same, for string conversions\n",
    "flags = int('0b_1111_0000', 2)\n",
    "print(flags)"
   ]
  },
  {
   "cell_type": "markdown",
   "metadata": {},
   "source": [
    "### 1) The 'print object' statement replaced by 'print( object )' function\n",
    "The first difference/change is the very trivial but perhaps the most widely known replacement of the **print object** statement with the **print(object)** function. In Python2, we don't need to enclose the object with a pair of parentheses and it still works even if we enclose it, but in Python3, only the one with the functional form (i.e., using the parentheses) works and the other one causes Python3 to raise __SyntaxError__."
   ]
  },
  {
   "cell_type": "code",
   "execution_count": 33,
   "metadata": {},
   "outputs": [
    {
     "name": "stdout",
     "output_type": "stream",
     "text": [
      "Hello World, did you notice that this print statement in Python2 does not use parentheses?\n",
      "But, python2 allows parentheses as well to enclose the object to be printed.\n"
     ]
    }
   ],
   "source": [
    "print 'Hello World, did you notice that this print statement in Python2 does not use parentheses?'\n",
    "print (\"But, python2 allows parentheses as well to enclose the object to be printed.\")"
   ]
  },
  {
   "cell_type": "code",
   "execution_count": 35,
   "metadata": {},
   "outputs": [
    {
     "name": "stderr",
     "output_type": "stream",
     "text": [
      "  File \"<stdin>\", line 2\n",
      "    print 'Trying to print a string object without parentheses.'\n",
      "                                                               ^\n",
      "SyntaxError: Missing parentheses in call to 'print'\n"
     ]
    }
   ],
   "source": [
    "%%python3\n",
    "print (\"On the other hand, one must put the object inside the parentheses, otherwise it throws SyntaxError.\")\n",
    "print 'Trying to print a string object without parentheses.'"
   ]
  },
  {
   "cell_type": "markdown",
   "metadata": {},
   "source": [
    "#### Four key things to note:\n",
    "1. The SyntaxError in Python3 when 'print' statement is used, but no error in Python2 when print(obj) is used.\n",
    "2. Print more text on the same line with multiple print statement or function. Newline and the Use of semicolon in Python2\n",
    "    * Python2 wants/needs a comma and a semicolon after first print statement (to avoid a newline char).\n",
    "    * Python3 requires first print() function to have one more argument 'end=\"\"')\n",
    "3. __Multiple objects inside parentheses of print():__ Tuple object in Python2 but multiple args in Python3.\n",
    "4. The __print()__ function is now able to write to external text files, something which was not possible before, and there are others advantages of it now being a function. ([Ref](http://www.developintelligence.com/blog/2017/07/python-2-vs-python-3-explained-simple-terms/))"
   ]
  },
  {
   "cell_type": "code",
   "execution_count": 36,
   "metadata": {},
   "outputs": [
    {
     "name": "stdout",
     "output_type": "stream",
     "text": [
      "Text from first print statement. And this is from another print statement\n"
     ]
    }
   ],
   "source": [
    "print \"Text from first print statement.\", ; print 'And this is from another print statement'"
   ]
  },
  {
   "cell_type": "code",
   "execution_count": 37,
   "metadata": {},
   "outputs": [
    {
     "name": "stdout",
     "output_type": "stream",
     "text": [
      "This text is from the first print function, And, this is from the second one.\n"
     ]
    }
   ],
   "source": [
    "%%python3\n",
    "print(\"This text is from the first print function,\", end=\"\")\n",
    "print(' And, this is from the second one.')"
   ]
  },
  {
   "cell_type": "markdown",
   "metadata": {},
   "source": [
    "### Multiple objects inside parentheses of print()\n",
    "\n",
    "In python2, we're effectively creating a Tuple object and we're simply printing that new object rathar than printing the multiple objects themselves that make up the Tuple. "
   ]
  },
  {
   "cell_type": "code",
   "execution_count": 30,
   "metadata": {},
   "outputs": [
    {
     "name": "stdout",
     "output_type": "stream",
     "text": [
      "ab  20.0 ef 10\n"
     ]
    }
   ],
   "source": [
    "a = 20.0\n",
    "b = 10\n",
    "print \"ab \",  a , \"ef\", b"
   ]
  },
  {
   "cell_type": "code",
   "execution_count": 31,
   "metadata": {},
   "outputs": [
    {
     "name": "stdout",
     "output_type": "stream",
     "text": [
      "('ab', 20.0, 'ef', 10)\n"
     ]
    }
   ],
   "source": [
    "print(\"ab\", a, \"ef\", b)"
   ]
  },
  {
   "cell_type": "code",
   "execution_count": 32,
   "metadata": {},
   "outputs": [
    {
     "name": "stdout",
     "output_type": "stream",
     "text": [
      "ab 20.0 ef 10\n"
     ]
    }
   ],
   "source": [
    "%%python3\n",
    "a = 20.0\n",
    "b = 10\n",
    "print(\"ab\", a, \"ef\", b)"
   ]
  },
  {
   "cell_type": "code",
   "execution_count": 10,
   "metadata": {},
   "outputs": [
    {
     "data": {
      "text/plain": [
       "tuple"
      ]
     },
     "execution_count": 10,
     "metadata": {},
     "output_type": "execute_result"
    }
   ],
   "source": [
    "#Following is a tuple\n",
    "tup = (\"ab\",\"cd\", \"ef\", \"gh\")\n",
    "type(tup)\n",
    "#print(tup)"
   ]
  },
  {
   "cell_type": "code",
   "execution_count": 7,
   "metadata": {},
   "outputs": [
    {
     "data": {
      "text/plain": [
       "list"
      ]
     },
     "execution_count": 7,
     "metadata": {},
     "output_type": "execute_result"
    }
   ],
   "source": [
    "#Following is a list\n",
    "li = [\"ab\",\"cd\", \"ef\", \"gh\"]\n",
    "type(li)\n",
    "#print(li)"
   ]
  },
  {
   "cell_type": "code",
   "execution_count": 11,
   "metadata": {},
   "outputs": [
    {
     "name": "stdout",
     "output_type": "stream",
     "text": [
      "['ab', 'cd', 'ef', 'gh']\n"
     ]
    }
   ],
   "source": [
    "print(li)"
   ]
  },
  {
   "cell_type": "code",
   "execution_count": 9,
   "metadata": {},
   "outputs": [
    {
     "data": {
      "text/plain": [
       "set"
      ]
     },
     "execution_count": 9,
     "metadata": {},
     "output_type": "execute_result"
    }
   ],
   "source": [
    "#Following is a set\n",
    "st = {\"ab\",\"cd\", \"ef\", \"gh\"}\n",
    "type(st)\n",
    "#print(st)"
   ]
  },
  {
   "cell_type": "code",
   "execution_count": 12,
   "metadata": {},
   "outputs": [
    {
     "name": "stdout",
     "output_type": "stream",
     "text": [
      "set(['gh', 'ab', 'ef', 'cd'])\n"
     ]
    }
   ],
   "source": [
    "print(st)"
   ]
  },
  {
   "cell_type": "code",
   "execution_count": 13,
   "metadata": {},
   "outputs": [
    {
     "name": "stdout",
     "output_type": "stream",
     "text": [
      "('ab', 'cd', 'ef', 'gh')\n"
     ]
    }
   ],
   "source": [
    "print(tup)"
   ]
  },
  {
   "cell_type": "code",
   "execution_count": 3,
   "metadata": {},
   "outputs": [
    {
     "name": "stderr",
     "output_type": "stream",
     "text": [
      "Traceback (most recent call last):\n",
      "  File \"<stdin>\", line 1, in <module>\n",
      "NameError: name 'python_version' is not defined\n"
     ]
    },
    {
     "name": "stdout",
     "output_type": "stream",
     "text": [
      "\n"
     ]
    }
   ],
   "source": [
    "%%python3\n",
    "print('Python', python_version())"
   ]
  },
  {
   "cell_type": "code",
   "execution_count": 2,
   "metadata": {},
   "outputs": [
    {
     "name": "stdout",
     "output_type": "stream",
     "text": [
      "Python"
     ]
    },
    {
     "ename": "NameError",
     "evalue": "name 'python_version' is not defined",
     "output_type": "error",
     "traceback": [
      "\u001b[0;31m---------------------------------------------------------------------------\u001b[0m",
      "\u001b[0;31mNameError\u001b[0m                                 Traceback (most recent call last)",
      "\u001b[0;32m<ipython-input-2-05f79b62879f>\u001b[0m in \u001b[0;36m<module>\u001b[0;34m()\u001b[0m\n\u001b[0;32m----> 1\u001b[0;31m \u001b[0;32mprint\u001b[0m \u001b[0;34m'Python'\u001b[0m\u001b[0;34m,\u001b[0m \u001b[0mpython_version\u001b[0m\u001b[0;34m(\u001b[0m\u001b[0;34m)\u001b[0m\u001b[0;34m\u001b[0m\u001b[0m\n\u001b[0m",
      "\u001b[0;31mNameError\u001b[0m: name 'python_version' is not defined"
     ]
    }
   ],
   "source": [
    "print 'Python', python_version()"
   ]
  },
  {
   "cell_type": "markdown",
   "metadata": {},
   "source": [
    "### Integer Division: \n",
    "Python 2 treats numbers that you type without any digits after the decimal point as integers, which can lead to some unexpected results during division. For example, if you type the expression 3 / 2 in Python 2 code, the result of the evaluation will be 1, not 1.5 as you might expect. This is because Python 2 assumes that you want the result of your division to be an integer, so it rounds the calculation down to the nearest whole number. In order to get the result 1.5, you would have to write 3.0 / 2.0 to tell Python that you want it to return a float, that is, to include digits after the decimal point in the result. Python 3 evaluates 3 / 2 as 1.5 by default, which is more intuitive for new programmers.\n",
    "\n",
    "https://stackoverflow.com/questions/183853/in-python-2-what-is-the-difference-between-and-when-used-for-division/183866 <br />\n",
    "Q: <br />\n",
    "In Python 2, what is the difference between '/' and '//' when used for division?\n",
    "\n",
    "A1: <br />\n",
    "\n",
    "In Python 3.0, 5 / 2 will return 2.5 and 5 // 2 will return 2. **The former is floating point division, and the latter is floor division, sometimes also called integer division**.\n",
    "\n",
    "In Python 2.2 or later in the 2.x line, there is no difference for integers unless you perform a from __future__ import division, which causes Python 2.x to adopt the behavior of 3.0\n",
    "\n",
    "Regardless of the future import, 5.0 // 2 will return 2.0 since that's the floor division result of the operation.\n",
    "\n",
    "You can find a detailed description at https://docs.python.org/whatsnew/2.2.html#pep-238-changing-the-division-operator\n",
    "\n",
    "A2: <br />\n",
    "```\n",
    "/ --> Floating point division\n",
    "\n",
    "// --> Floor division\n",
    "```\n",
    "Lets see some examples in both python 2.7 and in Python 3.5.\n",
    "\n",
    "Python 2.7.10 vs. Python 3.5\n",
    "```\n",
    "print (2/3)  ----> 0                   Python 2.7\n",
    "print (2/3)  ----> 0.6666666666666666  Python 3.5\n",
    "```\n",
    "Python 2.7.10 vs. Python 3.5\n",
    "```\n",
    "  print (4/2)  ----> 2         Python 2.7\n",
    "  print (4/2)  ----> 2.0       Python 3.5\n",
    "```\n",
    "Now if you want to have (in python 2.7) same output as in python 3.5, you can do the following:\n",
    "\n",
    "Python 2.7.10\n",
    "```\n",
    "from __future__ import division\n",
    "print (2/3)  ----> 0.6666666666666666   #Python 2.7\n",
    "print (4/2)  ----> 2.0                  #Python 2.7\n",
    "```\n",
    "Where as there is no differece between Floor division in both python 2.7 and in Python 3.5\n",
    "```\n",
    "138.93//3 ---> 46.0        #Python 2.7\n",
    "138.93//3 ---> 46.0        #Python 3.5\n",
    "4//3      ---> 1           #Python 2.7\n",
    "4//3      ---> 1           #Python 3.5\n",
    "```\n"
   ]
  },
  {
   "cell_type": "code",
   "execution_count": 9,
   "metadata": {},
   "outputs": [
    {
     "name": "stdout",
     "output_type": "stream",
     "text": [
      "2\n",
      "2\n"
     ]
    }
   ],
   "source": [
    "print(5/2)\n",
    "print(5//2)"
   ]
  },
  {
   "cell_type": "code",
   "execution_count": 11,
   "metadata": {},
   "outputs": [
    {
     "name": "stdout",
     "output_type": "stream",
     "text": [
      "2.5\n",
      "2\n"
     ]
    }
   ],
   "source": [
    "%%python3\n",
    "print(5/2)\n",
    "print(5//2)"
   ]
  },
  {
   "cell_type": "markdown",
   "metadata": {},
   "source": [
    "Now if you want to have same output in python2 as in python3, you can do  **'from future import division'**:"
   ]
  },
  {
   "cell_type": "code",
   "execution_count": 12,
   "metadata": {},
   "outputs": [
    {
     "name": "stdout",
     "output_type": "stream",
     "text": [
      "2.5\n",
      "2\n"
     ]
    }
   ],
   "source": [
    "from __future__ import division\n",
    "print(5/2)\n",
    "print(5//2)"
   ]
  },
  {
   "cell_type": "markdown",
   "metadata": {
    "collapsed": true
   },
   "source": [
    "### Unicode Support\n",
    "Ref: www.developintelligence.com/blog/2017/07/python-2-vs-python-3-explained-simple-terms/\n",
    "\n",
    "When programming languages handle the string type — that is, a sequence of characters — they can do so in a few different ways so that computers can convert numbers to letters and other symbols.\n",
    "\n",
    "    (A string is a sequence of one or more characters (letters, numbers, symbols) that can be either a constant or a variable. Strings are immutable sequences, meaning they are unchanging. Because text is such a common form of data that we use in everyday life, the string data type is a very important building block of programming. )\n",
    "\n",
    "Python 2 uses the ASCII alphabet by default, so when you type \"Hello, Sammy!\" Python 2 will handle the string as ASCII. Limited to a couple of hundred characters at best in various extended forms, ASCII is not a very flexible method for encoding characters, especially non-English characters.\n",
    "\n",
    "To use the more versatile and robust Unicode character encoding, which supports over 128,000 characters across contemporary and historic scripts and symbol sets, you would have to type u\"Hello, Sammy!\", with the u prefix standing for Unicode.\n",
    "\n",
    "Python 3 uses Unicode by default, which saves programmers extra development time, and you can easily type and display many more characters directly into your program. Because Unicode supports greater linguistic character diversity as well as the display of emojis, using it as the default character encoding ensures that mobile devices around the world are readily supported in your development projects.\n",
    "\n",
    "If you would like your Python 3 code to be backwards-compatible with Python 2, though, you can keep the u before your string."
   ]
  },
  {
   "cell_type": "markdown",
   "metadata": {},
   "source": [
    "### Stuff from geeksforgeeks.org\n",
    "Ref: https://www.geeksforgeeks.org/important-differences-between-python-2-x-and-python-3-x-with-examples/\n",
    "\n",
    "kp: I skipped the part on **print** as I already have enough info on that.\n",
    "\n",
    "#### Division operator\n",
    "\n",
    "If we are porting our code or executing the python 3.x code in python 2.x, it can be dangerous if integer division changes go unnoticed (since it doesn’t raise any error). It is preferred to use the floating value (like 7.0/5 or 7/5.0) to get the expected result when porting our code.\n",
    "```\n",
    "print 7 / 5\n",
    "print -7 / 5   \n",
    "```\n",
    "Output in Python 2.x\n",
    "\n",
    "    1\n",
    "    -2\n",
    "Output in Python 3.x :\n",
    "\n",
    "    1.4\n",
    "    -1.4\n",
    " \n",
    "Refer below link for details https://www.geeksforgeeks.org/division-operator-in-python/\n",
    "\n",
    "\n",
    "#### Unicode:\n",
    "\n",
    "In Python 2, implicit str type is ASCII. But in Python 3.x implicit str type is Unicode.\n",
    "```\n",
    "print(type('default string '))\n",
    "print(type(b'string with b '))\n",
    "``` \n",
    "\n",
    "Output in Python 2.x (Bytes is same as str)\n",
    "```\n",
    "<type 'str'>\n",
    "<type 'str'>\n",
    "``` \n",
    "Output in Python 3.x (Bytes and str are different)\n",
    "```\n",
    "<class 'str'>\n",
    "<class 'bytes'>\n",
    "```\n",
    "\n",
    "Python 2.x also supports Unicode\n",
    "```\n",
    "print(type('default string '))\n",
    "print(type(u'string with b '))\n",
    "```\n",
    "Output in Python 2.x (Unicode and str are different)\n",
    "```\n",
    "<type 'str'>\n",
    "<type 'unicode'>\n",
    "``` \n",
    "Output in Python 3.x (Unicode and str are same)\n",
    "```\n",
    "<class 'str'>\n",
    "<class 'str'>\n",
    "```"
   ]
  },
  {
   "cell_type": "markdown",
   "metadata": {},
   "source": [
    "#### xrange:\n",
    "\n",
    "xrange() of Python 2.x doesn’t exist in Python 3.x. In Python 2.x, range returns a list i.e. range(3) returns [0, 1, 2] while xrange returns a xrange object i. e., xrange(3) returns iterator object which work similar to Java iterator and generates number when needed.\n",
    "If we need to iterate over the same sequence multiple times, we prefer range() as range provides a static list. xrange() reconstructs the sequence every time. xrange() doesn’t support slices and other list methods. The advantage of xrange() is, it saves memory when task is to iterate over a large range.\n",
    "\n",
    "In Python 3.x, the range function now does what xrange does in Python 2.x, so to keep our code portable, we might want to stick to using range instead. So Python 3.x’s range function is xrange from Python 2.x.\n",
    "```\n",
    "for x in xrange(1, 5):\n",
    "    print(x),\n",
    " \n",
    "for x in range(1, 5):\n",
    "    print(x),\n",
    "```\n",
    "\n",
    "Output in Python 2.x\n",
    "\n",
    "    1 2 3 4 1 2 3 4\n",
    " \n",
    "Output in Python 3.x\n",
    "\n",
    "    NameError: name 'xrange' is not defined"
   ]
  },
  {
   "cell_type": "markdown",
   "metadata": {},
   "source": [
    "#### Error Handling:\n",
    "\n",
    "There is a small change in error handling in both versions. In python 3.x, ‘as’ keyword is required.\n",
    "```\n",
    "try:\n",
    "    trying_to_check_error\n",
    "except NameError, err:\n",
    "    print err, 'Error Caused'   # Would not work in Python 3.x\n",
    "``` \n",
    "\n",
    "Output in Python 2.x:\n",
    "\n",
    "    name 'trying_to_check_error' is not defined Error Caused\n",
    " \n",
    "Output in Python 3.x :\n",
    "\n",
    "    File \"a.py\", line 3\n",
    "        except NameError, err:\n",
    "                    ^\n",
    "    SyntaxError: invalid syntax\n"
   ]
  },
  {
   "cell_type": "markdown",
   "metadata": {},
   "source": [
    "#### future_module:\n",
    "\n",
    "This is basically not a difference between two version, but useful thing to mention here. The idea of __future__ module is to help in migration. We can use Python 3.x\n",
    "If we are planning Python 3.x support in our 2.x code,we can ise_future_ imports it in our code.\n",
    "\n",
    "For example, in below Python 2.x code, we use Python 3.x’s integer division behavior using `__future__` module\n",
    "```\n",
    "# In below python 2.x code, division works\n",
    "# same as Python 3.x because we use  __future__\n",
    "from __future__ import division\n",
    " \n",
    "print 7 / 5\n",
    "print -7 / 5\n",
    "```\n",
    "\n",
    "Output :\n",
    "\n",
    "    1.4\n",
    "    -1.4\n",
    "\n",
    "Another example where we use brackets in Python 2.x using __future__ module\n",
    "```\n",
    "from __future__ import print_function    \n",
    " \n",
    "print('GeeksforGeeks')\n",
    "```\n",
    "\n",
    "Output :\n",
    "\n",
    "    GeeksforGeeks\n",
    "\n",
    "Refer [this](https://docs.python.org/2/library/__future__.html) for more details of __future__ module."
   ]
  },
  {
   "cell_type": "markdown",
   "metadata": {},
   "source": [
    "Reference: http://python3porting.com/differences.html\n",
    "\n",
    "### apply() removed in Python 3\n",
    "The Python 2 builtin apply() has been removed in Python 3. It’s used to call a function, but since you can call the function directly it serves no purpose and has been deprecated since Python 2.3. There is no replacement.\n",
    "\n",
    "### buffer() replaced by memoryview class\n",
    "The Python 2 buffer() builtin is replaced by the memoryview class in Python 3. They are not fully compatible, so 2to3 does not change this unless you explicitly specify the buffer fixer.\n",
    "\n",
    "This code will run in both Python 2 and Python 3 without 2to3 conversion:\n",
    "```\n",
    ">>> import sys\n",
    ">>> if sys.version_info > (3,):\n",
    "...     buffer = memoryview\n",
    ">>> b = buffer('yay!'.encode())\n",
    ">>> len(b)\n",
    "4\n",
    "```\n",
    "\n",
    "### Look at the same reference, there are a lot more similar comparisons."
   ]
  },
  {
   "cell_type": "markdown",
   "metadata": {},
   "source": [
    "<a id='ListComparisons'></a>\n",
    "## List Comprehensions\n",
    "__Referencess:__\n",
    "* I saw the first use of this in the last example code in [this tkinter tutorial page](https://www.python-course.eu/tkinter_layout_management.php).\n",
    "* [Python Single Line For Loops](http://blog.teamtreehouse.com/python-single-line-loops) <br />\n",
    "\n",
    "\n",
    "If you’re like most programmers, you know that, eventually, once you have an array, you’re gonna have to write a loop. Most of the time, this is fine and dandy, but sometimes you just don’t want to take up the multiple lines required to write out the full for loop for some simple thing. Thankfully, Python realizes this and gives us an awesome tool to use in these situations. That tool is known as a list comprehension.\n",
    "\n",
    "**What the heck is that?**\n",
    "\n",
    "List comprehensions are lists that generate themselves with an internal for loop. They’re a very common feature in Python and they look something like:\n",
    "\n",
    "    [thing for thing in list_of_things]\n",
    "\n",
    "### Examples: \n",
    "The following three cells produce equivalent results (I am giving different variable names such as my_list, my_list2 & my_list in order to remove doubts, confusions or conflicts."
   ]
  },
  {
   "cell_type": "code",
   "execution_count": 40,
   "metadata": {},
   "outputs": [
    {
     "name": "stdout",
     "output_type": "stream",
     "text": [
      "[42, 4, 186]\n"
     ]
    }
   ],
   "source": [
    "def list_doubler(lst):\n",
    "    doubled = []\n",
    "    for num in lst:\n",
    "        doubled.append(num*2)\n",
    "    return doubled\n",
    "\n",
    "my_list = [21, 2, 93]\n",
    "my_doubled_list = list_doubler(my_list)\n",
    "print(my_doubled_list)"
   ]
  },
  {
   "cell_type": "code",
   "execution_count": 41,
   "metadata": {},
   "outputs": [
    {
     "data": {
      "text/plain": [
       "[42, 4, 186]"
      ]
     },
     "execution_count": 41,
     "metadata": {},
     "output_type": "execute_result"
    }
   ],
   "source": [
    "def list_doubler2(lst):\n",
    "    doubled = [num * 2 for num in lst]\n",
    "    return doubled\n",
    "my_list2 = [21, 2, 93]\n",
    "my_doubled_list2 = list_doubler2(my_list)\n",
    "my_doubled_list2"
   ]
  },
  {
   "cell_type": "code",
   "execution_count": 42,
   "metadata": {},
   "outputs": [
    {
     "data": {
      "text/plain": [
       "[42, 4, 186]"
      ]
     },
     "execution_count": 42,
     "metadata": {},
     "output_type": "execute_result"
    }
   ],
   "source": [
    "my_list3 = [21, 2, 93]\n",
    "my_doubled_list3 = [num * 2 for num in my_list3]\n",
    "my_doubled_list3"
   ]
  },
  {
   "cell_type": "code",
   "execution_count": null,
   "metadata": {
    "collapsed": true
   },
   "outputs": [],
   "source": []
  }
 ],
 "metadata": {
  "kernelspec": {
   "display_name": "Python 3",
   "language": "python",
   "name": "python3"
  },
  "language_info": {
   "codemirror_mode": {
    "name": "ipython",
    "version": 2
   },
   "file_extension": ".py",
   "mimetype": "text/x-python",
   "name": "python",
   "nbconvert_exporter": "python",
   "pygments_lexer": "ipython2",
   "version": "2.7.13"
  }
 },
 "nbformat": 4,
 "nbformat_minor": 2
}
