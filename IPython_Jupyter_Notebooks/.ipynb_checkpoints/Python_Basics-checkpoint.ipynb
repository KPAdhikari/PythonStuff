{
 "cells": [
  {
   "cell_type": "markdown",
   "metadata": {
    "collapsed": true
   },
   "source": [
    "# Primitive/Native Datatypes in Python2 & Python3\n",
    "**References:** [Ref1](http://www.diveintopython3.net/native-datatypes.html#divingin)"
   ]
  },
  {
   "cell_type": "markdown",
   "metadata": {},
   "source": [
    "Python has many native datatypes. Here are the important ones:\n",
    "* __Booleans__ are either True or False.\n",
    "* __Numbers__ can be integers (1 and 2), floats (1.1 and 1.2), fractions (1/2 and 2/3), or even complex numbers.\n",
    "* __Strings__ are sequences of Unicode characters, e.g. an HTML document.\n",
    "* __Bytes and byte arrays__, e.g. a JPEG image file.\n",
    "* __Lists__ are ordered sequences of values.\n",
    "* __Tuples__ are ordered, immutable sequences of values.\n",
    "* __Sets__ are unordered bags of values.\n",
    "* __Dictionaries__ are unordered bags of key-value pairs. \n",
    "\n",
    "Of course, there are more types than these. Everything is an object in Python, so there are types like module, function, class, method, file, and even compiled code. You’ve already seen some of these: modules have names, functions have docstrings, &c. You’ll learn about classes in Classes & Iterators, and about files in Files.\n",
    "\n",
    "Strings and bytes are important enough — and complicated enough — that they get their own chapter. Let’s look at the others first. "
   ]
  },
  {
   "cell_type": "markdown",
   "metadata": {},
   "source": [
    "### Lists, Tuples, Dictionaries (Declarations)\n",
    "```\n",
    ">>>         entries = {}\n",
    "  File \"<stdin>\", line 1\n",
    "    entries = {}\n",
    "    ^\n",
    "IndentationError: unexpected indent\n",
    ">>> entries = {}\n",
    ">>> type(entries)\n",
    "<class 'dict'>\n",
    ">>> ents = []\n",
    ">>> type(ents)\n",
    "<class 'list'>\n",
    ">>> ent = ()\n",
    ">>> type(ent)\n",
    "<class 'tuple'>\n",
    ">>> \n",
    "```"
   ]
  },
  {
   "cell_type": "code",
   "execution_count": 2,
   "metadata": {},
   "outputs": [
    {
     "ename": "IndentationError",
     "evalue": "unexpected indent (<ipython-input-2-43cf7d399d06>, line 2)",
     "output_type": "error",
     "traceback": [
      "\u001b[0;36m  File \u001b[0;32m\"<ipython-input-2-43cf7d399d06>\"\u001b[0;36m, line \u001b[0;32m2\u001b[0m\n\u001b[0;31m    type(entries)\u001b[0m\n\u001b[0m    ^\u001b[0m\n\u001b[0;31mIndentationError\u001b[0m\u001b[0;31m:\u001b[0m unexpected indent\n"
     ]
    }
   ],
   "source": [
    "         entries = {}\n",
    "    type(entries)"
   ]
  },
  {
   "cell_type": "code",
   "execution_count": 4,
   "metadata": {},
   "outputs": [
    {
     "data": {
      "text/plain": [
       "dict"
      ]
     },
     "execution_count": 4,
     "metadata": {},
     "output_type": "execute_result"
    }
   ],
   "source": [
    "entries1 = {}\n",
    "type(entries1)"
   ]
  },
  {
   "cell_type": "code",
   "execution_count": 5,
   "metadata": {},
   "outputs": [
    {
     "data": {
      "text/plain": [
       "tuple"
      ]
     },
     "execution_count": 5,
     "metadata": {},
     "output_type": "execute_result"
    }
   ],
   "source": [
    "entries2 = ()\n",
    "type (entries2)"
   ]
  },
  {
   "cell_type": "code",
   "execution_count": 7,
   "metadata": {},
   "outputs": [
    {
     "data": {
      "text/plain": [
       "list"
      ]
     },
     "execution_count": 7,
     "metadata": {},
     "output_type": "execute_result"
    }
   ],
   "source": [
    "entries3 = []\n",
    "type (entries3)"
   ]
  },
  {
   "cell_type": "markdown",
   "metadata": {},
   "source": [
    "# Python2 vs Python3"
   ]
  },
  {
   "cell_type": "markdown",
   "metadata": {},
   "source": [
    "### 1) The 'print object' statement replaced by 'print( object )' function\n",
    "The first difference/change is the very trivial but perhaps the most widely known replacement of the **print object** statement with the **print(object)** function. In Python2, we don't need to enclose the object with a pair of parentheses and it still works even if we enclose it, but in Python3, only the one with the functional form (i.e., using the parentheses) works and the other one causes Python3 to raise __SyntaxError__."
   ]
  },
  {
   "cell_type": "code",
   "execution_count": 5,
   "metadata": {},
   "outputs": [
    {
     "name": "stdout",
     "output_type": "stream",
     "text": [
      "Hey, Whats up?\n",
      "Oh, nothing. I don't see anything up in the sky. it's plain blue\n"
     ]
    }
   ],
   "source": [
    "print 'Hey, Whats up?'\n",
    "print (\"Oh, nothing. I don't see anything up in the sky. It's plain blue.\")"
   ]
  },
  {
   "cell_type": "code",
   "execution_count": 7,
   "metadata": {},
   "outputs": [
    {
     "name": "stderr",
     "output_type": "stream",
     "text": [
      "  File \"<stdin>\", line 2\n",
      "    print 'Hey, Whats up?'\n",
      "                         ^\n",
      "SyntaxError: Missing parentheses in call to 'print'\n"
     ]
    }
   ],
   "source": [
    "%%python3\n",
    "print (\"Oh, nothing. I don't see anything up in the sky. It's plain blue.\")\n",
    "print 'Hey, Whats up?'"
   ]
  },
  {
   "cell_type": "markdown",
   "metadata": {},
   "source": [
    "#### Three key things to note:\n",
    "1. The SyntaxError in Python3 when 'print' statement is used, but no error in Python2 when print(obj) is used.\n",
    "2. Print more text on the same line with multiple print statement or function. Newline and the Use of semicolon in Python2\n",
    "    * Python2 wants/needs a comma and a semicolon after first print statement (to avoid a newline char).\n",
    "    * Python3 requires first print() function to have one more argument 'end=\"\"')\n",
    "3. __Multiple objects inside parentheses of print():__ Tuple object in Python2 but multiple args in Python3."
   ]
  },
  {
   "cell_type": "markdown",
   "metadata": {},
   "source": [
    "### Multiple objects inside parentheses of print()\n",
    "\n",
    "In python2, we're effectively creating a Tuple object and we're simply printing that new object rathar than printing the multiple objects themselves that make up the Tuple. "
   ]
  },
  {
   "cell_type": "code",
   "execution_count": 7,
   "metadata": {},
   "outputs": [
    {
     "data": {
      "text/plain": [
       "list"
      ]
     },
     "execution_count": 7,
     "metadata": {},
     "output_type": "execute_result"
    }
   ],
   "source": [
    "#Following is a list\n",
    "li = [\"ab\",\"cd\", \"ef\", \"gh\"]\n",
    "type(li)\n",
    "#print(li)"
   ]
  },
  {
   "cell_type": "code",
   "execution_count": 11,
   "metadata": {},
   "outputs": [
    {
     "name": "stdout",
     "output_type": "stream",
     "text": [
      "['ab', 'cd', 'ef', 'gh']\n"
     ]
    }
   ],
   "source": [
    "print(li)"
   ]
  },
  {
   "cell_type": "code",
   "execution_count": 9,
   "metadata": {},
   "outputs": [
    {
     "data": {
      "text/plain": [
       "set"
      ]
     },
     "execution_count": 9,
     "metadata": {},
     "output_type": "execute_result"
    }
   ],
   "source": [
    "#Following is a set\n",
    "st = {\"ab\",\"cd\", \"ef\", \"gh\"}\n",
    "type(st)\n",
    "#print(st)"
   ]
  },
  {
   "cell_type": "code",
   "execution_count": 12,
   "metadata": {},
   "outputs": [
    {
     "name": "stdout",
     "output_type": "stream",
     "text": [
      "set(['gh', 'ab', 'ef', 'cd'])\n"
     ]
    }
   ],
   "source": [
    "print(st)"
   ]
  },
  {
   "cell_type": "code",
   "execution_count": 10,
   "metadata": {},
   "outputs": [
    {
     "data": {
      "text/plain": [
       "tuple"
      ]
     },
     "execution_count": 10,
     "metadata": {},
     "output_type": "execute_result"
    }
   ],
   "source": [
    "#Following is a tuple\n",
    "tup = (\"ab\",\"cd\", \"ef\", \"gh\")\n",
    "type(tup)\n",
    "#print(tup)"
   ]
  },
  {
   "cell_type": "code",
   "execution_count": 13,
   "metadata": {},
   "outputs": [
    {
     "name": "stdout",
     "output_type": "stream",
     "text": [
      "('ab', 'cd', 'ef', 'gh')\n"
     ]
    }
   ],
   "source": [
    "print(tup)"
   ]
  },
  {
   "cell_type": "code",
   "execution_count": 3,
   "metadata": {},
   "outputs": [
    {
     "name": "stderr",
     "output_type": "stream",
     "text": [
      "Traceback (most recent call last):\n",
      "  File \"<stdin>\", line 1, in <module>\n",
      "NameError: name 'python_version' is not defined\n"
     ]
    },
    {
     "name": "stdout",
     "output_type": "stream",
     "text": [
      "\n"
     ]
    }
   ],
   "source": [
    "%%python3\n",
    "print('Python', python_version())"
   ]
  },
  {
   "cell_type": "code",
   "execution_count": null,
   "metadata": {
    "collapsed": true
   },
   "outputs": [],
   "source": []
  },
  {
   "cell_type": "code",
   "execution_count": 2,
   "metadata": {},
   "outputs": [
    {
     "name": "stdout",
     "output_type": "stream",
     "text": [
      "Python"
     ]
    },
    {
     "ename": "NameError",
     "evalue": "name 'python_version' is not defined",
     "output_type": "error",
     "traceback": [
      "\u001b[0;31m---------------------------------------------------------------------------\u001b[0m",
      "\u001b[0;31mNameError\u001b[0m                                 Traceback (most recent call last)",
      "\u001b[0;32m<ipython-input-2-05f79b62879f>\u001b[0m in \u001b[0;36m<module>\u001b[0;34m()\u001b[0m\n\u001b[0;32m----> 1\u001b[0;31m \u001b[0;32mprint\u001b[0m \u001b[0;34m'Python'\u001b[0m\u001b[0;34m,\u001b[0m \u001b[0mpython_version\u001b[0m\u001b[0;34m(\u001b[0m\u001b[0;34m)\u001b[0m\u001b[0;34m\u001b[0m\u001b[0m\n\u001b[0m",
      "\u001b[0;31mNameError\u001b[0m: name 'python_version' is not defined"
     ]
    }
   ],
   "source": [
    "print 'Python', python_version()"
   ]
  }
 ],
 "metadata": {
  "kernelspec": {
   "display_name": "Python 2",
   "language": "python",
   "name": "python2"
  },
  "language_info": {
   "codemirror_mode": {
    "name": "ipython",
    "version": 2
   },
   "file_extension": ".py",
   "mimetype": "text/x-python",
   "name": "python",
   "nbconvert_exporter": "python",
   "pygments_lexer": "ipython2",
   "version": "2.7.13"
  }
 },
 "nbformat": 4,
 "nbformat_minor": 2
}
