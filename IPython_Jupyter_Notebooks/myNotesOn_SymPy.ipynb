{
 "cells": [
  {
   "cell_type": "markdown",
   "metadata": {},
   "source": [
    "# My Notes On SymPy\n",
    "<a id='GoTop'></a>\n",
    "## Contents\n",
    "* [Installation](#Installation)\n",
    "* [Basics Of expressions in SymPy](#BasicsOfExpressions)"
   ]
  },
  {
   "cell_type": "markdown",
   "metadata": {},
   "source": [
    "## Temporary: Trying SymPy (Symbolic Python)\n",
    "Refs:\n",
    "* https://en.wikipedia.org/wiki/SymPy\n",
    "* https://docs.sympy.org/latest/tutorial/preliminaries.html \n",
    "* https://stackoverflow.com/questions/54301925/how-to-install-sympy-package-in-python (Above official site's [installation](https://docs.sympy.org/latest/install.html#installation) didn't show the pip3 installation, so I used this stackoverflow forum, which worked.\n",
    "* https://mattpap.github.io/scipy-2011-tutorial/html/basics.html"
   ]
  },
  {
   "cell_type": "markdown",
   "metadata": {},
   "source": [
    "[GoTop](#GoTop)<a id='Installation'></a>\n",
    "## Installation\n",
    "From Ref 3:"
   ]
  },
  {
   "cell_type": "markdown",
   "metadata": {},
   "source": [
    "#### First Solution:\n",
    "\n",
    "It's okay to use `pip3 install sympy` on MacOS.\n",
    "\n",
    "* List item\n",
    "* Open your \"Terminal\".\n",
    "* Input `pip3 install sympy` and press enter.\n",
    "* It will automatically download and install the Sympy Package.\n",
    "\n",
    "Second Solution:\n",
    "\n",
    "Using git. # Notice: Before install Sympy, it's necessary to install \"mpmath\". Like the First Solution,\n",
    "\n",
    "1) Open \"Terminal\";\n",
    "2) Input pip3 install mpmath\n",
    "\n",
    "After installing \"mpmath\", then,\n",
    "\n",
    "* List item\n",
    "* Open your \"Terminal\" on MacOS or \"win+r\", then input \"cmd\" in Windows.\n",
    "* Input \"git clone git://github.com/sympy/sympy.git\" and press enter;\n",
    "* Input \"python setup.py install\"\n",
    "\n",
    "After finish installation, you can open the Python IDLE and try:\n",
    "```py\n",
    "from sympy import Symbol, cos\n",
    "x = Symbol('x')\n",
    "e = 1/cos(x)\n",
    "print(e.series(x, 0, 10))\n",
    "# Result\n",
    "# 1 + x**2/2 + 5*x**4/24 + 61*x**6/720 + 277*x**8/8064 + O(x**10)\n",
    "```\n",
    "If the code works, it shows that your \"Sympy\" package has already been installed."
   ]
  },
  {
   "cell_type": "markdown",
   "metadata": {},
   "source": [
    "Before 'sympy'installation, I got the following error from above or the following code:\n",
    "```\n",
    "---------------------------------------------------------------------------\n",
    "ModuleNotFoundError                       Traceback (most recent call last)\n",
    "<ipython-input-293-86b5cb5d3a7b> in <module>\n",
    "----> 1 from sympy import Symbol, cos\n",
    "      2 x = Symbol('x')\n",
    "      3 e = 1/cos(x)\n",
    "      4 print(e.series(x, 0, 10))\n",
    "      5 # Result\n",
    "\n",
    "ModuleNotFoundError: No module named 'sympy'\n",
    "```"
   ]
  },
  {
   "cell_type": "markdown",
   "metadata": {},
   "source": [
    "#### So, this is how I installed sympy (& mpmath along the way)\n",
    "```\n",
    "KPAd's FunPrompt $ pip3 install sympy\n",
    "Collecting sympy\n",
    "  Downloading https://files.pythonhosted.org/packages/21/21/f4105795ca7f35c541d82c5b06be684dd2f5cb4f508fb487cd7aea4de776/sympy-1.4-py2.py3-none-any.whl (5.3MB)\n",
    "     |████████████████████████████████| 5.3MB 3.6MB/s \n",
    "Collecting mpmath>=0.19 (from sympy)\n",
    "  Downloading https://files.pythonhosted.org/packages/ca/63/3384ebb3b51af9610086b23ea976e6d27d6d97bf140a76a365bd77a3eb32/mpmath-1.1.0.tar.gz (512kB)\n",
    "     |████████████████████████████████| 522kB 3.9MB/s \n",
    "Building wheels for collected packages: mpmath\n",
    "  Building wheel for mpmath (setup.py) ... done\n",
    "  Stored in directory: /Users/kpadhikari/Library/Caches/pip/wheels/63/9d/8e/37c3f6506ed3f152733a699e92d8e0c9f5e5f01dea262f80ad\n",
    "Successfully built mpmath\n",
    "Installing collected packages: mpmath, sympy\n",
    "Successfully installed mpmath-1.1.0 sympy-1.4\n",
    "KPAd's FunPrompt $\n",
    "```"
   ]
  },
  {
   "cell_type": "code",
   "execution_count": 348,
   "metadata": {},
   "outputs": [
    {
     "name": "stdout",
     "output_type": "stream",
     "text": [
      "1 + x**2/2 + 5*x**4/24 + 61*x**6/720 + 277*x**8/8064 + O(x**10)\n"
     ]
    }
   ],
   "source": [
    "from sympy import Symbol, cos\n",
    "x = Symbol('x')\n",
    "e = 1/cos(x)\n",
    "print(e.series(x, 0, 10))\n",
    "# Result\n",
    "# 1 + x**2/2 + 5*x**4/24 + 61*x**6/720 + 277*x**8/8064 + O(x**10)"
   ]
  },
  {
   "cell_type": "markdown",
   "metadata": {},
   "source": [
    "[GoTop](#GoTop)<a id='BasicsOfExpressions'></a>\n",
    "## Basics Of expressions in SymPy"
   ]
  },
  {
   "cell_type": "markdown",
   "metadata": {},
   "source": [
    "From Ref 4:\n",
    "\n",
    "SymPy is all about construction and manipulation of expressions. By the term expression we mean mathematical expressions represented in the Python language using SymPy’s classes and objects. Expressions may consist of symbols, numbers, functions and function applications (and many other) and operators binding them together (addiction, subtraction, multiplication, division, exponentiation).\n",
    "\n",
    "Suppose we want to construct an expression for `\\(x + 1\\)`:"
   ]
  },
  {
   "cell_type": "code",
   "execution_count": 344,
   "metadata": {},
   "outputs": [],
   "source": [
    "x = Symbol('x')"
   ]
  },
  {
   "cell_type": "code",
   "execution_count": 349,
   "metadata": {},
   "outputs": [
    {
     "data": {
      "text/plain": [
       "sympy.core.assumptions.ManagedProperties"
      ]
     },
     "execution_count": 349,
     "metadata": {},
     "output_type": "execute_result"
    }
   ],
   "source": [
    "type(_)"
   ]
  },
  {
   "cell_type": "code",
   "execution_count": 346,
   "metadata": {},
   "outputs": [
    {
     "data": {
      "text/latex": [
       "$\\displaystyle x + 1$"
      ],
      "text/plain": [
       "x + 1"
      ]
     },
     "execution_count": 346,
     "metadata": {},
     "output_type": "execute_result"
    }
   ],
   "source": [
    "x + 1"
   ]
  },
  {
   "cell_type": "code",
   "execution_count": 347,
   "metadata": {},
   "outputs": [
    {
     "data": {
      "text/plain": [
       "sympy.core.add.Add"
      ]
     },
     "execution_count": 347,
     "metadata": {},
     "output_type": "execute_result"
    }
   ],
   "source": [
    "type(_)"
   ]
  },
  {
   "cell_type": "markdown",
   "metadata": {},
   "source": [
    "Entering `x + 1` gave us an instance of Add class. This expression consists of a symbol (x), a number (1) and addition operator, which is represented by the topmost class (Add). This was the simplest way of entering an expression for `\\(x + 1\\)`. We could also enter:"
   ]
  },
  {
   "cell_type": "code",
   "execution_count": 352,
   "metadata": {},
   "outputs": [],
   "source": [
    "y = Symbol('y')"
   ]
  },
  {
   "cell_type": "code",
   "execution_count": 356,
   "metadata": {},
   "outputs": [
    {
     "data": {
      "text/latex": [
       "$\\displaystyle x + 1.0$"
      ],
      "text/plain": [
       "x + 1.0"
      ]
     },
     "execution_count": 356,
     "metadata": {},
     "output_type": "execute_result"
    }
   ],
   "source": [
    "import math\n",
    "x - y + 17 + y - 16 + math.sin(math.pi)  #kp: Sin(pi) = sin(180deg) = sin(0) = 0"
   ]
  },
  {
   "cell_type": "markdown",
   "metadata": {},
   "source": [
    "**kp: I realized that SymPy also has sin, cos, pi, etc has been defined in addition to math module**."
   ]
  },
  {
   "cell_type": "code",
   "execution_count": 369,
   "metadata": {},
   "outputs": [
    {
     "data": {
      "text/latex": [
       "$\\displaystyle x + 1$"
      ],
      "text/plain": [
       "x + 1"
      ]
     },
     "execution_count": 369,
     "metadata": {},
     "output_type": "execute_result"
    }
   ],
   "source": [
    "from sympy import *\n",
    "x - y + 17 + y - 16 + sin(pi)  #kp: Sin(pi) = sin(180deg) = sin(0) = 0"
   ]
  },
  {
   "cell_type": "markdown",
   "metadata": {},
   "source": [
    "In this case SymPy automatically rewrote the input expression and gave its canonical form, which is `x + 1` once again. This is a very important behavior: all expressions are subject to automatic evaluation, during which SymPy tries to find a canonical form for expressions, but it doesn’t apply “heroic” measures to achieve this goal. For example the following expression is left unsimplified. This is because automatic canonicalization would lose important information about this expression `(\\(x \\not= 1\\))`. We can use `cancel()` to remove common factors from the numerator and the denominator:"
   ]
  },
  {
   "cell_type": "code",
   "execution_count": 365,
   "metadata": {},
   "outputs": [
    {
     "data": {
      "text/latex": [
       "$\\displaystyle \\frac{x^{2} - 1}{x - 1}$"
      ],
      "text/plain": [
       "(x**2 - 1)/(x - 1)"
      ]
     },
     "execution_count": 365,
     "metadata": {},
     "output_type": "execute_result"
    }
   ],
   "source": [
    "(x**2 - 1)/(x - 1)"
   ]
  },
  {
   "cell_type": "code",
   "execution_count": 370,
   "metadata": {},
   "outputs": [
    {
     "data": {
      "text/latex": [
       "$\\displaystyle x + 1$"
      ],
      "text/plain": [
       "x + 1"
      ]
     },
     "execution_count": 370,
     "metadata": {},
     "output_type": "execute_result"
    }
   ],
   "source": [
    "cancel(_)"
   ]
  },
  {
   "cell_type": "markdown",
   "metadata": {},
   "source": [
    "kp: **Without `from sympy import *` above, neither sin, nor pi, nor cancel() nor simplify worked**\n",
    "\n",
    "For example, **cancel(`_`)** gave the following error messages:\n",
    "```\n",
    "---------------------------------------------------------------------------\n",
    "NameError                                 Traceback (most recent call last)\n",
    "<ipython-input-360-b23fa912da75> in <module>\n",
    "----> 1 cancel(_)\n",
    "\n",
    "NameError: name 'cancel' is not defined\n",
    "```"
   ]
  },
  {
   "cell_type": "code",
   "execution_count": 371,
   "metadata": {},
   "outputs": [
    {
     "data": {
      "text/latex": [
       "$\\displaystyle x + 1$"
      ],
      "text/plain": [
       "x + 1"
      ]
     },
     "execution_count": 371,
     "metadata": {},
     "output_type": "execute_result"
    }
   ],
   "source": [
    "cancel((x**2 - 1)/(x - 1))"
   ]
  },
  {
   "cell_type": "code",
   "execution_count": 374,
   "metadata": {},
   "outputs": [],
   "source": [
    "expr = (x**2 - 1)/(x - 1)"
   ]
  },
  {
   "cell_type": "code",
   "execution_count": 375,
   "metadata": {},
   "outputs": [
    {
     "data": {
      "text/latex": [
       "$\\displaystyle \\frac{x^{2} - 1}{x - 1}$"
      ],
      "text/plain": [
       "(x**2 - 1)/(x - 1)"
      ]
     },
     "execution_count": 375,
     "metadata": {},
     "output_type": "execute_result"
    }
   ],
   "source": [
    "expr"
   ]
  },
  {
   "cell_type": "code",
   "execution_count": 376,
   "metadata": {},
   "outputs": [
    {
     "data": {
      "text/latex": [
       "$\\displaystyle x + 1$"
      ],
      "text/plain": [
       "x + 1"
      ]
     },
     "execution_count": 376,
     "metadata": {},
     "output_type": "execute_result"
    }
   ],
   "source": [
    "cancel(expr)"
   ]
  },
  {
   "cell_type": "code",
   "execution_count": 377,
   "metadata": {},
   "outputs": [
    {
     "data": {
      "text/latex": [
       "$\\displaystyle x + 1$"
      ],
      "text/plain": [
       "x + 1"
      ]
     },
     "execution_count": 377,
     "metadata": {},
     "output_type": "execute_result"
    }
   ],
   "source": [
    "simplify(expr)"
   ]
  },
  {
   "cell_type": "code",
   "execution_count": null,
   "metadata": {},
   "outputs": [],
   "source": []
  },
  {
   "cell_type": "code",
   "execution_count": null,
   "metadata": {},
   "outputs": [],
   "source": []
  },
  {
   "cell_type": "code",
   "execution_count": null,
   "metadata": {},
   "outputs": [],
   "source": []
  },
  {
   "cell_type": "code",
   "execution_count": null,
   "metadata": {},
   "outputs": [],
   "source": []
  }
 ],
 "metadata": {
  "kernelspec": {
   "display_name": "Python 3",
   "language": "python",
   "name": "python3"
  },
  "language_info": {
   "codemirror_mode": {
    "name": "ipython",
    "version": 3
   },
   "file_extension": ".py",
   "mimetype": "text/x-python",
   "name": "python",
   "nbconvert_exporter": "python",
   "pygments_lexer": "ipython3",
   "version": "3.7.4"
  }
 },
 "nbformat": 4,
 "nbformat_minor": 2
}
