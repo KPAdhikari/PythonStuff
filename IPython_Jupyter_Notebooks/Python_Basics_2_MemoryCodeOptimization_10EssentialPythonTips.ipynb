{
 "cells": [
  {
   "cell_type": "code",
   "execution_count": 1,
   "metadata": {},
   "outputs": [
    {
     "name": "stdout",
     "output_type": "stream",
     "text": [
      "/Users/kpadhikari/Desktop/BigFls/CLAS12/GitProj/KPAdhikari/PythonStuff/IPython_Jupyter_Notebooks\r\n"
     ]
    }
   ],
   "source": [
    "!pwd"
   ]
  },
  {
   "cell_type": "markdown",
   "metadata": {},
   "source": [
    "<a id='GoTop'></a>\n",
    "## Contents\n",
    "* [10 Essential Python Tips And Tricks For Programmers](#TenEssentialPythonTips)\n",
    "    * Also see the following cells on 10 more and [30 more (Essential) Python Tricks/Tips](#ThirtyTips).\n",
    "* [Optimization Tips for Python Code](#OptimizationTips)\n",
    "* [Tips to reduce Python object size](#TipsToReduceObjectSize)"
   ]
  },
  {
   "cell_type": "markdown",
   "metadata": {},
   "source": [
    "[GoTop](#GoTop) <a id='TenEssentialPythonTips'></a>\n",
    "## 10 Essential Python Tips And Tricks For Programmers\n",
    "Refs: https://www.geeksforgeeks.org/10-essential-python-tips-tricks-programmers/, https://www.techbeamers.com/essential-python-tips-tricks-programmers/\n",
    "\n",
    "Python is one of the most preferred languages out there. Its brevity and high readability makes it so popular among all programmers.\n",
    "So here are few of the tips and tricks you can use to bring up your Python programming game.\n",
    "\n",
    "### 1. In-Place Swapping Of Two Numbers. \n",
    "Python provides an intuitive way to do assignments and swapping in one line."
   ]
  },
  {
   "cell_type": "code",
   "execution_count": 2,
   "metadata": {},
   "outputs": [
    {
     "name": "stdout",
     "output_type": "stream",
     "text": [
      "10 20\n",
      "20 10\n"
     ]
    }
   ],
   "source": [
    "x, y = 10, 20\n",
    "print(x, y) \n",
    "x, y = y, x \n",
    "print(x, y) \n"
   ]
  },
  {
   "cell_type": "markdown",
   "metadata": {},
   "source": [
    "The assignment on the right seeds a new tuple. While the left one instantly unpacks that (unreferenced) tuple to the names `<a>` and `<b>`.\n",
    "\n",
    "Once the assignment is through, the new tuple gets unreferenced and flagged for garbage collection. The swapping of variables also occurs at eventually.\n",
    "\n",
    "### 2. Reversing a string in Python "
   ]
  },
  {
   "cell_type": "code",
   "execution_count": 3,
   "metadata": {},
   "outputs": [
    {
     "name": "stdout",
     "output_type": "stream",
     "text": [
      "Reverse is skeeGroFskeeG\n"
     ]
    }
   ],
   "source": [
    "a =\"GeeksForGeeks\"\n",
    "print(\"Reverse is\", a[::-1]) "
   ]
  },
  {
   "cell_type": "markdown",
   "metadata": {},
   "source": [
    "### kp: Some relevant notes on the colon ':' operator in Python\n",
    "\n",
    "https://www.tutorialspoint.com/What-does-colon-operator-do-in-Python\n",
    "\n",
    "The : symbol is used for more than one purpose in Python\n",
    "\n",
    "#### (A) As slice operator with sequence:\n",
    "\n",
    "The : operator slices a part from a sequence object such as list, tuple or string. It takes two arguments. First is the index of start of slice and second is index of end of slice. Both operands are optional. If first operand is omitted, it is 0 by default. If second is omitted, it is set to end of sequence."
   ]
  },
  {
   "cell_type": "code",
   "execution_count": 20,
   "metadata": {},
   "outputs": [
    {
     "name": "stdout",
     "output_type": "stream",
     "text": [
      "[2, 3]\n",
      "[1, 2, 3, 4]\n",
      "[3, 4, 5]\n",
      "=======\n",
      "[4, 5]\n",
      "[2, 3, 4, 5]\n",
      "=======\n",
      "[1, 4]\n",
      "[1, 3, 5]\n",
      "[1, 2, 3, 4, 5]\n",
      "[1, 2, 3, 4, 5]\n",
      "=======\n",
      "[5, 2]\n",
      "[5, 3, 1]\n",
      "[5, 4, 3, 2, 1]\n"
     ]
    }
   ],
   "source": [
    "a = [1,2,3,4,5]\n",
    "print(a[1:3])\n",
    "print(a[:4])\n",
    "print(a[2:])\n",
    "print(\"=======\")\n",
    "print(a[3::])\n",
    "print(a[1::])\n",
    "print(\"=======\")\n",
    "print(a[::3])\n",
    "print(a[::2])\n",
    "print(a[::1])\n",
    "print(a[::])\n",
    "print(\"=======\")\n",
    "print(a[::-3])\n",
    "print(a[::-2])\n",
    "print(a[::-1])\n"
   ]
  },
  {
   "cell_type": "markdown",
   "metadata": {},
   "source": [
    "### Use of double colon (::)\n",
    "Ref: https://stackoverflow.com/questions/3453085/what-is-double-colon-in-python-when-subscripting-sequences\n",
    "\n",
    "Q: I know that I can use something like `string[3:4]` to get a substring in Python, but what does the 3 mean in somesequence `[::3]`?\n",
    "\n",
    "A1: it means **'nothing for the first argument, nothing for the second, and jump by three'**. It gets every third item of the sequence sliced. [Extended slices](http://docs.python.org/release/2.3.5/whatsnew/section-slices.html) is what you want. New in Python 2.3.\n",
    "\n",
    "A2: `s[i:j:k]` is, according to the documentation, \"slice of s from i to j with step k\". When i and j are absent, the whole sequence is assumed and thus `s[::k]` means \"every k-th item\".\n",
    "\n",
    "Q: what does it mean who comes before :: like `[5::]`. So what does it mean by 5? – Umar Asghar Jan 10 '18 at 5:43\n",
    "\n",
    "A: `[5::]` would mean start with the first element, nothing for the second and select the next element – Gagan May 20 '18 at 14:39\n"
   ]
  },
  {
   "cell_type": "markdown",
   "metadata": {},
   "source": [
    "#### (B) To start an indent suite of statements in case of if, while, for, def, and class stements\n",
    "```py\n",
    "if expr:\n",
    "   stmt\n",
    "\n",
    "while expr:\n",
    "   stmt1\n",
    "   stmt2\n",
    "\n",
    "for x in sequence:\n",
    "   stmt1\n",
    "   stmt2\n",
    "\n",
    "def  function1():\n",
    "   stmt1\n",
    "   stmt2\n",
    "```"
   ]
  },
  {
   "cell_type": "markdown",
   "metadata": {},
   "source": [
    "### 3. Create a single string from all the elements in list"
   ]
  },
  {
   "cell_type": "code",
   "execution_count": 8,
   "metadata": {},
   "outputs": [
    {
     "name": "stdout",
     "output_type": "stream",
     "text": [
      "GeeksForGeeks\n",
      "Geeks For Geeks\n",
      "Geeks   For   Geeks\n",
      "Geeks ?? For ?? Geeks\n"
     ]
    }
   ],
   "source": [
    "a = [\"Geeks\", \"For\", \"Geeks\"] \n",
    "print(\"\".join(a)) \n",
    "print(\" \".join(a)) \n",
    "print(\"   \".join(a)) \n",
    "print(\" ?? \".join(a)) "
   ]
  },
  {
   "cell_type": "markdown",
   "metadata": {},
   "source": [
    "### 4. Chaining Of Comparison Operators."
   ]
  },
  {
   "cell_type": "code",
   "execution_count": 21,
   "metadata": {},
   "outputs": [
    {
     "name": "stdout",
     "output_type": "stream",
     "text": [
      "True\n",
      "False\n"
     ]
    }
   ],
   "source": [
    "n = 10\n",
    "result = 1 < n < 20\n",
    "print(result) \n",
    "result = 1 > n <= 9\n",
    "print(result) \n"
   ]
  },
  {
   "cell_type": "markdown",
   "metadata": {},
   "source": [
    "### 4. Print The File Path Of Imported Modules."
   ]
  },
  {
   "cell_type": "code",
   "execution_count": 22,
   "metadata": {},
   "outputs": [
    {
     "name": "stdout",
     "output_type": "stream",
     "text": [
      "<module 'os' from '/usr/local/Cellar/python/3.7.4/Frameworks/Python.framework/Versions/3.7/lib/python3.7/os.py'>\n",
      "<module 'socket' from '/usr/local/Cellar/python/3.7.4/Frameworks/Python.framework/Versions/3.7/lib/python3.7/socket.py'>\n"
     ]
    }
   ],
   "source": [
    "import os; \n",
    "import socket; \n",
    "  \n",
    "print(os) \n",
    "print(socket) \n"
   ]
  },
  {
   "cell_type": "markdown",
   "metadata": {},
   "source": [
    "### 5. Use Of Enums In Python."
   ]
  },
  {
   "cell_type": "code",
   "execution_count": 24,
   "metadata": {},
   "outputs": [
    {
     "name": "stdout",
     "output_type": "stream",
     "text": [
      "2\n",
      "1\n",
      "2\n"
     ]
    }
   ],
   "source": [
    "class MyName: \n",
    "    Geeks, For, Geeks = range(3) #Assigning the three variables to 0, 1, 2 \n",
    "  \n",
    "print(MyName.Geeks) \n",
    "print(MyName.For) \n",
    "print(MyName.Geeks) "
   ]
  },
  {
   "cell_type": "markdown",
   "metadata": {},
   "source": [
    "### 6. Return Multiple Values From Functions."
   ]
  },
  {
   "cell_type": "code",
   "execution_count": 25,
   "metadata": {},
   "outputs": [
    {
     "name": "stdout",
     "output_type": "stream",
     "text": [
      "1 2 3 4\n"
     ]
    }
   ],
   "source": [
    "def x(): \n",
    "    return 1, 2, 3, 4\n",
    "\n",
    "a, b, c, d = x() \n",
    "  \n",
    "print(a, b, c, d)"
   ]
  },
  {
   "cell_type": "markdown",
   "metadata": {},
   "source": [
    "### 7. Find The Most Frequent Value In A List."
   ]
  },
  {
   "cell_type": "code",
   "execution_count": 26,
   "metadata": {},
   "outputs": [
    {
     "name": "stdout",
     "output_type": "stream",
     "text": [
      "4\n"
     ]
    }
   ],
   "source": [
    "test = [1, 2, 3, 4, 2, 2, 3, 1, 4, 4, 4] \n",
    "print(max(set(test), key = test.count)) "
   ]
  },
  {
   "cell_type": "markdown",
   "metadata": {},
   "source": [
    "### 8. Check The Memory Usage Of An Object."
   ]
  },
  {
   "cell_type": "code",
   "execution_count": 27,
   "metadata": {},
   "outputs": [
    {
     "name": "stdout",
     "output_type": "stream",
     "text": [
      "28\n"
     ]
    }
   ],
   "source": [
    "import sys \n",
    "x = 1\n",
    "print(sys.getsizeof(x)) "
   ]
  },
  {
   "cell_type": "markdown",
   "metadata": {},
   "source": [
    "### 9. Print string N times."
   ]
  },
  {
   "cell_type": "code",
   "execution_count": 28,
   "metadata": {},
   "outputs": [
    {
     "name": "stdout",
     "output_type": "stream",
     "text": [
      "GeeksforGeeksGeeksforGeeks\n"
     ]
    }
   ],
   "source": [
    "n = 2; \n",
    "a =\"GeeksforGeeks\"; \n",
    "print(a * n); "
   ]
  },
  {
   "cell_type": "markdown",
   "metadata": {},
   "source": [
    "### 10. Checking if two words are anagrams"
   ]
  },
  {
   "cell_type": "code",
   "execution_count": 29,
   "metadata": {},
   "outputs": [
    {
     "name": "stdout",
     "output_type": "stream",
     "text": [
      "True\n",
      "False\n"
     ]
    }
   ],
   "source": [
    "from collections import Counter \n",
    "def is_anagram(str1, str2): \n",
    "     return Counter(str1) == Counter(str2) \n",
    "print(is_anagram('geek', 'eegk')) \n",
    "  \n",
    "print(is_anagram('geek', 'peek')) "
   ]
  },
  {
   "cell_type": "markdown",
   "metadata": {},
   "source": [
    "\n",
    "## 10 Neat Python Tricks Beginners Should Know\n",
    "https://www.codementor.io/@sumit12dec/python-tricks-for-beginners-du107t193\n",
    "\n",
    "### Trick #1 Reversing a string in Python\n",
    "(Same as above)\n",
    "### Trick #2  Transposing a Matrix"
   ]
  },
  {
   "cell_type": "code",
   "execution_count": 32,
   "metadata": {},
   "outputs": [
    {
     "name": "stdout",
     "output_type": "stream",
     "text": [
      "<zip object at 0x1118af190>\n"
     ]
    },
    {
     "data": {
      "text/plain": [
       "<zip at 0x1118af190>"
      ]
     },
     "execution_count": 32,
     "metadata": {},
     "output_type": "execute_result"
    }
   ],
   "source": [
    "mat = [[1, 2, 3], [4, 5, 6]]\n",
    "print(zip(*mat))\n",
    "zip(*mat)"
   ]
  },
  {
   "cell_type": "markdown",
   "metadata": {},
   "source": [
    "#### Some notes on zip() in Python\n",
    "(Ref: https://www.geeksforgeeks.org/zip-in-python/)\n",
    "\n",
    "The purpose of zip() is to map the similar index of multiple containers so that they can be used just using as single entity. \n",
    "\n",
    "* **Syntax :**  `zip(*iterators)`\n",
    "* **Parameters :** Python iterables or containers ( list, string etc )\n",
    "* **Return Value :** Returns a single iterator object, having mapped values from all the\n",
    "containers."
   ]
  },
  {
   "cell_type": "code",
   "execution_count": 41,
   "metadata": {},
   "outputs": [
    {
     "name": "stdout",
     "output_type": "stream",
     "text": [
      "The zipped result is : {('Shambhavi', 3, 60), ('Astha', 2, 70), ('Manjeet', 4, 40), ('Nikhil', 1, 50)}\n"
     ]
    }
   ],
   "source": [
    "# Python code to demonstrate the working of  \n",
    "# zip() \n",
    "  \n",
    "# initializing lists \n",
    "name = [ \"Manjeet\", \"Nikhil\", \"Shambhavi\", \"Astha\" ] \n",
    "roll_no = [ 4, 1, 3, 2 ] \n",
    "marks = [ 40, 50, 60, 70 ] \n",
    "  \n",
    "# using zip() to map values \n",
    "mapped = zip(name, roll_no, marks) \n",
    "  \n",
    "# converting values to print as set \n",
    "mapped = set(mapped) \n",
    "  \n",
    "# printing resultant values  \n",
    "print (\"The zipped result is : \",end=\"\") \n",
    "print (mapped) \n"
   ]
  },
  {
   "cell_type": "markdown",
   "metadata": {},
   "source": [
    "#### How to unzip?\n",
    "Unzipping means converting the zipped values back to the individual self as they were. This is done with the help of “*” operator."
   ]
  },
  {
   "cell_type": "code",
   "execution_count": 42,
   "metadata": {},
   "outputs": [
    {
     "name": "stdout",
     "output_type": "stream",
     "text": [
      "The zipped result is : [('Manjeet', 4, 40), ('Nikhil', 1, 50), ('Shambhavi', 3, 60), ('Astha', 2, 70)]\n",
      "\n",
      "\n",
      "The unzipped result: \n",
      "The name list is : ('Manjeet', 'Nikhil', 'Shambhavi', 'Astha')\n",
      "The roll_no list is : (4, 1, 3, 2)\n",
      "The marks list is : (40, 50, 60, 70)\n"
     ]
    }
   ],
   "source": [
    "# Python code to demonstrate the working of  \n",
    "# unzip \n",
    "  \n",
    "# initializing lists \n",
    "  \n",
    "name = [ \"Manjeet\", \"Nikhil\", \"Shambhavi\", \"Astha\" ] \n",
    "roll_no = [ 4, 1, 3, 2 ] \n",
    "marks = [ 40, 50, 60, 70 ] \n",
    "  \n",
    "# using zip() to map values \n",
    "mapped = zip(name, roll_no, marks) \n",
    "  \n",
    "# converting values to print as list \n",
    "mapped = list(mapped) \n",
    "  \n",
    "# printing resultant values  \n",
    "print (\"The zipped result is : \",end=\"\") \n",
    "print (mapped) \n",
    "  \n",
    "print(\"\\n\") \n",
    "  \n",
    "# unzipping values \n",
    "namz, roll_noz, marksz = zip(*mapped) \n",
    "  \n",
    "print (\"The unzipped result: \\n\",end=\"\") \n",
    "  \n",
    "# printing initial lists \n",
    "print (\"The name list is : \",end=\"\") \n",
    "print (namz) \n",
    "  \n",
    "print (\"The roll_no list is : \",end=\"\") \n",
    "print (roll_noz) \n",
    "  \n",
    "print (\"The marks list is : \",end=\"\") \n",
    "print (marksz) \n"
   ]
  },
  {
   "cell_type": "markdown",
   "metadata": {},
   "source": [
    "**Practical Applications :** There are many possible applications that can be said to be exected using zip, be it **student database or scorecard** or any other utility that requires mapping of groups. A small example of scorecard is demonstrated below."
   ]
  },
  {
   "cell_type": "code",
   "execution_count": 43,
   "metadata": {},
   "outputs": [
    {
     "name": "stdout",
     "output_type": "stream",
     "text": [
      "Player :  Sachin     Score : 100\n",
      "Player :  Sehwag     Score : 15\n",
      "Player :  Gambhir     Score : 17\n",
      "Player :  Dravid     Score : 28\n",
      "Player :  Raina     Score : 43\n"
     ]
    }
   ],
   "source": [
    "\n",
    "# Python code to demonstrate the application of  \n",
    "# zip() \n",
    "  \n",
    "# initializing list of players. \n",
    "players = [ \"Sachin\", \"Sehwag\", \"Gambhir\", \"Dravid\", \"Raina\" ] \n",
    "  \n",
    "# initializing their scores \n",
    "scores = [100, 15, 17, 28, 43 ] \n",
    "  \n",
    "# printing players and scores. \n",
    "for pl, sc in zip(players, scores): \n",
    "    print (\"Player :  %s     Score : %d\" %(pl, sc)) \n"
   ]
  },
  {
   "cell_type": "markdown",
   "metadata": {},
   "source": [
    "### Trick #3  Store all three values of the list in 3 new variables"
   ]
  },
  {
   "cell_type": "code",
   "execution_count": 33,
   "metadata": {},
   "outputs": [
    {
     "data": {
      "text/plain": [
       "3"
      ]
     },
     "execution_count": 33,
     "metadata": {},
     "output_type": "execute_result"
    }
   ],
   "source": [
    "a = [1, 2, 3]\n",
    "x, y, z = a     #similar to \"Geeks, For, Geeks = range(3)\" in #5 above (from first reference)\n",
    "z"
   ]
  },
  {
   "cell_type": "markdown",
   "metadata": {},
   "source": [
    "### Trick #4 Create a single string from all the elements in list above.\n",
    "(see #3 from ref1 above)\n",
    "### Trick # 5: Write a Python code to print the following\n",
    "* ap\n",
    "* bq\n",
    "* cr \n",
    "* ds\n",
    "\n",
    "where \n",
    "\n",
    "List 1 = ['a', 'b', 'c', 'd']\n",
    " \n",
    "List 2 = ['p', 'q', 'r', 's']"
   ]
  },
  {
   "cell_type": "code",
   "execution_count": 37,
   "metadata": {},
   "outputs": [
    {
     "name": "stdout",
     "output_type": "stream",
     "text": [
      "a p\n",
      "b q\n",
      "c r\n",
      "d s\n"
     ]
    }
   ],
   "source": [
    "list1 = ['a', 'b', 'c', 'd']\n",
    "\n",
    "list2 = ['p', 'q', 'r', 's']\n",
    "\n",
    "for x, y in zip(list1,list2):\n",
    "    print(x, y)"
   ]
  },
  {
   "cell_type": "markdown",
   "metadata": {},
   "source": [
    "### Trick #6  Swap two numbers with one line of code.\n",
    "(see above)\n",
    "### Trick #7 Print \"codecodecodecode mentormentormentormentormentor\" without using loops\n",
    "(see above using string multiplication and addition)\n",
    "### Trick #8 Convert a list of lists to a single list without using any loops."
   ]
  },
  {
   "cell_type": "code",
   "execution_count": 38,
   "metadata": {},
   "outputs": [
    {
     "data": {
      "text/plain": [
       "[1, 2, 3, 4, 5, 6]"
      ]
     },
     "execution_count": 38,
     "metadata": {},
     "output_type": "execute_result"
    }
   ],
   "source": [
    "a = [[1, 2], [3, 4], [5, 6]]\n",
    "    \n",
    "import itertools \n",
    "list(itertools.chain.from_iterable(a))"
   ]
  },
  {
   "cell_type": "markdown",
   "metadata": {},
   "source": [
    "### Trick #9 Checking if two words are anagrams\n",
    "(See above)\n",
    "### Converting a string of integers to a list: For example \"1 2 3 4\" and return [1, 2, 3, 4]"
   ]
  },
  {
   "cell_type": "code",
   "execution_count": 39,
   "metadata": {},
   "outputs": [
    {
     "ename": "NameError",
     "evalue": "name 'raw_input' is not defined",
     "output_type": "error",
     "traceback": [
      "\u001b[0;31m---------------------------------------------------------------------------\u001b[0m",
      "\u001b[0;31mNameError\u001b[0m                                 Traceback (most recent call last)",
      "\u001b[0;32m<ipython-input-39-9f47fa98b782>\u001b[0m in \u001b[0;36m<module>\u001b[0;34m\u001b[0m\n\u001b[0;32m----> 1\u001b[0;31m \u001b[0mresult\u001b[0m \u001b[0;34m=\u001b[0m \u001b[0mmap\u001b[0m\u001b[0;34m(\u001b[0m\u001b[0;32mlambda\u001b[0m \u001b[0mx\u001b[0m\u001b[0;34m:\u001b[0m\u001b[0mint\u001b[0m\u001b[0;34m(\u001b[0m\u001b[0mx\u001b[0m\u001b[0;34m)\u001b[0m \u001b[0;34m,\u001b[0m\u001b[0mraw_input\u001b[0m\u001b[0;34m(\u001b[0m\u001b[0;34m)\u001b[0m\u001b[0;34m.\u001b[0m\u001b[0msplit\u001b[0m\u001b[0;34m(\u001b[0m\u001b[0;34m)\u001b[0m\u001b[0;34m)\u001b[0m\u001b[0;34m\u001b[0m\u001b[0;34m\u001b[0m\u001b[0m\n\u001b[0m",
      "\u001b[0;31mNameError\u001b[0m: name 'raw_input' is not defined"
     ]
    }
   ],
   "source": [
    "result = map(lambda x:int(x) ,raw_input().split())"
   ]
  },
  {
   "cell_type": "markdown",
   "metadata": {},
   "source": [
    "(From: https://www.webservertalk.com/raw_input-python) The Python **raw_input()** function is a way to Read a String from a Standard input device like a keyboard. This way the developer is able to include data that is user inserted or generated into a program. Let’s being with some examples using python scripts below to further demonstrate.\n",
    "\n",
    "This seems to work on the terminal but not one the Jupyter cell. \n",
    "\n",
    "```\n",
    "KPAd's FunPrompt $ python\n",
    "Python 2.7.16 (default, Dec  3 2019, 07:02:07) \n",
    "[GCC 4.2.1 Compatible Apple LLVM 10.0.1 (clang-1001.0.37.14)] on darwin\n",
    "Type \"help\", \"copyright\", \"credits\" or \"license\" for more information.\n",
    ">>> mydata = raw_input('Prompt: ')\n",
    "Prompt: 2, 3, 4\n",
    ">>> print (mydata)\n",
    "2, 3, 4\n",
    ">>>\n",
    "```\n",
    "\n",
    "Additionally, in Python version 3.x, you will need to use input() instead of raw_input(). The input() function treats the received data as a string if it is included in quotes ” or “”, otherwise the data is treated as a number.\n",
    "```\n",
    "KPAd's FunPrompt $ python3\n",
    "Python 3.7.4 (default, Jul  9 2019, 18:13:23) \n",
    "[Clang 10.0.1 (clang-1001.0.46.4)] on darwin\n",
    "Type \"help\", \"copyright\", \"credits\" or \"license\" for more information.\n",
    ">>> mydata = raw_input('Prompt: ')\n",
    "Traceback (most recent call last):\n",
    "  File \"<stdin>\", line 1, in <module>\n",
    "NameError: name 'raw_input' is not defined\n",
    ">>>\n",
    ">>>\n",
    ">>> mydata = input('Prompt: ')\n",
    "Prompt: 2335, 5210, 02i830\n",
    ">>> mydata\n",
    "'2335, 5210, 02i830'\n",
    ">>>\n",
    ">>> result = map(lambda x:int(x) ,input().split())\n",
    "2 3 5 7 8\n",
    ">>> result\n",
    "<map object at 0x10edb9590>\n",
    ">>> print(result)\n",
    "<map object at 0x10edb9590>\n",
    ">>> quit()\n",
    "\n",
    "\n",
    "\n",
    "KPAd's FunPrompt $ python\n",
    "Python 2.7.16 (default, Dec  3 2019, 07:02:07) \n",
    "[GCC 4.2.1 Compatible Apple LLVM 10.0.1 (clang-1001.0.37.14)] on darwin\n",
    "Type \"help\", \"copyright\", \"credits\" or \"license\" for more information.\n",
    ">>> result = map(lambda x:int(x) ,raw_input().split())\n",
    "2 3 5 7 8\n",
    ">>> result\n",
    "[2, 3, 5, 7, 8]\n",
    ">>>\n",
    "```"
   ]
  },
  {
   "cell_type": "code",
   "execution_count": 23,
   "metadata": {},
   "outputs": [
    {
     "ename": "NameError",
     "evalue": "name 'raw_input' is not defined",
     "output_type": "error",
     "traceback": [
      "\u001b[0;31m---------------------------------------------------------------------------\u001b[0m",
      "\u001b[0;31mNameError\u001b[0m                                 Traceback (most recent call last)",
      "\u001b[0;32m<ipython-input-23-1d8dd0532945>\u001b[0m in \u001b[0;36m<module>\u001b[0;34m\u001b[0m\n\u001b[0;32m----> 1\u001b[0;31m \u001b[0mmydata\u001b[0m \u001b[0;34m=\u001b[0m \u001b[0mraw_input\u001b[0m\u001b[0;34m(\u001b[0m\u001b[0;34m'Prompt :'\u001b[0m\u001b[0;34m)\u001b[0m\u001b[0;34m\u001b[0m\u001b[0;34m\u001b[0m\u001b[0m\n\u001b[0m\u001b[1;32m      2\u001b[0m \u001b[0mprint\u001b[0m \u001b[0;34m(\u001b[0m\u001b[0mmydata\u001b[0m\u001b[0;34m)\u001b[0m\u001b[0;34m\u001b[0m\u001b[0;34m\u001b[0m\u001b[0m\n",
      "\u001b[0;31mNameError\u001b[0m: name 'raw_input' is not defined"
     ]
    }
   ],
   "source": [
    "mydata = raw_input('Prompt :')\n",
    "print (mydata)"
   ]
  },
  {
   "cell_type": "markdown",
   "metadata": {},
   "source": [
    "[GoTop](#GoTop) <a id='ThirtyTips'></a>\n",
    "## 30 Essential Python Tips and Tricks for Programmers\n",
    "\n",
    "Refs: https://www.techbeamers.com/essential-python-tips-tricks-programmers/\n",
    "\n",
    "If you ask any Python programmer to tell about the strengths of Python, he will quote brevity and high readability as the most influencing ones. In this Python tutorial, we’ll cover many essential Python tips and tricks that will authenticate the above two points.\n",
    "\n",
    "We’ve been collecting these useful shortcuts (tips & tricks) since we started using Python. And **what’s best than sharing** something we know and which could benefit others as well.\n",
    "\n",
    "In the past, we’d shared a list of Python programming tips for beginners that aimed to optimize code and reduce coding efforts. And our readers still enjoy reading it.\n",
    "\n",
    "So today, we’re back with one more set of essential Python tips and tricks. All these tips can help you minify the code and optimize execution. Moreover, you can readily use them in live projects while working on regular assignments.\n",
    "\n",
    "There is one more key Python resource that we’d recently published which you must look at is as follows.\n",
    "\n",
    "Table of Content – Python Tips\n",
    "\n",
    "    In-place swapping of two numbers.\n",
    "    Chaining of comparison operators.\n",
    "    Use of Ternary operator for conditional assignment.\n",
    "    Work with multi-line strings.\n",
    "    Storing elements of a list into new variables.\n",
    "    Print the file path of imported modules.\n",
    "    Use the Interactive “_” operator.\n",
    "    Dictionary/Set comprehensions.\n",
    "    Debugging scripts.\n",
    "    Setup file sharing.\n",
    "    Inspect an object in Python.\n",
    "    Simplify if statement.\n",
    "    Detect Python version at runtime.\n",
    "    Combining multiple strings.\n",
    "    Four ways to reverse string/list.\n",
    "    Play with enumeration.\n",
    "    Use of enums in Python.\n",
    "    Return multiple values from functions.\n",
    "    Unpack function arguments using the splat operator.\n",
    "    Use a dictionary to store a switch.\n",
    "    Calculate the factorial of any number in one line.\n",
    "    Find the most frequent value in a list.\n",
    "    Reset the recursion limit.\n",
    "    Check the memory usage of an object.\n",
    "    Use __slots__ to reduce memory overheads.\n",
    "    Lambda to imitate print function.\n",
    "    Create a dictionary from two related sequences.\n",
    "    In line search for multiple prefixes in a string.\n",
    "    Form a unified list without using any loops.\n",
    "    Implement a true switch-case statement in Python.\n",
    "\n",
    "\n",
    "### Tips#1. In-place swapping of two numbers.\n",
    "\n",
    "(See above)\n",
    "\n",
    "### Tips#2. Chaining of comparison operators.\n",
    "\n",
    "Aggregation of comparison operators is another trick that can come handy at times.\n",
    " \n",
    " (See above)\n",
    " \n",
    "### Tips#3. Use of Ternary operator for conditional assignment.\n",
    "\n",
    "Ternary operators are a shortcut for an if-else statement and also known as conditional operators.\n",
    "```py\n",
    "[on_true] if [expression] else [on_false]\n",
    "```\n",
    "Here are a few examples which you can use to make your code compact and concise.\n",
    "\n",
    "The below statement is doing the same what it is meant to i.e. **“assign 10 to x if y is 9, otherwise assign 20 to x“**. We can though extend the chaining of operators if required."
   ]
  },
  {
   "cell_type": "code",
   "execution_count": 1,
   "metadata": {},
   "outputs": [
    {
     "name": "stdout",
     "output_type": "stream",
     "text": [
      "20\n"
     ]
    }
   ],
   "source": [
    "y = 19 # 9\n",
    "\n",
    "x = 10 if (y == 9) else 20\n",
    "\n",
    "print(x)"
   ]
  },
  {
   "cell_type": "markdown",
   "metadata": {},
   "source": [
    "Likewise, we can do the same for class objects.\n",
    "```py\n",
    "x = (classA if y == 1 else classB)(param1, param2)\n",
    "```\n",
    "In the above example, classA and classB are two classes and one of the class constructors would get called.\n",
    "\n",
    "Below is one more example with a no. of conditions joining to evaluate the smallest number."
   ]
  },
  {
   "cell_type": "code",
   "execution_count": 4,
   "metadata": {},
   "outputs": [
    {
     "name": "stdout",
     "output_type": "stream",
     "text": [
      "0\n",
      "1\n",
      "2\n",
      "3\n"
     ]
    }
   ],
   "source": [
    "def small(a, b, c):\n",
    "    return a if a <= b and a <= c else (b if b <= a and b <= c else c)\n",
    "\n",
    "print(small(1, 0, 1))\n",
    "print(small(1, 2, 2))\n",
    "print(small(2, 2, 3))\n",
    "print(small(5, 4, 3))\n",
    "\n",
    "#Output\n",
    "#0 #1 #2 #3"
   ]
  },
  {
   "cell_type": "markdown",
   "metadata": {},
   "source": [
    "We can even use a ternary operator with the list comprehension."
   ]
  },
  {
   "cell_type": "code",
   "execution_count": 7,
   "metadata": {},
   "outputs": [
    {
     "name": "stdout",
     "output_type": "stream",
     "text": [
      "[0, 1, 16, 81, 256, 625, 1296, 2401, 4096, 6561, 10000, 121, 144, 169, 196, 225, 256, 289, 324, 361, 400, 441, 484, 529, 576, 625, 676, 729, 784, 841, 900, 961, 1024, 1089, 1156, 1225, 1296, 1369, 1444, 1521, 1600, 1681, 1764, 1849, 1936, 2025, 2116, 2209, 2304, 2401]\n"
     ]
    }
   ],
   "source": [
    "li = [m**2 if m > 10 else m**4 for m in range(50)]\n",
    "\n",
    "#=> [0, 1, 16, 81, 256, 625, 1296, 2401, 4096, 6561, 10000, 121, 144, 169, 196, 225, 256, 289, 324, 361, 400, 441, 484, 529, 576, 625, 676, 729, 784, 841, 900, 961, 1024, 1089, 1156, 1225, 1296, 1369, 1444, 1521, 1600, 1681, 1764, 1849, 1936, 2025, 2116, 2209, 2304, 2401]\n",
    "print(li)"
   ]
  },
  {
   "cell_type": "markdown",
   "metadata": {},
   "source": [
    "### More on range and list comprehension\n",
    "\n",
    "Ref: https://www.pythonforbeginners.com/basics/list-comprehensions-in-python\n",
    "\n",
    "List comprehensions provide a concise way to create lists. \n",
    "\n",
    "It consists of brackets containing an expression followed by a for clause, then\n",
    "zero or more for or if clauses. The expressions can be anything, meaning you can\n",
    "put in all kinds of objects in lists.\n",
    "\n",
    "The result will be a new list resulting from evaluating the expression in the\n",
    "context of the for and if clauses which follow it. \n",
    "\n",
    "The list comprehension always returns a result list. \n",
    "```py\n",
    "new_list = [expression(i) for i in old_list if filter(i)]\n",
    "```\n",
    "\n",
    "#### Syntax \n",
    "The list comprehension starts with a `'[' and ']'`, to help you remember that the result is going to be a list.\n",
    "\n",
    "The basic syntax is\n",
    "```py\n",
    "[ expression for item in list if conditional ]\n",
    "```"
   ]
  },
  {
   "cell_type": "code",
   "execution_count": 4,
   "metadata": {},
   "outputs": [
    {
     "name": "stdout",
     "output_type": "stream",
     "text": [
      "[0, 1, 2, 3, 4]\n"
     ]
    }
   ],
   "source": [
    "x = [i for i in range(5)]  #This is creation of list via list-comprehension.\n",
    "print(x)"
   ]
  },
  {
   "cell_type": "code",
   "execution_count": 2,
   "metadata": {},
   "outputs": [
    {
     "name": "stdout",
     "output_type": "stream",
     "text": [
      "<class 'range'>\n"
     ]
    },
    {
     "data": {
      "text/plain": [
       "range(0, 5)"
      ]
     },
     "execution_count": 2,
     "metadata": {},
     "output_type": "execute_result"
    }
   ],
   "source": [
    "print(type(range(5))) #This tells us 'range' is not a list by itself.\n",
    "range(5)"
   ]
  },
  {
   "cell_type": "markdown",
   "metadata": {},
   "source": [
    "### Tips#4. Work with multi-line strings.\n",
    "\n",
    "The basic approach is to use backslashes which derive itself from C language."
   ]
  },
  {
   "cell_type": "code",
   "execution_count": 3,
   "metadata": {},
   "outputs": [
    {
     "name": "stdout",
     "output_type": "stream",
     "text": [
      "select * from multi_row where row_id < 5\n"
     ]
    }
   ],
   "source": [
    "multiStr = \"select * from multi_row \\\n",
    "where row_id < 5\"\n",
    "print(multiStr)\n",
    "\n",
    "# select * from multi_row where row_id < 5\n"
   ]
  },
  {
   "cell_type": "markdown",
   "metadata": {},
   "source": [
    "One more trick is to use the triple-quotes."
   ]
  },
  {
   "cell_type": "code",
   "execution_count": 16,
   "metadata": {},
   "outputs": [
    {
     "name": "stdout",
     "output_type": "stream",
     "text": [
      "select * from multi_row \n",
      "where row_id < 5\n"
     ]
    }
   ],
   "source": [
    "multiStr = \"\"\"select * from multi_row \n",
    "where row_id < 5\"\"\"\n",
    "print(multiStr)\n",
    "\n",
    "#select * from multi_row \n",
    "#where row_id < 5"
   ]
  },
  {
   "cell_type": "markdown",
   "metadata": {},
   "source": [
    "The **common issue with the above methods is the lack of proper indentation. If we try to indent, it’ll insert whitespaces in the string.**\n",
    "\n",
    "So the final solution is to split the string into multi lines and enclose the entire string in parenthesis."
   ]
  },
  {
   "cell_type": "code",
   "execution_count": 17,
   "metadata": {},
   "outputs": [
    {
     "name": "stdout",
     "output_type": "stream",
     "text": [
      "select * from multi_row where row_id < 5 order by age\n"
     ]
    }
   ],
   "source": [
    "multiStr= (\"select * from multi_row \"\n",
    "\"where row_id < 5 \"\n",
    "\"order by age\") \n",
    "print(multiStr)\n",
    "\n",
    "#select * from multi_row where row_id < 5 order by age"
   ]
  },
  {
   "cell_type": "markdown",
   "metadata": {},
   "source": [
    "### Tips#5. Storing elements of a list into new variables.\n",
    "\n",
    "We can use a list to initialize a no. of variables. While unpacking the list, the count of variables shouldn’t exceed the no. of elements in the list."
   ]
  },
  {
   "cell_type": "code",
   "execution_count": 4,
   "metadata": {},
   "outputs": [
    {
     "name": "stdout",
     "output_type": "stream",
     "text": [
      "1 2 3\n"
     ]
    }
   ],
   "source": [
    "testList = [1,2,3]\n",
    "x, y, z = testList\n",
    "\n",
    "print(x, y, z)\n",
    "\n",
    "#-> 1 2 3"
   ]
  },
  {
   "cell_type": "markdown",
   "metadata": {},
   "source": [
    "### Tips#6. Print the file path of imported modules.\n",
    "(Same as `#4` from the first doc)\n",
    "\n",
    "If you want to know the absolute location of modules imported in your code, then use the below trick."
   ]
  },
  {
   "cell_type": "code",
   "execution_count": 19,
   "metadata": {},
   "outputs": [
    {
     "name": "stdout",
     "output_type": "stream",
     "text": [
      "<module 'threading' from '/usr/local/Cellar/python/3.7.4/Frameworks/Python.framework/Versions/3.7/lib/python3.7/threading.py'>\n",
      "<module 'socket' from '/usr/local/Cellar/python/3.7.4/Frameworks/Python.framework/Versions/3.7/lib/python3.7/socket.py'>\n"
     ]
    }
   ],
   "source": [
    "import threading \n",
    "import socket\n",
    "\n",
    "print(threading)\n",
    "print(socket)\n",
    "\n",
    "#1- <module 'threading' from '/usr/lib/python2.7/threading.py'>\n",
    "#2- <module 'socket' from '/usr/lib/python2.7/socket.py'>"
   ]
  },
  {
   "cell_type": "markdown",
   "metadata": {},
   "source": [
    "### Tips#7. Use the Interactive “_” operator.\n",
    "\n",
    "It’s a useful feature which not many of us know.\n",
    "\n",
    "In the Python console, whenever we test an expression or call a function, the result dispatches to a temporary name, `_` (an underscore).\n",
    "```py\n",
    ">>> 2 + 1\n",
    "3\n",
    ">>> _\n",
    "3\n",
    ">>> print _\n",
    "3\n",
    "```\n",
    "The “_” references to the output of the last executed expression."
   ]
  },
  {
   "cell_type": "code",
   "execution_count": 6,
   "metadata": {},
   "outputs": [
    {
     "data": {
      "text/plain": [
       "range(0, 5)"
      ]
     },
     "execution_count": 6,
     "metadata": {},
     "output_type": "execute_result"
    }
   ],
   "source": [
    "_"
   ]
  },
  {
   "cell_type": "code",
   "execution_count": 7,
   "metadata": {},
   "outputs": [
    {
     "data": {
      "text/plain": [
       "3"
      ]
     },
     "execution_count": 7,
     "metadata": {},
     "output_type": "execute_result"
    }
   ],
   "source": [
    "2+1"
   ]
  },
  {
   "cell_type": "code",
   "execution_count": 8,
   "metadata": {},
   "outputs": [
    {
     "data": {
      "text/plain": [
       "3"
      ]
     },
     "execution_count": 8,
     "metadata": {},
     "output_type": "execute_result"
    }
   ],
   "source": [
    "_"
   ]
  },
  {
   "cell_type": "markdown",
   "metadata": {},
   "source": [
    "### Tips#8. Dictionary/Set comprehensions.\n",
    "\n",
    "Like we use list comprehensions, we can also use dictionary/set comprehensions. They are simple to use and just as effective. Here is an example.\n",
    "\n",
    "**Note** - There is only a difference of `<:>` in the two statements. Also, to run the above code in Python3, replace `<xrange>` with `<range>`."
   ]
  },
  {
   "cell_type": "code",
   "execution_count": 9,
   "metadata": {},
   "outputs": [
    {
     "name": "stdout",
     "output_type": "stream",
     "text": [
      "{0, 2, 4, 6, 8, 10, 12, 14, 16, 18}\n",
      "{0: 0, 1: 1, 2: 4, 3: 9, 4: 16, 5: 25, 6: 36, 7: 49, 8: 64, 9: 81}\n"
     ]
    }
   ],
   "source": [
    "#testDict = {i: i * i for i in xrange(10)} #NameError: name 'xrange' is not defined\n",
    "#testSet = {i * 2 for i in xrange(10)}     #NameError: name 'xrange' is not defined\n",
    "testDict = {i: i * i for i in range(10)} \n",
    "testSet = {i * 2 for i in range(10)}\n",
    "\n",
    "print(testSet)\n",
    "print(testDict)\n",
    "\n",
    "#set([0, 2, 4, 6, 8, 10, 12, 14, 16, 18])\n",
    "#{0: 0, 1: 1, 2: 4, 3: 9, 4: 16, 5: 25, 6: 36, 7: 49, 8: 64, 9: 81}"
   ]
  },
  {
   "cell_type": "markdown",
   "metadata": {},
   "source": [
    "### Tips#9. Debugging scripts.\n",
    "\n",
    "We can set breakpoints in our Python script with the help of the <pdb> module. Please follow the below example.\n",
    "```py\n",
    "import pdb\n",
    "pdb.set_trace()\n",
    "```\n",
    "We can specify `<pdb.set_trace()>` anywhere in the script and set a breakpoint there. It’s extremely convenient."
   ]
  },
  {
   "cell_type": "code",
   "execution_count": 9,
   "metadata": {},
   "outputs": [],
   "source": [
    "#import pdb\n",
    "#pdb.set_trace()\n",
    "\n",
    "#kp: When I run this code, it opens a new terminal kind area and seems to disable this notebook."
   ]
  },
  {
   "cell_type": "markdown",
   "metadata": {},
   "source": [
    "### Tips#10. Setup file sharing.\n",
    "\n",
    "Python allows running an HTTP server which you can use to share files from the server root directory. Below are the commands to start the server.\n",
    "#### Python 2\n",
    "```py\n",
    "python -m SimpleHTTPServer\n",
    "```\n",
    "#### Python 3\n",
    "```py\n",
    "python3 -m http.server\n",
    "```\n",
    "Above commands would start a server on the default port i.e. 8000. You can also use a custom port by passing it as the last argument to the above commands."
   ]
  },
  {
   "cell_type": "markdown",
   "metadata": {},
   "source": [
    "### Tips#11. Inspect an object in Python.\n",
    "\n",
    "We can inspect objects in Python by calling the dir() method. Here is a simple example."
   ]
  },
  {
   "cell_type": "code",
   "execution_count": 10,
   "metadata": {},
   "outputs": [
    {
     "name": "stdout",
     "output_type": "stream",
     "text": [
      "['__add__', '__class__', '__contains__', '__delattr__', '__delitem__', '__dir__', '__doc__', '__eq__', '__format__', '__ge__', '__getattribute__', '__getitem__', '__gt__', '__hash__', '__iadd__', '__imul__', '__init__', '__init_subclass__', '__iter__', '__le__', '__len__', '__lt__', '__mul__', '__ne__', '__new__', '__reduce__', '__reduce_ex__', '__repr__', '__reversed__', '__rmul__', '__setattr__', '__setitem__', '__sizeof__', '__str__', '__subclasshook__', 'append', 'clear', 'copy', 'count', 'extend', 'index', 'insert', 'pop', 'remove', 'reverse', 'sort']\n"
     ]
    }
   ],
   "source": [
    "test = [1, 3, 5, 7]\n",
    "\n",
    "print( dir(test) )\n",
    "\n",
    "#dir(test)\n",
    "\n",
    "#['__add__', '__class__', '__contains__', '__delattr__', '__delitem__', '__delslice__', '__doc__', '__eq__', '__format__', '__ge__', '__getattribute__', '__getitem__', '__getslice__', '__gt__', '__hash__', '__iadd__', '__imul__', '__init__', '__iter__', '__le__', '__len__', '__lt__', '__mul__', '__ne__', '__new__', '__reduce__', '__reduce_ex__', '__repr__', '__reversed__', '__rmul__', '__setattr__', '__setitem__', '__setslice__', '__sizeof__', '__str__', '__subclasshook__', 'append', 'count', 'extend', 'index', 'insert', 'pop', 'remove', 'reverse', 'sort']"
   ]
  },
  {
   "cell_type": "code",
   "execution_count": 8,
   "metadata": {},
   "outputs": [
    {
     "name": "stdout",
     "output_type": "stream",
     "text": [
      "['__abs__', '__add__', '__and__', '__bool__', '__ceil__', '__class__', '__delattr__', '__dir__', '__divmod__', '__doc__', '__eq__', '__float__', '__floor__', '__floordiv__', '__format__', '__ge__', '__getattribute__', '__getnewargs__', '__gt__', '__hash__', '__index__', '__init__', '__init_subclass__', '__int__', '__invert__', '__le__', '__lshift__', '__lt__', '__mod__', '__mul__', '__ne__', '__neg__', '__new__', '__or__', '__pos__', '__pow__', '__radd__', '__rand__', '__rdivmod__', '__reduce__', '__reduce_ex__', '__repr__', '__rfloordiv__', '__rlshift__', '__rmod__', '__rmul__', '__ror__', '__round__', '__rpow__', '__rrshift__', '__rshift__', '__rsub__', '__rtruediv__', '__rxor__', '__setattr__', '__sizeof__', '__str__', '__sub__', '__subclasshook__', '__truediv__', '__trunc__', '__xor__', 'bit_length', 'conjugate', 'denominator', 'from_bytes', 'imag', 'numerator', 'real', 'to_bytes']\n"
     ]
    }
   ],
   "source": [
    "var1 = 10\n",
    "print(dir(var1))"
   ]
  },
  {
   "cell_type": "markdown",
   "metadata": {},
   "source": [
    "### Tips#12. Simplify if statement.\n",
    "\n",
    "To verify multiple values, we can do in the following manner.\n",
    "```py\n",
    "if m in [1,3,5,7]:\n",
    "```\n",
    "instead of:\n",
    "```py\n",
    "if m==1 or m==3 or m==5 or m==7:\n",
    "```\n",
    "Alternatively, we can use ‘{1,3,5,7}’ instead of `‘[1,3,5,7]’` for ‘in’ operator because ‘set’ can access each element by O(1)."
   ]
  },
  {
   "cell_type": "code",
   "execution_count": 17,
   "metadata": {},
   "outputs": [
    {
     "data": {
      "text/plain": [
       "True"
      ]
     },
     "execution_count": 17,
     "metadata": {},
     "output_type": "execute_result"
    }
   ],
   "source": [
    "m = 5 #10\n",
    "\n",
    "#if m in [1, 3, 5, 7]:\n",
    "if m in {1, 3, 5, 7}:\n",
    "    truth = True\n",
    "else:\n",
    "    truth = False\n",
    "\n",
    "truth"
   ]
  },
  {
   "cell_type": "markdown",
   "metadata": {},
   "source": [
    "### Tips#13. Detect Python version at runtime.\n",
    "\n",
    "Sometimes we may not want to execute our program if the Python engine currently running is less than the supported version. To achieve this, you can use the below coding snippet. It also prints the currently used Python version in a readable format."
   ]
  },
  {
   "cell_type": "code",
   "execution_count": 24,
   "metadata": {},
   "outputs": [
    {
     "name": "stdout",
     "output_type": "stream",
     "text": [
      "Sorry, you aren't running on Python 3.5\n",
      "\n",
      "Please upgrade to 3.5.\n",
      "\n",
      "Current Python version:  3.7.4 (default, Jul  9 2019, 18:13:23) \n",
      "[Clang 10.0.1 (clang-1001.0.46.4)]\n"
     ]
    }
   ],
   "source": [
    "import sys\n",
    "\n",
    "#Detect the Python version currently in use.\n",
    "if not hasattr(sys, \"hexversion\") or sys.hexversion != 50660080:\n",
    "    print(\"Sorry, you aren't running on Python 3.5\\n\")\n",
    "    print(\"Please upgrade to 3.5.\\n\")\n",
    "    #sys.exit(1)  #Got error: An exception has occurred, use %tb to see the full traceback.  SystemExit: 1\n",
    "    #sys.exit()\n",
    "    \n",
    "#Print Python version in a readable format.\n",
    "print(\"Current Python version: \", sys.version)"
   ]
  },
  {
   "cell_type": "code",
   "execution_count": 25,
   "metadata": {},
   "outputs": [
    {
     "ename": "SystemExit",
     "evalue": "1",
     "output_type": "error",
     "traceback": [
      "\u001b[0;31m---------------------------------------------------------------------------\u001b[0m",
      "\u001b[0;31mSystemExit\u001b[0m                                Traceback (most recent call last)",
      "\u001b[0;32m<ipython-input-23-b4d8a8c32bf3>\u001b[0m in \u001b[0;36m<module>\u001b[0;34m\u001b[0m\n\u001b[1;32m      5\u001b[0m     \u001b[0mprint\u001b[0m\u001b[0;34m(\u001b[0m\u001b[0;34m\"Sorry, you aren't running on Python 3.5\\n\"\u001b[0m\u001b[0;34m)\u001b[0m\u001b[0;34m\u001b[0m\u001b[0;34m\u001b[0m\u001b[0m\n\u001b[1;32m      6\u001b[0m     \u001b[0mprint\u001b[0m\u001b[0;34m(\u001b[0m\u001b[0;34m\"Please upgrade to 3.5.\\n\"\u001b[0m\u001b[0;34m)\u001b[0m\u001b[0;34m\u001b[0m\u001b[0;34m\u001b[0m\u001b[0m\n\u001b[0;32m----> 7\u001b[0;31m     \u001b[0msys\u001b[0m\u001b[0;34m.\u001b[0m\u001b[0mexit\u001b[0m\u001b[0;34m(\u001b[0m\u001b[0;36m1\u001b[0m\u001b[0;34m)\u001b[0m\u001b[0;34m\u001b[0m\u001b[0;34m\u001b[0m\u001b[0m\n\u001b[0m\u001b[1;32m      8\u001b[0m     \u001b[0;31m#sys.exit()\u001b[0m\u001b[0;34m\u001b[0m\u001b[0;34m\u001b[0m\u001b[0;34m\u001b[0m\u001b[0m\n\u001b[1;32m      9\u001b[0m \u001b[0;34m\u001b[0m\u001b[0m\n",
      "\u001b[0;31mSystemExit\u001b[0m: 1"
     ]
    }
   ],
   "source": [
    "%tb"
   ]
  },
  {
   "cell_type": "markdown",
   "metadata": {},
   "source": [
    "Alternatively, you can use `sys.version_info >= (3, 5)` to replace `sys.hexversion!= 50660080` in the above code. It was a suggestion from one of the informed reader.\n",
    "\n",
    "Output when running on Python 2.7."
   ]
  },
  {
   "cell_type": "code",
   "execution_count": 26,
   "metadata": {},
   "outputs": [
    {
     "name": "stdout",
     "output_type": "stream",
     "text": [
      "Sorry, you aren't running on Python 3.5\n",
      "\n",
      "Please upgrade to 3.5.\n",
      "\n"
     ]
    }
   ],
   "source": [
    "if not hasattr(sys, \"hexversion\") or sys.version_info >= (3, 5):\n",
    "    print(\"Sorry, you aren't running on Python 3.5\\n\")\n",
    "    print(\"Please upgrade to 3.5.\\n\")"
   ]
  },
  {
   "cell_type": "markdown",
   "metadata": {},
   "source": [
    "Output when running on Python 3.5.\n",
    "```py\n",
    "Python 3.5.1 (default, Dec 2015, 13:05:11)\n",
    "[GCC 4.8.2] on linux\n",
    "   \n",
    "Current Python version:  3.5.2 (default, Aug 22 2016, 21:11:05) \n",
    "[GCC 5.3.0]\n",
    "```\n",
    "### Tips#14. Combining multiple strings.\n",
    "(See above too)\n",
    "\n",
    "If you want to concatenate all the tokens available in a list, then see the below example.\n",
    "\n",
    "     test = ['I', 'Like', 'Python', 'automation']\n",
    "\n",
    "Now, let’s create a single string from the elements in the list given above.\n",
    "\n",
    "     print ''.join(test)"
   ]
  },
  {
   "cell_type": "code",
   "execution_count": 28,
   "metadata": {},
   "outputs": [
    {
     "name": "stdout",
     "output_type": "stream",
     "text": [
      "ILikePythonautomation\n"
     ]
    }
   ],
   "source": [
    "test = ['I', 'Like', 'Python', 'automation']\n",
    "print(''.join(test))"
   ]
  },
  {
   "cell_type": "markdown",
   "metadata": {},
   "source": [
    "### Tips#15. Four ways to reverse string/list.\n",
    "\n",
    "#### Reverse the list itself."
   ]
  },
  {
   "cell_type": "code",
   "execution_count": 29,
   "metadata": {},
   "outputs": [
    {
     "name": "stdout",
     "output_type": "stream",
     "text": [
      "[5, 3, 1]\n"
     ]
    }
   ],
   "source": [
    "testList = [1, 3, 5]\n",
    "testList.reverse()\n",
    "print(testList)\n",
    "\n",
    "#-> [5, 3, 1]"
   ]
  },
  {
   "cell_type": "markdown",
   "metadata": {},
   "source": [
    "#### Reverse while iterating in a loop"
   ]
  },
  {
   "cell_type": "code",
   "execution_count": 30,
   "metadata": {},
   "outputs": [
    {
     "name": "stdout",
     "output_type": "stream",
     "text": [
      "5\n",
      "3\n",
      "1\n"
     ]
    }
   ],
   "source": [
    "for element in reversed([1,3,5]): print(element)\n",
    "\n",
    "#1-> 5\n",
    "#2-> 3\n",
    "#3-> 1"
   ]
  },
  {
   "cell_type": "markdown",
   "metadata": {},
   "source": [
    "#### Reverse a string in line (using Slicing)\n",
    "(Also found above)."
   ]
  },
  {
   "cell_type": "code",
   "execution_count": 31,
   "metadata": {},
   "outputs": [
    {
     "data": {
      "text/plain": [
       "'nohtyP tseT'"
      ]
     },
     "execution_count": 31,
     "metadata": {},
     "output_type": "execute_result"
    }
   ],
   "source": [
    "\"Test Python\"[::-1]"
   ]
  },
  {
   "cell_type": "markdown",
   "metadata": {},
   "source": [
    "#### Reverse a list using slicing."
   ]
  },
  {
   "cell_type": "code",
   "execution_count": 32,
   "metadata": {},
   "outputs": [
    {
     "data": {
      "text/plain": [
       "[5, 3, 1]"
      ]
     },
     "execution_count": 32,
     "metadata": {},
     "output_type": "execute_result"
    }
   ],
   "source": [
    "[1, 3, 5][::-1]"
   ]
  },
  {
   "cell_type": "markdown",
   "metadata": {},
   "source": [
    "### Tips#16. Play with enumeration.\n",
    "\n",
    "With enumerators, it’s easy to find an index while you’re inside a loop."
   ]
  },
  {
   "cell_type": "code",
   "execution_count": 33,
   "metadata": {},
   "outputs": [
    {
     "name": "stdout",
     "output_type": "stream",
     "text": [
      "0 :  10\n",
      "1 :  20\n",
      "2 :  30\n"
     ]
    }
   ],
   "source": [
    "testlist = [10, 20, 30]\n",
    "for i, value in enumerate(testlist):\n",
    "\tprint(i, ': ', value)"
   ]
  },
  {
   "cell_type": "markdown",
   "metadata": {},
   "source": [
    "### More about Enumerate() in Python\n",
    "\n",
    "Ref: https://www.geeksforgeeks.org/enumerate-in-python/ \n",
    "\n",
    "A lot of times when dealing with iterators, we also get a need to keep a count of iterations. Python eases the programmers’ task by providing a built-in function enumerate() for this task.\n",
    "\n",
    "Enumerate() method adds a counter to an iterable and returns it in a form of enumerate object. This enumerate object can then be used directly in for loops or be converted into a list of tuples using list() method.\n",
    "\n",
    "**Syntax:**\n",
    "\n",
    "    enumerate(iterable, start=0)\n",
    "\n",
    "**Parameters:**\n",
    "\n",
    "**Iterable:** any object that supports iteration\n",
    "\n",
    "**Start:** the index value from which the counter is \n",
    "              to be started, by default it is 0 "
   ]
  },
  {
   "cell_type": "code",
   "execution_count": 35,
   "metadata": {},
   "outputs": [
    {
     "name": "stdout",
     "output_type": "stream",
     "text": [
      "Return type: <class 'enumerate'>\n",
      "[(0, 'eat'), (1, 'sleep'), (2, 'repeat')]\n",
      "[(2, 'g'), (3, 'e'), (4, 'e'), (5, 'k')]\n"
     ]
    }
   ],
   "source": [
    "# Python program to illustrate \n",
    "# enumerate function \n",
    "l1 = [\"eat\",\"sleep\",\"repeat\"] \n",
    "s1 = \"geek\"\n",
    "  \n",
    "# creating enumerate objects \n",
    "obj1 = enumerate(l1) \n",
    "obj2 = enumerate(s1) \n",
    "  \n",
    "print(\"Return type:\",type(obj1))\n",
    "print(list(enumerate(l1)))\n",
    "  \n",
    "# changing start index to 2 from 0 \n",
    "print(list(enumerate(s1,2)))\n"
   ]
  },
  {
   "cell_type": "code",
   "execution_count": 41,
   "metadata": {},
   "outputs": [
    {
     "name": "stdout",
     "output_type": "stream",
     "text": [
      "(0, 'eat')\n",
      "(1, 'sleep')\n",
      "(2, 'repeat')\n",
      "\n",
      "100 eat\n",
      "101 sleep\n",
      "102 repeat\n",
      "\n",
      "eat\n",
      "sleep\n",
      "repeat\n",
      "\n",
      "(154, 'eat')\n",
      "(155, 'sleep')\n",
      "(156, 'repeat')\n"
     ]
    }
   ],
   "source": [
    "# Python program to illustrate \n",
    "# enumerate function in loops \n",
    "l1 = [\"eat\",\"sleep\",\"repeat\"] \n",
    "  \n",
    "# printing the tuples in object directly \n",
    "for ele in enumerate(l1): \n",
    "    print(ele)\n",
    "print() \n",
    "# changing index and printing separately \n",
    "for count,ele in enumerate(l1,100): #kp: Here ele represents 'value' associated with the index=count\n",
    "    print(count,ele)\n",
    "\n",
    "print()\n",
    "for count,ele in enumerate(l1,100): \n",
    "    print(ele)\n",
    "\n",
    "#kp: whereas, below 'ele' represents the pair 'index, value' for a particular iteration\n",
    "print()\n",
    "for ele in enumerate(l1, 154):  #kp: I want to use different indexing\n",
    "    print(ele)                  #I want to see if I need count like above."
   ]
  },
  {
   "cell_type": "markdown",
   "metadata": {},
   "source": [
    "### Tips#17. Use of enums in Python.\n",
    "\n",
    "We can use the following approach to create enum definitions."
   ]
  },
  {
   "cell_type": "code",
   "execution_count": 42,
   "metadata": {},
   "outputs": [
    {
     "name": "stdout",
     "output_type": "stream",
     "text": [
      "0\n",
      "1\n",
      "2\n",
      "3\n"
     ]
    }
   ],
   "source": [
    "class Shapes:\n",
    "\tCircle, Square, Triangle, Quadrangle = range(4)\n",
    "\n",
    "print(Shapes.Circle)\n",
    "print(Shapes.Square)\n",
    "print(Shapes.Triangle)\n",
    "print(Shapes.Quadrangle)\n",
    "\n",
    "#1-> 0\n",
    "#2-> 1\n",
    "#3-> 2\n",
    "#4-> 3"
   ]
  },
  {
   "cell_type": "markdown",
   "metadata": {},
   "source": [
    "### Tips#18. Return multiple values from functions.\n",
    "(Also found above???)\n",
    "\n",
    "Not many programming languages support this feature. However, functions in Python do return multiple values.\n",
    "\n",
    "Please refer the below example to see it working."
   ]
  },
  {
   "cell_type": "code",
   "execution_count": 43,
   "metadata": {},
   "outputs": [
    {
     "name": "stdout",
     "output_type": "stream",
     "text": [
      "1 2 3 4\n"
     ]
    }
   ],
   "source": [
    "# function returning multiple values.\n",
    "def x():\n",
    "\treturn 1, 2, 3, 4\n",
    "\n",
    "# Calling the above function.\n",
    "a, b, c, d = x()\n",
    "\n",
    "print(a, b, c, d)\n",
    "\n",
    "#-> 1 2 3 4"
   ]
  },
  {
   "cell_type": "code",
   "execution_count": 44,
   "metadata": {},
   "outputs": [
    {
     "name": "stdout",
     "output_type": "stream",
     "text": [
      "11 -3 28\n"
     ]
    }
   ],
   "source": [
    "#kp defined function\n",
    "\n",
    "def sumDiffProd(x, y):\n",
    "    return x+y, x-y, x*y\n",
    "\n",
    "a, b, c = sumDiffProd(4, 7)\n",
    "\n",
    "print(a, b, c)"
   ]
  },
  {
   "cell_type": "markdown",
   "metadata": {},
   "source": [
    "### Tips#19. Unpack function arguments using the splat operator.\n",
    "\n",
    "kp: The asterisk operators `*`, `**` etc are known as **splat** or **unpack** or **unzip** or **star-args** (as in `function(*args)`) or **varargs** or **kwargs** or **keyword args** operators. (Ref: https://stackoverflow.com/questions/2322355/proper-name-for-python-operator)\n",
    "\n",
    "The splat operator offers an artistic way to unpack arguments lists. Please refer the below example for clarity."
   ]
  },
  {
   "cell_type": "code",
   "execution_count": 45,
   "metadata": {},
   "outputs": [
    {
     "name": "stdout",
     "output_type": "stream",
     "text": [
      "x y z\n",
      "1 2 3\n",
      "10 20 30\n"
     ]
    }
   ],
   "source": [
    "def test(x, y, z):\n",
    "\tprint(x, y, z)\n",
    "\n",
    "testDict = {'x': 1, 'y': 2, 'z': 3} \n",
    "testList = [10, 20, 30]\n",
    "\n",
    "test(*testDict)\n",
    "test(**testDict)\n",
    "test(*testList)\n",
    "\n",
    "#1-> x y z\n",
    "#2-> 1 2 3\n",
    "#3-> 10 20 30"
   ]
  },
  {
   "cell_type": "markdown",
   "metadata": {},
   "source": [
    "### Tips#20. Use a dictionary to store a switch.\n",
    "\n",
    "We can make a dictionary store expressions."
   ]
  },
  {
   "cell_type": "code",
   "execution_count": 46,
   "metadata": {},
   "outputs": [
    {
     "name": "stdout",
     "output_type": "stream",
     "text": [
      "12\n",
      "6\n"
     ]
    }
   ],
   "source": [
    "stdcalc = {\n",
    "\t'sum': lambda x, y: x + y,\n",
    "\t'subtract': lambda x, y: x - y\n",
    "}\n",
    "\n",
    "print(stdcalc['sum'](9,3))\n",
    "print(stdcalc['subtract'](9,3))\n",
    "\n",
    "#1-> 12\n",
    "#2-> 6"
   ]
  },
  {
   "cell_type": "markdown",
   "metadata": {},
   "source": [
    "### Tips#21. Calculate the factorial of any number in one line.\n",
    "Python 2.x.\n",
    "```py\n",
    "result = (lambda k: reduce(int.__mul__, range(1,k+1),1))(3)\n",
    "print(result)\n",
    "#-> 6\n",
    "```\n",
    "Python 3.x.\n",
    "```py\n",
    "import functools\n",
    "result = (lambda k: functools.reduce(int.__mul__, range(1,k+1),1))(3)\n",
    "print(result)\n",
    "\n",
    "#-> 6\n",
    "```"
   ]
  },
  {
   "cell_type": "code",
   "execution_count": 48,
   "metadata": {},
   "outputs": [
    {
     "name": "stdout",
     "output_type": "stream",
     "text": [
      "6\n"
     ]
    }
   ],
   "source": [
    "import functools\n",
    "result = (lambda k: functools.reduce(int.__mul__, range(1,k+1),1))(3)\n",
    "print(result)\n",
    "\n",
    "#-> 6"
   ]
  },
  {
   "cell_type": "markdown",
   "metadata": {},
   "source": [
    "### Tips#22. Find the most frequent value in a list.\n"
   ]
  },
  {
   "cell_type": "code",
   "execution_count": 49,
   "metadata": {},
   "outputs": [
    {
     "name": "stdout",
     "output_type": "stream",
     "text": [
      "4\n"
     ]
    }
   ],
   "source": [
    "test = [1,2,3,4,2,2,3,1,4,4,4]\n",
    "print(max(set(test), key=test.count))\n",
    "\n",
    "#-> 4"
   ]
  },
  {
   "cell_type": "markdown",
   "metadata": {},
   "source": [
    "### Tips#23. Reset recursion limit.\n",
    "\n",
    "Python restricts recursion limit to 1000. We can though reset its value."
   ]
  },
  {
   "cell_type": "code",
   "execution_count": 50,
   "metadata": {},
   "outputs": [
    {
     "name": "stdout",
     "output_type": "stream",
     "text": [
      "3000\n",
      "1001\n"
     ]
    }
   ],
   "source": [
    "import sys\n",
    "\n",
    "x=1001\n",
    "print(sys.getrecursionlimit())\n",
    "\n",
    "sys.setrecursionlimit(x)\n",
    "print(sys.getrecursionlimit())\n",
    "\n",
    "#1-> 1000\n",
    "#2-> 1001"
   ]
  },
  {
   "cell_type": "markdown",
   "metadata": {},
   "source": [
    "Please apply the above trick only if you need it.\n",
    "\n",
    "### Tips#24. Check the memory usage of an object.\n",
    "\n",
    "In Python 2.7, a 32-bit integer consumes 24-bytes whereas it utilizes 28-bytes in Python 3.5. To verify the memory usage, we can call the <getsizeof> method.\n",
    "In Python 2.7.\n",
    "```py\n",
    "import sys\n",
    "x=1\n",
    "print(sys.getsizeof(x))\n",
    "\n",
    "#-> 24\n",
    "```\n",
    "In Python 3.5.\n",
    "```py\n",
    "import sys\n",
    "x=1\n",
    "print(sys.getsizeof(x))\n",
    "\n",
    "#-> 28\n",
    "```\n",
    "\n",
    "### Tips#25. Use `__slots__` to reduce memory overheads.\n",
    "\n",
    "Have you ever observed your Python application consuming a lot of resources especially memory? Here is one trick which uses `<__slots__>` class variable to reduce memory overhead to some extent."
   ]
  },
  {
   "cell_type": "code",
   "execution_count": 51,
   "metadata": {},
   "outputs": [
    {
     "name": "stdout",
     "output_type": "stream",
     "text": [
      "1064\n",
      "896\n"
     ]
    }
   ],
   "source": [
    "import sys\n",
    "class FileSystem(object):\n",
    "\n",
    "\tdef __init__(self, files, folders, devices):\n",
    "\t\tself.files = files\n",
    "\t\tself.folders = folders\n",
    "\t\tself.devices = devices\n",
    "\n",
    "print(sys.getsizeof( FileSystem ))\n",
    "\n",
    "class FileSystem1(object):\n",
    "\n",
    "\t__slots__ = ['files', 'folders', 'devices']\n",
    "\t\n",
    "\tdef __init__(self, files, folders, devices):\n",
    "\t\tself.files = files\n",
    "\t\tself.folders = folders\n",
    "\t\tself.devices = devices\n",
    "\n",
    "print(sys.getsizeof( FileSystem1 ))\n",
    "\n",
    "#In Python 3.5\n",
    "#1-> 1016\n",
    "#2-> 888"
   ]
  },
  {
   "cell_type": "markdown",
   "metadata": {},
   "source": [
    "Clearly, you can see from the results that there are savings in memory usage. But you should use `__slots__` when the memory overhead of a class is unnecessarily large. Do it only after profiling the application. Otherwise, you’ll make the code difficult to change and with no real benefit.\n",
    "\n",
    "### Tips#26. Lambda to imitate print function.\n"
   ]
  },
  {
   "cell_type": "code",
   "execution_count": 53,
   "metadata": {},
   "outputs": [
    {
     "name": "stdout",
     "output_type": "stream",
     "text": [
      "python tips 1000 1001"
     ]
    }
   ],
   "source": [
    "import sys\n",
    "lprint=lambda *args:sys.stdout.write(\" \".join(map(str,args)))\n",
    "lprint(\"python\", \"tips\",1000,1001)\n",
    "\n",
    "#-> python tips 1000 1001"
   ]
  },
  {
   "cell_type": "markdown",
   "metadata": {},
   "source": [
    "### Tips#27. Create a dictionary from two related sequences."
   ]
  },
  {
   "cell_type": "code",
   "execution_count": 52,
   "metadata": {},
   "outputs": [
    {
     "name": "stdout",
     "output_type": "stream",
     "text": [
      "{1: 10, 2: 20, 3: 30}\n"
     ]
    }
   ],
   "source": [
    "t1 = (1, 2, 3)\n",
    "t2 = (10, 20, 30)\n",
    "\n",
    "print(dict (zip(t1,t2)))\n",
    "\n",
    "#-> {1: 10, 2: 20, 3: 30}"
   ]
  },
  {
   "cell_type": "markdown",
   "metadata": {},
   "source": [
    "### Tips#28. In line search for multiple prefixes in a string.\n",
    "\n"
   ]
  },
  {
   "cell_type": "code",
   "execution_count": 54,
   "metadata": {},
   "outputs": [
    {
     "name": "stdout",
     "output_type": "stream",
     "text": [
      "True\n",
      "True\n"
     ]
    }
   ],
   "source": [
    "print(\"http://www.google.com\".startswith((\"http://\", \"https://\")))\n",
    "print(\"http://www.google.co.uk\".endswith((\".com\", \".co.uk\")))\n",
    "\n",
    "#1-> True\n",
    "#2-> True"
   ]
  },
  {
   "cell_type": "markdown",
   "metadata": {},
   "source": [
    "### Tips#29. Form a unified list without using any loops."
   ]
  },
  {
   "cell_type": "code",
   "execution_count": 55,
   "metadata": {},
   "outputs": [
    {
     "name": "stdout",
     "output_type": "stream",
     "text": [
      "[-1, -2, 30, 40, 25, 35]\n"
     ]
    }
   ],
   "source": [
    "import itertools\n",
    "test = [[-1, -2], [30, 40], [25, 35]]\n",
    "print(list(itertools.chain.from_iterable(test)))\n",
    "\n",
    "#-> [-1, -2, 30, 40, 25, 35]"
   ]
  },
  {
   "cell_type": "markdown",
   "metadata": {},
   "source": [
    "If you have an input list with nested lists or tuples as elements, then use the below trick. However, the limitation here is that it’s using a for Loop."
   ]
  },
  {
   "cell_type": "code",
   "execution_count": 56,
   "metadata": {},
   "outputs": [
    {
     "name": "stdout",
     "output_type": "stream",
     "text": [
      "[-1, -2, 1, 2, 3, 4, 5, 6, 7, 30, 40, 25, 35]\n"
     ]
    }
   ],
   "source": [
    "def unifylist(l_input, l_target):\n",
    "    for it in l_input:\n",
    "        if isinstance(it, list):\n",
    "            unifylist(it, l_target)\n",
    "        elif isinstance(it, tuple):\n",
    "            unifylist(list(it), l_target)\n",
    "        else:\n",
    "            l_target.append(it)\n",
    "    return l_target\n",
    "\n",
    "test =  [[-1, -2], [1,2,3, [4,(5,[6,7])]], (30, 40), [25, 35]]\n",
    "\n",
    "print(unifylist(test,[]))\n",
    "\n",
    "#Output => [-1, -2, 1, 2, 3, 4, 5, 6, 7, 30, 40, 25, 35]"
   ]
  },
  {
   "cell_type": "markdown",
   "metadata": {},
   "source": [
    "Another simpler method to unify the list containing lists and tuples is by using the Python’s <more_itertools> package. It doesn’t require looping. Just do a `<pip install more_itertools>`, if not already have it."
   ]
  },
  {
   "cell_type": "code",
   "execution_count": 58,
   "metadata": {},
   "outputs": [
    {
     "name": "stdout",
     "output_type": "stream",
     "text": [
      "[-1, -2, 1, 2, 3, 4, 5, 6, 7, 30, 40, 25, 35]\n"
     ]
    }
   ],
   "source": [
    "import more_itertools\n",
    "\n",
    "test = [[-1, -2], [1, 2, 3, [4, (5, [6, 7])]], (30, 40), [25, 35]]\n",
    "\n",
    "print(list(more_itertools.collapse(test)))\n",
    "\n",
    "#Output=> [-1, -2, 1, 2, 3, 4, 5, 6, 7, 30, 40, 25, 35]"
   ]
  },
  {
   "cell_type": "markdown",
   "metadata": {},
   "source": [
    "### Tips#30. Implement a true switch-case statement in Python.\n",
    "\n",
    "Here is the code that uses a dictionary to imitate a switch-case construct."
   ]
  },
  {
   "cell_type": "code",
   "execution_count": 59,
   "metadata": {},
   "outputs": [
    {
     "name": "stdout",
     "output_type": "stream",
     "text": [
      "None\n",
      "2\n"
     ]
    }
   ],
   "source": [
    "def xswitch(x): \n",
    "\treturn xswitch._system_dict.get(x, None) \n",
    "\n",
    "xswitch._system_dict = {'files': 10, 'folders': 5, 'devices': 2}\n",
    "\n",
    "print(xswitch('default'))\n",
    "print(xswitch('devices'))\n",
    "\n",
    "#1-> None\n",
    "#2-> 2"
   ]
  },
  {
   "cell_type": "code",
   "execution_count": null,
   "metadata": {},
   "outputs": [],
   "source": []
  },
  {
   "cell_type": "code",
   "execution_count": null,
   "metadata": {},
   "outputs": [],
   "source": []
  },
  {
   "cell_type": "code",
   "execution_count": null,
   "metadata": {},
   "outputs": [],
   "source": []
  },
  {
   "cell_type": "markdown",
   "metadata": {},
   "source": [
    "[GoTop](#GoTop) <a id='TipsToReduceObjectSize'></a>\n",
    "## Tips to reduce Python object size\n",
    "\n",
    "Ref: https://www.geeksforgeeks.org/tips-to-reduce-python-object-size/"
   ]
  },
  {
   "cell_type": "markdown",
   "metadata": {},
   "source": [
    "[GoTop](#GoTop) <a id='OptimizationTips'></a>\n",
    "## Optimization Tips for Python Code\n",
    "Ref:\n",
    "https://www.geeksforgeeks.org/optimization-tips-python-code/"
   ]
  },
  {
   "cell_type": "code",
   "execution_count": null,
   "metadata": {},
   "outputs": [],
   "source": []
  }
 ],
 "metadata": {
  "kernelspec": {
   "display_name": "Python 3",
   "language": "python",
   "name": "python3"
  },
  "language_info": {
   "codemirror_mode": {
    "name": "ipython",
    "version": 3
   },
   "file_extension": ".py",
   "mimetype": "text/x-python",
   "name": "python",
   "nbconvert_exporter": "python",
   "pygments_lexer": "ipython3",
   "version": "3.7.4"
  }
 },
 "nbformat": 4,
 "nbformat_minor": 2
}
