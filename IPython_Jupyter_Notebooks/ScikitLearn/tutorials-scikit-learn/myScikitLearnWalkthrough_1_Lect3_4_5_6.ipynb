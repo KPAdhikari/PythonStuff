{
 "cells": [
  {
   "cell_type": "markdown",
   "metadata": {
    "collapsed": true
   },
   "source": [
    "# Reference:\n",
    "* [Getting started in scikit-learn with the famous iris dataset](https://www.youtube.com/watch?v=hd1W4CyPX58&index=30&list=PL0jQ8OgRoVEVrgo7VtYUZvhwJSccjWD1G)\n",
    "* https://www.youtube.com/watch?list=PL0jQ8OgRoVEVrgo7VtYUZvhwJSccjWD1G&v=IsXXlYVBt1M\n",
    "* http://localhost:8888/notebooks/GitProj/KPAdhikari/PythonStuff/IPython_Jupyter_Notebooks/ScikitLearn/tutorials-scikit-learn/1.%20An%20introduction%20to%20Machine%20Learning%20with%20Scikit-Learn.ipynb\n",
    "\n",
    "# Contents\n",
    "* [Lecture 3: Getting started with scikit-learn with iris dataset.](#Lecture3)\n",
    "* [Lecture 4: Training a machine learning model with scikit-learn](#Lecture4)\n",
    "* [Lecture 5: Comparing/Evaluating machine learning models in scikit-learn](#Lecture5)\n",
    "* [Lecture 6: Data science in Python: pandas, seaborn, scikit-learn ](#Lecture6)\n",
    "* [Lecture 7: Selecting the best model in scikit-learn using cross-validation](#Lecture7)\n"
   ]
  },
  {
   "cell_type": "markdown",
   "metadata": {},
   "source": [
    "## Benefits and Drawbacks of scikit-learn\n",
    "### Benefits\n",
    "* **Consistent interface** to machine learning (ML) models\n",
    "* Provides many **tuning parameters** but with **sensible defaults**\n",
    "* Exceptional **documentation**\n",
    "* Rich set of functionality for **companion tasks** - like **model selection**, **model evaluation** and **data preparation**\n",
    "* **Active community** for development and support (on stack-overflow and on it's mailing lists)\n",
    "\n",
    "### Poential Drawbacks\n",
    "* Harder (than R) to get started with ML\n",
    "* Less emphasis (than R) on model interpretability. \n",
    "  * ML puts more emphasis on predictive accuracy, whereas Statistical Learning (SL) puts more emphasis on model interpretability and uncertainty."
   ]
  },
  {
   "cell_type": "code",
   "execution_count": 3,
   "metadata": {
    "collapsed": true
   },
   "outputs": [],
   "source": [
    "from IPython.display import HTML\n",
    "\n",
    "# Youtube\n",
    "#HTML('<iframe width=\"560\" height=\"315\" src=\"https://www.youtube.com/embed/S_f2qV2_U00?rel=0&amp;controls=0&amp;showinfo=0\" frameborder=\"0\" allowfullscreen></iframe>')\n",
    "\n",
    "# Vimeo\n",
    "#HTML('<iframe src=\"https://player.vimeo.com/video/26763844?title=0&byline=0&portrait=0\" width=\"700\" height=\"394\" frameborder=\"0\" webkitallowfullscreen mozallowfullscreen allowfullscreen></iframe><p><a href=\"https://vimeo.com/26763844\">BAXTER DURY - CLAIRE (Dir Cut)</a> from <a href=\"https://vimeo.com/dannysangra\">Danny Sangra</a> on <a href=\"https://vimeo.com\">Vimeo</a>.</p>')\n"
   ]
  },
  {
   "cell_type": "markdown",
   "metadata": {},
   "source": [
    "I copied the part after .com/ in this real link (https://www.youtube.com/watch?v=hd1W4CyPX58&index=30&list=PL0jQ8OgRoVEVrgo7VtYUZvhwJSccjWD1G) to the video and pasted it after \"https://www.youtube.com/embed/\" (for the \"src\" attribute) to make it work (got hint from the content put in the above cell)."
   ]
  },
  {
   "cell_type": "code",
   "execution_count": 1,
   "metadata": {},
   "outputs": [
    {
     "data": {
      "text/html": [
       "<iframe  title=\"YouTube video player\" width=\"480\" height=\"390\" src=\"https://www.youtube.com/embed/watch?v=hd1W4CyPX58&index=30&list=PL0jQ8OgRoVEVrgo7VtYUZvhwJSccjWD1G\" frameborder=\"0\" allowfullscreen></iframe>"
      ],
      "text/plain": [
       "<IPython.core.display.HTML object>"
      ]
     },
     "execution_count": 1,
     "metadata": {},
     "output_type": "execute_result"
    }
   ],
   "source": [
    "from IPython.display import HTML\n",
    "# this is a *markdown* document\n",
    "\n",
    "HTML('<iframe  title=\"YouTube video player\" width=\"480\" height=\"390\" src=\"https://www.youtube.com/embed/watch?v=hd1W4CyPX58&index=30&list=PL0jQ8OgRoVEVrgo7VtYUZvhwJSccjWD1G\" frameborder=\"0\" allowfullscreen></iframe>')"
   ]
  },
  {
   "cell_type": "markdown",
   "metadata": {},
   "source": []
  },
  {
   "cell_type": "code",
   "execution_count": 2,
   "metadata": {
    "scrolled": true
   },
   "outputs": [
    {
     "data": {
      "text/html": [
       "<iframe width=\"560\" height=\"315\" src=\"https://www.youtube.com/embed/IsXXlYVBt1M?list=PL0jQ8OgRoVEVrgo7VtYUZvhwJSccjWD1G\" frameborder=\"0\" allowfullscreen></iframe>"
      ],
      "text/plain": [
       "<IPython.core.display.HTML object>"
      ]
     },
     "execution_count": 2,
     "metadata": {},
     "output_type": "execute_result"
    }
   ],
   "source": [
    "HTML('<iframe width=\"560\" height=\"315\" src=\"https://www.youtube.com/embed/IsXXlYVBt1M?list=PL0jQ8OgRoVEVrgo7VtYUZvhwJSccjWD1G\" frameborder=\"0\" allowfullscreen></iframe>')\n"
   ]
  },
  {
   "cell_type": "code",
   "execution_count": 3,
   "metadata": {},
   "outputs": [
    {
     "data": {
      "text/html": [
       "<iframe width=\"560\" height=\"315\" src=\"https://www.youtube.com/embed/hd1W4CyPX58?list=PL0jQ8OgRoVEVrgo7VtYUZvhwJSccjWD1G\" frameborder=\"0\" allowfullscreen></iframe>"
      ],
      "text/plain": [
       "<IPython.core.display.HTML object>"
      ]
     },
     "execution_count": 3,
     "metadata": {},
     "output_type": "execute_result"
    }
   ],
   "source": [
    "HTML('<iframe width=\"560\" height=\"315\" src=\"https://www.youtube.com/embed/hd1W4CyPX58?list=PL0jQ8OgRoVEVrgo7VtYUZvhwJSccjWD1G\" frameborder=\"0\" allowfullscreen></iframe>')"
   ]
  },
  {
   "cell_type": "code",
   "execution_count": 8,
   "metadata": {
    "collapsed": true
   },
   "outputs": [],
   "source": [
    "# Global imports and settings\n",
    "\n",
    "# Matplotlib\n",
    "%matplotlib inline\n",
    "from matplotlib import pyplot as plt\n",
    "plt.rcParams[\"figure.figsize\"] = (8, 8)\n",
    "plt.rcParams[\"figure.max_open_warning\"] = -1\n",
    "\n",
    "# Print options\n",
    "import numpy as np\n",
    "np.set_printoptions(precision=3)\n",
    "\n",
    "# Slideshow\n",
    "from notebook.services.config import ConfigManager\n",
    "cm = ConfigManager()\n",
    "cm.update('livereveal', {'width': 1440, 'height': 768, 'scroll': True, 'theme': 'simple'})\n",
    "\n",
    "# Silence warnings\n",
    "import warnings\n",
    "warnings.simplefilter(action=\"ignore\", category=FutureWarning)\n",
    "warnings.simplefilter(action=\"ignore\", category=UserWarning)\n",
    "warnings.simplefilter(action=\"ignore\", category=RuntimeWarning)"
   ]
  },
  {
   "cell_type": "code",
   "execution_count": 9,
   "metadata": {},
   "outputs": [
    {
     "data": {
      "application/javascript": [
       "Reveal.addEventListener(\"slidechanged\", function(event){ window.location.hash = \"header\"; });"
      ],
      "text/plain": [
       "<IPython.core.display.Javascript object>"
      ]
     },
     "metadata": {},
     "output_type": "display_data"
    }
   ],
   "source": [
    "%%javascript\n",
    "Reveal.addEventListener(\"slidechanged\", function(event){ window.location.hash = \"header\"; });"
   ]
  },
  {
   "cell_type": "markdown",
   "metadata": {},
   "source": [
    "### Purpose of “%matplotlib inline”\n",
    "(kp: Following excerpt is copied from https://stackoverflow.com/questions/43027980/purpose-of-matplotlib-inline.)\n",
    "#### Question\n",
    "Could someone explain to me what exactly is the use of %matplotlib inline? \n",
    "\n",
    "#### Answer 1\n",
    "%matplotlib is a [magic function](http://ipython.readthedocs.io/en/stable/interactive/tutorial.html#magics-explained) in IPython. I'll quote the relevant documentation here for you to read for convenience:\n",
    "\n",
    "    IPython has a set of predefined ‘magic functions’ that you can call with a command line style syntax. There are two kinds of magics, line-oriented and cell-oriented. Line magics are prefixed with the % character and work much like OS command-line calls: they get as an argument the rest of the line, where arguments are passed without parentheses or quotes. Lines magics can return results and can be used in the right hand side of an assignment. Cell magics are prefixed with a double %%, and they are functions that get as an argument not only the rest of the line, but also the lines below it in a separate argument.\n",
    "\n",
    "%matplotlib inline [sets the backend of matplotlib to the 'inline' backend](http://ipython.readthedocs.io/en/stable/interactive/plotting.html):\n",
    "\n",
    "    With this backend, the output of plotting commands is displayed inline within frontends like the Jupyter notebook, directly below the code cell that produced it. The resulting plots will then also be stored in the notebook document.\n",
    "\n",
    "When using the 'inline' backend, your matplotlib graphs will be included in your notebook, next to the code. It may be worth also reading [How to make IPython notebook matplotlib plot inline](https://stackoverflow.com/questions/19410042/how-to-make-ipython-notebook-matplotlib-plot-inline) for reference on how to use it in your code.\n",
    "\n",
    "If you want interactivity as well, you can use the [nbagg backend](http://matplotlib.org/users/whats_new.html#the-nbagg-backend) with %matplotlib notebook (in IPython 3.x), as described [here](https://stackoverflow.com/questions/19410042/how-to-make-ipython-notebook-matplotlib-plot-inline).\n",
    "\n",
    "#### Answer 2:\n",
    "\n",
    "Provided you are running IPython, the %matplotlib inline will make your plot outputs appear and be stored within the notebook.\n",
    "\n",
    "According to documentation\n",
    "\n",
    "    To set this up, before any plotting or import of matplotlib is performed you must execute the %matplotlib magic command. This performs the necessary behind-the-scenes setup for IPython to work correctly hand in hand with matplotlib; it does not, however, actually execute any Python import commands, that is, no names are added to the namespace.\n",
    "\n",
    "    A particularly interesting backend, provided by IPython, is the inline backend. This is available only for the Jupyter Notebook and the Jupyter QtConsole. It can be invoked as follows:\n",
    "\n",
    "    %matplotlib inline\n",
    "\n",
    "    With this backend, the output of plotting commands is displayed inline within frontends like the Jupyter notebook, directly below the code cell that produced it. The resulting plots will then also be stored in the notebook document.\n",
    "\n"
   ]
  },
  {
   "cell_type": "markdown",
   "metadata": {
    "collapsed": true
   },
   "source": [
    "## More on matplotlib\n",
    "Ref: http://cazencott.info/dotclear/public/lectures/ma2823_2015/scikit-learn.pdf\n",
    "\n",
    "Visualization  is  an  important  part  of  machine  learning.   Plotting  your  data  will  allow ,you to have a better feel for it (how are the features distributed, are there outliers, etc.).\n",
    "Plotting  measures  of  performance  (whether  ROC  curves  or  single-valued  performance\n",
    "measures,with error bars) allows you to rapidly compare methods.\n",
    "\n",
    "\n",
    "matplotlib is a very flexible data visualization package, partially inspired by MAT-\n",
    "LAB. If you are interested in data visualization, know that more and more data scien-\n",
    "tists move to using Seaborn (http://stanford.edu/ ~ mwaskom/software/seaborn/) or\n",
    "Bokeh (http://bokeh.pydata.org/en/latest/).\n",
    "\n",
    "If you are using an IPython notebook,  turn on the “inline” mode of matplotlib so that figures are displayed inside your notebook, by typing %pylab inline.  In IPython (without a notebook), use %matplotlib to ensure your plots are displayed."
   ]
  },
  {
   "cell_type": "code",
   "execution_count": 23,
   "metadata": {
    "collapsed": true
   },
   "outputs": [],
   "source": [
    "%matplotlib inline\n",
    "import matplotlib.pyplot as plt"
   ]
  },
  {
   "cell_type": "markdown",
   "metadata": {},
   "source": [
    "Plotting a line:"
   ]
  },
  {
   "cell_type": "code",
   "execution_count": 24,
   "metadata": {
    "collapsed": true
   },
   "outputs": [],
   "source": [
    "# create an array of 100 equally-spaced points between 0 and 10\n",
    "x = np.linspace(0, 10, 100)"
   ]
  },
  {
   "cell_type": "code",
   "execution_count": 22,
   "metadata": {
    "scrolled": true
   },
   "outputs": [
    {
     "data": {
      "text/plain": [
       "[<matplotlib.lines.Line2D at 0x107fbc950>]"
      ]
     },
     "execution_count": 22,
     "metadata": {},
     "output_type": "execute_result"
    },
    {
     "data": {
      "image/png": "[encoded data removed]",
      "text/plain": [
       "<matplotlib.figure.Figure at 0x107c80150>"
      ]
     },
     "metadata": {},
     "output_type": "display_data"
    }
   ],
   "source": [
    "# plot a sinusoid\n",
    "plt.plot(x, np.sin(x))"
   ]
  },
  {
   "cell_type": "markdown",
   "metadata": {},
   "source": [
    "Scatter plot"
   ]
  },
  {
   "cell_type": "code",
   "execution_count": 26,
   "metadata": {},
   "outputs": [
    {
     "data": {
      "text/plain": [
       "<matplotlib.collections.PathCollection at 0x1080f4290>"
      ]
     },
     "execution_count": 26,
     "metadata": {},
     "output_type": "execute_result"
    },
    {
     "data": {
      "image/png": "[encoded data removed]",
      "text/plain": [
       "<matplotlib.figure.Figure at 0x10800f110>"
      ]
     },
     "metadata": {},
     "output_type": "display_data"
    }
   ],
   "source": [
    "# create 500 points with random (x, y) coordinates\n",
    "x = np.random.normal(size=500)\n",
    "y = np.random.normal(size=500)\n",
    "# plot them\n",
    "plt.scatter(x, y)"
   ]
  },
  {
   "cell_type": "markdown",
   "metadata": {},
   "source": [
    "Showing images saved as arrays:"
   ]
  },
  {
   "cell_type": "code",
   "execution_count": 28,
   "metadata": {},
   "outputs": [
    {
     "name": "stdout",
     "output_type": "stream",
     "text": [
      "(100, 100)\n"
     ]
    }
   ],
   "source": [
    "# create an image\n",
    "x = np.linspace(1, 12, 100)\n",
    "y = x[:, np.newaxis]\n",
    "im = y * np.sin(x) * np.cos(y)\n",
    "print im.shape"
   ]
  },
  {
   "cell_type": "code",
   "execution_count": 29,
   "metadata": {},
   "outputs": [
    {
     "data": {
      "text/plain": [
       "<matplotlib.image.AxesImage at 0x108202e90>"
      ]
     },
     "execution_count": 29,
     "metadata": {},
     "output_type": "execute_result"
    },
    {
     "data": {
      "image/png": "[encoded data removed]",
      "text/plain": [
       "<matplotlib.figure.Figure at 0x108103d50>"
      ]
     },
     "metadata": {},
     "output_type": "display_data"
    }
   ],
   "source": [
    "# show it (the origin is, by default, at the top-left corner!)\n",
    "plt.imshow(im)"
   ]
  },
  {
   "cell_type": "code",
   "execution_count": 30,
   "metadata": {},
   "outputs": [
    {
     "data": {
      "text/plain": [
       "<matplotlib.contour.QuadContourSet at 0x1085ef590>"
      ]
     },
     "execution_count": 30,
     "metadata": {},
     "output_type": "execute_result"
    },
    {
     "data": {
      "image/png": "[encoded data removed]",
      "text/plain": [
       "<matplotlib.figure.Figure at 0x10822c690>"
      ]
     },
     "metadata": {},
     "output_type": "display_data"
    }
   ],
   "source": [
    "# Contour plot - note that origin here is at the bottom-left by default!\n",
    "plt.contour(im)"
   ]
  },
  {
   "cell_type": "code",
   "execution_count": 32,
   "metadata": {},
   "outputs": [
    {
     "data": {
      "image/png": "[encoded data removed]",
      "text/plain": [
       "<matplotlib.figure.Figure at 0x108025150>"
      ]
     },
     "metadata": {},
     "output_type": "display_data"
    }
   ],
   "source": [
    "# 3D plotting\n",
    "from mpl_toolkits.mplot3d import Axes3D\n",
    "ax = plt.axes(projection='3d')"
   ]
  },
  {
   "cell_type": "code",
   "execution_count": 33,
   "metadata": {},
   "outputs": [
    {
     "name": "stdout",
     "output_type": "stream",
     "text": [
      "(100, 1)\n",
      "(100,)\n"
     ]
    }
   ],
   "source": [
    "# y.ravel() is the 1D array version of y\n",
    "print y.shape\n",
    "print y.ravel().shape"
   ]
  },
  {
   "cell_type": "code",
   "execution_count": 37,
   "metadata": {
    "collapsed": true
   },
   "outputs": [],
   "source": [
    "# create a grid from x, y\n",
    "xgrid, ygrid = np.meshgrid(x, y.ravel())\n",
    "# cmap: specify the color map (color scheme, if you wish)\n",
    "# cstride, rstride: set the stride used to sample\n",
    "# the input data to generate the graph.\n",
    "ax.plot_surface(xgrid, ygrid, im, cmap=plt.cm.jet, cstride=2,rstride=2, linewidth=0)\n",
    "plt.show()"
   ]
  },
  {
   "cell_type": "code",
   "execution_count": null,
   "metadata": {
    "collapsed": true
   },
   "outputs": [],
   "source": []
  },
  {
   "cell_type": "code",
   "execution_count": 10,
   "metadata": {},
   "outputs": [
    {
     "name": "stdout",
     "output_type": "stream",
     "text": [
      "[[-6.453 -8.764]\n",
      " [ 0.29   0.147]\n",
      " [-5.184 -1.253]\n",
      " ..., \n",
      " [-0.231 -1.608]\n",
      " [-0.603  6.873]\n",
      " [ 2.284  4.874]]\n",
      "['r' 'r' 'b' 'r' 'b']\n"
     ]
    }
   ],
   "source": [
    "# Generate data\n",
    "from sklearn.datasets import make_blobs\n",
    "X, y = make_blobs(n_samples=1000, centers=20, random_state=123)\n",
    "labels = [\"b\", \"r\"]\n",
    "y = np.take(labels, (y < 10))\n",
    "print(X) \n",
    "print(y[:5])"
   ]
  },
  {
   "cell_type": "code",
   "execution_count": 11,
   "metadata": {},
   "outputs": [
    {
     "name": "stdout",
     "output_type": "stream",
     "text": [
      "(1000, 2)\n",
      "(1000,)\n"
     ]
    }
   ],
   "source": [
    "# X is a 2 dimensional array, with 1000 rows and 2 columns\n",
    "print(X.shape)\n",
    " \n",
    "# y is a vector of 1000 elements\n",
    "print(y.shape)"
   ]
  },
  {
   "cell_type": "code",
   "execution_count": 12,
   "metadata": {},
   "outputs": [
    {
     "name": "stdout",
     "output_type": "stream",
     "text": [
      "[[ 0.29   0.147]\n",
      " [-5.184 -1.253]\n",
      " [-4.714  3.674]]\n",
      "[[-6.453 -8.764]\n",
      " [ 0.29   0.147]\n",
      " [-5.184 -1.253]\n",
      " [-4.714  3.674]\n",
      " [ 4.516 -2.881]]\n",
      "[-4.438 -2.46   4.331 -7.921  1.57   0.565  4.996  4.758 -1.604  1.101]\n",
      "[[-5.184 -1.253]\n",
      " [ 4.516 -2.881]\n",
      " [ 1.708  2.624]\n",
      " [-0.526  8.96 ]\n",
      " [-1.076  9.787]]\n"
     ]
    }
   ],
   "source": [
    "# Rows and columns can be accessed with lists, slices or masks\n",
    "print(X[[1, 2, 3]])     # rows 1, 2 and 3\n",
    "print(X[:5])            # 5 first rows\n",
    "print(X[500:510, 0])    # values from row 500 to row 510 at column 0\n",
    "print(X[y == \"b\"][:5])  # 5 first rows for which y is \"b\""
   ]
  },
  {
   "cell_type": "code",
   "execution_count": 13,
   "metadata": {},
   "outputs": [
    {
     "data": {
      "image/png": "[encoded data removed]",
      "text/plain": [
       "<matplotlib.figure.Figure at 0x107c807d0>"
      ]
     },
     "metadata": {},
     "output_type": "display_data"
    }
   ],
   "source": [
    "# Plot\n",
    "plt.figure()\n",
    "for label in labels:\n",
    "    mask = (y == label)\n",
    "    plt.scatter(X[mask, 0], X[mask, 1], c=label)\n",
    "plt.xlim(-10, 10)\n",
    "plt.ylim(-10, 10)\n",
    "plt.show()"
   ]
  },
  {
   "cell_type": "markdown",
   "metadata": {
    "collapsed": true
   },
   "source": [
    "## Load the Iris data with scikit-learn \n",
    "\n",
    "Reference: I copied it from the [pdf document](http://cazencott.info/dotclear/public/lectures/ma2823_2015/scikit-learn.pdf) that I have in my iPhone (iBooks) that is titled \n",
    "```\n",
    "Lab1: Introduction to scikit-learn (Part 1)\n",
    "Foundations of Machine Learning\n",
    "2015\n",
    "```\n",
    "\n",
    "scikit-learn embeds a copy of the iris CSV file along with a helper function to load it into NumPy arrays."
   ]
  },
  {
   "cell_type": "code",
   "execution_count": 16,
   "metadata": {
    "collapsed": true
   },
   "outputs": [],
   "source": [
    "# Load the iris data\n",
    "from sklearn.datasets import load_iris\n",
    "iris = load_iris()"
   ]
  },
  {
   "cell_type": "markdown",
   "metadata": {
    "collapsed": true
   },
   "source": [
    "<a id='Lecture3'></a>\n",
    "## Lecture 3: [Getting Started in scikit-learn with the famous iris dataset](https://www.youtube.com/watch?list=PL0jQ8OgRoVEVrgo7VtYUZvhwJSccjWD1G&v=hd1W4CyPX58)\n",
    "Published on Apr 21, 2015\n",
    "\n",
    "Now that we've set up Python for machine learning, let's get started by loading an example dataset into scikit-learn! We'll explore the famous \"iris\" dataset, learn some important machine learning terminology, and discuss the four key requirements for working with data in scikit-learn.\n",
    "\n",
    "This is the third video in the series: \"Introduction to machine learning with scikit-learn\". Read more about the video here:\n",
    "http://blog.kaggle.com/2015/04/22/sci...\n",
    "\n",
    "The IPython notebook shown in the video is available on GitHub:\n",
    "https://github.com/justmarkham/scikit...\n",
    "\n",
    "== RESOURCES ==\n",
    "\n",
    "Iris dataset in UCI Machine Learning Repository: http://archive.ics.uci.edu/ml/datasets/Iris\n",
    "\n",
    "scikit-learn dataset loading utilities: http://scikit-learn.org/stable/datasets/\n",
    "\n",
    "Fast Numerical Computing with NumPy (slides): https://speakerdeck.com/jakevdp/losin...\n",
    "\n",
    "Fast Numerical Computing with NumPy (video): https://www.youtube.com/watch?v=EEUXK...\n",
    "\n",
    "Introduction to NumPy (PDF): http://www.engr.ucsb.edu/~shell/che21...\n",
    "\n",
    "== SUBSCRIBE! ==\n",
    "https://www.youtube.com/user/datascho...\n",
    "\n",
    "== LET'S CONNECT! ==\n",
    "Blog: http://www.dataschool.io\n",
    "\n",
    "Newsletter: http://www.dataschool.io/subscribe/\n",
    "\n",
    "Twitter: https://twitter.com/justmarkham\n",
    "\n",
    "GitHub: https://github.com/justmarkham"
   ]
  },
  {
   "cell_type": "markdown",
   "metadata": {},
   "source": [
    "### Introducing the Iris Dataset\n",
    "[Iris](https://en.wikipedia.org/wiki/Iris_(plant)) is a type of flower. In 1936, Edgar Anderson collected this dataset which consisted of \n",
    "\n",
    "* 50 samples of 3 different species of iris (150 samples total)\n",
    "* Measurements for each sample: sepal length, sepal width, petal length, petal width\n",
    "\n",
    "**Excerpts from wikipedia**:\n",
    "* A sepal (/ˈsɛpəl/ or /ˈsiːpəl/)[1][2][3] is a part of the flower of angiosperms (flowering plants). Usually green, sepals typically function as protection for the flower in bud, and often as support for the petals when in bloom.[4] The term sepalum was coined by Noël Martin Joseph de Necker in 1790, and derived from the Greek σκεπη (skepi), a covering.[5][6]\n",
    "* Petals are modified leaves that surround the reproductive parts of flowers. They are often brightly colored or unusually shaped to attract pollinators. Together, all of the petals of a flower are called a corolla. Petals are usually accompanied by another set of special leaves called sepals, that collectively form the calyx and lie just beneath the corolla. The calyx and the corolla together make up the perianth. When the petals and sepals of a flower are difficult to distinguish, they are collectively called tepals. \n",
    "\n",
    "The following is what this looks like in the **comma separated values (CSV)** format. For example, the first row of the data indicates that Anderson found an Iris of a sepal length of 5.1 cm, a sepal width of 3.5 cm, a petal length of 1.4 cm, and a petal width of 0.2 cm. This particual iris was the species **setosa**. The dataset also contains iris measurements from the species **versicolor**, and the species **verginica**."
   ]
  },
  {
   "cell_type": "code",
   "execution_count": 5,
   "metadata": {},
   "outputs": [
    {
     "data": {
      "text/html": [
       "<iframe src=http://archive.ics.uci.edu/ml/machine-learning-databases/iris/iris.data width=300 height=200></iframe>"
      ],
      "text/plain": [
       "<IPython.core.display.HTML object>"
      ]
     },
     "execution_count": 5,
     "metadata": {},
     "output_type": "execute_result"
    }
   ],
   "source": [
    "from IPython.display import HTML\n",
    "HTML('<iframe src=http://archive.ics.uci.edu/ml/machine-learning-databases/iris/iris.data width=300 height=200></iframe>')"
   ]
  },
  {
   "cell_type": "markdown",
   "metadata": {},
   "source": [
    "In 1936, Sir Ronal Fischer wrote a paper about the iris dataset - specifically about how a technique called **linear discriminant analysis** could be used to accurately distinguish the three species from one another using only the sepal and petal measurements. In other words, Fisher framed this as a **supervised learning** problem, in which we are attempting to predict the species of a given iris using the available data. This is supervised learning because we're trying to learn the relationship between the data - namely the iris measurements and the outcome which is the species of iris. If this was unlabeled data - meaning that we only had the measurements but not the species - we might frame this as an **unsupervised learning** by attempting to cluster the samples into meaningful groups.\n",
    "\n",
    "Anyway, the iris dataset has become a famous dataset for machine learning (ML) because it turns out to be an easy supervised learning task. There is a strong relationship between the measurements and the species and thus various ML models can accurately predict the species given the measurements. \n",
    "\n",
    "The dataset is described in more depth in the [UCI ML repository]( http://archive.ics.uci.edu/ml/datasets) which is a repository of hundreds of data sets suitable for machine learning tasks.\n",
    "\n",
    "### Loading the iris-dataset into scikit-learn\n",
    "\n",
    "Because the iris dataset is so popular as a toy dataset, it's actually built into scikit-learn. Let's load it into scikit-learn and examine it so that we can use ML model in the next video to actully predict species using the iris measurements. We load the dataset as follows:"
   ]
  },
  {
   "cell_type": "code",
   "execution_count": 6,
   "metadata": {
    "collapsed": true
   },
   "outputs": [],
   "source": [
    "# import load_iris function from datasets module\n",
    "from sklearn.datasets import load_iris"
   ]
  },
  {
   "cell_type": "markdown",
   "metadata": {},
   "source": [
    "Note that the **convention in scikit-learn** is to import individual modules, classes or functions rather than importing scikit-learn as a whole. We then call/run the load_iris() function and save the return value in an object called 'iris'. This object is a special container called a **bunch**, which is scikit-learn's special object type for storing datasets and their attributes. One of those attributes is called **data**."
   ]
  },
  {
   "cell_type": "code",
   "execution_count": 7,
   "metadata": {},
   "outputs": [
    {
     "data": {
      "text/plain": [
       "sklearn.datasets.base.Bunch"
      ]
     },
     "execution_count": 7,
     "metadata": {},
     "output_type": "execute_result"
    }
   ],
   "source": [
    "# save \"bunch\" object containing iris dataset and its attributes\n",
    "iris = load_iris()\n",
    "type(iris)"
   ]
  },
  {
   "cell_type": "code",
   "execution_count": 8,
   "metadata": {},
   "outputs": [
    {
     "name": "stdout",
     "output_type": "stream",
     "text": [
      "[[ 5.1  3.5  1.4  0.2]\n",
      " [ 4.9  3.   1.4  0.2]\n",
      " [ 4.7  3.2  1.3  0.2]\n",
      " [ 4.6  3.1  1.5  0.2]\n",
      " [ 5.   3.6  1.4  0.2]\n",
      " [ 5.4  3.9  1.7  0.4]\n",
      " [ 4.6  3.4  1.4  0.3]\n",
      " [ 5.   3.4  1.5  0.2]\n",
      " [ 4.4  2.9  1.4  0.2]\n",
      " [ 4.9  3.1  1.5  0.1]\n",
      " [ 5.4  3.7  1.5  0.2]\n",
      " [ 4.8  3.4  1.6  0.2]\n",
      " [ 4.8  3.   1.4  0.1]\n",
      " [ 4.3  3.   1.1  0.1]\n",
      " [ 5.8  4.   1.2  0.2]\n",
      " [ 5.7  4.4  1.5  0.4]\n",
      " [ 5.4  3.9  1.3  0.4]\n",
      " [ 5.1  3.5  1.4  0.3]\n",
      " [ 5.7  3.8  1.7  0.3]\n",
      " [ 5.1  3.8  1.5  0.3]\n",
      " [ 5.4  3.4  1.7  0.2]\n",
      " [ 5.1  3.7  1.5  0.4]\n",
      " [ 4.6  3.6  1.   0.2]\n",
      " [ 5.1  3.3  1.7  0.5]\n",
      " [ 4.8  3.4  1.9  0.2]\n",
      " [ 5.   3.   1.6  0.2]\n",
      " [ 5.   3.4  1.6  0.4]\n",
      " [ 5.2  3.5  1.5  0.2]\n",
      " [ 5.2  3.4  1.4  0.2]\n",
      " [ 4.7  3.2  1.6  0.2]\n",
      " [ 4.8  3.1  1.6  0.2]\n",
      " [ 5.4  3.4  1.5  0.4]\n",
      " [ 5.2  4.1  1.5  0.1]\n",
      " [ 5.5  4.2  1.4  0.2]\n",
      " [ 4.9  3.1  1.5  0.1]\n",
      " [ 5.   3.2  1.2  0.2]\n",
      " [ 5.5  3.5  1.3  0.2]\n",
      " [ 4.9  3.1  1.5  0.1]\n",
      " [ 4.4  3.   1.3  0.2]\n",
      " [ 5.1  3.4  1.5  0.2]\n",
      " [ 5.   3.5  1.3  0.3]\n",
      " [ 4.5  2.3  1.3  0.3]\n",
      " [ 4.4  3.2  1.3  0.2]\n",
      " [ 5.   3.5  1.6  0.6]\n",
      " [ 5.1  3.8  1.9  0.4]\n",
      " [ 4.8  3.   1.4  0.3]\n",
      " [ 5.1  3.8  1.6  0.2]\n",
      " [ 4.6  3.2  1.4  0.2]\n",
      " [ 5.3  3.7  1.5  0.2]\n",
      " [ 5.   3.3  1.4  0.2]\n",
      " [ 7.   3.2  4.7  1.4]\n",
      " [ 6.4  3.2  4.5  1.5]\n",
      " [ 6.9  3.1  4.9  1.5]\n",
      " [ 5.5  2.3  4.   1.3]\n",
      " [ 6.5  2.8  4.6  1.5]\n",
      " [ 5.7  2.8  4.5  1.3]\n",
      " [ 6.3  3.3  4.7  1.6]\n",
      " [ 4.9  2.4  3.3  1. ]\n",
      " [ 6.6  2.9  4.6  1.3]\n",
      " [ 5.2  2.7  3.9  1.4]\n",
      " [ 5.   2.   3.5  1. ]\n",
      " [ 5.9  3.   4.2  1.5]\n",
      " [ 6.   2.2  4.   1. ]\n",
      " [ 6.1  2.9  4.7  1.4]\n",
      " [ 5.6  2.9  3.6  1.3]\n",
      " [ 6.7  3.1  4.4  1.4]\n",
      " [ 5.6  3.   4.5  1.5]\n",
      " [ 5.8  2.7  4.1  1. ]\n",
      " [ 6.2  2.2  4.5  1.5]\n",
      " [ 5.6  2.5  3.9  1.1]\n",
      " [ 5.9  3.2  4.8  1.8]\n",
      " [ 6.1  2.8  4.   1.3]\n",
      " [ 6.3  2.5  4.9  1.5]\n",
      " [ 6.1  2.8  4.7  1.2]\n",
      " [ 6.4  2.9  4.3  1.3]\n",
      " [ 6.6  3.   4.4  1.4]\n",
      " [ 6.8  2.8  4.8  1.4]\n",
      " [ 6.7  3.   5.   1.7]\n",
      " [ 6.   2.9  4.5  1.5]\n",
      " [ 5.7  2.6  3.5  1. ]\n",
      " [ 5.5  2.4  3.8  1.1]\n",
      " [ 5.5  2.4  3.7  1. ]\n",
      " [ 5.8  2.7  3.9  1.2]\n",
      " [ 6.   2.7  5.1  1.6]\n",
      " [ 5.4  3.   4.5  1.5]\n",
      " [ 6.   3.4  4.5  1.6]\n",
      " [ 6.7  3.1  4.7  1.5]\n",
      " [ 6.3  2.3  4.4  1.3]\n",
      " [ 5.6  3.   4.1  1.3]\n",
      " [ 5.5  2.5  4.   1.3]\n",
      " [ 5.5  2.6  4.4  1.2]\n",
      " [ 6.1  3.   4.6  1.4]\n",
      " [ 5.8  2.6  4.   1.2]\n",
      " [ 5.   2.3  3.3  1. ]\n",
      " [ 5.6  2.7  4.2  1.3]\n",
      " [ 5.7  3.   4.2  1.2]\n",
      " [ 5.7  2.9  4.2  1.3]\n",
      " [ 6.2  2.9  4.3  1.3]\n",
      " [ 5.1  2.5  3.   1.1]\n",
      " [ 5.7  2.8  4.1  1.3]\n",
      " [ 6.3  3.3  6.   2.5]\n",
      " [ 5.8  2.7  5.1  1.9]\n",
      " [ 7.1  3.   5.9  2.1]\n",
      " [ 6.3  2.9  5.6  1.8]\n",
      " [ 6.5  3.   5.8  2.2]\n",
      " [ 7.6  3.   6.6  2.1]\n",
      " [ 4.9  2.5  4.5  1.7]\n",
      " [ 7.3  2.9  6.3  1.8]\n",
      " [ 6.7  2.5  5.8  1.8]\n",
      " [ 7.2  3.6  6.1  2.5]\n",
      " [ 6.5  3.2  5.1  2. ]\n",
      " [ 6.4  2.7  5.3  1.9]\n",
      " [ 6.8  3.   5.5  2.1]\n",
      " [ 5.7  2.5  5.   2. ]\n",
      " [ 5.8  2.8  5.1  2.4]\n",
      " [ 6.4  3.2  5.3  2.3]\n",
      " [ 6.5  3.   5.5  1.8]\n",
      " [ 7.7  3.8  6.7  2.2]\n",
      " [ 7.7  2.6  6.9  2.3]\n",
      " [ 6.   2.2  5.   1.5]\n",
      " [ 6.9  3.2  5.7  2.3]\n",
      " [ 5.6  2.8  4.9  2. ]\n",
      " [ 7.7  2.8  6.7  2. ]\n",
      " [ 6.3  2.7  4.9  1.8]\n",
      " [ 6.7  3.3  5.7  2.1]\n",
      " [ 7.2  3.2  6.   1.8]\n",
      " [ 6.2  2.8  4.8  1.8]\n",
      " [ 6.1  3.   4.9  1.8]\n",
      " [ 6.4  2.8  5.6  2.1]\n",
      " [ 7.2  3.   5.8  1.6]\n",
      " [ 7.4  2.8  6.1  1.9]\n",
      " [ 7.9  3.8  6.4  2. ]\n",
      " [ 6.4  2.8  5.6  2.2]\n",
      " [ 6.3  2.8  5.1  1.5]\n",
      " [ 6.1  2.6  5.6  1.4]\n",
      " [ 7.7  3.   6.1  2.3]\n",
      " [ 6.3  3.4  5.6  2.4]\n",
      " [ 6.4  3.1  5.5  1.8]\n",
      " [ 6.   3.   4.8  1.8]\n",
      " [ 6.9  3.1  5.4  2.1]\n",
      " [ 6.7  3.1  5.6  2.4]\n",
      " [ 6.9  3.1  5.1  2.3]\n",
      " [ 5.8  2.7  5.1  1.9]\n",
      " [ 6.8  3.2  5.9  2.3]\n",
      " [ 6.7  3.3  5.7  2.5]\n",
      " [ 6.7  3.   5.2  2.3]\n",
      " [ 6.3  2.5  5.   1.9]\n",
      " [ 6.5  3.   5.2  2. ]\n",
      " [ 6.2  3.4  5.4  2.3]\n",
      " [ 5.9  3.   5.1  1.8]]\n"
     ]
    }
   ],
   "source": [
    "#print the iris data\n",
    "print iris.data"
   ]
  },
  {
   "cell_type": "markdown",
   "metadata": {},
   "source": [
    "### Machine Learning terminology\n",
    "* Each row is an **observation** (also known as: **sample, example, instance, record**)\n",
    "* Each column is a **feature** (also known as: **predictor, attribute, independent variable, input, regressor, covariate**)\n",
    "\n",
    "In the iris-dataset we have 150 observations and 4 features. (kp: The species sits on the last column, but it's a dependent variable in our case)."
   ]
  },
  {
   "cell_type": "code",
   "execution_count": 9,
   "metadata": {},
   "outputs": [
    {
     "name": "stdout",
     "output_type": "stream",
     "text": [
      "['sepal length (cm)', 'sepal width (cm)', 'petal length (cm)', 'petal width (cm)']\n"
     ]
    }
   ],
   "source": [
    "# print the names of the four features\n",
    "print iris.feature_names"
   ]
  },
  {
   "cell_type": "code",
   "execution_count": 12,
   "metadata": {},
   "outputs": [
    {
     "name": "stdout",
     "output_type": "stream",
     "text": [
      "[0 0 0 0 0 0 0 0 0 0 0 0 0 0 0 0 0 0 0 0 0 0 0 0 0 0 0 0 0 0 0 0 0 0 0 0 0\n",
      " 0 0 0 0 0 0 0 0 0 0 0 0 0 1 1 1 1 1 1 1 1 1 1 1 1 1 1 1 1 1 1 1 1 1 1 1 1\n",
      " 1 1 1 1 1 1 1 1 1 1 1 1 1 1 1 1 1 1 1 1 1 1 1 1 1 1 2 2 2 2 2 2 2 2 2 2 2\n",
      " 2 2 2 2 2 2 2 2 2 2 2 2 2 2 2 2 2 2 2 2 2 2 2 2 2 2 2 2 2 2 2 2 2 2 2 2 2\n",
      " 2 2]\n"
     ]
    }
   ],
   "source": [
    "# print integers representing the species of each observable\n",
    "print iris.target"
   ]
  },
  {
   "cell_type": "code",
   "execution_count": 11,
   "metadata": {},
   "outputs": [
    {
     "name": "stdout",
     "output_type": "stream",
     "text": [
      "['setosa' 'versicolor' 'virginica']\n"
     ]
    }
   ],
   "source": [
    "# print the encoding scheme for species: 0 = setosa, 1 = versicolor, 2 = virginica\n",
    "print iris.target_names"
   ]
  },
  {
   "cell_type": "markdown",
   "metadata": {},
   "source": [
    "* Each value we are predicting is the **response** (also known as: **target, outcome, label, dependent variable**). Here, the species of iris is the **response** or **target**.\n",
    "* Two types of supervised learning\n",
    "    * **Classification** is supervised learning in which the response is **categorical/discrete (categorical == finite, unordered set)**. Example, whether an email is 'spam' or 'ham'.\n",
    "    * **Regression** is supervised learning in which the response is **ordered and continuous** (such as the price of a house or the height of a person).\n",
    "    \n",
    "When looking at iris.target, you might be wondering how you can tell that this is a classification problem and not a regression problem, since all you can see is the number 0, 1 or 2. The answer is you actually cannot tell the difference. As a ML practicener, you've to understand how your data is encoded and decide whether your response variable is suited for regression or classification. In this case we know that the number 0, 1 & 2 represent onordered categories and thus we know to use classification techniques and not regression techniques in order to solve this problem."
   ]
  },
  {
   "cell_type": "markdown",
   "metadata": {},
   "source": [
    "### Requirements for working with data in scikit-learn\n",
    "We learned from a previous video from the same speaker:\n",
    "\n",
    "First step in ML is for the model to learn the relationship between the features and the response.\n",
    "\n",
    "We'll do that next but first we have **make sure that the features and response are in the form that scikit-learn expects**. There are **four key requirements** to keep in mind which are as follows:\n",
    "\n",
    "* Features and response must be **separate objects** to be passed into the ML model.\n",
    "    * iris.data and iris.target fulfill this condition since they're stored separately.\n",
    "* They should be **numeric** (regardless of whether it's a classification or regression problem)\n",
    "    * this is exactly why the iris.target is stored as zeros, ones and twos instead of the strings 'setos', 'versicolor' or 'verginica'.\n",
    "* They should be **NumPy arrays**\n",
    "* They should have **specific shapes**\n",
    "    * Specifically, the feature objects should have two dimensions - in which the first dimension represented by rows is the # of observations and the second dimension represented by columns is the # of features. All NumPy arrays have 'shape' attribute so we can verify that the shape of the iris.data is 150 by four (kp: see the cell below).\n",
    "\n",
    "Note: NumPy is a library for scientific computing that implements a homogenous multidimensional array known as **ND array** that has been optimized for fast computation. It turns out that the iris.data and iris.target are already stored as ND arrays."
   ]
  },
  {
   "cell_type": "code",
   "execution_count": 13,
   "metadata": {},
   "outputs": [
    {
     "name": "stdout",
     "output_type": "stream",
     "text": [
      "<type 'numpy.ndarray'>\n",
      "<type 'numpy.ndarray'>\n"
     ]
    }
   ],
   "source": [
    "# check the types of the features and response\n",
    "print type(iris.data)\n",
    "print type(iris.target)"
   ]
  },
  {
   "cell_type": "code",
   "execution_count": 14,
   "metadata": {},
   "outputs": [
    {
     "name": "stdout",
     "output_type": "stream",
     "text": [
      "(150, 4)\n"
     ]
    }
   ],
   "source": [
    "# check the shape of the features (first dimension = number of observations, second dimension = number of features)\n",
    "print iris.data.shape"
   ]
  },
  {
   "cell_type": "code",
   "execution_count": 15,
   "metadata": {},
   "outputs": [
    {
     "name": "stdout",
     "output_type": "stream",
     "text": [
      "(150,)\n"
     ]
    }
   ],
   "source": [
    "# check the shap of the response (single dimension matching the number of observations)\n",
    "print iris.target.shape"
   ]
  },
  {
   "cell_type": "code",
   "execution_count": 18,
   "metadata": {
    "collapsed": true
   },
   "outputs": [],
   "source": [
    "# store feature matrix in \"X\" (Note the upper case 'X' to represent the matrix)\n",
    "X = iris.data\n",
    "\n",
    "# store response vector in \"y\" (Note the lower case 'y' to represent the vector)\n",
    "y = iris.target"
   ]
  },
  {
   "cell_type": "markdown",
   "metadata": {},
   "source": [
    "<a id='Lecture4'></a>\n",
    "## Lecture 4:  [Training a machine learning model with scikit-learn](https://www.youtube.com/watch?v=RlQuVL6-qe8&t=14s)\n",
    "\n",
    "Published on Apr 29, 2015\n",
    "\n",
    "Now that we're familiar with the famous iris dataset, let's actually use a classification model in scikit-learn to predict the species of an iris! We'll learn how the K-nearest neighbors (KNN) model works, and then walk through the four steps for model training and prediction in scikit-learn. Finally, we'll see how easy it is to try out a different classification model, namely logistic regression.\n",
    "\n",
    "This is the fourth video in the series: \"Introduction to machine learning with scikit-learn\". Read more about the video here:\n",
    "\n",
    "http://blog.kaggle.com/2015/04/30/scikit-learn-video-4-model-training-and-prediction-with-k-nearest-neighbors/\n",
    "\n",
    "The IPython notebook shown in the video is available on GitHub:\n",
    "\n",
    "https://github.com/justmarkham/scikit-learn-videos\n",
    "\n",
    "== RESOURCES ==\n",
    "\n",
    "Iris dataset in UCI Machine Learning Repository:\n",
    "\n",
    "http://archive.ics.uci.edu/ml/datasets/Iris\n",
    "\n",
    "Nearest Neighbors user guide: http://scikit-learn.org/stable/modules/neighbors.html\n",
    "\n",
    "KNeighborsClassifier class documentation: http://scikit-learn.org/stable/modules/generated/sklearn.neighbors.KNeighborsClassifier.html\n",
    "\n",
    "Logistic Regression user guide: http://scikit-learn.org/stable/modules/linear_model.html#logistic-regression\n",
    "\n",
    "LogisticRegression class documentation: http://scikit-learn.org/stable/modules/generated/sklearn.linear_model.LogisticRegression.html\n",
    "\n",
    "Videos from An Introduction to Statistical Learning: http://scikit-learn.org/stable/modules/generated/sklearn.linear_model.LogisticRegression.html\n",
    "\n",
    "== SUBSCRIBE! ==\n",
    "\n",
    "http://www.dataschool.io/15-hours-of-expert-machine-learning-videos/\n",
    "\n",
    "== LET'S CONNECT! ==\n",
    "\n",
    "Blog: http://www.dataschool.io\n",
    "\n",
    "Newsletter: http://www.dataschool.io/subscribe/\n",
    "\n",
    "Twitter: https://twitter.com/justmarkham\n",
    "\n",
    "GitHub: https://github.com/justmarkham"
   ]
  },
  {
   "cell_type": "markdown",
   "metadata": {},
   "source": [
    "#### Agenda\n",
    "* What is the K-nearest neighbors classification model?\n",
    "* What are the four steps for model training and prediction in scikit-learn?\n",
    "* How can I apply this pattern to other ML models?\n",
    "\n",
    "#### K-nearest neighbors (KNN) classification\n",
    "1. Pick a value for K\n",
    "2. Search for the K observations in the training data that are \"nearest\" to the measurements of the unknown iris (kp: the iris whose species is unknown but the features have been measured)\n",
    "3. Use the most popular response value from the K neighbors as the predicted response value for the unknown iris. (kp: it seems we're like finding the \"median\" in 2 or 3 dimensions..)\n",
    "\n",
    "The following plot shows a an example training dataset (it's not iris data set but something else included here only for the purpose of illustration) with two features plotted along X- and Y-axes with three possible response values (represented by 3 colors red, blue and green). We can notice that the boundaries between colors (known as the \"decision boundaries\") have changed because more neighbors are taken into account when making predictions. The white areas are areas where the KNN couldn't make a clear decision because there was a tie between two classes.\n",
    "\n",
    "#### Example training data\n",
    "![Example training data](img/04_knn_dataset.png)\n",
    "\n",
    "The following two plots show KNN classification maps (for K=1 and K=5 respectively) with the backgrounds colored red, blue or green depending on whether the nearest neighbor is red, blue or green.\n",
    "#### KNN classification map (K=1)\n",
    "![KNN classification map (K=1)](img/04_1nn_map.png)\n",
    "\n",
    "#### KNN classification map (K=5)\n",
    "\n",
    "![KNN classification map (K=5)](img/04_5nn_map.png)\n",
    "\n",
    "Image Credits: [Data3classes](http://commons.wikimedia.org/wiki/File:Data3classes.png#/media/File:Data3classes.png), [Map1NN](http://commons.wikimedia.org/wiki/File:Map1NN.png#/media/File:Map1NN.png), [Map5NN](http://commons.wikimedia.org/wiki/File:Map5NN.png#/media/File:Map5NN.png) by Agor153. Licensed under CC BY-SA 3.0\n",
    "\n",
    "\n",
    "We can see that KNN is a very simple ML model, but it can make highly accurate predictions if the different classes in the dataset have very dissimilar feature values.\n",
    "\n",
    "Now let's use KNN with the iris dataset in scikit-learn."
   ]
  },
  {
   "cell_type": "code",
   "execution_count": 20,
   "metadata": {
    "collapsed": true
   },
   "outputs": [],
   "source": [
    "# import load_iris function from datasets module\n",
    "from sklearn.datasets import load_iris\n",
    "\n",
    "# save \"bunch\" object containing iris dataset and its attributes\n",
    "iris = load_iris()\n",
    "\n",
    "# store feature matrix in \"X\" (Note the upper case 'X' to represent the matrix)\n",
    "X = iris.data\n",
    "\n",
    "# store response vector in \"y\" (Note the lower case 'y' to represent the vector)\n",
    "y = iris.target"
   ]
  },
  {
   "cell_type": "code",
   "execution_count": 21,
   "metadata": {},
   "outputs": [
    {
     "name": "stdout",
     "output_type": "stream",
     "text": [
      "(150, 4)\n",
      "(150,)\n"
     ]
    }
   ],
   "source": [
    "# print the shapes of X and y\n",
    "print X.shape\n",
    "print y.shape"
   ]
  },
  {
   "cell_type": "markdown",
   "metadata": {},
   "source": [
    "### scikit-learn 4-step modeling pattern\n",
    "**Step 1: ** Import the class you want to use. \n",
    "\n",
    "In this case, you import K-Neighbors classifier from sklearn.neigbhors:"
   ]
  },
  {
   "cell_type": "code",
   "execution_count": 22,
   "metadata": {
    "collapsed": true
   },
   "outputs": [],
   "source": [
    "from sklearn.neighbors import KNeighborsClassifier"
   ]
  },
  {
   "cell_type": "markdown",
   "metadata": {},
   "source": [
    "scikit-learn is carefully organized into modules such as neighbors so that it's easy to find the class you're looking for.\n",
    "\n",
    "**Step 2:** \"Instantiate\" the \"estimator\"\n",
    "* \"Estimator\" is a scikit-learn term. It refers to its models as \"estimators\" because their primary role is to estimate unknown quantities.\n",
    "* This process is called \"instantiation\" because we are \"creating an instance\" of the KNeighborsClassifier class."
   ]
  },
  {
   "cell_type": "code",
   "execution_count": 23,
   "metadata": {
    "collapsed": true
   },
   "outputs": [],
   "source": [
    "knn = KNeighborsClassifier(n_neighbors=1)"
   ]
  },
  {
   "cell_type": "markdown",
   "metadata": {},
   "source": [
    "We have intantiated the class and we now have an object 'knn' that knows how to do the 'knn classification' and it's just waiting for us to give it some data. Three important notes about instantiating the estimator:\n",
    "* Name of the object does not matter.\n",
    "* Can specify tuning parameters (aka \"hyperparameters\") during this step. (kp: In this case 'n_neighbors' is such a tuning parameter. In the plots shown above the parameter took values of 1 and 5).\n",
    "* All parameters not specified are set to their defaults. (By printing out the estimator object, we can see the default values for all of those parameters as follows)."
   ]
  },
  {
   "cell_type": "code",
   "execution_count": 24,
   "metadata": {},
   "outputs": [
    {
     "name": "stdout",
     "output_type": "stream",
     "text": [
      "KNeighborsClassifier(algorithm='auto', leaf_size=30, metric='minkowski',\n",
      "           metric_params=None, n_jobs=1, n_neighbors=1, p=2,\n",
      "           weights='uniform')\n"
     ]
    }
   ],
   "source": [
    "print knn"
   ]
  },
  {
   "cell_type": "markdown",
   "metadata": {},
   "source": [
    "Thankfully, scikit-learn provides sensible defaults for its models, so that you can get started with a new model without researching the meaning of every parameter.\n",
    "\n",
    "**Step 3:** Fit the model with data (aka \"model training\")\n",
    "\n",
    "* Model is learning the relationship between X and y i.e. between the features and the response (kp: tuning/adjusting the values of the parameters that represent the relationship).\n",
    "    * The underlying mathematical process through which this learning of the relationship occurs varies by model. \n",
    "    * The speaker/author here simply uses the fit method on the 'knn' object and pass it two arguments - the feature matrix X and the response vector 'y'.\n",
    "* Occurs in-place\n",
    "    * This is why the author doesn't need to assign the results to another object"
   ]
  },
  {
   "cell_type": "code",
   "execution_count": 25,
   "metadata": {},
   "outputs": [
    {
     "data": {
      "text/plain": [
       "KNeighborsClassifier(algorithm='auto', leaf_size=30, metric='minkowski',\n",
       "           metric_params=None, n_jobs=1, n_neighbors=1, p=2,\n",
       "           weights='uniform')"
      ]
     },
     "execution_count": 25,
     "metadata": {},
     "output_type": "execute_result"
    }
   ],
   "source": [
    "knn.fit(X,y)"
   ]
  },
  {
   "cell_type": "markdown",
   "metadata": {},
   "source": [
    "**Step 4 - Final Step:** Predict the response for a new observation.\n",
    "\n",
    "* New observations are called \"out-of-sample\" data (kp: I guess we call a data set to be a \"sample\" only if we use it to train the model.)\n",
    "* Uses the information it learned during the model training process."
   ]
  },
  {
   "cell_type": "code",
   "execution_count": 26,
   "metadata": {},
   "outputs": [
    {
     "name": "stderr",
     "output_type": "stream",
     "text": [
      "/usr/local/lib/python2.7/site-packages/sklearn/utils/validation.py:395: DeprecationWarning: Passing 1d arrays as data is deprecated in 0.17 and will raise ValueError in 0.19. Reshape your data either using X.reshape(-1, 1) if your data has a single feature or X.reshape(1, -1) if it contains a single sample.\n",
      "  DeprecationWarning)\n"
     ]
    },
    {
     "data": {
      "text/plain": [
       "array([2])"
      ]
     },
     "execution_count": 26,
     "metadata": {},
     "output_type": "execute_result"
    }
   ],
   "source": [
    "knn.predict([3,5,4,2])"
   ]
  },
  {
   "cell_type": "markdown",
   "metadata": {},
   "source": [
    "In the above, we're passing the features of an unknown iris as a Python list. It's expecting a NumPy array but it still works with a list since NumPy automatically converts it to an array of the appropriate shape. Unlike the fit method, the predict method does return an object namely a NumPy array with the predicted response value. In this case the KNN algorithm using K=1 predicts a response value of 2 (kp: indicating the iris-species to be virginica). scikit-learn doesn't know what this '2' represents, so we need to keep track of the fact that 2 was the encoding for virginica and thus 'verginica' is the predicted species for the unknown iris.\n",
    "\n",
    "* Returns a NumPy array\n",
    "* Can predict for multiple observations at once.\n",
    "\n",
    "As you expect, this method can be used on multiple observations at once - in this case, I am gonna create a list of lists called X_new, which contains two new observations. When I pass this list to the predict method, it  again gets converted to a NumPy Array this time with a shape of 2-by-4 which is interpreted as two observations with four features each."
   ]
  },
  {
   "cell_type": "code",
   "execution_count": 27,
   "metadata": {},
   "outputs": [
    {
     "data": {
      "text/plain": [
       "array([2, 1])"
      ]
     },
     "execution_count": 27,
     "metadata": {},
     "output_type": "execute_result"
    }
   ],
   "source": [
    "X_new = [[3,5,4,2],[5,4,3,2]]\n",
    "knn.predict(X_new)"
   ]
  },
  {
   "cell_type": "markdown",
   "metadata": {},
   "source": [
    "The predict method returns a NumPy array with values 2 and 1 which means the predictions for the two unknown iris are 2=='virginica' and 1=='versicolor' respectively.\n",
    "\n",
    "### Using a different value for K\n",
    "Let's say you wanted to try a different value for K such as 5. This is known as model tuning, in which you're varying the argument that you pass to the model. Note that you don't have to import the class again, you just instantiate the model with the new value of K, fit it with data and make predictions."
   ]
  },
  {
   "cell_type": "code",
   "execution_count": 28,
   "metadata": {},
   "outputs": [
    {
     "data": {
      "text/plain": [
       "array([1, 1])"
      ]
     },
     "execution_count": 28,
     "metadata": {},
     "output_type": "execute_result"
    }
   ],
   "source": [
    "# instantiate the model (using the value K=5)\n",
    "knn = KNeighborsClassifier(n_neighbors=2)\n",
    "\n",
    "# fit the model with data\n",
    "knn.fit(X,y)\n",
    "\n",
    "# predict the response for new observations\n",
    "knn.predict(X_new)"
   ]
  },
  {
   "cell_type": "markdown",
   "metadata": {},
   "source": [
    "This time the model predicts the value 1 for both the unknown irises.\n",
    "\n",
    "### Using a different classification model\n",
    "\n",
    "One of the things that I love about scikit-learn is that its models have uniform interface which means that I can use the same four-step pattern on a different model with relative ease. For example, I might try logistic regression, which despite its name, is another model used for classification. I simply import the logistic regression from the linear model module, instantiate the model with all of the default parameters, fit the model with data and make predictions."
   ]
  },
  {
   "cell_type": "code",
   "execution_count": 29,
   "metadata": {},
   "outputs": [
    {
     "data": {
      "text/plain": [
       "array([2, 0])"
      ]
     },
     "execution_count": 29,
     "metadata": {},
     "output_type": "execute_result"
    }
   ],
   "source": [
    "#import the class\n",
    "from sklearn.linear_model import LogisticRegression\n",
    "\n",
    "# instantiate the model (using the default parameters)\n",
    "logreg = LogisticRegression()\n",
    "\n",
    "# fit the model with data\n",
    "logreg.fit(X,y)\n",
    "\n",
    "# predict the response for new observations\n",
    "logreg.predict(X_new)"
   ]
  },
  {
   "cell_type": "markdown",
   "metadata": {},
   "source": [
    "This time the model predicts a value of 2 and 0 for the first and second  unknown irises respectively. Of course, you might be wondering which model produce the correct predictions for these two unknown irises. The answer is that we don't know because these are out-of-sample observations meaning that we don't know the true response values.\n",
    "\n",
    "As we talked about in the first video, our goal with supervised learning is to build models that generalize to new data. However, we often aren't able to truly measure how well our models perform on out-of-sample data.\n",
    "\n",
    "Does that mean that we're forced to guess how well our models are likely to do? Thankfully no. In the next video, we'll begin to discuss model evaluation procedures, which allow us to estimate how well our models are likely to perform on out-of-sample data using our existing labelled data. These procedures will help us to choose which value of K is best for KNN, or to choose whether KNN or Logistic Regression is a better choice for our particular task."
   ]
  },
  {
   "cell_type": "markdown",
   "metadata": {},
   "source": [
    "###  Resources\n",
    "\n",
    "* [Nearest Neighbors](http://scikit-learn.org/stable/modules/neighbors.html) (user guide), [KNeighborsClassifier](http://scikit-learn.org/stable/modules/generated/sklearn.neighbors.KNeighborsClassifier.html) (class documentation)\n",
    "* [Logistic Regression](http://scikit-learn.org/stable/modules/linear_model.html#logistic-regression) (user guide), [LogisticRegression](http://scikit-learn.org/stable/modules/generated/sklearn.linear_model.LogisticRegression.html) (class documentation)\n",
    "* [Videos from An Introduction to Statistical Learning](http://www.dataschool.io/15-hours-of-expert-machine-learning-videos/)\n",
    "    * Classification Problems and K-Nearest Neighbors (Chapter 2)\n",
    "    * Introduction to Classification (Chapter 4)\n",
    "    * Logistic Regression and Maximum Likelihood (Chapter 4)"
   ]
  },
  {
   "cell_type": "markdown",
   "metadata": {},
   "source": [
    "<a id='Lecture5'></a>\n",
    "## Lecture 5: [Comparing/Evaluating machine learning models in scikit-learn](https://www.youtube.com/watch?v=0pP4EwWJgIU)\n",
    "\n",
    "### Agenda\n",
    "* How do I choose which model to use for my supervised learning task?\n",
    "* How do I chose the best tuning parameters for that model?\n",
    "* How do I estimate the likely performance of my model on an out-of-sample data?\n",
    "\n",
    "There are many possible model evaluation procedures but in this video, two procedures will be discussed - (1) train and test on the entire dataset and (2) train and test on the split data sets (Train/test split).\n",
    "\n",
    "### Evaluation Procedere #1: Train and test on the entire dataset.\n",
    "* Train the model on the **entire dataset**\n",
    "* Test the model on the **same dataset**, and evaluate how well we did by comparing the **predicted** response values w.r.t the **true/measured** response values.\n",
    "\n",
    "This appears to solve our original problem which which was that we made some predictions but we couldn't check whether those predictions were correct.\n",
    "\n",
    "Let's start by reading in the iris dataset and creating our feature matrix X and the response vector 'y'."
   ]
  },
  {
   "cell_type": "code",
   "execution_count": 33,
   "metadata": {
    "collapsed": true
   },
   "outputs": [],
   "source": [
    "# read in the iris data\n",
    "from sklearn.datasets import load_iris\n",
    "iris = load_iris()\n",
    "\n",
    "# create X (features) and y (response)\n",
    "X = iris.data\n",
    "y = iris.target"
   ]
  },
  {
   "cell_type": "markdown",
   "metadata": {},
   "source": [
    "We'll try the logistic regression first by following the usual pattern of importing the class, instantiating it into an object, fitting the model with data and making the prediction."
   ]
  },
  {
   "cell_type": "code",
   "execution_count": 34,
   "metadata": {},
   "outputs": [
    {
     "data": {
      "text/plain": [
       "array([0, 0, 0, 0, 0, 0, 0, 0, 0, 0, 0, 0, 0, 0, 0, 0, 0, 0, 0, 0, 0, 0, 0,\n",
       "       0, 0, 0, 0, 0, 0, 0, 0, 0, 0, 0, 0, 0, 0, 0, 0, 0, 0, 0, 0, 0, 0, 0,\n",
       "       0, 0, 0, 0, 1, 1, 1, 1, 1, 1, 1, 1, 1, 1, 1, 1, 1, 1, 1, 1, 2, 1, 1,\n",
       "       1, 2, 1, 1, 1, 1, 1, 1, 1, 1, 1, 1, 1, 1, 2, 2, 2, 1, 1, 1, 1, 1, 1,\n",
       "       1, 1, 1, 1, 1, 1, 1, 1, 2, 2, 2, 2, 2, 2, 2, 2, 2, 2, 2, 2, 2, 2, 2,\n",
       "       2, 2, 2, 2, 2, 2, 2, 2, 2, 2, 2, 2, 2, 2, 1, 2, 2, 2, 2, 2, 2, 2, 2,\n",
       "       2, 2, 2, 2, 2, 2, 2, 2, 2, 2, 2, 2])"
      ]
     },
     "execution_count": 34,
     "metadata": {},
     "output_type": "execute_result"
    }
   ],
   "source": [
    "# import the class\n",
    "from sklearn.linear_model import LogisticRegression\n",
    "\n",
    "# instantiate the model (using the default parameters)\n",
    "logreg = LogisticRegression()\n",
    "\n",
    "# fit the model with data\n",
    "logreg.fit(X, y)\n",
    "\n",
    "# predict the response values for the observations in X\n",
    "logreg.predict(X)"
   ]
  },
  {
   "cell_type": "code",
   "execution_count": 35,
   "metadata": {
    "collapsed": true
   },
   "outputs": [],
   "source": [
    "# store the predicted response values\n",
    "y_pred = logreg.predict(X)"
   ]
  },
  {
   "cell_type": "code",
   "execution_count": 37,
   "metadata": {},
   "outputs": [
    {
     "name": "stdout",
     "output_type": "stream",
     "text": [
      "[0 0 0 0 0 0 0 0 0 0 0 0 0 0 0 0 0 0 0 0 0 0 0 0 0 0 0 0 0 0 0 0 0 0 0 0 0\n",
      " 0 0 0 0 0 0 0 0 0 0 0 0 0 1 1 1 1 1 1 1 1 1 1 1 1 1 1 1 1 2 1 1 1 2 1 1 1\n",
      " 1 1 1 1 1 1 1 1 1 2 2 2 1 1 1 1 1 1 1 1 1 1 1 1 1 1 2 2 2 2 2 2 2 2 2 2 2\n",
      " 2 2 2 2 2 2 2 2 2 2 2 2 2 2 2 2 2 2 1 2 2 2 2 2 2 2 2 2 2 2 2 2 2 2 2 2 2\n",
      " 2 2]\n"
     ]
    }
   ],
   "source": [
    "# kp: just verifying whether y_pred has the same values as what we see above\n",
    "print y_pred"
   ]
  },
  {
   "cell_type": "code",
   "execution_count": 38,
   "metadata": {},
   "outputs": [
    {
     "data": {
      "text/plain": [
       "150"
      ]
     },
     "execution_count": 38,
     "metadata": {},
     "output_type": "execute_result"
    }
   ],
   "source": [
    "# check how many predictions were generated\n",
    "len(y_pred)"
   ]
  },
  {
   "cell_type": "markdown",
   "metadata": {},
   "source": [
    "Now, we need a numerical way to evaluate/express how well our model performed. \n",
    "The most obvious choice is **Classification Accuracy**.\n",
    "\n",
    "Classification Accuracy:\n",
    "* **Proportion** of correct predictions\n",
    "* Common **evaluation metric** for classification problems (there are many possible evaluation metrics, and we will learn about them in future videos).\n",
    "\n",
    "Let's compute the classification accuracy for our logistic regression model. I can think of at least three different ways to do this but I am gonna show you the one way I recommend, which is to use the metrics module from scikit-learn. Here, we first import the **metrics** class/module and then we call the **accuracy_score(..)** method/function and pass it the \"true\" and \"predicted\" response values respectively, which will return the classification accuracy."
   ]
  },
  {
   "cell_type": "code",
   "execution_count": 39,
   "metadata": {},
   "outputs": [
    {
     "name": "stdout",
     "output_type": "stream",
     "text": [
      "0.96\n"
     ]
    }
   ],
   "source": [
    "# compute classification accuracy for the logistic regression model\n",
    "from sklearn import metrics\n",
    "print(metrics.accuracy_score(y, y_pred))"
   ]
  },
  {
   "cell_type": "markdown",
   "metadata": {
    "collapsed": true
   },
   "source": [
    "* Known as **training accuracy** when you train and test the model on the same data\n",
    "\n",
    "We now try the KNN with the two different values of K. \n",
    "#### KNN (K=5)"
   ]
  },
  {
   "cell_type": "code",
   "execution_count": 40,
   "metadata": {},
   "outputs": [
    {
     "name": "stdout",
     "output_type": "stream",
     "text": [
      "0.966666666667\n"
     ]
    }
   ],
   "source": [
    "from sklearn.neighbors import KNeighborsClassifier\n",
    "knn = KNeighborsClassifier(n_neighbors=5)\n",
    "knn.fit(X, y)\n",
    "y_pred = knn.predict(X)\n",
    "print(metrics.accuracy_score(y, y_pred))"
   ]
  },
  {
   "cell_type": "markdown",
   "metadata": {},
   "source": [
    "#### KNN (K=1)"
   ]
  },
  {
   "cell_type": "code",
   "execution_count": 41,
   "metadata": {},
   "outputs": [
    {
     "name": "stdout",
     "output_type": "stream",
     "text": [
      "1.0\n"
     ]
    }
   ],
   "source": [
    "from sklearn.neighbors import KNeighborsClassifier\n",
    "knn = KNeighborsClassifier(n_neighbors=1)\n",
    "knn.fit(X, y)\n",
    "y_pred = knn.predict(X)\n",
    "print(metrics.accuracy_score(y, y_pred))"
   ]
  },
  {
   "cell_type": "markdown",
   "metadata": {},
   "source": [
    "kp: It's no surprize that we get the accuracy of 1.0 for K=1. This is what is expected and thus is not a reliable option to use the same dataset to train and test the model. The optimal value of K is determined by using \"Train/test split\" procedure and then plotting the value of accuracy vs K (see below).\n",
    "\n",
    "###  Problems with training and testing on the same data\n",
    "* Goal is to estimate likely performance of a model on out-of-sample data\n",
    "* But, maximizing training accuracy rewards overly complex models that won't necessarily generalize\n",
    "* Unnecessarily complex models overfit the training data\n",
    "\n",
    "![Over-fitting of data](img/05_overfitting.png)\n",
    "\n",
    "\n",
    "_Image Credit: [Overfitting](http://commons.wikimedia.org/wiki/File:Overfitting.svg#/media/File:Overfitting.svg) by Chabacano. Licensed under GFDL via Wikimedia Commons._\n"
   ]
  },
  {
   "cell_type": "markdown",
   "metadata": {},
   "source": [
    "## Evaluation procedure #2: Train/test split\n",
    "\n",
    "* Split the dataset into two pieces: a training set and a testing set.\n",
    "* Train the model on the training set.\n",
    "* Test the model on the testing set, and evaluate how well we did.\n",
    "\n"
   ]
  },
  {
   "cell_type": "code",
   "execution_count": 45,
   "metadata": {},
   "outputs": [
    {
     "name": "stdout",
     "output_type": "stream",
     "text": [
      "(150, 4)\n",
      "(150,)\n"
     ]
    }
   ],
   "source": [
    "# print the shapes of X and y\n",
    "print(X.shape)\n",
    "print(y.shape)"
   ]
  },
  {
   "cell_type": "code",
   "execution_count": 46,
   "metadata": {},
   "outputs": [
    {
     "name": "stderr",
     "output_type": "stream",
     "text": [
      "/usr/local/lib/python2.7/site-packages/sklearn/cross_validation.py:44: DeprecationWarning: This module was deprecated in version 0.18 in favor of the model_selection module into which all the refactored classes and functions are moved. Also note that the interface of the new CV iterators are different from that of this module. This module will be removed in 0.20.\n",
      "  \"This module will be removed in 0.20.\", DeprecationWarning)\n"
     ]
    }
   ],
   "source": [
    "# STEP 1: split X and y into training and testing sets\n",
    "from sklearn.cross_validation import train_test_split\n",
    "X_train, X_test, y_train, y_test = train_test_split(X, y, test_size=0.4, random_state=4)"
   ]
  },
  {
   "cell_type": "markdown",
   "metadata": {},
   "source": [
    "About the last two arguments to the **train_test_split**() functions:\n",
    "* **test_size** = proportion/fraction of the total sample to be used for the test sample. This means (1 - test_size) would be the fraction of the training sample.\n",
    "* **random_state** = If nothing is given for this argument, then a random state would be selected - which means every time we call train_test_split(..) with test_size=0.4, we would always have a test sample with (0.4 x total) rows/measurements/events in it, but the rows/events will be selected randomly out of the total sample. But, if a specific value such as 1 or 2 or 4 is given, we would have the same/fixed 'random' sample everytime we make the call with the same value of the argument.\n",
    "\n",
    "![Over-fitting of data](img/05_train_test_split.png)"
   ]
  },
  {
   "cell_type": "markdown",
   "metadata": {},
   "source": [
    "What did this accomplish?\n",
    "* Model can be trained and tested on different data\n",
    "* Response values are known for the testing set, and thus predictions can be evaluated\n",
    "* Testing accuracy is a better estimate than training accuracy of out-of-sample performance"
   ]
  },
  {
   "cell_type": "code",
   "execution_count": 47,
   "metadata": {},
   "outputs": [
    {
     "name": "stdout",
     "output_type": "stream",
     "text": [
      "(90, 4)\n",
      "(60, 4)\n"
     ]
    }
   ],
   "source": [
    "# print the shapes of the new X objects\n",
    "print(X_train.shape)\n",
    "print(X_test.shape)"
   ]
  },
  {
   "cell_type": "code",
   "execution_count": 48,
   "metadata": {},
   "outputs": [
    {
     "name": "stdout",
     "output_type": "stream",
     "text": [
      "(90,)\n",
      "(60,)\n"
     ]
    }
   ],
   "source": [
    "# print the shapes of the new y objects\n",
    "print(y_train.shape)\n",
    "print(y_test.shape)"
   ]
  },
  {
   "cell_type": "code",
   "execution_count": 49,
   "metadata": {},
   "outputs": [
    {
     "data": {
      "text/plain": [
       "LogisticRegression(C=1.0, class_weight=None, dual=False, fit_intercept=True,\n",
       "          intercept_scaling=1, max_iter=100, multi_class='ovr', n_jobs=1,\n",
       "          penalty='l2', random_state=None, solver='liblinear', tol=0.0001,\n",
       "          verbose=0, warm_start=False)"
      ]
     },
     "execution_count": 49,
     "metadata": {},
     "output_type": "execute_result"
    }
   ],
   "source": [
    "# STEP 2: train the model on the training set\n",
    "logreg = LogisticRegression()\n",
    "logreg.fit(X_train, y_train)"
   ]
  },
  {
   "cell_type": "code",
   "execution_count": 50,
   "metadata": {},
   "outputs": [
    {
     "name": "stdout",
     "output_type": "stream",
     "text": [
      "0.95\n"
     ]
    }
   ],
   "source": [
    "# STEP 3: make predictions on the testing set\n",
    "y_pred = logreg.predict(X_test)\n",
    "\n",
    "# compare actual response values (y_test) with predicted response values (y_pred)\n",
    "print(metrics.accuracy_score(y_test, y_pred))"
   ]
  },
  {
   "cell_type": "markdown",
   "metadata": {},
   "source": [
    "Repeat for KNN with K=5:"
   ]
  },
  {
   "cell_type": "code",
   "execution_count": 51,
   "metadata": {},
   "outputs": [
    {
     "name": "stdout",
     "output_type": "stream",
     "text": [
      "0.966666666667\n"
     ]
    }
   ],
   "source": [
    "knn = KNeighborsClassifier(n_neighbors=5)\n",
    "knn.fit(X_train, y_train)\n",
    "y_pred = knn.predict(X_test)\n",
    "print(metrics.accuracy_score(y_test, y_pred))"
   ]
  },
  {
   "cell_type": "markdown",
   "metadata": {},
   "source": [
    "Repeat for KNN with K=1:"
   ]
  },
  {
   "cell_type": "code",
   "execution_count": 52,
   "metadata": {},
   "outputs": [
    {
     "name": "stdout",
     "output_type": "stream",
     "text": [
      "0.95\n"
     ]
    }
   ],
   "source": [
    "knn = KNeighborsClassifier(n_neighbors=1)\n",
    "knn.fit(X_train, y_train)\n",
    "y_pred = knn.predict(X_test)\n",
    "print(metrics.accuracy_score(y_test, y_pred))"
   ]
  },
  {
   "cell_type": "markdown",
   "metadata": {},
   "source": [
    "Can we locate an even better value for K?"
   ]
  },
  {
   "cell_type": "code",
   "execution_count": 53,
   "metadata": {
    "collapsed": true
   },
   "outputs": [],
   "source": [
    "# try K=1 through K=25 and record testing accuracy\n",
    "k_range = list(range(1, 26))\n",
    "scores = []\n",
    "for k in k_range:\n",
    "    knn = KNeighborsClassifier(n_neighbors=k)\n",
    "    knn.fit(X_train, y_train)\n",
    "    y_pred = knn.predict(X_test)\n",
    "    scores.append(metrics.accuracy_score(y_test, y_pred))"
   ]
  },
  {
   "cell_type": "code",
   "execution_count": 54,
   "metadata": {},
   "outputs": [
    {
     "data": {
      "text/plain": [
       "<matplotlib.text.Text at 0x10ac369d0>"
      ]
     },
     "execution_count": 54,
     "metadata": {},
     "output_type": "execute_result"
    },
    {
     "data": {
      "image/png": "[encoded data removed]",
      "text/plain": [
       "<matplotlib.figure.Figure at 0x10ab70b90>"
      ]
     },
     "metadata": {},
     "output_type": "display_data"
    }
   ],
   "source": [
    "# import Matplotlib (scientific plotting library)\n",
    "import matplotlib.pyplot as plt\n",
    "\n",
    "# allow plots to appear within the notebook\n",
    "%matplotlib inline\n",
    "\n",
    "# plot the relationship between K and testing accuracy\n",
    "plt.plot(k_range, scores)\n",
    "plt.xlabel('Value of K for KNN')\n",
    "plt.ylabel('Testing Accuracy')"
   ]
  },
  {
   "cell_type": "markdown",
   "metadata": {},
   "source": [
    "* Training accuracy rises as model complexity increases\n",
    "* Testing accuracy penalizes models that are too complex or not complex enough\n",
    "* For KNN models, complexity is determined by the value of K (lower value = more complex)\n",
    "\n",
    "### Making predictions on out-of-sample data"
   ]
  },
  {
   "cell_type": "code",
   "execution_count": 55,
   "metadata": {},
   "outputs": [
    {
     "data": {
      "text/plain": [
       "array([1])"
      ]
     },
     "execution_count": 55,
     "metadata": {},
     "output_type": "execute_result"
    }
   ],
   "source": [
    "# instantiate the model with the best known parameters\n",
    "knn = KNeighborsClassifier(n_neighbors=11)\n",
    "\n",
    "# train the model with X and y (not X_train and y_train)\n",
    "knn.fit(X, y)\n",
    "\n",
    "# make a prediction for an out-of-sample observation\n",
    "knn.predict([[3, 5, 4, 2]])"
   ]
  },
  {
   "cell_type": "markdown",
   "metadata": {},
   "source": [
    "###  Downsides of train/test split?\n",
    "* Provides a high-variance estimate of out-of-sample accuracy\n",
    "* K-fold cross-validation overcomes this limitation\n",
    "* But, train/test split is still useful because of its flexibility and speed\n",
    "### Resources\n",
    "* Quora: [What is an intuitive explanation of overfitting?](http://www.quora.com/What-is-an-intuitive-explanation-of-overfitting/answer/Jessica-Su)\n",
    "* Video: [Estimating prediction error](https://www.youtube.com/watch?v=_2ij6eaaSl0&t=2m34s) (12 minutes, starting at 2:34) by Hastie and Tibshirani\n",
    "* [Understanding the Bias-Variance Tradeoff](http://scott.fortmann-roe.com/docs/BiasVariance.html)\n",
    "    * [Guiding questions](https://github.com/justmarkham/DAT8/blob/master/homework/09_bias_variance.md) when reading this article\n",
    "* Video: [Visualizing bias and variance](http://work.caltech.edu/library/081.html) (15 minutes) by Abu-Mostafa\n"
   ]
  },
  {
   "cell_type": "markdown",
   "metadata": {},
   "source": [
    "<a  id='Lecture6'></a>\n",
    "## Lecture 6: [Data science in Python: pandas, seaborn, scikit-learn ](https://www.youtube.com/watch?v=3ZWuPVWq7p4)\n",
    "\n",
    "Published on May 28, 2015\n",
    "\n",
    "In this video, we'll cover the data science pipeline from data ingestion (with pandas) to data visualization (with seaborn) to machine learning (with scikit-learn). We'll learn how to train and interpret a linear regression model, and then compare three possible evaluation metrics for regression problems. Finally, we'll apply the train/test split procedure to decide which features to include in our model.\n",
    "\n",
    "This is the sixth video in the series: \"Introduction to machine learning with scikit-learn\". Read more about this video here: http://blog.kaggle.com/2015/05/28/scikit-learn-video-6-linear-regression-plus-pandas-seaborn/\n",
    "\n",
    "The IPython notebook shown in the video is available on GitHub:\n",
    "https://github.com/justmarkham/scikit-learn-videos\n",
    "\n",
    "== RESOURCES ==\n",
    "\n",
    "Pandas installation instructions: http://pandas.pydata.org/pandas-docs/stable/install.html\n",
    "\n",
    "Seaborn installation instructions: http://seaborn.pydata.org/installing.html\n",
    "\n",
    "Longer linear regression notebook: https://github.com/justmarkham/DAT5/blob/master/notebooks/09_linear_regression.ipynb\n",
    "\n",
    "Chapter 3 of Introduction to Statistical Learning: http://www-bcf.usc.edu/~gareth/ISL/\n",
    "\n",
    "Videos related to Chapter 3: http://www.dataschool.io/15-hours-of-expert-machine-learning-videos/\n",
    "\n",
    "Quick reference guide to linear regression: http://www.dataschool.io/applying-and-interpreting-linear-regression/\n",
    "\n",
    "Introduction to linear regression: http://people.duke.edu/~rnau/regintro.htm\n",
    "\n",
    "Pandas 3-part tutorial: http://www.gregreda.com/2013/10/26/intro-to-pandas-data-structures/\n",
    "\n",
    "Pandas read_csv documentation: http://pandas.pydata.org/pandas-docs/stable/generated/pandas.read_csv.html\n",
    "\n",
    "Pandas read_table documentation: http://pandas.pydata.org/pandas-docs/stable/generated/pandas.read_table.html\n",
    "\n",
    "Seaborn tutorial: http://seaborn.pydata.org/tutorial.html\n",
    "\n",
    "Seaborn example gallery: http://seaborn.pydata.org/examples/index.html\n",
    "\n",
    "== SUBSCRIBE! ==\n",
    "https://www.youtube.com/user/dataschool?sub_confirmation=1\n",
    "\n",
    "== LET'S CONNECT! ==\n",
    "Blog: http://www.dataschool.io\n",
    "Newsletter: http://www.dataschool.io/subscribe/\n",
    "Twitter: https://twitter.com/justmarkham\n",
    "GitHub: https://github.com/justmarkham"
   ]
  },
  {
   "cell_type": "markdown",
   "metadata": {},
   "source": [
    "From the video series: [Introduction to machine learning with scikit-learn](https://github.com/justmarkham/scikit-learn-videos)\n",
    "### Agenda\n",
    "* How do I use the **pandas library** to read data into Python?\n",
    "* How do I use the **seaborn library** to visualize data?\n",
    "* What is **linear regression**, and how does it work?\n",
    "* How do I **train and interpret** a linear regression model in scikit-learn?\n",
    "* What are some **evaluation metrics** for regression problems?\n",
    "* How do I choose **which features to include** in my model?\n",
    "\n",
    "### Types of supervised learning\n",
    "\n",
    "* **Classification:** Predict a categorical response\n",
    "    * So far in this series (means in the previous videos), we focussed on classification - in which the goal is to predict a categorical/discrete response.\n",
    "* **Regression:** Predict a continuous response\n",
    "    * Regression problems are the focus of this video/tutorial.\n",
    "\n",
    "### Reading data using pandas\n",
    "\n",
    "**Pandas:** popular Python library for **data exploration, manipulation, and analysis**\n",
    "\n",
    "* Anaconda users: pandas (kp: and its dependencies) is already installed\n",
    "* Other users: [installation instructions](http://pandas.pydata.org/pandas-docs/stable/install.html)\n",
    "\n"
   ]
  },
  {
   "cell_type": "code",
   "execution_count": 57,
   "metadata": {
    "collapsed": true
   },
   "outputs": [],
   "source": [
    "# conventional way to import pandas\n",
    "import pandas as pd"
   ]
  },
  {
   "cell_type": "markdown",
   "metadata": {},
   "source": [
    "The following dataset (for today's lesson) is selected from a book called Introductory Statistical Learning (which is posted online as a csv file, which stands for \"comma separated values\" (kp: remember that most of my text datafiles are 'space' separated)). In the csv file, each observation is a single line and fields/features are separated by commas.\n",
    "\n",
    "Pandas provides a function 'read_csv(..)' to read the csv files and we can use it to read a local file or a file on the web using its url.\n",
    "\n",
    "To learn more about it, we can look at the **'help' for the 'read_csv'** - which can be done by placing the cursor inside the parenthesis of 'read_csv(..)' below and hitting **'Shift+Tab'**, once or twice to see the help in two different ways/forms/sizes. If we put the cursor elsewhere, we'll see the help for that element or object.\n",
    "\n",
    "We can see from the help that the 'read_csv()' has ton of parameters that allows us to control the csv reading process in great detail. In our case we need to use the index_col parameter which allows us to set a specific column as the index. In our case, when we use  index_col=0, we set the unnamed column (the first one) as the index. If we didn't do that then the indexing would be set by default and that would start from 0, and we would have one additional column showing up for those default indices."
   ]
  },
  {
   "cell_type": "code",
   "execution_count": 89,
   "metadata": {},
   "outputs": [
    {
     "data": {
      "text/html": [
       "<div>\n",
       "<style>\n",
       "    .dataframe thead tr:only-child th {\n",
       "        text-align: right;\n",
       "    }\n",
       "\n",
       "    .dataframe thead th {\n",
       "        text-align: left;\n",
       "    }\n",
       "\n",
       "    .dataframe tbody tr th {\n",
       "        vertical-align: top;\n",
       "    }\n",
       "</style>\n",
       "<table border=\"1\" class=\"dataframe\">\n",
       "  <thead>\n",
       "    <tr style=\"text-align: right;\">\n",
       "      <th></th>\n",
       "      <th>TV</th>\n",
       "      <th>radio</th>\n",
       "      <th>newspaper</th>\n",
       "      <th>sales</th>\n",
       "    </tr>\n",
       "  </thead>\n",
       "  <tbody>\n",
       "    <tr>\n",
       "      <th>1</th>\n",
       "      <td>230.1</td>\n",
       "      <td>37.8</td>\n",
       "      <td>69.2</td>\n",
       "      <td>22.1</td>\n",
       "    </tr>\n",
       "    <tr>\n",
       "      <th>2</th>\n",
       "      <td>44.5</td>\n",
       "      <td>39.3</td>\n",
       "      <td>45.1</td>\n",
       "      <td>10.4</td>\n",
       "    </tr>\n",
       "    <tr>\n",
       "      <th>3</th>\n",
       "      <td>17.2</td>\n",
       "      <td>45.9</td>\n",
       "      <td>69.3</td>\n",
       "      <td>9.3</td>\n",
       "    </tr>\n",
       "    <tr>\n",
       "      <th>4</th>\n",
       "      <td>151.5</td>\n",
       "      <td>41.3</td>\n",
       "      <td>58.5</td>\n",
       "      <td>18.5</td>\n",
       "    </tr>\n",
       "    <tr>\n",
       "      <th>5</th>\n",
       "      <td>180.8</td>\n",
       "      <td>10.8</td>\n",
       "      <td>58.4</td>\n",
       "      <td>12.9</td>\n",
       "    </tr>\n",
       "  </tbody>\n",
       "</table>\n",
       "</div>"
      ],
      "text/plain": [
       "      TV  radio  newspaper  sales\n",
       "1  230.1   37.8       69.2   22.1\n",
       "2   44.5   39.3       45.1   10.4\n",
       "3   17.2   45.9       69.3    9.3\n",
       "4  151.5   41.3       58.5   18.5\n",
       "5  180.8   10.8       58.4   12.9"
      ]
     },
     "execution_count": 89,
     "metadata": {},
     "output_type": "execute_result"
    }
   ],
   "source": [
    "# read CSV file directly from a URL and save the results\n",
    "#data = pd.read_csv('http://www-bcf.usc.edu/~gareth/ISL/Advertising.csv', index_col=0)\n",
    "#kp: or equivalently, download and save the file to ./data/ folder and read it from there\n",
    "data = pd.read_csv('data/Advertising.csv', index_col=0)\n",
    "\n",
    "# display the first 5 rows\n",
    "data.head()"
   ]
  },
  {
   "cell_type": "markdown",
   "metadata": {},
   "source": [
    "Primary object types:\n",
    "* **DataFrame**: rows and columns (like a spreadsheet)\n",
    "    * kp: While dealing with 'iris dataset' (see prev. lectures) we had 'features matrix' (represented by 'X') equivalently. But this was a member of the class dedicated to the iris dataset. \n",
    "    * kp: In the above case, the object 'data' represents the **DataFrame**.\n",
    "* **Series**: a single column\n",
    "    * kp: Likewise, in the case of the 'iris dataset', we had the 'response vector' (represented by the small case 'x') as a member of the same class related to the iris dataset.\n",
    "\n"
   ]
  },
  {
   "cell_type": "code",
   "execution_count": 62,
   "metadata": {},
   "outputs": [
    {
     "data": {
      "text/html": [
       "<div>\n",
       "<style>\n",
       "    .dataframe thead tr:only-child th {\n",
       "        text-align: right;\n",
       "    }\n",
       "\n",
       "    .dataframe thead th {\n",
       "        text-align: left;\n",
       "    }\n",
       "\n",
       "    .dataframe tbody tr th {\n",
       "        vertical-align: top;\n",
       "    }\n",
       "</style>\n",
       "<table border=\"1\" class=\"dataframe\">\n",
       "  <thead>\n",
       "    <tr style=\"text-align: right;\">\n",
       "      <th></th>\n",
       "      <th>TV</th>\n",
       "      <th>radio</th>\n",
       "      <th>newspaper</th>\n",
       "      <th>sales</th>\n",
       "    </tr>\n",
       "  </thead>\n",
       "  <tbody>\n",
       "    <tr>\n",
       "      <th>196</th>\n",
       "      <td>38.2</td>\n",
       "      <td>3.7</td>\n",
       "      <td>13.8</td>\n",
       "      <td>7.6</td>\n",
       "    </tr>\n",
       "    <tr>\n",
       "      <th>197</th>\n",
       "      <td>94.2</td>\n",
       "      <td>4.9</td>\n",
       "      <td>8.1</td>\n",
       "      <td>9.7</td>\n",
       "    </tr>\n",
       "    <tr>\n",
       "      <th>198</th>\n",
       "      <td>177.0</td>\n",
       "      <td>9.3</td>\n",
       "      <td>6.4</td>\n",
       "      <td>12.8</td>\n",
       "    </tr>\n",
       "    <tr>\n",
       "      <th>199</th>\n",
       "      <td>283.6</td>\n",
       "      <td>42.0</td>\n",
       "      <td>66.2</td>\n",
       "      <td>25.5</td>\n",
       "    </tr>\n",
       "    <tr>\n",
       "      <th>200</th>\n",
       "      <td>232.1</td>\n",
       "      <td>8.6</td>\n",
       "      <td>8.7</td>\n",
       "      <td>13.4</td>\n",
       "    </tr>\n",
       "  </tbody>\n",
       "</table>\n",
       "</div>"
      ],
      "text/plain": [
       "        TV  radio  newspaper  sales\n",
       "196   38.2    3.7       13.8    7.6\n",
       "197   94.2    4.9        8.1    9.7\n",
       "198  177.0    9.3        6.4   12.8\n",
       "199  283.6   42.0       66.2   25.5\n",
       "200  232.1    8.6        8.7   13.4"
      ]
     },
     "execution_count": 62,
     "metadata": {},
     "output_type": "execute_result"
    }
   ],
   "source": [
    "# display the last 5 rows\n",
    "data.tail()"
   ]
  },
  {
   "cell_type": "code",
   "execution_count": 63,
   "metadata": {},
   "outputs": [
    {
     "data": {
      "text/plain": [
       "(200, 4)"
      ]
     },
     "execution_count": 63,
     "metadata": {},
     "output_type": "execute_result"
    }
   ],
   "source": [
    "# check the shape of the DataFrame (rows, columns)\n",
    "data.shape"
   ]
  },
  {
   "cell_type": "markdown",
   "metadata": {
    "collapsed": true
   },
   "source": [
    "**Now that we've read in the data, let's talk about the data and how to structure it as a supervised learning task.**\n",
    "\n",
    "What are the features?\n",
    "* **TV:** advertising dollars spent on TV for a single product in a given market (in thousands of dollars)\n",
    "* **Radio:** advertising dollars spent on Radio\n",
    "* **Newspaper:** advertising dollars spent on Newspaper\n",
    "\n",
    "What is the response?\n",
    "\n",
    "* **Sales:** sales of a single product in a given market (in thousands of items)\n",
    "\n",
    "What else do we know?\n",
    "\n",
    "* Because the response variable is continuous, this is a regression problem.\n",
    "* There are 200 observations (represented by the rows), and **each observation is a single market**.\n",
    "\n",
    "\n",
    "#### Visualizing data using seaborn\n",
    "\n",
    "Before we start working through the Machine Learning process, let's visualize our data to get a better feel for it. We're going to use the **Seaborn** library for this purpose.\n",
    "\n",
    "**Seaborn:** Python library for statistical data visualization built on top of Matplotlib\n",
    "\n",
    "* Anaconda users: run conda install seaborn from the command line\n",
    "* Other users: [installation instructions](http://stanford.edu/~mwaskom/software/seaborn/installing.html)\n",
    "    * kp: Since I was using python 2 (/usr/local/bin/python2), I thought I needed to use \"pip2 install seaborn\" (using /usr/local/bin/pip2) to install, which I did and I ran the following cell, which didn't produce errors anymore (I was seeing some before)."
   ]
  },
  {
   "cell_type": "code",
   "execution_count": 67,
   "metadata": {
    "collapsed": true
   },
   "outputs": [],
   "source": [
    "# conventional way to import seaborn\n",
    "import seaborn as sns\n",
    "\n",
    "# allow plots to appear within the notebook\n",
    "%matplotlib inline"
   ]
  },
  {
   "cell_type": "markdown",
   "metadata": {},
   "source": [
    "kp: In the following, initially, I simply copied the code from https://github.com/justmarkham/scikit-learn-videos/blob/master/06_linear_regression.ipynb which was using Radio, Newspaper and Sales instead of the small case words and thus it produced errors without showing hte following scatter plots, indiciating that **seaborn or matplotlib was CASE-Sensitive**. Once I used the small case letters as seen from head or tail above, it worked as it was supposed to.\n",
    "\n",
    "kp: We're going to use the **pairplot(..)** function. Play with the arguments 'size' and 'aspect' (ratio) if you're not happy with the visibility of the data points or the overall look and feel of the plots.\n",
    "\n",
    "Without the \"kind='reg'\" option, we would only see the scatter plots, but with that option, Seaborn adds a line of best fit along with the 95% confidence band."
   ]
  },
  {
   "cell_type": "code",
   "execution_count": 91,
   "metadata": {},
   "outputs": [
    {
     "data": {
      "text/plain": [
       "<seaborn.axisgrid.PairGrid at 0x10e2504d0>"
      ]
     },
     "execution_count": 91,
     "metadata": {},
     "output_type": "execute_result"
    },
    {
     "data": {
      "image/png": "[encoded data removed]",
      "text/plain": [
       "<matplotlib.figure.Figure at 0x10e250510>"
      ]
     },
     "metadata": {},
     "output_type": "display_data"
    }
   ],
   "source": [
    "# visualize the relationship between the features and the response using scatterplots\n",
    "sns.pairplot(data, x_vars=['TV','radio','newspaper'], y_vars='sales', size=7, aspect=0.7, kind='reg')"
   ]
  },
  {
   "cell_type": "markdown",
   "metadata": {},
   "source": [
    "From the seaborn scatter-plots, because there appears to be a linear relationship between the features and the response, this is a great candidate for the **linear regression** method.\n",
    "\n",
    "### Linear regression (LR)\n",
    "Linear regression is quite a deep topic, but let's have a brief introduction of linear regression before we implement it in scikit-learn.\n",
    "\n",
    "First of all the **regression** and **linear regression**.\n",
    "\n",
    "Regression, as it relates to ML, is simply a type of supervised learning problem, in which the response is continuous. Linear regression is a particular ML model that can be used for regression problems, and it just happens to have the word 'regression' in its name. Anyway, LR is a very popular modeling technique for four main reasons.\n",
    "1) It runs quickly, which becomes increasingly important as the size of your dataset increases.\n",
    "2) There is no tuning required in the way that we had to tune the value of K for KNN, which makdes it easy to get started.\n",
    "3) It is highly interpretable, meaning that you can easily understand the model and how it's making predictions.\n",
    "4) It's been studied for many years and is well understood and thus there is a vast amount of literature on the topic of how to use LR properly.\n",
    "\n",
    "In terms of drawbacks/Cons, the main drawback to LR is that it's unlikely to produce the best predictive accuracy as compared to other models. This is because LR presumes a relationship between the features and the response. If the relationship is highly nonlinear, as happens in many real-world scenarios, LR will be unable to effectively model the relationship and thus its predictions will not be very accurate.\n",
    "\n",
    "**Summary of Pros and Cons**\n",
    "\n",
    "**Pros:** fast, no tuning required, highly interpretable, well-understood\n",
    "\n",
    "**Cons:** unlikely to produce the best predictive accuracy (presumes a linear relationship between the features and response)\n",
    "\n",
    "\n",
    "#### Form of linear regression\n",
    "Let's look at the functional form of LR, in order to gain an understanding of how it works. It can be represented as follows:\n",
    "\n",
    "$y = \\beta_0 + \\beta_1 x_1 + \\beta_2 x_2 + ... + \\beta_n x_n$\n",
    "* $y$ is the response\n",
    "* $\\beta_0$ (kp: called 'beta-nought' or 'beta-zero') is the called the intercept\n",
    "    * intercept is the value of y when all of the x (i.e. $x_n$) values are zero.\n",
    "* $\\beta_1$ is the coefficient for $x_1$ (the first feature)\n",
    "* $\\beta_n$ is the coefficient for $x_n$ (the nth feature)\n",
    "\n",
    "Here, as is obvious, 'n' is the number of features.\n",
    "\n",
    "In this case:\n",
    "\n",
    "$y = \\beta_0 + \\beta_1 \\times TV + \\beta_2 \\times Radio + \\beta_3 \\times Newspaper$\n",
    "\n",
    "The $\\beta$ values are called the **model coefficients**. These values are \"learned\" during the model fitting step using what is called the \"least squares\" criterion. Basically the LR seeks to find the line that best fits the observed data - as the one that minimizes the sum of squared errors, which is really just the sum of the squared vertical distances between each point and the line.\n",
    "\n",
    "Then, the fitted model can then be used to make predictions!\n",
    "\n",
    "### Preparing X and y using pandas\n",
    "\n",
    "Before we start the modelling processing with **SL (scikit-learn)**, we first have to define the feature matrix X and the response vector y (kp: just as we did with the iris-data set video but without using the pandas ..). Remember that SL is expecting X and y to be [NumPy arrays](https://www.learnpython.org/en/Numpy_Arrays) (kp: [NumPy Array tutorial](https://www.datacamp.com/community/tutorials/python-numpy-tutorial)). However, we're lucky in that Pandas is built on top of NumPy, meaning that there is a NumPy array actually storing the DataFrame data. Thus, X can be a pandas DataFrame and y can be a pandas Series and SL will understand how to access the underlying NumPy arrays. To sum up:\n",
    "\n",
    "* scikit-learn expects X (feature matrix) and y (response vector) to be NumPy arrays.\n",
    "* However, pandas is built on top of NumPy.\n",
    "* Thus, X can be a pandas DataFrame and y can be a pandas Series!\n",
    "\n",
    "Let's start with X. What we need to create is a dataframe that contains only our three feature columns. So, first let's create a Python list called 'feature_cols' that contains the names of our feature columns."
   ]
  },
  {
   "cell_type": "code",
   "execution_count": 93,
   "metadata": {},
   "outputs": [
    {
     "data": {
      "text/html": [
       "<div>\n",
       "<style>\n",
       "    .dataframe thead tr:only-child th {\n",
       "        text-align: right;\n",
       "    }\n",
       "\n",
       "    .dataframe thead th {\n",
       "        text-align: left;\n",
       "    }\n",
       "\n",
       "    .dataframe tbody tr th {\n",
       "        vertical-align: top;\n",
       "    }\n",
       "</style>\n",
       "<table border=\"1\" class=\"dataframe\">\n",
       "  <thead>\n",
       "    <tr style=\"text-align: right;\">\n",
       "      <th></th>\n",
       "      <th>TV</th>\n",
       "      <th>radio</th>\n",
       "      <th>newspaper</th>\n",
       "    </tr>\n",
       "  </thead>\n",
       "  <tbody>\n",
       "    <tr>\n",
       "      <th>1</th>\n",
       "      <td>230.1</td>\n",
       "      <td>37.8</td>\n",
       "      <td>69.2</td>\n",
       "    </tr>\n",
       "    <tr>\n",
       "      <th>2</th>\n",
       "      <td>44.5</td>\n",
       "      <td>39.3</td>\n",
       "      <td>45.1</td>\n",
       "    </tr>\n",
       "    <tr>\n",
       "      <th>3</th>\n",
       "      <td>17.2</td>\n",
       "      <td>45.9</td>\n",
       "      <td>69.3</td>\n",
       "    </tr>\n",
       "    <tr>\n",
       "      <th>4</th>\n",
       "      <td>151.5</td>\n",
       "      <td>41.3</td>\n",
       "      <td>58.5</td>\n",
       "    </tr>\n",
       "    <tr>\n",
       "      <th>5</th>\n",
       "      <td>180.8</td>\n",
       "      <td>10.8</td>\n",
       "      <td>58.4</td>\n",
       "    </tr>\n",
       "  </tbody>\n",
       "</table>\n",
       "</div>"
      ],
      "text/plain": [
       "      TV  radio  newspaper\n",
       "1  230.1   37.8       69.2\n",
       "2   44.5   39.3       45.1\n",
       "3   17.2   45.9       69.3\n",
       "4  151.5   41.3       58.5\n",
       "5  180.8   10.8       58.4"
      ]
     },
     "execution_count": 93,
     "metadata": {},
     "output_type": "execute_result"
    }
   ],
   "source": [
    "# create a Python list of feature names\n",
    "feature_cols = ['TV', 'radio', 'newspaper']\n",
    "\n",
    "# use the list to select a subset of the original DataFrame\n",
    "X = data[feature_cols]\n",
    "\n",
    "# equivalent command to do this in one line (kp: instead of above two.)\n",
    "X = data[['TV', 'radio', 'newspaper']]\n",
    "\n",
    "# print the first 5 rows (to confirm that the option worked)\n",
    "X.head()"
   ]
  },
  {
   "cell_type": "markdown",
   "metadata": {},
   "source": [
    "We can see that X is still a DataFrame but containing only three feature columns.\n",
    "\n",
    "The double brackets above on data[[python-list]] can be confusing, so just remember that the outer bracket is how you tell Padas that you wanna select a subset of DataFrame columns and the inner bracket is how you define a python-list. \n",
    "\n",
    "(kp: **Note** that 'data' is not the name of a standard pandas class or object. It's simply the name of the variable of the type DataFrame. We could have given any name above and used that name subsequently in getting X or y) "
   ]
  },
  {
   "cell_type": "code",
   "execution_count": 95,
   "metadata": {},
   "outputs": [
    {
     "name": "stdout",
     "output_type": "stream",
     "text": [
      "<class 'pandas.core.frame.DataFrame'>\n",
      "(200, 3)\n"
     ]
    }
   ],
   "source": [
    "# check the type and shape of X\n",
    "print(type(X)) #kp: to confirm that its still a DataFrame\n",
    "print(X.shape) #kp: to confirm that it contains 200 rows and 3 feature columns"
   ]
  },
  {
   "cell_type": "code",
   "execution_count": 96,
   "metadata": {},
   "outputs": [
    {
     "data": {
      "text/plain": [
       "1    22.1\n",
       "2    10.4\n",
       "3     9.3\n",
       "4    18.5\n",
       "5    12.9\n",
       "Name: sales, dtype: float64"
      ]
     },
     "execution_count": 96,
     "metadata": {},
     "output_type": "execute_result"
    }
   ],
   "source": [
    "# select a Series from the DataFrame\n",
    "y = data['sales']  #kp: Note that this time we're using only one set of brackets.\n",
    "\n",
    "# equivalent command that works if there are no spaces in the column name\n",
    "y = data.sales #kp: use the same name (case-sensitive) as the variable ('sales' not 'Sales' etc)\n",
    "\n",
    "# print the first 5 values\n",
    "y.head()"
   ]
  },
  {
   "cell_type": "code",
   "execution_count": 76,
   "metadata": {},
   "outputs": [
    {
     "name": "stdout",
     "output_type": "stream",
     "text": [
      "<class 'pandas.core.series.Series'>\n",
      "(200,)\n"
     ]
    }
   ],
   "source": [
    "# check the type and shape of y\n",
    "print(type(y))\n",
    "print(y.shape)"
   ]
  },
  {
   "cell_type": "markdown",
   "metadata": {},
   "source": [
    "### Splitting X and y into training and testing sets\n",
    "For model evaluation we need some dataset to test the model after its training. As in the previous video (on iris-dataset) we want to do that by splitting the data set into two and using the first one for training and the other one for the testing. For that we want use train_test_split(..) method to split X and y into two each."
   ]
  },
  {
   "cell_type": "code",
   "execution_count": 97,
   "metadata": {
    "collapsed": true
   },
   "outputs": [],
   "source": [
    "from sklearn.cross_validation import train_test_split\n",
    "X_train, X_test, y_train, y_test = train_test_split(X, y, random_state=1)"
   ]
  },
  {
   "cell_type": "code",
   "execution_count": 98,
   "metadata": {},
   "outputs": [
    {
     "name": "stdout",
     "output_type": "stream",
     "text": [
      "(150, 3)\n",
      "(150,)\n",
      "(50, 3)\n",
      "(50,)\n"
     ]
    }
   ],
   "source": [
    "# default split is 75% for training and 25% for testing\n",
    "print(X_train.shape)\n",
    "print(y_train.shape)\n",
    "print(X_test.shape)\n",
    "print(y_test.shape)"
   ]
  },
  {
   "cell_type": "markdown",
   "metadata": {},
   "source": [
    "we didn't specify the size of the testing set, and so it defaults to using 25% of the data for testing and the rest for the training sample.\n",
    "\n",
    "### Linear regression in scikit-learn (SKL or SL)\n",
    "\n",
    "Finally, lets actually build our linear regression model using SKL. We follow the same pattern that we've used previously, which is to \"import, instantiate, fit and predict/test\"."
   ]
  },
  {
   "cell_type": "code",
   "execution_count": 99,
   "metadata": {},
   "outputs": [
    {
     "data": {
      "text/plain": [
       "LinearRegression(copy_X=True, fit_intercept=True, n_jobs=1, normalize=False)"
      ]
     },
     "execution_count": 99,
     "metadata": {},
     "output_type": "execute_result"
    }
   ],
   "source": [
    "# import model\n",
    "from sklearn.linear_model import LinearRegression\n",
    "\n",
    "# instantiate\n",
    "linreg = LinearRegression()\n",
    "\n",
    "# fit the model to the training data (learn the coefficients)\n",
    "linreg.fit(X_train, y_train)"
   ]
  },
  {
   "cell_type": "markdown",
   "metadata": {},
   "source": [
    "Every model differs in terms of what occurs during the fitting step. In the case of KNN classifier, all the model did during fitting was to memorize the training data so that it could later calculate the distance between a new observation and the existing observations. In the case of LR, the model is learning the intercept and the coefficients for the line of best fit. Then it has an easy formula for making predictions during the predict step, which we'll see below.\n",
    "\n",
    "#### Interpreting model coefficients\n",
    "\n",
    "As mentioned previously, LR is a highly interpretable model. Let's see what that means by printing out the intercept and the coefficients and then interpreting them. "
   ]
  },
  {
   "cell_type": "code",
   "execution_count": 100,
   "metadata": {},
   "outputs": [
    {
     "name": "stdout",
     "output_type": "stream",
     "text": [
      "2.87696662232\n",
      "[ 0.04656457  0.17915812  0.00345046]\n"
     ]
    }
   ],
   "source": [
    "# print the intercept and coefficients\n",
    "print(linreg.intercept_)\n",
    "print(linreg.coef_)"
   ]
  },
  {
   "cell_type": "markdown",
   "metadata": {},
   "source": [
    "The intercept and coefficients are stored in separate attributes of the **linreg** object namely **intercept** and **coef** attributes of the linreg object (note the use of the trailing **underscore** when using the dot-notation to access the attributes, which is **SKL's convention** for any attributes that were estimated from the data).\n",
    "\n",
    "Anyway, the coefficients are stored in the **coef** attribute, in the same order as they were stored in the feature matrix X. It can be **hard to remember that order** (especially when there are lots (tens or hundreds or more) of features), so we can **use Python's zip function to pair** each of the feature names from the feature_cols list with the coefficients."
   ]
  },
  {
   "cell_type": "code",
   "execution_count": 79,
   "metadata": {},
   "outputs": [
    {
     "data": {
      "text/plain": [
       "[('TV', -0.15615389365323099),\n",
       " ('radio', -0.021642394876835891),\n",
       " ('newspaper', 0.23163615241203361)]"
      ]
     },
     "execution_count": 79,
     "metadata": {},
     "output_type": "execute_result"
    }
   ],
   "source": [
    "# pair the feature names with the coefficients\n",
    "list(zip(feature_cols, linreg.coef_))"
   ]
  },
  {
   "cell_type": "markdown",
   "metadata": {},
   "source": [
    "$$y = 2.88 + 0.0466 \\times TV + 0.179 \\times Radio + 0.00345 \\times Newspaper$$\n",
    "\n",
    "How do we interpret the TV coefficient (0.0466)?\n",
    "\n",
    "* For a given amount of Radio and Newspaper ad spending, a \"unit\" increase in TV ad spending is associated with a 0.0466 \"unit\" increase in Sales.\n",
    "* Or more clearly: For a given amount of Radio and Newspaper ad spending, an additional $\\$1,000$ spent on TV ads is associated with an increase in sales of 46.6 items.\n",
    "\n",
    "Before we move on to the prediction step, lets stop for two important notes. First, I was careful to use the phrase \"associated with\" when interpreting the TV coefficient, because this is not a claim of causation. It's a very difficult problem to determine causation because that relies upon having access to every possible factor that could have influenced sales, whereas all we have is data on Ad-spending. This is why ML tends to focus on association rather than on causation. Second, I wanna make it clear that LR coefficients can be negative. For instance, if an increase in TV-Ad-spending was associated with decrease in sales, the $\\beta_1$ coefficient would have been negative.\n",
    "\n",
    "Important notes summary:\n",
    "\n",
    "* This is a statement of **association, not causation.**\n",
    "* If an increase in TV ad spending was associated with a decrease in sales, $\\beta_1$ would be negative.\n",
    "\n",
    "#### Making predictions"
   ]
  },
  {
   "cell_type": "code",
   "execution_count": 104,
   "metadata": {
    "collapsed": true
   },
   "outputs": [],
   "source": [
    "# make predictions on the testing set\n",
    "y_pred = linreg.predict(X_test)"
   ]
  },
  {
   "cell_type": "markdown",
   "metadata": {},
   "source": [
    "We need an **evaluation metric** in order to compare our predictions with the actual values!\n",
    "\n",
    "### Model evaluation metrics for regression\n",
    "\n",
    "Evaluation metrics for classification problems, such as **accuracy**, are not useful for regression problems. Instead, we need evaluation metrics designed for comparing continuous values.\n",
    "\n",
    "Let's create some example numeric predictions, and calculate **three common evaluation metrics** for regression problems:\n",
    "\n",
    "kp: Following are contrived values (_google: contrived adj deliberately created rather than arising naturally or spontaneously; created or arranged in a way that seems artificial and unrealistic.   \"the ending of the novel is too pat and contrived\"_)"
   ]
  },
  {
   "cell_type": "code",
   "execution_count": 81,
   "metadata": {
    "collapsed": true
   },
   "outputs": [],
   "source": [
    "# define true and predicted response values\n",
    "true = [100, 50, 30, 20]\n",
    "pred = [90, 50, 50, 30]"
   ]
  },
  {
   "cell_type": "markdown",
   "metadata": {},
   "source": [
    "The simplest metric is the **Mean Absolute Error (MAE)** which is the mean of the absolute value of the errors:\n",
    "$$\\frac 1n\\sum_{i=1}^n|y_i-\\hat{y}_i|$$\n"
   ]
  },
  {
   "cell_type": "code",
   "execution_count": 82,
   "metadata": {},
   "outputs": [
    {
     "name": "stdout",
     "output_type": "stream",
     "text": [
      "10.0\n",
      "10.0\n"
     ]
    }
   ],
   "source": [
    "# calculate MAE by hand\n",
    "print((10 + 0 + 20 + 10)/4.)\n",
    "\n",
    "# calculate MAE using scikit-learn\n",
    "from sklearn import metrics\n",
    "print(metrics.mean_absolute_error(true, pred))"
   ]
  },
  {
   "cell_type": "markdown",
   "metadata": {},
   "source": [
    "**Mean Squared Error (MSE)** (kp: this is equal to the square of RMS (root-mean-squared)) is the mean of the squared errors:\n",
    "$$\\frac 1n\\sum_{i=1}^n(y_i-\\hat{y}_i)^2$$\n"
   ]
  },
  {
   "cell_type": "code",
   "execution_count": 83,
   "metadata": {},
   "outputs": [
    {
     "name": "stdout",
     "output_type": "stream",
     "text": [
      "150.0\n",
      "150.0\n"
     ]
    }
   ],
   "source": [
    "# calculate MSE by hand\n",
    "print((10**2 + 0**2 + 20**2 + 10**2)/4.)\n",
    "\n",
    "# calculate MSE using scikit-learn\n",
    "print(metrics.mean_squared_error(true, pred))"
   ]
  },
  {
   "cell_type": "markdown",
   "metadata": {},
   "source": [
    "**Root Mean Squared Error (RMSE)** is the square root of the mean of the squared errors:\n",
    "$$\\sqrt{\\frac 1n\\sum_{i=1}^n(y_i-\\hat{y}_i)^2}$$"
   ]
  },
  {
   "cell_type": "code",
   "execution_count": 84,
   "metadata": {},
   "outputs": [
    {
     "name": "stdout",
     "output_type": "stream",
     "text": [
      "12.2474487139\n",
      "12.2474487139\n"
     ]
    }
   ],
   "source": [
    "# calculate RMSE by hand\n",
    "import numpy as np\n",
    "print(np.sqrt((10**2 + 0**2 + 20**2 + 10**2)/4.))\n",
    "\n",
    "# calculate RMSE using scikit-learn\n",
    "print(np.sqrt(metrics.mean_squared_error(true, pred)))"
   ]
  },
  {
   "cell_type": "markdown",
   "metadata": {},
   "source": [
    "Comparing these metrics:\n",
    "\n",
    "* **MAE** is the easiest to understand, because it's the average error.\n",
    "* **MSE** is more popular than MAE, because MSE \"punishes\" larger errors.\n",
    "* **RMSE** is even more popular than MSE, because RMSE is interpretable in the \"y\" units.\n",
    "\n",
    "### Computing the RMSE for our Sales predictions"
   ]
  },
  {
   "cell_type": "code",
   "execution_count": 105,
   "metadata": {},
   "outputs": [
    {
     "name": "stdout",
     "output_type": "stream",
     "text": [
      "1.40465142303\n"
     ]
    }
   ],
   "source": [
    "print(np.sqrt(metrics.mean_squared_error(y_test, y_pred)))"
   ]
  },
  {
   "cell_type": "markdown",
   "metadata": {},
   "source": [
    "Which is about 1.4, and seems pretty good because our sales ranged from about 5 to 25.\n",
    "\n",
    "So, what should we do from here? In the last video, we saw that the train test split could help us to choose between different models and different tuning parameters. LR doesn't have any tuning parameters (kp: how about the slopes or coeffs. and intercept?) and we haven't yet learned about other models for Regression, so those options don't apply. However, note that the train-test-split can also help us to choose between features. When we visualized the data (see above scatter plots) we saw that the 'newspaper' feature appeared to have a very weak correlation with sales. Thus let's try removing that from our model and see how that affects the RMSE.\n",
    "\n",
    "### Feature selection\n",
    "\n",
    "Does **Newspaper** \"belong\" in our model? In other words, does it improve the quality of our predictions?\n",
    "\n",
    "Let's **remove** it from the model and check the RMSE!\n"
   ]
  },
  {
   "cell_type": "code",
   "execution_count": 87,
   "metadata": {},
   "outputs": [
    {
     "name": "stdout",
     "output_type": "stream",
     "text": [
      "1.38790346994\n"
     ]
    }
   ],
   "source": [
    "# create a Python list of feature names\n",
    "feature_cols = ['TV', 'radio']\n",
    "\n",
    "# use the list to select a subset of the original DataFrame\n",
    "X = data[feature_cols]\n",
    "\n",
    "# select a Series from the DataFrame\n",
    "y = data.sales\n",
    "\n",
    "# split into training and testing sets\n",
    "X_train, X_test, y_train, y_test = train_test_split(X, y, random_state=1)\n",
    "\n",
    "# fit the model to the training data (learn the coefficients)\n",
    "linreg.fit(X_train, y_train)\n",
    "\n",
    "# make predictions on the testing set\n",
    "y_pred = linreg.predict(X_test)\n",
    "\n",
    "# compute the RMSE of our predictions\n",
    "print(np.sqrt(metrics.mean_squared_error(y_test, y_pred)))\n"
   ]
  },
  {
   "cell_type": "markdown",
   "metadata": {},
   "source": [
    "The RMSE decreased when we removed Newspaper from the model. (Error is something we want to minimize, so a lower number for RMSE is better.) Thus, it is unlikely that this feature is useful for predicting Sales, and should be removed from the model.\n",
    "\n",
    "We can repeat the process with different combinations of features and select the combination with the lowest RMSE as the best combination to use for this particular problem.\n",
    "\n",
    "### Resources\n",
    "\n",
    "List of some great resources for going deeper into LR, Pandas, and Seabourn.\n",
    "\n",
    "### Linear regression:\n",
    "\n",
    "* [Longer notebook on linear regression](https://github.com/justmarkham/DAT5/blob/master/notebooks/09_linear_regression.ipynb) by the same author\n",
    "    * Uses the same data as this notebook, but it also includes other topics such as 'confidence intervals', hypothesis testing, p-values and r-squared.\n",
    "    * It also demonstrates LR using \"[statsmodels (SM)](http://www.statsmodels.org/stable/index.html)\" which is a Python library/module focused on statistics.\n",
    "        * kp: [statsmodels](http://www.statsmodels.org/stable/about.html#module-statsmodels) is a Python module that provides classes and functions for the estimation of many different statistical models, as well as for conducting statistical tests, and statistical data exploration. An extensive list of result statistics are available for each estimator. The results are tested against existing statistical packages to ensure that they are correct. The package is released under the open source Modified BSD (3-clause) license. The online documentation is hosted at statsmodels.org.\n",
    "        * kp: Since version 0.5.0 of statsmodels, you can use R-style formulas together with pandas data frames to fit your models.\n",
    "* Chapter 3 of [An Introduction to Statistical Learning](http://www-bcf.usc.edu/~gareth/ISL/) and [related videos](http://www.dataschool.io/15-hours-of-expert-machine-learning-videos/) by Hastie and Tibshirani (Stanford)\n",
    "    * Also uses the same dataset as this notebook but goes into LR in much more deepth than either of this author's notebooks. \n",
    "* [Quick reference guide to applying and interpreting linear regression](http://www.dataschool.io/applying-and-interpreting-linear-regression/) by me\n",
    "    * Written by the same author to summarise key points from the Chapter 3 mentioned above.\n",
    "* [Introduction to linear regression](http://people.duke.edu/~rnau/regintro.htm) by Robert Nau (Duke)\n",
    "    * Very detailed, mathematically thorough, and includes lots of useful advice if you wanna make the most of your LR models.\n",
    "\n",
    "Pandas:\n",
    "\n",
    "* [Three-part pandas tutorial](http://www.gregreda.com/2013/10/26/intro-to-pandas-data-structures/) by Greg Reda\n",
    "* [read_csv](http://pandas.pydata.org/pandas-docs/stable/generated/pandas.read_csv.html) and [read_table](http://pandas.pydata.org/pandas-docs/stable/generated/pandas.read_table.html) documentation\n",
    "\n",
    "Seaborn:\n",
    "\n",
    "* [Official seaborn tutorial](http://web.stanford.edu/~mwaskom/software/seaborn/tutorial.html)\n",
    "* [Example gallery](http://web.stanford.edu/~mwaskom/software/seaborn/examples/index.html)"
   ]
  },
  {
   "cell_type": "markdown",
   "metadata": {
    "collapsed": true
   },
   "source": [
    "<a id='Lecture7'></a>\n",
    "# Lecture 7: [Selecting the best model in scikit-learn using cross-validation](https://www.youtube.com/watch?v=6dbrR-WymjI#t=17.937416)\n",
    "\n",
    "Published on Jun 28, 2015\n",
    "\n",
    "In this video, we'll learn about K-fold cross-validation and how it can be used for selecting optimal tuning parameters, choosing between models, and selecting features. We'll compare cross-validation with the train/test split procedure, and we'll also discuss some variations of cross-validation that can result in more accurate estimates of model performance.\n",
    "\n",
    "This is the seventh video in the series: \"Introduction to machine learning with scikit-learn\". Read more about this video here:\n",
    "http://blog.kaggle.com/2015/06/29/sci...\n",
    "\n",
    "The IPython notebook shown in the video is available on GitHub:\n",
    "https://github.com/justmarkham/scikit...\n",
    "\n",
    "== RESOURCES ==\n",
    "Documentation on cross-validation: http://scikit-learn.org/stable/module...\n",
    "Documentation on model evaluation: http://scikit-learn.org/stable/module...\n",
    "GitHub issue on negative mean squared error: https://github.com/scikit-learn/sciki...\n",
    "An Introduction to Statistical Learning (book): http://www-bcf.usc.edu/~gareth/ISL/\n",
    "K-fold and leave-one-out cross-validation (video): https://www.youtube.com/watch?v=nZAM5...\n",
    "Cross-validation the right and wrong ways (video): https://www.youtube.com/watch?v=S06Jp...\n",
    "Accurately Measuring Model Prediction Error: http://scott.fortmann-roe.com/docs/Me...\n",
    "An Introduction to Feature Selection: http://machinelearningmastery.com/an-...\n",
    "Cross-Validation The Right and Wrong Way (notebook): http://nbviewer.ipython.org/github/cs...\n",
    "Cross-validation pitfalls (paper): http://www.jcheminf.com/content/pdf/1...)\n",
    "\n",
    "== SUBSCRIBE! ==\n",
    "https://www.youtube.com/user/datascho...\n",
    "\n",
    "== LET'S CONNECT! ==\n",
    "Blog: http://www.dataschool.io\n",
    "Newsletter: http://www.dataschool.io/subscribe/\n",
    "Twitter: https://twitter.com/justmarkham\n",
    "GitHub: https://github.com/justmarkham"
   ]
  },
  {
   "cell_type": "markdown",
   "metadata": {},
   "source": [
    "#### ========== End Section ==========\n",
    "\n",
    "### Comments or Questions?\n",
    "\n",
    "    Email: kevin@dataschool.io\n",
    "    Website: http://dataschool.io\n",
    "    Twitter: @justmarkham\n"
   ]
  },
  {
   "cell_type": "code",
   "execution_count": 31,
   "metadata": {},
   "outputs": [
    {
     "data": {
      "text/html": [
       "<style>\n",
       "    @font-face {\n",
       "        font-family: \"Computer Modern\";\n",
       "        src: url('http://mirrors.ctan.org/fonts/cm-unicode/fonts/otf/cmunss.otf');\n",
       "    }\n",
       "    div.cell{\n",
       "        width: 90%;\n",
       "/*        margin-left:auto;*/\n",
       "/*        margin-right:auto;*/\n",
       "    }\n",
       "    ul {\n",
       "        line-height: 145%;\n",
       "        font-size: 90%;\n",
       "    }\n",
       "    li {\n",
       "        margin-bottom: 1em;\n",
       "    }\n",
       "    h1 {\n",
       "        font-family: Helvetica, serif;\n",
       "    }\n",
       "    h4{\n",
       "        margin-top: 12px;\n",
       "        margin-bottom: 3px;\n",
       "       }\n",
       "    div.text_cell_render{\n",
       "        font-family: Computer Modern, \"Helvetica Neue\", Arial, Helvetica, Geneva, sans-serif;\n",
       "        line-height: 145%;\n",
       "        font-size: 130%;\n",
       "        width: 90%;\n",
       "        margin-left:auto;\n",
       "        margin-right:auto;\n",
       "    }\n",
       "    .CodeMirror{\n",
       "            font-family: \"Source Code Pro\", source-code-pro,Consolas, monospace;\n",
       "    }\n",
       "/*    .prompt{\n",
       "        display: None;\n",
       "    }*/\n",
       "    .text_cell_render h5 {\n",
       "        font-weight: 300;\n",
       "        font-size: 16pt;\n",
       "        color: #4057A1;\n",
       "        font-style: italic;\n",
       "        margin-bottom: 0.5em;\n",
       "        margin-top: 0.5em;\n",
       "        display: block;\n",
       "    }\n",
       "\n",
       "    .warning{\n",
       "        color: rgb( 240, 20, 20 )\n",
       "        }\n",
       "</style>\n",
       "<script>\n",
       "    MathJax.Hub.Config({\n",
       "                        TeX: {\n",
       "                           extensions: [\"AMSmath.js\"]\n",
       "                           },\n",
       "                tex2jax: {\n",
       "                    inlineMath: [ ['$','$'], [\"\\\\(\",\"\\\\)\"] ],\n",
       "                    displayMath: [ ['$$','$$'], [\"\\\\[\",\"\\\\]\"] ]\n",
       "                },\n",
       "                displayAlign: 'center', // Change this to 'center' to center equations.\n",
       "                \"HTML-CSS\": {\n",
       "                    styles: {'.MathJax_Display': {\"margin\": 4}}\n",
       "                }\n",
       "        });\n",
       "</script>"
      ],
      "text/plain": [
       "<IPython.core.display.HTML object>"
      ]
     },
     "execution_count": 31,
     "metadata": {},
     "output_type": "execute_result"
    }
   ],
   "source": [
    "from IPython.core.display import HTML\n",
    "def css_styling():\n",
    "    styles = open(\"styles/custom.css\", \"r\").read()\n",
    "    return HTML(styles)\n",
    "css_styling()"
   ]
  },
  {
   "cell_type": "markdown",
   "metadata": {},
   "source": [
    "Execution of above cell made this page look different from what it used to look like. Font size etc changed."
   ]
  }
 ],
 "metadata": {
  "kernelspec": {
   "display_name": "Python 2",
   "language": "python",
   "name": "python2"
  },
  "language_info": {
   "codemirror_mode": {
    "name": "ipython",
    "version": 2
   },
   "file_extension": ".py",
   "mimetype": "text/x-python",
   "name": "python",
   "nbconvert_exporter": "python",
   "pygments_lexer": "ipython2",
   "version": "2.7.13"
  }
 },
 "nbformat": 4,
 "nbformat_minor": 2
}
