{
 "cells": [
  {
   "cell_type": "markdown",
   "metadata": {},
   "source": [
    "# Jupyter Notebook tips, tricks, and shortcuts\n",
    "\n",
    "References: <br />\n",
    "* [28 Jupyter Notebook tips, tricks, and shortcuts](https://www.dataquest.io/blog/jupyter-notebook-tips-tricks-shortcuts/) which is based on the following blog by Alex Rogozhnikov\n",
    "* [Jupyter (IPython) notebooks features](http://arogozhnikov.github.io/2016/09/10/jupyter-features.html)"
   ]
  },
  {
   "cell_type": "markdown",
   "metadata": {},
   "source": [
    "## Jupyter Notebook\n",
    "Jupyter notebook, formerly known as the IPython notebook, is a **very flexible tool that helps you create readable analyses**, as you **can keep code, images, comments, formulae and plots together**. _(kp: reminds me of the days when I had to make webpages to put images and comments together and sometimes codes and formulae (with some labor))_.\n",
    "\n",
    "Jupyter is quite extensible, supports many programming languages and is easily hosted on your computer or on almost any server — you only **need to have ssh or http access**. Best of all, it's completely free.\n",
    "\n",
    "Project Jupyter was born out of the IPython project as the project evolved to become a notebook that could support multiple languages - hence its historical name as the IPython notebook. The name __Jupyter is an indirect acronyum__ of the three core languages it was designed for: **JU**lia, **PYT**hon, and **R** and is inspired by the planet Jupiter.\n",
    "\n",
    "When working with Python in Jupyter, the IPython kernel is used, which gives us some handy access to IPython features from within our Jupyter notebooks (more on that later!)"
   ]
  },
  {
   "cell_type": "code",
   "execution_count": 1,
   "metadata": {},
   "outputs": [
    {
     "name": "stderr",
     "output_type": "stream",
     "text": [
      "ERROR:root:Line magic function `%install_ext` not found.\n"
     ]
    }
   ],
   "source": [
    "%install_ext https://raw.github.com/dpsanders/ipython_extensions/master/section_numbering/secnum.py"
   ]
  },
  {
   "cell_type": "markdown",
   "metadata": {},
   "source": [
    "## 1. Keyboard Shortcuts\n",
    "\n",
    "As any power user knows, keyboard shortcuts will save you lots of time. Jupyter stores a list of keybord shortcuts under the menu at the top: Help > Keyboard Shortcuts, or by pressing H in command mode (more on that later). It's worth checking this each time you update Jupyter, as more shortcuts are added all the time.\n",
    "\n",
    "Another way to access keyboard shortcuts, and a handy way to learn them is to use the command palette: Cmd + Shift + P (or Ctrl + Shift + P on Linux and Windows). This dialog box helps you run any command by name - useful if you don't know the keyboard shortcut for an action or if what you want to do does not have a keyboard shortcut. The functionality is similar to Spotlight search on a Mac, and once you start using it you'll wonder how you lived without it!\n",
    "\n",
    "Some of my favorites:\n",
    "\n",
    "* Esc will take you into command mode where you can navigate around your notebook with arrow keys.\n",
    "* While in command mode:\n",
    "    * A to insert a new cell above the current cell, B to insert a new cell below.\n",
    "    * M to change the current cell to Markdown, Y to change it back to code\n",
    "    * D + D (press the key twice) to delete the current cell\n",
    "* Enter will take you from command mode back into edit mode for the given cell.\n",
    "* Shift + Tab will show you the Docstring (documentation) for the the object you have just typed in a code cell - you can keep pressing this short cut to cycle through a few modes of documentation.\n",
    "* Ctrl + Shift + - will split the current cell into two from where your cursor is.\n",
    "* Esc + F Find and replace on your code but not the outputs.\n",
    "* Esc + O Toggle cell output.\n",
    "* Select Multiple Cells:\n",
    "    * Shift + J or Shift + Down selects the next sell in a downwards direction. You can also select sells in an upwards direction by using Shift + K or Shift + Up.\n",
    "    * Once cells are selected, you can then delete / copy / cut / paste / run them as a batch. This is helpful when you need to move parts of a notebook.\n",
    "    * You can also use Shift + M to merge multiple cells.\n"
   ]
  },
  {
   "cell_type": "code",
   "execution_count": null,
   "metadata": {
    "collapsed": true
   },
   "outputs": [],
   "source": []
  }
 ],
 "metadata": {
  "kernelspec": {
   "display_name": "Python 2",
   "language": "python",
   "name": "python2"
  },
  "language_info": {
   "codemirror_mode": {
    "name": "ipython",
    "version": 2
   },
   "file_extension": ".py",
   "mimetype": "text/x-python",
   "name": "python",
   "nbconvert_exporter": "python",
   "pygments_lexer": "ipython2",
   "version": "2.7.13"
  }
 },
 "nbformat": 4,
 "nbformat_minor": 2
}
