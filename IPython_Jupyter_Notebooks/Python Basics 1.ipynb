{
 "cells": [
  {
   "cell_type": "markdown",
   "metadata": {},
   "source": [
    "<a id='GoTop'></a>\n",
    "# Contents\n",
    "* [Python Modules](#PythonModules)\n",
    "    - [Python Modules And Packages](#PythonModulesAndPackages)\n",
    "* [f-Strings: A New and Improved Way to Format Strings in Python](#f-Strings)\n",
    "* [Check if file(s) exist](#checkIfFileExists)\n",
    "* [Special Meaning of underscore (_) in Python](#MeaningOfUnderscore)\n",
    "* [Special variables  `__name__` and `__main__`  and the main() function in Python](#special_variables_and_main)\n",
    "* [Dunder or Magic Methods in Python](#DunderOrMagicMethodsInPython)\n",
    "    * [Enriching Your Python Classes With Dunder (Magic, Special) Methods](#EnrichingPythonClassesWithDunder)\n",
    "* [Functions Are First Class Objects](#functions_are_first_class_objects)\n",
    "* [When to use yield instead of return in Python?](#YieldInsteadOfReturn)\n",
    "* [Global keyword in Python](#GlobalKeywordInPython)\n",
    "    * [Python Closures and the Python 2.7 nonlocal Solution](#PythonClosuresAndNonlocalSolutions)\n",
    "    * ['nonlocal' keyword in Python 3.x & It's 2.x equivalent](#nonlocalKeyword)\n",
    "    * [Python Decorators](#PythonDecorators)\n",
    "        * [Python @ Property](#Python@Property)\n",
    "* [Assert keyword in Python](#AssertKeywordInPython)\n",
    "* [Finally keyword in Python](#FinallyKeywordInPython)\n",
    "* [Thinking Recursively In Python](#ThinkingRecursivelyInPython)"
   ]
  },
  {
   "cell_type": "markdown",
   "metadata": {},
   "source": [
    "[GoTop](#GoTop)<a id='PythonModules'></a>\n",
    "## Python Modules\n",
    "Refs:\n",
    "* https://www.geeksforgeeks.org/python-modules/\n",
    "* https://realpython.com/python-modules-packages/\n",
    "\n",
    "From Ref 1:\n",
    "\n",
    "A module is a file containing Python definitions and statements. A module can define functions, classes and variables. A module can also include runnable code. Grouping related code into a module makes the code easier to understand and use.\n",
    "\n",
    "Example:\n",
    "```py\n",
    "# A simple module, calc.py \n",
    "  \n",
    "def add(x, y): \n",
    "    return (x+y) \n",
    "  \n",
    "def subtract(x, y): \n",
    "    return (x-y) \n",
    "```\n",
    "### The import statement\n",
    "We can use any Python source file as a module by executing an import statement in some other Python source file.\n",
    "\n",
    "When interpreter encounters an import statement, it <span style=\"color:red\">imports the module if the module is present in the search path</span>. A search path is a list of directories that the interpreter searches for importing a module. For example, to import the module calc.py, we need to put the following command at the top of the script :\n",
    "```py\n",
    "# importing  module calc.py \n",
    "import calc \n",
    "  \n",
    "print add(10, 2) \n",
    "```\n",
    "Output:\n",
    "\n",
    "    12\n",
    "\n",
    "### The from import Statement\n",
    "\n",
    "Python’s from statement lets you import specific attributes from a module. The from .. import .. has the following syntax :\n",
    "```py\n",
    "# importing sqrt() and factorial from the  \n",
    "# module math \n",
    "from math import sqrt, factorial \n",
    "  \n",
    "# if we simply do \"import math\", then \n",
    "# math.sqrt(16) and math.factorial() \n",
    "# are required. \n",
    "print sqrt(16) \n",
    "print factorial(6) \n",
    "```\n",
    "Output:\n",
    "\n",
    "    4.0\n",
    "    720\n",
    "\n",
    "### The dir() function\n",
    "The dir() built-in function returns a sorted list of strings containing the names defined by a module. The list contains the names of all the modules, variables and functions that are defined in a module.\n",
    "```py\n",
    "#  Import built-in module  random \n",
    "import  random \n",
    "print  dir(math) \n",
    "```\n",
    "\n",
    "Output:\n",
    "\n",
    "    ['BPF', 'LOG4', 'NV_MAGICCONST', 'RECIP_BPF', 'Random', \n",
    "    'SG_MAGICCONST', 'SystemRandom', 'TWOPI', 'WichmannHill', \n",
    "    '_BuiltinMethodType', '_MethodType', '__all__', \n",
    "    '__builtins__', '__doc__', '__file__', '__name__', \n",
    "    '__package__', '_acos', '_ceil', '_cos', '_e', '_exp', \n",
    "    '_hashlib', '_hexlify', '_inst', '_log', '_pi', '_random',\n",
    "    '_sin', '_sqrt', '_test', '_test_generator', '_urandom',\n",
    "    '_warn', 'betavariate', 'choice', 'division', \n",
    "    'expovariate', 'gammavariate', 'gauss', 'getrandbits',\n",
    "    'getstate', 'jumpahead', 'lognormvariate', 'normalvariate',\n",
    "    'paretovariate', 'randint', 'random', 'randrange', \n",
    "    'sample', 'seed', 'setstate', 'shuffle', 'triangular', \n",
    "    'uniform', 'vonmisesvariate', 'weibullvariate']"
   ]
  },
  {
   "cell_type": "code",
   "execution_count": 5,
   "metadata": {},
   "outputs": [
    {
     "name": "stdout",
     "output_type": "stream",
     "text": [
      "['__doc__', '__file__', '__loader__', '__name__', '__package__', '__spec__', 'acos', 'acosh', 'asin', 'asinh', 'atan', 'atan2', 'atanh', 'ceil', 'copysign', 'cos', 'cosh', 'degrees', 'e', 'erf', 'erfc', 'exp', 'expm1', 'fabs', 'factorial', 'floor', 'fmod', 'frexp', 'fsum', 'gamma', 'gcd', 'hypot', 'inf', 'isclose', 'isfinite', 'isinf', 'isnan', 'ldexp', 'lgamma', 'log', 'log10', 'log1p', 'log2', 'modf', 'nan', 'pi', 'pow', 'radians', 'remainder', 'sin', 'sinh', 'sqrt', 'tan', 'tanh', 'tau', 'trunc']\n"
     ]
    }
   ],
   "source": [
    "import  random, math\n",
    "print(dir(math))"
   ]
  },
  {
   "cell_type": "code",
   "execution_count": 6,
   "metadata": {},
   "outputs": [
    {
     "name": "stdout",
     "output_type": "stream",
     "text": [
      "['BPF', 'LOG4', 'NV_MAGICCONST', 'RECIP_BPF', 'Random', 'SG_MAGICCONST', 'SystemRandom', 'TWOPI', '_BuiltinMethodType', '_MethodType', '_Sequence', '_Set', '__all__', '__builtins__', '__cached__', '__doc__', '__file__', '__loader__', '__name__', '__package__', '__spec__', '_acos', '_bisect', '_ceil', '_cos', '_e', '_exp', '_inst', '_itertools', '_log', '_os', '_pi', '_random', '_sha512', '_sin', '_sqrt', '_test', '_test_generator', '_urandom', '_warn', 'betavariate', 'choice', 'choices', 'expovariate', 'gammavariate', 'gauss', 'getrandbits', 'getstate', 'lognormvariate', 'normalvariate', 'paretovariate', 'randint', 'random', 'randrange', 'sample', 'seed', 'setstate', 'shuffle', 'triangular', 'uniform', 'vonmisesvariate', 'weibullvariate']\n"
     ]
    }
   ],
   "source": [
    "print(dir(random))"
   ]
  },
  {
   "cell_type": "markdown",
   "metadata": {},
   "source": [
    "### Code Snippet illustrating python built-in modules:\n",
    "```py\n",
    "# importing built-in module math \n",
    "import math \n",
    "  \n",
    "# using square root(sqrt) function contained  \n",
    "# in math module \n",
    "print math.sqrt(25)  \n",
    "  \n",
    "# using pi function contained in math module \n",
    "print math.pi  \n",
    "  \n",
    "# 2 radians = 114.59 degreees \n",
    "print math.degrees(2)  \n",
    "  \n",
    "# 60 degrees = 1.04 radians \n",
    "print math.radians(60)  \n",
    "  \n",
    "# Sine of 2 radians \n",
    "print math.sin(2)  \n",
    "  \n",
    "# Cosine of 0.5 radians \n",
    "print math.cos(0.5)  \n",
    "  \n",
    "# Tangent of 0.23 radians \n",
    "print math.tan(0.23) \n",
    "  \n",
    "# 1 * 2 * 3 * 4 = 24 \n",
    "print math.factorial(4)  \n",
    "  \n",
    "  \n",
    "# importing built in module random \n",
    "import random \n",
    "  \n",
    "# printing random integer between 0 and 5 \n",
    "print random.randint(0, 5)  \n",
    "  \n",
    "# print random floating point number between 0 and 1 \n",
    "print random.random()  \n",
    "  \n",
    "# random number between 0 and 100 \n",
    "print random.random() * 100 \n",
    "  \n",
    "List = [1, 4, True, 800, \"python\", 27, \"hello\"] \n",
    "  \n",
    "# using choice function in random module for choosing  \n",
    "# a random element from a set such as a list \n",
    "print random.choice(List) \n",
    "  \n",
    "  \n",
    "# importing built in module datetime \n",
    "import datetime \n",
    "from datetime import date \n",
    "import time \n",
    "  \n",
    "# Returns the number of seconds since the \n",
    "# Unix Epoch, January 1st 1970 \n",
    "print time.time()  \n",
    "  \n",
    "# Converts a number of seconds to a date object \n",
    "print date.fromtimestamp(454554)\n",
    "```\n",
    "Output:\n",
    "\n",
    "    5.0\n",
    "    3.14159265359\n",
    "    114.591559026\n",
    "    1.0471975512\n",
    "    0.909297426826\n",
    "    0.87758256189\n",
    "    0.234143362351\n",
    "    24\n",
    "    3\n",
    "    0.401533172951\n",
    "    88.4917616788\n",
    "    True\n",
    "    1461425771.87\n",
    "    1970-01-06\n",
    "\n",
    "This article is contributed by Gaurav Shrestha. Please write comments if you find anything incorrect, or you want to share more information about the topic discussed above. If you like GeeksforGeeks and would like to contribute, you can also write an article and mail your article to contribute@geeksforgeeks.org. See your article appearing on the GeeksforGeeks main page and help other Geeks."
   ]
  },
  {
   "cell_type": "markdown",
   "metadata": {},
   "source": [
    "[GoTop](#GoTop) <a id='PythonModulesAndPackages'></a>\n",
    "## Python Modules and Packages – An Introduction\n",
    "by John Sturtz (Ref2 i.e., https://realpython.com/python-modules-packages/)\n",
    "\n",
    "This article explores Python modules and Python packages, two mechanisms that facilitate modular programming.\n",
    "\n",
    "Modular programming refers to the process of breaking a large, unwieldy programming task into separate, smaller, more manageable subtasks or modules. Individual modules can then be cobbled together like building blocks to create a larger application.\n",
    "\n",
    "There are several advantages to modularizing code in a large application:\n",
    "\n",
    "* Simplicity: Rather than focusing on the entire problem at hand, a module typically focuses on one relatively small portion of the problem. If you’re working on a single module, you’ll have a smaller problem domain to wrap your head around. This makes development easier and less error-prone.\n",
    "* Maintainability: Modules are typically designed so that they enforce logical boundaries between different problem domains. If modules are written in a way that minimizes interdependency, there is decreased likelihood that modifications to a single module will have an impact on other parts of the program. (You may even be able to make changes to a module without having any knowledge of the application outside that module.) This makes it more viable for a team of many programmers to work collaboratively on a large application.\n",
    "* Reusability: Functionality defined in a single module can be easily reused (through an appropriately defined interface) by other parts of the application. This eliminates the need to recreate duplicate code.\n",
    "* Scoping: Modules typically define a separate namespace, which helps avoid collisions between identifiers in different areas of a program. (One of the tenets in the Zen of Python is Namespaces are one honking great idea—let’s do more of those!)\n",
    "\n",
    "Functions, modules and packages are all constructs in Python that promote code modularization."
   ]
  },
  {
   "cell_type": "markdown",
   "metadata": {},
   "source": [
    "### Python Modules: Overview\n",
    "\n",
    "There are actually three different ways to define a module in Python:\n",
    "\n",
    "* A module can be written in Python itself.\n",
    "* A module can be written in C and loaded dynamically at run-time, like the re (regular expression) module.\n",
    "* A built-in module is intrinsically contained in the interpreter, like the itertools module.\n",
    "\n",
    "A module’s contents are accessed the same way in all three cases: with the import statement.\n",
    "\n",
    "Here, the focus will mostly be on modules that are written in Python. The cool thing about modules written in Python is that they are exceedingly straightforward to build. All you need to do is create a file that contains legitimate Python code and then give the file a name with a .py extension. That’s it! No special syntax or voodoo is necessary.\n",
    "\n",
    "For example, suppose you have created a file called mod.py containing the following:\n",
    "\n",
    "### mod.py\n",
    "```py\n",
    "s = \"If Comrade Napoleon says it, it must be right.\"\n",
    "a = [100, 200, 300]\n",
    "\n",
    "def foo(arg):\n",
    "    print(f'arg = {arg}')\n",
    "\n",
    "class Foo:\n",
    "    pass\n",
    "```\n",
    "Several objects are defined in mod.py:\n",
    "\n",
    "    s (a string)\n",
    "    a (a list)\n",
    "    foo() (a function)\n",
    "    Foo (a class)\n",
    "\n",
    "Assuming mod.py is in an appropriate location, which you will learn more about shortly, these objects can be accessed by importing the module as follows:\n",
    "\n",
    "    >>> import mod\n",
    "    >>> print(mod.s)\n",
    "    If Comrade Napoleon says it, it must be right.\n",
    "    >>> mod.a\n",
    "    [100, 200, 300]\n",
    "    >>> mod.foo(['quux', 'corge', 'grault'])\n",
    "    arg = ['quux', 'corge', 'grault']\n",
    "    >>> x = mod.Foo()\n",
    "    >>> x\n",
    "    <mod.Foo object at 0x03C181F0>\n"
   ]
  },
  {
   "cell_type": "markdown",
   "metadata": {},
   "source": [
    "### The Module Search Path\n",
    "\n",
    "Continuing with the above example, let’s take a look at what happens when Python executes the statement:\n",
    "```py\n",
    "import mod\n",
    "```\n",
    "\n",
    "When the interpreter executes the above import statement, it searches for mod.py in a list of directories assembled from the following sources:\n",
    "\n",
    "* The directory from which the input script was run or the current directory if the interpreter is being run interactively\n",
    "* The list of directories contained in the PYTHONPATH environment variable, if it is set. (The format for PYTHONPATH is OS-dependent but should mimic the PATH environment variable.)\n",
    "* An installation-dependent list of directories configured at the time Python is installed\n",
    "\n",
    "The resulting search path is accessible in the Python variable sys.path, which is obtained from a module named sys:\n",
    "\n",
    "    >>> import sys\n",
    "    >>> sys.path\n",
    "    ['', 'C:\\\\Users\\\\john\\\\Documents\\\\Python\\\\doc', 'C:\\\\Python36\\\\Lib\\\\idlelib',\n",
    "    'C:\\\\Python36\\\\python36.zip', 'C:\\\\Python36\\\\DLLs', 'C:\\\\Python36\\\\lib',\n",
    "    'C:\\\\Python36', 'C:\\\\Python36\\\\lib\\\\site-packages']"
   ]
  },
  {
   "cell_type": "markdown",
   "metadata": {},
   "source": [
    "```\n",
    "KPAd's FunPrompt $ echo $PYTHONPATH \n",
    "/usr/local/Cellar/root6/6.18.00/lib:/Users/kpadhikari/GitProj/KPAdhikari/PythonStuff/KpModules\n",
    "KPAd's FunPrompt $ pwd\n",
    "/Users/kpadhikari\n",
    "KPAd's FunPrompt $\n",
    "```"
   ]
  },
  {
   "cell_type": "code",
   "execution_count": 8,
   "metadata": {},
   "outputs": [
    {
     "data": {
      "text/plain": [
       "['/Users/kpadhikari/Desktop/BigFls/CLAS12/GitProj/KPAdhikari/PythonStuff/IPython_Jupyter_Notebooks',\n",
       " '/usr/local/Cellar/root/6.18.00/lib/root',\n",
       " '/usr/local/Cellar/root6/6.18.00/lib',\n",
       " '/Users/kpadhikari/GitProj/KPAdhikari/PythonStuff/KpModules',\n",
       " '/usr/local/Cellar/python/3.7.4/Frameworks/Python.framework/Versions/3.7/lib/python37.zip',\n",
       " '/usr/local/Cellar/python/3.7.4/Frameworks/Python.framework/Versions/3.7/lib/python3.7',\n",
       " '/usr/local/Cellar/python/3.7.4/Frameworks/Python.framework/Versions/3.7/lib/python3.7/lib-dynload',\n",
       " '',\n",
       " '/usr/local/lib/python3.7/site-packages',\n",
       " '/usr/local/lib/python3.7/site-packages/IPython/extensions',\n",
       " '/Users/kpadhikari/.ipython']"
      ]
     },
     "execution_count": 8,
     "metadata": {},
     "output_type": "execute_result"
    }
   ],
   "source": [
    "import sys\n",
    "sys.path"
   ]
  },
  {
   "cell_type": "markdown",
   "metadata": {},
   "source": [
    "Note: The exact contents of sys.path are installation-dependent. The above will almost certainly look slightly different on your computer.\n",
    "\n",
    "Thus, to ensure your module is found, you need to do one of the following:\n",
    "\n",
    "* Put mod.py in the directory where the input script is located or the current directory, if interactive\n",
    "* Modify the PYTHONPATH environment variable to contain the directory where mod.py is located before starting the interpreter\n",
    "    - Or: Put mod.py in one of the directories already contained in the PYTHONPATH variable\n",
    "* Put mod.py in one of the installation-dependent directories, which you may or may not have write-access to, depending on the OS\n",
    "\n",
    "There is actually one additional option: you can put the module file in any directory of your choice and then modify sys.path at run-time so that it contains that directory. For example, in this case, you could put mod.py in directory C:\\Users\\john and then issue the following statements:\n",
    "\n",
    "    >>> sys.path.append(r'C:\\Users\\john')\n",
    "    >>> sys.path\n",
    "    ['', 'C:\\\\Users\\\\john\\\\Documents\\\\Python\\\\doc', 'C:\\\\Python36\\\\Lib\\\\idlelib',\n",
    "    'C:\\\\Python36\\\\python36.zip', 'C:\\\\Python36\\\\DLLs', 'C:\\\\Python36\\\\lib',\n",
    "    'C:\\\\Python36', 'C:\\\\Python36\\\\lib\\\\site-packages', 'C:\\\\Users\\\\john']\n",
    "    >>> import mod\n",
    "\n",
    "Once a module has been imported, you can determine the location where it was found with the module’s `__file__` attribute:\n",
    "\n",
    "    >>> import mod\n",
    "    >>> mod.__file__\n",
    "    'C:\\\\Users\\\\john\\\\mod.py'\n",
    "\n",
    "    >>> import re\n",
    "    >>> re.__file__\n",
    "    'C:\\\\Python36\\\\lib\\\\re.py'\n",
    "\n",
    "The directory portion of `__file__` should be one of the directories in sys.path."
   ]
  },
  {
   "cell_type": "code",
   "execution_count": 10,
   "metadata": {},
   "outputs": [
    {
     "data": {
      "text/plain": [
       "'/usr/local/Cellar/python/3.7.4/Frameworks/Python.framework/Versions/3.7/lib/python3.7/lib-dynload/math.cpython-37m-darwin.so'"
      ]
     },
     "execution_count": 10,
     "metadata": {},
     "output_type": "execute_result"
    }
   ],
   "source": [
    "import math\n",
    "math.__file__"
   ]
  },
  {
   "cell_type": "code",
   "execution_count": 11,
   "metadata": {},
   "outputs": [
    {
     "data": {
      "text/plain": [
       "'/usr/local/Cellar/python/3.7.4/Frameworks/Python.framework/Versions/3.7/lib/python3.7/random.py'"
      ]
     },
     "execution_count": 11,
     "metadata": {},
     "output_type": "execute_result"
    }
   ],
   "source": [
    "import random\n",
    "random.__file__"
   ]
  },
  {
   "cell_type": "code",
   "execution_count": 13,
   "metadata": {},
   "outputs": [
    {
     "ename": "AttributeError",
     "evalue": "module 'sys' has no attribute '__file__'",
     "output_type": "error",
     "traceback": [
      "\u001b[0;31m---------------------------------------------------------------------------\u001b[0m",
      "\u001b[0;31mAttributeError\u001b[0m                            Traceback (most recent call last)",
      "\u001b[0;32m<ipython-input-13-b02a6cf7d561>\u001b[0m in \u001b[0;36m<module>\u001b[0;34m\u001b[0m\n\u001b[1;32m      1\u001b[0m \u001b[0;32mimport\u001b[0m \u001b[0msys\u001b[0m\u001b[0;34m\u001b[0m\u001b[0;34m\u001b[0m\u001b[0m\n\u001b[0;32m----> 2\u001b[0;31m \u001b[0msys\u001b[0m\u001b[0;34m.\u001b[0m\u001b[0m__file__\u001b[0m\u001b[0;34m\u001b[0m\u001b[0;34m\u001b[0m\u001b[0m\n\u001b[0m",
      "\u001b[0;31mAttributeError\u001b[0m: module 'sys' has no attribute '__file__'"
     ]
    }
   ],
   "source": [
    "import sys\n",
    "sys.__file__"
   ]
  },
  {
   "cell_type": "code",
   "execution_count": 16,
   "metadata": {},
   "outputs": [
    {
     "name": "stdout",
     "output_type": "stream",
     "text": [
      "1570599145.5727239\n"
     ]
    },
    {
     "ename": "AttributeError",
     "evalue": "module 'time' has no attribute '__file__'",
     "output_type": "error",
     "traceback": [
      "\u001b[0;31m---------------------------------------------------------------------------\u001b[0m",
      "\u001b[0;31mAttributeError\u001b[0m                            Traceback (most recent call last)",
      "\u001b[0;32m<ipython-input-16-b50d4c597b1d>\u001b[0m in \u001b[0;36m<module>\u001b[0;34m\u001b[0m\n\u001b[1;32m      6\u001b[0m \u001b[0;31m# Unix Epoch, January 1st 1970\u001b[0m\u001b[0;34m\u001b[0m\u001b[0;34m\u001b[0m\u001b[0;34m\u001b[0m\u001b[0m\n\u001b[1;32m      7\u001b[0m \u001b[0mprint\u001b[0m\u001b[0;34m(\u001b[0m\u001b[0mtime\u001b[0m\u001b[0;34m.\u001b[0m\u001b[0mtime\u001b[0m\u001b[0;34m(\u001b[0m\u001b[0;34m)\u001b[0m\u001b[0;34m)\u001b[0m\u001b[0;34m\u001b[0m\u001b[0;34m\u001b[0m\u001b[0m\n\u001b[0;32m----> 8\u001b[0;31m \u001b[0mtime\u001b[0m\u001b[0;34m.\u001b[0m\u001b[0m__file__\u001b[0m\u001b[0;34m\u001b[0m\u001b[0;34m\u001b[0m\u001b[0m\n\u001b[0m",
      "\u001b[0;31mAttributeError\u001b[0m: module 'time' has no attribute '__file__'"
     ]
    }
   ],
   "source": [
    "import datetime \n",
    "from datetime import date \n",
    "import time \n",
    "\n",
    "# Returns the number of seconds since the \n",
    "# Unix Epoch, January 1st 1970 \n",
    "print(time.time())\n",
    "time.__file__"
   ]
  },
  {
   "cell_type": "code",
   "execution_count": 18,
   "metadata": {},
   "outputs": [
    {
     "data": {
      "text/plain": [
       "'/usr/local/Cellar/python/3.7.4/Frameworks/Python.framework/Versions/3.7/lib/python3.7/datetime.py'"
      ]
     },
     "execution_count": 18,
     "metadata": {},
     "output_type": "execute_result"
    }
   ],
   "source": [
    "datetime.__file__"
   ]
  },
  {
   "cell_type": "markdown",
   "metadata": {},
   "source": [
    "## I am skipping some sections here from Ref 2 ..... For now just saving the copy-paste for later reading and proper reformatting ......"
   ]
  },
  {
   "cell_type": "markdown",
   "metadata": {},
   "source": [
    "Executing a Module as a Script\n",
    "\n",
    "Any .py file that contains a module is essentially also a Python script, and there isn’t any reason it can’t be executed like one.\n",
    "\n",
    "Here again is mod.py as it was defined above:\n",
    "\n",
    "mod.py\n",
    "\n",
    "s = \"If Comrade Napoleon says it, it must be right.\"\n",
    "a = [100, 200, 300]\n",
    "\n",
    "def foo(arg):\n",
    "    print(f'arg = {arg}')\n",
    "\n",
    "class Foo:\n",
    "    pass\n",
    "\n",
    "This can be run as a script:\n",
    "\n",
    "C:\\Users\\john\\Documents>python mod.py\n",
    "C:\\Users\\john\\Documents>\n",
    "\n",
    "There are no errors, so it apparently worked. Granted, it’s not very interesting. As it is written, it only defines objects. It doesn’t do anything with them, and it doesn’t generate any output.\n",
    "\n",
    "Let’s modify the above Python module so it does generate some output when run as a script:\n",
    "\n",
    "mod.py\n",
    "\n",
    "s = \"If Comrade Napoleon says it, it must be right.\"\n",
    "a = [100, 200, 300]\n",
    "\n",
    "def foo(arg):\n",
    "    print(f'arg = {arg}')\n",
    "\n",
    "class Foo:\n",
    "    pass\n",
    "\n",
    "print(s)\n",
    "print(a)\n",
    "foo('quux')\n",
    "x = Foo()\n",
    "print(x)\n",
    "\n",
    "Now it should be a little more interesting:\n",
    "\n",
    "C:\\Users\\john\\Documents>python mod.py\n",
    "If Comrade Napoleon says it, it must be right.\n",
    "[100, 200, 300]\n",
    "arg = quux\n",
    "<__main__.Foo object at 0x02F101D0>\n",
    "\n",
    "Unfortunately, now it also generates output when imported as a module:\n",
    "\n",
    ">>> import mod\n",
    "If Comrade Napoleon says it, it must be right.\n",
    "[100, 200, 300]\n",
    "arg = quux\n",
    "<mod.Foo object at 0x0169AD50>\n",
    "\n",
    "This is probably not what you want. It isn’t usual for a module to generate output when it is imported.\n",
    "\n",
    "Wouldn’t it be nice if you could distinguish between when the file is loaded as a module and when it is run as a standalone script?\n",
    "\n",
    "Ask and ye shall receive.\n",
    "\n",
    "When a .py file is imported as a module, Python sets the special dunder variable __name__ to the name of the module. However, if a file is run as a standalone script, __name__ is (creatively) set to the string '__main__'. Using this fact, you can discern which is the case at run-time and alter behavior accordingly:\n",
    "\n",
    "mod.py\n",
    "\n",
    "s = \"If Comrade Napoleon says it, it must be right.\"\n",
    "a = [100, 200, 300]\n",
    "\n",
    "def foo(arg):\n",
    "    print(f'arg = {arg}')\n",
    "\n",
    "class Foo:\n",
    "    pass\n",
    "\n",
    "if (__name__ == '__main__'):\n",
    "    print('Executing as standalone script')\n",
    "    print(s)\n",
    "    print(a)\n",
    "    foo('quux')\n",
    "    x = Foo()\n",
    "    print(x)\n",
    "\n",
    "Now, if you run as a script, you get output:\n",
    "\n",
    "C:\\Users\\john\\Documents>python mod.py\n",
    "Executing as standalone script\n",
    "If Comrade Napoleon says it, it must be right.\n",
    "[100, 200, 300]\n",
    "arg = quux\n",
    "<__main__.Foo object at 0x03450690>\n",
    "\n",
    "But if you import as a module, you don’t:\n",
    "\n",
    ">>> import mod\n",
    ">>> mod.foo('grault')\n",
    "arg = grault\n",
    "\n",
    "Modules are often designed with the capability to run as a standalone script for purposes of testing the functionality that is contained within the module. This is referred to as unit testing. For example, suppose you have created a module fact.py containing a factorial function, as follows:\n",
    "\n",
    "fact.py\n",
    "\n",
    "def fact(n):\n",
    "    return 1 if n == 1 else n * fact(n-1)\n",
    "\n",
    "if (__name__ == '__main__'):\n",
    "    import sys\n",
    "    if len(sys.argv) > 1:\n",
    "        print(fact(int(sys.argv[1])))\n",
    "\n",
    "The file can be treated as a module, and the fact() function imported:\n",
    "\n",
    ">>> from fact import fact\n",
    ">>> fact(6)\n",
    "720\n",
    "\n",
    "But it can also be run as a standalone by passing an integer argument on the command-line for testing:\n",
    "\n",
    "C:\\Users\\john\\Documents>python fact.py 6\n",
    "720\n"
   ]
  },
  {
   "cell_type": "markdown",
   "metadata": {},
   "source": [
    "Reloading a Module\n",
    "\n",
    "For reasons of efficiency, a module is only loaded once per interpreter session. That is fine for function and class definitions, which typically make up the bulk of a module’s contents. But a module can contain executable statements as well, usually for initialization. Be aware that these statements will only be executed the first time a module is imported.\n",
    "\n",
    "Consider the following file mod.py:\n",
    "\n",
    "mod.py\n",
    "\n",
    "a = [100, 200, 300]\n",
    "print('a =', a)\n",
    "\n",
    ">>> import mod\n",
    "a = [100, 200, 300]\n",
    ">>> import mod\n",
    ">>> import mod\n",
    "\n",
    ">>> mod.a\n",
    "[100, 200, 300]\n",
    "\n",
    "The print() statement is not executed on subsequent imports. (For that matter, neither is the assignment statement, but as the final display of the value of mod.a shows, that doesn’t matter. Once the assignment is made, it sticks.)\n",
    "\n",
    "If you make a change to a module and need to reload it, you need to either restart the interpreter or use a function called reload() from module importlib:\n",
    "\n",
    ">>> import mod\n",
    "a = [100, 200, 300]\n",
    "\n",
    ">>> import mod\n",
    "\n",
    ">>> import importlib\n",
    ">>> importlib.reload(mod)\n",
    "a = [100, 200, 300]\n",
    "<module 'mod' from 'C:\\\\Users\\\\john\\\\Documents\\\\Python\\\\doc\\\\mod.py'>\n",
    "\n",
    "Python Packages\n",
    "\n",
    "Suppose you have developed a very large application that includes many modules. As the number of modules grows, it becomes difficult to keep track of them all if they are dumped into one location. This is particularly so if they have similar names or functionality. You might wish for a means of grouping and organizing them.\n",
    "\n",
    "Packages allow for a hierarchical structuring of the module namespace using dot notation. In the same way that modules help avoid collisions between global variable names, packages help avoid collisions between module names.\n",
    "\n",
    "Creating a package is quite straightforward, since it makes use of the operating system’s inherent hierarchical file structure. Consider the following arrangement:\n",
    "\n",
    "Image of a Python package\n",
    "\n",
    "Here, there is a directory named pkg that contains two modules, mod1.py and mod2.py. The contents of the modules are:\n",
    "\n",
    "mod1.py\n",
    "\n",
    "def foo():\n",
    "    print('[mod1] foo()')\n",
    "\n",
    "class Foo:\n",
    "    pass\n",
    "\n",
    "mod2.py\n",
    "\n",
    "def bar():\n",
    "    print('[mod2] bar()')\n",
    "\n",
    "class Bar:\n",
    "    pass\n",
    "\n",
    "Given this structure, if the pkg directory resides in a location where it can be found (in one of the directories contained in sys.path), you can refer to the two modules with dot notation (pkg.mod1, pkg.mod2) and import them with the syntax you are already familiar with:\n",
    "\n",
    "import <module_name>[, <module_name> ...]\n",
    "\n",
    ">>> import pkg.mod1, pkg.mod2\n",
    ">>> pkg.mod1.foo()\n",
    "[mod1] foo()\n",
    ">>> x = pkg.mod2.Bar()\n",
    ">>> x\n",
    "<pkg.mod2.Bar object at 0x033F7290>\n",
    "\n",
    "from <module_name> import <name(s)>\n",
    "\n",
    ">>> from pkg.mod1 import foo\n",
    ">>> foo()\n",
    "[mod1] foo()\n",
    "\n",
    "from <module_name> import <name> as <alt_name>\n",
    "\n",
    ">>> from pkg.mod2 import Bar as Qux\n",
    ">>> x = Qux()\n",
    ">>> x\n",
    "<pkg.mod2.Bar object at 0x036DFFD0>\n",
    "\n",
    "You can import modules with these statements as well:\n",
    "\n",
    "from <package_name> import <modules_name>[, <module_name> ...]\n",
    "from <package_name> import <module_name> as <alt_name>\n",
    "\n",
    ">>> from pkg import mod1\n",
    ">>> mod1.foo()\n",
    "[mod1] foo()\n",
    "\n",
    ">>> from pkg import mod2 as quux\n",
    ">>> quux.bar()\n",
    "[mod2] bar()\n",
    "\n",
    "You can technically import the package as well:\n",
    "\n",
    ">>> import pkg\n",
    ">>> pkg\n",
    "<module 'pkg' (namespace)>\n",
    "\n",
    "But this is of little avail. Though this is, strictly speaking, a syntactically correct Python statement, it doesn’t do much of anything useful. In particular, it does not place any of the modules in pkg into the local namespace:\n",
    "\n",
    ">>> pkg.mod1\n",
    "Traceback (most recent call last):\n",
    "  File \"<pyshell#34>\", line 1, in <module>\n",
    "    pkg.mod1\n",
    "AttributeError: module 'pkg' has no attribute 'mod1'\n",
    ">>> pkg.mod1.foo()\n",
    "Traceback (most recent call last):\n",
    "  File \"<pyshell#35>\", line 1, in <module>\n",
    "    pkg.mod1.foo()\n",
    "AttributeError: module 'pkg' has no attribute 'mod1'\n",
    ">>> pkg.mod2.Bar()\n",
    "Traceback (most recent call last):\n",
    "  File \"<pyshell#36>\", line 1, in <module>\n",
    "    pkg.mod2.Bar()\n",
    "AttributeError: module 'pkg' has no attribute 'mod2'\n",
    "\n",
    "To actually import the modules or their contents, you need to use one of the forms shown above."
   ]
  },
  {
   "cell_type": "markdown",
   "metadata": {},
   "source": [
    "Package Initialization\n",
    "\n",
    "If a file named __init__.py is present in a package directory, it is invoked when the package or a module in the package is imported. This can be used for execution of package initialization code, such as initialization of package-level data.\n",
    "\n",
    "For example, consider the following __init__.py file:\n",
    "\n",
    "__init__.py\n",
    "\n",
    "print(f'Invoking __init__.py for {__name__}')\n",
    "A = ['quux', 'corge', 'grault']\n",
    "\n",
    "Let’s add this file to the pkg directory from the above example:\n",
    "\n",
    "Illustration of hierarchical file structure of Python packages\n",
    "\n",
    "Now when the package is imported, global list A is initialized:\n",
    "\n",
    ">>> import pkg\n",
    "Invoking __init__.py for pkg\n",
    ">>> pkg.A\n",
    "['quux', 'corge', 'grault']\n",
    "\n",
    "A module in the package can access the global by importing it in turn:\n",
    "\n",
    "mod1.py\n",
    "\n",
    "def foo():\n",
    "    from pkg import A\n",
    "    print('[mod1] foo() / A = ', A)\n",
    "\n",
    "class Foo:\n",
    "    pass\n",
    "\n",
    ">>> from pkg import mod1\n",
    "Invoking __init__.py for pkg\n",
    ">>> mod1.foo()\n",
    "[mod1] foo() / A =  ['quux', 'corge', 'grault']\n",
    "\n",
    "__init__.py can also be used to effect automatic importing of modules from a package. For example, earlier you saw that the statement import pkg only places the name pkg in the caller’s local symbol table and doesn’t import any modules. But if __init__.py in the pkg directory contains the following:\n",
    "\n",
    "__init__.py\n",
    "\n",
    "print(f'Invoking __init__.py for {__name__}')\n",
    "import pkg.mod1, pkg.mod2\n",
    "\n",
    "then when you execute import pkg, modules mod1 and mod2 are imported automatically:\n",
    "\n",
    ">>> import pkg\n",
    "Invoking __init__.py for pkg\n",
    ">>> pkg.mod1.foo()\n",
    "[mod1] foo()\n",
    ">>> pkg.mod2.bar()\n",
    "[mod2] bar()\n",
    "\n",
    "Note: Much of the Python documentation states that an __init__.py file must be present in the package directory when creating a package. This was once true. It used to be that the very presence of __init__.py signified to Python that a package was being defined. The file could contain initialization code or even be empty, but it had to be present.\n",
    "\n",
    "Starting with Python 3.3, Implicit Namespace Packages were introduced. These allow for the creation of a package without any __init__.py file. Of course, it can still be present if package initialization is needed. But it is no longer required.\n",
    "Importing * From a Package\n",
    "\n",
    "For the purposes of the following discussion, the previously defined package is expanded to contain some additional modules:\n",
    "\n",
    "Illustration of hierarchical file structure of Python packages\n",
    "\n",
    "There are now four modules defined in the pkg directory. Their contents are as shown below:\n",
    "\n",
    "mod1.py\n",
    "\n",
    "def foo():\n",
    "    print('[mod1] foo()')\n",
    "\n",
    "class Foo:\n",
    "    pass\n",
    "\n",
    "mod2.py\n",
    "\n",
    "def bar():\n",
    "    print('[mod2] bar()')\n",
    "\n",
    "class Bar:\n",
    "    pass\n",
    "\n",
    "mod3.py\n",
    "\n",
    "def baz():\n",
    "    print('[mod3] baz()')\n",
    "\n",
    "class Baz:\n",
    "    pass\n",
    "\n",
    "mod4.py\n",
    "\n",
    "def qux():\n",
    "    print('[mod4] qux()')\n",
    "\n",
    "class Qux:\n",
    "    pass\n",
    "\n",
    "(Imaginative, aren’t they?)\n",
    "\n",
    "You have already seen that when import * is used for a module, all objects from the module are imported into the local symbol table, except those whose names begin with an underscore, as always:\n",
    "\n",
    ">>> dir()\n",
    "['__annotations__', '__builtins__', '__doc__', '__loader__', '__name__',\n",
    "'__package__', '__spec__']\n",
    "\n",
    ">>> from pkg.mod3 import *\n",
    "\n",
    ">>> dir()\n",
    "['Baz', '__annotations__', '__builtins__', '__doc__', '__loader__', '__name__',\n",
    "'__package__', '__spec__', 'baz']\n",
    ">>> baz()\n",
    "[mod3] baz()\n",
    ">>> Baz\n",
    "<class 'pkg.mod3.Baz'>\n",
    "\n",
    "The analogous statement for a package is this:\n",
    "\n",
    "from <package_name> import *\n",
    "\n",
    "What does that do?\n",
    "\n",
    ">>> dir()\n",
    "['__annotations__', '__builtins__', '__doc__', '__loader__', '__name__',\n",
    "'__package__', '__spec__']\n",
    "\n",
    ">>> from pkg import *\n",
    ">>> dir()\n",
    "['__annotations__', '__builtins__', '__doc__', '__loader__', '__name__',\n",
    "'__package__', '__spec__']\n",
    "\n",
    "Hmph. Not much. You might have expected (assuming you had any expectations at all) that Python would dive down into the package directory, find all the modules it could, and import them all. But as you can see, by default that is not what happens.\n",
    "\n",
    "Instead, Python follows this convention: if the __init__.py file in the package directory contains a list named __all__, it is taken to be a list of modules that should be imported when the statement from <package_name> import * is encountered.\n",
    "\n",
    "For the present example, suppose you create an __init__.py in the pkg directory like this:\n",
    "\n",
    "pkg/__init__.py\n",
    "\n",
    "__all__ = [\n",
    "        'mod1',\n",
    "        'mod2',\n",
    "        'mod3',\n",
    "        'mod4'\n",
    "        ]\n",
    "\n",
    "Now from pkg import * imports all four modules:\n",
    "\n",
    ">>> dir()\n",
    "['__annotations__', '__builtins__', '__doc__', '__loader__', '__name__',\n",
    "'__package__', '__spec__']\n",
    "\n",
    ">>> from pkg import *\n",
    ">>> dir()\n",
    "['__annotations__', '__builtins__', '__doc__', '__loader__', '__name__',\n",
    "'__package__', '__spec__', 'mod1', 'mod2', 'mod3', 'mod4']\n",
    ">>> mod2.bar()\n",
    "[mod2] bar()\n",
    ">>> mod4.Qux\n",
    "<class 'pkg.mod4.Qux'>\n",
    "\n",
    "Using import * still isn’t considered terrific form, any more for packages than for modules. But this facility at least gives the creator of the package some control over what happens when import * is specified. (In fact, it provides the capability to disallow it entirely, simply by declining to define __all__ at all. As you have seen, the default behavior for packages is to import nothing.)\n",
    "\n",
    "By the way, __all__ can be defined in a module as well and serves the same purpose: to control what is imported with import *. For example, modify mod1.py as follows:\n",
    "\n",
    "pkg/mod1.py\n",
    "\n",
    "__all__ = ['foo']\n",
    "\n",
    "def foo():\n",
    "    print('[mod1] foo()')\n",
    "\n",
    "class Foo:\n",
    "    pass\n",
    "\n",
    "Now an import * statement from pkg.mod1 will only import what is contained in __all__:\n",
    "\n",
    ">>> dir()\n",
    "['__annotations__', '__builtins__', '__doc__', '__loader__', '__name__',\n",
    "'__package__', '__spec__']\n",
    "\n",
    ">>> from pkg.mod1 import *\n",
    ">>> dir()\n",
    "['__annotations__', '__builtins__', '__doc__', '__loader__', '__name__',\n",
    "'__package__', '__spec__', 'foo']\n",
    "\n",
    ">>> foo()\n",
    "[mod1] foo()\n",
    ">>> Foo\n",
    "Traceback (most recent call last):\n",
    "  File \"<pyshell#37>\", line 1, in <module>\n",
    "    Foo\n",
    "NameError: name 'Foo' is not defined\n",
    "\n",
    "foo() (the function) is now defined in the local namespace, but Foo (the class) is not, because the latter is not in __all__.\n",
    "\n",
    "In summary, __all__ is used by both packages and modules to control what is imported when import * is specified. But the default behavior differs:\n",
    "\n",
    "    For a package, when __all__ is not defined, import * does not import anything.\n",
    "    For a module, when __all__ is not defined, import * imports everything (except—you guessed it—names starting with an underscore).\n",
    "\n",
    "Remove ads\n",
    "Subpackages\n",
    "\n",
    "Packages can contain nested subpackages to arbitrary depth. For example, let’s make one more modification to the example package directory as follows:\n",
    "\n",
    "Illustration of hierarchical file structure of Python packages\n",
    "\n",
    "The four modules (mod1.py, mod2.py, mod3.py and mod4.py) are defined as previously. But now, instead of being lumped together into the pkg directory, they are split out into two subpackage directories, sub_pkg1 and sub_pkg2.\n",
    "\n",
    "Importing still works the same as shown previously. Syntax is similar, but additional dot notation is used to separate package name from subpackage name:\n",
    "\n",
    ">>> import pkg.sub_pkg1.mod1\n",
    ">>> pkg.sub_pkg1.mod1.foo()\n",
    "[mod1] foo()\n",
    "\n",
    ">>> from pkg.sub_pkg1 import mod2\n",
    ">>> mod2.bar()\n",
    "[mod2] bar()\n",
    "\n",
    ">>> from pkg.sub_pkg2.mod3 import baz\n",
    ">>> baz()\n",
    "[mod3] baz()\n",
    "\n",
    ">>> from pkg.sub_pkg2.mod4 import qux as grault\n",
    ">>> grault()\n",
    "[mod4] qux()\n",
    "\n",
    "In addition, a module in one subpackage can reference objects in a sibling subpackage (in the event that the sibling contains some functionality that you need). For example, suppose you want to import and execute function foo() (defined in module mod1) from within module mod3. You can either use an absolute import:\n",
    "\n",
    "pkg/sub__pkg2/mod3.py\n",
    "\n",
    "def baz():\n",
    "    print('[mod3] baz()')\n",
    "\n",
    "class Baz:\n",
    "    pass\n",
    "\n",
    "from pkg.sub_pkg1.mod1 import foo\n",
    "foo()\n",
    "\n",
    ">>> from pkg.sub_pkg2 import mod3\n",
    "[mod1] foo()\n",
    ">>> mod3.foo()\n",
    "[mod1] foo()\n",
    "\n",
    "Or you can use a relative import, where .. refers to the package one level up. From within mod3.py, which is in subpackage sub_pkg2,\n",
    "\n",
    "    .. evaluates to the parent package (pkg), and\n",
    "    ..sub_pkg1 evaluates to subpackage sub_pkg1 of the parent package.\n",
    "\n",
    "pkg/sub__pkg2/mod3.py\n",
    "\n",
    "def baz():\n",
    "    print('[mod3] baz()')\n",
    "\n",
    "class Baz:\n",
    "    pass\n",
    "\n",
    "from .. import sub_pkg1\n",
    "print(sub_pkg1)\n",
    "\n",
    "from ..sub_pkg1.mod1 import foo\n",
    "foo()\n",
    "\n",
    ">>> from pkg.sub_pkg2 import mod3\n",
    "<module 'pkg.sub_pkg1' (namespace)>\n",
    "[mod1] foo()\n",
    "\n",
    "Conclusion\n",
    "\n",
    "In this tutorial, you covered the following topics:\n",
    "\n",
    "    How to create a Python module\n",
    "    Locations where the Python interpreter searches for a module\n",
    "    How to obtain access to the objects defined in a module with the import statement\n",
    "    How to create a module that is executable as a standalone script\n",
    "    How to organize modules into packages and subpackages\n",
    "    How to control package initialization\n",
    "\n",
    "Free PDF Download: Python 3 Cheat Sheet\n",
    "\n",
    "This will hopefully allow you to better understand how to gain access to the functionality available in the many third-party and built-in modules available in Python.\n",
    "\n",
    "Additionally, if you are developing your own application, creating your own modules and packages will help you organize and modularize your code, which makes coding, maintenance, and debugging easier.\n",
    "\n",
    "If you want to learn more, check out the following documentation at Python.org:\n",
    "\n",
    "    The import system\n",
    "    The Python tutorial: Modules\n",
    "\n",
    "Happy Pythoning!"
   ]
  },
  {
   "cell_type": "markdown",
   "metadata": {},
   "source": [
    "[GoTop](#GoTop)<a id='#f-Strings'></a>\n",
    "## f-Strings: A New and Improved Way to Format Strings in Python\n",
    "Refs:\n",
    "* https://realpython.com/python-f-strings/\n",
    "\n",
    "Table of Contents\n",
    "\n",
    "* “Old-school” String Formatting in Python\n",
    "* f-Strings: A New and Improved Way to Format Strings in Python\n",
    "* Python f-Strings: The Pesky Details\n",
    "* Go Forth and Format!\n",
    "* Further Reading\n",
    "\n",
    "The good news is that **f-strings are here to save the day. They slice! They dice! They make julienne fries! Okay, they do none of those things, but they do make formatting easier.** They joined the party in Python 3.6. You can read all about it in PEP 498, which was written by Eric V. Smith in August of 2015.\n",
    "\n",
    "Also called “formatted string literals,” f-strings are string literals that have an f at the beginning and curly braces containing expressions that will be replaced with their values. The expressions are evaluated at runtime and then formatted using the `__format__` protocol. As always, the Python docs are your friend when you want to learn more.\n",
    "\n",
    "Here are some of the ways f-strings can make your life easier.\n",
    "### Simple Syntax\n",
    "\n",
    "The syntax is similar to the one you used with str.format() but less verbose. Look at how easily readable this is:\n",
    "\n",
    "    >>> name = \"Eric\"\n",
    "    >>> age = 74\n",
    "    >>> f\"Hello, {name}. You are {age}.\"\n",
    "    'Hello, Eric. You are 74.'\n",
    "\n",
    "It would also be valid to use a capital letter F:\n",
    "\n",
    "    >>> F\"Hello, {name}. You are {age}.\"\n",
    "    'Hello, Eric. You are 74.'\n",
    "\n",
    "Do you love f-strings yet? I hope that, by the end of this article, you’ll answer `>>> F\"Yes!\"`.\n",
    "### Arbitrary Expressions\n",
    "\n",
    "Because f-strings are evaluated at runtime, you can put any and all valid Python expressions in them. This allows you to **do some nifty things**.\n",
    "\n",
    "You could do something pretty straightforward, like this:\n",
    "\n",
    "    >>> f\"{2 * 37}\"\n",
    "    '74'\n",
    "\n",
    "But you could also call functions. Here’s an example:\n",
    "\n",
    "    >>> def to_lowercase(input):\n",
    "    ...     return input.lower()\n",
    "\n",
    "    >>> name = \"Eric Idle\"\n",
    "    >>> f\"{to_lowercase(name)} is funny.\"\n",
    "    'eric idle is funny.'\n",
    "\n",
    "You also have the option of calling a method directly:\n",
    "\n",
    "    >>> f\"{name.lower()} is funny.\"\n",
    "    'eric idle is funny.'\n",
    "\n",
    "You could even use objects created from classes with f-strings. Imagine you had the following class:\n",
    "\n",
    "```py\n",
    "class Comedian:\n",
    "    def __init__(self, first_name, last_name, age):\n",
    "        self.first_name = first_name\n",
    "        self.last_name = last_name\n",
    "        self.age = age\n",
    "\n",
    "    def __str__(self):\n",
    "        return f\"{self.first_name} {self.last_name} is {self.age}.\"\n",
    "\n",
    "    def __repr__(self):\n",
    "        return f\"{self.first_name} {self.last_name} is {self.age}. Surprise!\"\n",
    "```\n",
    "You’d be able to do this:\n",
    "\n",
    "    >>> new_comedian = Comedian(\"Eric\", \"Idle\", \"74\")\n",
    "    >>> f\"{new_comedian}\"\n",
    "    'Eric Idle is 74.'\n",
    "\n",
    "The `__str__()` and `__repr__()` methods deal with how objects are presented as strings, so you’ll need to make sure you include at least one of those methods in your class definition. If you have to pick one, go with `__repr__()` because it can be used in place of `__str__()`.\n",
    "\n",
    "The string returned by `__str__()` is the informal string representation of an object and should be readable. The string returned by `__repr__()` is the official representation and should be unambiguous. Calling str() and repr() is preferable to using `__str__()` and `__repr__()` directly.\n",
    "\n",
    "By default, f-strings will use `__str__()`, but you can make sure they use `__repr__()` if you include the conversion flag !r:\n",
    "\n",
    ">>> f\"{new_comedian}\"\n",
    "'Eric Idle is 74.'\n",
    ">>> f\"{new_comedian!r}\"\n",
    "'Eric Idle is 74. Surprise!'\n",
    "\n",
    "If you’d like to read some of the conversation that resulted in f-strings supporting full Python expressions, you can do so here."
   ]
  },
  {
   "cell_type": "markdown",
   "metadata": {},
   "source": [
    "### Multiline f-strings\n",
    "\n",
    "You can have multiline strings:\n",
    "\n",
    ">>> name = \"Eric\"\n",
    ">>> profession = \"comedian\"\n",
    ">>> affiliation = \"Monty Python\"\n",
    ">>> message = (\n",
    "...     f\"Hi {name}. \"\n",
    "...     f\"You are a {profession}. \"\n",
    "...     f\"You were in {affiliation}.\"\n",
    "... )\n",
    ">>> message\n",
    "'Hi Eric. You are a comedian. You were in Monty Python.'\n",
    "\n",
    "But remember that you need to place an f in front of each line of a multiline string. The following code won’t work:\n",
    "\n",
    ">>> message = (\n",
    "...     f\"Hi {name}. \"\n",
    "...     \"You are a {profession}. \"\n",
    "...     \"You were in {affiliation}.\"\n",
    "... )\n",
    ">>> message\n",
    "'Hi Eric. You are a {profession}. You were in {affiliation}.'\n",
    "\n",
    "If you don’t put an f in front of each individual line, then you’ll just have regular, old, garden-variety strings and not shiny, new, fancy f-strings.\n",
    "\n",
    "If you want to spread strings over multiple lines, you also have the option of escaping a return with a \\:\n",
    "\n",
    ">>> message = f\"Hi {name}. \" \\\n",
    "...           f\"You are a {profession}. \" \\\n",
    "...           f\"You were in {affiliation}.\"\n",
    "...\n",
    ">>> message\n",
    "'Hi Eric. You are a comedian. You were in Monty Python.'\n",
    "\n",
    "But this is what will happen if you use \"\"\":\n",
    "\n",
    ">>> message = f\"\"\"\n",
    "...     Hi {name}. \n",
    "...     You are a {profession}. \n",
    "...     You were in {affiliation}.\n",
    "... \"\"\"\n",
    "...\n",
    ">>> message\n",
    "'\\n    Hi Eric.\\n    You are a comedian.\\n    You were in Monty Python.\\n'\n",
    "\n",
    "Read up on indentation guidelines in PEP 8.\n",
    "Speed\n",
    "\n",
    "The f in f-strings may as well stand for “fast.”\n",
    "\n",
    "f-strings are faster than both %-formatting and str.format(). As you already saw, f-strings are expressions evaluated at runtime rather than constant values. Here’s an excerpt from the docs:\n",
    "\n",
    "    “F-strings provide a way to embed expressions inside string literals, using a minimal syntax. It should be noted that an f-string is really an expression evaluated at run time, not a constant value. In Python source code, an f-string is a literal string, prefixed with f, which contains expressions inside braces. The expressions are replaced with their values.” (Source)\n",
    "\n",
    "At runtime, the expression inside the curly braces is evaluated in its own scope and then put together with the string literal part of the f-string. The resulting string is then returned. That’s all it takes.\n",
    "\n",
    "Here’s a speed comparison:\n",
    "\n",
    ">>> import timeit\n",
    ">>> timeit.timeit(\"\"\"name = \"Eric\"\n",
    "... age = 74\n",
    "... '%s is %s.' % (name, age)\"\"\", number = 10000)\n",
    "0.003324444866599663\n",
    "\n",
    ">>> timeit.timeit(\"\"\"name = \"Eric\"\n",
    "... age = 74\n",
    "... '{} is {}.'.format(name, age)\"\"\", number = 10000)\n",
    "0.004242089427570761\n",
    "\n",
    ">>> timeit.timeit(\"\"\"name = \"Eric\"\n",
    "... age = 74\n",
    "... f'{name} is {age}.'\"\"\", number = 10000)\n",
    "0.0024820892040722242\n",
    "\n",
    "As you can see, f-strings come out on top.\n",
    "\n",
    "However, that wasn’t always the case. When they were first implemented, they had some speed issues and needed to be made faster than str.format(). A special BUILD_STRING opcode was introduced."
   ]
  },
  {
   "cell_type": "markdown",
   "metadata": {},
   "source": [
    "[GoTop](#GoTop) <a id='checkIfFileExists'></a>\n",
    "## Check if file(s) exist"
   ]
  },
  {
   "cell_type": "code",
   "execution_count": 1,
   "metadata": {},
   "outputs": [
    {
     "name": "stdout",
     "output_type": "stream",
     "text": [
      "./Results/Bins1DnormDose1hk_r7mm_VarLx/Let_gpsPr007.00MeV.out doesn't exist\n",
      "./Results/Bins1DnormDose1hk_r7mm_VarLx/Let_gpsPr008.00MeV.out doesn't exist\n",
      "./Results/Bins1DnormDose1hk_r7mm_VarLx/Let_gpsPr009.00MeV.out doesn't exist\n",
      "./Results/Bins1DnormDose1hk_r7mm_VarLx/Let_gpsPr010.00MeV.out doesn't exist\n",
      "./Results/Bins1DnormDose1hk_r7mm_VarLx/Let_gpsPr011.00MeV.out doesn't exist\n"
     ]
    }
   ],
   "source": [
    "# https://linuxize.com/post/python-check-if-file-exists/\n",
    "import os.path\n",
    "\n",
    "dir = \"./Results/V1\"\n",
    "dir = \"./Results/Bins1DnormDose1hkRepeated\"\n",
    "dir = \"./Results/Bins1DnormDose1hk_r7mm_VarLx\"\n",
    "\n",
    "for x in range(7, 12): #222):\n",
    "    file = \"{}/Let_gpsPr{:03d}.00MeV.out\".format(dir, x) #{:03d} is for zero-padding \n",
    "    if os.path.isfile(file):\n",
    "        continue #pass\n",
    "    else:\n",
    "        print (\"{} doesn't exist\".format(file))\n"
   ]
  },
  {
   "cell_type": "markdown",
   "metadata": {},
   "source": [
    "[GoTop](#GoTop) <a id='MeaningOfUnderscore'></a>\n",
    "## Meaning of underscore _ in Python\n",
    "Refs:\n",
    "* https://hackernoon.com/understanding-the-underscore-of-python-309d1a029edc\n",
    "\n",
    "The underscore (`_`) is special in Python.\n",
    "\n",
    "While the underscore (`_`) is used for just snake-case variables and functions in most languages (Of course, not for all), but it has special meanings in Python. If you are python programmer, for `_` in range(10) , `__init__(self)` like syntax may be familiar.\n",
    "\n",
    "This post will explain the about when and how use the underscore (_) and help you understand it.\n",
    "\n",
    "There are 5 cases for using the underscore in Python.\n",
    "\n",
    "1. For storing the value of last expression in interpreter.\n",
    "2. For ignoring the specific values. (so-called “I don’t care”)\n",
    "3. To give special meanings and functions to name of vartiables or functions.\n",
    "4. To use as ‘Internationalization(i18n)’ or ‘Localization(l10n)’ functions.\n",
    "5. To separate the digits of number literal value.\n",
    "\n",
    "Let’s look at each case.\n",
    "### When used in interpreter\n",
    "\n",
    "The python interpreter stores the last expression value to the special variable called ‘_’. This feature has been used in standard CPython interpreter first and you could use it in other Python interpreters too.\n",
    "```\n",
    ">>> 10 \n",
    "10 \n",
    ">>> _ \n",
    "10 \n",
    ">>> _ * 3 \n",
    "30 \n",
    ">>> _ * 20 \n",
    "600\n",
    "```"
   ]
  },
  {
   "cell_type": "code",
   "execution_count": 318,
   "metadata": {},
   "outputs": [],
   "source": [
    "x = 10"
   ]
  },
  {
   "cell_type": "code",
   "execution_count": 319,
   "metadata": {},
   "outputs": [
    {
     "data": {
      "text/plain": [
       "type"
      ]
     },
     "execution_count": 319,
     "metadata": {},
     "output_type": "execute_result"
    }
   ],
   "source": [
    "type(_)"
   ]
  },
  {
   "cell_type": "code",
   "execution_count": 320,
   "metadata": {},
   "outputs": [
    {
     "data": {
      "text/plain": [
       "type"
      ]
     },
     "execution_count": 320,
     "metadata": {},
     "output_type": "execute_result"
    }
   ],
   "source": [
    "_"
   ]
  },
  {
   "cell_type": "code",
   "execution_count": 321,
   "metadata": {},
   "outputs": [
    {
     "data": {
      "text/plain": [
       "type"
      ]
     },
     "execution_count": 321,
     "metadata": {},
     "output_type": "execute_result"
    }
   ],
   "source": [
    "type(_)"
   ]
  },
  {
   "cell_type": "code",
   "execution_count": 322,
   "metadata": {},
   "outputs": [
    {
     "data": {
      "text/plain": [
       "10"
      ]
     },
     "execution_count": 322,
     "metadata": {},
     "output_type": "execute_result"
    }
   ],
   "source": [
    "x"
   ]
  },
  {
   "cell_type": "code",
   "execution_count": 323,
   "metadata": {},
   "outputs": [
    {
     "data": {
      "text/plain": [
       "int"
      ]
     },
     "execution_count": 323,
     "metadata": {},
     "output_type": "execute_result"
    }
   ],
   "source": [
    "type(_)"
   ]
  },
  {
   "cell_type": "code",
   "execution_count": 326,
   "metadata": {},
   "outputs": [
    {
     "data": {
      "text/plain": [
       "int"
      ]
     },
     "execution_count": 326,
     "metadata": {},
     "output_type": "execute_result"
    }
   ],
   "source": [
    "_"
   ]
  },
  {
   "cell_type": "code",
   "execution_count": 327,
   "metadata": {},
   "outputs": [
    {
     "data": {
      "text/plain": [
       "10"
      ]
     },
     "execution_count": 327,
     "metadata": {},
     "output_type": "execute_result"
    }
   ],
   "source": [
    "x"
   ]
  },
  {
   "cell_type": "code",
   "execution_count": 328,
   "metadata": {},
   "outputs": [
    {
     "data": {
      "text/plain": [
       "10"
      ]
     },
     "execution_count": 328,
     "metadata": {},
     "output_type": "execute_result"
    }
   ],
   "source": [
    "_"
   ]
  },
  {
   "cell_type": "code",
   "execution_count": 329,
   "metadata": {},
   "outputs": [
    {
     "data": {
      "text/plain": [
       "12"
      ]
     },
     "execution_count": 329,
     "metadata": {},
     "output_type": "execute_result"
    }
   ],
   "source": [
    "_ + 2"
   ]
  },
  {
   "cell_type": "code",
   "execution_count": 311,
   "metadata": {},
   "outputs": [
    {
     "data": {
      "text/plain": [
       "int"
      ]
     },
     "execution_count": 311,
     "metadata": {},
     "output_type": "execute_result"
    }
   ],
   "source": [
    "type(_)"
   ]
  },
  {
   "cell_type": "code",
   "execution_count": null,
   "metadata": {},
   "outputs": [],
   "source": []
  },
  {
   "cell_type": "markdown",
   "metadata": {},
   "source": [
    "### For Ignoring the values\n",
    "\n",
    "The underscore is also used for ignoring the specific values. If you don’t need the specific values or the values are not used, just assign the values to underscore.\n",
    "```py\n",
    "# Ignore a value when unpacking\n",
    "x, _, y = (1, 2, 3) # x = 1, y = 3 \n",
    "\n",
    "# Ignore the multiple values. It is called \"Extended Unpacking\" which is available in only Python 3.x\n",
    "x, *_, y = (1, 2, 3, 4, 5) # x = 1, y = 5  \n",
    "\n",
    "# Ignore the index\n",
    "for _ in range(10):     \n",
    "    do_something()  \n",
    "    \n",
    "# Ignore a value of specific location\n",
    "for _, val in list_of_tuple:\n",
    "    do_something()\n",
    "```"
   ]
  },
  {
   "cell_type": "markdown",
   "metadata": {},
   "source": [
    "### Give special meanings to name of variables and functions\n",
    "\n",
    "The underscore may be most used in ‘naming’. The PEP8 which is Python convention guideline introduces the following 4 naming cases.\n",
    "\n",
    "#### `_single_leading_underscore`\n",
    "This convention is used for declaring private variables, functions, methods and classes in a module. Anything with this convention are ignored in from module import `*`. \n",
    "However, of course, Python does not supports truly private, so we can not force somethings private ones and also can call it directly from other modules. So sometimes we say it “weak internal use indicator”.\n",
    "```py\n",
    "_internal_name = 'one_nodule' # private variable\n",
    "_internal_version = '1.0' # private variable\n",
    "\n",
    "\n",
    "class _Base: # private class\n",
    "    _hidden_factor = 2 # private variable\n",
    "\n",
    "    def __init__(self, price):\n",
    "        self._price = price\n",
    "\n",
    "    def _double_price(self): # private method\n",
    "        return self._price * self._hidden_factor\n",
    "\n",
    "    def get_double_price(self):\n",
    "        return self._double_price() \n",
    "```"
   ]
  },
  {
   "cell_type": "markdown",
   "metadata": {},
   "source": [
    "#### single_trailing_underscore_\n",
    "This convention could be used for avoiding conflict with Python keywords or built-ins. You might not use it often.\n",
    "```py\n",
    "Tkinter.Toplevel(master, class_='ClassName') # Avoid conflict with 'class' keyword\n",
    "\n",
    "list_ = List.objects.get(1) # Avoid conflict with 'list' built-in type\n",
    "```"
   ]
  },
  {
   "cell_type": "markdown",
   "metadata": {},
   "source": [
    "#### `__double_leading_underscore`\n",
    "This is about syntax rather than a convention. double underscore will mangle the attribute names of a class to avoid conflicts of attribute names between classes. (so-called “mangling” that means that the compiler or interpreter modify the variables or function names with some rules, not use as it is) \n",
    "The mangling rule of Python is adding the `“_ClassName”` to front of attribute names are declared with double underscore. \n",
    "That is, if you write method named “`__method`” in a class, the name will be mangled in “`_ClassName__method`” form.\n",
    "```py\n",
    "class A:\n",
    "    def _single_method(self):\n",
    "        pass\n",
    "\n",
    "    def __double_method(self): # for mangling\n",
    "        pass\n",
    "\n",
    "class B(A):\n",
    "    def __double_method(self): # for mangling\n",
    "        pass\n",
    "```\n",
    "Because of the attributes named with double underscore will be mangled like above, we can not access it with “ClassName.__method”. Sometimes, some people use it as like real private ones using these features, but it is not for private and not recommended for that. For more details, read Python Naming."
   ]
  },
  {
   "cell_type": "markdown",
   "metadata": {},
   "source": [
    "#### `__double_leading_and_trailing_underscore__`\n",
    "This convention is used for special variables or methods (so-called “magic method”) such as `__init__, __len__`. These methods provides special syntactic features or does special things. For example, `__file__` indicates the location of Python file, `__eq__` is executed when a == b expression is excuted. \n",
    "A user of course can make custom special method, it is very rare case, but often might modify the some built-in special methods. (e.g. You should initialize the class with `__init__` that will be executed at first when a instance of class is created.)\n",
    "```py\n",
    "class A:\n",
    "    def __init__(self, a): # use special method '__init__' for initializing\n",
    "        self.a = a\n",
    "\n",
    "    def __custom__(self): # custom special method. you might almost do not use it\n",
    "        pass\n",
    "```\n",
    "### As Internationalization(i18n)/Localization(l10n) functions\n",
    "\n",
    "It is just convention, does not have any syntactic functions. That is, the underscore does not means i18n/l10n, and it is just a convention that binds the i18n/l10n to underscore variable has been from C convention.\n",
    "The built-in library gettext which is for i18n/l10n uses this convention, and Django which is Python web framework supports i18n/l10n also introduces and uses this convention.\n",
    "```py\n",
    "# see official docs : https://docs.python.org/3/library/gettext.html\n",
    "import gettext\n",
    "\n",
    "gettext.bindtextdomain('myapplication','/path/to/my/language/directory')\n",
    "gettext.textdomain('myapplication')\n",
    "_ = gettext.gettext\n",
    "\n",
    "# ...\n",
    "\n",
    "print(_('This is a translatable string.'))\n",
    "```\n",
    "### To separate the digits of number literal value\n",
    "\n",
    "This feature was added in Python 3.6. It is used for separating digits of numbers using underscore for readability.\n",
    "```py\n",
    "dec_base = 1_000_000\n",
    "bin_base = 0b_1111_0000\n",
    "hex_base = 0x_1234_abcd\n",
    "\n",
    "print(dec_base) # 1000000\n",
    "print(bin_base) # 240\n",
    "print(hex_base) # 305441741\n",
    "```"
   ]
  },
  {
   "cell_type": "code",
   "execution_count": 330,
   "metadata": {},
   "outputs": [
    {
     "name": "stdout",
     "output_type": "stream",
     "text": [
      "1000000\n",
      "240\n",
      "305441741\n"
     ]
    }
   ],
   "source": [
    "dec_base = 1_000_000\n",
    "bin_base = 0b_1111_0000\n",
    "hex_base = 0x_1234_abcd\n",
    "\n",
    "print(dec_base) # 1000000\n",
    "print(bin_base) # 240\n",
    "print(hex_base) # 305441741"
   ]
  },
  {
   "cell_type": "code",
   "execution_count": 338,
   "metadata": {},
   "outputs": [
    {
     "name": "stdout",
     "output_type": "stream",
     "text": [
      "3000\n",
      "3000000\n",
      "300540.3425\n",
      "3\n",
      "32\n",
      "256\n"
     ]
    }
   ],
   "source": [
    "a = 3_000\n",
    "print(a)\n",
    "b = 3_000000\n",
    "print(b)\n",
    "c = 3_00_54_0.34_25\n",
    "print(c)\n",
    "ba = 0b_00_11\n",
    "print(ba)\n",
    "ha = 0x_020\n",
    "print(ha)\n",
    "hb = 0x_100\n",
    "print(hb)"
   ]
  },
  {
   "cell_type": "markdown",
   "metadata": {},
   "source": [
    "### Conclusion\n",
    "\n",
    "So far we’ve covered the underscore of Python. While I’m a Python programmer, I didn’t know some of them till wrote this post. Especially, the i18n/l10n is very new to me.\n",
    "Like me, I hope you gain some useful knowledges about underscore from this post.\n",
    "\n",
    "Next, I’ll cover more interesting things about Python. Thank you.\n",
    "\n",
    "Update\n",
    "Added the new feature (PEP 515) was added in Python 3.6"
   ]
  },
  {
   "cell_type": "markdown",
   "metadata": {},
   "source": [
    "[GoTop](#GoTop)<a id='special_variables_and_main'></a>\n",
    "## Special variables  `__name__` and `__main__`  and the main() function in Python"
   ]
  },
  {
   "cell_type": "markdown",
   "metadata": {},
   "source": [
    "## All the special variables (or Dunders) of Python"
   ]
  },
  {
   "cell_type": "code",
   "execution_count": 1,
   "metadata": {},
   "outputs": [
    {
     "data": {
      "text/plain": [
       "['__class__',\n",
       " '__delattr__',\n",
       " '__dir__',\n",
       " '__doc__',\n",
       " '__eq__',\n",
       " '__format__',\n",
       " '__ge__',\n",
       " '__getattribute__',\n",
       " '__gt__',\n",
       " '__hash__',\n",
       " '__init__',\n",
       " '__init_subclass__',\n",
       " '__le__',\n",
       " '__lt__',\n",
       " '__ne__',\n",
       " '__new__',\n",
       " '__reduce__',\n",
       " '__reduce_ex__',\n",
       " '__repr__',\n",
       " '__setattr__',\n",
       " '__sizeof__',\n",
       " '__str__',\n",
       " '__subclasshook__']"
      ]
     },
     "execution_count": 1,
     "metadata": {},
     "output_type": "execute_result"
    }
   ],
   "source": [
    "dir(object)"
   ]
  },
  {
   "cell_type": "code",
   "execution_count": 2,
   "metadata": {},
   "outputs": [
    {
     "name": "stdout",
     "output_type": "stream",
     "text": [
      "/Users/kpadhikari/Desktop/BigFls/CLAS12/GitProj/KPAdhikari/PythonStuff/IPython_Jupyter_Notebooks\r\n"
     ]
    }
   ],
   "source": [
    "!pwd"
   ]
  },
  {
   "cell_type": "code",
   "execution_count": 3,
   "metadata": {},
   "outputs": [
    {
     "name": "stdout",
     "output_type": "stream",
     "text": [
      "JupyterNotebookTipsTricksAndShortcuts.ipynb\r\n",
      "NumPyArrayTutorial_1.ipynb\r\n",
      "Pandas Tutorial walkthrough 3.ipynb\r\n",
      "Python Basics 1.ipynb\r\n",
      "Python3_Tests.ipynb\r\n",
      "PythonForDataScience_SortItLater.ipynb\r\n",
      "Python_Basics.ipynb\r\n",
      "Python_Reading_Writing_Data_From_Files.ipynb\r\n",
      "\u001b[34mScikitLearn\u001b[m\u001b[m\r\n",
      "\u001b[34mTuts\u001b[m\u001b[m\r\n",
      "\u001b[34mdata\u001b[m\u001b[m\r\n",
      "distros.json\r\n",
      "distros.json~\r\n",
      "file_1.txt\r\n",
      "foo.csv\r\n",
      "\u001b[34mimages\u001b[m\u001b[m\r\n",
      "jupyter_architecture.png\r\n",
      "jupyter_stocks.ipynb\r\n",
      "myFirstNotebook_kpa.ipynb\r\n",
      "myPandasTutorialWalkthrough1.ipynb\r\n",
      "pandas_employees.csv\r\n",
      "pandas_employees.json\r\n",
      "pandas_employees.xls\r\n",
      "pandas_tutorial_on_stock_price.ipynb\r\n",
      "pandas_tutorial_on_stock_price.py\r\n",
      "python_pandas_notebook.ipynb\r\n",
      "readme.txt\r\n",
      "testExcel2.xlsx\r\n",
      "testExcelOutput1.xlsx\r\n",
      "testRBE.xlsx\r\n"
     ]
    }
   ],
   "source": [
    "!ls"
   ]
  },
  {
   "cell_type": "markdown",
   "metadata": {},
   "source": [
    "Ref: https://stackoverflow.com/questions/8920341/finding-a-list-of-all-double-underscore-variables\n",
    "\n",
    "If you want to see magic names whether documented or not, go to the Lib directory and run:\n",
    "```\n",
    "egrep -oh '__[A-Za-z_][A-Za-z_0-9]*__' *.py | sort | uniq\n",
    "```\n",
    "\n",
    "That produces:\n",
    "```\n",
    "'__all__'\n",
    "'__args__'\n",
    "'__author__'\n",
    "'__bases__'\n",
    "'__builtin__'\n",
    "'__builtins__'\n",
    "'__cached__'\n",
    "'__call__'\n",
    "'__class__'\n",
    "'__copy__'\n",
    "'__credits__'\n",
    "'__date__'\n",
    "'__decimal_context__'\n",
    "'__deepcopy__'\n",
    "'__dict__'\n",
    "'__doc__'\n",
    "'__exception__'\n",
    "'__file__'\n",
    "'__flags__'\n",
    "'__ge__'\n",
    "'__getinitargs__'\n",
    "'__getstate__'\n",
    "'__gt__'\n",
    "'__import__'\n",
    "'__importer__'\n",
    "'__init__'\n",
    "'__ispkg__'\n",
    "'__iter__'\n",
    "'__le__'\n",
    "'__len__'\n",
    "'__loader__'\n",
    "'__lt__'\n",
    "'__main__'\n",
    "'__module__'\n",
    "'__mro__'\n",
    "'__name__'\n",
    "'__package__'\n",
    "'__path__'\n",
    "'__pkgdir__'\n",
    "'__return__'\n",
    "'__safe_for_unpickling__'\n",
    "'__setstate__'\n",
    "'__slots__'\n",
    "'__temp__'\n",
    "'__test__'\n",
    "'__version__'\n",
    "```\n",
    "\n",
    "* Interestingly, there are dozens of well-known dunder names that aren't in this list: add, iadd, radd, etc. – Ned Batchelder Jan 24 '12 at 0:54\n",
    "* @NedBatchelder To get a more complete list, you need to recursively search Lib and the directories below it: find Lib -name '*.py' -exec egrep -oh '__[A-Za-z_][A-Za-z_0-9]*__' '{}' \\; | sort | uniq. You'll see that there are many more names -- 256 of them on my Py27 checkout :) – Raymond Hettinger Jan 24 '12 at 2:13\n",
    "\n",
    "The complete list used by Python is given in the [Python Language Reference section 3, \"Data model\"](http://docs.python.org/reference/datamodel.html). Every other one is non-standard or used by third-party modules and is documented separately.\n",
    "\n",
    "* PEP 8 lists __version__ as the only global variable for purely documentation purposes. – S.Lott Jan 19 '12 at 3:11\n",
    "* Interestingly, __version__ does not appear in the linked language reference. – Bengt Dec 9 '13 at 23:59\n",
    "* That's because it's not part of the language. – Ignacio Vazquez-Abrams Dec 10 '13 at 0:03\n",
    "\n",
    "when i use\n",
    "\n",
    "dir(object)\n",
    "\n",
    "i got these:\n",
    "\n",
    "```\n",
    "'__class__', '__delattr__', '__dir__', '__doc__', '__eq__', '__format__', '__ge__', '__getattribute__', '__gt__', '__has\n",
    "h__', '__init__', '__init_subclass__', '__le__', '__lt__', '__ne__', '__new__', '__reduce__', '__reduce_ex__', '__repr__'\n",
    ", '__setattr__', '__sizeof__', '__str__', '__subclasshook__'\n",
    "```\n",
    "and i think they are the dunder names every object will have in python"
   ]
  },
  {
   "cell_type": "markdown",
   "metadata": {},
   "source": [
    "[GoTop](#GoTop) <a id='DunderOrMagicMethodsInPython'></a>\n",
    "## Dunder or Magic Methods in Python\n",
    "Dunder or magic methods in Python are the methods having two prefix and suffix underscores in the method name. Dunder here means **“Double Under (Underscores)”**. These are commonly used for operator overloading. Few examples for magic methods are: `__init__, __add__, __len__, __repr__` etc.\n",
    "\n",
    "The `__init__` method for initialization is invoked without any call, when an instance of a class is created, like constructors in certain other programming languages such as C++, Java, C#, PHP etc. These methods are the reason we can add two strings with ‘+’ operator without any explicit typecasting.\n",
    "\n",
    "Here’s a simple implementation :"
   ]
  },
  {
   "cell_type": "code",
   "execution_count": 55,
   "metadata": {},
   "outputs": [
    {
     "name": "stdout",
     "output_type": "stream",
     "text": [
      "<__main__.String object at 0x10b7fa990>\n"
     ]
    }
   ],
   "source": [
    "# declare our own string class \n",
    "class String: \n",
    "      \n",
    "    # magic method to initiate object \n",
    "    def __init__(self, string): \n",
    "        self.string = string \n",
    "          \n",
    "# Driver Code \n",
    "if __name__ == '__main__': \n",
    "      \n",
    "    # object creation \n",
    "    string1 = String('Hello') \n",
    "  \n",
    "    # print object location \n",
    "    print(string1) \n"
   ]
  },
  {
   "cell_type": "markdown",
   "metadata": {},
   "source": [
    "The above snippet of code prints only the memory address of the string object. Let’s add a **`__repr__`** method to represent our object."
   ]
  },
  {
   "cell_type": "code",
   "execution_count": 56,
   "metadata": {},
   "outputs": [
    {
     "name": "stdout",
     "output_type": "stream",
     "text": [
      "Object: Hello\n"
     ]
    }
   ],
   "source": [
    "# declare our own string class \n",
    "class String: \n",
    "      \n",
    "    # magic method to initiate object \n",
    "    def __init__(self, string): \n",
    "        self.string = string \n",
    "          \n",
    "    # print our string object \n",
    "    def __repr__(self): \n",
    "        return 'Object: {}'.format(self.string) \n",
    "  \n",
    "# Driver Code \n",
    "if __name__ == '__main__': \n",
    "      \n",
    "    # object creation \n",
    "    string1 = String('Hello') \n",
    "  \n",
    "    # print object location \n",
    "    print(string1) \n"
   ]
  },
  {
   "cell_type": "markdown",
   "metadata": {},
   "source": [
    "**If we try to add a string to it :**"
   ]
  },
  {
   "cell_type": "code",
   "execution_count": 57,
   "metadata": {},
   "outputs": [
    {
     "ename": "TypeError",
     "evalue": "unsupported operand type(s) for +: 'String' and 'str'",
     "output_type": "error",
     "traceback": [
      "\u001b[0;31m---------------------------------------------------------------------------\u001b[0m",
      "\u001b[0;31mTypeError\u001b[0m                                 Traceback (most recent call last)",
      "\u001b[0;32m<ipython-input-57-0843170b966b>\u001b[0m in \u001b[0;36m<module>\u001b[0;34m\u001b[0m\n\u001b[1;32m     17\u001b[0m \u001b[0;34m\u001b[0m\u001b[0m\n\u001b[1;32m     18\u001b[0m     \u001b[0;31m# concatenate String object and a string\u001b[0m\u001b[0;34m\u001b[0m\u001b[0;34m\u001b[0m\u001b[0;34m\u001b[0m\u001b[0m\n\u001b[0;32m---> 19\u001b[0;31m     \u001b[0mprint\u001b[0m\u001b[0;34m(\u001b[0m\u001b[0mstring1\u001b[0m \u001b[0;34m+\u001b[0m\u001b[0;34m' world'\u001b[0m\u001b[0;34m)\u001b[0m\u001b[0;34m\u001b[0m\u001b[0;34m\u001b[0m\u001b[0m\n\u001b[0m",
      "\u001b[0;31mTypeError\u001b[0m: unsupported operand type(s) for +: 'String' and 'str'"
     ]
    }
   ],
   "source": [
    "# declare our own string class \n",
    "class String: \n",
    "      \n",
    "    # magic method to initiate object \n",
    "    def __init__(self, string): \n",
    "        self.string = string \n",
    "          \n",
    "    # print our string object \n",
    "    def __repr__(self): \n",
    "        return 'Object: {}'.format(self.string) \n",
    "  \n",
    "# Driver Code \n",
    "if __name__ == '__main__': \n",
    "      \n",
    "    # object creation \n",
    "    string1 = String('Hello') \n",
    "      \n",
    "    # concatenate String object and a string \n",
    "    print(string1 +' world') \n"
   ]
  },
  {
   "cell_type": "markdown",
   "metadata": {},
   "source": [
    "Now add `__add__` method to String class :"
   ]
  },
  {
   "cell_type": "code",
   "execution_count": 58,
   "metadata": {},
   "outputs": [
    {
     "name": "stdout",
     "output_type": "stream",
     "text": [
      "Hello Geeks\n"
     ]
    }
   ],
   "source": [
    "\n",
    "# declare our own string class \n",
    "class String: \n",
    "      \n",
    "    # magic method to initiate object \n",
    "    def __init__(self, string): \n",
    "        self.string = string  \n",
    "          \n",
    "    # print our string object \n",
    "    def __repr__(self): \n",
    "        return 'Object: {}'.format(self.string) \n",
    "          \n",
    "    def __add__(self, other): \n",
    "        return self.string + other \n",
    "  \n",
    "# Driver Code \n",
    "if __name__ == '__main__': \n",
    "      \n",
    "    # object creation \n",
    "    string1 = String('Hello') \n",
    "      \n",
    "    # concatenate String object and a string \n",
    "    print(string1 +' Geeks') \n"
   ]
  },
  {
   "cell_type": "markdown",
   "metadata": {},
   "source": [
    "[GoTop](#GoTop)<a id='EnrichingPythonClassesWithDunder'></a> \n",
    "## Enriching Your Python Classes With Dunder (Magic, Special) Methods\n",
    "\n",
    "[By Bob Belderbos](https://dbader.org/blog/python-dunder-methods)\n",
    "\n",
    "What Python’s “magic methods” are and how you would use them to make a simple account class more Pythonic. \n",
    "\n",
    "### What Are Dunder Methods?\n",
    "\n",
    "In Python, special methods are a set of predefined methods you can use to enrich your classes. They are easy to recognize because they start and end with double underscores, for example `__init__` or `__str__`.\n",
    "\n",
    "**As it quickly became tiresome to say** under-under-method-under-under **Pythonistas** adopted the term “dunder methods”, a short form of “double under.”\n",
    "\n",
    "These “dunders” or “special methods” in Python are also sometimes called “magic methods.” But using **this terminology can make them seem more complicated than they really are** — at the end of the day **there’s nothing “magical” about them**. [You should treat these methods like a normal language feature](http://amontalenti.com/2013/04/11/python-double-under-double-wonder).\n",
    "\n",
    "**Dunder methods let you emulate the behavior of built-in types**. For example, to get the length of a string you can call len('string'). But an **empty class definition doesn’t support this behavior out of the box**:"
   ]
  },
  {
   "cell_type": "code",
   "execution_count": 59,
   "metadata": {},
   "outputs": [
    {
     "ename": "TypeError",
     "evalue": "object of type 'NoLenSupport' has no len()",
     "output_type": "error",
     "traceback": [
      "\u001b[0;31m---------------------------------------------------------------------------\u001b[0m",
      "\u001b[0;31mTypeError\u001b[0m                                 Traceback (most recent call last)",
      "\u001b[0;32m<ipython-input-59-acc1060f7b33>\u001b[0m in \u001b[0;36m<module>\u001b[0;34m\u001b[0m\n\u001b[1;32m      3\u001b[0m \u001b[0;34m\u001b[0m\u001b[0m\n\u001b[1;32m      4\u001b[0m \u001b[0mobj\u001b[0m \u001b[0;34m=\u001b[0m \u001b[0mNoLenSupport\u001b[0m\u001b[0;34m(\u001b[0m\u001b[0;34m)\u001b[0m\u001b[0;34m\u001b[0m\u001b[0;34m\u001b[0m\u001b[0m\n\u001b[0;32m----> 5\u001b[0;31m \u001b[0mlen\u001b[0m\u001b[0;34m(\u001b[0m\u001b[0mobj\u001b[0m\u001b[0;34m)\u001b[0m\u001b[0;34m\u001b[0m\u001b[0;34m\u001b[0m\u001b[0m\n\u001b[0m",
      "\u001b[0;31mTypeError\u001b[0m: object of type 'NoLenSupport' has no len()"
     ]
    }
   ],
   "source": [
    "class NoLenSupport:\n",
    "    pass\n",
    "\n",
    "obj = NoLenSupport()\n",
    "len(obj)"
   ]
  },
  {
   "cell_type": "markdown",
   "metadata": {},
   "source": [
    "To fix this, you can add a `__len__` dunder method to your class:"
   ]
  },
  {
   "cell_type": "code",
   "execution_count": 60,
   "metadata": {},
   "outputs": [
    {
     "data": {
      "text/plain": [
       "42"
      ]
     },
     "execution_count": 60,
     "metadata": {},
     "output_type": "execute_result"
    }
   ],
   "source": [
    "class LenSupport:\n",
    "    def __len__(self):\n",
    "        return 42\n",
    "\n",
    "obj = LenSupport()\n",
    "len(obj)"
   ]
  },
  {
   "cell_type": "markdown",
   "metadata": {},
   "source": [
    "Another example is slicing. You can implement a `__getitem__` method which allows you to use Python’s list slicing syntax: `obj[start:stop]`."
   ]
  },
  {
   "cell_type": "markdown",
   "metadata": {},
   "source": [
    "## Special Methods and the Python Data Model\n",
    "\n",
    "This elegant design is known as the [Python data model](https://docs.python.org/3/reference/datamodel.html) and **lets developers tap into rich language features like sequences, iteration, operator overloading, attribute access, etc**.\n",
    "\n",
    "You can **see Python’s data model as a powerful API you can interface with** by implementing one or more dunder methods. **If you want to write more Pythonic code, knowing how and when to use dunder methods is an important step.**\n",
    "\n",
    "For a beginner this might be slightly overwhelming at first though. No worries, in this article I will guide you through the use of dunder methods using a simple Account class as an example.\n",
    "\n",
    "## Enriching a Simple Account Class\n",
    "\n",
    "Throughout this article, I will enrich a simple Python class with various dunder methods to unlock the following language features:\n",
    "\n",
    "* Initialization of new objects\n",
    "* Object representation\n",
    "* Enable iteration\n",
    "* Operator overloading (comparison)\n",
    "* Operator overloading (addition)\n",
    "* Method invocation\n",
    "* Context manager support (with statement)\n",
    "\n",
    "You can find the final code example [here](https://github.com/pybites/dunders/blob/master/account.py). I’ve also put together a [Jupyter notebook](#https://github.com/pybites/dunders/blob/master/richer-classes-with-dunders.ipynb) so you can more easily play with the examples.\n",
    "\n",
    "## Object Initialization: `__init__`\n",
    "\n",
    "Right upon starting my class I already need a special method. To construct account objects from the Account class I need a constructor which in Python is the `__init__` dunder:"
   ]
  },
  {
   "cell_type": "code",
   "execution_count": 81,
   "metadata": {},
   "outputs": [],
   "source": [
    "class Account:\n",
    "    \"\"\"A simple account class\"\"\"\n",
    "\n",
    "    def __init__(self, owner, amount=0):\n",
    "        \"\"\"\n",
    "        This is the constructor that lets us create\n",
    "        objects from this class\n",
    "        \"\"\"\n",
    "        self.owner = owner\n",
    "        self.amount = amount\n",
    "        self._transactions = [] #kp: This is an empty list (to be appended/filled later on)"
   ]
  },
  {
   "cell_type": "markdown",
   "metadata": {},
   "source": [
    "The constructor takes care of setting up the object. In this case it **receives the owner name, an optional start amount and defines an internal transactions list** to keep track of deposits and withdrawals.\n",
    "\n",
    "This allows us to create new accounts like this:"
   ]
  },
  {
   "cell_type": "code",
   "execution_count": 82,
   "metadata": {},
   "outputs": [],
   "source": [
    "acc = Account('bob') # default amount = 0"
   ]
  },
  {
   "cell_type": "code",
   "execution_count": 83,
   "metadata": {},
   "outputs": [],
   "source": [
    "acc = Account('bob', 10)"
   ]
  },
  {
   "cell_type": "markdown",
   "metadata": {},
   "source": [
    "### Object Representation: `__str__, __repr__`\n",
    "\n",
    "It’s common practice in Python to provide a string representation of your object for the consumer of your class (a bit like API documentation.) There are two ways to do this using dunder methods:\n",
    "\n",
    "* **`__repr__`**: The “official” string representation of an object. This is how you would make an object of the class. The goal of `__repr__` is to be unambiguous.\n",
    "* **`__str__`**: The “informal” or nicely printable string representation of an object. This is for the end-user.\n",
    "\n",
    "Let’s implement these two methods on the Account class:"
   ]
  },
  {
   "cell_type": "code",
   "execution_count": 84,
   "metadata": {},
   "outputs": [],
   "source": [
    "class Account:\n",
    "    # ... (see above)\n",
    "\n",
    "    def __repr__(self):\n",
    "        return 'Account({!r}, {!r})'.format(self.owner, self.amount)\n",
    "\n",
    "    def __str__(self):\n",
    "        return 'Account of {} with starting amount: {}'.format(\n",
    "            self.owner, self.amount)\n"
   ]
  },
  {
   "cell_type": "markdown",
   "metadata": {},
   "source": [
    "If you don’t want to hardcode \"Account\" as the name for the class you can also use `self.__class__.__name__` to access it programmatically.\n",
    "\n",
    "If you wanted to implement just one of these to-string methods on a Python class, make sure it’s `__repr__`.\n",
    "\n",
    "Now I can query the object in various ways and always get a nice string representation:"
   ]
  },
  {
   "cell_type": "code",
   "execution_count": 88,
   "metadata": {},
   "outputs": [
    {
     "ename": "TypeError",
     "evalue": "Account() takes no arguments",
     "output_type": "error",
     "traceback": [
      "\u001b[0;31m---------------------------------------------------------------------------\u001b[0m",
      "\u001b[0;31mTypeError\u001b[0m                                 Traceback (most recent call last)",
      "\u001b[0;32m<ipython-input-88-77c50ccc7aa7>\u001b[0m in \u001b[0;36m<module>\u001b[0;34m\u001b[0m\n\u001b[0;32m----> 1\u001b[0;31m \u001b[0macc\u001b[0m \u001b[0;34m=\u001b[0m \u001b[0mAccount\u001b[0m\u001b[0;34m(\u001b[0m\u001b[0;34m'bob'\u001b[0m\u001b[0;34m,\u001b[0m \u001b[0;36m10\u001b[0m\u001b[0;34m)\u001b[0m\u001b[0;34m\u001b[0m\u001b[0;34m\u001b[0m\u001b[0m\n\u001b[0m\u001b[1;32m      2\u001b[0m \u001b[0mstr\u001b[0m\u001b[0;34m(\u001b[0m\u001b[0macc\u001b[0m\u001b[0;34m)\u001b[0m\u001b[0;34m\u001b[0m\u001b[0;34m\u001b[0m\u001b[0m\n",
      "\u001b[0;31mTypeError\u001b[0m: Account() takes no arguments"
     ]
    }
   ],
   "source": [
    "acc = Account('bob', 10)\n",
    "str(acc)"
   ]
  },
  {
   "cell_type": "code",
   "execution_count": 86,
   "metadata": {},
   "outputs": [
    {
     "name": "stdout",
     "output_type": "stream",
     "text": [
      "<__main__.Account object at 0x10b805490>\n"
     ]
    }
   ],
   "source": [
    "print(acc)"
   ]
  },
  {
   "cell_type": "code",
   "execution_count": 87,
   "metadata": {},
   "outputs": [
    {
     "data": {
      "text/plain": [
       "'<__main__.Account object at 0x10b805490>'"
      ]
     },
     "execution_count": 87,
     "metadata": {},
     "output_type": "execute_result"
    }
   ],
   "source": [
    "repr(acc)"
   ]
  },
  {
   "cell_type": "markdown",
   "metadata": {},
   "source": [
    "kp: Now I am writing above class again combining the two parts above into one as follows and trying out the str(acc) etc again."
   ]
  },
  {
   "cell_type": "code",
   "execution_count": 89,
   "metadata": {},
   "outputs": [],
   "source": [
    "class Account:\n",
    "    \"\"\"A simple account class\"\"\"\n",
    "\n",
    "    def __init__(self, owner, amount=0):\n",
    "        \"\"\"\n",
    "        This is the constructor that lets us create\n",
    "        objects from this class\n",
    "        \"\"\"\n",
    "        self.owner = owner\n",
    "        self.amount = amount\n",
    "        self._transactions = [] #kp: This is an empty list (to be appended/filled later on)\n",
    "    def __repr__(self):\n",
    "        return 'Account({!r}, {!r})'.format(self.owner, self.amount)\n",
    "\n",
    "    def __str__(self):\n",
    "        return 'Account of {} with starting amount: {}'.format(\n",
    "            self.owner, self.amount)"
   ]
  },
  {
   "cell_type": "code",
   "execution_count": 90,
   "metadata": {},
   "outputs": [
    {
     "data": {
      "text/plain": [
       "'Account of bob with starting amount: 10'"
      ]
     },
     "execution_count": 90,
     "metadata": {},
     "output_type": "execute_result"
    }
   ],
   "source": [
    "acc = Account('bob', 10)\n",
    "str(acc)"
   ]
  },
  {
   "cell_type": "code",
   "execution_count": 91,
   "metadata": {},
   "outputs": [
    {
     "name": "stdout",
     "output_type": "stream",
     "text": [
      "Account of bob with starting amount: 10\n"
     ]
    }
   ],
   "source": [
    "print(acc)"
   ]
  },
  {
   "cell_type": "code",
   "execution_count": 92,
   "metadata": {},
   "outputs": [
    {
     "data": {
      "text/plain": [
       "\"Account('bob', 10)\""
      ]
     },
     "execution_count": 92,
     "metadata": {},
     "output_type": "execute_result"
    }
   ],
   "source": [
    "repr(acc)"
   ]
  },
  {
   "cell_type": "markdown",
   "metadata": {},
   "source": [
    "## Iteration: `__len__, __getitem__, __reversed__`\n",
    "\n",
    "In order to iterate over our account object I need to add some transactions. So first, I’ll define a simple method to add transactions. I’ll keep it simple because this is just setup code to explain dunder methods, and not a production-ready accounting system:\n",
    "```py\n",
    "def add_transaction(self, amount):\n",
    "    if not isinstance(amount, int):\n",
    "        raise ValueError('please use int for amount')\n",
    "    self._transactions.append(amount)\n",
    "```\n",
    "I also defined a [property](https://pybit.es/property-decorator.html) (kp: a decorator?) to calculate the balance on the account so I can conveniently access it with account.balance. This method takes the start amount and adds a sum of all the transactions:\n",
    "```py\n",
    "@property\n",
    "def balance(self):\n",
    "    return self.amount + sum(self._transactions)\n",
    "```"
   ]
  },
  {
   "cell_type": "code",
   "execution_count": 93,
   "metadata": {},
   "outputs": [],
   "source": [
    "class Account:\n",
    "    \"\"\"A simple account class\"\"\"\n",
    "\n",
    "    def __init__(self, owner, amount=0):\n",
    "        \"\"\"\n",
    "        This is the constructor that lets us create\n",
    "        objects from this class\n",
    "        \"\"\"\n",
    "        self.owner = owner\n",
    "        self.amount = amount\n",
    "        self._transactions = [] #kp: This is an empty list (to be appended/filled later on)\n",
    "    def __repr__(self):\n",
    "        return 'Account({!r}, {!r})'.format(self.owner, self.amount)\n",
    "\n",
    "    def __str__(self):\n",
    "        return 'Account of {} with starting amount: {}'.format(\n",
    "            self.owner, self.amount)\n",
    "    \n",
    "    def add_transaction(self, amount):\n",
    "        if not isinstance(amount, int):\n",
    "            raise ValueError('please use int for amount')\n",
    "        self._transactions.append(amount)\n",
    "        \n",
    "    @property\n",
    "    def balance(self):\n",
    "        return self.amount + sum(self._transactions)"
   ]
  },
  {
   "cell_type": "code",
   "execution_count": 96,
   "metadata": {},
   "outputs": [],
   "source": [
    "acc = Account('bob', 10)"
   ]
  },
  {
   "cell_type": "code",
   "execution_count": 97,
   "metadata": {},
   "outputs": [],
   "source": [
    "acc.add_transaction(20)"
   ]
  },
  {
   "cell_type": "code",
   "execution_count": 98,
   "metadata": {},
   "outputs": [],
   "source": [
    "acc.add_transaction(-10)"
   ]
  },
  {
   "cell_type": "code",
   "execution_count": 99,
   "metadata": {},
   "outputs": [],
   "source": [
    "acc.add_transaction(50)"
   ]
  },
  {
   "cell_type": "code",
   "execution_count": 100,
   "metadata": {},
   "outputs": [],
   "source": [
    "acc.add_transaction(-20)"
   ]
  },
  {
   "cell_type": "code",
   "execution_count": 101,
   "metadata": {},
   "outputs": [],
   "source": [
    "acc.add_transaction(30)"
   ]
  },
  {
   "cell_type": "code",
   "execution_count": 102,
   "metadata": {},
   "outputs": [
    {
     "data": {
      "text/plain": [
       "80"
      ]
     },
     "execution_count": 102,
     "metadata": {},
     "output_type": "execute_result"
    }
   ],
   "source": [
    "acc.balance"
   ]
  },
  {
   "cell_type": "markdown",
   "metadata": {},
   "source": [
    "Now I have some data and I want to know:\n",
    "\n",
    "- How many transactions were there?\n",
    "- Index the account object to get transaction number …\n",
    "- Loop over the transactions\n",
    "\n",
    "With the class definition I have this is currently not possible. All of the following statements raise TypeError exceptions:"
   ]
  },
  {
   "cell_type": "code",
   "execution_count": 103,
   "metadata": {},
   "outputs": [
    {
     "ename": "TypeError",
     "evalue": "object of type 'Account' has no len()",
     "output_type": "error",
     "traceback": [
      "\u001b[0;31m---------------------------------------------------------------------------\u001b[0m",
      "\u001b[0;31mTypeError\u001b[0m                                 Traceback (most recent call last)",
      "\u001b[0;32m<ipython-input-103-a4d20ad835dd>\u001b[0m in \u001b[0;36m<module>\u001b[0;34m\u001b[0m\n\u001b[0;32m----> 1\u001b[0;31m \u001b[0mlen\u001b[0m\u001b[0;34m(\u001b[0m\u001b[0macc\u001b[0m\u001b[0;34m)\u001b[0m\u001b[0;34m\u001b[0m\u001b[0;34m\u001b[0m\u001b[0m\n\u001b[0m",
      "\u001b[0;31mTypeError\u001b[0m: object of type 'Account' has no len()"
     ]
    }
   ],
   "source": [
    "len(acc)"
   ]
  },
  {
   "cell_type": "code",
   "execution_count": 104,
   "metadata": {},
   "outputs": [
    {
     "ename": "TypeError",
     "evalue": "'Account' object is not iterable",
     "output_type": "error",
     "traceback": [
      "\u001b[0;31m---------------------------------------------------------------------------\u001b[0m",
      "\u001b[0;31mTypeError\u001b[0m                                 Traceback (most recent call last)",
      "\u001b[0;32m<ipython-input-104-b5c856a161c8>\u001b[0m in \u001b[0;36m<module>\u001b[0;34m\u001b[0m\n\u001b[0;32m----> 1\u001b[0;31m \u001b[0;32mfor\u001b[0m \u001b[0mt\u001b[0m \u001b[0;32min\u001b[0m \u001b[0macc\u001b[0m\u001b[0;34m:\u001b[0m\u001b[0;34m\u001b[0m\u001b[0;34m\u001b[0m\u001b[0m\n\u001b[0m\u001b[1;32m      2\u001b[0m     \u001b[0mprint\u001b[0m\u001b[0;34m(\u001b[0m\u001b[0mt\u001b[0m\u001b[0;34m)\u001b[0m\u001b[0;34m\u001b[0m\u001b[0;34m\u001b[0m\u001b[0m\n",
      "\u001b[0;31mTypeError\u001b[0m: 'Account' object is not iterable"
     ]
    }
   ],
   "source": [
    "for t in acc:\n",
    "    print(t)"
   ]
  },
  {
   "cell_type": "code",
   "execution_count": 105,
   "metadata": {},
   "outputs": [
    {
     "ename": "TypeError",
     "evalue": "'Account' object is not subscriptable",
     "output_type": "error",
     "traceback": [
      "\u001b[0;31m---------------------------------------------------------------------------\u001b[0m",
      "\u001b[0;31mTypeError\u001b[0m                                 Traceback (most recent call last)",
      "\u001b[0;32m<ipython-input-105-676f3d8a4b8c>\u001b[0m in \u001b[0;36m<module>\u001b[0;34m\u001b[0m\n\u001b[0;32m----> 1\u001b[0;31m \u001b[0macc\u001b[0m\u001b[0;34m[\u001b[0m\u001b[0;36m1\u001b[0m\u001b[0;34m]\u001b[0m\u001b[0;34m\u001b[0m\u001b[0;34m\u001b[0m\u001b[0m\n\u001b[0m",
      "\u001b[0;31mTypeError\u001b[0m: 'Account' object is not subscriptable"
     ]
    }
   ],
   "source": [
    "acc[1]"
   ]
  },
  {
   "cell_type": "markdown",
   "metadata": {},
   "source": [
    "Dunder methods to the rescue! It only takes a little bit of code to make the class iterable:"
   ]
  },
  {
   "cell_type": "code",
   "execution_count": 112,
   "metadata": {},
   "outputs": [],
   "source": [
    "class Account:\n",
    "    \"\"\"A simple account class\"\"\"\n",
    "\n",
    "    def __init__(self, owner, amount=0):\n",
    "        \"\"\"\n",
    "        This is the constructor that lets us create\n",
    "        objects from this class\n",
    "        \"\"\"\n",
    "        self.owner = owner\n",
    "        self.amount = amount\n",
    "        self._transactions = [] #kp: This is an empty list (to be appended/filled later on)\n",
    "        \n",
    "    def __repr__(self):\n",
    "        return 'Account({!r}, {!r})'.format(self.owner, self.amount)\n",
    "\n",
    "    def __str__(self):\n",
    "        return 'Account of {} with starting amount: {}'.format(\n",
    "            self.owner, self.amount)\n",
    "        \n",
    "    def __len__(self):\n",
    "        return len(self._transactions)\n",
    "\n",
    "    def __getitem__(self, position):\n",
    "        return self._transactions[position]\n",
    "    \n",
    "    def add_transaction(self, amount):\n",
    "        if not isinstance(amount, int):\n",
    "            raise ValueError('please use int for amount')\n",
    "        self._transactions.append(amount)\n",
    "        \n",
    "    @property\n",
    "    def balance(self):\n",
    "        return self.amount + sum(self._transactions)\n"
   ]
  },
  {
   "cell_type": "markdown",
   "metadata": {},
   "source": [
    "Now the previous statements work:"
   ]
  },
  {
   "cell_type": "code",
   "execution_count": 113,
   "metadata": {},
   "outputs": [
    {
     "ename": "TypeError",
     "evalue": "object of type 'Account' has no len()",
     "output_type": "error",
     "traceback": [
      "\u001b[0;31m---------------------------------------------------------------------------\u001b[0m",
      "\u001b[0;31mTypeError\u001b[0m                                 Traceback (most recent call last)",
      "\u001b[0;32m<ipython-input-113-a4d20ad835dd>\u001b[0m in \u001b[0;36m<module>\u001b[0;34m\u001b[0m\n\u001b[0;32m----> 1\u001b[0;31m \u001b[0mlen\u001b[0m\u001b[0;34m(\u001b[0m\u001b[0macc\u001b[0m\u001b[0;34m)\u001b[0m\u001b[0;34m\u001b[0m\u001b[0;34m\u001b[0m\u001b[0m\n\u001b[0m",
      "\u001b[0;31mTypeError\u001b[0m: object of type 'Account' has no len()"
     ]
    }
   ],
   "source": [
    "len(acc)"
   ]
  },
  {
   "cell_type": "code",
   "execution_count": 110,
   "metadata": {},
   "outputs": [
    {
     "ename": "TypeError",
     "evalue": "'Account' object is not iterable",
     "output_type": "error",
     "traceback": [
      "\u001b[0;31m---------------------------------------------------------------------------\u001b[0m",
      "\u001b[0;31mTypeError\u001b[0m                                 Traceback (most recent call last)",
      "\u001b[0;32m<ipython-input-110-b5c856a161c8>\u001b[0m in \u001b[0;36m<module>\u001b[0;34m\u001b[0m\n\u001b[0;32m----> 1\u001b[0;31m \u001b[0;32mfor\u001b[0m \u001b[0mt\u001b[0m \u001b[0;32min\u001b[0m \u001b[0macc\u001b[0m\u001b[0;34m:\u001b[0m\u001b[0;34m\u001b[0m\u001b[0;34m\u001b[0m\u001b[0m\n\u001b[0m\u001b[1;32m      2\u001b[0m     \u001b[0mprint\u001b[0m\u001b[0;34m(\u001b[0m\u001b[0mt\u001b[0m\u001b[0;34m)\u001b[0m\u001b[0;34m\u001b[0m\u001b[0;34m\u001b[0m\u001b[0m\n",
      "\u001b[0;31mTypeError\u001b[0m: 'Account' object is not iterable"
     ]
    }
   ],
   "source": [
    "for t in acc:\n",
    "    print(t)"
   ]
  },
  {
   "cell_type": "markdown",
   "metadata": {},
   "source": [
    "kp: So far, len, print etc are not working yet because we are using these methods on objects of old 'Account' type where we didn't have the corresponding dunder methods defined. Below, we'll create new object (with the same name though), and this time it will work."
   ]
  },
  {
   "cell_type": "code",
   "execution_count": 114,
   "metadata": {},
   "outputs": [],
   "source": [
    "acc = Account('bob', 10)"
   ]
  },
  {
   "cell_type": "code",
   "execution_count": 115,
   "metadata": {},
   "outputs": [],
   "source": [
    "acc.add_transaction(20)\n",
    "acc.add_transaction(-10)\n",
    "acc.add_transaction(50)\n",
    "acc.add_transaction(-20)\n",
    "acc.add_transaction(30)"
   ]
  },
  {
   "cell_type": "code",
   "execution_count": 116,
   "metadata": {},
   "outputs": [
    {
     "data": {
      "text/plain": [
       "80"
      ]
     },
     "execution_count": 116,
     "metadata": {},
     "output_type": "execute_result"
    }
   ],
   "source": [
    "acc.balance"
   ]
  },
  {
   "cell_type": "code",
   "execution_count": 117,
   "metadata": {},
   "outputs": [
    {
     "data": {
      "text/plain": [
       "5"
      ]
     },
     "execution_count": 117,
     "metadata": {},
     "output_type": "execute_result"
    }
   ],
   "source": [
    "len(acc)"
   ]
  },
  {
   "cell_type": "code",
   "execution_count": 118,
   "metadata": {},
   "outputs": [
    {
     "name": "stdout",
     "output_type": "stream",
     "text": [
      "20\n",
      "-10\n",
      "50\n",
      "-20\n",
      "30\n"
     ]
    }
   ],
   "source": [
    "for t in acc:\n",
    "    print(t)"
   ]
  },
  {
   "cell_type": "code",
   "execution_count": 119,
   "metadata": {},
   "outputs": [
    {
     "data": {
      "text/plain": [
       "-10"
      ]
     },
     "execution_count": 119,
     "metadata": {},
     "output_type": "execute_result"
    }
   ],
   "source": [
    "acc[1]"
   ]
  },
  {
   "cell_type": "markdown",
   "metadata": {},
   "source": [
    "To iterate over transactions in reversed order you can implement the `__reversed__` special method:\n",
    "```py\n",
    "def __reversed__(self):\n",
    "    return self[::-1]\n",
    "```\n",
    "```\n",
    ">>> list(reversed(acc))\n",
    "[30, -20, 50, -10, 20]\n",
    "```\n",
    "\n",
    "**kp-Note:** _Here, I didn't add above the `__reversed__` method in the Account class. But, if I did, I would have to create 'acc' object again, then add the transactions all over again, otherwise, again it wouldn't work because the object would be of the old type (where this special method wouldn't have been defined)._\n",
    "\n",
    "To reverse the list of transactions I used [Python’s reverse list slice](https://www.youtube.com/watch?v=sGhY8dQdu4A) syntax. I also had to wrapp the result of reversed(acc) in a list() call because reversed() returns a a [reverse iterator](https://dbader.org/blog/python-reverse-list), not a list object we can print nicely in the REPL. Check out [this tutorial on iterators in Python](https://dbader.org/blog/python-iterators) if you’d like to learn more about how this approach works in detail.\n",
    "\n",
    "All in all, this account class is starting to look quite Pythonic to me now."
   ]
  },
  {
   "cell_type": "markdown",
   "metadata": {},
   "source": [
    "## Operator Overloading for Comparing Accounts: __eq__, __lt__\n",
    "\n",
    "\n",
    "### kp note: I have yet to go through all the stuff below in this cell (I stopped here because it was 2 am on Sep 22 and too late to sleep).\n",
    "\n",
    "We all write dozens of statements daily to compare Python objects:"
   ]
  },
  {
   "cell_type": "code",
   "execution_count": 120,
   "metadata": {},
   "outputs": [
    {
     "data": {
      "text/plain": [
       "True"
      ]
     },
     "execution_count": 120,
     "metadata": {},
     "output_type": "execute_result"
    }
   ],
   "source": [
    "2 > 1"
   ]
  },
  {
   "cell_type": "code",
   "execution_count": 121,
   "metadata": {},
   "outputs": [
    {
     "data": {
      "text/plain": [
       "False"
      ]
     },
     "execution_count": 121,
     "metadata": {},
     "output_type": "execute_result"
    }
   ],
   "source": [
    "'a' > 'b'"
   ]
  },
  {
   "cell_type": "markdown",
   "metadata": {},
   "source": [
    "This feels completely natural, but it’s actually quite amazing what happens behind the scenes here. Why does `>` work equally well on integers, strings and other objects (as long as they are the same type)? This polymorphic behavior is possible because these objects implement one or more comparison dunder methods.\n",
    "\n",
    "An easy way to verify this is to use the dir() builtin:"
   ]
  },
  {
   "cell_type": "code",
   "execution_count": 122,
   "metadata": {},
   "outputs": [
    {
     "data": {
      "text/plain": [
       "['__add__',\n",
       " '__class__',\n",
       " '__contains__',\n",
       " '__delattr__',\n",
       " '__dir__',\n",
       " '__doc__',\n",
       " '__eq__',\n",
       " '__format__',\n",
       " '__ge__',\n",
       " '__getattribute__',\n",
       " '__getitem__',\n",
       " '__getnewargs__',\n",
       " '__gt__',\n",
       " '__hash__',\n",
       " '__init__',\n",
       " '__init_subclass__',\n",
       " '__iter__',\n",
       " '__le__',\n",
       " '__len__',\n",
       " '__lt__',\n",
       " '__mod__',\n",
       " '__mul__',\n",
       " '__ne__',\n",
       " '__new__',\n",
       " '__reduce__',\n",
       " '__reduce_ex__',\n",
       " '__repr__',\n",
       " '__rmod__',\n",
       " '__rmul__',\n",
       " '__setattr__',\n",
       " '__sizeof__',\n",
       " '__str__',\n",
       " '__subclasshook__',\n",
       " 'capitalize',\n",
       " 'casefold',\n",
       " 'center',\n",
       " 'count',\n",
       " 'encode',\n",
       " 'endswith',\n",
       " 'expandtabs',\n",
       " 'find',\n",
       " 'format',\n",
       " 'format_map',\n",
       " 'index',\n",
       " 'isalnum',\n",
       " 'isalpha',\n",
       " 'isascii',\n",
       " 'isdecimal',\n",
       " 'isdigit',\n",
       " 'isidentifier',\n",
       " 'islower',\n",
       " 'isnumeric',\n",
       " 'isprintable',\n",
       " 'isspace',\n",
       " 'istitle',\n",
       " 'isupper',\n",
       " 'join',\n",
       " 'ljust',\n",
       " 'lower',\n",
       " 'lstrip',\n",
       " 'maketrans',\n",
       " 'partition',\n",
       " 'replace',\n",
       " 'rfind',\n",
       " 'rindex',\n",
       " 'rjust',\n",
       " 'rpartition',\n",
       " 'rsplit',\n",
       " 'rstrip',\n",
       " 'split',\n",
       " 'splitlines',\n",
       " 'startswith',\n",
       " 'strip',\n",
       " 'swapcase',\n",
       " 'title',\n",
       " 'translate',\n",
       " 'upper',\n",
       " 'zfill']"
      ]
     },
     "execution_count": 122,
     "metadata": {},
     "output_type": "execute_result"
    }
   ],
   "source": [
    "dir('a')"
   ]
  },
  {
   "cell_type": "markdown",
   "metadata": {},
   "source": [
    "Let’s build a second account object and compare it to the first one (I am adding a couple of transactions for later use):"
   ]
  },
  {
   "cell_type": "code",
   "execution_count": 123,
   "metadata": {},
   "outputs": [
    {
     "data": {
      "text/plain": [
       "160"
      ]
     },
     "execution_count": 123,
     "metadata": {},
     "output_type": "execute_result"
    }
   ],
   "source": [
    "acc2 = Account('tim', 100)\n",
    "acc2.add_transaction(20)\n",
    "acc2.add_transaction(40)\n",
    "acc2.balance"
   ]
  },
  {
   "cell_type": "code",
   "execution_count": 126,
   "metadata": {},
   "outputs": [
    {
     "ename": "TypeError",
     "evalue": "'>' not supported between instances of 'Account' and 'Account'",
     "output_type": "error",
     "traceback": [
      "\u001b[0;31m---------------------------------------------------------------------------\u001b[0m",
      "\u001b[0;31mTypeError\u001b[0m                                 Traceback (most recent call last)",
      "\u001b[0;32m<ipython-input-126-d09259fcd96e>\u001b[0m in \u001b[0;36m<module>\u001b[0;34m\u001b[0m\n\u001b[0;32m----> 1\u001b[0;31m \u001b[0macc2\u001b[0m \u001b[0;34m>\u001b[0m \u001b[0macc\u001b[0m\u001b[0;34m\u001b[0m\u001b[0;34m\u001b[0m\u001b[0m\n\u001b[0m",
      "\u001b[0;31mTypeError\u001b[0m: '>' not supported between instances of 'Account' and 'Account'"
     ]
    }
   ],
   "source": [
    "acc2 > acc"
   ]
  },
  {
   "cell_type": "markdown",
   "metadata": {},
   "source": [
    "What happened here? We got a TypeError because I have not implemented any comparison dunders nor inherited them from a parent class.\n",
    "\n",
    "Let’s add them. To not have to implement all of the comparison dunder methods, I use the functools.total_ordering decorator which allows me to take a shortcut, only implementing `__eq__` and `__lt__`:"
   ]
  },
  {
   "cell_type": "code",
   "execution_count": 127,
   "metadata": {},
   "outputs": [],
   "source": [
    "from functools import total_ordering\n",
    "\n",
    "@total_ordering\n",
    "class Account:\n",
    "    \"\"\"A simple account class\"\"\"\n",
    "\n",
    "    def __init__(self, owner, amount=0):\n",
    "        \"\"\"\n",
    "        This is the constructor that lets us create\n",
    "        objects from this class\n",
    "        \"\"\"\n",
    "        self.owner = owner\n",
    "        self.amount = amount\n",
    "        self._transactions = [] #kp: This is an empty list (to be appended/filled later on)\n",
    "        \n",
    "    def __repr__(self):\n",
    "        return 'Account({!r}, {!r})'.format(self.owner, self.amount)\n",
    "\n",
    "    def __str__(self):\n",
    "        return 'Account of {} with starting amount: {}'.format(\n",
    "            self.owner, self.amount)\n",
    "        \n",
    "    def __len__(self):\n",
    "        return len(self._transactions)\n",
    "\n",
    "    def __getitem__(self, position):\n",
    "        return self._transactions[position]\n",
    "    \n",
    "    def add_transaction(self, amount):\n",
    "        if not isinstance(amount, int):\n",
    "            raise ValueError('please use int for amount')\n",
    "        self._transactions.append(amount)\n",
    "        \n",
    "    @property\n",
    "    def balance(self):\n",
    "        return self.amount + sum(self._transactions)\n",
    "\n",
    "    def __eq__(self, other):\n",
    "        return self.balance == other.balance\n",
    "\n",
    "    def __lt__(self, other):\n",
    "        return self.balance < other.balance"
   ]
  },
  {
   "cell_type": "code",
   "execution_count": 129,
   "metadata": {},
   "outputs": [],
   "source": [
    "acc = Account('bob', 10)\n",
    "acc.add_transaction(20)\n",
    "acc.add_transaction(-10)\n",
    "acc.add_transaction(50)\n",
    "acc.add_transaction(-20)\n",
    "acc.add_transaction(30)"
   ]
  },
  {
   "cell_type": "code",
   "execution_count": 128,
   "metadata": {},
   "outputs": [
    {
     "data": {
      "text/plain": [
       "160"
      ]
     },
     "execution_count": 128,
     "metadata": {},
     "output_type": "execute_result"
    }
   ],
   "source": [
    "acc2 = Account('tim', 100)\n",
    "acc2.add_transaction(20)\n",
    "acc2.add_transaction(40)\n",
    "acc2.balance"
   ]
  },
  {
   "cell_type": "code",
   "execution_count": 130,
   "metadata": {},
   "outputs": [
    {
     "data": {
      "text/plain": [
       "True"
      ]
     },
     "execution_count": 130,
     "metadata": {},
     "output_type": "execute_result"
    }
   ],
   "source": [
    "acc2 > acc"
   ]
  },
  {
   "cell_type": "markdown",
   "metadata": {},
   "source": [
    "And now I can compare Account instances no problem:"
   ]
  },
  {
   "cell_type": "code",
   "execution_count": 131,
   "metadata": {},
   "outputs": [
    {
     "data": {
      "text/plain": [
       "False"
      ]
     },
     "execution_count": 131,
     "metadata": {},
     "output_type": "execute_result"
    }
   ],
   "source": [
    "acc2 < acc"
   ]
  },
  {
   "cell_type": "code",
   "execution_count": 132,
   "metadata": {},
   "outputs": [
    {
     "data": {
      "text/plain": [
       "False"
      ]
     },
     "execution_count": 132,
     "metadata": {},
     "output_type": "execute_result"
    }
   ],
   "source": [
    "acc == acc2"
   ]
  },
  {
   "cell_type": "markdown",
   "metadata": {},
   "source": [
    "## Operator Overloading for Merging Accounts: `__add__`\n",
    "\n",
    "In Python, everything is an object. We are completely fine adding two integers or two strings with the + (plus) operator, it behaves in expected ways:"
   ]
  },
  {
   "cell_type": "code",
   "execution_count": 133,
   "metadata": {},
   "outputs": [
    {
     "data": {
      "text/plain": [
       "3"
      ]
     },
     "execution_count": 133,
     "metadata": {},
     "output_type": "execute_result"
    }
   ],
   "source": [
    "1 + 2"
   ]
  },
  {
   "cell_type": "code",
   "execution_count": 134,
   "metadata": {},
   "outputs": [
    {
     "data": {
      "text/plain": [
       "'hello world'"
      ]
     },
     "execution_count": 134,
     "metadata": {},
     "output_type": "execute_result"
    }
   ],
   "source": [
    "'hello' + ' world'"
   ]
  },
  {
   "cell_type": "markdown",
   "metadata": {},
   "source": [
    "Again, we see polymorphism at play: Did you notice how + behaves different depending the type of the object? For integers it sums, for strings it concatenates. Again doing a quick dir() on the object reveals the corresponding “dunder” interface into the data model:"
   ]
  },
  {
   "cell_type": "code",
   "execution_count": 135,
   "metadata": {},
   "outputs": [
    {
     "data": {
      "text/plain": [
       "['__abs__',\n",
       " '__add__',\n",
       " '__and__',\n",
       " '__bool__',\n",
       " '__ceil__',\n",
       " '__class__',\n",
       " '__delattr__',\n",
       " '__dir__',\n",
       " '__divmod__',\n",
       " '__doc__',\n",
       " '__eq__',\n",
       " '__float__',\n",
       " '__floor__',\n",
       " '__floordiv__',\n",
       " '__format__',\n",
       " '__ge__',\n",
       " '__getattribute__',\n",
       " '__getnewargs__',\n",
       " '__gt__',\n",
       " '__hash__',\n",
       " '__index__',\n",
       " '__init__',\n",
       " '__init_subclass__',\n",
       " '__int__',\n",
       " '__invert__',\n",
       " '__le__',\n",
       " '__lshift__',\n",
       " '__lt__',\n",
       " '__mod__',\n",
       " '__mul__',\n",
       " '__ne__',\n",
       " '__neg__',\n",
       " '__new__',\n",
       " '__or__',\n",
       " '__pos__',\n",
       " '__pow__',\n",
       " '__radd__',\n",
       " '__rand__',\n",
       " '__rdivmod__',\n",
       " '__reduce__',\n",
       " '__reduce_ex__',\n",
       " '__repr__',\n",
       " '__rfloordiv__',\n",
       " '__rlshift__',\n",
       " '__rmod__',\n",
       " '__rmul__',\n",
       " '__ror__',\n",
       " '__round__',\n",
       " '__rpow__',\n",
       " '__rrshift__',\n",
       " '__rshift__',\n",
       " '__rsub__',\n",
       " '__rtruediv__',\n",
       " '__rxor__',\n",
       " '__setattr__',\n",
       " '__sizeof__',\n",
       " '__str__',\n",
       " '__sub__',\n",
       " '__subclasshook__',\n",
       " '__truediv__',\n",
       " '__trunc__',\n",
       " '__xor__',\n",
       " 'bit_length',\n",
       " 'conjugate',\n",
       " 'denominator',\n",
       " 'from_bytes',\n",
       " 'imag',\n",
       " 'numerator',\n",
       " 'real',\n",
       " 'to_bytes']"
      ]
     },
     "execution_count": 135,
     "metadata": {},
     "output_type": "execute_result"
    }
   ],
   "source": [
    "dir(1)"
   ]
  },
  {
   "cell_type": "markdown",
   "metadata": {},
   "source": [
    "Our Account object does not support addition yet, so when you try to add two instances of it there’s a TypeError:"
   ]
  },
  {
   "cell_type": "code",
   "execution_count": 136,
   "metadata": {},
   "outputs": [
    {
     "ename": "TypeError",
     "evalue": "unsupported operand type(s) for +: 'Account' and 'Account'",
     "output_type": "error",
     "traceback": [
      "\u001b[0;31m---------------------------------------------------------------------------\u001b[0m",
      "\u001b[0;31mTypeError\u001b[0m                                 Traceback (most recent call last)",
      "\u001b[0;32m<ipython-input-136-c573ece3c136>\u001b[0m in \u001b[0;36m<module>\u001b[0;34m\u001b[0m\n\u001b[0;32m----> 1\u001b[0;31m \u001b[0macc\u001b[0m \u001b[0;34m+\u001b[0m \u001b[0macc2\u001b[0m\u001b[0;34m\u001b[0m\u001b[0;34m\u001b[0m\u001b[0m\n\u001b[0m",
      "\u001b[0;31mTypeError\u001b[0m: unsupported operand type(s) for +: 'Account' and 'Account'"
     ]
    }
   ],
   "source": [
    "acc + acc2"
   ]
  },
  {
   "cell_type": "code",
   "execution_count": 140,
   "metadata": {},
   "outputs": [
    {
     "data": {
      "text/plain": [
       "['__class__',\n",
       " '__delattr__',\n",
       " '__dict__',\n",
       " '__dir__',\n",
       " '__doc__',\n",
       " '__eq__',\n",
       " '__format__',\n",
       " '__ge__',\n",
       " '__getattribute__',\n",
       " '__getitem__',\n",
       " '__gt__',\n",
       " '__hash__',\n",
       " '__init__',\n",
       " '__init_subclass__',\n",
       " '__le__',\n",
       " '__len__',\n",
       " '__lt__',\n",
       " '__module__',\n",
       " '__ne__',\n",
       " '__new__',\n",
       " '__reduce__',\n",
       " '__reduce_ex__',\n",
       " '__repr__',\n",
       " '__setattr__',\n",
       " '__sizeof__',\n",
       " '__str__',\n",
       " '__subclasshook__',\n",
       " '__weakref__',\n",
       " '_transactions',\n",
       " 'add_transaction',\n",
       " 'amount',\n",
       " 'balance',\n",
       " 'owner']"
      ]
     },
     "execution_count": 140,
     "metadata": {},
     "output_type": "execute_result"
    }
   ],
   "source": [
    "#kp: This is my code\n",
    "dir(acc)"
   ]
  },
  {
   "cell_type": "markdown",
   "metadata": {},
   "source": [
    "Let’s implement `__add__` to be able to merge two accounts. The expected behavior would be to merge all attributes together: the owner name, as well as starting amounts and transactions. To do this we can benefit from the iteration support we implemented earlier:"
   ]
  },
  {
   "cell_type": "markdown",
   "metadata": {},
   "source": [
    "```py\n",
    "def __add__(self, other):\n",
    "    owner = '{}&{}'.format(self.owner, other.owner)\n",
    "    start_amount = self.amount + other.amount\n",
    "    acc = Account(owner, start_amount)\n",
    "    for t in list(self) + list(other):\n",
    "        acc.add_transaction(t)\n",
    "    return acc\n",
    "```\n",
    "Yes, it is a bit more involved than the other dunder implementations so far. It should show you though that you are in the driver’s seat. You can implement addition however you please. If we wanted to ignore historic transactions — fine, you can also implement it like this:\n",
    "```py\n",
    "def __add__(self, other):\n",
    "    owner = self.owner + other.owner\n",
    "    start_amount = self.balance + other.balance\n",
    "    return Account(owner, start_amount)\n",
    "```"
   ]
  },
  {
   "cell_type": "code",
   "execution_count": 153,
   "metadata": {},
   "outputs": [],
   "source": [
    "from functools import total_ordering\n",
    "\n",
    "@total_ordering\n",
    "class Account:\n",
    "    \"\"\"A simple account class\"\"\"\n",
    "\n",
    "    def __init__(self, owner, amount=0):\n",
    "        \"\"\"\n",
    "        This is the constructor that lets us create\n",
    "        objects from this class\n",
    "        \"\"\"\n",
    "        self.owner = owner\n",
    "        self.amount = amount\n",
    "        self._transactions = [] #kp: This is an empty list (to be appended/filled later on)\n",
    "        \n",
    "    def __repr__(self):\n",
    "        return 'Account({!r}, {!r})'.format(self.owner, self.amount)\n",
    "\n",
    "    def __str__(self):\n",
    "        return 'Account of {} with starting amount: {}'.format(\n",
    "            self.owner, self.amount)\n",
    "        \n",
    "    def __len__(self):\n",
    "        return len(self._transactions)\n",
    "\n",
    "    def __getitem__(self, position):\n",
    "        return self._transactions[position]\n",
    "    \n",
    "    def add_transaction(self, amount):\n",
    "        if not isinstance(amount, int):\n",
    "            raise ValueError('please use int for amount')\n",
    "        self._transactions.append(amount)\n",
    "        \n",
    "    @property\n",
    "    def balance(self):\n",
    "        return self.amount + sum(self._transactions)\n",
    "\n",
    "    def __eq__(self, other):\n",
    "        return self.balance == other.balance\n",
    "\n",
    "    def __lt__(self, other):\n",
    "        return self.balance < other.balance\n",
    "    \n",
    "    # kp: Remember, following has an alternative version (see above)\n",
    "    def __add__(self, other):\n",
    "        owner = '{}&{}'.format(self.owner, other.owner)\n",
    "        start_amount = self.amount + other.amount\n",
    "        acc = Account(owner, start_amount)\n",
    "        for t in list(self) + list(other):\n",
    "            acc.add_transaction(t)\n",
    "        return acc"
   ]
  },
  {
   "cell_type": "code",
   "execution_count": 154,
   "metadata": {},
   "outputs": [],
   "source": [
    "acc = Account('bob', 10)\n",
    "acc.add_transaction(20)\n",
    "acc.add_transaction(-10)\n",
    "acc.add_transaction(50)\n",
    "acc.add_transaction(-20)\n",
    "acc.add_transaction(30)"
   ]
  },
  {
   "cell_type": "code",
   "execution_count": 155,
   "metadata": {},
   "outputs": [
    {
     "data": {
      "text/plain": [
       "160"
      ]
     },
     "execution_count": 155,
     "metadata": {},
     "output_type": "execute_result"
    }
   ],
   "source": [
    "acc2 = Account('tim', 100)\n",
    "acc2.add_transaction(20)\n",
    "acc2.add_transaction(40)\n",
    "acc2.balance"
   ]
  },
  {
   "cell_type": "markdown",
   "metadata": {},
   "source": [
    "I think the former implementation would be more realistic though, in terms of what a consumer of this class would expect to happen.\n",
    "\n",
    "Now we have a new merged account with starting amount `$110 (10 + 100)` and balance of `$240 (80 + 160)`:"
   ]
  },
  {
   "cell_type": "code",
   "execution_count": 156,
   "metadata": {},
   "outputs": [
    {
     "data": {
      "text/plain": [
       "Account('tim&bob', 110)"
      ]
     },
     "execution_count": 156,
     "metadata": {},
     "output_type": "execute_result"
    }
   ],
   "source": [
    "acc3 = acc2 + acc\n",
    "acc3\n",
    "#kp: If I were to use the second version of __add__ above, the following\n",
    "#    output came out to be Account('timebob', 110) and acc3._transactions \n",
    "#    below returned an empty list []."
   ]
  },
  {
   "cell_type": "code",
   "execution_count": 157,
   "metadata": {},
   "outputs": [
    {
     "data": {
      "text/plain": [
       "110"
      ]
     },
     "execution_count": 157,
     "metadata": {},
     "output_type": "execute_result"
    }
   ],
   "source": [
    "acc3.amount"
   ]
  },
  {
   "cell_type": "code",
   "execution_count": 158,
   "metadata": {},
   "outputs": [
    {
     "data": {
      "text/plain": [
       "240"
      ]
     },
     "execution_count": 158,
     "metadata": {},
     "output_type": "execute_result"
    }
   ],
   "source": [
    "acc3.balance"
   ]
  },
  {
   "cell_type": "code",
   "execution_count": 159,
   "metadata": {},
   "outputs": [
    {
     "data": {
      "text/plain": [
       "[20, -10, 50, -20, 30]"
      ]
     },
     "execution_count": 159,
     "metadata": {},
     "output_type": "execute_result"
    }
   ],
   "source": [
    "acc._transactions"
   ]
  },
  {
   "cell_type": "code",
   "execution_count": 160,
   "metadata": {},
   "outputs": [
    {
     "data": {
      "text/plain": [
       "[20, 40]"
      ]
     },
     "execution_count": 160,
     "metadata": {},
     "output_type": "execute_result"
    }
   ],
   "source": [
    "acc2._transactions"
   ]
  },
  {
   "cell_type": "code",
   "execution_count": 161,
   "metadata": {},
   "outputs": [
    {
     "data": {
      "text/plain": [
       "[20, 40, 20, -10, 50, -20, 30]"
      ]
     },
     "execution_count": 161,
     "metadata": {},
     "output_type": "execute_result"
    }
   ],
   "source": [
    "acc3._transactions"
   ]
  },
  {
   "cell_type": "markdown",
   "metadata": {},
   "source": [
    "Note this works in both directions because we’re adding objects of the same type. In general, if you would add your object to a builtin (int, str, …) the `__add__` method of the builtin wouldn’t know anything about your object. In that case you need to implement the reverse add method (`__radd__`) as well. You can see an example for that [here](http://www.marinamele.com/2014/04/modifying-add-method-of-python-class.html).\n",
    "\n",
    "## Callable Python Objects: `__call__`\n",
    "\n",
    "You can make an object callable like a regular function by adding the `__call__` dunder method. For our account class we could print a nice report of all the transactions that make up its balance:\n",
    "```py\n",
    "class Account:\n",
    "    # ... (see above)\n",
    "\n",
    "    def __call__(self):\n",
    "        print('Start amount: {}'.format(self.amount))\n",
    "        print('Transactions: ')\n",
    "        for transaction in self:\n",
    "            print(transaction)\n",
    "        print('\\nBalance: {}'.format(self.balance))\n",
    "```\n",
    "Now when I call the object with the double-parentheses acc() syntax, I get a nice account statement with an overview of all transactions and the current balance:"
   ]
  },
  {
   "cell_type": "code",
   "execution_count": 163,
   "metadata": {},
   "outputs": [
    {
     "ename": "TypeError",
     "evalue": "'Account' object is not callable",
     "output_type": "error",
     "traceback": [
      "\u001b[0;31m---------------------------------------------------------------------------\u001b[0m",
      "\u001b[0;31mTypeError\u001b[0m                                 Traceback (most recent call last)",
      "\u001b[0;32m<ipython-input-163-9f4bf49dec7a>\u001b[0m in \u001b[0;36m<module>\u001b[0;34m\u001b[0m\n\u001b[0;32m----> 1\u001b[0;31m \u001b[0macc\u001b[0m\u001b[0;34m(\u001b[0m\u001b[0;34m)\u001b[0m\u001b[0;34m\u001b[0m\u001b[0;34m\u001b[0m\u001b[0m\n\u001b[0m",
      "\u001b[0;31mTypeError\u001b[0m: 'Account' object is not callable"
     ]
    }
   ],
   "source": [
    "acc()"
   ]
  },
  {
   "cell_type": "code",
   "execution_count": 164,
   "metadata": {},
   "outputs": [],
   "source": [
    "from functools import total_ordering\n",
    "\n",
    "@total_ordering\n",
    "class Account:\n",
    "    \"\"\"A simple account class\"\"\"\n",
    "\n",
    "    def __init__(self, owner, amount=0):\n",
    "        \"\"\"\n",
    "        This is the constructor that lets us create\n",
    "        objects from this class\n",
    "        \"\"\"\n",
    "        self.owner = owner\n",
    "        self.amount = amount\n",
    "        self._transactions = [] #kp: This is an empty list (to be appended/filled later on)\n",
    "        \n",
    "    def __repr__(self):\n",
    "        return 'Account({!r}, {!r})'.format(self.owner, self.amount)\n",
    "\n",
    "    def __str__(self):\n",
    "        return 'Account of {} with starting amount: {}'.format(\n",
    "            self.owner, self.amount)\n",
    "        \n",
    "    def __len__(self):\n",
    "        return len(self._transactions)\n",
    "\n",
    "    def __getitem__(self, position):\n",
    "        return self._transactions[position]\n",
    "    \n",
    "    def add_transaction(self, amount):\n",
    "        if not isinstance(amount, int):\n",
    "            raise ValueError('please use int for amount')\n",
    "        self._transactions.append(amount)\n",
    "        \n",
    "    @property\n",
    "    def balance(self):\n",
    "        return self.amount + sum(self._transactions)\n",
    "\n",
    "    def __eq__(self, other):\n",
    "        return self.balance == other.balance\n",
    "\n",
    "    def __lt__(self, other):\n",
    "        return self.balance < other.balance\n",
    "    \n",
    "    # kp: Remember, following has an alternative version (see above)\n",
    "    def __add__(self, other):\n",
    "        owner = '{}&{}'.format(self.owner, other.owner)\n",
    "        start_amount = self.amount + other.amount\n",
    "        acc = Account(owner, start_amount)\n",
    "        for t in list(self) + list(other):\n",
    "            acc.add_transaction(t)\n",
    "        return acc\n",
    "    \n",
    "    #kp: Here I didn't understand how the iterator 'transaction' would\n",
    "    #    know it is related to list member \"_transactions\" because the\n",
    "    #    names are clearly different due to the underscore as well as the 's'\n",
    "    def __call__(self):\n",
    "        print('Start amount: {}'.format(self.amount))\n",
    "        print('Transactions: ')\n",
    "        for transaction in self:\n",
    "            print(transaction)\n",
    "        print('\\nBalance: {}'.format(self.balance))"
   ]
  },
  {
   "cell_type": "code",
   "execution_count": 165,
   "metadata": {},
   "outputs": [],
   "source": [
    "acc = Account('bob', 10)\n",
    "acc.add_transaction(20)\n",
    "acc.add_transaction(-10)\n",
    "acc.add_transaction(50)\n",
    "acc.add_transaction(-20)\n",
    "acc.add_transaction(30)"
   ]
  },
  {
   "cell_type": "code",
   "execution_count": 166,
   "metadata": {},
   "outputs": [
    {
     "name": "stdout",
     "output_type": "stream",
     "text": [
      "Start amount: 10\n",
      "Transactions: \n",
      "20\n",
      "-10\n",
      "50\n",
      "-20\n",
      "30\n",
      "\n",
      "Balance: 80\n"
     ]
    }
   ],
   "source": [
    "acc()"
   ]
  },
  {
   "cell_type": "markdown",
   "metadata": {},
   "source": [
    "Please keep in mind that this is just a toy example. A “real” account class probably wouldn’t print to the console when you use the function call syntax on one of its instances. **In general, the downside of having a `__call__` method on your objects is that it can be hard to see what the purpose of calling the object is.**\n",
    "\n",
    "Most of the time **it’s therefore better to add an explicit method** to the class. In this case **it probably would’ve been more transparent to have a separate Account.print_statement()** method.\n",
    "\n",
    "## Context Manager Support and the With Statement: `__enter__, __exit__`\n",
    "\n",
    "My final example in this tutorial is about a **slightly more advanced concept in Python: Context managers and adding support for the with statement**.\n",
    "\n",
    "Now, [what is a “context manager” in Python?](https://dbader.org/blog/python-context-managers-and-with-statement) Here’s a quick overview:\n",
    "\n",
    "    **A context manager is a simple “protocol” (or interface) that your object needs to follow** so it can be used with the **with statement**. Basically all you need to do is add `__enter__` and `__exit__` methods to an object if you want it to function as a context manager.\n",
    "\n",
    "Let’s **use context manager support to add a rollback mechanism** to our Account class. If the balance goes negative upon adding another transaction we rollback to the previous state.\n",
    "\n",
    "We can leverage the **Pythonic \"with statement\"** by adding two more dunder methods. I’m also adding some print calls to make the example clearer when we demo it:"
   ]
  },
  {
   "cell_type": "markdown",
   "metadata": {},
   "source": [
    "```py\n",
    "class Account:\n",
    "    # ... (see above)\n",
    "\n",
    "    def __enter__(self):\n",
    "        print('ENTER WITH: Making backup of transactions for rollback')\n",
    "        self._copy_transactions = list(self._transactions)\n",
    "        return self\n",
    "\n",
    "    def __exit__(self, exc_type, exc_val, exc_tb):\n",
    "        print('EXIT WITH:', end=' ')\n",
    "        if exc_type:\n",
    "            self._transactions = self._copy_transactions\n",
    "            print('Rolling back to previous transactions')\n",
    "            print('Transaction resulted in {} ({})'.format(\n",
    "                exc_type.__name__, exc_val))\n",
    "        else:\n",
    "            print('Transaction OK')\n",
    "```"
   ]
  },
  {
   "cell_type": "markdown",
   "metadata": {},
   "source": [
    "As an exception has to be raised to trigger a rollback, I define a quick helper method to validate the transactions in an account:\n",
    "```py\n",
    "def validate_transaction(acc, amount_to_add):\n",
    "    with acc as a:\n",
    "        print('Adding {} to account'.format(amount_to_add))\n",
    "        a.add_transaction(amount_to_add)\n",
    "        print('New balance would be: {}'.format(a.balance))\n",
    "        if a.balance < 0:\n",
    "            raise ValueError('sorry cannot go in debt!')\n",
    "```\n",
    "Now I can use an Account object with the with statement. When I make a transaction to add a positive amount, all is good:\n",
    "```py\n",
    "acc4 = Account('sue', 10)\n",
    "\n",
    "print('\\nBalance start: {}'.format(acc4.balance))\n",
    "validate_transaction(acc4, 20)\n",
    "\n",
    "print('\\nBalance end: {}'.format(acc4.balance))\n",
    "```\n",
    "Executing the above Python snippet produces the following printout:\n",
    "```\n",
    "Balance start: 10\n",
    "ENTER WITH: Making backup of transactions for rollback\n",
    "Adding 20 to account\n",
    "New balance would be: 30\n",
    "EXIT WITH: Transaction OK\n",
    "Balance end: 30\n",
    "```\n",
    "However when I try to withdraw too much money, the code in `__exit__` kicks in and rolls back the transaction:"
   ]
  },
  {
   "cell_type": "markdown",
   "metadata": {},
   "source": [
    "```py\n",
    "acc4 = Account('sue', 10)\n",
    "\n",
    "print('\\nBalance start: {}'.format(acc4.balance))\n",
    "try:\n",
    "    validate_transaction(acc4, -50)\n",
    "except ValueError as exc:\n",
    "    print(exc)\n",
    "\n",
    "print('\\nBalance end: {}'.format(acc4.balance))\n",
    "```\n",
    "In this case we get a different result:\n",
    "```\n",
    "Balance start: 10\n",
    "ENTER WITH: Making backup of transactions for rollback\n",
    "Adding -50 to account\n",
    "New balance would be: -40\n",
    "EXIT WITH: Rolling back to previous transactions\n",
    "ValueError: sorry cannot go in debt!\n",
    "Balance end: 10\n",
    "```\n",
    "## Conclusion\n",
    "\n",
    "I hope you feel a little less afraid of dunder methods after reading this article. A strategic use of them makes your classes more Pythonic, because they emulate builtin types with Python-like behaviors.\n",
    "\n",
    "**As with any feature, please don’t overuse it. Operator overloading, for example, can get pretty obscure.** Adding “karma” to a person object with `+bob or tim << 3` is definitely possible using dunders — but might not be the most obvious or appropriate way to use these special methods. However, for common operations like comparison and additions they can be an elegant approach.\n",
    "\n",
    "Showing each and every dunder method would make for a very long tutorial. If you want to learn more about dunder methods and the Python data model I recommend you go through the [Python reference documentation](https://docs.python.org/3/reference/datamodel.html).\n",
    "\n",
    "Also, be sure to check out our [dunder method coding challenge](https://pybit.es/codechallenge24.html) where you can experiment and put your newfound “dunder skills” to practice."
   ]
  },
  {
   "cell_type": "markdown",
   "metadata": {},
   "source": [
    "[GoTop](#GoTop)<a id='functions_are_first_class_objects'></a> \n",
    "# Functions Are First Class Objects\n",
    "References:\n",
    "* https://dbader.org/blog/python-first-class-functions\n",
    "* https://medium.com/python-pandemonium/function-as-objects-in-python-d5215e6d1b0d\n",
    "\n",
    "One of the most powerful features of Python is that everything is an object, including functions. Functions in Python are first-class objects.\n",
    "\n",
    "This broadly means, that functions in Python:\n",
    "\n",
    "You can assign them to variables, store them in data structures, pass them as arguments to other functions, and even return them as values from other functions. \n",
    "\n",
    "Grokking these concepts intuitively will make understanding advanced features in Python like lambdas and decorators much easier. It also puts you on a path towards functional programming techniques.\n",
    "```\n",
    "google:\n",
    "grok /ɡräk/ verb informal•US\n",
    "    understand (something) intuitively or by empathy.\n",
    "    \"because of all the commercials, children grok things immediately\"\n",
    "        empathize or communicate sympathetically; establish a rapport.\n",
    "```\n",
    "In this tutorial I’ll guide you through a number of examples to help you develop this intuitive understanding. The examples will build on top of one another, so you might want to read them in sequence and even to try out some of them in a Python interpreter session as you go along.\n",
    "\n",
    "Wrapping your head around the concepts we’ll be discussing here might take a little longer than expected. Don’t worry—that’s completely normal. I’ve been there. You might feel like you’re banging your head against the wall, and then suddenly things will “click” and fall into place when you’re ready.\n",
    "\n",
    "Throughout this tutorial I’ll be using this yell function for demonstration purposes. It’s a simple toy example with easily recognizable output:\n",
    "```py\n",
    "def yell(text):\n",
    "    return text.upper() + '!'\n",
    "\n",
    ">>> yell('hello')\n",
    "'HELLO!'\n",
    "```"
   ]
  },
  {
   "cell_type": "code",
   "execution_count": 6,
   "metadata": {},
   "outputs": [],
   "source": [
    "def yell(text):\n",
    "    return text.upper() + '!'"
   ]
  },
  {
   "cell_type": "code",
   "execution_count": 7,
   "metadata": {},
   "outputs": [
    {
     "data": {
      "text/plain": [
       "'HELLO!'"
      ]
     },
     "execution_count": 7,
     "metadata": {},
     "output_type": "execute_result"
    }
   ],
   "source": [
    "yell('hello')"
   ]
  },
  {
   "cell_type": "markdown",
   "metadata": {},
   "source": [
    "### Functions Are Objects\n",
    "\n",
    "All data in a Python program is represented by objects or relations between objects. Things like strings, lists, modules, and functions are all objects. There’s nothing particularly special about functions in Python.\n",
    "\n",
    "Because the yell function is an object in Python you can assign it to another variable, just like any other object:\n",
    "\n",
    "`>>> bark = yell`\n",
    "\n",
    "This line doesn’t call the function. It takes the function object referenced by yell and creates a second name pointing to it, bark. You could now also execute the same underlying function object by calling bark:\n",
    "\n",
    "`>>> bark('woof')\n",
    "'WOOF!'`"
   ]
  },
  {
   "cell_type": "code",
   "execution_count": 8,
   "metadata": {},
   "outputs": [
    {
     "data": {
      "text/plain": [
       "'WOOF!'"
      ]
     },
     "execution_count": 8,
     "metadata": {},
     "output_type": "execute_result"
    }
   ],
   "source": [
    "bark = yell\n",
    "bark('woof')"
   ]
  },
  {
   "cell_type": "markdown",
   "metadata": {},
   "source": [
    "Function objects and their names are two separate concerns. Here’s more proof: You can delete the function’s original name (yell). Because another name (bark) still points to the underlying function you can still call the function through it:\n",
    "```\n",
    ">>> del yell\n",
    "\n",
    ">>> yell('hello?')\n",
    "NameError: \"name 'yell' is not defined\"\n",
    "\n",
    ">>> bark('hey')\n",
    "'HEY!'\n",
    "```\n"
   ]
  },
  {
   "cell_type": "code",
   "execution_count": 9,
   "metadata": {},
   "outputs": [
    {
     "ename": "NameError",
     "evalue": "name 'yell' is not defined",
     "output_type": "error",
     "traceback": [
      "\u001b[0;31m---------------------------------------------------------------------------\u001b[0m",
      "\u001b[0;31mNameError\u001b[0m                                 Traceback (most recent call last)",
      "\u001b[0;32m<ipython-input-9-33073c4dcef3>\u001b[0m in \u001b[0;36m<module>\u001b[0;34m\u001b[0m\n\u001b[1;32m      1\u001b[0m \u001b[0;32mdel\u001b[0m \u001b[0myell\u001b[0m\u001b[0;34m\u001b[0m\u001b[0;34m\u001b[0m\u001b[0m\n\u001b[1;32m      2\u001b[0m \u001b[0;34m\u001b[0m\u001b[0m\n\u001b[0;32m----> 3\u001b[0;31m \u001b[0myell\u001b[0m\u001b[0;34m(\u001b[0m\u001b[0;34m'hello?'\u001b[0m\u001b[0;34m)\u001b[0m\u001b[0;34m\u001b[0m\u001b[0;34m\u001b[0m\u001b[0m\n\u001b[0m",
      "\u001b[0;31mNameError\u001b[0m: name 'yell' is not defined"
     ]
    }
   ],
   "source": [
    "del yell\n",
    "\n",
    "yell('hello?')"
   ]
  },
  {
   "cell_type": "code",
   "execution_count": 10,
   "metadata": {},
   "outputs": [
    {
     "data": {
      "text/plain": [
       "'HELLO!'"
      ]
     },
     "execution_count": 10,
     "metadata": {},
     "output_type": "execute_result"
    }
   ],
   "source": [
    "bark('Hello')"
   ]
  },
  {
   "cell_type": "markdown",
   "metadata": {},
   "source": [
    "By the way, Python attaches a string identifier to every function at creation time for debugging purposes. You can access this internal identifier with the __name__ attribute:\n",
    "```\n",
    ">>> bark.__name__\n",
    "'yell'\n",
    "```\n",
    "While the function’s __name__ is still “yell” that won’t affect how you can access it from your code. This identifier is merely a debugging aid. A variable pointing to a function and the function itself are two separate concerns.\n",
    "\n",
    "(Since Python 3.3 there’s also __qualname__ which serves a similar purpose and provides a qualified name string to disambiguate function and class names.)"
   ]
  },
  {
   "cell_type": "code",
   "execution_count": 11,
   "metadata": {},
   "outputs": [
    {
     "data": {
      "text/plain": [
       "'yell'"
      ]
     },
     "execution_count": 11,
     "metadata": {},
     "output_type": "execute_result"
    }
   ],
   "source": [
    "bark.__name__"
   ]
  },
  {
   "cell_type": "code",
   "execution_count": 13,
   "metadata": {},
   "outputs": [
    {
     "data": {
      "text/plain": [
       "'yell'"
      ]
     },
     "execution_count": 13,
     "metadata": {},
     "output_type": "execute_result"
    }
   ],
   "source": [
    "bark.__qualname__"
   ]
  },
  {
   "cell_type": "markdown",
   "metadata": {},
   "source": [
    "### Functions Can Be Stored In Data Structures\n",
    "\n",
    "As functions are first-class citizens you can store them in data structures, just like you can with other objects. For example, you can add functions to a list:\n",
    "```\n",
    ">>> funcs = [bark, str.lower, str.capitalize]\n",
    ">>> funcs\n",
    "[<function yell at 0x10ff96510>,\n",
    " <method 'lower' of 'str' objects>,\n",
    " <method 'capitalize' of 'str' objects>]\n",
    "```\n",
    "Accessing the function objects stored inside the list works like it would with any other type of object:\n",
    "```\n",
    ">>> for f in funcs:\n",
    "...     print(f, f('hey there'))\n",
    "<function yell at 0x10ff96510> 'HEY THERE!'\n",
    "<method 'lower' of 'str' objects> 'hey there'\n",
    "<method 'capitalize' of 'str' objects> 'Hey there'\n",
    "```\n",
    "You can even call a function object stored in the list without assigning it to a variable first. You can do the lookup and then immediately call the resulting “disembodied” function object within a single expression:\n",
    "```\n",
    ">>> funcs[0]('heyho')\n",
    "'HEYHO!'\n",
    "```\n"
   ]
  },
  {
   "cell_type": "code",
   "execution_count": 14,
   "metadata": {},
   "outputs": [],
   "source": [
    "funcs  = [bark, str.lower, str.capitalize]"
   ]
  },
  {
   "cell_type": "code",
   "execution_count": 15,
   "metadata": {},
   "outputs": [
    {
     "data": {
      "text/plain": [
       "[<function __main__.yell(text)>,\n",
       " <method 'lower' of 'str' objects>,\n",
       " <method 'capitalize' of 'str' objects>]"
      ]
     },
     "execution_count": 15,
     "metadata": {},
     "output_type": "execute_result"
    }
   ],
   "source": [
    "funcs"
   ]
  },
  {
   "cell_type": "code",
   "execution_count": 21,
   "metadata": {},
   "outputs": [
    {
     "name": "stdout",
     "output_type": "stream",
     "text": [
      "<function yell at 0x10b743200> HELLO THERE!\n",
      "<method 'lower' of 'str' objects> hello there\n",
      "<method 'capitalize' of 'str' objects> Hello there\n"
     ]
    }
   ],
   "source": [
    "for f in funcs:\n",
    "...     print(f, f('heLLo tHere'))"
   ]
  },
  {
   "cell_type": "markdown",
   "metadata": {},
   "source": [
    "### Functions Can Be Passed To Other Functions\n",
    "\n",
    "Because functions are objects you can pass them as arguments to other functions. Here’s a greet function that formats a greeting string using the function object passed to it and then prints it:"
   ]
  },
  {
   "cell_type": "code",
   "execution_count": 22,
   "metadata": {},
   "outputs": [],
   "source": [
    "def greet(func):\n",
    "    greeting = func('Hi, I am a Python program')\n",
    "    print(greeting)"
   ]
  },
  {
   "cell_type": "markdown",
   "metadata": {},
   "source": [
    "You can influence the resulting greeting by passing in different functions. Here’s what happens if you pass the yell function to greet:"
   ]
  },
  {
   "cell_type": "code",
   "execution_count": 24,
   "metadata": {},
   "outputs": [
    {
     "name": "stdout",
     "output_type": "stream",
     "text": [
      "HI, I AM A PYTHON PROGRAM!\n"
     ]
    }
   ],
   "source": [
    "greet(bark)"
   ]
  },
  {
   "cell_type": "markdown",
   "metadata": {},
   "source": [
    "Of course you could also define a new function to generate a different flavor of greeting. For example, the following whisper function might work better if you don’t want your Python programs to sound like Optimus Prime:"
   ]
  },
  {
   "cell_type": "code",
   "execution_count": 27,
   "metadata": {},
   "outputs": [
    {
     "name": "stdout",
     "output_type": "stream",
     "text": [
      "hi, i am a python program...\n"
     ]
    }
   ],
   "source": [
    "def whisper(text):\n",
    "    return text.lower() + '...'\n",
    " \n",
    "greet(whisper)"
   ]
  },
  {
   "cell_type": "markdown",
   "metadata": {},
   "source": [
    "The ability to pass function objects as arguments to other functions is powerful. It allows you to abstract away and pass around behavior in your programs. In this example, the greet function stays the same but you can influence its output by passing in different greeting behaviors.\n",
    "\n",
    "Functions that can accept other functions as arguments are also called higher-order functions. They are a necessity for the functional programming style.\n",
    "\n",
    "The classical example for higher-order functions in Python is the built-in map function. It takes a function and an iterable and calls the function on each element in the iterable, yielding the results as it goes along.\n",
    "\n",
    "Here’s how you might format a sequence of greetings all at once by mapping the yell(==bark) function to them:"
   ]
  },
  {
   "cell_type": "code",
   "execution_count": 30,
   "metadata": {},
   "outputs": [
    {
     "data": {
      "text/plain": [
       "['HELLO!', 'HEY!', 'HI!']"
      ]
     },
     "execution_count": 30,
     "metadata": {},
     "output_type": "execute_result"
    }
   ],
   "source": [
    "list(map(bark, ['hello', 'hey', 'hi']))"
   ]
  },
  {
   "cell_type": "markdown",
   "metadata": {},
   "source": [
    "**map** has gone through the entire list and applied the yell/bark function to each element."
   ]
  },
  {
   "cell_type": "markdown",
   "metadata": {},
   "source": [
    "### Functions Can Be Nested\n",
    "Python allows functions to be defined inside other functions. These are often called nested functions or inner functions. Here’s an example:\n"
   ]
  },
  {
   "cell_type": "code",
   "execution_count": 31,
   "metadata": {},
   "outputs": [
    {
     "data": {
      "text/plain": [
       "'hello, world...'"
      ]
     },
     "execution_count": 31,
     "metadata": {},
     "output_type": "execute_result"
    }
   ],
   "source": [
    "def speak(text):\n",
    "    def whisper(t):\n",
    "        return t.lower() + '...'\n",
    "    return whisper(text)\n",
    "\n",
    "speak('Hello, World')"
   ]
  },
  {
   "cell_type": "markdown",
   "metadata": {},
   "source": [
    "Now, what’s going on here? Every time you call speak it defines a new inner function whisper and then calls it.\n",
    "\n",
    "And here’s the kicker — whisper does not exist outside speak:\n",
    "```\n",
    ">>> whisper('Yo')\n",
    "NameError: \"name 'whisper' is not defined\"\n",
    "\n",
    ">>> speak.whisper\n",
    "AttributeError: \"'function' object has no attribute 'whisper'\"\n",
    "```\n",
    "But what if you really wanted to access that nested whisper function from outside speak? Well, functions are objects—you can return the inner function to the caller of the parent function.\n",
    "\n",
    "For example, here’s a function defining two inner functions. Depending on the argument passed to top-level function it selects and returns one of the inner functions to the caller:"
   ]
  },
  {
   "cell_type": "code",
   "execution_count": 32,
   "metadata": {},
   "outputs": [],
   "source": [
    "def get_speak_func(volume):\n",
    "    def whisper(text):\n",
    "        return text.lower() + '...'\n",
    "    def yell(text):\n",
    "        return text.upper() + '!'\n",
    "    if volume > 0.5:\n",
    "        return yell\n",
    "    else:\n",
    "        return whisper"
   ]
  },
  {
   "cell_type": "markdown",
   "metadata": {},
   "source": [
    "Notice how **get_speak_func** doesn’t actually call one of its inner functions — it simply selects the appropriate function based on the volume argument and then returns the function object:"
   ]
  },
  {
   "cell_type": "code",
   "execution_count": 34,
   "metadata": {},
   "outputs": [
    {
     "data": {
      "text/plain": [
       "<function __main__.get_speak_func.<locals>.whisper(text)>"
      ]
     },
     "execution_count": 34,
     "metadata": {},
     "output_type": "execute_result"
    }
   ],
   "source": [
    "get_speak_func(0.3)"
   ]
  },
  {
   "cell_type": "code",
   "execution_count": 35,
   "metadata": {},
   "outputs": [
    {
     "data": {
      "text/plain": [
       "<function __main__.get_speak_func.<locals>.yell(text)>"
      ]
     },
     "execution_count": 35,
     "metadata": {},
     "output_type": "execute_result"
    }
   ],
   "source": [
    "get_speak_func(0.7)"
   ]
  },
  {
   "cell_type": "markdown",
   "metadata": {},
   "source": [
    "Of course you could then go on and call the returned function, either directly or by assigning it to a variable name first:"
   ]
  },
  {
   "cell_type": "code",
   "execution_count": 36,
   "metadata": {},
   "outputs": [
    {
     "data": {
      "text/plain": [
       "'HELLO!'"
      ]
     },
     "execution_count": 36,
     "metadata": {},
     "output_type": "execute_result"
    }
   ],
   "source": [
    "speak_func = get_speak_func(0.7)\n",
    "speak_func('Hello')"
   ]
  },
  {
   "cell_type": "code",
   "execution_count": 37,
   "metadata": {},
   "outputs": [
    {
     "data": {
      "text/plain": [
       "'hello...'"
      ]
     },
     "execution_count": 37,
     "metadata": {},
     "output_type": "execute_result"
    }
   ],
   "source": [
    "speak_func = get_speak_func(0.1)\n",
    "speak_func('Hello')"
   ]
  },
  {
   "cell_type": "markdown",
   "metadata": {},
   "source": [
    "**Let that sink in for a second here… This means not only can functions accept behaviors through arguments but they can also return behaviors. How cool is that?**\n",
    "\n",
    "You know what, this is starting to get a little **loopy** (*google: loopy = crazy or silly; having many loops*) here. I’m going to take a quick coffee break before I continue writing (and I suggest you do the same.)\n",
    "\n",
    "### Functions Can Capture Local State\n",
    "\n",
    "You just saw how functions can contain inner functions and that it’s even possible to return these (otherwise hidden) inner functions from the parent function.\n",
    "\n",
    "Best put on your seat belts on now because it’s going to get a little crazier still — we’re about to enter even deeper functional programming territory. (You had that coffee break, right?)\n",
    "\n",
    "Not only can functions return other functions, these **inner functions can also capture and carry some of the parent function’s state with them**.\n",
    "\n",
    "I’m going to slightly rewrite the previous get_speak_func example to illustrate this. The new version takes a “volume” and a “text” argument right away to make the returned function immediately callable:"
   ]
  },
  {
   "cell_type": "code",
   "execution_count": 38,
   "metadata": {},
   "outputs": [
    {
     "data": {
      "text/plain": [
       "'HELLO, WORLD!'"
      ]
     },
     "execution_count": 38,
     "metadata": {},
     "output_type": "execute_result"
    }
   ],
   "source": [
    "def get_speak_func(text, volume):\n",
    "    def whisper():\n",
    "        return text.lower() + '...'\n",
    "    def yell():\n",
    "        return text.upper() + '!'\n",
    "    if volume > 0.5:\n",
    "        return yell\n",
    "    else:\n",
    "        return whisper\n",
    "\n",
    "get_speak_func('Hello, World', 0.7)()"
   ]
  },
  {
   "cell_type": "markdown",
   "metadata": {},
   "source": [
    "Take a good look at the inner functions whisper and yell now. **Notice how they no longer have a text parameter? But somehow they can still access the text parameter defined in the parent function. In fact, they seem to capture and “remember” the value of that argument.**\n",
    "\n",
    "**Functions that do this are called lexical closures (or just closures, for short). A closure remembers the values from its enclosing lexical scope even when the program flow is no longer in that scope.**\n",
    "\n",
    "In practical terms this **means not only can functions return behaviors but they can also pre-configure those behaviors**. Here’s another bare-bones example to illustrate this idea:"
   ]
  },
  {
   "cell_type": "code",
   "execution_count": 39,
   "metadata": {},
   "outputs": [
    {
     "data": {
      "text/plain": [
       "7"
      ]
     },
     "execution_count": 39,
     "metadata": {},
     "output_type": "execute_result"
    }
   ],
   "source": [
    "def make_adder(n):\n",
    "    def add(x):\n",
    "        return x + n\n",
    "    return add\n",
    "\n",
    "plus_3 = make_adder(3)\n",
    "plus_5 = make_adder(5)\n",
    "\n",
    "plus_3(4)"
   ]
  },
  {
   "cell_type": "code",
   "execution_count": 40,
   "metadata": {},
   "outputs": [
    {
     "data": {
      "text/plain": [
       "9"
      ]
     },
     "execution_count": 40,
     "metadata": {},
     "output_type": "execute_result"
    }
   ],
   "source": [
    "plus_5(4)"
   ]
  },
  {
   "cell_type": "markdown",
   "metadata": {},
   "source": [
    "In this example make_adder serves as a factory to create and configure “adder” functions. Notice how the “adder” functions can still access the n argument of the make_adder function (the enclosing scope).\n",
    "\n",
    "### Objects Can Behave Like Functions\n",
    "\n",
    "**Objects aren’t functions in Python. But they can be made callable, which allows you to treat them like functions in many cases.**\n",
    "\n",
    "If an object is **callable it means you can use round parentheses () on it and pass function call arguments to it**. Here’s an example of a callable object:"
   ]
  },
  {
   "cell_type": "code",
   "execution_count": 41,
   "metadata": {},
   "outputs": [
    {
     "data": {
      "text/plain": [
       "7"
      ]
     },
     "execution_count": 41,
     "metadata": {},
     "output_type": "execute_result"
    }
   ],
   "source": [
    "class Adder:\n",
    "    def __init__(self, n):\n",
    "         self.n = n\n",
    "    def __call__(self, x):\n",
    "        return self.n + x\n",
    "\n",
    "plus_3 = Adder(3)\n",
    "plus_3(4)"
   ]
  },
  {
   "cell_type": "markdown",
   "metadata": {},
   "source": [
    "Behind the scenes, “calling” an object instance as a function attempts to execute the object’s `__call__` method.\n",
    "\n",
    "Of course not all objects will be callable. That’s why there’s a built-in callable function to check whether an object appears callable or not:"
   ]
  },
  {
   "cell_type": "code",
   "execution_count": 42,
   "metadata": {},
   "outputs": [
    {
     "data": {
      "text/plain": [
       "True"
      ]
     },
     "execution_count": 42,
     "metadata": {},
     "output_type": "execute_result"
    }
   ],
   "source": [
    "callable(plus_3)"
   ]
  },
  {
   "cell_type": "code",
   "execution_count": 45,
   "metadata": {},
   "outputs": [
    {
     "data": {
      "text/plain": [
       "True"
      ]
     },
     "execution_count": 45,
     "metadata": {},
     "output_type": "execute_result"
    }
   ],
   "source": [
    "callable(bark)"
   ]
  },
  {
   "cell_type": "code",
   "execution_count": 44,
   "metadata": {},
   "outputs": [
    {
     "data": {
      "text/plain": [
       "False"
      ]
     },
     "execution_count": 44,
     "metadata": {},
     "output_type": "execute_result"
    }
   ],
   "source": [
    "callable(False)"
   ]
  },
  {
   "cell_type": "code",
   "execution_count": 51,
   "metadata": {},
   "outputs": [
    {
     "data": {
      "text/plain": [
       "True"
      ]
     },
     "execution_count": 51,
     "metadata": {},
     "output_type": "execute_result"
    }
   ],
   "source": [
    "def kp(n):\n",
    "    print(\"This is function 'kp'.\")\n",
    "    return n\n",
    "\n",
    "class bp:\n",
    "    def __init__(self, n):\n",
    "        self.n = n\n",
    "    def doubleIt():\n",
    "        return 2*n\n",
    "\n",
    "callable(kp)"
   ]
  },
  {
   "cell_type": "code",
   "execution_count": 54,
   "metadata": {},
   "outputs": [
    {
     "data": {
      "text/plain": [
       "True"
      ]
     },
     "execution_count": 54,
     "metadata": {},
     "output_type": "execute_result"
    }
   ],
   "source": [
    "callable(bp)"
   ]
  },
  {
   "cell_type": "code",
   "execution_count": 53,
   "metadata": {},
   "outputs": [
    {
     "data": {
      "text/plain": [
       "False"
      ]
     },
     "execution_count": 53,
     "metadata": {},
     "output_type": "execute_result"
    }
   ],
   "source": [
    "objBp = bp(3)\n",
    "\n",
    "callable(objBp)"
   ]
  },
  {
   "cell_type": "markdown",
   "metadata": {},
   "source": [
    "### Key Takeaways\n",
    "\n",
    "Everything in Python is an object, including functions. You can assign them to variables, store them in data structures, and pass or return them to and from other functions (first-class functions.)\n",
    "    \n",
    " First-class functions allow you to abstract away and pass around behavior in your programs.\n",
    "    \n",
    "   Functions can be nested and they can capture and carry some of the parent function’s state with them. Functions that do this are called closures.\n",
    "   \n",
    "   Objects can be made callable which allows you to treat them like functions in many cases."
   ]
  },
  {
   "cell_type": "markdown",
   "metadata": {},
   "source": [
    "[GoTop](#GoTop) <a id='PythonDataModelExplained'></a>\n",
    "## The Python Data Model, Explained\n",
    "Fri 02 February 2018\n",
    "\n",
    "Posted by Al Sweigart in python   \n",
    "\n",
    "The **Python Data Model is a document** in the official Python documentation that **describes the Python language's concept of data, as opposed to how other languages treat data**. It's **full of abstract ideas and generally illegible to new software developers.** (Or even experienced developers; I learned plenty of new things from it despite writing Python code for years.)\n",
    "\n",
    "This blog post aims to bring the complex ideas in the Python Data Model down to a more understandable level. You may find **watching \"Ned Batchelder's Facts and Myths about Python Names and Values\" talk** from PyCon 2015 first, though it's not strictly required. This blog post might have gaps in it; I'm writing this mostly as my own notes to understand the content in this documentation.\n",
    "\n",
    "This blog post follows the same headings as the Python Data Model (which is section 3 in the official Python documentation, so you can open https://docs.python.org/3/reference/datamodel.html and read them roughly side by side. Think of it as \"the Python data model documentation, but with code examples\".\n",
    "\n",
    "If you'd like another readable resource about the Python Data Model, check out Chapter 1 of Fluent Python. TODO Amazon link\n",
    "\n",
    "### 3.1. Objects, values and types\n",
    "\n",
    "**Everything in Python is an object. There's no difference between \"primitive types\" (int, float, bool) and \"object types\" (strings, date objects, complex data structures)** in Python like there is in Java. Even functions and code are stored as objects.\n",
    "\n",
    "**All Python objects have an identity, type, and value**.\n",
    "\n",
    "The **identity is a unique integer that never changes during the lifetime of the object**, and you can find it with the id() function (code visualization):\n",
    "```\n",
    ">>> spam = 42\n",
    ">>> id(spam)\n",
    "140711779350640\n",
    ">>> cheese = 'hello'\n",
    ">>> id(cheese)\n",
    "1725534351520\n",
    "```"
   ]
  },
  {
   "cell_type": "code",
   "execution_count": 167,
   "metadata": {},
   "outputs": [],
   "source": [
    "spam = 42"
   ]
  },
  {
   "cell_type": "code",
   "execution_count": 168,
   "metadata": {},
   "outputs": [
    {
     "data": {
      "text/plain": [
       "4449494064"
      ]
     },
     "execution_count": 168,
     "metadata": {},
     "output_type": "execute_result"
    }
   ],
   "source": [
    "id(spam)"
   ]
  },
  {
   "cell_type": "code",
   "execution_count": 169,
   "metadata": {},
   "outputs": [],
   "source": [
    "cheese = 'hello'"
   ]
  },
  {
   "cell_type": "code",
   "execution_count": 170,
   "metadata": {},
   "outputs": [
    {
     "data": {
      "text/plain": [
       "4506373040"
      ]
     },
     "execution_count": 170,
     "metadata": {},
     "output_type": "execute_result"
    }
   ],
   "source": [
    "id(cheese)"
   ]
  },
  {
   "cell_type": "markdown",
   "metadata": {},
   "source": [
    "In CPython (the Python interpreter you download from https://python.org, as opposed to something like PyPy or Jython) the identity is the memory address of the object.\n",
    "\n",
    "_From [Wikipedia](https://en.wikipedia.org/wiki/CPython): CPython is the reference implementation of the Python programming language. Written in C and Python, CPython is the default and most widely-used implementation of the language._\n",
    "\n",
    "_CPython can be defined as both an interpreter and a compiler as it compiles Python code into bytecode before interpreting it. It has a foreign function interface with several languages including C, in which one must explicitly write bindings in a language other than Python._\n",
    "\n",
    "**An object's type (such as integer, float, string, etc.) is also unchanging**. You can **see an object's type by passing it to type()** (code visualization):\n",
    "```\n",
    ">>> spam = 42\n",
    ">>> type(spam)\n",
    "<class 'int'>\n",
    ">>> cheese = 'hello'\n",
    ">>> type(cheese)\n",
    "<class 'str'>\n",
    ">>> type(type(cheese)) # Even the object returned from type() has a type: it's the type type.\n",
    "<class 'type'>\n",
    "```\n",
    "The value is more obvious to Python programmers: 42 is an integer value, 'hello' is a string value, and so on. The value of an object may be changeable (that is, mutable) or it may be unchangeable (that is, immutable).\n",
    "\n",
    "**It's better to think of Python variables as labels attached to objects, rather than boxes that objects exist in.** (kp: which is the case in C/C++/Java etc, as far as I know). **You can have multiple variables attached to the same object, as illustrated by the well-known Python gotcha where two variables refer to the same list (code visualization)**:"
   ]
  },
  {
   "cell_type": "markdown",
   "metadata": {},
   "source": [
    "    >>> spam = [2, 4, 6, 8]\n",
    "    >>> cheese = spam # Copies the reference to the list object, not the list object itself.\n",
    "    >>> cheese\n",
    "    [2, 4, 6, 8]\n",
    "    >>> spam[0] = 'changed'\n",
    "    >>> spam\n",
    "    ['changed', 4, 6, 8]\n",
    "    >>> cheese # Both variables have changed because they refer to the same list object.\n",
    "    ['changed', 4, 6, 8]\n",
    "\n",
    "**This is important because while Python variables are thought to be dynamic and changeable, often you are just changing what object a variable refers to, while the underlying object is immutable.** For example, Python integers are immutable. This code doesn't change the integer object, it just points the variable to a new object:\n",
    "\n",
    "    >>> id(spam) # the integer object with value 42 has the id 140711779350640.\n",
    "    140711779350640\n",
    "    >>> spam = 43 # this isn't \"changing\" the integer object, it's pointing spam to a different object\n",
    "    >>> id(spam) # this different object has a different identity thant the 42 object\n",
    "    140711779350672\n",
    "\n",
    "Integers, floats, strings, tuples, are all immutable types. Lists, dictionaries, and sets are mutable. Note the difference between mutating a list's value with the append() method and changing the list a variable refers to ([code visualization](http://pythontutor.com/visualize.html#mode=display)):\n",
    "\n",
    "    >>> spam = [2, 4, 6, 8]\n",
    "    >>> id(spam) # Note the id of the list object that spam refers to\n",
    "    1725535036232\n",
    "    >>> spam.append(10)\n",
    "    >>> spam\n",
    "    [2, 4, 6, 8, 10]\n",
    "    >>> id(spam) # The id is the same as before.\n",
    "    1725535036232\n",
    "    >>> spam = [2, 4, 6, 8, 10, 12] # This is creating a new list object and referring spam to it\n",
    "    >>> id(spam) # You can tell because the id is different; this is a different list object now.\n",
    "    1725534094088\n",
    "\n",
    "**Objects are never explicitly destroyed by Python code.** (Unlike in, say, the C programming language where you can call free() to deallocate the memory for an object.) **Instead, Python objects are destroyed automatically by the garbage collector when an object no longer has any variables referring to it.** This can happen soon or long after the last variable stops referring to an object, **so don't write code that depends on the immediate destruction of objects when they become unreachable.**\n",
    "\n",
    "**Objects that contain references to other objects are called containers. Lists, tuples, dictionaries, and sets are examples of container types.**\n",
    "\n",
    "### 3.2. the standard type hierarchy\n",
    "\n",
    "### The Python language"
   ]
  },
  {
   "cell_type": "markdown",
   "metadata": {},
   "source": [
    "## kp: More references on Python Data Model\n",
    "* https://delapuente.github.io/presentations/python-datamodel/index.html#/1 The Python's data model - A visual story\n",
    "* https://courses.cs.washington.edu/courses/cse140/12su/lectures/10-data_model.pdf The Python Data Model UW CSE 190p Summer 2012\n",
    "* https://pybit.es/python-data-model.html Python's data model by example\n",
    "\n",
    "* https://rushter.com/blog/python-class-internals/ Understanding internals of Python classes (Last updated on February 09, 2018, in Python)\n",
    "* https://www.oreilly.com/library/view/fluent-python/9781491946237/ch01.html Chapter 1. The Python Data Model\n",
    "\n"
   ]
  },
  {
   "cell_type": "markdown",
   "metadata": {},
   "source": [
    "[GoTop](#GoTop) <a id='YieldInsteadOfReturn'></a>\n",
    "##  When to use yield instead of return in Python?\n",
    "Refs:\n",
    "* https://www.geeksforgeeks.org/use-yield-keyword-instead-return-keyword-python/\n",
    "* https://www.geeksforgeeks.org/python-yield-keyword/\n",
    "\n",
    "The yield statement suspends function’s execution and sends a value back to caller, but retains enough state to enable function to resume where it is left off. When resumed, the function continues execution immediately after the last yield run. This allows its code to produce a series of values over time, rather them computing them at once and sending them back like a list.\n",
    "\n",
    "Let’s see with an example:"
   ]
  },
  {
   "cell_type": "code",
   "execution_count": 171,
   "metadata": {},
   "outputs": [
    {
     "name": "stdout",
     "output_type": "stream",
     "text": [
      "1\n",
      "2\n",
      "3\n"
     ]
    }
   ],
   "source": [
    "# A Simple Python program to demonstrate working \n",
    "# of yield \n",
    "  \n",
    "# A generator function that yields 1 for first time, \n",
    "# 2 second time and 3 third time \n",
    "def simpleGeneratorFun(): \n",
    "    yield 1\n",
    "    yield 2\n",
    "    yield 3\n",
    "  \n",
    "# Driver code to check above generator function \n",
    "for value in simpleGeneratorFun():  \n",
    "    print(value) \n"
   ]
  },
  {
   "cell_type": "markdown",
   "metadata": {},
   "source": [
    "**Return** sends a specified value back to its caller whereas **Yield** can produce a sequence of values. We should use yield when we want to iterate over a sequence, but don’t want to store the entire sequence in memory.\n",
    "\n",
    "Yield are used in Python **generators**. A generator function is defined like a normal function, but whenever it needs to generate a value, it does so with the yield keyword rather than return. If the body of a def contains yield, the function automatically becomes a generator function."
   ]
  },
  {
   "cell_type": "code",
   "execution_count": 172,
   "metadata": {},
   "outputs": [
    {
     "name": "stdout",
     "output_type": "stream",
     "text": [
      "1\n",
      "4\n",
      "9\n",
      "16\n",
      "25\n",
      "36\n",
      "49\n",
      "64\n",
      "81\n",
      "100\n"
     ]
    }
   ],
   "source": [
    "# A Python program to generate squares from 1 \n",
    "# to 100 using yield and therefore generator \n",
    "  \n",
    "# An infinite generator function that prints \n",
    "# next square number. It starts with 1 \n",
    "def nextSquare(): \n",
    "    i = 1; \n",
    "  \n",
    "    # An Infinite loop to generate squares  \n",
    "    while True: \n",
    "        yield i*i                 \n",
    "        i += 1  # Next execution resumes  \n",
    "                # from this point      \n",
    "  \n",
    "# Driver code to test above generator  \n",
    "# function \n",
    "for num in nextSquare(): \n",
    "    if num > 100: \n",
    "         break    \n",
    "    print(num) \n"
   ]
  },
  {
   "cell_type": "markdown",
   "metadata": {},
   "source": [
    "### Python | yield Keyword\n",
    "\n",
    "yield is a keyword in Python that is used to return from a function without destroying the states of its local variable and when the function is called, the execution starts from the last yield statement. Any function that contains a yield keyword is termed as generator. Hence, yield is what makes a generator. yield keyword in Python is less known off but has a greater utility which one can think of.\n",
    "\n",
    "**`Code #1` :** Demonstrating yield working"
   ]
  },
  {
   "cell_type": "code",
   "execution_count": 173,
   "metadata": {},
   "outputs": [
    {
     "name": "stdout",
     "output_type": "stream",
     "text": [
      "The original list is : [1, 4, 5, 6, 7]\n",
      "The even numbers in list are :  4 6 "
     ]
    }
   ],
   "source": [
    "# Python3 code to demonstrate  \n",
    "# yield keyword \n",
    "  \n",
    "# generator to print even numbers \n",
    "def print_even(test_list) : \n",
    "    for i in test_list: \n",
    "        if i % 2 == 0: \n",
    "            yield i \n",
    "  \n",
    "# initializing list  \n",
    "test_list = [1, 4, 5, 6, 7] \n",
    "  \n",
    "# printing initial list \n",
    "print (\"The original list is : \" +  str(test_list)) \n",
    "  \n",
    "# printing even numbers  \n",
    "print (\"The even numbers in list are : \", end = \" \") \n",
    "for j in print_even(test_list): \n",
    "    print (j, end = \" \") \n"
   ]
  },
  {
   "cell_type": "markdown",
   "metadata": {},
   "source": [
    "### Advantages of yield:\n",
    "\n",
    "* Since it stores the local variable states, hence overhead of memory allocation is controlled.\n",
    "* Since the old state is retained, flow doesn’t start from the beginnning and hence saves time.\n",
    "\n",
    "### Disadvantages of yield:\n",
    "\n",
    "* Sometimes, the use of yield becomes erroneous is calling of function is not handled properly.\n",
    "* The time and memory optimization has a cost of complexity of code and hence sometimes hard to understand logic behind it.\n",
    "\n",
    "### Practical Applications:\n",
    "The possible practical application is that when handling the last amount of data and searching particulars from it, yield can be used as we don’t need to lookup again from start and hence would save time. There can possibly be many application of yield depending upon the use cases."
   ]
  },
  {
   "cell_type": "code",
   "execution_count": 183,
   "metadata": {},
   "outputs": [
    {
     "name": "stdout",
     "output_type": "stream",
     "text": [
      "kp: type of test_string:  <class 'str'>\n",
      "kp: type of test_string (after .split()):  <class 'list'>\n",
      "The number of geeks in string is : 3\n"
     ]
    }
   ],
   "source": [
    "# Python3 code to demonstrate yield keyword \n",
    "# Checking number of occurrence of geeks in string  \n",
    "# generator to print even numbers \n",
    "def print_even(test_string) : \n",
    "    for i in test_string: \n",
    "        if i == \"geeks\": \n",
    "            yield i \n",
    "  \n",
    "# initializing string \n",
    "test_string = \" There are many geeks around you, \\\n",
    "              geeks are known for teaching other geeks\" \n",
    "print(\"kp: type of test_string: \", type(test_string))\n",
    "# printing even numbers using yield \n",
    "count = 0\n",
    "\n",
    "# kp: Following .split() method splits the string into words and makes a and \n",
    "#    returns the pieces/words as a list. The variable is reassigned the list \n",
    "#    (different type/object - effectively points to diff. area in memory)\n",
    "test_string = test_string.split() \n",
    "print(\"kp: type of test_string (after .split()): \", type(test_string)) \n",
    "\n",
    "print (\"The number of geeks in string is : \", end = \"\" )   \n",
    "for j in print_even(test_string): \n",
    "    count = count + 1\n",
    "  \n",
    "print (count) "
   ]
  },
  {
   "cell_type": "markdown",
   "metadata": {},
   "source": [
    "[GoTop](#GoTop) <a id='GlobalKeywordInPython'></a>\n",
    "## Global keyword in Python\n",
    "Ref:\n",
    "* https://www.geeksforgeeks.org/global-keyword-in-python/\n",
    "\n",
    "Global keyword is a keyword that allows a user to modify a variable outside of the current scope. It is used to create global variables from a non-global scope i.e inside a function. Global keyword is used inside a function only when we want to do assignments or when we want to change a variable. Global is not needed for printing and accessing.\n",
    "\n",
    "**Rules of global keyword:**\n",
    "\n",
    "* If a variable is assigned a value anywhere within the function’s body, it’s assumed to be a local unless explicitly declared as global.\n",
    "* Variables that are only referenced inside a function are implicitly global.\n",
    "* We Use global keyword to use a global variable inside a function.\n",
    "* There is no need to use global keyword outside a function.\n",
    "\n",
    "**Use of global keyword:**\n",
    "\n",
    "To access a global variable inside a function there is no need to use global keyword.\n",
    "\n",
    "**Example 1:**"
   ]
  },
  {
   "cell_type": "code",
   "execution_count": 184,
   "metadata": {},
   "outputs": [
    {
     "name": "stdout",
     "output_type": "stream",
     "text": [
      "25\n"
     ]
    }
   ],
   "source": [
    "# Python program showing no need to \n",
    "# use global keyword for accessing \n",
    "# a global value \n",
    "  \n",
    "# global variable \n",
    "a = 15\n",
    "b = 10\n",
    "  \n",
    "# function to perform addition \n",
    "def add(): \n",
    "    c = a + b \n",
    "    print(c) \n",
    "  \n",
    "# calling a function \n",
    "add() \n"
   ]
  },
  {
   "cell_type": "markdown",
   "metadata": {},
   "source": [
    "If we need to assign a new value to a global variable then we can do that by declaring the variable as global.\n",
    "\n",
    "**Code 2:** Without global keyword"
   ]
  },
  {
   "cell_type": "code",
   "execution_count": 185,
   "metadata": {},
   "outputs": [
    {
     "ename": "UnboundLocalError",
     "evalue": "local variable 'a' referenced before assignment",
     "output_type": "error",
     "traceback": [
      "\u001b[0;31m---------------------------------------------------------------------------\u001b[0m",
      "\u001b[0;31mUnboundLocalError\u001b[0m                         Traceback (most recent call last)",
      "\u001b[0;32m<ipython-input-185-eb3db5e839f5>\u001b[0m in \u001b[0;36m<module>\u001b[0;34m\u001b[0m\n\u001b[1;32m     12\u001b[0m     \u001b[0mprint\u001b[0m\u001b[0;34m(\u001b[0m\u001b[0ma\u001b[0m\u001b[0;34m)\u001b[0m\u001b[0;34m\u001b[0m\u001b[0;34m\u001b[0m\u001b[0m\n\u001b[1;32m     13\u001b[0m \u001b[0;34m\u001b[0m\u001b[0m\n\u001b[0;32m---> 14\u001b[0;31m \u001b[0mchange\u001b[0m\u001b[0;34m(\u001b[0m\u001b[0;34m)\u001b[0m\u001b[0;34m\u001b[0m\u001b[0;34m\u001b[0m\u001b[0m\n\u001b[0m",
      "\u001b[0;32m<ipython-input-185-eb3db5e839f5>\u001b[0m in \u001b[0;36mchange\u001b[0;34m()\u001b[0m\n\u001b[1;32m      9\u001b[0m \u001b[0;34m\u001b[0m\u001b[0m\n\u001b[1;32m     10\u001b[0m     \u001b[0;31m# increment value of a by 5\u001b[0m\u001b[0;34m\u001b[0m\u001b[0;34m\u001b[0m\u001b[0;34m\u001b[0m\u001b[0m\n\u001b[0;32m---> 11\u001b[0;31m     \u001b[0ma\u001b[0m \u001b[0;34m=\u001b[0m \u001b[0ma\u001b[0m \u001b[0;34m+\u001b[0m \u001b[0;36m5\u001b[0m\u001b[0;34m\u001b[0m\u001b[0;34m\u001b[0m\u001b[0m\n\u001b[0m\u001b[1;32m     12\u001b[0m     \u001b[0mprint\u001b[0m\u001b[0;34m(\u001b[0m\u001b[0ma\u001b[0m\u001b[0;34m)\u001b[0m\u001b[0;34m\u001b[0m\u001b[0;34m\u001b[0m\u001b[0m\n\u001b[1;32m     13\u001b[0m \u001b[0;34m\u001b[0m\u001b[0m\n",
      "\u001b[0;31mUnboundLocalError\u001b[0m: local variable 'a' referenced before assignment"
     ]
    }
   ],
   "source": [
    "# Python program showing to modify \n",
    "# a global value without using global \n",
    "# keyword \n",
    "  \n",
    "a = 15\n",
    "  \n",
    "# function to change a global value \n",
    "def change(): \n",
    "  \n",
    "    # increment value of a by 5 \n",
    "    a = a + 5 \n",
    "    print(a) \n",
    "  \n",
    "change() \n"
   ]
  },
  {
   "cell_type": "markdown",
   "metadata": {},
   "source": [
    "Output:\n",
    "```\n",
    "UnboundLocalError: local variable 'a' referenced before assignment\n",
    "```\n",
    "This output is an error because we are trying to assign a value to a variable in an outer scope. This can be done with the use of global variable.\n",
    "\n",
    "**Code 3:** With global keyword"
   ]
  },
  {
   "cell_type": "code",
   "execution_count": 188,
   "metadata": {},
   "outputs": [
    {
     "name": "stdout",
     "output_type": "stream",
     "text": [
      "Value of x outside change() function before its call:  15\n",
      "Value of x inside the change() function : 20\n",
      "Value of x outside change() function after its call : 20\n"
     ]
    }
   ],
   "source": [
    "# Python program to modify a global \n",
    "# value inside a function \n",
    "  \n",
    "x = 15\n",
    "def change(): \n",
    "  \n",
    "    # using a global keyword \n",
    "    global x \n",
    "  \n",
    "    # increment value of a by 5 \n",
    "    x = x + 5 \n",
    "    print(\"Value of x inside the change() function :\", x) \n",
    "\n",
    "print(\"Value of x outside change() function before its call: \", x) \n",
    "change() \n",
    "print(\"Value of x outside change() function after its call :\", x) "
   ]
  },
  {
   "cell_type": "markdown",
   "metadata": {},
   "source": [
    "In the above example, we first define x as global keyword inside the function change(). The value of x is then incremented by 5, ie. x=x+5 and hence we get the output as 20.\n",
    "As we can see by changing the value inside the function change(), the change is also reflected in the value outside the global variable.\n",
    " \n",
    "### Global variables across python modules :\n",
    "The best way to share global variables across different modules within the same program is to create a special module (often named config or cfg). Import the config module in all modules of your application; the module then becomes available as a global name. There is only one instance of each module and so any changes made to the module object get reflected everywhere. For Example, sharing global variables across modules\n",
    "\n",
    "**Code 1:** Create a config.py file to store global variables:\n",
    "```py\n",
    "x = 0\n",
    "y = 0\n",
    "z =\"none\"\n",
    "```\n",
    "**Code 2:** Create a modify.py file to modify global variables:\n",
    "```py\n",
    "import config \n",
    "config.x = 1\n",
    "config.y = 2\n",
    "config.z =\"geeksforgeeks\"\n",
    "```\n",
    "\n",
    "Here we have modified the value of x, y, and z. These variables were defined in the module config.py, hence we have to import config module and we can use config.variable_name to access these variables.\n",
    "\n",
    "**Code 3:** Create a main.py file to modify global variables:\n",
    "```py\n",
    "import config \n",
    "import modify \n",
    "print(config.x) \n",
    "print(config.y) \n",
    "print(config.z) \n",
    "```\n",
    "Output:\n",
    "```\n",
    "1\n",
    "2\n",
    "geeksforgeeks\n",
    "```\n",
    "\n",
    "### Global in Nested functions\n",
    "In order to use global inside a nested functions, we have to declare a variable with global keyword inside a nested function"
   ]
  },
  {
   "cell_type": "code",
   "execution_count": 192,
   "metadata": {},
   "outputs": [
    {
     "name": "stdout",
     "output_type": "stream",
     "text": [
      "Before making change:  15\n",
      "Making change\n",
      "After making change:  15\n",
      "value of x =  20\n"
     ]
    }
   ],
   "source": [
    "# Python program showing a use of \n",
    "# global in nested function \n",
    "  \n",
    "def add(): \n",
    "     x = 15\n",
    "       \n",
    "     def change(): \n",
    "         global x \n",
    "         x = 20\n",
    "\n",
    "    #Here, we've not made any change to x either locally or globally, so expect 15\n",
    "     print(\"Before making change: \", x) \n",
    "     print(\"Making change\") \n",
    "     change() \n",
    "     # Here, although, global x (which is also local to change()) is changed, the x\n",
    "     #   inside add() but outside change() is not a global one, so it still is eq. to 15.\n",
    "     print(\"After making change: \", x) \n",
    "  \n",
    "add() \n",
    "print(\"value of x = \",x) \n"
   ]
  },
  {
   "cell_type": "markdown",
   "metadata": {},
   "source": [
    "In the above example Before and after making change(), the variable x takes the value of local variable i.e x = 15. Outside of the add() function, the variable x will take value defined in the change() function i.e x = 20. because we have used global keyword in x to create global variable inside the change() function (local scope)."
   ]
  },
  {
   "cell_type": "markdown",
   "metadata": {},
   "source": [
    "[GoTop](#GoTop) <a id='PythonClosuresAndNonlocalSolutions'></a>\n",
    "## Python Closures and the Python 2.7 nonlocal Solution\n",
    "Refs:\n",
    "* https://technotroph.wordpress.com/2012/10/01/python-closures-and-the-python-2-7-nonlocal-solution/\n",
    "* https://www.programiz.com/python-programming/closure\n",
    "* https://www.programiz.com/python-programming/global-local-nonlocal-variables\n",
    "* https://www.geeksforgeeks.org/python-closures/\n",
    "\n",
    "Ref1:\n",
    "\n",
    "In python, functions are first class. A language with first class functions allows functions to be passed as a variable and returned from a function just like other first class data types like integers or floats. Some notable language with first class functions are Python, JavaScript, Scheme and Haskell.\n",
    "\n",
    "Therefore in python, it’s possible to do things like this:"
   ]
  },
  {
   "cell_type": "code",
   "execution_count": 232,
   "metadata": {},
   "outputs": [
    {
     "name": "stdout",
     "output_type": "stream",
     "text": [
      "32 243\n"
     ]
    }
   ],
   "source": [
    "def raise_to_base(n):\n",
    "  def my_pow(x):\n",
    "    return x**n\n",
    "  return my_pow\n",
    " \n",
    "pow_base_5 = raise_to_base(5)\n",
    "print(pow_base_5(2), pow_base_5(3)) # =&gt; 32"
   ]
  },
  {
   "cell_type": "markdown",
   "metadata": {},
   "source": [
    "(above code is taken from [Python Closures Explained](http://www.shutupandship.com/2012/01/python-closures-explained.html))\n",
    "\n",
    "I have created a function that returns another function. And the inner function is known as a closure. A “closure” is an expression (typically a function) that can have free variables together with an environment that binds those variables (that “closes” the expression). With closures, we can do other neat things like this:"
   ]
  },
  {
   "cell_type": "code",
   "execution_count": 233,
   "metadata": {},
   "outputs": [
    {
     "name": "stdout",
     "output_type": "stream",
     "text": [
      "1 2 3\n"
     ]
    }
   ],
   "source": [
    "def outer():\n",
    "  y = 0\n",
    "  def inner():\n",
    "    nonlocal y\n",
    "    y+=1\n",
    "    return y\n",
    "  return inner\n",
    " \n",
    " \n",
    "f = outer()\n",
    "print(f(), f(), f())"
   ]
  },
  {
   "cell_type": "markdown",
   "metadata": {},
   "source": [
    "The inner function now becomes something like a method in OOP. It controls the way the variable y is accessed from the outside. But there’s a problem when we want to do this in Python 2.7. The above code works only in Python 3.x. The nonlocal keyword does not exist in Python 2.7. To solve this problem, we can use dictionaries (or we can also create another object) to store the y variable in a namespace that the inner function can access."
   ]
  },
  {
   "cell_type": "code",
   "execution_count": 234,
   "metadata": {},
   "outputs": [
    {
     "name": "stdout",
     "output_type": "stream",
     "text": [
      "1 2 3\n"
     ]
    }
   ],
   "source": [
    "def outerP2():\n",
    "  d = {'y' : 0}\n",
    "  def innerP2():\n",
    "    d['y'] += 1\n",
    "    return d['y']\n",
    "  return innerP2\n",
    "\n",
    "f = outerP2()\n",
    "print(f(), f(), f())"
   ]
  },
  {
   "cell_type": "markdown",
   "metadata": {},
   "source": [
    "Though IMO (kp: IMO == in my opinion?), it’s kinda weird that we can’t access the non local variable but we can access the dictionary (kp: which is also non local).\n",
    "\n",
    "**kp: In fact,** I also had wondered similarly before.\n",
    "### Some user comments regarding this apperent wierdness:\n",
    "#### ttt \n",
    "March 30, 2013 at 6:22 pm\n",
    "\n",
    "I think in the last example, in d[‘y’] += 1, d is not assigned thus it is not considered to be local and is searched in outer scopes. In y += 1, y is assigned in the block, thus it is considered local unless we declare it to be global or nonlocal. See this question I asked: http://stackoverflow.com/q/15594867 .\n",
    "And also http://docs.python.org/2/reference/executionmodel.html#naming-and-binding .\n",
    "#### TomP\n",
    "April 24, 2013 at 10:14 pm\n",
    "\n",
    "The point ttt makes here is explained very well in another blog I stumbled upon this morning,\n",
    "http://me.veekun.com/blog/2011/04/24/gotcha-python-scoping-closures/"
   ]
  },
  {
   "cell_type": "markdown",
   "metadata": {},
   "source": [
    "(From Ref 4 above):\n",
    "### Python Closures\n",
    "\n",
    "Before seeing what a closure is, we have to first understand what are nested functions and non-local variables.\n",
    "\n",
    "#### Nested functions in Python\n",
    "\n",
    "A function which is defined inside another function is known as nested function. Nested functions are able to access variables of the enclosing scope.\n",
    "In Python, these non-local variables can be accessed only within their scope and not outside their scope. This can be illustrated by following example:"
   ]
  },
  {
   "cell_type": "code",
   "execution_count": 235,
   "metadata": {},
   "outputs": [
    {
     "name": "stdout",
     "output_type": "stream",
     "text": [
      "Hey!\n"
     ]
    }
   ],
   "source": [
    "# Python program to illustrate \n",
    "# nested functions \n",
    "def outerFunction(text): \n",
    "    text = text \n",
    "  \n",
    "    def innerFunction(): \n",
    "        print(text) \n",
    "  \n",
    "    innerFunction() \n",
    "  \n",
    "if __name__ == '__main__': \n",
    "    outerFunction('Hey!') \n"
   ]
  },
  {
   "cell_type": "markdown",
   "metadata": {},
   "source": [
    "As we can see innerFunction() can easily be accessed inside the outerFunction body but not outside of it’s body. Hence, here, innerFunction() is treated as nested Function which uses text as non-local variable.\n",
    "\n",
    "#### Python Closures\n",
    "\n",
    "A **Closure is a function object that remembers values in enclosing scopes even if they are not present in memory.**\n",
    "\n",
    "* It is a record that stores a function together with an environment: a mapping associating each free variable of the function (variables that are used locally, but defined in an enclosing scope) with the value or reference to which the name was bound when the closure was created.\n",
    "* A closure—unlike a plain function—allows the function to access those captured variables through the closure’s copies of their values or references, even when the function is invoked outside their scope.\n"
   ]
  },
  {
   "cell_type": "code",
   "execution_count": 236,
   "metadata": {},
   "outputs": [
    {
     "name": "stdout",
     "output_type": "stream",
     "text": [
      "Hey!\n"
     ]
    }
   ],
   "source": [
    "# Python program to illustrate \n",
    "# closures \n",
    "def outerFunction(text): \n",
    "    text = text \n",
    "  \n",
    "    def innerFunction(): \n",
    "        print(text) \n",
    "  \n",
    "    return innerFunction # Note we are returning function WITHOUT parenthesis \n",
    "  \n",
    "if __name__ == '__main__': \n",
    "    myFunction = outerFunction('Hey!') \n",
    "    myFunction() \n"
   ]
  },
  {
   "cell_type": "markdown",
   "metadata": {},
   "source": [
    "```\n",
    "Output:\n",
    "omkarpathak@omkarpathak-Inspiron-3542:\n",
    "~/Documents/Python-Programs/$ python Closures.py \n",
    "Hey!\n",
    "```\n",
    "\n",
    "1. As observed from above code, closures help to invoke function outside their scope.\n",
    "2. The function innerFunction has its scope only inside the outerFunction. But with the use of closures we can easily extend its scope to invoke a function outside its scope.\n"
   ]
  },
  {
   "cell_type": "code",
   "execution_count": 237,
   "metadata": {},
   "outputs": [
    {
     "name": "stdout",
     "output_type": "stream",
     "text": [
      "6\n",
      "9\n",
      "5\n",
      "10\n"
     ]
    }
   ],
   "source": [
    "# Python program to illustrate \n",
    "# closures \n",
    "import logging \n",
    "logging.basicConfig(filename='example.log', level=logging.INFO) \n",
    "  \n",
    "  \n",
    "def logger(func): \n",
    "    def log_func(*args): \n",
    "        logging.info( \n",
    "            'Running \"{}\" with arguments {}'.format(func.__name__, args)) \n",
    "        print(func(*args)) \n",
    "    # Necessary for closure to work (returning WITHOUT parenthesis) \n",
    "    return log_func               \n",
    "  \n",
    "    \n",
    "def add(x, y): \n",
    "    return x+y \n",
    "  \n",
    "def sub(x, y): \n",
    "    return x-y \n",
    "  \n",
    "add_logger = logger(add) \n",
    "sub_logger = logger(sub) \n",
    "  \n",
    "add_logger(3, 3) \n",
    "add_logger(4, 5) \n",
    "  \n",
    "sub_logger(10, 5) \n",
    "sub_logger(20, 10) \n"
   ]
  },
  {
   "cell_type": "markdown",
   "metadata": {},
   "source": [
    "### When and why to use Closures:\n",
    "\n",
    "1. As closures are used as callback functions, they provide some sort of data hiding. This helps us to reduce the use of global variables.\n",
    "2. When we have few functions in our code, closures prove to be efficient way. But if we need to have many functions, then go for class (OOP).\n",
    "\n",
    "This article is contributed by Omkar Pathak. If you like GeeksforGeeks and would like to contribute, you can also write an article using contribute.geeksforgeeks.org or mail your article to contribute@geeksforgeeks.org. See your article appearing on the GeeksforGeeks main page and help other Geeks.\n",
    "\n",
    "Please write comments if you find anything incorrect, or you want to share more information about the topic discussed above."
   ]
  },
  {
   "cell_type": "markdown",
   "metadata": {},
   "source": [
    "From Ref 2:\n",
    "### Python Closures (kp: Again)\n",
    "#### Nonlocal variable in a nested function\n",
    "\n",
    "Before getting into what a closure is, we have to first understand what a nested function and nonlocal variable is.\n",
    "\n",
    "A function defined inside another function is called a nested function. Nested functions can access variables of the enclosing scope.\n",
    "\n",
    "**In Python, these non-local variables are read only by default** and we **must declare them explicitly as non-local** (using nonlocal keyword) **in order to modify** them.\n",
    "\n",
    "Following is an example of a nested function accessing a non-local variable."
   ]
  },
  {
   "cell_type": "code",
   "execution_count": 238,
   "metadata": {},
   "outputs": [
    {
     "name": "stdout",
     "output_type": "stream",
     "text": [
      "Hello\n"
     ]
    }
   ],
   "source": [
    "def print_msg(msg):\n",
    "# This is the outer enclosing function\n",
    "\n",
    "    def printer():\n",
    "# This is the nested function\n",
    "        print(msg)\n",
    "\n",
    "    printer()\n",
    "\n",
    "# We execute the function\n",
    "# Output: Hello\n",
    "print_msg(\"Hello\")"
   ]
  },
  {
   "cell_type": "markdown",
   "metadata": {},
   "source": [
    "We can see that the nested function printer() was able to access the non-local variable msg of the enclosing function.\n",
    "#### Defining a Closure Function\n",
    "\n",
    "In the example above, what would happen if the last line of the function print_msg() returned the printer() function instead of calling it? This means the function was defined as follows."
   ]
  },
  {
   "cell_type": "code",
   "execution_count": 239,
   "metadata": {},
   "outputs": [
    {
     "name": "stdout",
     "output_type": "stream",
     "text": [
      "Hello\n"
     ]
    }
   ],
   "source": [
    "def print_msg(msg):\n",
    "# This is the outer enclosing function\n",
    "\n",
    "    def printer():\n",
    "# This is the nested function\n",
    "        print(msg)\n",
    "\n",
    "    return printer  # this got changed\n",
    "\n",
    "# Now let's try calling this function.\n",
    "# Output: Hello\n",
    "another = print_msg(\"Hello\")\n",
    "another()"
   ]
  },
  {
   "cell_type": "markdown",
   "metadata": {},
   "source": [
    "That's unusual.\n",
    "\n",
    "The print_msg() function was called with the string \"Hello\" and the returned function was bound to the name another. On calling another(), the message was still remembered although we had already finished executing the print_msg() function.\n",
    "\n",
    "This technique by which some data (\"Hello\") gets attached to the code is called closure in Python.\n",
    "\n",
    "This value in the enclosing scope is remembered even when the variable goes out of scope or the function itself is removed from the current namespace.\n",
    "\n",
    "Try running the following in the Python shell to see the output."
   ]
  },
  {
   "cell_type": "code",
   "execution_count": 240,
   "metadata": {},
   "outputs": [
    {
     "name": "stdout",
     "output_type": "stream",
     "text": [
      "Hello\n"
     ]
    }
   ],
   "source": [
    "del print_msg\n",
    "\n",
    "another()"
   ]
  },
  {
   "cell_type": "code",
   "execution_count": 241,
   "metadata": {},
   "outputs": [
    {
     "ename": "NameError",
     "evalue": "name 'print_msg' is not defined",
     "output_type": "error",
     "traceback": [
      "\u001b[0;31m---------------------------------------------------------------------------\u001b[0m",
      "\u001b[0;31mNameError\u001b[0m                                 Traceback (most recent call last)",
      "\u001b[0;32m<ipython-input-241-af0f59439c9b>\u001b[0m in \u001b[0;36m<module>\u001b[0;34m\u001b[0m\n\u001b[0;32m----> 1\u001b[0;31m \u001b[0mprint_msg\u001b[0m\u001b[0;34m(\u001b[0m\u001b[0;34m\"Hello\"\u001b[0m\u001b[0;34m)\u001b[0m\u001b[0;34m\u001b[0m\u001b[0;34m\u001b[0m\u001b[0m\n\u001b[0m",
      "\u001b[0;31mNameError\u001b[0m: name 'print_msg' is not defined"
     ]
    }
   ],
   "source": [
    "print_msg(\"Hello\")"
   ]
  },
  {
   "cell_type": "markdown",
   "metadata": {},
   "source": [
    "### When do we have a closure?\n",
    "\n",
    "As seen from the above example, **we have a closure in Python when a nested function references a value in its enclosing scope**.\n",
    "\n",
    "The **criteria that must be met to create closure in Python** are summarized in the following points.\n",
    "\n",
    "* We must have a nested function (function inside a function).\n",
    "* The nested function must refer to a value defined in the enclosing function.\n",
    "* The enclosing function must return the nested function.\n",
    "\n",
    "### When to use closures?\n",
    "\n",
    "So what are closures good for?\n",
    "\n",
    "**Closures can avoid the use of global values and provides some form of data hiding. It can also provide an object oriented solution to the problem.**\n",
    "\n",
    "When there are few methods (one method in most cases) to be implemented in a class, closures can provide an alternate and more elegant solutions. But when the number of attributes and methods get larger, better implement a class.\n",
    "\n",
    "Here is a simple example where a closure might be more preferable than defining a class and making objects. But the preference is all yours."
   ]
  },
  {
   "cell_type": "code",
   "execution_count": 242,
   "metadata": {},
   "outputs": [
    {
     "name": "stdout",
     "output_type": "stream",
     "text": [
      "27\n",
      "15\n",
      "30\n"
     ]
    }
   ],
   "source": [
    "def make_multiplier_of(n):\n",
    "    def multiplier(x):\n",
    "        return x * n\n",
    "    return multiplier\n",
    "\n",
    "# Multiplier of 3\n",
    "times3 = make_multiplier_of(3)\n",
    "\n",
    "# Multiplier of 5\n",
    "times5 = make_multiplier_of(5)\n",
    "\n",
    "# Output: 27\n",
    "print(times3(9))\n",
    "\n",
    "# Output: 15\n",
    "print(times5(3))\n",
    "\n",
    "# Output: 30\n",
    "print(times5(times3(2)))"
   ]
  },
  {
   "cell_type": "markdown",
   "metadata": {},
   "source": [
    "<a id='myPD'></a>\n",
    "[Decorators in Python](https://www.programiz.com/python-programming/decorator) make an extensive use of closures as well.\n",
    "\n",
    "On a concluding note, it is good to point out that the **values that get enclosed in the closure function can be found out.**\n",
    "\n",
    "**All function objects have a `__closure__` attribute that returns a tuple of cell objects if it is a closure function.** Referring to the example above, we know times3 and times5 are closure functions."
   ]
  },
  {
   "cell_type": "markdown",
   "metadata": {},
   "source": [
    "```\n",
    "    >>> make_multiplier_of.__closure__\n",
    "    >>> times3.__closure__\n",
    "    (<cell at 0x0000000002D155B8: int object at 0x000000001E39B6E0>,)\n",
    "```\n",
    "The cell object has the attribute cell_contents which stores the closed value.\n",
    "```\n",
    "    >>> times3.__closure__[0].cell_contents\n",
    "    3\n",
    "    >>> times5.__closure__[0].cell_contents\n",
    "    5\n",
    "```"
   ]
  },
  {
   "cell_type": "code",
   "execution_count": 243,
   "metadata": {},
   "outputs": [],
   "source": [
    "make_multiplier_of.__closure__"
   ]
  },
  {
   "cell_type": "code",
   "execution_count": 244,
   "metadata": {},
   "outputs": [
    {
     "data": {
      "text/plain": [
       "(<cell at 0x10dce6150: int object at 0x10935df50>,)"
      ]
     },
     "execution_count": 244,
     "metadata": {},
     "output_type": "execute_result"
    }
   ],
   "source": [
    "times3.__closure__"
   ]
  },
  {
   "cell_type": "code",
   "execution_count": 245,
   "metadata": {},
   "outputs": [
    {
     "data": {
      "text/plain": [
       "3"
      ]
     },
     "execution_count": 245,
     "metadata": {},
     "output_type": "execute_result"
    }
   ],
   "source": [
    "times3.__closure__[0].cell_contents"
   ]
  },
  {
   "cell_type": "code",
   "execution_count": 246,
   "metadata": {},
   "outputs": [
    {
     "data": {
      "text/plain": [
       "5"
      ]
     },
     "execution_count": 246,
     "metadata": {},
     "output_type": "execute_result"
    }
   ],
   "source": [
    "times5.__closure__[0].cell_contents"
   ]
  },
  {
   "cell_type": "markdown",
   "metadata": {},
   "source": [
    "[GoTop](#GoTop) <a id='nonlocalKeyword'></a>\n",
    "## 'nonlocal' keyword in Python 3.x & It's 2.x equivalent\n",
    "Refs:\n",
    "* [Why doesn't this closure modify the variable in the enclosing scope?](https://stackoverflow.com/questions/7535857/why-doesnt-this-closure-modify-the-variable-in-the-enclosing-scope/7535919#7535919)"
   ]
  },
  {
   "cell_type": "code",
   "execution_count": 230,
   "metadata": {},
   "outputs": [
    {
     "ename": "SyntaxError",
     "evalue": "invalid syntax (<ipython-input-230-00684c117992>, line 7)",
     "output_type": "error",
     "traceback": [
      "\u001b[0;36m  File \u001b[0;32m\"<ipython-input-230-00684c117992>\"\u001b[0;36m, line \u001b[0;32m7\u001b[0m\n\u001b[0;31m    print x()    # prints 999\u001b[0m\n\u001b[0m          ^\u001b[0m\n\u001b[0;31mSyntaxError\u001b[0m\u001b[0;31m:\u001b[0m invalid syntax\n"
     ]
    }
   ],
   "source": [
    "def test(start):\n",
    "    def closure():\n",
    "        return start\n",
    "    return closure\n",
    "\n",
    "x = test(999)\n",
    "print x()    # prints 999"
   ]
  },
  {
   "cell_type": "markdown",
   "metadata": {},
   "source": [
    "Whenever you assign a variable inside of a function it will be a local variable for that function. The line start += 1 is assigning a new value to start, so start is a local variable. Since a local variable start exists the function will not attempt to look in the global scope for start when you first try to access it, hence the error you are seeing.\n",
    "\n",
    "In 3.x your code example will work if you use the nonlocal keyword:"
   ]
  },
  {
   "cell_type": "code",
   "execution_count": 226,
   "metadata": {},
   "outputs": [
    {
     "ename": "SyntaxError",
     "evalue": "invalid syntax (<ipython-input-226-5aa911b178a0>, line 11)",
     "output_type": "error",
     "traceback": [
      "\u001b[0;36m  File \u001b[0;32m\"<ipython-input-226-5aa911b178a0>\"\u001b[0;36m, line \u001b[0;32m11\u001b[0m\n\u001b[0;31m    print iter.next()\u001b[0m\n\u001b[0m             ^\u001b[0m\n\u001b[0;31mSyntaxError\u001b[0m\u001b[0;31m:\u001b[0m invalid syntax\n"
     ]
    }
   ],
   "source": [
    "def make_incrementer(start):\n",
    "    def closure():\n",
    "        nonlocal start\n",
    "        while True:\n",
    "            yield start\n",
    "            start += 1\n",
    "    return closure\n",
    "\n",
    "x = make_incrementer(100)\n",
    "iter = x()\n",
    "print iter.next() "
   ]
  },
  {
   "cell_type": "markdown",
   "metadata": {},
   "source": [
    "On 2.x you can often get around similar issues by using the global keyword, but that does not work here because start is not a global variable.\n",
    "\n",
    "In this scenario you can either do something like what you suggested (x = start), or use a mutable variable where you modify and yield an internal value."
   ]
  },
  {
   "cell_type": "code",
   "execution_count": 227,
   "metadata": {},
   "outputs": [
    {
     "ename": "SyntaxError",
     "evalue": "invalid syntax (<ipython-input-227-6584de6263af>, line 11)",
     "output_type": "error",
     "traceback": [
      "\u001b[0;36m  File \u001b[0;32m\"<ipython-input-227-6584de6263af>\"\u001b[0;36m, line \u001b[0;32m11\u001b[0m\n\u001b[0;31m    print iter.next()\u001b[0m\n\u001b[0m             ^\u001b[0m\n\u001b[0;31mSyntaxError\u001b[0m\u001b[0;31m:\u001b[0m invalid syntax\n"
     ]
    }
   ],
   "source": [
    "def make_incrementer(start):\n",
    "    start = [start]\n",
    "    def closure():\n",
    "        while True:\n",
    "            yield start[0]\n",
    "            start[0] += 1\n",
    "    return closure\n",
    "\n",
    "x = make_incrementer(100)\n",
    "iter = x()\n",
    "print iter.next() "
   ]
  },
  {
   "cell_type": "code",
   "execution_count": 228,
   "metadata": {},
   "outputs": [
    {
     "ename": "SyntaxError",
     "evalue": "invalid syntax (<ipython-input-228-57a5db0abf1f>, line 12)",
     "output_type": "error",
     "traceback": [
      "\u001b[0;36m  File \u001b[0;32m\"<ipython-input-228-57a5db0abf1f>\"\u001b[0;36m, line \u001b[0;32m12\u001b[0m\n\u001b[0;31m    print iter.next()\u001b[0m\n\u001b[0m             ^\u001b[0m\n\u001b[0;31mSyntaxError\u001b[0m\u001b[0;31m:\u001b[0m invalid syntax\n"
     ]
    }
   ],
   "source": [
    "def make_incrementer(start):\n",
    "    def closure():\n",
    "        # You can still do x = closure.start if you want to rebind to local scope\n",
    "        while True:\n",
    "            yield closure.start\n",
    "            closure.start += 1\n",
    "    closure.start = start\n",
    "    return closure\n",
    "\n",
    "x = make_incrementer(100)\n",
    "iter = x()\n",
    "print iter.next()   "
   ]
  },
  {
   "cell_type": "code",
   "execution_count": 229,
   "metadata": {},
   "outputs": [
    {
     "ename": "SyntaxError",
     "evalue": "invalid syntax (<ipython-input-229-0e3cf4287d67>, line 11)",
     "output_type": "error",
     "traceback": [
      "\u001b[0;36m  File \u001b[0;32m\"<ipython-input-229-0e3cf4287d67>\"\u001b[0;36m, line \u001b[0;32m11\u001b[0m\n\u001b[0;31m    print iter.next()\u001b[0m\n\u001b[0m             ^\u001b[0m\n\u001b[0;31mSyntaxError\u001b[0m\u001b[0;31m:\u001b[0m invalid syntax\n"
     ]
    }
   ],
   "source": [
    "def make_incrementer(start):\n",
    "    def closure():\n",
    "        # I know I could write 'x = start' and use x - that's not my point though (:\n",
    "        while True:\n",
    "            yield start[0]\n",
    "            start[0] += 1\n",
    "    return closure\n",
    "\n",
    "x = make_incrementer([100])\n",
    "iter = x()\n",
    "print iter.next()"
   ]
  },
  {
   "cell_type": "markdown",
   "metadata": {},
   "source": [
    "[GoTop](#GoTop)<a id='PythonDecorators'></a>\n",
    "## Python Decorators\n",
    "Refs:\n",
    "* https://www.programiz.com/python-programming/decorator (I got to this link because I was reading 'Closures' above. See the link [here](#myPD)).\n",
    "\n",
    "A decorator takes in a function, adds some functionality and returns it. In this article, you will learn how you can create a decorator and why you should use it. \n",
    "\n",
    "### What are decorators in Python?\n",
    "\n",
    "Python has an interesting feature called decorators to add functionality to an existing code.\n",
    "\n",
    "This is also called **metaprogramming** as a part of the program tries to modify another part of the program at compile time.\n",
    "### Prerequisites for learning decorators\n",
    "\n",
    "In order to understand about decorators, we must first know a few basic things in Python.\n",
    "\n",
    "We must be comfortable with the fact that, **everything in Python (Yes! Even classes), are objects. Names that we define are simply identifiers bound to these objects. Functions are no exceptions, they are objects too (with attributes)**. Various different names can be bound to the same function object.\n",
    "\n",
    "Here is an example."
   ]
  },
  {
   "cell_type": "code",
   "execution_count": 248,
   "metadata": {},
   "outputs": [
    {
     "name": "stdout",
     "output_type": "stream",
     "text": [
      "Hello\n",
      "Hello\n"
     ]
    }
   ],
   "source": [
    "def first(msg):\n",
    "    print(msg)    \n",
    "\n",
    "first(\"Hello\")\n",
    "\n",
    "second = first\n",
    "second(\"Hello\")"
   ]
  },
  {
   "cell_type": "markdown",
   "metadata": {},
   "source": [
    "When you run the code, both functions first and second gives same output. Here, the names first and second refer to the same function object.\n",
    "\n",
    "Now things start getting weirder.\n",
    "\n",
    "Functions can be passed as arguments to another function.\n",
    "\n",
    "If you have used functions like `map`, `filter` and `reduce` in Python, then you already know about this.\n",
    "\n",
    "Such function that take other functions as arguments are also called **higher order functions**. Here is an example of such a function."
   ]
  },
  {
   "cell_type": "code",
   "execution_count": 249,
   "metadata": {},
   "outputs": [],
   "source": [
    "def inc(x):\n",
    "    return x + 1\n",
    "\n",
    "def dec(x):\n",
    "    return x - 1\n",
    "\n",
    "def operate(func, x):\n",
    "    result = func(x)\n",
    "    return result"
   ]
  },
  {
   "cell_type": "code",
   "execution_count": 250,
   "metadata": {},
   "outputs": [
    {
     "data": {
      "text/plain": [
       "4"
      ]
     },
     "execution_count": 250,
     "metadata": {},
     "output_type": "execute_result"
    }
   ],
   "source": [
    "operate(inc, 3)"
   ]
  },
  {
   "cell_type": "code",
   "execution_count": 251,
   "metadata": {},
   "outputs": [
    {
     "data": {
      "text/plain": [
       "2"
      ]
     },
     "execution_count": 251,
     "metadata": {},
     "output_type": "execute_result"
    }
   ],
   "source": [
    "operate(dec, 3)"
   ]
  },
  {
   "cell_type": "markdown",
   "metadata": {},
   "source": [
    "Furthermore, a function can return another function."
   ]
  },
  {
   "cell_type": "code",
   "execution_count": 252,
   "metadata": {},
   "outputs": [
    {
     "name": "stdout",
     "output_type": "stream",
     "text": [
      "Hello\n"
     ]
    }
   ],
   "source": [
    "def is_called():\n",
    "    def is_returned():\n",
    "        print(\"Hello\")\n",
    "    return is_returned\n",
    "\n",
    "new = is_called()\n",
    "\n",
    "#Outputs \"Hello\"\n",
    "new()"
   ]
  },
  {
   "cell_type": "markdown",
   "metadata": {},
   "source": [
    "Here, is_returned() is a nested function which is defined and returned, each time we call is_called().\n",
    "\n",
    "Finally, we must know about [closures in Python](#PythonClosuresAndNonlocalSolutions)."
   ]
  },
  {
   "cell_type": "markdown",
   "metadata": {},
   "source": [
    "### Getting back to Decorators\n",
    "\n",
    "**Functions and methods are called callable** as they can be called.\n",
    "\n",
    "**In fact, any object which implements the special method `__call__()` is termed callable. So, in the most basic sense, a decorator is a callable that returns a callable.**\n",
    "\n",
    "Basically, a decorator takes in a function, adds some functionality and returns it."
   ]
  },
  {
   "cell_type": "code",
   "execution_count": 253,
   "metadata": {},
   "outputs": [],
   "source": [
    "def make_pretty(func):\n",
    "    def inner():\n",
    "        print(\"I got decorated\")\n",
    "        func()\n",
    "    return inner\n",
    "\n",
    "def ordinary():\n",
    "    print(\"I am ordinary\")"
   ]
  },
  {
   "cell_type": "code",
   "execution_count": 254,
   "metadata": {},
   "outputs": [
    {
     "name": "stdout",
     "output_type": "stream",
     "text": [
      "I am ordinary\n"
     ]
    }
   ],
   "source": [
    "ordinary()"
   ]
  },
  {
   "cell_type": "code",
   "execution_count": 256,
   "metadata": {},
   "outputs": [],
   "source": [
    "pretty = make_pretty(ordinary)"
   ]
  },
  {
   "cell_type": "code",
   "execution_count": 257,
   "metadata": {},
   "outputs": [
    {
     "name": "stdout",
     "output_type": "stream",
     "text": [
      "I got decorated\n",
      "I am ordinary\n"
     ]
    }
   ],
   "source": [
    "pretty()"
   ]
  },
  {
   "cell_type": "markdown",
   "metadata": {},
   "source": [
    "In the example shown above, make_pretty() is a decorator. In the assignment step.\n",
    "```\n",
    "pretty = make_pretty(ordinary)\n",
    "```\n",
    "The function ordinary() got decorated and the returned function was given the name pretty.\n",
    "\n",
    "We can see that the decorator function added some new functionality to the original function. This is similar to packing a gift. The decorator acts as a wrapper. The nature of the object that got decorated (actual gift inside) does not alter. But now, it looks pretty (since it got decorated).\n",
    "\n",
    "<a id='@ForDecorators'></a>\n",
    "### kp: My title - Use of @ for Decorators.\n",
    "(kp: For more uses of @, see [Python @ property](#Python@Property))\n",
    "\n",
    "\n",
    "Generally, we decorate a function and reassign it as,\n",
    "```\n",
    "    ordinary = make_pretty(ordinary).\n",
    "```\n",
    "This is a common construct and for this reason, Python has a syntax to simplify this.\n",
    "\n",
    "We can use the @ symbol along with the name of the decorator function and place it above the definition of the function to be decorated. For example,\n",
    "```py\n",
    "    @make_pretty\n",
    "    def ordinary():\n",
    "        print(\"I am ordinary\")\n",
    "```\n",
    "is equivalent to\n",
    "```py\n",
    "    def ordinary():\n",
    "        print(\"I am ordinary\")\n",
    "    ordinary = make_pretty(ordinary)\n",
    "```\n",
    "This is just a syntactic sugar to implement decorators."
   ]
  },
  {
   "cell_type": "code",
   "execution_count": 258,
   "metadata": {},
   "outputs": [
    {
     "name": "stdout",
     "output_type": "stream",
     "text": [
      "I got decorated\n",
      "I am ordinary2\n"
     ]
    }
   ],
   "source": [
    "@make_pretty\n",
    "def ordinary2():\n",
    "    print(\"I am ordinary2\")\n",
    "    \n",
    "ordinary2()    "
   ]
  },
  {
   "cell_type": "markdown",
   "metadata": {},
   "source": [
    "### Decorating Functions with Parameters\n",
    "\n",
    "The above decorator was simple and it only worked with functions that did not have any parameters. What if we had functions that took in parameters like below?\n",
    "```py\n",
    "    def divide(a, b):\n",
    "        return a/b\n",
    "```\n",
    "This function has two parameters, a and b. We know, it will give error if we pass in b as 0.\n",
    "```py\n",
    ">>> divide(2,5)\n",
    "0.4\n",
    ">>> divide(2,0)\n",
    "Traceback (most recent call last):\n",
    "...\n",
    "ZeroDivisionError: division by zero\n",
    "```\n",
    "Now let's make a decorator to check for this case that will cause the error."
   ]
  },
  {
   "cell_type": "code",
   "execution_count": 259,
   "metadata": {},
   "outputs": [],
   "source": [
    "def smart_divide(func):\n",
    "   def inner(a,b):\n",
    "      print(\"I am going to divide\",a,\"and\",b)\n",
    "      if b == 0:\n",
    "         print(\"Whoops! cannot divide\")\n",
    "         return\n",
    "\n",
    "      return func(a,b)\n",
    "   return inner\n",
    "\n",
    "@smart_divide\n",
    "def divide(a,b):\n",
    "    return a/b"
   ]
  },
  {
   "cell_type": "markdown",
   "metadata": {},
   "source": [
    "This new implementation will return None if the error condition arises."
   ]
  },
  {
   "cell_type": "code",
   "execution_count": 260,
   "metadata": {},
   "outputs": [
    {
     "name": "stdout",
     "output_type": "stream",
     "text": [
      "I am going to divide 2 and 5\n"
     ]
    },
    {
     "data": {
      "text/plain": [
       "0.4"
      ]
     },
     "execution_count": 260,
     "metadata": {},
     "output_type": "execute_result"
    }
   ],
   "source": [
    "divide(2,5)"
   ]
  },
  {
   "cell_type": "code",
   "execution_count": 261,
   "metadata": {},
   "outputs": [
    {
     "name": "stdout",
     "output_type": "stream",
     "text": [
      "I am going to divide 2 and 0\n",
      "Whoops! cannot divide\n"
     ]
    }
   ],
   "source": [
    "divide(2,0)"
   ]
  },
  {
   "cell_type": "markdown",
   "metadata": {},
   "source": [
    "In this manner we can decorate functions that take parameters.\n",
    "\n",
    "A keen observer will notice that parameters of the nested `inner()` function inside the decorator is same as the parameters of functions it decorates. Taking this into account, now we can make general decorators that work with any number of parameter.\n",
    "\n",
    "In Python, this magic is done as `function(*args, **kwargs`). In this way, args will be the `tuple` of positional arguments and `kwargs` will be the `dictionary` of keyword arguments. An example of such decorator will be."
   ]
  },
  {
   "cell_type": "code",
   "execution_count": 262,
   "metadata": {},
   "outputs": [],
   "source": [
    "    def works_for_all(func):\n",
    "        def inner(*args, **kwargs):\n",
    "            print(\"I can decorate any function\")\n",
    "            return func(*args, **kwargs)\n",
    "        return inner"
   ]
  },
  {
   "cell_type": "markdown",
   "metadata": {},
   "source": [
    "### Chaining Decorators in Python\n",
    "\n",
    "Multiple decorators can be chained in Python.\n",
    "\n",
    "This is to say, a function can be decorated multiple times with different (or same) decorators. We simply place the decorators above the desired function."
   ]
  },
  {
   "cell_type": "code",
   "execution_count": 264,
   "metadata": {},
   "outputs": [
    {
     "name": "stdout",
     "output_type": "stream",
     "text": [
      "******************************\n",
      "%%%%%%%%%%%%%%%%%%%%%%%%%%%%%%\n",
      "Hello\n",
      "%%%%%%%%%%%%%%%%%%%%%%%%%%%%%%\n",
      "******************************\n"
     ]
    }
   ],
   "source": [
    "def star(func):\n",
    "    def inner(*args, **kwargs):\n",
    "        print(\"*\" * 30)\n",
    "        func(*args, **kwargs)\n",
    "        print(\"*\" * 30)\n",
    "    return inner\n",
    "\n",
    "def percent(func):\n",
    "    def inner(*args, **kwargs):\n",
    "        print(\"%\" * 30)\n",
    "        func(*args, **kwargs)\n",
    "        print(\"%\" * 30)\n",
    "    return inner\n",
    "\n",
    "@star\n",
    "@percent\n",
    "def printer(msg):\n",
    "    print(msg)\n",
    "    \n",
    "printer(\"Hello\")"
   ]
  },
  {
   "cell_type": "code",
   "execution_count": 266,
   "metadata": {},
   "outputs": [
    {
     "name": "stdout",
     "output_type": "stream",
     "text": [
      "%%%%%%%%%%%%%%%%%%%%%%%%%%%%%%\n",
      "******************************\n",
      "Hello\n",
      "******************************\n",
      "%%%%%%%%%%%%%%%%%%%%%%%%%%%%%%\n"
     ]
    }
   ],
   "source": [
    "@percent\n",
    "@star\n",
    "def printer(msg):\n",
    "    print(msg)\n",
    "        \n",
    "printer(\"Hello\")    "
   ]
  },
  {
   "cell_type": "markdown",
   "metadata": {},
   "source": [
    "The above syntax of,\n",
    "```py\n",
    "    @star\n",
    "    @percent\n",
    "    def printer(msg):\n",
    "        print(msg)\n",
    "```\n",
    "is equivalent to\n",
    "```py\n",
    "    def printer(msg):\n",
    "        print(msg)\n",
    "    printer = star(percent(printer))\n",
    "```\n",
    "The order in which we chain decorators matter. If we had reversed the order as,\n",
    "```py\n",
    "    @percent\n",
    "    @star\n",
    "    def printer(msg):\n",
    "        print(msg)\n",
    "```\n",
    "The execution would take place as,\n",
    "```\n",
    "%%%%%%%%%%%%%%%%%%%%%%%%%%%%%%\n",
    "******************************\n",
    "Hello\n",
    "******************************\n",
    "%%%%%%%%%%%%%%%%%%%%%%%%%%%%%%\n",
    "```"
   ]
  },
  {
   "cell_type": "markdown",
   "metadata": {},
   "source": [
    "[GoTop](#GoTop) <a id='Python@Property'></a>\n",
    "## Python @property\n",
    "(See another use of @ above in [Decorators](#@ForDecorators))\n",
    "\n",
    "Refs:\n",
    "* https://www.programiz.com/python-programming/property\n",
    "\n",
    "You will learn about Python **@property; pythonic way to use getters and setters**. \n",
    "\n",
    "Python has a great concept called property which makes the life of an object oriented programmer much simpler.\n",
    "\n",
    "Before defining and going into details of what @property is, let us first build an intuition on why it would be needed in the first place.\n",
    "### An Example To Begin With\n",
    "\n",
    "Let us assume that you decide to make a class that could store the temperature in degree Celsius. It would also implement a method to convert the temperature into degree Fahrenheit. One way of doing this is as follows."
   ]
  },
  {
   "cell_type": "code",
   "execution_count": 267,
   "metadata": {},
   "outputs": [],
   "source": [
    "class Celsius:\n",
    "    def __init__(self, temperature = 0):\n",
    "        self.temperature = temperature\n",
    "\n",
    "    def to_fahrenheit(self):\n",
    "        return (self.temperature * 1.8) + 32"
   ]
  },
  {
   "cell_type": "markdown",
   "metadata": {},
   "source": [
    "We could make objects out of this class and manipulate the attribute temperature as we wished. Try these on Python shell.\n",
    "```sh\n",
    ">>> # create new object\n",
    ">>> man = Celsius()\n",
    ">>> # set temperature\n",
    ">>> man.temperature = 37\n",
    ">>> # get temperature\n",
    ">>> man.temperature\n",
    "37\n",
    ">>> # get degrees Fahrenheit\n",
    ">>> man.to_fahrenheit()\n",
    "98.60000000000001\n",
    "```\n",
    "The extra decimal places when converting into Fahrenheit is due to the floating point arithmetic error (try 1.1 + 2.2 in the Python interpreter).\n",
    "\n",
    "Whenever we assign or retrieve any object attribute like temperature, as show above, Python searches it in the object's `__dict__` dictionary."
   ]
  },
  {
   "cell_type": "code",
   "execution_count": 270,
   "metadata": {},
   "outputs": [],
   "source": [
    "man = Celsius()"
   ]
  },
  {
   "cell_type": "code",
   "execution_count": 271,
   "metadata": {},
   "outputs": [
    {
     "data": {
      "text/plain": [
       "0"
      ]
     },
     "execution_count": 271,
     "metadata": {},
     "output_type": "execute_result"
    }
   ],
   "source": [
    "man.temperature #tab-extension also worked"
   ]
  },
  {
   "cell_type": "code",
   "execution_count": 278,
   "metadata": {},
   "outputs": [],
   "source": [
    "man.temperature = 32"
   ]
  },
  {
   "cell_type": "code",
   "execution_count": 279,
   "metadata": {},
   "outputs": [
    {
     "data": {
      "text/plain": [
       "89.6"
      ]
     },
     "execution_count": 279,
     "metadata": {},
     "output_type": "execute_result"
    }
   ],
   "source": [
    "man.to_fahrenheit()"
   ]
  },
  {
   "cell_type": "code",
   "execution_count": 281,
   "metadata": {},
   "outputs": [],
   "source": [
    "man.temperature = 37"
   ]
  },
  {
   "cell_type": "code",
   "execution_count": 282,
   "metadata": {},
   "outputs": [
    {
     "data": {
      "text/plain": [
       "98.60000000000001"
      ]
     },
     "execution_count": 282,
     "metadata": {},
     "output_type": "execute_result"
    }
   ],
   "source": [
    "man.to_fahrenheit()"
   ]
  },
  {
   "cell_type": "code",
   "execution_count": 283,
   "metadata": {},
   "outputs": [
    {
     "data": {
      "text/plain": [
       "{'temperature': 37}"
      ]
     },
     "execution_count": 283,
     "metadata": {},
     "output_type": "execute_result"
    }
   ],
   "source": [
    "man.__dict__"
   ]
  },
  {
   "cell_type": "markdown",
   "metadata": {},
   "source": [
    "Therefore, `man.temperature` internally becomes `man.__dict__['temperature']`.\n",
    "\n",
    "Now, let's further assume that our class got popular among clients and they started using it in their programs. They did all kinds of assignments to the object.\n",
    "\n",
    "One fateful day, a trusted client came to us and suggested that temperatures cannot go below -273 degree Celsius (students of thermodynamics might argue that it's actually -273.15), also called the absolute zero. He further asked us to implement this value constraint. Being a company that strive for customer satisfaction, we happily heeded the suggestion and released version 1.01 (an upgrade of our existing class)."
   ]
  },
  {
   "cell_type": "markdown",
   "metadata": {},
   "source": [
    "## Using Getters and Setters\n",
    "\n",
    "An obvious solution to the above constraint will be to hide the attribute `temperature` (make it private) and define new getter and setter interfaces to manipulate it. This can be done as follows."
   ]
  },
  {
   "cell_type": "code",
   "execution_count": 284,
   "metadata": {},
   "outputs": [],
   "source": [
    "class Celsius:\n",
    "    def __init__(self, temperature = 0):\n",
    "        self.set_temperature(temperature)\n",
    "\n",
    "    def to_fahrenheit(self):\n",
    "        return (self.get_temperature() * 1.8) + 32\n",
    "\n",
    "    # new update\n",
    "    def get_temperature(self):\n",
    "        return self._temperature\n",
    "\n",
    "    def set_temperature(self, value):\n",
    "        if value < -273:\n",
    "            raise ValueError(\"Temperature below -273 is not possible\")\n",
    "        self._temperature = value"
   ]
  },
  {
   "cell_type": "markdown",
   "metadata": {},
   "source": [
    "We can see above that new methods get_temperature() and set_temperature() were defined and furthermore, temperature was replaced with _temperature. An underscore (_) at the beginning is used to denote private variables in Python.\n",
    "```\n",
    "    >>> c = Celsius(-277)\n",
    "    Traceback (most recent call last):\n",
    "    ...\n",
    "    ValueError: Temperature below -273 is not possible\n",
    "    >>> c = Celsius(37)\n",
    "    >>> c.get_temperature()\n",
    "    37\n",
    "    >>> c.set_temperature(10)\n",
    "    >>> c.set_temperature(-300)\n",
    "    Traceback (most recent call last):\n",
    "    ...\n",
    "    ValueError: Temperature below -273 is not possible\n",
    "```\n",
    "This update successfully implemented the new restriction. We are no longer allowed to set temperature below -273.\n",
    "\n",
    "Please note that private variables don't exist in Python. There are simply norms to be followed. The language itself don't apply any restrictions.\n",
    "```\n",
    "    >>> c._temperature = -300\n",
    "    >>> c.get_temperature()\n",
    "    -300\n",
    "```\n",
    "But this is not of great concern. The big problem with the above update is that, all the clients who implemented our previous class in their program have to modify their code from obj.temperature to `obj.get_temperature()` and all assignments like `obj.temperature = val` to `obj.set_temperature(val)`.\n",
    "\n",
    "This refactoring can cause headaches to the clients with hundreds of thousands of lines of codes.\n",
    "\n",
    "All in all, our new update was not backward compatible. This is where property comes to rescue."
   ]
  },
  {
   "cell_type": "markdown",
   "metadata": {},
   "source": [
    "### The Power of @property\n",
    "\n",
    "The pythonic way to deal with the above problem is to use property. Here is how we could have achieved it.\n"
   ]
  },
  {
   "cell_type": "code",
   "execution_count": 285,
   "metadata": {},
   "outputs": [],
   "source": [
    "class Celsius:\n",
    "    def __init__(self, temperature = 0):\n",
    "        self.temperature = temperature\n",
    "\n",
    "    def to_fahrenheit(self):\n",
    "        return (self.temperature * 1.8) + 32\n",
    "\n",
    "    def get_temperature(self):\n",
    "        print(\"Getting value\")\n",
    "        return self._temperature\n",
    "\n",
    "    def set_temperature(self, value):\n",
    "        if value < -273:\n",
    "            raise ValueError(\"Temperature below -273 is not possible\")\n",
    "        print(\"Setting value\")\n",
    "        self._temperature = value\n",
    "\n",
    "    temperature = property(get_temperature,set_temperature)"
   ]
  },
  {
   "cell_type": "markdown",
   "metadata": {},
   "source": [
    "And, issue the following code in shell once you run it."
   ]
  },
  {
   "cell_type": "code",
   "execution_count": 286,
   "metadata": {},
   "outputs": [
    {
     "name": "stdout",
     "output_type": "stream",
     "text": [
      "Setting value\n"
     ]
    }
   ],
   "source": [
    "c = Celsius()"
   ]
  },
  {
   "cell_type": "markdown",
   "metadata": {},
   "source": [
    "We added a print() function inside get_temperature() and set_temperature() to clearly observe that they are being executed.\n",
    "\n",
    "The last line of the code, makes a property object temperature. Simply put, property attaches some code (`get_temperature` and `set_temperature`) to the member attribute accesses (temperature).\n",
    "\n",
    "Any code that retrieves the value of temperature will automatically call get_temperature() instead of a dictionary (`__dict__`) look-up. Similarly, any code that assigns a value to temperature will automatically call set_temperature(). This is one cool feature in Python.\n",
    "\n",
    "We can see above that `set_temperature()` was called even when we created an object.\n",
    "\n",
    "#### Can you guess why?\n",
    "\n",
    "The reason is that when an object is created, `__init__()` method gets called. This method has the line `self.temperature = temperature`. This assignment automatically called `set_temperature()`."
   ]
  },
  {
   "cell_type": "code",
   "execution_count": 287,
   "metadata": {},
   "outputs": [
    {
     "name": "stdout",
     "output_type": "stream",
     "text": [
      "Getting value\n"
     ]
    },
    {
     "data": {
      "text/plain": [
       "0"
      ]
     },
     "execution_count": 287,
     "metadata": {},
     "output_type": "execute_result"
    }
   ],
   "source": [
    "c.temperature"
   ]
  },
  {
   "cell_type": "markdown",
   "metadata": {},
   "source": [
    "Similarly, any access like c.temperature automatically calls get_temperature(). This is what property does. Here are a few more examples."
   ]
  },
  {
   "cell_type": "code",
   "execution_count": 288,
   "metadata": {},
   "outputs": [
    {
     "name": "stdout",
     "output_type": "stream",
     "text": [
      "Setting value\n"
     ]
    }
   ],
   "source": [
    "c.temperature = 37"
   ]
  },
  {
   "cell_type": "code",
   "execution_count": 289,
   "metadata": {},
   "outputs": [
    {
     "name": "stdout",
     "output_type": "stream",
     "text": [
      "Getting value\n"
     ]
    },
    {
     "data": {
      "text/plain": [
       "98.60000000000001"
      ]
     },
     "execution_count": 289,
     "metadata": {},
     "output_type": "execute_result"
    }
   ],
   "source": [
    "c.to_fahrenheit()"
   ]
  },
  {
   "cell_type": "markdown",
   "metadata": {},
   "source": [
    "By using property, we can see that, we modified our class and implemented the value constraint without any change required to the client code. Thus our implementation was backward compatible and everybody is happy.\n",
    "\n",
    "Finally note that, the actual temperature value is stored in the private variable `_temperature`. The attribute `temperature` is a property object which provides interface to this private variable."
   ]
  },
  {
   "cell_type": "markdown",
   "metadata": {},
   "source": [
    "### Digging Deeper into Property\n",
    "\n",
    "In Python, property() is a built-in function that creates and returns a property object. The signature of this function is"
   ]
  },
  {
   "cell_type": "code",
   "execution_count": 290,
   "metadata": {},
   "outputs": [
    {
     "data": {
      "text/plain": [
       "<property at 0x10d2a90b0>"
      ]
     },
     "execution_count": 290,
     "metadata": {},
     "output_type": "execute_result"
    }
   ],
   "source": [
    "property(fget=None, fset=None, fdel=None, doc=None)"
   ]
  },
  {
   "cell_type": "markdown",
   "metadata": {},
   "source": [
    "where, `fget` is function to get value of the attribute, `fset` is function to set value of the attribute, `fdel` is function to delete the attribute and `doc` is a string (like a comment). As seen from the implementation, these function arguments are optional. So, a property object can simply be created as follows."
   ]
  },
  {
   "cell_type": "code",
   "execution_count": 291,
   "metadata": {},
   "outputs": [
    {
     "data": {
      "text/plain": [
       "<property at 0x10e0a9ad0>"
      ]
     },
     "execution_count": 291,
     "metadata": {},
     "output_type": "execute_result"
    }
   ],
   "source": [
    "property()"
   ]
  },
  {
   "cell_type": "markdown",
   "metadata": {},
   "source": [
    "A property object has three methods, getter(), setter(), and deleter() to specify fget, fset and fdel at a later point. This means, the line\n",
    "```py\n",
    "    temperature = property(get_temperature,set_temperature)\n",
    "```\n",
    "could have been broken down as\n",
    "```py\n",
    "    # make empty property\n",
    "    temperature = property()\n",
    "    # assign fget\n",
    "    temperature = temperature.getter(get_temperature)\n",
    "    # assign fset\n",
    "    temperature = temperature.setter(set_temperature)\n",
    "```\n",
    "These two pieces of codes are equivalent.\n",
    "\n",
    "Programmers familiar with `decorators in Python` can recognize that the above construct can be implemented as decorators.\n",
    "\n",
    "We can further go on and not define names `get_temperature` and `set_temperature` as they are unnecessary and pollute the class namespace. For this, we reuse the name temperature while defining our getter and setter functions. This is how it can be done."
   ]
  },
  {
   "cell_type": "code",
   "execution_count": 292,
   "metadata": {},
   "outputs": [],
   "source": [
    "class Celsius:\n",
    "    def __init__(self, temperature = 0):\n",
    "        self._temperature = temperature\n",
    "\n",
    "    def to_fahrenheit(self):\n",
    "        return (self.temperature * 1.8) + 32\n",
    "\n",
    "    @property\n",
    "    def temperature(self):\n",
    "        print(\"Getting value\")\n",
    "        return self._temperature\n",
    "\n",
    "    @temperature.setter\n",
    "    def temperature(self, value):\n",
    "        if value < -273:\n",
    "            raise ValueError(\"Temperature below -273 is not possible\")\n",
    "        print(\"Setting value\")\n",
    "        self._temperature = value"
   ]
  },
  {
   "cell_type": "markdown",
   "metadata": {},
   "source": [
    "The above implementation is both, simple and recommended way to make properties. You will most likely encounter these types of constructs when looking for property in Python.\n",
    "\n",
    "Well that's it for today."
   ]
  },
  {
   "cell_type": "markdown",
   "metadata": {},
   "source": [
    "[GoTop](#GoTop) <a id='AssertKeywordInPython'></a>\n",
    "## Assert keyword in Python\n",
    "Ref:\n",
    "* https://www.geeksforgeeks.org/python-assert-keyword/\n",
    "\n",
    "Assertions in any programming language are the debugging tools which help in smooth flow of code. Assertions are mainly assumptions that a programmer knows always wants to be true and hence puts them in code so that failure of them doesn’t allow the code to execute further.\n",
    "\n",
    "In python assert keyword helps in achieving this task. This statement simply takes input a boolean condition, which when returns true doesn’t return anything, but if it is computed to be false, then it raises an AssertionError along with the optional message provided.\n",
    "\n",
    "    Syntax : assert condition, error_message(optional) \n",
    "    Parameters :\n",
    "    condition : The boolean condition returning true or false.\n",
    "    error_message : The optional argument to be printed in console in case of AssertionError\n",
    "\n",
    "    Returns :\n",
    "    Returns AssertionError, in case the condition evaluates to false along with the error message which when provided. \n"
   ]
  },
  {
   "cell_type": "code",
   "execution_count": 204,
   "metadata": {},
   "outputs": [
    {
     "name": "stdout",
     "output_type": "stream",
     "text": [
      "The value of a / b is : \n",
      "p1 B4 assert, c= 4: p2 After assert: 720/c  =  180.0\n",
      "p1 B4 assert, c= 3: p2 After assert: 720/c  =  240.0\n",
      "p1 B4 assert, c= 2: p2 After assert: 720/c  =  360.0\n",
      "p1 B4 assert, c= 1: p2 After assert: 720/c  =  720.0\n",
      "p1 B4 assert, c= 0: "
     ]
    },
    {
     "ename": "AssertionError",
     "evalue": "Divide by 0 error",
     "output_type": "error",
     "traceback": [
      "\u001b[0;31m---------------------------------------------------------------------------\u001b[0m",
      "\u001b[0;31mAssertionError\u001b[0m                            Traceback (most recent call last)",
      "\u001b[0;32m<ipython-input-204-fe753124bbc5>\u001b[0m in \u001b[0;36m<module>\u001b[0;34m\u001b[0m\n\u001b[1;32m     13\u001b[0m \u001b[0;32mfor\u001b[0m \u001b[0mc\u001b[0m \u001b[0;32min\u001b[0m \u001b[0;34m[\u001b[0m\u001b[0;36m4\u001b[0m\u001b[0;34m,\u001b[0m \u001b[0;36m3\u001b[0m\u001b[0;34m,\u001b[0m \u001b[0;36m2\u001b[0m\u001b[0;34m,\u001b[0m \u001b[0;36m1\u001b[0m\u001b[0;34m,\u001b[0m \u001b[0;36m0\u001b[0m\u001b[0;34m,\u001b[0m \u001b[0;36m5\u001b[0m\u001b[0;34m,\u001b[0m \u001b[0;36m6\u001b[0m\u001b[0;34m]\u001b[0m\u001b[0;34m:\u001b[0m\u001b[0;34m\u001b[0m\u001b[0;34m\u001b[0m\u001b[0m\n\u001b[1;32m     14\u001b[0m     \u001b[0mprint\u001b[0m\u001b[0;34m(\u001b[0m\u001b[0;34m\"p1 B4 assert, c=\"\u001b[0m\u001b[0;34m,\u001b[0m \u001b[0mc\u001b[0m\u001b[0;34m,\u001b[0m \u001b[0mend\u001b[0m \u001b[0;34m=\u001b[0m \u001b[0;34m\": \"\u001b[0m\u001b[0;34m)\u001b[0m\u001b[0;34m\u001b[0m\u001b[0;34m\u001b[0m\u001b[0m\n\u001b[0;32m---> 15\u001b[0;31m     \u001b[0;32massert\u001b[0m \u001b[0mc\u001b[0m \u001b[0;34m!=\u001b[0m \u001b[0;36m0\u001b[0m\u001b[0;34m,\u001b[0m \u001b[0;34m\"Divide by 0 error\"\u001b[0m\u001b[0;34m\u001b[0m\u001b[0;34m\u001b[0m\u001b[0m\n\u001b[0m\u001b[1;32m     16\u001b[0m     \u001b[0mprint\u001b[0m\u001b[0;34m(\u001b[0m\u001b[0;34m\"p2 After assert\"\u001b[0m\u001b[0;34m,\u001b[0m \u001b[0mend\u001b[0m \u001b[0;34m=\u001b[0m \u001b[0;34m\": \"\u001b[0m\u001b[0;34m)\u001b[0m\u001b[0;34m\u001b[0m\u001b[0;34m\u001b[0m\u001b[0m\n\u001b[1;32m     17\u001b[0m     \u001b[0mprint\u001b[0m\u001b[0;34m(\u001b[0m\u001b[0;34m\"720/c\"\u001b[0m\u001b[0;34m,\u001b[0m \u001b[0;34m\" = \"\u001b[0m\u001b[0;34m,\u001b[0m \u001b[0;36m720\u001b[0m\u001b[0;34m/\u001b[0m\u001b[0mc\u001b[0m\u001b[0;34m)\u001b[0m\u001b[0;34m\u001b[0m\u001b[0;34m\u001b[0m\u001b[0m\n",
      "\u001b[0;31mAssertionError\u001b[0m: Divide by 0 error"
     ]
    }
   ],
   "source": [
    "# Python 3 code to demonstrate  \n",
    "# working of assert  \n",
    "  \n",
    "# initializing number \n",
    "a = 4\n",
    "b = 0\n",
    "  \n",
    "# using assert to check for 0 \n",
    "print (\"The value of a / b is : \") \n",
    "#assert b != 0, \"Divide by 0 error\"\n",
    "#print (a / b) \n",
    "\n",
    "for c in [4, 3, 2, 1, 0, 5, 6]:\n",
    "    print(\"p1 B4 assert, c=\", c, end = \": \")\n",
    "    assert c != 0, \"Divide by 0 error\"\n",
    "    print(\"p2 After assert\", end = \": \")\n",
    "    print(\"720/c\", \" = \", 720/c)\n"
   ]
  },
  {
   "cell_type": "markdown",
   "metadata": {},
   "source": [
    "### Output :\n",
    "\n",
    "The value of a/b is : \n",
    "\n",
    "### Runtime Exception :\n",
    "```\n",
    "Traceback (most recent call last):\n",
    "  File \"/home/40545678b342ce3b70beb1224bed345f.py\", line 10, in \n",
    "    assert b != 0, \"Divide by 0 error\"\n",
    "AssertionError: Divide by 0 error\n",
    "```\n",
    "**Practical Application:**\n",
    "This has a much greater utility in testing and Quality assurance role in any development domain. Different types of assertions are used depending upon the application. Below is the simpler demonstration of program that only allows only the batch with all hot food to be dispatched, else rejects whole batch."
   ]
  },
  {
   "cell_type": "code",
   "execution_count": 195,
   "metadata": {},
   "outputs": [
    {
     "name": "stdout",
     "output_type": "stream",
     "text": [
      "40 is O.K\n",
      "26 is O.K\n",
      "39 is O.K\n",
      "30 is O.K\n"
     ]
    },
    {
     "ename": "AssertionError",
     "evalue": "Batch is Rejected",
     "output_type": "error",
     "traceback": [
      "\u001b[0;31m---------------------------------------------------------------------------\u001b[0m",
      "\u001b[0;31mAssertionError\u001b[0m                            Traceback (most recent call last)",
      "\u001b[0;32m<ipython-input-195-1df702a65894>\u001b[0m in \u001b[0;36m<module>\u001b[0;34m\u001b[0m\n\u001b[1;32m     11\u001b[0m \u001b[0;31m# using assert to check for temperature greater than cut\u001b[0m\u001b[0;34m\u001b[0m\u001b[0;34m\u001b[0m\u001b[0;34m\u001b[0m\u001b[0m\n\u001b[1;32m     12\u001b[0m \u001b[0;32mfor\u001b[0m \u001b[0mi\u001b[0m \u001b[0;32min\u001b[0m \u001b[0mbatch\u001b[0m\u001b[0;34m:\u001b[0m\u001b[0;34m\u001b[0m\u001b[0;34m\u001b[0m\u001b[0m\n\u001b[0;32m---> 13\u001b[0;31m     \u001b[0;32massert\u001b[0m \u001b[0mi\u001b[0m \u001b[0;34m>=\u001b[0m \u001b[0;36m26\u001b[0m\u001b[0;34m,\u001b[0m \u001b[0;34m\"Batch is Rejected\"\u001b[0m\u001b[0;34m\u001b[0m\u001b[0;34m\u001b[0m\u001b[0m\n\u001b[0m\u001b[1;32m     14\u001b[0m     \u001b[0mprint\u001b[0m \u001b[0;34m(\u001b[0m\u001b[0mstr\u001b[0m\u001b[0;34m(\u001b[0m\u001b[0mi\u001b[0m\u001b[0;34m)\u001b[0m \u001b[0;34m+\u001b[0m \u001b[0;34m\" is O.K\"\u001b[0m \u001b[0;34m)\u001b[0m\u001b[0;34m\u001b[0m\u001b[0;34m\u001b[0m\u001b[0m\n",
      "\u001b[0;31mAssertionError\u001b[0m: Batch is Rejected"
     ]
    }
   ],
   "source": [
    "# Python 3 code to demonstrate  \n",
    "# working of assert  \n",
    "# Application \n",
    "  \n",
    "# initializing list of foods temperatures \n",
    "batch = [ 40, 26, 39, 30, 25, 21] \n",
    "  \n",
    "# initializing cut temperature \n",
    "cut = 26\n",
    "  \n",
    "# using assert to check for temperature greater than cut \n",
    "for i in batch: \n",
    "    assert i >= 26, \"Batch is Rejected\"\n",
    "    print (str(i) + \" is O.K\" ) \n"
   ]
  },
  {
   "cell_type": "markdown",
   "metadata": {},
   "source": [
    "Output :\n",
    "```\n",
    "40 is O.K\n",
    "26 is O.K\n",
    "39 is O.K\n",
    "30 is O.K\n",
    "```\n",
    "Runtime Exception :\n",
    "```\n",
    "Traceback (most recent call last):\n",
    "  File \"/home/bd45fb65343814a85b6c19bbe366b419.py\", line 13, in \n",
    "    assert i >= 26, \"Batch is Rejected\"\n",
    "AssertionError: Batch is Rejected\n",
    "```"
   ]
  },
  {
   "cell_type": "markdown",
   "metadata": {},
   "source": [
    "[GoTop](#GoTop) <a id='FinallyKeywordInPython'></a>\n",
    "## Finally keyword in Python\n",
    "Ref:\n",
    "* https://www.geeksforgeeks.org/finally-keyword-in-python/\n",
    "\n",
    "**Prerequisites:** [Exception Handling](https://www.geeksforgeeks.org/python-set-5-exception-handling/), [try and except in Python](https://www.geeksforgeeks.org/try-except-python/)\n",
    "\n",
    "In programming, there may be some situation in which the current method ends up while handling some exceptions. But the method may require some additional steps before its termination, like closing a file or a network and so on.\n",
    "So, in order to handle these situations, Python provides a keyword finally, which is always executed after try and except blocks. The finally block always executes after normal termination of try block or after try block terminates due to some exception.\n",
    "\n",
    "Syntax:\n",
    "```\n",
    "try:\n",
    "       # Some Code.... \n",
    "\n",
    "except:\n",
    "       # optional block\n",
    "       # Handling of exception (if required)\n",
    "\n",
    "finally:\n",
    "      # Some code .....(always executed)      \n",
    "```\n",
    "### Important Points –\n",
    "\n",
    "* finally block is always executed after leaving the try statement. In case if some exception was not handled by except block, it is re-raised after execution of finally block.\n",
    "* finally block is used to deallocate the system resources.\n",
    "* One can use finally just after try without using except block, but no exception is handled in that case.\n",
    "\n",
    "**Example #1:**\n"
   ]
  },
  {
   "cell_type": "code",
   "execution_count": 209,
   "metadata": {},
   "outputs": [
    {
     "name": "stdout",
     "output_type": "stream",
     "text": [
      "Can't divide by zero\n",
      "This is always executed\n",
      "5\n",
      "This is always executed\n"
     ]
    }
   ],
   "source": [
    "#######################################    Example #1:\n",
    "\n",
    "# Python program to demonstrate finally \n",
    "  \n",
    "# No exception Exception raised in try block \n",
    "try: \n",
    "    k = 5//0 # raises divide by zero exception. \n",
    "    print(k) \n",
    "  \n",
    "# handles zerodivision exception     \n",
    "except ZeroDivisionError:    \n",
    "    print(\"Can't divide by zero\") \n",
    "      \n",
    "finally: \n",
    "    # this block is always executed  \n",
    "    # regardless of exception generation. \n",
    "    print('This is always executed')  \n",
    "\n",
    "#######################################    Example #2:\n",
    "    \n",
    "    # Python program to demonstrate finally \n",
    "  \n",
    "try: \n",
    "    k = 5//1 # No exception raised \n",
    "    print(k) \n",
    "  \n",
    "# intends to handle zerodivision exception     \n",
    "except ZeroDivisionError:    \n",
    "    print(\"Can't divide by zero\") \n",
    "      \n",
    "finally: \n",
    "    # this block is always executed  \n",
    "    # regardless of exception generation. \n",
    "    print('This is always executed')  "
   ]
  },
  {
   "cell_type": "code",
   "execution_count": 210,
   "metadata": {},
   "outputs": [
    {
     "name": "stdout",
     "output_type": "stream",
     "text": [
      "This is always executed\n"
     ]
    },
    {
     "ename": "ZeroDivisionError",
     "evalue": "integer division or modulo by zero",
     "output_type": "error",
     "traceback": [
      "\u001b[0;31m---------------------------------------------------------------------------\u001b[0m",
      "\u001b[0;31mZeroDivisionError\u001b[0m                         Traceback (most recent call last)",
      "\u001b[0;32m<ipython-input-210-a8a77835c14d>\u001b[0m in \u001b[0;36m<module>\u001b[0;34m\u001b[0m\n\u001b[1;32m      5\u001b[0m \u001b[0;31m# Exception is not handled\u001b[0m\u001b[0;34m\u001b[0m\u001b[0;34m\u001b[0m\u001b[0;34m\u001b[0m\u001b[0m\n\u001b[1;32m      6\u001b[0m \u001b[0;32mtry\u001b[0m\u001b[0;34m:\u001b[0m\u001b[0;34m\u001b[0m\u001b[0;34m\u001b[0m\u001b[0m\n\u001b[0;32m----> 7\u001b[0;31m     \u001b[0mk\u001b[0m \u001b[0;34m=\u001b[0m \u001b[0;36m5\u001b[0m\u001b[0;34m//\u001b[0m\u001b[0;36m0\u001b[0m \u001b[0;31m# exception raised\u001b[0m\u001b[0;34m\u001b[0m\u001b[0;34m\u001b[0m\u001b[0m\n\u001b[0m\u001b[1;32m      8\u001b[0m     \u001b[0mprint\u001b[0m\u001b[0;34m(\u001b[0m\u001b[0mk\u001b[0m\u001b[0;34m)\u001b[0m\u001b[0;34m\u001b[0m\u001b[0;34m\u001b[0m\u001b[0m\n\u001b[1;32m      9\u001b[0m \u001b[0;34m\u001b[0m\u001b[0m\n",
      "\u001b[0;31mZeroDivisionError\u001b[0m: integer division or modulo by zero"
     ]
    }
   ],
   "source": [
    "    \n",
    "#######################################    Example #3:\n",
    "\n",
    "# Python program to demonstrate finally \n",
    "  \n",
    "# Exception is not handled \n",
    "try: \n",
    "    k = 5//0 # exception raised \n",
    "    print(k) \n",
    "      \n",
    "finally: \n",
    "    # this block is always executed  \n",
    "    # regardless of exception generation. \n",
    "    print('This is always executed')  \n",
    "    "
   ]
  },
  {
   "cell_type": "markdown",
   "metadata": {},
   "source": [
    "### Explanation:\n",
    "In above code, the exception is generated integer division or modulo by zero, which was not handled. The exception was re-raised after execution of finally block. This shows that finally block is executed regardless of exception is handled or not."
   ]
  },
  {
   "cell_type": "markdown",
   "metadata": {},
   "source": [
    "[GoTop](#GoTop)<a id='ThinkingRecursivelyInPython'></a>\n",
    "## Thinking Recursively in Python\n",
    "\n",
    "by Abhirag Awasthi \n",
    "Refs:\n",
    "* https://realpython.com/python-thinking-recursively/ \n",
    "* https://www.geeksforgeeks.org/use-yield-keyword-instead-return-keyword-python/ When to use yield instead of return in Python?\n",
    "* https://stackoverflow.com/questions/39233973/get-all-keys-of-a-nested-dictionary"
   ]
  },
  {
   "cell_type": "markdown",
   "metadata": {},
   "source": [
    "From Ref3:\n",
    "\n",
    "In other answers, you were pointed to how to solve your task for given dicts, with maximum depth level equaling to two. Here is the program that will alows you to loop through key-value pair of a dict with unlimited number of nesting levels (more generic approach):"
   ]
  },
  {
   "cell_type": "code",
   "execution_count": 222,
   "metadata": {},
   "outputs": [
    {
     "name": "stdout",
     "output_type": "stream",
     "text": [
      "1 2\n",
      "3 4\n",
      "5 6\n"
     ]
    }
   ],
   "source": [
    "def recursive_items(dictionary):\n",
    "    for key, value in dictionary.items():\n",
    "        if type(value) is dict:\n",
    "            yield from recursive_items(value)\n",
    "        else:\n",
    "            yield (key, value)\n",
    "\n",
    "a = {'a': {1: {1: 2, 3: 4}, 2: {5: 6}}}\n",
    "\n",
    "for key, value in recursive_items(a):\n",
    "    print(key, value)"
   ]
  },
  {
   "cell_type": "markdown",
   "metadata": {},
   "source": [
    "That is relevant if you are interested only in key-value pair on deepest level (when value is not dict). If you are also interested in key-value pair where value is dict, make a small edit:"
   ]
  },
  {
   "cell_type": "code",
   "execution_count": 223,
   "metadata": {},
   "outputs": [
    {
     "name": "stdout",
     "output_type": "stream",
     "text": [
      "a {1: {1: 2, 3: 4}, 2: {5: 6}}\n",
      "1 {1: 2, 3: 4}\n",
      "1 2\n",
      "3 4\n",
      "2 {5: 6}\n",
      "5 6\n"
     ]
    }
   ],
   "source": [
    "def recursive_items(dictionary):\n",
    "    for key, value in dictionary.items():\n",
    "        if type(value) is dict:\n",
    "            yield (key, value)\n",
    "            yield from recursive_items(value)\n",
    "        else:\n",
    "            yield (key, value)\n",
    "\n",
    "a = {'a': {1: {1: 2, 3: 4}, 2: {5: 6}}}\n",
    "\n",
    "for key, value in recursive_items(a):\n",
    "    print(key, value)"
   ]
  },
  {
   "cell_type": "markdown",
   "metadata": {},
   "source": [
    "From Ref1:\n",
    "\n",
    "    “Of all ideas I have introduced to children, recursion stands out as the one idea that is particularly able to evoke an excited response.”\n",
    "\n",
    "    — Seymour Papert, Mindstorms\n",
    "\n",
    "Problems (in life and also in computer science) can often seem big and scary. But if we keep chipping away at them, more often than not we can break them down into smaller chunks trivial enough to solve. This is the essence of thinking recursively, and my aim in this article is to provide you, my dear reader, with the conceptual tools necessary to approach problems from this recursive point of view.\n",
    "\n",
    "Together, we’ll learn how to work with recursion in our Python programs by mastering concepts such as recursive functions and recursive data structures. We’ll also talk about maintaining state during recursion and avoiding recomputation by caching results. This is going to be a lot of fun. Onwards and upwards! "
   ]
  },
  {
   "cell_type": "markdown",
   "metadata": {},
   "source": [
    "### Dear Pythonic Santa Claus…\n",
    "\n",
    "I realize that as fellow Pythonistas we are all consenting adults here, but children seem to grok the beauty of recursion better. So let’s not be adults here for a moment and talk about how we can use recursion to help Santa Claus.\n",
    "\n",
    "Have you ever wondered how Christmas presents are delivered? I sure have, and I believe Santa Claus has a list of houses he loops through. He goes to a house, drops off the presents, eats the cookies and milk, and moves on to the next house on the list. Since this algorithm for delivering presents is based on an explicit loop construction, it is called an iterative algorithm.\n",
    "\n",
    "The algorithm for iterative present delivery implemented in Python:"
   ]
  },
  {
   "cell_type": "code",
   "execution_count": 211,
   "metadata": {},
   "outputs": [
    {
     "name": "stdout",
     "output_type": "stream",
     "text": [
      "Delivering presents to Eric's house\n",
      "Delivering presents to Kenny's house\n",
      "Delivering presents to Kyle's house\n",
      "Delivering presents to Stan's house\n"
     ]
    }
   ],
   "source": [
    "houses = [\"Eric's house\", \"Kenny's house\", \"Kyle's house\", \"Stan's house\"]\n",
    "\n",
    "def deliver_presents_iteratively():\n",
    "    for house in houses:\n",
    "        print(\"Delivering presents to\", house)\n",
    "        \n",
    "deliver_presents_iteratively()"
   ]
  },
  {
   "cell_type": "markdown",
   "metadata": {},
   "source": [
    "But I feel for Santa. At his age, he shouldn’t have to deliver all the presents by himself. I propose an algorithm with which he can divide the work of delivering presents among his elves:\n",
    "\n",
    "* Appoint an elf and give all the work to him\n",
    "* Assign titles and responsibilities to the elves based on the number of houses for which they are responsible:\n",
    "    - `>` 1 He is a manager and can appoint two elves and divide his work among them\n",
    "    - = 1 He is a worker and has to deliver the presents to the house assigned to him\n",
    "\n",
    "This is the typical structure of a recursive algorithm. If the current problem represents a simple case, solve it. If not, divide it into subproblems and apply the same strategy to them.\n",
    "\n",
    "The algorithm for recursive present delivery implemented in Python:"
   ]
  },
  {
   "cell_type": "code",
   "execution_count": 212,
   "metadata": {},
   "outputs": [
    {
     "name": "stdout",
     "output_type": "stream",
     "text": [
      "Delivering presents (recursively) to Eric's house\n",
      "Delivering presents (recursively) to Kenny's house\n",
      "Delivering presents (recursively) to Kyle's house\n",
      "Delivering presents (recursively) to Stan's house\n"
     ]
    }
   ],
   "source": [
    "houses = [\"Eric's house\", \"Kenny's house\", \"Kyle's house\", \"Stan's house\"]\n",
    "\n",
    "# Each function call represents an elf doing his work \n",
    "def deliver_presents_recursively(houses):\n",
    "    # Worker elf doing his work\n",
    "    if len(houses) == 1:\n",
    "        house = houses[0]\n",
    "        print(\"Delivering presents (recursively) to\", house)\n",
    "\n",
    "    # Manager elf doing his work\n",
    "    else:\n",
    "        mid = len(houses) // 2\n",
    "        first_half = houses[:mid]\n",
    "        second_half = houses[mid:]\n",
    "\n",
    "        # Divides his work among two elves\n",
    "        deliver_presents_recursively(first_half)\n",
    "        deliver_presents_recursively(second_half)\n",
    "        \n",
    "deliver_presents_recursively(houses)"
   ]
  },
  {
   "cell_type": "markdown",
   "metadata": {},
   "source": [
    "### Recursive Functions in Python\n",
    "\n",
    "Now that we have some intuition about recursion, let’s introduce the formal definition of a recursive function. **A recursive function is a function defined in terms of itself via self-referential expressions.**\n",
    "\n",
    "This means that the function will continue to call itself and repeat its behavior until some condition is met to return a result. All recursive functions share a common structure made up of two parts: base case and recursive case.\n",
    "\n",
    "To demonstrate this structure, let’s write a recursive function for calculating n!:\n",
    "\n",
    "1. Decompose the original problem into simpler instances of the same problem. This is the recursive case:\n",
    "```\n",
    "    n! = n x (n−1) x (n−2) x (n−3) ⋅⋅⋅⋅ x 3 x 2 x 1\n",
    "    n! = n x (n−1)!\n",
    "```\n",
    "2. As the large problem is broken down into successively less complex ones, those subproblems must eventually become so simple that they can be solved without further subdivision. This is the base case:\n",
    "```\n",
    "    n! = n x (n−1)! \n",
    "    n! = n x (n−1) x (n−2)!\n",
    "    n! = n x (n−1) x (n−2) x (n−3)!\n",
    "    ⋅\n",
    "    ⋅\n",
    "    n! = n x (n−1) x (n−2) x (n−3) ⋅⋅⋅⋅ x 3!\n",
    "    n! = n x (n−1) x (n−2) x (n−3) ⋅⋅⋅⋅ x 3 x 2!\n",
    "    n! = n x (n−1) x (n−2) x (n−3) ⋅⋅⋅⋅ x 3 x 2 x 1!\n",
    "```\n",
    "\n",
    "Here, 1! is our base case, and it equals 1.\n",
    "\n",
    "Recursive function for calculating n! implemented in Python:"
   ]
  },
  {
   "cell_type": "code",
   "execution_count": 213,
   "metadata": {},
   "outputs": [
    {
     "data": {
      "text/plain": [
       "120"
      ]
     },
     "execution_count": 213,
     "metadata": {},
     "output_type": "execute_result"
    }
   ],
   "source": [
    "def factorial_recursive(n):\n",
    "    # Base case: 1! = 1\n",
    "    if n == 1:\n",
    "        return 1\n",
    "\n",
    "    # Recursive case: n! = n * (n-1)!\n",
    "    else:\n",
    "        return n * factorial_recursive(n-1)\n",
    "\n",
    "factorial_recursive(5)"
   ]
  },
  {
   "cell_type": "markdown",
   "metadata": {},
   "source": [
    "Behind the scenes, each recursive call adds a stack frame (containing its execution context) to the call stack until we reach the base case. Then, the stack begins to unwind as each call returns its results: (kp: Animation image skipped).\n",
    "\n",
    "### Maintaining State\n",
    "\n",
    "When dealing with recursive functions, keep in mind that each recursive call has its own execution context, so to maintain state during recursion you have to either:\n",
    "\n",
    "* Thread the state through each recursive call so that the current state is part of the current call’s execution context\n",
    "* Keep the state in global scope\n",
    "\n",
    "A demonstration should make things clearer. Let’s calculate 1 + 2 + 3 ⋅⋅⋅⋅ + 10 using recursion. The state that we have to maintain is (current number we are adding, accumulated sum till now).\n",
    "\n",
    "Here’s how you do that by threading it through each recursive call (i.e. passing the updated current state to each recursive call as arguments):"
   ]
  },
  {
   "cell_type": "code",
   "execution_count": 214,
   "metadata": {},
   "outputs": [
    {
     "data": {
      "text/plain": [
       "55"
      ]
     },
     "execution_count": 214,
     "metadata": {},
     "output_type": "execute_result"
    }
   ],
   "source": [
    "def sum_recursive(current_number, accumulated_sum):\n",
    "    # Base case\n",
    "    # Return the final state\n",
    "    if current_number == 11:\n",
    "        return accumulated_sum\n",
    "\n",
    "    # Recursive case\n",
    "    # Thread the state through the recursive call\n",
    "    else:\n",
    "        return sum_recursive(current_number + 1, accumulated_sum + current_number)\n",
    "\n",
    "# Pass the initial state\n",
    "sum_recursive(1,0)"
   ]
  },
  {
   "cell_type": "code",
   "execution_count": 221,
   "metadata": {},
   "outputs": [
    {
     "data": {
      "text/plain": [
       "40"
      ]
     },
     "execution_count": 221,
     "metadata": {},
     "output_type": "execute_result"
    }
   ],
   "source": [
    "sum_recursive(6,0)"
   ]
  },
  {
   "cell_type": "markdown",
   "metadata": {},
   "source": [
    "kp: Image skipped again.\n",
    "\n",
    "Here’s how you maintain the state by keeping it in global scope:\n",
    "\n",
    "More to be viewed/tried ....."
   ]
  },
  {
   "cell_type": "code",
   "execution_count": null,
   "metadata": {},
   "outputs": [],
   "source": []
  },
  {
   "cell_type": "code",
   "execution_count": null,
   "metadata": {},
   "outputs": [],
   "source": []
  }
 ],
 "metadata": {
  "kernelspec": {
   "display_name": "Python 3",
   "language": "python",
   "name": "python3"
  },
  "language_info": {
   "codemirror_mode": {
    "name": "ipython",
    "version": 3
   },
   "file_extension": ".py",
   "mimetype": "text/x-python",
   "name": "python",
   "nbconvert_exporter": "python",
   "pygments_lexer": "ipython3",
   "version": "3.7.4"
  }
 },
 "nbformat": 4,
 "nbformat_minor": 2
}
