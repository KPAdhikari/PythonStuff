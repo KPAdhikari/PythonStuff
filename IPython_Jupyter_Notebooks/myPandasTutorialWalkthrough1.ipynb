{
 "cells": [
  {
   "cell_type": "markdown",
   "metadata": {},
   "source": [
    "# My First Pandas Walkthrough \n",
    "Date: 7/25/17\n",
    "I am using following references:\n",
    "* **[10 Minutes to pandas](https://pandas.pydata.org/pandas-docs/stable/10min.html):** This is a short introduction to pandas, geared mainly for new users. You can see more complex recipes in the Cookbook\n",
    "\n",
    "Customarily, we import the following modules:"
   ]
  },
  {
   "cell_type": "markdown",
   "metadata": {},
   "source": [
    "References:\n",
    "* http://www.nyayapati.com/srao/2014/05/how-to-install-numpy-scipy-pandas-matplotlib-and-scikit-learn-on-mavericks/ \n",
    "* https://github.com/pydata/pandas-datareader "
   ]
  },
  {
   "cell_type": "code",
   "execution_count": 2,
   "metadata": {
    "collapsed": true,
    "jupyter": {
     "outputs_hidden": true
    }
   },
   "outputs": [],
   "source": [
    "import pandas as pd\n",
    "import numpy as np\n",
    "import matplotlib.pyplot as plt"
   ]
  },
  {
   "cell_type": "markdown",
   "metadata": {},
   "source": [
    "## Object Creation\n",
    "Creating a **[Series](https://pandas.pydata.org/pandas-docs/stable/generated/pandas.Series.html#pandas.Series)** (See the [Data Structure Intro Section](https://pandas.pydata.org/pandas-docs/stable/dsintro.html#dsintro)) by passing a list of values, letting pandas create a default integer index:\n",
    "\n",
    "**Aside:** Here, I also learned that Jupyter also allows Tab-completion and Tab-hints. For example, below I typed **pd.Ser+Tab** and it completed Series and on **np.n+Tab** it gave me a list of options to choose from which started with **np.nan**)"
   ]
  },
  {
   "cell_type": "code",
   "execution_count": 3,
   "metadata": {},
   "outputs": [
    {
     "data": {
      "text/plain": [
       "0    1.0\n",
       "1    3.0\n",
       "2    5.0\n",
       "3    NaN\n",
       "4    6.0\n",
       "5    8.0\n",
       "dtype: float64"
      ]
     },
     "execution_count": 3,
     "metadata": {},
     "output_type": "execute_result"
    }
   ],
   "source": [
    "s = pd.Series([1,3,5,np.nan, 6, 8])\n",
    "s"
   ]
  },
  {
   "cell_type": "markdown",
   "metadata": {},
   "source": [
    "Creating [DataFrame](https://pandas.pydata.org/pandas-docs/stable/generated/pandas.DataFrame.html#pandas.DataFrame) by passing a numpy array, with a datetime index and labeled columns:"
   ]
  },
  {
   "cell_type": "code",
   "execution_count": 4,
   "metadata": {},
   "outputs": [
    {
     "data": {
      "text/plain": [
       "DatetimeIndex(['2013-01-01', '2013-01-02', '2013-01-03', '2013-01-04',\n",
       "               '2013-01-05', '2013-01-06'],\n",
       "              dtype='datetime64[ns]', freq='D')"
      ]
     },
     "execution_count": 4,
     "metadata": {},
     "output_type": "execute_result"
    }
   ],
   "source": [
    "dates = pd.date_range('20130101', periods=6)\n",
    "dates"
   ]
  },
  {
   "cell_type": "code",
   "execution_count": 5,
   "metadata": {},
   "outputs": [
    {
     "data": {
      "text/html": [
       "<div>\n",
       "<style>\n",
       "    .dataframe thead tr:only-child th {\n",
       "        text-align: right;\n",
       "    }\n",
       "\n",
       "    .dataframe thead th {\n",
       "        text-align: left;\n",
       "    }\n",
       "\n",
       "    .dataframe tbody tr th {\n",
       "        vertical-align: top;\n",
       "    }\n",
       "</style>\n",
       "<table border=\"1\" class=\"dataframe\">\n",
       "  <thead>\n",
       "    <tr style=\"text-align: right;\">\n",
       "      <th></th>\n",
       "      <th>A</th>\n",
       "      <th>B</th>\n",
       "      <th>C</th>\n",
       "      <th>D</th>\n",
       "    </tr>\n",
       "  </thead>\n",
       "  <tbody>\n",
       "    <tr>\n",
       "      <th>2013-01-01</th>\n",
       "      <td>-0.141693</td>\n",
       "      <td>0.316561</td>\n",
       "      <td>1.011421</td>\n",
       "      <td>0.919526</td>\n",
       "    </tr>\n",
       "    <tr>\n",
       "      <th>2013-01-02</th>\n",
       "      <td>1.729437</td>\n",
       "      <td>0.631199</td>\n",
       "      <td>-0.677232</td>\n",
       "      <td>-1.225070</td>\n",
       "    </tr>\n",
       "    <tr>\n",
       "      <th>2013-01-03</th>\n",
       "      <td>-0.188439</td>\n",
       "      <td>1.090964</td>\n",
       "      <td>-0.677291</td>\n",
       "      <td>1.248936</td>\n",
       "    </tr>\n",
       "    <tr>\n",
       "      <th>2013-01-04</th>\n",
       "      <td>0.242917</td>\n",
       "      <td>0.807838</td>\n",
       "      <td>-1.511049</td>\n",
       "      <td>0.522782</td>\n",
       "    </tr>\n",
       "    <tr>\n",
       "      <th>2013-01-05</th>\n",
       "      <td>-0.871605</td>\n",
       "      <td>1.290795</td>\n",
       "      <td>1.265340</td>\n",
       "      <td>0.568901</td>\n",
       "    </tr>\n",
       "    <tr>\n",
       "      <th>2013-01-06</th>\n",
       "      <td>2.469239</td>\n",
       "      <td>0.525681</td>\n",
       "      <td>1.875456</td>\n",
       "      <td>-0.330269</td>\n",
       "    </tr>\n",
       "  </tbody>\n",
       "</table>\n",
       "</div>"
      ],
      "text/plain": [
       "                   A         B         C         D\n",
       "2013-01-01 -0.141693  0.316561  1.011421  0.919526\n",
       "2013-01-02  1.729437  0.631199 -0.677232 -1.225070\n",
       "2013-01-03 -0.188439  1.090964 -0.677291  1.248936\n",
       "2013-01-04  0.242917  0.807838 -1.511049  0.522782\n",
       "2013-01-05 -0.871605  1.290795  1.265340  0.568901\n",
       "2013-01-06  2.469239  0.525681  1.875456 -0.330269"
      ]
     },
     "execution_count": 5,
     "metadata": {},
     "output_type": "execute_result"
    }
   ],
   "source": [
    "df = pd.DataFrame(np.random.randn(6,4), index=dates, columns=list('ABCD'))\n",
    "df"
   ]
  },
  {
   "cell_type": "markdown",
   "metadata": {},
   "source": [
    "Creating a DataFrame by passing a dict of objects that can be converted to series-like."
   ]
  },
  {
   "cell_type": "code",
   "execution_count": 6,
   "metadata": {
    "collapsed": true,
    "jupyter": {
     "outputs_hidden": true
    }
   },
   "outputs": [],
   "source": [
    "df2 = pd.DataFrame({ 'A' : 1.,\n",
    "...:                 'B' : pd.Timestamp('20130102'),\n",
    "...:                  'C' : pd.Series(1,index=list(range(4)),dtype='float32'),\n",
    "...:               'D' : np.array([3] * 4,dtype='int32'),\n",
    "                     'E' : pd.Categorical([\"test\",\"train\",\"test\",\"train\"]),\n",
    "                     'F' : 'foo' })\n",
    " "
   ]
  },
  {
   "cell_type": "markdown",
   "metadata": {},
   "source": [
    "**Aside:** I learned here that a line continuation can be indicated by white space, three-dots or three-dots+anything else. But, two dots or less would give syntax error."
   ]
  },
  {
   "cell_type": "code",
   "execution_count": 7,
   "metadata": {},
   "outputs": [
    {
     "data": {
      "text/html": [
       "<div>\n",
       "<style>\n",
       "    .dataframe thead tr:only-child th {\n",
       "        text-align: right;\n",
       "    }\n",
       "\n",
       "    .dataframe thead th {\n",
       "        text-align: left;\n",
       "    }\n",
       "\n",
       "    .dataframe tbody tr th {\n",
       "        vertical-align: top;\n",
       "    }\n",
       "</style>\n",
       "<table border=\"1\" class=\"dataframe\">\n",
       "  <thead>\n",
       "    <tr style=\"text-align: right;\">\n",
       "      <th></th>\n",
       "      <th>A</th>\n",
       "      <th>B</th>\n",
       "      <th>C</th>\n",
       "      <th>D</th>\n",
       "      <th>E</th>\n",
       "      <th>F</th>\n",
       "    </tr>\n",
       "  </thead>\n",
       "  <tbody>\n",
       "    <tr>\n",
       "      <th>0</th>\n",
       "      <td>1.0</td>\n",
       "      <td>2013-01-02</td>\n",
       "      <td>1.0</td>\n",
       "      <td>3</td>\n",
       "      <td>test</td>\n",
       "      <td>foo</td>\n",
       "    </tr>\n",
       "    <tr>\n",
       "      <th>1</th>\n",
       "      <td>1.0</td>\n",
       "      <td>2013-01-02</td>\n",
       "      <td>1.0</td>\n",
       "      <td>3</td>\n",
       "      <td>train</td>\n",
       "      <td>foo</td>\n",
       "    </tr>\n",
       "    <tr>\n",
       "      <th>2</th>\n",
       "      <td>1.0</td>\n",
       "      <td>2013-01-02</td>\n",
       "      <td>1.0</td>\n",
       "      <td>3</td>\n",
       "      <td>test</td>\n",
       "      <td>foo</td>\n",
       "    </tr>\n",
       "    <tr>\n",
       "      <th>3</th>\n",
       "      <td>1.0</td>\n",
       "      <td>2013-01-02</td>\n",
       "      <td>1.0</td>\n",
       "      <td>3</td>\n",
       "      <td>train</td>\n",
       "      <td>foo</td>\n",
       "    </tr>\n",
       "  </tbody>\n",
       "</table>\n",
       "</div>"
      ],
      "text/plain": [
       "     A          B    C  D      E    F\n",
       "0  1.0 2013-01-02  1.0  3   test  foo\n",
       "1  1.0 2013-01-02  1.0  3  train  foo\n",
       "2  1.0 2013-01-02  1.0  3   test  foo\n",
       "3  1.0 2013-01-02  1.0  3  train  foo"
      ]
     },
     "execution_count": 7,
     "metadata": {},
     "output_type": "execute_result"
    }
   ],
   "source": [
    "df2"
   ]
  },
  {
   "cell_type": "markdown",
   "metadata": {},
   "source": [
    "Having specific [dtypes](https://pandas.pydata.org/pandas-docs/stable/basics.html#basics-dtypes)"
   ]
  },
  {
   "cell_type": "code",
   "execution_count": 8,
   "metadata": {},
   "outputs": [
    {
     "data": {
      "text/plain": [
       "A           float64\n",
       "B    datetime64[ns]\n",
       "C           float32\n",
       "D             int32\n",
       "E          category\n",
       "F            object\n",
       "dtype: object"
      ]
     },
     "execution_count": 8,
     "metadata": {},
     "output_type": "execute_result"
    }
   ],
   "source": [
    "df2.dtypes"
   ]
  },
  {
   "cell_type": "markdown",
   "metadata": {},
   "source": [
    "If you’re using IPython, tab completion for column names (as well as public attributes) is automatically enabled. Here’s a subset of the attributes that will be completed:\n",
    "\n",
    "df2.`<TAB>`\n",
    "\n",
    "```\n",
    "df2.A                  df2.bool\n",
    "df2.abs                df2.boxplot\n",
    "df2.add                df2.C\n",
    "df2.add_prefix         df2.clip\n",
    "df2.add_suffix         df2.clip_lower\n",
    "df2.align              df2.clip_upper\n",
    "df2.all                df2.columns\n",
    "df2.any                df2.combine\n",
    "df2.append             df2.combine_first\n",
    "df2.apply              df2.compound\n",
    "df2.applymap           df2.consolidate\n",
    "df2.as_blocks          df2.convert_objects\n",
    "df2.asfreq             df2.copy\n",
    "df2.as_matrix          df2.corr\n",
    "df2.astype             df2.corrwith\n",
    "df2.at                 df2.count\n",
    "df2.at_time            df2.cov\n",
    "df2.axes               df2.cummax\n",
    "df2.B                  df2.cummin\n",
    "df2.between_time       df2.cumprod\n",
    "df2.bfill              df2.cumsum\n",
    "df2.blocks             df2.D\n",
    "```\n",
    "\n",
    "As you can see, the columns A, B, C, and D are automatically tab completed. E is there as well; the rest of the attributes have been truncated for brevity."
   ]
  },
  {
   "cell_type": "markdown",
   "metadata": {},
   "source": [
    "## Viewing Data\n",
    "See the [Basics section](https://pandas.pydata.org/pandas-docs/stable/basics.html#basics)\n",
    "\n",
    "See the top & bottom rows of the frame"
   ]
  },
  {
   "cell_type": "code",
   "execution_count": 9,
   "metadata": {},
   "outputs": [
    {
     "data": {
      "text/html": [
       "<div>\n",
       "<style>\n",
       "    .dataframe thead tr:only-child th {\n",
       "        text-align: right;\n",
       "    }\n",
       "\n",
       "    .dataframe thead th {\n",
       "        text-align: left;\n",
       "    }\n",
       "\n",
       "    .dataframe tbody tr th {\n",
       "        vertical-align: top;\n",
       "    }\n",
       "</style>\n",
       "<table border=\"1\" class=\"dataframe\">\n",
       "  <thead>\n",
       "    <tr style=\"text-align: right;\">\n",
       "      <th></th>\n",
       "      <th>A</th>\n",
       "      <th>B</th>\n",
       "      <th>C</th>\n",
       "      <th>D</th>\n",
       "    </tr>\n",
       "  </thead>\n",
       "  <tbody>\n",
       "    <tr>\n",
       "      <th>2013-01-01</th>\n",
       "      <td>-0.141693</td>\n",
       "      <td>0.316561</td>\n",
       "      <td>1.011421</td>\n",
       "      <td>0.919526</td>\n",
       "    </tr>\n",
       "    <tr>\n",
       "      <th>2013-01-02</th>\n",
       "      <td>1.729437</td>\n",
       "      <td>0.631199</td>\n",
       "      <td>-0.677232</td>\n",
       "      <td>-1.225070</td>\n",
       "    </tr>\n",
       "    <tr>\n",
       "      <th>2013-01-03</th>\n",
       "      <td>-0.188439</td>\n",
       "      <td>1.090964</td>\n",
       "      <td>-0.677291</td>\n",
       "      <td>1.248936</td>\n",
       "    </tr>\n",
       "    <tr>\n",
       "      <th>2013-01-04</th>\n",
       "      <td>0.242917</td>\n",
       "      <td>0.807838</td>\n",
       "      <td>-1.511049</td>\n",
       "      <td>0.522782</td>\n",
       "    </tr>\n",
       "    <tr>\n",
       "      <th>2013-01-05</th>\n",
       "      <td>-0.871605</td>\n",
       "      <td>1.290795</td>\n",
       "      <td>1.265340</td>\n",
       "      <td>0.568901</td>\n",
       "    </tr>\n",
       "  </tbody>\n",
       "</table>\n",
       "</div>"
      ],
      "text/plain": [
       "                   A         B         C         D\n",
       "2013-01-01 -0.141693  0.316561  1.011421  0.919526\n",
       "2013-01-02  1.729437  0.631199 -0.677232 -1.225070\n",
       "2013-01-03 -0.188439  1.090964 -0.677291  1.248936\n",
       "2013-01-04  0.242917  0.807838 -1.511049  0.522782\n",
       "2013-01-05 -0.871605  1.290795  1.265340  0.568901"
      ]
     },
     "execution_count": 9,
     "metadata": {},
     "output_type": "execute_result"
    }
   ],
   "source": [
    "df.head()"
   ]
  },
  {
   "cell_type": "code",
   "execution_count": 10,
   "metadata": {},
   "outputs": [
    {
     "data": {
      "text/html": [
       "<div>\n",
       "<style>\n",
       "    .dataframe thead tr:only-child th {\n",
       "        text-align: right;\n",
       "    }\n",
       "\n",
       "    .dataframe thead th {\n",
       "        text-align: left;\n",
       "    }\n",
       "\n",
       "    .dataframe tbody tr th {\n",
       "        vertical-align: top;\n",
       "    }\n",
       "</style>\n",
       "<table border=\"1\" class=\"dataframe\">\n",
       "  <thead>\n",
       "    <tr style=\"text-align: right;\">\n",
       "      <th></th>\n",
       "      <th>A</th>\n",
       "      <th>B</th>\n",
       "      <th>C</th>\n",
       "      <th>D</th>\n",
       "    </tr>\n",
       "  </thead>\n",
       "  <tbody>\n",
       "    <tr>\n",
       "      <th>2013-01-02</th>\n",
       "      <td>1.729437</td>\n",
       "      <td>0.631199</td>\n",
       "      <td>-0.677232</td>\n",
       "      <td>-1.225070</td>\n",
       "    </tr>\n",
       "    <tr>\n",
       "      <th>2013-01-03</th>\n",
       "      <td>-0.188439</td>\n",
       "      <td>1.090964</td>\n",
       "      <td>-0.677291</td>\n",
       "      <td>1.248936</td>\n",
       "    </tr>\n",
       "    <tr>\n",
       "      <th>2013-01-04</th>\n",
       "      <td>0.242917</td>\n",
       "      <td>0.807838</td>\n",
       "      <td>-1.511049</td>\n",
       "      <td>0.522782</td>\n",
       "    </tr>\n",
       "    <tr>\n",
       "      <th>2013-01-05</th>\n",
       "      <td>-0.871605</td>\n",
       "      <td>1.290795</td>\n",
       "      <td>1.265340</td>\n",
       "      <td>0.568901</td>\n",
       "    </tr>\n",
       "    <tr>\n",
       "      <th>2013-01-06</th>\n",
       "      <td>2.469239</td>\n",
       "      <td>0.525681</td>\n",
       "      <td>1.875456</td>\n",
       "      <td>-0.330269</td>\n",
       "    </tr>\n",
       "  </tbody>\n",
       "</table>\n",
       "</div>"
      ],
      "text/plain": [
       "                   A         B         C         D\n",
       "2013-01-02  1.729437  0.631199 -0.677232 -1.225070\n",
       "2013-01-03 -0.188439  1.090964 -0.677291  1.248936\n",
       "2013-01-04  0.242917  0.807838 -1.511049  0.522782\n",
       "2013-01-05 -0.871605  1.290795  1.265340  0.568901\n",
       "2013-01-06  2.469239  0.525681  1.875456 -0.330269"
      ]
     },
     "execution_count": 10,
     "metadata": {},
     "output_type": "execute_result"
    }
   ],
   "source": [
    "df.tail()"
   ]
  },
  {
   "cell_type": "markdown",
   "metadata": {},
   "source": [
    "Display the index, columns, and the underlying numpy data"
   ]
  },
  {
   "cell_type": "code",
   "execution_count": 11,
   "metadata": {},
   "outputs": [
    {
     "data": {
      "text/plain": [
       "DatetimeIndex(['2013-01-01', '2013-01-02', '2013-01-03', '2013-01-04',\n",
       "               '2013-01-05', '2013-01-06'],\n",
       "              dtype='datetime64[ns]', freq='D')"
      ]
     },
     "execution_count": 11,
     "metadata": {},
     "output_type": "execute_result"
    }
   ],
   "source": [
    "df.index"
   ]
  },
  {
   "cell_type": "code",
   "execution_count": 12,
   "metadata": {},
   "outputs": [
    {
     "data": {
      "text/plain": [
       "Index([u'A', u'B', u'C', u'D'], dtype='object')"
      ]
     },
     "execution_count": 12,
     "metadata": {},
     "output_type": "execute_result"
    }
   ],
   "source": [
    "df.columns"
   ]
  },
  {
   "cell_type": "code",
   "execution_count": 13,
   "metadata": {},
   "outputs": [
    {
     "data": {
      "text/plain": [
       "array([[-0.14169316,  0.31656129,  1.01142059,  0.91952554],\n",
       "       [ 1.72943679,  0.6311994 , -0.67723152, -1.22506968],\n",
       "       [-0.18843935,  1.09096371, -0.67729092,  1.24893569],\n",
       "       [ 0.24291697,  0.8078383 , -1.51104862,  0.5227823 ],\n",
       "       [-0.87160548,  1.29079544,  1.26533997,  0.56890094],\n",
       "       [ 2.46923936,  0.52568077,  1.87545552, -0.33026864]])"
      ]
     },
     "execution_count": 13,
     "metadata": {},
     "output_type": "execute_result"
    }
   ],
   "source": [
    "df.values"
   ]
  },
  {
   "cell_type": "markdown",
   "metadata": {},
   "source": [
    "Describe shows a quick statistic summary of your data"
   ]
  },
  {
   "cell_type": "code",
   "execution_count": 14,
   "metadata": {},
   "outputs": [
    {
     "data": {
      "text/html": [
       "<div>\n",
       "<style>\n",
       "    .dataframe thead tr:only-child th {\n",
       "        text-align: right;\n",
       "    }\n",
       "\n",
       "    .dataframe thead th {\n",
       "        text-align: left;\n",
       "    }\n",
       "\n",
       "    .dataframe tbody tr th {\n",
       "        vertical-align: top;\n",
       "    }\n",
       "</style>\n",
       "<table border=\"1\" class=\"dataframe\">\n",
       "  <thead>\n",
       "    <tr style=\"text-align: right;\">\n",
       "      <th></th>\n",
       "      <th>A</th>\n",
       "      <th>B</th>\n",
       "      <th>C</th>\n",
       "      <th>D</th>\n",
       "    </tr>\n",
       "  </thead>\n",
       "  <tbody>\n",
       "    <tr>\n",
       "      <th>count</th>\n",
       "      <td>6.000000</td>\n",
       "      <td>6.000000</td>\n",
       "      <td>6.000000</td>\n",
       "      <td>6.000000</td>\n",
       "    </tr>\n",
       "    <tr>\n",
       "      <th>mean</th>\n",
       "      <td>0.539976</td>\n",
       "      <td>0.777173</td>\n",
       "      <td>0.214441</td>\n",
       "      <td>0.284134</td>\n",
       "    </tr>\n",
       "    <tr>\n",
       "      <th>std</th>\n",
       "      <td>1.281635</td>\n",
       "      <td>0.363300</td>\n",
       "      <td>1.346560</td>\n",
       "      <td>0.908603</td>\n",
       "    </tr>\n",
       "    <tr>\n",
       "      <th>min</th>\n",
       "      <td>-0.871605</td>\n",
       "      <td>0.316561</td>\n",
       "      <td>-1.511049</td>\n",
       "      <td>-1.225070</td>\n",
       "    </tr>\n",
       "    <tr>\n",
       "      <th>25%</th>\n",
       "      <td>-0.176753</td>\n",
       "      <td>0.552060</td>\n",
       "      <td>-0.677276</td>\n",
       "      <td>-0.117006</td>\n",
       "    </tr>\n",
       "    <tr>\n",
       "      <th>50%</th>\n",
       "      <td>0.050612</td>\n",
       "      <td>0.719519</td>\n",
       "      <td>0.167095</td>\n",
       "      <td>0.545842</td>\n",
       "    </tr>\n",
       "    <tr>\n",
       "      <th>75%</th>\n",
       "      <td>1.357807</td>\n",
       "      <td>1.020182</td>\n",
       "      <td>1.201860</td>\n",
       "      <td>0.831869</td>\n",
       "    </tr>\n",
       "    <tr>\n",
       "      <th>max</th>\n",
       "      <td>2.469239</td>\n",
       "      <td>1.290795</td>\n",
       "      <td>1.875456</td>\n",
       "      <td>1.248936</td>\n",
       "    </tr>\n",
       "  </tbody>\n",
       "</table>\n",
       "</div>"
      ],
      "text/plain": [
       "              A         B         C         D\n",
       "count  6.000000  6.000000  6.000000  6.000000\n",
       "mean   0.539976  0.777173  0.214441  0.284134\n",
       "std    1.281635  0.363300  1.346560  0.908603\n",
       "min   -0.871605  0.316561 -1.511049 -1.225070\n",
       "25%   -0.176753  0.552060 -0.677276 -0.117006\n",
       "50%    0.050612  0.719519  0.167095  0.545842\n",
       "75%    1.357807  1.020182  1.201860  0.831869\n",
       "max    2.469239  1.290795  1.875456  1.248936"
      ]
     },
     "execution_count": 14,
     "metadata": {},
     "output_type": "execute_result"
    }
   ],
   "source": [
    "df.describe()"
   ]
  },
  {
   "cell_type": "markdown",
   "metadata": {},
   "source": [
    "Transposing your data"
   ]
  },
  {
   "cell_type": "code",
   "execution_count": 15,
   "metadata": {},
   "outputs": [
    {
     "data": {
      "text/html": [
       "<div>\n",
       "<style>\n",
       "    .dataframe thead tr:only-child th {\n",
       "        text-align: right;\n",
       "    }\n",
       "\n",
       "    .dataframe thead th {\n",
       "        text-align: left;\n",
       "    }\n",
       "\n",
       "    .dataframe tbody tr th {\n",
       "        vertical-align: top;\n",
       "    }\n",
       "</style>\n",
       "<table border=\"1\" class=\"dataframe\">\n",
       "  <thead>\n",
       "    <tr style=\"text-align: right;\">\n",
       "      <th></th>\n",
       "      <th>2013-01-01 00:00:00</th>\n",
       "      <th>2013-01-02 00:00:00</th>\n",
       "      <th>2013-01-03 00:00:00</th>\n",
       "      <th>2013-01-04 00:00:00</th>\n",
       "      <th>2013-01-05 00:00:00</th>\n",
       "      <th>2013-01-06 00:00:00</th>\n",
       "    </tr>\n",
       "  </thead>\n",
       "  <tbody>\n",
       "    <tr>\n",
       "      <th>A</th>\n",
       "      <td>-0.141693</td>\n",
       "      <td>1.729437</td>\n",
       "      <td>-0.188439</td>\n",
       "      <td>0.242917</td>\n",
       "      <td>-0.871605</td>\n",
       "      <td>2.469239</td>\n",
       "    </tr>\n",
       "    <tr>\n",
       "      <th>B</th>\n",
       "      <td>0.316561</td>\n",
       "      <td>0.631199</td>\n",
       "      <td>1.090964</td>\n",
       "      <td>0.807838</td>\n",
       "      <td>1.290795</td>\n",
       "      <td>0.525681</td>\n",
       "    </tr>\n",
       "    <tr>\n",
       "      <th>C</th>\n",
       "      <td>1.011421</td>\n",
       "      <td>-0.677232</td>\n",
       "      <td>-0.677291</td>\n",
       "      <td>-1.511049</td>\n",
       "      <td>1.265340</td>\n",
       "      <td>1.875456</td>\n",
       "    </tr>\n",
       "    <tr>\n",
       "      <th>D</th>\n",
       "      <td>0.919526</td>\n",
       "      <td>-1.225070</td>\n",
       "      <td>1.248936</td>\n",
       "      <td>0.522782</td>\n",
       "      <td>0.568901</td>\n",
       "      <td>-0.330269</td>\n",
       "    </tr>\n",
       "  </tbody>\n",
       "</table>\n",
       "</div>"
      ],
      "text/plain": [
       "   2013-01-01  2013-01-02  2013-01-03  2013-01-04  2013-01-05  2013-01-06\n",
       "A   -0.141693    1.729437   -0.188439    0.242917   -0.871605    2.469239\n",
       "B    0.316561    0.631199    1.090964    0.807838    1.290795    0.525681\n",
       "C    1.011421   -0.677232   -0.677291   -1.511049    1.265340    1.875456\n",
       "D    0.919526   -1.225070    1.248936    0.522782    0.568901   -0.330269"
      ]
     },
     "execution_count": 15,
     "metadata": {},
     "output_type": "execute_result"
    }
   ],
   "source": [
    "df.T"
   ]
  },
  {
   "cell_type": "markdown",
   "metadata": {},
   "source": [
    "Sorting by an axis"
   ]
  },
  {
   "cell_type": "code",
   "execution_count": 16,
   "metadata": {},
   "outputs": [
    {
     "data": {
      "text/html": [
       "<div>\n",
       "<style>\n",
       "    .dataframe thead tr:only-child th {\n",
       "        text-align: right;\n",
       "    }\n",
       "\n",
       "    .dataframe thead th {\n",
       "        text-align: left;\n",
       "    }\n",
       "\n",
       "    .dataframe tbody tr th {\n",
       "        vertical-align: top;\n",
       "    }\n",
       "</style>\n",
       "<table border=\"1\" class=\"dataframe\">\n",
       "  <thead>\n",
       "    <tr style=\"text-align: right;\">\n",
       "      <th></th>\n",
       "      <th>D</th>\n",
       "      <th>C</th>\n",
       "      <th>B</th>\n",
       "      <th>A</th>\n",
       "    </tr>\n",
       "  </thead>\n",
       "  <tbody>\n",
       "    <tr>\n",
       "      <th>2013-01-01</th>\n",
       "      <td>0.919526</td>\n",
       "      <td>1.011421</td>\n",
       "      <td>0.316561</td>\n",
       "      <td>-0.141693</td>\n",
       "    </tr>\n",
       "    <tr>\n",
       "      <th>2013-01-02</th>\n",
       "      <td>-1.225070</td>\n",
       "      <td>-0.677232</td>\n",
       "      <td>0.631199</td>\n",
       "      <td>1.729437</td>\n",
       "    </tr>\n",
       "    <tr>\n",
       "      <th>2013-01-03</th>\n",
       "      <td>1.248936</td>\n",
       "      <td>-0.677291</td>\n",
       "      <td>1.090964</td>\n",
       "      <td>-0.188439</td>\n",
       "    </tr>\n",
       "    <tr>\n",
       "      <th>2013-01-04</th>\n",
       "      <td>0.522782</td>\n",
       "      <td>-1.511049</td>\n",
       "      <td>0.807838</td>\n",
       "      <td>0.242917</td>\n",
       "    </tr>\n",
       "    <tr>\n",
       "      <th>2013-01-05</th>\n",
       "      <td>0.568901</td>\n",
       "      <td>1.265340</td>\n",
       "      <td>1.290795</td>\n",
       "      <td>-0.871605</td>\n",
       "    </tr>\n",
       "    <tr>\n",
       "      <th>2013-01-06</th>\n",
       "      <td>-0.330269</td>\n",
       "      <td>1.875456</td>\n",
       "      <td>0.525681</td>\n",
       "      <td>2.469239</td>\n",
       "    </tr>\n",
       "  </tbody>\n",
       "</table>\n",
       "</div>"
      ],
      "text/plain": [
       "                   D         C         B         A\n",
       "2013-01-01  0.919526  1.011421  0.316561 -0.141693\n",
       "2013-01-02 -1.225070 -0.677232  0.631199  1.729437\n",
       "2013-01-03  1.248936 -0.677291  1.090964 -0.188439\n",
       "2013-01-04  0.522782 -1.511049  0.807838  0.242917\n",
       "2013-01-05  0.568901  1.265340  1.290795 -0.871605\n",
       "2013-01-06 -0.330269  1.875456  0.525681  2.469239"
      ]
     },
     "execution_count": 16,
     "metadata": {},
     "output_type": "execute_result"
    }
   ],
   "source": [
    "df.sort_index(axis=1, ascending=False)"
   ]
  },
  {
   "cell_type": "markdown",
   "metadata": {},
   "source": [
    "Sorting by values"
   ]
  },
  {
   "cell_type": "code",
   "execution_count": 17,
   "metadata": {},
   "outputs": [
    {
     "data": {
      "text/html": [
       "<div>\n",
       "<style>\n",
       "    .dataframe thead tr:only-child th {\n",
       "        text-align: right;\n",
       "    }\n",
       "\n",
       "    .dataframe thead th {\n",
       "        text-align: left;\n",
       "    }\n",
       "\n",
       "    .dataframe tbody tr th {\n",
       "        vertical-align: top;\n",
       "    }\n",
       "</style>\n",
       "<table border=\"1\" class=\"dataframe\">\n",
       "  <thead>\n",
       "    <tr style=\"text-align: right;\">\n",
       "      <th></th>\n",
       "      <th>A</th>\n",
       "      <th>B</th>\n",
       "      <th>C</th>\n",
       "      <th>D</th>\n",
       "    </tr>\n",
       "  </thead>\n",
       "  <tbody>\n",
       "    <tr>\n",
       "      <th>2013-01-01</th>\n",
       "      <td>-0.141693</td>\n",
       "      <td>0.316561</td>\n",
       "      <td>1.011421</td>\n",
       "      <td>0.919526</td>\n",
       "    </tr>\n",
       "    <tr>\n",
       "      <th>2013-01-06</th>\n",
       "      <td>2.469239</td>\n",
       "      <td>0.525681</td>\n",
       "      <td>1.875456</td>\n",
       "      <td>-0.330269</td>\n",
       "    </tr>\n",
       "    <tr>\n",
       "      <th>2013-01-02</th>\n",
       "      <td>1.729437</td>\n",
       "      <td>0.631199</td>\n",
       "      <td>-0.677232</td>\n",
       "      <td>-1.225070</td>\n",
       "    </tr>\n",
       "    <tr>\n",
       "      <th>2013-01-04</th>\n",
       "      <td>0.242917</td>\n",
       "      <td>0.807838</td>\n",
       "      <td>-1.511049</td>\n",
       "      <td>0.522782</td>\n",
       "    </tr>\n",
       "    <tr>\n",
       "      <th>2013-01-03</th>\n",
       "      <td>-0.188439</td>\n",
       "      <td>1.090964</td>\n",
       "      <td>-0.677291</td>\n",
       "      <td>1.248936</td>\n",
       "    </tr>\n",
       "    <tr>\n",
       "      <th>2013-01-05</th>\n",
       "      <td>-0.871605</td>\n",
       "      <td>1.290795</td>\n",
       "      <td>1.265340</td>\n",
       "      <td>0.568901</td>\n",
       "    </tr>\n",
       "  </tbody>\n",
       "</table>\n",
       "</div>"
      ],
      "text/plain": [
       "                   A         B         C         D\n",
       "2013-01-01 -0.141693  0.316561  1.011421  0.919526\n",
       "2013-01-06  2.469239  0.525681  1.875456 -0.330269\n",
       "2013-01-02  1.729437  0.631199 -0.677232 -1.225070\n",
       "2013-01-04  0.242917  0.807838 -1.511049  0.522782\n",
       "2013-01-03 -0.188439  1.090964 -0.677291  1.248936\n",
       "2013-01-05 -0.871605  1.290795  1.265340  0.568901"
      ]
     },
     "execution_count": 17,
     "metadata": {},
     "output_type": "execute_result"
    }
   ],
   "source": [
    "df.sort_values(by='B')"
   ]
  },
  {
   "cell_type": "markdown",
   "metadata": {},
   "source": [
    "## Selection\n",
    "\n",
    "**Note:** While standard Python / Numpy expressions for selecting and setting are intuitive and come in handy for interactive work, for production code, we recommend the optimized pandas data access methods, .at, .iat, .loc, .iloc and .ix.\n",
    "\n",
    "See the indexing documentation Indexing and Selecting Data and MultiIndex / Advanced Indexing\n",
    "\n",
    "## Getting\n",
    "\n",
    "Selecting a single column, which yields a Series, equivalent to df.A"
   ]
  },
  {
   "cell_type": "code",
   "execution_count": 18,
   "metadata": {},
   "outputs": [
    {
     "data": {
      "text/plain": [
       "2013-01-01   -0.141693\n",
       "2013-01-02    1.729437\n",
       "2013-01-03   -0.188439\n",
       "2013-01-04    0.242917\n",
       "2013-01-05   -0.871605\n",
       "2013-01-06    2.469239\n",
       "Freq: D, Name: A, dtype: float64"
      ]
     },
     "execution_count": 18,
     "metadata": {},
     "output_type": "execute_result"
    }
   ],
   "source": [
    "df['A']"
   ]
  },
  {
   "cell_type": "markdown",
   "metadata": {},
   "source": [
    "Selecting via [], which slices the rows."
   ]
  },
  {
   "cell_type": "code",
   "execution_count": 19,
   "metadata": {},
   "outputs": [
    {
     "data": {
      "text/html": [
       "<div>\n",
       "<style>\n",
       "    .dataframe thead tr:only-child th {\n",
       "        text-align: right;\n",
       "    }\n",
       "\n",
       "    .dataframe thead th {\n",
       "        text-align: left;\n",
       "    }\n",
       "\n",
       "    .dataframe tbody tr th {\n",
       "        vertical-align: top;\n",
       "    }\n",
       "</style>\n",
       "<table border=\"1\" class=\"dataframe\">\n",
       "  <thead>\n",
       "    <tr style=\"text-align: right;\">\n",
       "      <th></th>\n",
       "      <th>A</th>\n",
       "      <th>B</th>\n",
       "      <th>C</th>\n",
       "      <th>D</th>\n",
       "    </tr>\n",
       "  </thead>\n",
       "  <tbody>\n",
       "    <tr>\n",
       "      <th>2013-01-01</th>\n",
       "      <td>-0.141693</td>\n",
       "      <td>0.316561</td>\n",
       "      <td>1.011421</td>\n",
       "      <td>0.919526</td>\n",
       "    </tr>\n",
       "    <tr>\n",
       "      <th>2013-01-02</th>\n",
       "      <td>1.729437</td>\n",
       "      <td>0.631199</td>\n",
       "      <td>-0.677232</td>\n",
       "      <td>-1.225070</td>\n",
       "    </tr>\n",
       "    <tr>\n",
       "      <th>2013-01-03</th>\n",
       "      <td>-0.188439</td>\n",
       "      <td>1.090964</td>\n",
       "      <td>-0.677291</td>\n",
       "      <td>1.248936</td>\n",
       "    </tr>\n",
       "  </tbody>\n",
       "</table>\n",
       "</div>"
      ],
      "text/plain": [
       "                   A         B         C         D\n",
       "2013-01-01 -0.141693  0.316561  1.011421  0.919526\n",
       "2013-01-02  1.729437  0.631199 -0.677232 -1.225070\n",
       "2013-01-03 -0.188439  1.090964 -0.677291  1.248936"
      ]
     },
     "execution_count": 19,
     "metadata": {},
     "output_type": "execute_result"
    }
   ],
   "source": [
    "df[0:3]"
   ]
  },
  {
   "cell_type": "code",
   "execution_count": 20,
   "metadata": {},
   "outputs": [
    {
     "data": {
      "text/html": [
       "<div>\n",
       "<style>\n",
       "    .dataframe thead tr:only-child th {\n",
       "        text-align: right;\n",
       "    }\n",
       "\n",
       "    .dataframe thead th {\n",
       "        text-align: left;\n",
       "    }\n",
       "\n",
       "    .dataframe tbody tr th {\n",
       "        vertical-align: top;\n",
       "    }\n",
       "</style>\n",
       "<table border=\"1\" class=\"dataframe\">\n",
       "  <thead>\n",
       "    <tr style=\"text-align: right;\">\n",
       "      <th></th>\n",
       "      <th>A</th>\n",
       "      <th>B</th>\n",
       "      <th>C</th>\n",
       "      <th>D</th>\n",
       "    </tr>\n",
       "  </thead>\n",
       "  <tbody>\n",
       "    <tr>\n",
       "      <th>2013-01-02</th>\n",
       "      <td>1.729437</td>\n",
       "      <td>0.631199</td>\n",
       "      <td>-0.677232</td>\n",
       "      <td>-1.225070</td>\n",
       "    </tr>\n",
       "    <tr>\n",
       "      <th>2013-01-03</th>\n",
       "      <td>-0.188439</td>\n",
       "      <td>1.090964</td>\n",
       "      <td>-0.677291</td>\n",
       "      <td>1.248936</td>\n",
       "    </tr>\n",
       "    <tr>\n",
       "      <th>2013-01-04</th>\n",
       "      <td>0.242917</td>\n",
       "      <td>0.807838</td>\n",
       "      <td>-1.511049</td>\n",
       "      <td>0.522782</td>\n",
       "    </tr>\n",
       "  </tbody>\n",
       "</table>\n",
       "</div>"
      ],
      "text/plain": [
       "                   A         B         C         D\n",
       "2013-01-02  1.729437  0.631199 -0.677232 -1.225070\n",
       "2013-01-03 -0.188439  1.090964 -0.677291  1.248936\n",
       "2013-01-04  0.242917  0.807838 -1.511049  0.522782"
      ]
     },
     "execution_count": 20,
     "metadata": {},
     "output_type": "execute_result"
    }
   ],
   "source": [
    "df['20130102':'20130104']"
   ]
  },
  {
   "cell_type": "markdown",
   "metadata": {},
   "source": [
    "### Selection by Label\n",
    "\n",
    "See more in [Selection by Label](https://pandas.pydata.org/pandas-docs/stable/indexing.html#indexing-label)\n",
    "\n",
    "For getting a cross section using a label"
   ]
  },
  {
   "cell_type": "code",
   "execution_count": 21,
   "metadata": {},
   "outputs": [
    {
     "data": {
      "text/plain": [
       "A   -0.141693\n",
       "B    0.316561\n",
       "C    1.011421\n",
       "D    0.919526\n",
       "Name: 2013-01-01 00:00:00, dtype: float64"
      ]
     },
     "execution_count": 21,
     "metadata": {},
     "output_type": "execute_result"
    }
   ],
   "source": [
    "df.loc[dates[0]]"
   ]
  },
  {
   "cell_type": "markdown",
   "metadata": {},
   "source": [
    "Selecting on a multi-axis by label"
   ]
  },
  {
   "cell_type": "code",
   "execution_count": 22,
   "metadata": {},
   "outputs": [
    {
     "data": {
      "text/html": [
       "<div>\n",
       "<style>\n",
       "    .dataframe thead tr:only-child th {\n",
       "        text-align: right;\n",
       "    }\n",
       "\n",
       "    .dataframe thead th {\n",
       "        text-align: left;\n",
       "    }\n",
       "\n",
       "    .dataframe tbody tr th {\n",
       "        vertical-align: top;\n",
       "    }\n",
       "</style>\n",
       "<table border=\"1\" class=\"dataframe\">\n",
       "  <thead>\n",
       "    <tr style=\"text-align: right;\">\n",
       "      <th></th>\n",
       "      <th>A</th>\n",
       "      <th>B</th>\n",
       "    </tr>\n",
       "  </thead>\n",
       "  <tbody>\n",
       "    <tr>\n",
       "      <th>2013-01-01</th>\n",
       "      <td>-0.141693</td>\n",
       "      <td>0.316561</td>\n",
       "    </tr>\n",
       "    <tr>\n",
       "      <th>2013-01-02</th>\n",
       "      <td>1.729437</td>\n",
       "      <td>0.631199</td>\n",
       "    </tr>\n",
       "    <tr>\n",
       "      <th>2013-01-03</th>\n",
       "      <td>-0.188439</td>\n",
       "      <td>1.090964</td>\n",
       "    </tr>\n",
       "    <tr>\n",
       "      <th>2013-01-04</th>\n",
       "      <td>0.242917</td>\n",
       "      <td>0.807838</td>\n",
       "    </tr>\n",
       "    <tr>\n",
       "      <th>2013-01-05</th>\n",
       "      <td>-0.871605</td>\n",
       "      <td>1.290795</td>\n",
       "    </tr>\n",
       "    <tr>\n",
       "      <th>2013-01-06</th>\n",
       "      <td>2.469239</td>\n",
       "      <td>0.525681</td>\n",
       "    </tr>\n",
       "  </tbody>\n",
       "</table>\n",
       "</div>"
      ],
      "text/plain": [
       "                   A         B\n",
       "2013-01-01 -0.141693  0.316561\n",
       "2013-01-02  1.729437  0.631199\n",
       "2013-01-03 -0.188439  1.090964\n",
       "2013-01-04  0.242917  0.807838\n",
       "2013-01-05 -0.871605  1.290795\n",
       "2013-01-06  2.469239  0.525681"
      ]
     },
     "execution_count": 22,
     "metadata": {},
     "output_type": "execute_result"
    }
   ],
   "source": [
    "df.loc[:,['A','B']]"
   ]
  },
  {
   "cell_type": "markdown",
   "metadata": {},
   "source": [
    "Showing label slicing, both endpoints are included"
   ]
  },
  {
   "cell_type": "code",
   "execution_count": 23,
   "metadata": {},
   "outputs": [
    {
     "data": {
      "text/html": [
       "<div>\n",
       "<style>\n",
       "    .dataframe thead tr:only-child th {\n",
       "        text-align: right;\n",
       "    }\n",
       "\n",
       "    .dataframe thead th {\n",
       "        text-align: left;\n",
       "    }\n",
       "\n",
       "    .dataframe tbody tr th {\n",
       "        vertical-align: top;\n",
       "    }\n",
       "</style>\n",
       "<table border=\"1\" class=\"dataframe\">\n",
       "  <thead>\n",
       "    <tr style=\"text-align: right;\">\n",
       "      <th></th>\n",
       "      <th>A</th>\n",
       "      <th>B</th>\n",
       "    </tr>\n",
       "  </thead>\n",
       "  <tbody>\n",
       "    <tr>\n",
       "      <th>2013-01-02</th>\n",
       "      <td>1.729437</td>\n",
       "      <td>0.631199</td>\n",
       "    </tr>\n",
       "    <tr>\n",
       "      <th>2013-01-03</th>\n",
       "      <td>-0.188439</td>\n",
       "      <td>1.090964</td>\n",
       "    </tr>\n",
       "    <tr>\n",
       "      <th>2013-01-04</th>\n",
       "      <td>0.242917</td>\n",
       "      <td>0.807838</td>\n",
       "    </tr>\n",
       "  </tbody>\n",
       "</table>\n",
       "</div>"
      ],
      "text/plain": [
       "                   A         B\n",
       "2013-01-02  1.729437  0.631199\n",
       "2013-01-03 -0.188439  1.090964\n",
       "2013-01-04  0.242917  0.807838"
      ]
     },
     "execution_count": 23,
     "metadata": {},
     "output_type": "execute_result"
    }
   ],
   "source": [
    "df.loc['20130102':'20130104',['A','B']]"
   ]
  },
  {
   "cell_type": "markdown",
   "metadata": {},
   "source": [
    "Reduction in the dimensions of the returned object"
   ]
  },
  {
   "cell_type": "code",
   "execution_count": 24,
   "metadata": {},
   "outputs": [
    {
     "data": {
      "text/plain": [
       "A    1.729437\n",
       "B    0.631199\n",
       "Name: 2013-01-02 00:00:00, dtype: float64"
      ]
     },
     "execution_count": 24,
     "metadata": {},
     "output_type": "execute_result"
    }
   ],
   "source": [
    "df.loc['20130102',['A','B']]"
   ]
  },
  {
   "cell_type": "markdown",
   "metadata": {},
   "source": [
    "For getting a scalar value"
   ]
  },
  {
   "cell_type": "code",
   "execution_count": 25,
   "metadata": {},
   "outputs": [
    {
     "data": {
      "text/plain": [
       "-0.14169315732437648"
      ]
     },
     "execution_count": 25,
     "metadata": {},
     "output_type": "execute_result"
    }
   ],
   "source": [
    "df.loc[dates[0],'A']"
   ]
  },
  {
   "cell_type": "markdown",
   "metadata": {},
   "source": [
    "For getting fast access to a scalar (equiv to the prior method)"
   ]
  },
  {
   "cell_type": "code",
   "execution_count": 26,
   "metadata": {},
   "outputs": [
    {
     "data": {
      "text/plain": [
       "-0.14169315732437648"
      ]
     },
     "execution_count": 26,
     "metadata": {},
     "output_type": "execute_result"
    }
   ],
   "source": [
    "df.at[dates[0],'A']"
   ]
  },
  {
   "cell_type": "markdown",
   "metadata": {},
   "source": [
    "### Selection by Position\n",
    "\n",
    "See more in [Selection by Position](https://pandas.pydata.org/pandas-docs/stable/indexing.html#indexing-integer)\n",
    "\n",
    "Select via the position of the passed integers"
   ]
  },
  {
   "cell_type": "code",
   "execution_count": 27,
   "metadata": {},
   "outputs": [
    {
     "data": {
      "text/plain": [
       "A    0.242917\n",
       "B    0.807838\n",
       "C   -1.511049\n",
       "D    0.522782\n",
       "Name: 2013-01-04 00:00:00, dtype: float64"
      ]
     },
     "execution_count": 27,
     "metadata": {},
     "output_type": "execute_result"
    }
   ],
   "source": [
    "df.iloc[3]"
   ]
  },
  {
   "cell_type": "markdown",
   "metadata": {},
   "source": [
    "By integer slices, acting similar to numpy/python"
   ]
  },
  {
   "cell_type": "code",
   "execution_count": 28,
   "metadata": {},
   "outputs": [
    {
     "data": {
      "text/html": [
       "<div>\n",
       "<style>\n",
       "    .dataframe thead tr:only-child th {\n",
       "        text-align: right;\n",
       "    }\n",
       "\n",
       "    .dataframe thead th {\n",
       "        text-align: left;\n",
       "    }\n",
       "\n",
       "    .dataframe tbody tr th {\n",
       "        vertical-align: top;\n",
       "    }\n",
       "</style>\n",
       "<table border=\"1\" class=\"dataframe\">\n",
       "  <thead>\n",
       "    <tr style=\"text-align: right;\">\n",
       "      <th></th>\n",
       "      <th>A</th>\n",
       "      <th>B</th>\n",
       "    </tr>\n",
       "  </thead>\n",
       "  <tbody>\n",
       "    <tr>\n",
       "      <th>2013-01-04</th>\n",
       "      <td>0.242917</td>\n",
       "      <td>0.807838</td>\n",
       "    </tr>\n",
       "    <tr>\n",
       "      <th>2013-01-05</th>\n",
       "      <td>-0.871605</td>\n",
       "      <td>1.290795</td>\n",
       "    </tr>\n",
       "  </tbody>\n",
       "</table>\n",
       "</div>"
      ],
      "text/plain": [
       "                   A         B\n",
       "2013-01-04  0.242917  0.807838\n",
       "2013-01-05 -0.871605  1.290795"
      ]
     },
     "execution_count": 28,
     "metadata": {},
     "output_type": "execute_result"
    }
   ],
   "source": [
    "df.iloc[3:5,0:2]"
   ]
  },
  {
   "cell_type": "markdown",
   "metadata": {},
   "source": [
    "By lists of integer position locations, similar to the numpy/python style"
   ]
  },
  {
   "cell_type": "code",
   "execution_count": 29,
   "metadata": {},
   "outputs": [
    {
     "data": {
      "text/html": [
       "<div>\n",
       "<style>\n",
       "    .dataframe thead tr:only-child th {\n",
       "        text-align: right;\n",
       "    }\n",
       "\n",
       "    .dataframe thead th {\n",
       "        text-align: left;\n",
       "    }\n",
       "\n",
       "    .dataframe tbody tr th {\n",
       "        vertical-align: top;\n",
       "    }\n",
       "</style>\n",
       "<table border=\"1\" class=\"dataframe\">\n",
       "  <thead>\n",
       "    <tr style=\"text-align: right;\">\n",
       "      <th></th>\n",
       "      <th>A</th>\n",
       "      <th>C</th>\n",
       "    </tr>\n",
       "  </thead>\n",
       "  <tbody>\n",
       "    <tr>\n",
       "      <th>2013-01-02</th>\n",
       "      <td>1.729437</td>\n",
       "      <td>-0.677232</td>\n",
       "    </tr>\n",
       "    <tr>\n",
       "      <th>2013-01-03</th>\n",
       "      <td>-0.188439</td>\n",
       "      <td>-0.677291</td>\n",
       "    </tr>\n",
       "    <tr>\n",
       "      <th>2013-01-05</th>\n",
       "      <td>-0.871605</td>\n",
       "      <td>1.265340</td>\n",
       "    </tr>\n",
       "  </tbody>\n",
       "</table>\n",
       "</div>"
      ],
      "text/plain": [
       "                   A         C\n",
       "2013-01-02  1.729437 -0.677232\n",
       "2013-01-03 -0.188439 -0.677291\n",
       "2013-01-05 -0.871605  1.265340"
      ]
     },
     "execution_count": 29,
     "metadata": {},
     "output_type": "execute_result"
    }
   ],
   "source": [
    "df.iloc[[1,2,4],[0,2]]"
   ]
  },
  {
   "cell_type": "markdown",
   "metadata": {},
   "source": [
    "For slicing rows explicitly"
   ]
  },
  {
   "cell_type": "code",
   "execution_count": 30,
   "metadata": {},
   "outputs": [
    {
     "data": {
      "text/html": [
       "<div>\n",
       "<style>\n",
       "    .dataframe thead tr:only-child th {\n",
       "        text-align: right;\n",
       "    }\n",
       "\n",
       "    .dataframe thead th {\n",
       "        text-align: left;\n",
       "    }\n",
       "\n",
       "    .dataframe tbody tr th {\n",
       "        vertical-align: top;\n",
       "    }\n",
       "</style>\n",
       "<table border=\"1\" class=\"dataframe\">\n",
       "  <thead>\n",
       "    <tr style=\"text-align: right;\">\n",
       "      <th></th>\n",
       "      <th>A</th>\n",
       "      <th>B</th>\n",
       "      <th>C</th>\n",
       "      <th>D</th>\n",
       "    </tr>\n",
       "  </thead>\n",
       "  <tbody>\n",
       "    <tr>\n",
       "      <th>2013-01-02</th>\n",
       "      <td>1.729437</td>\n",
       "      <td>0.631199</td>\n",
       "      <td>-0.677232</td>\n",
       "      <td>-1.225070</td>\n",
       "    </tr>\n",
       "    <tr>\n",
       "      <th>2013-01-03</th>\n",
       "      <td>-0.188439</td>\n",
       "      <td>1.090964</td>\n",
       "      <td>-0.677291</td>\n",
       "      <td>1.248936</td>\n",
       "    </tr>\n",
       "  </tbody>\n",
       "</table>\n",
       "</div>"
      ],
      "text/plain": [
       "                   A         B         C         D\n",
       "2013-01-02  1.729437  0.631199 -0.677232 -1.225070\n",
       "2013-01-03 -0.188439  1.090964 -0.677291  1.248936"
      ]
     },
     "execution_count": 30,
     "metadata": {},
     "output_type": "execute_result"
    }
   ],
   "source": [
    "df.iloc[1:3,:]"
   ]
  },
  {
   "cell_type": "markdown",
   "metadata": {},
   "source": [
    "For slicing columns explicitly"
   ]
  },
  {
   "cell_type": "code",
   "execution_count": 31,
   "metadata": {},
   "outputs": [
    {
     "data": {
      "text/html": [
       "<div>\n",
       "<style>\n",
       "    .dataframe thead tr:only-child th {\n",
       "        text-align: right;\n",
       "    }\n",
       "\n",
       "    .dataframe thead th {\n",
       "        text-align: left;\n",
       "    }\n",
       "\n",
       "    .dataframe tbody tr th {\n",
       "        vertical-align: top;\n",
       "    }\n",
       "</style>\n",
       "<table border=\"1\" class=\"dataframe\">\n",
       "  <thead>\n",
       "    <tr style=\"text-align: right;\">\n",
       "      <th></th>\n",
       "      <th>B</th>\n",
       "      <th>C</th>\n",
       "    </tr>\n",
       "  </thead>\n",
       "  <tbody>\n",
       "    <tr>\n",
       "      <th>2013-01-01</th>\n",
       "      <td>0.316561</td>\n",
       "      <td>1.011421</td>\n",
       "    </tr>\n",
       "    <tr>\n",
       "      <th>2013-01-02</th>\n",
       "      <td>0.631199</td>\n",
       "      <td>-0.677232</td>\n",
       "    </tr>\n",
       "    <tr>\n",
       "      <th>2013-01-03</th>\n",
       "      <td>1.090964</td>\n",
       "      <td>-0.677291</td>\n",
       "    </tr>\n",
       "    <tr>\n",
       "      <th>2013-01-04</th>\n",
       "      <td>0.807838</td>\n",
       "      <td>-1.511049</td>\n",
       "    </tr>\n",
       "    <tr>\n",
       "      <th>2013-01-05</th>\n",
       "      <td>1.290795</td>\n",
       "      <td>1.265340</td>\n",
       "    </tr>\n",
       "    <tr>\n",
       "      <th>2013-01-06</th>\n",
       "      <td>0.525681</td>\n",
       "      <td>1.875456</td>\n",
       "    </tr>\n",
       "  </tbody>\n",
       "</table>\n",
       "</div>"
      ],
      "text/plain": [
       "                   B         C\n",
       "2013-01-01  0.316561  1.011421\n",
       "2013-01-02  0.631199 -0.677232\n",
       "2013-01-03  1.090964 -0.677291\n",
       "2013-01-04  0.807838 -1.511049\n",
       "2013-01-05  1.290795  1.265340\n",
       "2013-01-06  0.525681  1.875456"
      ]
     },
     "execution_count": 31,
     "metadata": {},
     "output_type": "execute_result"
    }
   ],
   "source": [
    "df.iloc[:,1:3]"
   ]
  },
  {
   "cell_type": "markdown",
   "metadata": {},
   "source": [
    "For getting a value explicitly"
   ]
  },
  {
   "cell_type": "code",
   "execution_count": 32,
   "metadata": {},
   "outputs": [
    {
     "data": {
      "text/plain": [
       "0.63119939600189978"
      ]
     },
     "execution_count": 32,
     "metadata": {},
     "output_type": "execute_result"
    }
   ],
   "source": [
    "df.iloc[1,1]"
   ]
  },
  {
   "cell_type": "markdown",
   "metadata": {},
   "source": [
    "For getting fast access to a scalar (equiv to the prior method)"
   ]
  },
  {
   "cell_type": "code",
   "execution_count": 33,
   "metadata": {},
   "outputs": [
    {
     "data": {
      "text/plain": [
       "0.63119939600189978"
      ]
     },
     "execution_count": 33,
     "metadata": {},
     "output_type": "execute_result"
    }
   ],
   "source": [
    "df.iat[1,1]"
   ]
  },
  {
   "cell_type": "markdown",
   "metadata": {},
   "source": [
    "### Boolean Indexing\n",
    "\n",
    "Using a single column’s values to select data."
   ]
  },
  {
   "cell_type": "code",
   "execution_count": 34,
   "metadata": {},
   "outputs": [
    {
     "data": {
      "text/html": [
       "<div>\n",
       "<style>\n",
       "    .dataframe thead tr:only-child th {\n",
       "        text-align: right;\n",
       "    }\n",
       "\n",
       "    .dataframe thead th {\n",
       "        text-align: left;\n",
       "    }\n",
       "\n",
       "    .dataframe tbody tr th {\n",
       "        vertical-align: top;\n",
       "    }\n",
       "</style>\n",
       "<table border=\"1\" class=\"dataframe\">\n",
       "  <thead>\n",
       "    <tr style=\"text-align: right;\">\n",
       "      <th></th>\n",
       "      <th>A</th>\n",
       "      <th>B</th>\n",
       "      <th>C</th>\n",
       "      <th>D</th>\n",
       "    </tr>\n",
       "  </thead>\n",
       "  <tbody>\n",
       "    <tr>\n",
       "      <th>2013-01-02</th>\n",
       "      <td>1.729437</td>\n",
       "      <td>0.631199</td>\n",
       "      <td>-0.677232</td>\n",
       "      <td>-1.225070</td>\n",
       "    </tr>\n",
       "    <tr>\n",
       "      <th>2013-01-04</th>\n",
       "      <td>0.242917</td>\n",
       "      <td>0.807838</td>\n",
       "      <td>-1.511049</td>\n",
       "      <td>0.522782</td>\n",
       "    </tr>\n",
       "    <tr>\n",
       "      <th>2013-01-06</th>\n",
       "      <td>2.469239</td>\n",
       "      <td>0.525681</td>\n",
       "      <td>1.875456</td>\n",
       "      <td>-0.330269</td>\n",
       "    </tr>\n",
       "  </tbody>\n",
       "</table>\n",
       "</div>"
      ],
      "text/plain": [
       "                   A         B         C         D\n",
       "2013-01-02  1.729437  0.631199 -0.677232 -1.225070\n",
       "2013-01-04  0.242917  0.807838 -1.511049  0.522782\n",
       "2013-01-06  2.469239  0.525681  1.875456 -0.330269"
      ]
     },
     "execution_count": 34,
     "metadata": {},
     "output_type": "execute_result"
    }
   ],
   "source": [
    "df[df.A > 0]"
   ]
  },
  {
   "cell_type": "markdown",
   "metadata": {},
   "source": [
    "Selecting values from a DataFrame where a boolean condition is met."
   ]
  },
  {
   "cell_type": "code",
   "execution_count": 35,
   "metadata": {},
   "outputs": [
    {
     "data": {
      "text/html": [
       "<div>\n",
       "<style>\n",
       "    .dataframe thead tr:only-child th {\n",
       "        text-align: right;\n",
       "    }\n",
       "\n",
       "    .dataframe thead th {\n",
       "        text-align: left;\n",
       "    }\n",
       "\n",
       "    .dataframe tbody tr th {\n",
       "        vertical-align: top;\n",
       "    }\n",
       "</style>\n",
       "<table border=\"1\" class=\"dataframe\">\n",
       "  <thead>\n",
       "    <tr style=\"text-align: right;\">\n",
       "      <th></th>\n",
       "      <th>A</th>\n",
       "      <th>B</th>\n",
       "      <th>C</th>\n",
       "      <th>D</th>\n",
       "    </tr>\n",
       "  </thead>\n",
       "  <tbody>\n",
       "    <tr>\n",
       "      <th>2013-01-01</th>\n",
       "      <td>NaN</td>\n",
       "      <td>0.316561</td>\n",
       "      <td>1.011421</td>\n",
       "      <td>0.919526</td>\n",
       "    </tr>\n",
       "    <tr>\n",
       "      <th>2013-01-02</th>\n",
       "      <td>1.729437</td>\n",
       "      <td>0.631199</td>\n",
       "      <td>NaN</td>\n",
       "      <td>NaN</td>\n",
       "    </tr>\n",
       "    <tr>\n",
       "      <th>2013-01-03</th>\n",
       "      <td>NaN</td>\n",
       "      <td>1.090964</td>\n",
       "      <td>NaN</td>\n",
       "      <td>1.248936</td>\n",
       "    </tr>\n",
       "    <tr>\n",
       "      <th>2013-01-04</th>\n",
       "      <td>0.242917</td>\n",
       "      <td>0.807838</td>\n",
       "      <td>NaN</td>\n",
       "      <td>0.522782</td>\n",
       "    </tr>\n",
       "    <tr>\n",
       "      <th>2013-01-05</th>\n",
       "      <td>NaN</td>\n",
       "      <td>1.290795</td>\n",
       "      <td>1.265340</td>\n",
       "      <td>0.568901</td>\n",
       "    </tr>\n",
       "    <tr>\n",
       "      <th>2013-01-06</th>\n",
       "      <td>2.469239</td>\n",
       "      <td>0.525681</td>\n",
       "      <td>1.875456</td>\n",
       "      <td>NaN</td>\n",
       "    </tr>\n",
       "  </tbody>\n",
       "</table>\n",
       "</div>"
      ],
      "text/plain": [
       "                   A         B         C         D\n",
       "2013-01-01       NaN  0.316561  1.011421  0.919526\n",
       "2013-01-02  1.729437  0.631199       NaN       NaN\n",
       "2013-01-03       NaN  1.090964       NaN  1.248936\n",
       "2013-01-04  0.242917  0.807838       NaN  0.522782\n",
       "2013-01-05       NaN  1.290795  1.265340  0.568901\n",
       "2013-01-06  2.469239  0.525681  1.875456       NaN"
      ]
     },
     "execution_count": 35,
     "metadata": {},
     "output_type": "execute_result"
    }
   ],
   "source": [
    "df[df > 0]"
   ]
  },
  {
   "cell_type": "markdown",
   "metadata": {},
   "source": [
    "Using the [isin()](https://pandas.pydata.org/pandas-docs/stable/generated/pandas.Series.isin.html#pandas.Series.isin) method for filtering:"
   ]
  },
  {
   "cell_type": "code",
   "execution_count": 36,
   "metadata": {
    "collapsed": true,
    "jupyter": {
     "outputs_hidden": true
    }
   },
   "outputs": [],
   "source": [
    "df2 = df.copy()"
   ]
  },
  {
   "cell_type": "code",
   "execution_count": 37,
   "metadata": {
    "collapsed": true,
    "jupyter": {
     "outputs_hidden": true
    }
   },
   "outputs": [],
   "source": [
    "df2['E'] = ['one', 'one','two','three','four','three']"
   ]
  },
  {
   "cell_type": "code",
   "execution_count": 38,
   "metadata": {},
   "outputs": [
    {
     "data": {
      "text/html": [
       "<div>\n",
       "<style>\n",
       "    .dataframe thead tr:only-child th {\n",
       "        text-align: right;\n",
       "    }\n",
       "\n",
       "    .dataframe thead th {\n",
       "        text-align: left;\n",
       "    }\n",
       "\n",
       "    .dataframe tbody tr th {\n",
       "        vertical-align: top;\n",
       "    }\n",
       "</style>\n",
       "<table border=\"1\" class=\"dataframe\">\n",
       "  <thead>\n",
       "    <tr style=\"text-align: right;\">\n",
       "      <th></th>\n",
       "      <th>A</th>\n",
       "      <th>B</th>\n",
       "      <th>C</th>\n",
       "      <th>D</th>\n",
       "      <th>E</th>\n",
       "    </tr>\n",
       "  </thead>\n",
       "  <tbody>\n",
       "    <tr>\n",
       "      <th>2013-01-01</th>\n",
       "      <td>-0.141693</td>\n",
       "      <td>0.316561</td>\n",
       "      <td>1.011421</td>\n",
       "      <td>0.919526</td>\n",
       "      <td>one</td>\n",
       "    </tr>\n",
       "    <tr>\n",
       "      <th>2013-01-02</th>\n",
       "      <td>1.729437</td>\n",
       "      <td>0.631199</td>\n",
       "      <td>-0.677232</td>\n",
       "      <td>-1.225070</td>\n",
       "      <td>one</td>\n",
       "    </tr>\n",
       "    <tr>\n",
       "      <th>2013-01-03</th>\n",
       "      <td>-0.188439</td>\n",
       "      <td>1.090964</td>\n",
       "      <td>-0.677291</td>\n",
       "      <td>1.248936</td>\n",
       "      <td>two</td>\n",
       "    </tr>\n",
       "    <tr>\n",
       "      <th>2013-01-04</th>\n",
       "      <td>0.242917</td>\n",
       "      <td>0.807838</td>\n",
       "      <td>-1.511049</td>\n",
       "      <td>0.522782</td>\n",
       "      <td>three</td>\n",
       "    </tr>\n",
       "    <tr>\n",
       "      <th>2013-01-05</th>\n",
       "      <td>-0.871605</td>\n",
       "      <td>1.290795</td>\n",
       "      <td>1.265340</td>\n",
       "      <td>0.568901</td>\n",
       "      <td>four</td>\n",
       "    </tr>\n",
       "    <tr>\n",
       "      <th>2013-01-06</th>\n",
       "      <td>2.469239</td>\n",
       "      <td>0.525681</td>\n",
       "      <td>1.875456</td>\n",
       "      <td>-0.330269</td>\n",
       "      <td>three</td>\n",
       "    </tr>\n",
       "  </tbody>\n",
       "</table>\n",
       "</div>"
      ],
      "text/plain": [
       "                   A         B         C         D      E\n",
       "2013-01-01 -0.141693  0.316561  1.011421  0.919526    one\n",
       "2013-01-02  1.729437  0.631199 -0.677232 -1.225070    one\n",
       "2013-01-03 -0.188439  1.090964 -0.677291  1.248936    two\n",
       "2013-01-04  0.242917  0.807838 -1.511049  0.522782  three\n",
       "2013-01-05 -0.871605  1.290795  1.265340  0.568901   four\n",
       "2013-01-06  2.469239  0.525681  1.875456 -0.330269  three"
      ]
     },
     "execution_count": 38,
     "metadata": {},
     "output_type": "execute_result"
    }
   ],
   "source": [
    "df2"
   ]
  },
  {
   "cell_type": "markdown",
   "metadata": {},
   "source": [
    "### Setting\n",
    "\n",
    "Setting a new column automatically aligns the data by the indexes"
   ]
  },
  {
   "cell_type": "code",
   "execution_count": 39,
   "metadata": {
    "collapsed": true,
    "jupyter": {
     "outputs_hidden": true
    }
   },
   "outputs": [],
   "source": [
    "s1 = pd.Series([1,2,3,4,5,6], index=pd.date_range('20130102', periods=6))"
   ]
  },
  {
   "cell_type": "code",
   "execution_count": 40,
   "metadata": {},
   "outputs": [
    {
     "data": {
      "text/plain": [
       "2013-01-02    1\n",
       "2013-01-03    2\n",
       "2013-01-04    3\n",
       "2013-01-05    4\n",
       "2013-01-06    5\n",
       "2013-01-07    6\n",
       "Freq: D, dtype: int64"
      ]
     },
     "execution_count": 40,
     "metadata": {},
     "output_type": "execute_result"
    }
   ],
   "source": [
    "s1"
   ]
  },
  {
   "cell_type": "markdown",
   "metadata": {},
   "source": [
    "Setting values by label"
   ]
  },
  {
   "cell_type": "code",
   "execution_count": 41,
   "metadata": {
    "collapsed": true,
    "jupyter": {
     "outputs_hidden": true
    }
   },
   "outputs": [],
   "source": [
    "df.at[dates[0],'A'] = 0"
   ]
  },
  {
   "cell_type": "markdown",
   "metadata": {},
   "source": [
    "Setting values by position"
   ]
  },
  {
   "cell_type": "code",
   "execution_count": 42,
   "metadata": {
    "collapsed": true,
    "jupyter": {
     "outputs_hidden": true
    }
   },
   "outputs": [],
   "source": [
    "df.iat[0,1] = 0"
   ]
  },
  {
   "cell_type": "markdown",
   "metadata": {},
   "source": [
    "Setting by assigning with a numpy array"
   ]
  },
  {
   "cell_type": "code",
   "execution_count": 43,
   "metadata": {
    "collapsed": true,
    "jupyter": {
     "outputs_hidden": true
    }
   },
   "outputs": [],
   "source": [
    "df.loc[:,'D'] = np.array([5] * len(df))"
   ]
  },
  {
   "cell_type": "markdown",
   "metadata": {},
   "source": [
    "The result of the prior setting operations"
   ]
  },
  {
   "cell_type": "code",
   "execution_count": 44,
   "metadata": {},
   "outputs": [
    {
     "data": {
      "text/html": [
       "<div>\n",
       "<style>\n",
       "    .dataframe thead tr:only-child th {\n",
       "        text-align: right;\n",
       "    }\n",
       "\n",
       "    .dataframe thead th {\n",
       "        text-align: left;\n",
       "    }\n",
       "\n",
       "    .dataframe tbody tr th {\n",
       "        vertical-align: top;\n",
       "    }\n",
       "</style>\n",
       "<table border=\"1\" class=\"dataframe\">\n",
       "  <thead>\n",
       "    <tr style=\"text-align: right;\">\n",
       "      <th></th>\n",
       "      <th>A</th>\n",
       "      <th>B</th>\n",
       "      <th>C</th>\n",
       "      <th>D</th>\n",
       "    </tr>\n",
       "  </thead>\n",
       "  <tbody>\n",
       "    <tr>\n",
       "      <th>2013-01-01</th>\n",
       "      <td>0.000000</td>\n",
       "      <td>0.000000</td>\n",
       "      <td>1.011421</td>\n",
       "      <td>5</td>\n",
       "    </tr>\n",
       "    <tr>\n",
       "      <th>2013-01-02</th>\n",
       "      <td>1.729437</td>\n",
       "      <td>0.631199</td>\n",
       "      <td>-0.677232</td>\n",
       "      <td>5</td>\n",
       "    </tr>\n",
       "    <tr>\n",
       "      <th>2013-01-03</th>\n",
       "      <td>-0.188439</td>\n",
       "      <td>1.090964</td>\n",
       "      <td>-0.677291</td>\n",
       "      <td>5</td>\n",
       "    </tr>\n",
       "    <tr>\n",
       "      <th>2013-01-04</th>\n",
       "      <td>0.242917</td>\n",
       "      <td>0.807838</td>\n",
       "      <td>-1.511049</td>\n",
       "      <td>5</td>\n",
       "    </tr>\n",
       "    <tr>\n",
       "      <th>2013-01-05</th>\n",
       "      <td>-0.871605</td>\n",
       "      <td>1.290795</td>\n",
       "      <td>1.265340</td>\n",
       "      <td>5</td>\n",
       "    </tr>\n",
       "    <tr>\n",
       "      <th>2013-01-06</th>\n",
       "      <td>2.469239</td>\n",
       "      <td>0.525681</td>\n",
       "      <td>1.875456</td>\n",
       "      <td>5</td>\n",
       "    </tr>\n",
       "  </tbody>\n",
       "</table>\n",
       "</div>"
      ],
      "text/plain": [
       "                   A         B         C  D\n",
       "2013-01-01  0.000000  0.000000  1.011421  5\n",
       "2013-01-02  1.729437  0.631199 -0.677232  5\n",
       "2013-01-03 -0.188439  1.090964 -0.677291  5\n",
       "2013-01-04  0.242917  0.807838 -1.511049  5\n",
       "2013-01-05 -0.871605  1.290795  1.265340  5\n",
       "2013-01-06  2.469239  0.525681  1.875456  5"
      ]
     },
     "execution_count": 44,
     "metadata": {},
     "output_type": "execute_result"
    }
   ],
   "source": [
    "df"
   ]
  },
  {
   "cell_type": "markdown",
   "metadata": {},
   "source": [
    "A where operation with setting."
   ]
  },
  {
   "cell_type": "code",
   "execution_count": 45,
   "metadata": {
    "collapsed": true,
    "jupyter": {
     "outputs_hidden": true
    }
   },
   "outputs": [],
   "source": [
    "df2 = df.copy()"
   ]
  },
  {
   "cell_type": "code",
   "execution_count": 46,
   "metadata": {
    "collapsed": true,
    "jupyter": {
     "outputs_hidden": true
    }
   },
   "outputs": [],
   "source": [
    "df2[df2 > 0] = -df2"
   ]
  },
  {
   "cell_type": "code",
   "execution_count": 47,
   "metadata": {},
   "outputs": [
    {
     "data": {
      "text/html": [
       "<div>\n",
       "<style>\n",
       "    .dataframe thead tr:only-child th {\n",
       "        text-align: right;\n",
       "    }\n",
       "\n",
       "    .dataframe thead th {\n",
       "        text-align: left;\n",
       "    }\n",
       "\n",
       "    .dataframe tbody tr th {\n",
       "        vertical-align: top;\n",
       "    }\n",
       "</style>\n",
       "<table border=\"1\" class=\"dataframe\">\n",
       "  <thead>\n",
       "    <tr style=\"text-align: right;\">\n",
       "      <th></th>\n",
       "      <th>A</th>\n",
       "      <th>B</th>\n",
       "      <th>C</th>\n",
       "      <th>D</th>\n",
       "    </tr>\n",
       "  </thead>\n",
       "  <tbody>\n",
       "    <tr>\n",
       "      <th>2013-01-01</th>\n",
       "      <td>0.000000</td>\n",
       "      <td>0.000000</td>\n",
       "      <td>-1.011421</td>\n",
       "      <td>-5</td>\n",
       "    </tr>\n",
       "    <tr>\n",
       "      <th>2013-01-02</th>\n",
       "      <td>-1.729437</td>\n",
       "      <td>-0.631199</td>\n",
       "      <td>-0.677232</td>\n",
       "      <td>-5</td>\n",
       "    </tr>\n",
       "    <tr>\n",
       "      <th>2013-01-03</th>\n",
       "      <td>-0.188439</td>\n",
       "      <td>-1.090964</td>\n",
       "      <td>-0.677291</td>\n",
       "      <td>-5</td>\n",
       "    </tr>\n",
       "    <tr>\n",
       "      <th>2013-01-04</th>\n",
       "      <td>-0.242917</td>\n",
       "      <td>-0.807838</td>\n",
       "      <td>-1.511049</td>\n",
       "      <td>-5</td>\n",
       "    </tr>\n",
       "    <tr>\n",
       "      <th>2013-01-05</th>\n",
       "      <td>-0.871605</td>\n",
       "      <td>-1.290795</td>\n",
       "      <td>-1.265340</td>\n",
       "      <td>-5</td>\n",
       "    </tr>\n",
       "    <tr>\n",
       "      <th>2013-01-06</th>\n",
       "      <td>-2.469239</td>\n",
       "      <td>-0.525681</td>\n",
       "      <td>-1.875456</td>\n",
       "      <td>-5</td>\n",
       "    </tr>\n",
       "  </tbody>\n",
       "</table>\n",
       "</div>"
      ],
      "text/plain": [
       "                   A         B         C  D\n",
       "2013-01-01  0.000000  0.000000 -1.011421 -5\n",
       "2013-01-02 -1.729437 -0.631199 -0.677232 -5\n",
       "2013-01-03 -0.188439 -1.090964 -0.677291 -5\n",
       "2013-01-04 -0.242917 -0.807838 -1.511049 -5\n",
       "2013-01-05 -0.871605 -1.290795 -1.265340 -5\n",
       "2013-01-06 -2.469239 -0.525681 -1.875456 -5"
      ]
     },
     "execution_count": 47,
     "metadata": {},
     "output_type": "execute_result"
    }
   ],
   "source": [
    "df2"
   ]
  },
  {
   "cell_type": "markdown",
   "metadata": {},
   "source": [
    "### Missing Data\n",
    "\n",
    "pandas primarily uses the value np.nan to represent missing data. It is by default not included in computations. See the [Missing Data section](https://pandas.pydata.org/pandas-docs/stable/missing_data.html#missing-data).\n",
    "\n",
    "Reindexing allows you to change/add/delete the index on a specified axis. This returns a copy of the data."
   ]
  },
  {
   "cell_type": "code",
   "execution_count": 48,
   "metadata": {
    "collapsed": true,
    "jupyter": {
     "outputs_hidden": true
    }
   },
   "outputs": [],
   "source": [
    "df1 = df.reindex(index=dates[0:4], columns=list(df.columns) + ['E'])"
   ]
  },
  {
   "cell_type": "code",
   "execution_count": 49,
   "metadata": {
    "collapsed": true,
    "jupyter": {
     "outputs_hidden": true
    }
   },
   "outputs": [],
   "source": [
    "df1.loc[dates[0]:dates[1],'E'] = 1"
   ]
  },
  {
   "cell_type": "code",
   "execution_count": 50,
   "metadata": {},
   "outputs": [
    {
     "data": {
      "text/html": [
       "<div>\n",
       "<style>\n",
       "    .dataframe thead tr:only-child th {\n",
       "        text-align: right;\n",
       "    }\n",
       "\n",
       "    .dataframe thead th {\n",
       "        text-align: left;\n",
       "    }\n",
       "\n",
       "    .dataframe tbody tr th {\n",
       "        vertical-align: top;\n",
       "    }\n",
       "</style>\n",
       "<table border=\"1\" class=\"dataframe\">\n",
       "  <thead>\n",
       "    <tr style=\"text-align: right;\">\n",
       "      <th></th>\n",
       "      <th>A</th>\n",
       "      <th>B</th>\n",
       "      <th>C</th>\n",
       "      <th>D</th>\n",
       "      <th>E</th>\n",
       "    </tr>\n",
       "  </thead>\n",
       "  <tbody>\n",
       "    <tr>\n",
       "      <th>2013-01-01</th>\n",
       "      <td>0.000000</td>\n",
       "      <td>0.000000</td>\n",
       "      <td>1.011421</td>\n",
       "      <td>5</td>\n",
       "      <td>1.0</td>\n",
       "    </tr>\n",
       "    <tr>\n",
       "      <th>2013-01-02</th>\n",
       "      <td>1.729437</td>\n",
       "      <td>0.631199</td>\n",
       "      <td>-0.677232</td>\n",
       "      <td>5</td>\n",
       "      <td>1.0</td>\n",
       "    </tr>\n",
       "    <tr>\n",
       "      <th>2013-01-03</th>\n",
       "      <td>-0.188439</td>\n",
       "      <td>1.090964</td>\n",
       "      <td>-0.677291</td>\n",
       "      <td>5</td>\n",
       "      <td>NaN</td>\n",
       "    </tr>\n",
       "    <tr>\n",
       "      <th>2013-01-04</th>\n",
       "      <td>0.242917</td>\n",
       "      <td>0.807838</td>\n",
       "      <td>-1.511049</td>\n",
       "      <td>5</td>\n",
       "      <td>NaN</td>\n",
       "    </tr>\n",
       "  </tbody>\n",
       "</table>\n",
       "</div>"
      ],
      "text/plain": [
       "                   A         B         C  D    E\n",
       "2013-01-01  0.000000  0.000000  1.011421  5  1.0\n",
       "2013-01-02  1.729437  0.631199 -0.677232  5  1.0\n",
       "2013-01-03 -0.188439  1.090964 -0.677291  5  NaN\n",
       "2013-01-04  0.242917  0.807838 -1.511049  5  NaN"
      ]
     },
     "execution_count": 50,
     "metadata": {},
     "output_type": "execute_result"
    }
   ],
   "source": [
    "df1"
   ]
  },
  {
   "cell_type": "markdown",
   "metadata": {},
   "source": [
    "To drop any rows that have missing data."
   ]
  },
  {
   "cell_type": "code",
   "execution_count": 51,
   "metadata": {},
   "outputs": [
    {
     "data": {
      "text/html": [
       "<div>\n",
       "<style>\n",
       "    .dataframe thead tr:only-child th {\n",
       "        text-align: right;\n",
       "    }\n",
       "\n",
       "    .dataframe thead th {\n",
       "        text-align: left;\n",
       "    }\n",
       "\n",
       "    .dataframe tbody tr th {\n",
       "        vertical-align: top;\n",
       "    }\n",
       "</style>\n",
       "<table border=\"1\" class=\"dataframe\">\n",
       "  <thead>\n",
       "    <tr style=\"text-align: right;\">\n",
       "      <th></th>\n",
       "      <th>A</th>\n",
       "      <th>B</th>\n",
       "      <th>C</th>\n",
       "      <th>D</th>\n",
       "      <th>E</th>\n",
       "    </tr>\n",
       "  </thead>\n",
       "  <tbody>\n",
       "    <tr>\n",
       "      <th>2013-01-01</th>\n",
       "      <td>0.000000</td>\n",
       "      <td>0.000000</td>\n",
       "      <td>1.011421</td>\n",
       "      <td>5</td>\n",
       "      <td>1.0</td>\n",
       "    </tr>\n",
       "    <tr>\n",
       "      <th>2013-01-02</th>\n",
       "      <td>1.729437</td>\n",
       "      <td>0.631199</td>\n",
       "      <td>-0.677232</td>\n",
       "      <td>5</td>\n",
       "      <td>1.0</td>\n",
       "    </tr>\n",
       "  </tbody>\n",
       "</table>\n",
       "</div>"
      ],
      "text/plain": [
       "                   A         B         C  D    E\n",
       "2013-01-01  0.000000  0.000000  1.011421  5  1.0\n",
       "2013-01-02  1.729437  0.631199 -0.677232  5  1.0"
      ]
     },
     "execution_count": 51,
     "metadata": {},
     "output_type": "execute_result"
    }
   ],
   "source": [
    "df1.dropna(how='any')"
   ]
  },
  {
   "cell_type": "markdown",
   "metadata": {},
   "source": [
    "Filling missing data"
   ]
  },
  {
   "cell_type": "code",
   "execution_count": 52,
   "metadata": {},
   "outputs": [
    {
     "data": {
      "text/html": [
       "<div>\n",
       "<style>\n",
       "    .dataframe thead tr:only-child th {\n",
       "        text-align: right;\n",
       "    }\n",
       "\n",
       "    .dataframe thead th {\n",
       "        text-align: left;\n",
       "    }\n",
       "\n",
       "    .dataframe tbody tr th {\n",
       "        vertical-align: top;\n",
       "    }\n",
       "</style>\n",
       "<table border=\"1\" class=\"dataframe\">\n",
       "  <thead>\n",
       "    <tr style=\"text-align: right;\">\n",
       "      <th></th>\n",
       "      <th>A</th>\n",
       "      <th>B</th>\n",
       "      <th>C</th>\n",
       "      <th>D</th>\n",
       "      <th>E</th>\n",
       "    </tr>\n",
       "  </thead>\n",
       "  <tbody>\n",
       "    <tr>\n",
       "      <th>2013-01-01</th>\n",
       "      <td>0.000000</td>\n",
       "      <td>0.000000</td>\n",
       "      <td>1.011421</td>\n",
       "      <td>5</td>\n",
       "      <td>1.0</td>\n",
       "    </tr>\n",
       "    <tr>\n",
       "      <th>2013-01-02</th>\n",
       "      <td>1.729437</td>\n",
       "      <td>0.631199</td>\n",
       "      <td>-0.677232</td>\n",
       "      <td>5</td>\n",
       "      <td>1.0</td>\n",
       "    </tr>\n",
       "    <tr>\n",
       "      <th>2013-01-03</th>\n",
       "      <td>-0.188439</td>\n",
       "      <td>1.090964</td>\n",
       "      <td>-0.677291</td>\n",
       "      <td>5</td>\n",
       "      <td>5.0</td>\n",
       "    </tr>\n",
       "    <tr>\n",
       "      <th>2013-01-04</th>\n",
       "      <td>0.242917</td>\n",
       "      <td>0.807838</td>\n",
       "      <td>-1.511049</td>\n",
       "      <td>5</td>\n",
       "      <td>5.0</td>\n",
       "    </tr>\n",
       "  </tbody>\n",
       "</table>\n",
       "</div>"
      ],
      "text/plain": [
       "                   A         B         C  D    E\n",
       "2013-01-01  0.000000  0.000000  1.011421  5  1.0\n",
       "2013-01-02  1.729437  0.631199 -0.677232  5  1.0\n",
       "2013-01-03 -0.188439  1.090964 -0.677291  5  5.0\n",
       "2013-01-04  0.242917  0.807838 -1.511049  5  5.0"
      ]
     },
     "execution_count": 52,
     "metadata": {},
     "output_type": "execute_result"
    }
   ],
   "source": [
    "df1.fillna(value=5)"
   ]
  },
  {
   "cell_type": "markdown",
   "metadata": {},
   "source": [
    "To get the boolean mask where values are _nan_"
   ]
  },
  {
   "cell_type": "code",
   "execution_count": 53,
   "metadata": {},
   "outputs": [
    {
     "data": {
      "text/html": [
       "<div>\n",
       "<style>\n",
       "    .dataframe thead tr:only-child th {\n",
       "        text-align: right;\n",
       "    }\n",
       "\n",
       "    .dataframe thead th {\n",
       "        text-align: left;\n",
       "    }\n",
       "\n",
       "    .dataframe tbody tr th {\n",
       "        vertical-align: top;\n",
       "    }\n",
       "</style>\n",
       "<table border=\"1\" class=\"dataframe\">\n",
       "  <thead>\n",
       "    <tr style=\"text-align: right;\">\n",
       "      <th></th>\n",
       "      <th>A</th>\n",
       "      <th>B</th>\n",
       "      <th>C</th>\n",
       "      <th>D</th>\n",
       "      <th>E</th>\n",
       "    </tr>\n",
       "  </thead>\n",
       "  <tbody>\n",
       "    <tr>\n",
       "      <th>2013-01-01</th>\n",
       "      <td>False</td>\n",
       "      <td>False</td>\n",
       "      <td>False</td>\n",
       "      <td>False</td>\n",
       "      <td>False</td>\n",
       "    </tr>\n",
       "    <tr>\n",
       "      <th>2013-01-02</th>\n",
       "      <td>False</td>\n",
       "      <td>False</td>\n",
       "      <td>False</td>\n",
       "      <td>False</td>\n",
       "      <td>False</td>\n",
       "    </tr>\n",
       "    <tr>\n",
       "      <th>2013-01-03</th>\n",
       "      <td>False</td>\n",
       "      <td>False</td>\n",
       "      <td>False</td>\n",
       "      <td>False</td>\n",
       "      <td>True</td>\n",
       "    </tr>\n",
       "    <tr>\n",
       "      <th>2013-01-04</th>\n",
       "      <td>False</td>\n",
       "      <td>False</td>\n",
       "      <td>False</td>\n",
       "      <td>False</td>\n",
       "      <td>True</td>\n",
       "    </tr>\n",
       "  </tbody>\n",
       "</table>\n",
       "</div>"
      ],
      "text/plain": [
       "                A      B      C      D      E\n",
       "2013-01-01  False  False  False  False  False\n",
       "2013-01-02  False  False  False  False  False\n",
       "2013-01-03  False  False  False  False   True\n",
       "2013-01-04  False  False  False  False   True"
      ]
     },
     "execution_count": 53,
     "metadata": {},
     "output_type": "execute_result"
    }
   ],
   "source": [
    "pd.isnull(df1)"
   ]
  },
  {
   "cell_type": "markdown",
   "metadata": {},
   "source": [
    "## Operations\n",
    "\n",
    "See the [Basic section on Binary Ops](https://pandas.pydata.org/pandas-docs/stable/basics.html#basics-binop)\n",
    "\n",
    "### Stats\n",
    "\n",
    "Operations in general exclude missing data.\n",
    "\n",
    "Performing a descriptive statistic"
   ]
  },
  {
   "cell_type": "code",
   "execution_count": 54,
   "metadata": {},
   "outputs": [
    {
     "data": {
      "text/plain": [
       "A    0.563591\n",
       "B    0.724413\n",
       "C    0.214441\n",
       "D    5.000000\n",
       "dtype: float64"
      ]
     },
     "execution_count": 54,
     "metadata": {},
     "output_type": "execute_result"
    }
   ],
   "source": [
    "df.mean()"
   ]
  },
  {
   "cell_type": "markdown",
   "metadata": {},
   "source": [
    "Same operation on the other axis"
   ]
  },
  {
   "cell_type": "code",
   "execution_count": 55,
   "metadata": {},
   "outputs": [
    {
     "data": {
      "text/plain": [
       "2013-01-01    1.502855\n",
       "2013-01-02    1.670851\n",
       "2013-01-03    1.306308\n",
       "2013-01-04    1.134927\n",
       "2013-01-05    1.671132\n",
       "2013-01-06    2.467594\n",
       "Freq: D, dtype: float64"
      ]
     },
     "execution_count": 55,
     "metadata": {},
     "output_type": "execute_result"
    }
   ],
   "source": [
    "df.mean(1)"
   ]
  },
  {
   "cell_type": "markdown",
   "metadata": {},
   "source": [
    "Operating with objects that have different dimensionality and need alignment. In addition, pandas automatically broadcasts along the specified dimension."
   ]
  },
  {
   "cell_type": "code",
   "execution_count": 56,
   "metadata": {
    "collapsed": true,
    "jupyter": {
     "outputs_hidden": true
    }
   },
   "outputs": [],
   "source": [
    "s = pd.Series([1,3,5,np.nan,6,8], index=dates).shift(2)"
   ]
  },
  {
   "cell_type": "code",
   "execution_count": 57,
   "metadata": {},
   "outputs": [
    {
     "data": {
      "text/plain": [
       "2013-01-01    NaN\n",
       "2013-01-02    NaN\n",
       "2013-01-03    1.0\n",
       "2013-01-04    3.0\n",
       "2013-01-05    5.0\n",
       "2013-01-06    NaN\n",
       "Freq: D, dtype: float64"
      ]
     },
     "execution_count": 57,
     "metadata": {},
     "output_type": "execute_result"
    }
   ],
   "source": [
    "s"
   ]
  },
  {
   "cell_type": "code",
   "execution_count": 58,
   "metadata": {},
   "outputs": [
    {
     "data": {
      "text/html": [
       "<div>\n",
       "<style>\n",
       "    .dataframe thead tr:only-child th {\n",
       "        text-align: right;\n",
       "    }\n",
       "\n",
       "    .dataframe thead th {\n",
       "        text-align: left;\n",
       "    }\n",
       "\n",
       "    .dataframe tbody tr th {\n",
       "        vertical-align: top;\n",
       "    }\n",
       "</style>\n",
       "<table border=\"1\" class=\"dataframe\">\n",
       "  <thead>\n",
       "    <tr style=\"text-align: right;\">\n",
       "      <th></th>\n",
       "      <th>A</th>\n",
       "      <th>B</th>\n",
       "      <th>C</th>\n",
       "      <th>D</th>\n",
       "    </tr>\n",
       "  </thead>\n",
       "  <tbody>\n",
       "    <tr>\n",
       "      <th>2013-01-01</th>\n",
       "      <td>NaN</td>\n",
       "      <td>NaN</td>\n",
       "      <td>NaN</td>\n",
       "      <td>NaN</td>\n",
       "    </tr>\n",
       "    <tr>\n",
       "      <th>2013-01-02</th>\n",
       "      <td>NaN</td>\n",
       "      <td>NaN</td>\n",
       "      <td>NaN</td>\n",
       "      <td>NaN</td>\n",
       "    </tr>\n",
       "    <tr>\n",
       "      <th>2013-01-03</th>\n",
       "      <td>-1.188439</td>\n",
       "      <td>0.090964</td>\n",
       "      <td>-1.677291</td>\n",
       "      <td>4.0</td>\n",
       "    </tr>\n",
       "    <tr>\n",
       "      <th>2013-01-04</th>\n",
       "      <td>-2.757083</td>\n",
       "      <td>-2.192162</td>\n",
       "      <td>-4.511049</td>\n",
       "      <td>2.0</td>\n",
       "    </tr>\n",
       "    <tr>\n",
       "      <th>2013-01-05</th>\n",
       "      <td>-5.871605</td>\n",
       "      <td>-3.709205</td>\n",
       "      <td>-3.734660</td>\n",
       "      <td>0.0</td>\n",
       "    </tr>\n",
       "    <tr>\n",
       "      <th>2013-01-06</th>\n",
       "      <td>NaN</td>\n",
       "      <td>NaN</td>\n",
       "      <td>NaN</td>\n",
       "      <td>NaN</td>\n",
       "    </tr>\n",
       "  </tbody>\n",
       "</table>\n",
       "</div>"
      ],
      "text/plain": [
       "                   A         B         C    D\n",
       "2013-01-01       NaN       NaN       NaN  NaN\n",
       "2013-01-02       NaN       NaN       NaN  NaN\n",
       "2013-01-03 -1.188439  0.090964 -1.677291  4.0\n",
       "2013-01-04 -2.757083 -2.192162 -4.511049  2.0\n",
       "2013-01-05 -5.871605 -3.709205 -3.734660  0.0\n",
       "2013-01-06       NaN       NaN       NaN  NaN"
      ]
     },
     "execution_count": 58,
     "metadata": {},
     "output_type": "execute_result"
    }
   ],
   "source": [
    "df.sub(s, axis='index')"
   ]
  },
  {
   "cell_type": "markdown",
   "metadata": {},
   "source": [
    "### Apply\n",
    "\n",
    "Applying functions to the data"
   ]
  },
  {
   "cell_type": "code",
   "execution_count": 59,
   "metadata": {},
   "outputs": [
    {
     "data": {
      "text/html": [
       "<div>\n",
       "<style>\n",
       "    .dataframe thead tr:only-child th {\n",
       "        text-align: right;\n",
       "    }\n",
       "\n",
       "    .dataframe thead th {\n",
       "        text-align: left;\n",
       "    }\n",
       "\n",
       "    .dataframe tbody tr th {\n",
       "        vertical-align: top;\n",
       "    }\n",
       "</style>\n",
       "<table border=\"1\" class=\"dataframe\">\n",
       "  <thead>\n",
       "    <tr style=\"text-align: right;\">\n",
       "      <th></th>\n",
       "      <th>A</th>\n",
       "      <th>B</th>\n",
       "      <th>C</th>\n",
       "      <th>D</th>\n",
       "    </tr>\n",
       "  </thead>\n",
       "  <tbody>\n",
       "    <tr>\n",
       "      <th>2013-01-01</th>\n",
       "      <td>0.000000</td>\n",
       "      <td>0.000000</td>\n",
       "      <td>1.011421</td>\n",
       "      <td>5</td>\n",
       "    </tr>\n",
       "    <tr>\n",
       "      <th>2013-01-02</th>\n",
       "      <td>1.729437</td>\n",
       "      <td>0.631199</td>\n",
       "      <td>0.334189</td>\n",
       "      <td>10</td>\n",
       "    </tr>\n",
       "    <tr>\n",
       "      <th>2013-01-03</th>\n",
       "      <td>1.540997</td>\n",
       "      <td>1.722163</td>\n",
       "      <td>-0.343102</td>\n",
       "      <td>15</td>\n",
       "    </tr>\n",
       "    <tr>\n",
       "      <th>2013-01-04</th>\n",
       "      <td>1.783914</td>\n",
       "      <td>2.530001</td>\n",
       "      <td>-1.854150</td>\n",
       "      <td>20</td>\n",
       "    </tr>\n",
       "    <tr>\n",
       "      <th>2013-01-05</th>\n",
       "      <td>0.912309</td>\n",
       "      <td>3.820797</td>\n",
       "      <td>-0.588810</td>\n",
       "      <td>25</td>\n",
       "    </tr>\n",
       "    <tr>\n",
       "      <th>2013-01-06</th>\n",
       "      <td>3.381548</td>\n",
       "      <td>4.346478</td>\n",
       "      <td>1.286645</td>\n",
       "      <td>30</td>\n",
       "    </tr>\n",
       "  </tbody>\n",
       "</table>\n",
       "</div>"
      ],
      "text/plain": [
       "                   A         B         C   D\n",
       "2013-01-01  0.000000  0.000000  1.011421   5\n",
       "2013-01-02  1.729437  0.631199  0.334189  10\n",
       "2013-01-03  1.540997  1.722163 -0.343102  15\n",
       "2013-01-04  1.783914  2.530001 -1.854150  20\n",
       "2013-01-05  0.912309  3.820797 -0.588810  25\n",
       "2013-01-06  3.381548  4.346478  1.286645  30"
      ]
     },
     "execution_count": 59,
     "metadata": {},
     "output_type": "execute_result"
    }
   ],
   "source": [
    "df.apply(np.cumsum)"
   ]
  },
  {
   "cell_type": "code",
   "execution_count": 60,
   "metadata": {},
   "outputs": [
    {
     "data": {
      "text/plain": [
       "A    3.340845\n",
       "B    1.290795\n",
       "C    3.386504\n",
       "D    0.000000\n",
       "dtype: float64"
      ]
     },
     "execution_count": 60,
     "metadata": {},
     "output_type": "execute_result"
    }
   ],
   "source": [
    "df.apply(lambda x: x.max() - x.min())"
   ]
  },
  {
   "cell_type": "markdown",
   "metadata": {},
   "source": [
    "### Histogramming\n",
    "\n",
    "See more at [Histogramming and Discretization](https://pandas.pydata.org/pandas-docs/stable/basics.html#basics-discretization)"
   ]
  },
  {
   "cell_type": "code",
   "execution_count": 61,
   "metadata": {
    "collapsed": true,
    "jupyter": {
     "outputs_hidden": true
    }
   },
   "outputs": [],
   "source": [
    "s = pd.Series(np.random.randint(0, 7, size=10))"
   ]
  },
  {
   "cell_type": "code",
   "execution_count": 62,
   "metadata": {},
   "outputs": [
    {
     "data": {
      "text/plain": [
       "0    0\n",
       "1    4\n",
       "2    5\n",
       "3    3\n",
       "4    5\n",
       "5    4\n",
       "6    3\n",
       "7    0\n",
       "8    5\n",
       "9    4\n",
       "dtype: int64"
      ]
     },
     "execution_count": 62,
     "metadata": {},
     "output_type": "execute_result"
    }
   ],
   "source": [
    "s"
   ]
  },
  {
   "cell_type": "code",
   "execution_count": 63,
   "metadata": {},
   "outputs": [
    {
     "data": {
      "text/plain": [
       "5    3\n",
       "4    3\n",
       "3    2\n",
       "0    2\n",
       "dtype: int64"
      ]
     },
     "execution_count": 63,
     "metadata": {},
     "output_type": "execute_result"
    }
   ],
   "source": [
    "s.value_counts()"
   ]
  },
  {
   "cell_type": "markdown",
   "metadata": {},
   "source": [
    "### String Methods\n",
    "\n",
    "Series is equipped with a set of string processing methods in the str attribute that make it easy to operate on each element of the array, as in the code snippet below. Note that pattern-matching in str generally uses [regular expressions](https://docs.python.org/2/library/re.html) by default (and in some cases always uses them). See more at [Vectorized String Methods](https://pandas.pydata.org/pandas-docs/stable/text.html#text-string-methods)."
   ]
  },
  {
   "cell_type": "code",
   "execution_count": 64,
   "metadata": {
    "collapsed": true,
    "jupyter": {
     "outputs_hidden": true
    }
   },
   "outputs": [],
   "source": [
    "s = pd.Series(['A', 'B', 'C', 'Aaba', 'Baca', np.nan, 'CABA', 'dog', 'cat'])"
   ]
  },
  {
   "cell_type": "code",
   "execution_count": 65,
   "metadata": {},
   "outputs": [
    {
     "data": {
      "text/plain": [
       "0       a\n",
       "1       b\n",
       "2       c\n",
       "3    aaba\n",
       "4    baca\n",
       "5     NaN\n",
       "6    caba\n",
       "7     dog\n",
       "8     cat\n",
       "dtype: object"
      ]
     },
     "execution_count": 65,
     "metadata": {},
     "output_type": "execute_result"
    }
   ],
   "source": [
    "s.str.lower()"
   ]
  },
  {
   "cell_type": "markdown",
   "metadata": {},
   "source": [
    "## Merge\n",
    "### Concat\n",
    "pandas provides various facilities for easily combining together Series, DataFrame, and Panel objects with various kinds of set logic for the indexes and relational algebra functionality in the case of join / merge-type operations.\n",
    "\n",
    "See the [Merging section](https://pandas.pydata.org/pandas-docs/stable/merging.html#merging)\n",
    "\n",
    "Concatenating pandas objects together with [concat()](https://pandas.pydata.org/pandas-docs/stable/generated/pandas.concat.html#pandas.concat):"
   ]
  },
  {
   "cell_type": "code",
   "execution_count": 66,
   "metadata": {
    "collapsed": true,
    "jupyter": {
     "outputs_hidden": true
    }
   },
   "outputs": [],
   "source": [
    "df = pd.DataFrame(np.random.randn(10, 4))"
   ]
  },
  {
   "cell_type": "code",
   "execution_count": 67,
   "metadata": {},
   "outputs": [
    {
     "data": {
      "text/html": [
       "<div>\n",
       "<style>\n",
       "    .dataframe thead tr:only-child th {\n",
       "        text-align: right;\n",
       "    }\n",
       "\n",
       "    .dataframe thead th {\n",
       "        text-align: left;\n",
       "    }\n",
       "\n",
       "    .dataframe tbody tr th {\n",
       "        vertical-align: top;\n",
       "    }\n",
       "</style>\n",
       "<table border=\"1\" class=\"dataframe\">\n",
       "  <thead>\n",
       "    <tr style=\"text-align: right;\">\n",
       "      <th></th>\n",
       "      <th>0</th>\n",
       "      <th>1</th>\n",
       "      <th>2</th>\n",
       "      <th>3</th>\n",
       "    </tr>\n",
       "  </thead>\n",
       "  <tbody>\n",
       "    <tr>\n",
       "      <th>0</th>\n",
       "      <td>-0.256426</td>\n",
       "      <td>-0.601825</td>\n",
       "      <td>-0.898360</td>\n",
       "      <td>-0.444584</td>\n",
       "    </tr>\n",
       "    <tr>\n",
       "      <th>1</th>\n",
       "      <td>0.947158</td>\n",
       "      <td>-1.615977</td>\n",
       "      <td>-0.671814</td>\n",
       "      <td>0.856138</td>\n",
       "    </tr>\n",
       "    <tr>\n",
       "      <th>2</th>\n",
       "      <td>0.036879</td>\n",
       "      <td>-0.194187</td>\n",
       "      <td>-1.313732</td>\n",
       "      <td>-0.660862</td>\n",
       "    </tr>\n",
       "    <tr>\n",
       "      <th>3</th>\n",
       "      <td>0.905323</td>\n",
       "      <td>0.730273</td>\n",
       "      <td>-0.848413</td>\n",
       "      <td>1.855435</td>\n",
       "    </tr>\n",
       "    <tr>\n",
       "      <th>4</th>\n",
       "      <td>-1.194743</td>\n",
       "      <td>-0.174880</td>\n",
       "      <td>0.356789</td>\n",
       "      <td>-1.093845</td>\n",
       "    </tr>\n",
       "    <tr>\n",
       "      <th>5</th>\n",
       "      <td>-0.027028</td>\n",
       "      <td>-0.462397</td>\n",
       "      <td>1.082820</td>\n",
       "      <td>0.966843</td>\n",
       "    </tr>\n",
       "    <tr>\n",
       "      <th>6</th>\n",
       "      <td>0.533204</td>\n",
       "      <td>-0.681934</td>\n",
       "      <td>0.579695</td>\n",
       "      <td>1.858110</td>\n",
       "    </tr>\n",
       "    <tr>\n",
       "      <th>7</th>\n",
       "      <td>-0.554487</td>\n",
       "      <td>-2.095172</td>\n",
       "      <td>-0.575770</td>\n",
       "      <td>1.039312</td>\n",
       "    </tr>\n",
       "    <tr>\n",
       "      <th>8</th>\n",
       "      <td>-0.892002</td>\n",
       "      <td>0.669183</td>\n",
       "      <td>-0.514123</td>\n",
       "      <td>1.044262</td>\n",
       "    </tr>\n",
       "    <tr>\n",
       "      <th>9</th>\n",
       "      <td>0.167296</td>\n",
       "      <td>-2.147881</td>\n",
       "      <td>-1.782509</td>\n",
       "      <td>-1.854925</td>\n",
       "    </tr>\n",
       "  </tbody>\n",
       "</table>\n",
       "</div>"
      ],
      "text/plain": [
       "          0         1         2         3\n",
       "0 -0.256426 -0.601825 -0.898360 -0.444584\n",
       "1  0.947158 -1.615977 -0.671814  0.856138\n",
       "2  0.036879 -0.194187 -1.313732 -0.660862\n",
       "3  0.905323  0.730273 -0.848413  1.855435\n",
       "4 -1.194743 -0.174880  0.356789 -1.093845\n",
       "5 -0.027028 -0.462397  1.082820  0.966843\n",
       "6  0.533204 -0.681934  0.579695  1.858110\n",
       "7 -0.554487 -2.095172 -0.575770  1.039312\n",
       "8 -0.892002  0.669183 -0.514123  1.044262\n",
       "9  0.167296 -2.147881 -1.782509 -1.854925"
      ]
     },
     "execution_count": 67,
     "metadata": {},
     "output_type": "execute_result"
    }
   ],
   "source": [
    "df"
   ]
  },
  {
   "cell_type": "code",
   "execution_count": 68,
   "metadata": {
    "collapsed": true,
    "jupyter": {
     "outputs_hidden": true
    }
   },
   "outputs": [],
   "source": [
    "pieces = [df[:3], df[3:7], df[7:]]"
   ]
  },
  {
   "cell_type": "code",
   "execution_count": 69,
   "metadata": {},
   "outputs": [
    {
     "data": {
      "text/html": [
       "<div>\n",
       "<style>\n",
       "    .dataframe thead tr:only-child th {\n",
       "        text-align: right;\n",
       "    }\n",
       "\n",
       "    .dataframe thead th {\n",
       "        text-align: left;\n",
       "    }\n",
       "\n",
       "    .dataframe tbody tr th {\n",
       "        vertical-align: top;\n",
       "    }\n",
       "</style>\n",
       "<table border=\"1\" class=\"dataframe\">\n",
       "  <thead>\n",
       "    <tr style=\"text-align: right;\">\n",
       "      <th></th>\n",
       "      <th>0</th>\n",
       "      <th>1</th>\n",
       "      <th>2</th>\n",
       "      <th>3</th>\n",
       "    </tr>\n",
       "  </thead>\n",
       "  <tbody>\n",
       "    <tr>\n",
       "      <th>0</th>\n",
       "      <td>-0.256426</td>\n",
       "      <td>-0.601825</td>\n",
       "      <td>-0.898360</td>\n",
       "      <td>-0.444584</td>\n",
       "    </tr>\n",
       "    <tr>\n",
       "      <th>1</th>\n",
       "      <td>0.947158</td>\n",
       "      <td>-1.615977</td>\n",
       "      <td>-0.671814</td>\n",
       "      <td>0.856138</td>\n",
       "    </tr>\n",
       "    <tr>\n",
       "      <th>2</th>\n",
       "      <td>0.036879</td>\n",
       "      <td>-0.194187</td>\n",
       "      <td>-1.313732</td>\n",
       "      <td>-0.660862</td>\n",
       "    </tr>\n",
       "    <tr>\n",
       "      <th>3</th>\n",
       "      <td>0.905323</td>\n",
       "      <td>0.730273</td>\n",
       "      <td>-0.848413</td>\n",
       "      <td>1.855435</td>\n",
       "    </tr>\n",
       "    <tr>\n",
       "      <th>4</th>\n",
       "      <td>-1.194743</td>\n",
       "      <td>-0.174880</td>\n",
       "      <td>0.356789</td>\n",
       "      <td>-1.093845</td>\n",
       "    </tr>\n",
       "    <tr>\n",
       "      <th>5</th>\n",
       "      <td>-0.027028</td>\n",
       "      <td>-0.462397</td>\n",
       "      <td>1.082820</td>\n",
       "      <td>0.966843</td>\n",
       "    </tr>\n",
       "    <tr>\n",
       "      <th>6</th>\n",
       "      <td>0.533204</td>\n",
       "      <td>-0.681934</td>\n",
       "      <td>0.579695</td>\n",
       "      <td>1.858110</td>\n",
       "    </tr>\n",
       "    <tr>\n",
       "      <th>7</th>\n",
       "      <td>-0.554487</td>\n",
       "      <td>-2.095172</td>\n",
       "      <td>-0.575770</td>\n",
       "      <td>1.039312</td>\n",
       "    </tr>\n",
       "    <tr>\n",
       "      <th>8</th>\n",
       "      <td>-0.892002</td>\n",
       "      <td>0.669183</td>\n",
       "      <td>-0.514123</td>\n",
       "      <td>1.044262</td>\n",
       "    </tr>\n",
       "    <tr>\n",
       "      <th>9</th>\n",
       "      <td>0.167296</td>\n",
       "      <td>-2.147881</td>\n",
       "      <td>-1.782509</td>\n",
       "      <td>-1.854925</td>\n",
       "    </tr>\n",
       "  </tbody>\n",
       "</table>\n",
       "</div>"
      ],
      "text/plain": [
       "          0         1         2         3\n",
       "0 -0.256426 -0.601825 -0.898360 -0.444584\n",
       "1  0.947158 -1.615977 -0.671814  0.856138\n",
       "2  0.036879 -0.194187 -1.313732 -0.660862\n",
       "3  0.905323  0.730273 -0.848413  1.855435\n",
       "4 -1.194743 -0.174880  0.356789 -1.093845\n",
       "5 -0.027028 -0.462397  1.082820  0.966843\n",
       "6  0.533204 -0.681934  0.579695  1.858110\n",
       "7 -0.554487 -2.095172 -0.575770  1.039312\n",
       "8 -0.892002  0.669183 -0.514123  1.044262\n",
       "9  0.167296 -2.147881 -1.782509 -1.854925"
      ]
     },
     "execution_count": 69,
     "metadata": {},
     "output_type": "execute_result"
    }
   ],
   "source": [
    "pd.concat(pieces)"
   ]
  },
  {
   "cell_type": "markdown",
   "metadata": {},
   "source": [
    "### Join\n",
    "\n",
    "SQL style merges. See the [Database style joining](https://pandas.pydata.org/pandas-docs/stable/merging.html#merging-join).\n",
    "\n"
   ]
  },
  {
   "cell_type": "code",
   "execution_count": 70,
   "metadata": {},
   "outputs": [
    {
     "data": {
      "text/html": [
       "<div>\n",
       "<style>\n",
       "    .dataframe thead tr:only-child th {\n",
       "        text-align: right;\n",
       "    }\n",
       "\n",
       "    .dataframe thead th {\n",
       "        text-align: left;\n",
       "    }\n",
       "\n",
       "    .dataframe tbody tr th {\n",
       "        vertical-align: top;\n",
       "    }\n",
       "</style>\n",
       "<table border=\"1\" class=\"dataframe\">\n",
       "  <thead>\n",
       "    <tr style=\"text-align: right;\">\n",
       "      <th></th>\n",
       "      <th>key</th>\n",
       "      <th>lval</th>\n",
       "    </tr>\n",
       "  </thead>\n",
       "  <tbody>\n",
       "    <tr>\n",
       "      <th>0</th>\n",
       "      <td>foo</td>\n",
       "      <td>1</td>\n",
       "    </tr>\n",
       "    <tr>\n",
       "      <th>1</th>\n",
       "      <td>foo</td>\n",
       "      <td>2</td>\n",
       "    </tr>\n",
       "  </tbody>\n",
       "</table>\n",
       "</div>"
      ],
      "text/plain": [
       "   key  lval\n",
       "0  foo     1\n",
       "1  foo     2"
      ]
     },
     "execution_count": 70,
     "metadata": {},
     "output_type": "execute_result"
    }
   ],
   "source": [
    "left = pd.DataFrame({'key': ['foo', 'foo'], 'lval': [1, 2]})\n",
    "right = pd.DataFrame({'key': ['foo', 'foo'], 'rval': [4, 5]})\n",
    "left"
   ]
  },
  {
   "cell_type": "code",
   "execution_count": 71,
   "metadata": {},
   "outputs": [
    {
     "data": {
      "text/html": [
       "<div>\n",
       "<style>\n",
       "    .dataframe thead tr:only-child th {\n",
       "        text-align: right;\n",
       "    }\n",
       "\n",
       "    .dataframe thead th {\n",
       "        text-align: left;\n",
       "    }\n",
       "\n",
       "    .dataframe tbody tr th {\n",
       "        vertical-align: top;\n",
       "    }\n",
       "</style>\n",
       "<table border=\"1\" class=\"dataframe\">\n",
       "  <thead>\n",
       "    <tr style=\"text-align: right;\">\n",
       "      <th></th>\n",
       "      <th>key</th>\n",
       "      <th>rval</th>\n",
       "    </tr>\n",
       "  </thead>\n",
       "  <tbody>\n",
       "    <tr>\n",
       "      <th>0</th>\n",
       "      <td>foo</td>\n",
       "      <td>4</td>\n",
       "    </tr>\n",
       "    <tr>\n",
       "      <th>1</th>\n",
       "      <td>foo</td>\n",
       "      <td>5</td>\n",
       "    </tr>\n",
       "  </tbody>\n",
       "</table>\n",
       "</div>"
      ],
      "text/plain": [
       "   key  rval\n",
       "0  foo     4\n",
       "1  foo     5"
      ]
     },
     "execution_count": 71,
     "metadata": {},
     "output_type": "execute_result"
    }
   ],
   "source": [
    "right"
   ]
  },
  {
   "cell_type": "code",
   "execution_count": 72,
   "metadata": {},
   "outputs": [
    {
     "data": {
      "text/html": [
       "<div>\n",
       "<style>\n",
       "    .dataframe thead tr:only-child th {\n",
       "        text-align: right;\n",
       "    }\n",
       "\n",
       "    .dataframe thead th {\n",
       "        text-align: left;\n",
       "    }\n",
       "\n",
       "    .dataframe tbody tr th {\n",
       "        vertical-align: top;\n",
       "    }\n",
       "</style>\n",
       "<table border=\"1\" class=\"dataframe\">\n",
       "  <thead>\n",
       "    <tr style=\"text-align: right;\">\n",
       "      <th></th>\n",
       "      <th>key</th>\n",
       "      <th>lval</th>\n",
       "      <th>rval</th>\n",
       "    </tr>\n",
       "  </thead>\n",
       "  <tbody>\n",
       "    <tr>\n",
       "      <th>0</th>\n",
       "      <td>foo</td>\n",
       "      <td>1</td>\n",
       "      <td>4</td>\n",
       "    </tr>\n",
       "    <tr>\n",
       "      <th>1</th>\n",
       "      <td>foo</td>\n",
       "      <td>1</td>\n",
       "      <td>5</td>\n",
       "    </tr>\n",
       "    <tr>\n",
       "      <th>2</th>\n",
       "      <td>foo</td>\n",
       "      <td>2</td>\n",
       "      <td>4</td>\n",
       "    </tr>\n",
       "    <tr>\n",
       "      <th>3</th>\n",
       "      <td>foo</td>\n",
       "      <td>2</td>\n",
       "      <td>5</td>\n",
       "    </tr>\n",
       "  </tbody>\n",
       "</table>\n",
       "</div>"
      ],
      "text/plain": [
       "   key  lval  rval\n",
       "0  foo     1     4\n",
       "1  foo     1     5\n",
       "2  foo     2     4\n",
       "3  foo     2     5"
      ]
     },
     "execution_count": 72,
     "metadata": {},
     "output_type": "execute_result"
    }
   ],
   "source": [
    "pd.merge(left, right, on='key')"
   ]
  },
  {
   "cell_type": "markdown",
   "metadata": {},
   "source": [
    "### Append\n",
    "\n",
    "Append rows to a dataframe. See the [Appending](https://pandas.pydata.org/pandas-docs/stable/merging.html#merging-concatenation)"
   ]
  },
  {
   "cell_type": "code",
   "execution_count": 73,
   "metadata": {},
   "outputs": [
    {
     "data": {
      "text/html": [
       "<div>\n",
       "<style>\n",
       "    .dataframe thead tr:only-child th {\n",
       "        text-align: right;\n",
       "    }\n",
       "\n",
       "    .dataframe thead th {\n",
       "        text-align: left;\n",
       "    }\n",
       "\n",
       "    .dataframe tbody tr th {\n",
       "        vertical-align: top;\n",
       "    }\n",
       "</style>\n",
       "<table border=\"1\" class=\"dataframe\">\n",
       "  <thead>\n",
       "    <tr style=\"text-align: right;\">\n",
       "      <th></th>\n",
       "      <th>A</th>\n",
       "      <th>B</th>\n",
       "      <th>C</th>\n",
       "      <th>D</th>\n",
       "    </tr>\n",
       "  </thead>\n",
       "  <tbody>\n",
       "    <tr>\n",
       "      <th>0</th>\n",
       "      <td>0.639861</td>\n",
       "      <td>2.123232</td>\n",
       "      <td>0.266517</td>\n",
       "      <td>-0.115037</td>\n",
       "    </tr>\n",
       "    <tr>\n",
       "      <th>1</th>\n",
       "      <td>-0.102557</td>\n",
       "      <td>0.968530</td>\n",
       "      <td>-0.352717</td>\n",
       "      <td>0.548683</td>\n",
       "    </tr>\n",
       "    <tr>\n",
       "      <th>2</th>\n",
       "      <td>-0.538020</td>\n",
       "      <td>-1.862672</td>\n",
       "      <td>-0.114195</td>\n",
       "      <td>-0.700948</td>\n",
       "    </tr>\n",
       "    <tr>\n",
       "      <th>3</th>\n",
       "      <td>-0.325628</td>\n",
       "      <td>1.045267</td>\n",
       "      <td>0.092695</td>\n",
       "      <td>-1.208676</td>\n",
       "    </tr>\n",
       "    <tr>\n",
       "      <th>4</th>\n",
       "      <td>0.287648</td>\n",
       "      <td>1.250386</td>\n",
       "      <td>0.186462</td>\n",
       "      <td>-2.187714</td>\n",
       "    </tr>\n",
       "    <tr>\n",
       "      <th>5</th>\n",
       "      <td>-1.298120</td>\n",
       "      <td>1.071449</td>\n",
       "      <td>0.391817</td>\n",
       "      <td>-0.284815</td>\n",
       "    </tr>\n",
       "    <tr>\n",
       "      <th>6</th>\n",
       "      <td>1.219740</td>\n",
       "      <td>0.895399</td>\n",
       "      <td>0.168231</td>\n",
       "      <td>-0.264147</td>\n",
       "    </tr>\n",
       "    <tr>\n",
       "      <th>7</th>\n",
       "      <td>0.590377</td>\n",
       "      <td>0.064104</td>\n",
       "      <td>1.463538</td>\n",
       "      <td>1.902971</td>\n",
       "    </tr>\n",
       "  </tbody>\n",
       "</table>\n",
       "</div>"
      ],
      "text/plain": [
       "          A         B         C         D\n",
       "0  0.639861  2.123232  0.266517 -0.115037\n",
       "1 -0.102557  0.968530 -0.352717  0.548683\n",
       "2 -0.538020 -1.862672 -0.114195 -0.700948\n",
       "3 -0.325628  1.045267  0.092695 -1.208676\n",
       "4  0.287648  1.250386  0.186462 -2.187714\n",
       "5 -1.298120  1.071449  0.391817 -0.284815\n",
       "6  1.219740  0.895399  0.168231 -0.264147\n",
       "7  0.590377  0.064104  1.463538  1.902971"
      ]
     },
     "execution_count": 73,
     "metadata": {},
     "output_type": "execute_result"
    }
   ],
   "source": [
    "df = pd.DataFrame(np.random.randn(8, 4), columns=['A','B','C','D'])\n",
    "df"
   ]
  },
  {
   "cell_type": "code",
   "execution_count": 74,
   "metadata": {},
   "outputs": [
    {
     "data": {
      "text/html": [
       "<div>\n",
       "<style>\n",
       "    .dataframe thead tr:only-child th {\n",
       "        text-align: right;\n",
       "    }\n",
       "\n",
       "    .dataframe thead th {\n",
       "        text-align: left;\n",
       "    }\n",
       "\n",
       "    .dataframe tbody tr th {\n",
       "        vertical-align: top;\n",
       "    }\n",
       "</style>\n",
       "<table border=\"1\" class=\"dataframe\">\n",
       "  <thead>\n",
       "    <tr style=\"text-align: right;\">\n",
       "      <th></th>\n",
       "      <th>A</th>\n",
       "      <th>B</th>\n",
       "      <th>C</th>\n",
       "      <th>D</th>\n",
       "    </tr>\n",
       "  </thead>\n",
       "  <tbody>\n",
       "    <tr>\n",
       "      <th>0</th>\n",
       "      <td>0.639861</td>\n",
       "      <td>2.123232</td>\n",
       "      <td>0.266517</td>\n",
       "      <td>-0.115037</td>\n",
       "    </tr>\n",
       "    <tr>\n",
       "      <th>1</th>\n",
       "      <td>-0.102557</td>\n",
       "      <td>0.968530</td>\n",
       "      <td>-0.352717</td>\n",
       "      <td>0.548683</td>\n",
       "    </tr>\n",
       "    <tr>\n",
       "      <th>2</th>\n",
       "      <td>-0.538020</td>\n",
       "      <td>-1.862672</td>\n",
       "      <td>-0.114195</td>\n",
       "      <td>-0.700948</td>\n",
       "    </tr>\n",
       "    <tr>\n",
       "      <th>3</th>\n",
       "      <td>-0.325628</td>\n",
       "      <td>1.045267</td>\n",
       "      <td>0.092695</td>\n",
       "      <td>-1.208676</td>\n",
       "    </tr>\n",
       "    <tr>\n",
       "      <th>4</th>\n",
       "      <td>0.287648</td>\n",
       "      <td>1.250386</td>\n",
       "      <td>0.186462</td>\n",
       "      <td>-2.187714</td>\n",
       "    </tr>\n",
       "    <tr>\n",
       "      <th>5</th>\n",
       "      <td>-1.298120</td>\n",
       "      <td>1.071449</td>\n",
       "      <td>0.391817</td>\n",
       "      <td>-0.284815</td>\n",
       "    </tr>\n",
       "    <tr>\n",
       "      <th>6</th>\n",
       "      <td>1.219740</td>\n",
       "      <td>0.895399</td>\n",
       "      <td>0.168231</td>\n",
       "      <td>-0.264147</td>\n",
       "    </tr>\n",
       "    <tr>\n",
       "      <th>7</th>\n",
       "      <td>0.590377</td>\n",
       "      <td>0.064104</td>\n",
       "      <td>1.463538</td>\n",
       "      <td>1.902971</td>\n",
       "    </tr>\n",
       "    <tr>\n",
       "      <th>8</th>\n",
       "      <td>-0.325628</td>\n",
       "      <td>1.045267</td>\n",
       "      <td>0.092695</td>\n",
       "      <td>-1.208676</td>\n",
       "    </tr>\n",
       "  </tbody>\n",
       "</table>\n",
       "</div>"
      ],
      "text/plain": [
       "          A         B         C         D\n",
       "0  0.639861  2.123232  0.266517 -0.115037\n",
       "1 -0.102557  0.968530 -0.352717  0.548683\n",
       "2 -0.538020 -1.862672 -0.114195 -0.700948\n",
       "3 -0.325628  1.045267  0.092695 -1.208676\n",
       "4  0.287648  1.250386  0.186462 -2.187714\n",
       "5 -1.298120  1.071449  0.391817 -0.284815\n",
       "6  1.219740  0.895399  0.168231 -0.264147\n",
       "7  0.590377  0.064104  1.463538  1.902971\n",
       "8 -0.325628  1.045267  0.092695 -1.208676"
      ]
     },
     "execution_count": 74,
     "metadata": {},
     "output_type": "execute_result"
    }
   ],
   "source": [
    "s = df.iloc[3]\n",
    "df.append(s, ignore_index=True)"
   ]
  },
  {
   "cell_type": "markdown",
   "metadata": {},
   "source": [
    "## Grouping\n",
    "\n",
    "By “group by” we are referring to a process involving one or more of the following steps\n",
    "\n",
    "* Splitting the data into groups based on some criteria      \n",
    "* Applying a function to each group independently\n",
    "* Combining the results into a data structure\n",
    "\n",
    "See the [Grouping section](https://pandas.pydata.org/pandas-docs/stable/groupby.html#groupby)"
   ]
  },
  {
   "cell_type": "code",
   "execution_count": 75,
   "metadata": {
    "collapsed": true,
    "jupyter": {
     "outputs_hidden": true
    }
   },
   "outputs": [],
   "source": [
    "df = pd.DataFrame({'A' : ['foo', 'bar', 'foo', 'bar',\n",
    "   ....:                           'foo', 'bar', 'foo', 'foo'],\n",
    "   ....:                    'B' : ['one', 'one', 'two', 'three',\n",
    "   ....:                           'two', 'two', 'one', 'three'],\n",
    "   ....:                    'C' : np.random.randn(8),\n",
    "   ....:                    'D' : np.random.randn(8)})\n",
    "   ....: "
   ]
  },
  {
   "cell_type": "code",
   "execution_count": 76,
   "metadata": {},
   "outputs": [
    {
     "data": {
      "text/html": [
       "<div>\n",
       "<style>\n",
       "    .dataframe thead tr:only-child th {\n",
       "        text-align: right;\n",
       "    }\n",
       "\n",
       "    .dataframe thead th {\n",
       "        text-align: left;\n",
       "    }\n",
       "\n",
       "    .dataframe tbody tr th {\n",
       "        vertical-align: top;\n",
       "    }\n",
       "</style>\n",
       "<table border=\"1\" class=\"dataframe\">\n",
       "  <thead>\n",
       "    <tr style=\"text-align: right;\">\n",
       "      <th></th>\n",
       "      <th>A</th>\n",
       "      <th>B</th>\n",
       "      <th>C</th>\n",
       "      <th>D</th>\n",
       "    </tr>\n",
       "  </thead>\n",
       "  <tbody>\n",
       "    <tr>\n",
       "      <th>0</th>\n",
       "      <td>foo</td>\n",
       "      <td>one</td>\n",
       "      <td>-0.118189</td>\n",
       "      <td>-0.593383</td>\n",
       "    </tr>\n",
       "    <tr>\n",
       "      <th>1</th>\n",
       "      <td>bar</td>\n",
       "      <td>one</td>\n",
       "      <td>0.371635</td>\n",
       "      <td>-1.220654</td>\n",
       "    </tr>\n",
       "    <tr>\n",
       "      <th>2</th>\n",
       "      <td>foo</td>\n",
       "      <td>two</td>\n",
       "      <td>-0.997569</td>\n",
       "      <td>0.600788</td>\n",
       "    </tr>\n",
       "    <tr>\n",
       "      <th>3</th>\n",
       "      <td>bar</td>\n",
       "      <td>three</td>\n",
       "      <td>0.719806</td>\n",
       "      <td>1.379115</td>\n",
       "    </tr>\n",
       "    <tr>\n",
       "      <th>4</th>\n",
       "      <td>foo</td>\n",
       "      <td>two</td>\n",
       "      <td>-0.423254</td>\n",
       "      <td>-0.749692</td>\n",
       "    </tr>\n",
       "    <tr>\n",
       "      <th>5</th>\n",
       "      <td>bar</td>\n",
       "      <td>two</td>\n",
       "      <td>1.025332</td>\n",
       "      <td>0.834420</td>\n",
       "    </tr>\n",
       "    <tr>\n",
       "      <th>6</th>\n",
       "      <td>foo</td>\n",
       "      <td>one</td>\n",
       "      <td>0.639163</td>\n",
       "      <td>0.588942</td>\n",
       "    </tr>\n",
       "    <tr>\n",
       "      <th>7</th>\n",
       "      <td>foo</td>\n",
       "      <td>three</td>\n",
       "      <td>-1.111726</td>\n",
       "      <td>-0.645374</td>\n",
       "    </tr>\n",
       "  </tbody>\n",
       "</table>\n",
       "</div>"
      ],
      "text/plain": [
       "     A      B         C         D\n",
       "0  foo    one -0.118189 -0.593383\n",
       "1  bar    one  0.371635 -1.220654\n",
       "2  foo    two -0.997569  0.600788\n",
       "3  bar  three  0.719806  1.379115\n",
       "4  foo    two -0.423254 -0.749692\n",
       "5  bar    two  1.025332  0.834420\n",
       "6  foo    one  0.639163  0.588942\n",
       "7  foo  three -1.111726 -0.645374"
      ]
     },
     "execution_count": 76,
     "metadata": {},
     "output_type": "execute_result"
    }
   ],
   "source": [
    "df"
   ]
  },
  {
   "cell_type": "markdown",
   "metadata": {},
   "source": [
    "Grouping and then applying a function sum to the resulting groups."
   ]
  },
  {
   "cell_type": "code",
   "execution_count": 77,
   "metadata": {},
   "outputs": [
    {
     "data": {
      "text/html": [
       "<div>\n",
       "<style>\n",
       "    .dataframe thead tr:only-child th {\n",
       "        text-align: right;\n",
       "    }\n",
       "\n",
       "    .dataframe thead th {\n",
       "        text-align: left;\n",
       "    }\n",
       "\n",
       "    .dataframe tbody tr th {\n",
       "        vertical-align: top;\n",
       "    }\n",
       "</style>\n",
       "<table border=\"1\" class=\"dataframe\">\n",
       "  <thead>\n",
       "    <tr style=\"text-align: right;\">\n",
       "      <th></th>\n",
       "      <th>C</th>\n",
       "      <th>D</th>\n",
       "    </tr>\n",
       "    <tr>\n",
       "      <th>A</th>\n",
       "      <th></th>\n",
       "      <th></th>\n",
       "    </tr>\n",
       "  </thead>\n",
       "  <tbody>\n",
       "    <tr>\n",
       "      <th>bar</th>\n",
       "      <td>2.116773</td>\n",
       "      <td>0.992881</td>\n",
       "    </tr>\n",
       "    <tr>\n",
       "      <th>foo</th>\n",
       "      <td>-2.011575</td>\n",
       "      <td>-0.798719</td>\n",
       "    </tr>\n",
       "  </tbody>\n",
       "</table>\n",
       "</div>"
      ],
      "text/plain": [
       "            C         D\n",
       "A                      \n",
       "bar  2.116773  0.992881\n",
       "foo -2.011575 -0.798719"
      ]
     },
     "execution_count": 77,
     "metadata": {},
     "output_type": "execute_result"
    }
   ],
   "source": [
    "df.groupby('A').sum()"
   ]
  },
  {
   "cell_type": "markdown",
   "metadata": {},
   "source": [
    "Grouping by multiple columns forms a hierarchical index, which we then apply the function."
   ]
  },
  {
   "cell_type": "code",
   "execution_count": 78,
   "metadata": {},
   "outputs": [
    {
     "data": {
      "text/html": [
       "<div>\n",
       "<style>\n",
       "    .dataframe thead tr:only-child th {\n",
       "        text-align: right;\n",
       "    }\n",
       "\n",
       "    .dataframe thead th {\n",
       "        text-align: left;\n",
       "    }\n",
       "\n",
       "    .dataframe tbody tr th {\n",
       "        vertical-align: top;\n",
       "    }\n",
       "</style>\n",
       "<table border=\"1\" class=\"dataframe\">\n",
       "  <thead>\n",
       "    <tr style=\"text-align: right;\">\n",
       "      <th></th>\n",
       "      <th></th>\n",
       "      <th>C</th>\n",
       "      <th>D</th>\n",
       "    </tr>\n",
       "    <tr>\n",
       "      <th>A</th>\n",
       "      <th>B</th>\n",
       "      <th></th>\n",
       "      <th></th>\n",
       "    </tr>\n",
       "  </thead>\n",
       "  <tbody>\n",
       "    <tr>\n",
       "      <th rowspan=\"3\" valign=\"top\">bar</th>\n",
       "      <th>one</th>\n",
       "      <td>0.371635</td>\n",
       "      <td>-1.220654</td>\n",
       "    </tr>\n",
       "    <tr>\n",
       "      <th>three</th>\n",
       "      <td>0.719806</td>\n",
       "      <td>1.379115</td>\n",
       "    </tr>\n",
       "    <tr>\n",
       "      <th>two</th>\n",
       "      <td>1.025332</td>\n",
       "      <td>0.834420</td>\n",
       "    </tr>\n",
       "    <tr>\n",
       "      <th rowspan=\"3\" valign=\"top\">foo</th>\n",
       "      <th>one</th>\n",
       "      <td>0.520974</td>\n",
       "      <td>-0.004441</td>\n",
       "    </tr>\n",
       "    <tr>\n",
       "      <th>three</th>\n",
       "      <td>-1.111726</td>\n",
       "      <td>-0.645374</td>\n",
       "    </tr>\n",
       "    <tr>\n",
       "      <th>two</th>\n",
       "      <td>-1.420823</td>\n",
       "      <td>-0.148904</td>\n",
       "    </tr>\n",
       "  </tbody>\n",
       "</table>\n",
       "</div>"
      ],
      "text/plain": [
       "                  C         D\n",
       "A   B                        \n",
       "bar one    0.371635 -1.220654\n",
       "    three  0.719806  1.379115\n",
       "    two    1.025332  0.834420\n",
       "foo one    0.520974 -0.004441\n",
       "    three -1.111726 -0.645374\n",
       "    two   -1.420823 -0.148904"
      ]
     },
     "execution_count": 78,
     "metadata": {},
     "output_type": "execute_result"
    }
   ],
   "source": [
    "df.groupby(['A','B']).sum()"
   ]
  },
  {
   "cell_type": "markdown",
   "metadata": {},
   "source": [
    "## Reshaping\n",
    "\n",
    "See the sections on [Hierarchical Indexing](https://pandas.pydata.org/pandas-docs/stable/advanced.html#advanced-hierarchical) and [Reshaping](https://pandas.pydata.org/pandas-docs/stable/reshaping.html#reshaping-stacking)."
   ]
  },
  {
   "cell_type": "code",
   "execution_count": 79,
   "metadata": {
    "collapsed": true,
    "jupyter": {
     "outputs_hidden": true
    }
   },
   "outputs": [],
   "source": [
    "tuples = list(zip(*[['bar', 'bar', 'baz', 'baz',\n",
    "   ....:                      'foo', 'foo', 'qux', 'qux'],\n",
    "   ....:                     ['one', 'two', 'one', 'two',\n",
    "   ....:                      'one', 'two', 'one', 'two']]))\n",
    "   ....: "
   ]
  },
  {
   "cell_type": "code",
   "execution_count": 80,
   "metadata": {},
   "outputs": [
    {
     "data": {
      "text/html": [
       "<div>\n",
       "<style>\n",
       "    .dataframe thead tr:only-child th {\n",
       "        text-align: right;\n",
       "    }\n",
       "\n",
       "    .dataframe thead th {\n",
       "        text-align: left;\n",
       "    }\n",
       "\n",
       "    .dataframe tbody tr th {\n",
       "        vertical-align: top;\n",
       "    }\n",
       "</style>\n",
       "<table border=\"1\" class=\"dataframe\">\n",
       "  <thead>\n",
       "    <tr style=\"text-align: right;\">\n",
       "      <th></th>\n",
       "      <th></th>\n",
       "      <th>A</th>\n",
       "      <th>B</th>\n",
       "    </tr>\n",
       "    <tr>\n",
       "      <th>first</th>\n",
       "      <th>second</th>\n",
       "      <th></th>\n",
       "      <th></th>\n",
       "    </tr>\n",
       "  </thead>\n",
       "  <tbody>\n",
       "    <tr>\n",
       "      <th rowspan=\"2\" valign=\"top\">bar</th>\n",
       "      <th>one</th>\n",
       "      <td>-1.348059</td>\n",
       "      <td>0.706639</td>\n",
       "    </tr>\n",
       "    <tr>\n",
       "      <th>two</th>\n",
       "      <td>-0.535673</td>\n",
       "      <td>-1.249346</td>\n",
       "    </tr>\n",
       "    <tr>\n",
       "      <th rowspan=\"2\" valign=\"top\">baz</th>\n",
       "      <th>one</th>\n",
       "      <td>0.149370</td>\n",
       "      <td>-1.960042</td>\n",
       "    </tr>\n",
       "    <tr>\n",
       "      <th>two</th>\n",
       "      <td>-1.884687</td>\n",
       "      <td>-0.878011</td>\n",
       "    </tr>\n",
       "  </tbody>\n",
       "</table>\n",
       "</div>"
      ],
      "text/plain": [
       "                     A         B\n",
       "first second                    \n",
       "bar   one    -1.348059  0.706639\n",
       "      two    -0.535673 -1.249346\n",
       "baz   one     0.149370 -1.960042\n",
       "      two    -1.884687 -0.878011"
      ]
     },
     "execution_count": 80,
     "metadata": {},
     "output_type": "execute_result"
    }
   ],
   "source": [
    "index = pd.MultiIndex.from_tuples(tuples, names=['first', 'second'])\n",
    "df = pd.DataFrame(np.random.randn(8, 2), index=index, columns=['A', 'B'])\n",
    "df2 = df[:4]\n",
    "df2"
   ]
  },
  {
   "cell_type": "markdown",
   "metadata": {},
   "source": [
    "The [stack()](https://pandas.pydata.org/pandas-docs/stable/generated/pandas.DataFrame.stack.html#pandas.DataFrame.stack) method “compresses” a level in the DataFrame’s columns."
   ]
  },
  {
   "cell_type": "code",
   "execution_count": 81,
   "metadata": {},
   "outputs": [
    {
     "data": {
      "text/plain": [
       "first  second   \n",
       "bar    one     A   -1.348059\n",
       "               B    0.706639\n",
       "       two     A   -0.535673\n",
       "               B   -1.249346\n",
       "baz    one     A    0.149370\n",
       "               B   -1.960042\n",
       "       two     A   -1.884687\n",
       "               B   -0.878011\n",
       "dtype: float64"
      ]
     },
     "execution_count": 81,
     "metadata": {},
     "output_type": "execute_result"
    }
   ],
   "source": [
    "stacked = df2.stack()\n",
    "stacked"
   ]
  },
  {
   "cell_type": "markdown",
   "metadata": {},
   "source": [
    "With a “stacked” DataFrame or Series (having a MultiIndex as the index), the inverse operation of [stack()](https://pandas.pydata.org/pandas-docs/stable/generated/pandas.DataFrame.stack.html#pandas.DataFrame.stack) is [unstack()](https://pandas.pydata.org/pandas-docs/stable/generated/pandas.DataFrame.unstack.html#pandas.DataFrame.unstack), which by default unstacks the **last level**:"
   ]
  },
  {
   "cell_type": "code",
   "execution_count": 82,
   "metadata": {},
   "outputs": [
    {
     "data": {
      "text/html": [
       "<div>\n",
       "<style>\n",
       "    .dataframe thead tr:only-child th {\n",
       "        text-align: right;\n",
       "    }\n",
       "\n",
       "    .dataframe thead th {\n",
       "        text-align: left;\n",
       "    }\n",
       "\n",
       "    .dataframe tbody tr th {\n",
       "        vertical-align: top;\n",
       "    }\n",
       "</style>\n",
       "<table border=\"1\" class=\"dataframe\">\n",
       "  <thead>\n",
       "    <tr style=\"text-align: right;\">\n",
       "      <th></th>\n",
       "      <th></th>\n",
       "      <th>A</th>\n",
       "      <th>B</th>\n",
       "    </tr>\n",
       "    <tr>\n",
       "      <th>first</th>\n",
       "      <th>second</th>\n",
       "      <th></th>\n",
       "      <th></th>\n",
       "    </tr>\n",
       "  </thead>\n",
       "  <tbody>\n",
       "    <tr>\n",
       "      <th rowspan=\"2\" valign=\"top\">bar</th>\n",
       "      <th>one</th>\n",
       "      <td>-1.348059</td>\n",
       "      <td>0.706639</td>\n",
       "    </tr>\n",
       "    <tr>\n",
       "      <th>two</th>\n",
       "      <td>-0.535673</td>\n",
       "      <td>-1.249346</td>\n",
       "    </tr>\n",
       "    <tr>\n",
       "      <th rowspan=\"2\" valign=\"top\">baz</th>\n",
       "      <th>one</th>\n",
       "      <td>0.149370</td>\n",
       "      <td>-1.960042</td>\n",
       "    </tr>\n",
       "    <tr>\n",
       "      <th>two</th>\n",
       "      <td>-1.884687</td>\n",
       "      <td>-0.878011</td>\n",
       "    </tr>\n",
       "  </tbody>\n",
       "</table>\n",
       "</div>"
      ],
      "text/plain": [
       "                     A         B\n",
       "first second                    \n",
       "bar   one    -1.348059  0.706639\n",
       "      two    -0.535673 -1.249346\n",
       "baz   one     0.149370 -1.960042\n",
       "      two    -1.884687 -0.878011"
      ]
     },
     "execution_count": 82,
     "metadata": {},
     "output_type": "execute_result"
    }
   ],
   "source": [
    "stacked.unstack()"
   ]
  },
  {
   "cell_type": "code",
   "execution_count": 84,
   "metadata": {},
   "outputs": [
    {
     "data": {
      "text/html": [
       "<div>\n",
       "<style>\n",
       "    .dataframe thead tr:only-child th {\n",
       "        text-align: right;\n",
       "    }\n",
       "\n",
       "    .dataframe thead th {\n",
       "        text-align: left;\n",
       "    }\n",
       "\n",
       "    .dataframe tbody tr th {\n",
       "        vertical-align: top;\n",
       "    }\n",
       "</style>\n",
       "<table border=\"1\" class=\"dataframe\">\n",
       "  <thead>\n",
       "    <tr style=\"text-align: right;\">\n",
       "      <th></th>\n",
       "      <th>second</th>\n",
       "      <th>one</th>\n",
       "      <th>two</th>\n",
       "    </tr>\n",
       "    <tr>\n",
       "      <th>first</th>\n",
       "      <th></th>\n",
       "      <th></th>\n",
       "      <th></th>\n",
       "    </tr>\n",
       "  </thead>\n",
       "  <tbody>\n",
       "    <tr>\n",
       "      <th rowspan=\"2\" valign=\"top\">bar</th>\n",
       "      <th>A</th>\n",
       "      <td>-1.348059</td>\n",
       "      <td>-0.535673</td>\n",
       "    </tr>\n",
       "    <tr>\n",
       "      <th>B</th>\n",
       "      <td>0.706639</td>\n",
       "      <td>-1.249346</td>\n",
       "    </tr>\n",
       "    <tr>\n",
       "      <th rowspan=\"2\" valign=\"top\">baz</th>\n",
       "      <th>A</th>\n",
       "      <td>0.149370</td>\n",
       "      <td>-1.884687</td>\n",
       "    </tr>\n",
       "    <tr>\n",
       "      <th>B</th>\n",
       "      <td>-1.960042</td>\n",
       "      <td>-0.878011</td>\n",
       "    </tr>\n",
       "  </tbody>\n",
       "</table>\n",
       "</div>"
      ],
      "text/plain": [
       "second        one       two\n",
       "first                      \n",
       "bar   A -1.348059 -0.535673\n",
       "      B  0.706639 -1.249346\n",
       "baz   A  0.149370 -1.884687\n",
       "      B -1.960042 -0.878011"
      ]
     },
     "execution_count": 84,
     "metadata": {},
     "output_type": "execute_result"
    }
   ],
   "source": [
    "stacked.unstack(1)"
   ]
  },
  {
   "cell_type": "code",
   "execution_count": 85,
   "metadata": {},
   "outputs": [
    {
     "data": {
      "text/html": [
       "<div>\n",
       "<style>\n",
       "    .dataframe thead tr:only-child th {\n",
       "        text-align: right;\n",
       "    }\n",
       "\n",
       "    .dataframe thead th {\n",
       "        text-align: left;\n",
       "    }\n",
       "\n",
       "    .dataframe tbody tr th {\n",
       "        vertical-align: top;\n",
       "    }\n",
       "</style>\n",
       "<table border=\"1\" class=\"dataframe\">\n",
       "  <thead>\n",
       "    <tr style=\"text-align: right;\">\n",
       "      <th></th>\n",
       "      <th>first</th>\n",
       "      <th>bar</th>\n",
       "      <th>baz</th>\n",
       "    </tr>\n",
       "    <tr>\n",
       "      <th>second</th>\n",
       "      <th></th>\n",
       "      <th></th>\n",
       "      <th></th>\n",
       "    </tr>\n",
       "  </thead>\n",
       "  <tbody>\n",
       "    <tr>\n",
       "      <th rowspan=\"2\" valign=\"top\">one</th>\n",
       "      <th>A</th>\n",
       "      <td>-1.348059</td>\n",
       "      <td>0.149370</td>\n",
       "    </tr>\n",
       "    <tr>\n",
       "      <th>B</th>\n",
       "      <td>0.706639</td>\n",
       "      <td>-1.960042</td>\n",
       "    </tr>\n",
       "    <tr>\n",
       "      <th rowspan=\"2\" valign=\"top\">two</th>\n",
       "      <th>A</th>\n",
       "      <td>-0.535673</td>\n",
       "      <td>-1.884687</td>\n",
       "    </tr>\n",
       "    <tr>\n",
       "      <th>B</th>\n",
       "      <td>-1.249346</td>\n",
       "      <td>-0.878011</td>\n",
       "    </tr>\n",
       "  </tbody>\n",
       "</table>\n",
       "</div>"
      ],
      "text/plain": [
       "first          bar       baz\n",
       "second                      \n",
       "one    A -1.348059  0.149370\n",
       "       B  0.706639 -1.960042\n",
       "two    A -0.535673 -1.884687\n",
       "       B -1.249346 -0.878011"
      ]
     },
     "execution_count": 85,
     "metadata": {},
     "output_type": "execute_result"
    }
   ],
   "source": [
    "stacked.unstack(0)"
   ]
  },
  {
   "cell_type": "markdown",
   "metadata": {},
   "source": [
    "## Pivot Tables\n",
    "\n",
    "See the section on [Pivot Tables](https://pandas.pydata.org/pandas-docs/stable/reshaping.html#reshaping-pivot)."
   ]
  },
  {
   "cell_type": "code",
   "execution_count": 86,
   "metadata": {
    "collapsed": true,
    "jupyter": {
     "outputs_hidden": true
    }
   },
   "outputs": [],
   "source": [
    "df = pd.DataFrame({'A' : ['one', 'one', 'two', 'three'] * 3,\n",
    "   .....:                    'B' : ['A', 'B', 'C'] * 4,\n",
    "   .....:                    'C' : ['foo', 'foo', 'foo', 'bar', 'bar', 'bar'] * 2,\n",
    "   .....:                    'D' : np.random.randn(12),\n",
    "   .....:                    'E' : np.random.randn(12)})"
   ]
  },
  {
   "cell_type": "code",
   "execution_count": 87,
   "metadata": {},
   "outputs": [
    {
     "data": {
      "text/html": [
       "<div>\n",
       "<style>\n",
       "    .dataframe thead tr:only-child th {\n",
       "        text-align: right;\n",
       "    }\n",
       "\n",
       "    .dataframe thead th {\n",
       "        text-align: left;\n",
       "    }\n",
       "\n",
       "    .dataframe tbody tr th {\n",
       "        vertical-align: top;\n",
       "    }\n",
       "</style>\n",
       "<table border=\"1\" class=\"dataframe\">\n",
       "  <thead>\n",
       "    <tr style=\"text-align: right;\">\n",
       "      <th></th>\n",
       "      <th>A</th>\n",
       "      <th>B</th>\n",
       "      <th>C</th>\n",
       "      <th>D</th>\n",
       "      <th>E</th>\n",
       "    </tr>\n",
       "  </thead>\n",
       "  <tbody>\n",
       "    <tr>\n",
       "      <th>0</th>\n",
       "      <td>one</td>\n",
       "      <td>A</td>\n",
       "      <td>foo</td>\n",
       "      <td>0.227056</td>\n",
       "      <td>-0.870417</td>\n",
       "    </tr>\n",
       "    <tr>\n",
       "      <th>1</th>\n",
       "      <td>one</td>\n",
       "      <td>B</td>\n",
       "      <td>foo</td>\n",
       "      <td>-0.918687</td>\n",
       "      <td>1.378698</td>\n",
       "    </tr>\n",
       "    <tr>\n",
       "      <th>2</th>\n",
       "      <td>two</td>\n",
       "      <td>C</td>\n",
       "      <td>foo</td>\n",
       "      <td>0.649731</td>\n",
       "      <td>1.063249</td>\n",
       "    </tr>\n",
       "    <tr>\n",
       "      <th>3</th>\n",
       "      <td>three</td>\n",
       "      <td>A</td>\n",
       "      <td>bar</td>\n",
       "      <td>0.098949</td>\n",
       "      <td>-0.629399</td>\n",
       "    </tr>\n",
       "    <tr>\n",
       "      <th>4</th>\n",
       "      <td>one</td>\n",
       "      <td>B</td>\n",
       "      <td>bar</td>\n",
       "      <td>-0.067211</td>\n",
       "      <td>0.910388</td>\n",
       "    </tr>\n",
       "    <tr>\n",
       "      <th>5</th>\n",
       "      <td>one</td>\n",
       "      <td>C</td>\n",
       "      <td>bar</td>\n",
       "      <td>0.319610</td>\n",
       "      <td>0.226985</td>\n",
       "    </tr>\n",
       "    <tr>\n",
       "      <th>6</th>\n",
       "      <td>two</td>\n",
       "      <td>A</td>\n",
       "      <td>foo</td>\n",
       "      <td>0.431834</td>\n",
       "      <td>0.941042</td>\n",
       "    </tr>\n",
       "    <tr>\n",
       "      <th>7</th>\n",
       "      <td>three</td>\n",
       "      <td>B</td>\n",
       "      <td>foo</td>\n",
       "      <td>-0.791118</td>\n",
       "      <td>-0.040060</td>\n",
       "    </tr>\n",
       "    <tr>\n",
       "      <th>8</th>\n",
       "      <td>one</td>\n",
       "      <td>C</td>\n",
       "      <td>foo</td>\n",
       "      <td>-0.726031</td>\n",
       "      <td>-1.077120</td>\n",
       "    </tr>\n",
       "    <tr>\n",
       "      <th>9</th>\n",
       "      <td>one</td>\n",
       "      <td>A</td>\n",
       "      <td>bar</td>\n",
       "      <td>0.412199</td>\n",
       "      <td>0.514996</td>\n",
       "    </tr>\n",
       "    <tr>\n",
       "      <th>10</th>\n",
       "      <td>two</td>\n",
       "      <td>B</td>\n",
       "      <td>bar</td>\n",
       "      <td>0.589890</td>\n",
       "      <td>0.572687</td>\n",
       "    </tr>\n",
       "    <tr>\n",
       "      <th>11</th>\n",
       "      <td>three</td>\n",
       "      <td>C</td>\n",
       "      <td>bar</td>\n",
       "      <td>-1.006559</td>\n",
       "      <td>-1.025003</td>\n",
       "    </tr>\n",
       "  </tbody>\n",
       "</table>\n",
       "</div>"
      ],
      "text/plain": [
       "        A  B    C         D         E\n",
       "0     one  A  foo  0.227056 -0.870417\n",
       "1     one  B  foo -0.918687  1.378698\n",
       "2     two  C  foo  0.649731  1.063249\n",
       "3   three  A  bar  0.098949 -0.629399\n",
       "4     one  B  bar -0.067211  0.910388\n",
       "5     one  C  bar  0.319610  0.226985\n",
       "6     two  A  foo  0.431834  0.941042\n",
       "7   three  B  foo -0.791118 -0.040060\n",
       "8     one  C  foo -0.726031 -1.077120\n",
       "9     one  A  bar  0.412199  0.514996\n",
       "10    two  B  bar  0.589890  0.572687\n",
       "11  three  C  bar -1.006559 -1.025003"
      ]
     },
     "execution_count": 87,
     "metadata": {},
     "output_type": "execute_result"
    }
   ],
   "source": [
    "df"
   ]
  },
  {
   "cell_type": "markdown",
   "metadata": {},
   "source": [
    "We can produce pivot tables from this data very easily:"
   ]
  },
  {
   "cell_type": "code",
   "execution_count": 88,
   "metadata": {},
   "outputs": [
    {
     "data": {
      "text/html": [
       "<div>\n",
       "<style>\n",
       "    .dataframe thead tr:only-child th {\n",
       "        text-align: right;\n",
       "    }\n",
       "\n",
       "    .dataframe thead th {\n",
       "        text-align: left;\n",
       "    }\n",
       "\n",
       "    .dataframe tbody tr th {\n",
       "        vertical-align: top;\n",
       "    }\n",
       "</style>\n",
       "<table border=\"1\" class=\"dataframe\">\n",
       "  <thead>\n",
       "    <tr style=\"text-align: right;\">\n",
       "      <th></th>\n",
       "      <th>C</th>\n",
       "      <th>bar</th>\n",
       "      <th>foo</th>\n",
       "    </tr>\n",
       "    <tr>\n",
       "      <th>A</th>\n",
       "      <th>B</th>\n",
       "      <th></th>\n",
       "      <th></th>\n",
       "    </tr>\n",
       "  </thead>\n",
       "  <tbody>\n",
       "    <tr>\n",
       "      <th rowspan=\"3\" valign=\"top\">one</th>\n",
       "      <th>A</th>\n",
       "      <td>0.412199</td>\n",
       "      <td>0.227056</td>\n",
       "    </tr>\n",
       "    <tr>\n",
       "      <th>B</th>\n",
       "      <td>-0.067211</td>\n",
       "      <td>-0.918687</td>\n",
       "    </tr>\n",
       "    <tr>\n",
       "      <th>C</th>\n",
       "      <td>0.319610</td>\n",
       "      <td>-0.726031</td>\n",
       "    </tr>\n",
       "    <tr>\n",
       "      <th rowspan=\"3\" valign=\"top\">three</th>\n",
       "      <th>A</th>\n",
       "      <td>0.098949</td>\n",
       "      <td>NaN</td>\n",
       "    </tr>\n",
       "    <tr>\n",
       "      <th>B</th>\n",
       "      <td>NaN</td>\n",
       "      <td>-0.791118</td>\n",
       "    </tr>\n",
       "    <tr>\n",
       "      <th>C</th>\n",
       "      <td>-1.006559</td>\n",
       "      <td>NaN</td>\n",
       "    </tr>\n",
       "    <tr>\n",
       "      <th rowspan=\"3\" valign=\"top\">two</th>\n",
       "      <th>A</th>\n",
       "      <td>NaN</td>\n",
       "      <td>0.431834</td>\n",
       "    </tr>\n",
       "    <tr>\n",
       "      <th>B</th>\n",
       "      <td>0.589890</td>\n",
       "      <td>NaN</td>\n",
       "    </tr>\n",
       "    <tr>\n",
       "      <th>C</th>\n",
       "      <td>NaN</td>\n",
       "      <td>0.649731</td>\n",
       "    </tr>\n",
       "  </tbody>\n",
       "</table>\n",
       "</div>"
      ],
      "text/plain": [
       "C             bar       foo\n",
       "A     B                    \n",
       "one   A  0.412199  0.227056\n",
       "      B -0.067211 -0.918687\n",
       "      C  0.319610 -0.726031\n",
       "three A  0.098949       NaN\n",
       "      B       NaN -0.791118\n",
       "      C -1.006559       NaN\n",
       "two   A       NaN  0.431834\n",
       "      B  0.589890       NaN\n",
       "      C       NaN  0.649731"
      ]
     },
     "execution_count": 88,
     "metadata": {},
     "output_type": "execute_result"
    }
   ],
   "source": [
    "pd.pivot_table(df, values='D', index=['A', 'B'], columns=['C'])"
   ]
  },
  {
   "cell_type": "markdown",
   "metadata": {},
   "source": [
    "### Time Series\n",
    "\n",
    "pandas has simple, powerful, and efficient functionality for performing resampling operations during frequency conversion (e.g., converting secondly data into 5-minutely data). This is extremely common in, but not limited to, financial applications. See the [Time Series section](https://pandas.pydata.org/pandas-docs/stable/timeseries.html#timeseries)"
   ]
  },
  {
   "cell_type": "code",
   "execution_count": 89,
   "metadata": {},
   "outputs": [
    {
     "data": {
      "text/plain": [
       "2012-01-01    24825\n",
       "Freq: 5T, dtype: int64"
      ]
     },
     "execution_count": 89,
     "metadata": {},
     "output_type": "execute_result"
    }
   ],
   "source": [
    "rng = pd.date_range('1/1/2012', periods=100, freq='S')\n",
    "ts = pd.Series(np.random.randint(0, 500, len(rng)), index=rng)\n",
    "ts.resample('5Min').sum()"
   ]
  },
  {
   "cell_type": "markdown",
   "metadata": {},
   "source": [
    "Time zone representation"
   ]
  },
  {
   "cell_type": "code",
   "execution_count": 91,
   "metadata": {},
   "outputs": [
    {
     "data": {
      "text/plain": [
       "2012-03-06    0.602317\n",
       "2012-03-07    0.086503\n",
       "2012-03-08   -0.821026\n",
       "2012-03-09   -0.984422\n",
       "2012-03-10    0.963755\n",
       "Freq: D, dtype: float64"
      ]
     },
     "execution_count": 91,
     "metadata": {},
     "output_type": "execute_result"
    }
   ],
   "source": [
    "rng = pd.date_range('3/6/2012 00:00', periods=5, freq='D')\n",
    "ts = pd.Series(np.random.randn(len(rng)), rng)\n",
    "ts"
   ]
  },
  {
   "cell_type": "code",
   "execution_count": 93,
   "metadata": {},
   "outputs": [
    {
     "data": {
      "text/plain": [
       "2012-03-06 00:00:00+00:00    0.602317\n",
       "2012-03-07 00:00:00+00:00    0.086503\n",
       "2012-03-08 00:00:00+00:00   -0.821026\n",
       "2012-03-09 00:00:00+00:00   -0.984422\n",
       "2012-03-10 00:00:00+00:00    0.963755\n",
       "Freq: D, dtype: float64"
      ]
     },
     "execution_count": 93,
     "metadata": {},
     "output_type": "execute_result"
    }
   ],
   "source": [
    "ts_utc = ts.tz_localize('UTC')\n",
    "ts_utc"
   ]
  },
  {
   "cell_type": "markdown",
   "metadata": {},
   "source": [
    "Convert to another time zone"
   ]
  },
  {
   "cell_type": "code",
   "execution_count": 94,
   "metadata": {},
   "outputs": [
    {
     "data": {
      "text/plain": [
       "2012-03-05 19:00:00-05:00    0.602317\n",
       "2012-03-06 19:00:00-05:00    0.086503\n",
       "2012-03-07 19:00:00-05:00   -0.821026\n",
       "2012-03-08 19:00:00-05:00   -0.984422\n",
       "2012-03-09 19:00:00-05:00    0.963755\n",
       "Freq: D, dtype: float64"
      ]
     },
     "execution_count": 94,
     "metadata": {},
     "output_type": "execute_result"
    }
   ],
   "source": [
    "ts_utc.tz_convert('US/Eastern')"
   ]
  },
  {
   "cell_type": "markdown",
   "metadata": {},
   "source": [
    "Converting between time span representations"
   ]
  },
  {
   "cell_type": "code",
   "execution_count": 96,
   "metadata": {},
   "outputs": [
    {
     "data": {
      "text/plain": [
       "2012-01-31    0.243646\n",
       "2012-02-29   -0.002826\n",
       "2012-03-31    0.611073\n",
       "2012-04-30   -0.520338\n",
       "2012-05-31   -0.356647\n",
       "Freq: M, dtype: float64"
      ]
     },
     "execution_count": 96,
     "metadata": {},
     "output_type": "execute_result"
    }
   ],
   "source": [
    "rng = pd.date_range('1/1/2012', periods=5, freq='M')\n",
    "ts = pd.Series(np.random.randn(len(rng)), index=rng)\n",
    "ts"
   ]
  },
  {
   "cell_type": "code",
   "execution_count": 97,
   "metadata": {},
   "outputs": [
    {
     "data": {
      "text/plain": [
       "2012-01    0.243646\n",
       "2012-02   -0.002826\n",
       "2012-03    0.611073\n",
       "2012-04   -0.520338\n",
       "2012-05   -0.356647\n",
       "Freq: M, dtype: float64"
      ]
     },
     "execution_count": 97,
     "metadata": {},
     "output_type": "execute_result"
    }
   ],
   "source": [
    "ps = ts.to_period()\n",
    "ps"
   ]
  },
  {
   "cell_type": "code",
   "execution_count": 98,
   "metadata": {},
   "outputs": [
    {
     "data": {
      "text/plain": [
       "2012-01-01    0.243646\n",
       "2012-02-01   -0.002826\n",
       "2012-03-01    0.611073\n",
       "2012-04-01   -0.520338\n",
       "2012-05-01   -0.356647\n",
       "Freq: MS, dtype: float64"
      ]
     },
     "execution_count": 98,
     "metadata": {},
     "output_type": "execute_result"
    }
   ],
   "source": [
    "ps.to_timestamp()"
   ]
  },
  {
   "cell_type": "markdown",
   "metadata": {},
   "source": [
    "Converting between period and timestamp enables some convenient arithmetic functions to be used. In the following example, we convert a quarterly frequency with year ending in November to 9am of the end of the month following the quarter end:"
   ]
  },
  {
   "cell_type": "code",
   "execution_count": 99,
   "metadata": {},
   "outputs": [
    {
     "data": {
      "text/plain": [
       "1990-03-01 09:00    0.833709\n",
       "1990-06-01 09:00    0.673008\n",
       "1990-09-01 09:00   -1.966012\n",
       "1990-12-01 09:00    1.998823\n",
       "1991-03-01 09:00   -0.152389\n",
       "Freq: H, dtype: float64"
      ]
     },
     "execution_count": 99,
     "metadata": {},
     "output_type": "execute_result"
    }
   ],
   "source": [
    "prng = pd.period_range('1990Q1', '2000Q4', freq='Q-NOV')\n",
    "ts = pd.Series(np.random.randn(len(prng)), prng)\n",
    "ts.index = (prng.asfreq('M', 'e') + 1).asfreq('H', 's') + 9\n",
    "ts.head()"
   ]
  },
  {
   "cell_type": "markdown",
   "metadata": {},
   "source": [
    "### Categoricals\n",
    "\n",
    "Since version 0.15, pandas can include categorical data in a DataFrame. For full docs, see the [categorical introduction](https://pandas.pydata.org/pandas-docs/stable/categorical.html#categorical) and the [API documentation](https://pandas.pydata.org/pandas-docs/stable/api.html#api-categorical)."
   ]
  },
  {
   "cell_type": "code",
   "execution_count": 100,
   "metadata": {
    "collapsed": true,
    "jupyter": {
     "outputs_hidden": true
    }
   },
   "outputs": [],
   "source": [
    "df = pd.DataFrame({\"id\":[1,2,3,4,5,6], \"raw_grade\":['a', 'b', 'b', 'a', 'a', 'e']})"
   ]
  },
  {
   "cell_type": "markdown",
   "metadata": {},
   "source": [
    "Convert the raw grades to a categorical data type."
   ]
  },
  {
   "cell_type": "code",
   "execution_count": 101,
   "metadata": {},
   "outputs": [
    {
     "data": {
      "text/plain": [
       "0    a\n",
       "1    b\n",
       "2    b\n",
       "3    a\n",
       "4    a\n",
       "5    e\n",
       "Name: grade, dtype: category\n",
       "Categories (3, object): [a, b, e]"
      ]
     },
     "execution_count": 101,
     "metadata": {},
     "output_type": "execute_result"
    }
   ],
   "source": [
    "df[\"grade\"] = df[\"raw_grade\"].astype(\"category\")\n",
    "df[\"grade\"]"
   ]
  },
  {
   "cell_type": "markdown",
   "metadata": {},
   "source": [
    "Rename the categories to more meaningful names (assigning to Series.cat.categories is inplace!)"
   ]
  },
  {
   "cell_type": "code",
   "execution_count": 102,
   "metadata": {
    "collapsed": true,
    "jupyter": {
     "outputs_hidden": true
    }
   },
   "outputs": [],
   "source": [
    "df[\"grade\"].cat.categories = [\"very good\", \"good\", \"very bad\"]"
   ]
  },
  {
   "cell_type": "markdown",
   "metadata": {},
   "source": [
    "Reorder the categories and simultaneously add the missing categories (methods under Series .cat return a new Series per default)."
   ]
  },
  {
   "cell_type": "code",
   "execution_count": 104,
   "metadata": {},
   "outputs": [
    {
     "data": {
      "text/plain": [
       "0    very good\n",
       "1         good\n",
       "2         good\n",
       "3    very good\n",
       "4    very good\n",
       "5     very bad\n",
       "Name: grade, dtype: category\n",
       "Categories (5, object): [very bad, bad, medium, good, very good]"
      ]
     },
     "execution_count": 104,
     "metadata": {},
     "output_type": "execute_result"
    }
   ],
   "source": [
    "df[\"grade\"] = df[\"grade\"].cat.set_categories([\"very bad\", \"bad\", \"medium\", \"good\", \"very good\"])\n",
    "df[\"grade\"]"
   ]
  },
  {
   "cell_type": "markdown",
   "metadata": {},
   "source": [
    "Sorting is per order in the categories, not lexical order."
   ]
  },
  {
   "cell_type": "code",
   "execution_count": 105,
   "metadata": {},
   "outputs": [
    {
     "data": {
      "text/html": [
       "<div>\n",
       "<style>\n",
       "    .dataframe thead tr:only-child th {\n",
       "        text-align: right;\n",
       "    }\n",
       "\n",
       "    .dataframe thead th {\n",
       "        text-align: left;\n",
       "    }\n",
       "\n",
       "    .dataframe tbody tr th {\n",
       "        vertical-align: top;\n",
       "    }\n",
       "</style>\n",
       "<table border=\"1\" class=\"dataframe\">\n",
       "  <thead>\n",
       "    <tr style=\"text-align: right;\">\n",
       "      <th></th>\n",
       "      <th>id</th>\n",
       "      <th>raw_grade</th>\n",
       "      <th>grade</th>\n",
       "    </tr>\n",
       "  </thead>\n",
       "  <tbody>\n",
       "    <tr>\n",
       "      <th>5</th>\n",
       "      <td>6</td>\n",
       "      <td>e</td>\n",
       "      <td>very bad</td>\n",
       "    </tr>\n",
       "    <tr>\n",
       "      <th>1</th>\n",
       "      <td>2</td>\n",
       "      <td>b</td>\n",
       "      <td>good</td>\n",
       "    </tr>\n",
       "    <tr>\n",
       "      <th>2</th>\n",
       "      <td>3</td>\n",
       "      <td>b</td>\n",
       "      <td>good</td>\n",
       "    </tr>\n",
       "    <tr>\n",
       "      <th>0</th>\n",
       "      <td>1</td>\n",
       "      <td>a</td>\n",
       "      <td>very good</td>\n",
       "    </tr>\n",
       "    <tr>\n",
       "      <th>3</th>\n",
       "      <td>4</td>\n",
       "      <td>a</td>\n",
       "      <td>very good</td>\n",
       "    </tr>\n",
       "    <tr>\n",
       "      <th>4</th>\n",
       "      <td>5</td>\n",
       "      <td>a</td>\n",
       "      <td>very good</td>\n",
       "    </tr>\n",
       "  </tbody>\n",
       "</table>\n",
       "</div>"
      ],
      "text/plain": [
       "   id raw_grade      grade\n",
       "5   6         e   very bad\n",
       "1   2         b       good\n",
       "2   3         b       good\n",
       "0   1         a  very good\n",
       "3   4         a  very good\n",
       "4   5         a  very good"
      ]
     },
     "execution_count": 105,
     "metadata": {},
     "output_type": "execute_result"
    }
   ],
   "source": [
    "df.sort_values(by=\"grade\")"
   ]
  },
  {
   "cell_type": "markdown",
   "metadata": {},
   "source": [
    "Grouping by a categorical column shows also empty categories."
   ]
  },
  {
   "cell_type": "code",
   "execution_count": 106,
   "metadata": {},
   "outputs": [
    {
     "data": {
      "text/plain": [
       "grade\n",
       "very bad     1\n",
       "bad          0\n",
       "medium       0\n",
       "good         2\n",
       "very good    3\n",
       "dtype: int64"
      ]
     },
     "execution_count": 106,
     "metadata": {},
     "output_type": "execute_result"
    }
   ],
   "source": [
    "df.groupby(\"grade\").size()"
   ]
  },
  {
   "cell_type": "markdown",
   "metadata": {},
   "source": [
    "### Plotting\n",
    "\n",
    "[Plotting](https://pandas.pydata.org/pandas-docs/stable/visualization.html#visualization) docs."
   ]
  },
  {
   "cell_type": "code",
   "execution_count": 108,
   "metadata": {},
   "outputs": [
    {
     "data": {
      "text/plain": [
       "<matplotlib.axes._subplots.AxesSubplot at 0x105447890>"
      ]
     },
     "execution_count": 108,
     "metadata": {},
     "output_type": "execute_result"
    }
   ],
   "source": [
    "ts = pd.Series(np.random.randn(1000), index=pd.date_range('1/1/2000', periods=1000))\n",
    "ts = ts.cumsum()\n",
    "ts.plot()"
   ]
  },
  {
   "cell_type": "markdown",
   "metadata": {},
   "source": [
    "On DataFrame, [plot()](https://pandas.pydata.org/pandas-docs/stable/generated/pandas.DataFrame.plot.html#pandas.DataFrame.plot) is a convenience to plot all of the columns with labels:"
   ]
  },
  {
   "cell_type": "code",
   "execution_count": 123,
   "metadata": {},
   "outputs": [
    {
     "data": {
      "text/plain": [
       "<matplotlib.legend.Legend at 0x105e86cd0>"
      ]
     },
     "execution_count": 123,
     "metadata": {},
     "output_type": "execute_result"
    }
   ],
   "source": [
    "df = pd.DataFrame(np.random.randn(1000, 4), index=ts.index,columns=['A', 'B', 'C', 'D'])\n",
    "\n",
    "df = df.cumsum()\n",
    "plt.figure(); df.plot(); plt.legend(loc='best')"
   ]
  },
  {
   "cell_type": "markdown",
   "metadata": {},
   "source": [
    "### Getting Data In/Out\n",
    "#### CSV\n",
    "\n",
    "[Writing to a csv file](https://pandas.pydata.org/pandas-docs/stable/io.html#io-store-in-csv)"
   ]
  },
  {
   "cell_type": "code",
   "execution_count": 124,
   "metadata": {
    "collapsed": true,
    "jupyter": {
     "outputs_hidden": true
    }
   },
   "outputs": [],
   "source": [
    "df.to_csv('foo.csv')"
   ]
  },
  {
   "cell_type": "markdown",
   "metadata": {},
   "source": [
    "[Reading from a csv file](https://pandas.pydata.org/pandas-docs/stable/io.html#io-read-csv-table)"
   ]
  },
  {
   "cell_type": "code",
   "execution_count": 125,
   "metadata": {},
   "outputs": [
    {
     "data": {
      "text/html": [
       "<div>\n",
       "<style>\n",
       "    .dataframe thead tr:only-child th {\n",
       "        text-align: right;\n",
       "    }\n",
       "\n",
       "    .dataframe thead th {\n",
       "        text-align: left;\n",
       "    }\n",
       "\n",
       "    .dataframe tbody tr th {\n",
       "        vertical-align: top;\n",
       "    }\n",
       "</style>\n",
       "<table border=\"1\" class=\"dataframe\">\n",
       "  <thead>\n",
       "    <tr style=\"text-align: right;\">\n",
       "      <th></th>\n",
       "      <th>Unnamed: 0</th>\n",
       "      <th>A</th>\n",
       "      <th>B</th>\n",
       "      <th>C</th>\n",
       "      <th>D</th>\n",
       "    </tr>\n",
       "  </thead>\n",
       "  <tbody>\n",
       "    <tr>\n",
       "      <th>0</th>\n",
       "      <td>2000-01-01</td>\n",
       "      <td>-0.910556</td>\n",
       "      <td>-1.545417</td>\n",
       "      <td>0.188507</td>\n",
       "      <td>0.559820</td>\n",
       "    </tr>\n",
       "    <tr>\n",
       "      <th>1</th>\n",
       "      <td>2000-01-02</td>\n",
       "      <td>0.373343</td>\n",
       "      <td>-0.116611</td>\n",
       "      <td>-0.185180</td>\n",
       "      <td>-0.225997</td>\n",
       "    </tr>\n",
       "    <tr>\n",
       "      <th>2</th>\n",
       "      <td>2000-01-03</td>\n",
       "      <td>-0.142275</td>\n",
       "      <td>0.704828</td>\n",
       "      <td>0.471386</td>\n",
       "      <td>0.633212</td>\n",
       "    </tr>\n",
       "    <tr>\n",
       "      <th>3</th>\n",
       "      <td>2000-01-04</td>\n",
       "      <td>0.934022</td>\n",
       "      <td>0.731737</td>\n",
       "      <td>1.786989</td>\n",
       "      <td>-0.729610</td>\n",
       "    </tr>\n",
       "    <tr>\n",
       "      <th>4</th>\n",
       "      <td>2000-01-05</td>\n",
       "      <td>0.358642</td>\n",
       "      <td>0.221065</td>\n",
       "      <td>2.684632</td>\n",
       "      <td>-1.454626</td>\n",
       "    </tr>\n",
       "    <tr>\n",
       "      <th>5</th>\n",
       "      <td>2000-01-06</td>\n",
       "      <td>-1.308366</td>\n",
       "      <td>1.179378</td>\n",
       "      <td>0.140013</td>\n",
       "      <td>-2.488766</td>\n",
       "    </tr>\n",
       "    <tr>\n",
       "      <th>6</th>\n",
       "      <td>2000-01-07</td>\n",
       "      <td>-0.454445</td>\n",
       "      <td>0.729565</td>\n",
       "      <td>0.361280</td>\n",
       "      <td>-4.787469</td>\n",
       "    </tr>\n",
       "    <tr>\n",
       "      <th>7</th>\n",
       "      <td>2000-01-08</td>\n",
       "      <td>-1.098486</td>\n",
       "      <td>0.261791</td>\n",
       "      <td>0.381493</td>\n",
       "      <td>-4.200625</td>\n",
       "    </tr>\n",
       "    <tr>\n",
       "      <th>8</th>\n",
       "      <td>2000-01-09</td>\n",
       "      <td>-2.157339</td>\n",
       "      <td>0.883578</td>\n",
       "      <td>2.512046</td>\n",
       "      <td>-5.008484</td>\n",
       "    </tr>\n",
       "    <tr>\n",
       "      <th>9</th>\n",
       "      <td>2000-01-10</td>\n",
       "      <td>-3.263733</td>\n",
       "      <td>1.160326</td>\n",
       "      <td>3.960256</td>\n",
       "      <td>-4.171166</td>\n",
       "    </tr>\n",
       "    <tr>\n",
       "      <th>10</th>\n",
       "      <td>2000-01-11</td>\n",
       "      <td>-4.281906</td>\n",
       "      <td>1.407885</td>\n",
       "      <td>4.391472</td>\n",
       "      <td>-3.250233</td>\n",
       "    </tr>\n",
       "    <tr>\n",
       "      <th>11</th>\n",
       "      <td>2000-01-12</td>\n",
       "      <td>-3.940570</td>\n",
       "      <td>3.236058</td>\n",
       "      <td>4.160873</td>\n",
       "      <td>-3.410567</td>\n",
       "    </tr>\n",
       "    <tr>\n",
       "      <th>12</th>\n",
       "      <td>2000-01-13</td>\n",
       "      <td>-4.913182</td>\n",
       "      <td>2.582463</td>\n",
       "      <td>6.739778</td>\n",
       "      <td>-3.366437</td>\n",
       "    </tr>\n",
       "    <tr>\n",
       "      <th>13</th>\n",
       "      <td>2000-01-14</td>\n",
       "      <td>-4.934900</td>\n",
       "      <td>2.669572</td>\n",
       "      <td>6.848885</td>\n",
       "      <td>-4.013863</td>\n",
       "    </tr>\n",
       "    <tr>\n",
       "      <th>14</th>\n",
       "      <td>2000-01-15</td>\n",
       "      <td>-4.221736</td>\n",
       "      <td>2.364220</td>\n",
       "      <td>5.599559</td>\n",
       "      <td>-6.629536</td>\n",
       "    </tr>\n",
       "    <tr>\n",
       "      <th>15</th>\n",
       "      <td>2000-01-16</td>\n",
       "      <td>-5.742352</td>\n",
       "      <td>0.143775</td>\n",
       "      <td>6.834178</td>\n",
       "      <td>-7.413304</td>\n",
       "    </tr>\n",
       "    <tr>\n",
       "      <th>16</th>\n",
       "      <td>2000-01-17</td>\n",
       "      <td>-6.762771</td>\n",
       "      <td>0.639225</td>\n",
       "      <td>7.208280</td>\n",
       "      <td>-8.609705</td>\n",
       "    </tr>\n",
       "    <tr>\n",
       "      <th>17</th>\n",
       "      <td>2000-01-18</td>\n",
       "      <td>-7.320030</td>\n",
       "      <td>1.207606</td>\n",
       "      <td>6.926003</td>\n",
       "      <td>-8.300989</td>\n",
       "    </tr>\n",
       "    <tr>\n",
       "      <th>18</th>\n",
       "      <td>2000-01-19</td>\n",
       "      <td>-6.097432</td>\n",
       "      <td>3.107728</td>\n",
       "      <td>5.702137</td>\n",
       "      <td>-7.639190</td>\n",
       "    </tr>\n",
       "    <tr>\n",
       "      <th>19</th>\n",
       "      <td>2000-01-20</td>\n",
       "      <td>-5.801029</td>\n",
       "      <td>2.964945</td>\n",
       "      <td>6.597975</td>\n",
       "      <td>-8.142174</td>\n",
       "    </tr>\n",
       "    <tr>\n",
       "      <th>20</th>\n",
       "      <td>2000-01-21</td>\n",
       "      <td>-5.216726</td>\n",
       "      <td>4.073866</td>\n",
       "      <td>6.754302</td>\n",
       "      <td>-9.233708</td>\n",
       "    </tr>\n",
       "    <tr>\n",
       "      <th>21</th>\n",
       "      <td>2000-01-22</td>\n",
       "      <td>-5.922498</td>\n",
       "      <td>4.425095</td>\n",
       "      <td>6.054931</td>\n",
       "      <td>-7.782695</td>\n",
       "    </tr>\n",
       "    <tr>\n",
       "      <th>22</th>\n",
       "      <td>2000-01-23</td>\n",
       "      <td>-5.570809</td>\n",
       "      <td>4.267051</td>\n",
       "      <td>8.069022</td>\n",
       "      <td>-8.852631</td>\n",
       "    </tr>\n",
       "    <tr>\n",
       "      <th>23</th>\n",
       "      <td>2000-01-24</td>\n",
       "      <td>-6.477808</td>\n",
       "      <td>4.570579</td>\n",
       "      <td>8.003049</td>\n",
       "      <td>-9.202786</td>\n",
       "    </tr>\n",
       "    <tr>\n",
       "      <th>24</th>\n",
       "      <td>2000-01-25</td>\n",
       "      <td>-7.082641</td>\n",
       "      <td>5.056767</td>\n",
       "      <td>6.608375</td>\n",
       "      <td>-9.010367</td>\n",
       "    </tr>\n",
       "    <tr>\n",
       "      <th>25</th>\n",
       "      <td>2000-01-26</td>\n",
       "      <td>-7.193565</td>\n",
       "      <td>5.213726</td>\n",
       "      <td>6.264012</td>\n",
       "      <td>-9.516583</td>\n",
       "    </tr>\n",
       "    <tr>\n",
       "      <th>26</th>\n",
       "      <td>2000-01-27</td>\n",
       "      <td>-8.128036</td>\n",
       "      <td>6.720282</td>\n",
       "      <td>6.954781</td>\n",
       "      <td>-8.726711</td>\n",
       "    </tr>\n",
       "    <tr>\n",
       "      <th>27</th>\n",
       "      <td>2000-01-28</td>\n",
       "      <td>-7.867742</td>\n",
       "      <td>6.658053</td>\n",
       "      <td>7.103612</td>\n",
       "      <td>-7.120272</td>\n",
       "    </tr>\n",
       "    <tr>\n",
       "      <th>28</th>\n",
       "      <td>2000-01-29</td>\n",
       "      <td>-7.599814</td>\n",
       "      <td>6.523884</td>\n",
       "      <td>7.998524</td>\n",
       "      <td>-8.226622</td>\n",
       "    </tr>\n",
       "    <tr>\n",
       "      <th>29</th>\n",
       "      <td>2000-01-30</td>\n",
       "      <td>-6.600415</td>\n",
       "      <td>7.697928</td>\n",
       "      <td>7.264413</td>\n",
       "      <td>-8.093527</td>\n",
       "    </tr>\n",
       "    <tr>\n",
       "      <th>...</th>\n",
       "      <td>...</td>\n",
       "      <td>...</td>\n",
       "      <td>...</td>\n",
       "      <td>...</td>\n",
       "      <td>...</td>\n",
       "    </tr>\n",
       "    <tr>\n",
       "      <th>970</th>\n",
       "      <td>2002-08-28</td>\n",
       "      <td>1.120860</td>\n",
       "      <td>18.147286</td>\n",
       "      <td>20.741799</td>\n",
       "      <td>-40.589727</td>\n",
       "    </tr>\n",
       "    <tr>\n",
       "      <th>971</th>\n",
       "      <td>2002-08-29</td>\n",
       "      <td>1.953623</td>\n",
       "      <td>18.437565</td>\n",
       "      <td>20.392574</td>\n",
       "      <td>-40.399090</td>\n",
       "    </tr>\n",
       "    <tr>\n",
       "      <th>972</th>\n",
       "      <td>2002-08-30</td>\n",
       "      <td>1.444187</td>\n",
       "      <td>17.817685</td>\n",
       "      <td>19.809800</td>\n",
       "      <td>-40.092326</td>\n",
       "    </tr>\n",
       "    <tr>\n",
       "      <th>973</th>\n",
       "      <td>2002-08-31</td>\n",
       "      <td>0.572704</td>\n",
       "      <td>15.302224</td>\n",
       "      <td>18.748191</td>\n",
       "      <td>-40.025375</td>\n",
       "    </tr>\n",
       "    <tr>\n",
       "      <th>974</th>\n",
       "      <td>2002-09-01</td>\n",
       "      <td>-0.010476</td>\n",
       "      <td>15.467755</td>\n",
       "      <td>18.087457</td>\n",
       "      <td>-40.928968</td>\n",
       "    </tr>\n",
       "    <tr>\n",
       "      <th>975</th>\n",
       "      <td>2002-09-02</td>\n",
       "      <td>0.526808</td>\n",
       "      <td>15.795849</td>\n",
       "      <td>18.148194</td>\n",
       "      <td>-38.407749</td>\n",
       "    </tr>\n",
       "    <tr>\n",
       "      <th>976</th>\n",
       "      <td>2002-09-03</td>\n",
       "      <td>1.797870</td>\n",
       "      <td>16.783807</td>\n",
       "      <td>18.533031</td>\n",
       "      <td>-37.316300</td>\n",
       "    </tr>\n",
       "    <tr>\n",
       "      <th>977</th>\n",
       "      <td>2002-09-04</td>\n",
       "      <td>1.196706</td>\n",
       "      <td>18.239676</td>\n",
       "      <td>17.876219</td>\n",
       "      <td>-38.265966</td>\n",
       "    </tr>\n",
       "    <tr>\n",
       "      <th>978</th>\n",
       "      <td>2002-09-05</td>\n",
       "      <td>1.608956</td>\n",
       "      <td>16.785447</td>\n",
       "      <td>16.930586</td>\n",
       "      <td>-37.569312</td>\n",
       "    </tr>\n",
       "    <tr>\n",
       "      <th>979</th>\n",
       "      <td>2002-09-06</td>\n",
       "      <td>1.800609</td>\n",
       "      <td>15.510798</td>\n",
       "      <td>14.626188</td>\n",
       "      <td>-36.161501</td>\n",
       "    </tr>\n",
       "    <tr>\n",
       "      <th>980</th>\n",
       "      <td>2002-09-07</td>\n",
       "      <td>3.183535</td>\n",
       "      <td>14.626194</td>\n",
       "      <td>15.342846</td>\n",
       "      <td>-36.262504</td>\n",
       "    </tr>\n",
       "    <tr>\n",
       "      <th>981</th>\n",
       "      <td>2002-09-08</td>\n",
       "      <td>5.054452</td>\n",
       "      <td>14.722055</td>\n",
       "      <td>16.137563</td>\n",
       "      <td>-36.306604</td>\n",
       "    </tr>\n",
       "    <tr>\n",
       "      <th>982</th>\n",
       "      <td>2002-09-09</td>\n",
       "      <td>5.404154</td>\n",
       "      <td>15.476746</td>\n",
       "      <td>18.511264</td>\n",
       "      <td>-35.538736</td>\n",
       "    </tr>\n",
       "    <tr>\n",
       "      <th>983</th>\n",
       "      <td>2002-09-10</td>\n",
       "      <td>7.072559</td>\n",
       "      <td>14.667781</td>\n",
       "      <td>19.069192</td>\n",
       "      <td>-34.969460</td>\n",
       "    </tr>\n",
       "    <tr>\n",
       "      <th>984</th>\n",
       "      <td>2002-09-11</td>\n",
       "      <td>7.783478</td>\n",
       "      <td>16.362803</td>\n",
       "      <td>18.806444</td>\n",
       "      <td>-35.587558</td>\n",
       "    </tr>\n",
       "    <tr>\n",
       "      <th>985</th>\n",
       "      <td>2002-09-12</td>\n",
       "      <td>8.866035</td>\n",
       "      <td>15.818117</td>\n",
       "      <td>19.328770</td>\n",
       "      <td>-33.651882</td>\n",
       "    </tr>\n",
       "    <tr>\n",
       "      <th>986</th>\n",
       "      <td>2002-09-13</td>\n",
       "      <td>10.600745</td>\n",
       "      <td>14.506352</td>\n",
       "      <td>19.661962</td>\n",
       "      <td>-35.056466</td>\n",
       "    </tr>\n",
       "    <tr>\n",
       "      <th>987</th>\n",
       "      <td>2002-09-14</td>\n",
       "      <td>10.442868</td>\n",
       "      <td>15.742588</td>\n",
       "      <td>18.437957</td>\n",
       "      <td>-34.165857</td>\n",
       "    </tr>\n",
       "    <tr>\n",
       "      <th>988</th>\n",
       "      <td>2002-09-15</td>\n",
       "      <td>10.038415</td>\n",
       "      <td>16.746048</td>\n",
       "      <td>17.666293</td>\n",
       "      <td>-34.464068</td>\n",
       "    </tr>\n",
       "    <tr>\n",
       "      <th>989</th>\n",
       "      <td>2002-09-16</td>\n",
       "      <td>9.330489</td>\n",
       "      <td>15.616907</td>\n",
       "      <td>18.422307</td>\n",
       "      <td>-33.326217</td>\n",
       "    </tr>\n",
       "    <tr>\n",
       "      <th>990</th>\n",
       "      <td>2002-09-17</td>\n",
       "      <td>8.900009</td>\n",
       "      <td>14.969833</td>\n",
       "      <td>19.857261</td>\n",
       "      <td>-33.705564</td>\n",
       "    </tr>\n",
       "    <tr>\n",
       "      <th>991</th>\n",
       "      <td>2002-09-18</td>\n",
       "      <td>10.108561</td>\n",
       "      <td>15.219565</td>\n",
       "      <td>19.725759</td>\n",
       "      <td>-33.171343</td>\n",
       "    </tr>\n",
       "    <tr>\n",
       "      <th>992</th>\n",
       "      <td>2002-09-19</td>\n",
       "      <td>10.457609</td>\n",
       "      <td>13.329819</td>\n",
       "      <td>21.072764</td>\n",
       "      <td>-34.714137</td>\n",
       "    </tr>\n",
       "    <tr>\n",
       "      <th>993</th>\n",
       "      <td>2002-09-20</td>\n",
       "      <td>11.762031</td>\n",
       "      <td>13.988547</td>\n",
       "      <td>20.869271</td>\n",
       "      <td>-33.028222</td>\n",
       "    </tr>\n",
       "    <tr>\n",
       "      <th>994</th>\n",
       "      <td>2002-09-21</td>\n",
       "      <td>12.234344</td>\n",
       "      <td>12.990583</td>\n",
       "      <td>21.416444</td>\n",
       "      <td>-31.913443</td>\n",
       "    </tr>\n",
       "    <tr>\n",
       "      <th>995</th>\n",
       "      <td>2002-09-22</td>\n",
       "      <td>12.025271</td>\n",
       "      <td>13.406129</td>\n",
       "      <td>22.635219</td>\n",
       "      <td>-30.408787</td>\n",
       "    </tr>\n",
       "    <tr>\n",
       "      <th>996</th>\n",
       "      <td>2002-09-23</td>\n",
       "      <td>12.941569</td>\n",
       "      <td>12.658039</td>\n",
       "      <td>21.241339</td>\n",
       "      <td>-29.990762</td>\n",
       "    </tr>\n",
       "    <tr>\n",
       "      <th>997</th>\n",
       "      <td>2002-09-24</td>\n",
       "      <td>14.435235</td>\n",
       "      <td>13.305746</td>\n",
       "      <td>20.156422</td>\n",
       "      <td>-28.880799</td>\n",
       "    </tr>\n",
       "    <tr>\n",
       "      <th>998</th>\n",
       "      <td>2002-09-25</td>\n",
       "      <td>13.982616</td>\n",
       "      <td>11.591515</td>\n",
       "      <td>21.266888</td>\n",
       "      <td>-30.238048</td>\n",
       "    </tr>\n",
       "    <tr>\n",
       "      <th>999</th>\n",
       "      <td>2002-09-26</td>\n",
       "      <td>11.693571</td>\n",
       "      <td>11.375584</td>\n",
       "      <td>20.578080</td>\n",
       "      <td>-31.431854</td>\n",
       "    </tr>\n",
       "  </tbody>\n",
       "</table>\n",
       "<p>1000 rows × 5 columns</p>\n",
       "</div>"
      ],
      "text/plain": [
       "     Unnamed: 0          A          B          C          D\n",
       "0    2000-01-01  -0.910556  -1.545417   0.188507   0.559820\n",
       "1    2000-01-02   0.373343  -0.116611  -0.185180  -0.225997\n",
       "2    2000-01-03  -0.142275   0.704828   0.471386   0.633212\n",
       "3    2000-01-04   0.934022   0.731737   1.786989  -0.729610\n",
       "4    2000-01-05   0.358642   0.221065   2.684632  -1.454626\n",
       "5    2000-01-06  -1.308366   1.179378   0.140013  -2.488766\n",
       "6    2000-01-07  -0.454445   0.729565   0.361280  -4.787469\n",
       "7    2000-01-08  -1.098486   0.261791   0.381493  -4.200625\n",
       "8    2000-01-09  -2.157339   0.883578   2.512046  -5.008484\n",
       "9    2000-01-10  -3.263733   1.160326   3.960256  -4.171166\n",
       "10   2000-01-11  -4.281906   1.407885   4.391472  -3.250233\n",
       "11   2000-01-12  -3.940570   3.236058   4.160873  -3.410567\n",
       "12   2000-01-13  -4.913182   2.582463   6.739778  -3.366437\n",
       "13   2000-01-14  -4.934900   2.669572   6.848885  -4.013863\n",
       "14   2000-01-15  -4.221736   2.364220   5.599559  -6.629536\n",
       "15   2000-01-16  -5.742352   0.143775   6.834178  -7.413304\n",
       "16   2000-01-17  -6.762771   0.639225   7.208280  -8.609705\n",
       "17   2000-01-18  -7.320030   1.207606   6.926003  -8.300989\n",
       "18   2000-01-19  -6.097432   3.107728   5.702137  -7.639190\n",
       "19   2000-01-20  -5.801029   2.964945   6.597975  -8.142174\n",
       "20   2000-01-21  -5.216726   4.073866   6.754302  -9.233708\n",
       "21   2000-01-22  -5.922498   4.425095   6.054931  -7.782695\n",
       "22   2000-01-23  -5.570809   4.267051   8.069022  -8.852631\n",
       "23   2000-01-24  -6.477808   4.570579   8.003049  -9.202786\n",
       "24   2000-01-25  -7.082641   5.056767   6.608375  -9.010367\n",
       "25   2000-01-26  -7.193565   5.213726   6.264012  -9.516583\n",
       "26   2000-01-27  -8.128036   6.720282   6.954781  -8.726711\n",
       "27   2000-01-28  -7.867742   6.658053   7.103612  -7.120272\n",
       "28   2000-01-29  -7.599814   6.523884   7.998524  -8.226622\n",
       "29   2000-01-30  -6.600415   7.697928   7.264413  -8.093527\n",
       "..          ...        ...        ...        ...        ...\n",
       "970  2002-08-28   1.120860  18.147286  20.741799 -40.589727\n",
       "971  2002-08-29   1.953623  18.437565  20.392574 -40.399090\n",
       "972  2002-08-30   1.444187  17.817685  19.809800 -40.092326\n",
       "973  2002-08-31   0.572704  15.302224  18.748191 -40.025375\n",
       "974  2002-09-01  -0.010476  15.467755  18.087457 -40.928968\n",
       "975  2002-09-02   0.526808  15.795849  18.148194 -38.407749\n",
       "976  2002-09-03   1.797870  16.783807  18.533031 -37.316300\n",
       "977  2002-09-04   1.196706  18.239676  17.876219 -38.265966\n",
       "978  2002-09-05   1.608956  16.785447  16.930586 -37.569312\n",
       "979  2002-09-06   1.800609  15.510798  14.626188 -36.161501\n",
       "980  2002-09-07   3.183535  14.626194  15.342846 -36.262504\n",
       "981  2002-09-08   5.054452  14.722055  16.137563 -36.306604\n",
       "982  2002-09-09   5.404154  15.476746  18.511264 -35.538736\n",
       "983  2002-09-10   7.072559  14.667781  19.069192 -34.969460\n",
       "984  2002-09-11   7.783478  16.362803  18.806444 -35.587558\n",
       "985  2002-09-12   8.866035  15.818117  19.328770 -33.651882\n",
       "986  2002-09-13  10.600745  14.506352  19.661962 -35.056466\n",
       "987  2002-09-14  10.442868  15.742588  18.437957 -34.165857\n",
       "988  2002-09-15  10.038415  16.746048  17.666293 -34.464068\n",
       "989  2002-09-16   9.330489  15.616907  18.422307 -33.326217\n",
       "990  2002-09-17   8.900009  14.969833  19.857261 -33.705564\n",
       "991  2002-09-18  10.108561  15.219565  19.725759 -33.171343\n",
       "992  2002-09-19  10.457609  13.329819  21.072764 -34.714137\n",
       "993  2002-09-20  11.762031  13.988547  20.869271 -33.028222\n",
       "994  2002-09-21  12.234344  12.990583  21.416444 -31.913443\n",
       "995  2002-09-22  12.025271  13.406129  22.635219 -30.408787\n",
       "996  2002-09-23  12.941569  12.658039  21.241339 -29.990762\n",
       "997  2002-09-24  14.435235  13.305746  20.156422 -28.880799\n",
       "998  2002-09-25  13.982616  11.591515  21.266888 -30.238048\n",
       "999  2002-09-26  11.693571  11.375584  20.578080 -31.431854\n",
       "\n",
       "[1000 rows x 5 columns]"
      ]
     },
     "execution_count": 125,
     "metadata": {},
     "output_type": "execute_result"
    }
   ],
   "source": [
    "pd.read_csv('foo.csv')"
   ]
  },
  {
   "cell_type": "markdown",
   "metadata": {},
   "source": [
    "### HDF5\n",
    "\n",
    "Reading and writing to [HDFStores](https://pandas.pydata.org/pandas-docs/stable/io.html#io-hdf5)\n",
    "\n",
    "Writing to a HDF5 Store"
   ]
  },
  {
   "cell_type": "code",
   "execution_count": 119,
   "metadata": {},
   "outputs": [
    {
     "ename": "ImportError",
     "evalue": "HDFStore requires PyTables, \"No module named tables\" problem importing",
     "output_type": "error",
     "traceback": [
      "\u001b[0;31m---------------------------------------------------------------------------\u001b[0m",
      "\u001b[0;31mImportError\u001b[0m                               Traceback (most recent call last)",
      "\u001b[0;32m<ipython-input-119-e0d33f283556>\u001b[0m in \u001b[0;36m<module>\u001b[0;34m()\u001b[0m\n\u001b[0;32m----> 1\u001b[0;31m \u001b[0mdf\u001b[0m\u001b[0;34m.\u001b[0m\u001b[0mto_hdf\u001b[0m\u001b[0;34m(\u001b[0m\u001b[0;34m'foo.h5'\u001b[0m\u001b[0;34m,\u001b[0m\u001b[0;34m'df'\u001b[0m\u001b[0;34m)\u001b[0m\u001b[0;34m\u001b[0m\u001b[0m\n\u001b[0m",
      "\u001b[0;32m/usr/local/lib/python2.7/site-packages/pandas/core/generic.pyc\u001b[0m in \u001b[0;36mto_hdf\u001b[0;34m(self, path_or_buf, key, **kwargs)\u001b[0m\n\u001b[1;32m   1297\u001b[0m \u001b[0;34m\u001b[0m\u001b[0m\n\u001b[1;32m   1298\u001b[0m         \u001b[0;32mfrom\u001b[0m \u001b[0mpandas\u001b[0m\u001b[0;34m.\u001b[0m\u001b[0mio\u001b[0m \u001b[0;32mimport\u001b[0m \u001b[0mpytables\u001b[0m\u001b[0;34m\u001b[0m\u001b[0m\n\u001b[0;32m-> 1299\u001b[0;31m         \u001b[0;32mreturn\u001b[0m \u001b[0mpytables\u001b[0m\u001b[0;34m.\u001b[0m\u001b[0mto_hdf\u001b[0m\u001b[0;34m(\u001b[0m\u001b[0mpath_or_buf\u001b[0m\u001b[0;34m,\u001b[0m \u001b[0mkey\u001b[0m\u001b[0;34m,\u001b[0m \u001b[0mself\u001b[0m\u001b[0;34m,\u001b[0m \u001b[0;34m**\u001b[0m\u001b[0mkwargs\u001b[0m\u001b[0;34m)\u001b[0m\u001b[0;34m\u001b[0m\u001b[0m\n\u001b[0m\u001b[1;32m   1300\u001b[0m \u001b[0;34m\u001b[0m\u001b[0m\n\u001b[1;32m   1301\u001b[0m     \u001b[0;32mdef\u001b[0m \u001b[0mto_msgpack\u001b[0m\u001b[0;34m(\u001b[0m\u001b[0mself\u001b[0m\u001b[0;34m,\u001b[0m \u001b[0mpath_or_buf\u001b[0m\u001b[0;34m=\u001b[0m\u001b[0mNone\u001b[0m\u001b[0;34m,\u001b[0m \u001b[0mencoding\u001b[0m\u001b[0;34m=\u001b[0m\u001b[0;34m'utf-8'\u001b[0m\u001b[0;34m,\u001b[0m \u001b[0;34m**\u001b[0m\u001b[0mkwargs\u001b[0m\u001b[0;34m)\u001b[0m\u001b[0;34m:\u001b[0m\u001b[0;34m\u001b[0m\u001b[0m\n",
      "\u001b[0;32m/usr/local/lib/python2.7/site-packages/pandas/io/pytables.pyc\u001b[0m in \u001b[0;36mto_hdf\u001b[0;34m(path_or_buf, key, value, mode, complevel, complib, append, **kwargs)\u001b[0m\n\u001b[1;32m    277\u001b[0m     \u001b[0;32mif\u001b[0m \u001b[0misinstance\u001b[0m\u001b[0;34m(\u001b[0m\u001b[0mpath_or_buf\u001b[0m\u001b[0;34m,\u001b[0m \u001b[0mstring_types\u001b[0m\u001b[0;34m)\u001b[0m\u001b[0;34m:\u001b[0m\u001b[0;34m\u001b[0m\u001b[0m\n\u001b[1;32m    278\u001b[0m         with HDFStore(path_or_buf, mode=mode, complevel=complevel,\n\u001b[0;32m--> 279\u001b[0;31m                       complib=complib) as store:\n\u001b[0m\u001b[1;32m    280\u001b[0m             \u001b[0mf\u001b[0m\u001b[0;34m(\u001b[0m\u001b[0mstore\u001b[0m\u001b[0;34m)\u001b[0m\u001b[0;34m\u001b[0m\u001b[0m\n\u001b[1;32m    281\u001b[0m     \u001b[0;32melse\u001b[0m\u001b[0;34m:\u001b[0m\u001b[0;34m\u001b[0m\u001b[0m\n",
      "\u001b[0;32m/usr/local/lib/python2.7/site-packages/pandas/io/pytables.pyc\u001b[0m in \u001b[0;36m__init__\u001b[0;34m(self, path, mode, complevel, complib, fletcher32, **kwargs)\u001b[0m\n\u001b[1;32m    448\u001b[0m         \u001b[0;32mexcept\u001b[0m \u001b[0mImportError\u001b[0m \u001b[0;32mas\u001b[0m \u001b[0mex\u001b[0m\u001b[0;34m:\u001b[0m  \u001b[0;31m# pragma: no cover\u001b[0m\u001b[0;34m\u001b[0m\u001b[0m\n\u001b[1;32m    449\u001b[0m             raise ImportError('HDFStore requires PyTables, \"{ex}\" problem '\n\u001b[0;32m--> 450\u001b[0;31m                               'importing'.format(ex=str(ex)))\n\u001b[0m\u001b[1;32m    451\u001b[0m \u001b[0;34m\u001b[0m\u001b[0m\n\u001b[1;32m    452\u001b[0m         \u001b[0;32mif\u001b[0m \u001b[0mcomplib\u001b[0m \u001b[0;32mis\u001b[0m \u001b[0;32mnot\u001b[0m \u001b[0mNone\u001b[0m \u001b[0;32mand\u001b[0m \u001b[0mcomplib\u001b[0m \u001b[0;32mnot\u001b[0m \u001b[0;32min\u001b[0m \u001b[0mtables\u001b[0m\u001b[0;34m.\u001b[0m\u001b[0mfilters\u001b[0m\u001b[0;34m.\u001b[0m\u001b[0mall_complibs\u001b[0m\u001b[0;34m:\u001b[0m\u001b[0;34m\u001b[0m\u001b[0m\n",
      "\u001b[0;31mImportError\u001b[0m: HDFStore requires PyTables, \"No module named tables\" problem importing"
     ]
    }
   ],
   "source": [
    "df.to_hdf('foo.h5','df')"
   ]
  },
  {
   "cell_type": "markdown",
   "metadata": {},
   "source": [
    "Reading from a HDF5 Store"
   ]
  },
  {
   "cell_type": "code",
   "execution_count": 115,
   "metadata": {},
   "outputs": [
    {
     "ename": "IOError",
     "evalue": "File foo.h5 does not exist",
     "output_type": "error",
     "traceback": [
      "\u001b[0;31m---------------------------------------------------------------------------\u001b[0m",
      "\u001b[0;31mIOError\u001b[0m                                   Traceback (most recent call last)",
      "\u001b[0;32m<ipython-input-115-5a7d4ea37036>\u001b[0m in \u001b[0;36m<module>\u001b[0;34m()\u001b[0m\n\u001b[0;32m----> 1\u001b[0;31m \u001b[0mpd\u001b[0m\u001b[0;34m.\u001b[0m\u001b[0mread_hdf\u001b[0m\u001b[0;34m(\u001b[0m\u001b[0;34m'foo.h5'\u001b[0m\u001b[0;34m,\u001b[0m\u001b[0;34m'df'\u001b[0m\u001b[0;34m)\u001b[0m\u001b[0;34m\u001b[0m\u001b[0m\n\u001b[0m",
      "\u001b[0;32m/usr/local/lib/python2.7/site-packages/pandas/io/pytables.pyc\u001b[0m in \u001b[0;36mread_hdf\u001b[0;34m(path_or_buf, key, mode, **kwargs)\u001b[0m\n\u001b[1;32m    336\u001b[0m         \u001b[0;32mif\u001b[0m \u001b[0;32mnot\u001b[0m \u001b[0mexists\u001b[0m\u001b[0;34m:\u001b[0m\u001b[0;34m\u001b[0m\u001b[0m\n\u001b[1;32m    337\u001b[0m             raise compat.FileNotFoundError(\n\u001b[0;32m--> 338\u001b[0;31m                 'File %s does not exist' % path_or_buf)\n\u001b[0m\u001b[1;32m    339\u001b[0m \u001b[0;34m\u001b[0m\u001b[0m\n\u001b[1;32m    340\u001b[0m         \u001b[0mstore\u001b[0m \u001b[0;34m=\u001b[0m \u001b[0mHDFStore\u001b[0m\u001b[0;34m(\u001b[0m\u001b[0mpath_or_buf\u001b[0m\u001b[0;34m,\u001b[0m \u001b[0mmode\u001b[0m\u001b[0;34m=\u001b[0m\u001b[0mmode\u001b[0m\u001b[0;34m,\u001b[0m \u001b[0;34m**\u001b[0m\u001b[0mkwargs\u001b[0m\u001b[0;34m)\u001b[0m\u001b[0;34m\u001b[0m\u001b[0m\n",
      "\u001b[0;31mIOError\u001b[0m: File foo.h5 does not exist"
     ]
    }
   ],
   "source": [
    "pd.read_hdf('foo.h5','df')"
   ]
  },
  {
   "cell_type": "markdown",
   "metadata": {},
   "source": [
    "### Excel\n",
    "\n",
    "Reading and writing to [MS Excel](https://pandas.pydata.org/pandas-docs/stable/io.html#io-excel)\n",
    "\n",
    "Writing to an excel file"
   ]
  },
  {
   "cell_type": "code",
   "execution_count": 116,
   "metadata": {},
   "outputs": [
    {
     "ename": "ImportError",
     "evalue": "No module named openpyxl",
     "output_type": "error",
     "traceback": [
      "\u001b[0;31m---------------------------------------------------------------------------\u001b[0m",
      "\u001b[0;31mImportError\u001b[0m                               Traceback (most recent call last)",
      "\u001b[0;32m<ipython-input-116-10825e6e6d94>\u001b[0m in \u001b[0;36m<module>\u001b[0;34m()\u001b[0m\n\u001b[0;32m----> 1\u001b[0;31m \u001b[0mdf\u001b[0m\u001b[0;34m.\u001b[0m\u001b[0mto_excel\u001b[0m\u001b[0;34m(\u001b[0m\u001b[0;34m'foo.xlsx'\u001b[0m\u001b[0;34m,\u001b[0m \u001b[0msheet_name\u001b[0m\u001b[0;34m=\u001b[0m\u001b[0;34m'Sheet1'\u001b[0m\u001b[0;34m)\u001b[0m\u001b[0;34m\u001b[0m\u001b[0m\n\u001b[0m",
      "\u001b[0;32m/usr/local/lib/python2.7/site-packages/pandas/core/frame.pyc\u001b[0m in \u001b[0;36mto_excel\u001b[0;34m(self, excel_writer, sheet_name, na_rep, float_format, columns, header, index, index_label, startrow, startcol, engine, merge_cells, encoding, inf_rep, verbose, freeze_panes)\u001b[0m\n\u001b[1;32m   1422\u001b[0m         formatter.write(excel_writer, sheet_name=sheet_name, startrow=startrow,\n\u001b[1;32m   1423\u001b[0m                         \u001b[0mstartcol\u001b[0m\u001b[0;34m=\u001b[0m\u001b[0mstartcol\u001b[0m\u001b[0;34m,\u001b[0m \u001b[0mfreeze_panes\u001b[0m\u001b[0;34m=\u001b[0m\u001b[0mfreeze_panes\u001b[0m\u001b[0;34m,\u001b[0m\u001b[0;34m\u001b[0m\u001b[0m\n\u001b[0;32m-> 1424\u001b[0;31m                         engine=engine)\n\u001b[0m\u001b[1;32m   1425\u001b[0m \u001b[0;34m\u001b[0m\u001b[0m\n\u001b[1;32m   1426\u001b[0m     def to_stata(self, fname, convert_dates=None, write_index=True,\n",
      "\u001b[0;32m/usr/local/lib/python2.7/site-packages/pandas/io/formats/excel.pyc\u001b[0m in \u001b[0;36mwrite\u001b[0;34m(self, writer, sheet_name, startrow, startcol, freeze_panes, engine)\u001b[0m\n\u001b[1;32m    620\u001b[0m         \u001b[0mneed_save\u001b[0m \u001b[0;34m=\u001b[0m \u001b[0mFalse\u001b[0m\u001b[0;34m\u001b[0m\u001b[0m\n\u001b[1;32m    621\u001b[0m         \u001b[0;32mif\u001b[0m \u001b[0misinstance\u001b[0m\u001b[0;34m(\u001b[0m\u001b[0mwriter\u001b[0m\u001b[0;34m,\u001b[0m \u001b[0mstring_types\u001b[0m\u001b[0;34m)\u001b[0m\u001b[0;34m:\u001b[0m\u001b[0;34m\u001b[0m\u001b[0m\n\u001b[0;32m--> 622\u001b[0;31m             \u001b[0mwriter\u001b[0m \u001b[0;34m=\u001b[0m \u001b[0mExcelWriter\u001b[0m\u001b[0;34m(\u001b[0m\u001b[0mwriter\u001b[0m\u001b[0;34m,\u001b[0m \u001b[0mengine\u001b[0m\u001b[0;34m=\u001b[0m\u001b[0mengine\u001b[0m\u001b[0;34m)\u001b[0m\u001b[0;34m\u001b[0m\u001b[0m\n\u001b[0m\u001b[1;32m    623\u001b[0m             \u001b[0mneed_save\u001b[0m \u001b[0;34m=\u001b[0m \u001b[0mTrue\u001b[0m\u001b[0;34m\u001b[0m\u001b[0m\n\u001b[1;32m    624\u001b[0m \u001b[0;34m\u001b[0m\u001b[0m\n",
      "\u001b[0;32m/usr/local/lib/python2.7/site-packages/pandas/io/excel.pyc\u001b[0m in \u001b[0;36m__init__\u001b[0;34m(self, path, engine, **engine_kwargs)\u001b[0m\n\u001b[1;32m    797\u001b[0m \u001b[0;34m\u001b[0m\u001b[0m\n\u001b[1;32m    798\u001b[0m     \u001b[0;32mdef\u001b[0m \u001b[0m__init__\u001b[0m\u001b[0;34m(\u001b[0m\u001b[0mself\u001b[0m\u001b[0;34m,\u001b[0m \u001b[0mpath\u001b[0m\u001b[0;34m,\u001b[0m \u001b[0mengine\u001b[0m\u001b[0;34m=\u001b[0m\u001b[0mNone\u001b[0m\u001b[0;34m,\u001b[0m \u001b[0;34m**\u001b[0m\u001b[0mengine_kwargs\u001b[0m\u001b[0;34m)\u001b[0m\u001b[0;34m:\u001b[0m\u001b[0;34m\u001b[0m\u001b[0m\n\u001b[0;32m--> 799\u001b[0;31m         \u001b[0;32mif\u001b[0m \u001b[0;32mnot\u001b[0m \u001b[0mopenpyxl_compat\u001b[0m\u001b[0;34m.\u001b[0m\u001b[0mis_compat\u001b[0m\u001b[0;34m(\u001b[0m\u001b[0mmajor_ver\u001b[0m\u001b[0;34m=\u001b[0m\u001b[0mself\u001b[0m\u001b[0;34m.\u001b[0m\u001b[0mopenpyxl_majorver\u001b[0m\u001b[0;34m)\u001b[0m\u001b[0;34m:\u001b[0m\u001b[0;34m\u001b[0m\u001b[0m\n\u001b[0m\u001b[1;32m    800\u001b[0m             raise ValueError('Installed openpyxl is not supported at this '\n\u001b[1;32m    801\u001b[0m                              \u001b[0;34m'time. Use {0}.x.y.'\u001b[0m\u001b[0;34m\u001b[0m\u001b[0m\n",
      "\u001b[0;32m/usr/local/lib/python2.7/site-packages/pandas/compat/openpyxl_compat.pyc\u001b[0m in \u001b[0;36mis_compat\u001b[0;34m(major_ver)\u001b[0m\n\u001b[1;32m     25\u001b[0m         \u001b[0;34m`\u001b[0m\u001b[0;34m`\u001b[0m\u001b[0mFalse\u001b[0m\u001b[0;34m`\u001b[0m\u001b[0;34m`\u001b[0m \u001b[0motherwise\u001b[0m\u001b[0;34m.\u001b[0m\u001b[0;34m\u001b[0m\u001b[0m\n\u001b[1;32m     26\u001b[0m     \"\"\"\n\u001b[0;32m---> 27\u001b[0;31m     \u001b[0;32mimport\u001b[0m \u001b[0mopenpyxl\u001b[0m\u001b[0;34m\u001b[0m\u001b[0m\n\u001b[0m\u001b[1;32m     28\u001b[0m     \u001b[0mver\u001b[0m \u001b[0;34m=\u001b[0m \u001b[0mLooseVersion\u001b[0m\u001b[0;34m(\u001b[0m\u001b[0mopenpyxl\u001b[0m\u001b[0;34m.\u001b[0m\u001b[0m__version__\u001b[0m\u001b[0;34m)\u001b[0m\u001b[0;34m\u001b[0m\u001b[0m\n\u001b[1;32m     29\u001b[0m     \u001b[0;32mif\u001b[0m \u001b[0mmajor_ver\u001b[0m \u001b[0;34m==\u001b[0m \u001b[0;36m1\u001b[0m\u001b[0;34m:\u001b[0m\u001b[0;34m\u001b[0m\u001b[0m\n",
      "\u001b[0;31mImportError\u001b[0m: No module named openpyxl"
     ]
    }
   ],
   "source": [
    "df.to_excel('foo.xlsx', sheet_name='Sheet1')"
   ]
  },
  {
   "cell_type": "markdown",
   "metadata": {},
   "source": [
    "Reading from an excel file"
   ]
  },
  {
   "cell_type": "code",
   "execution_count": 117,
   "metadata": {},
   "outputs": [
    {
     "ename": "ImportError",
     "evalue": "No module named xlrd",
     "output_type": "error",
     "traceback": [
      "\u001b[0;31m---------------------------------------------------------------------------\u001b[0m",
      "\u001b[0;31mImportError\u001b[0m                               Traceback (most recent call last)",
      "\u001b[0;32m<ipython-input-117-b15135be1ce0>\u001b[0m in \u001b[0;36m<module>\u001b[0;34m()\u001b[0m\n\u001b[0;32m----> 1\u001b[0;31m \u001b[0mpd\u001b[0m\u001b[0;34m.\u001b[0m\u001b[0mread_excel\u001b[0m\u001b[0;34m(\u001b[0m\u001b[0;34m'foo.xlsx'\u001b[0m\u001b[0;34m,\u001b[0m \u001b[0;34m'Sheet1'\u001b[0m\u001b[0;34m,\u001b[0m \u001b[0mindex_col\u001b[0m\u001b[0;34m=\u001b[0m\u001b[0mNone\u001b[0m\u001b[0;34m,\u001b[0m \u001b[0mna_values\u001b[0m\u001b[0;34m=\u001b[0m\u001b[0;34m[\u001b[0m\u001b[0;34m'NA'\u001b[0m\u001b[0;34m]\u001b[0m\u001b[0;34m)\u001b[0m\u001b[0;34m\u001b[0m\u001b[0m\n\u001b[0m",
      "\u001b[0;32m/usr/local/lib/python2.7/site-packages/pandas/io/excel.pyc\u001b[0m in \u001b[0;36mread_excel\u001b[0;34m(io, sheetname, header, skiprows, skip_footer, index_col, names, parse_cols, parse_dates, date_parser, na_values, thousands, convert_float, has_index_names, converters, dtype, true_values, false_values, engine, squeeze, **kwds)\u001b[0m\n\u001b[1;32m    201\u001b[0m \u001b[0;34m\u001b[0m\u001b[0m\n\u001b[1;32m    202\u001b[0m     \u001b[0;32mif\u001b[0m \u001b[0;32mnot\u001b[0m \u001b[0misinstance\u001b[0m\u001b[0;34m(\u001b[0m\u001b[0mio\u001b[0m\u001b[0;34m,\u001b[0m \u001b[0mExcelFile\u001b[0m\u001b[0;34m)\u001b[0m\u001b[0;34m:\u001b[0m\u001b[0;34m\u001b[0m\u001b[0m\n\u001b[0;32m--> 203\u001b[0;31m         \u001b[0mio\u001b[0m \u001b[0;34m=\u001b[0m \u001b[0mExcelFile\u001b[0m\u001b[0;34m(\u001b[0m\u001b[0mio\u001b[0m\u001b[0;34m,\u001b[0m \u001b[0mengine\u001b[0m\u001b[0;34m=\u001b[0m\u001b[0mengine\u001b[0m\u001b[0;34m)\u001b[0m\u001b[0;34m\u001b[0m\u001b[0m\n\u001b[0m\u001b[1;32m    204\u001b[0m \u001b[0;34m\u001b[0m\u001b[0m\n\u001b[1;32m    205\u001b[0m     return io._parse_excel(\n",
      "\u001b[0;32m/usr/local/lib/python2.7/site-packages/pandas/io/excel.pyc\u001b[0m in \u001b[0;36m__init__\u001b[0;34m(self, io, **kwds)\u001b[0m\n\u001b[1;32m    230\u001b[0m     \u001b[0;32mdef\u001b[0m \u001b[0m__init__\u001b[0m\u001b[0;34m(\u001b[0m\u001b[0mself\u001b[0m\u001b[0;34m,\u001b[0m \u001b[0mio\u001b[0m\u001b[0;34m,\u001b[0m \u001b[0;34m**\u001b[0m\u001b[0mkwds\u001b[0m\u001b[0;34m)\u001b[0m\u001b[0;34m:\u001b[0m\u001b[0;34m\u001b[0m\u001b[0m\n\u001b[1;32m    231\u001b[0m \u001b[0;34m\u001b[0m\u001b[0m\n\u001b[0;32m--> 232\u001b[0;31m         \u001b[0;32mimport\u001b[0m \u001b[0mxlrd\u001b[0m  \u001b[0;31m# throw an ImportError if we need to\u001b[0m\u001b[0;34m\u001b[0m\u001b[0m\n\u001b[0m\u001b[1;32m    233\u001b[0m \u001b[0;34m\u001b[0m\u001b[0m\n\u001b[1;32m    234\u001b[0m         \u001b[0mver\u001b[0m \u001b[0;34m=\u001b[0m \u001b[0mtuple\u001b[0m\u001b[0;34m(\u001b[0m\u001b[0mmap\u001b[0m\u001b[0;34m(\u001b[0m\u001b[0mint\u001b[0m\u001b[0;34m,\u001b[0m \u001b[0mxlrd\u001b[0m\u001b[0;34m.\u001b[0m\u001b[0m__VERSION__\u001b[0m\u001b[0;34m.\u001b[0m\u001b[0msplit\u001b[0m\u001b[0;34m(\u001b[0m\u001b[0;34m\".\"\u001b[0m\u001b[0;34m)\u001b[0m\u001b[0;34m[\u001b[0m\u001b[0;34m:\u001b[0m\u001b[0;36m2\u001b[0m\u001b[0;34m]\u001b[0m\u001b[0;34m)\u001b[0m\u001b[0;34m)\u001b[0m\u001b[0;34m\u001b[0m\u001b[0m\n",
      "\u001b[0;31mImportError\u001b[0m: No module named xlrd"
     ]
    }
   ],
   "source": [
    "pd.read_excel('foo.xlsx', 'Sheet1', index_col=None, na_values=['NA'])"
   ]
  },
  {
   "cell_type": "markdown",
   "metadata": {},
   "source": [
    "### Gotchas\n",
    "\n",
    "If you are trying an operation and you see an exception like:\n",
    "```\n",
    ">>> if pd.Series([False, True, False]):\n",
    "    print(\"I was true\")\n",
    "Traceback\n",
    "    ...\n",
    "ValueError: The truth value of an array is ambiguous. Use a.empty, a.any() or a.all().\n",
    "```\n",
    "See [Comparisons](https://pandas.pydata.org/pandas-docs/stable/basics.html#basics-compare) for an explanation and what to do.\n",
    "\n",
    "See [Gotchas](https://pandas.pydata.org/pandas-docs/stable/gotchas.html#gotchas) as well."
   ]
  },
  {
   "cell_type": "code",
   "execution_count": null,
   "metadata": {
    "collapsed": true,
    "jupyter": {
     "outputs_hidden": true
    }
   },
   "outputs": [],
   "source": []
  },
  {
   "cell_type": "code",
   "execution_count": null,
   "metadata": {
    "collapsed": true,
    "jupyter": {
     "outputs_hidden": true
    }
   },
   "outputs": [],
   "source": []
  },
  {
   "cell_type": "markdown",
   "metadata": {},
   "source": [
    "# Finally\n",
    "KP: Here I am just trying to find out if the [scikit-learn](http://scikit-learn.org/stable/) and [ROOT](https://github.com/root-project/root/tree/master/bindings/pyroot/JupyROOT) modules is recognized and no error is thrown. I plan to try it in more detail later in another notebook.\n",
    "## scikit-learn\n",
    "Machine Learning in Python\n",
    "* Simple and efficient tools for data mining and data analysis\n",
    "* Accessible to everybody, and reusable in various contexts\n",
    "* Built on NumPy, SciPy, and matplotlib\n",
    "* Open source, commercially usable - BSD license"
   ]
  },
  {
   "cell_type": "code",
   "execution_count": 5,
   "metadata": {
    "collapsed": true,
    "jupyter": {
     "outputs_hidden": true
    }
   },
   "outputs": [],
   "source": [
    "import sklearn"
   ]
  },
  {
   "cell_type": "code",
   "execution_count": 4,
   "metadata": {},
   "outputs": [
    {
     "name": "stdout",
     "output_type": "stream",
     "text": [
      "Welcome to JupyROOT 6.10/04\n"
     ]
    }
   ],
   "source": [
    "import ROOT"
   ]
  },
  {
   "cell_type": "code",
   "execution_count": 8,
   "metadata": {},
   "outputs": [
    {
     "data": {
      "text/html": [
       "<div>\n",
       "<style>\n",
       "    .dataframe thead tr:only-child th {\n",
       "        text-align: right;\n",
       "    }\n",
       "\n",
       "    .dataframe thead th {\n",
       "        text-align: left;\n",
       "    }\n",
       "\n",
       "    .dataframe tbody tr th {\n",
       "        vertical-align: top;\n",
       "    }\n",
       "</style>\n",
       "<table border=\"1\" class=\"dataframe\">\n",
       "  <thead>\n",
       "    <tr style=\"text-align: right;\">\n",
       "      <th></th>\n",
       "      <th>Open</th>\n",
       "      <th>High</th>\n",
       "      <th>Low</th>\n",
       "      <th>Close</th>\n",
       "      <th>Adj Close</th>\n",
       "      <th>Volume</th>\n",
       "    </tr>\n",
       "    <tr>\n",
       "      <th>Date</th>\n",
       "      <th></th>\n",
       "      <th></th>\n",
       "      <th></th>\n",
       "      <th></th>\n",
       "      <th></th>\n",
       "      <th></th>\n",
       "    </tr>\n",
       "  </thead>\n",
       "  <tbody>\n",
       "    <tr>\n",
       "      <th>2010-01-04</th>\n",
       "      <td>30.490000</td>\n",
       "      <td>30.642857</td>\n",
       "      <td>30.340000</td>\n",
       "      <td>30.572857</td>\n",
       "      <td>27.613066</td>\n",
       "      <td>123432400</td>\n",
       "    </tr>\n",
       "    <tr>\n",
       "      <th>2010-01-05</th>\n",
       "      <td>30.657143</td>\n",
       "      <td>30.798571</td>\n",
       "      <td>30.464285</td>\n",
       "      <td>30.625713</td>\n",
       "      <td>27.660807</td>\n",
       "      <td>150476200</td>\n",
       "    </tr>\n",
       "    <tr>\n",
       "      <th>2010-01-06</th>\n",
       "      <td>30.625713</td>\n",
       "      <td>30.747143</td>\n",
       "      <td>30.107143</td>\n",
       "      <td>30.138571</td>\n",
       "      <td>27.220825</td>\n",
       "      <td>138040000</td>\n",
       "    </tr>\n",
       "    <tr>\n",
       "      <th>2010-01-07</th>\n",
       "      <td>30.250000</td>\n",
       "      <td>30.285715</td>\n",
       "      <td>29.864286</td>\n",
       "      <td>30.082857</td>\n",
       "      <td>27.170504</td>\n",
       "      <td>119282800</td>\n",
       "    </tr>\n",
       "    <tr>\n",
       "      <th>2010-01-08</th>\n",
       "      <td>30.042856</td>\n",
       "      <td>30.285715</td>\n",
       "      <td>29.865715</td>\n",
       "      <td>30.282858</td>\n",
       "      <td>27.351143</td>\n",
       "      <td>111902700</td>\n",
       "    </tr>\n",
       "    <tr>\n",
       "      <th>2010-01-11</th>\n",
       "      <td>30.400000</td>\n",
       "      <td>30.428572</td>\n",
       "      <td>29.778572</td>\n",
       "      <td>30.015715</td>\n",
       "      <td>27.109863</td>\n",
       "      <td>115557400</td>\n",
       "    </tr>\n",
       "    <tr>\n",
       "      <th>2010-01-12</th>\n",
       "      <td>29.884285</td>\n",
       "      <td>29.967142</td>\n",
       "      <td>29.488571</td>\n",
       "      <td>29.674286</td>\n",
       "      <td>26.801487</td>\n",
       "      <td>148614900</td>\n",
       "    </tr>\n",
       "    <tr>\n",
       "      <th>2010-01-13</th>\n",
       "      <td>29.695715</td>\n",
       "      <td>30.132856</td>\n",
       "      <td>29.157143</td>\n",
       "      <td>30.092857</td>\n",
       "      <td>27.179537</td>\n",
       "      <td>151473000</td>\n",
       "    </tr>\n",
       "    <tr>\n",
       "      <th>2010-01-14</th>\n",
       "      <td>30.015715</td>\n",
       "      <td>30.065714</td>\n",
       "      <td>29.860001</td>\n",
       "      <td>29.918571</td>\n",
       "      <td>27.022121</td>\n",
       "      <td>108223500</td>\n",
       "    </tr>\n",
       "    <tr>\n",
       "      <th>2010-01-15</th>\n",
       "      <td>30.132856</td>\n",
       "      <td>30.228571</td>\n",
       "      <td>29.410000</td>\n",
       "      <td>29.418571</td>\n",
       "      <td>26.570528</td>\n",
       "      <td>148516900</td>\n",
       "    </tr>\n",
       "    <tr>\n",
       "      <th>2010-01-19</th>\n",
       "      <td>29.761429</td>\n",
       "      <td>30.741428</td>\n",
       "      <td>29.605715</td>\n",
       "      <td>30.719999</td>\n",
       "      <td>27.745962</td>\n",
       "      <td>182501900</td>\n",
       "    </tr>\n",
       "    <tr>\n",
       "      <th>2010-01-20</th>\n",
       "      <td>30.701429</td>\n",
       "      <td>30.792856</td>\n",
       "      <td>29.928572</td>\n",
       "      <td>30.247143</td>\n",
       "      <td>27.318890</td>\n",
       "      <td>153038200</td>\n",
       "    </tr>\n",
       "    <tr>\n",
       "      <th>2010-01-21</th>\n",
       "      <td>30.297142</td>\n",
       "      <td>30.472857</td>\n",
       "      <td>29.601429</td>\n",
       "      <td>29.724285</td>\n",
       "      <td>26.846643</td>\n",
       "      <td>152038600</td>\n",
       "    </tr>\n",
       "    <tr>\n",
       "      <th>2010-01-22</th>\n",
       "      <td>29.540001</td>\n",
       "      <td>29.642857</td>\n",
       "      <td>28.165714</td>\n",
       "      <td>28.250000</td>\n",
       "      <td>25.515087</td>\n",
       "      <td>220441900</td>\n",
       "    </tr>\n",
       "    <tr>\n",
       "      <th>2010-01-25</th>\n",
       "      <td>28.930000</td>\n",
       "      <td>29.242857</td>\n",
       "      <td>28.598572</td>\n",
       "      <td>29.010000</td>\n",
       "      <td>26.201517</td>\n",
       "      <td>266424900</td>\n",
       "    </tr>\n",
       "    <tr>\n",
       "      <th>2010-01-26</th>\n",
       "      <td>29.421429</td>\n",
       "      <td>30.530001</td>\n",
       "      <td>28.940001</td>\n",
       "      <td>29.420000</td>\n",
       "      <td>26.571819</td>\n",
       "      <td>466777500</td>\n",
       "    </tr>\n",
       "    <tr>\n",
       "      <th>2010-01-27</th>\n",
       "      <td>29.549999</td>\n",
       "      <td>30.082857</td>\n",
       "      <td>28.504286</td>\n",
       "      <td>29.697144</td>\n",
       "      <td>26.822136</td>\n",
       "      <td>430642100</td>\n",
       "    </tr>\n",
       "    <tr>\n",
       "      <th>2010-01-28</th>\n",
       "      <td>29.275715</td>\n",
       "      <td>29.357143</td>\n",
       "      <td>28.385714</td>\n",
       "      <td>28.469999</td>\n",
       "      <td>25.713791</td>\n",
       "      <td>293375600</td>\n",
       "    </tr>\n",
       "    <tr>\n",
       "      <th>2010-01-29</th>\n",
       "      <td>28.725714</td>\n",
       "      <td>28.885714</td>\n",
       "      <td>27.178572</td>\n",
       "      <td>27.437143</td>\n",
       "      <td>24.780926</td>\n",
       "      <td>311488100</td>\n",
       "    </tr>\n",
       "    <tr>\n",
       "      <th>2010-02-01</th>\n",
       "      <td>27.481428</td>\n",
       "      <td>28.000000</td>\n",
       "      <td>27.328571</td>\n",
       "      <td>27.818571</td>\n",
       "      <td>25.125425</td>\n",
       "      <td>187469100</td>\n",
       "    </tr>\n",
       "    <tr>\n",
       "      <th>2010-02-02</th>\n",
       "      <td>27.987143</td>\n",
       "      <td>28.045713</td>\n",
       "      <td>27.625713</td>\n",
       "      <td>27.980000</td>\n",
       "      <td>25.271231</td>\n",
       "      <td>174585600</td>\n",
       "    </tr>\n",
       "    <tr>\n",
       "      <th>2010-02-03</th>\n",
       "      <td>27.881428</td>\n",
       "      <td>28.600000</td>\n",
       "      <td>27.774286</td>\n",
       "      <td>28.461428</td>\n",
       "      <td>25.706045</td>\n",
       "      <td>153832000</td>\n",
       "    </tr>\n",
       "    <tr>\n",
       "      <th>2010-02-04</th>\n",
       "      <td>28.104286</td>\n",
       "      <td>28.338572</td>\n",
       "      <td>27.367144</td>\n",
       "      <td>27.435715</td>\n",
       "      <td>24.779634</td>\n",
       "      <td>189413000</td>\n",
       "    </tr>\n",
       "    <tr>\n",
       "      <th>2010-02-05</th>\n",
       "      <td>27.518572</td>\n",
       "      <td>28.000000</td>\n",
       "      <td>27.264286</td>\n",
       "      <td>27.922857</td>\n",
       "      <td>25.219614</td>\n",
       "      <td>212576700</td>\n",
       "    </tr>\n",
       "    <tr>\n",
       "      <th>2010-02-08</th>\n",
       "      <td>27.955715</td>\n",
       "      <td>28.268572</td>\n",
       "      <td>27.714285</td>\n",
       "      <td>27.731428</td>\n",
       "      <td>25.046721</td>\n",
       "      <td>119567700</td>\n",
       "    </tr>\n",
       "    <tr>\n",
       "      <th>2010-02-09</th>\n",
       "      <td>28.059999</td>\n",
       "      <td>28.214285</td>\n",
       "      <td>27.821428</td>\n",
       "      <td>28.027143</td>\n",
       "      <td>25.313808</td>\n",
       "      <td>158221700</td>\n",
       "    </tr>\n",
       "    <tr>\n",
       "      <th>2010-02-10</th>\n",
       "      <td>27.984285</td>\n",
       "      <td>28.085714</td>\n",
       "      <td>27.751429</td>\n",
       "      <td>27.874287</td>\n",
       "      <td>25.175749</td>\n",
       "      <td>92590400</td>\n",
       "    </tr>\n",
       "    <tr>\n",
       "      <th>2010-02-11</th>\n",
       "      <td>27.840000</td>\n",
       "      <td>28.535715</td>\n",
       "      <td>27.722857</td>\n",
       "      <td>28.381428</td>\n",
       "      <td>25.633789</td>\n",
       "      <td>137586400</td>\n",
       "    </tr>\n",
       "    <tr>\n",
       "      <th>2010-02-12</th>\n",
       "      <td>28.301428</td>\n",
       "      <td>28.805714</td>\n",
       "      <td>27.928572</td>\n",
       "      <td>28.625713</td>\n",
       "      <td>25.854427</td>\n",
       "      <td>163867200</td>\n",
       "    </tr>\n",
       "    <tr>\n",
       "      <th>2010-02-16</th>\n",
       "      <td>28.848572</td>\n",
       "      <td>29.098572</td>\n",
       "      <td>28.788572</td>\n",
       "      <td>29.057142</td>\n",
       "      <td>26.244091</td>\n",
       "      <td>135934400</td>\n",
       "    </tr>\n",
       "    <tr>\n",
       "      <th>...</th>\n",
       "      <td>...</td>\n",
       "      <td>...</td>\n",
       "      <td>...</td>\n",
       "      <td>...</td>\n",
       "      <td>...</td>\n",
       "      <td>...</td>\n",
       "    </tr>\n",
       "    <tr>\n",
       "      <th>2017-06-20</th>\n",
       "      <td>146.869995</td>\n",
       "      <td>146.869995</td>\n",
       "      <td>144.940002</td>\n",
       "      <td>145.009995</td>\n",
       "      <td>145.009995</td>\n",
       "      <td>24900100</td>\n",
       "    </tr>\n",
       "    <tr>\n",
       "      <th>2017-06-21</th>\n",
       "      <td>145.520004</td>\n",
       "      <td>146.070007</td>\n",
       "      <td>144.610001</td>\n",
       "      <td>145.869995</td>\n",
       "      <td>145.869995</td>\n",
       "      <td>21265800</td>\n",
       "    </tr>\n",
       "    <tr>\n",
       "      <th>2017-06-22</th>\n",
       "      <td>145.770004</td>\n",
       "      <td>146.699997</td>\n",
       "      <td>145.119995</td>\n",
       "      <td>145.630005</td>\n",
       "      <td>145.630005</td>\n",
       "      <td>19106300</td>\n",
       "    </tr>\n",
       "    <tr>\n",
       "      <th>2017-06-23</th>\n",
       "      <td>145.130005</td>\n",
       "      <td>147.160004</td>\n",
       "      <td>145.110001</td>\n",
       "      <td>146.279999</td>\n",
       "      <td>146.279999</td>\n",
       "      <td>35439400</td>\n",
       "    </tr>\n",
       "    <tr>\n",
       "      <th>2017-06-26</th>\n",
       "      <td>147.169998</td>\n",
       "      <td>148.279999</td>\n",
       "      <td>145.380005</td>\n",
       "      <td>145.820007</td>\n",
       "      <td>145.820007</td>\n",
       "      <td>25692400</td>\n",
       "    </tr>\n",
       "    <tr>\n",
       "      <th>2017-06-27</th>\n",
       "      <td>145.009995</td>\n",
       "      <td>146.160004</td>\n",
       "      <td>143.619995</td>\n",
       "      <td>143.729996</td>\n",
       "      <td>143.729996</td>\n",
       "      <td>24761900</td>\n",
       "    </tr>\n",
       "    <tr>\n",
       "      <th>2017-06-28</th>\n",
       "      <td>144.490005</td>\n",
       "      <td>146.110001</td>\n",
       "      <td>143.160004</td>\n",
       "      <td>145.830002</td>\n",
       "      <td>145.830002</td>\n",
       "      <td>22082400</td>\n",
       "    </tr>\n",
       "    <tr>\n",
       "      <th>2017-06-29</th>\n",
       "      <td>144.710007</td>\n",
       "      <td>145.130005</td>\n",
       "      <td>142.279999</td>\n",
       "      <td>143.679993</td>\n",
       "      <td>143.679993</td>\n",
       "      <td>31499400</td>\n",
       "    </tr>\n",
       "    <tr>\n",
       "      <th>2017-06-30</th>\n",
       "      <td>144.449997</td>\n",
       "      <td>144.960007</td>\n",
       "      <td>143.779999</td>\n",
       "      <td>144.020004</td>\n",
       "      <td>144.020004</td>\n",
       "      <td>23024100</td>\n",
       "    </tr>\n",
       "    <tr>\n",
       "      <th>2017-07-03</th>\n",
       "      <td>144.880005</td>\n",
       "      <td>145.300003</td>\n",
       "      <td>143.100006</td>\n",
       "      <td>143.500000</td>\n",
       "      <td>143.500000</td>\n",
       "      <td>14258300</td>\n",
       "    </tr>\n",
       "    <tr>\n",
       "      <th>2017-07-05</th>\n",
       "      <td>143.690002</td>\n",
       "      <td>144.789993</td>\n",
       "      <td>142.720001</td>\n",
       "      <td>144.089996</td>\n",
       "      <td>144.089996</td>\n",
       "      <td>21569600</td>\n",
       "    </tr>\n",
       "    <tr>\n",
       "      <th>2017-07-06</th>\n",
       "      <td>143.020004</td>\n",
       "      <td>143.500000</td>\n",
       "      <td>142.410004</td>\n",
       "      <td>142.729996</td>\n",
       "      <td>142.729996</td>\n",
       "      <td>24128800</td>\n",
       "    </tr>\n",
       "    <tr>\n",
       "      <th>2017-07-07</th>\n",
       "      <td>142.899994</td>\n",
       "      <td>144.750000</td>\n",
       "      <td>142.899994</td>\n",
       "      <td>144.179993</td>\n",
       "      <td>144.179993</td>\n",
       "      <td>19201700</td>\n",
       "    </tr>\n",
       "    <tr>\n",
       "      <th>2017-07-10</th>\n",
       "      <td>144.110001</td>\n",
       "      <td>145.949997</td>\n",
       "      <td>143.369995</td>\n",
       "      <td>145.059998</td>\n",
       "      <td>145.059998</td>\n",
       "      <td>21090600</td>\n",
       "    </tr>\n",
       "    <tr>\n",
       "      <th>2017-07-11</th>\n",
       "      <td>144.729996</td>\n",
       "      <td>145.850006</td>\n",
       "      <td>144.380005</td>\n",
       "      <td>145.529999</td>\n",
       "      <td>145.529999</td>\n",
       "      <td>19781800</td>\n",
       "    </tr>\n",
       "    <tr>\n",
       "      <th>2017-07-12</th>\n",
       "      <td>145.869995</td>\n",
       "      <td>146.179993</td>\n",
       "      <td>144.820007</td>\n",
       "      <td>145.740005</td>\n",
       "      <td>145.740005</td>\n",
       "      <td>24884500</td>\n",
       "    </tr>\n",
       "    <tr>\n",
       "      <th>2017-07-13</th>\n",
       "      <td>145.500000</td>\n",
       "      <td>148.490005</td>\n",
       "      <td>145.440002</td>\n",
       "      <td>147.770004</td>\n",
       "      <td>147.770004</td>\n",
       "      <td>25199400</td>\n",
       "    </tr>\n",
       "    <tr>\n",
       "      <th>2017-07-14</th>\n",
       "      <td>147.970001</td>\n",
       "      <td>149.330002</td>\n",
       "      <td>147.330002</td>\n",
       "      <td>149.039993</td>\n",
       "      <td>149.039993</td>\n",
       "      <td>20132100</td>\n",
       "    </tr>\n",
       "    <tr>\n",
       "      <th>2017-07-17</th>\n",
       "      <td>148.820007</td>\n",
       "      <td>150.899994</td>\n",
       "      <td>148.570007</td>\n",
       "      <td>149.559998</td>\n",
       "      <td>149.559998</td>\n",
       "      <td>23793500</td>\n",
       "    </tr>\n",
       "    <tr>\n",
       "      <th>2017-07-18</th>\n",
       "      <td>149.199997</td>\n",
       "      <td>150.130005</td>\n",
       "      <td>148.669998</td>\n",
       "      <td>150.080002</td>\n",
       "      <td>150.080002</td>\n",
       "      <td>17868800</td>\n",
       "    </tr>\n",
       "    <tr>\n",
       "      <th>2017-07-19</th>\n",
       "      <td>150.479996</td>\n",
       "      <td>151.419998</td>\n",
       "      <td>149.949997</td>\n",
       "      <td>151.020004</td>\n",
       "      <td>151.020004</td>\n",
       "      <td>20923000</td>\n",
       "    </tr>\n",
       "    <tr>\n",
       "      <th>2017-07-20</th>\n",
       "      <td>151.500000</td>\n",
       "      <td>151.740005</td>\n",
       "      <td>150.190002</td>\n",
       "      <td>150.339996</td>\n",
       "      <td>150.339996</td>\n",
       "      <td>17243700</td>\n",
       "    </tr>\n",
       "    <tr>\n",
       "      <th>2017-07-21</th>\n",
       "      <td>149.990005</td>\n",
       "      <td>150.440002</td>\n",
       "      <td>148.880005</td>\n",
       "      <td>150.270004</td>\n",
       "      <td>150.270004</td>\n",
       "      <td>26252600</td>\n",
       "    </tr>\n",
       "    <tr>\n",
       "      <th>2017-07-24</th>\n",
       "      <td>150.580002</td>\n",
       "      <td>152.440002</td>\n",
       "      <td>149.899994</td>\n",
       "      <td>152.089996</td>\n",
       "      <td>152.089996</td>\n",
       "      <td>21493200</td>\n",
       "    </tr>\n",
       "    <tr>\n",
       "      <th>2017-07-25</th>\n",
       "      <td>151.800003</td>\n",
       "      <td>153.839996</td>\n",
       "      <td>151.800003</td>\n",
       "      <td>152.740005</td>\n",
       "      <td>152.740005</td>\n",
       "      <td>18853900</td>\n",
       "    </tr>\n",
       "    <tr>\n",
       "      <th>2017-07-26</th>\n",
       "      <td>153.350006</td>\n",
       "      <td>153.929993</td>\n",
       "      <td>153.059998</td>\n",
       "      <td>153.460007</td>\n",
       "      <td>153.460007</td>\n",
       "      <td>15781000</td>\n",
       "    </tr>\n",
       "    <tr>\n",
       "      <th>2017-07-27</th>\n",
       "      <td>153.750000</td>\n",
       "      <td>153.990005</td>\n",
       "      <td>147.300003</td>\n",
       "      <td>150.559998</td>\n",
       "      <td>150.559998</td>\n",
       "      <td>32476300</td>\n",
       "    </tr>\n",
       "    <tr>\n",
       "      <th>2017-07-28</th>\n",
       "      <td>149.889999</td>\n",
       "      <td>150.229996</td>\n",
       "      <td>149.190002</td>\n",
       "      <td>149.500000</td>\n",
       "      <td>149.500000</td>\n",
       "      <td>17213700</td>\n",
       "    </tr>\n",
       "    <tr>\n",
       "      <th>2017-07-31</th>\n",
       "      <td>149.899994</td>\n",
       "      <td>150.330002</td>\n",
       "      <td>148.130005</td>\n",
       "      <td>148.729996</td>\n",
       "      <td>148.729996</td>\n",
       "      <td>19614200</td>\n",
       "    </tr>\n",
       "    <tr>\n",
       "      <th>2017-08-01</th>\n",
       "      <td>149.100006</td>\n",
       "      <td>150.220001</td>\n",
       "      <td>148.410004</td>\n",
       "      <td>150.050003</td>\n",
       "      <td>150.050003</td>\n",
       "      <td>23716478</td>\n",
       "    </tr>\n",
       "  </tbody>\n",
       "</table>\n",
       "<p>1908 rows × 6 columns</p>\n",
       "</div>"
      ],
      "text/plain": [
       "                  Open        High         Low       Close   Adj Close  \\\n",
       "Date                                                                     \n",
       "2010-01-04   30.490000   30.642857   30.340000   30.572857   27.613066   \n",
       "2010-01-05   30.657143   30.798571   30.464285   30.625713   27.660807   \n",
       "2010-01-06   30.625713   30.747143   30.107143   30.138571   27.220825   \n",
       "2010-01-07   30.250000   30.285715   29.864286   30.082857   27.170504   \n",
       "2010-01-08   30.042856   30.285715   29.865715   30.282858   27.351143   \n",
       "2010-01-11   30.400000   30.428572   29.778572   30.015715   27.109863   \n",
       "2010-01-12   29.884285   29.967142   29.488571   29.674286   26.801487   \n",
       "2010-01-13   29.695715   30.132856   29.157143   30.092857   27.179537   \n",
       "2010-01-14   30.015715   30.065714   29.860001   29.918571   27.022121   \n",
       "2010-01-15   30.132856   30.228571   29.410000   29.418571   26.570528   \n",
       "2010-01-19   29.761429   30.741428   29.605715   30.719999   27.745962   \n",
       "2010-01-20   30.701429   30.792856   29.928572   30.247143   27.318890   \n",
       "2010-01-21   30.297142   30.472857   29.601429   29.724285   26.846643   \n",
       "2010-01-22   29.540001   29.642857   28.165714   28.250000   25.515087   \n",
       "2010-01-25   28.930000   29.242857   28.598572   29.010000   26.201517   \n",
       "2010-01-26   29.421429   30.530001   28.940001   29.420000   26.571819   \n",
       "2010-01-27   29.549999   30.082857   28.504286   29.697144   26.822136   \n",
       "2010-01-28   29.275715   29.357143   28.385714   28.469999   25.713791   \n",
       "2010-01-29   28.725714   28.885714   27.178572   27.437143   24.780926   \n",
       "2010-02-01   27.481428   28.000000   27.328571   27.818571   25.125425   \n",
       "2010-02-02   27.987143   28.045713   27.625713   27.980000   25.271231   \n",
       "2010-02-03   27.881428   28.600000   27.774286   28.461428   25.706045   \n",
       "2010-02-04   28.104286   28.338572   27.367144   27.435715   24.779634   \n",
       "2010-02-05   27.518572   28.000000   27.264286   27.922857   25.219614   \n",
       "2010-02-08   27.955715   28.268572   27.714285   27.731428   25.046721   \n",
       "2010-02-09   28.059999   28.214285   27.821428   28.027143   25.313808   \n",
       "2010-02-10   27.984285   28.085714   27.751429   27.874287   25.175749   \n",
       "2010-02-11   27.840000   28.535715   27.722857   28.381428   25.633789   \n",
       "2010-02-12   28.301428   28.805714   27.928572   28.625713   25.854427   \n",
       "2010-02-16   28.848572   29.098572   28.788572   29.057142   26.244091   \n",
       "...                ...         ...         ...         ...         ...   \n",
       "2017-06-20  146.869995  146.869995  144.940002  145.009995  145.009995   \n",
       "2017-06-21  145.520004  146.070007  144.610001  145.869995  145.869995   \n",
       "2017-06-22  145.770004  146.699997  145.119995  145.630005  145.630005   \n",
       "2017-06-23  145.130005  147.160004  145.110001  146.279999  146.279999   \n",
       "2017-06-26  147.169998  148.279999  145.380005  145.820007  145.820007   \n",
       "2017-06-27  145.009995  146.160004  143.619995  143.729996  143.729996   \n",
       "2017-06-28  144.490005  146.110001  143.160004  145.830002  145.830002   \n",
       "2017-06-29  144.710007  145.130005  142.279999  143.679993  143.679993   \n",
       "2017-06-30  144.449997  144.960007  143.779999  144.020004  144.020004   \n",
       "2017-07-03  144.880005  145.300003  143.100006  143.500000  143.500000   \n",
       "2017-07-05  143.690002  144.789993  142.720001  144.089996  144.089996   \n",
       "2017-07-06  143.020004  143.500000  142.410004  142.729996  142.729996   \n",
       "2017-07-07  142.899994  144.750000  142.899994  144.179993  144.179993   \n",
       "2017-07-10  144.110001  145.949997  143.369995  145.059998  145.059998   \n",
       "2017-07-11  144.729996  145.850006  144.380005  145.529999  145.529999   \n",
       "2017-07-12  145.869995  146.179993  144.820007  145.740005  145.740005   \n",
       "2017-07-13  145.500000  148.490005  145.440002  147.770004  147.770004   \n",
       "2017-07-14  147.970001  149.330002  147.330002  149.039993  149.039993   \n",
       "2017-07-17  148.820007  150.899994  148.570007  149.559998  149.559998   \n",
       "2017-07-18  149.199997  150.130005  148.669998  150.080002  150.080002   \n",
       "2017-07-19  150.479996  151.419998  149.949997  151.020004  151.020004   \n",
       "2017-07-20  151.500000  151.740005  150.190002  150.339996  150.339996   \n",
       "2017-07-21  149.990005  150.440002  148.880005  150.270004  150.270004   \n",
       "2017-07-24  150.580002  152.440002  149.899994  152.089996  152.089996   \n",
       "2017-07-25  151.800003  153.839996  151.800003  152.740005  152.740005   \n",
       "2017-07-26  153.350006  153.929993  153.059998  153.460007  153.460007   \n",
       "2017-07-27  153.750000  153.990005  147.300003  150.559998  150.559998   \n",
       "2017-07-28  149.889999  150.229996  149.190002  149.500000  149.500000   \n",
       "2017-07-31  149.899994  150.330002  148.130005  148.729996  148.729996   \n",
       "2017-08-01  149.100006  150.220001  148.410004  150.050003  150.050003   \n",
       "\n",
       "               Volume  \n",
       "Date                   \n",
       "2010-01-04  123432400  \n",
       "2010-01-05  150476200  \n",
       "2010-01-06  138040000  \n",
       "2010-01-07  119282800  \n",
       "2010-01-08  111902700  \n",
       "2010-01-11  115557400  \n",
       "2010-01-12  148614900  \n",
       "2010-01-13  151473000  \n",
       "2010-01-14  108223500  \n",
       "2010-01-15  148516900  \n",
       "2010-01-19  182501900  \n",
       "2010-01-20  153038200  \n",
       "2010-01-21  152038600  \n",
       "2010-01-22  220441900  \n",
       "2010-01-25  266424900  \n",
       "2010-01-26  466777500  \n",
       "2010-01-27  430642100  \n",
       "2010-01-28  293375600  \n",
       "2010-01-29  311488100  \n",
       "2010-02-01  187469100  \n",
       "2010-02-02  174585600  \n",
       "2010-02-03  153832000  \n",
       "2010-02-04  189413000  \n",
       "2010-02-05  212576700  \n",
       "2010-02-08  119567700  \n",
       "2010-02-09  158221700  \n",
       "2010-02-10   92590400  \n",
       "2010-02-11  137586400  \n",
       "2010-02-12  163867200  \n",
       "2010-02-16  135934400  \n",
       "...               ...  \n",
       "2017-06-20   24900100  \n",
       "2017-06-21   21265800  \n",
       "2017-06-22   19106300  \n",
       "2017-06-23   35439400  \n",
       "2017-06-26   25692400  \n",
       "2017-06-27   24761900  \n",
       "2017-06-28   22082400  \n",
       "2017-06-29   31499400  \n",
       "2017-06-30   23024100  \n",
       "2017-07-03   14258300  \n",
       "2017-07-05   21569600  \n",
       "2017-07-06   24128800  \n",
       "2017-07-07   19201700  \n",
       "2017-07-10   21090600  \n",
       "2017-07-11   19781800  \n",
       "2017-07-12   24884500  \n",
       "2017-07-13   25199400  \n",
       "2017-07-14   20132100  \n",
       "2017-07-17   23793500  \n",
       "2017-07-18   17868800  \n",
       "2017-07-19   20923000  \n",
       "2017-07-20   17243700  \n",
       "2017-07-21   26252600  \n",
       "2017-07-24   21493200  \n",
       "2017-07-25   18853900  \n",
       "2017-07-26   15781000  \n",
       "2017-07-27   32476300  \n",
       "2017-07-28   17213700  \n",
       "2017-07-31   19614200  \n",
       "2017-08-01   23716478  \n",
       "\n",
       "[1908 rows x 6 columns]"
      ]
     },
     "execution_count": 8,
     "metadata": {},
     "output_type": "execute_result"
    }
   ],
   "source": [
    "import pandas_datareader as pdr\n",
    "pdr.get_data_yahoo('AAPL')"
   ]
  },
  {
   "cell_type": "code",
   "execution_count": null,
   "metadata": {
    "collapsed": true,
    "jupyter": {
     "outputs_hidden": true
    }
   },
   "outputs": [],
   "source": []
  }
 ],
 "metadata": {
  "kernelspec": {
   "display_name": "Python 3",
   "language": "python",
   "name": "python3"
  },
  "language_info": {
   "codemirror_mode": {
    "name": "ipython",
    "version": 3
   },
   "file_extension": ".py",
   "mimetype": "text/x-python",
   "name": "python",
   "nbconvert_exporter": "python",
   "pygments_lexer": "ipython3",
   "version": "3.7.4"
  }
 },
 "nbformat": 4,
 "nbformat_minor": 4
}
