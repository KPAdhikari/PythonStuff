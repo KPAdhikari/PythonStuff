{
 "cells": [
  {
   "cell_type": "markdown",
   "metadata": {},
   "source": [
    "# [Python Numpy Array Tutorial](https://www.datacamp.com/community/tutorials/python-numpy-tutorial)\n",
    "\n",
    "A NumPy tutorial for beginners in which you'll **learn how to create a NumPy array, use broadcasting, access values, manipulate arrays, and much more**.\n",
    "\n",
    "**NumPy** is, just like SciPy, Scikit-Learn, Pandas, etc. one of the packages that **you just can’t miss** when you’re learning data science, **mainly because this library provides you with an array data structure that holds some benefits over Python lists, such as: being more compact, faster access in reading and writing items, being more convenient and more efficient**.\n",
    "\n",
    "Today’s post will exactly focus on this last. This NumPy tutorial will not only show you what NumPy arrays actually are and how you can install Python, but you’ll also learn how to make arrays (even when your data comes from files!), how broadcasting works, how you can ask for help, how to manipulate your arrays and how to visualize them.\n",
    "\n",
    "## Content\n",
    "\n",
    "* [What Is A Python NumPy Array?](#WhatIsNumPyArray)\n",
    "* [How To Install NumPy](#HowToInstallNumpy)\n",
    "* [How To Make NumPy Arrays](#HowToMakeNumPyArrays)\n",
    "* [How NumPy Broadcasting Works](#HowNumPyBroadcastingWorks)\n",
    "* [How Do Array Mathematics Work?](#HowArrayMathsWork)\n",
    "* [How To Subset, Slice, And Index Arrays](#HowToSubsetSliceAndIndexArrays)\n",
    "* [How To Ask For Help](#HowToAskForHelp)\n",
    "* [How To Manipulate Arrays](#HowToManipulateArrays)\n",
    "* [How To Visualize NumPy Arrays](#HowToVisualizeNumPyArrays)\n",
    "* [Beyond Data Analysis with NumPy](#BeyondDataAnalysisWithNumPy)\n",
    "\n",
    "If you want to know even more about NumPy arrays and the other data structures that you will need in your data science journey, consider taking a look at DataCamp’s [Intro to Python for Data Science](https://www.datacamp.com/courses/intro-to-python-for-data-science/), which has a chapter on NumPy."
   ]
  },
  {
   "cell_type": "markdown",
   "metadata": {},
   "source": [
    "<a id='WhatIsNumPyArray'></a>\n",
    "## What Is A Python NumPy Array?\n",
    "\n",
    "You already read in the introduction that NumPy arrays are a bit like Python lists, but still very much different at the same time. For those of you who are new to the topic, let’s clarify what it exactly is and what it’s good for.\n",
    "\n",
    "As the name kind of gives away, **a NumPy array is a central data structure of the _numpy_ library**. The library’s name is actually short for “Numeric Python” or “Numerical Python”.\n",
    "\n",
    "This already gives an idea of what you’re dealing with, right?\n",
    "\n",
    "In other words, NumPy is a Python library that is the core library for scientific computing in Python. It contains a collection of tools and techniques that can be used to solve on a computer mathematical models of problems in Science and Engineering. One of these tools is a high-performance multidimensional array object that is a powerful data structure for efficient computation of arrays and matrices. To work with these arrays, there’s a huge amount of high-level mathematical functions operate on these matrices and arrays.\n",
    "\n",
    "Then, what is an array?\n",
    "\n",
    "When you look at the print of a couple arrays, you could see it as grid that contains values of the same type:"
   ]
  },
  {
   "cell_type": "code",
   "execution_count": 1,
   "metadata": {},
   "outputs": [
    {
     "ename": "NameError",
     "evalue": "name 'my_array' is not defined",
     "output_type": "error",
     "traceback": [
      "\u001b[0;31m---------------------------------------------------------------------------\u001b[0m",
      "\u001b[0;31mNameError\u001b[0m                                 Traceback (most recent call last)",
      "\u001b[0;32m<ipython-input-1-cb550f3326cc>\u001b[0m in \u001b[0;36m<module>\u001b[0;34m()\u001b[0m\n\u001b[1;32m      1\u001b[0m \u001b[0;31m# Print the array\u001b[0m\u001b[0;34m\u001b[0m\u001b[0;34m\u001b[0m\u001b[0m\n\u001b[0;32m----> 2\u001b[0;31m \u001b[0;32mprint\u001b[0m\u001b[0;34m(\u001b[0m\u001b[0mmy_array\u001b[0m\u001b[0;34m)\u001b[0m\u001b[0;34m\u001b[0m\u001b[0m\n\u001b[0m\u001b[1;32m      3\u001b[0m \u001b[0;34m\u001b[0m\u001b[0m\n\u001b[1;32m      4\u001b[0m \u001b[0;31m# Print the 2d array\u001b[0m\u001b[0;34m\u001b[0m\u001b[0;34m\u001b[0m\u001b[0m\n\u001b[1;32m      5\u001b[0m \u001b[0;32mprint\u001b[0m\u001b[0;34m(\u001b[0m\u001b[0mmy_2d_array\u001b[0m\u001b[0;34m)\u001b[0m\u001b[0;34m\u001b[0m\u001b[0m\n",
      "\u001b[0;31mNameError\u001b[0m: name 'my_array' is not defined"
     ]
    }
   ],
   "source": [
    "# Print the array\n",
    "print(my_array)\n",
    "\n",
    "# Print the 2d array\n",
    "print(my_2d_array)\n",
    "\n",
    "# Print the 3d array\n",
    "print(my_3d_array)"
   ]
  },
  {
   "cell_type": "code",
   "execution_count": null,
   "metadata": {
    "collapsed": true
   },
   "outputs": [],
   "source": []
  }
 ],
 "metadata": {
  "kernelspec": {
   "display_name": "Python 2",
   "language": "python",
   "name": "python2"
  },
  "language_info": {
   "codemirror_mode": {
    "name": "ipython",
    "version": 2
   },
   "file_extension": ".py",
   "mimetype": "text/x-python",
   "name": "python",
   "nbconvert_exporter": "python",
   "pygments_lexer": "ipython2",
   "version": "2.7.13"
  }
 },
 "nbformat": 4,
 "nbformat_minor": 2
}
