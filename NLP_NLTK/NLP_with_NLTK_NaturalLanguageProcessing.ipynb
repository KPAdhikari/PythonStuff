{
 "cells": [
  {
   "cell_type": "code",
   "execution_count": 1,
   "id": "be0a7fd9-b1f4-4cda-a092-ad701bd80051",
   "metadata": {},
   "outputs": [
    {
     "name": "stdout",
     "output_type": "stream",
     "text": [
      "/Users/kpadhikari/GitStuff/KPAdhikari/PythonStuff/NLP_NLTK\n"
     ]
    }
   ],
   "source": [
    "!pwd"
   ]
  },
  {
   "cell_type": "markdown",
   "id": "93b29e5b-9dda-4e33-8430-6b980b26ad62",
   "metadata": {},
   "source": [
    "<a id=\"GoHome\"></a>\n",
    "# Natural Language Processing With Python's NLTK Package\n",
    "by Joanna Jablonski  May 05, 2021\n",
    "Ref:\n",
    "https://realpython.com/nltk-nlp-python/\n",
    "\n",
    "Table of Contents\n",
    "\n",
    "* Getting Started With Python’s NLTK\n",
    "* [Tokenizing](#Tokenizing)\n",
    "* [Filtering Stop Words](#FileringStopWords)\n",
    "* [Stemming](#Stemming)\n",
    "* [Tagging Parts of Speech](#TaggingPartsOfSpeech)\n",
    "* Lemmatizing\n",
    "* Chunking\n",
    "* Chinking\n",
    "* Using Named Entity Recognition (NER)\n",
    "* Getting Text to Analyze\n",
    "* Using a Concordance\n",
    "* Making a Dispersion Plot\n",
    "* Making a Frequency Distribution\n",
    "* Finding Collocations\n",
    "* Conclusion\n",
    "    \n",
    "[Natural language processing (NLP)](https://en.wikipedia.org/wiki/Natural_language_processing) is a field that focuses on making natural human language usable by computer programs. [NLTK, or Natural Language Toolkit](https://www.nltk.org/), is a Python package that you can use for NLP.\n",
    "\n",
    "A lot of the data that you could be analyzing is [unstructured data](https://en.wikipedia.org/wiki/Unstructured_data) and contains human-readable text. Before you can analyze that data programmatically, you first need to preprocess it. In this tutorial, you’ll take your first look at the kinds of text preprocessing tasks you can do with NLTK so that you’ll be ready to apply them in future projects. You’ll also see how to do some basic text analysis and create visualizations.\n",
    "\n",
    "If you’re familiar with the basics of using Python and would like to get your feet wet with some NLP, then you’ve come to the right place.\n",
    "\n",
    "By the end of this tutorial, you’ll know how to:\n",
    "\n",
    "Find text to analyze\n",
    "Preprocess your text for analysis\n",
    "Analyze your text\n",
    "Create visualizations based on your analysis\n",
    "Let’s get Pythoning!\n",
    "\n"
   ]
  },
  {
   "cell_type": "code",
   "execution_count": 2,
   "id": "370f041a-ff56-4521-af49-82b9cf767ff0",
   "metadata": {},
   "outputs": [],
   "source": [
    "import nltk"
   ]
  },
  {
   "cell_type": "markdown",
   "id": "3cb25df1-a088-4d92-af18-e3817e4f3a67",
   "metadata": {},
   "source": [
    "## Getting Started With Python’s NLTK\n",
    "The first thing you need to do is make sure that you have Python installed. For this tutorial, you’ll be using Python 3.9. If you don’t yet have Python installed, then check out Python 3 Installation & Setup Guide to get started.\n",
    "\n",
    "Once you have that dealt with, your next step is to install NLTK with pip. It’s a best practice to install it in a virtual environment. To learn more about virtual environments, check out Python Virtual Environments: A Primer.\n",
    "\n",
    "For this tutorial, you’ll be installing version 3.5:\n",
    "```python\n",
    "$ python -m pip install nltk==3.5\n",
    "```\n",
    "\n",
    "<font color=\"magenta\">At this moment, I will not be using the virtual environment, but the standard/common installation for this tutorial.</font>\n",
    "\n",
    "In order to create visualizations for [named entity recognition](https://realpython.com/nltk-nlp-python/#using-named-entity-recognition-ner), you’ll also need to install NumPy and Matplotlib:"
   ]
  },
  {
   "cell_type": "markdown",
   "id": "950b20d5-ea4d-47be-af9b-45f0ee858924",
   "metadata": {},
   "source": [
    "[Go Home](#GoHome) <a id=\"Tokenizing\"></a>\n",
    "## Tokenizing\n",
    "By **tokenizing**, you can conveniently split up text by word or by sentence. This will allow you to work with smaller pieces of text that are still relatively coherent and meaningful even outside of the context of the rest of the text. It’s your first step in turning unstructured data into structured data, which is easier to analyze.\n",
    "\n",
    "When you’re analyzing text, you’ll be tokenizing by word and tokenizing by sentence. Here’s what both types of tokenization bring to the table:\n",
    "\n",
    "* **Tokenizing by word:** Words are like the atoms of natural language. They’re the smallest unit of meaning that still makes sense on its own. Tokenizing your text by word allows you to identify words that come up particularly often. For example, if you were analyzing a group of job ads, then you might find that the word “Python” comes up often. That could suggest high demand for Python knowledge, but you’d need to look deeper to know more.\n",
    "\n",
    "* **Tokenizing by sentence:** When you tokenize by sentence, you can analyze how those words relate to one another and see more context. Are there a lot of negative words around the word “Python” because the hiring manager doesn’t like Python? Are there more terms from the domain of [herpetology](https://en.wikipedia.org/wiki/Herpetology) than the domain of software development, suggesting that you may be dealing with an entirely different kind of python than you were expecting?\n",
    "\n",
    "Here’s how to import the relevant parts of NLTK so you can tokenize by word and by sentence:\n",
    "\n"
   ]
  },
  {
   "cell_type": "code",
   "execution_count": 10,
   "id": "2c62063e-f39b-4d6b-b413-f7d68aa343d1",
   "metadata": {},
   "outputs": [
    {
     "name": "stdout",
     "output_type": "stream",
     "text": [
      "3.6.5\n"
     ]
    }
   ],
   "source": [
    "from nltk.tokenize import sent_tokenize, word_tokenize  #kp: sent is for sentence and word is for word\n",
    "print(nltk.__version__)"
   ]
  },
  {
   "cell_type": "markdown",
   "id": "4380486c-8d9e-4f53-aa45-7b1c02faf721",
   "metadata": {},
   "source": [
    "Now that you’ve imported what you need, you can create a string to tokenize. Here’s a quote from [Dune](https://en.wikipedia.org/wiki/Dune_(novel)) that you can use:"
   ]
  },
  {
   "cell_type": "code",
   "execution_count": 8,
   "id": "c1eeaf0e-ebd2-4b1f-bf4d-d7a2ee279e00",
   "metadata": {},
   "outputs": [
    {
     "name": "stdout",
     "output_type": "stream",
     "text": [
      "\n",
      "Muad'Dib learned rapidly because his first training was in how to learn.\n",
      "And the first lesson of all was the basic trust that he could learn.\n",
      "It's shocking to find how many people do not believe they can learn,\n",
      "and how many more believe learning to be difficult.\n"
     ]
    }
   ],
   "source": [
    "example_string = \"\"\"\n",
    "... Muad'Dib learned rapidly because his first training was in how to learn.\n",
    "... And the first lesson of all was the basic trust that he could learn.\n",
    "... It's shocking to find how many people do not believe they can learn,\n",
    "... and how many more believe learning to be difficult.\"\"\"\n",
    "\n",
    "print(example_string)"
   ]
  },
  {
   "cell_type": "markdown",
   "id": "2bf62aac-2ba4-4dc6-bd10-118cdae40c75",
   "metadata": {},
   "source": [
    "------\n",
    "You can use `sent_tokenize()` to split up example_string into sentences:\n",
    "\n",
    "with \n",
    "```python\n",
    "sent_tokenize(example_string)\n",
    "```\n",
    "without the following two lines:\n",
    "```python\n",
    "import nltk\n",
    "nltk.download(\"punkt\")\n",
    "```\n",
    "I saw the following errors:\n",
    "```\n",
    "---------------------------------------------------------------------------\n",
    "LookupError                               Traceback (most recent call last)\n",
    "/var/folders/bs/v93xlq0d24n2x1clkyc1lk840000gp/T/ipykernel_19842/2123458501.py in <module>\n",
    "      1 #import nltk\n",
    "----> 2 sent_tokenize(example_string)\n",
    "\n",
    "~/opt/anaconda3/lib/python3.9/site-packages/nltk/tokenize/__init__.py in sent_tokenize(text, language)\n",
    "    104     :param language: the model name in the Punkt corpus\n",
    "    105     \"\"\"\n",
    "--> 106     tokenizer = load(f\"tokenizers/punkt/{language}.pickle\")\n",
    "    107     return tokenizer.tokenize(text)\n",
    "    108 \n",
    "\n",
    "~/opt/anaconda3/lib/python3.9/site-packages/nltk/data.py in load(resource_url, format, cache, verbose, logic_parser, fstruct_reader, encoding)\n",
    "    748 \n",
    "    749     # Load the resource.\n",
    "--> 750     opened_resource = _open(resource_url)\n",
    "    751 \n",
    "    752     if format == \"raw\":\n",
    "\n",
    "~/opt/anaconda3/lib/python3.9/site-packages/nltk/data.py in _open(resource_url)\n",
    "    874 \n",
    "    875     if protocol is None or protocol.lower() == \"nltk\":\n",
    "--> 876         return find(path_, path + [\"\"]).open()\n",
    "    877     elif protocol.lower() == \"file\":\n",
    "    878         # urllib might not use mode='rb', so handle this one ourselves:\n",
    "\n",
    "~/opt/anaconda3/lib/python3.9/site-packages/nltk/data.py in find(resource_name, paths)\n",
    "    581     sep = \"*\" * 70\n",
    "    582     resource_not_found = f\"\\n{sep}\\n{msg}\\n{sep}\\n\"\n",
    "--> 583     raise LookupError(resource_not_found)\n",
    "    584 \n",
    "    585 \n",
    "\n",
    "LookupError: \n",
    "**********************************************************************\n",
    "  Resource punkt not found.\n",
    "  Please use the NLTK Downloader to obtain the resource:\n",
    "\n",
    "  >>> import nltk\n",
    "  >>> nltk.download('punkt')\n",
    "  \n",
    "  For more information see: https://www.nltk.org/data.html\n",
    "\n",
    "  Attempted to load tokenizers/punkt/PY3/english.pickle\n",
    "\n",
    "  Searched in:\n",
    "    - '/Users/kpadhikari/nltk_data'\n",
    "    - '/Users/kpadhikari/opt/anaconda3/nltk_data'\n",
    "    - '/Users/kpadhikari/opt/anaconda3/share/nltk_data'\n",
    "    - '/Users/kpadhikari/opt/anaconda3/lib/nltk_data'\n",
    "    - '/usr/share/nltk_data'\n",
    "    - '/usr/local/share/nltk_data'\n",
    "    - '/usr/lib/nltk_data'\n",
    "    - '/usr/local/lib/nltk_data'\n",
    "    - ''\n",
    "**********************************************************************\n",
    "```\n",
    "\n",
    "<font color=\"magenta\">and when I googled about 'Resource punkt not found.', I found the following statment</font>\n",
    "\n",
    "    punkt is a nltk library tool for tokenizing text documents. When we use an old or a degraded version of nltk module we generally need to download the remaining data .\n",
    "    You can do\n",
    "    nltk.download('punkt')\n",
    "    nltk.download('stopwords')\n",
    "    nltk.download('corpus')\n",
    "\n",
    "at https://github.com/joosthub/PyTorchNLPBook/issues/14"
   ]
  },
  {
   "cell_type": "code",
   "execution_count": 15,
   "id": "890ae73a-fe9f-425a-963f-a02124e1e1ee",
   "metadata": {},
   "outputs": [
    {
     "name": "stderr",
     "output_type": "stream",
     "text": [
      "[nltk_data] Downloading package punkt to\n",
      "[nltk_data]     /Users/kpadhikari/nltk_data...\n",
      "[nltk_data]   Unzipping tokenizers/punkt.zip.\n"
     ]
    },
    {
     "data": {
      "text/plain": [
       "[\"\\nMuad'Dib learned rapidly because his first training was in how to learn.\",\n",
       " 'And the first lesson of all was the basic trust that he could learn.',\n",
       " \"It's shocking to find how many people do not believe they can learn,\\nand how many more believe learning to be difficult.\"]"
      ]
     },
     "execution_count": 15,
     "metadata": {},
     "output_type": "execute_result"
    }
   ],
   "source": [
    "import nltk\n",
    "nltk.download(\"punkt\")\n",
    "sent_tokenize(example_string)"
   ]
  },
  {
   "cell_type": "markdown",
   "id": "c1092e74-227a-43e8-8c45-e0132a74e229",
   "metadata": {},
   "source": [
    "<font color=\"magenta\">kp: And, so I did put the download code as follows and I got the following result (I am saving it just so the executed result might differ next time because of some changes under the hood).</font>\n",
    "```python\n",
    "import nltk\n",
    "nltk.download(\"punkt\")\n",
    "sent_tokenize(example_string)\n",
    "```\n",
    "and I got the following output:\n",
    "```\n",
    "[nltk_data] Downloading package punkt to\n",
    "[nltk_data]     /Users/kpadhikari/nltk_data...\n",
    "[nltk_data]   Unzipping tokenizers/punkt.zip.\n",
    "[\"\\nMuad'Dib learned rapidly because his first training was in how to learn.\",\n",
    " 'And the first lesson of all was the basic trust that he could learn.',\n",
    " \"It's shocking to find how many people do not believe they can learn,\\nand how many more believe learning to be difficult.\"]\n",
    "```"
   ]
  },
  {
   "cell_type": "code",
   "execution_count": 18,
   "id": "cf811099-5d7e-4d45-9d42-0b8f354e4946",
   "metadata": {},
   "outputs": [
    {
     "name": "stdout",
     "output_type": "stream",
     "text": [
      "[\"Muad'Dib\", 'learned', 'rapidly', 'because', 'his', 'first', 'training', 'was', 'in', 'how', 'to', 'learn', '.', 'And', 'the', 'first', 'lesson', 'of', 'all', 'was', 'the', 'basic', 'trust', 'that', 'he', 'could', 'learn', '.', 'It', \"'s\", 'shocking', 'to', 'find', 'how', 'many', 'people', 'do', 'not', 'believe', 'they', 'can', 'learn', ',', 'and', 'how', 'many', 'more', 'believe', 'learning', 'to', 'be', 'difficult', '.']\n"
     ]
    }
   ],
   "source": [
    "print(word_tokenize(example_string))\n",
    "#word_tokenize(example_string) #It prints the word in a column, taking up too much space, so I disabled it"
   ]
  },
  {
   "cell_type": "markdown",
   "id": "c3e62d74-3ccc-46fe-a9d7-beda2da0b243",
   "metadata": {},
   "source": [
    "You got a list of strings that NLTK considers to be words, such as:\n",
    "\n",
    "    \"Muad'Dib\"\n",
    "    'training'\n",
    "    'how'\n",
    "    \n",
    "But the following strings were also considered to be words:\n",
    "\n",
    "    \"'s\"\n",
    "    ','\n",
    "    '.'\n",
    "    \n",
    "See how \"It's\" was split at the apostrophe to give you 'It' and \"'s\", but \"Muad'Dib\" was left whole? This happened because NLTK knows that 'It' and \"'s\" (a contraction of “is”) are two distinct words, so it counted them separately. But \"Muad'Dib\" isn’t an accepted contraction like \"It's\", so it wasn’t read as two separate words and was left intact.\n",
    "\n",
    "[Go Home](#GoHome) <a id=\"FilteringStopWords\"></a>\n",
    "## Filtering Stop Words\n",
    "<font color=\"red\">Stop words are words that you want to ignore,</font> so you filter them out of your text when you’re processing it. Very common words like 'in', 'is', and 'an' are often used as stop words since they don’t add a lot of meaning to a text in and of themselves.\n",
    "\n",
    "Here’s how to import the relevant parts of NLTK in order to filter out stop words:"
   ]
  },
  {
   "cell_type": "code",
   "execution_count": 19,
   "id": "3424f998-47b6-4aa4-b7f9-0d4265e2fcdb",
   "metadata": {},
   "outputs": [
    {
     "name": "stderr",
     "output_type": "stream",
     "text": [
      "[nltk_data] Downloading package stopwords to\n",
      "[nltk_data]     /Users/kpadhikari/nltk_data...\n",
      "[nltk_data]   Unzipping corpora/stopwords.zip.\n"
     ]
    }
   ],
   "source": [
    "nltk.download(\"stopwords\")\n",
    "from nltk.corpus import stopwords\n",
    "from nltk.tokenize import word_tokenize"
   ]
  },
  {
   "cell_type": "markdown",
   "id": "e28a2f9a-0ce7-4262-b3c8-9ddea209f42e",
   "metadata": {},
   "source": [
    "Here’s a [quote from Worf](https://www.youtube.com/watch?v=ri5S4Hcq0nY) that you can filter:"
   ]
  },
  {
   "cell_type": "code",
   "execution_count": 20,
   "id": "8d7d40c9-a565-492e-9bb5-a86b06f31b87",
   "metadata": {},
   "outputs": [],
   "source": [
    "worf_quote = \"Sir, I protest. I am not a merry man!\""
   ]
  },
  {
   "cell_type": "markdown",
   "id": "16f2461c-d24f-46a2-888e-da6fbac35611",
   "metadata": {},
   "source": [
    "Now tokenize worf_quote by word and store the resulting list in words_in_quote:"
   ]
  },
  {
   "cell_type": "code",
   "execution_count": 21,
   "id": "43516a17-99f7-450f-b2c3-09bbc549a6f6",
   "metadata": {},
   "outputs": [
    {
     "data": {
      "text/plain": [
       "['Sir', ',', 'I', 'protest', '.', 'I', 'am', 'not', 'a', 'merry', 'man', '!']"
      ]
     },
     "execution_count": 21,
     "metadata": {},
     "output_type": "execute_result"
    }
   ],
   "source": [
    "words_in_quote = word_tokenize(worf_quote)\n",
    "words_in_quote"
   ]
  },
  {
   "cell_type": "markdown",
   "id": "bce839b2-00f5-4b27-9216-278dd6c17351",
   "metadata": {},
   "source": [
    "You have a list of the words in worf_quote, so the next step is to create a [set](https://realpython.com/python-sets/) of stop words to filter words_in_quote. For this example, you’ll need to focus on stop words in \"english\":"
   ]
  },
  {
   "cell_type": "code",
   "execution_count": 31,
   "id": "1765747e-4c93-4cfb-af23-366c7e65fe4f",
   "metadata": {},
   "outputs": [
    {
     "name": "stdout",
     "output_type": "stream",
     "text": [
      "As a List: \n",
      " ['i', 'me', 'my', 'myself', 'we', 'our', 'ours', 'ourselves', 'you', \"you're\", \"you've\", \"you'll\", \"you'd\", 'your', 'yours', 'yourself', 'yourselves', 'he', 'him', 'his', 'himself', 'she', \"she's\", 'her', 'hers', 'herself', 'it', \"it's\", 'its', 'itself', 'they', 'them', 'their', 'theirs', 'themselves', 'what', 'which', 'who', 'whom', 'this', 'that', \"that'll\", 'these', 'those', 'am', 'is', 'are', 'was', 'were', 'be', 'been', 'being', 'have', 'has', 'had', 'having', 'do', 'does', 'did', 'doing', 'a', 'an', 'the', 'and', 'but', 'if', 'or', 'because', 'as', 'until', 'while', 'of', 'at', 'by', 'for', 'with', 'about', 'against', 'between', 'into', 'through', 'during', 'before', 'after', 'above', 'below', 'to', 'from', 'up', 'down', 'in', 'out', 'on', 'off', 'over', 'under', 'again', 'further', 'then', 'once', 'here', 'there', 'when', 'where', 'why', 'how', 'all', 'any', 'both', 'each', 'few', 'more', 'most', 'other', 'some', 'such', 'no', 'nor', 'not', 'only', 'own', 'same', 'so', 'than', 'too', 'very', 's', 't', 'can', 'will', 'just', 'don', \"don't\", 'should', \"should've\", 'now', 'd', 'll', 'm', 'o', 're', 've', 'y', 'ain', 'aren', \"aren't\", 'couldn', \"couldn't\", 'didn', \"didn't\", 'doesn', \"doesn't\", 'hadn', \"hadn't\", 'hasn', \"hasn't\", 'haven', \"haven't\", 'isn', \"isn't\", 'ma', 'mightn', \"mightn't\", 'mustn', \"mustn't\", 'needn', \"needn't\", 'shan', \"shan't\", 'shouldn', \"shouldn't\", 'wasn', \"wasn't\", 'weren', \"weren't\", 'won', \"won't\", 'wouldn', \"wouldn't\"]\n",
      "\n",
      "\n",
      "kp: 'set' in python is an unordered collection of unique items. No item comes more than once in the list.\n",
      "\n",
      "\n",
      "\n",
      " As a Set: \n",
      " {'yours', 'then', 'most', 'd', 'by', \"won't\", 'between', \"shouldn't\", \"don't\", 'until', 't', 'while', 'couldn', 'other', 'wasn', 'before', 'from', 'down', 'her', 'as', 'against', 'there', 've', 'm', 'has', 'when', 'your', 'very', 'some', \"you're\", 'a', 'again', 'not', 'nor', 'so', \"it's\", 'each', 'through', \"weren't\", 'now', \"needn't\", 'same', 'on', 'because', 'me', \"shan't\", 'whom', 'am', \"mustn't\", 'which', \"doesn't\", 'out', 'mustn', 'hers', 'weren', 'but', 'doing', 'didn', 'our', 'haven', 'itself', 'yourself', 'ain', 'they', 'below', 'we', 'during', 'too', 'y', 'themselves', 'them', 'off', 'its', 'do', 'needn', 'just', 'my', 'hasn', 'these', 'for', 'you', 'herself', 'are', \"aren't\", \"you'll\", 'wouldn', 'theirs', \"that'll\", 'this', \"she's\", \"isn't\", 'and', 'an', 'such', 'be', 'him', 'only', 'who', 'in', 'mightn', 'himself', 'she', 'how', 'why', 'have', 'about', 'can', 're', 'ours', 'under', 'further', 'no', 'shouldn', 'into', 'own', 'won', 'don', 'if', 'aren', 'above', 'should', 'here', 'after', \"should've\", 'their', 'having', 'were', 'was', 'he', 'been', 'to', 's', \"didn't\", 'the', 'few', 'all', 'does', 'did', \"hadn't\", 'is', 'will', \"you've\", 'i', 'ma', 'both', 'any', 'those', 'at', \"couldn't\", 'once', 'isn', 'what', 'more', 'of', 'myself', \"wouldn't\", 'his', 'that', 'than', 'yourselves', 'doesn', 'hadn', \"hasn't\", \"mightn't\", \"haven't\", 'shan', 'll', 'had', 'o', 'where', 'being', 'ourselves', 'over', \"wasn't\", \"you'd\", 'with', 'or', 'up', 'it'}\n"
     ]
    }
   ],
   "source": [
    "stop_words = stopwords.words(\"english\")\n",
    "print(\"As a List: \\n\", stop_words)\n",
    "\n",
    "print(\"\\n\\nkp: 'set' in python is an unordered collection of unique items. No item comes more than once in the list.\\n\\n\")\n",
    "stop_words = set(stopwords.words(\"english\"))\n",
    "print(\"\\n As a Set: \\n\",stop_words)"
   ]
  },
  {
   "cell_type": "markdown",
   "id": "93dc25f1-325e-4a01-a57b-0a2b518a2885",
   "metadata": {},
   "source": [
    "-------\n",
    "### About casefold() method\n",
    "https://www.w3schools.com/python/ref_string_casefold.asp \n",
    "\n",
    "<font color=\"green\">\n",
    "The casefold() method returns a string where all the characters are lower case.\n",
    "\n",
    "This method is similar to the lower() method, but the casefold() method is stronger, more aggressive, meaning that it will convert more characters into lower case, and will find more matches when comparing two strings and both are converted using the casefold() method.\n",
    "</font>\n",
    "----"
   ]
  },
  {
   "cell_type": "code",
   "execution_count": 32,
   "id": "943d0772-6c24-494f-8c34-b4d361a3f065",
   "metadata": {},
   "outputs": [
    {
     "name": "stdout",
     "output_type": "stream",
     "text": [
      "['Sir', ',', 'protest', '.', 'merry', 'man', '!']\n"
     ]
    }
   ],
   "source": [
    "# Next, create an empty list to hold the words that make it past the filter:\n",
    "filtered_list = []\n",
    "\n",
    "for word in words_in_quote:\n",
    "    if word.casefold() not in stop_words:\n",
    "        filtered_list.append(word)\n",
    "        \n",
    "print(filtered_list)"
   ]
  },
  {
   "cell_type": "markdown",
   "id": "9e69b01e-976f-4c1d-bad9-a1c8b852f2e6",
   "metadata": {},
   "source": [
    "You iterated over words_in_quote with a for loop and added all the words that weren’t stop words to filtered_list. You used [.casefold()](https://docs.python.org/3/library/stdtypes.html#str.casefold) on word so you could ignore whether the letters in word were uppercase or lowercase. This is worth doing because stopwords.words('english') includes only lowercase versions of stop words.\n",
    "\n",
    "Alternatively, you could use a [list comprehension](https://realpython.com/list-comprehension-python/) to make a list of all the words in your text that aren’t stop words:"
   ]
  },
  {
   "cell_type": "code",
   "execution_count": 33,
   "id": "f4821551-dfc8-48e6-89e5-9c6ab7635e88",
   "metadata": {},
   "outputs": [
    {
     "name": "stdout",
     "output_type": "stream",
     "text": [
      "['Sir', ',', 'protest', '.', 'merry', 'man', '!']\n"
     ]
    }
   ],
   "source": [
    "filtered_list = [ word for word in words_in_quote if word.casefold() not in stop_words]\n",
    "\n",
    "print(filtered_list)"
   ]
  },
  {
   "cell_type": "markdown",
   "id": "1df06c05-c60e-4420-9717-f956ce13fc00",
   "metadata": {},
   "source": [
    "When you use a list comprehension, you don’t create an empty list and then add items to the end of it. Instead, you define the list and its contents at the same time. Using a list comprehension is often seen as more [Pythonic](https://realpython.com/learning-paths/writing-pythonic-code/).\n",
    "\n",
    "You filtered out a few words like 'am' and 'a', but you also filtered out 'not', which does affect the overall meaning of the sentence. (Worf won’t be happy about this.)\n",
    "\n",
    "Words like 'I' and 'not' may seem too important to filter out, and depending on what kind of analysis you want to do, they can be. Here’s why:\n",
    "\n",
    "* **'I'** is a pronoun, which are context words rather than content words:\n",
    "    * **Content words** give you information about the topics covered in the text or the sentiment that the author has about those topics.\n",
    "    * **Context words** give you information about writing style. You can observe patterns in how authors use context words in order to quantify their writing style. Once you’ve quantified their writing style, you can analyze a text written by an unknown author to see how closely it follows a particular writing style so you can try to identify who the author is.\n",
    "* **'not'** is [technically an adverb](https://www.merriam-webster.com/dictionary/not) but has still been included in [NLTK’s list of stop words for English](https://www.nltk.org/nltk_data/). If you want to edit the list of stop words to exclude 'not' or make other changes, then you can [download it](https://www.nltk.org/nltk_data/).\n",
    "\n",
    "So, 'I' and 'not' can be important parts of a sentence, but it depends on what you’re trying to learn from that sentence.\n",
    "\n"
   ]
  },
  {
   "cell_type": "markdown",
   "id": "a27dee0d-834f-4aa2-a9ba-3b422d7d312c",
   "metadata": {},
   "source": [
    "[Go Home](#GoHome) <a id=\"Stemming\"></a>\n",
    "## Stemming\n",
    "\n",
    "**Stemming** is a text processing task in which you reduce words to their root, which is the core part of a word. For example, the words “helping” and “helper” share the root “help.” Stemming allows you to zero in on the basic meaning of a word rather than all the details of how it’s being used. NLTK has [more than one stemmer](http://www.nltk.org/howto/stem.html), but you’ll be using the [Porter stemmer](https://www.nltk.org/_modules/nltk/stem/porter.html).\n",
    "\n",
    "Here’s how to import the relevant parts of NLTK in order to start stemming:"
   ]
  },
  {
   "cell_type": "code",
   "execution_count": 34,
   "id": "63a0f456-2ff3-42c1-91c9-5d01578b7577",
   "metadata": {},
   "outputs": [],
   "source": [
    "from nltk.stem import PorterStemmer\n",
    "from nltk.tokenize import word_tokenize"
   ]
  },
  {
   "cell_type": "markdown",
   "id": "66ee0921-6878-4616-8bf0-a37c599d9e51",
   "metadata": {},
   "source": [
    "Now that you're done importing, you can create a stemmer with PoerterStemmer():"
   ]
  },
  {
   "cell_type": "code",
   "execution_count": 35,
   "id": "e4175c5e-c511-443b-9a56-45d7c67e675d",
   "metadata": {},
   "outputs": [],
   "source": [
    "stemmer = PorterStemmer()"
   ]
  },
  {
   "cell_type": "code",
   "execution_count": 38,
   "id": "98a85f30-81bd-441e-be10-4f4b565fd820",
   "metadata": {},
   "outputs": [
    {
     "data": {
      "text/plain": [
       "'\\nThe crew of the USS Discovery discovered many discoveries.\\nDiscovering is what explorers do.'"
      ]
     },
     "execution_count": 38,
     "metadata": {},
     "output_type": "execute_result"
    }
   ],
   "source": [
    "string_for_stemming = \"\"\"\n",
    "... The crew of the USS Discovery discovered many discoveries.\n",
    "... Discovering is what explorers do.\"\"\"\n",
    "\n",
    "string_for_stemming"
   ]
  },
  {
   "cell_type": "code",
   "execution_count": 40,
   "id": "9827276b-3e99-4228-bfb1-7910e2b6d1e6",
   "metadata": {},
   "outputs": [
    {
     "name": "stdout",
     "output_type": "stream",
     "text": [
      "Before you can stem the words in that string, you need to separate all the words in it:\n",
      "['The', 'crew', 'of', 'the', 'USS', 'Discovery', 'discovered', 'many', 'discoveries', '.', 'Discovering', 'is', 'what', 'explorers', 'do', '.']\n"
     ]
    }
   ],
   "source": [
    "print(\"Before you can stem the words in that string, you need to separate all the words in it:\")\n",
    "\n",
    "words = word_tokenize(string_for_stemming)\n",
    "print(words)"
   ]
  },
  {
   "cell_type": "code",
   "execution_count": 43,
   "id": "16f14372-c129-4ef3-9a0a-8d10e22bbba0",
   "metadata": {},
   "outputs": [
    {
     "name": "stdout",
     "output_type": "stream",
     "text": [
      "Create a list of the stemmed versions of the words in words by using stemmer.stem() in a list comprehension:\n",
      "['the', 'crew', 'of', 'the', 'uss', 'discoveri', 'discov', 'mani', 'discoveri', '.', 'discov', 'is', 'what', 'explor', 'do', '.']\n"
     ]
    }
   ],
   "source": [
    "print(\"Create a list of the stemmed versions of the words in words by using stemmer.stem() in a list comprehension:\")\n",
    "stemmed_words = [stemmer.stem(word) for word in words]  #'for word in words' means do it for all elements/members of words.\n",
    "print(stemmed_words)"
   ]
  },
  {
   "cell_type": "markdown",
   "id": "ca462ed1-cfca-483b-bc75-8c3b99b86ff7",
   "metadata": {},
   "source": [
    "Those results look a little inconsistent. Why would 'Discovery' give you 'discoveri' when 'Discovering' gives you 'discov'?\n",
    "\n",
    "Understemming and overstemming are two ways stemming can go wrong:\n",
    "\n",
    "1. **Understemming** happens when two related words should be reduced to the same stem but aren’t. This is a [false negative](https://en.wikipedia.org/wiki/False_positives_and_false_negatives#False_negative_error).\n",
    "2. Overstemming happens when two unrelated words are reduced to the same stem even though they shouldn’t be. This is a [false positive](https://en.wikipedia.org/wiki/False_positives_and_false_negatives#False_negative_error).\n",
    "\n",
    "The [Porter stemming algorithm](https://tartarus.org/martin/PorterStemmer/) dates from 1979, so it’s a little on the older side. The Snowball stemmer, which is also called Porter2, is an improvement on the original and is also available through NLTK, so you can use that one in your own projects. It’s also worth noting that the purpose of the Porter stemmer is not to produce complete words but to find variant forms of a word.\n",
    "\n",
    "Fortunately, you have some other ways to reduce words to their core meaning, such as lemmatizing, which you’ll see later in this tutorial. But first, we need to cover parts of speech."
   ]
  },
  {
   "cell_type": "code",
   "execution_count": 52,
   "id": "133e2aaf-a33e-4250-ac8d-965cae2c9591",
   "metadata": {},
   "outputs": [
    {
     "name": "stdout",
     "output_type": "stream",
     "text": [
      "['the', 'crew', 'of', 'the', 'uss', 'discoveri', 'discov', 'mani', 'discoveri', '.', 'discov', 'is', 'what', 'explor', 'do', '.']\n"
     ]
    }
   ],
   "source": [
    "# https://www.geeksforgeeks.org/snowball-stemmer-nlp/\n",
    "from nltk.stem.snowball import SnowballStemmer\n",
    "stemmerP2 = SnowballStemmer(\"english\") #or we can write:  stemmerP2 = SnowballStemmer(language='english')\n",
    "stemmed_words2 = [stemmer.stem(word) for word in words]\n",
    "print(stemmed_words2)"
   ]
  },
  {
   "cell_type": "markdown",
   "id": "d6a5b212-74af-4f6c-ab71-e5ed5c7b5015",
   "metadata": {},
   "source": [
    "[Go Home](#GoHome) <a id=\"TaggingPartsOfSpeech\"></a>\n",
    "## Tagging Parts of Speech\n",
    "Part of speech is a grammatical term that deals with the roles words play when you use them together in sentences. Tagging parts of speech, or POS tagging, is the task of labeling the words in your text according to their part of speech.\n",
    "\n",
    "In English, there are eight parts of speech:\n",
    "\n",
    "| Parts of Speech  |  Role |  Examples |\n",
    "|---|---|---|\n",
    "Noun |\tIs a person, place, or thing |\tmountain, bagel, Poland\n",
    "Pronoun |\tReplaces a noun |\tyou, she, we\n",
    "Adjective |\tGives information about what a noun is like |\tefficient, windy, colorful\n",
    "Verb |\tIs an action or a state of being | learn, is, go\n",
    "Adverb\t| Gives information about a verb, an adjective, or another adverb |\tefficiently, always, very\n",
    "Preposition |\tGives information about how a noun or pronoun is connected to another word\t| from, about, at\n",
    "Conjunction |\tConnects two other words or phrases |\tso, because, and\n",
    "Interjection |\tIs an exclamation |\tyay, ow, wow\n",
    "\n",
    "Some sources also include the category articles (like “a” or “the”) in the list of parts of speech, but other sources consider them to be adjectives. NLTK uses the word determiner to refer to articles.\n",
    "\n",
    "\n",
    "Here’s how to import the relevant parts of NLTK in order to tag parts of speech:"
   ]
  },
  {
   "cell_type": "code",
   "execution_count": 55,
   "id": "2ccf2ecf-d589-4bf9-bada-2679b6419041",
   "metadata": {},
   "outputs": [
    {
     "name": "stdout",
     "output_type": "stream",
     "text": [
      " If you wish to make an apple pie from scratch, you must first invent the universe.\n"
     ]
    }
   ],
   "source": [
    "from nltk.tokenize import word_tokenize\n",
    "\n",
    "# Now create some text to tag. You can use this Carl Sagan quote:\n",
    "\n",
    "sagan_quote = \"\"\" If you wish to make an apple pie from scratch, you must first invent the universe.\"\"\"\n",
    "\n",
    "print(sagan_quote)"
   ]
  },
  {
   "cell_type": "code",
   "execution_count": 56,
   "id": "c726df49-6ebf-424c-9530-5376421b5ddc",
   "metadata": {},
   "outputs": [
    {
     "name": "stdout",
     "output_type": "stream",
     "text": [
      "['If', 'you', 'wish', 'to', 'make', 'an', 'apple', 'pie', 'from', 'scratch', ',', 'you', 'must', 'first', 'invent', 'the', 'universe', '.']\n"
     ]
    }
   ],
   "source": [
    "words_in_sagan_quote = word_tokenize(sagan_quote)\n",
    "print(words_in_sagan_quote)\n",
    "                                     "
   ]
  },
  {
   "cell_type": "code",
   "execution_count": 59,
   "id": "79fa4aa4-df5f-41ad-b126-002fe9c6356c",
   "metadata": {},
   "outputs": [
    {
     "data": {
      "text/plain": [
       "[('If', 'IN'),\n",
       " ('you', 'PRP'),\n",
       " ('wish', 'VBP'),\n",
       " ('to', 'TO'),\n",
       " ('make', 'VB'),\n",
       " ('an', 'DT'),\n",
       " ('apple', 'NN'),\n",
       " ('pie', 'NN'),\n",
       " ('from', 'IN'),\n",
       " ('scratch', 'NN'),\n",
       " (',', ','),\n",
       " ('you', 'PRP'),\n",
       " ('must', 'MD'),\n",
       " ('first', 'VB'),\n",
       " ('invent', 'VB'),\n",
       " ('the', 'DT'),\n",
       " ('universe', 'NN'),\n",
       " ('.', '.')]"
      ]
     },
     "execution_count": 59,
     "metadata": {},
     "output_type": "execute_result"
    }
   ],
   "source": [
    "#Now call nltk.pos_tag() on your new list of words:\n",
    "import nltk\n",
    "nltk.download('averaged_perceptron_tagger') #Without this, gave me erros\n",
    "\n",
    "nltk.pos_tag(words_in_sagan_quote)"
   ]
  },
  {
   "cell_type": "markdown",
   "id": "77ccce1d-dc84-4e47-b733-b7d133d8cc71",
   "metadata": {},
   "source": [
    "All the words in the quote are now in a separate tuple, with a tag that represents their part of speech. But what do the tags mean? Here’s how to get a list of tags and their meanings:"
   ]
  },
  {
   "cell_type": "code",
   "execution_count": 63,
   "id": "31a3cbb7-ef2e-409e-b1f5-e320286cd617",
   "metadata": {},
   "outputs": [],
   "source": [
    "import nltk\n",
    "#nltk.download('tagsets')\n",
    "\n",
    "#nltk.help.upenn_tagset()"
   ]
  },
  {
   "cell_type": "markdown",
   "id": "34fb246a-b6b7-42fd-85ef-d1412e51f100",
   "metadata": {},
   "source": [
    "Above code (now disabled) i.e. the following two lines of code\n",
    "```python\n",
    "import nltk\n",
    "nltk.download('tagsets')\n",
    "\n",
    "nltk.help.upenn_tagset()\n",
    "```\n",
    "gave the following results:\n",
    "```\n",
    "[nltk_data] Downloading package tagsets to\n",
    "[nltk_data]     /Users/kpadhikari/nltk_data...\n",
    "$: dollar\n",
    "    $ -$ --$ A$ C$ HK$ M$ NZ$ S$ U.S.$ US$\n",
    "'': closing quotation mark\n",
    "    ' ''\n",
    "(: opening parenthesis\n",
    "    ( [ {\n",
    "): closing parenthesis\n",
    "    ) ] }\n",
    ",: comma\n",
    "    ,\n",
    "--: dash\n",
    "    --\n",
    ".: sentence terminator\n",
    "    . ! ?\n",
    ":: colon or ellipsis\n",
    "    : ; ...\n",
    "CC: conjunction, coordinating\n",
    "    & 'n and both but either et for less minus neither nor or plus so\n",
    "    therefore times v. versus vs. whether yet\n",
    "CD: numeral, cardinal\n",
    "    mid-1890 nine-thirty forty-two one-tenth ten million 0.5 one forty-\n",
    "    seven 1987 twenty '79 zero two 78-degrees eighty-four IX '60s .025\n",
    "    fifteen 271,124 dozen quintillion DM2,000 ...\n",
    "DT: determiner\n",
    "    all an another any both del each either every half la many much nary\n",
    "    neither no some such that the them these this those\n",
    "EX: existential there\n",
    "    there\n",
    "FW: foreign word\n",
    "    gemeinschaft hund ich jeux habeas Haementeria Herr K'ang-si vous\n",
    "    lutihaw alai je jour objets salutaris fille quibusdam pas trop Monte\n",
    "    terram fiche oui corporis ...\n",
    "IN: preposition or conjunction, subordinating\n",
    "    astride among uppon whether out inside pro despite on by throughout\n",
    "    below within for towards near behind atop around if like until below\n",
    "    next into if beside ...\n",
    "JJ: adjective or numeral, ordinal\n",
    "    third ill-mannered pre-war regrettable oiled calamitous first separable\n",
    "    ectoplasmic battery-powered participatory fourth still-to-be-named\n",
    "    multilingual multi-disciplinary ...\n",
    "JJR: adjective, comparative\n",
    "    bleaker braver breezier briefer brighter brisker broader bumper busier\n",
    "    calmer cheaper choosier cleaner clearer closer colder commoner costlier\n",
    "    cozier creamier crunchier cuter ...\n",
    "JJS: adjective, superlative\n",
    "    calmest cheapest choicest classiest cleanest clearest closest commonest\n",
    "    corniest costliest crassest creepiest crudest cutest darkest deadliest\n",
    "    dearest deepest densest dinkiest ...\n",
    "LS: list item marker\n",
    "    A A. B B. C C. D E F First G H I J K One SP-44001 SP-44002 SP-44005\n",
    "    SP-44007 Second Third Three Two * a b c d first five four one six three\n",
    "    two\n",
    "MD: modal auxiliary\n",
    "    can cannot could couldn't dare may might must need ought shall should\n",
    "    shouldn't will would\n",
    "NN: noun, common, singular or mass\n",
    "    common-carrier cabbage knuckle-duster Casino afghan shed thermostat\n",
    "    investment slide humour falloff slick wind hyena override subhumanity\n",
    "    machinist ...\n",
    "NNP: noun, proper, singular\n",
    "    Motown Venneboerger Czestochwa Ranzer Conchita Trumplane Christos\n",
    "    Oceanside Escobar Kreisler Sawyer Cougar Yvette Ervin ODI Darryl CTCA\n",
    "    Shannon A.K.C. Meltex Liverpool ...\n",
    "NNPS: noun, proper, plural\n",
    "    Americans Americas Amharas Amityvilles Amusements Anarcho-Syndicalists\n",
    "    Andalusians Andes Andruses Angels Animals Anthony Antilles Antiques\n",
    "    Apache Apaches Apocrypha ...\n",
    "NNS: noun, common, plural\n",
    "    undergraduates scotches bric-a-brac products bodyguards facets coasts\n",
    "    divestitures storehouses designs clubs fragrances averages\n",
    "    subjectivists apprehensions muses factory-jobs ...\n",
    "PDT: pre-determiner\n",
    "    all both half many quite such sure this\n",
    "POS: genitive marker\n",
    "    ' 's\n",
    "PRP: pronoun, personal\n",
    "    hers herself him himself hisself it itself me myself one oneself ours\n",
    "    ourselves ownself self she thee theirs them themselves they thou thy us\n",
    "PRP$: pronoun, possessive\n",
    "    her his mine my our ours their thy your\n",
    "RB: adverb\n",
    "    occasionally unabatingly maddeningly adventurously professedly\n",
    "    stirringly prominently technologically magisterially predominately\n",
    "    swiftly fiscally pitilessly ...\n",
    "RBR: adverb, comparative\n",
    "    further gloomier grander graver greater grimmer harder harsher\n",
    "    healthier heavier higher however larger later leaner lengthier less-\n",
    "    perfectly lesser lonelier longer louder lower more ...\n",
    "RBS: adverb, superlative\n",
    "    best biggest bluntest earliest farthest first furthest hardest\n",
    "    heartiest highest largest least less most nearest second tightest worst\n",
    "RP: particle\n",
    "    aboard about across along apart around aside at away back before behind\n",
    "    by crop down ever fast for forth from go high i.e. in into just later\n",
    "    low more off on open out over per pie raising start teeth that through\n",
    "    under unto up up-pp upon whole with you\n",
    "SYM: symbol\n",
    "    % & ' '' ''. ) ). * + ,. < = > @ A[fj] U.S U.S.S.R * ** ***\n",
    "TO: \"to\" as preposition or infinitive marker\n",
    "    to\n",
    "UH: interjection\n",
    "    Goodbye Goody Gosh Wow Jeepers Jee-sus Hubba Hey Kee-reist Oops amen\n",
    "    huh howdy uh dammit whammo shucks heck anyways whodunnit honey golly\n",
    "    man baby diddle hush sonuvabitch ...\n",
    "VB: verb, base form\n",
    "    ask assemble assess assign assume atone attention avoid bake balkanize\n",
    "    bank begin behold believe bend benefit bevel beware bless boil bomb\n",
    "    boost brace break bring broil brush build ...\n",
    "VBD: verb, past tense\n",
    "    dipped pleaded swiped regummed soaked tidied convened halted registered\n",
    "    cushioned exacted snubbed strode aimed adopted belied figgered\n",
    "    speculated wore appreciated contemplated ...\n",
    "VBG: verb, present participle or gerund\n",
    "    telegraphing stirring focusing angering judging stalling lactating\n",
    "    hankerin' alleging veering capping approaching traveling besieging\n",
    "    encrypting interrupting erasing wincing ...\n",
    "VBN: verb, past participle\n",
    "    multihulled dilapidated aerosolized chaired languished panelized used\n",
    "    experimented flourished imitated reunifed factored condensed sheared\n",
    "    unsettled primed dubbed desired ...\n",
    "VBP: verb, present tense, not 3rd person singular\n",
    "    predominate wrap resort sue twist spill cure lengthen brush terminate\n",
    "    appear tend stray glisten obtain comprise detest tease attract\n",
    "    emphasize mold postpone sever return wag ...\n",
    "VBZ: verb, present tense, 3rd person singular\n",
    "    bases reconstructs marks mixes displeases seals carps weaves snatches\n",
    "    slumps stretches authorizes smolders pictures emerges stockpiles\n",
    "    seduces fizzes uses bolsters slaps speaks pleads ...\n",
    "WDT: WH-determiner\n",
    "    that what whatever which whichever\n",
    "WP: WH-pronoun\n",
    "    that what whatever whatsoever which who whom whosoever\n",
    "WP$: WH-pronoun, possessive\n",
    "    whose\n",
    "WRB: Wh-adverb\n",
    "    how however whence whenever where whereby whereever wherein whereof why\n",
    "``: opening quotation mark\n",
    "    ` ``\n",
    "[nltk_data]   Unzipping help/tagsets.zip.\n",
    "```"
   ]
  },
  {
   "cell_type": "markdown",
   "id": "b860423d-fb8a-429c-8644-c83d0eb96eb8",
   "metadata": {},
   "source": [
    "Here’s a summary that you can use to get started with NLTK’s POS tags:\n",
    "\n",
    "Tags that start with\tDeal with\n",
    "\n",
    "| JJ |\tAdjectives|\n",
    "| --- | --- |\n",
    "| NN\t| Nouns | \n",
    "| RB | \tAdverbs | \n",
    "| PRP | \tPronouns | \n",
    "| VB\t|  Verbs | \n",
    "\n",
    "Now that you know what the POS tags mean, you can see that your tagging was fairly successful:\n",
    "\n",
    "* 'pie' was tagged NN because it’s a singular noun.\n",
    "* 'you' was tagged PRP because it’s a personal pronoun.\n",
    "* 'invent' was tagged VB because it’s the base form of a verb.\n",
    "\n",
    "But how would NLTK handle tagging the parts of speech in a text that is basically gibberish? [Jabberwocky](https://www.poetryfoundation.org/poems/42916/jabberwocky) is a [nonsense poem](https://en.wikipedia.org/wiki/Nonsense_verse) that doesn’t technically mean much but is still written in a way that can convey some kind of meaning to English speakers.\n",
    "\n",
    "Make a string to hold an excerpt from this poem:"
   ]
  },
  {
   "cell_type": "code",
   "execution_count": 65,
   "id": "e45bce06-3cff-414b-9bd0-071f6e9bd272",
   "metadata": {},
   "outputs": [
    {
     "data": {
      "text/plain": [
       "\"\\n'Twas brillig, and the slithy toves did gyre and gimble in the wabe:\\nall mimsy were the borogoves, and the mome raths outgrabe.\""
      ]
     },
     "execution_count": 65,
     "metadata": {},
     "output_type": "execute_result"
    }
   ],
   "source": [
    "jabberwocky_excerpt = \"\"\"\n",
    "... 'Twas brillig, and the slithy toves did gyre and gimble in the wabe:\n",
    "... all mimsy were the borogoves, and the mome raths outgrabe.\"\"\"\n",
    "\n",
    "jabberwocky_excerpt"
   ]
  },
  {
   "cell_type": "code",
   "execution_count": null,
   "id": "705dc5c1-9553-498c-b84e-f71926c09982",
   "metadata": {},
   "outputs": [],
   "source": []
  }
 ],
 "metadata": {
  "kernelspec": {
   "display_name": "Python 3 (ipykernel)",
   "language": "python",
   "name": "python3"
  },
  "language_info": {
   "codemirror_mode": {
    "name": "ipython",
    "version": 3
   },
   "file_extension": ".py",
   "mimetype": "text/x-python",
   "name": "python",
   "nbconvert_exporter": "python",
   "pygments_lexer": "ipython3",
   "version": "3.9.7"
  }
 },
 "nbformat": 4,
 "nbformat_minor": 5
}
