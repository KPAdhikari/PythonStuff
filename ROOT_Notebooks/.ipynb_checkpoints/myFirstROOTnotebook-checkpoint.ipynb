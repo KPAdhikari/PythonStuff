{
 "cells": [
  {
   "cell_type": "markdown",
   "metadata": {},
   "source": [
    "## Now I am able to run ROOT Notebook too\n",
    "I wasn't able to setup and run ROOT notebook before now (7/26/17) I am able to do so.\n",
    "\n",
    "Before, I was able to have only the Python 3 notebooks by running either 'jupyter notebook' or 'ipython notebook' on the terminal (I think, it relied on my earlier Anaconda installation).\n",
    "\n",
    "Then it gave me a link (for the notebook server) that started with http://localhost:8888/ (such as http://localhost:8888/tree/GitProj/KPAdhikari/PythonStuff/IPython_Jupyter_Notebooks#notebooks) and when pasted on the browser, I could see the web interface for the folders and files for the notebooks. \n",
    "The web interface It gave me the Jupyter logo at the top left corner. And, on the Files tab, when clicked on New (on the right, next to Upload), it showed the following list of uptions:  \n",
    "\n",
    "  Text File, Folder, Terminal, Notebooks, Python3\n",
    "  \n",
    "  \n",
    "But, today (7/26/17), I landed on this page: https://github.com/jupyter/jupyter/wiki/Jupyter-kernels (I was lead to this from https://stackoverflow.com/questions/40917409/using-jupyter-notebook-for-java, while trying to find how I could use Java in a notebook) with the list of links to available Jupyter kernels that enables notebooks for other languages. \n",
    "\n",
    "Then, I clicked on the [ROOT](https://github.com/root-project/root/tree/master/bindings/pyroot/JupyROOT) link which asked me to do the following:\n",
    "\n",
    "### Installation\n",
    "* [Install ROOT6](https://root.cern.ch/building-root) (> 6.05)\n",
    "\n",
    " * Since I had already installed it and used it before for some other regular ROOT uses, I simply made sure I had it's environments enabled properly. For this I opened the **~/.bashrc** file and enabled the following aliases: \n",
    " \n",
    "   * **alias root6env=\"source /opt/local/libexec/root6/bin/thisroot.sh\"**\n",
    "   * **alias root6=\"root6load; root6env\"**\n",
    "   \n",
    "   And, Finally, executed 'root6' from the terminal to ensure it is active for the current terminal and checked if ROOTSYS variable was showing the proper value\n",
    "   \n",
    "* Install dependencies: **pip install jupyter metakernel**\n",
    "\n",
    "### Start using ROOTbooks\n",
    "\n",
    "Set up the ROOT environment (. $ROOTSYS/bin/thisroot.[c]sh) and type in your shell:\n",
    "```\n",
    "root --notebook\n",
    "```\n",
    "This started a ROOT-flavoured notebook server in your computer. The server had the URL that started with http://localhost:8889/ such as http://localhost:8889/?token=43053e76521ea6d1381ce4581075940a77669f2282822b60 (8889 was because 8888 was already in use because I was also running 'jupyter notebook' on another terminal. When I tried killing both and rerunning only 'root --notebook', it now opened with the the port number 8888 instead of 8889) which when copied/pasted into the broswer, I could see folders similar to what was seen before but now with a ROOT logo instead of the Jupyter logo and when the 'New' button was clicked, it showed an additional option of 'ROOT C++' below 'Python 3'."
   ]
  },
  {
   "cell_type": "code",
   "execution_count": 1,
   "metadata": {
    "collapsed": false
   },
   "outputs": [
    {
     "name": "stderr",
     "output_type": "stream",
     "text": [
      "/var/folders/xx/3nmz3j457b99xd1r8kfj0j6r0000gn/T/tmpb8kmxjus.c:2:1: error: unknown type name 'TCanvas'\n",
      "TCanvas c;\n",
      "^\n",
      "/var/folders/xx/3nmz3j457b99xd1r8kfj0j6r0000gn/T/tmpb8kmxjus.c:3:1: error: unknown type name 'TH1F'\n",
      "TH1F h(\"h\",\"ROOT Histo;X;Y\",64,-4,4);\n",
      "^\n",
      "/var/folders/xx/3nmz3j457b99xd1r8kfj0j6r0000gn/T/tmpb8kmxjus.c:3:8: error: expected parameter declarator\n",
      "TH1F h(\"h\",\"ROOT Histo;X;Y\",64,-4,4);\n",
      "       ^\n",
      "/var/folders/xx/3nmz3j457b99xd1r8kfj0j6r0000gn/T/tmpb8kmxjus.c:3:8: error: expected ')'\n",
      "/var/folders/xx/3nmz3j457b99xd1r8kfj0j6r0000gn/T/tmpb8kmxjus.c:3:7: note: to match this '('\n",
      "TH1F h(\"h\",\"ROOT Histo;X;Y\",64,-4,4);\n",
      "      ^\n",
      "/var/folders/xx/3nmz3j457b99xd1r8kfj0j6r0000gn/T/tmpb8kmxjus.c:4:1: error: unknown type name 'h'\n",
      "h.FillRandom(\"gaus\");\n",
      "^\n",
      "/var/folders/xx/3nmz3j457b99xd1r8kfj0j6r0000gn/T/tmpb8kmxjus.c:4:2: error: expected identifier or '('\n",
      "h.FillRandom(\"gaus\");\n",
      " ^\n",
      "/var/folders/xx/3nmz3j457b99xd1r8kfj0j6r0000gn/T/tmpb8kmxjus.c:5:1: error: unknown type name 'h'\n",
      "h.Draw();\n",
      "^\n",
      "/var/folders/xx/3nmz3j457b99xd1r8kfj0j6r0000gn/T/tmpb8kmxjus.c:5:2: error: expected identifier or '('\n",
      "h.Draw();\n",
      " ^\n",
      "/var/folders/xx/3nmz3j457b99xd1r8kfj0j6r0000gn/T/tmpb8kmxjus.c:6:1: error: unknown type name 'c'\n",
      "c.Draw();\n",
      "^\n",
      "/var/folders/xx/3nmz3j457b99xd1r8kfj0j6r0000gn/T/tmpb8kmxjus.c:6:2: error: expected identifier or '('\n",
      "c.Draw();\n",
      " ^\n",
      "10 errors generated.\n",
      "[C kernel] GCC exited with code 1, the executable will not be executed"
     ]
    },
    {
     "name": "stdout",
     "output_type": "stream",
     "text": []
    }
   ],
   "source": [
    "TCanvas c;\n",
    "TH1F h(\"h\",\"ROOT Histo;X;Y\",64,-4,4);\n",
    "h.FillRandom(\"gaus\");\n",
    "h.Draw();\n",
    "c.Draw();"
   ]
  },
  {
   "cell_type": "markdown",
   "metadata": {
    "collapsed": true
   },
   "source": [
    "But, today, it didn't work properly. I think 'root6' is not setup properly. It gave errors such as follows:\n",
    "```\n",
    "    import handlers\n",
    "ModuleNotFoundError: No module named 'handlers'\n",
    "[W 17:05:32.177 NotebookApp] Timeout waiting for kernel_info reply from 3026e9da-b183-4193-a65a-ef885c11c2f3\n",
    "[I 17:05:34.112 NotebookApp] KernelRestarter: restarting kernel (4/5)\n",
    "WARNING:root:kernel 3026e9da-b183-4193-a65a-ef885c11c2f3 restarted\n",
    "Traceback (most recent call last):\n",
    "  File \"/Users/kpadhikari/anaconda/lib/python3.6/runpy.py\", line 183, in _run_module_as_main\n",
    "    mod_name, mod_spec, code = _get_module_details(mod_name, _Error)\n",
    "  File \"/Users/kpadhikari/anaconda/lib/python3.6/runpy.py\", line 109, in _get_module_details\n",
    "    __import__(pkg_name)\n",
    "  File \"/opt/local/libexec/root6/lib/root/JupyROOT/__init__.py\", line 1, in <module>\n",
    "    import JupyROOT.utils\n",
    "  File \"/opt/local/libexec/root6/lib/root/JupyROOT/utils.py\", line 17, in <module>\n",
    "    import handlers\n",
    "ModuleNotFoundError: No module named 'handlers'\n",
    "[W 17:05:37.125 NotebookApp] KernelRestarter: restart failed\n",
    "[W 17:05:37.125 NotebookApp] Kernel 3026e9da-b183-4193-a65a-ef885c11c2f3 died, removing from map.\n",
    "ERROR:root:kernel 3026e9da-b183-4193-a65a-ef885c11c2f3 restarted failed!\n",
    "[W 17:05:37.160 NotebookApp] Kernel deleted before session\n",
    "[W 17:05:37.160 NotebookApp] 410 DELETE /api/sessions/ceffb069-6df1-4bf3-9f80-937992c67d6b (::1) 1.68ms referer=http://localhost:8888/notebooks/GitProj/KPAdhikari/PythonStuff/ROOT_Notebooks/myFirstROOTnotebook.ipynb\n",
    "```\n",
    "\n",
    "And, on the top right side of the page it showed 'dead kernel' or 'no kernel' etc."
   ]
  },
  {
   "cell_type": "code",
   "execution_count": null,
   "metadata": {
    "collapsed": true
   },
   "outputs": [],
   "source": []
  }
 ],
 "metadata": {
  "kernelspec": {
   "display_name": "C",
   "language": "c",
   "name": "c_spec"
  },
  "language_info": {
   "file_extension": "c",
   "mimetype": "text/plain",
   "name": "c"
  }
 },
 "nbformat": 4,
 "nbformat_minor": 2
}
