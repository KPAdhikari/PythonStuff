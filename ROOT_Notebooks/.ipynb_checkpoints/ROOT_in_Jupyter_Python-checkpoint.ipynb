{
 "cells": [
  {
   "cell_type": "markdown",
   "metadata": {},
   "source": [
    "Trying out ideas and code snippets available in https://root.cern.ch/notebooks/HowTos/HowTo_ROOT-Notebooks.html (8/2/17)\n",
    "\n",
    "# How to use ROOT in a Jupyter notebook\n",
    "ROOT is integrated with the [Jupyter notebook](https://jupyter.org/) technology. There are two alternatives for using ROOT in a notebook:\n",
    "\n",
    "1. [**Python flavour**](#python_flavor): the default language of the notebook is Python and ROOT is accessed via the PyROOT interface. The user can mark cells to be C++ with the **%%cpp** magic.\n",
    "2. [**C++ flavour**](#cpp_flavor): the notebook is entirely written in C++, thus emulating the ROOT C++ prompt.\n"
   ]
  },
  {
   "cell_type": "markdown",
   "metadata": {},
   "source": [
    "<a id='python_flavor'></a>\n",
    "# Python Flavor\n",
    "In order to use ROOT in a Python notebook, we first need to import the ROOT module. During the import, all notebook related functionalities are activated."
   ]
  },
  {
   "cell_type": "code",
   "execution_count": 1,
   "metadata": {},
   "outputs": [
    {
     "name": "stdout",
     "output_type": "stream",
     "text": [
      "Welcome to JupyROOT 6.10/04\n"
     ]
    }
   ],
   "source": [
    "import ROOT"
   ]
  },
  {
   "cell_type": "markdown",
   "metadata": {},
   "source": [
    "Now we are ready to use [PyROOT](https://root.cern.ch/how/how-use-pyroot-root-python-bindings). For example, we create a histogram."
   ]
  },
  {
   "cell_type": "code",
   "execution_count": 2,
   "metadata": {
    "collapsed": true
   },
   "outputs": [],
   "source": [
    "h = ROOT.TH1F(\"gauss\",\"Example histogram\",100,-4,4)\n",
    "h.FillRandom(\"gaus\")"
   ]
  },
  {
   "cell_type": "markdown",
   "metadata": {},
   "source": [
    "Next we create a [canvas](https://root.cern.ch/root/htmldoc/TCanvas.html), the entity which holds graphics primitives in ROOT."
   ]
  },
  {
   "cell_type": "code",
   "execution_count": 3,
   "metadata": {
    "collapsed": true
   },
   "outputs": [],
   "source": [
    "c = ROOT.TCanvas(\"myCanvasName\",\"The Canvas Title\",800,600)\n",
    "h.Draw()"
   ]
  },
  {
   "cell_type": "markdown",
   "metadata": {},
   "source": [
    "For the histogram to be displayed in the notebook, we need to draw the canvas."
   ]
  },
  {
   "cell_type": "code",
   "execution_count": 4,
   "metadata": {},
   "outputs": [
    {
     "data": {
      "image/png": "[encoded data removed]",
      "text/plain": [
       "<IPython.core.display.Image object>"
      ]
     },
     "metadata": {},
     "output_type": "display_data"
    }
   ],
   "source": [
    "c.Draw()"
   ]
  },
  {
   "cell_type": "code",
   "execution_count": null,
   "metadata": {
    "collapsed": true
   },
   "outputs": [],
   "source": []
  }
 ],
 "metadata": {
  "kernelspec": {
   "display_name": "Python 2",
   "language": "python",
   "name": "python2"
  },
  "language_info": {
   "codemirror_mode": {
    "name": "ipython",
    "version": 2
   },
   "file_extension": ".py",
   "mimetype": "text/x-python",
   "name": "python",
   "nbconvert_exporter": "python",
   "pygments_lexer": "ipython2",
   "version": "2.7.13"
  }
 },
 "nbformat": 4,
 "nbformat_minor": 2
}
