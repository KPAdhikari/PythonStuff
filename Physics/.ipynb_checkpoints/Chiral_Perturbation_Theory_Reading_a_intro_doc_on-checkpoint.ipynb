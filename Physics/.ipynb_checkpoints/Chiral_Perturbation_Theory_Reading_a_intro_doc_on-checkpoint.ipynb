{
 "cells": [
  {
   "cell_type": "markdown",
   "metadata": {
    "collapsed": true
   },
   "source": [
    "# Reading \"[An Introduction to Chiral Perturbation Theory ($\\chi PT$) ](https://arxiv.org/abs/hep-ph/0703274)\"\n",
    "## By Bastian Kubis \n",
    "\n",
    "### Abstract\n",
    "This is a brief introduction to the low-energy effective theory of the standard model - chiral perturbation theory ($\\chi PT$).\n"
   ]
  },
  {
   "cell_type": "markdown",
   "metadata": {},
   "source": [
    "## 2.2 Weinberg's conjecture\n",
    "\n",
    "Following statement by Weinberg lies at the very heart of the successful application of effective field theories (EFT), using an effective Langrangian framework:\n",
    "\n",
    "```\n",
    "Quantum Field Theory has no content besides unitarity, analyticity, cluster decomposition, and symmetries.\n",
    "```\n",
    "\n",
    "This means that in order to calculate the S-matrix for any theory below some scale, simply use the most general effective Lagrangian consistent with these principles in terms of the appropriate asymptotic states. This is what we have done in the previous subsection for QED at very low energies; and we will now follow this principle in the construction of an effective thoery for the strong interactions.\n",
    "\n",
    "### Important terms:\n",
    "** Unitarity, Analyticity, Cluster decomposition, Symmetries, S-matrix, Lagrangian, Asymptotic states, Strong interactions **"
   ]
  },
  {
   "cell_type": "markdown",
   "metadata": {},
   "source": [
    "## 3 The strong interactions at low energies\n",
    "### 3.1 The symmetries of Quantum Chromodynamics\n",
    "The spectrum of states of strongly interacting particles displays some interesting features. Above a typical mass scale of about 1 GeV, there is a large number of states, both meson resonances and baryons. Only a very few (pseudoscalar) states, however, are significantly lighter than this mass scale: in particular the pions ($M_{\\pi} \\approx 140$ MeV), but also kaons ($M_K \\approx 495$ MeV) and the eta ($M_{\\eta} \\approx 550$ MeV).\n",
    "\n",
    "The widely accepted theory of the strong interactions is QCD, a theory formulated in terms of quark and gluon fields built on the principle of colour gauge invariance with the gauge group SU(3)$_c$. **The running strong coupling constant leads to the phenomena of asymptotic freedom in the high-energy regime, but also to confinement of the quark and gluon degrees of freedom inside colour-neutral hadronic states.** The large coupling prevents the use of perturbation theory at low energies, so there is no direct and obvious link between QCD and its _fundamental_ degrees of freedom, and the _relevant_ hadronic degrees of freedom (DOF) as observed in the spectrum of mesons and baryons.\n",
    "\n",
    "### Important terms\n",
    "**Meson resonances, pseudoscalar states/particles, QCD, perturbation theory, gauge invariance, gauge group, SU(3)$_c$, the running coupling constant, asymptotic freedom, confinement, QCD Lagrangian, chiral (fields, symmetry).**"
   ]
  },
  {
   "cell_type": "markdown",
   "metadata": {
    "collapsed": true
   },
   "source": [
    "In order to construct a low-energy effective theory for the strong interactions, we have to investigate the symmetries of the QCD Lagrangian more closely. For this purpose, we decompose the quark fields into the chiral components according to\n",
    "\n",
    "#### Equation 3:\n",
    "$q = \\frac{1}{2}(1 - \\gamma_5)q + \\frac{1}{2}(1 + \\gamma_5)q = P_L q + P_R q = q_L + q_R$       \n",
    "\n",
    "Using this, we can write the QCD Lagrangian as\n",
    "\n",
    "#### Equation 4:\n",
    "\n",
    "$\\mathcal{L}_{QCD} = \\mathcal{L}^0_{QCD} - \\mathcal{L}^m_{QCD} + ..., $\n",
    "\n",
    "$\\mathcal{L}^0_{QCD} = - \\frac{1}{2} Tr G^{\\alpha}_{\\mu\\nu}G^{\\mu\\nu,\\alpha} + i \\bar{q_L} \\slashed{D} q_L + i \\bar{q_R} \\slashed{D} q_R.$\n",
    "\n",
    "$\\mathcal{L}^m_{QCD} = \\bar{q_L} \\mathcal{M} q_R + \\bar{q_R} \\mathcal{M}^{\\dagger} q_L, \\quad$     .................. (4)\n",
    "\n",
    "where $D_{\\mu}$ is the covariant derivative, $G^{\\alpha}_{\\mu\\nu}$ is the gluon field strength tensor, q collects the light quark flavours $q^T = (u, d, s)$, and $\\mathcal{M} = diag(m_u, m_d, m_s)$ is the quark mass matrix. The ellipse (kp: the three dots) denotes the heavier flavours, gauge fixing terms etc. We note that, besides the obvious symmetries such as Lorentz invariance, SU(3)$_c$ gauge invariance, and the discrete symmtries P, C, T, $\\mathcal{L}_{QCD}$ displays a chiral symmetry in the limit of the vanishing quark masses (which is hence called \"chiral limit\"): $\\mathcal{L}^0_{QCD}$ is invariant under chiral $U(3)_L \\times U(3)_R$ flavour transformaitons, \n",
    "\n",
    "#### Equation 5:\n",
    "$(q_L,q_R) \\longrightarrow (L_{q_L}, R_{q_R}), \\quad\\quad  L, R \\in U(3)_{L,R}.$\n",
    "\n",
    "As the masses of the three light quarks are small on the typical hadronic scale,\n",
    "\n",
    "$m_{u,d,s} \\ll 1 GeV  \\approx \\Lambda_{hadr}, $\n",
    "\n",
    "there is hope that the real world is not too far from the chiral limit, such that one may invoke a perturbative expansion in the quark masses. The effective theory constructed in the following, based on this idea, is therefore called \"**chiral perturbation theory**\" (ChPT or $\\chi PT$).\n",
    "\n",
    "\n",
    "### Important terms\n",
    "**Covariant derivative; Field strength tensor; Quark mass matrix; Gauge fixing; Continuous symmetries (Lorentz invariance, SU(3)$_c$ gauge invariance, Chiral symmetry); Discrete symmetries (P, C, T)**\n",
    "### LaTeX references.\n",
    "* curvy L' for Lagrangian and/or for Laplace Transforms. https://tex.stackexchange.com/questions/11031/how-to-do-the-curvy-l-for-lagrangian-or-laplace-transforms\n",
    "* \\bar{*}, \\overline{*}, https://tex.stackexchange.com/questions/22100/the-bar-and-overline-commands\n",
    "* Slashed Dirac operator $\\slashed{D}$ https://tex.stackexchange.com/questions/166327/position-of-the-slash-in-hatted-slashed\n",
    "* Much smaller than $\\ll$ using '\\ll' https://tex.stackexchange.com/questions/74484/resemble-too-much-ll-gg"
   ]
  },
  {
   "cell_type": "markdown",
   "metadata": {
    "collapsed": true
   },
   "source": [
    "If we rewirte the symmetry group according to \n",
    "#### Equation 6:\n",
    "$U(3)_L \\times U(3)_R  = SU(3)_R \\times SU(3)_R \\times U(1)_V \\times U(1)_A, \\qquad ........ (6)$ \n",
    "\n",
    "where we have introduced vector V = L + R (_kp: what kind of vector? also Axial or what?_) and axial vector A = L - R transformations, and consider the Noether currents (_kp: remember that Noether theorem means a symmetry means, something is conserved_) associated with this symmetry group, it turns out that the different parts of it are realized in very different ways in nature:\n",
    "\n",
    "* The $U(1)_V$ current $V^{\\mu,0} = \\bar{q}\\gamma_{\\mu}q$ - the quark number or baryon number current, is a conserved current in the standard model (SM).\n",
    "* The $U(1)_A$ current $A^{\\mu,0} = \\bar{q}\\gamma_{\\mu}\\gamma_5 q$ is broken by quantum effects - the $U(1)_A$ anomaly (kp: [Axial Anomaly](http://www.ecm.ub.es/~espriu/teaching/doctorat/standard_model/SM_lect5.pdf)?) - and is not conserved current of the quantum theory.\n",
    "\n",
    "### Important terms:\n",
    "Vector, Axial Vector; Noether theorem/currents; [$U(1)_A$ anomaly](https://en.wikipedia.org/wiki/Chiral_anomaly)\n",
    "\n",
    "### References\n",
    "* https://github.com/ipython/ipython/issues/4113 Equation numbering issue.\n",
    "* https://en.wikipedia.org/wiki/Chiral_anomaly Chiral Anomaly - $U(1)_A$ anomaly\n",
    "* [Axial Anomaly](http://www.ecm.ub.es/~espriu/teaching/doctorat/standard_model/SM_lect5.pdf): It shows that the axial $U(1)_A$ current is indeed not a symmetry of QCD. It does so by computing explicitly the decay $\\pi^0 \\rightarrow \\gamma\\gamma$ (forbidden in the chiral limit if the axial U(1) current is conserved).\n",
    "* https://physics.stackexchange.com/questions/128171/u1-abelian-axial-chiral-anomaly-in-4d \n",
    " * Q: I am reading U(1) abelian/axial/chiral anomaly in 3+1 dimensions using the path integral method (Fujikawa). Am I wrong in assuming that the anomaly can be cancelled by introducing a counter term in the Lagrangian that exactly cancels the anomalous divergence of the U(1) axial current? Literature sources beg to differ but I cannot understand why it is so. Any reference would be very much useful. \n",
    " * A1:  Counterterms are a tool in renormalization, not a way to get rid of unwanted terms. I do not understand your question. Could you perhaps write down the \"counterterm\" you intend to introduce? – ACuriousMind♦ Jul 26 '14 at 13:46 \n",
    " * Q2:  okay. I found out the specific name for it. Bardeen counter term. I am not sure why and how you can add the counter terms to the lagrangian. so, 1)What effects does the bardeen counter term produce? 2)does it cancel the anomalous divergence? 3)How does the anomaly cancel for the ABELIAN case? does it cancel at all? – SubhamDC Jul 27 '14 at 4:29 \n",
    " * A2: This Bardeen counterterm is an elusive beast, I must say. Yet I will share what I have found and understand: ...\n",
    " * A3: I think the correct thing to say is that you cannot have counterterms which kill both anomalies (gauge anomaly and chiral anomaly). However, you may have counterterms which kills one of the anomalies. See for instance formulae ((16),(17),(18) p. 25,26,27) in this paper. – Trimok Jul 29 '14 at 10:52 \n",
    "* https://tex.stackexchange.com/questions/225523/how-to-write-partial-differential-equation-ex-dq-dt-ds-dt-with-real-partial-d curly (\\delta - $\\delta$) and partial (\\partial - $\\partial$) deltas: \n"
   ]
  },
  {
   "cell_type": "markdown",
   "metadata": {},
   "source": [
    "As far as the chiral symmetry group $SU(3)_L \\times SU(3)_R$ and its conserved currents\n",
    "\n",
    "$V^{\\mu,a} = \\bar{q} \\gamma^{\\mu} \\frac{\\lambda^a}{2}q, \\quad  \\partial_{\\mu} V^{\\mu,a} = 0,$\n",
    "\n",
    "$\\qquad \\qquad \\qquad \\qquad \\qquad \\qquad \\qquad \\qquad a = 1, ...., 8$\n",
    "\n",
    "$V^{\\mu,a} = \\bar{q} \\gamma^{\\mu} \\gamma_5 \\frac{\\lambda^a}{2}q, \\quad  \\partial_{\\mu} V^{\\mu,a} = 0,$\n",
    "\n",
    "are concerned, they are certainly broken _explicitly_ by the quark masses, but this is expected to be a small effect. Hence the main question is whether the chiral symmetry is realised in nature in the Wigner-Weyl mode, i.e the symmetry is manifest in the spectrum in terms of multiplets, or whether it is realized as the Goldstone mode, i.e. the symmetry is hidden or spontaneously broken.\n",
    "\n",
    "### Important terms/concepts\n",
    "* Two modes of (chiral) symmetry realisation - Wigner-Weyl mode (existence of spectrum of multiplets) or Goldstone mode (hidden or spontaneously broken symmetry)."
   ]
  },
  {
   "cell_type": "markdown",
   "metadata": {},
   "source": [
    "## kp: So how exactly is the Chiral Symmetry of the Strong Interactions Realized?\n",
    "\n",
    "### Could it be in the ** Wigner-Weyl mode**? \n",
    "In this case, the conserved axial charges annihilating the vacuum,\n",
    "\n",
    "$Q^a_5 \\ \\ |0> \\ = 0, \\qquad  Q^a_5 = \\int{d^3 x A^{0,a}(x)},$\n",
    "\n",
    "would lead to **parity doubling in the hadron spectrum** (_kp: so does that mean all the hadrons would have parity-doublets in the hadron spectrum?_).  Phenomenologically, we find **(approximate) $SU(3)_V$ multiplets**, but no parity doubling is observed. Furthermore, unbroken chiral symmetry would lead to vanishing difference of the vector-vector and axial-axial vacuum correlators, $<0|VV|0> - <0|AA|0> = 0$. This difference can be measured in hadronic tau decays $\\tau \\rightarrow \\nu_{\\tau} + n \\pi$, leading to a non-vanishing result.\n",
    "### Or could the symmetry be in the **Goldstone mode**?\n",
    "In this case, the **Vafa-Witten theorem** asserts that the vector subgroup should remain unbroken, in accordance with the observation of hadronic multiplets, so the symmetry breaking pattern would be\n",
    "\n",
    "#### Equation 7:\n",
    "$ SU(3)_L \\times SU(3)_R  \\xrightarrow{SSB} SU(3)_V \\qquad\\qquad .... (7)$\n",
    "\n",
    "The axial charges then commute with the Hamiltonian, but do not leave the ground state invriant. As a consequence, massless excitations, so called \"Goldstone bosons\" appear, which are non-interacting for vanishing energy. In the case at hand, the 8 Goldstone bosons should be pseudoscalars, which are the lightest hadrons in the spectrum - namely $\\pi^{\\pm}, \\pi^0, K^{\\pm}, K^0, \\bar{K}^0$ and $\\eta$ (_kp: how did these massless excitation get their masses? For example, pions have masses of about 140 MeV._). The task is now to construct a low-energy theory of these Goldstone bosons. This is an example for a _non-decoupling_ effective theory: in contrast to the example of QED at energies below the electron mass described earlier, the transition from the full to the effective theory proceeds via a phase transition/ via spontaneous symmetry breakdown, in the course of which new light degrees of freedom are generated.\n",
    "\n",
    "\n",
    "### Important terms/concepts\n",
    "* Conserved axial charges annihilating the vacuum.\n",
    "* Parity doubling, vector-vector and axial-axial vacuum correlators.\n",
    "\n",
    "### References\n",
    "* \\xrightarrow (for text over an arrow) or \\overset{x}{\\rightarrow} : https://tex.stackexchange.com/questions/103988/rightarrow-with-text-above-it or https://www.stack.nl/~jwk/latex/examples/node6.html"
   ]
  },
  {
   "cell_type": "markdown",
   "metadata": {
    "collapsed": true
   },
   "source": [
    "## Construction of the Effective Lagrangian\n",
    "We want to develop a **general formalism** (kp: ???) to construct the effective theory for the **Goldstone bosons** (kp: ???) corresponding to **a symmetry group G** (kp: ???) which is **spontaneously broken to its subgroup H**. Hence,\n",
    "\n",
    "$ G  \\xrightarrow{SSB} H$, \n",
    "\n",
    "where **dim(G) - dim(H) = n**.\n",
    "\n",
    "We combine the **Goldstone boson fields** into a vector \n",
    "**$\\vec{\\phi} = (\\phi_1, ..., \\phi_n), \\quad \\phi_i: M^4 \\rightarrow \\mathcal{R}$** (where $M^4$ denotes Minkowski space). The symmetry group G acts on $\\vec{\\phi}$ according to\n",
    "\n",
    "$g \\in G : \\quad \\vec{\\phi} \\longmapsto \\vec{\\phi^{'}} = \\vec{f}(g,\\vec{\\phi})$, \n",
    "\n",
    "which has to obey the **composion law**\n",
    "\n",
    "$\\vec{f}(g_1, \\vec{f}(g_2,\\vec{\\phi})) = \\vec{f}(g_1 g_2,\\vec{\\phi})$.\n",
    "\n",
    "Consider the **image of the origin** $\\vec{f}(g,\\vec{0})$: elements leaving (kp: leaving out, except?) the origin invariant (kp:????) form a subgroup, the **conserved subgroup** H. Now we have\n",
    "\n",
    "$\\forall g \\in G \\quad \\forall h \\in H \\quad \\vec{f}(gh,\\vec{0}) = \\vec{f}(g,\\vec{0})$,\n",
    "\n",
    "therefore, $\\vec{f}$ maps the **quotient space G/H** onto the space of Goldstone boson fields. This mapping is invertible, as $\\vec{f}(g_1,\\vec{0}) = \\vec{f}(g_2,\\vec{0})$ implies $g_1 g_2^{-1} \\in H$. Hence we conclude that the Goldstone bosons can be identified with elements of G/H. For $q_i \\in G/H$, the actionof G on G/H is then given by\n",
    "\n",
    "$g q_1 = q_2 h(g, q_1), \\quad h(g,q_1) \\in H$,\n",
    "\n",
    "therefore, the coordinate of G/H transform nonlinearly under G.\n",
    "\n",
    "In the case of QCD, we denote the group elements by $g \\sim (g_R, g_L), g_{R/L} \\in SU(3)_{R/L}$, with the composition law\n",
    "\n",
    "$ g_1 g_2 = (g_{R_1}, g_{L_1})(g_{R_2}, g_{L_2}) = (g_{R_1}g_{R_2}, g_{L_1}g_{L_2})$.\n",
    "\n",
    "The choice of a representative element inside each equivalence class is in principle arbitrary, the convention for $gH \\in G/H$ is to rewrite $(g_R, g_L) = (\\mathbb(E), g_L g_R^{-1})(g_R,g_R)$ and to characterise each element of G/H, i.e. each Goldstone boson, uniquely by a unitary matrix\n",
    "\n",
    "#### Equation 8\n",
    "$ U = g_L g_R^{-1} = exp \\Big( \\frac{i \\lambda_a \\phi_a}{F{'}} \\Big). \\quad\\quad ..... (8)$\n",
    "\n",
    "Here, the $\\phi_a, a = 1, ...., 8$ are the Goldstone boson fields, and $F^{'}$ is a dimensionful constant (kp: opposite of dimensionless constant) to be determined later. How does U transform under the chiral group? We find\n",
    "\n",
    "$(R,L)(\\mathbb{E},U).H = (\\mathbb{E},LUR^{\\dagger})(R,R).H = (\\mathbb{E},LUR^{\\dagger}.H,$\n",
    "\n",
    "therefore,\n",
    "#### Equation 9\n",
    "\n",
    "$U \\overset{G}{\\longmapsto} L U R^{\\dagger}. \\quad \\quad ..... (9)$\n",
    "\n",
    "\n",
    "### Reference\n",
    "* Arrow Symbols in Standard $\\LaTeX$: http://garsia.math.yorku.ca/MPWP/LATEXmath/node9.html. Example: '\\longmapsto' and '\\longrightarrow' give $\\longmapsto$ and $\\longrightarrow$.\n",
    "* \\forall $\\forall$: https://artofproblemsolving.com/wiki/index.php/LaTeX:Symbols\n",
    "* \\mathbb{E} $\\mathbb{E}$: https://tex.stackexchange.com/questions/82931/latex-code-for-curly-h-used-for-hausdorff-dimension"
   ]
  },
  {
   "cell_type": "markdown",
   "metadata": {},
   "source": []
  },
  {
   "cell_type": "markdown",
   "metadata": {
    "collapsed": true
   },
   "source": [
    "## The Leading-order Lagrangian\n",
    "Now we know how the **Goldstone boson fields** transform under **chiral transformations**, we can proceed to construct a Lagrangian in terms of the matrix U that is invariant under **$SU(3)_L \\times SU(3)_R$**. As we want to construct a **_low-energy_ effective theory**, the guiding principle is to use the power of momenta or derivatives to order the importance of various possible terms. \"Low energies\" here refer to a scale well below 1 GeV, i.e. an energy region where the Goldstone boson are the only relevant **degrees of freedom** (kp: **DOF**).\n",
    "\n",
    "**Lorentz invariance** dictates that Lagrangian terms can only come in even powers of derivatives, hence $\\mathcal{L}$ is of the form\n",
    "\n",
    "#### Equation 10\n",
    "$ \\mathcal{L} = \\mathcal{L}^{(0)} + \\mathcal{L}^{(2)} + \\mathcal{L}^{(4)}  +  \\quad \\quad  ... . (10)$\n",
    "\n",
    "However, as U is unitary, therefore $UU^\\dagger = \\mathbb{E}$, $\\mathcal{L}^{(0)}$ can only be a constant. Therefore, in accordance with the Goldstone theorem, the leading term in the Lagrangian is $\\mathcal{L}^{(2)}$, which already involves derivatives. It can be shown to consist of one singel term,\n",
    "\n",
    "#### Equation 11\n",
    "$\\mathcal{L}^{(2)} = \\frac{F^2}{4}\\langle \\partial_\\mu U \\partial^\\mu U^\\dagger \\rangle ,    \\quad \\quad  ... . (11)$ \n",
    "\n",
    "where F is another dimensionful constant, and \n",
    "\n",
    "#### Equation 12\n",
    "$U = exp\\big( \\frac{i\\phi}{F^{'}} \\big), \\phi = \\sqrt{2} \n",
    "\\begin{pmatrix} \n",
    "\\frac{\\phi_3}{\\sqrt{2}} + \\frac{\\phi_8}{\\sqrt{6}} & \\pi^+ & K^+ \\\\ \n",
    "\\pi^- &  - \\frac{\\phi_3}{\\sqrt{2}} + \\frac{\\phi_8}{\\sqrt{6}} &  K^0 \\\\ \n",
    "K^- & \\bar{K}^0  &  -\\frac{2 \\phi_8}{\\sqrt{6}}\n",
    "\\end{pmatrix}. \\quad \\quad  ... . (12)$\n",
    "\n",
    "Expanding U in powers of $\\phi$, $U = 1 + i\\phi/F^{'} - \\phi^2 / (2 F^{'2}) + ...$, we find the canonical kinetic terms\n",
    "\n",
    "$\\mathcal{L}^{(2)} = \\partial_\\mu \\pi^+ \\partial^\\mu \\pi^- + \\partial_\\mu K^+ \\partial^\\mu K^- + ...$\n",
    "\n",
    "exactly for $F^{'} = F$. The invariance of (11) under $SU(3)_L \\times SU(3)_R$ is easily verified:\n",
    "\n",
    "$\\langle \\partial_\\mu U \\partial^\\mu U^\\dagger  \\rangle\n",
    "\\longmapsto\n",
    "\\langle \\partial_\\mu U^{'} \\partial^\\mu U^{'\\dagger}  \\rangle\n",
    "= \\langle L \\partial_\\mu U  R^{\\dagger} R  \\partial^\\mu U^{\\dagger} L^\\dagger  \\rangle\n",
    "= \\langle \\partial_\\mu U \\partial^\\mu U^\\dagger  \\rangle$.\n",
    "\n",
    "We remark here that our derivation of (11) is somewhat heuristic. A more formal proof of the equivalence of QCD and its representation in terms of an effective Lagrangian, based on an analysis of the **chiral Ward identities**, is given in Ref. [13]. Furthermore, we have neglected anomalies in the above reasoning, which can be shown to enter only at next-to-leading order [14].\n"
   ]
  },
  {
   "cell_type": "code",
   "execution_count": null,
   "metadata": {
    "collapsed": true
   },
   "outputs": [],
   "source": []
  },
  {
   "cell_type": "code",
   "execution_count": null,
   "metadata": {
    "collapsed": true
   },
   "outputs": [],
   "source": []
  }
 ],
 "metadata": {
  "kernelspec": {
   "display_name": "Python 2",
   "language": "python",
   "name": "python2"
  },
  "language_info": {
   "codemirror_mode": {
    "name": "ipython",
    "version": 2
   },
   "file_extension": ".py",
   "mimetype": "text/x-python",
   "name": "python",
   "nbconvert_exporter": "python",
   "pygments_lexer": "ipython2",
   "version": "2.7.13"
  }
 },
 "nbformat": 4,
 "nbformat_minor": 2
}
