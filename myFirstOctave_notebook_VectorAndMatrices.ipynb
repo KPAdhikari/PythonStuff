{
 "cells": [
  {
   "cell_type": "markdown",
   "metadata": {},
   "source": [
    "# Krishna Adhikari's First Octave Tutorial Walkthrough Notebook\n",
    "\n",
    "Reference: https://en.wikibooks.org/wiki/Octave_Programming_Tutorial/Vectors_and_matrices\n",
    "\n",
    "<a id='octave_kernel'></a>\n",
    "## Installing A Jupyter [Kernel for Octave](https://github.com/calysto/octave_kernel)\n",
    "\n",
    "Prerequisites: Install Jupyter Notebook, and Octave. It is recommended that you also install gnuplot support in Octave for inline plotting.\n",
    "\n",
    "```\n",
    "Krishna's FunPrompt $ pip install --upgrade gnuplot_kernel\n",
    "Requirement already up-to-date: gnuplot_kernel in ./anaconda/lib/python3.6/site-packages\n",
    "Requirement already up-to-date: metakernel>=0.17.4 in ./anaconda/lib/python3.6/site-packages (from gnuplot_kernel)\n",
    "Requirement already up-to-date: notebook>=4.0 in ./anaconda/lib/python3.6/site-packages (from gnuplot_kernel)\n",
    "Requirement already up-to-date: pexpect>=4.2 in ./anaconda/lib/python3.6/site-packages (from metakernel>=0.17.4->gnuplot_kernel)\n",
    "Requirement already up-to-date: ipykernel in ./anaconda/lib/python3.6/site-packages (from metakernel>=0.17.4->gnuplot_kernel)\n",
    "Krishna's FunPrompt $ pip install octave_kernel\n",
    "Collecting octave_kernel\n",
    "  Downloading octave_kernel-0.26.2-py2.py3-none-any.whl\n",
    "Requirement already satisfied: ipykernel in ./anaconda/lib/python3.6/site-packages (from octave_kernel)\n",
    "Requirement already satisfied: metakernel>=0.18.0 in ./anaconda/lib/python3.6/site-packages (from octave_kernel)\n",
    "Requirement already satisfied: jupyter-client>=4.3.0 in ./anaconda/lib/python3.6/site-packages (from octave_kernel)\n",
    "Requirement already satisfied: pexpect>=4.2 in ./anaconda/lib/python3.6/site-packages (from metakernel>=0.18.0->octave_kernel)\n",
    "Installing collected packages: octave-kernel\n",
    "Successfully installed octave-kernel-0.26.2\n",
    "Krishna's FunPrompt $ python -m octave_kernel.install\n",
    "Krishna's FunPrompt \n",
    "```\n",
    "\n",
    "**Before the kernel installation** I had done the following to try to get **[GNU Octave](https://www.gnu.org/software/octave)** installed in my machine.\n",
    "\n",
    "(References https://www.gnu.org/software/octave/#install, http://wiki.octave.org/Octave_for_macOS) \n",
    "\n",
    "* Unsuccessfully tried Macports to do the basic installation. I used “sudo port install octave” command to do that. (Disk size changed from 106.81 GB to 105.94 GB but the installation failed - see below for some part of the installation std outuput) \n",
    "* Then tried ‘fink’ method too, but it didn’t work either.\n",
    "* Finally, it worked when I tried with homebrew (Starting HD size 104.91 GB) using instructions from http://wiki.octave.org/Octave_for_macOS#Homebrew. I think it was successful (size down to 104.04 GB). Otherwise, the notebook kernell installation alone wouldn't have worked."
   ]
  },
  {
   "cell_type": "markdown",
   "metadata": {},
   "source": [
    "## Vectors and Matrices\n",
    "\n",
    "### Row Vector"
   ]
  },
  {
   "cell_type": "code",
   "execution_count": 1,
   "metadata": {},
   "outputs": [
    {
     "name": "stdout",
     "output_type": "stream",
     "text": [
      "x =\n",
      "\n",
      "   1   3   2   5\n",
      "\n"
     ]
    }
   ],
   "source": [
    "x = [1, 3, 2, 5]"
   ]
  },
  {
   "cell_type": "markdown",
   "metadata": {},
   "source": [
    "### Column Vector"
   ]
  },
  {
   "cell_type": "code",
   "execution_count": 2,
   "metadata": {},
   "outputs": [
    {
     "name": "stdout",
     "output_type": "stream",
     "text": [
      "x =\n",
      "\n",
      "   1\n",
      "   3\n",
      "   2\n",
      "\n"
     ]
    }
   ],
   "source": [
    "x = [1; 3; 2]"
   ]
  },
  {
   "cell_type": "markdown",
   "metadata": {},
   "source": [
    "### Matrix\n",
    "From this you can see that we use a comma to go to the next column of a vector (or matrix) and a semicolon to go to the next row. So, to specify a matrix, type in the rows (separating each entry with a comma) and use a semicolon to go to the next row."
   ]
  },
  {
   "cell_type": "code",
   "execution_count": 4,
   "metadata": {},
   "outputs": [
    {
     "name": "stdout",
     "output_type": "stream",
     "text": [
      "A =\n",
      "\n",
      "    1    1    2\n",
      "    3    5    8\n",
      "   13   21   34\n",
      "\n"
     ]
    }
   ],
   "source": [
    "A = [1, 1, 2; 3, 5, 8; 13, 21, 34]"
   ]
  },
  {
   "cell_type": "markdown",
   "metadata": {},
   "source": [
    "### Operators\n",
    "\n",
    "You can use the standard operators to\n",
    "\n",
    "    add (+),\n",
    "    subtract (-), and\n",
    "    multiply (*)\n",
    "\n",
    "matrices, vectors and scalars with one another. Note that the matrices need to have matching dimensions (inner dimensions in the case of multiplication) for these operators to work.\n",
    "\n",
    "    The transpose operator is the single quote: '. To continue from the example in the previous section,\n"
   ]
  },
  {
   "cell_type": "code",
   "execution_count": 5,
   "metadata": {},
   "outputs": [
    {
     "name": "stdout",
     "output_type": "stream",
     "text": [
      "ans =\n",
      "\n",
      "    1    3   13\n",
      "    1    5   21\n",
      "    2    8   34\n",
      "\n"
     ]
    }
   ],
   "source": [
    "A'"
   ]
  },
  {
   "cell_type": "markdown",
   "metadata": {},
   "source": [
    "(Note: this is actually the complex conjugate transpose operator, but for real matrices this is the same as the transpose. To compute the transpose of a complex matrix, use the dot transpose (.') operator.)\n",
    "\n",
    "    The power operator (^) can also be used to compute real powers of square matrices.\n",
    "\n",
    "\n",
    "<a id='elemental_operations'></a>\n",
    "## Elemental Operations\n",
    "\n",
    "When you have two matrices of the same size, you can perform element by element operations on them. For example, the following divides each element of A by the corresponding element in B:"
   ]
  },
  {
   "cell_type": "code",
   "execution_count": 6,
   "metadata": {},
   "outputs": [
    {
     "name": "stdout",
     "output_type": "stream",
     "text": [
      "A =\n",
      "\n",
      "   1   6   3\n",
      "   2   7   4\n",
      "\n"
     ]
    }
   ],
   "source": [
    "A = [1, 6, 3; 2, 7, 4]"
   ]
  },
  {
   "cell_type": "code",
   "execution_count": 7,
   "metadata": {},
   "outputs": [
    {
     "name": "stdout",
     "output_type": "stream",
     "text": [
      "B =\n",
      "\n",
      "   2   7   2\n",
      "   7   3   9\n",
      "\n"
     ]
    }
   ],
   "source": [
    "B = [2, 7, 2; 7, 3, 9]"
   ]
  },
  {
   "cell_type": "code",
   "execution_count": 8,
   "metadata": {},
   "outputs": [
    {
     "name": "stdout",
     "output_type": "stream",
     "text": [
      "ans =\n",
      "\n",
      "   0.50000   0.85714   1.50000\n",
      "   0.28571   2.33333   0.44444\n",
      "\n"
     ]
    }
   ],
   "source": [
    "A ./ B"
   ]
  },
  {
   "cell_type": "markdown",
   "metadata": {},
   "source": [
    "Note that you use the dot divide (./) operator to perform element by element division. There are similar operators for multiplication (.*) and exponentiation (.^).\n",
    "\n",
    "Let's introduce a scalar for future use."
   ]
  },
  {
   "cell_type": "code",
   "execution_count": 9,
   "metadata": {
    "collapsed": true
   },
   "outputs": [],
   "source": [
    "a = 5;"
   ]
  },
  {
   "cell_type": "markdown",
   "metadata": {},
   "source": [
    "The dot divide operators can also be used together with scalars in the following manner.\n",
    "\n",
    "C = a ./ B\n",
    "\n",
    "returns a matrix, C where each entry is defined by\n",
    "\n",
    "C<sub>ij</sub> = a / B<sub>ij</sub>   (Superscript/Subscript [Reference](https://answers.squarespace.com/questions/31514/how-do-you-add-subscript-text.html))\n",
    "\n",
    "i.e. a is divided by each entry in B. Similarly\n",
    "\n",
    "C = a .^ B\n",
    "\n",
    "return a matrix with\n",
    "\n",
    "C<sub>ij</sub> = a<sup>B<sub>ij</sub></sup> "
   ]
  },
  {
   "cell_type": "code",
   "execution_count": 11,
   "metadata": {},
   "outputs": [
    {
     "name": "stdout",
     "output_type": "stream",
     "text": [
      "C =\n",
      "\n",
      "   2.50000   0.71429   2.50000\n",
      "   0.71429   1.66667   0.55556\n",
      "\n"
     ]
    }
   ],
   "source": [
    "C = a ./ B"
   ]
  },
  {
   "cell_type": "code",
   "execution_count": 13,
   "metadata": {},
   "outputs": [
    {
     "name": "stdout",
     "output_type": "stream",
     "text": [
      "C =\n",
      "\n",
      "        25     78125        25\n",
      "     78125       125   1953125\n",
      "\n"
     ]
    }
   ],
   "source": [
    "C = a.^B"
   ]
  },
  {
   "cell_type": "code",
   "execution_count": 16,
   "metadata": {},
   "outputs": [
    {
     "name": "stdout",
     "output_type": "stream",
     "text": [
      "ans =  78125\n"
     ]
    }
   ],
   "source": [
    "5*5*5*5*5*5*5"
   ]
  },
  {
   "cell_type": "code",
   "execution_count": 18,
   "metadata": {},
   "outputs": [
    {
     "name": "stdout",
     "output_type": "stream",
     "text": [
      "ans =  78125\n"
     ]
    }
   ],
   "source": [
    "5**7"
   ]
  },
  {
   "cell_type": "markdown",
   "metadata": {},
   "source": [
    "## Indexing \n",
    "\n",
    "You can work with parts of matrices and vectors by indexing into them. You use a vector of integers to tell Octave which elements of a vector or matrix to use. For example, we create a vector"
   ]
  },
  {
   "cell_type": "code",
   "execution_count": 19,
   "metadata": {},
   "outputs": [
    {
     "name": "stdout",
     "output_type": "stream",
     "text": [
      "x =\n",
      "\n",
      "   1.2000   5.0000   7.6000   3.0000   8.0000\n",
      "\n"
     ]
    }
   ],
   "source": [
    "x = [1.2, 5, 7.6, 3, 8]"
   ]
  },
  {
   "cell_type": "markdown",
   "metadata": {},
   "source": [
    "Now to see the second element and the list of 1st, 3rd and 4th elements:"
   ]
  },
  {
   "cell_type": "code",
   "execution_count": 20,
   "metadata": {},
   "outputs": [
    {
     "name": "stdout",
     "output_type": "stream",
     "text": [
      "ans =  5\n"
     ]
    }
   ],
   "source": [
    "x(2)"
   ]
  },
  {
   "cell_type": "code",
   "execution_count": 21,
   "metadata": {},
   "outputs": [
    {
     "name": "stdout",
     "output_type": "stream",
     "text": [
      "ans =\n",
      "\n",
      "   1.2000   7.6000   3.0000\n",
      "\n"
     ]
    }
   ],
   "source": [
    "x([1,3,4])"
   ]
  },
  {
   "cell_type": "markdown",
   "metadata": {},
   "source": [
    "To select rows and columns from a matrix, we use the same principle. Let's define a matrix and select the 1st and 3rd rows and 2nd and 3rd columns:"
   ]
  },
  {
   "cell_type": "code",
   "execution_count": 22,
   "metadata": {},
   "outputs": [
    {
     "name": "stdout",
     "output_type": "stream",
     "text": [
      "A =\n",
      "\n",
      "   1   2   3\n",
      "   4   5   6\n",
      "   7   8   9\n",
      "\n"
     ]
    }
   ],
   "source": [
    "A = [1, 2, 3; 4, 5, 6; 7, 8, 9]"
   ]
  },
  {
   "cell_type": "code",
   "execution_count": 24,
   "metadata": {},
   "outputs": [
    {
     "name": "stdout",
     "output_type": "stream",
     "text": [
      "ans =\n",
      "\n",
      "   2   3\n",
      "   8   9\n",
      "\n"
     ]
    }
   ],
   "source": [
    "A([1, 3], [2, 3])"
   ]
  },
  {
   "cell_type": "markdown",
   "metadata": {},
   "source": [
    "The colon operator (:) can be used to select all rows or columns from a matrix. So, to select all the elements from the 2nd row, type"
   ]
  },
  {
   "cell_type": "code",
   "execution_count": 25,
   "metadata": {},
   "outputs": [
    {
     "name": "stdout",
     "output_type": "stream",
     "text": [
      "ans =\n",
      "\n",
      "   4   5   6\n",
      "\n"
     ]
    }
   ],
   "source": [
    "A(2, :)"
   ]
  },
  {
   "cell_type": "code",
   "execution_count": 27,
   "metadata": {},
   "outputs": [
    {
     "name": "stdout",
     "output_type": "stream",
     "text": [
      "ans =\n",
      "\n",
      "   1   2   3\n",
      "   4   5   6\n",
      "   7   8   9\n",
      "\n"
     ]
    }
   ],
   "source": [
    "# Selecting all elements\n",
    "A(:,:)"
   ]
  },
  {
   "cell_type": "markdown",
   "metadata": {},
   "source": [
    "## Ranges\n",
    "We can also select a range of rows or columns from a matrix. We specify a range with\n",
    "\n",
    "start:step:stop\n",
    "\n",
    "You can actually type ranges at the Octave prompt to see what the results are. For example,"
   ]
  },
  {
   "cell_type": "code",
   "execution_count": 28,
   "metadata": {},
   "outputs": [
    {
     "name": "stdout",
     "output_type": "stream",
     "text": [
      "ans =\n",
      "\n",
      "    1    4    7   10\n",
      "\n"
     ]
    }
   ],
   "source": [
    "1:3:10"
   ]
  },
  {
   "cell_type": "markdown",
   "metadata": {},
   "source": [
    "The first number displayed was start, the second was start + step, the third, start + (2 * step). And the last number was less than or equal to stop.\n",
    "\n",
    "Often, you simply want the step size to be 1. In this case, you can leave out the step parameter and type"
   ]
  },
  {
   "cell_type": "code",
   "execution_count": 30,
   "metadata": {},
   "outputs": [
    {
     "name": "stdout",
     "output_type": "stream",
     "text": [
      "ans =\n",
      "\n",
      "    1    2    3    4    5    6    7    8    9   10\n",
      "\n"
     ]
    }
   ],
   "source": [
    "1:1:10"
   ]
  },
  {
   "cell_type": "code",
   "execution_count": 31,
   "metadata": {},
   "outputs": [
    {
     "name": "stdout",
     "output_type": "stream",
     "text": [
      "ans =\n",
      "\n",
      "    1    2    3    4    5    6    7    8    9   10\n",
      "\n"
     ]
    }
   ],
   "source": [
    "1:10"
   ]
  },
  {
   "cell_type": "markdown",
   "metadata": {},
   "source": [
    "As you can see, the result of a range command is simply a vector of integers. We can now use this to index into a vector or matrix. To select the 2 × 2 submatrix at the top left of A, use\n"
   ]
  },
  {
   "cell_type": "code",
   "execution_count": 32,
   "metadata": {},
   "outputs": [
    {
     "name": "stdout",
     "output_type": "stream",
     "text": [
      "ans =\n",
      "\n",
      "   1   2\n",
      "   4   5\n",
      "\n"
     ]
    }
   ],
   "source": [
    " A(1:2, 1:2)"
   ]
  },
  {
   "cell_type": "markdown",
   "metadata": {},
   "source": [
    "Finally, there is a keyword called end that can be used when indexing into a matrix or vector. It refers to the last element in the row or column. For example, to see the last column in a Matrix, you can use"
   ]
  },
  {
   "cell_type": "code",
   "execution_count": 33,
   "metadata": {},
   "outputs": [
    {
     "name": "stdout",
     "output_type": "stream",
     "text": [
      "ans =\n",
      "\n",
      "   3\n",
      "   6\n",
      "   9\n",
      "\n"
     ]
    }
   ],
   "source": [
    "A(:,end)"
   ]
  },
  {
   "cell_type": "markdown",
   "metadata": {},
   "source": [
    "<a id='functions'></a>\n",
    "## Functions\n",
    "\n",
    "The following functions can be used to create and manipulate matrices.\n",
    "### Creating matrices\n",
    "\n",
    "* tril(A) returns the lower triangular part of A.\n",
    "\n",
    "* triu(A) returns the upper triangular part of A.\n",
    "\n",
    "* eye(n) returns the n × n  identity matrix. You can also use eye(m, n) to return m × n rectangular identity matrices.\n",
    "\n",
    "* ones(m, n) returns an m × n  matrix filled with 1s. Similarly, ones(n) returns n × n square matrix.\n",
    "\n",
    "* zeros(m, n) returns an m × n  matrix filled with 0s. Similarly, zeros(n) returns n × n square matrix.\n",
    "\n",
    "* rand(m, n) returns an m × n  matrix filled with random elements drawn uniformly from [ 0 , 1 ). Similarly, rand(n) returns n × n  square matrix.\n",
    "\n",
    "* randn(m, n) returns an m × n  matrix filled with normally distributed random elements.\n",
    "\n",
    "* randperm(n) returns a row vector containing a random permutation of the numbers 1 , 2 , … , n.\n",
    "\n",
    "* diag(x) or diag(A). For a vector, x, this returns a square matrix with the elements of x on the diagonal and 0s everywhere else. For a matrix, A, this returns a vector containing the diagonal elements of A. For example,\n"
   ]
  },
  {
   "cell_type": "code",
   "execution_count": 34,
   "metadata": {},
   "outputs": [
    {
     "name": "stdout",
     "output_type": "stream",
     "text": [
      "x =\n",
      "\n",
      "   1\n",
      "   5\n",
      "   9\n",
      "\n"
     ]
    }
   ],
   "source": [
    "x = diag(A)"
   ]
  },
  {
   "cell_type": "code",
   "execution_count": 37,
   "metadata": {},
   "outputs": [
    {
     "name": "stdout",
     "output_type": "stream",
     "text": [
      "ans =\n",
      "\n",
      "Diagonal Matrix\n",
      "\n",
      "   1   0   0\n",
      "   0   5   0\n",
      "   0   0   9\n",
      "\n"
     ]
    }
   ],
   "source": [
    "diag(x)"
   ]
  },
  {
   "cell_type": "code",
   "execution_count": 36,
   "metadata": {},
   "outputs": [
    {
     "name": "stdout",
     "output_type": "stream",
     "text": [
      "x =\n",
      "\n",
      "   1\n",
      "   5\n",
      "   9\n",
      "\n"
     ]
    }
   ],
   "source": [
    "x = diag(A)"
   ]
  },
  {
   "cell_type": "markdown",
   "metadata": {},
   "source": [
    "* linspace(a, b, n) returns a vector with n values, such that the first element equals a, the last element equals b and the difference between consecutive elements is constant. The last argument, n, is optional with default value 100."
   ]
  },
  {
   "cell_type": "code",
   "execution_count": 38,
   "metadata": {},
   "outputs": [
    {
     "name": "stdout",
     "output_type": "stream",
     "text": [
      "ans =\n",
      "\n",
      "   2   4\n",
      "\n"
     ]
    }
   ],
   "source": [
    "linspace(2, 4, 2)"
   ]
  },
  {
   "cell_type": "code",
   "execution_count": 39,
   "metadata": {},
   "outputs": [
    {
     "name": "stdout",
     "output_type": "stream",
     "text": [
      "ans =\n",
      "\n",
      "   2.0000   2.6667   3.3333   4.0000\n",
      "\n"
     ]
    }
   ],
   "source": [
    "linspace(2, 4, 4)"
   ]
  },
  {
   "cell_type": "code",
   "execution_count": 40,
   "metadata": {},
   "outputs": [
    {
     "name": "stdout",
     "output_type": "stream",
     "text": [
      "ans =\n",
      "\n",
      "   2.0000   2.4000   2.8000   3.2000   3.6000   4.0000\n",
      "\n"
     ]
    }
   ],
   "source": [
    "linspace(2, 4, 6)"
   ]
  },
  {
   "cell_type": "markdown",
   "metadata": {},
   "source": [
    "logspace(a, b, n) returns a vector with n values, such that the first element equals 10<sup>a</sup>, the last element equals 10<sup>b</sup> and the ratio between consecutive elements is constant. The last argument, n is optional with default value 50."
   ]
  },
  {
   "cell_type": "code",
   "execution_count": 41,
   "metadata": {},
   "outputs": [
    {
     "name": "stdout",
     "output_type": "stream",
     "text": [
      "ans =\n",
      "\n",
      "     100   10000\n",
      "\n"
     ]
    }
   ],
   "source": [
    "logspace(2, 4, 2)"
   ]
  },
  {
   "cell_type": "code",
   "execution_count": 42,
   "metadata": {},
   "outputs": [
    {
     "name": "stdout",
     "output_type": "stream",
     "text": [
      "ans =\n",
      "\n",
      "   1.0000e+02   4.6416e+02   2.1544e+03   1.0000e+04\n",
      "\n"
     ]
    }
   ],
   "source": [
    "logspace(2, 4, 4)"
   ]
  },
  {
   "cell_type": "code",
   "execution_count": 43,
   "metadata": {},
   "outputs": [
    {
     "name": "stdout",
     "output_type": "stream",
     "text": [
      "ans =\n",
      "\n",
      "   1.0000e+02   3.1623e+02   1.0000e+03   3.1623e+03   1.0000e+04\n",
      "\n"
     ]
    }
   ],
   "source": [
    "logspace(2, 4, 5)"
   ]
  },
  {
   "cell_type": "markdown",
   "metadata": {},
   "source": [
    "## Other matrices\n",
    "\n",
    "There are some more functions for creating special matrices. These are\n",
    "\n",
    "    hankel (Hankel matrix),\n",
    "    hilb (Hilbert matrix),\n",
    "    invhilb (Inverse of a Hilbert matrix),\n",
    "    sylvester_matrix (Sylvester matrix) - In v3.8.1 there is a warning: sylvester_matrix is obsolete and will be removed from a future version of Octave; please use hadamard(2^k) instead,\n",
    "    toeplitz (Toeplitz matrix),\n",
    "    vander (Vandermonde matrix).\n",
    "\n",
    "Use help to find out more about how to use these functions.\n",
    "\n",
    "## Changing matrices\n",
    "\n",
    "* fliplr(A) returns a copy of matrix A with the order of the columns reversed, for example,\n"
   ]
  },
  {
   "cell_type": "code",
   "execution_count": 44,
   "metadata": {},
   "outputs": [
    {
     "name": "stdout",
     "output_type": "stream",
     "text": [
      "A =\n",
      "\n",
      "    1    2    3    4\n",
      "    5    6    7    8\n",
      "    9   10   11   12\n",
      "\n"
     ]
    }
   ],
   "source": [
    "A = [1, 2, 3, 4; 5, 6, 7, 8; 9, 10, 11, 12] "
   ]
  },
  {
   "cell_type": "code",
   "execution_count": 45,
   "metadata": {},
   "outputs": [
    {
     "name": "stdout",
     "output_type": "stream",
     "text": [
      "ans =\n",
      "\n",
      "    4    3    2    1\n",
      "    8    7    6    5\n",
      "   12   11   10    9\n",
      "\n"
     ]
    }
   ],
   "source": [
    "fliplr(A)"
   ]
  },
  {
   "cell_type": "markdown",
   "metadata": {},
   "source": [
    "* flipud(A) returns a copy of matrix A with the order of the rows reversed, for example,"
   ]
  },
  {
   "cell_type": "code",
   "execution_count": 46,
   "metadata": {},
   "outputs": [
    {
     "name": "stdout",
     "output_type": "stream",
     "text": [
      "ans =\n",
      "\n",
      "    9   10   11   12\n",
      "    5    6    7    8\n",
      "    1    2    3    4\n",
      "\n"
     ]
    }
   ],
   "source": [
    "flipud(A)"
   ]
  },
  {
   "cell_type": "markdown",
   "metadata": {},
   "source": [
    "* rot90(A, n) returns a copy of matrix A that has been rotated by (90n)° counterclockwise. The second argument, n is optional with default value 1, and it may be negative."
   ]
  },
  {
   "cell_type": "code",
   "execution_count": 47,
   "metadata": {},
   "outputs": [
    {
     "name": "stdout",
     "output_type": "stream",
     "text": [
      "ans =\n",
      "\n",
      "    4    8   12\n",
      "    3    7   11\n",
      "    2    6   10\n",
      "    1    5    9\n",
      "\n"
     ]
    }
   ],
   "source": [
    "rot90(A)"
   ]
  },
  {
   "cell_type": "markdown",
   "metadata": {},
   "source": [
    "* reshape(A, m, n) creates an m × n  matrix with elements taken from A. The number of elements in A has to be equal to  mn. The elements are taken from A in column major order, meaning that values in the first column ( A<sub>11</sub> , … , A<sub> m1</sub> ) are read first, then the second column ( A<sub>12</sub> , … , A<sub> m2</sub> ), etc."
   ]
  },
  {
   "cell_type": "code",
   "execution_count": 48,
   "metadata": {},
   "outputs": [
    {
     "name": "stdout",
     "output_type": "stream",
     "text": [
      "ans =\n",
      "\n",
      "    1    9    6    3   11    8\n",
      "    5    2   10    7    4   12\n",
      "\n"
     ]
    }
   ],
   "source": [
    "reshape(A,2,6)"
   ]
  },
  {
   "cell_type": "markdown",
   "metadata": {},
   "source": [
    "* sort(x) returns a copy of the vector x with the elements sorted in increasing order."
   ]
  },
  {
   "cell_type": "code",
   "execution_count": 51,
   "metadata": {},
   "outputs": [
    {
     "name": "stdout",
     "output_type": "stream",
     "text": [
      "x =\n",
      "\n",
      "   0.59588   0.16018   0.63792   0.29903   0.87505   0.22355\n",
      "\n"
     ]
    }
   ],
   "source": [
    "x = rand(1, 6)"
   ]
  },
  {
   "cell_type": "code",
   "execution_count": 52,
   "metadata": {},
   "outputs": [
    {
     "name": "stdout",
     "output_type": "stream",
     "text": [
      "ans =\n",
      "\n",
      "   0.16018   0.22355   0.29903   0.59588   0.63792   0.87505\n",
      "\n"
     ]
    }
   ],
   "source": [
    "sort(x)"
   ]
  },
  {
   "cell_type": "code",
   "execution_count": 53,
   "metadata": {},
   "outputs": [
    {
     "name": "stdout",
     "output_type": "stream",
     "text": [
      "ans =\n",
      "\n",
      "    1    5    9\n",
      "    2    6   10\n",
      "    3    7   11\n",
      "    4    8   12\n",
      "\n"
     ]
    }
   ],
   "source": [
    "sort(rot90(A))"
   ]
  },
  {
   "cell_type": "markdown",
   "metadata": {},
   "source": [
    "### Linear algebra\n",
    "For a description of more operators and functions that can be used to manipulate vectors and matrices, find eigenvalues, etc., see the [Linear algebra](https://en.wikibooks.org/wiki/Octave_Programming_Tutorial/Linear_algebra) section."
   ]
  },
  {
   "cell_type": "code",
   "execution_count": null,
   "metadata": {
    "collapsed": true
   },
   "outputs": [],
   "source": []
  }
 ],
 "metadata": {
  "kernelspec": {
   "display_name": "Octave",
   "language": "octave",
   "name": "octave"
  },
  "language_info": {
   "file_extension": ".m",
   "help_links": [
    {
     "text": "GNU Octave",
     "url": "https://www.gnu.org/software/octave/support.html"
    },
    {
     "text": "Octave Kernel",
     "url": "https://github.com/Calysto/octave_kernel"
    },
    {
     "text": "MetaKernel Magics",
     "url": "https://github.com/calysto/metakernel/blob/master/metakernel/magics/README.md"
    }
   ],
   "mimetype": "text/x-octave",
   "name": "octave",
   "version": "4.2.1"
  }
 },
 "nbformat": 4,
 "nbformat_minor": 2
}
