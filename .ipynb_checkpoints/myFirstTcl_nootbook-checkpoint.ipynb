{
 "cells": [
  {
   "cell_type": "markdown",
   "metadata": {},
   "source": [
    "# Krishna's Tcl Related stuff\n",
    "\n",
    "## Side Note:\n",
    "\n",
    "JLab's [CODA](#coda) software uses Tcl.\n",
    "\n",
    "## Tcl Introduction\n",
    "Following intro is copied from [wikipedia](https://en.wikipedia.org/wiki/Tcl).\n",
    "\n",
    "Tcl (pronounced \"tickle\" or tee cee ell, /ˈtiː siː ɛl/) is a high-level, general-purpose, interpreted, dynamic programming language. It was designed with the goal of being very simple but powerful.[7] Tcl casts everything into the mold of a command, even programming constructs like variable assignment and procedure definition.[8] Tcl supports multiple programming paradigms, including object-oriented, imperative and functional programming or procedural styles.\n",
    "\n",
    "It is commonly used embedded into C applications,[9] for [rapid prototyping](https://en.wikipedia.org/wiki/Rapid_application_development), scripted applications, GUIs, and testing.[10] Tcl interpreters are available for many operating systems, allowing Tcl code to run on a wide variety of systems. Because Tcl is a very compact language, it is used on embedded systems platforms, both in its full form and in several other small-footprint versions.[11]\n",
    "\n",
    "The popular combination of Tcl with the [Tk](https://en.wikipedia.org/wiki/Tk_(software)) extension is referred to as Tcl/Tk, and enables building a graphical user interface (GUI) natively in Tcl. Tcl/Tk is included in the standard Python installation in the form of [Tkinter](https://en.wikipedia.org/wiki/Tkinter).\n",
    "\n",
    "## Installing A Jupyter [Kernel for Tcl](https://github.com/rpep/tcl_kernel)\n",
    "This uses the version of Tcl that comes with Python, through Tkinter, so you do not need to install anything else.\n",
    "\n",
    "Install via:\n",
    "* pip3 install tcl_kernel\n",
    "* python3 -m tcl_kernel.install\n",
    "\n",
    "```\n",
    "Krishna's FunPrompt $ which tcl\n",
    "Krishna's FunPrompt $ pip3 install tcl_kernel\n",
    "Collecting tcl_kernel\n",
    "  Downloading tcl_kernel-0.0.4-py2.py3-none-any.whl\n",
    "Requirement already satisfied: pexpect>=3.3 in ./anaconda/lib/python3.6/site-packages (from tcl_kernel)\n",
    "Installing collected packages: tcl-kernel\n",
    "Successfully installed tcl-kernel-0.0.4\n",
    "Krishna's FunPrompt $ python3 -m tcl_kernel.install\n",
    "Installing IPython kernel spec\n",
    "Krishna's FunPrompt $ \n",
    "```"
   ]
  },
  {
   "cell_type": "markdown",
   "metadata": {},
   "source": [
    "## Trying out some Tcl\n",
    "Reference: A [Quick Tutorial](https://www.tcl.tk/about/language.html)\n",
    "\n",
    "**Basic Syntax:**"
   ]
  },
  {
   "cell_type": "code",
   "execution_count": 1,
   "metadata": {},
   "outputs": [
    {
     "name": "stdout",
     "output_type": "stream",
     "text": [
      "30"
     ]
    }
   ],
   "source": [
    "expr 20 + 10"
   ]
  },
  {
   "cell_type": "code",
   "execution_count": 2,
   "metadata": {},
   "outputs": [
    {
     "name": "stdout",
     "output_type": "stream",
     "text": [
      "30"
     ]
    }
   ],
   "source": [
    "expr 20+10"
   ]
  },
  {
   "cell_type": "markdown",
   "metadata": {},
   "source": [
    "All Tcl commands return results. If a command has no meaningful result then it returns an empty string as its result. \n",
    "\n",
    "### Variables\n",
    " Tcl allows you to store values in variables and use the values later in commands. The set command is used to write and read variables. "
   ]
  },
  {
   "cell_type": "code",
   "execution_count": 3,
   "metadata": {},
   "outputs": [
    {
     "name": "stdout",
     "output_type": "stream",
     "text": [
      "32"
     ]
    }
   ],
   "source": [
    "set x 32"
   ]
  },
  {
   "cell_type": "markdown",
   "metadata": {},
   "source": [
    "You can read the value of a variable by invoking set with only a single argument:"
   ]
  },
  {
   "cell_type": "code",
   "execution_count": 4,
   "metadata": {},
   "outputs": [
    {
     "name": "stdout",
     "output_type": "stream",
     "text": [
      "32"
     ]
    }
   ],
   "source": [
    "set x"
   ]
  },
  {
   "cell_type": "markdown",
   "metadata": {},
   "source": [
    "<a id='appendices'></a>\n",
    "## Appendices\n",
    "<a id='coda'></a>\n",
    "### Tcl use in JLab's CODA software\n",
    "\n",
    "Reference: [CODA](ftp://ftp.jlab.org/pub/coda/misc/Site/General/body_description.html)\n",
    "\n",
    "* Scripting\n",
    "    All of the components of CODA (ROC, EB, ER etc) contain an interpreter for the Tcl scripting language. In fact many parts of CODA are written in Tcl. A general purpose Tcl shell is provided as part of the CODA package which implements Tcl commands which alow direct interaction with CODA. In conjunction with the Tk user interface package this allows interfaces to CODA to be written entirely in Tcl. Some examples are listed below. \n",
    "\n",
    "* dbedit\n",
    "    dbedit is a tool written in Tcl which gives the CODA user direct access to the msql database. \n",
    "\n",
    "* xevent\n",
    "    CODA contains a large number of component packages which are \"glued\" into applications using the TCL scripting language. One advantage of this approach is that the \"informed user\" has direct access to the internals of many CODA components. The xevent utility is written in TCL and uses the CODA inter-process communication system to extract the current event count from any CODA component and display it in an X-window display. "
   ]
  }
 ],
 "metadata": {
  "kernelspec": {
   "display_name": "Tcl",
   "language": "Tcl",
   "name": "tcl"
  },
  "language_info": {
   "codemirror_mode": {
    "name": "text/x-tcl",
    "version": 2
   },
   "file_extension": ".tcl",
   "mimetype": "text/x-tcl",
   "name": "Tcl"
  }
 },
 "nbformat": 4,
 "nbformat_minor": 2
}
