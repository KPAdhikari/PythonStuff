{
 "cells": [
  {
   "cell_type": "markdown",
   "metadata": {
    "collapsed": true
   },
   "source": [
    "From [wikipedia](https://en.wikipedia.org/wiki/C%2B%2B11)\n",
    "C++11 is a version of the standard for the programming language C++. It was approved by International Organization for Standardization (ISO) on 12 August 2011, replacing C++03,[1] superseded by C++14 on 18 August 2014[2] and later, by C++17, which is still under development. The name follows the tradition of naming language versions by the publication year of the specification, though it was formerly named C++0x because it was expected to be published before 2010.[3]\n",
    "\n",
    "Although one of the design goals was to prefer changes to the libraries over changes to the core language,[4] C++11 does make several additions to the core language. Areas of the core language that were significantly improved include multithreading support, generic programming support, uniform initialization, and performance. Significant changes were also made to the C++ Standard Library, incorporating most of the C++ Technical Report 1 (TR1) libraries, except the library of mathematical special functions.[5]\n",
    "\n",
    "C++11 was published as ISO/IEC 14882:2011[6] in September 2011 and is available for a fee. The working draft most similar to the published C++11 standard is N3337, dated 16 January 2012;[7] it has only editorial corrections from the C++11 standard.[8]"
   ]
  },
  {
   "cell_type": "markdown",
   "metadata": {},
   "source": [
    "#### Didn't Work\n",
    "Didn't work with C++11 with the current installations of kernels and softwares (7/28/17). I tried changing kernel (from Kernel Menu above) to C++14 and C++17, but somethings work, something not. Perhaps, because the notebook was started with C++11 and there is some \n",
    "\n",
    "#### Finally it worked\n",
    "On 7/29/17, I installed mac os x system updates, and I think that fixed several issues and it seems both 11 and 17 are now working."
   ]
  },
  {
   "cell_type": "code",
   "execution_count": 1,
   "metadata": {},
   "outputs": [
    {
     "name": "stderr",
     "output_type": "stream",
     "text": [
      "Using raw input\n"
     ]
    },
    {
     "data": {
      "text/plain": []
     },
     "execution_count": 1,
     "metadata": {},
     "output_type": "execute_result"
    }
   ],
   "source": [
    ".rawInput"
   ]
  },
  {
   "cell_type": "code",
   "execution_count": 2,
   "metadata": {},
   "outputs": [
    {
     "data": {
      "text/plain": []
     },
     "execution_count": 2,
     "metadata": {},
     "output_type": "execute_result"
    }
   ],
   "source": [
    "#include <iostream>\n",
    "using namespace std;"
   ]
  },
  {
   "cell_type": "code",
   "execution_count": null,
   "metadata": {
    "collapsed": true
   },
   "outputs": [],
   "source": [
    "int addition (int a, int b)\n",
    "{\n",
    "  int r;\n",
    "  r=a+b;\n",
    "  cout << \"Hello World!\" << '\\n'; \n",
    "  return r;\n",
    "}"
   ]
  },
  {
   "cell_type": "code",
   "execution_count": 4,
   "metadata": {},
   "outputs": [
    {
     "name": "stderr",
     "output_type": "stream",
     "text": [
      "Not using raw input\n"
     ]
    },
    {
     "data": {
      "text/plain": []
     },
     "execution_count": 4,
     "metadata": {},
     "output_type": "execute_result"
    }
   ],
   "source": [
    ".rawInput"
   ]
  },
  {
   "cell_type": "code",
   "execution_count": 5,
   "metadata": {},
   "outputs": [
    {
     "name": "stdout",
     "output_type": "stream",
     "text": [
      "Hello World!\n"
     ]
    },
    {
     "data": {
      "text/plain": [
       "(int) 11\n"
      ]
     },
     "execution_count": 5,
     "metadata": {},
     "output_type": "execute_result"
    }
   ],
   "source": [
    "addition(5,6);"
   ]
  },
  {
   "cell_type": "markdown",
   "metadata": {
    "collapsed": true
   },
   "source": [
    "## C/C++/Java etc are Statically Typed languages."
   ]
  },
  {
   "cell_type": "code",
   "execution_count": 1,
   "metadata": {},
   "outputs": [
    {
     "name": "stderr",
     "output_type": "stream",
     "text": [
      "/var/folders/xx/3nmz3j457b99xd1r8kfj0j6r0000gn/T/tmpqanputln.c:1:1: warning: type specifier missing, defaults to 'int' [-Wimplicit-int]\n",
      "varSt1 = 2.0;\n",
      "^\n",
      "/var/folders/xx/3nmz3j457b99xd1r8kfj0j6r0000gn/T/tmpqanputln.c:2:1: warning: type specifier missing, defaults to 'int' [-Wimplicit-int]\n",
      "varSt2 = 3;\n",
      "^\n",
      "2 warnings generated.\n",
      "Undefined symbols for architecture x86_64:\n",
      "  \"_main\", referenced from:\n",
      "     implicit entry/start for main executable\n",
      "ld: symbol(s) not found for architecture x86_64\n",
      "clang: error: linker command failed with exit code 1 (use -v to see invocation)\n",
      "[C kernel] GCC exited with code 1, the executable will not be executed"
     ]
    },
    {
     "name": "stdout",
     "output_type": "stream",
     "text": []
    }
   ],
   "source": [
    "varSt1 = 2.0;\n",
    "varSt2 = 3;"
   ]
  },
  {
   "cell_type": "code",
   "execution_count": 2,
   "metadata": {},
   "outputs": [
    {
     "name": "stderr",
     "output_type": "stream",
     "text": [
      "/var/folders/xx/3nmz3j457b99xd1r8kfj0j6r0000gn/T/tmp8xnk2850.c:1:1: error: unknown type name 'varSt1'\n",
      "varSt1 + varSt2\n",
      "^\n",
      "/var/folders/xx/3nmz3j457b99xd1r8kfj0j6r0000gn/T/tmp8xnk2850.c:1:8: error: expected identifier or '('\n",
      "varSt1 + varSt2\n",
      "       ^\n",
      "2 errors generated.\n",
      "[C kernel] GCC exited with code 1, the executable will not be executed"
     ]
    },
    {
     "name": "stdout",
     "output_type": "stream",
     "text": []
    }
   ],
   "source": [
    "varSt1 + varSt2"
   ]
  },
  {
   "cell_type": "code",
   "execution_count": 3,
   "metadata": {},
   "outputs": [
    {
     "name": "stderr",
     "output_type": "stream",
     "text": [
      "Undefined symbols for architecture x86_64:\n",
      "  \"_main\", referenced from:\n",
      "     implicit entry/start for main executable\n",
      "ld: symbol(s) not found for architecture x86_64\n",
      "clang: error: linker command failed with exit code 1 (use -v to see invocation)\n",
      "[C kernel] GCC exited with code 1, the executable will not be executed"
     ]
    },
    {
     "name": "stdout",
     "output_type": "stream",
     "text": []
    }
   ],
   "source": [
    "double varSt3 = 2.0;\n",
    "int varSt4 = 3;"
   ]
  },
  {
   "cell_type": "code",
   "execution_count": null,
   "metadata": {
    "collapsed": true
   },
   "outputs": [],
   "source": []
  }
 ],
 "metadata": {
  "kernelspec": {
   "display_name": "C",
   "language": "c",
   "name": "c_spec"
  },
  "language_info": {
   "file_extension": "c",
   "mimetype": "text/plain",
   "name": "c"
  }
 },
 "nbformat": 4,
 "nbformat_minor": 2
}
