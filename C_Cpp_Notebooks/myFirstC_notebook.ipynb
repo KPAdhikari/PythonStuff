{
 "cells": [
  {
   "cell_type": "markdown",
   "metadata": {},
   "source": [
    "# Krishna Adhikari's first C-notebook\n",
    "\n",
    "## How I set it up\n",
    "\n",
    "I refered to [this](https://github.com/brendan-rius/jupyter-c-kernel) site to install the C-kernel.\n",
    "\n",
    "I already had gcc, jupyter, python 3 and pip, so I proceeded to do the following steps in the terminal:\n",
    "\n",
    "* pip install jupyter-c-kernel\n",
    "* git clone https://github.com/brendan-rius/jupyter-c-kernel.git\n",
    "* cd jupyter-c-kernel\n",
    "* jupyter-kernelspec install c_spec/\n",
    "* jupyter-notebook. Enjoy!\n",
    "    * I also deleted the directory jupyter-c-kernel in the end.\n",
    "\n",
    "After this, I could see \"C\" among the list of programs the notebook supports (when clicked on the \"New\" button on the right).\n",
    "\n"
   ]
  },
  {
   "cell_type": "code",
   "execution_count": 1,
   "metadata": {
    "collapsed": false
   },
   "outputs": [
    {
     "name": "stderr",
     "output_type": "stream",
     "text": []
    },
    {
     "name": "stdout",
     "output_type": "stream",
     "text": [
      "Hello world\n"
     ]
    }
   ],
   "source": [
    "#include <stdio.h>\n",
    "int main() {\n",
    "    printf(\"Hello world\\n\");\n",
    "}"
   ]
  },
  {
   "cell_type": "code",
   "execution_count": 2,
   "metadata": {
    "collapsed": false
   },
   "outputs": [
    {
     "name": "stderr",
     "output_type": "stream",
     "text": [
      "/var/folders/xx/3nmz3j457b99xd1r8kfj0j6r0000gn/T/tmpnoc5dvsl.c:3:5: error: use of undeclared identifier 'cout'\n",
      "    cout<<\"Hello World\"<<endl;\n",
      "    ^\n",
      "/var/folders/xx/3nmz3j457b99xd1r8kfj0j6r0000gn/T/tmpnoc5dvsl.c:3:26: error: use of undeclared identifier 'endl'\n",
      "    cout<<\"Hello World\"<<endl;\n",
      "                         ^\n",
      "2 errors generated.\n",
      "[C kernel] GCC exited with code 1, the executable will not be executed"
     ]
    },
    {
     "name": "stdout",
     "output_type": "stream",
     "text": []
    }
   ],
   "source": [
    "#include <stdio.h>\n",
    "int main() {\n",
    "    cout<<\"Hello World\"<<endl;\n",
    "}"
   ]
  },
  {
   "cell_type": "code",
   "execution_count": 3,
   "metadata": {
    "collapsed": false
   },
   "outputs": [
    {
     "name": "stderr",
     "output_type": "stream",
     "text": [
      "/var/folders/xx/3nmz3j457b99xd1r8kfj0j6r0000gn/T/tmp3ssh2z1u.c:1:8: error: expected parameter declarator\n",
      "printf(\"Hello world\\n\");\n",
      "       ^\n",
      "/var/folders/xx/3nmz3j457b99xd1r8kfj0j6r0000gn/T/tmp3ssh2z1u.c:1:8: error: expected ')'\n",
      "/var/folders/xx/3nmz3j457b99xd1r8kfj0j6r0000gn/T/tmp3ssh2z1u.c:1:7: note: to match this '('\n",
      "printf(\"Hello world\\n\");\n",
      "      ^\n",
      "/var/folders/xx/3nmz3j457b99xd1r8kfj0j6r0000gn/T/tmp3ssh2z1u.c:1:1: warning: type specifier missing, defaults to 'int' [-Wimplicit-int]\n",
      "printf(\"Hello world\\n\");\n",
      "^\n",
      "/var/folders/xx/3nmz3j457b99xd1r8kfj0j6r0000gn/T/tmp3ssh2z1u.c:1:1: warning: incompatible redeclaration of library function 'printf' [-Wincompatible-library-redeclaration]\n",
      "/var/folders/xx/3nmz3j457b99xd1r8kfj0j6r0000gn/T/tmp3ssh2z1u.c:1:1: note: 'printf' is a builtin with type 'int (const char *, ...)'\n",
      "2 warnings and 2 errors generated.\n",
      "[C kernel] GCC exited with code 1, the executable will not be executed"
     ]
    },
    {
     "name": "stdout",
     "output_type": "stream",
     "text": []
    }
   ],
   "source": [
    "printf(\"Hello world\\n\");"
   ]
  },
  {
   "cell_type": "code",
   "execution_count": 3,
   "metadata": {
    "collapsed": false
   },
   "outputs": [
    {
     "name": "stderr",
     "output_type": "stream",
     "text": []
    },
    {
     "name": "stdout",
     "output_type": "stream",
     "text": [
      "Hi there!!!!\n"
     ]
    }
   ],
   "source": [
    "#include <stdio.h>\n",
    "int main() {\n",
    "    printf(\"Hi there!!!!\\n\");\n",
    "}"
   ]
  },
  {
   "cell_type": "code",
   "execution_count": null,
   "metadata": {
    "collapsed": true
   },
   "outputs": [],
   "source": []
  }
 ],
 "metadata": {
  "kernelspec": {
   "display_name": "C",
   "language": "c",
   "name": "c_spec"
  },
  "language_info": {
   "file_extension": "c",
   "mimetype": "text/plain",
   "name": "c"
  }
 },
 "nbformat": 4,
 "nbformat_minor": 2
}
