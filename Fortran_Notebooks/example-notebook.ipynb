{
 "cells": [
  {
   "cell_type": "markdown",
   "metadata": {},
   "source": [
    "# Use Fortran in a notebook!\n",
    "\n",
    "Each cell is compiled and run separately currently, so they have to be standalone programs.\n",
    "\n",
    "The following is fine:"
   ]
  },
  {
   "cell_type": "code",
   "execution_count": 1,
   "metadata": {},
   "outputs": [
    {
     "name": "stderr",
     "output_type": "stream",
     "text": [
      "FATAL:/opt/local/bin/../libexec/as/x86_64/as: I don't understand 'm' flag!\n",
      "[Fortran kernel] gfortran exited with code 1, the executable will not be executed"
     ]
    }
   ],
   "source": [
    "program hello\n",
    "    implicit none\n",
    "    print*, \"Hello, World!\"\n",
    "end program"
   ]
  },
  {
   "cell_type": "markdown",
   "metadata": {},
   "source": [
    "The following, not so much:"
   ]
  },
  {
   "cell_type": "code",
   "execution_count": 2,
   "metadata": {},
   "outputs": [
    {
     "name": "stderr",
     "output_type": "stream",
     "text": [
      "FATAL:/opt/local/bin/../libexec/as/x86_64/as: I don't understand 'm' flag!\n",
      "[Fortran kernel] gfortran exited with code 1, the executable will not be executed"
     ]
    }
   ],
   "source": [
    "subroutine foo\n",
    "    print*, \"Hello, World\"\n",
    "end subroutine"
   ]
  },
  {
   "cell_type": "markdown",
   "metadata": {},
   "source": [
    "You can use functions:"
   ]
  },
  {
   "cell_type": "code",
   "execution_count": null,
   "metadata": {
    "collapsed": true
   },
   "outputs": [],
   "source": [
    "program maths\n",
    "    implicit none\n",
    "    integer :: x\n",
    "    \n",
    "    x = 7\n",
    "    \n",
    "    write(*, '(a,i4)') \"x   =\", x\n",
    "    write(*, '(a,i4)') \"x^2 =\", square(x)\n",
    "    \n",
    "contains\n",
    "\n",
    "    integer function square(number)\n",
    "        integer, intent(in) :: number\n",
    "        square = number * number\n",
    "    end function\n",
    "    \n",
    "end program"
   ]
  },
  {
   "cell_type": "markdown",
   "metadata": {},
   "source": [
    "You can even use modules! They just have to be in the same cell as the program..."
   ]
  },
  {
   "cell_type": "code",
   "execution_count": null,
   "metadata": {
    "collapsed": true
   },
   "outputs": [],
   "source": [
    "module funcs\n",
    "\n",
    "    implicit none\n",
    "    \n",
    "contains\n",
    "\n",
    "    integer function square(number)\n",
    "        integer, intent(in) :: number\n",
    "        square = number * number\n",
    "    end function\n",
    "    \n",
    "end module funcs\n",
    "\n",
    "program maths\n",
    "    \n",
    "    use funcs\n",
    "\n",
    "    implicit none\n",
    "    integer :: x\n",
    "    \n",
    "    x = 7\n",
    "    \n",
    "    write(*, '(a,i4)') \"x   =\", x\n",
    "    write(*, '(a,i4)') \"x^2 =\", square(x)\n",
    "    \n",
    "end program"
   ]
  }
 ],
 "metadata": {
  "kernelspec": {
   "display_name": "Fortran",
   "language": "Fortran",
   "name": "fortran_spec"
  },
  "language_info": {
   "file_extension": "f90",
   "mimetype": "text/plain",
   "name": "fortran"
  }
 },
 "nbformat": 4,
 "nbformat_minor": 1
}
