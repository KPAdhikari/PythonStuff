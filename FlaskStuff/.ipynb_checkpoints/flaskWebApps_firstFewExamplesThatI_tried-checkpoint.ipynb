{
 "cells": [
  {
   "cell_type": "code",
   "execution_count": 1,
   "id": "6af9564b-f345-4d80-82c9-3c5f77095548",
   "metadata": {},
   "outputs": [
    {
     "name": "stdout",
     "output_type": "stream",
     "text": [
      "/Users/kpadhikari/GitStuff/KPAdhikari/PythonStuff/FlaskStuff\n"
     ]
    }
   ],
   "source": [
    "!pwd"
   ]
  },
  {
   "cell_type": "markdown",
   "id": "493c2a6d-ec1d-471a-999c-ca3847be8ed8",
   "metadata": {},
   "source": [
    "## Example 1: Hello World\n",
    "### Started working on it from the following page\n",
    "https://pythonbasics.org/flask-tutorial-hello-world/\n"
   ]
  },
  {
   "cell_type": "code",
   "execution_count": 2,
   "id": "fb26a487-1d63-450d-a78d-085da4eea719",
   "metadata": {},
   "outputs": [
    {
     "name": "stdout",
     "output_type": "stream",
     "text": [
      " * Serving Flask app \"__main__\" (lazy loading)\n",
      " * Environment: production\n",
      "\u001b[31m   WARNING: This is a development server. Do not use it in a production deployment.\u001b[0m\n",
      "\u001b[2m   Use a production WSGI server instead.\u001b[0m\n",
      " * Debug mode: off\n"
     ]
    },
    {
     "name": "stderr",
     "output_type": "stream",
     "text": [
      " * Running on all addresses.\n",
      "   WARNING: This is a development server. Do not use it in a production deployment.\n",
      " * Running on http://192.168.0.101:81/ (Press CTRL+C to quit)\n",
      "192.168.0.101 - - [16/Feb/2022 16:23:43] \"GET / HTTP/1.1\" 200 -\n",
      "192.168.0.101 - - [16/Feb/2022 16:23:54] \"GET / HTTP/1.1\" 200 -\n"
     ]
    }
   ],
   "source": [
    "from flask import Flask\n",
    "\n",
    "app = Flask(__name__)\n",
    "\n",
    "@app.route('/')\n",
    "def index():\n",
    "    return 'Web App with Python Flask!'\n",
    "\n",
    "app.run(host='0.0.0.0', port=81)"
   ]
  },
  {
   "cell_type": "markdown",
   "id": "8c9471f6-be41-4631-9b06-80b1eb7a5ef6",
   "metadata": {},
   "source": [
    "When I ran above code, it gave me the following line with a url `Running on http://192.168.0.101:81/ (Press CTRL+C to quit)` among other things. When I clicked on that url i.e. http://192.168.0.101:81/  it opened a new tab with a page that had nothing but a single line \"Web App with Python Flask!\"."
   ]
  },
  {
   "cell_type": "markdown",
   "id": "abd57f3a-9785-4283-842e-c9940f0def6d",
   "metadata": {},
   "source": [
    "## Example 2: a small web blog using Flask and SQLite in Python 3\n",
    "### Started working on it from the following page\n",
    "https://www.digitalocean.com/community/tutorials/how-to-make-a-web-application-using-flask-in-python-3\n",
    "TUTORIAL\n",
    "## How To Make a Web Application Using Flask in Python 3\n",
    "Python FrameworksProgramming ProjectDevelopmentPythonFlaskSQLite\n",
    "\n",
    "By [Abdelhadi Dyouri](https://www.digitalocean.com/community/users/adyouri)\n",
    "\n",
    "Updated on April 16, 2020\n",
    "English\n",
    "\n",
    "The author selected the [Free and Open Source Fund](https://www.brightfunds.org/funds/foss-nonprofits) to receive a donation as part of the [Write for DOnations program](https://do.co/w4do-cta).\n",
    "\n",
    "### Introduction\n",
    "[Flask](http://flask.pocoo.org/) is a **small and lightweight Python web framework** that provides useful tools and features that make creating web applications in Python easier. It gives developers flexibility and is a more accessible framework for new developers since **you can build a web application quickly using only a single Python file**. Flask is **also extensible and doesn’t force a particular directory structure or require complicated boilerplate code** before getting started.\n",
    "\n",
    "As part of this tutorial, you’ll use the [Bootstrap toolkit](https://getbootstrap.com/) to style your application so it is more visually appealing. Bootstrap will help you incorporate responsive web pages in your web application so that it also works well on mobile browsers without writing your own HTML, CSS, and JavaScript code to achieve these goals. The toolkit will allow you to focus on learning how Flask works.\n",
    "\n",
    "Flask uses the [Jinja template engine](http://jinja.palletsprojects.com/) to dynamically build HTML pages using familiar Python concepts such as variables, loops, lists, and so on. You’ll use these templates as part of this project.\n",
    "\n",
    "In this tutorial, you’ll build a small web blog using Flask and SQLite in Python 3. Users of the application can view all the posts in your database and click on the title of a post to view its contents with the ability to add a new post to the database and edit or delete an existing post.\n",
    "\n",
    "### Prerequisites\n",
    "Before you start following this guide, you will need:\n",
    "\n",
    "* A local Python 3 programming environment, follow the tutorial for your distribution in How To Install and Set Up a Local Programming Environment for Python 3 series for your local machine. In this tutorial we’ll call our project directory flask_blog.\n",
    "* An understanding of Python 3 concepts, such as data types, conditional statements, for loops, functions, and other such concepts. If you are not familiar with Python, check out our How To Code in Python 3 series.\n"
   ]
  },
  {
   "cell_type": "markdown",
   "id": "c7ee384b-71fd-47a3-b374-4e6b5b2ae8a8",
   "metadata": {},
   "source": [
    "## How To Add Authentication to Your App with Flask-Login\n",
    "PythonPython Frameworks\n",
    "\n",
    "By\n",
    "Anthony Herbert\n",
    "\n",
    "Updated on November 22, 2021\n",
    "\n",
    "Ref: https://www.digitalocean.com/community/tutorials/how-to-add-authentication-to-your-app-with-flask-login\n",
    "\n",
    "### Introduction\n",
    "Allowing users to log in to your app is one of the most common features you will add to your web applications. You can add authentication to your Flask app with the Flask-Login package.\n",
    "\n",
    "In this tutorial, you will:\n",
    "\n",
    "    Use the Flask-Login library for session management\n",
    "    Use the built-in Flask utility for hashing passwords\n",
    "    Add protected pages to the app for logged in users only\n",
    "    Use Flask-SQLAlchemy to create a User model\n",
    "    Create sign-up and login forms for the users to create accounts and log in\n",
    "    Flash error messages back to users when something goes wrong\n",
    "    Use information from the user’s account to display on the profile page\n",
    "    You will build a sign-up and a login page that allow users to log in and access protected pages. You will use information from the User model and display it on the protected pages when the user logs in to simulate what a profile would look like.\n",
    "\n",
    "Note: This tutorial is limited in scope and does not cover advanced persisting of sessions. Furthermore, modifying the data type for the primary key or considerations for migrating to different database systems are also outside of the scope of this introductory tutorial."
   ]
  },
  {
   "cell_type": "code",
   "execution_count": null,
   "id": "a9d12bd1-07c6-423a-9250-5ad8be079ddf",
   "metadata": {},
   "outputs": [],
   "source": []
  }
 ],
 "metadata": {
  "kernelspec": {
   "display_name": "Python 3 (ipykernel)",
   "language": "python",
   "name": "python3"
  },
  "language_info": {
   "codemirror_mode": {
    "name": "ipython",
    "version": 3
   },
   "file_extension": ".py",
   "mimetype": "text/x-python",
   "name": "python",
   "nbconvert_exporter": "python",
   "pygments_lexer": "ipython3",
   "version": "3.9.7"
  }
 },
 "nbformat": 4,
 "nbformat_minor": 5
}
