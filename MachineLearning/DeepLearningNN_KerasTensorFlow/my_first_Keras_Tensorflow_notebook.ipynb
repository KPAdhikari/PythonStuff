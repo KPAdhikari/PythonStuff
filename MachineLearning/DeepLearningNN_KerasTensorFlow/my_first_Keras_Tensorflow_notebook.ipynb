{
 "cells": [
  {
   "cell_type": "code",
   "execution_count": 1,
   "id": "ddf848e0-ee54-4993-9f3f-9aaa819c319d",
   "metadata": {},
   "outputs": [
    {
     "name": "stdout",
     "output_type": "stream",
     "text": [
      "\u001b[34menv4keras\u001b[m\u001b[m\n",
      "\u001b[34mkerasenv\u001b[m\u001b[m\n",
      "my_first_Keras_Tensorflow_notebook.ipynb\n",
      "readmeKp.txt\n",
      "readmeKp2.txt\n"
     ]
    }
   ],
   "source": [
    "!ls"
   ]
  },
  {
   "cell_type": "code",
   "execution_count": 2,
   "id": "b198c317-ebfd-4202-a0ae-320407c2caec",
   "metadata": {},
   "outputs": [
    {
     "name": "stdout",
     "output_type": "stream",
     "text": [
      "/Users/kpadhikari/opt/miniconda3/bin/python3\n"
     ]
    }
   ],
   "source": [
    "!which python3"
   ]
  },
  {
   "cell_type": "markdown",
   "id": "5f6f9681-8373-402a-bec3-eb5a460b1cb0",
   "metadata": {},
   "source": [
    "First I went to:\n",
    "https://stackoverflow.com/questions/42449814/running-jupyter-notebook-in-a-virtualenv-installed-sklearn-module-not-available \n",
    "which led me to\n",
    "https://help.pythonanywhere.com/pages/IPythonNotebookVirtualenvs\n",
    "\n",
    "About the 'workon' command:\n",
    "\n",
    "https://stackoverflow.com/questions/21928555/virtualenv-workon-command-not-found"
   ]
  },
  {
   "cell_type": "code",
   "execution_count": 5,
   "id": "9c984f5b-07df-4686-9d18-8bb2987f0437",
   "metadata": {},
   "outputs": [
    {
     "name": "stdout",
     "output_type": "stream",
     "text": [
      "\n",
      "Usage:   \n",
      "  pip <command> [options]\n",
      "\n",
      "no such option: --verison\n"
     ]
    }
   ],
   "source": [
    "!pip --verison"
   ]
  },
  {
   "cell_type": "markdown",
   "id": "8dedf15e-e586-4185-9743-669e8506e957",
   "metadata": {},
   "source": [
    "However, when I tried the same in the terminal, it showed the following:\n",
    "```\n",
    "(base) MyMacs-MacBook-Air:DeepLearningNN_KerasTensorFlow kpadhikari$ pip --version\n",
    "pip 21.1.3 from /Users/kpadhikari/opt/miniconda3/lib/python3.9/site-packages/pip (python 3.9)\n",
    "```"
   ]
  },
  {
   "cell_type": "code",
   "execution_count": 2,
   "id": "2c1bc5a8-0e4e-40d6-a8ff-cbab99b296e1",
   "metadata": {},
   "outputs": [
    {
     "name": "stdout",
     "output_type": "stream",
     "text": [
      "/Users/kpadhikari/opt/miniconda3/bin/python\n"
     ]
    }
   ],
   "source": [
    "!which python"
   ]
  },
  {
   "cell_type": "code",
   "execution_count": 6,
   "id": "f76d7735-e602-4a3c-82dc-09b8f8b8bd23",
   "metadata": {},
   "outputs": [
    {
     "name": "stdout",
     "output_type": "stream",
     "text": [
      "Python 3.9.5\n"
     ]
    }
   ],
   "source": [
    "!python --version"
   ]
  },
  {
   "cell_type": "code",
   "execution_count": 3,
   "id": "bd76055f-8d3d-484c-ae57-3e83abbf6e61",
   "metadata": {},
   "outputs": [
    {
     "name": "stdout",
     "output_type": "stream",
     "text": [
      "/Users/kpadhikari/opt/miniconda3/bin/pip\n"
     ]
    }
   ],
   "source": [
    "!which pip"
   ]
  },
  {
   "cell_type": "code",
   "execution_count": 7,
   "id": "bb06a12f-1a85-431f-8f0a-f0691b7dd7e8",
   "metadata": {},
   "outputs": [
    {
     "name": "stdout",
     "output_type": "stream",
     "text": [
      "pip 21.1.3 from /Users/kpadhikari/opt/miniconda3/lib/python3.9/site-packages/pip (python 3.9)\n"
     ]
    }
   ],
   "source": [
    "!pip3 --version"
   ]
  },
  {
   "cell_type": "code",
   "execution_count": 8,
   "id": "399d95b3-43f9-4c2c-bde7-2019b906ce2f",
   "metadata": {},
   "outputs": [
    {
     "name": "stdout",
     "output_type": "stream",
     "text": [
      "pip 21.1.3 from /Users/kpadhikari/opt/miniconda3/lib/python3.9/site-packages/pip (python 3.9)\n"
     ]
    }
   ],
   "source": [
    "!pip --version"
   ]
  },
  {
   "cell_type": "code",
   "execution_count": 9,
   "id": "76bf19e4-8bad-425e-a864-21d2d9c6926d",
   "metadata": {},
   "outputs": [
    {
     "name": "stdout",
     "output_type": "stream",
     "text": [
      "Name: tornado\n",
      "Version: 6.1\n",
      "Summary: Tornado is a Python web framework and asynchronous networking library, originally developed at FriendFeed.\n",
      "Home-page: http://www.tornadoweb.org/\n",
      "Author: Facebook\n",
      "Author-email: python-tornado@googlegroups.com\n",
      "License: http://www.apache.org/licenses/LICENSE-2.0\n",
      "Location: /Users/kpadhikari/opt/miniconda3/lib/python3.9/site-packages\n",
      "Requires: \n",
      "Required-by: terminado, notebook, jupyterlab, jupyter-server, jupyter-client, ipyparallel, ipykernel\n"
     ]
    }
   ],
   "source": [
    "!pip show tornado"
   ]
  },
  {
   "cell_type": "code",
   "execution_count": 10,
   "id": "55e3950f-cff4-4fea-84dd-d142798be5f8",
   "metadata": {},
   "outputs": [
    {
     "name": "stdout",
     "output_type": "stream",
     "text": [
      "Name: ipykernel\n",
      "Version: 6.6.0\n",
      "Summary: IPython Kernel for Jupyter\n",
      "Home-page: https://ipython.org\n",
      "Author: IPython Development Team\n",
      "Author-email: ipython-dev@scipy.org\n",
      "License: BSD\n",
      "Location: /Users/kpadhikari/opt/miniconda3/lib/python3.9/site-packages\n",
      "Requires: tornado, traitlets, debugpy, ipython, appnope, matplotlib-inline, jupyter-client\n",
      "Required-by: notebook, metakernel, ipyparallel\n"
     ]
    }
   ],
   "source": [
    "!pip show ipykernel"
   ]
  },
  {
   "cell_type": "code",
   "execution_count": 11,
   "id": "92c6bb66-8684-4aed-998c-48bedfa95343",
   "metadata": {},
   "outputs": [
    {
     "name": "stdout",
     "output_type": "stream",
     "text": [
      "Name: prompt-toolkit\n",
      "Version: 3.0.24\n",
      "Summary: Library for building powerful interactive command lines in Python\n",
      "Home-page: https://github.com/prompt-toolkit/python-prompt-toolkit\n",
      "Author: Jonathan Slenders\n",
      "Author-email: None\n",
      "License: UNKNOWN\n",
      "Location: /Users/kpadhikari/opt/miniconda3/lib/python3.9/site-packages\n",
      "Requires: wcwidth\n",
      "Required-by: ipython\n"
     ]
    }
   ],
   "source": [
    "!pip show prompt-toolkit"
   ]
  },
  {
   "cell_type": "code",
   "execution_count": null,
   "id": "d5a910b4-19e4-4acb-94ff-1cffb28013a3",
   "metadata": {},
   "outputs": [],
   "source": []
  }
 ],
 "metadata": {
  "kernelspec": {
   "display_name": "Python 3 (ipykernel)",
   "language": "python",
   "name": "python3"
  },
  "language_info": {
   "codemirror_mode": {
    "name": "ipython",
    "version": 3
   },
   "file_extension": ".py",
   "mimetype": "text/x-python",
   "name": "python",
   "nbconvert_exporter": "python",
   "pygments_lexer": "ipython3",
   "version": "3.9.7"
  }
 },
 "nbformat": 4,
 "nbformat_minor": 5
}
