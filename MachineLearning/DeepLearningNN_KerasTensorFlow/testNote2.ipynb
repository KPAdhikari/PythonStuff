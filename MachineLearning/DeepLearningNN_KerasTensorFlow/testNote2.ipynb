{
 "cells": [
  {
   "cell_type": "code",
   "execution_count": 1,
   "id": "9f1f0acc-5898-42ca-ab33-572b8807f838",
   "metadata": {},
   "outputs": [
    {
     "name": "stdout",
     "output_type": "stream",
     "text": [
      "/Users/kpadhikari/opt/miniconda3/bin/python\n"
     ]
    }
   ],
   "source": [
    "!which python"
   ]
  },
  {
   "cell_type": "code",
   "execution_count": 2,
   "id": "af281d72-4a01-463a-8a01-6bc612914ad0",
   "metadata": {},
   "outputs": [
    {
     "name": "stdout",
     "output_type": "stream",
     "text": [
      "Requirement already satisfied: ipykernel in /Users/kpadhikari/opt/miniconda3/lib/python3.9/site-packages (6.6.0)\n",
      "Requirement already satisfied: tornado<7.0,>=4.2 in /Users/kpadhikari/opt/miniconda3/lib/python3.9/site-packages (from ipykernel) (6.1)\n",
      "Requirement already satisfied: appnope in /Users/kpadhikari/opt/miniconda3/lib/python3.9/site-packages (from ipykernel) (0.1.2)\n",
      "Requirement already satisfied: traitlets<6.0,>=5.1.0 in /Users/kpadhikari/opt/miniconda3/lib/python3.9/site-packages (from ipykernel) (5.1.1)\n",
      "Requirement already satisfied: matplotlib-inline<0.2.0,>=0.1.0 in /Users/kpadhikari/opt/miniconda3/lib/python3.9/site-packages (from ipykernel) (0.1.3)\n",
      "Requirement already satisfied: debugpy<2.0,>=1.0.0 in /Users/kpadhikari/opt/miniconda3/lib/python3.9/site-packages (from ipykernel) (1.5.1)\n",
      "Requirement already satisfied: ipython>=7.23.1 in /Users/kpadhikari/opt/miniconda3/lib/python3.9/site-packages (from ipykernel) (7.30.1)\n",
      "Requirement already satisfied: jupyter-client<8.0 in /Users/kpadhikari/opt/miniconda3/lib/python3.9/site-packages (from ipykernel) (7.1.0)\n",
      "Requirement already satisfied: backcall in /Users/kpadhikari/opt/miniconda3/lib/python3.9/site-packages (from ipython>=7.23.1->ipykernel) (0.2.0)\n",
      "Requirement already satisfied: pygments in /Users/kpadhikari/opt/miniconda3/lib/python3.9/site-packages (from ipython>=7.23.1->ipykernel) (2.10.0)\n",
      "Requirement already satisfied: prompt-toolkit!=3.0.0,!=3.0.1,<3.1.0,>=2.0.0 in /Users/kpadhikari/opt/miniconda3/lib/python3.9/site-packages (from ipython>=7.23.1->ipykernel) (3.0.24)\n",
      "Requirement already satisfied: pickleshare in /Users/kpadhikari/opt/miniconda3/lib/python3.9/site-packages (from ipython>=7.23.1->ipykernel) (0.7.5)\n",
      "Requirement already satisfied: setuptools>=18.5 in /Users/kpadhikari/opt/miniconda3/lib/python3.9/site-packages (from ipython>=7.23.1->ipykernel) (52.0.0.post20210125)\n",
      "Requirement already satisfied: decorator in /Users/kpadhikari/opt/miniconda3/lib/python3.9/site-packages (from ipython>=7.23.1->ipykernel) (5.1.0)\n",
      "Requirement already satisfied: jedi>=0.16 in /Users/kpadhikari/opt/miniconda3/lib/python3.9/site-packages (from ipython>=7.23.1->ipykernel) (0.18.1)\n",
      "Requirement already satisfied: pexpect>4.3 in /Users/kpadhikari/opt/miniconda3/lib/python3.9/site-packages (from ipython>=7.23.1->ipykernel) (4.8.0)\n",
      "Requirement already satisfied: parso<0.9.0,>=0.8.0 in /Users/kpadhikari/opt/miniconda3/lib/python3.9/site-packages (from jedi>=0.16->ipython>=7.23.1->ipykernel) (0.8.3)\n",
      "Requirement already satisfied: jupyter-core>=4.6.0 in /Users/kpadhikari/opt/miniconda3/lib/python3.9/site-packages (from jupyter-client<8.0->ipykernel) (4.9.1)\n",
      "Requirement already satisfied: nest-asyncio>=1.5 in /Users/kpadhikari/opt/miniconda3/lib/python3.9/site-packages (from jupyter-client<8.0->ipykernel) (1.5.4)\n",
      "Requirement already satisfied: entrypoints in /Users/kpadhikari/opt/miniconda3/lib/python3.9/site-packages (from jupyter-client<8.0->ipykernel) (0.3)\n",
      "Requirement already satisfied: python-dateutil>=2.1 in /Users/kpadhikari/opt/miniconda3/lib/python3.9/site-packages (from jupyter-client<8.0->ipykernel) (2.8.2)\n",
      "Requirement already satisfied: pyzmq>=13 in /Users/kpadhikari/opt/miniconda3/lib/python3.9/site-packages (from jupyter-client<8.0->ipykernel) (22.3.0)\n",
      "Requirement already satisfied: ptyprocess>=0.5 in /Users/kpadhikari/opt/miniconda3/lib/python3.9/site-packages (from pexpect>4.3->ipython>=7.23.1->ipykernel) (0.7.0)\n",
      "Requirement already satisfied: wcwidth in /Users/kpadhikari/opt/miniconda3/lib/python3.9/site-packages (from prompt-toolkit!=3.0.0,!=3.0.1,<3.1.0,>=2.0.0->ipython>=7.23.1->ipykernel) (0.2.5)\n",
      "Requirement already satisfied: six>=1.5 in /Users/kpadhikari/opt/miniconda3/lib/python3.9/site-packages (from python-dateutil>=2.1->jupyter-client<8.0->ipykernel) (1.16.0)\n"
     ]
    }
   ],
   "source": [
    "!pip install ipykernel"
   ]
  },
  {
   "cell_type": "code",
   "execution_count": 3,
   "id": "3f6c5257-9fd5-4d39-8bae-4dea5a3a2036",
   "metadata": {},
   "outputs": [
    {
     "name": "stdout",
     "output_type": "stream",
     "text": [
      "[Errno 13] Permission denied: '/usr/local/share/jupyter'\n"
     ]
    }
   ],
   "source": [
    "!python -m ipykernel install --name=env4keras"
   ]
  },
  {
   "cell_type": "code",
   "execution_count": 4,
   "id": "cc6280f1-4797-44dd-a578-213d19a76801",
   "metadata": {},
   "outputs": [
    {
     "name": "stdout",
     "output_type": "stream",
     "text": [
      "/Users/kpadhikari/GitStuff/KPAdhikari/PythonStuff/MachineLearning/DeepLearningNN_KerasTensorFlow\n"
     ]
    }
   ],
   "source": [
    "!pwd"
   ]
  },
  {
   "cell_type": "code",
   "execution_count": 5,
   "id": "2b7287e8-7929-4b0f-bdac-3ac49988b570",
   "metadata": {},
   "outputs": [
    {
     "name": "stdout",
     "output_type": "stream",
     "text": [
      "/Users/kpadhikari/opt/miniconda3/bin/python\n"
     ]
    }
   ],
   "source": [
    "!which python"
   ]
  },
  {
   "cell_type": "code",
   "execution_count": 6,
   "id": "508c9a90-575d-45cd-94ba-8ea34764dbf1",
   "metadata": {},
   "outputs": [
    {
     "name": "stdout",
     "output_type": "stream",
     "text": [
      "Python 3.9.5\n"
     ]
    }
   ],
   "source": [
    "!python --version"
   ]
  },
  {
   "cell_type": "code",
   "execution_count": 7,
   "id": "3ace3b7c-7fa7-4ad2-b0c4-44de2860d26d",
   "metadata": {},
   "outputs": [
    {
     "name": "stdout",
     "output_type": "stream",
     "text": [
      "/Users/kpadhikari/opt/miniconda3/bin/python\n"
     ]
    }
   ],
   "source": [
    "!which python"
   ]
  },
  {
   "cell_type": "code",
   "execution_count": 8,
   "id": "b9692c39-cbe5-4692-96e2-ca1430848dbc",
   "metadata": {},
   "outputs": [
    {
     "name": "stdout",
     "output_type": "stream",
     "text": [
      "Installed kernelspec env4keras in /Users/kpadhikari/Library/Jupyter/kernels/env4keras\n"
     ]
    }
   ],
   "source": [
    "!python -m ipykernel install --user --name=env4keras"
   ]
  },
  {
   "cell_type": "code",
   "execution_count": 9,
   "id": "ba1d041d-7641-4940-89b0-b2717d8fa8e0",
   "metadata": {},
   "outputs": [
    {
     "name": "stdout",
     "output_type": "stream",
     "text": [
      "Available kernels:\n",
      "  env4keras    /Users/kpadhikari/Library/Jupyter/kernels/env4keras\n",
      "  kerasenv     /Users/kpadhikari/Library/Jupyter/kernels/kerasenv\n",
      "  python3      /Users/kpadhikari/opt/miniconda3/share/jupyter/kernels/python3\n",
      "  root         /Users/kpadhikari/opt/miniconda3/share/jupyter/kernels/root\n"
     ]
    }
   ],
   "source": [
    "!jupyter kernelspec list"
   ]
  },
  {
   "cell_type": "code",
   "execution_count": 11,
   "id": "dace51ac-bd6e-4e92-b9ff-4d90df75dcea",
   "metadata": {},
   "outputs": [
    {
     "name": "stdout",
     "output_type": "stream",
     "text": [
      "kernel.json    logo-32x32.png logo-64x64.png\n"
     ]
    }
   ],
   "source": [
    "!ls /Users/kpadhikari/Library/Jupyter/kernels/env4keras"
   ]
  },
  {
   "cell_type": "code",
   "execution_count": 12,
   "id": "22dc023d-3f41-4152-8d00-75e923033605",
   "metadata": {},
   "outputs": [
    {
     "name": "stdout",
     "output_type": "stream",
     "text": [
      "{[?1h\u001b=\n",
      " \"argv\": [\n",
      "  \"/Users/kpadhikari/opt/miniconda3/bin/python\",\n",
      "  \"-m\",\n",
      "  \"ipykernel_launcher\",\n",
      "  \"-f\",\n",
      "  \"{connection_file}\"\n",
      " ],\n",
      " \"display_name\": \"env4keras\",\n",
      " \"language\": \"python\",\n",
      " \"metadata\": {\n",
      "  \"debugger\": true\n",
      " }\n",
      "}\n",
      "\u001b[K\u001b[?1l\u001b>/kpadhikari/Library/Jupyter/kernels/env4keras/kernel.json (END)\u001b[m\u001b[K\u0007"
     ]
    }
   ],
   "source": [
    "!more /Users/kpadhikari/Library/Jupyter/kernels/env4keras/kernel.json"
   ]
  },
  {
   "cell_type": "code",
   "execution_count": null,
   "id": "cef19b93-41a0-4b12-88fb-9247ed3a2125",
   "metadata": {},
   "outputs": [
    {
     "name": "stdout",
     "output_type": "stream",
     "text": [
      "{[?1h\u001b=\n",
      " \"argv\": [\n",
      "  \"/Users/kpadhikari/GitStuff/KPAdhikari/PythonStuff/MachineLearning/DeepLearningNN_KerasTensorFlow/env4keras2/bin/python\",\n",
      "  \"-m\",\n",
      "  \"ipykernel_launcher\",\n",
      "  \"-f\",\n",
      "  \"{connection_file}\"\n",
      " ],\n",
      " \"display_name\": \"env4keras2\",\n",
      " \"language\": \"python\",\n",
      " \"metadata\": {\n",
      "  \"debugger\": true\n",
      " }\n",
      "}\n",
      "\u001b[7m/Users/kpadhikari/Library/Jupyter/kernels/env4keras2/kernel.json (END)\u001b[m\u001b[K"
     ]
    }
   ],
   "source": [
    "!more /Users/kpadhikari/Library/Jupyter/kernels/env4keras2/kernel.json"
   ]
  },
  {
   "cell_type": "code",
   "execution_count": null,
   "id": "3842d60f-f867-4e2d-bb0f-da4458c8267a",
   "metadata": {},
   "outputs": [],
   "source": [
    "!which python"
   ]
  },
  {
   "cell_type": "code",
   "execution_count": null,
   "id": "413aebf5-8480-4217-a26b-6fed3fb4eb63",
   "metadata": {},
   "outputs": [],
   "source": [
    "!ls"
   ]
  },
  {
   "cell_type": "code",
   "execution_count": null,
   "id": "52701ee0-1296-4c50-88e6-de7d0dd07dd3",
   "metadata": {},
   "outputs": [],
   "source": []
  }
 ],
 "metadata": {
  "kernelspec": {
   "display_name": "env4keras2",
   "language": "python",
   "name": "env4keras2"
  },
  "language_info": {
   "codemirror_mode": {
    "name": "ipython",
    "version": 3
   },
   "file_extension": ".py",
   "mimetype": "text/x-python",
   "name": "python",
   "nbconvert_exporter": "python",
   "pygments_lexer": "ipython3",
   "version": "3.9.5"
  }
 },
 "nbformat": 4,
 "nbformat_minor": 5
}
