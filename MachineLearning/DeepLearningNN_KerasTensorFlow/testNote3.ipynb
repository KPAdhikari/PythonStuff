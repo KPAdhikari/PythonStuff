{
 "cells": [
  {
   "cell_type": "code",
   "execution_count": 1,
   "id": "25a8dd2d-eae0-41d8-9b4c-f5d7731ceb36",
   "metadata": {},
   "outputs": [
    {
     "name": "stdout",
     "output_type": "stream",
     "text": [
      "Untitled.ipynb\n",
      "\u001b[34menv4keras\u001b[m\u001b[m\n",
      "\u001b[34menv4keras2\u001b[m\u001b[m\n",
      "\u001b[34mkerasenv\u001b[m\u001b[m\n",
      "my_first_Keras_Tensorflow_notebook.ipynb\n",
      "readmeKp.txt\n",
      "readmeKp2.txt\n",
      "readmeKp3.txt\n",
      "testNote1.ipynb\n",
      "testNote2.ipynb\n"
     ]
    }
   ],
   "source": [
    "!ls"
   ]
  },
  {
   "cell_type": "code",
   "execution_count": 2,
   "id": "1756c76a-07e5-4a60-a1b4-ca481c44671b",
   "metadata": {},
   "outputs": [
    {
     "name": "stdout",
     "output_type": "stream",
     "text": [
      "/Users/kpadhikari/opt/miniconda3/bin/python\n"
     ]
    }
   ],
   "source": [
    "!which python"
   ]
  },
  {
   "cell_type": "code",
   "execution_count": 3,
   "id": "1ae2dc17-6cf9-4539-baac-0727b1c692fa",
   "metadata": {},
   "outputs": [],
   "source": [
    "!source env4keras2/bin/activate"
   ]
  },
  {
   "cell_type": "code",
   "execution_count": 4,
   "id": "0a2bdd0a-9b9d-4ed0-b0ab-44b095747d93",
   "metadata": {},
   "outputs": [
    {
     "name": "stdout",
     "output_type": "stream",
     "text": [
      "/Users/kpadhikari/opt/miniconda3/bin/python\n"
     ]
    }
   ],
   "source": [
    "!which python"
   ]
  },
  {
   "cell_type": "code",
   "execution_count": 5,
   "id": "0e5762de-a9a4-40e5-b296-b181033e4986",
   "metadata": {},
   "outputs": [
    {
     "name": "stdout",
     "output_type": "stream",
     "text": [
      "/Users/kpadhikari/opt/miniconda3/bin/jupyter\n"
     ]
    }
   ],
   "source": [
    "#https://stackoverflow.com/questions/42449814/running-jupyter-notebook-in-a-virtualenv-installed-sklearn-module-not-available\n",
    "!which jupyter"
   ]
  },
  {
   "cell_type": "code",
   "execution_count": null,
   "id": "3e6c5473-5b6f-482b-b24b-413cb0f9b436",
   "metadata": {},
   "outputs": [],
   "source": []
  }
 ],
 "metadata": {
  "kernelspec": {
   "display_name": "env4keras2",
   "language": "python",
   "name": "env4keras2"
  },
  "language_info": {
   "codemirror_mode": {
    "name": "ipython",
    "version": 3
   },
   "file_extension": ".py",
   "mimetype": "text/x-python",
   "name": "python",
   "nbconvert_exporter": "python",
   "pygments_lexer": "ipython3",
   "version": "3.9.5"
  }
 },
 "nbformat": 4,
 "nbformat_minor": 5
}
