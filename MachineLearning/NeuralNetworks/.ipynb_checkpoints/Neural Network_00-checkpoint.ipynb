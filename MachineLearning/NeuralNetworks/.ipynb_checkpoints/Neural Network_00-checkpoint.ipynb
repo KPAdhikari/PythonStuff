{
 "cells": [
  {
   "cell_type": "code",
   "execution_count": 1,
   "metadata": {},
   "outputs": [
    {
     "name": "stdout",
     "output_type": "stream",
     "text": [
      "/Users/kpadhikari/Desktop/BigFls/CLAS12/GitProj/KPAdhikari/PythonStuff/MachineLearning/NeuralNetworks\r\n"
     ]
    }
   ],
   "source": [
    "!pwd"
   ]
  },
  {
   "cell_type": "markdown",
   "metadata": {},
   "source": [
    "### Other References:\n",
    "* https://www.kdnuggets.com/2018/10/simple-neural-network-python.html\n",
    "* https://towardsdatascience.com/how-to-build-a-simple-neural-network-from-scratch-with-python-9f011896d2f3 "
   ]
  },
  {
   "cell_type": "markdown",
   "metadata": {},
   "source": [
    "https://towardsdatascience.com/first-neural-network-for-beginners-explained-with-code-4cfd37e06eaf \n",
    "## First neural network for beginners explained (with code)\n",
    "### Understand and create a Perceptron\n"
   ]
  },
  {
   "cell_type": "code",
   "execution_count": 2,
   "metadata": {},
   "outputs": [],
   "source": [
    "import numpy, random, os\n",
    "lr = 1 #learning rate\n",
    "bias = 1 #value of bias\n",
    "weights = [random.random(),random.random(),random.random()] #weights generated in a list (3 weights in total for 2 neurons and the bias)"
   ]
  },
  {
   "cell_type": "markdown",
   "metadata": {},
   "source": [
    "The beginning of the program just defines libraries and the values of the parameters, and creates a list which contains the values of the weights that will be modified (those are generated randomly)."
   ]
  },
  {
   "cell_type": "code",
   "execution_count": 4,
   "metadata": {},
   "outputs": [],
   "source": [
    "def Perceptron(input1, input2, output) :\n",
    "  outputP = input1*weights[0]+input2*weights[1]+bias*weights[2]\n",
    "  if outputP > 0 : #activation function (here Heaviside)\n",
    "     outputP = 1\n",
    "  else :\n",
    "     outputP = 0\n",
    "  error = output - outputP\n",
    "  weights[0] += error * input1 * lr\n",
    "  weights[1] += error * input2 * lr\n",
    "  weights[2] += error * bias * lr"
   ]
  },
  {
   "cell_type": "markdown",
   "metadata": {},
   "source": [
    "Here we create a function which defines the work of the output neuron. It takes 3 parameters (the 2 values of the neurons and the expected output). “outputP” is the variable corresponding to the output given by the Perceptron. Then we calculate the error, used to modify the weights of every connections to the output neuron right after."
   ]
  },
  {
   "cell_type": "markdown",
   "metadata": {},
   "source": [
    "### kp: Now the Training or Learning\n",
    "We create a loop that makes the neural network repeat every situation several times. This part is the learning phase. The number of iteration is chosen according to the precision we want. However, be aware that too much iterations could lead the network to over-fitting, which causes it to focus too much on the treated examples, so it couldn’t get a right output on case it didn’t see during its learning phase.\n",
    "\n",
    "However, our case here is a bit special, since there are only 4 possibilities, and we give the neural network all of them during its learning phase. A Perceptron is supposed to give a correct output without having ever seen the case it is treating.\n"
   ]
  },
  {
   "cell_type": "code",
   "execution_count": 5,
   "metadata": {},
   "outputs": [],
   "source": [
    "for i in range(50) :\n",
    "  Perceptron(1,1,1) #True or true\n",
    "  Perceptron(1,0,1) #True or false\n",
    "  Perceptron(0,1,1) #False or true\n",
    "  Perceptron(0,0,0) #False or false"
   ]
  },
  {
   "cell_type": "markdown",
   "metadata": {},
   "source": [
    "### kp: The training/learning has determined the appropriate values of the weights."
   ]
  },
  {
   "cell_type": "code",
   "execution_count": 6,
   "metadata": {},
   "outputs": [
    {
     "name": "stdout",
     "output_type": "stream",
     "text": [
      "[1.0676148383930464, 1.1732051684671074, -0.8658131029393434]\n"
     ]
    }
   ],
   "source": [
    "print(weights)"
   ]
  },
  {
   "cell_type": "markdown",
   "metadata": {},
   "source": [
    "### kp: Now testing it\n",
    "Execute the cell, and enter 2 numbers (one at a time) as command line inputs to the code.\n",
    "\n",
    "Entering two numbers separated by space didn't work (unlike in C/C++ code that I was used to)."
   ]
  },
  {
   "cell_type": "code",
   "execution_count": 15,
   "metadata": {},
   "outputs": [
    {
     "name": "stdout",
     "output_type": "stream",
     "text": [
      "2 2\n"
     ]
    },
    {
     "ename": "ValueError",
     "evalue": "could not convert string to float: '2 2'",
     "output_type": "error",
     "traceback": [
      "\u001b[0;31m---------------------------------------------------------------------------\u001b[0m",
      "\u001b[0;31mValueError\u001b[0m                                Traceback (most recent call last)",
      "\u001b[0;32m<ipython-input-15-0f023c9a7f71>\u001b[0m in \u001b[0;36m<module>\u001b[0;34m\u001b[0m\n\u001b[1;32m      4\u001b[0m \u001b[0;31m#x = int(input())\u001b[0m\u001b[0;34m\u001b[0m\u001b[0;34m\u001b[0m\u001b[0;34m\u001b[0m\u001b[0m\n\u001b[1;32m      5\u001b[0m \u001b[0;31m#y = int(input())\u001b[0m\u001b[0;34m\u001b[0m\u001b[0;34m\u001b[0m\u001b[0;34m\u001b[0m\u001b[0m\n\u001b[0;32m----> 6\u001b[0;31m \u001b[0mxf\u001b[0m \u001b[0;34m=\u001b[0m \u001b[0mfloat\u001b[0m\u001b[0;34m(\u001b[0m\u001b[0minput\u001b[0m\u001b[0;34m(\u001b[0m\u001b[0;34m)\u001b[0m\u001b[0;34m)\u001b[0m\u001b[0;34m\u001b[0m\u001b[0;34m\u001b[0m\u001b[0m\n\u001b[0m\u001b[1;32m      7\u001b[0m \u001b[0myf\u001b[0m \u001b[0;34m=\u001b[0m \u001b[0mfloat\u001b[0m\u001b[0;34m(\u001b[0m\u001b[0minput\u001b[0m\u001b[0;34m(\u001b[0m\u001b[0;34m)\u001b[0m\u001b[0;34m)\u001b[0m\u001b[0;34m\u001b[0m\u001b[0;34m\u001b[0m\u001b[0m\n\u001b[1;32m      8\u001b[0m \u001b[0mx\u001b[0m \u001b[0;34m=\u001b[0m \u001b[0mint\u001b[0m\u001b[0;34m(\u001b[0m\u001b[0mxf\u001b[0m\u001b[0;34m)\u001b[0m\u001b[0;34m\u001b[0m\u001b[0;34m\u001b[0m\u001b[0m\n",
      "\u001b[0;31mValueError\u001b[0m: could not convert string to float: '2 2'"
     ]
    }
   ],
   "source": [
    "#def TestPerceptron() #kp:\n",
    "# https://www.codesdope.com/python-readreadread/ #kp: (Read more about input() which takes everything as string)\n",
    "#With the int(input()), we can only enter integers, and it gives error if we enter otherwise\n",
    "#x = int(input())\n",
    "#y = int(input())\n",
    "xf = float(input())\n",
    "yf = float(input())\n",
    "x = int(xf)\n",
    "y = int(yf)\n",
    "outputP = x*weights[0] + y*weights[1] + bias*weights[2]\n",
    "if outputP > 0 : #activation function\n",
    "  outputP = 1\n",
    "else :\n",
    "  outputP = 0\n",
    "print(x, \"or\", y, \"is : \", outputP)\n"
   ]
  },
  {
   "cell_type": "markdown",
   "metadata": {},
   "source": [
    "### kp: Alternatively, let's make a test Function and call it as follows:"
   ]
  },
  {
   "cell_type": "code",
   "execution_count": 17,
   "metadata": {},
   "outputs": [],
   "source": [
    "def TestPerceptron(input1=1.0, input2=1.0):\n",
    "    x = int(input1)\n",
    "    y = int(input2)\n",
    "    outputP = x*weights[0] + y*weights[1] + bias*weights[2]\n",
    "    if outputP > 0 : #activation function\n",
    "      outputP = 1\n",
    "    else :\n",
    "      outputP = 0\n",
    "    print(x, \"or\", y, \"is : \", outputP)"
   ]
  },
  {
   "cell_type": "code",
   "execution_count": 21,
   "metadata": {},
   "outputs": [
    {
     "name": "stdout",
     "output_type": "stream",
     "text": [
      "2 or 3 is :  1\n",
      "2 or 0 is :  1\n",
      "0 or 30 is :  1\n",
      "0 or 0 is :  0\n"
     ]
    }
   ],
   "source": [
    "TestPerceptron(2.0, 3.0)\n",
    "TestPerceptron(2.0, 0)\n",
    "TestPerceptron(0.0, 30.0)\n",
    "TestPerceptron(0.3, 0.5)"
   ]
  },
  {
   "cell_type": "code",
   "execution_count": null,
   "metadata": {},
   "outputs": [],
   "source": []
  }
 ],
 "metadata": {
  "kernelspec": {
   "display_name": "Python 3",
   "language": "python",
   "name": "python3"
  },
  "language_info": {
   "codemirror_mode": {
    "name": "ipython",
    "version": 3
   },
   "file_extension": ".py",
   "mimetype": "text/x-python",
   "name": "python",
   "nbconvert_exporter": "python",
   "pygments_lexer": "ipython3",
   "version": "3.7.4"
  }
 },
 "nbformat": 4,
 "nbformat_minor": 2
}
