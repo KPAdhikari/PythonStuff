{
 "cells": [
  {
   "cell_type": "markdown",
   "metadata": {},
   "source": [
    "# Krishna P. Adhikari's First Bash Notebook\n",
    "\n",
    "## Setup\n",
    "I installed the bash notebook kernel using idea from [this](https://github.com/takluyver/bash_kernel) site.\n",
    "\n",
    "I used the following commands to do that.\n",
    "```\n",
    "pip install bash_kernel\n",
    "python -m bash_kernel.install\n",
    "```\n",
    "The same site suggested that I should use the following to run the jupyter server that will allow the bash-notebook:\n",
    "\n",
    "```\n",
    "jupyter notebook\n",
    "# In the notebook interface, select Bash from the 'New' menu\n",
    "jupyter qtconsole --kernel bash\n",
    "jupyter console --kernel bash\n",
    "```\n",
    "\n",
    "And, following is what it looked like in the terminal when I executed the two commands (both with pip and pip3) to install the kernel.\n",
    "\n",
    "```\n",
    "Krishna's FunPrompt $ pip install bash_kernel\n",
    "Collecting bash_kernel\n",
    "  Downloading bash_kernel-0.6-py2.py3-none-any.whl\n",
    "Requirement already satisfied: pexpect>=4.0 in ./anaconda/lib/python3.6/site-packages (from bash_kernel)\n",
    "Installing collected packages: bash-kernel\n",
    "Successfully installed bash-kernel-0.6\n",
    "Krishna's FunPrompt $ python -m bash_kernel.install\n",
    "Installing IPython kernel spec\n",
    "Krishna's FunPrompt $ pip3 install bash_kernel\n",
    "Collecting bash_kernel\n",
    "  Using cached bash_kernel-0.6-py2.py3-none-any.whl\n",
    "Requirement already satisfied: pexpect>=4.0 in /usr/local/lib/python3.6/site-packages (from bash_kernel)\n",
    "Requirement already satisfied: ptyprocess>=0.5 in /usr/local/lib/python3.6/site-packages (from pexpect>=4.0->bash_kernel)\n",
    "Installing collected packages: bash-kernel\n",
    "Successfully installed bash-kernel-0.6\n",
    "Krishna's FunPrompt $ python -m bash_kernel.install\n",
    "Installing IPython kernel spec\n",
    "Krishna's FunPrompt $\n",
    "```\n",
    "\n",
    "I am hoping that these documents will be like my html pages that I used make when I was learning any new language or anything. These notebooks should be better choice because I can both comment as well as show the live code and their results in a nice and clean looking format."
   ]
  },
  {
   "cell_type": "code",
   "execution_count": 1,
   "metadata": {
    "collapsed": true
   },
   "outputs": [],
   "source": [
    "#!/bin/bash"
   ]
  },
  {
   "cell_type": "code",
   "execution_count": 2,
   "metadata": {
    "collapsed": false
   },
   "outputs": [
    {
     "name": "stdout",
     "output_type": "stream",
     "text": [
      "Hello World\n"
     ]
    }
   ],
   "source": [
    "echo \"Hello World\""
   ]
  },
  {
   "cell_type": "markdown",
   "metadata": {},
   "source": [
    "## Passing Input Arguments (Printing Usage when not enough args given)\n"
   ]
  },
  {
   "cell_type": "code",
   "execution_count": null,
   "metadata": {
    "collapsed": true
   },
   "outputs": [],
   "source": []
  }
 ],
 "metadata": {
  "kernelspec": {
   "display_name": "Bash",
   "language": "bash",
   "name": "bash"
  },
  "language_info": {
   "codemirror_mode": "shell",
   "file_extension": ".sh",
   "mimetype": "text/x-sh",
   "name": "bash"
  }
 },
 "nbformat": 4,
 "nbformat_minor": 2
}
