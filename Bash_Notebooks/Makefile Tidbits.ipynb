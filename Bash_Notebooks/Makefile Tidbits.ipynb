{
 "cells": [
  {
   "cell_type": "markdown",
   "metadata": {},
   "source": [
    "First just checking if my bash kernel is still working."
   ]
  },
  {
   "cell_type": "code",
   "execution_count": 2,
   "metadata": {},
   "outputs": [],
   "source": [
    "#!/bin/bash"
   ]
  },
  {
   "cell_type": "code",
   "execution_count": 12,
   "metadata": {},
   "outputs": [
    {
     "name": "stdout",
     "output_type": "stream",
     "text": [
      "Hello World! Please Don't put the exclamation mark here before the closing quote.  Otherwise it wont work.\n"
     ]
    }
   ],
   "source": [
    "echo \"Hello World! Please Don't put the exclamation mark here before the closing quote.  Otherwise it wont work.\""
   ]
  },
  {
   "cell_type": "markdown",
   "metadata": {},
   "source": [
    "## My Notes\n",
    "* It seems that make cannot parse filenames properly if the name is too long. For example, when i was trying to compile my STEG generator files, my main file was initially named \"stegAllmyOwnV1_27_13NoAvgXSinBinMultSc.f\" it reported \"gfortran error: stegAllmyOwnV1_27_13NoAvgXSinBinMultSc.o: No such file or directory\". But when I renamed the file as \"stegAllmyOwnNoAvgXSinBinMultSc.f\", it worked. Initially, Lamiaa's version of the file was also compiling because she had chosen a smaller name for her main file."
   ]
  },
  {
   "cell_type": "markdown",
   "metadata": {},
   "source": [
    "## Printing the Value of a Makefile Variable [article]\n",
    "https://stackoverflow.com/questions/16467718/how-to-print-out-a-variable-in-makefile\n",
    "\n",
    "https://www.cmcrossroads.com/article/printing-value-makefile-variable\n"
   ]
  },
  {
   "cell_type": "markdown",
   "metadata": {},
   "source": [
    "https://stackoverflow.com/questions/16467718/how-to-print-out-a-variable-in-makefile\n",
    "\n",
    "**Comment by Anthony Earl Wong:**\n",
    "\n",
    "From a \"Mr. Make post\" https://www.cmcrossroads.com/article/printing-value-makefile-variable\n",
    "\n",
    "Add the following rule to your Makefile:\n",
    "\n",
    "print-%  : ; @echo $* = $($*)\n",
    "\n",
    "which is equivalent to\n",
    "\n",
    "```\n",
    "print-%:\n",
    "<TAB>   @echo $* = $($*)\n",
    "```\n",
    "\n",
    "Then, if you want to find out the value of a makefile variable, just:\n",
    "\n",
    "make print-VARIABLE\n",
    "\n",
    "and it will return:\n",
    "\n",
    "VARIABLE = the_value_of_the_variable\n"
   ]
  },
  {
   "cell_type": "markdown",
   "metadata": {},
   "source": [
    "### It worked\n",
    "Both above idea (of putting the two lines in the main make-file itself (I simply put the lines at the very end of a working Makefile that I was using for my STEG_RCSLACPOL event generator)) or the idea below (of making a helper.mak file and putting that line) worked when tested.\n",
    "\n",
    "In the first method, the command is simply: ** make print-X ** and for the latter method the command is:\n",
    "** gmake -f Makefile -f helper.mak print-X **   where 'X' represents any name of the variable used in the makefile."
   ]
  },
  {
   "cell_type": "markdown",
   "metadata": {},
   "source": [
    "### Printing the Value of a Makefile Variable [article]\n",
    "https://www.cmcrossroads.com/article/printing-value-makefile-variable\n",
    "\n",
    "By John Graham-Cumming - December 6, 2005\n",
    "\n",
    "**Summary: **\n",
    "\n",
    "    There aren't any debuggers for Make, and Make doesn't provide the sort of interactivity you'd see from a scripting language like Perl or Python. So what is an easy way to figure out the value of a variable? This simple Makefile does all the work for you.\n",
    "\n",
    "There aren't any debuggers for Make and Make doesn't provide the sort of interactivity you'd see from a scripting language like Perl or Python. So how do you figure out the value of a variable? Take a look at this simple Makefile (which does nothing but set various variables):\n",
    "```\n",
    "X=$(YS) hate $(ZS)\n",
    "\n",
    "Y=dog\n",
    "YS=$(Y)$(S)\n",
    "Z=cat\n",
    "ZS=$(Z)$(S)\n",
    "S=s\n",
    "all:\n",
    "```\n",
    "What's the value of X? The small size and simplicity of this Makefile means that tracing through all the variable assignments is feasible, leading to the conclusion the X is “dogs hate cats”. In a real multi-thousand line Makefile that unleashes the power of GNU Make's variables and functions figuring out the value of a variable can be a laborious task. But here's a little Make recipe that does all the work for you. Create a Makefile called helper.mak and place in it:\n",
    "```\n",
    "print-%:\n",
    "\n",
    "@echo $* = $($*)\n",
    "``` \n",
    "\n",
    "Now we can find the value of variable X with the following command:\n",
    "\n",
    "gmake -f Makefile -f helper.mak print-X\n",
    "\n",
    "The first -f Makefile tells GNU Make to load our original Makefile, and the second -f helper.mak loads in the receipe. The print-X directs make to “build” the target named print-X. Since there isn't an explicit rule to build print-X GNU Make looks for a pattern and finds print-% (the % acts as a wildcard) and runs the associated command.\n",
    "\n",
    "The command uses ```$*``` (a special GNU Make variable that will have the value matched by the % in the rule) to print the name of the variable and then by doing ```$($*)``` gets the value of the variable named by ```$*```. So experimenting with it we can see the following:\n",
    "```\n",
    "$ gmake -f Makefile -f helper.mak print-X\n",
    "X = dogs hate cats\n",
    "$ gmake -f Makefile -f helper.mak print-YS\n",
    "YS = dogs\n",
    "$ gmake -f Makefile -f helper.mak print-S\n",
    "S = s\n",
    "``` \n",
    "\n",
    "Sometimes it's useful to know how a variable was defined. GNU Make provides the $(origin) function that returns a string containing the type of the variable\n",
    "\n",
    "(e.g. Whether it was defined in a Makefile, on the command-line, or in the environment). Modifying helper.mak prints out origin information as well.\n",
    "```\n",
    "print-%:\n",
    "@echo $* = $($*)\n",
    "@echo $*\\'s origin is $(origin $*) \n",
    "```\n",
    "Now we see that YS is defined in the Makefile.\n",
    "\n",
    "```\n",
    "$ gmake -f Makefile -f helper.mak print-YS\n",
    "\n",
    "YS = dogs\n",
    "YS's origin is file\n",
    " ```\n",
    "\n",
    "If we override the value of YS on the GNU Make command-line we'll see:\n",
    "```\n",
    "$ gmake -f Makefile -f helper.mak print-YS YS=fleas\n",
    "\n",
    "YS = fleas\n",
    "YS's origin is command line\n",
    "``` \n",
    "\n",
    "Next time I'll serve up a recipe for printing every variable in a Makefile.\n"
   ]
  },
  {
   "cell_type": "code",
   "execution_count": null,
   "metadata": {
    "collapsed": true
   },
   "outputs": [],
   "source": []
  }
 ],
 "metadata": {
  "kernelspec": {
   "display_name": "Bash",
   "language": "bash",
   "name": "bash"
  },
  "language_info": {
   "codemirror_mode": "shell",
   "file_extension": ".sh",
   "mimetype": "text/x-sh",
   "name": "bash"
  }
 },
 "nbformat": 4,
 "nbformat_minor": 2
}
