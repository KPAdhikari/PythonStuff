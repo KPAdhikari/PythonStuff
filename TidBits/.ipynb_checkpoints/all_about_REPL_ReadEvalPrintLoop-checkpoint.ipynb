{
 "cells": [
  {
   "cell_type": "markdown",
   "metadata": {},
   "source": [
    "# All About REPL - the Read-Eval-Print-Loop"
   ]
  },
  {
   "cell_type": "markdown",
   "metadata": {},
   "source": [
    "From wikipedia:\n",
    "\n",
    "A __Read–Eval–Print Loop (REPL)__, also known as an interactive toplevel or language shell, is a simple, interactive computer programming environment that takes single user inputs (i.e. single expressions), evaluates them, and returns the result to the user; a program written in a REPL environment is executed piecewise. The term is most usually used to refer to programming interfaces similar to the classic Lisp machine interactive environment. Common examples include command line shells and similar environments for programming languages, and is particularly characteristic of scripting languages.[1]\n",
    "\n",
    "Writing it differently,\n",
    "* REPL is also known as an interactive toplevel or language shell.\n",
    "* It is a simple, interactive computer programming environment\n",
    "* It takes single user inputs (i.e. single expression (kp: which may sometimes consist of several expressions of a given language, such as a whole for-loop with a few statements inside but all typed in a single line to execute in a ROOT prompt)), evaluates them, and returns the result to the user. Once a expression is taken/read-evaluated-returned, it goes back to wait for another input and repeat the same cycle (thus the term loop).\n",
    "* A program written in a REPL environment is executed piecewise (rather than waiting for all the codes written first and then interpreted (like in .pl files in Python or compiled (like in C/C++/Java) all at the same time)."
   ]
  },
  {
   "cell_type": "markdown",
   "metadata": {},
   "source": [
    "https://blogs.oracle.com/java/jshell-and-repl-in-java-9\n",
    "\n",
    "__Java 9 introduces JShell and a Read-Eval-Print Loop (REPL) for the Java Programming Language__. REPL allows you to evaluate code snippets such as declarations, statements, expressions. You can test your code as you create it, and way before you are done with your whole project.\n",
    "\n",
    "The JShell Java Enhancement Proposal (JEP) for the project indicated that the new feature is the result of academic feedback. Schools are adopting languages that have REPL functionality because it lowers the initial learning curve of programming. The interactive REPL tool gives rapid evaluation of code to young developers.\n",
    "\n",
    "In the video below, Jim Connors gives a short demonstration on how you can now use the tool as part of the latest Java 9 build. "
   ]
  },
  {
   "cell_type": "code",
   "execution_count": 2,
   "metadata": {},
   "outputs": [
    {
     "data": {
      "text/html": [
       "<iframe width=\"560\" height=\"315\" src=\"https://www.youtube.com/embed/caBTae7UyVw\" frameborder=\"0\" gesture=\"media\" allow=\"encrypted-media\" allowfullscreen></iframe>"
      ],
      "text/plain": [
       "<IPython.core.display.HTML object>"
      ]
     },
     "execution_count": 2,
     "metadata": {},
     "output_type": "execute_result"
    }
   ],
   "source": [
    "from IPython.display import HTML\n",
    "\n",
    "# Youtube\n",
    "#HTML('<iframe width=\"560\" height=\"315\" src=\"https://www.youtube.com/embed/IsXXlYVBt1M?list=PL0jQ8OgRoVEVrgo7VtYUZvhwJSccjWD1G\" frameborder=\"0\" allowfullscreen></iframe>')\n",
    "HTML('<iframe width=\"560\" height=\"315\" src=\"https://www.youtube.com/embed/caBTae7UyVw\" frameborder=\"0\" gesture=\"media\" allow=\"encrypted-media\" allowfullscreen></iframe>')"
   ]
  },
  {
   "cell_type": "code",
   "execution_count": null,
   "metadata": {
    "collapsed": true
   },
   "outputs": [],
   "source": []
  }
 ],
 "metadata": {
  "kernelspec": {
   "display_name": "Python 2",
   "language": "python",
   "name": "python2"
  },
  "language_info": {
   "codemirror_mode": {
    "name": "ipython",
    "version": 2
   },
   "file_extension": ".py",
   "mimetype": "text/x-python",
   "name": "python",
   "nbconvert_exporter": "python",
   "pygments_lexer": "ipython2",
   "version": "2.7.13"
  }
 },
 "nbformat": 4,
 "nbformat_minor": 2
}
