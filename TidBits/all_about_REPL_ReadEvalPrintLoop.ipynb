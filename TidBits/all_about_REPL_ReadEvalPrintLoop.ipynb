{
 "cells": [
  {
   "cell_type": "markdown",
   "metadata": {},
   "source": [
    "# All About REPL - the Read-Eval-Print-Loop"
   ]
  },
  {
   "cell_type": "markdown",
   "metadata": {},
   "source": [
    "From wikipedia:\n",
    "### Read–eval–print loop\n",
    "A __Read–Eval–Print Loop (REPL)__, also known as an interactive toplevel or language shell, is a simple, interactive computer programming environment that takes single user inputs (i.e. single expressions), evaluates them, and returns the result to the user; a program written in a REPL environment is executed piecewise. The term is most usually used to refer to programming interfaces similar to the classic Lisp machine interactive environment. Common examples include command line shells and similar environments for programming languages, and is particularly characteristic of scripting languages.[1]\n",
    "\n",
    "### Overview\n",
    "\n",
    "In a REPL, the user enters one or more expressions (rather than an entire compilation unit) and the REPL evaluates them and displays the results. The name read–eval–print loop comes from the names of the Lisp primitive functions which implement this functionality:\n",
    "\n",
    "The read function accepts an expression from the user, and parses it into a data structure in memory. For instance, the user may enter the s-expression (+ 1 2 3), which is parsed into a linked list containing four data elements.\n",
    "    \n",
    "The eval function takes this internal data structure and evaluates it. In Lisp, evaluating an s-expression beginning with the name of a function means calling that function on the arguments that make up the rest of the expression. So the function + is called on the arguments 1 2 3, yielding the result 6.\n",
    "\n",
    "The print function takes the result yielded by eval, and prints it out to the user. If it is a complex expression, it may be pretty-printed to make it easier to understand. In this example, though, the number 6 does not need much formatting to print.\n",
    "\n",
    "The development environment then returns to the read state, creating a loop, which terminates when the program is closed.\n",
    "\n",
    "REPLs facilitate exploratory programming and debugging because the programmer can inspect the printed result before deciding what expression to provide for the next read. The read–eval–print loop involves the programmer more frequently than the classic edit-compile-run-debug cycle.\n",
    "\n",
    "Because the print function outputs in the same textual format that the read function uses for input, most results are printed in a form that could (if it is useful) be copied and pasted back into the REPL. However, it's sometimes necessary to print representations of elements that can't sensibly be read back in, such as a socket handle or a complex class instance. In these cases, there must exist a syntax for unreadable objects. In Python, it is the <__module__.class instance> notation, and in Common Lisp, the #<whatever> form. The REPL of CLIM, SLIME, and the Symbolics Lisp Machine can also read back unreadable objects. They record for each output which object was printed. Later when the code is read back, the object will be retrieved from the printed output.\n",
    "\n",
    "REPLs can be created to support any text-based language. REPL support for compiled languages is usually achieved by implementing an interpreter on top of a virtual machine which provides an interface to the compiler. Examples of REPLs for compiled languages include CINT (and its successor Cling) and Ch for C/C++, and BeanShell and JShell for Java.\n",
    "\n",
    "### Uses\n",
    "\n",
    "As a shell, a REPL environment allows users to access relevant features of an operating system in addition to providing access to programming capabilities.\n",
    "\n",
    "The most common use for REPLs outside of operating system shells is for instantaneous prototyping. Other uses include mathematical calculation, creating documents that integrate scientific analysis (e.g. IPython), interactive software maintenance, benchmarking, and algorithm exploration.\n",
    "\n",
    "A REPL can become an essential part of learning a new language as it gives quick feedback to the novice.\n",
    "### Implementation\n",
    "\n",
    "To implement a Lisp REPL, it is necessary only to implement these three functions and an infinite-loop function. (Naturally, the implementation of eval will be complicated, since it must also implement all the primitive functions like car and + and special operators like if.) This done, a basic REPL itself is but a single line of code:\n",
    "\n",
    "(loop (print (eval (read))))\n",
    "\n",
    "One possible implementation of eval is as a recursive interpreter that acts on the abstract syntax tree created by read. Another possibility is to compile the syntax tree into machine code and execute it.\n",
    "\n",
    "Real REPL implementations in Lisp are often much more complicated.\n",
    "### Functionality\n",
    "\n",
    "Typical functionality provided by a Lisp REPL includes:\n",
    "\n",
    "    History of inputs and outputs.\n",
    "    Variables are set for the input expressions and results. These variables are also available in the REPL. For example in Common Lisp * refers to the last result, ** and *** to the results before that.\n",
    "    Levels of REPLs. In many Lisp systems if an error occurs during the reading, evaluation or printing of an expression, the system is not thrown back to the top-level with an error message. Instead a new REPL, one level deeper, is started in the error context. The user can then inspect the problem, fix it and continue - if possible. If an error occurs in such a debug REPL, another REPL, again a level deeper, is started. Often the REPL offers special debug commands.\n",
    "    Error handling. The REPL provides restarts. These restarts can be used, when an error occurs, to go back to a certain REPL level.\n",
    "    Mouse sensitive input and output of data objects.\n",
    "    Input editing and context specific completion over symbols, pathnames, class names and other objects.\n",
    "    Help and documentation for commands.\n",
    "    Variables to control the reader. For example, the variable *read-base* controls in which base numbers are read by default.\n",
    "    Variables to control the printer. Example: maximum length or maximum depth of expressions to print.\n",
    "    Additional command syntax. Some REPLs have commands that follow not the s-expression syntax, but often work with Lisp data as arguments.\n",
    "    Graphical REPLs. Some Lisp REPLs (the CLIM Listener is an example) accept also graphical input and output.\n",
    "\n"
   ]
  },
  {
   "cell_type": "markdown",
   "metadata": {},
   "source": [
    "__Writing it differently,__\n",
    "* REPL is also known as an interactive toplevel or language shell.\n",
    "* It is a simple, interactive computer programming environment\n",
    "* It is an interface that takes single user inputs _(i.e. single expression (kp: which may sometimes consist of several expressions of a given language, such as a whole for-loop with a few statements inside but all typed in a single line to execute in a ROOT prompt))_, evaluates them, and returns the result to the user. Once a expression is taken/read-evaluated-returned, it goes back to wait for another input and repeat the same cycle (thus the term loop).\n",
    "* A program written in a REPL environment is executed piecewise (rather than waiting for all the codes written first and then interpreted (like in .pl files in Python or compiled (like in C/C++/Java) all at the same time).\n",
    "* The term is most usually used to refer to programming interfaces similar to the classic Lisp machine interactive environment. \n",
    "* Common examples: \n",
    "    * [command line shells/interpreters](https://en.wikipedia.org/wiki/List_of_command-line_interpreters) (including that in linux & windows terminals), [Node.js Interactive Window for Visual Studio](https://github.com/Microsoft/nodejstools/wiki/Interactive-Window-(REPL))\n",
    "        * Linux shells: Bourne shell (sh), Bash (bash), Korn shell (ksh, zsh), C Shell (csh, tcsh), etc\n",
    "        * Windows (DOS): COMMAND.COM (the default CLI), 4DOS, NDOS, GW-BASIC \n",
    "        * OS\n",
    "    * similar environments for programming languagages - CINT prompt in ROOT, interactive shells of [Python](https://www.python.org/shell/), Julia etc."
   ]
  },
  {
   "cell_type": "markdown",
   "metadata": {},
   "source": [
    "https://blogs.oracle.com/java/jshell-and-repl-in-java-9\n",
    "\n",
    "__Java 9 introduces JShell and a Read-Eval-Print Loop (REPL) for the Java Programming Language__. REPL allows you to evaluate code snippets such as declarations, statements, expressions. You can test your code as you create it, and way before you are done with your whole project.\n",
    "\n",
    "The JShell Java Enhancement Proposal (JEP) for the project indicated that the new feature is the result of academic feedback. Schools are adopting languages that have REPL functionality because it lowers the initial learning curve of programming. The interactive REPL tool gives rapid evaluation of code to young developers.\n",
    "\n",
    "In the video below, Jim Connors gives a short demonstration on how you can now use the tool as part of the latest Java 9 build. "
   ]
  },
  {
   "cell_type": "code",
   "execution_count": 2,
   "metadata": {},
   "outputs": [
    {
     "data": {
      "text/html": [
       "<iframe width=\"560\" height=\"315\" src=\"https://www.youtube.com/embed/caBTae7UyVw\" frameborder=\"0\" gesture=\"media\" allow=\"encrypted-media\" allowfullscreen></iframe>"
      ],
      "text/plain": [
       "<IPython.core.display.HTML object>"
      ]
     },
     "execution_count": 2,
     "metadata": {},
     "output_type": "execute_result"
    }
   ],
   "source": [
    "from IPython.display import HTML\n",
    "\n",
    "# Youtube\n",
    "#HTML('<iframe width=\"560\" height=\"315\" src=\"https://www.youtube.com/embed/IsXXlYVBt1M?list=PL0jQ8OgRoVEVrgo7VtYUZvhwJSccjWD1G\" frameborder=\"0\" allowfullscreen></iframe>')\n",
    "HTML('<iframe width=\"560\" height=\"315\" src=\"https://www.youtube.com/embed/caBTae7UyVw\" frameborder=\"0\" gesture=\"media\" allow=\"encrypted-media\" allowfullscreen></iframe>')"
   ]
  },
  {
   "cell_type": "markdown",
   "metadata": {},
   "source": [
    "## Command-line Interface or Command language interpreter (CLI)\n",
    "From [wikipedia](https://en.wikipedia.org/wiki/Command-line_interface)\n",
    "\n",
    "A command-line interface or command language interpreter (CLI), also known as command-line user interface, console user interface[1] and character user interface (CUI), is a means of interacting with a computer program where the user (or client) issues commands to the program in the form of successive lines of text (command lines). A program which handles the interface is called a command language interpreter or shell.\n",
    "\n",
    "The CLI was the primary means of interaction with most computer systems on computer terminals in the mid-1960s, and continued to be used throughout the 1970s and 1980s on OpenVMS, Unix systems and personal computer systems including MS-DOS, CP/M and Apple DOS. The interface is usually implemented with a command line shell, which is a program that accepts commands as text input and converts commands into appropriate operating system functions.\n",
    "\n",
    "Command-line interfaces to computer operating systems are less widely used by casual computer users, who favor graphical user interfaces or menu-driven interaction.\n",
    "\n",
    "Alternatives to the command line include, but are not limited to text user interface menus (see IBM AIX SMIT for example), keyboard shortcuts, and various other desktop metaphors centered on the pointer (usually controlled with a mouse). Examples of this include the Windows versions 1, 2, 3, 3.1, and 3.11 (an OS shell that runs in DOS), DosShell, and Mouse Systems PowerPanel.\n",
    "\n",
    "Command-line interfaces are often preferred by more advanced computer users, as they often provide a more concise and powerful means to control a program or operating system.\n",
    "\n",
    "Programs with command-line interfaces are generally easier to automate via scripting.\n",
    "\n",
    "Command line interfaces for software other than operating systems include a number of programming languages such as Tcl/Tk, PHP and others, as well as utilities such as the compression utilities WinZip and UltimateZip, and some FTP and ssh/telnet clients."
   ]
  },
  {
   "cell_type": "markdown",
   "metadata": {},
   "source": [
    "## Other useful references:\n",
    "\n",
    "* https://softwareengineering.stackexchange.com/questions/168285/difference-between-a-repl-and-interactive-shell\n",
    "\n",
    "\n",
    "\n",
    "Technically, it's correct to say that a shell is an instance of a REPL. However, it isn't a matter of program definition as it is one of common usage scenarios.\n",
    "\n",
    "Bash, for example, is written in C, but it could well have been written in Python. At that point, if you talk about program features and abilities, would it be correct to say that Bash is a shell while Python isn't?\n",
    "\n",
    "You could also say that Shells are about running commands while REPLs are about running instructions and function calls. But can't you run commands in REPLs (Python's os.system, os.popen, etc), and can't you run (or define) functions in Bash, using many of its built-ins?\n",
    "\n",
    "As aforesaid, it's a matter of usage. If you juggle files and ready-made programs, you're using it as a shell. If you're testing libraries or language semantics, it's a REPL.\n",
    "\n",
    "Hope that helps.\n"
   ]
  },
  {
   "cell_type": "code",
   "execution_count": null,
   "metadata": {
    "collapsed": true
   },
   "outputs": [],
   "source": []
  }
 ],
 "metadata": {
  "kernelspec": {
   "display_name": "Python 2",
   "language": "python",
   "name": "python2"
  },
  "language_info": {
   "codemirror_mode": {
    "name": "ipython",
    "version": 2
   },
   "file_extension": ".py",
   "mimetype": "text/x-python",
   "name": "python",
   "nbconvert_exporter": "python",
   "pygments_lexer": "ipython2",
   "version": "2.7.13"
  }
 },
 "nbformat": 4,
 "nbformat_minor": 2
}
